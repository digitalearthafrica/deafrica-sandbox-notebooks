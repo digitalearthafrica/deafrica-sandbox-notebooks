{
 "cells": [
  {
   "cell_type": "markdown",
   "id": "f206829e-fb6a-492d-bf7f-3bcdeb237f8f",
   "metadata": {},
   "source": [
    "<p>\n",
    "<img class=\"float-left\" style=\"float:left;\"  src=\"../Supplementary_data/DE_Africa_Logo_Stacked_RGB_small.jpg\" alt=\"DE Africa Logo\">\n",
    "    \n",
    "<img class=\"float-right\" style=\"float:right;\" src=\"../Supplementary_data/SDG_icons/E_SDG_logo_without_UN_emblem_Square_Transparent_WEB.png\" alt=\"SDG logo\">\n",
    "</p>"
   ]
  },
  {
   "cell_type": "markdown",
   "id": "f471a844-3c27-4502-bdf3-174f7bcc6a34",
   "metadata": {},
   "source": [
    "<p class=\"empty-space\">&nbsp;</p>\n",
    "<div class=\"centered-italic\" style=\"text-align:center; font-size:17px; font-style:italic\">Digital Earth Africa supports the Sustainable Development Goals</div>\n",
    "<p class=\"empty-space2\">&nbsp;</p>"
   ]
  },
  {
   "cell_type": "markdown",
   "id": "92d1a83d-495d-40d6-b0bf-fbee1de5600e",
   "metadata": {},
   "source": [
    "# Digital Earth Africa Services and Tools for Sustainable Development Goals"
   ]
  },
  {
   "cell_type": "markdown",
   "id": "7310b800-cdb5-4a2d-ab54-165fdbaa488a",
   "metadata": {},
   "source": [
    "## Background "
   ]
  },
  {
   "cell_type": "markdown",
   "id": "279cb10d-d685-4f58-864f-bfb14c3d4027",
   "metadata": {},
   "source": [
    "The Sustainable Development Goals represent a data-driven, evidence-based approach to sustainable development [(The CEOS Earth Observation Handbook\n",
    "Special 2018 Edition)](http://www.eohandbook.com/sdg/files/CEOS_EOHB_2018_SDG.pdf). The aim of the Sustainable Development Goals (SDG) framework is to end poverty, improve health and education, reduce inequality, design sustainable cities, support economic growth, tackle climate change and leave no one behind [(Andries et al. 2022)](https://doi.org/10.3390/su14031191). \n",
    "The purpose of the Global Indicator Framework is to provide means by which to measure, monitor and report progress made in the implementation of the SDGs and their respective targets, for the follow up and review of the 2030 Agenda for Sustainable Development. The Global Indicator Framework is designed around 232 SDG Indicators."
   ]
  },
  {
   "cell_type": "markdown",
   "id": "70550330-1b55-4e65-9fea-b8a486b90500",
   "metadata": {},
   "source": [
    "Earth Observation data is an essential tool in the development of the information required by many of the SDG Indicators given its cost-effectiveness pertaining to data acquisition on all scales and information richness. [(The CEOS Earth Observation Handbook\n",
    "Special 2018 Edition)](http://www.eohandbook.com/sdg/files/CEOS_EOHB_2018_SDG.pdf), [(Ferreira, B., Iten, M. & Silva, R.G. 2020)](https://doi.org/10.1186/s12302-020-00397-4)."
   ]
  },
  {
   "cell_type": "markdown",
   "id": "f0cee912-c433-4c81-9765-0620d9d82867",
   "metadata": {},
   "source": [
    "Digital Earth Africa (DE Africa) hosts data, services and Jupyter Notebooks that can be used to address real world problems and contribute to the Global Indicator Framework."
   ]
  },
  {
   "cell_type": "markdown",
   "id": "5ad73c42-7983-4667-8cea-3a205f67e7de",
   "metadata": {},
   "source": [
    "## Sustainable Development Indicators that Digital Earth Africa Notebooks contribute to\n",
    "\n",
    "The notebooks linked below demonstrate how DE Africa data and services can be used to support Sustainable Development Goals."
   ]
  },
  {
   "cell_type": "markdown",
   "id": "cf05164c-5cdc-43d7-8d09-a67edddea9e3",
   "metadata": {
    "tags": []
   },
   "source": [
    "<img class=\"float-right\" style=\"float:right;\" src=\"../Supplementary_data/SDG_icons/E_Inverted_Icons_WEB-02.png\" alt=\"SDG Icon 2\" width=\"130\"> \n",
    "<div width=\"100vw\">\n",
    "<h3>Goal 2:</h3>\n",
    "<h5>End hunger, achieve food security and improved <br> nutrition and promote sustainable agriculture.</h5>\n",
    "</div>"
   ]
  },
  {
   "cell_type": "markdown",
   "id": "04d09dfe-bd06-4607-81a8-5347757cd2f1",
   "metadata": {
    "jp-MarkdownHeadingCollapsed": true,
    "tags": []
   },
   "source": [
    "**Indicator 2.4.1** Proportion of agricultural area under productive and sustainable agriculture\n",
    "\n",
    "* [Global Root-zone moisture Analysis & Forecasting System (GRAFS)](../Datasets/Soil_Moisture.ipynb)\n",
    "\n",
    "* [NDVI Climatology](../Datasets/NDVI_Climatology.ipynb)\n",
    "\n",
    "* [Rainfall estimates (CHIRPS)](../Datasets/Rainfall_CHIRPS.ipynb)\n",
    "\n",
    "* [Cropland extent maps for Africa](../Datasets/Cropland_extent.ipynb)\n",
    "\n",
    "* [Land Cover Classification datasets](../Datasets/Landcover_Classification.ipynb)\n",
    "\n",
    "* [Monitoring change through time using satellite imagery filmstrip plots](../Real_world_examples/Change_filmstrips.ipynb)\n",
    "\n",
    "* [Measuring crop health](../Real_world_examples/Crop_health.ipynb)\n",
    "\n",
    "* [Forecasting cropland vegetation condition](../Real_world_examples/Forecasting_vegetation_condition.ipynb)\n",
    "\n",
    "* [Identifying active irrigated cropping](../Real_world_examples/Irrigated_cropping.ipynb)\n",
    "\n",
    "* [Vegetation Phenology (Optical)](../Real_world_examples/Phenology_optical.ipynb)\n",
    "\n",
    "* [Vegetation Phenology (Radar)](../Real_world_examples/Phenology_radar.ipynb)\n",
    "\n",
    "* [Monthly vegetation condition anomalies](../Real_world_examples/Vegetation_anomalies_monthly.ipynb)\n",
    "\n",
    "* [Scalable Supervised Machine Learning on the Open Data Cube ReadME](../Real_world_examples/Scalable_machine_learning/0_README.ipynb)"
   ]
  },
  {
   "cell_type": "markdown",
   "id": "c8d595c1-61ad-4d84-b3c7-5d208fdf0640",
   "metadata": {
    "jp-MarkdownHeadingCollapsed": true,
    "tags": []
   },
   "source": [
    "**Indicator 2.c.1** Indicator of food price anomalies\n",
    "\n",
    "* [Global Root-zone moisture Analysis & Forecasting System (GRAFS)](../Datasets/Soil_Moisture.ipynb)\n",
    "\n",
    "* [NDVI Climatology](../Datasets/NDVI_Climatology.ipynb)\n",
    "\n",
    "* [Rainfall estimates (CHIRPS)](../Datasets/Rainfall_CHIRPS.ipynb)\n",
    "\n",
    "* [Measuring crop health](../Real_world_examples/Crop_health.ipynb)\n",
    "\n",
    "* [Forecasting cropland vegetation condition](../Real_world_examples/Forecasting_vegetation_condition.ipynb)\n",
    "\n",
    "* [Vegetation Phenology (Optical)](../Real_world_examples/Phenology_optical.ipynb)\n",
    "\n",
    "* [Vegetation Phenology (Radar)](../Real_world_examples/Phenology_radar.ipynb)\n",
    "\n",
    "* [Monthly vegetation condition anomalies](../Real_world_examples/Vegetation_anomalies_monthly.ipynb)\n",
    "\n",
    "* [Rainfall anomalies from Climate Hazards Group InfraRed Precipitation with Station data (CHIRPS)](../Real_world_examples/Rainfall_anomaly_CHIRPS.ipynb)\n",
    "\n",
    "___"
   ]
  },
  {
   "cell_type": "markdown",
   "id": "e063e2fa-0036-482d-8b40-e50a5f15ad23",
   "metadata": {},
   "source": [
    "<img class=\"float-right\" style=\"float:right;\" src=\"../Supplementary_data/SDG_icons/E_Inverted_Icons_WEB-06.png\" alt=\"SDG Icon 6\" width=\"130\"> \n",
    "<div width=\"100vw\">\n",
    "<h3>Goal 6: </h3>\n",
    "<h5>Ensure availability and sustainable management of <br> water and sanitation for all.</h5>\n",
    "</div>"
   ]
  },
  {
   "cell_type": "markdown",
   "id": "5f01ee2a-492c-4958-9551-a217b51f9e0f",
   "metadata": {},
   "source": [
    "**Indicator 6.3.2** Proportion of bodies of water with good ambient water quality\n",
    "\n",
    "* [Monitoring Water Quality](../Frequently_used_code/Monitoring_water_quality.ipynb)\n",
    "\n",
    "* [Monitoring chlorophyll-*a* in African waterbodies](../Real_world_examples/Chlorophyll_monitoring.ipynb)"
   ]
  },
  {
   "cell_type": "markdown",
   "id": "b3a1b269-4ddd-4ea4-bf59-7cd870203b08",
   "metadata": {},
   "source": [
    "**Indicator 6.4.2** Level of water stress: freshwater withdrawal as a proportion of available freshwater resources\n",
    "\n",
    "* [ERA5 climate data](../Datasets/Climate_Data_ERA5_AWS.ipynb)\n",
    "\n",
    "* [Cropland extent maps for Africa](../Datasets/Cropland_extent.ipynb)\n",
    "\n",
    "* [Identifying active irrigated cropping](../Real_world_examples/Irrigated_cropping.ipynb)\n",
    "\n",
    "* [Rainfall anomalies from Climate Hazards Group InfraRed Precipitation with Station data (CHIRPS)](../Real_world_examples/Rainfall_anomaly_CHIRPS.ipynb)\n",
    "\n",
    "* [Determining seasonal extent of waterbodies with Sentinel-2](../Real_world_examples/Water_extent_sentinel_2.ipynb)\n",
    "\n",
    "* [Mapping longer-term changes in water extent with WOfS](../Real_world_examples/Water_extent_WOfS.ipynb)"
   ]
  },
  {
   "cell_type": "markdown",
   "id": "ada664ca-d8ad-4197-b415-43f17fac45f4",
   "metadata": {},
   "source": [
    "**Indicator 6.6.1** Change in the extent of water-related ecosystems over time\n",
    "\n",
    "* [Land Cover Classification Datasets](../Datasets/Landcover_Classification.ipynb)\n",
    "\n",
    "* [ERA5 climate data](../Datasets/Climate_Data_ERA5_AWS.ipynb)\n",
    "\n",
    "* [Rainfall estimates (CHIRPS)](../Datasets/Rainfall_CHIRPS.ipynb)\n",
    "\n",
    "* [Water Observations from Space](../Datasets/Water_Observations_from_Space.ipynb)\n",
    "\n",
    "* [Extracting contour lines](../Frequently_used_code/Contour_extraction.ipynb)\n",
    "\n",
    "* [Monitoring change through time using satellite imagery filmstrip plots](../Real_world_examples/Change_filmstrips.ipynb)\n",
    "\n",
    "* [Water detection with Sentinel-1](../Real_world_examples/Radar_water_detection.ipynb)\n",
    "\n",
    "* [Rainfall anomalies from Climate Hazards Group InfraRed Precipitation with Station data (CHIRPS)](../Real_world_examples/Rainfall_anomaly_CHIRPS.ipynb)\n",
    "\n",
    "* [Wetlands Insight Tool](../Real_world_examples/Wetlands_insight_tool.ipynb)\n",
    "\n",
    "* [Determining seasonal extent of waterbodies with Sentinel-2](../Real_world_examples/Water_extent_sentinel_2.ipynb)\n",
    "\n",
    "* [Mapping longer-term changes in water extent with WOfS](../Real_world_examples/Water_extent_WOfS.ipynb)\n",
    "\n",
    "* The Okavango Use Case Notebooks:\n",
    "\n",
    "    1. [Monitoring wetlands in the Okavango](../Use_cases/Okavango/0_Wetland_inundation_and_vegetation_dynamics.ipynb)\n",
    "\n",
    "    2. [Mapping long-term changes in the annual water extent of the Okavango Delta](../Use_cases/Okavango/1_Water_extent_longterm_WOfS.ipynb)\n",
    "\n",
    "    3. [Mapping the seasonal changes to the open water extent of the Okavango delta](../Use_cases/Okavango/2_Water_extent_seasonal_MNDWI.ipynb)\n",
    "\n",
    "    4. [Extracting historical climate (rainfall) data over selected basins](../Use_cases/Okavango/3_Historical_rainfall.ipynb)\n",
    "\n",
    "    5. [Visualising the correlation between rainfall, surface water extent, and discharge](../Use_cases/Okavango/4_Visualising_rainfall_discharge_water_extent.ipynb)\n",
    "\n",
    "    6. [Modelling discharge at Mohembo using uppercatchment rainfall](../Use_cases/Okavango/5_Rainfall_discharge_modelling.ipynb)\n",
    "\n",
    "    7. [Forecasting surface water extent in the Okavango delta](../Use_cases/Okavango/6_Forecasting_water_extent.ipynb)\n",
    "\n",
    "* The Monitoring Water Extent Use Case Notebooks:\n",
    "\n",
    "    1. [Mapping water extent and rainfall using Sentinel-1 and CHIRPS](../Use_cases/Monitoring_water_extent/Monitoring_water_extent_radar.ipynb)\n",
    "\n",
    "    2. [Mapping water extent and rainfall using WOfS and CHIRPS](../Use_cases/Monitoring_water_extent/Monitoring_water_extent_WOfS.ipynb)\n",
    "    \n",
    "----"
   ]
  },
  {
   "cell_type": "markdown",
   "id": "06debecb-e393-4c61-b997-d46eca5a5ae0",
   "metadata": {},
   "source": [
    "<img class=\"float-right\" style=\"float:right;\" src=\"../Supplementary_data/SDG_icons/E_Inverted_Icons_WEB-09.png\" alt=\"SDG Icon 9\" width=\"130\">\n",
    "<div width=\"100vw\">\n",
    "<h3>Goal 9: </h3>\n",
    "<h5>Build resilient infrastructure, promote inclusive <br> and sustainable industrialization and foster innovation.</h5>\n",
    "</div>"
   ]
  },
  {
   "cell_type": "markdown",
   "id": "8211a0e7-28be-4d85-a8c1-4a355a417049",
   "metadata": {},
   "source": [
    "**Indicator 9.1.1** Proportion of the rural population who live within 2 km of an all-season \n",
    "\n",
    "* [Land Cover Classification Datasets](../Datasets/Landcover_Classification.ipynb)\n",
    "\n",
    "* [Machine learning with the Open Data Cube](../Real_world_examples/Machine_learning_with_ODC.ipynb)\n",
    "\n",
    "* [Urban area mapping using Sentinel 1 data](../Real_world_examples/Radar_urban_area_mapping.ipynb)\n",
    "\n",
    "* [Urbanization Index Comparisons with Global Human Settlement (GHS)](../Real_world_examples/Urban_index_comparison.ipynb)\n",
    "\n",
    "* [Detecting change in urban extent](../Real_world_examples/Urban_change_detection.ipynb)\n",
    "\n",
    "----"
   ]
  },
  {
   "cell_type": "markdown",
   "id": "04a56fb2-1821-4e33-9994-232ede3e0561",
   "metadata": {},
   "source": [
    "<img class=\"float-right\" style=\"float:right;\" src=\"../Supplementary_data/SDG_icons/E_Inverted_Icons_WEB-11.png\" alt=\"SDG Icon 11\" width=\"130\">\n",
    "<div width=\"100vw\"> \n",
    "<h3>Goal 11: </h3>\n",
    "<h5>Make cities and human settlements inclusive, safe, <br> resilient and sustainable.</h5>\n",
    "</div>"
   ]
  },
  {
   "cell_type": "markdown",
   "id": "983991b9-7bd1-46c3-8a0b-6e4ca3c889b3",
   "metadata": {},
   "source": [
    "**Indicator 11.1.1** Proportion of urban population living in slums, informal settlements or inadequate housing\n",
    "\n",
    "* [Land Cover Classification Datasets](../Datasets/Landcover_Classification.ipynb)\n",
    "\n",
    "* [Machine learning with the Open Data Cube](../Real_world_examples/Machine_learning_with_ODC.ipynb)\n",
    "\n",
    "* [Urban area mapping using Sentinel 1 data](../Real_world_examples/Radar_urban_area_mapping.ipynb)\n",
    "\n",
    "* [Urbanization Index Comparisons with Global Human Settlement (GHS)](../Real_world_examples/Urban_index_comparison.ipynb)\n",
    "\n",
    "* [Detecting change in urban extent](../Real_world_examples/Urban_change_detection.ipynb)"
   ]
  },
  {
   "cell_type": "markdown",
   "id": "fdc0461f-a771-4ee7-be3f-642e7583d1f5",
   "metadata": {},
   "source": [
    "**Indicator 11.3.1** Ratio of land consumption rate to population growth rate\n",
    "\n",
    "* [Monitoring change through time using satellite imagery filmstrip plots](../Real_world_examples/Change_filmstrips.ipynb)\n",
    "\n",
    "* [Machine learning with the Open Data Cube](../Real_world_examples/Machine_learning_with_ODC.ipynb)\n",
    "\n",
    "* [Urban area mapping using Sentinel 1 data](../Real_world_examples/Radar_urban_area_mapping.ipynb)"
   ]
  },
  {
   "cell_type": "markdown",
   "id": "9d7940b4-271b-4bd8-b16d-36c39989a4ec",
   "metadata": {},
   "source": [
    "**Indicator 11.7.1** Average share of the built-up area of cities that is open space for public use for all, by sex, age and persons with disabilities\n",
    "\n",
    "\n",
    "* [Monitoring change through time using satellite imagery filmstrip plots](../Real_world_examples/Change_filmstrips.ipynb)\n",
    "\n",
    "* [Machine learning with the Open Data Cube](../Real_world_examples/Machine_learning_with_ODC.ipynb)\n",
    "\n",
    "* [Urbanization Index Comparisons with Global Human Settlement (GHS)](../Real_world_examples/Urban_index_comparison.ipynb)\n",
    "\n",
    "* [Detecting change in urban extent](../Real_world_examples/Urban_change_detection.ipynb)\n",
    "\n",
    "* [Urban area mapping using Sentinel 1 data](../Real_world_examples/Radar_urban_area_mapping.ipynb)\n",
    "\n",
    "---"
   ]
  },
  {
   "cell_type": "markdown",
   "id": "9a3ae105-b331-4e21-accd-60ddaebf4788",
   "metadata": {},
   "source": [
    "<img class=\"float-right\" style=\"float:right;\" src=\"../Supplementary_data/SDG_icons/E_Inverted_Icons_WEB-13.png\" alt=\"SDG Icon 13\" width=\"130\"> \n",
    "<div width=\"100vw\">\n",
    "<h3>Goal 13: </h3>\n",
    "<h5>Take urgent action to combat climate change and its impacts.</h5>\n",
    "</div>"
   ]
  },
  {
   "cell_type": "markdown",
   "id": "b8161c48-3e01-4903-9810-d175efcbdfd4",
   "metadata": {},
   "source": [
    "**Indicator 13.1.1** Number of deaths, missing persons and directly affected persons attributed to disasters per 100,000 population\n",
    "\n",
    "* [Land Cover Classification Datasets](../Datasets/Landcover_Classification.ipynb)\n",
    "\n",
    "* [Digital Elevation Models](../Datasets/Digital_Elevation_Models.ipynb)\n",
    "\n",
    "* [Burnt Area Mapping](../Real_world_examples/Burnt_area_mapping.ipynb)\n",
    "\n",
    "* [Rainfall anomalies from Climate Hazards Group InfraRed Precipitation with Station data (CHIRPS)](../Real_world_examples/Rainfall_anomaly_CHIRPS.ipynb)\n",
    "\n",
    "* [Identifying ships with Sentinel-1](../Real_world_examples/Ship_detection_with_radar.ipynb)\n",
    "\n",
    "* [Monitoring coastal erosion along Africa's coastline](../Real_world_examples/Coastal_erosion.ipynb)\n",
    "\n",
    "----"
   ]
  },
  {
   "cell_type": "markdown",
   "id": "7ab418cc-81f7-4ebb-890d-50e36dba833e",
   "metadata": {},
   "source": [
    "<img class=\"float-right\" style=\"float:right;\" src=\"../Supplementary_data/SDG_icons/E_Inverted_Icons_WEB-14.png\" alt=\"SDG Icon 14\" width=\"130\"> \n",
    "<div width=\"100vw\">\n",
    "<h3>Goal 14: </h3>\n",
    "<h5>Conserve and sustainably use the oceans, seas and <br> marine resources for sustainable development.</h5>\n",
    "</div>"
   ]
  },
  {
   "cell_type": "markdown",
   "id": "433b9f56-93d1-45ee-8b08-14b3e80e2795",
   "metadata": {},
   "source": [
    "**Indicator 14.1.1** (a) Index of coastal eutrophication; and (b) plastic debris density\n",
    "\n",
    "* [Monitoring chlorophyll-*a* in African waterbodies](../Real_world_examples/Chlorophyll_monitoring.ipynb)"
   ]
  },
  {
   "cell_type": "markdown",
   "id": "c3c86cb7-c658-4c65-b57c-1db99ea55bf2",
   "metadata": {},
   "source": [
    "**Indicator 14.5.1** Coverage of protected areas in relation to marine areas\n",
    "\n",
    "* [Land Cover Classification Datasets](../Datasets/Landcover_Classification.ipynb)\n",
    "\n",
    "* [Monitoring Mangrove Extents](../Real_world_examples/Mangrove_analysis.ipynb)\n",
    "\n",
    "* [Identifying ships with Sentinel-1](../Real_world_examples/Ship_detection_with_radar.ipynb)\n",
    "\n",
    "---"
   ]
  },
  {
   "cell_type": "markdown",
   "id": "5b0f51b7-eeb9-4cd4-aaad-16de19c471ee",
   "metadata": {},
   "source": [
    "<img class=\"float-right\" style=\"float:right;\" src=\"../Supplementary_data/SDG_icons/E_Inverted_Icons_WEB-15.png\" alt=\"SDG Icon 15\" width=\"130\"> \n",
    "<div width=\"100vw\">\n",
    "<h3>Goal 15: </h3>\n",
    "<h5>Protect, restore and promote sustainable use of terrestrial ecosystems, <br> manage sustainably forests, combat desertification, and halt and reverse <br> land degradation and halt biodiversity loss.</h5>\n",
    "</div>"
   ]
  },
  {
   "cell_type": "markdown",
   "id": "50ea6ccf-c448-44e7-8804-303e9d9159cf",
   "metadata": {},
   "source": [
    "**Indicator 15.1.1** Forest area as a proportion of total land area\n",
    "\n",
    "* [Land Cover Classification Datasets](../Datasets/Landcover_Classification.ipynb)\n",
    "\n",
    "* [Global Mangrove Watch](../Datasets/Global_Mangrove_Watch.ipynb)\n",
    "\n",
    "* [Fractional Cover](../Datasets/Fractional_Cover.ipynb)\n",
    "\n",
    "* [Monitoring Mangrove Extents](../Real_world_examples/Mangrove_analysis.ipynb)"
   ]
  },
  {
   "cell_type": "markdown",
   "id": "fd0f0851-d847-4481-9ad7-b29a96115e58",
   "metadata": {},
   "source": [
    "**Indicator 15.1.2** Proportion of important sites for terrestrial and freshwater biodiversity that are covered by protected areas, by ecosystem type\n",
    "\n",
    "* [Land Cover Classification Datasets](../Datasets/Landcover_Classification.ipynb)\n",
    "\n",
    "* [Global Mangrove Watch](../Datasets/Global_Mangrove_Watch.ipynb)\n",
    "\n",
    "* [Monitoring Mangrove Extents](../Real_world_examples/Mangrove_analysis.ipynb)\n",
    "\n",
    "* The Lake Baringo Use Case Notebooks: \n",
    "\n",
    "    1. [Vegetation phenology in the Ruko Conservancy](../Use_cases/Lake_baringo_grazing/Vegetation_phenology_1D.ipynb)\n",
    "\n",
    "    2. [Per-pixel vegetation phenology in the Ruko Conservancy](../Use_cases/Lake_baringo_grazing/Vegetation_phenology_perpixel.ipynb)"
   ]
  },
  {
   "cell_type": "markdown",
   "id": "09a3bd88-e175-4fcb-9d4b-365fde892a1e",
   "metadata": {},
   "source": [
    "**Indicator 15.3.1** Proportion of land that is degraded over total land area\n",
    "\n",
    "* [Land Cover Classification Datasets](../Datasets/Landcover_Classification.ipynb)\n",
    "\n",
    "* [Fractional Cover](../Datasets/Fractional_Cover.ipynb)\n",
    "\n",
    "* [NDVI Climatology](../Datasets/NDVI_Climatology.ipynb)\n",
    "\n",
    "* [Monitoring change through time using satellite imagery filmstrip plots](../Real_world_examples/Change_filmstrips.ipynb)\n",
    "\n",
    "* [Monitoring coastal erosion along Africa's coastline](../Real_world_examples/Coastal_erosion.ipynb)\n",
    "\n",
    "* [Vegetation Change Detection](../Real_world_examples/Vegetation_change_detection.ipynb)\n",
    "\n",
    "* [Monthly vegetation condition anomalies](../Real_world_examples/Vegetation_anomalies_monthly.ipynb)\n",
    "\n",
    "* [Surface Mining Screening](../Use_cases/Surface_mining_screening/Surface_mining_screening.ipynb)\n",
    "\n",
    "* [Scalable Supervised Machine Learning on the Open Data Cube ReadME](../Real_world_examples/Scalable_machine_learning/0_README.ipynb)\n"
   ]
  },
  {
   "cell_type": "markdown",
   "id": "99d9a95e-1e31-4bbd-a82a-1609e95f5022",
   "metadata": {},
   "source": [
    "**Indicator 15.4.2** Mountain Green Cover Index\n",
    "\n",
    "* [Mountain Green Cover Index Notebook](Mountain_Green_Cover_Index/MGCI.ipynb)\n",
    "\n",
    "* [Burnt Area Mapping](../Real_world_examples/Burnt_area_mapping.ipynb)\n",
    "\n",
    "* [Vegetation Change Detection](../Real_world_examples/Vegetation_change_detection.ipynb)\n",
    "\n",
    "* [Monthly vegetation condition anomalies](../Real_world_examples/Vegetation_anomalies_monthly.ipynb)\n",
    "\n"
   ]
  },
  {
   "cell_type": "markdown",
   "id": "594bd357-84ce-4135-aedb-54f8edcd2d7c",
   "metadata": {},
   "source": [
    "----"
   ]
  }
 ],
 "metadata": {
  "kernelspec": {
   "display_name": "Python 3 (ipykernel)",
   "language": "python",
   "name": "python3"
  },
  "language_info": {
   "codemirror_mode": {
    "name": "ipython",
    "version": 3
   },
   "file_extension": ".py",
   "mimetype": "text/x-python",
   "name": "python",
   "nbconvert_exporter": "python",
   "pygments_lexer": "ipython3",
   "version": "3.10.12"
  },
  "widgets": {
   "application/vnd.jupyter.widget-state+json": {
    "state": {},
    "version_major": 2,
    "version_minor": 0
   }
  }
 },
 "nbformat": 4,
 "nbformat_minor": 5
}
