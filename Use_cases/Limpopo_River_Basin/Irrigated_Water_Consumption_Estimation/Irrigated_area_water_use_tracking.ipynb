{
 "cells": [
  {
   "cell_type": "markdown",
   "metadata": {
    "id": "3nvbHUeOkvys"
   },
   "source": [
    "# Estimating water consumption of irrigated agriculture in the Limpopo River Basin (LRB)\n",
    "\n",
    "* **Products used:**\n",
    "[irrigated_areas_limpopo](https://odc-explorer.digitaltwins.demos-only.iwmi.org/products/irrigated_areas_limpopo),\n",
    "[WaPOR](https://data.apps.fao.org/wapor/?lang=en)\n"
   ]
  },
  {
   "cell_type": "markdown",
   "metadata": {
    "id": "TG2eLrFvkvyt"
   },
   "source": [
    "## Background\n",
    "The Limpopo River Basin, spanning four countries in southern Africa, at times faces extreme water scarcity. For communities that rely on agriculture in the basin, the efficient use of water is essential. One of our key projects in CGIAR involves developing a [Digital Twin (DT)](https://www.iwmi.org/blogs/can-digital-twins-help-river-basin-management-in-developing-countries/) of the Limpopo River Basin to support better decision-making for managing water in the region. A digital twin is a virtual representation of a physical object or system. The CGIAR Digital Twin initiative creates dynamic virtual models that combine real-time data, AI, and simulations to improve decision-making.   A crucial component of this digital twin is tracking irrigated areas using publicly available satellite data to understand in near real-time where water is being used, how much is being used, and how these patterns change over time. More details on the method developed for mapping irrigated agriculture in the LRB and its water consumption can be found here: https://hdl.handle.net/10568/155296"
   ]
  },
  {
   "cell_type": "markdown",
   "metadata": {
    "id": "a8iJnw6lkvyt"
   },
   "source": [
    "## Description\n",
    "This notebook describes how to calculate area covered by irrigated agriculture and subsequently estimate its water consumption for a specific region within the LRB. The steps below were followed:\n",
    "\n",
    "1. Select a area of interest within the LRB.\n",
    "2. Download and load irrigated area and the Actual EvapoTranspiration and Interception (National - Annual - 100m) (L2-AETI-M) product of WaPOR datasets.\n",
    "3. Reproject the two data.\n",
    "4. Polygonize the irrigated area data and extract mean ET (L2-AETI-M) value for each polygon.\n",
    "3. Calculate water consumption by getting the sum of all the mean values."
   ]
  },
  {
   "cell_type": "markdown",
   "metadata": {
    "id": "vzr_C-sxkvyt"
   },
   "source": [
    "## Getting started\n",
    "\n",
    "To run this analysis, run all the cells in the notebook, starting with the \"Install packages\" cell."
   ]
  },
  {
   "cell_type": "markdown",
   "metadata": {
    "id": "auZkwW2Y0bOI"
   },
   "source": [
    "### Install packages"
   ]
  },
  {
   "cell_type": "code",
   "execution_count": null,
   "metadata": {
    "id": "O31fJUra0ejd"
   },
   "outputs": [],
   "source": [
    "################# Uncomment below code lines #####################\n",
    "\n",
    "# !pip install pystac_client\n",
    "\n",
    "# !pip install odc-stac\n",
    "\n",
    "# !pip3 install wapordl==0.9\n",
    "\n",
    "# !pip install xvec\n",
    "\n",
    "# !pip install rioxarray\n",
    "\n",
    "# pip install GDAL\n"
   ]
  },
  {
   "cell_type": "markdown",
   "metadata": {
    "id": "Ga0RAcAMkvyt"
   },
   "source": [
    "### Load packages\n"
   ]
  },
  {
   "cell_type": "code",
   "execution_count": null,
   "metadata": {
    "id": "Y05KJ8N-kvyt"
   },
   "outputs": [],
   "source": [
    "%matplotlib inline\n",
    "\n",
    "import os\n",
    "import datetime\n",
    "import matplotlib.pyplot as plt\n",
    "import numpy as np\n",
    "import pandas as pd\n",
    "import geopandas as gpd\n",
    "import rioxarray as rio\n",
    "from osgeo import gdalnumeric, gdal\n",
    "import xvec\n",
    "import pystac_client\n",
    "from odc.stac import configure_rio, stac_load\n",
    "from datacube.utils.masking import mask_invalid_data\n",
    "from deafrica_tools.plotting import display_map\n",
    "from deafrica_tools.load_wapor import get_all_WaPORv3_mapsets, load_wapor_ds\n",
    "from deafrica_tools.spatial import xr_vectorize, xr_rasterize\n",
    "from wapordl import wapor_map\n",
    "import datacube"
   ]
  },
  {
   "cell_type": "markdown",
   "metadata": {
    "id": "jX57_5nVkvyu"
   },
   "source": [
    "### Set some options for connecting to AWS\n",
    "\n"
   ]
  },
  {
   "cell_type": "code",
   "execution_count": null,
   "metadata": {
    "colab": {
     "base_uri": "https://localhost:8080/"
    },
    "id": "CmEW2bso2Npq",
    "outputId": "89999434-bf1b-46e4-f0e5-681fe9550105"
   },
   "outputs": [],
   "source": [
    "os.environ['AWS_S3_ENDPOINT'] = 's3.af-south-1.amazonaws.com'\n",
    "os.environ['AWS_NO_SIGN_REQUEST'] = 'YES'\n",
    "os.environ['AWS_DEFAULT_REGION'] = 'af-south-1'\n",
    "os.environ['AWS Access Key ID'] = ''\n",
    "print(os.getenv('AWS_S3_ENDPOINT'))"
   ]
  },
  {
   "cell_type": "markdown",
   "metadata": {
    "id": "oZWeAuybkvyu"
   },
   "source": [
    "### Analysis parameters\n",
    "\n"
   ]
  },
  {
   "cell_type": "code",
   "execution_count": null,
   "metadata": {
    "id": "SG36gm6Jkvyu"
   },
   "outputs": [],
   "source": [
    "lat, lon = -24.5726, 27.2373  #enter the latitude and longitude of your location within the Limpopo River Basin\n",
    "buffer = 0.01  #how big the area around your location\n",
    "start_date = \"2024-06-01\"  # Set your own start date\n",
    "end_date = \"2024-06-30\"  # Set your own end date"
   ]
  },
  {
   "cell_type": "markdown",
   "metadata": {
    "id": "vAL0YgYKkvyu"
   },
   "source": [
    "## Select location"
   ]
  },
  {
   "cell_type": "code",
   "execution_count": null,
   "metadata": {
    "colab": {
     "base_uri": "https://localhost:8080/",
     "height": 986
    },
    "id": "FAlMuNt4kvyu",
    "outputId": "36d1275a-c67f-4f1b-8cb7-b56d6a23e772"
   },
   "outputs": [],
   "source": [
    "#join lat, lon, buffer to get bounding box\n",
    "lon_range = (lon - buffer, lon + buffer)\n",
    "lat_range = (lat + buffer, lat - buffer)\n",
    "\n",
    "bbox = [lon_range[0], lat_range[0], lon_range[1], lat_range[1]]\n",
    "\n",
    "# Visualise selected location\n",
    "display_map(lon_range, lat_range)"
   ]
  },
  {
   "cell_type": "markdown",
   "metadata": {
    "id": "zAO6wozKkvyu"
   },
   "source": [
    "## Download and load irrigated area and WaPOR data"
   ]
  },
  {
   "cell_type": "markdown",
   "metadata": {
    "id": "q6yUv7hS5InS"
   },
   "source": [
    "### Download and load irrigated area"
   ]
  },
  {
   "cell_type": "code",
   "execution_count": null,
   "metadata": {
    "colab": {
     "base_uri": "https://localhost:8080/"
    },
    "id": "oF6Bhablkvyu",
    "outputId": "23321259-6be3-4b0d-daea-f2e37f4bc0a3"
   },
   "outputs": [],
   "source": [
    "# Set the URL of the STAC catalog you wish to query\n",
    "url = 'https://odc-explorer.digitaltwins.demos-only.iwmi.org/stac' ## follow this link to explore catalog\n",
    "\n",
    "# Initialize a STAC client to interact with the specified STAC catalog\n",
    "catalog = pystac_client.Client.open(url)\n",
    "\n",
    "# Specify the collections to retrieve\n",
    "collections = ['irrigated_areas_limpopo']\n",
    "\n",
    "# Build a query with the previously set parameters to search the STAC catalog\n",
    "query = catalog.search(\n",
    "    bbox=bbox, collections=collections, datetime=f\"{start_date}/{end_date}\"\n",
    ")\n",
    "\n",
    "# Fetch the items\n",
    "items = list(query.items())\n",
    "\n",
    "items   #make an item is output"
   ]
  },
  {
   "cell_type": "code",
   "execution_count": null,
   "metadata": {
    "colab": {
     "base_uri": "https://localhost:8080/",
     "height": 363
    },
    "id": "f6cvbU3y5ZXO",
    "outputId": "c9ed8966-5635-4474-fdb0-81afadfa02b2"
   },
   "outputs": [],
   "source": [
    "# Load the irrigated area for specified parameter values\n",
    "\n",
    "crs = \"EPSG:4326\"\n",
    "\n",
    "ds = stac_load(\n",
    "    items,\n",
    "    crs=crs,\n",
    "    chunks={},\n",
    "    bbox=bbox,\n",
    ")\n",
    "\n",
    "ds"
   ]
  },
  {
   "cell_type": "code",
   "execution_count": null,
   "metadata": {
    "colab": {
     "base_uri": "https://localhost:8080/",
     "height": 490
    },
    "id": "nhM9L8d25bFo",
    "outputId": "c856b0d4-e232-4429-fd51-01b0033dce3f"
   },
   "outputs": [],
   "source": [
    "### Visualize irrigated areas for a single date\n",
    "ds['map'].sel(time= end_date, method='nearest').compute().plot() # we chose here the \"map\" measurement. Other measurements include \"filtered\" and \"prob\""
   ]
  },
  {
   "cell_type": "code",
   "execution_count": null,
   "metadata": {
    "id": "4WWoZ7bI5bIb"
   },
   "outputs": [],
   "source": [
    "### Download irrigated area data\n",
    "irr_dataset = ds['map'].sel(time= end_date, method='nearest').compute()   ## Set your own data\n",
    "irr_dataset.rio.to_raster(os.getcwd() + \"/\" + \"irrigated_\" + end_date + \".tif\")"
   ]
  },
  {
   "cell_type": "code",
   "execution_count": null,
   "metadata": {
    "colab": {
     "base_uri": "https://localhost:8080/"
    },
    "id": "u0VURIoi5bNa",
    "outputId": "4d70b615-95bb-4d90-bf58-241c65ae171a"
   },
   "outputs": [],
   "source": [
    "### Calculate area coverage of irrigated agriculture**\n",
    "\n",
    "area_per_pixel = 100  # area of a single pixel\n",
    "\n",
    "raster_file = gdalnumeric.LoadFile(os.getcwd() + \"/\" + \"irrigated_\" + end_date + \".tif\")\n",
    "pixel_count = (raster_file == 1).sum()  ## get the sum of all the pixels\n",
    "\n",
    "area_ha = pixel_count * area_per_pixel / 10000  ##pixel_count * area_per_pixel\n",
    "print('The area of the irrigated field between {} and {} is {} ha: '.format(start_date, end_date, area_ha))"
   ]
  },
  {
   "cell_type": "markdown",
   "metadata": {
    "id": "KkrNxiz46gLI"
   },
   "source": [
    "### Download and load WaPOR area"
   ]
  },
  {
   "cell_type": "code",
   "execution_count": null,
   "metadata": {
    "colab": {
     "base_uri": "https://localhost:8080/",
     "height": 1000
    },
    "id": "fQj_N4Kd5bQa",
    "outputId": "9bf408ad-4f0c-4829-f3a6-0a091b2e6fd6"
   },
   "outputs": [],
   "source": [
    "get_all_WaPORv3_mapsets() #Get the list of the products of Wapor. For water water consumption, we are going to use L2-AETI-M"
   ]
  },
  {
   "cell_type": "code",
   "execution_count": null,
   "metadata": {
    "id": "hc-B_9uI5bS6"
   },
   "outputs": [],
   "source": [
    "# Set argument values for the downloading wapor data\n",
    "region =  [lon_range[0], lat_range[1], lon_range[1], lat_range[0]]\n",
    "folder = os.getcwd() # stored in current wonking directory. Change to your own directory\n",
    "variable = \"L2-AETI-M\" # Product\n",
    "period = [start_date, end_date] # period to load\n",
    "\n"
   ]
  },
  {
   "cell_type": "code",
   "execution_count": null,
   "metadata": {
    "colab": {
     "base_uri": "https://localhost:8080/"
    },
    "id": "dq7MH95S7FmS",
    "outputId": "bd64f58e-c24b-4da3-dbaf-79d300b949c4"
   },
   "outputs": [],
   "source": [
    "# Download the WaPOR for specified paramater values\n",
    "aeti = wapor_map(region, variable, period, folder, extension = '.tif')"
   ]
  },
  {
   "cell_type": "code",
   "execution_count": null,
   "metadata": {
    "id": "HDOYvBjt7FpG"
   },
   "outputs": [],
   "source": [
    "# Open the dataset with rioxarray to enable geospatial operations\n",
    "aeti = rio.open_rasterio(os.getcwd()+ \"\\\\\" + \"bb_\" + variable + \"_NONE_none.tif\")\n"
   ]
  },
  {
   "cell_type": "code",
   "execution_count": null,
   "metadata": {
    "colab": {
     "base_uri": "https://localhost:8080/",
     "height": 264
    },
    "id": "uksXvE7n7FsN",
    "outputId": "f3dc14b2-64ce-434b-b4e3-84edd9b66310"
   },
   "outputs": [],
   "source": [
    "# load the WaPor data\n",
    "aeti"
   ]
  },
  {
   "cell_type": "code",
   "execution_count": null,
   "metadata": {
    "colab": {
     "base_uri": "https://localhost:8080/",
     "height": 490
    },
    "id": "yo6G5GUD7xeM",
    "outputId": "aeb8a2e5-4998-46fe-a987-89ba9268024e"
   },
   "outputs": [],
   "source": [
    "# Visualize the wapor data\n",
    "aeti.plot()"
   ]
  },
  {
   "cell_type": "markdown",
   "metadata": {
    "id": "tk3NhUE6783o"
   },
   "source": [
    "## Reproject wapor data to the match the spatial resolution of the irrigated area data"
   ]
  },
  {
   "cell_type": "code",
   "execution_count": null,
   "metadata": {
    "colab": {
     "base_uri": "https://localhost:8080/"
    },
    "id": "UYowrUNx75HF",
    "outputId": "8bf38e6b-c650-426b-f132-f415ece94144"
   },
   "outputs": [],
   "source": [
    "## Verify if irrigated and wapor data have the same projection\n",
    "aeti.geobox == irr_dataset.geobox"
   ]
  },
  {
   "cell_type": "code",
   "execution_count": null,
   "metadata": {
    "id": "sP-_bPol75J8"
   },
   "outputs": [],
   "source": [
    "# Reproject data\n",
    "aeti_reprojected = aeti.odc.reproject(how=irr_dataset.odc.geobox, resampling=\"average\")\n",
    "# Set nodata to `NaN`\n",
    "aeti_reprojected = mask_invalid_data(aeti_reprojected)"
   ]
  },
  {
   "cell_type": "code",
   "execution_count": null,
   "metadata": {
    "colab": {
     "base_uri": "https://localhost:8080/"
    },
    "id": "GSfZaIUg75M3",
    "outputId": "6d3a3ee2-30cf-4bfd-f492-30b06ca65bf3"
   },
   "outputs": [],
   "source": [
    "## Verify again if irrigated and wapor data have the same projection\n",
    "aeti_reprojected.geobox == irr_dataset.geobox"
   ]
  },
  {
   "cell_type": "markdown",
   "metadata": {
    "id": "a5Tv1lLc8SSG"
   },
   "source": [
    "## Polygonize the irrigated area data and extract mean ET value for each polygon"
   ]
  },
  {
   "cell_type": "code",
   "execution_count": null,
   "metadata": {
    "colab": {
     "base_uri": "https://localhost:8080/",
     "height": 206
    },
    "id": "VcDXnxd475PA",
    "outputId": "dae0fec7-f3e6-407f-8b34-119aaabd0f5f"
   },
   "outputs": [],
   "source": [
    "#Polygonize irrigated areas\n",
    "gdf = xr_vectorize(irr_dataset,\n",
    "                  mask= irr_dataset.values==1)\n",
    "gdf.head()"
   ]
  },
  {
   "cell_type": "code",
   "execution_count": null,
   "metadata": {
    "id": "FoZTNMQr8L9i"
   },
   "outputs": [],
   "source": [
    "# extract mean ET value for each polygon\n",
    "et_extracted = aeti_reprojected.xvec.zonal_stats(gdf.geometry, \"longitude\", \"latitude\")  # \"mean\" is the default spatial aggregation statistic method"
   ]
  },
  {
   "cell_type": "code",
   "execution_count": null,
   "metadata": {
    "colab": {
     "base_uri": "https://localhost:8080/",
     "height": 206
    },
    "id": "3XlbDarQ8L_x",
    "outputId": "6d5554dd-9b76-4101-b7e7-a5aa1ec3d36e"
   },
   "outputs": [],
   "source": [
    "df_et = pd.DataFrame(et_extracted.values, columns=['mean_et']) #Convert the resulting DataArray to dataframe\n",
    "df_et.head()"
   ]
  },
  {
   "cell_type": "markdown",
   "metadata": {
    "id": "KBMuxTf59Vdv"
   },
   "source": [
    "## Calculate water consumption for the whole irrigated area"
   ]
  },
  {
   "cell_type": "code",
   "execution_count": null,
   "metadata": {
    "colab": {
     "base_uri": "https://localhost:8080/"
    },
    "id": "ws0Mnthq8MCl",
    "outputId": "1e4d7d35-3eb0-42c6-96cf-db8793a09617"
   },
   "outputs": [],
   "source": [
    "## Add a column, multiply each row value with scale factor (0.1), then by 0.001 (to convert m3), then by the pixel area (100), and sum all the row values to get the total ET value of the whole irrigated area\n",
    "df_et['water_consumption'] = df_et['mean_et'] * 0.1 * 0.001 * 100\n",
    "sum_et = df_et['water_consumption'].sum()\n",
    "\n",
    "print('The water consumption of the irrigated field between {} and {} is : {} m3'.format(start_date, end_date, sum_et))"
   ]
  },
  {
   "cell_type": "markdown",
   "metadata": {
    "id": "zI_J0AOT-_OI"
   },
   "source": [
    "## References\n",
    "\n",
    "1.   Garcia Andarcia, M., Dickens, C., Silva, P., Matheswaran, K., & Koo, J. (2024). Digital Twin for management of water resources in the Limpopo River Basin: a concept. Colombo, Sri Lanka: International Water Management Institute (IWMI). CGIAR Initiative on Digital Innovation. 4p.\n",
    "2.   Afham, Abdul; Silva, Paulo; Ghosh, Surajit; Kiala, Zolo; Retief, H.; Dickens, Chris; Garcia Andarcia, Mariangel. 2024. Limpopo River Basin Digital Twin Open Data Cube Catalog. Colombo, Sri Lanka: International Water Management Institute (IWMI). CGIAR Initiative on Digital Innovation. 22p.\n",
    "3.   Kiala, Zolo; Matheswaran, Karthikeyan. 2024. Status of irrigated area in the Limpopo River Basin: July 2024. Colombo, Sri Lanka: International Water Management Institute (IWMI). CGIAR Initiative on Digital Innovation. 5p."
   ]
  },
  {
   "cell_type": "markdown",
   "metadata": {
    "id": "Zv_6Z0N6kvyu"
   },
   "source": [
    "***\n",
    "\n",
    "## Additional information\n",
    "\n",
    "**License:** The code in this notebook is licensed under the [Apache License, Version 2.0](https://www.apache.org/licenses/LICENSE-2.0).\n",
    "Digital Earth Africa data is licensed under the [Creative Commons by Attribution 4.0](https://creativecommons.org/licenses/by/4.0/) license.\n",
    "\n",
    "**Contact:** If you need assistance, please post a question on the [Open Data Cube Slack channel](http://slack.opendatacube.org/) or on the [GIS Stack Exchange](https://gis.stackexchange.com/questions/ask?tags=open-data-cube) using the `open-data-cube` tag (you can view previously asked questions [here](https://gis.stackexchange.com/questions/tagged/open-data-cube)).\n",
    "If you would like to report an issue with this notebook, you can file one on [Github](https://github.com/digitalearthafrica/deafrica-sandbox-notebooks).\n",
    "\n",
    "**Compatible datacube version:**"
   ]
  },
  {
   "cell_type": "code",
   "execution_count": null,
   "metadata": {
    "id": "UP_cIDubkvyu"
   },
   "outputs": [],
   "source": [
    "print(datacube.__version__)"
   ]
  },
  {
   "cell_type": "markdown",
   "metadata": {
    "id": "JsT2lr1gAcOe"
   },
   "source": [
    "**Contributors**\n",
    "\n",
    "Zolo Kiala <br>\n",
    "Postdoc researcher <br>\n",
    "Email: z.kiala@cgiar.org <br>\n",
    "\n",
    "<br>\n",
    "\n",
    "Kayathri Vigneswaran <br>\n",
    "Junior Data Scientist <br>\n",
    "Email: v.kayathri@cgiar.org <br>"
   ]
  },
  {
   "cell_type": "markdown",
   "metadata": {
    "id": "eqNJ1akgkvyv"
   },
   "source": [
    "**Last Tested:**"
   ]
  },
  {
   "cell_type": "code",
   "execution_count": null,
   "metadata": {
    "id": "UXuD5Cchkvyv"
   },
   "outputs": [],
   "source": [
    "from datetime import datetime\n",
    "datetime.today().strftime('%Y-%m-%d')"
   ]
  }
 ],
 "metadata": {
  "colab": {
   "provenance": []
  },
  "kernelspec": {
   "display_name": "Python 3 (ipykernel)",
   "language": "python",
   "name": "python3"
  },
  "language_info": {
   "codemirror_mode": {
    "name": "ipython",
    "version": 3
   },
   "file_extension": ".py",
   "mimetype": "text/x-python",
   "name": "python",
   "nbconvert_exporter": "python",
   "pygments_lexer": "ipython3",
   "version": "3.12.3"
  }
 },
 "nbformat": 4,
 "nbformat_minor": 4
}
