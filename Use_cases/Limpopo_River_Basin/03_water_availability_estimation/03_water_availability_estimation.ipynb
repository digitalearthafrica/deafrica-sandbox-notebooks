{
 "cells": [
  {
   "cell_type": "markdown",
   "id": "8482917d-722e-4f2e-a1f8-e9e1c37911ff",
   "metadata": {},
   "source": [
    "# ESTIMATION OF WATER AVAILABILITY IN SPECIFIC CHANNEL OF LRB \n",
    "* **Products used:** \n",
    "[ndvi_anomaly](https://explorer.digitalearth.africa/ndvi_anomaly), incremental_channel_contributions_limpopo, monthly rainfall, crop_mask"
   ]
  },
  {
   "cell_type": "markdown",
   "id": "64562ca1-38b9-443e-904b-45cf8a59c0b3",
   "metadata": {},
   "source": [
    "# Background\n",
    "\n",
    "Background\n",
    "\n",
    "The Limpopo River Basin (LRB), spanning four countries—Zimbabwe, Botswana, Mozambique, and South Africa—frequently faces episodes of extreme water scarcity. For communities in the basin that rely heavily on agriculture, the efficient use and management of water resources is crucial.\n",
    "\n",
    "As part of a key CGIAR initiative, the International Water Management Institute (IWMI) is developing a Digital Twin (DT) of the Limpopo River Basin. A Digital Twin is a dynamic virtual model that mirrors real-world systems by integrating real-time data, AI, and simulation tools to enhance decision-making. The goal is to enable data-driven, adaptive, and proactive water management strategies in the region.\n",
    "\n",
    "One critical component of this Digital Twin is the estimation of water availability across the river channels using the SWAT (Soil and Water Assessment Tool) model. This component provides monthly simulations of inflows and outflows for each channel. From these simulations, the incremental flow (net change) in each channel is calculated and classified to generate alert levels for potential water stress or surplus.\n",
    "\n",
    "This notebook supports the project by visualizing water availibility and rainfall conditions in and around the areas flagged with alerts, helping stakeholders better understand environmental conditions contributing to changes in water availability."
   ]
  },
  {
   "cell_type": "markdown",
   "id": "90cf6ef1-c3f2-4e0e-837e-0b892f559fbb",
   "metadata": {},
   "source": [
    "## Description\n",
    "\n",
    "The following steps were undertaken to analyze alert-flagged areas within the Limpopo River Basin:\n",
    "\n",
    "1 **Channel selection** - Identify and select a channel of interest within the alert-flagged region.\n",
    "\n",
    "2 **Associated Channels Mapping** - Determine all channels associated with the selected alert area.\n",
    "\n",
    "3 **Outflow Analysis** - Visualize both the current observed outflow and forecasted outflow for the upcoming months for the selected channel.\n",
    "\n",
    "4 **Rainfall Evaluation** - Compute and visualize the average rainfall and rainfall anomaly in the selected area to understand precipitation patterns influencing the alert.\n",
    "***"
   ]
  },
  {
   "cell_type": "markdown",
   "id": "ca13e10b-8886-417b-85e2-49f6b50b2122",
   "metadata": {},
   "source": [
    "## Getting started\n",
    "To run this analysis, run all the cells in the notebook, starting with the \"Install packages\" cell."
   ]
  },
  {
   "cell_type": "code",
   "execution_count": null,
   "id": "a712f97f-42c7-4cab-bd1a-1a99cef28e89",
   "metadata": {},
   "outputs": [],
   "source": [
    "# !pip install pystac_client\n",
    "\n",
    "# !pip install odc-stac\n",
    "\n",
    "# !pip install xvec\n",
    "\n",
    "# !pip install rioxarray\n",
    "\n",
    "# pip install GDAL"
   ]
  },
  {
   "cell_type": "markdown",
   "id": "b8f835b4-fb98-42bc-b2f7-a548cc2a8a35",
   "metadata": {},
   "source": [
    "## Load packages"
   ]
  },
  {
   "cell_type": "code",
   "execution_count": null,
   "id": "d94a883f-7866-4990-8d7e-cbe6a5183021",
   "metadata": {},
   "outputs": [],
   "source": [
    "%matplotlib inline\n",
    "\n",
    "import os\n",
    "import datetime\n",
    "import matplotlib.pyplot as plt\n",
    "import numpy as np\n",
    "import pandas as pd\n",
    "import geopandas as gpd\n",
    "import rioxarray as rio\n",
    "from osgeo import gdalnumeric, gdal\n",
    "import xvec\n",
    "import pystac_client\n",
    "from odc.stac import configure_rio, stac_load\n",
    "from datacube.utils.masking import mask_invalid_data\n",
    "from deafrica_tools.plotting import display_map\n",
    "from deafrica_tools.load_wapor import get_all_WaPORv3_mapsets, load_wapor_ds\n",
    "from deafrica_tools.spatial import xr_vectorize, xr_rasterize\n",
    "from wapordl import wapor_map\n",
    "import datacube\n",
    "from datetime import datetime\n",
    "from dateutil.relativedelta import relativedelta\n",
    "import requests\n",
    "import matplotlib.dates as mdates\n",
    "import matplotlib.animation as animation\n",
    "from IPython.display import HTML\n",
    "import plotly.graph_objects as go\n",
    "import xarray as xr\n",
    "from pystac_client import Client\n",
    "from odc.stac import configure_rio, stac_load\n",
    "import plotly.express as px\n",
    "from geopy.distance import geodesic  # For accurate distance over Earth's surface\n",
    "from shapely.geometry import Point\n"
   ]
  },
  {
   "cell_type": "markdown",
   "id": "66b8784d-d5f7-4ebb-90f8-527426d59b7f",
   "metadata": {},
   "source": [
    "## Inputs & analysing parameter\n",
    "\n",
    "This notebook can be used to visualize the monthly water availability(actual+forecast) time series for a specific channel. The critical channel to be monitor can be identified/selected interms of Rasterized average monthly incremental channel contributions simulated by SWAT. This stimulation is generated by IWMI which runs in every midmonth. \n",
    "\n",
    "The user needs to define the month of interest to visualize the incremental flows in LRB."
   ]
  },
  {
   "cell_type": "code",
   "execution_count": null,
   "id": "4bef85da-3aff-48a6-bdc5-d79154982f4f",
   "metadata": {},
   "outputs": [],
   "source": [
    "#user input\n",
    "observation_month = \"2024-10\"\n",
    "\n",
    "\n",
    "\n",
    "start_date = observation_month + \"-01\"\n",
    "observation_date = datetime.strptime(observation_month, \"%Y-%m\").date()\n",
    "new_date = observation_date + relativedelta(months=12)\n",
    "new_date_str = new_date.strftime(\"%Y-%m-%d\")\n",
    "\n"
   ]
  },
  {
   "cell_type": "markdown",
   "id": "7df6da04-c75e-4a9c-aec4-4b8b09b84f60",
   "metadata": {},
   "source": [
    "## Connecting to IWMI-DT-ODC\n",
    "\n",
    "IWMI data is stored on S3 in Cape Town, Africa. To load the data, we must configure rasterio with the appropriate AWS S3 endpoint. This can be done with the odc.stac.configure_rio function. Documentation for this function is available at [https://odc-stac.readthedocs.io/en/latest/_api/odc.stac.configure_rio.html#odc.stac.configure_ri]"
   ]
  },
  {
   "cell_type": "code",
   "execution_count": null,
   "id": "fc4d5d01-1c92-41c9-bd82-a778b34d6872",
   "metadata": {},
   "outputs": [],
   "source": [
    "\n",
    "os.environ['AWS_S3_ENDPOINT'] = 's3.af-south-1.amazonaws.com'\n",
    "os.environ['AWS_NO_SIGN_REQUEST'] = 'YES'\n",
    "os.environ['AWS_DEFAULT_REGION'] = 'af-south-1'\n",
    "os.environ['AWS Access Key ID'] = ''\n"
   ]
  },
  {
   "cell_type": "markdown",
   "id": "00016756-ad24-4c40-bf2f-c71a2f0c3608",
   "metadata": {},
   "source": [
    "We are connecting to the 'incremental_channel_contributions_limpopo' dataset from the IWMI Open Data Cube (ODC) for the selected month."
   ]
  },
  {
   "cell_type": "code",
   "execution_count": null,
   "id": "01f4a9f7-fe3c-46ae-88f8-4687e7f2dcf7",
   "metadata": {},
   "outputs": [],
   "source": [
    "\n",
    "# Set the URL of the STAC catalog you wish to query\n",
    "url = 'https://odc-explorer.digitaltwins.demos-only.iwmi.org/stac' \n",
    "\n",
    "# Initialize a STAC client to interact with the specified STAC catalog\n",
    "catalog = pystac_client.Client.open(url)\n",
    "\n",
    "# Specify the collections to retrieve\n",
    "collections = ['incremental_channel_contributions_limpopo']\n",
    "\n",
    "# # Build a query with the previously set parameters to search the STAC catalog\n",
    "query = catalog.search(\n",
    "    collections=collections, datetime=f\"{observation_month}/{observation_month}\"\n",
    ")\n",
    "\n",
    "# Fetch the items\n",
    "items = list(query.items())\n",
    "\n",
    "items "
   ]
  },
  {
   "cell_type": "code",
   "execution_count": null,
   "id": "456c6e9e-883d-458a-919d-945730f61e1e",
   "metadata": {
    "scrolled": true
   },
   "outputs": [],
   "source": [
    "crs = \"EPSG:4326\"\n",
    "ds = stac_load(\n",
    "    items,\n",
    "    crs=crs,\n",
    "    chunks={},)\n",
    "\n",
    "first_timestep = ds.LegendIndex.sel(time=observation_month,method='nearest')"
   ]
  },
  {
   "cell_type": "markdown",
   "id": "1c73257e-fcd5-45cf-a809-77ddab0d1b86",
   "metadata": {},
   "source": [
    "## Selecting the location in the alert region\n",
    "\n",
    "The incremental flow is generated from SWAT stimulation. the incremental flow is classified as below:\n",
    "\n",
    "1.   **(0-1)** - high positive contribution\n",
    "\n",
    "2.   **(1-2)** - medium positive contribution\n",
    "\n",
    "3.   **(2-3)** - low positive contribution\n",
    "\n",
    "4.   **(3-4)** - no contribution\n",
    "\n",
    "5.   **(4-5)** - low negative contribution\n",
    "\n",
    "6.   **(5-6)** - medium negative contribution\n",
    "\n",
    "7.   **(6-7)** - high negative contribution\n"
   ]
  },
  {
   "cell_type": "code",
   "execution_count": null,
   "id": "7e5eedb9-3995-4f33-8285-a2bfbdb22cb4",
   "metadata": {},
   "outputs": [],
   "source": [
    "# Extract coordinates and data\n",
    "lat = first_timestep.latitude.values\n",
    "lon = first_timestep.longitude.values\n",
    "z = first_timestep.values\n",
    "\n",
    "# Create heatmap plot\n",
    "fig = go.Figure(data=go.Heatmap(\n",
    "    z=z,\n",
    "    x=lon,  # longitude on x-axis\n",
    "    y=lat,\n",
    "    colorscale='Viridis',\n",
    "    colorbar=dict(title=\"incremental flow Index\", thickness=15)\n",
    "))\n",
    "\n",
    "# Update layout\n",
    "fig.update_layout(\n",
    "    title=f\"Incremental flow data in LRB on {observation_month} \",\n",
    "\n",
    "    xaxis_title=\"Longitude\",\n",
    "    yaxis_title=\"Latitude\",\n",
    "    width=1000,\n",
    "    height=800\n",
    ")\n",
    "\n",
    "fig.show()\n"
   ]
  },
  {
   "cell_type": "markdown",
   "id": "f1e8d4dd-85d8-45fb-ade4-c1acacc6b698",
   "metadata": {},
   "source": [
    "## ➡️ Feed the selected location details below ⬇️\n",
    "\n",
    "From the above figure the critical channels can be identified (green - yellow) which gives negetive contribution to the channel. Approximate longitude and latitude need to be selected and fed in next steps to calculate the water availability.\n",
    "\n"
   ]
  },
  {
   "cell_type": "code",
   "execution_count": null,
   "id": "39cbff0f-6806-4d6d-b968-461cf9913c5e",
   "metadata": {},
   "outputs": [],
   "source": [
    "lat ,lon = -25.71503,27.29267"
   ]
  },
  {
   "cell_type": "code",
   "execution_count": null,
   "id": "f068c73c-aaee-4458-97c3-57f2ac4b4c33",
   "metadata": {},
   "outputs": [],
   "source": [
    "buffer_lat, buffer_lon = 0.1, 0.1\n",
    "output_crs = 'epsg:6933'\n",
    "lon_range = (lon - buffer_lon, lon + buffer_lon)\n",
    "lat_range = (lat + buffer_lat, lat - buffer_lat)\n",
    "\n",
    "bbox = [lon_range[0], lat_range[0], lon_range[1], lat_range[1]]"
   ]
  },
  {
   "cell_type": "markdown",
   "id": "d15cb815-1f96-460b-a867-e0bbb3c0e0fc",
   "metadata": {},
   "source": [
    "This cell will find the channel name and its related attribute for the given lon and lat"
   ]
  },
  {
   "cell_type": "code",
   "execution_count": null,
   "id": "0c894603-2b7b-4189-969d-862976fae6a6",
   "metadata": {},
   "outputs": [],
   "source": [
    "\n",
    "# Load shapefile\n",
    "shp = gpd.read_file('data/swat_channel_.shp')\n",
    "target_point = (lat, lon)\n",
    "\n",
    "# Function to compute geodesic distance between target and each row\n",
    "def compute_distance(row):\n",
    "    return geodesic((row['latitude'], row['longitude']), target_point).meters\n",
    "\n",
    "# Compute distance column\n",
    "shp['distance_m'] = shp.apply(compute_distance, axis=1)\n",
    "\n",
    "# Get the row with minimum distance\n",
    "closest_row = shp.loc[shp['distance_m'].idxmin()]\n",
    "\n",
    "# Print closest result\n",
    "print(\"Closest river details:\")\n",
    "print(closest_row)\n"
   ]
  },
  {
   "cell_type": "markdown",
   "id": "c0e4259c-a5c2-4ed0-9e24-f4d857a371af",
   "metadata": {},
   "source": [
    "## Downloading and visualizing rainfall event around the selected channel"
   ]
  },
  {
   "cell_type": "markdown",
   "id": "47333663-e53d-4c3d-b27e-5b6d8d060dae",
   "metadata": {},
   "source": [
    "## Connecting to DE Africa \n",
    "\n",
    "In this step, CHIRPS monthly rainfall data is downloaded from the Digital Earth Africa (DE Africa) platform for the selected analysis period. Since CHIRPS provides only historical data, there is no data available for the forecast period, resulting in an empty dataset for that timeframe and graph"
   ]
  },
  {
   "cell_type": "code",
   "execution_count": null,
   "id": "5b425d9b-fc6f-4e78-82d0-2e609ea4ad5e",
   "metadata": {},
   "outputs": [],
   "source": [
    "configure_rio(\n",
    "    cloud_defaults=True,\n",
    "    aws={\"aws_unsigned\": True},\n",
    "    AWS_S3_ENDPOINT=\"s3.af-south-1.amazonaws.com\",\n",
    ")\n",
    "catalog_dea = Client.open(\"https://explorer.digitalearth.africa/stac\")\n"
   ]
  },
  {
   "cell_type": "code",
   "execution_count": null,
   "id": "139288db-0363-4fae-888b-b209b3f7c23e",
   "metadata": {},
   "outputs": [],
   "source": [
    "collections = ['rainfall_chirps_monthly']"
   ]
  },
  {
   "cell_type": "code",
   "execution_count": null,
   "id": "ec3d8af1-0d75-4c79-83d6-cb48b72ec635",
   "metadata": {},
   "outputs": [],
   "source": [
    "query =catalog_dea.search(\n",
    "    bbox=bbox, collections=collections, datetime=f\"{start_date}/{new_date_str}\")\n",
    "items = list(query.items())\n",
    "print(f\"Found: {len(items):d} datasets\")"
   ]
  },
  {
   "cell_type": "code",
   "execution_count": null,
   "id": "13d27804-e68c-4bc1-b4e3-641bf1711557",
   "metadata": {},
   "outputs": [],
   "source": [
    "ds = stac_load(\n",
    "    items,\n",
    "    bbox=bbox,\n",
    "    resolution=30,chunks={},)\n"
   ]
  },
  {
   "cell_type": "markdown",
   "id": "623e3ff7-ca90-46a8-88c7-fdae91f69c8d",
   "metadata": {},
   "source": [
    "## SWAT flow visualization along with CHIRPS rainfall data\n",
    "\n",
    "the SWAT flow data is obrtained from IWMI digitaltwin platform."
   ]
  },
  {
   "cell_type": "code",
   "execution_count": null,
   "id": "5799a96b-34de-4b31-8c7e-758bdf8e5fba",
   "metadata": {},
   "outputs": [],
   "source": [
    "URL = f\"https://digitaltwins.demos-only.iwmi.org/api2/data_requests/swat_present?swat_channel={closest_row['channel_id']}&start_date={start_date}&end_date={new_date_str}\"\n",
    "response = requests.get(URL)\n",
    "data = response.json()\n",
    "df = pd.DataFrame(data)\n",
    "\n",
    "# Convert 'date' column to datetime\n",
    "df['date'] = pd.to_datetime(df['date'])\n",
    "\n",
    "# Melt DataFrame for plotting\n",
    "df_melted = df.melt(id_vars='date', value_vars=['outflow_present_historical', 'outflow_present_forecast'],\n",
    "                    var_name='Type', value_name='Outflow')\n",
    "ds_mean = ds.mean(['latitude', 'longitude']).drop('spatial_ref').to_dataframe().reset_index()\n",
    "ds_mean['time'] = pd.to_datetime(ds_mean['time']) \n",
    "\n",
    "fig, (ax1, ax2) = plt.subplots(nrows=2, ncols=1, figsize=(14, 10), sharex=True)\n",
    "\n",
    "# --- Top Plot: Rainfall (Bar Graph) ---\n",
    "ax1.bar(ds_mean['time'], ds_mean['rainfall'], width=20, color='skyblue', label='historical Rainfall')\n",
    "ax1.set_title(f'Rainfall Time Series in {closest_row['channel_id'],closest_row['channel_na']}', fontsize=14)\n",
    "ax1.set_ylabel('Rainfall (mm)')\n",
    "ax1.grid(True, axis='y')\n",
    "ax1.legend()\n",
    "\n",
    "# --- Bottom Plot: SWAT Outflow ---\n",
    "for key, grp in df_melted.groupby('Type'):\n",
    "    ax2.plot(grp['date'], grp['Outflow'], marker='o', label=key)\n",
    "\n",
    "ax2.set_title(f'SWAT Outflow Time Series: {closest_row['channel_id']}, {closest_row['channel_na']}', fontsize=14)\n",
    "ax2.set_xlabel('Date')\n",
    "ax2.set_ylabel('Outflow (m³/s)')\n",
    "ax2.grid(True)\n",
    "ax2.legend()\n",
    "\n",
    "# Format x-axis\n",
    "ax2.xaxis.set_major_locator(mdates.MonthLocator(interval=1))\n",
    "ax2.xaxis.set_major_formatter(mdates.DateFormatter('%d-%m-%Y'))\n",
    "plt.xticks(rotation=45)\n",
    "\n",
    "plt.tight_layout()\n",
    "plt.show()"
   ]
  },
  {
   "cell_type": "markdown",
   "id": "946a1945-f42b-46b1-b557-d1fdb639f023",
   "metadata": {},
   "source": [
    "## Conclusion\n",
    "By utilizing the incremental_channel_contributions_limpopo dataset from the IWMI Open Data Cube, we visualized the monthly water availability in key channels across the Limpopo Basin. This was compared alongside corresponding monthly rainfall data to assess the relationship between precipitation and channel flow contributions. The combined visualization provides insights into how rainfall patterns influence water availability in the channels, supporting informed water resource planning and management at the catchment level."
   ]
  },
  {
   "cell_type": "markdown",
   "id": "d7dd223f-ae9e-46c6-9d50-48c863ad9c31",
   "metadata": {},
   "source": [
    "***\n",
    "\n",
    "## Additional information\n",
    "\n",
    "**License:** The code in this notebook is licensed under the [Apache License, Version 2.0](https://www.apache.org/licenses/LICENSE-2.0). \n",
    "Digital Earth Africa data is licensed under the [Creative Commons by Attribution 4.0](https://creativecommons.org/licenses/by/4.0/) license.\n",
    "\n",
    "**Contact:** If you need assistance, please post a question on the [Open Data Cube Slack channel](http://slack.opendatacube.org/) or on the [GIS Stack Exchange](https://gis.stackexchange.com/questions/ask?tags=open-data-cube) using the `open-data-cube` tag (you can view previously asked questions [here](https://gis.stackexchange.com/questions/tagged/open-data-cube)).\n",
    "If you would like to report an issue with this notebook, you can file one on [Github](https://github.com/digitalearthafrica/deafrica-sandbox-notebooks).\n",
    "\n",
    "**Compatible datacube version:** "
   ]
  },
  {
   "cell_type": "markdown",
   "id": "4cd87992-9b74-456f-8c0c-17de1bd1ec75",
   "metadata": {},
   "source": [
    "## Reference\n",
    "- Garcia Andarcia, M., Dickens, C., Silva, P., Matheswaran, K., & Koo, J. (2024). Digital Twin for management of water resources in the Limpopo River Basin: a concept. Colombo, Sri Lanka: International Water Management Institute (IWMI). CGIAR Initiative on Digital Innovation. 4p.https://hdl.handle.net/10568/151898\n",
    "\n",
    "- Chambel-Leitão, P.; Santos, F.; Barreiros, D.; Santos, H.; Silva, Paulo; Madushanka, Thilina; Matheswaran, Karthikeyan; Muthuwatta, Lal; Vickneswaran, Keerththanan; Retief, H.; Dickens, Chris; Garcia Andarcia, Mariangel. 2024. Operational SWAT+ model: advancing seasonal forecasting in the Limpopo River Basin. Colombo, Sri Lanka: International Water Management Institute (IWMI). CGIAR Initiative on Digital Innovation. 97p. https://hdl.handle.net/10568/155533\n",
    "\n",
    "📧 **Contact:**\n",
    "- Kayathri Vigneswaran \n",
    "    *[v.kayathri@cgiar.org]*  \n",
    "- Surajith Gosh \n",
    "    *[s.ghosh@cgiar.org]*  "
   ]
  },
  {
   "cell_type": "code",
   "execution_count": null,
   "id": "c4b70c6b-b202-480a-b521-0086d15c3b11",
   "metadata": {},
   "outputs": [],
   "source": [
    "print(datacube.__version__)"
   ]
  },
  {
   "cell_type": "code",
   "execution_count": null,
   "id": "396438f6-7001-44eb-a705-6a05f32f2a32",
   "metadata": {},
   "outputs": [],
   "source": [
    "from datetime import datetime\n",
    "datetime.today().strftime('%Y-%m-%d')"
   ]
  }
 ],
 "metadata": {
  "kernelspec": {
   "display_name": "Python 3 (ipykernel)",
   "language": "python",
   "name": "python3"
  },
  "language_info": {
   "codemirror_mode": {
    "name": "ipython",
    "version": 3
   },
   "file_extension": ".py",
   "mimetype": "text/x-python",
   "name": "python",
   "nbconvert_exporter": "python",
   "pygments_lexer": "ipython3",
   "version": "3.12.3"
  }
 },
 "nbformat": 4,
 "nbformat_minor": 5
}
