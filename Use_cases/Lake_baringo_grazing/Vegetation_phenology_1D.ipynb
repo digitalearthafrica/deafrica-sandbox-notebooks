{
 "cells": [
  {
   "cell_type": "markdown",
   "metadata": {},
   "source": [
    "# Vegetation phenology in the Ruko Conservancy\n",
    "\n",
    "* **Products used:** \n",
    "[s2_l2a](https://explorer.digitalearth.africa/s2_l2a)\n"
   ]
  },
  {
   "cell_type": "markdown",
   "metadata": {},
   "source": [
    "## Background\n",
    "Phenology is the study of plant and animal life cycles in the context of the seasons.\n",
    "It can be useful in understanding the life cycle trends of crops and how the growing seasons are affected by changes in climate.\n",
    "For more information, see the [USGS page on deriving phenology](https://www.usgs.gov/land-resources/eros/phenology/science/deriving-phenological-metrics-ndvi?qt-science_center_objects=0#qt-science_center_objects).\n"
   ]
  },
  {
   "cell_type": "markdown",
   "metadata": {},
   "source": [
    "## Description\n",
    "\n",
    "This notebook will produce annual, smoothed, **one-dimensional (zonal mean across a region)** time-series of a remote sensing vegetation indice, such as NDVI or EVI.  In addition, basic phenology statistics are calculated, exported to disk as csv files, and annotated on a plot.\n",
    "\n",
    "A number of steps are required to produce the desired outputs:\n",
    "\n",
    "1. Load satellite data for a region specified by an vector file (shapefile or geojson)\n",
    "2. Buffer the cloud masking layer to better mask clouds in the data (Sentinel-2 cloud mask is quite poor)\n",
    "3. Further prepare the data for analysis by removing bad values (infs), masking surafce water, and removing outliers in the vegetation index.\n",
    "4. Calculate a zonal mean across the study region (collapse the x and y dimension by taking the mean across all pixels for each time-step).\n",
    "5. Interpolate and smooth the time-series to ensure a consistent dataset with all gaps and noise removed.\n",
    "6. Calculate phenology statistics, report the results, save the results to disk, and generate an annotated plot.\n",
    "\n",
    "***"
   ]
  },
  {
   "cell_type": "markdown",
   "metadata": {},
   "source": [
    "## Getting started\n",
    "\n",
    "To run this analysis, run all the cells in the notebook, starting with the \"Load packages\" cell. "
   ]
  },
  {
   "cell_type": "markdown",
   "metadata": {},
   "source": [
    "### Load packages\n",
    "Load key Python packages and supporting functions for the analysis."
   ]
  },
  {
   "cell_type": "code",
   "execution_count": 1,
   "metadata": {},
   "outputs": [
    {
     "name": "stderr",
     "output_type": "stream",
     "text": [
      "/usr/local/lib/python3.8/dist-packages/geopandas/_compat.py:112: UserWarning: The Shapely GEOS version (3.8.0-CAPI-1.13.1 ) is incompatible with the GEOS version PyGEOS was compiled with (3.10.3-CAPI-1.16.1). Conversions between both will be slow.\n",
      "  warnings.warn(\n",
      "/usr/local/lib/python3.8/dist-packages/dask/dataframe/utils.py:367: FutureWarning: pandas.Int64Index is deprecated and will be removed from pandas in a future version. Use pandas.Index with the appropriate dtype instead.\n",
      "  _numeric_index_types = (pd.Int64Index, pd.Float64Index, pd.UInt64Index)\n",
      "/usr/local/lib/python3.8/dist-packages/dask/dataframe/utils.py:367: FutureWarning: pandas.Float64Index is deprecated and will be removed from pandas in a future version. Use pandas.Index with the appropriate dtype instead.\n",
      "  _numeric_index_types = (pd.Int64Index, pd.Float64Index, pd.UInt64Index)\n",
      "/usr/local/lib/python3.8/dist-packages/dask/dataframe/utils.py:367: FutureWarning: pandas.UInt64Index is deprecated and will be removed from pandas in a future version. Use pandas.Index with the appropriate dtype instead.\n",
      "  _numeric_index_types = (pd.Int64Index, pd.Float64Index, pd.UInt64Index)\n"
     ]
    }
   ],
   "source": [
    "%matplotlib inline\n",
    "\n",
    "import os\n",
    "import datacube\n",
    "import numpy as np\n",
    "import pandas as pd\n",
    "import xarray as xr\n",
    "import datetime as dt\n",
    "import geopandas as gpd\n",
    "import matplotlib.pyplot as plt\n",
    "from datacube.utils import geometry\n",
    "\n",
    "from deafrica_tools.datahandling import load_ard\n",
    "from deafrica_tools.bandindices import calculate_indices\n",
    "from deafrica_tools.plotting import map_shapefile\n",
    "import deafrica_tools.temporal as ts\n",
    "from deafrica_tools.dask import create_local_dask_cluster\n",
    "from deafrica_tools.spatial import xr_rasterize\n",
    "from deafrica_tools.classification import HiddenPrints\n",
    "\n",
    "from datacube.utils.aws import configure_s3_access\n",
    "configure_s3_access(aws_unsigned=True, cloud_defaults=True)\n"
   ]
  },
  {
   "cell_type": "markdown",
   "metadata": {},
   "source": [
    "## Set up a Dask cluster\n",
    "\n",
    "Dask can be used to better manage memory use and conduct the analysis in parallel. \n",
    "For an introduction to using Dask with Digital Earth Africa, see the [Dask notebook](../../Beginners_guide/08_Parallel_processing_with_dask.ipynb).\n",
    "\n",
    ">**Note**: We recommend opening the Dask processing window to view the different computations that are being executed; to do this, see the *Dask dashboard in DE Africa* section of the [Dask notebook](../../Beginners_guide/08_Parallel_processing_with_dask.ipynb).\n",
    "\n",
    "To use Dask, set up the local computing cluster using the cell below."
   ]
  },
  {
   "cell_type": "code",
   "execution_count": 2,
   "metadata": {},
   "outputs": [
    {
     "name": "stderr",
     "output_type": "stream",
     "text": [
      "/usr/local/lib/python3.8/dist-packages/distributed/node.py:151: UserWarning: Port 8787 is already in use.\n",
      "Perhaps you already have a cluster running?\n",
      "Hosting the HTTP server on port 34119 instead\n",
      "  warnings.warn(\n"
     ]
    },
    {
     "data": {
      "text/html": [
       "<table style=\"border: 2px solid white;\">\n",
       "<tr>\n",
       "<td style=\"vertical-align: top; border: 0px solid white\">\n",
       "<h3 style=\"text-align: left;\">Client</h3>\n",
       "<ul style=\"text-align: left; list-style: none; margin: 0; padding: 0;\">\n",
       "  <li><b>Scheduler: </b>tcp://127.0.0.1:34913</li>\n",
       "  <li><b>Dashboard: </b><a href='/user/victoria@kartoza.com/proxy/34119/status' target='_blank'>/user/victoria@kartoza.com/proxy/34119/status</a></li>\n",
       "</ul>\n",
       "</td>\n",
       "<td style=\"vertical-align: top; border: 0px solid white\">\n",
       "<h3 style=\"text-align: left;\">Cluster</h3>\n",
       "<ul style=\"text-align: left; list-style:none; margin: 0; padding: 0;\">\n",
       "  <li><b>Workers: </b>1</li>\n",
       "  <li><b>Cores: </b>4</li>\n",
       "  <li><b>Memory: </b>29.14 GB</li>\n",
       "</ul>\n",
       "</td>\n",
       "</tr>\n",
       "</table>"
      ],
      "text/plain": [
       "<Client: 'tcp://127.0.0.1:34913' processes=1 threads=4, memory=29.14 GB>"
      ]
     },
     "metadata": {},
     "output_type": "display_data"
    }
   ],
   "source": [
    "create_local_dask_cluster(spare_mem='2Gb')"
   ]
  },
  {
   "cell_type": "markdown",
   "metadata": {},
   "source": [
    "### Analysis parameters\n",
    "\n",
    "The following cell sets important parameters for the analysis:\n",
    "\n",
    "* `veg_proxy`: Band index to use as a proxy for vegetation health e.g. `'NDVI'` or `'EVI'`\n",
    "* `product`: The satellite product to load. Either Sentinel-2: `'s2_l2a'`, or Landsat-8: `'ls8_cl2'`\n",
    "* `shapefile`: The path to the vector file delineating the analysis region. Can be a shapefile or a geojson\n",
    "* `time_range`: The year range to analyse (e.g. `('2017-01-01', '2019-12-30')`).\n",
    "* `min_gooddata`: the fraction of good data (not cloudy) a scene must have before it is returned as a dataset \n",
    "* `resolution`: The pixel resolution, in metres, of the returned dataset\n",
    "* `dask_chunks`: The size, in number of pixel, for the dask chunks on each dimension."
   ]
  },
  {
   "cell_type": "code",
   "execution_count": 3,
   "metadata": {},
   "outputs": [],
   "source": [
    "veg_proxy = 'NDVI'\n",
    "\n",
    "product = 's2_l2a'\n",
    "\n",
    "shapefile='data/Ruko_conservancy.geojson'\n",
    "\n",
    "time_range = ('2017-01-01', '2020-12-31')\n",
    "\n",
    "resolution = (-20,20)\n",
    "\n",
    "dask_chunks = {'x':500, 'y':500}\n"
   ]
  },
  {
   "cell_type": "markdown",
   "metadata": {},
   "source": [
    "### Connect to the datacube\n",
    "\n",
    "Connect to the datacube so we can access DE Africa data.\n",
    "The `app` parameter is a unique name for the analysis which is based on the notebook file name."
   ]
  },
  {
   "cell_type": "code",
   "execution_count": 4,
   "metadata": {},
   "outputs": [],
   "source": [
    "dc = datacube.Datacube(app='Vegetation_phenology')"
   ]
  },
  {
   "cell_type": "markdown",
   "metadata": {},
   "source": [
    "## View the region of interest\n",
    "The next cell will display the selected area on an web map."
   ]
  },
  {
   "cell_type": "code",
   "execution_count": 5,
   "metadata": {},
   "outputs": [],
   "source": [
    "#First open the shapefile using geopandas\n",
    "gdf = gpd.read_file(shapefile)"
   ]
  },
  {
   "cell_type": "code",
   "execution_count": 6,
   "metadata": {},
   "outputs": [
    {
     "data": {
      "application/vnd.jupyter.widget-view+json": {
       "model_id": "3ae6c856c50b43bbac92d19c03e93480",
       "version_major": 2,
       "version_minor": 0
      },
      "text/plain": [
       "Label(value='')"
      ]
     },
     "metadata": {},
     "output_type": "display_data"
    },
    {
     "data": {
      "application/vnd.jupyter.widget-view+json": {
       "model_id": "c0a58899f02e4440ac8ea51b5a041374",
       "version_major": 2,
       "version_minor": 0
      },
      "text/plain": [
       "Map(center=[0.6480841040610879, 36.12258148195494], controls=(ZoomControl(options=['position', 'zoom_in_text',…"
      ]
     },
     "metadata": {},
     "output_type": "display_data"
    }
   ],
   "source": [
    "map_shapefile(gdf, attribute='ConsrvName')"
   ]
  },
  {
   "cell_type": "markdown",
   "metadata": {},
   "source": [
    "## Load cloud-masked Sentinel-2 data"
   ]
  },
  {
   "cell_type": "markdown",
   "metadata": {},
   "source": [
    "The first step is to load Sentinel-2 data for the specified area of interest and time range. \n",
    "The `load_ard` function is used here to load data that has been masked for cloud, shadow and quality filters, making it ready for analysis.\n",
    "\n",
    "The cell directly below will create a query object using the first geometry in the shapefile, along with the parameters we defined in the Analysis Parameters section above."
   ]
  },
  {
   "cell_type": "code",
   "execution_count": 7,
   "metadata": {},
   "outputs": [],
   "source": [
    "# Create a reusable query\n",
    "geom = geometry.Geometry(geom=gdf.iloc[0].geometry, crs=gdf.crs)\n",
    "\n",
    "query = {\n",
    "    \"geopolygon\": geom,\n",
    "    'time': time_range,\n",
    "    'measurements': ['red','nir','green','swir_1'],\n",
    "    'resolution': resolution,\n",
    "    'output_crs': 'epsg:6933',\n",
    "    'group_by':'solar_day'\n",
    "}\n"
   ]
  },
  {
   "cell_type": "markdown",
   "metadata": {},
   "source": [
    "Load available data from S2. The cloud masking data for Sentinel-2 is less than perfect, and missed cloud in the data greatly impacts vegetation calculations. load_ard supports morphological operations on the cloud-masking bands to improve the masking of poor quality data."
   ]
  },
  {
   "cell_type": "code",
   "execution_count": 8,
   "metadata": {},
   "outputs": [
    {
     "name": "stdout",
     "output_type": "stream",
     "text": [
      "Using pixel quality parameters for Sentinel 2\n",
      "Finding datasets\n",
      "    s2_l2a\n",
      "Applying morphological filters to pq mask [('opening', 3), ('dilation', 2)]\n",
      "Applying pixel quality/cloud mask\n",
      "Returning 267 time steps as a dask array\n",
      "<xarray.Dataset>\n",
      "Dimensions:      (time: 267, y: 1194, x: 607)\n",
      "Coordinates:\n",
      "  * time         (time) datetime64[ns] 2017-01-02T08:07:11 ... 2020-12-27T08:...\n",
      "  * y            (y) float64 9.461e+04 9.459e+04 ... 7.077e+04 7.075e+04\n",
      "  * x            (x) float64 3.479e+06 3.479e+06 ... 3.491e+06 3.491e+06\n",
      "    spatial_ref  int32 6933\n",
      "Data variables:\n",
      "    red          (time, y, x) float32 dask.array<chunksize=(1, 500, 500), meta=np.ndarray>\n",
      "    nir          (time, y, x) float32 dask.array<chunksize=(1, 500, 500), meta=np.ndarray>\n",
      "    green        (time, y, x) float32 dask.array<chunksize=(1, 500, 500), meta=np.ndarray>\n",
      "    swir_1       (time, y, x) float32 dask.array<chunksize=(1, 500, 500), meta=np.ndarray>\n",
      "Attributes:\n",
      "    crs:           EPSG:6933\n",
      "    grid_mapping:  spatial_ref\n"
     ]
    }
   ],
   "source": [
    "filters=[(\"opening\", 3), (\"dilation\", 2)]\n",
    "\n",
    "ds = load_ard(\n",
    "    dc=dc,\n",
    "    products=['s2_l2a'],\n",
    "    dask_chunks=dask_chunks,\n",
    "    mask_filters=filters,\n",
    "    **query,\n",
    ")\n",
    "\n",
    "print(ds)"
   ]
  },
  {
   "cell_type": "markdown",
   "metadata": {},
   "source": [
    "## Mask the satellite data with shape"
   ]
  },
  {
   "cell_type": "code",
   "execution_count": 9,
   "metadata": {},
   "outputs": [],
   "source": [
    "#create mask\n",
    "mask = xr_rasterize(gdf,ds)\n",
    "\n",
    "#mask data\n",
    "ds = ds.where(mask)\n",
    "\n",
    "#convert to float 32 to conserve memory\n",
    "ds=ds.astype(np.float32)"
   ]
  },
  {
   "cell_type": "markdown",
   "metadata": {},
   "source": [
    "## Calculate vegetation and water indices"
   ]
  },
  {
   "cell_type": "code",
   "execution_count": 10,
   "metadata": {},
   "outputs": [
    {
     "name": "stdout",
     "output_type": "stream",
     "text": [
      "Dropping bands ['red', 'nir', 'green', 'swir_1']\n"
     ]
    }
   ],
   "source": [
    "# Calculate the chosen vegetation proxy index and add it to the loaded data set\n",
    "ds = calculate_indices(ds, index=[veg_proxy, 'MNDWI'], satellite_mission='s2', drop=True)"
   ]
  },
  {
   "cell_type": "markdown",
   "metadata": {},
   "source": [
    "## Prepare data for analysis\n",
    "\n",
    "Remove any NaN or infinite values, mask water, remove any outliers in the vegetation index.  We then reduce the data to a 1D timeseries by calculating the mean across the x and y dimensions.  \n",
    "\n",
    "We will also 'compute' the data on the dask cluster to speed up calculations later on. This step will take 5-10mins to run since we are now computing everything that came before."
   ]
  },
  {
   "cell_type": "code",
   "execution_count": 11,
   "metadata": {},
   "outputs": [],
   "source": [
    "# remove any infinite values\n",
    "ds = ds.where(~np.isinf(ds))\n",
    "# mask water\n",
    "ds = ds.where(ds.MNDWI < 0)\n",
    "\n",
    "#remove outliers (if NDVI greater than 1.0, set to NaN, if less than 0 set to NaN) \n",
    "ds[veg_proxy] = xr.where(ds[veg_proxy]>1.0, np.nan, ds[veg_proxy])\n",
    "ds[veg_proxy] = xr.where(ds[veg_proxy]<0, np.nan, ds[veg_proxy])\n",
    "\n",
    "# create 1D line plots\n",
    "veg = ds[veg_proxy].mean(['x', 'y']).compute()"
   ]
  },
  {
   "cell_type": "markdown",
   "metadata": {},
   "source": [
    "## Smooth and interpolate time series\n",
    "\n",
    "Due to many factors (e.g. cloud obscuring the region, missed cloud cover in the SCL layer) the data will be gappy and noisy. Here, we will smooth and interpolate the data to ensure we working with a consistent time-series.\n",
    "\n",
    "To do this we take two steps:\n",
    "\n",
    "1. Resample the data to fortnightly time-steps using the fortnightly median\n",
    "2. Calculate a rolling mean with a window of 4 steps"
   ]
  },
  {
   "cell_type": "code",
   "execution_count": 12,
   "metadata": {},
   "outputs": [],
   "source": [
    "resample_period='2W'\n",
    "window=4\n",
    "\n",
    "veg_smooth=veg.resample(time=resample_period, label='left', loffset='1W').median().rolling(time=window, min_periods=1).mean()"
   ]
  },
  {
   "cell_type": "markdown",
   "metadata": {},
   "source": [
    "## Plot the entire time-series"
   ]
  },
  {
   "cell_type": "code",
   "execution_count": 13,
   "metadata": {},
   "outputs": [
    {
     "data": {
      "image/png": "[encoded data removed]",
      "text/plain": [
       "<Figure size 1500x500 with 1 Axes>"
      ]
     },
     "metadata": {},
     "output_type": "display_data"
    }
   ],
   "source": [
    "veg_smooth.plot.line('b-^', figsize=(15,5))\n",
    "_max=veg_smooth.max()\n",
    "_min=veg_smooth.min()\n",
    "plt.vlines(np.datetime64('2017-01-01'), ymin=_min, ymax=_max)\n",
    "plt.vlines(np.datetime64('2018-01-01'), ymin=_min, ymax=_max)\n",
    "plt.vlines(np.datetime64('2019-01-01'), ymin=_min, ymax=_max)\n",
    "plt.vlines(np.datetime64('2020-01-01'), ymin=_min, ymax=_max)\n",
    "plt.vlines(np.datetime64('2021-01-01'), ymin=_min, ymax=_max)\n",
    "plt.title(veg_proxy+' time-series, year start/ends marked with vertical lines')\n",
    "plt.ylabel(veg_proxy);"
   ]
  },
  {
   "cell_type": "markdown",
   "metadata": {},
   "source": [
    "## Compute basic phenology statistics\n",
    "\n",
    "Below we specify the statistics to calculate, and the method we'll use for determining the statistics. \n",
    "\n",
    "The statistics acronyms are as follows:\n",
    "* `SOS` - Day of year of Start of Season\n",
    "* `vSOS` - value at Start of Season\n",
    "* `POS` - Day of year of Peak of Season\n",
    "* `vPOS` - value at Peak of Season\n",
    "* `EOS` - Day of year of End of Season\n",
    "* `vEOS` - value at End of Season\n",
    "* `Trough` - minimum value across the dataset timeframe\n",
    "* `LOS` - Length of Season, measured in days\n",
    "* `AOS` - Amplitude of Season, the difference between `vPOS` and `Trough`\n",
    "* `ROG` - Rate of Greening, rate of change from start to peak of season\n",
    "* `ROS` - Rate of Senescing, rae of change from peak to end of season\n",
    "\n",
    "Options are 'first' & 'median' for `method_sos`, and 'last' & 'median' for `method_eos`.\n",
    "\n",
    "    method_sos : str \n",
    "            If 'first' then vSOS is estimated as the first positive \n",
    "            slope on the greening side of the curve. If 'median',\n",
    "            then vSOS is estimated as the median value of the postive\n",
    "            slopes on the greening side of the curve.\n",
    "\n",
    "    method_eos : str\n",
    "            If 'last' then vEOS is estimated as the last negative slope\n",
    "            on the senescing side of the curve. If 'median', then vEOS is\n",
    "            estimated as the 'median' value of the negative slopes on the\n",
    "            senescing side of the curve."
   ]
  },
  {
   "cell_type": "code",
   "execution_count": 14,
   "metadata": {},
   "outputs": [],
   "source": [
    "basic_pheno_stats = ['SOS','vSOS','POS','vPOS','EOS','vEOS','Trough','LOS','AOS','ROG','ROS']\n",
    "method_sos = 'first'\n",
    "method_eos = 'last'"
   ]
  },
  {
   "cell_type": "code",
   "execution_count": 15,
   "metadata": {},
   "outputs": [
    {
     "name": "stdout",
     "output_type": "stream",
     "text": [
      "2017\n",
      "2018\n",
      "2019\n",
      "2020\n"
     ]
    }
   ],
   "source": [
    "# find all the years to assist with plotting\n",
    "years=veg_smooth.groupby('time.year')\n",
    "\n",
    "# get list of years in ts to help with looping\n",
    "years_int=[y[0] for y in years]\n",
    "\n",
    "#store results in dict\n",
    "pheno_results = {}\n",
    "\n",
    "#loop through years and calculate phenology\n",
    "for year in years_int:\n",
    "    print(year)\n",
    "    #select year\n",
    "    da = dict(years)[year]\n",
    "    \n",
    "    #calculate stats\n",
    "    with HiddenPrints():\n",
    "        stats=ts.xr_phenology(\n",
    "                da,\n",
    "                method_sos=method_sos,\n",
    "                method_eos=method_eos,\n",
    "                stats=basic_pheno_stats,\n",
    "                    )\n",
    "    #add results to dict    \n",
    "    pheno_results[str(year)] = stats"
   ]
  },
  {
   "cell_type": "markdown",
   "metadata": {},
   "source": [
    "### Print the phenology statistics for each year, and write the results to disk as a .csv"
   ]
  },
  {
   "cell_type": "code",
   "execution_count": 16,
   "metadata": {},
   "outputs": [
    {
     "name": "stdout",
     "output_type": "stream",
     "text": [
      "Year: 2017\n",
      "   SOS:  113.0\n",
      "   vSOS:  0.2382\n",
      "   POS:  267.0\n",
      "   vPOS:  0.6469\n",
      "   EOS:  365.0\n",
      "   vEOS:  0.507\n",
      "   Trough:  0.2382\n",
      "   LOS:  252.0\n",
      "   AOS:  0.4088\n",
      "   ROG:  0.0027\n",
      "   ROS:  -0.0014\n",
      "Year: 2018\n",
      "   SOS:  70.0\n",
      "   vSOS:  0.3153\n",
      "   POS:  196.0\n",
      "   vPOS:  0.6674\n",
      "   EOS:  336.0\n",
      "   vEOS:  0.3451\n",
      "   Trough:  0.2874\n",
      "   LOS:  266.0\n",
      "   AOS:  0.3799\n",
      "   ROG:  0.0028\n",
      "   ROS:  -0.0023\n",
      "Year: 2019\n",
      "   SOS:  125.0\n",
      "   vSOS:  0.2674\n",
      "   POS:  209.0\n",
      "   vPOS:  0.6462\n",
      "   EOS:  307.0\n",
      "   vEOS:  0.4776\n",
      "   Trough:  0.2669\n",
      "   LOS:  182.0\n",
      "   AOS:  0.3793\n",
      "   ROG:  0.0045\n",
      "   ROS:  -0.0017\n",
      "Year: 2020\n",
      "   SOS:  110.0\n",
      "   vSOS:  0.4988\n",
      "   POS:  166.0\n",
      "   vPOS:  0.6915\n",
      "   EOS:  362.0\n",
      "   vEOS:  0.5226\n",
      "   Trough:  0.4988\n",
      "   LOS:  252.0\n",
      "   AOS:  0.1927\n",
      "   ROG:  0.0034\n",
      "   ROS:  -0.0009\n"
     ]
    }
   ],
   "source": [
    "for key,value in pheno_results.items():\n",
    "    print('Year: ' +key)\n",
    "    for b in value.data_vars:\n",
    "        print(\"   \"+b+\": \", round(float(value[b].values),4))\n",
    "\n",
    "    pheno_results[key].drop('spatial_ref').assign_coords({'index':[key]}).to_dataframe().to_csv('results/'+key+'_phenology.csv')"
   ]
  },
  {
   "cell_type": "markdown",
   "metadata": {},
   "source": [
    "## Annotate phenology on a plot\n",
    "\n",
    "This image will be saved to disk in the `results/` folder"
   ]
  },
  {
   "cell_type": "code",
   "execution_count": 17,
   "metadata": {},
   "outputs": [
    {
     "data": {
      "image/png": "[encoded data removed]",
      "text/plain": [
       "<Figure size 1500x700 with 1 Axes>"
      ]
     },
     "metadata": {},
     "output_type": "display_data"
    }
   ],
   "source": [
    "# find all the years to assist with plotting\n",
    "years=veg_smooth.groupby('time.year')\n",
    "\n",
    "fig, ax = plt.subplots()\n",
    "fig.set_size_inches(15,7)\n",
    "for year, y in zip(years, years_int):\n",
    "    #grab tall the values we need for plotting\n",
    "    eos = pheno_results[str(y)].EOS.values\n",
    "    sos = pheno_results[str(y)].SOS.values\n",
    "    pos = pheno_results[str(y)].POS.values\n",
    "\n",
    "    veos = pheno_results[str(y)].vEOS.values\n",
    "    vsos = pheno_results[str(y)].vSOS.values\n",
    "    vpos = pheno_results[str(y)].vPOS.values\n",
    "    \n",
    "    #create plot\n",
    "    #the groupby and mean below doesn't actually do anything, except allow\n",
    "    #the plots to be on the same x-axis. i.e. veg-data isn't modified, just time units\n",
    "    year[1].groupby('time.dayofyear').mean().plot(ax=ax, label=year[0])\n",
    "\n",
    "    #add start of season\n",
    "    ax.plot(sos, vsos, 'or')\n",
    "    ax.annotate('SOS',\n",
    "                xy=(sos, vsos),\n",
    "                xytext=(-15, 20),\n",
    "                textcoords='offset points',\n",
    "                arrowprops=dict(arrowstyle='-|>'))\n",
    "\n",
    "    #add end of season\n",
    "    ax.plot(eos, veos, 'or')\n",
    "    ax.annotate('EOS',\n",
    "                xy=(eos, veos),\n",
    "                xytext=(0, 20),\n",
    "                textcoords='offset points',\n",
    "                arrowprops=dict(arrowstyle='-|>'))\n",
    "\n",
    "    #add peak of season\n",
    "    ax.plot(pos, vpos, 'or')\n",
    "    ax.annotate('POS',\n",
    "                xy=(pos, vpos),\n",
    "                xytext=(-10, -25),\n",
    "                textcoords='offset points',\n",
    "                arrowprops=dict(arrowstyle='-|>'))\n",
    "\n",
    "ax.legend()\n",
    "plt.ylim(_min-0.025,_max.values+0.05)\n",
    "month_abbr=['Jan','Feb','Mar','Apr','May','Jun','Jul','Aug','Sep','Oct','Nov','Dec']\n",
    "new_m=[]\n",
    "for m in month_abbr:\n",
    "    new_m.append('       %s'%m) #Add spaces before the month name\n",
    "plt.xticks(np.linspace(0,365,12), new_m, horizontalalignment='left')\n",
    "plt.xlabel('Month')\n",
    "plt.ylabel(veg_proxy)\n",
    "plt.title('Yearly '+ veg_proxy)\n",
    "plt.savefig('results/yearly_phenology_plot.png');"
   ]
  },
  {
   "cell_type": "markdown",
   "metadata": {},
   "source": [
    "The basic phenology statistics are summarised in a more readable format below. We can compare the statistics at a high level. Further analysis should be conducted using the .csv exports in the `/results` folder."
   ]
  },
  {
   "cell_type": "code",
   "execution_count": 18,
   "metadata": {},
   "outputs": [
    {
     "name": "stdout",
     "output_type": "stream",
     "text": [
      "time          2017        2018        2019        2020\n",
      "SOS     113.000000   70.000000  125.000000  110.000000\n",
      "vSOS      0.238188    0.315340    0.267428    0.498817\n",
      "POS     267.000000  196.000000  209.000000  166.000000\n",
      "vPOS      0.646945    0.667361    0.646223    0.691529\n",
      "EOS     365.000000  336.000000  307.000000  362.000000\n",
      "vEOS      0.507020    0.345142    0.477616    0.522630\n",
      "Trough    0.238188    0.287414    0.266936    0.498817\n",
      "LOS     252.000000  266.000000  182.000000  252.000000\n",
      "AOS       0.408757    0.379947    0.379287    0.192712\n",
      "ROG       0.002654    0.002794    0.004509    0.003441\n",
      "ROS      -0.001428   -0.002302   -0.001720   -0.000862\n"
     ]
    }
   ],
   "source": [
    "print(xr.concat([pheno_results[str(year)] for year in years_int],\n",
    "                dim=pd.Index(years_int, name='time')).to_dataframe().drop(columns=['spatial_ref']).T.to_string())"
   ]
  },
  {
   "cell_type": "markdown",
   "metadata": {},
   "source": [
    "***\n",
    "\n",
    "## Additional information\n",
    "\n",
    "**License:** The code in this notebook is licensed under the [Apache License, Version 2.0](https://www.apache.org/licenses/LICENSE-2.0). \n",
    "Digital Earth Africa data is licensed under the [Creative Commons by Attribution 4.0](https://creativecommons.org/licenses/by/4.0/) license.\n",
    "\n",
    "**Contact:** If you need assistance, please post a question on the [Open Data Cube Slack channel](http://slack.opendatacube.org/) or on the [GIS Stack Exchange](https://gis.stackexchange.com/questions/ask?tags=open-data-cube) using the `open-data-cube` tag (you can view previously asked questions [here](https://gis.stackexchange.com/questions/tagged/open-data-cube)).\n",
    "If you would like to report an issue with this notebook, you can file one on [Github](https://github.com/digitalearthafrica/deafrica-sandbox-notebooks).\n",
    "\n",
    "**Compatible datacube version:** "
   ]
  },
  {
   "cell_type": "code",
   "execution_count": 19,
   "metadata": {},
   "outputs": [
    {
     "name": "stdout",
     "output_type": "stream",
     "text": [
      "1.8.8\n"
     ]
    }
   ],
   "source": [
    "print(datacube.__version__)"
   ]
  },
  {
   "cell_type": "markdown",
   "metadata": {},
   "source": [
    "**Last Tested:**"
   ]
  },
  {
   "cell_type": "code",
   "execution_count": 20,
   "metadata": {},
   "outputs": [
    {
     "data": {
      "text/plain": [
       "'2023-01-30'"
      ]
     },
     "execution_count": 20,
     "metadata": {},
     "output_type": "execute_result"
    }
   ],
   "source": [
    "from datetime import datetime\n",
    "datetime.today().strftime('%Y-%m-%d')"
   ]
  }
 ],
 "metadata": {
  "kernelspec": {
   "display_name": "Python 3 (ipykernel)",
   "language": "python",
   "name": "python3"
  },
  "language_info": {
   "codemirror_mode": {
    "name": "ipython",
    "version": 3
   },
   "file_extension": ".py",
   "mimetype": "text/x-python",
   "name": "python",
   "nbconvert_exporter": "python",
   "pygments_lexer": "ipython3",
   "version": "3.8.10"
  },
  "widgets": {
   "application/vnd.jupyter.widget-state+json": {
    "state": {
     "199d968dec3946e9a7694fe2e91a01f5": {
      "model_module": "@jupyter-widgets/base",
      "model_module_version": "1.2.0",
      "model_name": "LayoutModel",
      "state": {
       "height": "600px",
       "width": "800px"
      }
     },
     "3f1c2244db474901bfa4562b31b3c1ff": {
      "model_module": "jupyter-leaflet",
      "model_module_version": "^0.14.0",
      "model_name": "LeafletAttributionControlModel",
      "state": {
       "_model_module_version": "^0.14.0",
       "_view_module_version": "^0.14.0",
       "options": [
        "position",
        "prefix"
       ],
       "position": "bottomright",
       "prefix": "ipyleaflet"
      }
     },
     "572f47e13574450caa27e3396a1a56d8": {
      "model_module": "@jupyter-widgets/base",
      "model_module_version": "1.2.0",
      "model_name": "LayoutModel",
      "state": {}
     },
     "6a91484d40484a75a7a23a7247341312": {
      "model_module": "jupyter-leaflet",
      "model_module_version": "^0.14.0",
      "model_name": "LeafletMapStyleModel",
      "state": {
       "_model_module_version": "^0.14.0",
       "cursor": "move"
      }
     },
     "732355ccdc0a4d80b2f9b423a03f1f2b": {
      "model_module": "jupyter-leaflet",
      "model_module_version": "^0.14.0",
      "model_name": "LeafletMapStyleModel",
      "state": {
       "_model_module_version": "^0.14.0"
      }
     },
     "b3159a7cf1094d539c606ef54504a1fb": {
      "model_module": "jupyter-leaflet",
      "model_module_version": "^0.14.0",
      "model_name": "LeafletMapModel",
      "state": {
       "_model_module_version": "^0.14.0",
       "_view_module_version": "^0.14.0",
       "bottom": 261500,
       "center": [
        0.6480841040610879,
        36.12258148195494
       ],
       "controls": [
        "IPY_MODEL_d81f9751bbbd4380b3309e32f9b1e601",
        "IPY_MODEL_3f1c2244db474901bfa4562b31b3c1ff"
       ],
       "default_style": "IPY_MODEL_e0676b00cedc4ad3a59038a70e212c11",
       "dragging_style": "IPY_MODEL_6a91484d40484a75a7a23a7247341312",
       "east": 36.397018432617195,
       "fullscreen": false,
       "interpolation": "bilinear",
       "layers": [
        "IPY_MODEL_bc1aac6590d84af796d9885b6d596d38",
        "IPY_MODEL_c8a58204e8024aac8830a10888246226"
       ],
       "layout": "IPY_MODEL_199d968dec3946e9a7694fe2e91a01f5",
       "left": 314351,
       "modisdate": "yesterday",
       "north": 0.8541553715898037,
       "options": [
        "bounce_at_zoom_limits",
        "box_zoom",
        "center",
        "close_popup_on_click",
        "double_click_zoom",
        "dragging",
        "fullscreen",
        "inertia",
        "inertia_deceleration",
        "inertia_max_speed",
        "interpolation",
        "keyboard",
        "keyboard_pan_offset",
        "keyboard_zoom_offset",
        "max_zoom",
        "min_zoom",
        "scroll_wheel_zoom",
        "tap",
        "tap_tolerance",
        "touch_zoom",
        "world_copy_jump",
        "zoom",
        "zoom_animation_threshold",
        "zoom_delta",
        "zoom_snap",
        "zoom_start"
       ],
       "right": 315151,
       "south": 0.44219531715407406,
       "style": "IPY_MODEL_732355ccdc0a4d80b2f9b423a03f1f2b",
       "top": 260900,
       "west": 35.847702026367195,
       "window_url": "https://sandbox.digitalearth.africa/user/victoria@kartoza.com/lab/tree/dev/deafrica-sandbox-notebooks/Use_cases/Lake_baringo_grazing/Vegetation_phenology_1D.ipynb",
       "zoom": 11
      }
     },
     "b749c7ae7491400185863d0591bd17e8": {
      "model_module": "@jupyter-widgets/base",
      "model_module_version": "1.2.0",
      "model_name": "LayoutModel",
      "state": {}
     },
     "bc1aac6590d84af796d9885b6d596d38": {
      "model_module": "jupyter-leaflet",
      "model_module_version": "^0.14.0",
      "model_name": "LeafletTileLayerModel",
      "state": {
       "_model_module_version": "^0.14.0",
       "_view_module_version": "^0.14.0",
       "attribution": "Tiles &copy; Esri &mdash; Source: Esri, i-cubed, USDA, USGS, AEX, GeoEye, Getmapping, Aerogrid, IGN, IGP, UPR-EGP, and the GIS User Community",
       "base": true,
       "max_native_zoom": 18,
       "max_zoom": 20,
       "min_native_zoom": 0,
       "min_zoom": 1,
       "name": "Esri.WorldImagery",
       "options": [
        "attribution",
        "detect_retina",
        "max_native_zoom",
        "max_zoom",
        "min_native_zoom",
        "min_zoom",
        "no_wrap",
        "tile_size",
        "tms"
       ],
       "url": "http://server.arcgisonline.com/ArcGIS/rest/services/World_Imagery/MapServer/tile/{z}/{y}/{x}"
      }
     },
     "c8a58204e8024aac8830a10888246226": {
      "model_module": "jupyter-leaflet",
      "model_module_version": "^0.14.0",
      "model_name": "LeafletGeoJSONModel",
      "state": {
       "_model_module": "jupyter-leaflet",
       "_model_module_version": "^0.14.0",
       "_view_count": null,
       "_view_module": "jupyter-leaflet",
       "_view_module_version": "^0.14.0",
       "base": false,
       "bottom": false,
       "data": {
        "bbox": [
         36.05981826784687,
         0.5545575022697213,
         36.185344696063005,
         0.7416107058524545
        ],
        "features": [
         {
          "bbox": [
           36.05981826784687,
           0.5545575022697213,
           36.185344696063005,
           0.7416107058524545
          ],
          "geometry": {
           "coordinates": [
            [
             [
              36.12970352174931,
              0.5769311189651143
             ],
             [
              36.1293373108118,
              0.5769400000572122
             ],
             [
              36.12902832033331,
              0.5768133401870462
             ],
             [
              36.128833770772786,
              0.5766324996948101
             ],
             [
              36.12842178346811,
              0.5761804580688105
             ],
             [
              36.12820434572397,
              0.5759273171424922
             ],
             [
              36.12800979616345,
              0.57571029663084
             ],
             [
              36.12782669069472,
              0.5754572153091204
             ],
             [
              36.12752914430799,
              0.5750684738158969
             ],
             [
              36.120053989622996,
              0.5720168436286279
             ],
             [
              36.07728576662517,
              0.5545575022697213
             ],
             [
              36.0819702148671,
              0.5655299425124999
             ],
             [
              36.085830688499684,
              0.5827190279960259
             ],
             [
              36.08880996706398,
              0.5982993245124332
             ],
             [
              36.08880615236671,
              0.6057814359664744
             ],
             [
              36.087917327903845,
              0.62386274337764
             ],
             [
              36.08784103395855,
              0.6349865198134929
             ],
             [
              36.08682724668332,
              0.6448484525460875
             ],
             [
              36.08666144724831,
              0.6449361860510706
             ],
             [
              36.08680543911781,
              0.6450605827696024
             ],
             [
              36.0851554870837,
              0.6611090898513449
             ],
             [
              36.05981826784687,
              0.6623952388763159
             ],
             [
              36.059841252618,
              0.6625365667089815
             ],
             [
              36.06107021738127,
              0.6700933271226022
             ],
             [
              36.06591415407697,
              0.6998810172080454
             ],
             [
              36.06746292116673,
              0.7058187723159538
             ],
             [
              36.07001876833455,
              0.7144951820373251
             ],
             [
              36.07241439821722,
              0.7219696640967971
             ],
             [
              36.07316970827578,
              0.7243015170096783
             ],
             [
              36.073947906517915,
              0.7266153097152328
             ],
             [
              36.07538986208424,
              0.7301042675971788
             ],
             [
              36.07631796545931,
              0.732467945583966
             ],
             [
              36.077529907250124,
              0.7355545163154255
             ],
             [
              36.07931518557035,
              0.7397124171256582
             ],
             [
              36.07999038698632,
              0.7413665056228158
             ],
             [
              36.08028411867578,
              0.7416107058524545
             ],
             [
              36.082157135033064,
              0.7398136854171286
             ],
             [
              36.082557678245955,
              0.7379705309867489
             ],
             [
              36.082061767601445,
              0.7366599440574211
             ],
             [
              36.0822105407948,
              0.735358834266608
             ],
             [
              36.082481384300635,
              0.7338860630988727
             ],
             [
              36.082084655785025,
              0.7323858141898849
             ],
             [
              36.081726074242084,
              0.7310572266578301
             ],
             [
              36.08173751833388,
              0.7294306755065609
             ],
             [
              36.08193969728896,
              0.7281747460364875
             ],
             [
              36.08179092409559,
              0.7258342504500627
             ],
             [
              36.081481933617084,
              0.7244153618812273
             ],
             [
              36.081054687523356,
              0.7230777144431518
             ],
             [
              36.081153869652276,
              0.7214693427085332
             ],
             [
              36.08138275148819,
              0.719526648521377
             ],
             [
              36.08190536501355,
              0.7179275751113465
             ],
             [
              36.08241653444713,
              0.7167260646819641
             ],
             [
              36.08304939637101,
              0.7163041685204514
             ],
             [
              36.083499908470515,
              0.7160038352012545
             ],
             [
              36.084995269798554,
              0.7146493792533458
             ],
             [
              36.08620452883168,
              0.7139723896979845
             ],
             [
              36.08735656740583,
              0.7130604386329402
             ],
             [
              36.088703155540514,
              0.7120763659476699
             ],
             [
              36.09010314943693,
              0.7114356756209901
             ],
             [
              36.09090423586268,
              0.7103156447410354
             ],
             [
              36.09193038942706,
              0.7080481648445074
             ],
             [
              36.092620849632105,
              0.7054732441901728
             ],
             [
              36.092646175254856,
              0.7048253364192655
             ],
             [
              36.09267807009109,
              0.7040093541145211
             ],
             [
              36.09410095217108,
              0.7035674452781164
             ],
             [
              36.09526824953431,
              0.7044628262519522
             ],
             [
              36.096366882346736,
              0.7058099508285016
             ],
             [
              36.09734725954395,
              0.7070847153663437
             ],
             [
              36.0990066528544,
              0.7095345854758922
             ],
             [
              36.10032272341099,
              0.7108367085456421
             ],
             [
              36.10275268556905,
              0.7116425037383541
             ],
             [
              36.10422515871349,
              0.7111102342605193
             ],
             [
              36.10590362551028,
              0.7095299363135893
             ],
             [
              36.10643596883476,
              0.7089243101301671
             ],
             [
              36.10737228395749,
              0.7078590989112507
             ],
             [
              36.10839843752187,
              0.7070283889770195
             ],
             [
              36.10956192018782,
              0.7063423395156356
             ],
             [
              36.11109161379126,
              0.7064427137374651
             ],
             [
              36.11240237852906,
              0.7072985101336593
             ],
             [
              36.112407684347836,
              0.7073019742965047
             ],
             [
              36.113945007345805,
              0.7069776654243051
             ],
             [
              36.115898132345706,
              0.7065722346305656
             ],
             [
              36.117450714132715,
              0.7068442702292932
             ],
             [
              36.11923217775568,
              0.7071797251701152
             ],
             [
              36.12062454225756,
              0.7070902585983002
             ],
             [
              36.122634887716444,
              0.7064137458800911
             ],
             [
              36.12432098390776,
              0.7056828737258429
             ],
             [
              36.125560085707704,
              0.7052047089123997
             ],
             [
              36.12577056886861,
              0.70512348413463
             ],
             [
              36.127357482931046,
              0.7045551538466994
             ],
             [
              36.12863540651495,
              0.7044836282729914
             ],
             [
              36.12968444826295,
              0.7055687308311157
             ],
             [
              36.13095474245234,
              0.7064099311828383
             ],
             [
              36.131950378438624,
              0.7074587941169117
             ],
             [
              36.133674621602594,
              0.7088515162467663
             ],
             [
              36.13531112672947,
              0.7106869816779795
             ],
             [
              36.1369743347372,
              0.7082300186156745
             ],
             [
              36.13809585573323,
              0.7093784213065779
             ],
             [
              36.13875579836016,
              0.7105535864829386
             ],
             [
              36.13980865480539,
              0.7114850282668704
             ],
             [
              36.14098358156316,
              0.7133563756942563
             ],
             [
              36.14163589479557,
              0.7147665619849991
             ],
             [
              36.14241790773496,
              0.7158966660499408
             ],
             [
              36.143386840840385,
              0.7169635891913957
             ],
             [
              36.144199371357914,
              0.718093693256335
             ],
             [
              36.14465713502978,
              0.7195760607719026
             ],
             [
              36.14503479005905,
              0.7209408283233125
             ],
             [
              36.145927429219164,
              0.7222968935966056
             ],
             [
              36.146831512471074,
              0.7240415811538531
             ],
             [
              36.14778137209018,
              0.725849568843813
             ],
             [
              36.14814758302765,
              0.7275035381316928
             ],
             [
              36.148426055928034,
              0.7288683056831143
             ],
             [
              36.14910888673856,
              0.7303507924079468
             ],
             [
              36.14993286134788,
              0.731381535530068
             ],
             [
              36.151374816914206,
              0.7322590351104414
             ],
             [
              36.152881622334064,
              0.7327479720115384
             ],
             [
              36.15565490724603,
              0.7332558035850436
             ],
             [
              36.15718460084948,
              0.7343322038650096
             ],
             [
              36.158145904560364,
              0.7357877492904472
             ],
             [
              36.159679412861074,
              0.73746961355206
             ],
             [
              36.16099166872039,
              0.7383379936217903
             ],
             [
              36.16274642946249,
              0.7360798716544543
             ],
             [
              36.16377639772418,
              0.7351949214934884
             ],
             [
              36.1643791198921,
              0.7340204715728722
             ],
             [
              36.16396713258743,
              0.7322037816047244
             ],
             [
              36.163436889667544,
              0.7307665944099064
             ],
             [
              36.163539886493716,
              0.7293658852577098
             ],
             [
              36.16419982912063,
              0.7282547950744371
             ],
             [
              36.16535186769481,
              0.727622926235181
             ],
             [
              36.166667938251386,
              0.7271447777748044
             ],
             [
              36.167495727557956,
              0.7261602878570292
             ],
             [
              36.16862869264581,
              0.7246066331863004
             ],
             [
              36.16929626466725,
              0.7231069207191161
             ],
             [
              36.1805763244812,
              0.7220656871795399
             ],
             [
              36.180046081561294,
              0.7197970151900855
             ],
             [
              36.17975997926639,
              0.7182695865630628
             ],
             [
              36.17964553834843,
              0.7168145179748191
             ],
             [
              36.17873382570198,
              0.7158288955688206
             ],
             [
              36.177703857440335,
              0.7147438526153191
             ],
             [
              36.17752838136611,
              0.7131170630454834
             ],
             [
              36.17626190187398,
              0.7123391032218577
             ],
             [
              36.17492675783107,
              0.7117327451705453
             ],
             [
              36.17510604860255,
              0.7103411555289988
             ],
             [
              36.174472808856486,
              0.709093689918492
             ],
             [
              36.174064636249085,
              0.7075932621955592
             ],
             [
              36.17384338380768,
              0.7062466144561753
             ],
             [
              36.173740386981514,
              0.7049452066421105
             ],
             [
              36.17296218873937,
              0.7039145231246552
             ],
             [
              36.171501159686706,
              0.7035069465636808
             ],
             [
              36.16990280153248,
              0.7030993103980725
             ],
             [
              36.1698875427434,
              0.7017799019813289
             ],
             [
              36.168746948261045,
              0.7011737227439564
             ],
             [
              36.17219381723963,
              0.7010444509871969
             ],
             [
              36.18043809878251,
              0.7007352445534665
             ],
             [
              36.185344696063005,
              0.7005512118339375
             ],
             [
              36.18503570558452,
              0.6997376680374018
             ],
             [
              36.18469619752789,
              0.6992223262786441
             ],
             [
              36.183998107928325,
              0.6985802650451682
             ],
             [
              36.183135986346315,
              0.6972422599792091
             ],
             [
              36.18192672731316,
              0.6953347325324669
             ],
             [
              36.181110382098375,
              0.6935991048812564
             ],
             [
              36.17979812623904,
              0.6910859942436008
             ],
             [
              36.178913116473474,
              0.6896123886108115
             ],
             [
              36.1774749756044,
              0.6865751147269938
             ],
             [
              36.17691421510637,
              0.685309588909105
             ],
             [
              36.17470550538967,
              0.6814404129981609
             ],
             [
              36.17356109621005,
              0.6795419454574303
             ],
             [
              36.1730461120792,
              0.6772010326385093
             ],
             [
              36.173202514667096,
              0.6761618852615128
             ],
             [
              36.173450469989334,
              0.6751950383185946
             ],
             [
              36.173553466815505,
              0.6739118695258561
             ],
             [
              36.173313140887785,
              0.6712186932563615
             ],
             [
              36.17341995241122,
              0.6692034602164959
             ],
             [
              36.173419952411216,
              0.6680286526679796
             ],
             [
              36.173385620135825,
              0.6673418283462348
             ],
             [
              36.173301696795995,
              0.6663838624953821
             ],
             [
              36.172843933124135,
              0.6641514301299896
             ],
             [
              36.172557830829234,
              0.6628047227859325
             ],
             [
              36.17275238038977,
              0.6621270775794856
             ],
             [
              36.17290878297765,
              0.6610969305038271
             ],
             [
              36.17273712160071,
              0.6601750254630734
             ],
             [
              36.17269897462805,
              0.6595424413680931
             ],
             [
              36.17274856569251,
              0.6589008569717001
             ],
             [
              36.172840118426876,
              0.6585032343864172
             ],
             [
              36.17321014406163,
              0.656849682331076
             ],
             [
              36.1732387785883,
              0.656028903262812
             ],
             [
              36.173248291034284,
              0.6557562351226717
             ],
             [
              36.173278808612395,
              0.6547531485557185
             ],
             [
              36.173217773456145,
              0.6539036035537317
             ],
             [
              36.17300033571203,
              0.6530630588531517
             ],
             [
              36.17286682130773,
              0.652638256549818
             ],
             [
              36.1727142334171,
              0.6517977118491889
             ],
             [
              36.17268442651532,
              0.651525324200067
             ],
             [
              36.17263412477454,
              0.6510656476020614
             ],
             [
              36.17275619508701,
              0.6501981616019998
             ],
             [
              36.17286300661048,
              0.6493487358093242
             ],
             [
              36.173122406024525,
              0.6483909487724073
             ],
             [
              36.17332458497958,
              0.6477042436599344
             ],
             [
              36.173782348651436,
              0.6464573740958841
             ],
             [
              36.17352676393466,
              0.6447673439979227
             ],
             [
              36.17312622072178,
              0.6437007188797012
             ],
             [
              36.172786712665165,
              0.6428962349891271
             ],
             [
              36.1724052429386,
              0.6420013308524879
             ],
             [
              36.172439575214,
              0.6408898234367194
             ],
             [
              36.17313003541905,
              0.6381158232688562
             ],
             [
              36.173595428485434,
              0.6354230642318548
             ],
             [
              36.173892974872146,
              0.6336519718169782
             ],
             [
              36.174594879168986,
              0.6310858130454877
             ],
             [
              36.17583465578026,
              0.6282398104667368
             ],
             [
              36.17660903932513,
              0.6266316175460739
             ],
             [
              36.177504744902464,
              0.6247129123059254
             ],
             [
              36.17780685426649,
              0.624065756797775
             ],
             [
              36.17905807496957,
              0.6220240592956454
             ],
             [
              36.180290222186294,
              0.6201449632644707
             ],
             [
              36.181350708026095,
              0.6183742880821029
             ],
             [
              36.18201828004754,
              0.6171727180480591
             ],
             [
              36.18299865724478,
              0.6147693395614502
             ],
             [
              36.183704376238886,
              0.6121037602424273
             ],
             [
              36.18370056154162,
              0.6093203425407345
             ],
             [
              36.183456420916634,
              0.6056149601936293
             ],
             [
              36.18305206300648,
              0.603988051414476
             ],
             [
              36.182395935076826,
              0.6001469492911924
             ],
             [
              36.181892395037785,
              0.597299993038171
             ],
             [
              36.18155670167844,
              0.5942362546920509
             ],
             [
              36.18139266969602,
              0.5925733447074673
             ],
             [
              36.18094253541869,
              0.5895817875862033
             ],
             [
              36.179718017596485,
              0.5856862068176084
             ],
             [
              36.17892837526254,
              0.583534955978355
             ],
             [
              36.17812347413954,
              0.5805703997611885
             ],
             [
              36.17708206178606,
              0.5779491066932364
             ],
             [
              36.17554855348536,
              0.5748124718666016
             ],
             [
              36.17427444459868,
              0.5724079608917114
             ],
             [
              36.17190170289959,
              0.5671291351318029
             ],
             [
              36.17057546417274,
              0.5641433023090694
             ],
             [
              36.170448303241436,
              0.563857018947568
             ],
             [
              36.17045974733325,
              0.5625647306442029
             ],
             [
              36.17025375368091,
              0.5628538131713694
             ],
             [
              36.1700019836614,
              0.5632423162460064
             ],
             [
              36.169521331805946,
              0.5632330179214228
             ],
             [
              36.16909027101495,
              0.563232839107497
             ],
             [
              36.168758392352856,
              0.5631784200668166
             ],
             [
              36.16836929323178,
              0.5632414817809723
             ],
             [
              36.16801834108337,
              0.563358783721895
             ],
             [
              36.16786956789,
              0.5636840462684488
             ],
             [
              36.167800903339234,
              0.5639280080795013
             ],
             [
              36.167530059833375,
              0.5642170906066649
             ],
             [
              36.167106628436926,
              0.5642982125282154
             ],
             [
              36.16662597658147,
              0.5642979741096451
             ],
             [
              36.16589355470651,
              0.5648307800292637
             ],
             [
              36.16555023195262,
              0.5648577213287252
             ],
             [
              36.16516494752881,
              0.5650202035903673
             ],
             [
              36.16482162477491,
              0.5651465654373289
             ],
             [
              36.16420364381791,
              0.5651010870933475
             ],
             [
              36.16393173519754,
              0.5651009602759263
             ],
             [
              36.16369247438435,
              0.5651008486747496
             ],
             [
              36.16324615480429,
              0.5648747086524654
             ],
             [
              36.163241178102446,
              0.5648707761687503
             ],
             [
              36.16292572023399,
              0.5646215081214598
             ],
             [
              36.1626052856637,
              0.564332127571069
             ],
             [
              36.16242218019495,
              0.5641151666641167
             ],
             [
              36.16226577760706,
              0.5637897849082677
             ],
             [
              36.1618537903024,
              0.5635997653007258
             ],
             [
              36.16159820558562,
              0.5637352466582989
             ],
             [
              36.1615333557321,
              0.5642683506011618
             ],
             [
              36.16154790245983,
              0.56430635507825
             ],
             [
              36.161682128925456,
              0.5646570324897651
             ],
             [
              36.16196823122035,
              0.56533491611477
             ],
             [
              36.16177749635709,
              0.5655607581138643
             ],
             [
              36.16130828859344,
              0.565994322299948
             ],
             [
              36.160888671894234,
              0.5662471652030574
             ],
             [
              36.16054534914036,
              0.5663734674453836
             ],
             [
              36.16026633788073,
              0.5664127034055322
             ],
             [
              36.16025656756959,
              0.5664517849833719
             ],
             [
              36.15999658012481,
              0.5664517832869311
             ],
             [
              36.15991592409156,
              0.5664635300636246
             ],
             [
              36.159564971943134,
              0.5665718317031675
             ],
             [
              36.15927505495095,
              0.5666530132293797
             ],
             [
              36.158851623554504,
              0.5666708946227709
             ],
             [
              36.158546447773254,
              0.5667520761489807
             ],
             [
              36.15818023683577,
              0.566887438297252
             ],
             [
              36.157962799091656,
              0.5670138597488326
             ],
             [
              36.15784072877917,
              0.5675198435783426
             ],
             [
              36.158046722431486,
              0.5678272247314521
             ],
             [
              36.158206939716635,
              0.5681526064872597
             ],
             [
              36.15830993654279,
              0.5683785676955859
             ],
             [
              36.15843582155255,
              0.5688395500182932
             ],
             [
              36.15851593019513,
              0.5691739320754671
             ],
             [
              36.158573150654114,
              0.5694270133972217
             ],
             [
              36.158554077167786,
              0.5699330568313641
             ],
             [
              36.158332824726386,
              0.5701859593391458
             ],
             [
              36.15810394289046,
              0.5703575611114233
             ],
             [
              36.157863616962764,
              0.5704839825630293
             ],
             [
              36.15766143800767,
              0.5706555843353134
             ],
             [
              36.15750122072252,
              0.5712790489196671
             ],
             [
              36.157253265400264,
              0.571568071842159
             ],
             [
              36.15699005128896,
              0.5718480944633364
             ],
             [
              36.15673828126943,
              0.5720739364623484
             ],
             [
              36.15561294557615,
              0.5727691650390365
             ],
             [
              36.15517807008788,
              0.5730129480361772
             ],
             [
              36.154697418232445,
              0.5733019113540608
             ],
             [
              36.15434265138674,
              0.5736089944839124
             ],
             [
              36.15409088136722,
              0.5738167166709591
             ],
             [
              36.1537628174024,
              0.5740605592727305
             ],
             [
              36.15325927736336,
              0.5743675231933358
             ],
             [
              36.15295410158212,
              0.5745571851730027
             ],
             [
              36.15271377565439,
              0.5747558474540606
             ],
             [
              36.15223312379896,
              0.5750176906585607
             ],
             [
              36.15192794801772,
              0.575225353240939
             ],
             [
              36.15137863161151,
              0.5752702951431377
             ],
             [
              36.15084075929706,
              0.5750531554221825
             ],
             [
              36.15059280397481,
              0.5749536156654123
             ],
             [
              36.15047028410228,
              0.5747738469167378
             ],
             [
              36.15043258668967,
              0.5747185349464119
             ],
             [
              36.15023422243186,
              0.5743117928504724
             ],
             [
              36.14997100832054,
              0.5740224719047522
             ],
             [
              36.149654388447516,
              0.5739952325820825
             ],
             [
              36.149391174336195,
              0.5740764141082635
             ],
             [
              36.14913940431668,
              0.5741576552390689
             ],
             [
              36.14871597292023,
              0.5742116570472455
             ],
             [
              36.14804077150423,
              0.5745005011558364
             ],
             [
              36.147731781025726,
              0.5745183825492727
             ],
             [
              36.147510728060396,
              0.5747738369669246
             ],
             [
              36.147254943867566,
              0.5750694274902014
             ],
             [
              36.147266387959355,
              0.5754489302634768
             ],
             [
              36.14722442628944,
              0.5763977766036602
             ],
             [
              36.147350311299185,
              0.5768768191337387
             ],
             [
              36.1473274231156,
              0.5773467421531397
             ],
             [
              36.14730834962928,
              0.5778076052665451
             ],
             [
              36.14725875856482,
              0.5784582495689192
             ],
             [
              36.14722442628944,
              0.5787925720214865
             ],
             [
              36.14718246461951,
              0.5792805552482253
             ],
             [
              36.147148132344135,
              0.5797232985496447
             ],
             [
              36.14702224733437,
              0.5800215005874382
             ],
             [
              36.146842956562885,
              0.5804370641708073
             ],
             [
              36.146694183369526,
              0.5807713866233581
             ],
             [
              36.14658355714885,
              0.5813677310943256
             ],
             [
              36.14636230470744,
              0.5816568136215079
             ],
             [
              36.14607620241254,
              0.5818012356757982
             ],
             [
              36.14579391481489,
              0.5820089578628241
             ],
             [
              36.14541625978561,
              0.5822075605392301
             ],
             [
              36.14488220216845,
              0.5824603438377284
             ],
             [
              36.144676208516124,
              0.5826138854026524
             ],
             [
              36.1444244384966,
              0.5828938484191688
             ],
             [
              36.14419555666067,
              0.5830202698707249
             ],
             [
              36.14378738405327,
              0.5831104516982647
             ],
             [
              36.14320373537166,
              0.5830649733542909
             ],
             [
              36.14274978639708,
              0.5831370353698434
             ],
             [
              36.142475128193965,
              0.5832633972167589
             ],
             [
              36.142166137715456,
              0.5831005573272321
             ],
             [
              36.141719818135414,
              0.5828292369842204
             ],
             [
              36.141147613545584,
              0.5826572179794116
             ],
             [
              36.14075088502999,
              0.5824672579765158
             ],
             [
              36.14032745363352,
              0.5821598172187633
             ],
             [
              36.140098571797594,
              0.5818614363670271
             ],
             [
              36.13988113405346,
              0.5815269947051794
             ],
             [
              36.13971710207106,
              0.5812196731566999
             ],
             [
              36.139434814473404,
              0.5810387730598512
             ],
             [
              36.139183044453894,
              0.5809934735297821
             ],
             [
              36.13859939577228,
              0.5809028148650659
             ],
             [
              36.137821197530144,
              0.5807216763496128
             ],
             [
              36.13756179811608,
              0.5806130766868289
             ],
             [
              36.137092590352445,
              0.5804049968719017
             ],
             [
              36.13656616212982,
              0.5804860591888344
             ],
             [
              36.13607788087984,
              0.5805761814117357
             ],
             [
              36.13573455812595,
              0.5805398821830664
             ],
             [
              36.13535690309666,
              0.5804583430289836
             ],
             [
              36.13509368898534,
              0.5804582238196944
             ],
             [
              36.13484191896583,
              0.5805032849311654
             ],
             [
              36.134559631368184,
              0.5805844664573125
             ],
             [
              36.134033203145556,
              0.580475747585282
             ],
             [
              36.13367843629989,
              0.5803942084312276
             ],
             [
              36.133014678975684,
              0.5799149274825741
             ],
             [
              36.132652282735464,
              0.5797069072723133
             ],
             [
              36.13229751588979,
              0.5794627666473003
             ],
             [
              36.13189697267691,
              0.5793721675872611
             ],
             [
              36.13153076173944,
              0.5794532895087801
             ],
             [
              36.13107299806759,
              0.5790825486182889
             ],
             [
              36.13088989259885,
              0.5786125659942505
             ],
             [
              36.1307296753137,
              0.5783504247665296
             ],
             [
              36.13044357301879,
              0.5780791640281504
             ],
             [
              36.130226135274675,
              0.5778893232345068
             ],
             [
              36.13005447389772,
              0.577699422836264
             ],
             [
              36.129920959493425,
              0.5772113800048424
             ],
             [
              36.12970352174931,
              0.5769311189651143
             ]
            ]
           ],
           "type": "Polygon"
          },
          "id": "0",
          "properties": {
           "AreaHa": "17896.8679887869",
           "AreaKM2": "178.968679887869",
           "AreakmSq": 178.968679888,
           "CollectedB": null,
           "ConsrvName": "Ruko",
           "County": "Baringo",
           "EditDate": "1899-12-30",
           "EditedBy": null,
           "ImageDate": "1899-12-30",
           "ImageSourc": null,
           "LocationSo": null,
           "NRT_Region": null,
           "Notes": null,
           "OBJECTID": 0,
           "YearEstabl": null,
           "id": 0,
           "style": {
            "color": "black",
            "fillColor": "#440154ff",
            "weight": 0.9
           }
          },
          "type": "Feature"
         }
        ],
        "type": "FeatureCollection"
       },
       "name": "",
       "options": [],
       "popup": null,
       "popup_max_height": null,
       "popup_max_width": 300,
       "popup_min_width": 50,
       "style": {
        "fillOpacity": 0.8
       }
      }
     },
     "d7c92bbcc518450c883d3490150d0b56": {
      "model_module": "@jupyter-widgets/output",
      "model_module_version": "1.0.0",
      "model_name": "OutputModel",
      "state": {
       "layout": "IPY_MODEL_b749c7ae7491400185863d0591bd17e8"
      }
     },
     "d81f9751bbbd4380b3309e32f9b1e601": {
      "model_module": "jupyter-leaflet",
      "model_module_version": "^0.14.0",
      "model_name": "LeafletZoomControlModel",
      "state": {
       "_model_module_version": "^0.14.0",
       "_view_module_version": "^0.14.0",
       "options": [
        "position",
        "zoom_in_text",
        "zoom_in_title",
        "zoom_out_text",
        "zoom_out_title"
       ]
      }
     },
     "e0676b00cedc4ad3a59038a70e212c11": {
      "model_module": "jupyter-leaflet",
      "model_module_version": "^0.14.0",
      "model_name": "LeafletMapStyleModel",
      "state": {
       "_model_module_version": "^0.14.0"
      }
     },
     "f40b742331bb46ea8597eca55391c33e": {
      "model_module": "@jupyter-widgets/controls",
      "model_module_version": "1.5.0",
      "model_name": "DescriptionStyleModel",
      "state": {
       "description_width": ""
      }
     },
     "faee786274c44b92a4a19951270ff248": {
      "model_module": "@jupyter-widgets/controls",
      "model_module_version": "1.5.0",
      "model_name": "LabelModel",
      "state": {
       "layout": "IPY_MODEL_572f47e13574450caa27e3396a1a56d8",
       "style": "IPY_MODEL_f40b742331bb46ea8597eca55391c33e"
      }
     }
    },
    "version_major": 2,
    "version_minor": 0
   }
  }
 },
 "nbformat": 4,
 "nbformat_minor": 4
}
