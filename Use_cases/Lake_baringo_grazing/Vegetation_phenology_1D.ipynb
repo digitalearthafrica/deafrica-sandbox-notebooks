{
 "cells": [
  {
   "cell_type": "markdown",
   "metadata": {},
   "source": [
    "# Vegetation phenology in the Ruko Conservancy\n",
    "\n",
    "* **Products used:** \n",
    "[s2_l2a](https://explorer.digitalearth.africa/s2_l2a)\n"
   ]
  },
  {
   "cell_type": "markdown",
   "metadata": {},
   "source": [
    "## Background\n",
    "Phenology is the study of plant and animal life cycles in the context of the seasons.\n",
    "It can be useful in understanding the life cycle trends of crops and how the growing seasons are affected by changes in climate.\n",
    "For more information, see the [USGS page on deriving phenology](https://www.usgs.gov/land-resources/eros/phenology/science/deriving-phenological-metrics-ndvi?qt-science_center_objects=0#qt-science_center_objects)\n"
   ]
  },
  {
   "cell_type": "markdown",
   "metadata": {},
   "source": [
    "## Description\n",
    "\n",
    "This notebook will produce annual, smoothed, **one-dimensional (zonal mean across a region)** time-series of a remote sensing vegetation indice, such as NDVI or EVI.  In addition, basic phenology statistics are calculated, exported to disk as csv files, and annotated on a plot.\n",
    "\n",
    "A number of steps are required to produce the desired outputs:\n",
    "\n",
    "1. Load satellite data for a region specified by an vector file (shapefile or geojson)\n",
    "2. Buffer the cloud masking layer to better mask clouds in the data (Sentinel-2 cloud mask is quite poor)\n",
    "3. Further prepare the data for analysis by removing bad values (infs), masking surafce water, and removing outliers in the vegetation index.\n",
    "4. Calculate a zonal mean across the study region (collapse the x and y dimension by taking the mean across all pixels for each time-step).\n",
    "5. Interpolate and smooth the time-series to ensure a consistent dataset with all gaps and noise removed.\n",
    "6. Calculate phenology statistics, report the results, save the results to disk, and generate an annotated plot.\n",
    "\n",
    "***"
   ]
  },
  {
   "cell_type": "markdown",
   "metadata": {},
   "source": [
    "## Getting started\n",
    "\n",
    "To run this analysis, run all the cells in the notebook, starting with the \"Load packages\" cell. "
   ]
  },
  {
   "cell_type": "markdown",
   "metadata": {},
   "source": [
    "### Load packages\n",
    "Load key Python packages and supporting functions for the analysis."
   ]
  },
  {
   "cell_type": "code",
   "execution_count": 1,
   "metadata": {},
   "outputs": [
    {
     "name": "stderr",
     "output_type": "stream",
     "text": [
      "/env/lib/python3.8/site-packages/geopandas/_compat.py:106: UserWarning: The Shapely GEOS version (3.8.0-CAPI-1.13.1 ) is incompatible with the GEOS version PyGEOS was compiled with (3.9.1-CAPI-1.14.2). Conversions between both will be slow.\n",
      "  warnings.warn(\n",
      "/env/lib/python3.8/site-packages/datacube/storage/masking.py:7: DeprecationWarning: datacube.storage.masking has moved to datacube.utils.masking\n",
      "  warnings.warn(\"datacube.storage.masking has moved to datacube.utils.masking\",\n"
     ]
    }
   ],
   "source": [
    "%matplotlib inline\n",
    "\n",
    "import os\n",
    "import datacube\n",
    "import numpy as np\n",
    "import pandas as pd\n",
    "import xarray as xr\n",
    "import datetime as dt\n",
    "import geopandas as gpd\n",
    "import matplotlib.pyplot as plt\n",
    "from datacube.utils import geometry\n",
    "\n",
    "from deafrica_tools.datahandling import load_ard\n",
    "from deafrica_tools.bandindices import calculate_indices\n",
    "from deafrica_tools.plotting import map_shapefile\n",
    "import deafrica_tools.temporal as ts\n",
    "from deafrica_tools.dask import create_local_dask_cluster\n",
    "from deafrica_tools.spatial import xr_rasterize\n",
    "from deafrica_tools.classification import HiddenPrints\n",
    "\n",
    "from datacube.utils.aws import configure_s3_access\n",
    "configure_s3_access(aws_unsigned=True, cloud_defaults=True)\n"
   ]
  },
  {
   "cell_type": "markdown",
   "metadata": {},
   "source": [
    "## Set up a Dask cluster\n",
    "\n",
    "Dask can be used to better manage memory use down and conduct the analysis in parallel. For an introduction to using Dask with Digital Earth Africa, see the Dask notebook."
   ]
  },
  {
   "cell_type": "code",
   "execution_count": 2,
   "metadata": {},
   "outputs": [
    {
     "data": {
      "text/html": [
       "<table style=\"border: 2px solid white;\">\n",
       "<tr>\n",
       "<td style=\"vertical-align: top; border: 0px solid white\">\n",
       "<h3 style=\"text-align: left;\">Client</h3>\n",
       "<ul style=\"text-align: left; list-style: none; margin: 0; padding: 0;\">\n",
       "  <li><b>Scheduler: </b>tcp://127.0.0.1:37235</li>\n",
       "  <li><b>Dashboard: </b><a href='/user/chad/proxy/8787/status' target='_blank'>/user/chad/proxy/8787/status</a></li>\n",
       "</ul>\n",
       "</td>\n",
       "<td style=\"vertical-align: top; border: 0px solid white\">\n",
       "<h3 style=\"text-align: left;\">Cluster</h3>\n",
       "<ul style=\"text-align: left; list-style:none; margin: 0; padding: 0;\">\n",
       "  <li><b>Workers: </b>1</li>\n",
       "  <li><b>Cores: </b>3</li>\n",
       "  <li><b>Memory: </b>29.14 GB</li>\n",
       "</ul>\n",
       "</td>\n",
       "</tr>\n",
       "</table>"
      ],
      "text/plain": [
       "<Client: 'tcp://127.0.0.1:37235' processes=1 threads=3, memory=29.14 GB>"
      ]
     },
     "metadata": {},
     "output_type": "display_data"
    }
   ],
   "source": [
    "create_local_dask_cluster(spare_mem='2Gb')"
   ]
  },
  {
   "cell_type": "markdown",
   "metadata": {},
   "source": [
    "### Analysis parameters\n",
    "\n",
    "The following cell sets important parameters for the analysis:\n",
    "\n",
    "* `veg_proxy`: Band index to use as a proxy for vegetation health e.g. `'NDVI'` or `'EVI'`\n",
    "* `product`: The satellite product to load. Either Sentinel-2: `'s2_l2a'`, or Landsat-8: `'ls8_cl2'`\n",
    "* `shapefile`: The path to the vector file delineating the analysis region. Can be a shapefile or a geojson\n",
    "* `time_range`: The year range to analyse (e.g. `('2017-01-01', '2019-12-30')`).\n",
    "* `min_gooddata`: the fraction of good data (not cloudy) a scene must have before it is returned as a dataset \n",
    "* `resolution`: The pixel resolution, in metres, of the returned dataset\n",
    "* `dask_chunks`: The size, in number of pixel, for the dask chunks on each dimension."
   ]
  },
  {
   "cell_type": "code",
   "execution_count": 3,
   "metadata": {},
   "outputs": [],
   "source": [
    "veg_proxy = 'NDVI'\n",
    "\n",
    "product = 's2_l2a'\n",
    "\n",
    "shapefile='data/Ruko_conservancy.geojson'\n",
    "\n",
    "time_range = ('2017-01-01', '2020-12-31')\n",
    "\n",
    "resolution = (-20,20)\n",
    "\n",
    "dask_chunks = {'x':500, 'y':500}\n"
   ]
  },
  {
   "cell_type": "markdown",
   "metadata": {},
   "source": [
    "### Connect to the datacube\n",
    "\n",
    "Connect to the datacube so we can access DE Africa data.\n",
    "The `app` parameter is a unique name for the analysis which is based on the notebook file name."
   ]
  },
  {
   "cell_type": "code",
   "execution_count": 4,
   "metadata": {},
   "outputs": [],
   "source": [
    "dc = datacube.Datacube(app='Vegetation_phenology')"
   ]
  },
  {
   "cell_type": "markdown",
   "metadata": {},
   "source": [
    "## View the region of interest\n",
    "The next cell will display the selected area on an web map."
   ]
  },
  {
   "cell_type": "code",
   "execution_count": 5,
   "metadata": {},
   "outputs": [],
   "source": [
    "#First open the shapefile using geopandas\n",
    "gdf = gpd.read_file(shapefile)"
   ]
  },
  {
   "cell_type": "code",
   "execution_count": 6,
   "metadata": {},
   "outputs": [
    {
     "data": {
      "application/vnd.jupyter.widget-view+json": {
       "model_id": "54656bac9e054059982b61d9c0ef517e",
       "version_major": 2,
       "version_minor": 0
      },
      "text/plain": [
       "Label(value='')"
      ]
     },
     "metadata": {},
     "output_type": "display_data"
    },
    {
     "data": {
      "application/vnd.jupyter.widget-view+json": {
       "model_id": "491bf85949f44406b582f09993bd0efe",
       "version_major": 2,
       "version_minor": 0
      },
      "text/plain": [
       "Map(center=[0.648084104061088, 36.12258148195494], controls=(ZoomControl(options=['position', 'zoom_in_text', …"
      ]
     },
     "metadata": {},
     "output_type": "display_data"
    }
   ],
   "source": [
    "map_shapefile(gdf, attribute='ConsrvName')"
   ]
  },
  {
   "cell_type": "markdown",
   "metadata": {},
   "source": [
    "## Load cloud-masked Sentinel-2 data"
   ]
  },
  {
   "cell_type": "markdown",
   "metadata": {},
   "source": [
    "The first step is to load Sentinel-2 data for the specified area of interest and time range. \n",
    "The `load_ard` function is used here to load data that has been masked for cloud, shadow and quality filters, making it ready for analysis.\n",
    "\n",
    "The cell directly below will create a query object using the first geometry in the shapefile, along with the parameters we defined in the Analysis Parameters section above."
   ]
  },
  {
   "cell_type": "code",
   "execution_count": 7,
   "metadata": {},
   "outputs": [],
   "source": [
    "# Create a reusable query\n",
    "geom = geometry.Geometry(geom=gdf.iloc[0].geometry, crs=gdf.crs)\n",
    "\n",
    "query = {\n",
    "    \"geopolygon\": geom,\n",
    "    'time': time_range,\n",
    "    'measurements': ['red','nir','green','swir_1'],\n",
    "    'resolution': resolution,\n",
    "    'output_crs': 'epsg:6933',\n",
    "    'group_by':'solar_day'\n",
    "}\n"
   ]
  },
  {
   "cell_type": "markdown",
   "metadata": {},
   "source": [
    "Load available data from S2. The cloud masking data for Sentinel-2 is less than perfect, and missed cloud in the data greatly impacts vegetation calculations. load_ard supports morphological operations on the cloud-masking bands to improve the masking of poor quality data."
   ]
  },
  {
   "cell_type": "code",
   "execution_count": 8,
   "metadata": {},
   "outputs": [
    {
     "name": "stdout",
     "output_type": "stream",
     "text": [
      "Using pixel quality parameters for Sentinel 2\n",
      "Finding datasets\n",
      "    s2_l2a\n",
      "Applying morphological filters to pq mask [('opening', 3), ('dilation', 2)]\n",
      "Applying pixel quality/cloud mask\n",
      "Returning 267 time steps as a dask array\n",
      "<xarray.Dataset>\n",
      "Dimensions:      (time: 267, x: 607, y: 1194)\n",
      "Coordinates:\n",
      "  * time         (time) datetime64[ns] 2017-01-02T08:07:11 ... 2020-12-27T08:...\n",
      "  * y            (y) float64 9.461e+04 9.459e+04 ... 7.077e+04 7.075e+04\n",
      "  * x            (x) float64 3.479e+06 3.479e+06 ... 3.491e+06 3.491e+06\n",
      "    spatial_ref  int32 6933\n",
      "Data variables:\n",
      "    red          (time, y, x) float32 dask.array<chunksize=(1, 500, 500), meta=np.ndarray>\n",
      "    nir          (time, y, x) float32 dask.array<chunksize=(1, 500, 500), meta=np.ndarray>\n",
      "    green        (time, y, x) float32 dask.array<chunksize=(1, 500, 500), meta=np.ndarray>\n",
      "    swir_1       (time, y, x) float32 dask.array<chunksize=(1, 500, 500), meta=np.ndarray>\n",
      "Attributes:\n",
      "    crs:           epsg:6933\n",
      "    grid_mapping:  spatial_ref\n"
     ]
    }
   ],
   "source": [
    "filters=[(\"opening\", 3), (\"dilation\", 2)]\n",
    "\n",
    "ds = load_ard(\n",
    "    dc=dc,\n",
    "    products=['s2_l2a'],\n",
    "    dask_chunks=dask_chunks,\n",
    "    mask_filters=filters,\n",
    "    **query,\n",
    ")\n",
    "\n",
    "print(ds)"
   ]
  },
  {
   "cell_type": "markdown",
   "metadata": {},
   "source": [
    "## Mask the satellite data with shape"
   ]
  },
  {
   "cell_type": "code",
   "execution_count": 9,
   "metadata": {},
   "outputs": [],
   "source": [
    "#create mask\n",
    "mask = xr_rasterize(gdf,ds)\n",
    "\n",
    "#mask data\n",
    "ds = ds.where(mask)\n",
    "\n",
    "#convert to float 32 to conserve memory\n",
    "ds=ds.astype(np.float32)"
   ]
  },
  {
   "cell_type": "markdown",
   "metadata": {},
   "source": [
    "## Calculate vegetation and water indices"
   ]
  },
  {
   "cell_type": "code",
   "execution_count": 10,
   "metadata": {},
   "outputs": [
    {
     "name": "stdout",
     "output_type": "stream",
     "text": [
      "Dropping bands ['red', 'nir', 'green', 'swir_1']\n"
     ]
    }
   ],
   "source": [
    "# Calculate the chosen vegetation proxy index and add it to the loaded data set\n",
    "ds = calculate_indices(ds, index=[veg_proxy, 'MNDWI'], collection='s2', drop=True)"
   ]
  },
  {
   "cell_type": "markdown",
   "metadata": {},
   "source": [
    "## Prepare data for analysis\n",
    "\n",
    "Remove any NaN or infinite values, mask water, remove any outliers in the vegetation index.  We then reduce the data to a 1D timeseries by calculating the mean across the x and y dimensions.  \n",
    "\n",
    "We will also 'compute' the data on the dask cluster to speed up calculations later on. This step will take 5-10mins to run since we are now computing everything that came before."
   ]
  },
  {
   "cell_type": "code",
   "execution_count": 11,
   "metadata": {},
   "outputs": [],
   "source": [
    "# remove any infinite values\n",
    "ds = ds.where(xr.ufuncs.isfinite(ds))\n",
    "\n",
    "# mask water\n",
    "ds = ds.where(ds.MNDWI < 0)\n",
    "\n",
    "#remove outliers (if NDVI greater than 1.0, set to NaN, if less than 0 set to NaN) \n",
    "ds[veg_proxy] = xr.where(ds[veg_proxy]>1.0, np.nan, ds[veg_proxy])\n",
    "ds[veg_proxy] = xr.where(ds[veg_proxy]<0, np.nan, ds[veg_proxy])\n",
    "\n",
    "# create 1D line plots\n",
    "veg = ds[veg_proxy].mean(['x', 'y']).compute()"
   ]
  },
  {
   "cell_type": "markdown",
   "metadata": {},
   "source": [
    "## Smooth and interpolate time series\n",
    "\n",
    "Due to many factors (e.g. cloud obscuring the region, missed cloud cover in the SCL layer) the data will be gappy and noisy. Here, we will smooth and interpolate the data to ensure we working with a consistent time-series.\n",
    "\n",
    "To do this we take two steps:\n",
    "\n",
    "1. Resample the data to fortnightly time-steps using the fortnightly median\n",
    "2. Calculate a rolling mean with a window of 4 steps"
   ]
  },
  {
   "cell_type": "code",
   "execution_count": 12,
   "metadata": {},
   "outputs": [],
   "source": [
    "resample_period='2W'\n",
    "window=4\n",
    "\n",
    "veg_smooth=veg.resample(time=resample_period, label='left', loffset='1W').median().rolling(time=window, min_periods=1).mean()"
   ]
  },
  {
   "cell_type": "markdown",
   "metadata": {},
   "source": [
    "## Plot the entire time-series"
   ]
  },
  {
   "cell_type": "code",
   "execution_count": 13,
   "metadata": {},
   "outputs": [
    {
     "data": {
      "image/png": "[encoded data removed]",
      "text/plain": [
       "<Figure size 1080x360 with 1 Axes>"
      ]
     },
     "metadata": {
      "needs_background": "light"
     },
     "output_type": "display_data"
    }
   ],
   "source": [
    "veg_smooth.plot.line('b-^', figsize=(15,5))\n",
    "_max=veg_smooth.max()\n",
    "_min=veg_smooth.min()\n",
    "plt.vlines(np.datetime64('2017-01-01'), ymin=_min, ymax=_max)\n",
    "plt.vlines(np.datetime64('2018-01-01'), ymin=_min, ymax=_max)\n",
    "plt.vlines(np.datetime64('2019-01-01'), ymin=_min, ymax=_max)\n",
    "plt.vlines(np.datetime64('2020-01-01'), ymin=_min, ymax=_max)\n",
    "plt.vlines(np.datetime64('2021-01-01'), ymin=_min, ymax=_max)\n",
    "plt.title(veg_proxy+' time-series, year start/ends marked with vertical lines')\n",
    "plt.ylabel(veg_proxy);"
   ]
  },
  {
   "cell_type": "markdown",
   "metadata": {},
   "source": [
    "## Compute basic phenology statistics\n",
    "\n",
    "Below we specify the statistics to calculate, and the method we'll use for determining the statistics. \n",
    "\n",
    "The statistics acronyms are as follows:\n",
    "* `SOS` - Day of year of Start of Season\n",
    "* `vSOS` - value at Start of Season\n",
    "* `POS` - Day of year of Peak of Season\n",
    "* `vPOS` - value at Peak of Season\n",
    "* `EOS` - Day of year of End of Season\n",
    "* `vEOS` - value at End of Season\n",
    "* `Trough` - minimum value across the dataset timeframe\n",
    "* `LOS` - Length of Season, measured in days\n",
    "* `AOS` - Amplitude of Season, the difference between `vPOS` and `Trough`\n",
    "* `ROG` - Rate of Greening, rate of change from start to peak of season\n",
    "* `ROS` - Rate of Senescing, rae of change from peak to end of season\n",
    "\n",
    "Options are 'first' & 'median' for `method_sos`, and 'last' & 'median' for `method_eos`.\n",
    "\n",
    "    method_sos : str \n",
    "            If 'first' then vSOS is estimated as the first positive \n",
    "            slope on the greening side of the curve. If 'median',\n",
    "            then vSOS is estimated as the median value of the postive\n",
    "            slopes on the greening side of the curve.\n",
    "\n",
    "    method_eos : str\n",
    "            If 'last' then vEOS is estimated as the last negative slope\n",
    "            on the senescing side of the curve. If 'median', then vEOS is\n",
    "            estimated as the 'median' value of the negative slopes on the\n",
    "            senescing side of the curve."
   ]
  },
  {
   "cell_type": "code",
   "execution_count": 14,
   "metadata": {},
   "outputs": [],
   "source": [
    "basic_pheno_stats = ['SOS','vSOS','POS','vPOS','EOS','vEOS','Trough','LOS','AOS','ROG','ROS']\n",
    "method_sos = 'first'\n",
    "method_eos = 'last'"
   ]
  },
  {
   "cell_type": "code",
   "execution_count": 15,
   "metadata": {},
   "outputs": [
    {
     "name": "stdout",
     "output_type": "stream",
     "text": [
      "2017\n",
      "2018\n",
      "2019\n",
      "2020\n"
     ]
    }
   ],
   "source": [
    "# find all the years to assist with plotting\n",
    "years=veg_smooth.groupby('time.year')\n",
    "\n",
    "# get list of years in ts to help with looping\n",
    "years_int=[y[0] for y in years]\n",
    "\n",
    "#store results in dict\n",
    "pheno_results = {}\n",
    "\n",
    "#loop through years and calculate phenology\n",
    "for year in years_int:\n",
    "    print(year)\n",
    "    #select year\n",
    "    da = dict(years)[year]\n",
    "    \n",
    "    #calculate stats\n",
    "    with HiddenPrints():\n",
    "        stats=ts.xr_phenology(\n",
    "                da,\n",
    "                method_sos=method_sos,\n",
    "                method_eos=method_eos,\n",
    "                stats=basic_pheno_stats,\n",
    "                complete=None,\n",
    "                smoothing=None,\n",
    "                    )\n",
    "    #add results to dict    \n",
    "    pheno_results[str(year)] = stats"
   ]
  },
  {
   "cell_type": "markdown",
   "metadata": {},
   "source": [
    "### Print the phenology statistics for each year, and write the results to disk as a .csv"
   ]
  },
  {
   "cell_type": "code",
   "execution_count": 16,
   "metadata": {},
   "outputs": [
    {
     "name": "stdout",
     "output_type": "stream",
     "text": [
      "Year: 2017\n",
      "   SOS:  113.0\n",
      "   vSOS:  0.2382\n",
      "   POS:  267.0\n",
      "   vPOS:  0.6469\n",
      "   EOS:  365.0\n",
      "   vEOS:  0.507\n",
      "   Trough:  0.2382\n",
      "   LOS:  252.0\n",
      "   AOS:  0.4088\n",
      "   ROG:  0.0027\n",
      "   ROS:  -0.0014\n",
      "Year: 2018\n",
      "   SOS:  56.0\n",
      "   vSOS:  0.2874\n",
      "   POS:  196.0\n",
      "   vPOS:  0.6674\n",
      "   EOS:  336.0\n",
      "   vEOS:  0.3451\n",
      "   Trough:  0.2874\n",
      "   LOS:  280.0\n",
      "   AOS:  0.3799\n",
      "   ROG:  0.0027\n",
      "   ROS:  -0.0023\n",
      "Year: 2019\n",
      "   SOS:  111.0\n",
      "   vSOS:  0.2669\n",
      "   POS:  209.0\n",
      "   vPOS:  0.6462\n",
      "   EOS:  307.0\n",
      "   vEOS:  0.4776\n",
      "   Trough:  0.2669\n",
      "   LOS:  196.0\n",
      "   AOS:  0.3793\n",
      "   ROG:  0.0039\n",
      "   ROS:  -0.0017\n",
      "Year: 2020\n",
      "   SOS:  110.0\n",
      "   vSOS:  0.4988\n",
      "   POS:  166.0\n",
      "   vPOS:  0.6915\n",
      "   EOS:  362.0\n",
      "   vEOS:  0.5226\n",
      "   Trough:  0.4988\n",
      "   LOS:  252.0\n",
      "   AOS:  0.1927\n",
      "   ROG:  0.0034\n",
      "   ROS:  -0.0009\n"
     ]
    }
   ],
   "source": [
    "for key,value in pheno_results.items():\n",
    "    print('Year: ' +key)\n",
    "    for b in value.data_vars:\n",
    "        print(\"   \"+b+\": \", round(float(value[b].values),4))\n",
    "\n",
    "    pheno_results[key].drop('spatial_ref').assign_coords({'index':[key]}).to_dataframe().to_csv('results/'+key+'_phenology.csv')"
   ]
  },
  {
   "cell_type": "markdown",
   "metadata": {},
   "source": [
    "## Annotate phenology on a plot\n",
    "\n",
    "This image will be saved to disk in the `results/` folder"
   ]
  },
  {
   "cell_type": "code",
   "execution_count": 17,
   "metadata": {},
   "outputs": [
    {
     "data": {
      "image/png": "[encoded data removed]",
      "text/plain": [
       "<Figure size 1080x504 with 1 Axes>"
      ]
     },
     "metadata": {
      "needs_background": "light"
     },
     "output_type": "display_data"
    }
   ],
   "source": [
    "# find all the years to assist with plotting\n",
    "years=veg_smooth.groupby('time.year')\n",
    "\n",
    "fig, ax = plt.subplots()\n",
    "fig.set_size_inches(15,7)\n",
    "for year, y in zip(years, years_int):\n",
    "    #grab tall the values we need for plotting\n",
    "    eos = pheno_results[str(y)].EOS.values\n",
    "    sos = pheno_results[str(y)].SOS.values\n",
    "    pos = pheno_results[str(y)].POS.values\n",
    "\n",
    "    veos = pheno_results[str(y)].vEOS.values\n",
    "    vsos = pheno_results[str(y)].vSOS.values\n",
    "    vpos = pheno_results[str(y)].vPOS.values\n",
    "    \n",
    "    #create plot\n",
    "    #the groupby and mean below doesn't actually do anything, except allow\n",
    "    #the plots to be on the same x-axis. i.e. veg-data isn't modified, just time units\n",
    "    year[1].groupby('time.dayofyear').mean().plot(ax=ax, label=year[0])\n",
    "\n",
    "    #add start of season\n",
    "    ax.plot(sos, vsos, 'or')\n",
    "    ax.annotate('SOS',\n",
    "                xy=(sos, vsos),\n",
    "                xytext=(-15, 20),\n",
    "                textcoords='offset points',\n",
    "                arrowprops=dict(arrowstyle='-|>'))\n",
    "\n",
    "    #add end of season\n",
    "    ax.plot(eos, veos, 'or')\n",
    "    ax.annotate('EOS',\n",
    "                xy=(eos, veos),\n",
    "                xytext=(0, 20),\n",
    "                textcoords='offset points',\n",
    "                arrowprops=dict(arrowstyle='-|>'))\n",
    "\n",
    "    #add peak of season\n",
    "    ax.plot(pos, vpos, 'or')\n",
    "    ax.annotate('POS',\n",
    "                xy=(pos, vpos),\n",
    "                xytext=(-10, -25),\n",
    "                textcoords='offset points',\n",
    "                arrowprops=dict(arrowstyle='-|>'))\n",
    "\n",
    "ax.legend()\n",
    "plt.ylim(_min-0.025,_max.values+0.05)\n",
    "month_abbr=['Jan','Feb','Mar','Apr','May','Jun','Jul','Aug','Sep','Oct','Nov','Dec']\n",
    "new_m=[]\n",
    "for m in month_abbr:\n",
    "    new_m.append('       %s'%m) #Add spaces before the month name\n",
    "plt.xticks(np.linspace(0,365,12), new_m, horizontalalignment='left')\n",
    "plt.xlabel('Month')\n",
    "plt.ylabel(veg_proxy)\n",
    "plt.title('Yearly '+ veg_proxy)\n",
    "plt.savefig('results/yearly_phenology_plot.png');"
   ]
  },
  {
   "cell_type": "markdown",
   "metadata": {},
   "source": [
    "The basic phenology statistics are summarised in a more readable format below. We can compare the statistics at a high level. Further analysis should be conducted using the .csv exports in the `/results` folder."
   ]
  },
  {
   "cell_type": "code",
   "execution_count": 18,
   "metadata": {},
   "outputs": [
    {
     "name": "stdout",
     "output_type": "stream",
     "text": [
      "time          2017        2018        2019        2020\n",
      "SOS     113.000000   56.000000  111.000000  110.000000\n",
      "vSOS      0.238188    0.287414    0.266936    0.498817\n",
      "POS     267.000000  196.000000  209.000000  166.000000\n",
      "vPOS      0.646945    0.667361    0.646223    0.691529\n",
      "EOS     365.000000  336.000000  307.000000  362.000000\n",
      "vEOS      0.507020    0.345142    0.477616    0.522630\n",
      "Trough    0.238188    0.287414    0.266936    0.498817\n",
      "LOS     252.000000  280.000000  196.000000  252.000000\n",
      "AOS       0.408757    0.379947    0.379287    0.192712\n",
      "ROG       0.002654    0.002714    0.003870    0.003441\n",
      "ROS      -0.001428   -0.002302   -0.001720   -0.000862\n"
     ]
    }
   ],
   "source": [
    "print(xr.concat([pheno_results[str(year)] for year in years_int],\n",
    "                dim=pd.Index(years_int, name='time')).to_dataframe().drop(columns=['spatial_ref']).T.to_string())"
   ]
  },
  {
   "cell_type": "markdown",
   "metadata": {},
   "source": [
    "***\n",
    "\n",
    "## Additional information\n",
    "\n",
    "**License:** The code in this notebook is licensed under the [Apache License, Version 2.0](https://www.apache.org/licenses/LICENSE-2.0). \n",
    "Digital Earth Africa data is licensed under the [Creative Commons by Attribution 4.0](https://creativecommons.org/licenses/by/4.0/) license.\n",
    "\n",
    "**Contact:** If you need assistance, please post a question on the [Open Data Cube Slack channel](http://slack.opendatacube.org/) or on the [GIS Stack Exchange](https://gis.stackexchange.com/questions/ask?tags=open-data-cube) using the `open-data-cube` tag (you can view previously asked questions [here](https://gis.stackexchange.com/questions/tagged/open-data-cube)).\n",
    "If you would like to report an issue with this notebook, you can file one on [Github](https://github.com/digitalearthafrica/deafrica-sandbox-notebooks).\n",
    "\n",
    "**Compatible datacube version:** "
   ]
  },
  {
   "cell_type": "code",
   "execution_count": 19,
   "metadata": {},
   "outputs": [
    {
     "name": "stdout",
     "output_type": "stream",
     "text": [
      "1.8.5\n"
     ]
    }
   ],
   "source": [
    "print(datacube.__version__)"
   ]
  },
  {
   "cell_type": "markdown",
   "metadata": {},
   "source": [
    "**Last Tested:**"
   ]
  },
  {
   "cell_type": "code",
   "execution_count": 20,
   "metadata": {},
   "outputs": [
    {
     "data": {
      "text/plain": [
       "'2021-08-27'"
      ]
     },
     "execution_count": 20,
     "metadata": {},
     "output_type": "execute_result"
    }
   ],
   "source": [
    "from datetime import datetime\n",
    "datetime.today().strftime('%Y-%m-%d')"
   ]
  }
 ],
 "metadata": {
  "kernelspec": {
   "display_name": "Python 3",
   "language": "python",
   "name": "python3"
  },
  "language_info": {
   "codemirror_mode": {
    "name": "ipython",
    "version": 3
   },
   "file_extension": ".py",
   "mimetype": "text/x-python",
   "name": "python",
   "nbconvert_exporter": "python",
   "pygments_lexer": "ipython3",
   "version": "3.8.10"
  },
  "widgets": {
   "application/vnd.jupyter.widget-state+json": {
    "state": {
     "1d2ba241bfd2437dbdf5d4530c685d9a": {
      "model_module": "jupyter-leaflet",
      "model_module_version": "^0.11.1",
      "model_name": "LeafletAttributionControlModel",
      "state": {
       "_model_module_version": "^0.11.1",
       "_view_count": null,
       "_view_module_version": "^0.11.1",
       "options": [
        "position",
        "prefix"
       ],
       "position": "bottomright",
       "prefix": "Leaflet"
      }
     },
     "d867097fe154472198694ed8095e3b0c": {
      "model_module": "jupyter-leaflet",
      "model_module_version": "^0.11.1",
      "model_name": "LeafletZoomControlModel",
      "state": {
       "_model_module_version": "^0.11.1",
       "_view_count": null,
       "_view_module_version": "^0.11.1",
       "options": [
        "position",
        "zoom_in_text",
        "zoom_in_title",
        "zoom_out_text",
        "zoom_out_title"
       ]
      }
     }
    },
    "version_major": 2,
    "version_minor": 0
   }
  }
 },
 "nbformat": 4,
 "nbformat_minor": 4
}
