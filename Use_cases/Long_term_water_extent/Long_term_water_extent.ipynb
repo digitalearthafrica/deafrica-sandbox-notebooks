{
 "cells": [
  {
   "cell_type": "markdown",
   "id": "85247980-ecd9-44e8-86eb-d948eab37a83",
   "metadata": {},
   "source": [
    "# Mapping water extent and rainfall\n",
    "\n",
    "* **Products used:** \n",
    "[wofs_ls](https://explorer.digitalearth.africa/products/wofs_ls),\n",
    "[rainfall_chirps_monthly](https://explorer.digitalearth.africa/products/rainfall_chirps_monthly)"
   ]
  },
  {
   "cell_type": "raw",
   "id": "b9e81cbe-620d-4dad-b4ff-8d9382448dfc",
   "metadata": {},
   "source": [
    "**Keywords**: :index:`data used; WOfS`, :index:`data used; CHIRPS`, :index:`water; extent`, :index:`analysis; time series`"
   ]
  },
  {
   "cell_type": "markdown",
   "id": "bef15f5f-a8e7-43b3-ab3a-26417f04ff14",
   "metadata": {},
   "source": [
    "## Background\n"
   ]
  },
  {
   "cell_type": "markdown",
   "id": "49a2701a-607b-43b5-bd94-93dd15a7920e",
   "metadata": {},
   "source": [
    "## Description\n",
    "\n",
    "***"
   ]
  },
  {
   "cell_type": "markdown",
   "id": "c12695ff-6b9e-426b-9c40-46b1257ccc78",
   "metadata": {},
   "source": [
    "## Load packages\n",
    "Import Python packages that are used for the analysis."
   ]
  },
  {
   "cell_type": "code",
   "execution_count": null,
   "id": "e954d7d3-660c-4dcf-a79c-977cc1fe9f4d",
   "metadata": {},
   "outputs": [],
   "source": [
    "%matplotlib inline\n",
    "\n",
    "import datacube\n",
    "import pandas as pd\n",
    "import geopandas as gpd\n",
    "import matplotlib.pyplot as plt\n",
    "import time\n",
    "from datacube.utils import geometry\n",
    "from datacube.utils import masking\n",
    "\n",
    "\n",
    "from deafrica_tools.dask import create_local_dask_cluster\n",
    "from deafrica_tools.datahandling import wofs_fuser\n",
    "from deafrica_tools.spatial import xr_rasterize"
   ]
  },
  {
   "cell_type": "markdown",
   "id": "ce618fa4-2a49-43f3-85c2-564797c69f27",
   "metadata": {},
   "source": [
    "## Set up a Dask cluster\n",
    "\n",
    "Dask can be used to better manage memory use and conduct the analysis in parallel. "
   ]
  },
  {
   "cell_type": "code",
   "execution_count": null,
   "id": "756f38cb-0323-4def-a77e-5439a41b810e",
   "metadata": {},
   "outputs": [],
   "source": [
    "create_local_dask_cluster()"
   ]
  },
  {
   "cell_type": "markdown",
   "id": "24833f7f-76e9-4ec6-a7da-58472c6ad5b9",
   "metadata": {},
   "source": [
    "## Connect to Data Cube"
   ]
  },
  {
   "cell_type": "code",
   "execution_count": null,
   "id": "d5c35c92-5144-48cc-8d9d-5bd8705992b4",
   "metadata": {},
   "outputs": [],
   "source": [
    "dc = datacube.Datacube(app='long_term_water_extent')"
   ]
  },
  {
   "cell_type": "markdown",
   "id": "42ad61a7-3864-4937-bd4b-ee42a808fe90",
   "metadata": {},
   "source": [
    "## Analysis parameters\n",
    "\n",
    "The following cell sets the parameters, which define the area of interest and the length of time to conduct the analysis over.\n"
   ]
  },
  {
   "cell_type": "code",
   "execution_count": null,
   "id": "7ab48f11-8ae0-40b6-a0c6-6a8992493952",
   "metadata": {},
   "outputs": [],
   "source": [
    "water_extent_vector_file = 'data/lake_baringo_extent.geojson'\n",
    "\n",
    "water_catchment_vector_file = 'data/lake_baringo_catchment.geojson'\n",
    "\n",
    "time_range = ('2019', '2020')\n",
    "\n",
    "resample_strategy = 'QS-DEC' #'3M' #\"QS-DEC\", # '1M'"
   ]
  },
  {
   "cell_type": "markdown",
   "id": "b86eba0e-08b8-4bb0-a56a-4e4fdcaf6be2",
   "metadata": {},
   "source": [
    "## Get waterbody and catchment geometries\n",
    "\n",
    "This will be used to load the data"
   ]
  },
  {
   "cell_type": "code",
   "execution_count": null,
   "id": "7271a894-1537-495d-bb97-cc2fff3b58ca",
   "metadata": {},
   "outputs": [],
   "source": [
    "def get_geometry(gdf):\n",
    "    gdf_crs = f'EPSG:{gdf.crs.to_epsg()}'\n",
    "    gdf_geom = gdf.loc[0, 'geometry'].__geo_interface__\n",
    "    \n",
    "    geom = geometry.Geometry(gdf_geom, gdf_crs)\n",
    "    return geom"
   ]
  },
  {
   "cell_type": "code",
   "execution_count": null,
   "id": "1fdcb86b-5296-469e-990d-771b20130da9",
   "metadata": {},
   "outputs": [],
   "source": [
    "extent = gpd.read_file(water_extent_vector_file)\n",
    "\n",
    "extent_geometry = get_geometry(extent)"
   ]
  },
  {
   "cell_type": "code",
   "execution_count": null,
   "id": "6f235a3f-719b-45b9-9ce8-d81eba85884d",
   "metadata": {},
   "outputs": [],
   "source": [
    "catchment = gpd.read_file(water_catchment_vector_file)\n",
    "\n",
    "catchment_geometry = get_geometry(catchment)"
   ]
  },
  {
   "cell_type": "markdown",
   "id": "9d3da370-3c56-4fd2-8b6a-a4e998e4f1ba",
   "metadata": {},
   "source": [
    "## Load Water Observation from Space for Waterbody"
   ]
  },
  {
   "cell_type": "code",
   "execution_count": null,
   "id": "fe1583e1-d9a0-4a64-8ca1-561729abbaa3",
   "metadata": {},
   "outputs": [],
   "source": [
    "extent_query = {\n",
    "    'time': time_range,\n",
    "    'resolution': (-30, 30),\n",
    "    'output_crs': 'EPSG:6933',\n",
    "    'geopolygon': extent_geometry,\n",
    "    'group_by':'solar_day'\n",
    "}\n",
    "\n",
    "wofs_ds = dc.load(\n",
    "    product = 'wofs_ls',\n",
    "    fuse_func=wofs_fuser, \n",
    "    **extent_query)"
   ]
  },
  {
   "cell_type": "code",
   "execution_count": null,
   "id": "86c85165-ecdc-45f2-9a0f-cc1ed1616882",
   "metadata": {},
   "outputs": [],
   "source": [
    "water_ds = masking.make_mask(wofs_ds, wet=True)"
   ]
  },
  {
   "cell_type": "code",
   "execution_count": null,
   "id": "f8e9ff37-f91f-4ad8-8a67-c2c3c7069060",
   "metadata": {},
   "outputs": [],
   "source": [
    "# Get label\n",
    "def get_resampled_labels(ds, freq, date_format='%b %y'):\n",
    "    \n",
    "    left = ds.resample(time=freq, label='left').groups\n",
    "    left_str = [pd.to_datetime(str(key)).strftime(date_format) for key in left]\n",
    "    \n",
    "    right = ds.resample(time=freq, label='right').groups\n",
    "    right_str = [pd.to_datetime(str(key)).strftime(date_format) for key in right]\n",
    "\n",
    "    pairs = zip(left_str, right_str)\n",
    "    labels = [f'{l} - {r}' for l,r in pairs]\n",
    "    \n",
    "    return labels"
   ]
  },
  {
   "cell_type": "code",
   "execution_count": null,
   "id": "93c1857b-02f9-437e-aa4f-c468edf6c53f",
   "metadata": {},
   "outputs": [],
   "source": [
    "resampled_water_ds = water_ds.resample(\n",
    "    time=resample_strategy, \n",
    "    label='right'\n",
    ").max()\n",
    "\n",
    "\n",
    "# Get date labels for plot\n",
    "resampled_labels = get_resampled_labels(water_ds, resample_strategy)"
   ]
  },
  {
   "cell_type": "code",
   "execution_count": null,
   "id": "84d21cb7-8662-4f8f-8a5e-73887a87523f",
   "metadata": {},
   "outputs": [],
   "source": [
    "resampled_water_ds"
   ]
  },
  {
   "cell_type": "code",
   "execution_count": null,
   "id": "44b757d4-be57-4fdb-b556-ced322bafcd7",
   "metadata": {},
   "outputs": [],
   "source": [
    "pixel_length = extent_query[\"resolution\"][1]  # in metres\n",
    "m_per_km = 1000  # conversion from metres to kilometres\n",
    "area_per_pixel = pixel_length**2 / m_per_km**2\n",
    "\n",
    "resampled_water_area_ds = resampled_water_ds.sum(dim=['x', 'y']) * area_per_pixel"
   ]
  },
  {
   "cell_type": "code",
   "execution_count": null,
   "id": "3861d412-f0cc-4264-a6a6-5d36cab703d4",
   "metadata": {},
   "outputs": [],
   "source": [
    "fig, ax = plt.subplots(figsize=(10, 4))\n",
    "\n",
    "ax.plot(\n",
    "    resampled_labels,\n",
    "    resampled_water_area_ds.water.values, \n",
    "    color='blue', \n",
    "    marker='^',\n",
    "    markersize=4,\n",
    "    linewidth=1,\n",
    ")\n",
    "plt.xticks(resampled_labels,rotation = 65)\n",
    "plt.title(f'Observed Area of Water from {time_range[0]} to {time_range[1]}')\n",
    "plt.ylabel('Waterbody area (km$^2$)')\n",
    "plt.tight_layout()"
   ]
  },
  {
   "cell_type": "markdown",
   "id": "525d90bd-f1b3-4711-bb5c-6f0c0314ecb2",
   "metadata": {},
   "source": [
    "## Load CHIRPS monthly rainfall"
   ]
  },
  {
   "cell_type": "code",
   "execution_count": null,
   "id": "f4c63120-dd24-471c-976a-608eabede307",
   "metadata": {},
   "outputs": [],
   "source": [
    "catchment_query = {\n",
    "    'time': time_range,\n",
    "    'resolution': (-30, 30),\n",
    "    'output_crs': 'EPSG:6933',\n",
    "    'geopolygon': extent_geometry,\n",
    "    'group_by':'solar_day'\n",
    "}\n",
    "\n",
    "rainfall_ds = dc.load(\n",
    "    product='rainfall_chirps_monthly',  \n",
    "    **catchment_query)\n",
    "\n",
    "#create mask\n",
    "mask = xr_rasterize(extent, rainfall_ds)\n",
    "\n",
    "#mask data\n",
    "masked_rainfall_ds = rainfall_ds.where(mask)"
   ]
  },
  {
   "cell_type": "markdown",
   "id": "9cc61a0e-7af7-4cb8-b300-6cc0c85381c3",
   "metadata": {},
   "source": [
    "## Resample to estimate rainfall for each time period\n",
    "\n",
    "This is done by taking calculating the average rainfall over the extent of the catchment, then summing these averages over the resampling period to estimate the total rainfall for the catchment."
   ]
  },
  {
   "cell_type": "code",
   "execution_count": null,
   "id": "78f8fc3d-933c-4092-8448-6231e2f86452",
   "metadata": {},
   "outputs": [],
   "source": [
    "# Calculate the average rainfall over the catchment at each time step\n",
    "catchment_rainfall_ds = masked_rainfall_ds.mean(dim=('x', 'y'))\n",
    "\n",
    "# Calculate the total rainfall over each resampling period\n",
    "catchment_rainfall_resampled_ds = catchment_rainfall_ds.resample(\n",
    "    time=resample_strategy, \n",
    "    label='right'\n",
    ").sum(dim='time')"
   ]
  },
  {
   "cell_type": "code",
   "execution_count": null,
   "id": "1f390fdb-b89c-48db-a58e-9140f36587eb",
   "metadata": {},
   "outputs": [],
   "source": [
    "# plot daily total precipitation for this area\n",
    "fig, ax1 = plt.subplots(figsize=(10,6))\n",
    "\n",
    "plt.xticks(rotation=65)\n",
    "\n",
    "# Create histogram of rainfall\n",
    "ax1.bar(\n",
    "    resampled_labels,\n",
    "    catchment_rainfall_resampled_ds.rainfall.values, \n",
    "    color=\"lightblue\", \n",
    "    label='Annual rainfall',\n",
    ")\n",
    "\n",
    "ax1_handles, ax1_labels = ax1.get_legend_handles_labels()\n",
    "\n",
    "# Create line chart of water area\n",
    "ax2 = ax1.twinx()\n",
    "ax2.plot(\n",
    "    resampled_labels,\n",
    "    resampled_water_area_ds.water.values, \n",
    "    color='red', \n",
    "    marker='^',\n",
    "    markersize=4,\n",
    "    linewidth=1,\n",
    "    label='Waterbody Area'\n",
    ")\n",
    "\n",
    "ax2_handles, ax2_labels = ax2.get_legend_handles_labels()\n",
    "\n",
    "# Format plot\n",
    "fig.suptitle('Evolution of Lake surface area, compared to catchment rainfall (CHIRPS) over'+ \n",
    "             f'time from {time_range[0]} to {time_range[1]}')\n",
    "\n",
    "\n",
    "ax1_handles.extend(ax2_handles)\n",
    "ax1_labels.extend(ax2_labels)\n",
    "ax1.legend(ax1_handles, ax1_labels, loc='upper left')\n",
    "\n",
    "units = rainfall_ds.rainfall.attrs['units']\n",
    "ax1.set_ylabel(f'Total Precipitation ({units})')\n",
    "\n",
    "ax2.set_ylabel('Waterbody area (km$^2$)')\n",
    "ax2.tick_params(axis='y', colors='red')\n",
    "ax2.yaxis.label.set_color('red')\n",
    "\n",
    "fig.tight_layout()\n",
    "plt.savefig('combine.pdf')"
   ]
  },
  {
   "cell_type": "markdown",
   "id": "3c49a2d2-6633-41ea-8dd4-f890a084c0be",
   "metadata": {},
   "source": [
    "# Next steps:\n",
    "* ~~work out how to get average spatial rainfall, then sum over resamping time -- check that I get the same answer irrespective of order done in~~\n",
    "* ~~Combine rainfall and wofs data extent to create combined plot~~\n",
    "* Add code to plot change in water extent between two times\n",
    "* Update quantitative colours in water extent change plot"
   ]
  },
  {
   "cell_type": "code",
   "execution_count": null,
   "id": "e8590884-0b4c-4003-914c-9deabd0cacc8",
   "metadata": {},
   "outputs": [],
   "source": []
  }
 ],
 "metadata": {
  "kernelspec": {
   "display_name": "Python 3 (ipykernel)",
   "language": "python",
   "name": "python3"
  },
  "language_info": {
   "codemirror_mode": {
    "name": "ipython",
    "version": 3
   },
   "file_extension": ".py",
   "mimetype": "text/x-python",
   "name": "python",
   "nbconvert_exporter": "python",
   "pygments_lexer": "ipython3",
   "version": "3.8.10"
  },
  "toc-autonumbering": false,
  "toc-showcode": false,
  "toc-showmarkdowntxt": true,
  "toc-showtags": false,
  "widgets": {
   "application/vnd.jupyter.widget-state+json": {
    "state": {},
    "version_major": 2,
    "version_minor": 0
   }
  }
 },
 "nbformat": 4,
 "nbformat_minor": 5
}
