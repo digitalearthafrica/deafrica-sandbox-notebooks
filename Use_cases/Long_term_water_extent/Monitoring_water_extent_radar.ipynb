{
 "cells": [
  {
   "cell_type": "markdown",
   "metadata": {},
   "source": [
    "# Mapping water extent and rainfall using Sentinel-1 and CHIRPS\n",
    "\n",
    "* **Products used:** \n",
    "[s1_rtc](https://explorer.digitalearth.africa/products/s1_rtc),\n",
    "[rainfall_chirps_monthly](https://explorer.digitalearth.africa/products/rainfall_chirps_monthly)"
   ]
  },
  {
   "cell_type": "raw",
   "metadata": {
    "raw_mimetype": "text/restructuredtext"
   },
   "source": [
    "**Keywords**: :index:`data used; sentinel-1`, :index:`water; extent`, :index:`analysis; time series`, :index:`band index; SWI`"
   ]
  },
  {
   "cell_type": "markdown",
   "metadata": {},
   "source": [
    "## Background\n",
    "The United Nations have prescribed 17 \"Sustainable Development Goals\" (SDGs). This notebook attempts to monitor SDG Indicator 6.6.1 - change in the extent of water-related ecosystems. Indicator 6.6.1 has 4 sub-indicators:\n",
    ">    i. The spatial extent of water-related ecosystems <br>\n",
    ">    ii. The quantity of water contained within these ecosystems <br>\n",
    ">    iii. The quality of water within these ecosystems <br>\n",
    ">    iv. The health or state of these ecosystems <br>\n",
    "\n",
    "This notebook primarily focuses on the first sub-indicator - spatial extents.\n",
    "\n",
    "A couple of very instructive papers on Lake Chad\n",
    "\n",
    "- [The Lake Chad hydrology under current climate change](https://www.nature.com/articles/s41598-020-62417-w)\n",
    "- [Recent Surface Water Extent of Lake Chad from Multispectral Sensors and GRACE](https://www.mdpi.com/1424-8220/18/7/2082)"
   ]
  },
  {
   "cell_type": "markdown",
   "metadata": {},
   "source": [
    "## Description\n",
    "\n",
    "The notebook demonstrates how to:\n",
    "\n",
    "1. Load Sentinel-1 data over the water body of interest\n",
    "2. Calculate the water index SWI\n",
    "3. Resample the time-series SWI to monthly medians\n",
    "4. Generate an animation of the water extent time-series\n",
    "5. Calculate and plot a time series of seasonal water extent (in square kilometres)\n",
    "6. Compare two nominated time-periods, and plot where the water-body extent has changed.\n",
    "7. Compare the water extent area from SWI to the Rainfall CHIRPS data\n",
    "\n",
    "***"
   ]
  },
  {
   "cell_type": "markdown",
   "metadata": {},
   "source": [
    "## Getting started\n",
    "To run this analysis, run all the cells in the notebook, starting with the \"Load packages\" cell. "
   ]
  },
  {
   "cell_type": "markdown",
   "metadata": {},
   "source": [
    "### Load packages\n",
    "Import Python packages that are used for the analysis."
   ]
  },
  {
   "cell_type": "code",
   "execution_count": null,
   "metadata": {},
   "outputs": [],
   "source": [
    "%matplotlib inline\n",
    "\n",
    "import datacube\n",
    "import matplotlib.pyplot as plt\n",
    "import numpy as np\n",
    "import sys\n",
    "import xarray as xr\n",
    "import geopandas as gpd\n",
    "\n",
    "from IPython.display import Image\n",
    "from matplotlib.colors import ListedColormap\n",
    "from matplotlib.patches import Patch\n",
    "from skimage.filters import threshold_li\n",
    "\n",
    "from deafrica_tools.datahandling import load_ard\n",
    "from deafrica_tools.plotting import display_map, xr_animation\n",
    "from deafrica_tools.dask import create_local_dask_cluster\n",
    "from datacube.utils.aws import configure_s3_access\n",
    "\n",
    "configure_s3_access(aws_unsigned=True, cloud_defaults=True)"
   ]
  },
  {
   "cell_type": "markdown",
   "metadata": {},
   "source": [
    "### Connect to the datacube\n",
    "\n",
    "Activate the datacube database, which provides functionality for loading and displaying stored Earth observation data."
   ]
  },
  {
   "cell_type": "code",
   "execution_count": null,
   "metadata": {},
   "outputs": [],
   "source": [
    "dc = datacube.Datacube(app='water_extent')"
   ]
  },
  {
   "cell_type": "markdown",
   "metadata": {},
   "source": [
    "## Set up a Dask cluster\n",
    "\n",
    "Dask can be used to better manage memory use and conduct the analysis in parallel. \n",
    "For an introduction to using Dask with Digital Earth Africa, see the [Dask notebook](../Beginners_guide/08_parallel_processing_with_dask.ipynb).\n",
    "\n",
    ">**Note**: We recommend opening the Dask processing window to view the different computations that are being executed; to do this, see the *Dask dashboard in DE Africa* section of the [Dask notebook](../Beginners_guide/08_parallel_processing_with_dask.ipynb).\n",
    "\n",
    "To activate Dask, set up the local computing cluster using the cell below."
   ]
  },
  {
   "cell_type": "code",
   "execution_count": null,
   "metadata": {},
   "outputs": [],
   "source": [
    "create_local_dask_cluster()"
   ]
  },
  {
   "cell_type": "markdown",
   "metadata": {},
   "source": [
    "### Analysis parameters\n",
    "\n",
    "The following cell sets the parameters, which define the area of interest and the length of time to conduct the analysis over.\n",
    "\n",
    "The parameters are:\n",
    "\n",
    "* `vector_file`: The path to the shapefile or geojson that will define the analysis area of the study.\n",
    "* `time_range` : The date range to analyse (e.g. `('2018', '2020')`.\n",
    "* `resolution` : The pixel resolution of the satellite data.\n",
    "* `dask_chunks`: Chunk sizes to use for dask.\n",
    "\n",
    "**If running the notebook for the first time**, keep the default settings below.\n",
    "This will demonstrate how the analysis works and provide meaningful results.\n",
    "The example covers Lake Chad. \n",
    "\n",
    "**Current default is Lake Sulunga, Tanzania.**"
   ]
  },
  {
   "cell_type": "code",
   "execution_count": null,
   "metadata": {},
   "outputs": [],
   "source": [
    "# Define the area of interest .\n",
    "vector_file = 'data/lake_chad_extent.geojson'\n",
    "gdf = gpd.read_file(vector_file)\n",
    "\n",
    "bbox=list(gdf.total_bounds)\n",
    "lon_range = (bbox[0], bbox[2])\n",
    "lat_range = (bbox[1], bbox[3])\n",
    "\n",
    "# # Define the area of interest.\n",
    "# lat = 15.3066\n",
    "# lon = -3.8041\n",
    "\n",
    "# lat_buffer = 0.075\n",
    "# lon_buffer = 0.075\n",
    "\n",
    "# # Combine central lat,lon with buffer to get area of interest.\n",
    "# lat_range = (lat - lat_buffer, lat + lat_buffer)\n",
    "# lon_range = (lon - lon_buffer, lon + lon_buffer)\n",
    "\n",
    "# Define the start year and end year.\n",
    "time_range = (\"2018\", \"2021\")\n",
    "\n",
    "# Define the resolution to load the datasets in.\n",
    "resolution = (-20, 20)\n",
    "\n",
    "# Define the dask chunks to be used.\n",
    "dask_chunks = {\"time\": 1, \"x\": 1500, \"y\": 1500}"
   ]
  },
  {
   "cell_type": "markdown",
   "metadata": {},
   "source": [
    "## View the area of Interest on an interactive map\n",
    "The next cell will display the selected area on an interactive map.\n",
    "The red border represents the area of interest of the study.\n",
    "Zoom in and out to get a better understanding of the area of interest.\n",
    "Clicking anywhere on the map will reveal the latitude and longitude coordinates of the clicked point."
   ]
  },
  {
   "cell_type": "code",
   "execution_count": null,
   "metadata": {},
   "outputs": [],
   "source": [
    "# display_map(lon_range, lat_range)"
   ]
  },
  {
   "cell_type": "markdown",
   "metadata": {},
   "source": [
    "## Load the Sentinel-1 data\n",
    "The code below will create a query dictionary for our region of interest, and then load the Sentinel-1 satellite data.\n",
    "For more information on loading data, see the [Loading data notebook](../Beginners_guide/03_Loading_data.ipynb)."
   ]
  },
  {
   "cell_type": "code",
   "execution_count": null,
   "metadata": {},
   "outputs": [],
   "source": [
    "# Create a query object.\n",
    "query = {\n",
    "    \"x\": lon_range,\n",
    "    \"y\": lat_range,\n",
    "    \"time\": time_range,\n",
    "    \"resolution\": resolution,\n",
    "    \"output_crs\": \"EPSG:6933\",\n",
    "    \"dask_chunks\": dask_chunks,\n",
    "    \"group_by\": \"solar_day\",\n",
    "}"
   ]
  },
  {
   "cell_type": "code",
   "execution_count": null,
   "metadata": {},
   "outputs": [],
   "source": [
    "# Load Sentinel-1 data.\n",
    "ds_S1 = load_ard(dc=dc, products=[\"s1_rtc\"], measurements=[\"vv\", \"vh\"], **query)\n",
    "\n",
    "print(ds_S1)"
   ]
  },
  {
   "cell_type": "markdown",
   "metadata": {},
   "source": [
    "## Convert the Sentinel-1 digital numbers to dB"
   ]
  },
  {
   "cell_type": "markdown",
   "metadata": {},
   "source": [
    "While Sentinel-1 backscatter is provided as linear intensiy, it is often useful to convert the backscatter to decible (dB) for analysis. \n",
    "Backscatter in dB unit has a more symmetric noise profile and less skewed value distribution for easier statistical evaluation.\n",
    "\n",
    "The Sentinel-1 backscatter data is converted from digital number (DN) to backscatter in decibel unit (dB) using the function:\n",
    "\n",
    "\\begin{equation}\n",
    "10 * \\log_{10}(\\text{DN})\n",
    "\\end{equation}"
   ]
  },
  {
   "cell_type": "code",
   "execution_count": null,
   "metadata": {
    "tags": []
   },
   "outputs": [],
   "source": [
    "# Convert DN to db values.\n",
    "ds_S1[\"vv_db\"] = 10 * xr.ufuncs.log10(ds_S1.vv)\n",
    "ds_S1[\"vh_db\"] = 10 * xr.ufuncs.log10(ds_S1.vh)"
   ]
  },
  {
   "cell_type": "markdown",
   "metadata": {},
   "source": [
    "## Calculate the SWI water index"
   ]
  },
  {
   "cell_type": "markdown",
   "metadata": {},
   "source": [
    "The Sentinel-1A water index (SWI) is calculated as follows:\n",
    "\n",
    "\\begin{equation} \n",
    "\\text{SWI} = 0.1747 * \\beta _{vv} + 0.0082 * \\beta _{vh} * \\beta _{vv} + 0.0023 * \\beta _{vv}^{2} - 0.0015 * \\beta _{vh}^{2} + 0.1904\n",
    "\\end{equation}\n",
    "\n",
    "where  βvh and βvv represent the backscattering coefficient in VH polarization and VV polarization, respectively ([Tian et al., 2017](https://doi.org/10.3390/rs9060521)). "
   ]
  },
  {
   "cell_type": "code",
   "execution_count": null,
   "metadata": {},
   "outputs": [],
   "source": [
    "# Calculate the Sentinel-1A Water Index (SWI).\n",
    "swi = (\n",
    "    (0.1747 * ds_S1.vv_db)\n",
    "    + (0.0082 * ds_S1.vh_db * ds_S1.vv_db)\n",
    "    + (0.0023 * ds_S1.vv_db ** 2)\n",
    "    - (0.0015 * ds_S1.vh_db ** 2)\n",
    "    + 0.1904\n",
    ")\n",
    "\n",
    "print(swi)"
   ]
  },
  {
   "cell_type": "markdown",
   "metadata": {},
   "source": [
    "## Resample time series\n",
    "\n",
    "Due to many factors (e.g. speckles) the data will be gappy and noisy. Here, we will resample the data to ensure we are working with a consistent time-series.\n",
    "\n",
    "To do this, we resample the data to monthly time-steps using `max`. This will show us the maximum value of SWI for each month for each pixel, or in other words, the maximum water extent as measured by the SWI index.\n"
   ]
  },
  {
   "cell_type": "code",
   "execution_count": null,
   "metadata": {},
   "outputs": [],
   "source": [
    "%%time\n",
    "# Resample using medians.\n",
    "print(\"calculating SWI monthly maximum...\")\n",
    "swi = swi.resample(time=\"1M\").max().compute()"
   ]
  },
  {
   "cell_type": "markdown",
   "metadata": {},
   "source": [
    "### Plot the SWI water extent "
   ]
  },
  {
   "cell_type": "code",
   "execution_count": null,
   "metadata": {},
   "outputs": [],
   "source": [
    "# swi.isel(time=1).plot.imshow(cmap=\"RdBu\", figsize=(6,6));"
   ]
  },
  {
   "cell_type": "markdown",
   "metadata": {},
   "source": [
    "## Determine a threshold to define water extent\n",
    "\n",
    "There are several ways to determine the threshold. Here, we use the `threshod_li` function implemented in the `skimage` package to determine the threshold from SWI automatically."
   ]
  },
  {
   "cell_type": "code",
   "execution_count": null,
   "metadata": {},
   "outputs": [],
   "source": [
    "threshold = threshold_li(swi.values)\n",
    "print(threshold)"
   ]
  },
  {
   "cell_type": "markdown",
   "metadata": {},
   "source": [
    "### Visualise threshold\n",
    "\n",
    "To check if our chosen threshold reasonably divides the two distributions, we can add the threshold to a histogram plot\n"
   ]
  },
  {
   "cell_type": "code",
   "execution_count": null,
   "metadata": {},
   "outputs": [],
   "source": [
    "fig, ax = plt.subplots(figsize=(15, 3))\n",
    "swi.plot.hist(bins=5000, label=\"VH filtered\")\n",
    "plt.xlim(-1, 4)\n",
    "ax.axvspan(xmin=-1, xmax=threshold, alpha=0.25, color=\"red\", label=\"Not Water\")\n",
    "ax.axvspan(xmin=threshold,\n",
    "           xmax=4,\n",
    "           alpha=0.25,\n",
    "           color=\"green\",\n",
    "           label=\"Water\")\n",
    "plt.legend()\n",
    "plt.xlabel(\"SWI\")\n",
    "plt.title(\"Effect of the classifier\")\n",
    "plt.show()"
   ]
  },
  {
   "cell_type": "markdown",
   "metadata": {},
   "source": [
    "## Calculating the extent of open water"
   ]
  },
  {
   "cell_type": "markdown",
   "metadata": {},
   "source": [
    "First we need to determine the area each pixel covers, then we apply the automatically determined threshold to delneate water extent."
   ]
  },
  {
   "cell_type": "code",
   "execution_count": null,
   "metadata": {},
   "outputs": [],
   "source": [
    "pixel_length = query[\"resolution\"][1]  # in metres\n",
    "m_per_km = 1000  # conversion from metres to kilometres\n",
    "area_per_pixel = pixel_length ** 2 / m_per_km ** 2"
   ]
  },
  {
   "cell_type": "code",
   "execution_count": null,
   "metadata": {},
   "outputs": [],
   "source": [
    "water_swi = xr.where(swi > threshold, 1, 0)\n",
    "ds_valid_water_area_swi = water_swi.sum(dim=[\"x\", \"y\"]) * area_per_pixel"
   ]
  },
  {
   "cell_type": "markdown",
   "metadata": {},
   "source": [
    "## Export time-series as csv"
   ]
  },
  {
   "cell_type": "code",
   "execution_count": null,
   "metadata": {},
   "outputs": [],
   "source": [
    "ds_valid_water_area_swi.rename('swi').to_dataframe().drop(\"spatial_ref\", axis=1).rename(\n",
    "    {\"SWI\": \"Area of waterbodies from SWI (km2)\"}, axis=1\n",
    ").to_csv(f\"results/SWI_water_extent_{time_range[0]}_to_{time_range[1]}.csv\")"
   ]
  },
  {
   "cell_type": "markdown",
   "metadata": {},
   "source": [
    "## Plot a time series of open water area"
   ]
  },
  {
   "cell_type": "code",
   "execution_count": null,
   "metadata": {},
   "outputs": [],
   "source": [
    "plt.figure(figsize=(18, 4))\n",
    "ds_valid_water_area_swi.plot(marker=\"o\", color=\"#9467bd\")\n",
    "plt.title(f\"Observed Area of Water from {time_range[0]} to {time_range[1]} from SWI\")\n",
    "plt.xlabel(\"Dates\")\n",
    "plt.ylabel(\"Waterbody area (km$^2$)\")\n",
    "plt.tight_layout()\n",
    "plt.savefig(f\"results/SWI_water_extent_{time_range[0]}_to_{time_range[1]}.png\")"
   ]
  },
  {
   "cell_type": "markdown",
   "metadata": {},
   "source": [
    "## Compare water extent between two periods\n",
    " \n",
    "* `baseline_time` : The baseline year for the analysis\n",
    "* `analysis_time` : The year to compare to the baseline year"
   ]
  },
  {
   "cell_type": "code",
   "execution_count": null,
   "metadata": {},
   "outputs": [],
   "source": [
    "baseline_time = \"2019-05-31\"\n",
    "analysis_time = \"2019-08-31\""
   ]
  },
  {
   "cell_type": "markdown",
   "metadata": {},
   "source": [
    "Create a new Data Array to store the baseline and analysis dates."
   ]
  },
  {
   "cell_type": "code",
   "execution_count": null,
   "metadata": {},
   "outputs": [],
   "source": [
    "time_xr_swi = xr.DataArray([baseline_time, analysis_time], dims=[\"time\"])"
   ]
  },
  {
   "cell_type": "markdown",
   "metadata": {},
   "source": [
    "## Plotting"
   ]
  },
  {
   "cell_type": "markdown",
   "metadata": {},
   "source": [
    "Plot water extent of the SWI product for the two chosen periods."
   ]
  },
  {
   "cell_type": "code",
   "execution_count": null,
   "metadata": {},
   "outputs": [],
   "source": [
    "water_swi.sel(time=time_xr_swi).plot(\n",
    "    col=\"time\",\n",
    "    col_wrap=2,\n",
    "    robust=True,\n",
    "    figsize=(10, 5),\n",
    "    cmap=\"viridis\",\n",
    "    add_colorbar=False,\n",
    ");"
   ]
  },
  {
   "cell_type": "markdown",
   "metadata": {
    "tags": []
   },
   "source": [
    "## Calculating the change for the two nominated periods\n",
    "The cells below calculate the amount of water gain, loss and stable for the two periods."
   ]
  },
  {
   "cell_type": "code",
   "execution_count": null,
   "metadata": {},
   "outputs": [],
   "source": [
    "# Extract the two periods(Baseline and analysis) dataset from\n",
    "ds_selected_swi = water_swi.where(water_swi == 1, 0).sel(time=time_xr_swi)\n",
    "\n",
    "analyse_total_value_swi = ds_selected_swi[1]\n",
    "change_swi = analyse_total_value_swi - ds_selected_swi[0]\n",
    "\n",
    "water_appeared_swi = change_swi.where(change_swi == 1)\n",
    "permanent_water_swi = change_swi.where(\n",
    "    (change_swi == 0) & (analyse_total_value_swi == 1)\n",
    ")\n",
    "permanent_land_swi = change_swi.where(\n",
    "    (change_swi == 0) & (analyse_total_value_swi == 0)\n",
    ")\n",
    "water_disappeared_swi = change_swi.where(change_swi == -1)"
   ]
  },
  {
   "cell_type": "markdown",
   "metadata": {},
   "source": [
    "The cells below calculate the area of water extent for water_loss, water_gain, permanent water and land."
   ]
  },
  {
   "cell_type": "code",
   "execution_count": null,
   "metadata": {},
   "outputs": [],
   "source": [
    "total_area_swi = analyse_total_value_swi.count().values * area_per_pixel\n",
    "water_apperaed_area_swi = water_appeared_swi.count().values * area_per_pixel\n",
    "permanent_water_area_swi = permanent_water_swi.count().values * area_per_pixel\n",
    "water_disappeared_area_swi = water_disappeared_swi.count().values * area_per_pixel"
   ]
  },
  {
   "cell_type": "markdown",
   "metadata": {},
   "source": [
    "## Plotting\n",
    "The water variables are plotted to visualise the result."
   ]
  },
  {
   "cell_type": "code",
   "execution_count": null,
   "metadata": {},
   "outputs": [],
   "source": [
    "water_appeared_color = \"Green\"\n",
    "water_disappeared_color = \"Yellow\"\n",
    "stable_color = \"Blue\"\n",
    "land_color = \"Brown\"\n",
    "\n",
    "fig, ax = plt.subplots(1, 1, figsize=(10, 10))\n",
    "\n",
    "ds_selected_swi[1].plot.imshow(\n",
    "    cmap=\"Pastel1\", add_colorbar=False, add_labels=False, ax=ax\n",
    ")\n",
    "water_appeared_swi.plot.imshow(\n",
    "    cmap=ListedColormap([water_appeared_color]),\n",
    "    add_colorbar=False,\n",
    "    add_labels=False,\n",
    "    ax=ax,\n",
    ")\n",
    "water_disappeared_swi.plot.imshow(\n",
    "    cmap=ListedColormap([water_disappeared_color]),\n",
    "    add_colorbar=False,\n",
    "    add_labels=False,\n",
    "    ax=ax,\n",
    ")\n",
    "permanent_water_swi.plot.imshow(\n",
    "    cmap=ListedColormap([stable_color]), add_colorbar=False, add_labels=False, ax=ax\n",
    ")\n",
    "\n",
    "plt.legend(\n",
    "    [\n",
    "        Patch(facecolor=stable_color),\n",
    "        Patch(facecolor=water_disappeared_color),\n",
    "        Patch(facecolor=water_appeared_color),\n",
    "        Patch(facecolor=land_color),\n",
    "    ],\n",
    "    [\n",
    "        f\"Water to Water {round(permanent_water_area_swi, 2)} km$^2$\",\n",
    "        f\"Water to No Water {round(water_disappeared_area_swi, 2)} km$^2$\",\n",
    "        f\"No Water to Water: {round(water_apperaed_area_swi, 2)} km$^2$\",\n",
    "    ],\n",
    "    loc=\"lower left\",\n",
    ")\n",
    "\n",
    "plt.title(\"Change in water extent using SWI: \" + baseline_time + \" to \" + analysis_time);"
   ]
  },
  {
   "cell_type": "markdown",
   "metadata": {},
   "source": [
    "## CHIRPS"
   ]
  },
  {
   "cell_type": "code",
   "execution_count": null,
   "metadata": {},
   "outputs": [],
   "source": [
    "# Define the catchment area.\n",
    "# catchment_vector_file = 'data/Lake_Chad.geojson'\n",
    "# gdf_catchment = gpd.read_file(catchment_vector_file)\n",
    "# catchment_bbox=list(gdf_catchment.total_bounds)\n",
    "# lon_range = (catchment_bbox[0], catchment_bbox[2])\n",
    "# lat_range = (catchment_bbox[1], catchment_bbox[3])"
   ]
  },
  {
   "cell_type": "code",
   "execution_count": null,
   "metadata": {},
   "outputs": [],
   "source": [
    "# Create the catchment_query dictionary.\n",
    "catchment_query = {\n",
    "    \"x\": lon_range,\n",
    "    \"y\": lat_range,\n",
    "    \"time\": time_range,\n",
    "    \"resolution\": (-5000, 5000),\n",
    "    \"output_crs\": \"EPSG:6933\",\n",
    "    \"dask_chunks\": dask_chunks,\n",
    "}\n",
    "\n",
    "# Load the Rainfall CHIRPS data.\n",
    "ds_rf = dc.load(product=\"rainfall_chirps_monthly\", **catchment_query)\n",
    "\n",
    "print(ds_rf)"
   ]
  },
  {
   "cell_type": "code",
   "execution_count": null,
   "metadata": {},
   "outputs": [],
   "source": [
    "# Compare the monthly total precipitation for the cathcment area with the open water area from SWI.\n",
    "fig, ax1 = plt.subplots(figsize=(17, 6))\n",
    "\n",
    "rf_plot = ds_rf[\"rainfall\"].mean([\"y\", \"x\"])\n",
    "\n",
    "# plt.subplot(2,1,1)\n",
    "rf_plot.plot(\n",
    "    marker=\"^\",\n",
    "    markersize=4,\n",
    "    linewidth=1,\n",
    "    ax=ax1,\n",
    "    linestyle=\"dashed\",\n",
    "    label=\"Precipitation\",\n",
    ")\n",
    "\n",
    "plt.ylabel(\"%s (%s)\" % (\"Total Precipitation\", ds_rf[\"rainfall\"].attrs[\"units\"]))\n",
    "plt.title(\"\")\n",
    "\n",
    "ax2 = ax1.twinx()\n",
    "ds_valid_water_area_swi.plot(\n",
    "    color=\"red\", marker=\"^\", markersize=4, linewidth=1, ax=ax2, label=\"Waterbody Area\"\n",
    ")\n",
    "plt.title(\"\")\n",
    "plt.ylabel(\"Waterbody area (km$^2$)\", color=\"red\")\n",
    "plt.xlabel(\"\")\n",
    "plt.yticks(color=\"red\")\n",
    "\n",
    "fig.legend(loc=\"upper left\", bbox_to_anchor=(0.05, 0.93))\n",
    "fig.suptitle(\n",
    "    f\"Evolution of Lake surface area from SWI, compared to catchment rainfall (CHIRPS) over time from {time_range[0]} to {time_range[1]}\"\n",
    ")\n",
    "fig.tight_layout();"
   ]
  },
  {
   "cell_type": "markdown",
   "metadata": {
    "jp-MarkdownHeadingCollapsed": true,
    "tags": []
   },
   "source": [
    "## Next steps\n",
    "\n",
    "\n",
    "Return to the \"Analysis parameters\" section, modify some values (e.g. `latitude`, `longitude`, `start_year`, `end_year`) and re-run the analysis.\n",
    "You can use the interactive map in the \"View the selected location\" section to find new central latitude and longitude values by panning and zooming, and then clicking on the area you wish to extract location values for.\n",
    "You can also use Google maps to search for a location you know, then return the latitude and longitude values by clicking the map.\n",
    "\n",
    "Change the year also in \"Compare Two Time Periods - a Baseline and an Analysis\" section, (e.g. `base_year`, `analyse_year`) and re-run the analysis."
   ]
  },
  {
   "cell_type": "markdown",
   "metadata": {},
   "source": [
    "---\n",
    "\n",
    "## Additional information\n",
    "\n",
    "**License:** The code in this notebook is licensed under the [Apache License, Version 2.0](https://www.apache.org/licenses/LICENSE-2.0). \n",
    "Digital Earth Africa data is licensed under the [Creative Commons by Attribution 4.0](https://creativecommons.org/licenses/by/4.0/) license.\n",
    "\n",
    "**Contact:** If you need assistance, please post a question on the [Open Data Cube Slack channel](http://slack.opendatacube.org/) or on the [GIS Stack Exchange](https://gis.stackexchange.com/questions/ask?tags=open-data-cube) using the `open-data-cube` tag (you can view previously asked questions [here](https://gis.stackexchange.com/questions/tagged/open-data-cube)).\n",
    "If you would like to report an issue with this notebook, you can file one on [Github](https://github.com/digitalearthafrica/deafrica-sandbox-notebooks).\n",
    "\n",
    "**Compatible datacube version:**"
   ]
  },
  {
   "cell_type": "code",
   "execution_count": null,
   "metadata": {},
   "outputs": [],
   "source": [
    "print(datacube.__version__)"
   ]
  },
  {
   "cell_type": "markdown",
   "metadata": {},
   "source": [
    "**Last Tested:**"
   ]
  },
  {
   "cell_type": "code",
   "execution_count": null,
   "metadata": {
    "raw_mimetype": "text/restructuredtext"
   },
   "outputs": [],
   "source": [
    "from datetime import datetime\n",
    "datetime.today().strftime('%Y-%m-%d')"
   ]
  }
 ],
 "metadata": {
  "kernelspec": {
   "display_name": "Python 3 (ipykernel)",
   "language": "python",
   "name": "python3"
  },
  "language_info": {
   "codemirror_mode": {
    "name": "ipython",
    "version": 3
   },
   "file_extension": ".py",
   "mimetype": "text/x-python",
   "name": "python",
   "nbconvert_exporter": "python",
   "pygments_lexer": "ipython3",
   "version": "3.8.10"
  },
  "widgets": {
   "application/vnd.jupyter.widget-state+json": {
    "state": {
     "151c716e01de42e398bf54cd8cd29602": {
      "model_module": "@jupyter-widgets/controls",
      "model_module_version": "1.5.0",
      "model_name": "DescriptionStyleModel",
      "state": {
       "description_width": ""
      }
     },
     "18b9ef71d49043cfafb2a891787c189a": {
      "model_module": "@jupyter-widgets/controls",
      "model_module_version": "1.5.0",
      "model_name": "DescriptionStyleModel",
      "state": {
       "description_width": ""
      }
     },
     "4cd5a66832e345e4bbb8490ce5d71dce": {
      "model_module": "@jupyter-widgets/controls",
      "model_module_version": "1.5.0",
      "model_name": "FloatProgressModel",
      "state": {
       "layout": "IPY_MODEL_72829023ed9b4676a9425ddd221e7098",
       "max": 61,
       "style": "IPY_MODEL_83478023986541f8a273a1d54dc58bca",
       "value": 61
      }
     },
     "6124672c047e40598768f85060429e81": {
      "model_module": "@jupyter-widgets/base",
      "model_module_version": "1.2.0",
      "model_name": "LayoutModel",
      "state": {}
     },
     "68109c0feec844eb88b51cd32c537669": {
      "model_module": "@jupyter-widgets/base",
      "model_module_version": "1.2.0",
      "model_name": "LayoutModel",
      "state": {}
     },
     "72829023ed9b4676a9425ddd221e7098": {
      "model_module": "@jupyter-widgets/base",
      "model_module_version": "1.2.0",
      "model_name": "LayoutModel",
      "state": {}
     },
     "7abee18368734eb880dad0a6be1853e7": {
      "model_module": "@jupyter-widgets/controls",
      "model_module_version": "1.5.0",
      "model_name": "HTMLModel",
      "state": {
       "layout": "IPY_MODEL_6124672c047e40598768f85060429e81",
       "style": "IPY_MODEL_151c716e01de42e398bf54cd8cd29602",
       "value": " 62/? (0.0 seconds remaining at  2.76 frames/s)"
      }
     },
     "83478023986541f8a273a1d54dc58bca": {
      "model_module": "@jupyter-widgets/controls",
      "model_module_version": "1.5.0",
      "model_name": "ProgressStyleModel",
      "state": {
       "description_width": ""
      }
     },
     "94619b23d2c149e39af86f8c76ba9942": {
      "model_module": "@jupyter-widgets/controls",
      "model_module_version": "1.5.0",
      "model_name": "HBoxModel",
      "state": {
       "children": [
        "IPY_MODEL_cf4e09d0643c40118653e8bb7a4f2a69",
        "IPY_MODEL_4cd5a66832e345e4bbb8490ce5d71dce",
        "IPY_MODEL_7abee18368734eb880dad0a6be1853e7"
       ],
       "layout": "IPY_MODEL_e11da1d8a3c64706944cc530359b5c44"
      }
     },
     "cf4e09d0643c40118653e8bb7a4f2a69": {
      "model_module": "@jupyter-widgets/controls",
      "model_module_version": "1.5.0",
      "model_name": "HTMLModel",
      "state": {
       "layout": "IPY_MODEL_68109c0feec844eb88b51cd32c537669",
       "style": "IPY_MODEL_18b9ef71d49043cfafb2a891787c189a"
      }
     },
     "e11da1d8a3c64706944cc530359b5c44": {
      "model_module": "@jupyter-widgets/base",
      "model_module_version": "1.2.0",
      "model_name": "LayoutModel",
      "state": {}
     }
    },
    "version_major": 2,
    "version_minor": 0
   }
  }
 },
 "nbformat": 4,
 "nbformat_minor": 4
}
