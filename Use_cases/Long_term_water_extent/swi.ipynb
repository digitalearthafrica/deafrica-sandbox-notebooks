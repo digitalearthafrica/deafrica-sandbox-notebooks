{
 "cells": [
  {
   "cell_type": "markdown",
   "id": "85247980-ecd9-44e8-86eb-d948eab37a83",
   "metadata": {},
   "source": [
    "# Mapping water extent and rainfall using WOfS and CHIRPS\n",
    "\n",
    "* **Products used:** \n",
    "[wofs_ls](https://explorer.digitalearth.africa/products/wofs_ls),\n",
    "[rainfall_chirps_monthly](https://explorer.digitalearth.africa/products/rainfall_chirps_monthly)"
   ]
  },
  {
   "cell_type": "raw",
   "id": "b9e81cbe-620d-4dad-b4ff-8d9382448dfc",
   "metadata": {},
   "source": [
    "**Keywords**: :index:`data used; Sentinel 1`, :index:`data used; CHIRPS`, :index:`water; extent`, :index:`analysis; time series`"
   ]
  },
  {
   "cell_type": "markdown",
   "id": "bef15f5f-a8e7-43b3-ab3a-26417f04ff14",
   "metadata": {},
   "source": [
    "## Background\n"
   ]
  },
  {
   "cell_type": "markdown",
   "id": "49a2701a-607b-43b5-bd94-93dd15a7920e",
   "metadata": {},
   "source": [
    "## Description\n",
    "\n",
    "***"
   ]
  },
  {
   "cell_type": "markdown",
   "id": "c12695ff-6b9e-426b-9c40-46b1257ccc78",
   "metadata": {},
   "source": [
    "## Load packages\n",
    "Import Python packages that are used for the analysis."
   ]
  },
  {
   "cell_type": "code",
   "execution_count": null,
   "id": "e954d7d3-660c-4dcf-a79c-977cc1fe9f4d",
   "metadata": {},
   "outputs": [],
   "source": [
    "%matplotlib inline\n",
    "\n",
    "%load_ext autoreload\n",
    "%autoreload 2\n",
    "import datacube\n",
    "import xarray as xr\n",
    "import matplotlib.pyplot as plt\n",
    "\n",
    "\n",
    "from deafrica_tools.datahandling import load_ard\n",
    "from deafrica_tools.dask import create_local_dask_cluster\n",
    "from deafrica_tools.datahandling import wofs_fuser\n",
    "\n",
    "from long_term_water_extent import (\n",
    "    load_vector_file,\n",
    "    get_resampled_labels,\n",
    "    resample_water_observations,\n",
    "    resample_rainfall_observations,\n",
    "    calculate_change_in_extent,\n",
    "    compare_extent_and_rainfall,\n",
    ")"
   ]
  },
  {
   "cell_type": "markdown",
   "id": "ce618fa4-2a49-43f3-85c2-564797c69f27",
   "metadata": {},
   "source": [
    "## Set up a Dask cluster\n",
    "\n",
    "Dask can be used to better manage memory use and conduct the analysis in parallel. "
   ]
  },
  {
   "cell_type": "code",
   "execution_count": null,
   "id": "756f38cb-0323-4def-a77e-5439a41b810e",
   "metadata": {},
   "outputs": [],
   "source": [
    "create_local_dask_cluster()"
   ]
  },
  {
   "cell_type": "markdown",
   "id": "24833f7f-76e9-4ec6-a7da-58472c6ad5b9",
   "metadata": {},
   "source": [
    "## Connect to Data Cube"
   ]
  },
  {
   "cell_type": "code",
   "execution_count": null,
   "id": "d5c35c92-5144-48cc-8d9d-5bd8705992b4",
   "metadata": {},
   "outputs": [],
   "source": [
    "dc = datacube.Datacube(app=\"long_term_water_extent\")"
   ]
  },
  {
   "cell_type": "markdown",
   "id": "42ad61a7-3864-4937-bd4b-ee42a808fe90",
   "metadata": {},
   "source": [
    "## Analysis parameters\n",
    "\n",
    "The following cell sets the parameters, which define the area of interest and the length of time to conduct the analysis over.\n",
    "\n",
    "* Upload a vector file for your water extent and your catchment to the `data` folder.\n",
    "* Set the time range you want to use.\n",
    "* Set the resampling strategy. Possible options include:\n",
    "    *  `\"1Y\"` - Annual resampling, use this option for longer term monitoring\n",
    "    * `\"QS-DEC\"` - Quarterly resampling from December\n",
    "    * `\"3M\"` - Three-monthly resampling\n",
    "    * `\"1M\"` - Monthly resampling\n",
    "\n",
    "For more details on resampling timeframes, see the [xarray](https://xarray.pydata.org/en/v0.8.2/generated/xarray.Dataset.resample.html#r29) and [pandas](https://pandas.pydata.org/pandas-docs/stable/user_guide/timeseries.html#dateoffset-objects) documentation."
   ]
  },
  {
   "cell_type": "code",
   "execution_count": null,
   "id": "7ab48f11-8ae0-40b6-a0c6-6a8992493952",
   "metadata": {},
   "outputs": [],
   "source": [
    "water_extent_vector_file = \"data/lake_baringo_extent.geojson\"\n",
    "\n",
    "water_catchment_vector_file = \"data/lake_baringo_catchment.geojson\"\n",
    "\n",
    "time_range = (\"2018\", \"2021\")\n",
    "\n",
    "resample_strategy = \"Q-DEC\"\n",
    "\n",
    "dask_chunks = dict(x=1000, y=1000)"
   ]
  },
  {
   "cell_type": "markdown",
   "id": "b86eba0e-08b8-4bb0-a56a-4e4fdcaf6be2",
   "metadata": {},
   "source": [
    "## Get waterbody and catchment geometries\n",
    "\n",
    "The next cell will extract the waterbody and catchment geometries from the supplied vector files, which will be used to load Water Observations from Space and the CHIRPS rainfall products."
   ]
  },
  {
   "cell_type": "code",
   "execution_count": null,
   "id": "2d19c54b-8f16-42d6-b648-01624485e052",
   "metadata": {},
   "outputs": [],
   "source": [
    "extent, extent_geometry = load_vector_file(water_extent_vector_file)\n",
    "catchment, catchment_geometry = load_vector_file(water_catchment_vector_file)"
   ]
  },
  {
   "cell_type": "markdown",
   "id": "9d3da370-3c56-4fd2-8b6a-a4e998e4f1ba",
   "metadata": {},
   "source": [
    "## Load Water Observation from Space for Waterbody\n",
    "\n",
    "The first step is to load the Water Observations from Space product using the extent geometry."
   ]
  },
  {
   "cell_type": "code",
   "execution_count": null,
   "id": "fe1583e1-d9a0-4a64-8ca1-561729abbaa3",
   "metadata": {},
   "outputs": [],
   "source": [
    "extent_query = {\n",
    "    \"time\": time_range,\n",
    "    \"resolution\": (-20, 20),\n",
    "    \"output_crs\": \"EPSG:6933\",\n",
    "    \"geopolygon\": extent_geometry,\n",
    "    \"group_by\": \"solar_day\",\n",
    "    \"dask_chunks\":dask_chunks\n",
    "}\n",
    "\n",
    "ds = load_ard(dc=dc, products=[\"s1_rtc\"], measurements=[\"vv\", \"vh\"], **extent_query)"
   ]
  },
  {
   "cell_type": "markdown",
   "id": "dbf7f4c6-4543-4a7f-b32a-92323026a0ba",
   "metadata": {},
   "source": [
    "## Convert the Sentinel-1 digital numbers to dB"
   ]
  },
  {
   "cell_type": "markdown",
   "id": "ddf0052c-9e01-4319-99a5-9fe008cbb9e0",
   "metadata": {},
   "source": [
    "While Sentinel-1 backscatter is provided as linear intensiy, it is often useful to convert the backscatter to decible (dB) for analysis. \n",
    "Backscatter in dB unit has a more symmetric noise profile and less skewed value distribution for easier statistical evaluation.\n",
    "\n",
    "The Sentinel-1 backscatter data is converted from digital number (DN) to backscatter in decibel unit (dB) using the function:\n",
    "\n",
    "\\begin{equation}\n",
    "10 * \\log_{10}(\\text{DN})\n",
    "\\end{equation}"
   ]
  },
  {
   "cell_type": "code",
   "execution_count": null,
   "id": "b5690a6a-b6ad-42e5-b63d-5170c1a9efb5",
   "metadata": {
    "tags": []
   },
   "outputs": [],
   "source": [
    "# Convert DN to db values.\n",
    "ds[\"vv_db\"] = 10 * xr.ufuncs.log10(ds.vv)\n",
    "ds[\"vh_db\"] = 10 * xr.ufuncs.log10(ds.vh)"
   ]
  },
  {
   "cell_type": "markdown",
   "id": "c0054fe3-4f0b-41fb-9184-9dcb95f401ee",
   "metadata": {},
   "source": [
    "## Calculate the SWI water index"
   ]
  },
  {
   "cell_type": "markdown",
   "id": "da73e94b-5f01-48ee-93b0-02d520dfbdaf",
   "metadata": {},
   "source": [
    "The Sentinel-1A water index (SWI) is calculated as follows:\n",
    "\n",
    "\\begin{equation} \n",
    "\\text{SWI} = 0.1747 * \\beta _{vv} + 0.0082 * \\beta _{vh} * \\beta _{vv} + 0.0023 * \\beta _{vv}^{2} - 0.0015 * \\beta _{vh}^{2} + 0.1904\n",
    "\\end{equation}\n",
    "\n",
    "where  βvh and βvv represent the backscattering coefficient in VH polarization and VV polarization, respectively ([Tian et al., 2017](https://doi.org/10.3390/rs9060521)). "
   ]
  },
  {
   "cell_type": "code",
   "execution_count": null,
   "id": "2631390c-ddc3-4a69-aa24-4920b4fedd42",
   "metadata": {},
   "outputs": [],
   "source": [
    "# Calculate the Sentinel-1A Water Index (SWI).\n",
    "swi = (\n",
    "    (0.1747 * ds.vv_db)\n",
    "    + (0.0082 * ds.vh_db * ds.vv_db)\n",
    "    + (0.0023 * ds.vv_db ** 2)\n",
    "    - (0.0015 * ds.vh_db ** 2)\n",
    "    + 0.1904\n",
    ")\n",
    "\n",
    "print(swi)"
   ]
  },
  {
   "cell_type": "markdown",
   "id": "886bd2d5-e5f4-4bbb-8492-23b2625ea712",
   "metadata": {},
   "source": [
    "### Identify water in each resampling period\n",
    "\n",
    "The second step is to resample the observations to get a consistent measure of the waterbody, and then calculate the classified as water for each period."
   ]
  },
  {
   "cell_type": "code",
   "execution_count": null,
   "id": "60c8505f-d8fb-49f3-9763-d870a4086237",
   "metadata": {},
   "outputs": [],
   "source": [
    "resampled_water_ds, resampled_water_area_ds = resample_water_observations(\n",
    "    swi, resample_strategy, radar=True\n",
    ")\n",
    "\n",
    "date_range_labels = get_resampled_labels(ds, resample_strategy)"
   ]
  },
  {
   "cell_type": "markdown",
   "id": "3fec2eb5-2c37-4254-88ac-6ecf9906cf54",
   "metadata": {},
   "source": [
    "### Plot the change in water area over time"
   ]
  },
  {
   "cell_type": "code",
   "execution_count": null,
   "id": "e43ea179-9bbf-4501-ab10-f8949fe679c7",
   "metadata": {},
   "outputs": [],
   "source": [
    "resampled_water_area_ds"
   ]
  },
  {
   "cell_type": "code",
   "execution_count": null,
   "id": "3861d412-f0cc-4264-a6a6-5d36cab703d4",
   "metadata": {},
   "outputs": [],
   "source": [
    "fig, ax = plt.subplots(figsize=(15, 5))\n",
    "\n",
    "ax.plot(\n",
    "    date_range_labels,\n",
    "    resampled_water_area_ds.values,\n",
    "    color=\"red\",\n",
    "    marker=\"^\",\n",
    "    markersize=4,\n",
    "    linewidth=1,\n",
    ")\n",
    "plt.xticks(date_range_labels, rotation=65)\n",
    "plt.title(f\"Observed Area of Water from {time_range[0]} to {time_range[1]}\")\n",
    "plt.ylabel(\"Waterbody area (km$^2$)\")\n",
    "plt.tight_layout()"
   ]
  },
  {
   "cell_type": "markdown",
   "id": "525d90bd-f1b3-4711-bb5c-6f0c0314ecb2",
   "metadata": {},
   "source": [
    "## Load CHIRPS monthly rainfall\n",
    "\n"
   ]
  },
  {
   "cell_type": "code",
   "execution_count": null,
   "id": "f4c63120-dd24-471c-976a-608eabede307",
   "metadata": {},
   "outputs": [],
   "source": [
    "catchment_query = {\n",
    "    \"time\": time_range,\n",
    "    \"resolution\": (-5000, 5000),\n",
    "    \"output_crs\": \"EPSG:6933\",\n",
    "    \"geopolygon\": catchment_geometry,\n",
    "    \"group_by\": \"solar_day\",\n",
    "    \"dask_chunks\":dask_chunks\n",
    "}\n",
    "\n",
    "rainfall_ds = dc.load(product=\"rainfall_chirps_monthly\", **catchment_query)"
   ]
  },
  {
   "cell_type": "markdown",
   "id": "9cc61a0e-7af7-4cb8-b300-6cc0c85381c3",
   "metadata": {},
   "source": [
    "### Resample to estimate rainfall for each time period\n",
    "\n",
    "This is done by taking calculating the average rainfall over the extent of the catchment, then summing these averages over the resampling period to estimate the total rainfall for the catchment."
   ]
  },
  {
   "cell_type": "code",
   "execution_count": null,
   "id": "cc4e8735-429f-4416-964d-b837b5adfcef",
   "metadata": {},
   "outputs": [],
   "source": [
    "catchment_rainfall_resampled_ds = resample_rainfall_observations(\n",
    "    rainfall_ds, resample_strategy, catchment\n",
    ")"
   ]
  },
  {
   "cell_type": "markdown",
   "id": "101170ec-f5dc-4527-8723-bec41d17a03f",
   "metadata": {},
   "source": [
    "## Compare waterbody area to catchment rainfall\n",
    "\n",
    "This step plots the summed average rainfall for the catchment area over each period as a histogram, overlaid with the waterbody area calculated previously."
   ]
  },
  {
   "cell_type": "code",
   "execution_count": null,
   "id": "89d2660a-fad9-49c4-8869-3a706a7f9eb1",
   "metadata": {},
   "outputs": [],
   "source": [
    "figure = compare_extent_and_rainfall(\n",
    "    resampled_water_area_ds, catchment_rainfall_resampled_ds, \"mm\", date_range_labels\n",
    ")"
   ]
  },
  {
   "cell_type": "markdown",
   "id": "4d23aac1-6d23-4016-854f-86c2fd4697f4",
   "metadata": {},
   "source": [
    "### Save the figure"
   ]
  },
  {
   "cell_type": "code",
   "execution_count": null,
   "id": "fb429ce2-8cdc-4d91-82ce-aff368d696a8",
   "metadata": {},
   "outputs": [],
   "source": [
    "figure.savefig(\"waterarea_and_rainfall.png\", bbox_inches=\"tight\")"
   ]
  },
  {
   "cell_type": "markdown",
   "id": "261468f2-caf5-425a-bca4-abc3cf3d9c2f",
   "metadata": {},
   "source": [
    "## Compare water extent for two different periods\n",
    "\n",
    "For the next step, enter a baseline date, and an analysis date to construct a plot showing where water appeared, as well as disappeared, by comparing the two dates."
   ]
  },
  {
   "cell_type": "code",
   "execution_count": null,
   "id": "80a1c0bf-f6c4-40ef-8cd7-4097d1ca4ceb",
   "metadata": {},
   "outputs": [],
   "source": [
    "baseline_time = \"2002-01-01\"\n",
    "analysis_time = \"2020-01-01\""
   ]
  },
  {
   "cell_type": "code",
   "execution_count": null,
   "id": "27229718-3b24-4474-b257-04e30c0cf2e2",
   "metadata": {},
   "outputs": [],
   "source": [
    "figure = calculate_change_in_extent(baseline_time, analysis_time, resampled_water_ds)"
   ]
  },
  {
   "cell_type": "markdown",
   "id": "deff6699-c743-42b8-b1f6-91bbe215f1fa",
   "metadata": {},
   "source": [
    "### Save figure"
   ]
  },
  {
   "cell_type": "code",
   "execution_count": null,
   "id": "f91e695e-2e30-41a5-8ce3-24ab47bef39a",
   "metadata": {},
   "outputs": [],
   "source": [
    "figure.savefig(\"waterarea_change.png\", bbox_inches=\"tight\")"
   ]
  },
  {
   "cell_type": "markdown",
   "id": "2c89bbd5-b572-49ca-8a3e-0bb68f82042e",
   "metadata": {},
   "source": [
    "---\n",
    "\n",
    "## Additional information\n",
    "\n",
    "**License:** The code in this notebook is licensed under the [Apache License, Version 2.0](https://www.apache.org/licenses/LICENSE-2.0). \n",
    "Digital Earth Africa data is licensed under the [Creative Commons by Attribution 4.0](https://creativecommons.org/licenses/by/4.0/) license.\n",
    "\n",
    "**Contact:** If you need assistance, please post a question on the [Open Data Cube Slack channel](http://slack.opendatacube.org/) or on the [GIS Stack Exchange](https://gis.stackexchange.com/questions/ask?tags=open-data-cube) using the `open-data-cube` tag (you can view previously asked questions [here](https://gis.stackexchange.com/questions/tagged/open-data-cube)).\n",
    "If you would like to report an issue with this notebook, you can file one on [Github](https://github.com/digitalearthafrica/deafrica-sandbox-notebooks).\n",
    "\n",
    "**Compatible datacube version:**"
   ]
  },
  {
   "cell_type": "code",
   "execution_count": null,
   "id": "79a6e30a-07ab-400f-a2e2-1e4f77c8db22",
   "metadata": {},
   "outputs": [],
   "source": [
    "print(datacube.__version__)"
   ]
  },
  {
   "cell_type": "markdown",
   "id": "69e99f4e-537c-41d7-820b-1e203f070637",
   "metadata": {},
   "source": [
    "**Last Tested:**"
   ]
  },
  {
   "cell_type": "code",
   "execution_count": null,
   "id": "7709c14a-3acd-4e4c-b7b3-8a29b31984e8",
   "metadata": {},
   "outputs": [],
   "source": [
    "from datetime import datetime\n",
    "datetime.today().strftime('%Y-%m-%d')"
   ]
  }
 ],
 "metadata": {
  "kernelspec": {
   "display_name": "Python 3 (ipykernel)",
   "language": "python",
   "name": "python3"
  },
  "language_info": {
   "codemirror_mode": {
    "name": "ipython",
    "version": 3
   },
   "file_extension": ".py",
   "mimetype": "text/x-python",
   "name": "python",
   "nbconvert_exporter": "python",
   "pygments_lexer": "ipython3",
   "version": "3.8.10"
  },
  "toc-autonumbering": false,
  "toc-showcode": false,
  "toc-showmarkdowntxt": true,
  "toc-showtags": false,
  "widgets": {
   "application/vnd.jupyter.widget-state+json": {
    "state": {},
    "version_major": 2,
    "version_minor": 0
   }
  }
 },
 "nbformat": 4,
 "nbformat_minor": 5
}
