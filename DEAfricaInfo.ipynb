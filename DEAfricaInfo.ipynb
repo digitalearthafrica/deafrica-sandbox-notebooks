{
 "cells": [
  {
   "cell_type": "markdown",
   "id": "603997d7",
   "metadata": {},
   "source": [
    "<img align=\"centre\" src=\"Supplementary_data/Github_banner.jpg\" width=\"100%\">"
   ]
  },
  {
   "cell_type": "markdown",
   "id": "d1edbaeb-049c-4c2e-ac0e-df097d919231",
   "metadata": {
    "tags": []
   },
   "source": [
    " <div class=\"alert alert-block alert-success\"><b><h2>Important Updates</h2></b></div>"
   ]
  },
  {
   "cell_type": "markdown",
   "id": "1c5182ed-73ca-4f59-95bc-0ecf4cbc1139",
   "metadata": {},
   "source": [
    "<span style=\"color:#485461\"><b><h3>June 2023</h3></b></span>"
   ]
  },
  {
   "cell_type": "markdown",
   "id": "b2d56001-f84d-4a43-9311-df0fa8dec4f5",
   "metadata": {},
   "source": [
    "<span style=\"color:#485461\"><b><h4>Python Package updates</h4></b></span>\n",
    "We have updated a number of python packages in the Analysis Sandbox. These include:\n",
    "\n",
    "| Package | Old | New |\n",
    "| :- | -: | -: |\n",
    "| python | 3.8.10 | 3.10.6 |\n",
    "| datacube | 1.8.8 | 1.8.13 |\n",
    "| xarray  | 0.12.2 | 2023.5.0 |\n",
    "| geopandas | 0.11.1 | 0.13.2 |\n",
    "| shapely | 1.8.5.post1 | 2.0.1 | \n",
    "| matplotlib | 3.6.0 | 3.7.1 | \n",
    "| pyproj | 3.4.0 | 3.5.0 |\n",
    "\n",
    "For more information on the Analysis Sandbox image upgrade see the [deafrica-sandbox 0.0.6 release](https://github.com/digitalearthafrica/deafrica-sandbox/releases/tag/0.0.6)."
   ]
  },
  {
   "cell_type": "markdown",
   "id": "f4b369a9-e110-440b-ba69-cafb93381b97",
   "metadata": {},
   "source": [
    "<span style=\"color:#485461\"><b><h4>Breaking changes</h4></b></span>"
   ]
  },
  {
   "cell_type": "markdown",
   "id": "a97cabae-8b46-4dda-bea6-2be670d89b96",
   "metadata": {},
   "source": [
    "- With the **xarray package** update, xarray’s  ufuncs can no longer be used in the Analysis Sandbox and have been replaced in the notebooks and scripts with [numpy's ufuncs](https://numpy.org/doc/stable/reference/ufuncs.html) instead. \n",
    "E.g. `xarray.ufuncs.1og10` has been replaced with `np.log10`.\n",
    "\n",
    "    *Code cell from the old version of the Real_world_examples/Radar_water_detection.ipynb notebook* \n",
    "    \n",
    "    <img src=\"Supplementary_data/DEAfricaInfo/radar_water_detection_old.png\" width=\"100%\">\n",
    "    \n",
    "    *Code cell from the new version of the Real_world_examples/Radar_water_detection.ipynb notebook* \n",
    "    \n",
    "    <img src=\"Supplementary_data/DEAfricaInfo/radar_water_detection_new.png\" width=\"100%\">"
   ]
  },
  {
   "cell_type": "markdown",
   "id": "525eb1e6-fa24-470d-8b1b-d3bb303c9d4d",
   "metadata": {},
   "source": [
    "- With the **xarray package** update, using a `tuple` as a sequence in the xarray [`.sel`](https://docs.xarray.dev/en/stable/generated/xarray.DataArray.sel.html#xarray.DataArray.sel) method, e.g. `data_array.sel(coordinate=(val1, val2))` is no longer supported. Use a `list` or `range` instead of a tuple e.g. `data_array.sel(coordinate=[val1, val2])`. For more details see [xarray issue #6835](https://github.com/pydata/xarray/issues/6835)."
   ]
  },
  {
   "cell_type": "markdown",
   "id": "4794355b-3eb6-4b4a-a15c-7dafbf95ff58",
   "metadata": {},
   "source": [
    "- With the **matplotlib package** update, some of the plotting functionality has been updated within the notebooks. E.g.:\n",
    "    - `matplotlib.cm.get_cmap(cmap_name)` has been deprecated, use `matplotlib.colormaps[cmap_name]` instead.\n",
    "    - All parameters of `imshow` starting from aspect are keyword-only.\n",
    "    \n",
    "    For more details see the [Matplotlib API changes for 3.7.0](https://matplotlib.org/stable/api/prev_api_changes/api_changes_3.7.0.html#api-changes-for-3-7-0).\n",
    "\n",
    "    *Code cell from the old version of the Datasets/NDVI_Anomaly.ipynb notebook*\n",
    "    \n",
    "     <img align=\"centre\" src=\"Supplementary_data/DEAfricaInfo/ndvi_anomaly_old.png\" width=\"400\" height=\"80\">\n",
    "     \n",
    "    *Code cell from the new version of the Datasets/NDVI_Anomaly.ipynb notebook*\n",
    "    \n",
    "     <img align=\"centre\" src=\"Supplementary_data/DEAfricaInfo/ndvi_anomaly_new.png\" width=\"400\" height=\"80\">"
   ]
  },
  {
   "cell_type": "markdown",
   "id": "b3836904-64b1-4073-889b-ebda6b48d5f0",
   "metadata": {},
   "source": [
    "- With the **shapely package** update, iteration over multi-part geometries is deprecated. For alternatives see [Multi-part geometries will no longer be “sequences” (length, iterable, indexable)](https://shapely.readthedocs.io/en/stable/migration.html#multi-part-geometries-will-no-longer-be-sequences-length-iterable-indexable) or [this GIS Stack Exchange answer](https://gis.stackexchange.com/a/378895) applied to the `contours_to_arrays` function of the [deafrica_tools.spatial module](Tools/deafrica_tools/spatial.py)."
   ]
  },
  {
   "cell_type": "markdown",
   "id": "bf28d796-0b12-4800-b407-75a4cabcd170",
   "metadata": {},
   "source": [
    "- Support for python `3.8` has been dropped for the `deafrica-tools`. `deafrica-tools` version `2.0.0` requires Python version `>=3.9,<3.12`. Minimum versions of some dependencies were also changed. See the `deafrica-tools` [pyproject.toml](Tools/pyproject.toml) for the updated versions of the package dependencies."
   ]
  },
  {
   "cell_type": "markdown",
   "id": "d6f6d48f-d274-44d8-a9b3-5561e374d62c",
   "metadata": {},
   "source": [
    "<span style=\"color:#485461\"><b><h4>Changed</h4></b></span>"
   ]
  },
  {
   "cell_type": "markdown",
   "id": "32c941d4-26e9-48b2-aa09-ab4ec25fb015",
   "metadata": {},
   "source": [
    "- The `esa_world_cover` product has been archived. \n",
    "All notebooks that use the `esa_world_cover` product have been updated to use the [`esa_world_cover_2020`](https://explorer.digitalearth.africa/products/esa_worldcover_2020) product to load ESA World Cover, global 10 m land use/land cover data from 2020. \n",
    "To load data for 2021 please use the [`esa_world_cover_2021`](https://explorer.digitalearth.africa/products/esa_worldcover_2021) product. \n",
    "\n",
    "    *Code cell from the old version of the Real_world_examples/Cropland_extent.ipynb notebook*\n",
    "    \n",
    "    <img src=\"Supplementary_data/DEAfricaInfo/cropland_extent_old.png\" width=\"100%\">\n",
    "    \n",
    "    \n",
    "    *Code cell from the new version of the Real_world_examples/Cropland_extent.ipynb notebook*\n",
    "    \n",
    "    <img src=\"Supplementary_data/DEAfricaInfo/cropland_extent_new.png\" width=\"100%\">"
   ]
  },
  {
   "cell_type": "markdown",
   "id": "52093a02-c084-4b85-a7b7-54cd3fd44db5",
   "metadata": {},
   "source": [
    "- The `load_soil_moisture` function previously defined in the [Global Root-zone moisture Analysis & Forecasting System (GRAFS) Dataset notebook](Datasets/Soil_Moisture.ipynb) is now part of the [load_soil_moisture module](Tools/deafrica_tools/load_soil_moisture.py) in the `deafrica-tools` package."
   ]
  },
  {
   "cell_type": "markdown",
   "id": "86fb4c52-9b1c-4d98-adc3-0671df6bc512",
   "metadata": {},
   "source": [
    "- With the xarray package update, notebooks using `xr.DataArray.resample()` and `xr.Dataset.resample()`  with the `loffset` parameter have been updated to use time offset arithmetic to replace the `loffset` parameter. For more details see the [xarray v2023.03.0 release notes](https://docs.xarray.dev/en/stable/whats-new.html#id36).\n",
    "\n",
    "    *Code cell from the old version of the Use_cases/Lake_baringo_grazing/Vegetation_phenology_1D.ipynb notebook*\n",
    "    \n",
    "    <img align=\"centre\" src=\"Supplementary_data/DEAfricaInfo/vegetation_phenology_1D_old.png\" width=\"100%\">\n",
    "    \n",
    "    *Code cell from the new version of the Use_cases/Lake_baringo_grazing/Vegetation_phenology_1D.ipynb notebook*\n",
    "    \n",
    "    <img align=\"centre\" src=\"Supplementary_data/DEAfricaInfo/vegetation_phenology_1D_new.png\" width=\"100%\">"
   ]
  },
  {
   "cell_type": "markdown",
   "id": "a09fd480-5106-462a-8a2b-026d0661bc6d",
   "metadata": {},
   "source": [
    "- Other notable changes include: \n",
    "    - `pyproj.Proj` and `pyproj.transformer.transform()` have been replaced in the notebooks and scripts with `pyproj.transformer.Transformer` and `pyproj.crs.CRS`. For more details see [Upgrading to pyproj 2 from pyproj 1](https://pyproj4.github.io/pyproj/stable/gotchas.html#upgrading-to-pyproj-2-from-pyproj-1)."
   ]
  },
  {
   "cell_type": "markdown",
   "id": "a52d8c13-6926-4b06-8062-d8fd8816b6d8",
   "metadata": {},
   "source": [
    "<span style=\"color:#485461\"><b><h4>Added</h4></b></span>"
   ]
  },
  {
   "cell_type": "markdown",
   "id": "6dfc5fb5-3111-46dd-837c-6af9d281a850",
   "metadata": {},
   "source": [
    "- The notebooks and scripts in the Analysis Sandbox, that use the geopandas package have been updated to set an environment variable (`USE_PYGEOS=0`) before importing geopandas. This is because in future, GeoPandas will deprecate support of the PyGEOS backend and will go forward with Shapely 2.0 as the only geometry engine exposing GEOS functionality. For  more details see [Migration from PyGEOS geometry backend to Shapely 2.0](https://geopandas.org/en/stable/docs/user_guide/pygeos_to_shapely.html).\n",
    "\n",
    "    *Code cell from new version of the Datasets/Coastlines.ipynb notebook*\n",
    "    \n",
    "    <img align=\"centre\" src=\"Supplementary_data/DEAfricaInfo/use_shapely_backend_geopandas.png\" width=\"100%\">"
   ]
  },
  {
   "cell_type": "markdown",
   "id": "6bb8c082-1232-43ad-9fca-64f7b5224b2c",
   "metadata": {},
   "source": [
    "<span style=\"color:#485461\"><b><h3>May 2023</h3></b></span>"
   ]
  },
  {
   "cell_type": "markdown",
   "id": "e676c2d0-c32e-4190-a90b-dc544aadee6d",
   "metadata": {},
   "source": [
    "* The monthly [NDVI Mean and Anomalies](https://www.digitalearthafrica.org/platform-resources/services/mean-ndvi-and-anomalies) service has been released."
   ]
  },
  {
   "cell_type": "markdown",
   "id": "4b39c579-84d2-44b0-ab42-a65bb6744c19",
   "metadata": {},
   "source": [
    "<div class=\"alert alert-block alert-danger\">\n",
    "<b> <h2>Information </h2</b>\n",
    "</div>"
   ]
  },
  {
   "cell_type": "markdown",
   "id": "a71ebe1f-9ed4-434e-8b79-81cdf2bf4a35",
   "metadata": {},
   "source": [
    "<span style=\"color:#485461\"><b>Notebooks</b></span>\n",
    "\n",
    "This Sandbox environment hosts many Jupyter Notebooks which you are free to experiment with. The Digital Earth Africa notebook repository is often updated and latest updates can be seen in the Sandbox and inspected on [GitHub](https://github.com/digitalearthafrica/deafrica-sandbox-notebooks). \n",
    "\n",
    "The Digital Earth Africa Notebooks repository ([`deafrica-sandbox-notebooks`](https://github.com/digitalearthafrica/deafrica-sandbox-notebooks)) hosts Jupyter Notebooks, Python scripts and workflows for analysing [Digital Earth Africa (DE Africa)](https://www.digitalearthafrica.org/) satellite data and derived products. This documentation is designed to provide a guide to getting started with DE Africa, and to showcase the wide range of geospatial analyses that can be achieved using DE Africa data and open-source software including [Open Data Cube](https://www.opendatacube.org/) and [xarray](http://xarray.pydata.org/en/stable/)."
   ]
  },
  {
   "cell_type": "markdown",
   "id": "957a7e4e-fa5f-447e-bcd7-ef2154700c61",
   "metadata": {},
   "source": [
    "<img align=\"left\" src=\"https://img.shields.io/badge/License-Apache%202.0-blue.svg\">."
   ]
  },
  {
   "cell_type": "markdown",
   "id": "fcc03ba7-c5e9-4ad6-9ab8-e2d9c7c362dd",
   "metadata": {},
   "source": [
    "For guidance on the Sandbox and integrating Git for version control, please see the [Digital Earth Africa documentation](https://docs.digitalearthafrica.org/en/latest/sandbox).\n",
    "\n",
    "<span style=\"color:#485461\"><b>Datasets</b></span>\n",
    "\n",
    "The Sandbox enables access to Digital Earth Africa's datasets which can be explored in the Datasets folder. The list of datasets can also be found in the [metadata explorer](https://explorer.digitalearth.africa/products)."
   ]
  },
  {
   "cell_type": "markdown",
   "id": "4f208aeb-810f-434d-b7f1-eaafaf0e165a",
   "metadata": {},
   "source": [
    " <div class=\"alert alert-block alert-info\"><b><h2> Support</h2> </b></div>"
   ]
  },
  {
   "cell_type": "markdown",
   "id": "7e646ac2-58e3-4649-8138-0a6b9b49b5a7",
   "metadata": {},
   "source": [
    "The [Training and Help](https://www.digitalearthafrica.org/platform-resources/training-and-help) page can be consulted for guidance on using the Helpdesk and accessing training and the user guide."
   ]
  }
 ],
 "metadata": {
  "jupytext": {
   "cell_metadata_filter": "-all",
   "main_language": "python",
   "notebook_metadata_filter": "-all"
  },
  "kernelspec": {
   "display_name": "Python 3 (ipykernel)",
   "language": "python",
   "name": "python3"
  },
  "language_info": {
   "codemirror_mode": {
    "name": "ipython",
    "version": 3
   },
   "file_extension": ".py",
   "mimetype": "text/x-python",
   "name": "python",
   "nbconvert_exporter": "python",
   "pygments_lexer": "ipython3",
   "version": "3.8.10"
  }
 },
 "nbformat": 4,
 "nbformat_minor": 5
}
