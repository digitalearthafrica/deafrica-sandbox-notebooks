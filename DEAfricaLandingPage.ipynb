{
 "cells": [
  {
   "cell_type": "markdown",
   "id": "83030b08-ddf4-4251-b4de-f5ec0f27024f",
   "metadata": {},
   "source": [
    "<img align=\"centre\" src=\"Supplementary_data/Github_banner.jpg\" width=\"100%\" style=\"padding:0px\">\n",
    "\n",
    "---------------------------------"
   ]
  },
  {
   "cell_type": "markdown",
   "id": "6ba23409-4440-4d86-b1c4-255e4eebac67",
   "metadata": {},
   "source": [
    "<h1 style=\"font-family:Arial; font-weight: 700; text-align: center;color: white; padding: 10px; background-color: #0b1026; text-shadow: 1px 1px 1px black;\">Sandbox Functionality and Storage </h1>\n",
    "\n",
    "When users log into the Sandbox, the Jupyter Notebooks from the [Digital Earth Africa Sandbox Notebooks repository](https://github.com/digitalearthafrica/deafrica-sandbox-notebooks) will be loaded into the environment. These notebooks can be changed and edited within a session, for example, to run analyses on different geographical areas of interest. However, **Notebooks and other data will not be preserved in a user’s account between sessions**. The environment will refresh and show the default Notebooks repository when the user next logs in. \n",
    "\n",
    "This means that users must back-up and save their work outside the Sandbox between sessions. There are several ways to do this, including:\n",
    "\n",
    "* Using GitHub which allows version control and pushing/pulling of version updates within and between sessions. Refer to the [Digital Earth Africa GitHub documentation](https://docs.digitalearthafrica.org/en/latest/sandbox/git-howto/index.html). Using GitHub can be challenging at first, but offers seamless integration with the Sandbox once users are familiar with the operations and terminology. Extensive [GitHub user documentation](https://docs.github.com/en) is also available, as is guidance via various web forums.\n",
    "* Download and upload Notebooks between sessions, backing up and storing elsewhere. Refer to JupyterLab documentation on [uploading and downloading files](https://jupyterlab.readthedocs.io/en/stable/user/files.html#uploading-and-downloading). Ensure Notebooks are saved with the most recent changes before downloading. There can sometimes be short delays to file saving in cloud environments.\n",
    "* Connect the Sandbox to a Google Drive account. Refer to the Digital Earth Africa [documentation for integration with Google Drive](https://docs.digitalearthafrica.org/en/latest/platform_tools/googledrive_access.html#).\n",
    "\n",
    "Importantly, as part of the [Sandbox terms and conditions](https://docs.digitalearthafrica.org/en/latest/sandbox/termsconditions.html), **responsibility to back up and manage files sits with the user**.\n",
    "\n",
    "**Troubleshooting**\n",
    "Please submit any questions to helpdesk@digitalearthafrica.org"
   ]
  },
  {
   "cell_type": "markdown",
   "id": "c71434bd-645d-4b21-9421-1102a58b8d87",
   "metadata": {},
   "source": [
    "<h1 style=\"font-family:Arial; font-weight: 700; text-align: center;color: white; padding: 10px; background-color: #0b1026; text-shadow: 1px 1px 1px black;\">Categorisation of Digital Earth Africa Tools and Services </h1>\n",
    "\n",
    "<div style=\"display: flex;text-align: center;\">\n",
    "\n",
    "\n",
    "  <div style=\"background-color:#f8d7da;width:33%;margin:1%; box-shadow: 10px 10px #cce5ff;\">\n",
    "         <h2>SDGs</h2>\n",
    "        <p style=\"text-align: center;height:100px\">  Notebooks to support Sustainable Development Goals</p>\n",
    "        <a style=\" font-weight: bold\" href=\"SDGs/DEAfrica_Notebooks_and_SDG_Indicators.ipynb\"> Click to access </a>\n",
    "  </div>\n",
    "  \n",
    "  <div style=\"background-color:#d4edda;width:33%;margin:1%; box-shadow: 10px 10px #cce5ff;\">\n",
    "    <h2> Thematic </h2>\n",
    "    <p style=\"text-align: center;height:100px\"> Notebooks organized into Thematic Categories</p>\n",
    "    <a style=\" font-weight: bold\" href=\"DEAfricaThematic.ipynb\"> Click to access </a>\n",
    "  </div>\n",
    "  \n",
    "  <div style=\"background-color:#d1ecf1;width:33%;margin:1%; box-shadow: 10px 10px #cce5ff;\">\n",
    "     <h2> Sandbox Info Page </h2>\n",
    "      <p style=\"text-align: center;height:100px;\"> Updates on the Digital Earth Africa Sandbox and Packages </p>\n",
    "      <a style=\" font-weight: bold\" href=\"DEAfricaInfo.ipynb\"> Click to access </a>\n",
    "  </div>\n",
    "\n",
    "</div>\n",
    "\n",
    "------------------------------"
   ]
  },
  {
   "cell_type": "markdown",
   "id": "d784e888-142e-45aa-a6ed-e82ddcf45bde",
   "metadata": {},
   "source": [
    "<h3 style=\"font-family:Arial; font-weight: bold; text-align: center;color: white; padding: 10px;margin-top:0;  background-color: #0b1026; text-shadow: 1px 1px 1px black;\">Citing Digital Earth Africa Notebooks </h3>\n",
    "\n",
    "If you use any of the notebooks, code or tools, please reference them using the following citation:\n",
    "\n",
    "Burton, C., Neema, V., Boamah, E., Chong, E., Adams, C., Wellington, M., Sadiki, M., Moghaddam, N., Liu, L., Bishop-Taylor, R., Yuan, F., Leith, A., Jorand, C., Halabisky, M., Rebelo, L-M, DE Africa Notebooks contributors 2024. Digital Earth Africa notebooks and tools repository. Geoscience Australia, Canberra. https://dx.doi.org/10.26186/148997"
   ]
  },
  {
   "cell_type": "markdown",
   "id": "67dbd5d3-bb8d-4c4a-bfd5-867a60135da4",
   "metadata": {},
   "source": [
    "---\n",
    "\n",
    "## Additional information\n",
    "\n",
    "<b> License </b> The code in this notebook is licensed under the [Apache License, Version 2.0](https://www.apache.org/licenses/LICENSE-2.0).\n",
    "\n",
    "Digital Earth Africa data is licensed under the [Creative Commons by Attribution 4.0](https://creativecommons.org/licenses/by/4.0/) license.\n",
    "\n",
    "<b> Contact </b> If you need assistance, please post a question on the [DE Africa Slack channel](https://digitalearthafrica.slack.com/) or on the [GIS Stack Exchange](https://gis.stackexchange.com/questions/ask?tags=open-data-cube) using the `open-data-cube` tag (you can view previously asked questions [here](https://gis.stackexchange.com/questions/tagged/open-data-cube)).\n",
    "\n",
    "If you would like to report an issue with this notebook, you can file one on [Github](https://github.com/digitalearthafrica/deafrica-sandbox-notebooks).\n"
   ]
  }
 ],
 "metadata": {
  "kernelspec": {
   "display_name": "Python 3 (ipykernel)",
   "language": "python",
   "name": "python3"
  },
  "language_info": {
   "codemirror_mode": {
    "name": "ipython",
    "version": 3
   },
   "file_extension": ".py",
   "mimetype": "text/x-python",
   "name": "python",
   "nbconvert_exporter": "python",
   "pygments_lexer": "ipython3",
   "version": "3.12.3"
  }
 },
 "nbformat": 4,
 "nbformat_minor": 5
}
