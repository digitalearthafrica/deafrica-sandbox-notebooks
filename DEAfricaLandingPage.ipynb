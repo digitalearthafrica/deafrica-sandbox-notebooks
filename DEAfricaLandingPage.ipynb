{
 "cells": [
  {
   "cell_type": "markdown",
   "id": "83030b08-ddf4-4251-b4de-f5ec0f27024f",
   "metadata": {},
   "source": [
    "<img align=\"centre\" src=\"Supplementary_data/Github_banner.jpg\" width=\"100%\" style=\"padding:0px\">\n",
    "<h1 style=\"font-family:Arial; font-weight: 700; text-align: center;color: white; padding: 10px; background-color: #0b1026; text-shadow: 1px 1px 1px black;\">Categorisation of Digital Earth Africa Tools and Services </h1>\n",
    "\n",
    "---------------------------------"
   ]
  },
  {
   "cell_type": "markdown",
   "id": "c71434bd-645d-4b21-9421-1102a58b8d87",
   "metadata": {},
   "source": [
    "\n",
    "<div style=\"display: flex;text-align: center;\">\n",
    "\n",
    "\n",
    "  <div style=\"background-color:#f8d7da;width:33%;margin:1%; box-shadow: 10px 10px #cce5ff;\">\n",
    "         <h2>SDGs</h2>\n",
    "        <p style=\"text-align: center;height:100px\">  Notebooks to support Sustainable Development Goals</p>\n",
    "        <a style=\" font-weight: bold\" href=\"SDGs/DEAfrica_Notebooks_and_SDG_Indicators.ipynb\"> Click to access </a>\n",
    "  </div>\n",
    "  \n",
    "  <div style=\"background-color:#d4edda;width:33%;margin:1%; box-shadow: 10px 10px #cce5ff;\">\n",
    "    <h2> Thematic </h2>\n",
    "    <p style=\"text-align: center;height:100px\"> Notebooks organized into Thematic Categories</p>\n",
    "    <a style=\" font-weight: bold\" href=\"DEAfricaThematic.ipynb\"> Click to access </a>\n",
    "  </div>\n",
    "  \n",
    "  <div style=\"background-color:#d1ecf1;width:33%;margin:1%; box-shadow: 10px 10px #cce5ff;\">\n",
    "     <h2> Sandbox Info Page </h2>\n",
    "      <p style=\"text-align: center;height:100px;\"> Updates on the Digital Earth Africa Sandbox and Packages </p>\n",
    "      <a style=\" font-weight: bold\" href=\"DEAfricaInfo.ipynb\"> Click to access </a>\n",
    "  </div>\n",
    "\n",
    "</div>\n",
    "\n",
    "------------------------------"
   ]
  },
  {
   "cell_type": "markdown",
   "id": "d784e888-142e-45aa-a6ed-e82ddcf45bde",
   "metadata": {},
   "source": [
    "<h3 style=\"font-family:Arial; font-weight: bold; text-align: center;color: white; padding: 10px;margin-top:0;  background-color: #0b1026; text-shadow: 1px 1px 1px black;\">Citing Digital Earth Africa Notebooks </h3>\n",
    "\n",
    "If you use any of the notebooks, code or tools, please reference them using the following citation:\n",
    "\n",
    "Burton, C., Neema, V., Boamah, E., Chong, E., Adams, C., Wellington, M., Sadiki, M., Moghaddam, N., Liu, L., Bishop-Taylor, R., Yuan, F., Leith, A., Jorand, C., Halabisky, M., Rebelo, L-M, DE Africa Notebooks contributors 2024. Digital Earth Africa notebooks and tools repository. Geoscience Australia, Canberra. https://dx.doi.org/10.26186/148997"
   ]
  },
  {
   "cell_type": "markdown",
   "id": "67dbd5d3-bb8d-4c4a-bfd5-867a60135da4",
   "metadata": {},
   "source": [
    "---\n",
    "\n",
    "## Additional information\n",
    "\n",
    "<b> License </b> The code in this notebook is licensed under the [Apache License, Version 2.0](https://www.apache.org/licenses/LICENSE-2.0).\n",
    "\n",
    "Digital Earth Africa data is licensed under the [Creative Commons by Attribution 4.0](https://creativecommons.org/licenses/by/4.0/) license.\n",
    "\n",
    "<b> Contact </b> If you need assistance, please post a question on the [DE Africa Slack channel](https://digitalearthafrica.slack.com/) or on the [GIS Stack Exchange](https://gis.stackexchange.com/questions/ask?tags=open-data-cube) using the `open-data-cube` tag (you can view previously asked questions [here](https://gis.stackexchange.com/questions/tagged/open-data-cube)).\n",
    "\n",
    "If you would like to report an issue with this notebook, you can file one on [Github](https://github.com/digitalearthafrica/deafrica-sandbox-notebooks).\n"
   ]
  }
 ],
 "metadata": {
  "kernelspec": {
   "display_name": "Python 3 (ipykernel)",
   "language": "python",
   "name": "python3"
  },
  "language_info": {
   "codemirror_mode": {
    "name": "ipython",
    "version": 3
   },
   "file_extension": ".py",
   "mimetype": "text/x-python",
   "name": "python",
   "nbconvert_exporter": "python",
   "pygments_lexer": "ipython3",
   "version": "3.10.12"
  }
 },
 "nbformat": 4,
 "nbformat_minor": 5
}
