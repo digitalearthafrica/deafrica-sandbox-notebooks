{
 "cells": [
  {
   "cell_type": "markdown",
   "id": "33913a41-020b-4ebc-a57b-0aa48b7bccd5",
   "metadata": {},
   "source": [
    "# Waterbodies\n",
    "\n",
    "* **Products used:** [DE Africa Waterbodies](https://docs.digitalearthafrica.org/en/latest/data_specs/Waterbodies_specs.html)"
   ]
  },
  {
   "cell_type": "raw",
   "id": "494dd4b2-44ce-4b4a-afcf-c0f6c3ff66c9",
   "metadata": {
    "raw_mimetype": "text/restructuredtext",
    "tags": []
   },
   "source": [
    "**Keywords**: :index:`data used; waterbodies`"
   ]
  },
  {
   "cell_type": "markdown",
   "id": "6f0e6c31-8e3f-47a4-8c5b-ae201a784afb",
   "metadata": {
    "jp-MarkdownHeadingCollapsed": true,
    "tags": []
   },
   "source": [
    "## Background\n",
    "It is important to have up-to-date information about the extent and location of surface water across Africa. \n",
    "It provides us with a common understanding of this valuable and increasingly scarce resource.\n",
    "\n",
    "### What this product offers\n",
    "The tool uses a water classification for every available Landsat satellite image and maps the locations of water bodies across Africa. It provides a time series of wet, dry and invalid (not wet or dry) surface area, for water bodies that are present more than 10% of the time and are larger than 4,500 m$^2$ (5 Landsat pixels).\n",
    "\n",
    "The tool indicates changes in the wet surface area of water bodies. This can be used to identify when water bodies are increasing or decreasing in wet surface area.\n",
    "\n",
    "**Disclaimer: DE Africa Water Bodies graphs show the wet surface area of waterbodies as estimated from satellites. They do not show depth, volume, purpose of the waterbody, nor the source of the water.**\n",
    "\n",
    "The product contains polygons of maximum extent and surface area time series for each waterbody. These water bodies have been derived from [DE Africa Water Observations from Space](https://explorer.digitalearth.africa/products/wofs_ls), a classifier which detects open water in Landsat pixels.\n",
    "\n",
    "### Applications \n",
    "* Identify and analyse persistent water bodies \n",
    "* Water resource management \n",
    "* Gain insights into the severity and spatial distribution of drought"
   ]
  },
  {
   "cell_type": "markdown",
   "id": "226815d2-c7fa-4b5c-b01c-83677afbf19d",
   "metadata": {},
   "source": [
    "## Description\n",
    "This notebook will demonstrate how to load data from DE Africa Water Bodies using the scripts in this repository.\n",
    "Topics covered include:\n",
    "\n",
    "1. Getting a list of available polygons in a given area\n",
    "2. Select and plot a single polygon\n",
    "3. Plotting the surface area of the polygon over time\n",
    "\n",
    "***"
   ]
  },
  {
   "cell_type": "markdown",
   "id": "d1cc2fd0-ca95-456b-bcd4-48dfb2f6bd3f",
   "metadata": {
    "tags": []
   },
   "source": [
    "### Load packages\n",
    "Import Python packages that are used for the analysis."
   ]
  },
  {
   "cell_type": "code",
   "execution_count": null,
   "id": "632885f0-07f1-4676-bcf4-0afe1c058d75",
   "metadata": {},
   "outputs": [],
   "source": [
    "# !python -m pip install --extra-index-url=\"https://packages.dea.ga.gov.au\" -e ../Tools/"
   ]
  },
  {
   "cell_type": "code",
   "execution_count": null,
   "id": "9556d229-746b-4d4a-ba66-38edc9c1ea2b",
   "metadata": {},
   "outputs": [],
   "source": [
    "import matplotlib.pyplot as plt\n",
    "import sys \n",
    "# sys.path.insert(1, \"../Tools/\")\n",
    "from deafrica_tools.plotting import display_map\n",
    "from deafrica_tools.waterbodies import (\n",
    "    get_geohashes,\n",
    "    get_waterbodies,\n",
    "    get_waterbody,\n",
    "    get_time_series,\n",
    ")"
   ]
  },
  {
   "cell_type": "code",
   "execution_count": null,
   "id": "44006f2c-a284-44fb-8bd0-8eb55599d9aa",
   "metadata": {},
   "outputs": [],
   "source": [
    "import geopandas as gpd\n",
    "from owslib.wfs import WebFeatureService\n",
    "from owslib.fes import PropertyIsEqualTo\n",
    "from owslib.etree import etree\n",
    "import pandas as pd"
   ]
  },
  {
   "cell_type": "markdown",
   "id": "522a5907-64b5-4016-88e7-b60f9b4bfd5b",
   "metadata": {},
   "source": [
    "## Analysis parameters\n",
    "\n",
    "Choose an area to analyse:"
   ]
  },
  {
   "cell_type": "code",
   "execution_count": null,
   "id": "1ae9a549-0522-4ad2-b7a6-3c70fce1c8b3",
   "metadata": {},
   "outputs": [],
   "source": [
    "lat, lon = 16.15335, -12.60475 #15.53457, -12.69639 #15.30869, -14.44771 16.15335°N, 12.60475°W\n",
    "buffer = 0.2\n",
    "xlim = (lon-buffer, lon+buffer)\n",
    "ylim =  (lat+buffer, lat-buffer)\n",
    "\n",
    "# Preview area on a map\n",
    "display_map(xlim, ylim)"
   ]
  },
  {
   "cell_type": "markdown",
   "id": "85fa0271-d929-443d-82b4-d8c9cfed9f00",
   "metadata": {
    "tags": []
   },
   "source": [
    "## Getting data\n",
    "\n",
    "The `deafrica_waterbodies` module allows you to query water bodies by location or geohash.\n",
    "\n",
    "### List waterbody polygons in an area\n",
    "We can get a list of waterbody polygons inside a bounding box of coordinates using `get_waterbodies`."
   ]
  },
  {
   "cell_type": "code",
   "execution_count": null,
   "id": "58a89365-c70c-4482-873e-04e632e935f3",
   "metadata": {},
   "outputs": [],
   "source": [
    "# Create a bounding box from study area coordinates\n",
    "bbox = (xlim[0], ylim[1], xlim[1], ylim[0])\n",
    "\n",
    "# Select all water bodies located within the bounding box\n",
    "polygons = get_waterbodies(bbox, crs=\"EPSG:4326\")"
   ]
  },
  {
   "cell_type": "code",
   "execution_count": null,
   "id": "9f8fe81a-df03-4cec-b1c8-b0aea8e33df5",
   "metadata": {},
   "outputs": [],
   "source": [
    "# Return GeoDataFrame with selected water bodies\n",
    "polygons"
   ]
  },
  {
   "cell_type": "markdown",
   "id": "55e16bad-af90-426c-ad65-41da1299cf23",
   "metadata": {},
   "source": [
    "The returned geodataframe includes all the waterbodies which are located within the bounding box. This dataset contains metadata for each waterbody in the dataset, including the ID, UID, WB_UID, area, perimeter and time series. "
   ]
  },
  {
   "cell_type": "markdown",
   "id": "6a1eb958-dd5f-4049-8658-707e93e1dc08",
   "metadata": {},
   "source": [
    "#### Geohashes\n",
    "Every waterbody in DE Africa Water Bodies has a unique identifier (UID) called a [_geohash_](https://en.wikipedia.org/wiki/Geohash). The geohash of a waterbody is derived from their position, and this process can be reversed to obtain the location from the geohash. A waterbody's geohash is contained under the UID attribute and can be obtained through [DE Africa Maps](https://maps.digitalearth.africa/) by clicking on a waterbody.\n",
    "\n",
    "**Note:** You might notice that these polygons have a range of similar geohash prefixes ('edyg' or 'edz'). If two geohashes have a similar prefix, this means that they are close together."
   ]
  },
  {
   "cell_type": "code",
   "execution_count": null,
   "id": "3dc67cd9-ab31-4901-9743-96e0b1c2cc1a",
   "metadata": {},
   "outputs": [],
   "source": [
    "# Plot the waterbody polygons located within the bounding box\n",
    "polygons.plot()"
   ]
  },
  {
   "cell_type": "markdown",
   "id": "6269f1ce-faf9-465f-bddb-744d70fad288",
   "metadata": {},
   "source": [
    "We can use the `.explore()` function to interactively explore the subset of water bodies located within the bounding box. This allows us to hover over a given waterbody and extract any information, such as a waterbody's UID which we can use in as a input in future steps."
   ]
  },
  {
   "cell_type": "code",
   "execution_count": null,
   "id": "7e17e1a5-eaf9-4e91-971a-52ba8afcf404",
   "metadata": {},
   "outputs": [],
   "source": [
    "# Explore the waterbody polygons located within the bounding box\n",
    "polygons.explore()"
   ]
  },
  {
   "cell_type": "markdown",
   "id": "4b241a1e-9b47-46fa-900f-517025f285ef",
   "metadata": {},
   "source": [
    "### Getting data for a specific waterbody"
   ]
  },
  {
   "cell_type": "markdown",
   "id": "b31e9882-0761-4c1d-bbd1-34b306a6a9c4",
   "metadata": {},
   "source": [
    "We can use a geohash to get the polygon for an individual waterbody, using the `get_waterbody` function.\n",
    "\n",
    "For example, we can load data for using its geohash `edz5cm96j`."
   ]
  },
  {
   "cell_type": "code",
   "execution_count": null,
   "id": "a4479d59-e8f6-46ee-b0d4-60c951ca7d41",
   "metadata": {},
   "outputs": [],
   "source": [
    "selected_waterbody = get_waterbody(\"edz5cm96j\")#\"edz5cm93z\"\n",
    "selected_waterbody"
   ]
  },
  {
   "cell_type": "code",
   "execution_count": null,
   "id": "edb6b29a-b186-4efc-aa42-1f64ae24e247",
   "metadata": {},
   "outputs": [],
   "source": [
    "selected_waterbody.plot()"
   ]
  },
  {
   "cell_type": "markdown",
   "id": "b3c10b9d-8fc8-4159-b8ca-3204221dfc12",
   "metadata": {},
   "source": [
    "For any given geohash or a polygon, we can also use the `get_time_series` function to get surface area over time."
   ]
  },
  {
   "cell_type": "code",
   "execution_count": null,
   "id": "e330ae5e-a69c-4ac7-bc98-24d94395540a",
   "metadata": {},
   "outputs": [],
   "source": [
    "selected_waterbody.timeseries.item()"
   ]
  },
  {
   "cell_type": "code",
   "execution_count": null,
   "id": "2a1c1555-57dd-4661-a162-bcf4ab34570c",
   "metadata": {},
   "outputs": [],
   "source": [
    "get_time_series(waterbody=selected_waterbody.iloc[0])[\"px_wet\"].plot() #(waterbody=polygons.iloc[42])\n",
    "plt.ylabel(\"Number of wet pixels\");"
   ]
  }
 ],
 "metadata": {
  "kernelspec": {
   "display_name": "Python 3 (ipykernel)",
   "language": "python",
   "name": "python3"
  },
  "language_info": {
   "codemirror_mode": {
    "name": "ipython",
    "version": 3
   },
   "file_extension": ".py",
   "mimetype": "text/x-python",
   "name": "python",
   "nbconvert_exporter": "python",
   "pygments_lexer": "ipython3",
   "version": "3.10.12"
  },
  "widgets": {
   "application/vnd.jupyter.widget-state+json": {
    "state": {},
    "version_major": 2,
    "version_minor": 0
   }
  }
 },
 "nbformat": 4,
 "nbformat_minor": 5
}
