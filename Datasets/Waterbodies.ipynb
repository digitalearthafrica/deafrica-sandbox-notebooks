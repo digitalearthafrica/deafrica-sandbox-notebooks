{
 "cells": [
  {
   "cell_type": "markdown",
   "id": "33913a41-020b-4ebc-a57b-0aa48b7bccd5",
   "metadata": {},
   "source": [
    "# Waterbodies\n",
    "\n",
    "* **Products used:** [DE Africa Waterbodies](https://docs.digitalearthafrica.org/en/latest/data_specs/Waterbodies_specs.html)"
   ]
  },
  {
   "cell_type": "raw",
   "id": "494dd4b2-44ce-4b4a-afcf-c0f6c3ff66c9",
   "metadata": {
    "raw_mimetype": "text/restructuredtext",
    "tags": []
   },
   "source": [
    "**Keywords**: :index:`data used; waterbodies`"
   ]
  },
  {
   "cell_type": "markdown",
   "id": "6f0e6c31-8e3f-47a4-8c5b-ae201a784afb",
   "metadata": {
    "jp-MarkdownHeadingCollapsed": true,
    "tags": []
   },
   "source": [
    "## Background\n",
    "The Digital Earth Africa continental Waterbodies Monitoring Service identifies more than 600,000 water bodies from over three decades of satellite observations. This service maps persistent and seasonal water bodies and the change in their water surface area over time. Mapped water bodies may include, but are not limited to, lakes, ponds, man-made reservoirs, wetlands, and segments of some river systems.\n",
    "\n",
    "On a local, regional, and continental scale, this service helps improve our understanding of surface water dynamics and water availability and can be used for monitoring water bodies such as wetlands, lakes and dams in remote and/or inaccessible locations.\n",
    "\n",
    "The service offers two products\n",
    "\n",
    "* The DE Africa Waterbodies Historical Extent\n",
    "* The DE Africa Waterbodies Surface Area Change\n",
    "\n",
    "The DE Africa Waterbodies Historical Extent product is a static polygon-based view of the DE Africa Water Observations from Space All-Time Summary product. The historical extent represents where water has appeared in at least 5% of clear observations since 1987. It is not a capture of a water body’s true extent in any given year, but a record of where water has appeared since 1987. To be captured in the dataset, polygons must have an area of at least 4,500 metres squared (5 Landsat pixels). The historical extent polygons have been derived from the [DE Africa Water Observations from Space All-Time Summary](https://docs.digitalearthafrica.org/en/latest/data_specs/Landsat_WOfS_specs.html#WOfS-All-Time-Summary) product, which provides historical surface water observations across the African continent.\n",
    "\n",
    "For each water body, the Surface Area Change product provides the percentage of the historical extent that was classified as wet, dry, or invalid, for each [DE Africa Water Observation from Space Feature Layer](https://docs.digitalearthafrica.org/en/latest/data_specs/Landsat_WOfS_specs.html#WOfS-Feature-Layer) scene that captured the water body. This can be used to identify when water bodies are increasing or decreasing in wet surface area.\n",
    "\n",
    "**Disclaimer: DE Africa Waterbodies Surface Area Change measures the wet surface area of waterbodies as estimated from satellites. This product does not measure depth, volume, purpose of the waterbody, nor the source of the water.**\n",
    "\n",
    "### Applications \n",
    "\n",
    "* Identify and analyse persistent and seasonal water bodies \n",
    "* Water resource management \n",
    "* Gain insights into the severity and spatial distribution of drought"
   ]
  },
  {
   "cell_type": "markdown",
   "id": "226815d2-c7fa-4b5c-b01c-83677afbf19d",
   "metadata": {},
   "source": [
    "## Description\n",
    "This notebook will demonstrate how to load historical extents and wet surface area timeseries from the [DE Africa Waterbodies service](https://docs.digitalearthafrica.org/en/latest/data_specs/Waterbodies_specs.html). \n",
    "\n",
    "Topics covered include:\n",
    "\n",
    "1. Getting a list of available polygons in a given area\n",
    "2. Select and plot a single polygon\n",
    "3. Plotting the surface area of the polygon over time\n",
    "\n",
    "***"
   ]
  },
  {
   "cell_type": "markdown",
   "id": "77b66d5d-4e49-40a8-8acd-db9b262271ef",
   "metadata": {},
   "source": [
    "## Getting started\n",
    "\n",
    "To run this analysis, run all the cells in the notebook, starting with the “Load packages” cell."
   ]
  },
  {
   "cell_type": "markdown",
   "id": "d1cc2fd0-ca95-456b-bcd4-48dfb2f6bd3f",
   "metadata": {
    "tags": []
   },
   "source": [
    "### Load packages\n",
    "Import Python packages that are used for the analysis."
   ]
  },
  {
   "cell_type": "code",
   "execution_count": null,
   "id": "632885f0-07f1-4676-bcf4-0afe1c058d75",
   "metadata": {},
   "outputs": [],
   "source": [
    "# Run this step while testing.\n",
    "# !python -m pip install --extra-index-url=\"https://packages.dea.ga.gov.au\" -e ../Tools/"
   ]
  },
  {
   "cell_type": "code",
   "execution_count": null,
   "id": "9556d229-746b-4d4a-ba66-38edc9c1ea2b",
   "metadata": {},
   "outputs": [],
   "source": [
    "import matplotlib.pyplot as plt\n",
    "\n",
    "from deafrica_tools.plotting import display_map\n",
    "from deafrica_tools.waterbodies import (\n",
    "    get_geohashes,\n",
    "    get_waterbodies,\n",
    "    get_waterbody,\n",
    "    get_time_series,\n",
    ")"
   ]
  },
  {
   "cell_type": "markdown",
   "id": "522a5907-64b5-4016-88e7-b60f9b4bfd5b",
   "metadata": {},
   "source": [
    "## Analysis parameters\n",
    "\n",
    "This section defines the analysis parameters, including:\n",
    "\n",
    "* `lat`, `lon`, `buffer`: center lat/lon and analysis window size for the area of interest (in degrees)\n",
    "\n",
    "The default area is Lac de Guiers in Senegal."
   ]
  },
  {
   "cell_type": "code",
   "execution_count": null,
   "id": "1ae9a549-0522-4ad2-b7a6-3c70fce1c8b3",
   "metadata": {},
   "outputs": [],
   "source": [
    "# Set the central latitude and longitude\n",
    "lat = 16.243016\n",
    "lon = -15.842423\n",
    "\n",
    "# Set the buffer to load around the central coordinates\n",
    "buffer = 0.2\n",
    "\n",
    "# Compute the bounding box coordinates\n",
    "xlim = (lon-buffer, lon+buffer)\n",
    "ylim =  (lat+buffer, lat-buffer)\n",
    "\n",
    "# Preview area on a map\n",
    "display_map(xlim, ylim)"
   ]
  },
  {
   "cell_type": "markdown",
   "id": "85fa0271-d929-443d-82b4-d8c9cfed9f00",
   "metadata": {
    "tags": []
   },
   "source": [
    "## Getting data\n",
    "\n",
    "The `deafrica_waterbodies` module allows you to query water bodies by location or geohash.\n",
    "\n",
    "### List waterbody polygons in an area\n",
    "We can get a list of waterbody polygons inside a bounding box of coordinates using `get_waterbodies`."
   ]
  },
  {
   "cell_type": "code",
   "execution_count": null,
   "id": "58a89365-c70c-4482-873e-04e632e935f3",
   "metadata": {},
   "outputs": [],
   "source": [
    "# Create a bounding box from study area coordinates\n",
    "bbox = (xlim[0], ylim[1], xlim[1], ylim[0])\n",
    "\n",
    "# Select all water bodies located within the bounding box\n",
    "polygons = get_waterbodies(bbox, crs=\"EPSG:4326\")"
   ]
  },
  {
   "cell_type": "code",
   "execution_count": null,
   "id": "9f8fe81a-df03-4cec-b1c8-b0aea8e33df5",
   "metadata": {},
   "outputs": [],
   "source": [
    "# Return GeoDataFrame with selected water bodies\n",
    "polygons"
   ]
  },
  {
   "cell_type": "markdown",
   "id": "55e16bad-af90-426c-ad65-41da1299cf23",
   "metadata": {},
   "source": [
    "The returned geodataframe includes all the water bodies which are located within the bounding box. This dataset contains metadata for each water body in the dataset, including the ID, UID, WB_UID, area, perimeter and time series. See the [Waterbodies Historical Extent documentation](https://docs.digitalearthafrica.org/en/latest/data_specs/Waterbodies_specs.html#Waterbodies-Historical-Extent) for descriptions of each attribute."
   ]
  },
  {
   "cell_type": "markdown",
   "id": "4876f577-eb5d-4d96-a65a-f1f453b9b86e",
   "metadata": {},
   "source": [
    "### Displaying the polygons\n",
    "\n",
    "Once the water body polygons are in memory, you can plot them directly, or explore them in an interactive window."
   ]
  },
  {
   "cell_type": "code",
   "execution_count": null,
   "id": "3dc67cd9-ab31-4901-9743-96e0b1c2cc1a",
   "metadata": {},
   "outputs": [],
   "source": [
    "# Plot the waterbody polygons located within the bounding box\n",
    "polygons.plot()"
   ]
  },
  {
   "cell_type": "code",
   "execution_count": null,
   "id": "7e17e1a5-eaf9-4e91-971a-52ba8afcf404",
   "metadata": {},
   "outputs": [],
   "source": [
    "# Explore the waterbody polygons located within the bounding box\n",
    "polygons.explore()"
   ]
  },
  {
   "cell_type": "markdown",
   "id": "6a1eb958-dd5f-4049-8658-707e93e1dc08",
   "metadata": {},
   "source": [
    "#### Geohashes\n",
    "Every water body in DE Africa Water Bodies has a unique identifier (UID) called a [_geohash_](https://en.wikipedia.org/wiki/Geohash). The geohash of a water body is derived from its position, and this process can be reversed to obtain the location from the geohash. A waterbody's geohash is contained under the UID attribute and can be obtained through [DE Africa Maps](https://maps.digitalearth.africa/) by clicking on a waterbody.\n",
    "\n",
    "**Note:** You might notice that these polygons have a range of similar geohash prefixes ('edyg' or 'edz'). If two geohashes have a similar prefix, this means that they are close together."
   ]
  },
  {
   "cell_type": "markdown",
   "id": "4b241a1e-9b47-46fa-900f-517025f285ef",
   "metadata": {},
   "source": [
    "### Getting data for a specific water body"
   ]
  },
  {
   "cell_type": "markdown",
   "id": "b31e9882-0761-4c1d-bbd1-34b306a6a9c4",
   "metadata": {},
   "source": [
    "We can use the `.explore()` function above to interactively explore the subset of water bodies located within the bounding box. Hovering over a water body will display its attributes, including the water body's geohash (UID). After noting the geohash from the `.explore()` function, we can use it to extract just that water body through the `get_waterbody()` function.\n",
    "\n",
    "The geohash for Lac de Guiers is `eduspnt9h`."
   ]
  },
  {
   "cell_type": "code",
   "execution_count": null,
   "id": "a4479d59-e8f6-46ee-b0d4-60c951ca7d41",
   "metadata": {},
   "outputs": [],
   "source": [
    "selected_waterbody_geohash = \"eduspnt9h\"\n",
    "\n",
    "selected_waterbody = get_waterbody(selected_waterbody_geohash)\n",
    "selected_waterbody"
   ]
  },
  {
   "cell_type": "markdown",
   "id": "1dd90dd0-243f-4fe4-9363-f74567a91874",
   "metadata": {},
   "source": [
    "#### Plot the selected water body"
   ]
  },
  {
   "cell_type": "code",
   "execution_count": null,
   "id": "edb6b29a-b186-4efc-aa42-1f64ae24e247",
   "metadata": {},
   "outputs": [],
   "source": [
    "selected_waterbody.plot()"
   ]
  },
  {
   "cell_type": "markdown",
   "id": "5adcec2f-abd5-4612-8a11-da8ec71e33c9",
   "metadata": {},
   "source": [
    "#### Get the wet surface area time series for the selected waterbody"
   ]
  },
  {
   "cell_type": "markdown",
   "id": "b3c10b9d-8fc8-4159-b8ca-3204221dfc12",
   "metadata": {},
   "source": [
    "For any given geohash or a polygon, we can also use the `get_time_series()` function to get various measures of the water body surface over time. See the [Waterbodies Historical Extent documentation](https://docs.digitalearthafrica.org/en/latest/data_specs/Waterbodies_specs.html#Waterbodies-Surface-Area-Change) for descriptions of the different surface measures."
   ]
  },
  {
   "cell_type": "code",
   "execution_count": null,
   "id": "2a1c1555-57dd-4661-a162-bcf4ab34570c",
   "metadata": {},
   "outputs": [],
   "source": [
    "# Get time series for the selected water body\n",
    "selected_waterbody_timeseries = get_time_series(waterbody=selected_waterbody.iloc[0])\n",
    "\n",
    "# Select only the wet percentage surface measure\n",
    "wet_percentage_timeseries = selected_waterbody_timeseries[\"pc_wet\"]\n",
    "\n",
    "# Plot the wet percentage time series and customise the y-axis label\n",
    "wet_percentage_timeseries.plot()\n",
    "plt.ylabel(\"Number of wet pixels\");"
   ]
  }
 ],
 "metadata": {
  "kernelspec": {
   "display_name": "Python 3 (ipykernel)",
   "language": "python",
   "name": "python3"
  },
  "language_info": {
   "codemirror_mode": {
    "name": "ipython",
    "version": 3
   },
   "file_extension": ".py",
   "mimetype": "text/x-python",
   "name": "python",
   "nbconvert_exporter": "python",
   "pygments_lexer": "ipython3",
   "version": "3.10.12"
  },
  "widgets": {
   "application/vnd.jupyter.widget-state+json": {
    "state": {},
    "version_major": 2,
    "version_minor": 0
   }
  }
 },
 "nbformat": 4,
 "nbformat_minor": 5
}
