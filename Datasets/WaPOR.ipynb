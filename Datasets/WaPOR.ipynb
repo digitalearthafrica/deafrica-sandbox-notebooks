{
 "cells": [
  {
   "cell_type": "markdown",
   "id": "4b6fe63d-d62c-403f-9634-6afe55d7e541",
   "metadata": {},
   "source": [
    "# Introduction to WaPOR and data loading\n",
    "\n",
    "* **Products used:** WaPOR"
   ]
  },
  {
   "cell_type": "raw",
   "id": "69bcac84-6289-4591-b102-1b61853c2242",
   "metadata": {
    "raw_mimetype": "text/restructuredtext"
   },
   "source": [
    "**Keywords** :index:`data used; wapor` :index:`data used; crop mask`"
   ]
  },
  {
   "cell_type": "markdown",
   "id": "2569ec9d-4353-41c0-957f-5c13387bc9bc",
   "metadata": {},
   "source": [
    "## Background\n",
    "The **Wa**ter **P**roductivity through **O**pen access of **R**emotely sensed derived data (WaPOR) monitors and reports on agricultural water productivity through biophysical measures with a focus on Africa and the Near East. This information assists partner countries improve land and water productivity in both rainfed and irrigated agriculture ([Peiser et al. 2017](https://openknowledge.fao.org/items/cdacf817-c13a-4859-b681-a4bdc20c065c)). \n",
    "\n",
    "WaPOR provides numerous datasets related to vegetation productivity and water consumption, and associated meteorological and physical conditions such as soil moisture and precipitation. These datasets can be combined with Digital Earth Africa products, services, and workflows for numerous applications including:\n",
    "   * Monitoring drought conditions\n",
    "   * Monitoring the water use efficiency of crops\n",
    "   * Mapping irrigated areas\n",
    "   * Estimating crop water requirements\n",
    "   * Irrigation scheduling and budgeting"
   ]
  },
  {
   "cell_type": "markdown",
   "id": "7001cb3f-c7b5-431b-b546-f7d853b4b950",
   "metadata": {},
   "source": [
    "## Description\n",
    "This notebook provides an introduction to WaPOR data and nomenclature, and demonstrates loading and plotting.\n",
    "\n",
    "1. First, we explore the datasets available and how they are labelled.\n",
    "2. Then, we download and plot annual evapotranspiration.\n",
    "3. Finally, we download and plot dekadal (10 day temporal frequency) data.\n",
    "\n",
    "***"
   ]
  },
  {
   "cell_type": "markdown",
   "id": "206d1d08-66fd-4b77-8216-0e605b327a1f",
   "metadata": {},
   "source": [
    "## Getting started\n",
    "\n",
    "To run this analysis, run all the cells in the notebook, starting with the \"Load packages\" cell. "
   ]
  },
  {
   "cell_type": "markdown",
   "id": "61f074de-f1aa-46cf-acbe-2d93c0a3d9ee",
   "metadata": {},
   "source": [
    "### Load packages\n",
    "Import Python packages that are used for the analysis.\n",
    "\n",
    "Use standard import commands; some are shown below. \n",
    "Begin with any `iPython` magic commands, followed by standard Python packages, then any additional functionality you need from the `Tools` package."
   ]
  },
  {
   "cell_type": "code",
   "execution_count": null,
   "id": "78d0f46b-a5de-470b-aa56-663298e68518",
   "metadata": {},
   "outputs": [],
   "source": [
    "import datetime\n",
    "import datacube\n",
    "\n",
    "from deafrica_tools.load_wapor import get_all_WaPORv3_mapsets, get_WaPORv3_info, load_wapor_ds\n",
    "from deafrica_tools.plotting import display_map\n",
    "from wapordl import wapor_map"
   ]
  },
  {
   "cell_type": "markdown",
   "id": "ca9edf94-2f9c-4efe-a89a-aa5f6c3328d9",
   "metadata": {},
   "source": [
    "### Connect to the datacube\n",
    "\n",
    "Connect to the datacube so we can access DE Africa data.\n",
    "The `app` parameter is a unique name for the analysis which is based on the notebook file name."
   ]
  },
  {
   "cell_type": "code",
   "execution_count": null,
   "id": "154ddcd1-1443-4795-b7d3-dabcc8ace7ea",
   "metadata": {},
   "outputs": [],
   "source": [
    "dc = datacube.Datacube(app=\"WaPOR\")"
   ]
  },
  {
   "cell_type": "markdown",
   "id": "21d416c1-e3a0-4860-8166-e2c5df3e083a",
   "metadata": {},
   "source": [
    "### WaPOR Data\n",
    "\n",
    "WaPOR data has three levels:\n",
    "1. Global 300m resolution\n",
    "2. National 100m resolution\n",
    "3. Sub-national 20m resolution\n",
    "\n",
    "The table below covers L1 and L2 datasets. L3 datasets can be viewed in the [WaPOR maps platform](https://data.apps.fao.org/wapor) which is built with the same software as [Digital Earth Africa Maps](https://maps.digitalearth.africa/). L3 datasets cover several regions of interest in northern and eastern Africa. This notebook loads level 3 20m data for Egypt. It is recommended that the [WaPOR maps platform](https://data.apps.fao.org/wapor) is inspected to check the availability of level, variable, and temporal frequency combinations for your area of interest. The maps platform also shows map codes in the data description.\n",
    "\n",
    "Mapset codes are structured as `level-variable-temporal frequency` as shown below. The temporal frequencies available are:\n",
    "* A - annual\n",
    "* M - monthly\n",
    "* D - dekadal (10 days)\n",
    "\n",
    "So, for level 3 net primary productivity at dekadal intervals the code would be `L3-NPP-D`."
   ]
  },
  {
   "cell_type": "code",
   "execution_count": null,
   "id": "5e9c35e3-0d5b-4bfe-9c8a-c4e86ab6b451",
   "metadata": {},
   "outputs": [],
   "source": [
    "get_all_WaPORv3_mapsets()"
   ]
  },
  {
   "cell_type": "markdown",
   "id": "436aa0a4-5a3a-4575-b171-2cdcc035c810",
   "metadata": {},
   "source": [
    "### Analysis parameters\n",
    "\n",
    "The cell below specifies:\n",
    "* The area of interest. This can also be a `.geojson` file\n",
    "* The folder where the downloaded data will be stored. If you are using this script repeatedly, it is recommended you empty this folder from time to time to manage storage. It is advised that any data required for repeated or future analysis is stored outside the sandbox.\n",
    "* The variable of interest in the form of a mapset code, explained above.\n",
    "* The period of interest."
   ]
  },
  {
   "cell_type": "code",
   "execution_count": null,
   "id": "b56ab843-7592-4389-a532-5276aacea5d8",
   "metadata": {},
   "outputs": [],
   "source": [
    "region =  [31.30, 30.70, 31.40, 30.80] #xmin, ymin, xmax, ymax\n",
    "folder = \"Supplementary_data/WaPOR\" # folder that the data will be sent to\n",
    "variable = \"L3-AETI-A\" # level-variable-time, see table above\n",
    "period = [\"2018-01-01\", \"2024-02-01\"] # period to load"
   ]
  },
  {
   "cell_type": "markdown",
   "id": "f766ff62-23b7-443d-a958-d6c7ddfb44bd",
   "metadata": {},
   "source": [
    "This demonstration notebook loads an area of cropland in the Nile Delta, Egypt."
   ]
  },
  {
   "cell_type": "code",
   "execution_count": null,
   "id": "f03dad3f-082d-40c2-8b96-661300fd5ba6",
   "metadata": {},
   "outputs": [],
   "source": [
    "display_map(x=(region[0], region[2]), y=(region[1], region[3]))"
   ]
  },
  {
   "cell_type": "markdown",
   "id": "7e161380-addb-4dc2-bfc6-4dfcdc2eda60",
   "metadata": {},
   "source": [
    "### Download netCDF files\n",
    "\n",
    "This cell downloads the data specified. The `aeti` object is the file path to the stored netCDF. Once this cell is run, netCDF files will be stored in the directory specified above."
   ]
  },
  {
   "cell_type": "code",
   "execution_count": null,
   "id": "ace9923f-c2be-4121-994c-b43d656af500",
   "metadata": {},
   "outputs": [],
   "source": [
    "aeti = wapor_map(region, variable, period, folder, extension = '.nc')"
   ]
  },
  {
   "cell_type": "markdown",
   "id": "80ad7282-df86-4cd5-be88-479c27099624",
   "metadata": {},
   "source": [
    "### Convert data to xarray\n",
    "\n",
    "Below, the netCDFs are brought into the analysis environment as xarray datasets and coordinate labels and attributes are assigned. This means the data is in a common format with other Digital Earth Africa products and services, and makes the data easy to interact with. The `load_wapor_ds()` function brings in the data as xarray."
   ]
  },
  {
   "cell_type": "code",
   "execution_count": null,
   "id": "9f319486-9cd6-4b3e-bf5f-46b371f28100",
   "metadata": {},
   "outputs": [],
   "source": [
    "aeti_xr = load_wapor_ds(filename=aeti, variable=variable)"
   ]
  },
  {
   "cell_type": "markdown",
   "id": "87ad2f80-f152-41ee-b6da-7a5b941d9665",
   "metadata": {},
   "source": [
    "### Inspect the xarray dataset\n",
    "\n",
    "Now we have x, y, and time as dimensions and our variable (in this case, actual evapotranspiration and interception) as an xarray dataset. This enables us to easily deal with time and space for analysis."
   ]
  },
  {
   "cell_type": "code",
   "execution_count": null,
   "id": "e805efee-b983-41d7-96dd-57b7145356c1",
   "metadata": {},
   "outputs": [],
   "source": [
    "aeti_xr"
   ]
  },
  {
   "cell_type": "markdown",
   "id": "3e0df299-c1d5-43ba-8e7b-572c860b3967",
   "metadata": {},
   "source": [
    "### Plot annual ET\n",
    "\n",
    "The plots show how AETI varies in space and between years. In the Egypt example, the cropland areas are easily visible as areas with higher AETI.\n",
    "\n",
    "Note that the scalebar is labelled with information from the WaPOR metadata. This can be accessed by calling `aeti_xr[variable].attrs`, as below, which can be especially useful when checking units for calculation. The `load_wapor_ds()` function takes care of re-scaling when the data is loaded, but it is sensible to check the values are reasonable.\n",
    "\n",
    "We can also see that the attributes include scale and offset values. These have been incorporated into the `load_wapor_ds()` function so the values returned are in the units shown below, in this case mm/year."
   ]
  },
  {
   "cell_type": "code",
   "execution_count": null,
   "id": "936dbe3e-8f82-47c2-9bb0-957824c27db0",
   "metadata": {},
   "outputs": [],
   "source": [
    "aeti_xr[variable].attrs"
   ]
  },
  {
   "cell_type": "code",
   "execution_count": null,
   "id": "6ab17ba3-1e42-4d0d-b351-a19e8af109a7",
   "metadata": {},
   "outputs": [],
   "source": [
    "aeti_xr[variable].plot(col='time', col_wrap=3)"
   ]
  },
  {
   "cell_type": "markdown",
   "id": "46019aeb-5782-4bf2-868f-af708b31164d",
   "metadata": {},
   "source": [
    "## Load dekadal biomass\n",
    "\n",
    "The cell below loads dekadal actual evapotranspiration using the same procedure as for annual. The only parameter changed is `variable`."
   ]
  },
  {
   "cell_type": "code",
   "execution_count": null,
   "id": "dadfc36f-ef36-4793-b55e-5b6330568a79",
   "metadata": {},
   "outputs": [],
   "source": [
    "variable = 'L3-NPP-D'\n",
    "period = [\"2024-01-01\", \"2024-03-01\"]\n",
    "\n",
    "npp_d = wapor_map(region, variable, period, folder, extension = '.nc')\n",
    "\n",
    "npp_d_xr = load_wapor_ds(filename=npp_d, variable=variable)\n",
    "\n",
    "npp_d_xr"
   ]
  },
  {
   "cell_type": "markdown",
   "id": "4c56bbb5-197f-4e4c-a969-7d860357f221",
   "metadata": {},
   "source": [
    "### Plot dekadal net primary productivity\n",
    "\n",
    "It's interesting to note that in the Egypt example, some areas show very high biomass production > 30t/ha, especially in 2023. This must be considered in the context of several crop cycles occurring within a 12 month period."
   ]
  },
  {
   "cell_type": "code",
   "execution_count": null,
   "id": "64ba0c94-4bc5-4e85-93c7-0e5c43dcef42",
   "metadata": {},
   "outputs": [],
   "source": [
    "npp_d_xr[variable].plot(col='time', col_wrap=3)"
   ]
  },
  {
   "cell_type": "markdown",
   "id": "ed6fcb77-b261-4a25-a25a-660ddd7b2561",
   "metadata": {},
   "source": [
    "## Conclusion\n",
    "\n",
    "This notebook demonstrated the range of WaPOR variables available and how to load them in the DE Africa Sandbox environment. Subsequent notebooks will dive deeper into analysing WaPOR data alongside DE Africa data."
   ]
  },
  {
   "cell_type": "markdown",
   "id": "c6f143f6-587b-47da-9edc-dcac2e26f774",
   "metadata": {},
   "source": [
    "***\n",
    "\n",
    "## Additional information\n",
    "\n",
    "**License:** The code in this notebook is licensed under the [Apache License, Version 2.0](https://www.apache.org/licenses/LICENSE-2.0). \n",
    "Digital Earth Africa data is licensed under the [Creative Commons by Attribution 4.0](https://creativecommons.org/licenses/by/4.0/) license.\n",
    "\n",
    "**Contact:** If you need assistance, please post a question on the [Open Data Cube Slack channel](http://slack.opendatacube.org/) or on the [GIS Stack Exchange](https://gis.stackexchange.com/questions/ask?tags=open-data-cube) using the `open-data-cube` tag (you can view previously asked questions [here](https://gis.stackexchange.com/questions/tagged/open-data-cube)).\n",
    "If you would like to report an issue with this notebook, you can file one on [Github](https://github.com/digitalearthafrica/deafrica-sandbox-notebooks).\n",
    "\n",
    "**Compatible datacube version:** "
   ]
  },
  {
   "cell_type": "code",
   "execution_count": null,
   "id": "df081dc0-a559-4b86-8a71-97906f1733f3",
   "metadata": {},
   "outputs": [],
   "source": [
    "print(datacube.__version__)"
   ]
  },
  {
   "cell_type": "markdown",
   "id": "59ad3d4b-0381-42ff-8365-1239f6308f67",
   "metadata": {},
   "source": [
    "**Last Tested:**"
   ]
  },
  {
   "cell_type": "code",
   "execution_count": null,
   "id": "19804ac3-343f-4e3d-ba62-ffb17c333992",
   "metadata": {},
   "outputs": [],
   "source": [
    "from datetime import datetime\n",
    "datetime.today().strftime('%Y-%m-%d')"
   ]
  }
 ],
 "metadata": {
  "kernelspec": {
   "display_name": "Python 3 (ipykernel)",
   "language": "python",
   "name": "python3"
  },
  "language_info": {
   "codemirror_mode": {
    "name": "ipython",
    "version": 3
   },
   "file_extension": ".py",
   "mimetype": "text/x-python",
   "name": "python",
   "nbconvert_exporter": "python",
   "pygments_lexer": "ipython3",
   "version": "3.12.3"
  }
 },
 "nbformat": 4,
 "nbformat_minor": 5
}
