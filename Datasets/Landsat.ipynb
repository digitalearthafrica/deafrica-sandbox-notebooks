{
 "cells": [
  {
   "cell_type": "markdown",
   "metadata": {},
   "source": [
    "# Landsat Surface Reflectance and Surface Temperature <img align=\"right\" src=\"../Supplementary_data/DE_Africa_Logo_Stacked_RGB_small.jpg\">\n",
    "\n",
    "\n",
    "* **Products used:** \n",
    "[ls5_c2l2](https://explorer.digitalearth.africa/ls5_c2l2),\n",
    "[ls7_c2l2](https://explorer.digitalearth.africa/ls7_c2l2),\n",
    "[ls8_c2l2](https://explorer.digitalearth.africa/ls8_c2l2)"
   ]
  },
  {
   "cell_type": "raw",
   "metadata": {
    "raw_mimetype": "text/restructuredtext"
   },
   "source": [
    "**Keywords** :index:`data used; landsat 8`, :index:`data used; landsat 7`, :index:`data used; landsat 5`, :index:`datasets; landsat 8`, :index:`datasets; landsat 7`, :index:`datasets; landsat 5`,"
   ]
  },
  {
   "cell_type": "markdown",
   "metadata": {},
   "source": [
    "## Background\n",
    "\n",
    "The United States Geological Survey's (USGS) [Landsat satellite program](https://www.nasa.gov/mission_pages/landsat/overview/index.html) has been capturing images of the African continent for more than 30 years. These data are highly useful for land and coastal mapping studies.\n",
    "\n",
    "DE Africa's Landsat data is ingested from the [USGS Collection 2, Level 2](https://www.usgs.gov/land-resources/nli/landsat/landsat-collection-2?qt-science_support_page_related_con=1#qt-science_support_page_related_con) archive and forms a single, cohesive Analysis Ready Data (ARD) package, which allows you to analyse surface reflectance data as-is without the need to apply additional corrections.\n",
    "\n",
    "**Important details:**\n",
    "\n",
    "* Surface reflectance product\n",
    "    * Native scaling range: `1 – 65,455` (`0` is `no-data`)\n",
    "    * To achieve surface relactance, normalise values to `0 - 1` using `ds = ds * 2.75e-5 - 0.2` **to update - does c2 load normalised or not?**\n",
    "* Includes surface brightness temperature\n",
    "    * Temperature scaling `1 - 65,535`\n",
    "* [CFMask](https://github.com/USGS-EROS/espa-cloud-masking/tree/master/cfmask) used as cloud mask\n",
    "* Native pixel alignment is `centre`\n",
    "* Date-range: 1984 to present\n",
    "* Spatial resolution: 30 x 30 m\n",
    "\n",
    "For a detailed description of DE Africa's Landsat archive, see the DE Africa's [Landsat technical specifications documentation]() **placeholder link - to update**"
   ]
  },
  {
   "cell_type": "markdown",
   "metadata": {},
   "source": [
    "## Description\n",
    "\n",
    "In this notebook we will load **Landsat** data using two methods.  Firstly, we will use [dc.load()](../Beginners_guide/03_Loading_data.ipynb) to return a time series of satellite images from a single sensor.  Secondly, we will load a time series using the [load_ard()](../Frequently_used_code/Using_load_ard.ipynb) function, which is a wrapper function around the `dc.load` module.  This function will load all the images from Landsat 5,7 & 8, combine them, and then apply a cloud mask. The returned `xarray.Dataset` will contain analysis ready images with the cloudy and invalid pixels masked out.\n",
    "\n",
    "Topics covered include:\n",
    "1. Inspecting the Landsat products and measurements available in the datacube\n",
    "2. Using the native `dc.load()` function to load in Landsat data from a single satellite\n",
    "3. Using the `load_ard()` wrapper function to load in a concatenated, sorted, and cloud masked time series from Landsat 5, 7 & 8.\n",
    "\n",
    "***"
   ]
  },
  {
   "cell_type": "markdown",
   "metadata": {},
   "source": [
    "## Getting started\n",
    "\n",
    "To run this analysis, run all the cells in the notebook, starting with the \"Load packages\" cell."
   ]
  },
  {
   "cell_type": "markdown",
   "metadata": {},
   "source": [
    "### Load packages"
   ]
  },
  {
   "cell_type": "code",
   "execution_count": null,
   "metadata": {},
   "outputs": [],
   "source": [
    "import datacube\n",
    "\n",
    "from deafrica_tools.datahandling import load_ard\n",
    "from deafrica_tools.plotting import rgb"
   ]
  },
  {
   "cell_type": "markdown",
   "metadata": {},
   "source": [
    "### Connect to the datacube"
   ]
  },
  {
   "cell_type": "code",
   "execution_count": null,
   "metadata": {},
   "outputs": [],
   "source": [
    "dc = datacube.Datacube(app=\"Landsat_Collections\")"
   ]
  },
  {
   "cell_type": "markdown",
   "metadata": {},
   "source": [
    "## Available products and measurements\n",
    "\n",
    "### List products\n",
    "\n",
    "We can use datacube's `list_products` functionality to inspect DE Africa's Landsat products that are available in the datacube. The table below shows the product names that we will use to load the data, a brief description of the data, and the satellite instrument that acquired the data."
   ]
  },
  {
   "cell_type": "markdown",
   "metadata": {},
   "source": [
    "> We can search for Landsat Collection 2, Level 2 data by using the search term `c2l2`. `c2l2` stands for **C**ollection **2** **L**evel **2**. The datacube is case-sensitive so this must be typed in lower case."
   ]
  },
  {
   "cell_type": "code",
   "execution_count": null,
   "metadata": {},
   "outputs": [],
   "source": [
    "# List Landsat products available in DE Africa\n",
    "dc_products = dc.list_products()\n",
    "display_columns = ['name', 'description']\n",
    "dc_products[dc_products.name.str.contains(\n",
    "    'c2l2').fillna(\n",
    "        False)][display_columns].set_index('name')"
   ]
  },
  {
   "cell_type": "markdown",
   "metadata": {},
   "source": [
    "### List measurements\n",
    "\n",
    "We can further inspect the data available for each Landsat product using datacube's `list_measurements` functionality. The table below lists each of the measurements available in the data."
   ]
  },
  {
   "cell_type": "code",
   "execution_count": null,
   "metadata": {},
   "outputs": [],
   "source": [
    "dc_measurements = dc.list_measurements()\n",
    "dc_measurements.loc['ls8_c2l2']"
   ]
  },
  {
   "cell_type": "markdown",
   "metadata": {},
   "source": [
    "## Load Landsat using `dc.load()`\n",
    "\n",
    "Now that we know what products and measurements are available for the products, we can load data from the datacube using `dc.load`.\n",
    "\n",
    "In the example below, we will load data from Landsat 8 from Cape Town for South Africa in January 2018. We will load data from three spectral satellite bands, as well as cloud masking data (`'quality_l2_aerosol'`). By specifying `output_crs='EPSG:6933'` and `resolution=(-30, 30)`, we request that datacube reproject our data to the African Albers coordinate reference system (CRS), with 30 x 30 m pixels. Finally, `group_by='solar_day'` ensures that overlapping images taken within seconds of each other as the satellite passes over are combined into a single time step in the data.\n",
    "\n",
    "> Note: For a more general discussion of how to load data using the datacube, refer to the [Introduction to loading data](../Beginners_guide/03_Loading_data.ipynb) notebook.\n"
   ]
  },
  {
   "cell_type": "code",
   "execution_count": null,
   "metadata": {},
   "outputs": [],
   "source": [
    "# load data\n",
    "ds = dc.load(product=\"ls8_c2l2\",\n",
    "             measurements=['red', 'green', 'blue',\n",
    "                           'quality_l2_aerosol']\n",
    "             output_crs='EPSG:6933',\n",
    "             y=(-34.31, -34.36),\n",
    "             x=(18.44, 18.50),\n",
    "             time=(\"2018-01\", \"2018-01\"),\n",
    "             resolution=(-30, 30),\n",
    "             group_by=\"solar_day\",\n",
    "             )\n",
    "\n",
    "print(ds)"
   ]
  },
  {
   "cell_type": "markdown",
   "metadata": {},
   "source": [
    "### Plotting Landsat data\n",
    "\n",
    "We can plot the data we loaded using the `rgb` function. By default, the function will plot data as a true colour image using the 'red', 'green', and 'blue' bands.\n"
   ]
  },
  {
   "cell_type": "code",
   "execution_count": null,
   "metadata": {},
   "outputs": [],
   "source": [
    "rgb(ds, index=0)"
   ]
  },
  {
   "cell_type": "markdown",
   "metadata": {},
   "source": [
    "## Load Landsat using `load_ard`\n",
    "\n",
    "This function will load images from all the landsat sensors, concatenate and sort the observations by time, and apply a cloud mask.\n",
    "The result is an analysis ready dataset.\n",
    "You can find more information on this function from the [Using load ard](../Frequently_used_code/Using_load_ard.ipynb) notebook.\n",
    "\n",
    "## TODO: Discussion of load_ard's ability to scale surface reflectance 0-1"
   ]
  },
  {
   "cell_type": "code",
   "execution_count": null,
   "metadata": {},
   "outputs": [],
   "source": [
    "ds = load_ard(dc=dc,\n",
    "              products=[\"ls8_c2l2\",\n",
    "                        \"ls7_c2l2\",\n",
    "                        \"ls5_c2l2\"],\n",
    "              measurements=['red', 'green', 'blue'],\n",
    "              output_crs='EPSG:6933',\n",
    "              y=(-34.31, -34.36),\n",
    "              x=(18.44, 18.50),\n",
    "              time=(\"2018-01\", \"2018-01\"),\n",
    "              resolution=(-30, 30),\n",
    "              group_by=\"solar_day\"\n",
    "             )\n",
    "\n",
    "print(ds)"
   ]
  },
  {
   "cell_type": "markdown",
   "metadata": {},
   "source": [
    "Plot the cloud masked landsat data:"
   ]
  },
  {
   "cell_type": "code",
   "execution_count": null,
   "metadata": {},
   "outputs": [],
   "source": [
    "rgb(ds, index=0)"
   ]
  },
  {
   "cell_type": "markdown",
   "metadata": {},
   "source": [
    "***\n",
    "\n",
    "## Additional information\n",
    "\n",
    "**License:** The code in this notebook is licensed under the [Apache License, Version 2.0](https://www.apache.org/licenses/LICENSE-2.0). \n",
    "Digital Earth Africa data is licensed under the [Creative Commons by Attribution 4.0](https://creativecommons.org/licenses/by/4.0/) license.\n",
    "\n",
    "**Contact:** If you need assistance, please post a question on the [Open Data Cube Slack channel](http://slack.opendatacube.org/) or on the [GIS Stack Exchange](https://gis.stackexchange.com/questions/ask?tags=open-data-cube) using the `open-data-cube` tag (you can view previously asked questions [here](https://gis.stackexchange.com/questions/tagged/open-data-cube)).\n",
    "If you would like to report an issue with this notebook, you can file one on [Github](https://github.com/digitalearthafrica/deafrica-sandbox-notebooks).\n",
    "\n",
    "**Compatible datacube version:** "
   ]
  },
  {
   "cell_type": "code",
   "execution_count": null,
   "metadata": {},
   "outputs": [],
   "source": [
    "print(datacube.__version__)"
   ]
  },
  {
   "cell_type": "markdown",
   "metadata": {},
   "source": [
    "**Last Tested:**"
   ]
  },
  {
   "cell_type": "code",
   "execution_count": null,
   "metadata": {},
   "outputs": [],
   "source": [
    "from datetime import datetime\n",
    "datetime.today().strftime('%Y-%m-%d')"
   ]
  }
 ],
 "metadata": {
  "kernelspec": {
   "display_name": "Python 3",
   "language": "python",
   "name": "python3"
  },
  "language_info": {
   "codemirror_mode": {
    "name": "ipython",
    "version": 3
   },
   "file_extension": ".py",
   "mimetype": "text/x-python",
   "name": "python",
   "nbconvert_exporter": "python",
   "pygments_lexer": "ipython3",
   "version": "3.6.9"
  }
 },
 "nbformat": 4,
 "nbformat_minor": 4
}
