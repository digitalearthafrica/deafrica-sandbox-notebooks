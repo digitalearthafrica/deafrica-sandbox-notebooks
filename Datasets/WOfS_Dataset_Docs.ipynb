{
 "cells": [
  {
   "cell_type": "markdown",
   "metadata": {},
   "source": [
    "# Water Observations from Space: Technical specifications"
   ]
  },
  {
   "cell_type": "raw",
   "metadata": {
    "raw_mimetype": "text/restructuredtext"
   },
   "source": [
    ".. contents::\n",
    "   :local:"
   ]
  },
  {
   "cell_type": "markdown",
   "metadata": {},
   "source": [
    "## Product overview"
   ]
  },
  {
   "cell_type": "markdown",
   "metadata": {},
   "source": [
    "### Background\n",
    "\n",
    "INFORMATION FROM THE WATER OBSERVATIONS FROM SPACE NOTEBOOK\n",
    "\n",
    "[Water Observations from Space (WOfS)](https://www.ga.gov.au/scientific-topics/community-safety/flood/wofs/about-wofs) are a suite of surface water products. They are generated using the WOfS classification algorithm on Landsat 8 satellite data. There are several WOfS products available for the African continent, as listed below:\n",
    "\n",
    "|Product Type| Description |\n",
    "|----------|----------------|\n",
    "| WOfS Annual Summary | The ratio (%) of wet to clear observations from each calendar year|\n",
    "| WOfS All-Time Summary| The ratio (%) of wet to clear observations over all time|\n",
    "| WOFLs (WOfS Feature Layers)|WOfS slices generated per scene |\n",
    "| *WOfS Filtered Summary (Under development)* | *All-time summary checked against the confidence layer* ||\n",
    "\n",
    "\n",
    "* __WOfS Annual/All-Time Summary:__ The percentage of time a pixel was classified as wet. This requires:\n",
    "\n",
    "    - Total number of clear observations for each pixel: the number of observations that were clear (no cloud or shadow) for the selected time period. The classification algorithm then assigns these as either wet, or dry.\n",
    "    - Total number of wet observation for each pixel: the number of observations that were clear *and* wet for the selected time period.\n",
    "\n",
    "The WOfS Summary is calculated as the ratio of clear wet observations to total clear observations, expressed as a percentage.\n",
    "\n",
    "$$ \\text{WOfS Summary} = \\frac{\\text{Number of Wet Observations}}{\\text{Number of (Wet + Dry) Observations}} \\times 100 $$\n",
    "\n",
    "* __WOFLs (WOfS Feature Layers):__ Individual water-classified images are called Water Observation Feature Layers (WOFLs), and are created in a 1-to-1 relationship with the input satellite data. Hence there is one WOFL for each satellite dataset processed for the occurrence of water. For more information on WOFLs, see the [Applying WOfS bitmasking](../Frequently_used_code/Applying_WOfS_bitmasking.ipynb) notebook.\n",
    "\n",
    "* __WOfS Filtered Summary:__ The percentage of time a pixel was classified as wet, filtered using the confidence layer. The Filtered Summary is the WOfS Summary where areas with less than 10% confidence have been removed. This product is still under development for the African continent."
   ]
  },
  {
   "cell_type": "markdown",
   "metadata": {},
   "source": [
    "### Specifications"
   ]
  },
  {
   "cell_type": "markdown",
   "metadata": {},
   "source": [
    "**Table 1: GeoMAD product specifications**"
   ]
  },
  {
   "cell_type": "markdown",
   "metadata": {},
   "source": [
    "|Specification | |\n",
    "|----------|-------------|\n",
    "|Product name|GeoMAD \n",
    "| Open Data Cube alias |  `gm_s2_annual` | \n",
    "|Number of bands | 14 |\n",
    "|Cell size - X (metres) | 10 |\n",
    "|Cell size - Y (metres) | 10 |\n",
    "| Min. longitude | -5472500 |\n",
    "| Max. longitude| 4607500|\n",
    "| Min. latitude| -2687500|\n",
    "| Max. latitude |6337500 |\n",
    "|Coordinate reference system | EPSG: 6933 |\n",
    "|Temporal resolution | Annual |\n",
    "|Temporal range|  2017-01-01 00:00:00 &ndash; 2020-12-31 11:59:59 |\n",
    "|Parent dataset|  Sentinel-2 |\n",
    "|Update frequency| Annual|"
   ]
  },
  {
   "cell_type": "markdown",
   "metadata": {},
   "source": [
    "**Table 2: GeoMAD data specifications**"
   ]
  },
  {
   "cell_type": "markdown",
   "metadata": {},
   "source": [
    "|Band name| Alternative aliases|Value range| Data type| No data value|\n",
    "|----------|-------------|----------------|:---------:|:----------:|\n",
    "|B02 | band_02, blue |1 &ndash; 10000| `uint16` | 0 |\n",
    "|B03 | band_03, green |1 &ndash; 10000| `uint16` | 0 |\n",
    "|B04 | band_04, red |1 &ndash; 10000| `uint16` | 0 |\n",
    "|B05 | band_05, red_edge_1 |1 &ndash; 10000| `uint16` | 0 |\n",
    "|B06 | band_06, red_edge_2 |1 &ndash; 10000| `uint16` | 0 |\n",
    "|B07 | band_07, red_edge_3 |1 &ndash; 10000| `uint16` | 0 |\n",
    "|B08 | band_08, nir, nir_1 |1 &ndash; 10000| `uint16` | 0 |\n",
    "|B8A | band_8a, nir_narrow, nir_2 |1 &ndash; 10000|`uint16` | 0 |\n",
    "|B11 | band_11, swir_1, swir_16 |1 &ndash; 10000| `uint16` | 0 |\n",
    "|B12 | band_12, swir_2, swir_22 |1 &ndash; 10000| `uint16` | 0 |\n",
    "|SMAD | smad, sdev, SDEV |0 &ndash; 1|`float32` | `NaN` |\n",
    "|EMAD | emad, edev, EDEV |0 &ndash; 31623 | `float32` | `NaN` |\n",
    "|BCMAD | bcmad, bcdev, BCDEV |0 &ndash; 1| `float32` | `NaN` |\n",
    "|COUNT | count | 1 &ndash; 139 |`uint16` | 0|"
   ]
  },
  {
   "cell_type": "markdown",
   "metadata": {},
   "source": [
    "*details here*"
   ]
  },
  {
   "cell_type": "markdown",
   "metadata": {},
   "source": [
    "### Major algorithms"
   ]
  },
  {
   "cell_type": "markdown",
   "metadata": {},
   "source": [
    "### Processing"
   ]
  },
  {
   "cell_type": "markdown",
   "metadata": {},
   "source": [
    "### Media and example images"
   ]
  },
  {
   "cell_type": "markdown",
   "metadata": {},
   "source": [
    "## Technical explanation"
   ]
  },
  {
   "cell_type": "markdown",
   "metadata": {},
   "source": [
    "## References"
   ]
  },
  {
   "cell_type": "markdown",
   "metadata": {},
   "source": [
    "## Appendix"
   ]
  }
 ],
 "metadata": {
  "kernelspec": {
   "display_name": "Python 3",
   "language": "python",
   "name": "python3"
  },
  "language_info": {
   "codemirror_mode": {
    "name": "ipython",
    "version": 3
   },
   "file_extension": ".py",
   "mimetype": "text/x-python",
   "name": "python",
   "nbconvert_exporter": "python",
   "pygments_lexer": "ipython3",
   "version": "3.6.9"
  }
 },
 "nbformat": 4,
 "nbformat_minor": 4
}
