{
 "cells": [
  {
   "cell_type": "markdown",
   "metadata": {},
   "source": [
    "# Water Observations from Space: Technical specifications"
   ]
  },
  {
   "cell_type": "raw",
   "metadata": {
    "raw_mimetype": "text/restructuredtext"
   },
   "source": [
    ".. contents::\n",
    "   :local:"
   ]
  },
  {
   "cell_type": "markdown",
   "metadata": {},
   "source": [
    "## Product overview"
   ]
  },
  {
   "cell_type": "markdown",
   "metadata": {},
   "source": [
    "### Background\n",
    "\n",
    "*INFORMATION FROM THE WATER OBSERVATIONS FROM SPACE NOTEBOOK*\n",
    "\n",
    "[Water Observations from Space (WOfS)](https://www.ga.gov.au/scientific-topics/community-safety/flood/wofs/about-wofs) are a suite of surface water products. They are generated using the WOfS classification algorithm on Landsat 8 satellite data. There are several WOfS products available for the African continent, as listed below:\n",
    "\n",
    "|Product Type| Description |\n",
    "|----------|----------------|\n",
    "| WOfS Annual Summary | The ratio (%) of wet to clear observations from each calendar year|\n",
    "| WOfS All-Time Summary| The ratio (%) of wet to clear observations over all time|\n",
    "| WOFLs (WOfS Feature Layers)|WOfS slices generated per scene |\n",
    "| *WOfS Filtered Summary (Under development)* | *All-time summary checked against the confidence layer* ||\n",
    "\n",
    "\n",
    "* __WOfS Annual/All-Time Summary:__ The percentage of time a pixel was classified as wet. This requires:\n",
    "\n",
    "    - Total number of clear observations for each pixel: the number of observations that were clear (no cloud or shadow) for the selected time period. The classification algorithm then assigns these as either wet, or dry.\n",
    "    - Total number of wet observation for each pixel: the number of observations that were clear *and* wet for the selected time period.\n",
    "\n",
    "The WOfS Summary is calculated as the ratio of clear wet observations to total clear observations, expressed as a percentage.\n",
    "\n",
    "$$ \\text{WOfS Summary} = \\frac{\\text{Number of Wet Observations}}{\\text{Number of (Wet + Dry) Observations}} \\times 100 $$\n",
    "\n",
    "* __WOFLs (WOfS Feature Layers):__ Individual water-classified images are called Water Observation Feature Layers (WOFLs), and are created in a 1-to-1 relationship with the input satellite data. Hence there is one WOFL for each satellite dataset processed for the occurrence of water. For more information on WOFLs, see the [Applying WOfS bitmasking](../Frequently_used_code/Applying_WOfS_bitmasking.ipynb) notebook.\n",
    "\n",
    "* __WOfS Filtered Summary:__ The percentage of time a pixel was classified as wet, filtered using the confidence layer. The Filtered Summary is the WOfS Summary where areas with less than 10% confidence have been removed. This product is still under development for the African continent."
   ]
  },
  {
   "cell_type": "markdown",
   "metadata": {},
   "source": [
    "### Specifications"
   ]
  },
  {
   "cell_type": "markdown",
   "metadata": {},
   "source": [
    "**Table 1: WOfS product specifications** \n",
    "\n",
    "TBD"
   ]
  },
  {
   "cell_type": "markdown",
   "metadata": {},
   "source": [
    "|Specification | |\n",
    "|----------|-------------|\n",
    "|Product name|WOfS \n",
    "| Open Data Cube alias |  `ga_ls8c_wofs_2` | \n",
    "|Cell size - X (metres) | 30 |\n",
    "|Cell size - Y (metres) | 30 |\n",
    "| Min. longitude | -5472500 |\n",
    "| Max. longitude| 4607500|\n",
    "| Min. latitude| -2687500|\n",
    "| Max. latitude |6337500 |\n",
    "|Coordinate reference system | EPSG: 6933 |\n",
    "|Temporal resolution | Annual |\n",
    "|Temporal range|  2017-01-01 00:00:00 &ndash; 2020-12-31 11:59:59 |\n",
    "|Parent dataset|  Landsat 8 |\n",
    "|Update frequency| Annual|"
   ]
  },
  {
   "cell_type": "markdown",
   "metadata": {},
   "source": [
    "**Table 2: WOfS data specifications**\n",
    "These describe what the bit flags in the WOfS mean"
   ]
  },
  {
   "cell_type": "markdown",
   "metadata": {},
   "source": [
    "|Bit|Flagging|Decimal Value|Description|\n",
    "|---|:--------:|:-------------:|:-----------:|\n",
    "|0 |no data |1 |dec: 1 = pixel masked out due to NO_DATA in NBAR source, 0 = valid data in NBAR\n",
    "|1 |contiguity |2 |dec: 2 = pixel masked out due to lack of data contiguity\n",
    "|2 |sea |4 |dec: 4 = pixel masked out due to being over sea\n",
    "|3 |terrain shadow |8 |dec: 8 = pixel masked out due to terrain shadow\n",
    "|4 |high slope |16 |dec: 16 = pixel masked out due to high slop\n",
    "|5 |cloud shadow |32 |dec: 32 = pixel masked out due to cloud shadow\n",
    "|6 |cloud |64 |dec: 64 = pixel masked out due to cloud\n",
    "|7 |water observed |128 |dec: 128 = water present"
   ]
  },
  {
   "cell_type": "markdown",
   "metadata": {},
   "source": [
    "*details here*"
   ]
  },
  {
   "cell_type": "markdown",
   "metadata": {},
   "source": [
    "### Major algorithms\n",
    "\n",
    "*This exists on the CMI? Do we want it here?*"
   ]
  },
  {
   "cell_type": "markdown",
   "metadata": {},
   "source": [
    "### Processing"
   ]
  },
  {
   "cell_type": "markdown",
   "metadata": {},
   "source": [
    "### Media and example images"
   ]
  },
  {
   "cell_type": "markdown",
   "metadata": {},
   "source": [
    "## Technical explanation\n",
    "\n",
    "*this is where I will include the docs that Meghan has been working on*\n",
    "\n",
    "### Methods\n",
    "\n",
    "The Water Observation from Space (WOfS) service for Africa was created using an algorithm that has been developed and well-tested in Australia ([Mueller 2016](https://www.sciencedirect.com/science/article/pii/S0034425715301929?via%3Dihub)). The WOfS algorithm maps surface water for every image scene using a supervised decision tree algorithm that considers surface reflectance measurements in selected spectral bands and a number of normalised difference indices. WOfS maps water at a spatial resolution of 30m by 30m. The WOfS product suite includes daily water observations and statistical summaries. Daily water observations, also known as Water Observation Feature Layers, detect water in each input satellite observation. The dataset can be used to map historical flood and to understand surface water dynamics; however, given the time between satellite passes (approximately once every 16 days), it is rare that the maximum extent of any given flood is captured.\n"
   ]
  },
  {
   "cell_type": "markdown",
   "metadata": {},
   "source": [
    "#### Validation\n",
    "\n",
    "We selected a validation approach that provided insights on both the spatial and temporal accuracy of WOfS. We followed methods outlined in the DE Africa validation strategy and worked with a distributed team of regional analysts who provided regional expertise and knowledge of the landscape. We used a stratified random sampling scheme and assessed points as ‘truth’ through interpretation of imagery using a custom built tool in Collect Earth Online (CEO). Because of the large effort required to create a continental-scale multi-temporal reference dataset we selected a sampling design that is independent of the WOfS classification so that it can be used to compare future versions of WOfS (new algorithms, new products i.e. Sentinel-2) and other existing surface water maps (Global surface water map).\n",
    "\n",
    "One of our objectives was to create a reference dataset that would be sensitive to changes between water classifiers and source imagery. Because water classifiers typically do a good job mapping big open water bodies we masked out large water features with an area of more than 100 square km (sourced from the Food and Agriculture Organization of the United Nations (FAO)) from the sample frame. This focused validation on areas that are more challenging to map such as small water bodies with different colors, depths and surrounding environments and edges of waterbodies that often contain mixed pixels. By focusing our sample on the more difficult to map areas this sample scheme allows us to understand the limitations of WOfS and allows us to compare WOfS to other datasets that are available with higher sensitivity than a purely probabilistic sample. However, a sampling scheme focused on the more difficult to detect areas and not just the large waterbodies will result in lower accuracies if compared to other sample schemes that did not do large waterbody masking. "
   ]
  },
  {
   "cell_type": "markdown",
   "metadata": {},
   "source": [
    "### Accuracy\n",
    "\n",
    "At a continental-scale WOfS is able to identify about 80% of the labeled water features and 94% of its water classifications are correct. As a comparison, we have used this validation dataset to measure the accuracy of water classification provided as part of the Sentinel-2 analysis ready data (in a scene classification layer). The Sentinel-2 dataset is able to detect less than 60% of the labeled water features."
   ]
  },
  {
   "cell_type": "markdown",
   "metadata": {},
   "source": [
    "## References"
   ]
  },
  {
   "cell_type": "markdown",
   "metadata": {},
   "source": [
    "## Appendix"
   ]
  }
 ],
 "metadata": {
  "kernelspec": {
   "display_name": "Python 3",
   "language": "python",
   "name": "python3"
  },
  "language_info": {
   "codemirror_mode": {
    "name": "ipython",
    "version": 3
   },
   "file_extension": ".py",
   "mimetype": "text/x-python",
   "name": "python",
   "nbconvert_exporter": "python",
   "pygments_lexer": "ipython3",
   "version": "3.6.9"
  }
 },
 "nbformat": 4,
 "nbformat_minor": 4
}
