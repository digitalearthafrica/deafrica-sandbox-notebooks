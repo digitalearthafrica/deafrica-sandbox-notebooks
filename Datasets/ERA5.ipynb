{
 "cells": [
  {
   "cell_type": "markdown",
   "metadata": {},
   "source": [
    "# ERA5 datasets"
   ]
  },
  {
   "cell_type": "markdown",
   "metadata": {},
   "source": [
    "See also \n",
    "\n",
    "[Official ERA5 data documentation from ECMWF](https://confluence.ecmwf.int/display/CKB/ERA5+data+documentation)\n",
    "\n",
    "[Access through Copernicus Climiate Service](https://climate.copernicus.eu/climate-reanalysis?q=products/climate-reanalysis)\n",
    "\n",
    "ERA5 hourly data (0.25 deg x 0.25 deg resolution) available with a few (~4) days latency\n",
    "\n",
    "New ERA5-land hourly data (0.1 deg x 0.1 deg resolution) available with a few months latency\n",
    "\n"
   ]
  },
  {
   "cell_type": "markdown",
   "metadata": {},
   "source": [
    "# ERA5 in AWS PDS (updated monthly however only up to end of 2019 as of March 2020)\n",
    "\n",
    "https://github.com/planet-os/notebooks/blob/master/aws/era5-pds.md"
   ]
  },
  {
   "cell_type": "code",
   "execution_count": 3,
   "metadata": {},
   "outputs": [],
   "source": [
    "# Initialize notebook environment.\n",
    "%matplotlib inline\n",
    "import boto3\n",
    "import botocore\n",
    "import datetime\n",
    "import matplotlib.pyplot as plt\n",
    "import os.path\n",
    "import xarray as xr"
   ]
  },
  {
   "cell_type": "code",
   "execution_count": 4,
   "metadata": {},
   "outputs": [],
   "source": [
    "# Connect to the bucket\n",
    "era5_bucket = 'era5-pds'\n",
    "# No AWS keys required\n",
    "client = boto3.client('s3', config=botocore.client.Config(signature_version=botocore.UNSIGNED))"
   ]
  },
  {
   "cell_type": "code",
   "execution_count": 5,
   "metadata": {},
   "outputs": [
    {
     "name": "stdout",
     "output_type": "stream",
     "text": [
      "1979/\n",
      "1980/\n",
      "1981/\n",
      "1982/\n",
      "1983/\n",
      "1984/\n",
      "1985/\n",
      "1986/\n",
      "1987/\n",
      "1988/\n",
      "1989/\n",
      "1990/\n",
      "1991/\n",
      "1992/\n",
      "1993/\n",
      "1994/\n",
      "1995/\n",
      "1996/\n",
      "1997/\n",
      "1998/\n",
      "1999/\n",
      "2000/\n",
      "2001/\n",
      "2002/\n",
      "2003/\n",
      "2004/\n",
      "2005/\n",
      "2006/\n",
      "2007/\n",
      "2008/\n",
      "2009/\n",
      "2010/\n",
      "2011/\n",
      "2012/\n",
      "2013/\n",
      "2014/\n",
      "2015/\n",
      "2016/\n",
      "2017/\n",
      "2018/\n",
      "2019/\n",
      "QA/\n",
      "cds/\n",
      "zarr/\n"
     ]
    }
   ],
   "source": [
    "# List available folders\n",
    "paginator = client.get_paginator('list_objects')\n",
    "result = paginator.paginate(Bucket=era5_bucket, Delimiter='/')\n",
    "for prefix in result.search('CommonPrefixes'):\n",
    "    print(prefix.get('Prefix'))"
   ]
  },
  {
   "cell_type": "code",
   "execution_count": 6,
   "metadata": {},
   "outputs": [
    {
     "name": "stdout",
     "output_type": "stream",
     "text": [
      "There are 19 objects available for December, 2019\n",
      "--\n",
      "2019/12/data/air_pressure_at_mean_sea_level.nc\n",
      "2019/12/data/air_temperature_at_2_metres.nc\n",
      "2019/12/data/air_temperature_at_2_metres_1hour_Maximum.nc\n",
      "2019/12/data/air_temperature_at_2_metres_1hour_Minimum.nc\n",
      "2019/12/data/dew_point_temperature_at_2_metres.nc\n",
      "2019/12/data/eastward_wind_at_100_metres.nc\n",
      "2019/12/data/eastward_wind_at_10_metres.nc\n",
      "2019/12/data/integral_wrt_time_of_surface_direct_downwelling_shortwave_flux_in_air_1hour_Accumulation.nc\n",
      "2019/12/data/lwe_thickness_of_surface_snow_amount.nc\n",
      "2019/12/data/northward_wind_at_100_metres.nc\n",
      "2019/12/data/northward_wind_at_10_metres.nc\n",
      "2019/12/data/precipitation_amount_1hour_Accumulation.nc\n",
      "2019/12/data/sea_surface_temperature.nc\n",
      "2019/12/data/sea_surface_wave_from_direction.nc\n",
      "2019/12/data/sea_surface_wave_mean_period.nc\n",
      "2019/12/data/significant_height_of_wind_and_swell_waves.nc\n",
      "2019/12/data/snow_density.nc\n",
      "2019/12/data/surface_air_pressure.nc\n",
      "2019/12/main.nc\n"
     ]
    }
   ],
   "source": [
    "# Search available data for specified month\n",
    "keys = []\n",
    "date = datetime.date(2019,12,1) # update to desired date\n",
    "prefix = date.strftime('%Y/%m/')\n",
    "\n",
    "response = client.list_objects_v2(Bucket=era5_bucket, Prefix=prefix)\n",
    "response_meta = response.get('ResponseMetadata')\n",
    "\n",
    "if response_meta.get('HTTPStatusCode') == 200:\n",
    "    contents = response.get('Contents')\n",
    "    if contents == None:\n",
    "        print(\"No objects are available for %s\" % date.strftime('%B, %Y'))\n",
    "    else:\n",
    "        for obj in contents:\n",
    "            keys.append(obj.get('Key'))\n",
    "        print(\"There are %s objects available for %s\\n--\" % (len(keys), date.strftime('%B, %Y')))\n",
    "        for k in keys:\n",
    "            print(k)\n",
    "else:\n",
    "    print(\"There was an error with your request.\")"
   ]
  },
  {
   "cell_type": "code",
   "execution_count": 7,
   "metadata": {},
   "outputs": [
    {
     "data": {
      "text/plain": [
       "<bound method Dataset.info of <xarray.Dataset>\n",
       "Dimensions:                                  (lat: 721, lon: 1440, nv: 2, time1: 744)\n",
       "Coordinates:\n",
       "  * lon                                      (lon) float32 0.0 0.25 ... 359.75\n",
       "  * lat                                      (lat) float32 90.0 89.75 ... -90.0\n",
       "  * time1                                    (time1) datetime64[ns] 2019-12-01 ... 2019-12-31T23:00:00\n",
       "Dimensions without coordinates: nv\n",
       "Data variables:\n",
       "    time1_bounds                             (time1, nv) datetime64[ns] ...\n",
       "    precipitation_amount_1hour_Accumulation  (time1, lat, lon) float32 ...\n",
       "Attributes:\n",
       "    source:       Reanalysis\n",
       "    institution:  ECMWF\n",
       "    title:        ERA5 forecasts>"
      ]
     },
     "execution_count": 7,
     "metadata": {},
     "output_type": "execute_result"
    }
   ],
   "source": [
    "# select date and variable of interest\n",
    "date = datetime.date(2019,12,1)\n",
    "var = 'precipitation_amount_1hour_Accumulation'\n",
    "\n",
    "# file path patterns for remote S3 objects and corresponding local file\n",
    "s3_data_ptrn = '{year}/{month}/data/{var}.nc'\n",
    "data_file_ptrn = '{year}{month}_{var}.nc'\n",
    "\n",
    "year = date.strftime('%Y')\n",
    "month = date.strftime('%m')\n",
    "s3_data_key = s3_data_ptrn.format(year=year, month=month, var=var)\n",
    "data_file = data_file_ptrn.format(year=year, month=month, var=var)\n",
    "\n",
    "if not os.path.isfile(data_file): # check if file already exists\n",
    "    print(\"Downloading %s from S3...\" % s3_data_key)\n",
    "    client.download_file(era5_bucket, s3_data_key, data_file)\n",
    "\n",
    "ds = xr.open_dataset(data_file)\n",
    "ds.info"
   ]
  },
  {
   "cell_type": "code",
   "execution_count": 8,
   "metadata": {},
   "outputs": [
    {
     "data": {
      "text/plain": [
       "[{'name': 'cape_town', 'lon': 18.4233, 'lat': -33.918861},\n",
       " {'name': 'dubai', 'lon': 55.316666, 'lat': 25.266666}]"
      ]
     },
     "execution_count": 8,
     "metadata": {},
     "output_type": "execute_result"
    }
   ],
   "source": [
    "locs = [\n",
    "    {'name': 'cape_town', 'lon': 18.423300, 'lat': -33.918861},\n",
    "    {'name': 'dubai', 'lon': 55.316666, 'lat': 25.266666},\n",
    "]\n",
    "\n",
    "# convert westward longitudes to degrees east\n",
    "for l in locs:\n",
    "    if l['lon'] < 0:\n",
    "        l['lon'] = 360 + l['lon']\n",
    "locs"
   ]
  },
  {
   "cell_type": "code",
   "execution_count": 9,
   "metadata": {},
   "outputs": [
    {
     "data": {
      "text/plain": [
       "Data variables:\n",
       "    time1_bounds  (time1, nv) datetime64[ns] 2019-11-30T21:00:00 ... 2019-12-31T23:00:00\n",
       "    cape_town     (time1) float32 ...\n",
       "    dubai         (time1) float32 ..."
      ]
     },
     "execution_count": 9,
     "metadata": {},
     "output_type": "execute_result"
    }
   ],
   "source": [
    "ds_locs = xr.Dataset()\n",
    "\n",
    "# interate through the locations and create a dataset\n",
    "# containing the temperature values for each location\n",
    "for l in locs:\n",
    "    name = l['name']\n",
    "    lon = l['lon']\n",
    "    lat = l['lat']\n",
    "    var_name = name\n",
    "\n",
    "    ds2 = ds.sel(lon=lon, lat=lat, method='nearest')\n",
    "\n",
    "    lon_attr = '%s_lon' % name\n",
    "    lat_attr = '%s_lat' % name\n",
    "\n",
    "    ds2.attrs[lon_attr] = ds2.lon.values.tolist()\n",
    "    ds2.attrs[lat_attr] = ds2.lat.values.tolist()\n",
    "    ds2 = ds2.rename({var : var_name}).drop(('lat', 'lon'))\n",
    "    \n",
    "    ds_locs = xr.merge([ds_locs, ds2])\n",
    "\n",
    "ds_locs.data_vars"
   ]
  },
  {
   "cell_type": "code",
   "execution_count": 19,
   "metadata": {},
   "outputs": [
    {
     "data": {
      "text/plain": [
       "<matplotlib.legend.Legend at 0x7f7fa02ca128>"
      ]
     },
     "execution_count": 19,
     "metadata": {},
     "output_type": "execute_result"
    },
    {
     "data": {
      "image/png": "[encoded data removed]",
      "text/plain": [
       "<Figure size 1296x432 with 1 Axes>"
      ]
     },
     "metadata": {
      "needs_background": "light"
     },
     "output_type": "display_data"
    }
   ],
   "source": [
    "fig = plt.figure(figsize=(18,6))\n",
    "for var in [loc['name'] for loc in locs]:\n",
    "    ds_locs[var].plot(label=var)\n",
    "plt.legend()"
   ]
  }
 ],
 "metadata": {
  "kernelspec": {
   "display_name": "Python 3",
   "language": "python",
   "name": "python3"
  },
  "language_info": {
   "codemirror_mode": {
    "name": "ipython",
    "version": 3
   },
   "file_extension": ".py",
   "mimetype": "text/x-python",
   "name": "python",
   "nbconvert_exporter": "python",
   "pygments_lexer": "ipython3",
   "version": "3.6.9"
  }
 },
 "nbformat": 4,
 "nbformat_minor": 4
}
