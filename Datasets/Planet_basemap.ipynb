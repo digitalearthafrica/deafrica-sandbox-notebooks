{
 "cells": [
  {
   "cell_type": "markdown",
   "id": "4be57a3d-6fe4-4706-9bfd-d3de69d9e6bf",
   "metadata": {},
   "source": [
    "# Planet monthly mosaic data\n",
    "\n",
    "* **Products used:**\n",
    "[DE Africa Waterbodies](https://docs.digitalearthafrica.org/en/latest/data_specs/Waterbodies_specs.html),\n",
    "[s2_l2a](https://explorer.digitalearth.africa/s2_l2a),\n",
    "[Planet API]()\n"
   ]
  },
  {
   "cell_type": "raw",
   "id": "c53448f1-9764-4431-b47f-e9db8a5f7534",
   "metadata": {},
   "source": [
    "**Keywords**: :index:`data used; rolling GeoMAD`, :index:`band index; NDVI`, :index:`band index; BUI`, "
   ]
  },
  {
   "cell_type": "markdown",
   "id": "c18a09f8-c72f-412f-bb5f-5feeb945c233",
   "metadata": {},
   "source": [
    "## Background\n",
    "\n",
    "Norway's International Climate and Forests Initiative (NICFI) is an international development fund that helps save the world's tropical forests while improving the livelihoods of those who live off, in, and near forests. In September 2020, the Norwegian Ministry of Climate and Environment awarded an international contract to Kongsberg Satellite Services (KSAT), with partners Planet and Airbus, to provide comprehensive access to high-resolution satellite monitoring of the tropics. As part of this program, Planet partnered with NICFI to make high-resolution satellite imagery of the tropics available free of charge to users, advancing the NICFI purpose of reducing and reversing tropical forest loss, combating climate change, conserving biodiversity, and facilitating sustainable development. Additional information on the program can be found on the [NICFI program website](https://www.planet.com/nicfi). \n",
    "\n",
    "Digital Earth Africa has enabled users to view NICFI's latest monthly and biannual high-resolution (<5 m) mosaics through its platform (Maps and Sandbox). These visual mosaics provide optimized, true-color imagery, making them ideal for visual display and interpretation. For more information and access to additional visual and analytic products from Planet, visit the [NICFI program website](https://www.planet.com/nicfi)\n",
    "\n",
    "**Important details:**\n",
    "\n",
    "* Planet Monthly Mosaic\n",
    "* Spatial resolution: 4.77m\n",
    "* Bands: Red, Green, Blue (3-band)\n",
    "* Temporal resolution: monthly\n",
    "* Temporal range: 2020-09 &ndash; present\n",
    "* Update frequency: Monthly\n",
    "* Update latency: Max 5 days from previous month\n",
    "* Api access: `https://api.digitalearth.africa/planet/tiles/basemaps/v1/planet-tiles/planet_medres_visual_year-month_mosaic/gmap/{z}/{x}/{y}.png`\n",
    "---\n",
    "* Archive Planet biannual Mosaic\n",
    "* Spatial resolution: 4.77m\n",
    "* Bands: Red, Green, Blue (3-band)\n",
    "* Temporal resolution: 6 months\n",
    "* Temporal range: 2015-12 &ndash; 2020-08\n",
    "* [Visualise on DE Africa Maps](https://maps.digitalearth.africa/#share=s-3nQm2WLyXLl1LahsxI1JJ5bgWFO)\n",
    "\n",
    "\n",
    "For a detailed description visit [NICFI_UserGuidesFAQ.pdf](https://assets.planet.com/docs/NICFI_UserGuidesFAQ.pdf)."
   ]
  },
  {
   "cell_type": "markdown",
   "id": "fb326bf6-4daa-443e-93e4-e570589996e1",
   "metadata": {},
   "source": [
    "## Description\n",
    "This notebook demonstrates how to use the Planet monthly mosaic data in conjunction with other DE Africa services. \n",
    "\n",
    "Topics covered include:\n",
    "\n",
    "1. Define area of interest\n",
    "2. Plotting of waterbody, Normalized Difference Vegetation Index (NDVI) and Build-Up Index (BUI) with planet monthly mosaic as basemap\n",
    "\n",
    "***"
   ]
  },
  {
   "cell_type": "markdown",
   "id": "c6bca777-0e57-43f9-876d-da7cc0ba0003",
   "metadata": {},
   "source": [
    "## Getting started\n",
    "\n"
   ]
  },
  {
   "cell_type": "markdown",
   "id": "105f948b-a80d-4e6f-a66c-2cb8a6fb73bb",
   "metadata": {},
   "source": [
    "### Load packages\n",
    "Import Python packages that are used for the analysis."
   ]
  },
  {
   "cell_type": "markdown",
   "id": "c7865d2d-16be-4afb-9c66-6f2a8401e084",
   "metadata": {
    "tags": []
   },
   "source": [
    "- Uncomment the below cell if `localtileserver` throws up an error and rerun the cell\n",
    "- Once installed comment it out."
   ]
  },
  {
   "cell_type": "code",
   "execution_count": 1,
   "id": "8281df8c-8223-4311-9b7e-d2ec2dbed196",
   "metadata": {},
   "outputs": [],
   "source": [
    "#pip install localtileserver"
   ]
  },
  {
   "cell_type": "markdown",
   "id": "3baca28f-52b8-4eef-850c-edc81f9001e6",
   "metadata": {},
   "source": [
    "To run this analysis, run all the cells in the notebook, starting with the \"Load packages\" cell. "
   ]
  },
  {
   "cell_type": "code",
   "execution_count": 2,
   "id": "11f33a2f-5103-4ee2-98c7-f51f0b72e4e8",
   "metadata": {},
   "outputs": [],
   "source": [
    "import geopandas as gpd\n",
    "from datacube.utils.geometry import Geometry\n",
    "from deafrica_tools.plotting import display_map\n",
    "from deafrica_tools.areaofinterest import define_area\n",
    "\n",
    "from deafrica_tools.app.planetbasemap import loadplanet"
   ]
  },
  {
   "cell_type": "markdown",
   "id": "6e79482d-bcf8-4cfb-ac55-8c929bb06f9e",
   "metadata": {},
   "source": [
    "### Analysis parameters\n",
    "\n",
    "The following cell sets the parameters, which define the area of interest and the length of time to conduct the analysis over.\n",
    "The parameters are\n",
    "\n",
    "* `lat`: The central latitude to analyse (e.g. `10.338`).\n",
    "* `lon`: The central longitude to analyse (e.g. `-1.055`).\n",
    "* `buffer`: The number of square degrees to load around the central latitude and longitude. \n",
    "\n",
    "#### Select location\n",
    "To define the area of interest, there are two methods available:\n",
    "\n",
    "1. By specifying the latitude, longitude, and buffer. This method requires you to input the central latitude, central longitude, and the buffer value in square degrees around the center point you want to analyze. For example, `lat = 10.338`, `lon = -1.055`, and `buffer = 0.1` will select an area with a radius of 0.1 square degrees around the point with coordinates (10.338, -1.055).\n",
    "\n",
    "2. By uploading a polygon as a `GeoJSON or Esri Shapefile`. If you choose this option, you will need to upload the geojson or ESRI shapefile into the Sandbox using Upload Files button <img align=\"top\" src=\"../Supplementary_data/upload_files_icon.png\"> in the top left corner of the Jupyter Notebook interface. ESRI shapefiles must be uploaded with all the related files `(.cpg, .dbf, .shp, .shx)`. Once uploaded, you can use the shapefile or geojson to define the area of interest. Remember to update the code to call the file you have uploaded.\n",
    "\n",
    "To use one of these methods, you can uncomment the relevant line of code and comment out the other one. To comment out a line, add the `\"#\"` symbol before the code you want to comment out. By default, the first option which defines the location using latitude, longitude, and buffer is being used.\n",
    "\n",
    "**If running the notebook for the first time**, keep the default settings below.\n",
    "This will demonstrate how the analysis works and provide meaningful results.\n",
    "The example covers the Bui Dam in Ashanti Region, Ghana.\n"
   ]
  },
  {
   "cell_type": "code",
   "execution_count": 3,
   "id": "59c64fa9-6946-466f-812a-5ff7b96430d2",
   "metadata": {},
   "outputs": [],
   "source": [
    "# Method 1: Specify the latitude, longitude, and buffer\n",
    "aoi = define_area(lat=6.74248, lon=-1.69340, buffer=0.05)\n",
    "\n",
    "# Method 2: Use a polygon as a GeoJSON or Esri Shapefile. \n",
    "# aoi = define_area(vector_path='aoi.shp')\n",
    "\n",
    "geopolygon = Geometry(aoi[\"features\"][0][\"geometry\"], crs=\"epsg:4326\")\n",
    "geopolygon_gdf = gpd.GeoDataFrame(geometry=[geopolygon], crs=geopolygon.crs)\n",
    "\n",
    "# Get the latitude and longitude range of the geopolygon\n",
    "lon_range = (geopolygon_gdf.total_bounds[0], geopolygon_gdf.total_bounds[2])\n",
    "lat_range = (geopolygon_gdf.total_bounds[1], geopolygon_gdf.total_bounds[3])"
   ]
  },
  {
   "cell_type": "markdown",
   "id": "d6109a01-245e-4fed-81de-35bdfc8f5562",
   "metadata": {},
   "source": [
    "## View the selected location\n",
    "The next cell will display the selected area on an interactive map.\n",
    "Feel free to zoom in and out to get a better understanding of the area you'll be analysing.\n",
    "Clicking on any point of the map will reveal the latitude and longitude coordinates of that point."
   ]
  },
  {
   "cell_type": "code",
   "execution_count": 4,
   "id": "4d9da5c0-7b68-4efe-9e81-549a4031ec9d",
   "metadata": {},
   "outputs": [
    {
     "data": {
      "text/html": [
       "<div style=\"width:100%;\"><div style=\"position:relative;width:100%;height:0;padding-bottom:60%;\"><span style=\"color:#565656\">Make this Notebook Trusted to load map: File -> Trust Notebook</span><iframe srcdoc=\"&lt;!DOCTYPE html&gt;\n",
       "&lt;html&gt;\n",
       "&lt;head&gt;\n",
       "    \n",
       "    &lt;meta http-equiv=&quot;content-type&quot; content=&quot;text/html; charset=UTF-8&quot; /&gt;\n",
       "    \n",
       "        &lt;script&gt;\n",
       "            L_NO_TOUCH = false;\n",
       "            L_DISABLE_3D = false;\n",
       "        &lt;/script&gt;\n",
       "    \n",
       "    &lt;style&gt;html, body {width: 100%;height: 100%;margin: 0;padding: 0;}&lt;/style&gt;\n",
       "    &lt;style&gt;#map {position:absolute;top:0;bottom:0;right:0;left:0;}&lt;/style&gt;\n",
       "    &lt;script src=&quot;https://cdn.jsdelivr.net/npm/leaflet@1.6.0/dist/leaflet.js&quot;&gt;&lt;/script&gt;\n",
       "    &lt;script src=&quot;https://code.jquery.com/jquery-1.12.4.min.js&quot;&gt;&lt;/script&gt;\n",
       "    &lt;script src=&quot;https://maxcdn.bootstrapcdn.com/bootstrap/3.2.0/js/bootstrap.min.js&quot;&gt;&lt;/script&gt;\n",
       "    &lt;script src=&quot;https://cdnjs.cloudflare.com/ajax/libs/Leaflet.awesome-markers/2.0.2/leaflet.awesome-markers.js&quot;&gt;&lt;/script&gt;\n",
       "    &lt;link rel=&quot;stylesheet&quot; href=&quot;https://cdn.jsdelivr.net/npm/leaflet@1.6.0/dist/leaflet.css&quot;/&gt;\n",
       "    &lt;link rel=&quot;stylesheet&quot; href=&quot;https://maxcdn.bootstrapcdn.com/bootstrap/3.2.0/css/bootstrap.min.css&quot;/&gt;\n",
       "    &lt;link rel=&quot;stylesheet&quot; href=&quot;https://maxcdn.bootstrapcdn.com/bootstrap/3.2.0/css/bootstrap-theme.min.css&quot;/&gt;\n",
       "    &lt;link rel=&quot;stylesheet&quot; href=&quot;https://maxcdn.bootstrapcdn.com/font-awesome/4.6.3/css/font-awesome.min.css&quot;/&gt;\n",
       "    &lt;link rel=&quot;stylesheet&quot; href=&quot;https://cdnjs.cloudflare.com/ajax/libs/Leaflet.awesome-markers/2.0.2/leaflet.awesome-markers.css&quot;/&gt;\n",
       "    &lt;link rel=&quot;stylesheet&quot; href=&quot;https://cdn.jsdelivr.net/gh/python-visualization/folium/folium/templates/leaflet.awesome.rotate.min.css&quot;/&gt;\n",
       "    \n",
       "            &lt;meta name=&quot;viewport&quot; content=&quot;width=device-width,\n",
       "                initial-scale=1.0, maximum-scale=1.0, user-scalable=no&quot; /&gt;\n",
       "            &lt;style&gt;\n",
       "                #map_d1c7256035306816612c48d549e6b74e {\n",
       "                    position: relative;\n",
       "                    width: 100.0%;\n",
       "                    height: 100.0%;\n",
       "                    left: 0.0%;\n",
       "                    top: 0.0%;\n",
       "                }\n",
       "            &lt;/style&gt;\n",
       "        \n",
       "&lt;/head&gt;\n",
       "&lt;body&gt;\n",
       "    \n",
       "    \n",
       "            &lt;div class=&quot;folium-map&quot; id=&quot;map_d1c7256035306816612c48d549e6b74e&quot; &gt;&lt;/div&gt;\n",
       "        \n",
       "&lt;/body&gt;\n",
       "&lt;script&gt;\n",
       "    \n",
       "    \n",
       "            var map_d1c7256035306816612c48d549e6b74e = L.map(\n",
       "                &quot;map_d1c7256035306816612c48d549e6b74e&quot;,\n",
       "                {\n",
       "                    center: [6.7424800000000005, -1.6934],\n",
       "                    crs: L.CRS.EPSG3857,\n",
       "                    zoom: 13,\n",
       "                    zoomControl: true,\n",
       "                    preferCanvas: false,\n",
       "                }\n",
       "            );\n",
       "\n",
       "            \n",
       "\n",
       "        \n",
       "    \n",
       "            var tile_layer_0649989f976cbce99af9417821c3dee0 = L.tileLayer(\n",
       "                &quot;http://mt1.google.com/vt/lyrs=y\\u0026z={z}\\u0026x={x}\\u0026y={y}&quot;,\n",
       "                {&quot;attribution&quot;: &quot;Google&quot;, &quot;detectRetina&quot;: false, &quot;maxNativeZoom&quot;: 18, &quot;maxZoom&quot;: 18, &quot;minZoom&quot;: 0, &quot;noWrap&quot;: false, &quot;opacity&quot;: 1, &quot;subdomains&quot;: &quot;abc&quot;, &quot;tms&quot;: false}\n",
       "            ).addTo(map_d1c7256035306816612c48d549e6b74e);\n",
       "        \n",
       "    \n",
       "            var poly_line_34df01c46c687967c97f8f33c653d79e = L.polyline(\n",
       "                [[6.69248, -1.7434], [6.69248, -1.6434], [6.79248, -1.6434], [6.79248, -1.7434], [6.69248, -1.7434]],\n",
       "                {&quot;bubblingMouseEvents&quot;: true, &quot;color&quot;: &quot;red&quot;, &quot;dashArray&quot;: null, &quot;dashOffset&quot;: null, &quot;fill&quot;: false, &quot;fillColor&quot;: &quot;red&quot;, &quot;fillOpacity&quot;: 0.2, &quot;fillRule&quot;: &quot;evenodd&quot;, &quot;lineCap&quot;: &quot;round&quot;, &quot;lineJoin&quot;: &quot;round&quot;, &quot;noClip&quot;: false, &quot;opacity&quot;: 0.8, &quot;smoothFactor&quot;: 1.0, &quot;stroke&quot;: true, &quot;weight&quot;: 3}\n",
       "            ).addTo(map_d1c7256035306816612c48d549e6b74e);\n",
       "        \n",
       "    \n",
       "                var lat_lng_popup_3a35bedd0b11fee338fe5473d26f57a2 = L.popup();\n",
       "                function latLngPop(e) {\n",
       "                    lat_lng_popup_3a35bedd0b11fee338fe5473d26f57a2\n",
       "                        .setLatLng(e.latlng)\n",
       "                        .setContent(&quot;Latitude: &quot; + e.latlng.lat.toFixed(4) +\n",
       "                                    &quot;&lt;br&gt;Longitude: &quot; + e.latlng.lng.toFixed(4))\n",
       "                        .openOn(map_d1c7256035306816612c48d549e6b74e);\n",
       "                    }\n",
       "                map_d1c7256035306816612c48d549e6b74e.on(&#x27;click&#x27;, latLngPop);\n",
       "            \n",
       "&lt;/script&gt;\n",
       "&lt;/html&gt;\" style=\"position:absolute;width:100%;height:100%;left:0;top:0;border:none !important;\" allowfullscreen webkitallowfullscreen mozallowfullscreen></iframe></div></div>"
      ],
      "text/plain": [
       "<folium.folium.Map at 0x7ff775397af0>"
      ]
     },
     "execution_count": 4,
     "metadata": {},
     "output_type": "execute_result"
    }
   ],
   "source": [
    "display_map(x=lon_range, y=lat_range, zoom_bias=1)"
   ]
  },
  {
   "cell_type": "markdown",
   "id": "3f024116-1b2c-4916-b733-e304f826d02e",
   "metadata": {
    "tags": []
   },
   "source": [
    "## Plotting of Result\n",
    "\n",
    "The cell below plots the map with `ipyleaflet` functions, which load `opensteetmap` and the `Latest Planet monthly mosaic` as the basemap. It also loads the\n",
    "\n",
    "- `Built up area `       : generated using Build-Up Index (BUI)\n",
    "- `Vegetation    `       : generated using Normalized Difference Vegetation Index (NDVI) \n",
    "- `Water body    `       : maximum extent mapped in Waterbodies service\n",
    "\n",
    "The NDVI and BUI were computed from Sentinel-2 Annual GeoMad. More information on the [GeoMAD](GeoMAD.ipynb).\n",
    "\n",
    "The loadplanet function takes two parameters \n",
    "- `lon_range   ` : longitude buffer for the study area\n",
    "- `lat_range   ` : latitude  buffer for the study area\n",
    "\n",
    "The next cell will display the selected area on an interactive map.\n",
    "Feel free to zoom in and out to get a better understanding of the area you'll be analysing."
   ]
  },
  {
   "cell_type": "code",
   "execution_count": 5,
   "id": "d1f65119-ee4b-4340-bb32-56218dd6cc4c",
   "metadata": {},
   "outputs": [
    {
     "name": "stderr",
     "output_type": "stream",
     "text": [
      "WARNING:rasterio._env:CPLE_NotSupported in driver GTiff does not support creation option WIDTH\n",
      "WARNING:rasterio._env:CPLE_NotSupported in driver GTiff does not support creation option HEIGHT\n",
      "WARNING:rasterio._env:CPLE_NotSupported in driver GTiff does not support creation option COUNT\n",
      "WARNING:rasterio._env:CPLE_NotSupported in driver GTiff does not support creation option DTYPE\n",
      "WARNING:rasterio._env:CPLE_NotSupported in driver GTiff does not support creation option CRS\n",
      "WARNING:rasterio._env:CPLE_NotSupported in driver GTiff does not support creation option TRANSFORM\n",
      "WARNING:rasterio._env:CPLE_NotSupported in driver GTiff does not support creation option WIDTH\n",
      "WARNING:rasterio._env:CPLE_NotSupported in driver GTiff does not support creation option HEIGHT\n",
      "WARNING:rasterio._env:CPLE_NotSupported in driver GTiff does not support creation option COUNT\n",
      "WARNING:rasterio._env:CPLE_NotSupported in driver GTiff does not support creation option DTYPE\n",
      "WARNING:rasterio._env:CPLE_NotSupported in driver GTiff does not support creation option CRS\n",
      "WARNING:rasterio._env:CPLE_NotSupported in driver GTiff does not support creation option TRANSFORM\n"
     ]
    },
    {
     "data": {
      "application/vnd.jupyter.widget-view+json": {
       "model_id": "6ba997cfc5744b44ac1b78c74300a5d9",
       "version_major": 2,
       "version_minor": 0
      },
      "text/plain": [
       "Map(center=[6.7424885, -1.6934010000000002], controls=(ZoomControl(options=['position', 'zoom_in_text', 'zoom_…"
      ]
     },
     "execution_count": 5,
     "metadata": {},
     "output_type": "execute_result"
    }
   ],
   "source": [
    "#NDVI threshold can be adjusted below; the NDVI value range is between 0 and 1, default value used is 0.6\n",
    "threshold_nvdi = 0.6\n",
    "#BUI threshold can be adjsuted below, BUI value range is between -1 and 1, default value used is 0\n",
    "threshold_bui = 0\n",
    "loadplanet(lon_range, lat_range, threshold_nvdi, threshold_bui)"
   ]
  },
  {
   "cell_type": "markdown",
   "id": "8f554ca9-b42c-4534-bd1b-cb891ec579c9",
   "metadata": {
    "tags": []
   },
   "source": [
    "---\n",
    "\n",
    "## Additional information\n",
    "\n",
    "**License:** The code in this notebook is licensed under the [Apache License, Version 2.0](https://www.apache.org/licenses/LICENSE-2.0). \n",
    "Digital Earth Africa data is licensed under the [Creative Commons by Attribution 4.0](https://creativecommons.org/licenses/by/4.0/) license.\n",
    "\n",
    "**Contact:** If you need assistance, please post a question on the [Open Data Cube Slack channel](http://slack.opendatacube.org/) or on the [GIS Stack Exchange](https://gis.stackexchange.com/questions/ask?tags=open-data-cube) using the `open-data-cube` tag (you can view previously asked questions [here](https://gis.stackexchange.com/questions/tagged/open-data-cube)).\n",
    "If you would like to report an issue with this notebook, you can file one on [Github](https://github.com/digitalearthafrica/deafrica-sandbox-notebooks).\n",
    "\n",
    "**Compatible datacube version:**"
   ]
  },
  {
   "cell_type": "code",
   "execution_count": 6,
   "id": "07d69b7f-a446-4440-a3fb-dab4e722088b",
   "metadata": {},
   "outputs": [
    {
     "name": "stdout",
     "output_type": "stream",
     "text": [
      "1.8.15\n"
     ]
    }
   ],
   "source": [
    "import datacube\n",
    "print(datacube.__version__)"
   ]
  },
  {
   "cell_type": "markdown",
   "id": "7ab78b5d-ad5c-4629-b232-c69b5fdbc3cd",
   "metadata": {},
   "source": [
    "**Last Tested:**"
   ]
  },
  {
   "cell_type": "code",
   "execution_count": 7,
   "id": "b7ab0867-3ac4-4eaf-a2f4-8c7b25bc19a4",
   "metadata": {},
   "outputs": [
    {
     "data": {
      "text/plain": [
       "'2024-07-02'"
      ]
     },
     "execution_count": 7,
     "metadata": {},
     "output_type": "execute_result"
    }
   ],
   "source": [
    "from datetime import datetime\n",
    "datetime.today().strftime('%Y-%m-%d')"
   ]
  }
 ],
 "metadata": {
  "kernelspec": {
   "display_name": "Python 3 (ipykernel)",
   "language": "python",
   "name": "python3"
  },
  "language_info": {
   "codemirror_mode": {
    "name": "ipython",
    "version": 3
   },
   "file_extension": ".py",
   "mimetype": "text/x-python",
   "name": "python",
   "nbconvert_exporter": "python",
   "pygments_lexer": "ipython3",
   "version": "3.10.12"
  }
 },
 "nbformat": 4,
 "nbformat_minor": 5
}
