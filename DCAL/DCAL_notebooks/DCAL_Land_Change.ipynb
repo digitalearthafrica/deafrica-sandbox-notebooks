{
 "cells": [
  {
   "cell_type": "markdown",
   "metadata": {},
   "source": [
    "<a id=\"top\"></a>\n",
    "# Land Change\n",
    "\n",
    "<hr>\n",
    "\n",
    "> `If Fractional Cover is included in the analysis, this notebook will crash due to memory limitations. Only NDVI and EVI are currently supported`.\n",
    "\n",
    "A notebook that demonstrates using Fractional Cover to detect vegetation change is available under the `Real_world_examples` folder: [Vegetation_change_detection](../../Real_world_examples/Vegetation_change_detection.ipynb). However, this notebook requires admin access as it uses USGS Provisional C2,L2 data.\n",
    "\n",
    "# Notebook Summary\n",
    "\n",
    "This notebook uses changes in NDVI, EVI or Fractional Cover to identify land change. \n",
    "The algorithm identifies a \"baseline\" and \"analysis\" time period and then compares \n",
    "the spectral parameters in each of those time periods. Significant reductions in \n",
    "vegetation are coincident with land change. In some cases these changes could be \n",
    "deforestation. Users of this algorithm should not accept the accuracy of the results \n",
    "but should conduct ground validation testing to assess accuracy. In most cases, these \n",
    "algorithms can be used to identify clusters of pixels that have experienced change and \n",
    "allow targeted investigation of those areas by local or regional governments.\n",
    "\n",
    "<hr>\n",
    "\n",
    "# Index\n",
    "\n",
    "* [Import Dependencies and Connect to the Data Cube](#import)\n",
    "* [Choose Platforms and Products](#plat_prod)\n",
    "* [Get the Extents of the Cube](#extents)\n",
    "* [Define the Extents of the Analysis](#define_extents)\n",
    "* [Define Analysis Parameters](#define_analysis_params)\n",
    "* [Load and Clean Data from the Data Cube](#load_data)\n",
    "* [Calculate Spectral Indices and Fractional Cover](#calculate)\n",
    "* [Show Threshold Image](#threshold)\n",
    "* [Show Anomalies](#anomalies)\n",
    "    * Show Spectral Anomaly Product\n",
    "    * Show Threshold Spectral Anomaly Product\n",
    "* [Create GeoTIFF Output Products](#export)"
   ]
  },
  {
   "cell_type": "markdown",
   "metadata": {
    "pycharm": {}
   },
   "source": [
    "## <span id=\"import\">Import Dependencies and Connect to the Data Cube [&#9652;](#top)</span>"
   ]
  },
  {
   "cell_type": "code",
   "execution_count": 1,
   "metadata": {
    "pycharm": {}
   },
   "outputs": [],
   "source": [
    "# Load Data Cube Configuration\n",
    "import datacube\n",
    "# Enable importing of utilities.\n",
    "import sys\n",
    "import os\n",
    "\n",
    "# Supress Warnings.\n",
    "import warnings\n",
    "warnings.filterwarnings('ignore')\n",
    "\n",
    "import numpy as np\n",
    "import xarray as xr\n",
    "import pandas as pd\n",
    "import matplotlib.pyplot as plt\n",
    "from matplotlib.cm import RdYlGn, Greens\n",
    "import dask\n",
    "from datacube.utils.dask import start_local_dask\n",
    "from datacube.utils.rio import configure_s3_access\n",
    "import matplotlib.pyplot as plt\n",
    "from matplotlib.ticker import FuncFormatter\n",
    "from odc.ui import DcViewer\n",
    "from datacube.helpers import write_geotiff\n",
    "import datetime as dt\n",
    "\n",
    "#import DE Africa script\n",
    "sys.path.append('../../Scripts')\n",
    "from deafrica_plotting import display_map, rgb\n",
    "from deafrica_datahandling import load_masked_usgs, mostcommon_crs\n",
    "\n",
    "#import DCAL utility scripts\n",
    "sys.path.append('../DCAL_utils')\n",
    "from plotter_utils import figure_ratio, retrieve_or_create_fig_ax, intersection_threshold_plot, month_names_long\n",
    "from dc_mosaic import create_max_ndvi_mosaic, create_min_ndvi_mosaic, create_median_mosaic, create_mosaic, create_hdmedians_multiple_band_mosaic, ls8_unpack_qa, ls7_unpack_qa \n",
    "from dc_time import _n64_to_datetime\n",
    "from clean_mask import landsat_qa_clean_mask\n",
    "# from dc_fractional_coverage_classifier import frac_coverage_classify\n"
   ]
  },
  {
   "cell_type": "markdown",
   "metadata": {},
   "source": [
    "## Set up a dask cluster\n",
    "This will help keep our memory use down and conduct the analysis in parallel. If you'd like to view the dask dashboard, click on the hyperlink that prints below the cell."
   ]
  },
  {
   "cell_type": "code",
   "execution_count": 2,
   "metadata": {},
   "outputs": [
    {
     "data": {
      "text/html": [
       "<table style=\"border: 2px solid white;\">\n",
       "<tr>\n",
       "<td style=\"vertical-align: top; border: 0px solid white\">\n",
       "<h3>Client</h3>\n",
       "<ul>\n",
       "  <li><b>Scheduler: </b>tcp://127.0.0.1:44937\n",
       "  <li><b>Dashboard: </b><a href='/user/cbur24/proxy/8787/status' target='_blank'>/user/cbur24/proxy/8787/status</a>\n",
       "</ul>\n",
       "</td>\n",
       "<td style=\"vertical-align: top; border: 0px solid white\">\n",
       "<h3>Cluster</h3>\n",
       "<ul>\n",
       "  <li><b>Workers: </b>4</li>\n",
       "  <li><b>Cores: </b>4</li>\n",
       "  <li><b>Memory: </b>12.00 GB</li>\n",
       "</ul>\n",
       "</td>\n",
       "</tr>\n",
       "</table>"
      ],
      "text/plain": [
       "<Client: scheduler='tcp://127.0.0.1:44937' processes=4 cores=4>"
      ]
     },
     "metadata": {},
     "output_type": "display_data"
    }
   ],
   "source": [
    "dask.config.set({\"distributed.dashboard.link\": \n",
    "        os.environ.get('JUPYTERHUB_SERVICE_PREFIX', '/')+\"proxy/{port}/status\"})\n",
    "\n",
    "client = start_local_dask(n_workers=4, threads_per_worker=1, memory_limit='3G')\n",
    "display(client)\n",
    "\n",
    "creds = configure_s3_access(client=client, \n",
    "                            region_name='auto')"
   ]
  },
  {
   "cell_type": "markdown",
   "metadata": {
    "pycharm": {}
   },
   "source": [
    "## <span id=\"plat_prod\">Choose Platforms and Products [&#9652;](#top)</span>"
   ]
  },
  {
   "cell_type": "markdown",
   "metadata": {},
   "source": [
    "**Visualize the available area**"
   ]
  },
  {
   "cell_type": "code",
   "execution_count": 3,
   "metadata": {},
   "outputs": [],
   "source": [
    "dc = datacube.Datacube(app=\"DCAL Land Change\")"
   ]
  },
  {
   "cell_type": "code",
   "execution_count": 4,
   "metadata": {},
   "outputs": [],
   "source": [
    "# DcViewer(dc=dc,\n",
    "#          products = ['ls8_usgs_sr_scene'],\n",
    "#          time='2017',\n",
    "#          center=(0.565, 38.007),\n",
    "#          zoom=4)"
   ]
  },
  {
   "cell_type": "markdown",
   "metadata": {
    "pycharm": {}
   },
   "source": [
    "## <span id=\"define_extents\">Define the Extents of the Analysis [&#9652;](#top)</span>"
   ]
  },
  {
   "cell_type": "markdown",
   "metadata": {
    "pycharm": {}
   },
   "source": [
    "<p style=\"color:red\";><b>CHANGE INPUTS BELOW"
   ]
  },
  {
   "cell_type": "code",
   "execution_count": 5,
   "metadata": {
    "pycharm": {}
   },
   "outputs": [],
   "source": [
    "# Select an analysis location \n",
    "\n",
    "# Mau Forest - Western Kenya\n",
    "latitude = 0.02\n",
    "longitude = 35.425\n",
    "\n",
    "#size of analysis box in degrees (< 0.2 to keep memory use down)\n",
    "buffer = 0.13"
   ]
  },
  {
   "cell_type": "markdown",
   "metadata": {},
   "source": [
    "**Visualize the selected area**"
   ]
  },
  {
   "cell_type": "code",
   "execution_count": 6,
   "metadata": {
    "pycharm": {}
   },
   "outputs": [
    {
     "data": {
      "text/html": [
       "<div style=\"width:100%;\"><div style=\"position:relative;width:100%;height:0;padding-bottom:60%;\"><iframe src=\"data:text/html;charset=utf-8;base64,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\" style=\"position:absolute;width:100%;height:100%;left:0;top:0;border:none !important;\" allowfullscreen webkitallowfullscreen mozallowfullscreen></iframe></div></div>"
      ],
      "text/plain": [
       "<folium.folium.Map at 0x7f4268239d30>"
      ]
     },
     "execution_count": 6,
     "metadata": {},
     "output_type": "execute_result"
    }
   ],
   "source": [
    "display_map(x=(longitude-buffer, longitude+buffer), y=(latitude+buffer, latitude-buffer))"
   ]
  },
  {
   "cell_type": "markdown",
   "metadata": {
    "pycharm": {}
   },
   "source": [
    "## <span id=\"define_extents\">Define the Temporal Extents of the Analysis [&#9652;](#top)</span>  "
   ]
  },
  {
   "cell_type": "markdown",
   "metadata": {
    "pycharm": {}
   },
   "source": [
    "<p style=\"color:red\";><b>CHANGE INPUTS BELOW"
   ]
  },
  {
   "cell_type": "code",
   "execution_count": 7,
   "metadata": {
    "pycharm": {}
   },
   "outputs": [],
   "source": [
    "# Select the start and end periods for your analysis products\n",
    "# The datetime function is (Year,Month,Day)\n",
    "# These time windows will be used to make a mosaic, so typically pick a year length or more\n",
    "# Be sure to evaluate the RGB mosaics to affirm they are not full of clouds\n",
    "\n",
    "# Select the baseline time period (start and end)\n",
    "baseline_time_period = ('2014-01-01', '2014-12-31')\n",
    "\n",
    "# Select the analysis time period (start and end)\n",
    "analysis_time_period = ('2017-01-01', '2017-12-31')\n",
    "\n",
    "# Select the cloud-free mosaic type\n",
    "# Options are: max_ndvi, min_ndvi, median, most_recent_pixel, geomedian\n",
    "# If a geomedian is selected, it will take much longer to process\n",
    "# It is most common to use the max_ndvi or median for these land change analyses\n",
    "# HINT: Consider max_ndvi mosaics for NDVI analyses and median mosaics for EVI analyses \n",
    "\n",
    "baseline_mosaic_function = \"median\" \n",
    "analysis_mosaic_function = \"median\" "
   ]
  },
  {
   "cell_type": "markdown",
   "metadata": {
    "pycharm": {}
   },
   "source": [
    "## <span id=\"load_data\">Load, Clean, and Mosaic Data from the Data Cube [&#9652;](#top)</span>"
   ]
  },
  {
   "cell_type": "markdown",
   "metadata": {
    "pycharm": {}
   },
   "source": [
    ">#### Load Data (Baseline, Analysis) "
   ]
  },
  {
   "cell_type": "code",
   "execution_count": 8,
   "metadata": {
    "pycharm": {}
   },
   "outputs": [],
   "source": [
    "#create dictionary of common loading attributes\n",
    "query = {\n",
    "    'x': (longitude-buffer, longitude+buffer),\n",
    "    'y': (latitude+buffer, latitude-buffer),\n",
    "    'measurements': [\"red\", \"green\", \"blue\", \"nir\", \"swir1\", \"swir2\"],\n",
    "    'resolution': (-30, 30),\n",
    "    'group_by': 'solar_day'\n",
    "}\n",
    "\n",
    "# find the right crs for the location\n",
    "crs = mostcommon_crs(dc=dc,\n",
    "                     product='ls8_usgs_sr_scene',\n",
    "                     query=query)\n",
    "\n",
    "# set the size of the dask chunks, this will determine how big each\n",
    "# spatial chunk is that gets sent to each cpu during parallelization. \n",
    "chunks={'time': -1, 'x':250, 'y':250}"
   ]
  },
  {
   "cell_type": "code",
   "execution_count": 9,
   "metadata": {
    "pycharm": {}
   },
   "outputs": [
    {
     "name": "stdout",
     "output_type": "stream",
     "text": [
      "Loading ls8_usgs_sr_scene data\n",
      "    Using pixel quality parameters for USGS Collection 1\n",
      "    Applying pixel quality mask\n",
      "Combining and sorting data\n",
      "    Returning 40 observations as a dask array\n",
      "<xarray.Dataset>\n",
      "Dimensions:  (time: 40, x: 967, y: 960)\n",
      "Coordinates:\n",
      "  * y        (y) float64 1.659e+04 1.656e+04 1.653e+04 ... -1.215e+04 -1.218e+04\n",
      "  * x        (x) float64 7.554e+05 7.555e+05 7.555e+05 ... 7.844e+05 7.844e+05\n",
      "  * time     (time) datetime64[ns] 2014-01-09T07:50:14.620768 ... 2014-12-27T07:49:02.711517\n",
      "Data variables:\n",
      "    red      (time, y, x) float32 dask.array<shape=(40, 960, 967), chunksize=(40, 250, 250)>\n",
      "    green    (time, y, x) float32 dask.array<shape=(40, 960, 967), chunksize=(40, 250, 250)>\n",
      "    blue     (time, y, x) float32 dask.array<shape=(40, 960, 967), chunksize=(40, 250, 250)>\n",
      "    nir      (time, y, x) float32 dask.array<shape=(40, 960, 967), chunksize=(40, 250, 250)>\n",
      "    swir1    (time, y, x) float32 dask.array<shape=(40, 960, 967), chunksize=(40, 250, 250)>\n",
      "    swir2    (time, y, x) float32 dask.array<shape=(40, 960, 967), chunksize=(40, 250, 250)>\n",
      "Attributes:\n",
      "    crs:      epsg:32636\n"
     ]
    }
   ],
   "source": [
    "#load cloud masked data for baseline period\n",
    "baseline_ds = load_masked_usgs(dc=dc, \n",
    "                      products=['ls8_usgs_sr_scene'], \n",
    "                      time = baseline_time_period,\n",
    "                      dask_chunks = chunks,\n",
    "                      lazy_load=True,\n",
    "                      output_crs=crs,\n",
    "                      align=(15, 15),\n",
    "                      **query)\n",
    "\n",
    "print(baseline_ds)"
   ]
  },
  {
   "cell_type": "code",
   "execution_count": 10,
   "metadata": {
    "pycharm": {}
   },
   "outputs": [
    {
     "name": "stdout",
     "output_type": "stream",
     "text": [
      "Loading ls8_usgs_sr_scene data\n",
      "    Using pixel quality parameters for USGS Collection 1\n",
      "    Applying pixel quality mask\n",
      "Combining and sorting data\n",
      "    Returning 44 observations as a dask array\n",
      "<xarray.Dataset>\n",
      "Dimensions:  (time: 44, x: 967, y: 960)\n",
      "Coordinates:\n",
      "  * y        (y) float64 1.659e+04 1.656e+04 1.653e+04 ... -1.215e+04 -1.218e+04\n",
      "  * x        (x) float64 7.554e+05 7.555e+05 7.555e+05 ... 7.844e+05 7.844e+05\n",
      "  * time     (time) datetime64[ns] 2017-01-01T07:49:10.635621 ... 2017-12-26T07:55:19.785917\n",
      "Data variables:\n",
      "    red      (time, y, x) float32 dask.array<shape=(44, 960, 967), chunksize=(44, 250, 250)>\n",
      "    green    (time, y, x) float32 dask.array<shape=(44, 960, 967), chunksize=(44, 250, 250)>\n",
      "    blue     (time, y, x) float32 dask.array<shape=(44, 960, 967), chunksize=(44, 250, 250)>\n",
      "    nir      (time, y, x) float32 dask.array<shape=(44, 960, 967), chunksize=(44, 250, 250)>\n",
      "    swir1    (time, y, x) float32 dask.array<shape=(44, 960, 967), chunksize=(44, 250, 250)>\n",
      "    swir2    (time, y, x) float32 dask.array<shape=(44, 960, 967), chunksize=(44, 250, 250)>\n",
      "Attributes:\n",
      "    crs:      epsg:32636\n"
     ]
    }
   ],
   "source": [
    "#load cloud masked data for analysis period\n",
    "analysis_ds = load_masked_usgs(dc=dc, \n",
    "                      products=['ls8_usgs_sr_scene'], \n",
    "                      time = analysis_time_period,\n",
    "                      dask_chunks = chunks,\n",
    "                      lazy_load=True,\n",
    "                      output_crs=crs,\n",
    "                      align=(15, 15),\n",
    "                      **query)\n",
    "\n",
    "print(analysis_ds)"
   ]
  },
  {
   "cell_type": "markdown",
   "metadata": {
    "pycharm": {}
   },
   "source": [
    "#### Rename 'x' and 'y' to 'latitude' and 'longitude' \n",
    "\n",
    "This is so the DE Africa data works with the DCAL util functions"
   ]
  },
  {
   "cell_type": "code",
   "execution_count": 11,
   "metadata": {},
   "outputs": [],
   "source": [
    "#rename 'x', 'y' bands to 'latitude' and 'longitude'\n",
    "baseline_ds = baseline_ds.rename(name_dict={'x':'longitude','y':'latitude'})\n",
    "analysis_ds = analysis_ds.rename(name_dict={'x':'longitude','y':'latitude'})"
   ]
  },
  {
   "cell_type": "markdown",
   "metadata": {},
   "source": [
    "### Compute dask arrays\n",
    "\n",
    "we have to compute the dask arrays here because 'median' functions are not yet implemented with dask"
   ]
  },
  {
   "cell_type": "code",
   "execution_count": null,
   "metadata": {},
   "outputs": [],
   "source": [
    "baseline_ds = baseline_ds.compute()\n",
    "analysis_ds = analysis_ds.compute()"
   ]
  },
  {
   "cell_type": "markdown",
   "metadata": {
    "pycharm": {}
   },
   "source": [
    "### Mosaic timeseries"
   ]
  },
  {
   "cell_type": "code",
   "execution_count": null,
   "metadata": {
    "pycharm": {}
   },
   "outputs": [],
   "source": [
    "mosaic_function = {\"median\": create_median_mosaic,\n",
    "                   \"max_ndvi\": create_max_ndvi_mosaic,\n",
    "                   \"min_ndvi\": create_min_ndvi_mosaic,\n",
    "                   \"geomedian\": create_hdmedians_multiple_band_mosaic,\n",
    "                   \"most_recent_pixel\": create_mosaic}"
   ]
  },
  {
   "cell_type": "code",
   "execution_count": null,
   "metadata": {
    "pycharm": {}
   },
   "outputs": [],
   "source": [
    "baseline_compositor = mosaic_function[baseline_mosaic_function]\n",
    "analysis_compositor = mosaic_function[analysis_mosaic_function]"
   ]
  },
  {
   "cell_type": "code",
   "execution_count": null,
   "metadata": {
    "pycharm": {}
   },
   "outputs": [],
   "source": [
    "baseline_composite = baseline_compositor(baseline_ds)\n",
    "rgb(baseline_composite)"
   ]
  },
  {
   "cell_type": "code",
   "execution_count": null,
   "metadata": {},
   "outputs": [],
   "source": [
    "analysis_composite = analysis_compositor(analysis_ds)\n",
    "rgb(analysis_composite)"
   ]
  },
  {
   "cell_type": "markdown",
   "metadata": {
    "pycharm": {}
   },
   "source": [
    "## <span id=\"calculate\">Calculate Spectral Indices and Fractional Cover [&#9652;](#top)</span>  "
   ]
  },
  {
   "cell_type": "code",
   "execution_count": null,
   "metadata": {
    "pycharm": {}
   },
   "outputs": [],
   "source": [
    "def NDVI(dataset):\n",
    "    return (dataset.nir - dataset.red)/(dataset.nir + dataset.red)"
   ]
  },
  {
   "cell_type": "code",
   "execution_count": null,
   "metadata": {
    "pycharm": {}
   },
   "outputs": [],
   "source": [
    "def EVI(ds, G=2.5, C1=6, C2=7.5, L=1, normalize=True):\n",
    "    evi = G * (ds.nir - ds.red) / (ds.nir + C1 * ds.red - C2 * ds.blue + L)\n",
    "    # Clamp values to the range [-1,2.5].\n",
    "    evi.values[evi.values < -1] = -1\n",
    "    evi.values[2.5 < evi.values] = 2.5\n",
    "    if normalize:\n",
    "        # Scale values in the  range [0,2.5] to the range [0,1].\n",
    "        pos_vals_mask = 0 < evi.values\n",
    "        evi.values[pos_vals_mask] = np.interp(evi.values[pos_vals_mask], (0, 2.5), (0,1))\n",
    "    return evi"
   ]
  },
  {
   "cell_type": "code",
   "execution_count": null,
   "metadata": {
    "pycharm": {}
   },
   "outputs": [],
   "source": [
    "ndvi = NDVI(baseline_composite) \n",
    "evi = EVI(baseline_composite)"
   ]
  },
  {
   "cell_type": "markdown",
   "metadata": {},
   "source": [
    "> Fractional Cover has been commented out to reduce memory usage. Only NDVI and EVI are currently supported"
   ]
  },
  {
   "cell_type": "code",
   "execution_count": null,
   "metadata": {
    "pycharm": {}
   },
   "outputs": [],
   "source": [
    "#change Coordinate names from x,y to Longitude, Latitude to be compatible with fractional cover module\n",
    "# baseline_composite_frac = baseline_composite.rename(name_dict={'x':'longitude','y':'latitude'})\n",
    "\n",
    "# frac_classes = frac_coverage_classify(baseline_composite_frac, clean_mask = np.ones(baseline_composite.pixel_qa.shape).astype(np.bool)) "
   ]
  },
  {
   "cell_type": "markdown",
   "metadata": {
    "pycharm": {}
   },
   "source": [
    "<p style=\"color:red\";><b>CHANGE INPUTS BELOW"
   ]
  },
  {
   "cell_type": "code",
   "execution_count": null,
   "metadata": {
    "pycharm": {}
   },
   "outputs": [],
   "source": [
    "# Select a spectral index to plot by removing one of the comment tags (#) below.\n",
    "# Only 1 of the plotting statements should be uncommented.\n",
    "# Adjust the scale of the output using vmin and vmax.\n",
    "\n",
    "(ndvi).plot(figsize=(6,6),cmap = \"Greens\", vmin=0.3, vmax=1.0)\n",
    "# (evi).plot(figsize=(10,10),cmap = \"Greens\", vmin=0.3, vmax=1.0)\n",
    "# (frac_classes.pv).plot(figsize=(10,10),cmap = \"Greens\", vmin=30.0, vmax=100.0)\n",
    "\n",
    "plt.show()"
   ]
  },
  {
   "cell_type": "markdown",
   "metadata": {
    "pycharm": {}
   },
   "source": [
    "## <span id=\"threshold\">Show Threshold Image [&#9652;](#top)</span>  "
   ]
  },
  {
   "cell_type": "markdown",
   "metadata": {
    "pycharm": {}
   },
   "source": [
    "<p style=\"color:red\";><b>CHANGE INPUTS BELOW"
   ]
  },
  {
   "cell_type": "code",
   "execution_count": null,
   "metadata": {
    "pycharm": {}
   },
   "outputs": [],
   "source": [
    "# Select a baseline threshold range for a given parameter ... which is basically a \"mask\"\n",
    "# The analysis will only consider pixels in this range for change detection\n",
    "# No data or cloud pixels will also be masked in this process\n",
    "\n",
    "# If you want to see all change, you should select the full range of values for each parameter\n",
    "# NDVI full range = -1.0 to 1.0\n",
    "# EVI full range = -1.0 to 1.0\n",
    "# Fractional Cover full range = 0.0 to 100.0\n",
    "\n",
    "# If you want to mask out everything but dense vegetation, typical of forested land, use the values below\n",
    "# NDVI: 0.7 to 1.0\n",
    "# EVI: 0.7 to 1.0\n",
    "# Fractional Cover PV: 70.0 to 100.0\n",
    "\n",
    "baseline_threshold_range = _min, _max = (0.7, 1.0) "
   ]
  },
  {
   "cell_type": "markdown",
   "metadata": {
    "pycharm": {}
   },
   "source": [
    "<p style=\"color:red\";><b>CHANGE INPUTS BELOW"
   ]
  },
  {
   "cell_type": "code",
   "execution_count": null,
   "metadata": {
    "pycharm": {}
   },
   "outputs": [],
   "source": [
    "# Select the parameter to be used for thresholding ... NDVI, EVI or FC\n",
    "# Remove the comment statement to use the desired parameter\n",
    "\n",
    "baseline_filter_mask = np.logical_and(NDVI(baseline_composite) > _min, NDVI(baseline_composite) < _max)    \n",
    "# baseline_filter_mask = np.logical_and(EVI(baseline_composite) > _min, EVI(baseline_composite) < _max)    \n",
    "# baseline_filter_mask = np.logical_and(frac_classes.pv > _min, frac_classes.pv < _max)    "
   ]
  },
  {
   "cell_type": "code",
   "execution_count": null,
   "metadata": {
    "pycharm": {}
   },
   "outputs": [],
   "source": [
    "def aspect_ratio_helper(ds, fixed_width = 8):\n",
    "        y,x = ds.values.shape\n",
    "        width = fixed_width\n",
    "        height = y * (fixed_width / x)\n",
    "        return (width, height)"
   ]
  },
  {
   "cell_type": "code",
   "execution_count": null,
   "metadata": {
    "pycharm": {}
   },
   "outputs": [],
   "source": [
    "RdYlGn.set_bad('black',1.)\n",
    "Greens.set_bad('black',1.)"
   ]
  },
  {
   "cell_type": "code",
   "execution_count": null,
   "metadata": {
    "pycharm": {}
   },
   "outputs": [],
   "source": [
    "# This is the baseline threshold plot that shows GREEN pixels in the threshold range\n",
    "# Pixels with values outside the threshold range are white \n",
    "\n",
    "plt.figure(figsize = aspect_ratio_helper(baseline_filter_mask)) \n",
    "baseline_filter_mask.plot(cmap = \"Greens\")\n",
    "plt.show()"
   ]
  },
  {
   "cell_type": "markdown",
   "metadata": {
    "pycharm": {}
   },
   "source": [
    "**Filter the baseline composite with the threshold mask.**"
   ]
  },
  {
   "cell_type": "code",
   "execution_count": null,
   "metadata": {
    "pycharm": {}
   },
   "outputs": [],
   "source": [
    "baseline_composite_filtered = baseline_composite.where(baseline_filter_mask)"
   ]
  },
  {
   "cell_type": "markdown",
   "metadata": {
    "pycharm": {}
   },
   "source": [
    "## <span id=\"anomalies\">Show Anomalies [&#9652;](#top)</span>  "
   ]
  },
  {
   "cell_type": "markdown",
   "metadata": {
    "pycharm": {}
   },
   "source": [
    "### Show Spectral Anomaly Product"
   ]
  },
  {
   "cell_type": "markdown",
   "metadata": {
    "pycharm": {}
   },
   "source": [
    "<p style=\"color:red\";><b>CHANGE INPUTS BELOW"
   ]
  },
  {
   "cell_type": "code",
   "execution_count": null,
   "metadata": {
    "pycharm": {}
   },
   "outputs": [],
   "source": [
    "# Select the parameter to be used for the analysis\n",
    "# You will select two lines for each parameter (baseline and analysis)\n",
    "\n",
    "# Select these two lines for NDVI\n",
    "parameter_baseline_composite = NDVI(baseline_composite_filtered)\n",
    "parameter_analysis_composite = NDVI(analysis_composite)\n",
    "\n",
    "# Select these two lines for EVI\n",
    "# parameter_baseline_composite = EVI(baseline_composite_filtered)\n",
    "# parameter_analysis_composite = EVI(analysis_composite)\n",
    "\n",
    "# Select these two lines for Fractional Cover (FC)\n",
    "# parameter_baseline_composite = frac_coverage_classify(baseline_composite_filtered, clean_mask = np.ones(baseline_composite_filtered.pixel_qa.shape).astype(np.bool)).pv\n",
    "# parameter_analysis_composite = frac_coverage_classify(analysis_composite, clean_mask = np.ones(analysis_composite.pixel_qa.shape).astype(np.bool)).pv "
   ]
  },
  {
   "cell_type": "code",
   "execution_count": null,
   "metadata": {
    "pycharm": {}
   },
   "outputs": [],
   "source": [
    "parameter_anomaly = parameter_analysis_composite - parameter_baseline_composite"
   ]
  },
  {
   "cell_type": "markdown",
   "metadata": {
    "pycharm": {}
   },
   "source": [
    "### Show Threshold Spectral Anomaly Product"
   ]
  },
  {
   "cell_type": "markdown",
   "metadata": {
    "pycharm": {}
   },
   "source": [
    "<p style=\"color:red\";><b>CHANGE INPUTS BELOW"
   ]
  },
  {
   "cell_type": "code",
   "execution_count": null,
   "metadata": {
    "pycharm": {}
   },
   "outputs": [],
   "source": [
    "# Select an Anomaly Threshold Range to filter the results from the previous image\n",
    "# Be sure to put the smallest value in the \"minimum_change\" location (be careful of negative values)\n",
    "\n",
    "# Losses are typically in these ranges for deforestation\n",
    "# NDVI: -0.2 to -0.7\n",
    "# EVI: -0.5 to -1.75\n",
    "# Fractional Cover PV: -20 to -70\n",
    "\n",
    "minimum_change = -0.2\n",
    "maximum_change = -0.7\n"
   ]
  },
  {
   "cell_type": "code",
   "execution_count": null,
   "metadata": {},
   "outputs": [],
   "source": [
    "# Find regions that fall within min and max change\n",
    "possibly_deforested = (parameter_anomaly < minimum_change) & (parameter_anomaly > maximum_change)"
   ]
  },
  {
   "cell_type": "markdown",
   "metadata": {},
   "source": [
    "### Plot the results and inspect"
   ]
  },
  {
   "cell_type": "code",
   "execution_count": null,
   "metadata": {},
   "outputs": [],
   "source": [
    "fig, ax = plt.subplots(2, 2, figsize=(20, 20),  sharex=True, sharey=True)\n",
    "\n",
    "#baseline plots\n",
    "(baseline_composite[['red', 'green', 'blue']]\n",
    " .to_array()\n",
    " .plot.imshow(ax=ax[0,0], robust=True))\n",
    "#analysis plot\n",
    "(analysis_composite[['red', 'green', 'blue']]\n",
    " .to_array()\n",
    " .plot.imshow(ax=ax[0,1], robust=True))\n",
    "#anomaly plot\n",
    "parameter_anomaly.plot(cmap = RdYlGn, ax=ax[1,0], add_colorbar=False)\n",
    "#deforestation plot\n",
    "possibly_deforested.where(possibly_deforested==1).plot(ax=ax[1,1], add_colorbar=False)\n",
    "\n",
    "#titles\n",
    "ax[0,0].set_title('Baseline composite')\n",
    "ax[0,1].set_title('Analysis composite')\n",
    "ax[1,0].set_title('Anomaly Map (analysis minus baseline)')\n",
    "ax[1,1].set_title('Locations of possible deforestation')\n"
   ]
  },
  {
   "cell_type": "code",
   "execution_count": null,
   "metadata": {
    "pycharm": {}
   },
   "outputs": [],
   "source": [
    "def threshold_count(da, min_threshold, max_threshold, mask = None):\n",
    "    def count_not_nans(arr):\n",
    "        return np.count_nonzero(~np.isnan(arr))\n",
    "                    \n",
    "    in_threshold = (da.values < min_threshold) & (da.values > max_threshold)\n",
    "    total_non_cloudy = count_not_nans(da.values) if mask is None else np.sum(mask) \n",
    "    \n",
    "    return dict(total = np.size(da.values),\n",
    "                total_non_cloudy = total_non_cloudy,\n",
    "                inside = np.count_nonzero(in_threshold),\n",
    "                outside = total_non_cloudy - np.nansum(in_threshold)\n",
    "               )    \n",
    "    \n",
    "def threshold_percentage(da, min_threshold, max_threshold, mask = None):\n",
    "    counts = threshold_count(da, min_threshold, max_threshold, mask = mask)\n",
    "    return dict(percent_inside_threshold = (counts[\"inside\"]   / counts[\"total\"]) * 100.0,\n",
    "                percent_outside_threshold = (counts[\"outside\"] / counts[\"total\"]) * 100.0,\n",
    "                percent_clouds = ( 100.0-counts[\"total_non_cloudy\"] / counts[\"total\"] * 100.0))\n"
   ]
  },
  {
   "cell_type": "code",
   "execution_count": null,
   "metadata": {
    "pycharm": {},
    "scrolled": true
   },
   "outputs": [],
   "source": [
    "# This output is a count of the pixels that fall within each threshold range\n",
    "threshold_count(parameter_anomaly, minimum_change,maximum_change)"
   ]
  },
  {
   "cell_type": "code",
   "execution_count": null,
   "metadata": {
    "pycharm": {}
   },
   "outputs": [],
   "source": [
    "# This output is a percentage of the pixels that fall within each threshold range\n",
    "threshold_percentage(parameter_anomaly,minimum_change,maximum_change)"
   ]
  },
  {
   "cell_type": "markdown",
   "metadata": {
    "pycharm": {}
   },
   "source": [
    "## <span id=\"export\">Create GeoTIFF Output Products [&#9652;](#top)</span>  "
   ]
  },
  {
   "cell_type": "code",
   "execution_count": null,
   "metadata": {},
   "outputs": [],
   "source": [
    "#provide back the crs objects and rename bands to work with 'write_geotiff' function\n",
    "baseline_composite = baseline_composite.rename(name_dict={'longitude':'x','latitude':'y'})\n",
    "analysis_composite = analysis_composite.rename(name_dict={'longitude':'x','latitude':'y'})\n",
    "parameter_anomaly = parameter_anomaly.to_dataset('parameter_anomaly').rename(name_dict={'longitude':'x','latitude':'y'})\n",
    "\n",
    "baseline_composite.attrs['crs'] = crs\n",
    "analysis_composite.attrs['crs'] = crs\n",
    "parameter_anomaly.attrs['crs'] = crs"
   ]
  },
  {
   "cell_type": "code",
   "execution_count": null,
   "metadata": {
    "pycharm": {}
   },
   "outputs": [],
   "source": [
    "#run command to save to files\n",
    "write_geotiff(\"sample_baseline_01.tif\", baseline_composite)\n",
    "write_geotiff(\"sample_analysis_01.tif\", analysis_composite)\n",
    "write_geotiff(\"sample_anomaly_01.tif\", parameter_anomaly)\n"
   ]
  },
  {
   "cell_type": "markdown",
   "metadata": {},
   "source": [
    "## Notes on modifications made moving from ARDC to DE Africa\n",
    "\n",
    "Commented out Fractional Cover analysis as it crashes the notebook due to memory limitations.  \n",
    "\n",
    "Changes made\n",
    "- Included dask in initial laoding of cloud-masked datasets\n",
    "- Replace dc.load fuction with 'load_masked_usgs'\n",
    "- Move all module imports to start of notebook\n",
    "- Removed code to view extent of datacube replaced with mapviewer that can be used to visualise spatial extent of data\n",
    "- Changed rgb plot fuction to DE Africa rgb plot fuction\n",
    "- Simplified the plotting\n",
    "- replaced save to geotiff function with DE Africa function\n"
   ]
  }
 ],
 "metadata": {
  "kernelspec": {
   "display_name": "Python 3",
   "language": "python",
   "name": "python3"
  },
  "language_info": {
   "codemirror_mode": {
    "name": "ipython",
    "version": 3
   },
   "file_extension": ".py",
   "mimetype": "text/x-python",
   "name": "python",
   "nbconvert_exporter": "python",
   "pygments_lexer": "ipython3",
   "version": "3.6.8"
  },
  "pycharm": {
   "stem_cell": {
    "cell_type": "raw",
    "metadata": {
     "collapsed": false
    },
    "source": []
   }
  }
 },
 "nbformat": 4,
 "nbformat_minor": 4
}
