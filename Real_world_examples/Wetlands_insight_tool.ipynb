{
 "cells": [
  {
   "cell_type": "markdown",
   "metadata": {},
   "source": [
    "# Wetlands Insight Tool\n",
    "\n",
    "* **Products used:** \n",
    "[wofs_ls](https://explorer.digitalearth.africa/products/wofs_ls),\n",
    "[fc_ls](https://explorer.digitalearth.africa/products/fc_ls),\n",
    "[ls8_sr](https://explorer.digitalearth.africa/products/ls8_sr),\n",
    "[ls7_sr](https://explorer.digitalearth.africa/products/ls7_sr),\n",
    "[ls5_sr](https://explorer.digitalearth.africa/products/ls5_sr)"
   ]
  },
  {
   "cell_type": "raw",
   "metadata": {
    "raw_mimetype": "text/restructuredtext",
    "tags": []
   },
   "source": [
    "**Keywords**: :index:`data used; landsat 5`, :index:`data used; landsat 7`, :index:`data used; landsat 8`, :index:`data used; WOfS`, :index:`data used; fc_ls`, :index:`interactive`, :index:`analysis; Wetlands insight tool`, :index:`wetlands`"
   ]
  },
  {
   "cell_type": "markdown",
   "metadata": {},
   "source": [
    "## Background\n",
    "\n",
    "According to [Wetlands International](https://africa.wetlands.org/en/wetlands/what-are-wetlands/), Africa’s wetlands ecosystems are estimated to cover 131 million hectares, and include some of the most productive and biodiverse ecosystems in the world. They provide a host of ecosystem services that contribute to human well-being through nutrition, water supply and purification, climate and flood regulation, coastal protection, feeding and nesting sites for animals, recreational opportunities and increasingly, tourism.  As such, the health of wetland ecosystems has been identified as an important metric for the `Sustainable Development Goals` ([6.6.1 Change in the extent of water-related ecosystems over time](https://www.sdg6monitoring.org/indicator-661/)). \n",
    "\n",
    "The `Wetlands Insight Tool (WIT)` provides insights into a wetland's seasonal and interannual dynamics. WIT is a spatiotemporal summary of a wetland that combines multiple datasets derived from the Landsat archive held within DE Africa. `Fractional cover`, `WOfS`, and `Landsat surface reflectance` data are retrieved from DE Africa's ODC and combined to produce a stack plot describing the percentage of a wetland polygon as vegetation fractional cover, open water, and wet vegetation through time. The figure below (on the right) summaries the classification logic of the Wetlands Insight Tool.\n",
    "\n",
    "\n",
    "\n",
    "The animation below shows an example of WIT over Lake Korienze in Mali. The WIT plot shows the percentage of the region that is covered (in order) in open water, wet soil, green vegetation, dry vegetation, and bare soil \n",
    "\n",
    "Example of WIT over Lake Korienze, Mali | Classification logic of the Wetlands Insight Tool\n",
    "- | - \n",
    "<img src=\"../Supplementary_data/Wetlands_insight_tool/Lac_de_Korienze_WIT.gif\"/> | <img src=\"../Supplementary_data/Wetlands_insight_tool/WIT_logic.PNG\" width=550 >\n",
    "\n",
    "\n",
    "### Reference\n",
    "\n",
    "[Dunn et al. (2019)](https://ieeexplore.ieee.org/document/8897806) Developing a Tool for Wetland Characterization Using Fractional Cover, Tasseled Cap Wetness And Water Observations From Space\n",
    "\n",
    "\n",
    "\n",
    "\n",
    "## Description\n",
    "This interactive notebook will run the Wetlands Insight Tool for the area encompassed by a polygon drawn on the interactive map.\n",
    "\n",
    "1.  Set the parameters for the Wetlands Insight Tool\n",
    "2.  Draw a polygon using the interactive jupyter widget\n",
    "3.  Run the WIT tool, resulting in a stacked plot of fractional cover, wetness, and water\n",
    "\n",
    "## Instructions for running the application\n",
    "\n",
    "Make sure you read the `Analysis Parameters` section below so you undertand the different parameters of the Wetlands Insight Tool, then run the cell containing the `wit_app()` function to get started. \n",
    "\n",
    "Use the drop-down boxes to set the parameters, draw a polygon on the interactive map over the region of interest, and then hit the `Run` button to begin the anlaysis.  Print statements will appear on the right hand side of the app signifying the progress of the anlaysis. For more detailed progress indicators use the **Dask Dashboard hyperlink** that appears after you hit the run button. Note, depending on the size of the polygon drawn, and the length of time of the analysis, WIT can take a long time to run.  Once the analysis has finished, a stackplot will be plotted at the bottom of the application.\n",
    "\n",
    "If you wish to alter the parameters and re-run the analysis over the same polygon, simply change the parameters and hit the run button again (make sure the previous run has finished before you hit the run button a second time).\n",
    "\n",
    "If anything goes wrong with the interactvive widget and/or errors start printing on the right-hand side of the app, then restart the notebook kernel: **Kernel --> Restart Kernel and Clear All Outputs**\n",
    "\n",
    "***"
   ]
  },
  {
   "cell_type": "markdown",
   "metadata": {},
   "source": [
    "## Analysis Parameters"
   ]
  },
  {
   "cell_type": "markdown",
   "metadata": {},
   "source": [
    "* `Map Overlay`: A number of overlay map layers, which can help guide polygon drawing. Options include ESRI World Imagery, the 2020 Sentinel-2 Geomedian, or the 2020 WOfS annual frequency summary. This parameter defaults to 'None'.\n",
    "* `Start Date`: The starting date of the analysis, in format DD-MM-YYYY\n",
    "* `End Date`: The ending date of the analysis, in format DD-MM-YYYY\n",
    "* `Minimum Good Data`: A number between 0 and 1 (e.g. `0.85`) indicating the minimum percentage of good quality pixels required for a satellite observation to be loaded and therefore included in the WIT plot. **This number should, at a minimum, be set to 0.85 to limit biases in the result if not resampling the time-series**. If resampling the data using the parameter `Resample Frequency`, then setting this number to 0 (or a low float number) is acceptable.\n",
    "* `Resampling Frequency`: Option for resampling time-series of input datasets. This option is useful for either smoothing the WIT plot, or because the area of analysis is larger than a scene width and therefore requires composites. Options include any string accepted by `xarray.resample(time=)`; e.g. `1M` = 1 month, `3M` = 3 months, `Q-DEC` = quarterly starting in December. To turn off resampling set this parameter to `None`. **The resampling method used is .max()**, hence the resulting plots will show the _maximum extent_ of each variable during the resampled interval.\n",
    "* `Output CSV`: To output a .csv file with the values of the WIT plot, enter a file name e.g. `output_WIT.csv`\n",
    "* `Output Plot`: To output a .png copy of the WIT stackplot, enter a file name e.g. `output_WIT.png`"
   ]
  },
  {
   "cell_type": "code",
   "execution_count": 1,
   "metadata": {},
   "outputs": [
    {
     "data": {
      "application/vnd.jupyter.widget-view+json": {
       "model_id": "48b52f8ddc7e4d2caf41d8bbf4922d5e",
       "version_major": 2,
       "version_minor": 0
      },
      "text/plain": [
       "wit_app(children=(GridspecLayout(children=(HTML(value=\"<h3>Outil d'analyse des zones humides</h3><p>Sélectionn…"
      ]
     },
     "metadata": {},
     "output_type": "display_data"
    }
   ],
   "source": [
    "from deafrica_tools.app.wetlandsinsighttool import wit_app\n",
    "\n",
    "wit_app(\n",
    "    lang='fr'\n",
    ")"
   ]
  },
  {
   "cell_type": "markdown",
   "metadata": {
    "tags": []
   },
   "source": [
    "---\n",
    "\n",
    "## Additional information\n",
    "\n",
    "**License:** The code in this notebook is licensed under the [Apache License, Version 2.0](https://www.apache.org/licenses/LICENSE-2.0). \n",
    "Digital Earth Africa data is licensed under the [Creative Commons by Attribution 4.0](https://creativecommons.org/licenses/by/4.0/) license.\n",
    "\n",
    "**Contact:** If you need assistance, please post a question on the [Open Data Cube Slack channel](http://slack.opendatacube.org/) or on the [GIS Stack Exchange](https://gis.stackexchange.com/questions/ask?tags=open-data-cube) using the `open-data-cube` tag (you can view previously asked questions [here](https://gis.stackexchange.com/questions/tagged/open-data-cube)).\n",
    "If you would like to report an issue with this notebook, you can file one on [Github](https://github.com/digitalearthafrica/deafrica-sandbox-notebooks).\n",
    "\n",
    "**Compatible datacube version:**"
   ]
  },
  {
   "cell_type": "code",
   "execution_count": 2,
   "metadata": {},
   "outputs": [
    {
     "name": "stdout",
     "output_type": "stream",
     "text": [
      "1.8.6\n"
     ]
    }
   ],
   "source": [
    "import datacube\n",
    "print(datacube.__version__)"
   ]
  },
  {
   "cell_type": "markdown",
   "metadata": {},
   "source": [
    "**Last Tested:**"
   ]
  },
  {
   "cell_type": "code",
   "execution_count": 3,
   "metadata": {
    "raw_mimetype": "text/restructuredtext"
   },
   "outputs": [
    {
     "data": {
      "text/plain": [
       "'2021-11-10'"
      ]
     },
     "execution_count": 3,
     "metadata": {},
     "output_type": "execute_result"
    }
   ],
   "source": [
    "from datetime import datetime\n",
    "datetime.today().strftime('%Y-%m-%d')"
   ]
  }
 ],
 "metadata": {
  "kernelspec": {
   "display_name": "Python 3 (ipykernel)",
   "language": "python",
   "name": "python3"
  },
  "language_info": {
   "codemirror_mode": {
    "name": "ipython",
    "version": 3
   },
   "file_extension": ".py",
   "mimetype": "text/x-python",
   "name": "python",
   "nbconvert_exporter": "python",
   "pygments_lexer": "ipython3",
   "version": "3.8.10"
  },
  "widgets": {
   "application/vnd.jupyter.widget-state+json": {
    "state": {
     "006130824e1a4b85919a2fbc5baf5b7d": {
      "model_module": "@jupyter-widgets/controls",
      "model_module_version": "1.5.0",
      "model_name": "HTMLModel",
      "state": {
       "layout": "IPY_MODEL_840fb12fede943e6a7817bd5f00cb500",
       "style": "IPY_MODEL_7d694e29cac8422091e9c3da10601db4",
       "value": "<b>Fréquence de rééchantillonnage :</b>"
      }
     },
     "00dc6f8d2cce41fb99ffddb58c4addcc": {
      "model_module": "@jupyter-widgets/base",
      "model_module_version": "1.2.0",
      "model_name": "LayoutModel",
      "state": {
       "grid_area": "widget005",
       "height": "100%",
       "margin": "0px 10px 10px 0px",
       "padding": "5px 5px 5px 5px",
       "width": "100%"
      }
     },
     "05b90d3b420b47bf88da9916fe570026": {
      "model_module": "@jupyter-widgets/controls",
      "model_module_version": "1.5.0",
      "model_name": "VBoxModel",
      "state": {
       "children": [
        "IPY_MODEL_6b290650c9f24f9fa5ef6938d36f74eb",
        "IPY_MODEL_37cf8b1fcb80455499265ed53e7f2450",
        "IPY_MODEL_fc3a58e054d2427488d719a7ff48742f",
        "IPY_MODEL_76066954da7b4e3b8658d2fc3487442e",
        "IPY_MODEL_35a5fb3cfafb48198b7f6eae4e57c8d7",
        "IPY_MODEL_f310645cddfe41d391f70095dc1e5ee4",
        "IPY_MODEL_4a548bc7be5149f0acded503c9d54e3d",
        "IPY_MODEL_cf349c5de1d641f0b984dc5e875a6682",
        "IPY_MODEL_006130824e1a4b85919a2fbc5baf5b7d",
        "IPY_MODEL_e962a1057dad45019f391c0d41234837",
        "IPY_MODEL_1d156edee5b749bb93372199b034f800",
        "IPY_MODEL_76ba2992c95f4337b4d597128df364be",
        "IPY_MODEL_e96e173151c94e4994251b14908670be",
        "IPY_MODEL_d57f48b55b6343e9979048842c855ba9"
       ],
       "layout": "IPY_MODEL_5e22756e804d443e8b618634baf7dc30"
      }
     },
     "06c502c346ee4e8d807e9ecacc98e075": {
      "model_module": "jupyter-leaflet",
      "model_module_version": "^0.14.0",
      "model_name": "LeafletMapModel",
      "state": {
       "_model_module_version": "^0.14.0",
       "_view_module_version": "^0.14.0",
       "bottom": 1294,
       "center": [
        4,
        20
       ],
       "controls": [
        "IPY_MODEL_daa2252f36ea49748a1c53f9a70268fd",
        "IPY_MODEL_1e26080fb04b412785cf6f18995a8b94",
        "IPY_MODEL_7fa4b1c68f0c45d48e822e83d4eddc7d"
       ],
       "default_style": "IPY_MODEL_0ac49f14bc6149f7830aa1bc39e84b3d",
       "dragging_style": "IPY_MODEL_951bf6b6907748beba3bc9cbb055b7de",
       "east": 71.71875000000001,
       "fullscreen": false,
       "interpolation": "bilinear",
       "layers": [
        "IPY_MODEL_10c6a484b6ec402b900c58b1c37d1c99",
        "IPY_MODEL_d69e7197ecce4447931a41421ca2f553"
       ],
       "layout": "IPY_MODEL_16d9c562eff548af896805231f5aaf53",
       "left": 844,
       "modisdate": "yesterday",
       "north": 48.45835188280866,
       "options": [
        "bounce_at_zoom_limits",
        "box_zoom",
        "center",
        "close_popup_on_click",
        "double_click_zoom",
        "dragging",
        "fullscreen",
        "inertia",
        "inertia_deceleration",
        "inertia_max_speed",
        "interpolation",
        "keyboard",
        "keyboard_pan_offset",
        "keyboard_zoom_offset",
        "max_zoom",
        "min_zoom",
        "scroll_wheel_zoom",
        "tap",
        "tap_tolerance",
        "touch_zoom",
        "world_copy_jump",
        "zoom",
        "zoom_animation_threshold",
        "zoom_delta",
        "zoom_snap",
        "zoom_start"
       ],
       "right": 1432,
       "scroll_wheel_zoom": true,
       "south": -42.811521745097885,
       "style": "IPY_MODEL_79c995e1ee18469896b5c16e8bd7576c",
       "top": 708,
       "west": -31.640625000000004,
       "window_url": "https://sandbox.digitalearth.africa/user/ahicks/lab/tree/dev/deafrica-sandbox-notebooks/Real_world_examples/Wetlands_insight_tool.ipynb",
       "zoom": 3
      }
     },
     "08b870f7da4b47aaba486ec333cbb2af": {
      "model_module": "@jupyter-widgets/base",
      "model_module_version": "1.2.0",
      "model_name": "LayoutModel",
      "state": {}
     },
     "09d382d1279f4afca0f5bc3afb66af9e": {
      "model_module": "@jupyter-widgets/controls",
      "model_module_version": "1.5.0",
      "model_name": "GridBoxModel",
      "state": {
       "children": [
        "IPY_MODEL_ec59f4cd4de54e88b5a95768864ac5f3",
        "IPY_MODEL_05b90d3b420b47bf88da9916fe570026",
        "IPY_MODEL_6e559efdb3874242b2f623a16ec546e9",
        "IPY_MODEL_d6adc8179a63423c8fec2f12c589a83f",
        "IPY_MODEL_1b8976633367401988ded5d929ccdb1f",
        "IPY_MODEL_06c502c346ee4e8d807e9ecacc98e075",
        "IPY_MODEL_b7f86ca7c32a46cba2fffa0ed5d7b7bb"
       ],
       "layout": "IPY_MODEL_b89cdb123dbf4ed9b2a821724af72df4"
      }
     },
     "0ac49f14bc6149f7830aa1bc39e84b3d": {
      "model_module": "jupyter-leaflet",
      "model_module_version": "^0.14.0",
      "model_name": "LeafletMapStyleModel",
      "state": {
       "_model_module_version": "^0.14.0"
      }
     },
     "0af08b3299c548b6ac165f47b64c8d35": {
      "model_module": "@jupyter-widgets/controls",
      "model_module_version": "1.5.0",
      "model_name": "DescriptionStyleModel",
      "state": {
       "description_width": ""
      }
     },
     "10c6a484b6ec402b900c58b1c37d1c99": {
      "model_module": "jupyter-leaflet",
      "model_module_version": "^0.14.0",
      "model_name": "LeafletTileLayerModel",
      "state": {
       "_model_module_version": "^0.14.0",
       "_view_module_version": "^0.14.0",
       "base": true,
       "max_native_zoom": 18,
       "max_zoom": 19,
       "min_native_zoom": 0,
       "min_zoom": 1,
       "name": "Open Street Map",
       "options": [
        "attribution",
        "detect_retina",
        "max_native_zoom",
        "max_zoom",
        "min_native_zoom",
        "min_zoom",
        "no_wrap",
        "tile_size",
        "tms"
       ]
      }
     },
     "12951886c37b462793162714671ba304": {
      "model_module": "@jupyter-widgets/controls",
      "model_module_version": "1.5.0",
      "model_name": "DescriptionStyleModel",
      "state": {
       "description_width": ""
      }
     },
     "16d9c562eff548af896805231f5aaf53": {
      "model_module": "@jupyter-widgets/base",
      "model_module_version": "1.2.0",
      "model_name": "LayoutModel",
      "state": {
       "grid_area": "widget006",
       "height": "100%",
       "margin": "0px 10px 10px 0px",
       "padding": "5px 5px 5px 5px",
       "width": "100%"
      }
     },
     "1979b0d22dfe4ec78f98fbded889d454": {
      "model_module": "@jupyter-widgets/base",
      "model_module_version": "1.2.0",
      "model_name": "LayoutModel",
      "state": {
       "grid_area": "widget004",
       "height": "100%",
       "margin": "0px 10px 10px 0px",
       "padding": "5px 5px 5px 5px",
       "width": "100%"
      }
     },
     "1b8976633367401988ded5d929ccdb1f": {
      "model_module": "@jupyter-widgets/output",
      "model_module_version": "1.0.0",
      "model_name": "OutputModel",
      "state": {
       "layout": "IPY_MODEL_00dc6f8d2cce41fb99ffddb58c4addcc"
      }
     },
     "1d156edee5b749bb93372199b034f800": {
      "model_module": "@jupyter-widgets/controls",
      "model_module_version": "1.5.0",
      "model_name": "HTMLModel",
      "state": {
       "layout": "IPY_MODEL_08b870f7da4b47aaba486ec333cbb2af",
       "style": "IPY_MODEL_5568f8bcf51040df947e92da0d02864c",
       "value": "<b>Sortie CSV :</b>"
      }
     },
     "1e26080fb04b412785cf6f18995a8b94": {
      "model_module": "jupyter-leaflet",
      "model_module_version": "^0.14.0",
      "model_name": "LeafletAttributionControlModel",
      "state": {
       "_model_module_version": "^0.14.0",
       "_view_module_version": "^0.14.0",
       "options": [
        "position",
        "prefix"
       ],
       "position": "bottomright",
       "prefix": "ipyleaflet"
      }
     },
     "26f6086ba0ed4d78a5a0c74fe8d91d30": {
      "model_module": "@jupyter-widgets/base",
      "model_module_version": "1.2.0",
      "model_name": "LayoutModel",
      "state": {
       "grid_area": "widget007",
       "height": "100%",
       "margin": "0px 10px 10px 0px",
       "padding": "5px 5px 5px 5px",
       "width": "100%"
      }
     },
     "294a45389dba4abb8085e17c1d5bbe09": {
      "model_module": "@jupyter-widgets/base",
      "model_module_version": "1.2.0",
      "model_name": "LayoutModel",
      "state": {
       "width": "85%"
      }
     },
     "2e2476df306f4b53ad12d969bd1c8ba0": {
      "model_module": "@jupyter-widgets/controls",
      "model_module_version": "1.5.0",
      "model_name": "DescriptionStyleModel",
      "state": {
       "description_width": ""
      }
     },
     "2e311abc925e4365afbbf9983635c1e1": {
      "model_module": "@jupyter-widgets/controls",
      "model_module_version": "1.5.0",
      "model_name": "ButtonStyleModel",
      "state": {}
     },
     "338f6d42ced94ee28d64e546a469d9d8": {
      "model_module": "@jupyter-widgets/controls",
      "model_module_version": "1.5.0",
      "model_name": "DescriptionStyleModel",
      "state": {
       "description_width": ""
      }
     },
     "35a5fb3cfafb48198b7f6eae4e57c8d7": {
      "model_module": "@jupyter-widgets/controls",
      "model_module_version": "1.5.0",
      "model_name": "HTMLModel",
      "state": {
       "layout": "IPY_MODEL_84e2770c913d4e789bbcd770b3c7d690",
       "style": "IPY_MODEL_12951886c37b462793162714671ba304",
       "value": "<b>Date de fin :</b>"
      }
     },
     "37cf8b1fcb80455499265ed53e7f2450": {
      "model_module": "@jupyter-widgets/controls",
      "model_module_version": "1.5.0",
      "model_name": "DropdownModel",
      "state": {
       "_options_labels": [
        "Aucun",
        "Imagerie mondiale ESRI",
        "Sentinel-2 Geomedian",
        "Observations de l'eau depuis l'espace"
       ],
       "index": 0,
       "layout": "IPY_MODEL_5746c9bf3b3a489d848ec65f522f0a8e",
       "style": "IPY_MODEL_420d05225d894135bf69a422938acd96"
      }
     },
     "3a2e43045eca42c49641be4849004233": {
      "model_module": "@jupyter-widgets/controls",
      "model_module_version": "1.5.0",
      "model_name": "DescriptionStyleModel",
      "state": {
       "description_width": ""
      }
     },
     "420d05225d894135bf69a422938acd96": {
      "model_module": "@jupyter-widgets/controls",
      "model_module_version": "1.5.0",
      "model_name": "DescriptionStyleModel",
      "state": {
       "description_width": ""
      }
     },
     "45f669fe3f2744cab6b5750036b4bac5": {
      "model_module": "@jupyter-widgets/base",
      "model_module_version": "1.2.0",
      "model_name": "LayoutModel",
      "state": {
       "grid_area": "widget003",
       "height": "auto",
       "width": "auto"
      }
     },
     "48b52f8ddc7e4d2caf41d8bbf4922d5e": {
      "model_module": "@jupyter-widgets/controls",
      "model_module_version": "1.5.0",
      "model_name": "HBoxModel",
      "state": {
       "children": [
        "IPY_MODEL_09d382d1279f4afca0f5bc3afb66af9e"
       ],
       "layout": "IPY_MODEL_494a9127220c4d47a2cef1c8159cda0a"
      }
     },
     "494a9127220c4d47a2cef1c8159cda0a": {
      "model_module": "@jupyter-widgets/base",
      "model_module_version": "1.2.0",
      "model_name": "LayoutModel",
      "state": {}
     },
     "4a548bc7be5149f0acded503c9d54e3d": {
      "model_module": "@jupyter-widgets/controls",
      "model_module_version": "1.5.0",
      "model_name": "HTMLModel",
      "state": {
       "layout": "IPY_MODEL_966ac4c816eb4e2b92b26f105658b705",
       "style": "IPY_MODEL_2e2476df306f4b53ad12d969bd1c8ba0",
       "value": "<b>Minimum de bonnes données :</b>"
      }
     },
     "4f416d736cd648ae8fb5631913b9a992": {
      "model_module": "@jupyter-widgets/base",
      "model_module_version": "1.2.0",
      "model_name": "LayoutModel",
      "state": {
       "width": "85%"
      }
     },
     "4fe5c2e1faa04f16a8611aa1c94adcaa": {
      "model_module": "@jupyter-widgets/controls",
      "model_module_version": "1.5.0",
      "model_name": "DescriptionStyleModel",
      "state": {
       "description_width": ""
      }
     },
     "50a6009d99eb4438b1e7c83bd2b52e84": {
      "model_module": "@jupyter-widgets/base",
      "model_module_version": "1.2.0",
      "model_name": "LayoutModel",
      "state": {}
     },
     "5568f8bcf51040df947e92da0d02864c": {
      "model_module": "@jupyter-widgets/controls",
      "model_module_version": "1.5.0",
      "model_name": "DescriptionStyleModel",
      "state": {
       "description_width": ""
      }
     },
     "5746c9bf3b3a489d848ec65f522f0a8e": {
      "model_module": "@jupyter-widgets/base",
      "model_module_version": "1.2.0",
      "model_name": "LayoutModel",
      "state": {
       "width": "85%"
      }
     },
     "599f74905fd94d42b8042b265b15e81b": {
      "model_module": "@jupyter-widgets/base",
      "model_module_version": "1.2.0",
      "model_name": "LayoutModel",
      "state": {}
     },
     "5cf9f506e6bf4726b654205c20c6b758": {
      "model_module": "@jupyter-widgets/controls",
      "model_module_version": "1.5.0",
      "model_name": "DescriptionStyleModel",
      "state": {
       "description_width": ""
      }
     },
     "5e22756e804d443e8b618634baf7dc30": {
      "model_module": "@jupyter-widgets/base",
      "model_module_version": "1.2.0",
      "model_name": "LayoutModel",
      "state": {
       "grid_area": "widget002",
       "height": "100%",
       "margin": "0px 10px 10px 0px",
       "padding": "5px 5px 5px 5px",
       "width": "100%"
      }
     },
     "6518170dd90f49ff89492aae2c7d123d": {
      "model_module": "@jupyter-widgets/base",
      "model_module_version": "1.2.0",
      "model_name": "LayoutModel",
      "state": {
       "width": "85%"
      }
     },
     "69c69b5f89d84b9bbbce021886899790": {
      "model_module": "@jupyter-widgets/base",
      "model_module_version": "1.2.0",
      "model_name": "LayoutModel",
      "state": {}
     },
     "69d975ae4b974060aebd8050834a2aa6": {
      "model_module": "@jupyter-widgets/controls",
      "model_module_version": "1.5.0",
      "model_name": "HTMLModel",
      "state": {
       "layout": "IPY_MODEL_7a9fe50451d3471dbec85b00064fe5f0",
       "style": "IPY_MODEL_da4f2052f30f48f8b07b6dfee4ac424a"
      }
     },
     "6b290650c9f24f9fa5ef6938d36f74eb": {
      "model_module": "@jupyter-widgets/controls",
      "model_module_version": "1.5.0",
      "model_name": "HTMLModel",
      "state": {
       "layout": "IPY_MODEL_599f74905fd94d42b8042b265b15e81b",
       "style": "IPY_MODEL_0af08b3299c548b6ac165f47b64c8d35",
       "value": "<b>Carte superposée :</b>"
      }
     },
     "6e559efdb3874242b2f623a16ec546e9": {
      "model_module": "@jupyter-widgets/controls",
      "model_module_version": "1.5.0",
      "model_name": "ButtonModel",
      "state": {
       "button_style": "info",
       "description": "Exécuter",
       "layout": "IPY_MODEL_45f669fe3f2744cab6b5750036b4bac5",
       "style": "IPY_MODEL_2e311abc925e4365afbbf9983635c1e1"
      }
     },
     "737f919f35a74cc295a1da9706a09fd0": {
      "model_module": "@jupyter-widgets/controls",
      "model_module_version": "1.5.0",
      "model_name": "DescriptionStyleModel",
      "state": {
       "description_width": ""
      }
     },
     "76066954da7b4e3b8658d2fc3487442e": {
      "model_module": "@jupyter-widgets/controls",
      "model_module_version": "1.5.0",
      "model_name": "DatePickerModel",
      "state": {
       "disabled": false,
       "layout": "IPY_MODEL_ec53505a0b51455281e49723cdfc40c3",
       "style": "IPY_MODEL_7ebada8d0b254390b57405ab9d00b4cf"
      }
     },
     "764aa462a0324e56a2f9ce08dde3c381": {
      "model_module": "@jupyter-widgets/base",
      "model_module_version": "1.2.0",
      "model_name": "LayoutModel",
      "state": {}
     },
     "76ba2992c95f4337b4d597128df364be": {
      "model_module": "@jupyter-widgets/controls",
      "model_module_version": "1.5.0",
      "model_name": "TextModel",
      "state": {
       "layout": "IPY_MODEL_fb0ff8f891dd4baca0d1cc2b0bb49460",
       "placeholder": "example_WIT.csv",
       "style": "IPY_MODEL_906f6fdbe283463dbe21e67a27e02bdc",
       "value": "example_WIT.csv"
      }
     },
     "79c995e1ee18469896b5c16e8bd7576c": {
      "model_module": "jupyter-leaflet",
      "model_module_version": "^0.14.0",
      "model_name": "LeafletMapStyleModel",
      "state": {
       "_model_module_version": "^0.14.0"
      }
     },
     "7a9fe50451d3471dbec85b00064fe5f0": {
      "model_module": "@jupyter-widgets/base",
      "model_module_version": "1.2.0",
      "model_name": "LayoutModel",
      "state": {}
     },
     "7d694e29cac8422091e9c3da10601db4": {
      "model_module": "@jupyter-widgets/controls",
      "model_module_version": "1.5.0",
      "model_name": "DescriptionStyleModel",
      "state": {
       "description_width": ""
      }
     },
     "7ebada8d0b254390b57405ab9d00b4cf": {
      "model_module": "@jupyter-widgets/controls",
      "model_module_version": "1.5.0",
      "model_name": "DescriptionStyleModel",
      "state": {
       "description_width": ""
      }
     },
     "7fa4b1c68f0c45d48e822e83d4eddc7d": {
      "model_module": "jupyter-leaflet",
      "model_module_version": "^0.14.0",
      "model_name": "LeafletDrawControlModel",
      "state": {
       "_model_module_version": "^0.14.0",
       "_view_module_version": "^0.14.0",
       "options": [
        "position"
       ],
       "polygon": {
        "allowIntersection": false,
        "drawError": {
         "color": "#FF6633",
         "message": "Drawing error, clear all and try again"
        },
        "shapeOptions": {
         "color": "#FFFFFF",
         "fillColor": "#336699",
         "fillOpacity": 0.4,
         "opacity": 0.8
        }
       },
       "polyline": {},
       "rectangle": {
        "shapeOptions": {
         "color": "#FFFFFF",
         "fillColor": "#336699",
         "fillOpacity": 0.4,
         "opacity": 0.8
        }
       }
      }
     },
     "840fb12fede943e6a7817bd5f00cb500": {
      "model_module": "@jupyter-widgets/base",
      "model_module_version": "1.2.0",
      "model_name": "LayoutModel",
      "state": {}
     },
     "84653944a2574f38807e70e46b3e46fc": {
      "model_module": "@jupyter-widgets/controls",
      "model_module_version": "1.5.0",
      "model_name": "DescriptionStyleModel",
      "state": {
       "description_width": ""
      }
     },
     "84e2770c913d4e789bbcd770b3c7d690": {
      "model_module": "@jupyter-widgets/base",
      "model_module_version": "1.2.0",
      "model_name": "LayoutModel",
      "state": {}
     },
     "906f6fdbe283463dbe21e67a27e02bdc": {
      "model_module": "@jupyter-widgets/controls",
      "model_module_version": "1.5.0",
      "model_name": "DescriptionStyleModel",
      "state": {
       "description_width": ""
      }
     },
     "951bf6b6907748beba3bc9cbb055b7de": {
      "model_module": "jupyter-leaflet",
      "model_module_version": "^0.14.0",
      "model_name": "LeafletMapStyleModel",
      "state": {
       "_model_module_version": "^0.14.0",
       "cursor": "move"
      }
     },
     "966ac4c816eb4e2b92b26f105658b705": {
      "model_module": "@jupyter-widgets/base",
      "model_module_version": "1.2.0",
      "model_name": "LayoutModel",
      "state": {}
     },
     "9eb70fb2f71441cc9d346aea10654450": {
      "model_module": "@jupyter-widgets/controls",
      "model_module_version": "1.5.0",
      "model_name": "DescriptionStyleModel",
      "state": {
       "description_width": ""
      }
     },
     "b7f86ca7c32a46cba2fffa0ed5d7b7bb": {
      "model_module": "@jupyter-widgets/output",
      "model_module_version": "1.0.0",
      "model_name": "OutputModel",
      "state": {
       "layout": "IPY_MODEL_26f6086ba0ed4d78a5a0c74fe8d91d30"
      }
     },
     "b89cdb123dbf4ed9b2a821724af72df4": {
      "model_module": "@jupyter-widgets/base",
      "model_module_version": "1.2.0",
      "model_name": "LayoutModel",
      "state": {
       "grid_template_areas": "\"widget001 widget001 widget001 widget001 widget001 widget001 widget001 widget001 widget001 widget001\"\n\"widget002 widget002 widget006 widget006 widget006 widget006 widget006 widget004 widget004 widget004\"\n\"widget002 widget002 widget006 widget006 widget006 widget006 widget006 widget005 widget005 widget005\"\n\"widget002 widget002 widget006 widget006 widget006 widget006 widget006 widget005 widget005 widget005\"\n\"widget002 widget002 widget006 widget006 widget006 widget006 widget006 widget005 widget005 widget005\"\n\"widget002 widget002 widget006 widget006 widget006 widget006 widget006 widget005 widget005 widget005\"\n\"widget003 widget003 widget006 widget006 widget006 widget006 widget006 widget005 widget005 widget005\"\n\"widget007 widget007 widget007 widget007 widget007 widget007 widget007 widget007 widget007 widget007\"\n\"widget007 widget007 widget007 widget007 widget007 widget007 widget007 widget007 widget007 widget007\"\n\"widget007 widget007 widget007 widget007 widget007 widget007 widget007 widget007 widget007 widget007\"\n\"widget007 widget007 widget007 widget007 widget007 widget007 widget007 widget007 widget007 widget007\"",
       "grid_template_columns": "repeat(10, 1fr)",
       "grid_template_rows": "repeat(11, 1fr)",
       "height": "1100px",
       "width": "auto"
      }
     },
     "cf349c5de1d641f0b984dc5e875a6682": {
      "model_module": "@jupyter-widgets/controls",
      "model_module_version": "1.5.0",
      "model_name": "BoundedFloatTextModel",
      "state": {
       "layout": "IPY_MODEL_4f416d736cd648ae8fb5631913b9a992",
       "max": 1,
       "step": 0.05,
       "style": "IPY_MODEL_4fe5c2e1faa04f16a8611aa1c94adcaa"
      }
     },
     "d57f48b55b6343e9979048842c855ba9": {
      "model_module": "@jupyter-widgets/controls",
      "model_module_version": "1.5.0",
      "model_name": "TextModel",
      "state": {
       "layout": "IPY_MODEL_efb22c8bd79c40cdbf9150a2313403c6",
       "placeholder": "example_WIT.png",
       "style": "IPY_MODEL_3a2e43045eca42c49641be4849004233",
       "value": "example_WIT.png"
      }
     },
     "d69e7197ecce4447931a41421ca2f553": {
      "model_module": "jupyter-leaflet",
      "model_module_version": "^0.14.0",
      "model_name": "LeafletLayerGroupModel",
      "state": {
       "_model_module": "jupyter-leaflet",
       "_model_module_version": "^0.14.0",
       "_view_count": null,
       "_view_module": "jupyter-leaflet",
       "_view_module_version": "^0.14.0",
       "base": false,
       "bottom": false,
       "name": "Superpositions de cartes",
       "options": [],
       "popup": null,
       "popup_max_height": null,
       "popup_max_width": 300,
       "popup_min_width": 50
      }
     },
     "d6adc8179a63423c8fec2f12c589a83f": {
      "model_module": "@jupyter-widgets/output",
      "model_module_version": "1.0.0",
      "model_name": "OutputModel",
      "state": {
       "layout": "IPY_MODEL_1979b0d22dfe4ec78f98fbded889d454"
      }
     },
     "da4f2052f30f48f8b07b6dfee4ac424a": {
      "model_module": "@jupyter-widgets/controls",
      "model_module_version": "1.5.0",
      "model_name": "DescriptionStyleModel",
      "state": {
       "description_width": ""
      }
     },
     "daa2252f36ea49748a1c53f9a70268fd": {
      "model_module": "jupyter-leaflet",
      "model_module_version": "^0.14.0",
      "model_name": "LeafletZoomControlModel",
      "state": {
       "_model_module_version": "^0.14.0",
       "_view_module_version": "^0.14.0",
       "options": [
        "position",
        "zoom_in_text",
        "zoom_in_title",
        "zoom_out_text",
        "zoom_out_title"
       ]
      }
     },
     "e3255697e24041789943354828517655": {
      "model_module": "@jupyter-widgets/base",
      "model_module_version": "1.2.0",
      "model_name": "LayoutModel",
      "state": {
       "grid_area": "widget001",
       "height": "100%",
       "margin": "0px 10px 10px 0px",
       "padding": "5px 5px 5px 5px",
       "width": "100%"
      }
     },
     "e962a1057dad45019f391c0d41234837": {
      "model_module": "@jupyter-widgets/controls",
      "model_module_version": "1.5.0",
      "model_name": "TextModel",
      "state": {
       "layout": "IPY_MODEL_6518170dd90f49ff89492aae2c7d123d",
       "placeholder": "1M",
       "style": "IPY_MODEL_9eb70fb2f71441cc9d346aea10654450",
       "value": "1M"
      }
     },
     "e96e173151c94e4994251b14908670be": {
      "model_module": "@jupyter-widgets/controls",
      "model_module_version": "1.5.0",
      "model_name": "HTMLModel",
      "state": {
       "layout": "IPY_MODEL_764aa462a0324e56a2f9ce08dde3c381",
       "style": "IPY_MODEL_737f919f35a74cc295a1da9706a09fd0",
       "value": "<b>Tracé de sortie :</b>"
      }
     },
     "ec53505a0b51455281e49723cdfc40c3": {
      "model_module": "@jupyter-widgets/base",
      "model_module_version": "1.2.0",
      "model_name": "LayoutModel",
      "state": {
       "width": "85%"
      }
     },
     "ec59f4cd4de54e88b5a95768864ac5f3": {
      "model_module": "@jupyter-widgets/controls",
      "model_module_version": "1.5.0",
      "model_name": "HTMLModel",
      "state": {
       "layout": "IPY_MODEL_e3255697e24041789943354828517655",
       "style": "IPY_MODEL_5cf9f506e6bf4726b654205c20c6b758",
       "value": "<h3>Outil d'analyse des zones humides</h3><p>Sélectionner les paramètres et l'AOI</p>"
      }
     },
     "efb22c8bd79c40cdbf9150a2313403c6": {
      "model_module": "@jupyter-widgets/base",
      "model_module_version": "1.2.0",
      "model_name": "LayoutModel",
      "state": {
       "width": "85%"
      }
     },
     "f310645cddfe41d391f70095dc1e5ee4": {
      "model_module": "@jupyter-widgets/controls",
      "model_module_version": "1.5.0",
      "model_name": "DatePickerModel",
      "state": {
       "disabled": false,
       "layout": "IPY_MODEL_294a45389dba4abb8085e17c1d5bbe09",
       "style": "IPY_MODEL_84653944a2574f38807e70e46b3e46fc"
      }
     },
     "f8934137c058430ba4b263e1e7d49ad1": {
      "model_module": "@jupyter-widgets/base",
      "model_module_version": "1.2.0",
      "model_name": "LayoutModel",
      "state": {}
     },
     "f900d1087fca44889a0241bcc1d6ec67": {
      "model_module": "@jupyter-widgets/base",
      "model_module_version": "1.2.0",
      "model_name": "LayoutModel",
      "state": {}
     },
     "fb0ff8f891dd4baca0d1cc2b0bb49460": {
      "model_module": "@jupyter-widgets/base",
      "model_module_version": "1.2.0",
      "model_name": "LayoutModel",
      "state": {
       "width": "85%"
      }
     },
     "fc3a58e054d2427488d719a7ff48742f": {
      "model_module": "@jupyter-widgets/controls",
      "model_module_version": "1.5.0",
      "model_name": "HTMLModel",
      "state": {
       "layout": "IPY_MODEL_50a6009d99eb4438b1e7c83bd2b52e84",
       "style": "IPY_MODEL_338f6d42ced94ee28d64e546a469d9d8",
       "value": "<b>Date de début :</b>"
      }
     }
    },
    "version_major": 2,
    "version_minor": 0
   }
  }
 },
 "nbformat": 4,
 "nbformat_minor": 4
}
