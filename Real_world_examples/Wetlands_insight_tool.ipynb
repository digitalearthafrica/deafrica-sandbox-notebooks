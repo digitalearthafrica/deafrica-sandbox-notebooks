{
 "cells": [
  {
   "cell_type": "markdown",
   "metadata": {},
   "source": [
    "# Wetlands Insight Tool\n",
    "\n",
    "* **Products used:** \n",
    "[wofs_ls](https://explorer.digitalearth.africa/products/wofs_ls),\n",
    "[fc_ls](https://explorer.digitalearth.africa/products/fc_ls),\n",
    "[ls8_sr](https://explorer.digitalearth.africa/products/ls8_sr),\n",
    "[ls7_sr](https://explorer.digitalearth.africa/products/ls7_sr),\n",
    "[ls5_sr](https://explorer.digitalearth.africa/products/ls5_sr)"
   ]
  },
  {
   "cell_type": "raw",
   "metadata": {
    "raw_mimetype": "text/restructuredtext",
    "tags": []
   },
   "source": [
    "**Keywords**: :index:`data used; landsat 5`, :index:`data used; landsat 7`, :index:`data used; landsat 8`, :index:`data used; WOfS`, :index:`data used; fc_ls`, :index:`interactive`, :index:`analysis; Wetlands insight tool`, :index:`wetlands`"
   ]
  },
  {
   "cell_type": "markdown",
   "metadata": {},
   "source": [
    "## Background\n",
    "\n",
    "According to [Wetlands International](https://africa.wetlands.org/en/wetlands/what-are-wetlands/), Africa’s wetlands ecosystems are estimated to cover 131 million hectares, and include some of the most productive and biodiverse ecosystems in the world. They provide a host of ecosystem services that contribute to human well-being through nutrition, water supply and purification, climate and flood regulation, coastal protection, feeding and nesting sites for animals, recreational opportunities and increasingly, tourism.  As such, the health of wetland ecosystems has been identified as an important metric for the `Sustainable Development Goals` ([6.6.1 Change in the extent of water-related ecosystems over time](https://www.sdg6monitoring.org/indicator-661/)). \n",
    "\n",
    "The `Wetlands Insight Tool (WIT)` provides insights into a wetland's seasonal and interannual dynamics. WIT is a spatiotemporal summary of a wetland that combines multiple datasets derived from the Landsat archive held within DE Africa. `Fractional cover`, `WOfS`, and `Landsat surface reflectance` data are retrieved from DE Africa's ODC and combined to produce a stack plot describing the percentage of a wetland polygon as vegetation fractional cover, open water, and wet vegetation through time. The figure below (on the right) summaries the classification logic of the Wetlands Insight Tool.\n",
    "\n",
    "\n",
    "\n",
    "The animation below shows an example of WIT over Lake Korienze in Mali. The WIT plot shows the percentage of the region that is covered (in order) in open water, wet soil, green vegetation, dry vegetation, and bare soil \n",
    "\n",
    "Example of WIT over Lake Korienze, Mali | Classification logic of the Wetlands Insight Tool\n",
    "- | - \n",
    "<img src=\"../Supplementary_data/Wetlands_insight_tool/Lac_de_Korienze_WIT.gif\"/> | <img src=\"../Supplementary_data/Wetlands_insight_tool/WIT_logic.PNG\" width=550 >\n",
    "\n",
    "\n",
    "### Reference\n",
    "\n",
    "[Dunn et al. (2019)](https://ieeexplore.ieee.org/document/8897806) Developing a Tool for Wetland Characterization Using Fractional Cover, Tasseled Cap Wetness And Water Observations From Space\n",
    "\n",
    "\n",
    "\n",
    "\n",
    "## Description\n",
    "This interactive notebook will run the Wetlands Insight Tool for the area encompassed by a polygon drawn on the interactive map.\n",
    "\n",
    "1.  Set the parameters for the Wetlands Insight Tool\n",
    "2.  Draw a polygon using the interactive jupyter widget\n",
    "3.  Run the WIT tool, resulting in a stacked plot of fractional cover, wetness, and water\n",
    "\n",
    "## Instructions for running the application\n",
    "\n",
    "Make sure you read the `Analysis Parameters` section below so you undertand the different parameters of the Wetlands Insight Tool, then run the cell containing the `wit_app()` function to get started. \n",
    "\n",
    "Use the drop-down boxes to set the parameters, draw a polygon on the interactive map over the region of interest, and then hit the `Run` button to begin the anlaysis.  Print statements will appear on the right hand side of the app signifying the progress of the anlaysis. For more detailed progress indicators use the **Dask Dashboard hyperlink** that appears after you hit the run button. Note, depending on the size of the polygon drawn, and the length of time of the analysis, WIT can take a long time to run.  Once the analysis has finished, a stackplot will be plotted at the bottom of the application.\n",
    "\n",
    "If you wish to alter the parameters and re-run the analysis over the same polygon, simply change the parameters and hit the run button again (make sure the previous run has finished before you hit the run button a second time).\n",
    "\n",
    "If anything goes wrong with the interactvive widget and/or errors start printing on the right-hand side of the app, then restart the notebook kernel: **Kernel --> Restart Kernel and Clear All Outputs**\n",
    "\n",
    "***"
   ]
  },
  {
   "cell_type": "markdown",
   "metadata": {},
   "source": [
    "## Analysis Parameters"
   ]
  },
  {
   "cell_type": "markdown",
   "metadata": {},
   "source": [
    "* `Map Overlay`: A number of overlay map layers, which can help guide polygon drawing. Options include ESRI World Imagery, the 2020 Sentinel-2 Geomedian, or the 2020 WOfS annual frequency summary. This parameter defaults to 'None'.\n",
    "* `Start Date`: The starting date of the analysis, in format DD-MM-YYYY\n",
    "* `End Date`: The ending date of the analysis, in format DD-MM-YYYY\n",
    "* `Minimum Good Data`: A number between 0 and 1 (e.g. `0.85`) indicating the minimum percentage of good quality pixels required for a satellite observation to be loaded and therefore included in the WIT plot. **This number should, at a minimum, be set to 0.85 to limit biases in the result if not resampling the time-series**. If resampling the data using the parameter `Resample Frequency`, then setting this number to 0 (or a low float number) is acceptable.\n",
    "* `Resampling Frequency`: Option for resampling time-series of input datasets. This option is useful for either smoothing the WIT plot, or because the area of analysis is larger than a scene width and therefore requires composites. Options include any string accepted by `xarray.resample(time=)`; e.g. `1M` = 1 month, `3M` = 3 months, `Q-DEC` = quarterly starting in December. To turn off resampling set this parameter to `None`. **The resampling method used is .max()**, hence the resulting plots will show the _maximum extent_ of each variable during the resampled interval.\n",
    "* `Output CSV`: To output a .csv file with the values of the WIT plot, enter a file name e.g. `output_WIT.csv`\n",
    "* `Output Plot`: To output a .png copy of the WIT stackplot, enter a file name e.g. `output_WIT.png`"
   ]
  },
  {
   "cell_type": "code",
   "execution_count": 1,
   "metadata": {},
   "outputs": [
    {
     "name": "stderr",
     "output_type": "stream",
     "text": [
      "/env/lib/python3.8/site-packages/datacube/storage/masking.py:7: DeprecationWarning: datacube.storage.masking has moved to datacube.utils.masking\n",
      "  warnings.warn(\"datacube.storage.masking has moved to datacube.utils.masking\",\n"
     ]
    },
    {
     "data": {
      "application/vnd.jupyter.widget-view+json": {
       "model_id": "7f2ad0ef92b0416d8ab6507aaa06b5bf",
       "version_major": 2,
       "version_minor": 0
      },
      "text/plain": [
       "wit_app(children=(GridspecLayout(children=(HTML(value='<h3>Wetlands Insight Tool</h3><p>Select parameters and …"
      ]
     },
     "metadata": {},
     "output_type": "display_data"
    }
   ],
   "source": [
    "from deafrica_tools.app.wetlandsinsighttool import wit_app\n",
    "\n",
    "wit_app()"
   ]
  },
  {
   "cell_type": "markdown",
   "metadata": {
    "tags": []
   },
   "source": [
    "---\n",
    "\n",
    "## Additional information\n",
    "\n",
    "**License:** The code in this notebook is licensed under the [Apache License, Version 2.0](https://www.apache.org/licenses/LICENSE-2.0). \n",
    "Digital Earth Africa data is licensed under the [Creative Commons by Attribution 4.0](https://creativecommons.org/licenses/by/4.0/) license.\n",
    "\n",
    "**Contact:** If you need assistance, please post a question on the [Open Data Cube Slack channel](http://slack.opendatacube.org/) or on the [GIS Stack Exchange](https://gis.stackexchange.com/questions/ask?tags=open-data-cube) using the `open-data-cube` tag (you can view previously asked questions [here](https://gis.stackexchange.com/questions/tagged/open-data-cube)).\n",
    "If you would like to report an issue with this notebook, you can file one on [Github](https://github.com/digitalearthafrica/deafrica-sandbox-notebooks).\n",
    "\n",
    "**Compatible datacube version:**"
   ]
  },
  {
   "cell_type": "code",
   "execution_count": 2,
   "metadata": {},
   "outputs": [
    {
     "name": "stdout",
     "output_type": "stream",
     "text": [
      "1.8.6\n"
     ]
    }
   ],
   "source": [
    "import datacube\n",
    "print(datacube.__version__)"
   ]
  },
  {
   "cell_type": "markdown",
   "metadata": {},
   "source": [
    "**Last Tested:**"
   ]
  },
  {
   "cell_type": "code",
   "execution_count": 3,
   "metadata": {
    "raw_mimetype": "text/restructuredtext"
   },
   "outputs": [
    {
     "data": {
      "text/plain": [
       "'2021-11-03'"
      ]
     },
     "execution_count": 3,
     "metadata": {},
     "output_type": "execute_result"
    }
   ],
   "source": [
    "from datetime import datetime\n",
    "datetime.today().strftime('%Y-%m-%d')"
   ]
  }
 ],
 "metadata": {
  "kernelspec": {
   "display_name": "Python 3 (ipykernel)",
   "language": "python",
   "name": "python3"
  },
  "language_info": {
   "codemirror_mode": {
    "name": "ipython",
    "version": 3
   },
   "file_extension": ".py",
   "mimetype": "text/x-python",
   "name": "python",
   "nbconvert_exporter": "python",
   "pygments_lexer": "ipython3",
   "version": "3.8.10"
  },
  "widgets": {
   "application/vnd.jupyter.widget-state+json": {
    "state": {
     "012ab6ad3ce7485a880980de064ef95a": {
      "model_module": "@jupyter-widgets/controls",
      "model_module_version": "1.5.0",
      "model_name": "DescriptionStyleModel",
      "state": {
       "description_width": ""
      }
     },
     "05183ed950e844bebe30287ddbe8cc77": {
      "model_module": "@jupyter-widgets/controls",
      "model_module_version": "1.5.0",
      "model_name": "HTMLModel",
      "state": {
       "layout": "IPY_MODEL_77b218dd1f9248cd8d3426822b3e0d3c",
       "style": "IPY_MODEL_cc9ec68f70934c7986927411be9be1de",
       "value": "<h3>Wetlands Insight Tool</h3><p>Select parameters and AOI</p>"
      }
     },
     "06d45477c5904dc3b90dd470ed9d33f4": {
      "model_module": "@jupyter-widgets/output",
      "model_module_version": "1.0.0",
      "model_name": "OutputModel",
      "state": {
       "layout": "IPY_MODEL_25162e64c98542958bbdcbac954fd16e"
      }
     },
     "0811404a99694ea88690ff0748d086af": {
      "model_module": "@jupyter-widgets/base",
      "model_module_version": "1.2.0",
      "model_name": "LayoutModel",
      "state": {
       "grid_template_areas": "\"widget001 widget001 widget001 widget001 widget001 widget001 widget001 widget001 widget001 widget001\"\n\"widget002 widget002 widget006 widget006 widget006 widget006 widget006 widget004 widget004 widget004\"\n\"widget002 widget002 widget006 widget006 widget006 widget006 widget006 widget005 widget005 widget005\"\n\"widget002 widget002 widget006 widget006 widget006 widget006 widget006 widget005 widget005 widget005\"\n\"widget002 widget002 widget006 widget006 widget006 widget006 widget006 widget005 widget005 widget005\"\n\"widget002 widget002 widget006 widget006 widget006 widget006 widget006 widget005 widget005 widget005\"\n\"widget003 widget003 widget006 widget006 widget006 widget006 widget006 widget005 widget005 widget005\"\n\"widget007 widget007 widget007 widget007 widget007 widget007 widget007 widget007 widget007 widget007\"\n\"widget007 widget007 widget007 widget007 widget007 widget007 widget007 widget007 widget007 widget007\"\n\"widget007 widget007 widget007 widget007 widget007 widget007 widget007 widget007 widget007 widget007\"\n\"widget007 widget007 widget007 widget007 widget007 widget007 widget007 widget007 widget007 widget007\"",
       "grid_template_columns": "repeat(10, 1fr)",
       "grid_template_rows": "repeat(11, 1fr)",
       "height": "1100px",
       "width": "auto"
      }
     },
     "0c4d558990c5430fb7b9a0c0ecb9fba4": {
      "model_module": "@jupyter-widgets/controls",
      "model_module_version": "1.5.0",
      "model_name": "HTMLModel",
      "state": {
       "layout": "IPY_MODEL_547ecfda4d154cefb57b02358269f567",
       "style": "IPY_MODEL_7f4e1787c71f42b5afce699e484f220a"
      }
     },
     "0ca9ca8460054e33baab5c83463bcb85": {
      "model_module": "jupyter-leaflet",
      "model_module_version": "^0.14.0",
      "model_name": "LeafletMapStyleModel",
      "state": {
       "_model_module_version": "^0.14.0"
      }
     },
     "0eedb08bdd6f44b69fdf1d1aff3132ad": {
      "model_module": "@jupyter-widgets/controls",
      "model_module_version": "1.5.0",
      "model_name": "DescriptionStyleModel",
      "state": {
       "description_width": ""
      }
     },
     "136a5c34608044b3829160b1e6180407": {
      "model_module": "@jupyter-widgets/base",
      "model_module_version": "1.2.0",
      "model_name": "LayoutModel",
      "state": {}
     },
     "1987caa33393459aa586e3fd3f9b8e5b": {
      "model_module": "@jupyter-widgets/controls",
      "model_module_version": "1.5.0",
      "model_name": "HTMLModel",
      "state": {
       "layout": "IPY_MODEL_ec509fa685484b538c33c93782dd12ae",
       "style": "IPY_MODEL_012ab6ad3ce7485a880980de064ef95a",
       "value": "<b>Output CSV:</b>"
      }
     },
     "1aeb7517fe4449f2a6775ee7d7d5a582": {
      "model_module": "@jupyter-widgets/controls",
      "model_module_version": "1.5.0",
      "model_name": "TextModel",
      "state": {
       "layout": "IPY_MODEL_9b8311612bc44a9ca1bcb1a64de4c5d0",
       "placeholder": "1M",
       "style": "IPY_MODEL_480eb8f2e61541a38f57cca94eefc4a6",
       "value": "1M"
      }
     },
     "1e4f79fae01a440486bcdd0e680c0b40": {
      "model_module": "@jupyter-widgets/controls",
      "model_module_version": "1.5.0",
      "model_name": "DescriptionStyleModel",
      "state": {
       "description_width": ""
      }
     },
     "227c12b89382410994b00b8fd9f54ed4": {
      "model_module": "@jupyter-widgets/controls",
      "model_module_version": "1.5.0",
      "model_name": "DescriptionStyleModel",
      "state": {
       "description_width": ""
      }
     },
     "248b97f7e7fa4aa9bfad0297830444a9": {
      "model_module": "jupyter-leaflet",
      "model_module_version": "^0.14.0",
      "model_name": "LeafletTileLayerModel",
      "state": {
       "_model_module_version": "^0.14.0",
       "_view_module_version": "^0.14.0",
       "attribution": "&copy; <a href=\"http://www.openstreetmap.org/copyright\">OpenStreetMap</a> &copy; <a href=\"http://cartodb.com/attributions\">CartoDB</a>",
       "base": true,
       "max_native_zoom": 18,
       "max_zoom": 20,
       "min_native_zoom": 0,
       "min_zoom": 1,
       "name": "Countries and Locations",
       "options": [
        "attribution",
        "detect_retina",
        "max_native_zoom",
        "max_zoom",
        "min_native_zoom",
        "min_zoom",
        "no_wrap",
        "tile_size",
        "tms"
       ],
       "url": "http://c.basemaps.cartocdn.com/light_all/{z}/{x}/{y}.png"
      }
     },
     "24995bc64f794661b84547637ec8f441": {
      "model_module": "@jupyter-widgets/base",
      "model_module_version": "1.2.0",
      "model_name": "LayoutModel",
      "state": {
       "grid_area": "widget004",
       "height": "100%",
       "margin": "0px 10px 10px 0px",
       "padding": "5px 5px 5px 5px",
       "width": "100%"
      }
     },
     "25162e64c98542958bbdcbac954fd16e": {
      "model_module": "@jupyter-widgets/base",
      "model_module_version": "1.2.0",
      "model_name": "LayoutModel",
      "state": {
       "grid_area": "widget005",
       "height": "100%",
       "margin": "0px 10px 10px 0px",
       "padding": "5px 5px 5px 5px",
       "width": "100%"
      }
     },
     "29333c1dcb384bb9b974a4dccc3f7fdb": {
      "model_module": "@jupyter-widgets/controls",
      "model_module_version": "1.5.0",
      "model_name": "VBoxModel",
      "state": {
       "children": [
        "IPY_MODEL_4aa6fe978f7f4edca717a1842aea06f5",
        "IPY_MODEL_5ed81fb162864b68a1ec09223498581b",
        "IPY_MODEL_2bb657508eb149d9b24819cd4d2f5be4",
        "IPY_MODEL_fcf83f92e5e646129159297ce616cb70",
        "IPY_MODEL_77b5d237e45b4b6bb6e6953ef68036bb",
        "IPY_MODEL_9b5881e045144daeb23bd52e7d83a86f",
        "IPY_MODEL_c3519df66e1743b0bfd1696304d290f8",
        "IPY_MODEL_8b7b2a1c4ab5454fb7cc7b0d5a15eeae",
        "IPY_MODEL_cf36fd9684574c85a9120e589aa711af",
        "IPY_MODEL_1aeb7517fe4449f2a6775ee7d7d5a582",
        "IPY_MODEL_1987caa33393459aa586e3fd3f9b8e5b",
        "IPY_MODEL_c3617ac0f4584233a158c83f926861c0",
        "IPY_MODEL_6863911b1c7b4b30940a640c7a7262a3",
        "IPY_MODEL_493adbe81a794f0999329215ffb90c59"
       ],
       "layout": "IPY_MODEL_abdd79a70815490494539e7f96773ab0"
      }
     },
     "2bb657508eb149d9b24819cd4d2f5be4": {
      "model_module": "@jupyter-widgets/controls",
      "model_module_version": "1.5.0",
      "model_name": "HTMLModel",
      "state": {
       "layout": "IPY_MODEL_bdb7175ebd5842d9860c0d6d982ac711",
       "style": "IPY_MODEL_0eedb08bdd6f44b69fdf1d1aff3132ad",
       "value": "<b>Start Date:</b>"
      }
     },
     "360235c5feeb4e6eb525954bd90f331b": {
      "model_module": "@jupyter-widgets/output",
      "model_module_version": "1.0.0",
      "model_name": "OutputModel",
      "state": {
       "layout": "IPY_MODEL_24995bc64f794661b84547637ec8f441"
      }
     },
     "3624fd09f2144b7d90dc3699039f9e6b": {
      "model_module": "@jupyter-widgets/base",
      "model_module_version": "1.2.0",
      "model_name": "LayoutModel",
      "state": {
       "grid_area": "widget006",
       "height": "100%",
       "margin": "0px 10px 10px 0px",
       "padding": "5px 5px 5px 5px",
       "width": "100%"
      }
     },
     "3a410ddf306c4802b014021ecd5a363c": {
      "model_module": "@jupyter-widgets/base",
      "model_module_version": "1.2.0",
      "model_name": "LayoutModel",
      "state": {}
     },
     "3bb9598eafcf4039ab5e248a445c6e59": {
      "model_module": "@jupyter-widgets/controls",
      "model_module_version": "1.5.0",
      "model_name": "DescriptionStyleModel",
      "state": {
       "description_width": ""
      }
     },
     "3bf865286fb94faca1a869a668b74cd7": {
      "model_module": "@jupyter-widgets/controls",
      "model_module_version": "1.5.0",
      "model_name": "DescriptionStyleModel",
      "state": {
       "description_width": ""
      }
     },
     "4222f9ccd5cd41fab47d43b92675a84b": {
      "model_module": "@jupyter-widgets/base",
      "model_module_version": "1.2.0",
      "model_name": "LayoutModel",
      "state": {
       "width": "85%"
      }
     },
     "480eb8f2e61541a38f57cca94eefc4a6": {
      "model_module": "@jupyter-widgets/controls",
      "model_module_version": "1.5.0",
      "model_name": "DescriptionStyleModel",
      "state": {
       "description_width": ""
      }
     },
     "493adbe81a794f0999329215ffb90c59": {
      "model_module": "@jupyter-widgets/controls",
      "model_module_version": "1.5.0",
      "model_name": "TextModel",
      "state": {
       "layout": "IPY_MODEL_4222f9ccd5cd41fab47d43b92675a84b",
       "placeholder": "example_WIT.png",
       "style": "IPY_MODEL_227c12b89382410994b00b8fd9f54ed4",
       "value": "example_WIT.png"
      }
     },
     "4aa6fe978f7f4edca717a1842aea06f5": {
      "model_module": "@jupyter-widgets/controls",
      "model_module_version": "1.5.0",
      "model_name": "HTMLModel",
      "state": {
       "layout": "IPY_MODEL_6ac1dd8ff5c0460a96f5203da95b760a",
       "style": "IPY_MODEL_3bf865286fb94faca1a869a668b74cd7",
       "value": "<b>Map Overlay:</b>"
      }
     },
     "4ace4a2538fb47d3ab5ed48091c16707": {
      "model_module": "@jupyter-widgets/controls",
      "model_module_version": "1.5.0",
      "model_name": "DescriptionStyleModel",
      "state": {
       "description_width": ""
      }
     },
     "547ecfda4d154cefb57b02358269f567": {
      "model_module": "@jupyter-widgets/base",
      "model_module_version": "1.2.0",
      "model_name": "LayoutModel",
      "state": {}
     },
     "5ed81fb162864b68a1ec09223498581b": {
      "model_module": "@jupyter-widgets/controls",
      "model_module_version": "1.5.0",
      "model_name": "DropdownModel",
      "state": {
       "_options_labels": [
        "None",
        "ESRI World Imagery",
        "Sentinel-2 Geomedian",
        "Water Observations from Space"
       ],
       "index": 0,
       "layout": "IPY_MODEL_ed9e3fc52f1e4a50beaa4d9f0d1fc735",
       "style": "IPY_MODEL_3bb9598eafcf4039ab5e248a445c6e59"
      }
     },
     "5f0fad5c1e0f4834821e52b19541b7ac": {
      "model_module": "@jupyter-widgets/base",
      "model_module_version": "1.2.0",
      "model_name": "LayoutModel",
      "state": {
       "grid_area": "widget003",
       "height": "auto",
       "width": "auto"
      }
     },
     "601c77d0c4ff4dc7abd798d4f0294b49": {
      "model_module": "@jupyter-widgets/controls",
      "model_module_version": "1.5.0",
      "model_name": "ButtonModel",
      "state": {
       "button_style": "info",
       "description": "Run",
       "layout": "IPY_MODEL_5f0fad5c1e0f4834821e52b19541b7ac",
       "style": "IPY_MODEL_a41dd4ef96934630872c7d6c2844a675"
      }
     },
     "635ef9ec2cc74e88a79be2987798728a": {
      "model_module": "@jupyter-widgets/output",
      "model_module_version": "1.0.0",
      "model_name": "OutputModel",
      "state": {
       "layout": "IPY_MODEL_9457a8b3ed5f4c628c2b8125af5e79e9"
      }
     },
     "6419f445ddfa4d9baaa5baff106680a4": {
      "model_module": "@jupyter-widgets/base",
      "model_module_version": "1.2.0",
      "model_name": "LayoutModel",
      "state": {}
     },
     "6863911b1c7b4b30940a640c7a7262a3": {
      "model_module": "@jupyter-widgets/controls",
      "model_module_version": "1.5.0",
      "model_name": "HTMLModel",
      "state": {
       "layout": "IPY_MODEL_fb2f3af334cd4ba89ebf8a14fb3ba670",
       "style": "IPY_MODEL_bf084dd246914d4e9f7d898b3e267e1c",
       "value": "<b>Output Plot:</b>"
      }
     },
     "6ac1dd8ff5c0460a96f5203da95b760a": {
      "model_module": "@jupyter-widgets/base",
      "model_module_version": "1.2.0",
      "model_name": "LayoutModel",
      "state": {}
     },
     "6f36ae22612b4e26a2829041bc00ab4a": {
      "model_module": "@jupyter-widgets/base",
      "model_module_version": "1.2.0",
      "model_name": "LayoutModel",
      "state": {
       "width": "85%"
      }
     },
     "70f44a7cbe984b129ac18dae5762b6ef": {
      "model_module": "@jupyter-widgets/base",
      "model_module_version": "1.2.0",
      "model_name": "LayoutModel",
      "state": {}
     },
     "748d073230ab4b58a5af51628a7ca23d": {
      "model_module": "@jupyter-widgets/base",
      "model_module_version": "1.2.0",
      "model_name": "LayoutModel",
      "state": {
       "width": "85%"
      }
     },
     "77b218dd1f9248cd8d3426822b3e0d3c": {
      "model_module": "@jupyter-widgets/base",
      "model_module_version": "1.2.0",
      "model_name": "LayoutModel",
      "state": {
       "grid_area": "widget001",
       "height": "100%",
       "margin": "0px 10px 10px 0px",
       "padding": "5px 5px 5px 5px",
       "width": "100%"
      }
     },
     "77b5d237e45b4b6bb6e6953ef68036bb": {
      "model_module": "@jupyter-widgets/controls",
      "model_module_version": "1.5.0",
      "model_name": "HTMLModel",
      "state": {
       "layout": "IPY_MODEL_6419f445ddfa4d9baaa5baff106680a4",
       "style": "IPY_MODEL_7ab38b14d75a40b18000e9c2605c3cf7",
       "value": "<b>End Date:</b>"
      }
     },
     "7ab38b14d75a40b18000e9c2605c3cf7": {
      "model_module": "@jupyter-widgets/controls",
      "model_module_version": "1.5.0",
      "model_name": "DescriptionStyleModel",
      "state": {
       "description_width": ""
      }
     },
     "7d25b1d9ddce401fa0e6016861fc380e": {
      "model_module": "@jupyter-widgets/base",
      "model_module_version": "1.2.0",
      "model_name": "LayoutModel",
      "state": {
       "width": "85%"
      }
     },
     "7ee0efb126ef413c8a267def74506859": {
      "model_module": "jupyter-leaflet",
      "model_module_version": "^0.14.0",
      "model_name": "LeafletMapModel",
      "state": {
       "_model_module_version": "^0.14.0",
       "_view_module_version": "^0.14.0",
       "bottom": 1294,
       "center": [
        4,
        20
       ],
       "controls": [
        "IPY_MODEL_f720948544d3423eaa37fae6429ca6c0",
        "IPY_MODEL_d2e8b7b98aa2498cb06445496346bb1e",
        "IPY_MODEL_b02994167778467481d4dbd699867996"
       ],
       "default_style": "IPY_MODEL_0ca9ca8460054e33baab5c83463bcb85",
       "dragging_style": "IPY_MODEL_c887593434654448ac94b2323f73955b",
       "east": 71.71875000000001,
       "fullscreen": false,
       "interpolation": "bilinear",
       "layers": [
        "IPY_MODEL_248b97f7e7fa4aa9bfad0297830444a9",
        "IPY_MODEL_fd6d9cd878d84f75b19ba5afd98a3175"
       ],
       "layout": "IPY_MODEL_3624fd09f2144b7d90dc3699039f9e6b",
       "left": 844,
       "modisdate": "yesterday",
       "north": 48.45835188280866,
       "options": [
        "bounce_at_zoom_limits",
        "box_zoom",
        "center",
        "close_popup_on_click",
        "double_click_zoom",
        "dragging",
        "fullscreen",
        "inertia",
        "inertia_deceleration",
        "inertia_max_speed",
        "interpolation",
        "keyboard",
        "keyboard_pan_offset",
        "keyboard_zoom_offset",
        "max_zoom",
        "min_zoom",
        "scroll_wheel_zoom",
        "tap",
        "tap_tolerance",
        "touch_zoom",
        "world_copy_jump",
        "zoom",
        "zoom_animation_threshold",
        "zoom_delta",
        "zoom_snap",
        "zoom_start"
       ],
       "right": 1432,
       "scroll_wheel_zoom": true,
       "south": -42.811521745097885,
       "style": "IPY_MODEL_9ddced346d3c4dc6971d3387744343de",
       "top": 708,
       "west": -31.640625000000004,
       "window_url": "https://sandbox.digitalearth.africa/user/caitlinadams/lab/tree/dev/deafrica-sandbox-notebooks/Real_world_examples/Wetlands_insight_tool.ipynb",
       "zoom": 3
      }
     },
     "7f2ad0ef92b0416d8ab6507aaa06b5bf": {
      "model_module": "@jupyter-widgets/controls",
      "model_module_version": "1.5.0",
      "model_name": "HBoxModel",
      "state": {
       "children": [
        "IPY_MODEL_a46a9583cf664b38bac5089e11dddb0a"
       ],
       "layout": "IPY_MODEL_dcd4c18d8f46407abda8617123407125"
      }
     },
     "7f4e1787c71f42b5afce699e484f220a": {
      "model_module": "@jupyter-widgets/controls",
      "model_module_version": "1.5.0",
      "model_name": "DescriptionStyleModel",
      "state": {
       "description_width": ""
      }
     },
     "8b7b2a1c4ab5454fb7cc7b0d5a15eeae": {
      "model_module": "@jupyter-widgets/controls",
      "model_module_version": "1.5.0",
      "model_name": "BoundedFloatTextModel",
      "state": {
       "layout": "IPY_MODEL_7d25b1d9ddce401fa0e6016861fc380e",
       "max": 1,
       "step": 0.05,
       "style": "IPY_MODEL_fbd6da45b35745abb35f662f956708c1"
      }
     },
     "9457a8b3ed5f4c628c2b8125af5e79e9": {
      "model_module": "@jupyter-widgets/base",
      "model_module_version": "1.2.0",
      "model_name": "LayoutModel",
      "state": {
       "grid_area": "widget007",
       "height": "100%",
       "margin": "0px 10px 10px 0px",
       "padding": "5px 5px 5px 5px",
       "width": "100%"
      }
     },
     "95a2405cec11451f9a68de5e4395061c": {
      "model_module": "@jupyter-widgets/controls",
      "model_module_version": "1.5.0",
      "model_name": "DescriptionStyleModel",
      "state": {
       "description_width": ""
      }
     },
     "9b5881e045144daeb23bd52e7d83a86f": {
      "model_module": "@jupyter-widgets/controls",
      "model_module_version": "1.5.0",
      "model_name": "DatePickerModel",
      "state": {
       "disabled": false,
       "layout": "IPY_MODEL_6f36ae22612b4e26a2829041bc00ab4a",
       "style": "IPY_MODEL_4ace4a2538fb47d3ab5ed48091c16707"
      }
     },
     "9b8311612bc44a9ca1bcb1a64de4c5d0": {
      "model_module": "@jupyter-widgets/base",
      "model_module_version": "1.2.0",
      "model_name": "LayoutModel",
      "state": {
       "width": "85%"
      }
     },
     "9c156f3d1f50468c83749587769e833a": {
      "model_module": "@jupyter-widgets/controls",
      "model_module_version": "1.5.0",
      "model_name": "DescriptionStyleModel",
      "state": {
       "description_width": ""
      }
     },
     "9ddced346d3c4dc6971d3387744343de": {
      "model_module": "jupyter-leaflet",
      "model_module_version": "^0.14.0",
      "model_name": "LeafletMapStyleModel",
      "state": {
       "_model_module_version": "^0.14.0"
      }
     },
     "a41dd4ef96934630872c7d6c2844a675": {
      "model_module": "@jupyter-widgets/controls",
      "model_module_version": "1.5.0",
      "model_name": "ButtonStyleModel",
      "state": {}
     },
     "a46a9583cf664b38bac5089e11dddb0a": {
      "model_module": "@jupyter-widgets/controls",
      "model_module_version": "1.5.0",
      "model_name": "GridBoxModel",
      "state": {
       "children": [
        "IPY_MODEL_05183ed950e844bebe30287ddbe8cc77",
        "IPY_MODEL_29333c1dcb384bb9b974a4dccc3f7fdb",
        "IPY_MODEL_601c77d0c4ff4dc7abd798d4f0294b49",
        "IPY_MODEL_360235c5feeb4e6eb525954bd90f331b",
        "IPY_MODEL_06d45477c5904dc3b90dd470ed9d33f4",
        "IPY_MODEL_7ee0efb126ef413c8a267def74506859",
        "IPY_MODEL_635ef9ec2cc74e88a79be2987798728a"
       ],
       "layout": "IPY_MODEL_0811404a99694ea88690ff0748d086af"
      }
     },
     "abdd79a70815490494539e7f96773ab0": {
      "model_module": "@jupyter-widgets/base",
      "model_module_version": "1.2.0",
      "model_name": "LayoutModel",
      "state": {
       "grid_area": "widget002",
       "height": "100%",
       "margin": "0px 10px 10px 0px",
       "padding": "5px 5px 5px 5px",
       "width": "100%"
      }
     },
     "b02994167778467481d4dbd699867996": {
      "model_module": "jupyter-leaflet",
      "model_module_version": "^0.14.0",
      "model_name": "LeafletDrawControlModel",
      "state": {
       "_model_module_version": "^0.14.0",
       "_view_module_version": "^0.14.0",
       "options": [
        "position"
       ],
       "polygon": {
        "allowIntersection": false,
        "drawError": {
         "color": "#FF6633",
         "message": "Drawing error, clear all and try again"
        },
        "shapeOptions": {
         "color": "#FFFFFF",
         "fillColor": "#336699",
         "fillOpacity": 0.4,
         "opacity": 0.8
        }
       },
       "polyline": {},
       "rectangle": {
        "shapeOptions": {
         "color": "#FFFFFF",
         "fillColor": "#336699",
         "fillOpacity": 0.4,
         "opacity": 0.8
        }
       }
      }
     },
     "b50477ebdb7e4be1b64117c0e8aeb0db": {
      "model_module": "@jupyter-widgets/base",
      "model_module_version": "1.2.0",
      "model_name": "LayoutModel",
      "state": {}
     },
     "bdb7175ebd5842d9860c0d6d982ac711": {
      "model_module": "@jupyter-widgets/base",
      "model_module_version": "1.2.0",
      "model_name": "LayoutModel",
      "state": {}
     },
     "bf084dd246914d4e9f7d898b3e267e1c": {
      "model_module": "@jupyter-widgets/controls",
      "model_module_version": "1.5.0",
      "model_name": "DescriptionStyleModel",
      "state": {
       "description_width": ""
      }
     },
     "c3519df66e1743b0bfd1696304d290f8": {
      "model_module": "@jupyter-widgets/controls",
      "model_module_version": "1.5.0",
      "model_name": "HTMLModel",
      "state": {
       "layout": "IPY_MODEL_3a410ddf306c4802b014021ecd5a363c",
       "style": "IPY_MODEL_1e4f79fae01a440486bcdd0e680c0b40",
       "value": "<b>Minimum Good Data:</b>"
      }
     },
     "c3617ac0f4584233a158c83f926861c0": {
      "model_module": "@jupyter-widgets/controls",
      "model_module_version": "1.5.0",
      "model_name": "TextModel",
      "state": {
       "layout": "IPY_MODEL_748d073230ab4b58a5af51628a7ca23d",
       "placeholder": "example_WIT.csv",
       "style": "IPY_MODEL_95a2405cec11451f9a68de5e4395061c",
       "value": "example_WIT.csv"
      }
     },
     "c5d8cae6349641afa275bb69c1f55f7e": {
      "model_module": "@jupyter-widgets/base",
      "model_module_version": "1.2.0",
      "model_name": "LayoutModel",
      "state": {
       "width": "85%"
      }
     },
     "c887593434654448ac94b2323f73955b": {
      "model_module": "jupyter-leaflet",
      "model_module_version": "^0.14.0",
      "model_name": "LeafletMapStyleModel",
      "state": {
       "_model_module_version": "^0.14.0",
       "cursor": "move"
      }
     },
     "cc9ec68f70934c7986927411be9be1de": {
      "model_module": "@jupyter-widgets/controls",
      "model_module_version": "1.5.0",
      "model_name": "DescriptionStyleModel",
      "state": {
       "description_width": ""
      }
     },
     "cf36fd9684574c85a9120e589aa711af": {
      "model_module": "@jupyter-widgets/controls",
      "model_module_version": "1.5.0",
      "model_name": "HTMLModel",
      "state": {
       "layout": "IPY_MODEL_136a5c34608044b3829160b1e6180407",
       "style": "IPY_MODEL_eade6b708fe741a8b72a08f9b68ea088",
       "value": "<b>Resampling Frequency:</b>"
      }
     },
     "d2e8b7b98aa2498cb06445496346bb1e": {
      "model_module": "jupyter-leaflet",
      "model_module_version": "^0.14.0",
      "model_name": "LeafletAttributionControlModel",
      "state": {
       "_model_module_version": "^0.14.0",
       "_view_module_version": "^0.14.0",
       "options": [
        "position",
        "prefix"
       ],
       "position": "bottomright",
       "prefix": "ipyleaflet"
      }
     },
     "dcd4c18d8f46407abda8617123407125": {
      "model_module": "@jupyter-widgets/base",
      "model_module_version": "1.2.0",
      "model_name": "LayoutModel",
      "state": {}
     },
     "dfea9e89050d4ab0be0fa6228a081ad6": {
      "model_module": "@jupyter-widgets/base",
      "model_module_version": "1.2.0",
      "model_name": "LayoutModel",
      "state": {}
     },
     "eade6b708fe741a8b72a08f9b68ea088": {
      "model_module": "@jupyter-widgets/controls",
      "model_module_version": "1.5.0",
      "model_name": "DescriptionStyleModel",
      "state": {
       "description_width": ""
      }
     },
     "ec509fa685484b538c33c93782dd12ae": {
      "model_module": "@jupyter-widgets/base",
      "model_module_version": "1.2.0",
      "model_name": "LayoutModel",
      "state": {}
     },
     "ed9e3fc52f1e4a50beaa4d9f0d1fc735": {
      "model_module": "@jupyter-widgets/base",
      "model_module_version": "1.2.0",
      "model_name": "LayoutModel",
      "state": {
       "width": "85%"
      }
     },
     "f720948544d3423eaa37fae6429ca6c0": {
      "model_module": "jupyter-leaflet",
      "model_module_version": "^0.14.0",
      "model_name": "LeafletZoomControlModel",
      "state": {
       "_model_module_version": "^0.14.0",
       "_view_module_version": "^0.14.0",
       "options": [
        "position",
        "zoom_in_text",
        "zoom_in_title",
        "zoom_out_text",
        "zoom_out_title"
       ]
      }
     },
     "fb2f3af334cd4ba89ebf8a14fb3ba670": {
      "model_module": "@jupyter-widgets/base",
      "model_module_version": "1.2.0",
      "model_name": "LayoutModel",
      "state": {}
     },
     "fbd6da45b35745abb35f662f956708c1": {
      "model_module": "@jupyter-widgets/controls",
      "model_module_version": "1.5.0",
      "model_name": "DescriptionStyleModel",
      "state": {
       "description_width": ""
      }
     },
     "fcf83f92e5e646129159297ce616cb70": {
      "model_module": "@jupyter-widgets/controls",
      "model_module_version": "1.5.0",
      "model_name": "DatePickerModel",
      "state": {
       "disabled": false,
       "layout": "IPY_MODEL_c5d8cae6349641afa275bb69c1f55f7e",
       "style": "IPY_MODEL_9c156f3d1f50468c83749587769e833a"
      }
     },
     "fd6d9cd878d84f75b19ba5afd98a3175": {
      "model_module": "jupyter-leaflet",
      "model_module_version": "^0.14.0",
      "model_name": "LeafletLayerGroupModel",
      "state": {
       "_model_module": "jupyter-leaflet",
       "_model_module_version": "^0.14.0",
       "_view_count": null,
       "_view_module": "jupyter-leaflet",
       "_view_module_version": "^0.14.0",
       "base": false,
       "bottom": false,
       "name": "Map Overlays",
       "options": [],
       "popup": null,
       "popup_max_height": null,
       "popup_max_width": 300,
       "popup_min_width": 50
      }
     }
    },
    "version_major": 2,
    "version_minor": 0
   }
  }
 },
 "nbformat": 4,
 "nbformat_minor": 4
}
