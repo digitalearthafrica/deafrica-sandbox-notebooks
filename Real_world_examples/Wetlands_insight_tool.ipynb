{
 "cells": [
  {
   "cell_type": "markdown",
   "metadata": {},
   "source": [
    "# Wetlands Insight Tool\n",
    "\n",
    "* **Products used:** \n",
    "[wofs_ls](https://explorer.digitalearth.africa/products/wofs_ls),\n",
    "[fc_ls](https://explorer.digitalearth.africa/products/fc_ls),\n",
    "[ls8_sr](https://explorer.digitalearth.africa/products/ls8_sr),\n",
    "[ls7_sr](https://explorer.digitalearth.africa/products/ls7_sr),\n",
    "[ls5_sr](https://explorer.digitalearth.africa/products/ls5_sr)"
   ]
  },
  {
   "cell_type": "raw",
   "metadata": {
    "raw_mimetype": "text/restructuredtext",
    "tags": []
   },
   "source": [
    "**Keywords**: :index:`data used; landsat 5`, :index:`data used; landsat 7`, :index:`data used; landsat 8`, :index:`data used; WOfS`, :index:`data used; fc_ls`, :index:`interactive`, :index:`analysis; Wetlands insight tool`, :index:`wetlands`"
   ]
  },
  {
   "cell_type": "markdown",
   "metadata": {},
   "source": [
    "## Background\n",
    "\n",
    "According to [Wetlands International](https://africa.wetlands.org/en/wetlands/what-are-wetlands/), Africa’s wetlands ecosystems are estimated to cover 131 million hectares, and include some of the most productive and biodiverse ecosystems in the world. They provide a host of ecosystem services that contribute to human well-being through nutrition, water supply and purification, climate and flood regulation, coastal protection, feeding and nesting sites for animals, recreational opportunities and increasingly, tourism.  As such, the health of wetland ecosystems has been identified as an important metric for the `Sustainable Development Goals` ([6.6.1 Change in the extent of water-related ecosystems over time](https://www.sdg6monitoring.org/indicator-661/)). \n",
    "\n",
    "The `Wetlands Insight Tool (WIT)` provides insights into a wetland's seasonal and interannual dynamics. WIT is a spatiotemporal summary of a wetland that combines multiple datasets derived from the Landsat archive held within DE Africa. `Fractional cover`, `WOfS`, and `Landsat surface reflectance` data are retrieved from DE Africa's ODC and combined to produce a stack plot describing the percentage of a wetland polygon as vegetation fractional cover, open water, and wet vegetation through time. The figure below (on the right) summaries the classification logic of the Wetlands Insight Tool.\n",
    "\n",
    "\n",
    "\n",
    "The animation below shows an example of WIT over Lake Korienze in Mali. The WIT plot shows the percentage of the region that is covered (in order) in open water, wet soil, green vegetation, dry vegetation, and bare soil \n",
    "\n",
    "Example of WIT over Lake Korienze, Mali | Classification logic of the Wetlands Insight Tool\n",
    "- | - \n",
    "<img src=\"../Supplementary_data/Wetlands_insight_tool/Lac_de_Korienze_WIT.gif\"/> | <img src=\"../Supplementary_data/Wetlands_insight_tool/WIT_logic.PNG\" width=550 >\n",
    "\n",
    "\n",
    "### Reference\n",
    "\n",
    "[Dunn et al. (2019)](https://ieeexplore.ieee.org/document/8897806) Developing a Tool for Wetland Characterization Using Fractional Cover, Tasseled Cap Wetness And Water Observations From Space\n",
    "\n",
    "\n",
    "\n",
    "\n",
    "## Description\n",
    "This interactive notebook will run the Wetlands Insight Tool for the area encompassed by a polygon drawn on the interactive map.\n",
    "\n",
    "1.  Set the parameters for the Wetlands Insight Tool\n",
    "2.  Draw a polygon using the interactive jupyter widget\n",
    "3.  Run the WIT tool, resulting in a stacked plot of fractional cover, wetness, and water\n",
    "\n",
    "## Instructions for running the application\n",
    "\n",
    "Make sure you read the `Analysis Parameters` section below so you undertand the different parameters of the Wetlands Insight Tool, then run the cell containing the `wit_app()` function to get started. \n",
    "\n",
    "Use the drop-down boxes to set the parameters, draw a polygon on the interactive map over the region of interest, and then hit the `Run` button to begin the anlaysis.  Print statements will appear on the right hand side of the app signifying the progress of the anlaysis. For more detailed progress indicators use the **Dask Dashboard hyperlink** that appears after you hit the run button. Note, depending on the size of the polygon drawn, and the length of time of the analysis, WIT can take a long time to run.  Once the analysis has finished, a stackplot will be plotted at the bottom of the application.\n",
    "\n",
    "If you wish to alter the parameters and re-run the analysis over the same polygon, simply change the parameters and hit the run button again (make sure the previous run has finished before you hit the run button a second time).\n",
    "\n",
    "If anything goes wrong with the interactvive widget and/or errors start printing on the right-hand side of the app, then restart the notebook kernel: **Kernel --> Restart Kernel and Clear All Outputs**\n",
    "\n",
    "***"
   ]
  },
  {
   "cell_type": "markdown",
   "metadata": {},
   "source": [
    "## Analysis Parameters"
   ]
  },
  {
   "cell_type": "markdown",
   "metadata": {},
   "source": [
    "* `Map Overlay`: A number of overlay map layers, which can help guide polygon drawing. Options include ESRI World Imagery, the 2020 Sentinel-2 Geomedian, or the 2020 WOfS annual frequency summary. This parameter defaults to 'None'.\n",
    "* `Start Date`: The starting date of the analysis, in format DD-MM-YYYY\n",
    "* `End Date`: The ending date of the analysis, in format DD-MM-YYYY\n",
    "* `Minimum Good Data`: A number between 0 and 1 (e.g. `0.85`) indicating the minimum percentage of good quality pixels required for a satellite observation to be loaded and therefore included in the WIT plot. **This number should, at a minimum, be set to 0.85 to limit biases in the result if not resampling the time-series**. If resampling the data using the parameter `Resample Frequency`, then setting this number to 0 (or a low float number) is acceptable.\n",
    "* `Resampling Frequency`: Option for resampling time-series of input datasets. This option is useful for either smoothing the WIT plot, or because the area of analysis is larger than a scene width and therefore requires composites. Options include any string accepted by `xarray.resample(time=)`; e.g. `1M` = 1 month, `3M` = 3 months, `Q-DEC` = quarterly starting in December. To turn off resampling set this parameter to `None`. **The resampling method used is .max()**, hence the resulting plots will show the _maximum extent_ of each variable during the resampled interval.\n",
    "* `Output CSV`: To output a .csv file with the values of the WIT plot, enter a file name e.g. `output_WIT.csv`\n",
    "* `Output Plot`: To output a .png copy of the WIT stackplot, enter a file name e.g. `output_WIT.png`"
   ]
  },
  {
   "cell_type": "code",
   "execution_count": 1,
   "metadata": {},
   "outputs": [
    {
     "name": "stderr",
     "output_type": "stream",
     "text": [
      "/env/lib/python3.8/site-packages/datacube/storage/masking.py:7: DeprecationWarning: datacube.storage.masking has moved to datacube.utils.masking\n",
      "  warnings.warn(\"datacube.storage.masking has moved to datacube.utils.masking\",\n"
     ]
    },
    {
     "data": {
      "application/vnd.jupyter.widget-view+json": {
       "model_id": "bdf5107b7118467d9edac302e2b412d4",
       "version_major": 2,
       "version_minor": 0
      },
      "text/plain": [
       "wit_app(children=(GridspecLayout(children=(HTML(value='<h3>Wetlands Insight Tool</h3><p>Select parameters and …"
      ]
     },
     "metadata": {},
     "output_type": "display_data"
    }
   ],
   "source": [
    "from deafrica_tools.app.wetlandsinsighttool import wit_app\n",
    "\n",
    "wit_app()"
   ]
  },
  {
   "cell_type": "markdown",
   "metadata": {
    "tags": []
   },
   "source": [
    "---\n",
    "\n",
    "## Additional information\n",
    "\n",
    "**License:** The code in this notebook is licensed under the [Apache License, Version 2.0](https://www.apache.org/licenses/LICENSE-2.0). \n",
    "Digital Earth Africa data is licensed under the [Creative Commons by Attribution 4.0](https://creativecommons.org/licenses/by/4.0/) license.\n",
    "\n",
    "**Contact:** If you need assistance, please post a question on the [Open Data Cube Slack channel](http://slack.opendatacube.org/) or on the [GIS Stack Exchange](https://gis.stackexchange.com/questions/ask?tags=open-data-cube) using the `open-data-cube` tag (you can view previously asked questions [here](https://gis.stackexchange.com/questions/tagged/open-data-cube)).\n",
    "If you would like to report an issue with this notebook, you can file one on [Github](https://github.com/digitalearthafrica/deafrica-sandbox-notebooks).\n",
    "\n",
    "**Compatible datacube version:**"
   ]
  },
  {
   "cell_type": "code",
   "execution_count": 2,
   "metadata": {},
   "outputs": [
    {
     "name": "stdout",
     "output_type": "stream",
     "text": [
      "1.8.6\n"
     ]
    }
   ],
   "source": [
    "import datacube\n",
    "print(datacube.__version__)"
   ]
  },
  {
   "cell_type": "markdown",
   "metadata": {},
   "source": [
    "**Last Tested:**"
   ]
  },
  {
   "cell_type": "code",
   "execution_count": 3,
   "metadata": {
    "raw_mimetype": "text/restructuredtext"
   },
   "outputs": [
    {
     "data": {
      "text/plain": [
       "'2021-11-03'"
      ]
     },
     "execution_count": 3,
     "metadata": {},
     "output_type": "execute_result"
    }
   ],
   "source": [
    "from datetime import datetime\n",
    "datetime.today().strftime('%Y-%m-%d')"
   ]
  }
 ],
 "metadata": {
  "kernelspec": {
   "display_name": "Python 3 (ipykernel)",
   "language": "python",
   "name": "python3"
  },
  "language_info": {
   "codemirror_mode": {
    "name": "ipython",
    "version": 3
   },
   "file_extension": ".py",
   "mimetype": "text/x-python",
   "name": "python",
   "nbconvert_exporter": "python",
   "pygments_lexer": "ipython3",
   "version": "3.8.10"
  },
  "widgets": {
   "application/vnd.jupyter.widget-state+json": {
    "state": {
     "00d10652001c45e9881d0db400ca6ac7": {
      "model_module": "jupyter-leaflet",
      "model_module_version": "^0.14.0",
      "model_name": "LeafletMapStyleModel",
      "state": {
       "_model_module_version": "^0.14.0"
      }
     },
     "03459c546a794fa68df29ef0b19e23b3": {
      "model_module": "jupyter-leaflet",
      "model_module_version": "^0.14.0",
      "model_name": "LeafletMapModel",
      "state": {
       "_model_module_version": "^0.14.0",
       "_view_module_version": "^0.14.0",
       "bottom": 2031,
       "center": [
        26.287822354121694,
        12.420043945312502
       ],
       "controls": [
        "IPY_MODEL_e22d38602ac54efcba168c487979159c",
        "IPY_MODEL_8e4842f911e5473eadb186ad45625bbe",
        "IPY_MODEL_d7649aa6645744de9999d0faaf2c6c2d"
       ],
       "default_style": "IPY_MODEL_6cf7daf2bb614101bda8eba63a10a0cb",
       "dragging_style": "IPY_MODEL_61fe8b927fc442308dd65c6a6561627a",
       "east": 32.78320312500001,
       "fullscreen": false,
       "interpolation": "bilinear",
       "layers": [
        "IPY_MODEL_44c3311b448b44f2938d70477bf60b85",
        "IPY_MODEL_e7603046a57342fa88b519ab15cfbf21"
       ],
       "layout": "IPY_MODEL_7a7325d77cbe4ec29a91711b4904aa6b",
       "left": 1958,
       "modisdate": "yesterday",
       "north": 46.73986059969267,
       "options": [
        "bounce_at_zoom_limits",
        "box_zoom",
        "center",
        "close_popup_on_click",
        "double_click_zoom",
        "dragging",
        "fullscreen",
        "inertia",
        "inertia_deceleration",
        "inertia_max_speed",
        "interpolation",
        "keyboard",
        "keyboard_pan_offset",
        "keyboard_zoom_offset",
        "max_zoom",
        "min_zoom",
        "scroll_wheel_zoom",
        "tap",
        "tap_tolerance",
        "touch_zoom",
        "world_copy_jump",
        "zoom",
        "zoom_animation_threshold",
        "zoom_delta",
        "zoom_snap",
        "zoom_start"
       ],
       "right": 2421,
       "scroll_wheel_zoom": true,
       "south": 1.4939713066293239,
       "style": "IPY_MODEL_6cf7daf2bb614101bda8eba63a10a0cb",
       "top": 1445,
       "west": -7.910156250000001,
       "window_url": "https://sandbox.digitalearth.africa/user/caitlinadams/lab/tree/dev/deafrica-sandbox-notebooks/Real_world_examples/Wetlands_insight_tool.ipynb",
       "zoom": 4
      }
     },
     "0720b5c659114de892d88b68647a54d4": {
      "model_module": "@jupyter-widgets/controls",
      "model_module_version": "1.5.0",
      "model_name": "DescriptionStyleModel",
      "state": {
       "description_width": ""
      }
     },
     "102f834b5a4d4f92a24ca6c30ee16206": {
      "model_module": "@jupyter-widgets/controls",
      "model_module_version": "1.5.0",
      "model_name": "DescriptionStyleModel",
      "state": {
       "description_width": ""
      }
     },
     "168cb3f7203441f399a2d0b66214bacd": {
      "model_module": "@jupyter-widgets/base",
      "model_module_version": "1.2.0",
      "model_name": "LayoutModel",
      "state": {}
     },
     "1f57b65283cf4c52af99d1fa772b8e37": {
      "model_module": "@jupyter-widgets/controls",
      "model_module_version": "1.5.0",
      "model_name": "ButtonStyleModel",
      "state": {}
     },
     "2024234bb0ef4b758d940d07a593666f": {
      "model_module": "@jupyter-widgets/controls",
      "model_module_version": "1.5.0",
      "model_name": "DatePickerModel",
      "state": {
       "disabled": false,
       "layout": "IPY_MODEL_cfdf2c7460b14837af7a2865eb9c8d38",
       "style": "IPY_MODEL_52185e7a174248eaa3b3c3439b57af1f"
      }
     },
     "25574c2f5e124e6f98feca6fbd26c9ce": {
      "model_module": "@jupyter-widgets/base",
      "model_module_version": "1.2.0",
      "model_name": "LayoutModel",
      "state": {}
     },
     "285c9a1579bf49869d18bcd9c12e17b4": {
      "model_module": "@jupyter-widgets/controls",
      "model_module_version": "1.5.0",
      "model_name": "VBoxModel",
      "state": {
       "children": [
        "IPY_MODEL_e81d048519f140b08f886894ed815279",
        "IPY_MODEL_c07bfe61745647f7bd1125f27a0da807",
        "IPY_MODEL_80ba54ed26c64de0a1c1a3de0fb0d977",
        "IPY_MODEL_2024234bb0ef4b758d940d07a593666f",
        "IPY_MODEL_f542ff808af2410bbf56b5ed34ba47ed",
        "IPY_MODEL_62931dbbfb2f49e5b9247e5fd32ed2fe",
        "IPY_MODEL_c1b85b729f214112886bcc8f83031613",
        "IPY_MODEL_8a67ec0a41ff44e4a03acc4cce7c22fb",
        "IPY_MODEL_479f407dbb8f465abf27907dfacea1c7",
        "IPY_MODEL_64508b2ce174474cbeae0b4fa1241d09",
        "IPY_MODEL_4f7a085fe3bd47b9833a064425a31a12",
        "IPY_MODEL_51f24c502bbf41b5a23f814aaa1134aa",
        "IPY_MODEL_7f63bfece4da4d8d975e5a3cc5ffbd85",
        "IPY_MODEL_fabcea579e4d4105ad92ed9dfbc23ad3"
       ],
       "layout": "IPY_MODEL_e11ddb00324647baae275545d12dd290"
      }
     },
     "2cbc2560431e4fde8b1e86c00ce722d5": {
      "model_module": "@jupyter-widgets/controls",
      "model_module_version": "1.5.0",
      "model_name": "DescriptionStyleModel",
      "state": {
       "description_width": ""
      }
     },
     "2da0c31518fa43bd9d139ecaa87833de": {
      "model_module": "@jupyter-widgets/controls",
      "model_module_version": "1.5.0",
      "model_name": "DescriptionStyleModel",
      "state": {
       "description_width": ""
      }
     },
     "2f93e2de82ce47ffa07c7769891bdc6c": {
      "model_module": "@jupyter-widgets/base",
      "model_module_version": "1.2.0",
      "model_name": "LayoutModel",
      "state": {
       "grid_template_areas": "\"widget001 widget001 widget001 widget001 widget001 widget001 widget001 widget001 widget001 widget001\"\n\"widget002 widget002 widget006 widget006 widget006 widget006 widget006 widget004 widget004 widget004\"\n\"widget002 widget002 widget006 widget006 widget006 widget006 widget006 widget005 widget005 widget005\"\n\"widget002 widget002 widget006 widget006 widget006 widget006 widget006 widget005 widget005 widget005\"\n\"widget002 widget002 widget006 widget006 widget006 widget006 widget006 widget005 widget005 widget005\"\n\"widget002 widget002 widget006 widget006 widget006 widget006 widget006 widget005 widget005 widget005\"\n\"widget003 widget003 widget006 widget006 widget006 widget006 widget006 widget005 widget005 widget005\"\n\"widget007 widget007 widget007 widget007 widget007 widget007 widget007 widget007 widget007 widget007\"\n\"widget007 widget007 widget007 widget007 widget007 widget007 widget007 widget007 widget007 widget007\"\n\"widget007 widget007 widget007 widget007 widget007 widget007 widget007 widget007 widget007 widget007\"\n\"widget007 widget007 widget007 widget007 widget007 widget007 widget007 widget007 widget007 widget007\"",
       "grid_template_columns": "repeat(10, 1fr)",
       "grid_template_rows": "repeat(11, 1fr)",
       "height": "1100px",
       "width": "auto"
      }
     },
     "339fae9041c649d8af9481ea0f91fbbb": {
      "model_module": "jupyter-leaflet",
      "model_module_version": "^0.14.0",
      "model_name": "LeafletWMSLayerModel",
      "state": {
       "_model_module_version": "^0.14.0",
       "_view_module_version": "^0.14.0",
       "attribution": "Digital Earth Africa",
       "crs": {
        "custom": false,
        "name": "EPSG3857"
       },
       "format": "image/png",
       "layers": "wofs_ls_summary_annual",
       "max_native_zoom": 18,
       "min_native_zoom": 0,
       "options": [
        "attribution",
        "detect_retina",
        "format",
        "layers",
        "max_native_zoom",
        "max_zoom",
        "min_native_zoom",
        "min_zoom",
        "no_wrap",
        "styles",
        "tile_size",
        "time",
        "tms",
        "transparent",
        "uppercase"
       ],
       "time": "2020-01-01",
       "transparent": true,
       "url": "https://ows.digitalearth.africa/"
      }
     },
     "39e57630199f46a39298725de69e71de": {
      "model_module": "@jupyter-widgets/output",
      "model_module_version": "1.0.0",
      "model_name": "OutputModel",
      "state": {
       "layout": "IPY_MODEL_7f932a98fda642a1a3fb3877926bacfa"
      }
     },
     "3ccb4c5a35de41cea7950dcdf2c25fef": {
      "model_module": "@jupyter-widgets/base",
      "model_module_version": "1.2.0",
      "model_name": "LayoutModel",
      "state": {
       "width": "85%"
      }
     },
     "3d45ff3a77ed4c52a39477f123798c0c": {
      "model_module": "@jupyter-widgets/base",
      "model_module_version": "1.2.0",
      "model_name": "LayoutModel",
      "state": {
       "grid_area": "widget003",
       "height": "auto",
       "width": "auto"
      }
     },
     "44c3311b448b44f2938d70477bf60b85": {
      "model_module": "jupyter-leaflet",
      "model_module_version": "^0.14.0",
      "model_name": "LeafletTileLayerModel",
      "state": {
       "_model_module_version": "^0.14.0",
       "_view_module_version": "^0.14.0",
       "base": true,
       "max_native_zoom": 18,
       "max_zoom": 19,
       "min_native_zoom": 0,
       "min_zoom": 1,
       "name": "Open Street Map",
       "options": [
        "attribution",
        "detect_retina",
        "max_native_zoom",
        "max_zoom",
        "min_native_zoom",
        "min_zoom",
        "no_wrap",
        "tile_size",
        "tms"
       ]
      }
     },
     "46976327acbc476cb27f755c36ba6f4b": {
      "model_module": "@jupyter-widgets/base",
      "model_module_version": "1.2.0",
      "model_name": "LayoutModel",
      "state": {}
     },
     "479f407dbb8f465abf27907dfacea1c7": {
      "model_module": "@jupyter-widgets/controls",
      "model_module_version": "1.5.0",
      "model_name": "HTMLModel",
      "state": {
       "layout": "IPY_MODEL_7966cd40ce1e49e594e9693565c9603a",
       "style": "IPY_MODEL_b8dcdb042c344ff99f357a22fab32825",
       "value": "<b>Resampling Frequency:</b>"
      }
     },
     "4ae91842da2b44cb9fc01eef6da48b71": {
      "model_module": "@jupyter-widgets/base",
      "model_module_version": "1.2.0",
      "model_name": "LayoutModel",
      "state": {
       "width": "85%"
      }
     },
     "4f7a085fe3bd47b9833a064425a31a12": {
      "model_module": "@jupyter-widgets/controls",
      "model_module_version": "1.5.0",
      "model_name": "HTMLModel",
      "state": {
       "layout": "IPY_MODEL_168cb3f7203441f399a2d0b66214bacd",
       "style": "IPY_MODEL_2cbc2560431e4fde8b1e86c00ce722d5",
       "value": "<b>Output CSV:</b>"
      }
     },
     "50ec9298dc7549b5b178ba97c0afd28f": {
      "model_module": "@jupyter-widgets/base",
      "model_module_version": "1.2.0",
      "model_name": "LayoutModel",
      "state": {
       "grid_area": "widget001",
       "height": "100%",
       "margin": "0px 10px 10px 0px",
       "padding": "5px 5px 5px 5px",
       "width": "100%"
      }
     },
     "51f24c502bbf41b5a23f814aaa1134aa": {
      "model_module": "@jupyter-widgets/controls",
      "model_module_version": "1.5.0",
      "model_name": "TextModel",
      "state": {
       "layout": "IPY_MODEL_3ccb4c5a35de41cea7950dcdf2c25fef",
       "placeholder": "example_WIT.csv",
       "style": "IPY_MODEL_a445fea7a4b24aad92db38ad3194a18c",
       "value": "example_WIT.csv"
      }
     },
     "52185e7a174248eaa3b3c3439b57af1f": {
      "model_module": "@jupyter-widgets/controls",
      "model_module_version": "1.5.0",
      "model_name": "DescriptionStyleModel",
      "state": {
       "description_width": ""
      }
     },
     "544d645897a04028bf77a839231b2073": {
      "model_module": "@jupyter-widgets/base",
      "model_module_version": "1.2.0",
      "model_name": "LayoutModel",
      "state": {
       "width": "85%"
      }
     },
     "5e89a09b1dac4c509f1432a7eb74f201": {
      "model_module": "@jupyter-widgets/base",
      "model_module_version": "1.2.0",
      "model_name": "LayoutModel",
      "state": {
       "grid_area": "widget004",
       "height": "100%",
       "margin": "0px 10px 10px 0px",
       "padding": "5px 5px 5px 5px",
       "width": "100%"
      }
     },
     "61c82abd4bb64d1cb18e7735b20f8d73": {
      "model_module": "@jupyter-widgets/controls",
      "model_module_version": "1.5.0",
      "model_name": "DescriptionStyleModel",
      "state": {
       "description_width": ""
      }
     },
     "61fe8b927fc442308dd65c6a6561627a": {
      "model_module": "jupyter-leaflet",
      "model_module_version": "^0.14.0",
      "model_name": "LeafletMapStyleModel",
      "state": {
       "_model_module_version": "^0.14.0",
       "cursor": "move"
      }
     },
     "62931dbbfb2f49e5b9247e5fd32ed2fe": {
      "model_module": "@jupyter-widgets/controls",
      "model_module_version": "1.5.0",
      "model_name": "DatePickerModel",
      "state": {
       "disabled": false,
       "layout": "IPY_MODEL_bf5149912f3e4e6b83fb4c80c564dea9",
       "style": "IPY_MODEL_e5115005508140da8eee7ee85765b013"
      }
     },
     "64508b2ce174474cbeae0b4fa1241d09": {
      "model_module": "@jupyter-widgets/controls",
      "model_module_version": "1.5.0",
      "model_name": "TextModel",
      "state": {
       "layout": "IPY_MODEL_4ae91842da2b44cb9fc01eef6da48b71",
       "placeholder": "1M",
       "style": "IPY_MODEL_9c0316b69712450ab1a897b9727bac16",
       "value": "1M"
      }
     },
     "6506caf2762745cb973fe35153968b30": {
      "model_module": "@jupyter-widgets/base",
      "model_module_version": "1.2.0",
      "model_name": "LayoutModel",
      "state": {}
     },
     "65d18ee4f0ab418da45061cbaa27af0c": {
      "model_module": "@jupyter-widgets/controls",
      "model_module_version": "1.5.0",
      "model_name": "ButtonModel",
      "state": {
       "button_style": "info",
       "description": "Run",
       "layout": "IPY_MODEL_3d45ff3a77ed4c52a39477f123798c0c",
       "style": "IPY_MODEL_1f57b65283cf4c52af99d1fa772b8e37"
      }
     },
     "6cf7daf2bb614101bda8eba63a10a0cb": {
      "model_module": "jupyter-leaflet",
      "model_module_version": "^0.14.0",
      "model_name": "LeafletMapStyleModel",
      "state": {
       "_model_module_version": "^0.14.0"
      }
     },
     "6d11a3f02bac4f188279d347d84d663b": {
      "model_module": "@jupyter-widgets/base",
      "model_module_version": "1.2.0",
      "model_name": "LayoutModel",
      "state": {}
     },
     "6e4a654f1fa44da88afa2c5491fd9b77": {
      "model_module": "jupyter-leaflet",
      "model_module_version": "^0.14.0",
      "model_name": "LeafletTileLayerModel",
      "state": {
       "_model_module_version": "^0.14.0",
       "_view_module_version": "^0.14.0",
       "attribution": "Tiles &copy; Esri &mdash; Source: Esri, i-cubed, USDA, USGS, AEX, GeoEye, Getmapping, Aerogrid, IGN, IGP, UPR-EGP, and the GIS User Community",
       "max_native_zoom": 18,
       "max_zoom": 20,
       "min_native_zoom": 0,
       "min_zoom": 1,
       "name": "Esri.WorldImagery",
       "options": [
        "attribution",
        "detect_retina",
        "max_native_zoom",
        "max_zoom",
        "min_native_zoom",
        "min_zoom",
        "no_wrap",
        "tile_size",
        "tms"
       ],
       "url": "http://server.arcgisonline.com/ArcGIS/rest/services/World_Imagery/MapServer/tile/{z}/{y}/{x}"
      }
     },
     "7966cd40ce1e49e594e9693565c9603a": {
      "model_module": "@jupyter-widgets/base",
      "model_module_version": "1.2.0",
      "model_name": "LayoutModel",
      "state": {}
     },
     "7a7325d77cbe4ec29a91711b4904aa6b": {
      "model_module": "@jupyter-widgets/base",
      "model_module_version": "1.2.0",
      "model_name": "LayoutModel",
      "state": {
       "grid_area": "widget006",
       "height": "100%",
       "margin": "0px 10px 10px 0px",
       "padding": "5px 5px 5px 5px",
       "width": "100%"
      }
     },
     "7f63bfece4da4d8d975e5a3cc5ffbd85": {
      "model_module": "@jupyter-widgets/controls",
      "model_module_version": "1.5.0",
      "model_name": "HTMLModel",
      "state": {
       "layout": "IPY_MODEL_de23524a21204fd6a97445c583479537",
       "style": "IPY_MODEL_61c82abd4bb64d1cb18e7735b20f8d73",
       "value": "<b>Output Plot:</b>"
      }
     },
     "7f932a98fda642a1a3fb3877926bacfa": {
      "model_module": "@jupyter-widgets/base",
      "model_module_version": "1.2.0",
      "model_name": "LayoutModel",
      "state": {
       "grid_area": "widget007",
       "height": "100%",
       "margin": "0px 10px 10px 0px",
       "padding": "5px 5px 5px 5px",
       "width": "100%"
      }
     },
     "80ba54ed26c64de0a1c1a3de0fb0d977": {
      "model_module": "@jupyter-widgets/controls",
      "model_module_version": "1.5.0",
      "model_name": "HTMLModel",
      "state": {
       "layout": "IPY_MODEL_8b2a8f2434a24eecbdb16b92e97e0dc0",
       "style": "IPY_MODEL_caea8447c7794ccc8765916c1948d5af",
       "value": "<b>Start Date:</b>"
      }
     },
     "819a0090fa5c41eea7b15d5e9f57789c": {
      "model_module": "@jupyter-widgets/output",
      "model_module_version": "1.0.0",
      "model_name": "OutputModel",
      "state": {
       "layout": "IPY_MODEL_5e89a09b1dac4c509f1432a7eb74f201"
      }
     },
     "8a67ec0a41ff44e4a03acc4cce7c22fb": {
      "model_module": "@jupyter-widgets/controls",
      "model_module_version": "1.5.0",
      "model_name": "BoundedFloatTextModel",
      "state": {
       "layout": "IPY_MODEL_a261ee0665544e82bd0ff7e9363d05d6",
       "max": 1,
       "step": 0.05,
       "style": "IPY_MODEL_bcd220bb735e4fabb4b431bf15d29d9c"
      }
     },
     "8b2a8f2434a24eecbdb16b92e97e0dc0": {
      "model_module": "@jupyter-widgets/base",
      "model_module_version": "1.2.0",
      "model_name": "LayoutModel",
      "state": {}
     },
     "8b9fa64e98434654aae2dd40671b93a3": {
      "model_module": "@jupyter-widgets/controls",
      "model_module_version": "1.5.0",
      "model_name": "DescriptionStyleModel",
      "state": {
       "description_width": ""
      }
     },
     "8e4842f911e5473eadb186ad45625bbe": {
      "model_module": "jupyter-leaflet",
      "model_module_version": "^0.14.0",
      "model_name": "LeafletAttributionControlModel",
      "state": {
       "_model_module_version": "^0.14.0",
       "_view_module_version": "^0.14.0",
       "options": [
        "position",
        "prefix"
       ],
       "position": "bottomright",
       "prefix": "ipyleaflet"
      }
     },
     "9c0316b69712450ab1a897b9727bac16": {
      "model_module": "@jupyter-widgets/controls",
      "model_module_version": "1.5.0",
      "model_name": "DescriptionStyleModel",
      "state": {
       "description_width": ""
      }
     },
     "9dd5334e42fe4b9c929470589c32d23b": {
      "model_module": "@jupyter-widgets/controls",
      "model_module_version": "1.5.0",
      "model_name": "HTMLModel",
      "state": {
       "layout": "IPY_MODEL_50ec9298dc7549b5b178ba97c0afd28f",
       "style": "IPY_MODEL_2da0c31518fa43bd9d139ecaa87833de",
       "value": "<h3>Wetlands Insight Tool</h3><p>Select parameters and AOI</p>"
      }
     },
     "9f49f94ab99a49d6af5d374fdc1e915a": {
      "model_module": "@jupyter-widgets/output",
      "model_module_version": "1.0.0",
      "model_name": "OutputModel",
      "state": {
       "layout": "IPY_MODEL_b735957e3c2d44d6aae2effea2bb6c97"
      }
     },
     "a261ee0665544e82bd0ff7e9363d05d6": {
      "model_module": "@jupyter-widgets/base",
      "model_module_version": "1.2.0",
      "model_name": "LayoutModel",
      "state": {
       "width": "85%"
      }
     },
     "a445fea7a4b24aad92db38ad3194a18c": {
      "model_module": "@jupyter-widgets/controls",
      "model_module_version": "1.5.0",
      "model_name": "DescriptionStyleModel",
      "state": {
       "description_width": ""
      }
     },
     "a61c020abb2e40909524328e3152b394": {
      "model_module": "@jupyter-widgets/controls",
      "model_module_version": "1.5.0",
      "model_name": "HTMLModel",
      "state": {
       "layout": "IPY_MODEL_6506caf2762745cb973fe35153968b30",
       "style": "IPY_MODEL_fb620094c76542b998867a7b64eee0e7"
      }
     },
     "b3d46c962aaa4bf1ad9a24b4b8680c4a": {
      "model_module": "@jupyter-widgets/controls",
      "model_module_version": "1.5.0",
      "model_name": "DescriptionStyleModel",
      "state": {
       "description_width": ""
      }
     },
     "b735957e3c2d44d6aae2effea2bb6c97": {
      "model_module": "@jupyter-widgets/base",
      "model_module_version": "1.2.0",
      "model_name": "LayoutModel",
      "state": {
       "grid_area": "widget005",
       "height": "100%",
       "margin": "0px 10px 10px 0px",
       "padding": "5px 5px 5px 5px",
       "width": "100%"
      }
     },
     "b8dcdb042c344ff99f357a22fab32825": {
      "model_module": "@jupyter-widgets/controls",
      "model_module_version": "1.5.0",
      "model_name": "DescriptionStyleModel",
      "state": {
       "description_width": ""
      }
     },
     "bcd220bb735e4fabb4b431bf15d29d9c": {
      "model_module": "@jupyter-widgets/controls",
      "model_module_version": "1.5.0",
      "model_name": "DescriptionStyleModel",
      "state": {
       "description_width": ""
      }
     },
     "bdf5107b7118467d9edac302e2b412d4": {
      "model_module": "@jupyter-widgets/controls",
      "model_module_version": "1.5.0",
      "model_name": "HBoxModel",
      "state": {
       "children": [
        "IPY_MODEL_cc6b7a957bc14d9b8c6339fc7b72f00f"
       ],
       "layout": "IPY_MODEL_e2fe169b50de4a8cb2a5c8ac4fa4faf4"
      }
     },
     "bf5149912f3e4e6b83fb4c80c564dea9": {
      "model_module": "@jupyter-widgets/base",
      "model_module_version": "1.2.0",
      "model_name": "LayoutModel",
      "state": {
       "width": "85%"
      }
     },
     "c07bfe61745647f7bd1125f27a0da807": {
      "model_module": "@jupyter-widgets/controls",
      "model_module_version": "1.5.0",
      "model_name": "DropdownModel",
      "state": {
       "_options_labels": [
        "None",
        "ESRI World Imagery",
        "Sentinel-2 Geomedian",
        "Water Observations from Space"
       ],
       "index": 3,
       "layout": "IPY_MODEL_f9330abb949944b6b91521b405a759d4",
       "style": "IPY_MODEL_0720b5c659114de892d88b68647a54d4"
      }
     },
     "c1b85b729f214112886bcc8f83031613": {
      "model_module": "@jupyter-widgets/controls",
      "model_module_version": "1.5.0",
      "model_name": "HTMLModel",
      "state": {
       "layout": "IPY_MODEL_c8e8149cfca540e99fee1a1a60058d4c",
       "style": "IPY_MODEL_b3d46c962aaa4bf1ad9a24b4b8680c4a",
       "value": "<b>Minimum Good Data:</b>"
      }
     },
     "c8e8149cfca540e99fee1a1a60058d4c": {
      "model_module": "@jupyter-widgets/base",
      "model_module_version": "1.2.0",
      "model_name": "LayoutModel",
      "state": {}
     },
     "caea8447c7794ccc8765916c1948d5af": {
      "model_module": "@jupyter-widgets/controls",
      "model_module_version": "1.5.0",
      "model_name": "DescriptionStyleModel",
      "state": {
       "description_width": ""
      }
     },
     "cb01746187534d089391d3a15364487e": {
      "model_module": "@jupyter-widgets/base",
      "model_module_version": "1.2.0",
      "model_name": "LayoutModel",
      "state": {}
     },
     "cc6b7a957bc14d9b8c6339fc7b72f00f": {
      "model_module": "@jupyter-widgets/controls",
      "model_module_version": "1.5.0",
      "model_name": "GridBoxModel",
      "state": {
       "children": [
        "IPY_MODEL_9dd5334e42fe4b9c929470589c32d23b",
        "IPY_MODEL_285c9a1579bf49869d18bcd9c12e17b4",
        "IPY_MODEL_65d18ee4f0ab418da45061cbaa27af0c",
        "IPY_MODEL_819a0090fa5c41eea7b15d5e9f57789c",
        "IPY_MODEL_9f49f94ab99a49d6af5d374fdc1e915a",
        "IPY_MODEL_03459c546a794fa68df29ef0b19e23b3",
        "IPY_MODEL_39e57630199f46a39298725de69e71de"
       ],
       "layout": "IPY_MODEL_2f93e2de82ce47ffa07c7769891bdc6c"
      }
     },
     "cfdf2c7460b14837af7a2865eb9c8d38": {
      "model_module": "@jupyter-widgets/base",
      "model_module_version": "1.2.0",
      "model_name": "LayoutModel",
      "state": {
       "width": "85%"
      }
     },
     "d438efe9f7954622a24e0a7d0b3e87ac": {
      "model_module": "jupyter-leaflet",
      "model_module_version": "^0.14.0",
      "model_name": "LeafletWMSLayerModel",
      "state": {
       "_model_module_version": "^0.14.0",
       "_view_module_version": "^0.14.0",
       "attribution": "Digital Earth Africa",
       "crs": {
        "custom": false,
        "name": "EPSG3857"
       },
       "format": "image/png",
       "layers": "gm_s2_annual",
       "max_native_zoom": 18,
       "min_native_zoom": 0,
       "options": [
        "attribution",
        "detect_retina",
        "format",
        "layers",
        "max_native_zoom",
        "max_zoom",
        "min_native_zoom",
        "min_zoom",
        "no_wrap",
        "styles",
        "tile_size",
        "time",
        "tms",
        "transparent",
        "uppercase"
       ],
       "time": "2020-01-01",
       "transparent": true,
       "url": "https://ows.digitalearth.africa/"
      }
     },
     "d7649aa6645744de9999d0faaf2c6c2d": {
      "model_module": "jupyter-leaflet",
      "model_module_version": "^0.14.0",
      "model_name": "LeafletDrawControlModel",
      "state": {
       "_model_module_version": "^0.14.0",
       "_view_module_version": "^0.14.0",
       "options": [
        "position"
       ],
       "polygon": {
        "allowIntersection": false,
        "drawError": {
         "color": "#FF6633",
         "message": "Drawing error, clear all and try again"
        },
        "shapeOptions": {
         "color": "#FFFFFF",
         "fillColor": "#336699",
         "fillOpacity": 0.4,
         "opacity": 0.8
        }
       },
       "polyline": {},
       "rectangle": {
        "shapeOptions": {
         "color": "#FFFFFF",
         "fillColor": "#336699",
         "fillOpacity": 0.4,
         "opacity": 0.8
        }
       }
      }
     },
     "de23524a21204fd6a97445c583479537": {
      "model_module": "@jupyter-widgets/base",
      "model_module_version": "1.2.0",
      "model_name": "LayoutModel",
      "state": {}
     },
     "e11ddb00324647baae275545d12dd290": {
      "model_module": "@jupyter-widgets/base",
      "model_module_version": "1.2.0",
      "model_name": "LayoutModel",
      "state": {
       "grid_area": "widget002",
       "height": "100%",
       "margin": "0px 10px 10px 0px",
       "padding": "5px 5px 5px 5px",
       "width": "100%"
      }
     },
     "e22d38602ac54efcba168c487979159c": {
      "model_module": "jupyter-leaflet",
      "model_module_version": "^0.14.0",
      "model_name": "LeafletZoomControlModel",
      "state": {
       "_model_module_version": "^0.14.0",
       "_view_module_version": "^0.14.0",
       "options": [
        "position",
        "zoom_in_text",
        "zoom_in_title",
        "zoom_out_text",
        "zoom_out_title"
       ]
      }
     },
     "e2fe169b50de4a8cb2a5c8ac4fa4faf4": {
      "model_module": "@jupyter-widgets/base",
      "model_module_version": "1.2.0",
      "model_name": "LayoutModel",
      "state": {}
     },
     "e5115005508140da8eee7ee85765b013": {
      "model_module": "@jupyter-widgets/controls",
      "model_module_version": "1.5.0",
      "model_name": "DescriptionStyleModel",
      "state": {
       "description_width": ""
      }
     },
     "e7603046a57342fa88b519ab15cfbf21": {
      "model_module": "jupyter-leaflet",
      "model_module_version": "^0.14.0",
      "model_name": "LeafletLayerGroupModel",
      "state": {
       "_model_module": "jupyter-leaflet",
       "_model_module_version": "^0.14.0",
       "_view_count": null,
       "_view_module": "jupyter-leaflet",
       "_view_module_version": "^0.14.0",
       "base": false,
       "bottom": false,
       "layers": [
        "IPY_MODEL_339fae9041c649d8af9481ea0f91fbbb"
       ],
       "name": "Map Overlays",
       "options": [],
       "popup": null,
       "popup_max_height": null,
       "popup_max_width": 300,
       "popup_min_width": 50
      }
     },
     "e81d048519f140b08f886894ed815279": {
      "model_module": "@jupyter-widgets/controls",
      "model_module_version": "1.5.0",
      "model_name": "HTMLModel",
      "state": {
       "layout": "IPY_MODEL_6d11a3f02bac4f188279d347d84d663b",
       "style": "IPY_MODEL_102f834b5a4d4f92a24ca6c30ee16206",
       "value": "<b>Map Overlay:</b>"
      }
     },
     "e8bdb038d85441b0ad31eb670e4e409c": {
      "model_module": "@jupyter-widgets/controls",
      "model_module_version": "1.5.0",
      "model_name": "DescriptionStyleModel",
      "state": {
       "description_width": ""
      }
     },
     "f542ff808af2410bbf56b5ed34ba47ed": {
      "model_module": "@jupyter-widgets/controls",
      "model_module_version": "1.5.0",
      "model_name": "HTMLModel",
      "state": {
       "layout": "IPY_MODEL_46976327acbc476cb27f755c36ba6f4b",
       "style": "IPY_MODEL_e8bdb038d85441b0ad31eb670e4e409c",
       "value": "<b>End Date:</b>"
      }
     },
     "f9330abb949944b6b91521b405a759d4": {
      "model_module": "@jupyter-widgets/base",
      "model_module_version": "1.2.0",
      "model_name": "LayoutModel",
      "state": {
       "width": "85%"
      }
     },
     "fabad1e4bc0f4a028a86ac482ecc7a4b": {
      "model_module": "@jupyter-widgets/base",
      "model_module_version": "1.2.0",
      "model_name": "LayoutModel",
      "state": {}
     },
     "fabcea579e4d4105ad92ed9dfbc23ad3": {
      "model_module": "@jupyter-widgets/controls",
      "model_module_version": "1.5.0",
      "model_name": "TextModel",
      "state": {
       "layout": "IPY_MODEL_544d645897a04028bf77a839231b2073",
       "placeholder": "example_WIT.png",
       "style": "IPY_MODEL_8b9fa64e98434654aae2dd40671b93a3",
       "value": "example_WIT.png"
      }
     },
     "fb620094c76542b998867a7b64eee0e7": {
      "model_module": "@jupyter-widgets/controls",
      "model_module_version": "1.5.0",
      "model_name": "DescriptionStyleModel",
      "state": {
       "description_width": ""
      }
     }
    },
    "version_major": 2,
    "version_minor": 0
   }
  }
 },
 "nbformat": 4,
 "nbformat_minor": 4
}
