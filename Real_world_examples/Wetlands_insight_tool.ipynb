{
 "cells": [
  {
   "cell_type": "markdown",
   "metadata": {},
   "source": [
    "# Wetlands Insight Tool\n",
    "\n",
    "* **Products used:** \n",
    "[wofs_ls](https://explorer.digitalearth.africa/products/wofs_ls),\n",
    "[fc_ls](https://explorer.digitalearth.africa/products/fc_ls),\n",
    "[ls8_sr](https://explorer.digitalearth.africa/products/ls8_sr),\n",
    "[ls7_sr](https://explorer.digitalearth.africa/products/ls7_sr),\n",
    "[ls5_sr](https://explorer.digitalearth.africa/products/ls5_sr)"
   ]
  },
  {
   "cell_type": "raw",
   "metadata": {
    "raw_mimetype": "text/restructuredtext",
    "tags": []
   },
   "source": [
    "**Keywords**: :index:`data used; landsat 5`, :index:`data used; landsat 7`, :index:`data used; landsat 8`, :index:`data used; WOfS`, :index:`data used; fc_ls`, :index:`interactive`, :index:`analysis; Wetlands insight tool`, :index:`wetlands`"
   ]
  },
  {
   "cell_type": "markdown",
   "metadata": {},
   "source": [
    "## Background\n",
    "\n",
    "According to [Wetlands International](https://africa.wetlands.org/en/wetlands/what-are-wetlands/), Africa’s wetlands ecosystems are estimated to cover 131 million hectares, and include some of the most productive and biodiverse ecosystems in the world. They provide a host of ecosystem services that contribute to human well-being through nutrition, water supply and purification, climate and flood regulation, coastal protection, feeding and nesting sites for animals, recreational opportunities and increasingly, tourism.  As such, the health of wetland ecosystems has been identified as an important metric for the `Sustainable Development Goals` ([6.6.1 Change in the extent of water-related ecosystems over time](https://www.sdg6monitoring.org/indicator-661/)). \n",
    "\n",
    "The `Wetlands Insight Tool (WIT)` provides insights into a wetland's seasonal and interannual dynamics. WIT is a spatiotemporal summary of a wetland that combines multiple datasets derived from the Landsat archive held within DE Africa. `Fractional cover`, `WOfS`, and `Landsat surface reflectance` data are retrieved from DE Africa's ODC and combined to produce a stack plot describing the percentage of a wetland polygon as vegetation fractional cover, open water, and wet vegetation through time. The figure below (on the right) summaries the classification logic of the Wetlands Insight Tool.\n",
    "\n",
    "\n",
    "\n",
    "The animation below shows an example of WIT over Lake Korienze in Mali. The WIT plot shows the percentage of the region that is covered (in order) in open water, wet soil, green vegetation, dry vegetation, and bare soil \n",
    "\n",
    "Example of WIT over Lake Korienze, Mali | Classification logic of the Wetlands Insight Tool\n",
    "- | - \n",
    "<img src=\"../Supplementary_data/Wetlands_insight_tool/Lac_de_Korienze_WIT.gif\"/> | <img src=\"../Supplementary_data/Wetlands_insight_tool/WIT_logic.PNG\" width=550 >\n",
    "\n",
    "\n",
    "### Reference\n",
    "\n",
    "[Dunn et al. (2019)](https://ieeexplore.ieee.org/document/8897806) Developing a Tool for Wetland Characterization Using Fractional Cover, Tasseled Cap Wetness And Water Observations From Space\n",
    "\n",
    "\n",
    "\n",
    "\n",
    "## Description\n",
    "This interactive notebook will run the Wetlands Insight Tool for the area encompassed by a polygon drawn on the interactive map.\n",
    "\n",
    "1.  Set the parameters for the Wetlands Insight Tool\n",
    "2.  Draw a polygon using the interactive jupyter widget\n",
    "3.  Run the WIT tool, resulting in a stacked plot of fractional cover, wetness, and water\n",
    "\n",
    "## Instructions for running the application\n",
    "\n",
    "Make sure you read the `Analysis Parameters` section below so you undertand the different parameters of the Wetlands Insight Tool, then run the cell containing the `wit_app()` function to get started. \n",
    "\n",
    "Use the drop-down boxes to set the parameters, draw a polygon on the interactive map over the region of interest, and then hit the `Run` button to begin the anlaysis.  Print statements will appear on the right hand side of the app signifying the progress of the anlaysis. For more detailed progress indicators use the **Dask Dashboard hyperlink** that appears after you hit the run button. Note, depending on the size of the polygon drawn, and the length of time of the analysis, WIT can take a long time to run.  Once the analysis has finished, a stackplot will be plotted at the bottom of the application.\n",
    "\n",
    "If you wish to alter the parameters and re-run the analysis over the same polygon, simply change the parameters and hit the run button again (make sure the previous run has finished before you hit the run button a second time).\n",
    "\n",
    "If anything goes wrong with the interactvive widget and/or errors start printing on the right-hand side of the app, then restart the notebook kernel: **Kernel --> Restart Kernel and Clear All Outputs**\n",
    "\n",
    "***"
   ]
  },
  {
   "cell_type": "markdown",
   "metadata": {},
   "source": [
    "## Analysis Parameters"
   ]
  },
  {
   "cell_type": "markdown",
   "metadata": {},
   "source": [
    "* `Map Overlay`: A number of overlay map layers, which can help guide polygon drawing. Options include ESRI World Imagery, the 2020 Sentinel-2 Geomedian, or the 2020 WOfS annual frequency summary. This parameter defaults to 'None'.\n",
    "* `Start Date`: The starting date of the analysis, in format DD-MM-YYYY\n",
    "* `End Date`: The ending date of the analysis, in format DD-MM-YYYY\n",
    "* `Minimum Good Data`: A number between 0 and 1 (e.g. `0.85`) indicating the minimum percentage of good quality pixels required for a satellite observation to be loaded and therefore included in the WIT plot. **This number should, at a minimum, be set to 0.85 to limit biases in the result if not resampling the time-series**. If resampling the data using the parameter `Resample Frequency`, then setting this number to 0 (or a low float number) is acceptable.\n",
    "* `Resampling Frequency`: Option for resampling time-series of input datasets. This option is useful for either smoothing the WIT plot, or because the area of analysis is larger than a scene width and therefore requires composites. Options include any string accepted by `xarray.resample(time=)`; e.g. `1M` = 1 month, `3M` = 3 months, `Q-DEC` = quarterly starting in December. To turn off resampling set this parameter to `None`. **The resampling method used is .max()**, hence the resulting plots will show the _maximum extent_ of each variable during the resampled interval.\n",
    "* `Output CSV`: To output a .csv file with the values of the WIT plot, enter a file name e.g. `output_WIT.csv`\n",
    "* `Output Plot`: To output a .png copy of the WIT stackplot, enter a file name e.g. `output_WIT.png`"
   ]
  },
  {
   "cell_type": "code",
   "execution_count": 1,
   "metadata": {},
   "outputs": [
    {
     "data": {
      "application/vnd.jupyter.widget-view+json": {
       "model_id": "2aeb69e2783940e6bf6ee17b27a23aff",
       "version_major": 2,
       "version_minor": 0
      },
      "text/plain": [
       "wit_app(children=(GridspecLayout(children=(HTML(value='<h3>Wetlands Insight Tool</h3><p>Select parameters and …"
      ]
     },
     "execution_count": 1,
     "metadata": {},
     "output_type": "execute_result"
    }
   ],
   "source": [
    "from deafrica_tools.app.wetlandsinsighttool import wit_app\n",
    "\n",
    "wit_app()"
   ]
  },
  {
   "cell_type": "markdown",
   "metadata": {
    "tags": []
   },
   "source": [
    "---\n",
    "\n",
    "## Additional information\n",
    "\n",
    "**License:** The code in this notebook is licensed under the [Apache License, Version 2.0](https://www.apache.org/licenses/LICENSE-2.0). \n",
    "Digital Earth Africa data is licensed under the [Creative Commons by Attribution 4.0](https://creativecommons.org/licenses/by/4.0/) license.\n",
    "\n",
    "**Contact:** If you need assistance, please post a question on the [Open Data Cube Slack channel](http://slack.opendatacube.org/) or on the [GIS Stack Exchange](https://gis.stackexchange.com/questions/ask?tags=open-data-cube) using the `open-data-cube` tag (you can view previously asked questions [here](https://gis.stackexchange.com/questions/tagged/open-data-cube)).\n",
    "If you would like to report an issue with this notebook, you can file one on [Github](https://github.com/digitalearthafrica/deafrica-sandbox-notebooks).\n",
    "\n",
    "**Compatible datacube version:**"
   ]
  },
  {
   "cell_type": "code",
   "execution_count": 2,
   "metadata": {},
   "outputs": [
    {
     "name": "stdout",
     "output_type": "stream",
     "text": [
      "1.8.12\n"
     ]
    }
   ],
   "source": [
    "import datacube\n",
    "print(datacube.__version__)"
   ]
  },
  {
   "cell_type": "markdown",
   "metadata": {},
   "source": [
    "**Last Tested:**"
   ]
  },
  {
   "cell_type": "code",
   "execution_count": 3,
   "metadata": {
    "raw_mimetype": "text/restructuredtext"
   },
   "outputs": [
    {
     "data": {
      "text/plain": [
       "'2023-05-03'"
      ]
     },
     "execution_count": 3,
     "metadata": {},
     "output_type": "execute_result"
    }
   ],
   "source": [
    "from datetime import datetime\n",
    "datetime.today().strftime('%Y-%m-%d')"
   ]
  }
 ],
 "metadata": {
  "kernelspec": {
   "display_name": "Python 3 (ipykernel)",
   "language": "python",
   "name": "python3"
  },
  "language_info": {
   "codemirror_mode": {
    "name": "ipython",
    "version": 3
   },
   "file_extension": ".py",
   "mimetype": "text/x-python",
   "name": "python",
   "nbconvert_exporter": "python",
   "pygments_lexer": "ipython3",
   "version": "3.10.6"
  },
  "widgets": {
   "application/vnd.jupyter.widget-state+json": {
    "state": {
     "0157cb15001f44898d0ec0ce9a7b7885": {
      "model_module": "@jupyter-widgets/controls",
      "model_module_version": "1.5.0",
      "model_name": "DescriptionStyleModel",
      "state": {
       "description_width": ""
      }
     },
     "0627f07573ff4561b543f2c95370efc2": {
      "model_module": "@jupyter-widgets/base",
      "model_module_version": "1.2.0",
      "model_name": "LayoutModel",
      "state": {}
     },
     "09c7152331474a84a2ebfb2766ab287f": {
      "model_module": "@jupyter-widgets/controls",
      "model_module_version": "1.5.0",
      "model_name": "HTMLModel",
      "state": {
       "layout": "IPY_MODEL_454486b2ffb24a4fbd2e48da03773018",
       "style": "IPY_MODEL_25ed011908184500bbbf8749bf09a60c",
       "value": "<h3>Wetlands Insight Tool</h3><p>Select parameters and AOI</p>"
      }
     },
     "0b973f339c5346849d41db2962c8f620": {
      "model_module": "@jupyter-widgets/controls",
      "model_module_version": "1.5.0",
      "model_name": "DescriptionStyleModel",
      "state": {
       "description_width": ""
      }
     },
     "0baf327c6d0449f294bfd1950e659bb0": {
      "model_module": "jupyter-leaflet",
      "model_module_version": "^0.14.0",
      "model_name": "LeafletAttributionControlModel",
      "state": {
       "_model_module_version": "^0.14.0",
       "_view_module_version": "^0.14.0",
       "options": [
        "position",
        "prefix"
       ],
       "position": "bottomright",
       "prefix": "ipyleaflet"
      }
     },
     "0e3f33dfa32d4e2cb671a274b1395c24": {
      "model_module": "@jupyter-widgets/controls",
      "model_module_version": "1.5.0",
      "model_name": "DescriptionStyleModel",
      "state": {
       "description_width": ""
      }
     },
     "1968dd93d8f64330b6322d8049aaa9a3": {
      "model_module": "@jupyter-widgets/base",
      "model_module_version": "1.2.0",
      "model_name": "LayoutModel",
      "state": {
       "grid_area": "widget002",
       "height": "100%",
       "margin": "0px 10px 10px 0px",
       "padding": "5px 5px 5px 5px",
       "width": "100%"
      }
     },
     "217e5afb344344f1a0a1e14db3d0e9c1": {
      "model_module": "@jupyter-widgets/base",
      "model_module_version": "1.2.0",
      "model_name": "LayoutModel",
      "state": {
       "grid_area": "widget004",
       "height": "100%",
       "margin": "0px 10px 10px 0px",
       "padding": "5px 5px 5px 5px",
       "width": "100%"
      }
     },
     "25ed011908184500bbbf8749bf09a60c": {
      "model_module": "@jupyter-widgets/controls",
      "model_module_version": "1.5.0",
      "model_name": "DescriptionStyleModel",
      "state": {
       "description_width": ""
      }
     },
     "2782c32341054f1282026ecc6df210d7": {
      "model_module": "@jupyter-widgets/controls",
      "model_module_version": "1.5.0",
      "model_name": "HTMLModel",
      "state": {
       "layout": "IPY_MODEL_cdde2fc3c36740bba6357ebd719d66d7",
       "style": "IPY_MODEL_0e3f33dfa32d4e2cb671a274b1395c24",
       "value": "<b>Map Overlay:</b>"
      }
     },
     "2be04c84653a47968844713ad6d10850": {
      "model_module": "jupyter-leaflet",
      "model_module_version": "^0.14.0",
      "model_name": "LeafletMapModel",
      "state": {
       "_model_module_version": "^0.14.0",
       "_view_module_version": "^0.14.0",
       "bottom": 1294,
       "center": [
        4,
        20
       ],
       "controls": [
        "IPY_MODEL_3b545ab9c3fb402db3dd5f33deec9344",
        "IPY_MODEL_0baf327c6d0449f294bfd1950e659bb0",
        "IPY_MODEL_886d6db53b164f65996b986850f2339c"
       ],
       "default_style": "IPY_MODEL_8b3bff6167fc4ea4b082abc4ef1e0e1e",
       "dragging_style": "IPY_MODEL_f02bb27e268a41b6a12786a8b3a4ab17",
       "east": 69.25781250000001,
       "fullscreen": false,
       "interpolation": "bilinear",
       "layers": [
        "IPY_MODEL_b4c0daaaa3364a88b8b2a908f1a12e18",
        "IPY_MODEL_2fe2dccd4aab4e8aaca8ebb8d124f91b"
       ],
       "layout": "IPY_MODEL_91fb5b7667734552b42bb3c5c29a5aa4",
       "left": 857,
       "modisdate": "yesterday",
       "north": 48.45835188280866,
       "options": [
        "bounce_at_zoom_limits",
        "box_zoom",
        "center",
        "close_popup_on_click",
        "double_click_zoom",
        "dragging",
        "fullscreen",
        "inertia",
        "inertia_deceleration",
        "inertia_max_speed",
        "interpolation",
        "keyboard",
        "keyboard_pan_offset",
        "keyboard_zoom_offset",
        "max_zoom",
        "min_zoom",
        "scroll_wheel_zoom",
        "tap",
        "tap_tolerance",
        "touch_zoom",
        "world_copy_jump",
        "zoom",
        "zoom_animation_threshold",
        "zoom_delta",
        "zoom_snap",
        "zoom_start"
       ],
       "right": 1418,
       "scroll_wheel_zoom": true,
       "south": -42.811521745097885,
       "style": "IPY_MODEL_c62e877f0dea43a885524d4e86c647cf",
       "top": 708,
       "west": -29.355468750000004,
       "window_url": "https://sandbox.digitalearth.africa/user/ahicks/lab/tree/dev/deafrica-sandbox-notebooks/Real_world_examples/Wetlands_insight_tool.ipynb",
       "zoom": 3
      }
     },
     "2fe2dccd4aab4e8aaca8ebb8d124f91b": {
      "model_module": "jupyter-leaflet",
      "model_module_version": "^0.14.0",
      "model_name": "LeafletLayerGroupModel",
      "state": {
       "_model_module": "jupyter-leaflet",
       "_model_module_version": "^0.14.0",
       "_view_count": null,
       "_view_module": "jupyter-leaflet",
       "_view_module_version": "^0.14.0",
       "base": false,
       "bottom": false,
       "name": "Map Overlays",
       "options": [],
       "popup": null,
       "popup_max_height": null,
       "popup_max_width": 300,
       "popup_min_width": 50
      }
     },
     "31035335f032466aaae11ec53e75dd42": {
      "model_module": "@jupyter-widgets/controls",
      "model_module_version": "1.5.0",
      "model_name": "DescriptionStyleModel",
      "state": {
       "description_width": ""
      }
     },
     "353967583a2343e0803f0f2fb70d2259": {
      "model_module": "@jupyter-widgets/controls",
      "model_module_version": "1.5.0",
      "model_name": "DescriptionStyleModel",
      "state": {
       "description_width": ""
      }
     },
     "3b545ab9c3fb402db3dd5f33deec9344": {
      "model_module": "jupyter-leaflet",
      "model_module_version": "^0.14.0",
      "model_name": "LeafletZoomControlModel",
      "state": {
       "_model_module_version": "^0.14.0",
       "_view_module_version": "^0.14.0",
       "options": [
        "position",
        "zoom_in_text",
        "zoom_in_title",
        "zoom_out_text",
        "zoom_out_title"
       ]
      }
     },
     "454486b2ffb24a4fbd2e48da03773018": {
      "model_module": "@jupyter-widgets/base",
      "model_module_version": "1.2.0",
      "model_name": "LayoutModel",
      "state": {
       "grid_area": "widget001",
       "height": "100%",
       "margin": "0px 10px 10px 0px",
       "padding": "5px 5px 5px 5px",
       "width": "100%"
      }
     },
     "4b3f6ae221d545e182cb5e5c92fd346c": {
      "model_module": "@jupyter-widgets/controls",
      "model_module_version": "1.5.0",
      "model_name": "DescriptionStyleModel",
      "state": {
       "description_width": ""
      }
     },
     "4c551270560545a895c14be6b59c650f": {
      "model_module": "@jupyter-widgets/base",
      "model_module_version": "1.2.0",
      "model_name": "LayoutModel",
      "state": {
       "width": "85%"
      }
     },
     "52ef47802eb54578beec843a600ce719": {
      "model_module": "@jupyter-widgets/controls",
      "model_module_version": "1.5.0",
      "model_name": "DatePickerModel",
      "state": {
       "disabled": false,
       "layout": "IPY_MODEL_ba77c5745cb748f69212206b5144dbbf",
       "style": "IPY_MODEL_82b4c9e0004344038d694436b8abd3a4"
      }
     },
     "6c39514bce3042babe9b3fbb934c0e36": {
      "model_module": "@jupyter-widgets/base",
      "model_module_version": "1.2.0",
      "model_name": "LayoutModel",
      "state": {
       "grid_area": "widget003",
       "height": "auto",
       "width": "auto"
      }
     },
     "6f8404d7d03840df917b335cc7074759": {
      "model_module": "@jupyter-widgets/controls",
      "model_module_version": "1.5.0",
      "model_name": "DescriptionStyleModel",
      "state": {
       "description_width": ""
      }
     },
     "6fc2bacf9e3c44bf8296c16551bf27c7": {
      "model_module": "@jupyter-widgets/base",
      "model_module_version": "1.2.0",
      "model_name": "LayoutModel",
      "state": {}
     },
     "6fe26f9a64e640d689a04fdf2be7ab9e": {
      "model_module": "@jupyter-widgets/controls",
      "model_module_version": "1.5.0",
      "model_name": "DescriptionStyleModel",
      "state": {
       "description_width": ""
      }
     },
     "70d4f87b1d164ea69263684fc423d6d1": {
      "model_module": "@jupyter-widgets/controls",
      "model_module_version": "1.5.0",
      "model_name": "DatePickerModel",
      "state": {
       "disabled": false,
       "layout": "IPY_MODEL_4c551270560545a895c14be6b59c650f",
       "style": "IPY_MODEL_c389d2f343b242599681bb258e378df9"
      }
     },
     "73427b8e5c8c41af8f82aed46a42d7a1": {
      "model_module": "@jupyter-widgets/base",
      "model_module_version": "1.2.0",
      "model_name": "LayoutModel",
      "state": {}
     },
     "75ae7cb451f84ed7a407f78332c89443": {
      "model_module": "@jupyter-widgets/controls",
      "model_module_version": "1.5.0",
      "model_name": "HTMLModel",
      "state": {
       "layout": "IPY_MODEL_6fc2bacf9e3c44bf8296c16551bf27c7",
       "style": "IPY_MODEL_353967583a2343e0803f0f2fb70d2259"
      }
     },
     "7e8901d1898d49f28aac7c3602177eee": {
      "model_module": "@jupyter-widgets/controls",
      "model_module_version": "1.5.0",
      "model_name": "BoundedFloatTextModel",
      "state": {
       "layout": "IPY_MODEL_c78e211972d1472a82eec4fd04c4a697",
       "max": 1,
       "step": 0.05,
       "style": "IPY_MODEL_6fe26f9a64e640d689a04fdf2be7ab9e"
      }
     },
     "818bf3524f2a4fb3a7537b6ba126633d": {
      "model_module": "@jupyter-widgets/output",
      "model_module_version": "1.0.0",
      "model_name": "OutputModel",
      "state": {
       "layout": "IPY_MODEL_85fbfd19d9cd41dc9124e885a42def0d"
      }
     },
     "82b4c9e0004344038d694436b8abd3a4": {
      "model_module": "@jupyter-widgets/controls",
      "model_module_version": "1.5.0",
      "model_name": "DescriptionStyleModel",
      "state": {
       "description_width": ""
      }
     },
     "85fbfd19d9cd41dc9124e885a42def0d": {
      "model_module": "@jupyter-widgets/base",
      "model_module_version": "1.2.0",
      "model_name": "LayoutModel",
      "state": {
       "grid_area": "widget007",
       "height": "100%",
       "margin": "0px 10px 10px 0px",
       "padding": "5px 5px 5px 5px",
       "width": "100%"
      }
     },
     "86224eea680749c1a6259638967ad5da": {
      "model_module": "@jupyter-widgets/controls",
      "model_module_version": "1.5.0",
      "model_name": "DescriptionStyleModel",
      "state": {
       "description_width": ""
      }
     },
     "886d6db53b164f65996b986850f2339c": {
      "model_module": "jupyter-leaflet",
      "model_module_version": "^0.14.0",
      "model_name": "LeafletDrawControlModel",
      "state": {
       "_model_module_version": "^0.14.0",
       "_view_module_version": "^0.14.0",
       "options": [
        "position"
       ],
       "polygon": {
        "allowIntersection": false,
        "drawError": {
         "color": "#FF6633",
         "message": "Drawing error, clear all and try again"
        },
        "shapeOptions": {
         "color": "#FFFFFF",
         "fillColor": "#336699",
         "fillOpacity": 0.4,
         "opacity": 0.8
        }
       },
       "polyline": {},
       "rectangle": {
        "shapeOptions": {
         "color": "#FFFFFF",
         "fillColor": "#336699",
         "fillOpacity": 0.4,
         "opacity": 0.8
        }
       }
      }
     },
     "8b3bff6167fc4ea4b082abc4ef1e0e1e": {
      "model_module": "jupyter-leaflet",
      "model_module_version": "^0.14.0",
      "model_name": "LeafletMapStyleModel",
      "state": {
       "_model_module_version": "^0.14.0"
      }
     },
     "8e9e3fd815cb469eadd691422c286508": {
      "model_module": "@jupyter-widgets/controls",
      "model_module_version": "1.5.0",
      "model_name": "VBoxModel",
      "state": {
       "children": [
        "IPY_MODEL_2782c32341054f1282026ecc6df210d7",
        "IPY_MODEL_d9b78fe5d9b9485a9e15675b32ec7d6a",
        "IPY_MODEL_c14cbb96e1274c0898747aac4da3783d",
        "IPY_MODEL_52ef47802eb54578beec843a600ce719",
        "IPY_MODEL_de2574d581cf457ca612dff5f92f9dc8",
        "IPY_MODEL_70d4f87b1d164ea69263684fc423d6d1",
        "IPY_MODEL_f1eefcaf994046df9f712c31f5530e04",
        "IPY_MODEL_7e8901d1898d49f28aac7c3602177eee",
        "IPY_MODEL_cd0e6d778cd244dd96b116489941f693",
        "IPY_MODEL_eda862b5baf748238f05d72946fd2ca8",
        "IPY_MODEL_dc41957f1b6140ce884f3a657791aeed",
        "IPY_MODEL_bdbfcca427724272a45aec2b2f5e3095",
        "IPY_MODEL_b5ac5d1b101543d3b1b282fffb0119dd",
        "IPY_MODEL_b274c08e8054477d9755c078adcae93b"
       ],
       "layout": "IPY_MODEL_1968dd93d8f64330b6322d8049aaa9a3"
      }
     },
     "8f9cb17e961e4767856d42e59392fab1": {
      "model_module": "@jupyter-widgets/base",
      "model_module_version": "1.2.0",
      "model_name": "LayoutModel",
      "state": {}
     },
     "91aa661d97de44938ace945abc5ed93b": {
      "model_module": "@jupyter-widgets/base",
      "model_module_version": "1.2.0",
      "model_name": "LayoutModel",
      "state": {}
     },
     "91fb5b7667734552b42bb3c5c29a5aa4": {
      "model_module": "@jupyter-widgets/base",
      "model_module_version": "1.2.0",
      "model_name": "LayoutModel",
      "state": {
       "grid_area": "widget006",
       "height": "100%",
       "margin": "0px 10px 10px 0px",
       "padding": "5px 5px 5px 5px",
       "width": "100%"
      }
     },
     "9a926f44a30648d5a61e7493fc615750": {
      "model_module": "@jupyter-widgets/base",
      "model_module_version": "1.2.0",
      "model_name": "LayoutModel",
      "state": {}
     },
     "a0b69c95ef574c25b60790541799dcf2": {
      "model_module": "@jupyter-widgets/base",
      "model_module_version": "1.2.0",
      "model_name": "LayoutModel",
      "state": {}
     },
     "a57d9e699cc74af996e9b1928a23096a": {
      "model_module": "@jupyter-widgets/controls",
      "model_module_version": "1.5.0",
      "model_name": "DescriptionStyleModel",
      "state": {
       "description_width": ""
      }
     },
     "ab18b4bb5ae7418e9f5f9794c4c4b752": {
      "model_module": "@jupyter-widgets/controls",
      "model_module_version": "1.5.0",
      "model_name": "DescriptionStyleModel",
      "state": {
       "description_width": ""
      }
     },
     "b274c08e8054477d9755c078adcae93b": {
      "model_module": "@jupyter-widgets/controls",
      "model_module_version": "1.5.0",
      "model_name": "TextModel",
      "state": {
       "layout": "IPY_MODEL_dee5512b5c4f442d9ba79b0854d3e072",
       "placeholder": "example_WIT.png",
       "style": "IPY_MODEL_31035335f032466aaae11ec53e75dd42",
       "value": "example_WIT.png"
      }
     },
     "b4c0daaaa3364a88b8b2a908f1a12e18": {
      "model_module": "jupyter-leaflet",
      "model_module_version": "^0.14.0",
      "model_name": "LeafletTileLayerModel",
      "state": {
       "_model_module_version": "^0.14.0",
       "_view_module_version": "^0.14.0",
       "base": true,
       "max_native_zoom": 18,
       "max_zoom": 19,
       "min_native_zoom": 0,
       "min_zoom": 1,
       "name": "Open Street Map",
       "options": [
        "attribution",
        "detect_retina",
        "max_native_zoom",
        "max_zoom",
        "min_native_zoom",
        "min_zoom",
        "no_wrap",
        "tile_size",
        "tms"
       ]
      }
     },
     "b5ac5d1b101543d3b1b282fffb0119dd": {
      "model_module": "@jupyter-widgets/controls",
      "model_module_version": "1.5.0",
      "model_name": "HTMLModel",
      "state": {
       "layout": "IPY_MODEL_9a926f44a30648d5a61e7493fc615750",
       "style": "IPY_MODEL_efa5d7e75cd6493b9d026874916c55d7",
       "value": "<b>Output Plot:</b>"
      }
     },
     "b84a5466423441c28f7b7ac55e0e6362": {
      "model_module": "@jupyter-widgets/output",
      "model_module_version": "1.0.0",
      "model_name": "OutputModel",
      "state": {
       "layout": "IPY_MODEL_217e5afb344344f1a0a1e14db3d0e9c1"
      }
     },
     "ba77c5745cb748f69212206b5144dbbf": {
      "model_module": "@jupyter-widgets/base",
      "model_module_version": "1.2.0",
      "model_name": "LayoutModel",
      "state": {
       "width": "85%"
      }
     },
     "bc35cde3b8b84828b2e6180fbc9160dc": {
      "model_module": "@jupyter-widgets/base",
      "model_module_version": "1.2.0",
      "model_name": "LayoutModel",
      "state": {
       "grid_area": "widget005",
       "height": "100%",
       "margin": "0px 10px 10px 0px",
       "padding": "5px 5px 5px 5px",
       "width": "100%"
      }
     },
     "bd8eee93eed2419da20d68b1aad1f09f": {
      "model_module": "@jupyter-widgets/base",
      "model_module_version": "1.2.0",
      "model_name": "LayoutModel",
      "state": {}
     },
     "bdbfcca427724272a45aec2b2f5e3095": {
      "model_module": "@jupyter-widgets/controls",
      "model_module_version": "1.5.0",
      "model_name": "TextModel",
      "state": {
       "layout": "IPY_MODEL_f86486459f5a4bfd83baa1bebe7dfcec",
       "placeholder": "example_WIT.csv",
       "style": "IPY_MODEL_0b973f339c5346849d41db2962c8f620",
       "value": "example_WIT.csv"
      }
     },
     "bf849b4f42f24b27af77863b284f8f89": {
      "model_module": "@jupyter-widgets/base",
      "model_module_version": "1.2.0",
      "model_name": "LayoutModel",
      "state": {
       "width": "85%"
      }
     },
     "c14cbb96e1274c0898747aac4da3783d": {
      "model_module": "@jupyter-widgets/controls",
      "model_module_version": "1.5.0",
      "model_name": "HTMLModel",
      "state": {
       "layout": "IPY_MODEL_73427b8e5c8c41af8f82aed46a42d7a1",
       "style": "IPY_MODEL_a57d9e699cc74af996e9b1928a23096a",
       "value": "<b>Start Date:</b>"
      }
     },
     "c389d2f343b242599681bb258e378df9": {
      "model_module": "@jupyter-widgets/controls",
      "model_module_version": "1.5.0",
      "model_name": "DescriptionStyleModel",
      "state": {
       "description_width": ""
      }
     },
     "c62e877f0dea43a885524d4e86c647cf": {
      "model_module": "jupyter-leaflet",
      "model_module_version": "^0.14.0",
      "model_name": "LeafletMapStyleModel",
      "state": {
       "_model_module_version": "^0.14.0"
      }
     },
     "c78e211972d1472a82eec4fd04c4a697": {
      "model_module": "@jupyter-widgets/base",
      "model_module_version": "1.2.0",
      "model_name": "LayoutModel",
      "state": {
       "width": "85%"
      }
     },
     "c901d59da03c454890f9d936d85dac63": {
      "model_module": "@jupyter-widgets/base",
      "model_module_version": "1.2.0",
      "model_name": "LayoutModel",
      "state": {}
     },
     "cd0e6d778cd244dd96b116489941f693": {
      "model_module": "@jupyter-widgets/controls",
      "model_module_version": "1.5.0",
      "model_name": "HTMLModel",
      "state": {
       "layout": "IPY_MODEL_91aa661d97de44938ace945abc5ed93b",
       "style": "IPY_MODEL_ab18b4bb5ae7418e9f5f9794c4c4b752",
       "value": "<b>Resampling Frequency:</b>"
      }
     },
     "cdde2fc3c36740bba6357ebd719d66d7": {
      "model_module": "@jupyter-widgets/base",
      "model_module_version": "1.2.0",
      "model_name": "LayoutModel",
      "state": {}
     },
     "d58eba70f2de4739a785303fe4c016af": {
      "model_module": "@jupyter-widgets/base",
      "model_module_version": "1.2.0",
      "model_name": "LayoutModel",
      "state": {
       "width": "85%"
      }
     },
     "d9b78fe5d9b9485a9e15675b32ec7d6a": {
      "model_module": "@jupyter-widgets/controls",
      "model_module_version": "1.5.0",
      "model_name": "DropdownModel",
      "state": {
       "_options_labels": [
        "None",
        "ESRI World Imagery",
        "Sentinel-2 Geomedian",
        "Water Observations from Space"
       ],
       "index": 0,
       "layout": "IPY_MODEL_bf849b4f42f24b27af77863b284f8f89",
       "style": "IPY_MODEL_0157cb15001f44898d0ec0ce9a7b7885"
      }
     },
     "db3ca74d122e42dc9c7b516e365d21d9": {
      "model_module": "@jupyter-widgets/base",
      "model_module_version": "1.2.0",
      "model_name": "LayoutModel",
      "state": {
       "grid_template_areas": "\"widget001 widget001 widget001 widget001 widget001 widget001 widget001 widget001 widget001 widget001\"\n\"widget002 widget002 widget006 widget006 widget006 widget006 widget006 widget004 widget004 widget004\"\n\"widget002 widget002 widget006 widget006 widget006 widget006 widget006 widget005 widget005 widget005\"\n\"widget002 widget002 widget006 widget006 widget006 widget006 widget006 widget005 widget005 widget005\"\n\"widget002 widget002 widget006 widget006 widget006 widget006 widget006 widget005 widget005 widget005\"\n\"widget002 widget002 widget006 widget006 widget006 widget006 widget006 widget005 widget005 widget005\"\n\"widget003 widget003 widget006 widget006 widget006 widget006 widget006 widget005 widget005 widget005\"\n\"widget007 widget007 widget007 widget007 widget007 widget007 widget007 widget007 widget007 widget007\"\n\"widget007 widget007 widget007 widget007 widget007 widget007 widget007 widget007 widget007 widget007\"\n\"widget007 widget007 widget007 widget007 widget007 widget007 widget007 widget007 widget007 widget007\"\n\"widget007 widget007 widget007 widget007 widget007 widget007 widget007 widget007 widget007 widget007\"",
       "grid_template_columns": "repeat(10, 1fr)",
       "grid_template_rows": "repeat(11, 1fr)",
       "height": "1100px",
       "width": "auto"
      }
     },
     "dc41957f1b6140ce884f3a657791aeed": {
      "model_module": "@jupyter-widgets/controls",
      "model_module_version": "1.5.0",
      "model_name": "HTMLModel",
      "state": {
       "layout": "IPY_MODEL_df0a2f4e30984e54af6d6e3664ddceaf",
       "style": "IPY_MODEL_6f8404d7d03840df917b335cc7074759",
       "value": "<b>Output CSV:</b>"
      }
     },
     "de2574d581cf457ca612dff5f92f9dc8": {
      "model_module": "@jupyter-widgets/controls",
      "model_module_version": "1.5.0",
      "model_name": "HTMLModel",
      "state": {
       "layout": "IPY_MODEL_8f9cb17e961e4767856d42e59392fab1",
       "style": "IPY_MODEL_f06ea08ee1f5419793fafe9f531f3600",
       "value": "<b>End Date:</b>"
      }
     },
     "dee5512b5c4f442d9ba79b0854d3e072": {
      "model_module": "@jupyter-widgets/base",
      "model_module_version": "1.2.0",
      "model_name": "LayoutModel",
      "state": {
       "width": "85%"
      }
     },
     "def67b971b60400799b3f5867520803d": {
      "model_module": "@jupyter-widgets/output",
      "model_module_version": "1.0.0",
      "model_name": "OutputModel",
      "state": {
       "layout": "IPY_MODEL_bc35cde3b8b84828b2e6180fbc9160dc"
      }
     },
     "df0a2f4e30984e54af6d6e3664ddceaf": {
      "model_module": "@jupyter-widgets/base",
      "model_module_version": "1.2.0",
      "model_name": "LayoutModel",
      "state": {}
     },
     "e905fecf744c46d1910c73c5ed0be884": {
      "model_module": "@jupyter-widgets/base",
      "model_module_version": "1.2.0",
      "model_name": "LayoutModel",
      "state": {}
     },
     "eb06ef656cc74e609d6b2da04626de28": {
      "model_module": "@jupyter-widgets/controls",
      "model_module_version": "1.5.0",
      "model_name": "HBoxModel",
      "state": {
       "children": [
        "IPY_MODEL_f637c8ba116e486c8e987328b9bafbf8"
       ],
       "layout": "IPY_MODEL_e905fecf744c46d1910c73c5ed0be884"
      }
     },
     "ebceaea204ca44cdbe7f799ed7f36f9e": {
      "model_module": "@jupyter-widgets/controls",
      "model_module_version": "1.5.0",
      "model_name": "ButtonStyleModel",
      "state": {}
     },
     "eda862b5baf748238f05d72946fd2ca8": {
      "model_module": "@jupyter-widgets/controls",
      "model_module_version": "1.5.0",
      "model_name": "TextModel",
      "state": {
       "layout": "IPY_MODEL_d58eba70f2de4739a785303fe4c016af",
       "placeholder": "1M",
       "style": "IPY_MODEL_4b3f6ae221d545e182cb5e5c92fd346c",
       "value": "1M"
      }
     },
     "efa5d7e75cd6493b9d026874916c55d7": {
      "model_module": "@jupyter-widgets/controls",
      "model_module_version": "1.5.0",
      "model_name": "DescriptionStyleModel",
      "state": {
       "description_width": ""
      }
     },
     "f02bb27e268a41b6a12786a8b3a4ab17": {
      "model_module": "jupyter-leaflet",
      "model_module_version": "^0.14.0",
      "model_name": "LeafletMapStyleModel",
      "state": {
       "_model_module_version": "^0.14.0",
       "cursor": "move"
      }
     },
     "f06ea08ee1f5419793fafe9f531f3600": {
      "model_module": "@jupyter-widgets/controls",
      "model_module_version": "1.5.0",
      "model_name": "DescriptionStyleModel",
      "state": {
       "description_width": ""
      }
     },
     "f11d0a7d1d38427a847273d0a58baa7c": {
      "model_module": "@jupyter-widgets/controls",
      "model_module_version": "1.5.0",
      "model_name": "ButtonModel",
      "state": {
       "button_style": "info",
       "description": "Run",
       "layout": "IPY_MODEL_6c39514bce3042babe9b3fbb934c0e36",
       "style": "IPY_MODEL_ebceaea204ca44cdbe7f799ed7f36f9e"
      }
     },
     "f1eefcaf994046df9f712c31f5530e04": {
      "model_module": "@jupyter-widgets/controls",
      "model_module_version": "1.5.0",
      "model_name": "HTMLModel",
      "state": {
       "layout": "IPY_MODEL_bd8eee93eed2419da20d68b1aad1f09f",
       "style": "IPY_MODEL_86224eea680749c1a6259638967ad5da",
       "value": "<b>Minimum Good Data:</b>"
      }
     },
     "f637c8ba116e486c8e987328b9bafbf8": {
      "model_module": "@jupyter-widgets/controls",
      "model_module_version": "1.5.0",
      "model_name": "GridBoxModel",
      "state": {
       "children": [
        "IPY_MODEL_09c7152331474a84a2ebfb2766ab287f",
        "IPY_MODEL_8e9e3fd815cb469eadd691422c286508",
        "IPY_MODEL_f11d0a7d1d38427a847273d0a58baa7c",
        "IPY_MODEL_b84a5466423441c28f7b7ac55e0e6362",
        "IPY_MODEL_def67b971b60400799b3f5867520803d",
        "IPY_MODEL_2be04c84653a47968844713ad6d10850",
        "IPY_MODEL_818bf3524f2a4fb3a7537b6ba126633d"
       ],
       "layout": "IPY_MODEL_db3ca74d122e42dc9c7b516e365d21d9"
      }
     },
     "f86486459f5a4bfd83baa1bebe7dfcec": {
      "model_module": "@jupyter-widgets/base",
      "model_module_version": "1.2.0",
      "model_name": "LayoutModel",
      "state": {
       "width": "85%"
      }
     }
    },
    "version_major": 2,
    "version_minor": 0
   }
  }
 },
 "nbformat": 4,
 "nbformat_minor": 4
}
