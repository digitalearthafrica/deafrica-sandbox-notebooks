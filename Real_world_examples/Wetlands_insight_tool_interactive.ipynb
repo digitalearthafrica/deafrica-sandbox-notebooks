{
 "cells": [
  {
   "cell_type": "markdown",
   "metadata": {},
   "source": [
    "# Monitoring Wetlands in Africa\n",
    "\n",
    "* **Products used:**\n",
    "[ls8_sr](https://explorer.digitalearth.africa/ls8_sr), \n",
    "[wofs_ls](https://explorer.digitalearth.africa/wofs_ls), \n",
    "[fc_ls](https://explorer.digitalearth.africa/fc_ls)"
   ]
  },
  {
   "cell_type": "markdown",
   "metadata": {},
   "source": [
    "### Background\n",
    "\n",
    "According to [Wetlands International](https://africa.wetlands.org/en/wetlands/what-are-wetlands/), Africa’s wetlands ecosystems are estimated to cover 131 million hectares, and include some of the most productive and biodiverse ecosystems in the world. They provide a host of ecosystem services that contribute to human well-being through nutrition, water supply and purification, climate and flood regulation, coastal protection, feeding and nesting sites for animals, recreational opportunities and increasingly, tourism.  As such, the health of wetland ecosystems has been identified as an important metric for the `Sustainable Development Goals` ([6.6.1 Change in the extent of water-related ecosystems over time](https://www.sdg6monitoring.org/indicator-661/)). \n",
    "\n",
    "The `Wetlands Insight Tool (WIT)` provides insights into a wetland's seasonal and interannual dynamics.WIT is a spatiotemporal summary of a wetland that combines multiple datasets derived from the Landsat archive held within DE Africa. `Fractional cover`, `WOfS`, and `Landsat surface reflectance` data are retrieved from DE Africa's ODC and combined to produce a stack plot describing the percentage of a wetland polygon as vegetation fractional cover, open water, and wet vegetation through time.  \n",
    "\n",
    "> `Detailed Explanation:`\n",
    "Data is retrieved for timesteps containing more than 80% cloud-free data (you can adjust this number in the code below). The code calculates the Tasselled-Cap Wetness (TCW, or just 'wetness') from surface reflectance and takes the maximum Fractional cover fraction per pixel, masking Fractional cover with TCW, and masking TCW with open water. For each pixel inside or overlapping the polygon describing the wetland, WIT calculates the dominant fractional cover type. WIT selects the largest percentage value for each pixel as the dominant fractional cover type. Fractional cover was masked using WOfS and TCW to remove areas of water and wet vegetation from areas where fractional cover is calculated. This is necessary as the fractional cover algorithm erroneously classifies water as green vegetation (PV). The resulting output is a stacked plot of open water, wet vegetation, photosynthetic vegetation, non-photosynthetic vegetation, and bare soil for the wetland polygon through time.\n",
    "\n",
    "### Description\n",
    "This notebook will run the Wetlands Insight Tool for the area encompassed by a polygon drawn on the interactive map.\n",
    "\n",
    "1.  Draw a polygon using the interactive jupyter widget\n",
    "2.  Set the parameters for the Wetlands Insight Tool\n",
    "3.  Run the WIT tool, resulting in a stacked plot of fractional cover, wetness, and water\n",
    "\n",
    "## Getting started\n",
    "**To run this analysis**, run all the cells in the notebook, starting with the \"Load packages\" cell.\n",
    "\n",
    "**After finishing the analysis**, return to the \"Analysis parameters\" cell, modify some values (e.g. choose a different polygon or time period to analyse) and re-run the analysis.\n",
    "There are additional instructions on modifying the notebook at the end.\n",
    "\n",
    "***"
   ]
  },
  {
   "cell_type": "markdown",
   "metadata": {},
   "source": [
    "### Load packages"
   ]
  },
  {
   "cell_type": "code",
   "execution_count": null,
   "metadata": {},
   "outputs": [],
   "source": [
    "# !pip uninstall deafrica-tools -y\n",
    "# !pip install ../Tools"
   ]
  },
  {
   "cell_type": "code",
   "execution_count": null,
   "metadata": {},
   "outputs": [],
   "source": [
    "import sys\n",
    "sys.path.insert(1, '../Scripts')\n",
    "from notebookapp_wetlands import select_region_app, WIT_app\n"
   ]
  },
  {
   "cell_type": "markdown",
   "metadata": {},
   "source": [
    "## Analysis parameters\n",
    "\n",
    "The following cell sets important parameters for the analysis:\n",
    "\n",
    "* `date`: The exact date used to display the composite imagery on the map (e.g. for a geomedian composite, use the first day of the year: `date='2020-01-01'`).\n",
    "\n",
    "* `product`: The DE Africa derived satellite product to be displayed on the map to help you trace a polygon around the your wetland of interest, e.g. `'gm_s2_annual'` for the Sentinel-2 geomedian product "
   ]
  },
  {
   "cell_type": "code",
   "execution_count": null,
   "metadata": {},
   "outputs": [],
   "source": [
    "date='2019-01-01'\n",
    "product='gm_s2_annual'"
   ]
  },
  {
   "cell_type": "markdown",
   "metadata": {},
   "source": [
    "## Select location on a map\n",
    "\n",
    "Run the following cell to plot the interactive map that is used to select the area where the Wetalnds insight tool will be run.\n",
    "\n",
    "Select the `Draw a rectangle` or `Draw a polygon` tool on the left of the map, and draw a shape around the area you are interested in. When you are ready, press the green `done` button on the top right of the map.\n",
    "\n",
    ">To keep load times reasonable, select an area smaller than 10000 square kilometers in size (this limit can be overuled by supplying the size_limit parameter in the select_region_app function below).\n",
    "\n"
   ]
  },
  {
   "cell_type": "code",
   "execution_count": null,
   "metadata": {},
   "outputs": [],
   "source": [
    "selection = select_region_app(date=date, \n",
    "                              product=product,\n",
    "                              size_limit=12000)"
   ]
  },
  {
   "cell_type": "markdown",
   "metadata": {},
   "source": [
    "## Run the Wetlands Insight Tool\n",
    "\n",
    "* `time_range`:\n",
    "* `output_csv`:\n",
    "* `output_plot`:\n",
    "* `min_gooddata`:\n",
    "* `dask_chunks`:"
   ]
  },
  {
   "cell_type": "code",
   "execution_count": null,
   "metadata": {},
   "outputs": [],
   "source": [
    "time_range = ('2020' , '2021')\n",
    "output_csv='example_WIT.csv'\n",
    "output_plot='example_WIT.png'\n",
    "min_gooddata=0\n",
    "resample_frequency='1M'\n",
    "dask_chunks=dict(x=1000, y=1000, time=1)"
   ]
  },
  {
   "cell_type": "markdown",
   "metadata": {},
   "source": [
    "Now run the cell below to run the Wetlands Insight Tool and produce a plot.\n",
    "\n",
    "The cell below will print a link to a `Dask Dashboard`, we recommend opening the Dask processing window to view the different computations that are being executed. This will also give you an idea of the progress of the computations."
   ]
  },
  {
   "cell_type": "code",
   "execution_count": null,
   "metadata": {},
   "outputs": [],
   "source": [
    "df = WIT_app(gdf=selection,\n",
    "        time_range=time_range,\n",
    "        min_gooddata=min_gooddata,\n",
    "        resample_frequency=resample_frequency,\n",
    "        export_csv=output_csv,\n",
    "        export_plot=output_plot,\n",
    "        dask_chunks=dask_chunks,\n",
    "        verbose=False\n",
    "           )"
   ]
  },
  {
   "cell_type": "markdown",
   "metadata": {},
   "source": [
    "## Next steps\n"
   ]
  },
  {
   "cell_type": "markdown",
   "metadata": {},
   "source": [
    "***\n",
    "\n",
    "## Additional information\n",
    "\n",
    "**License:** The code in this notebook is licensed under the [Apache License, Version 2.0](https://www.apache.org/licenses/LICENSE-2.0). \n",
    "Digital Earth Africa data is licensed under the [Creative Commons by Attribution 4.0](https://creativecommons.org/licenses/by/4.0/) license.\n",
    "\n",
    "**Contact:** If you need assistance, please post a question on the [Open Data Cube Slack channel](http://slack.opendatacube.org/) or on the [GIS Stack Exchange](https://gis.stackexchange.com/questions/ask?tags=open-data-cube) using the `open-data-cube` tag (you can view previously asked questions [here](https://gis.stackexchange.com/questions/tagged/open-data-cube)).\n",
    "If you would like to report an issue with this notebook, you can file one on [Github](https://github.com/digitalearthafrica/deafrica-sandbox-notebooks).\n",
    "\n",
    "**Last modified:** Feb 2020\n",
    "\n",
    "**Compatible `datacube` version:** "
   ]
  },
  {
   "cell_type": "code",
   "execution_count": null,
   "metadata": {},
   "outputs": [],
   "source": [
    "print(datacube.__version__)"
   ]
  },
  {
   "cell_type": "markdown",
   "metadata": {},
   "source": [
    "## Tags\n",
    "Browse all available tags on the DE Africa User Guide's [Tags Index]()"
   ]
  },
  {
   "cell_type": "raw",
   "metadata": {
    "raw_mimetype": "text/restructuredtext"
   },
   "source": [
    "**Tags**: index:`WIT`, : index:`wetlands`, : index:`map_shapefile`, :index:`deafrica_plotting`, :index:`animation`, :index:`real world`, :index:`WOfS`, :index:`fractional cover`,"
   ]
  }
 ],
 "metadata": {
  "kernelspec": {
   "display_name": "Python 3 (ipykernel)",
   "language": "python",
   "name": "python3"
  },
  "language_info": {
   "codemirror_mode": {
    "name": "ipython",
    "version": 3
   },
   "file_extension": ".py",
   "mimetype": "text/x-python",
   "name": "python",
   "nbconvert_exporter": "python",
   "pygments_lexer": "ipython3",
   "version": "3.8.10"
  }
 },
 "nbformat": 4,
 "nbformat_minor": 4
}
