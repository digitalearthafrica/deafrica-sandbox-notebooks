{
 "cells": [
  {
   "cell_type": "markdown",
   "metadata": {},
   "source": [
    "# Monitoring Mangrove Extents  <img align=\"right\" src=\"../Supplementary_data/DE_Africa_Logo_Stacked_RGB_small.jpg\">\n",
    "\n",
    "* **Products used:** \n",
    "[s2_l2a](https://explorer.digitalearth.africa/s2_l2a)\n",
    "\n",
    "## Background\n",
    "[Global Mangrove Watch (GMW)](https://www.globalmangrovewatch.org/) is an initiative to track global mangrove extents. Using ALOS PALSAR and Landsat (optical) data to form a baseline extent of mangroves for the year 2010. More detailed information on the initiative can be found [here](http://data.unep-wcmc.org/datasets/45). The baseline extent of mangroves is provided as a shapefile, and shows the locations of mangroves across the entire world.\n",
    "\n",
    "The shapefile used by this notebook is a country specific extraction from the global shapefile provided by GMW (from Mombasa, Kenya). The purpose of this notebook is to use the extracted shapefile as a baseline for classifying mangroves through NDVI thresholding. We then analyze how the mangroves change over time in our area of interest.\n",
    " "
   ]
  },
  {
   "cell_type": "markdown",
   "metadata": {},
   "source": [
    "## Description\n",
    "The process begins with retrieving data for a specific area in a time series. This dataset is then compressed into a [geomedian]('../Frequently_used_code/Generating_geomedian_composites.ipynb') composite for each year. From the composite, we then calculate the NDVI values of each pixel in each year. The dataset is then masked, and the NDVI threshold is applied for mangrove classification. The following image shows the decision tree for the classification.\n",
    "\n",
    "![Mangrove Decision Tree](../Supplementary_data/Mangroves_analysis/mangrove_decision_tree.png)\n",
    "\n",
    "\n",
    "After classification, we can perform a variety of analyses on the data:\n",
    "- We can estimate the change in mangrove areas by counting all the classified pixels for each year and plotting the trend line of the count. \n",
    "- We can also visualize the mangrove areas by plotting each classified pixel a certain color. "
   ]
  },
  {
   "cell_type": "markdown",
   "metadata": {},
   "source": [
    "## Getting started\n",
    "\n",
    "**To run this analysis**, run all the cells in the notebook, starting with the [Load packages](#Load-packages) cell.\n",
    "\n",
    "**After finishing the analysis**, return to the [Analysis parameters](#Analysis-parameters) cell, modify some values (e.g. choose a your own mangrove shapefile or time period to analyse) and re-run the analysis."
   ]
  },
  {
   "cell_type": "markdown",
   "metadata": {},
   "source": [
    "### Load packages"
   ]
  },
  {
   "cell_type": "code",
   "execution_count": 1,
   "metadata": {},
   "outputs": [],
   "source": [
    "%matplotlib inline\n",
    "\n",
    "import sys\n",
    "import warnings\n",
    "import datacube\n",
    "import numpy as np\n",
    "import pandas as pd\n",
    "import xarray as xr\n",
    "import geopandas as gpd\n",
    "import matplotlib.pyplot as plt\n",
    "from datacube.utils import geometry\n",
    "from matplotlib.patches import Patch\n",
    "from matplotlib.colors import ListedColormap\n",
    "warnings.filterwarnings(\"ignore\")\n",
    "\n",
    "sys.path.append(\"../Scripts\")\n",
    "from deafrica_bandindices import calculate_indices\n",
    "from deafrica_coastaltools import tidal_tag\n",
    "from deafrica_dask import create_local_dask_cluster\n",
    "from deafrica_datahandling import load_ard\n",
    "from deafrica_plotting import map_shapefile\n",
    "from deafrica_spatialtools import xr_rasterize"
   ]
  },
  {
   "cell_type": "markdown",
   "metadata": {},
   "source": [
    "### Set up a Dask cluster\n",
    "\n",
    "Dask can be used to better manage memory use down and conduct the analysis in parallel. \n",
    "For an introduction to using Dask with Digital Earth Africa, see the [Dask notebook](../Beginners_guide/06_Parallel_processing_with_dask.ipynb).\n",
    "\n",
    ">**Note**: We recommend opening the Dask processing window to view the different computations that are being executed; to do this, see the *Dask dashboard in DE Africa* section of the [Dask notebook](../Beginners_guide/06_Parallel_processing_with_dask.ipynb).\n",
    "\n",
    "To use Dask, set up the local computing cluster using the cell below."
   ]
  },
  {
   "cell_type": "code",
   "execution_count": 2,
   "metadata": {},
   "outputs": [
    {
     "data": {
      "text/html": [
       "<table style=\"border: 2px solid white;\">\n",
       "<tr>\n",
       "<td style=\"vertical-align: top; border: 0px solid white\">\n",
       "<h3 style=\"text-align: left;\">Client</h3>\n",
       "<ul style=\"text-align: left; list-style: none; margin: 0; padding: 0;\">\n",
       "  <li><b>Scheduler: </b>tcp://127.0.0.1:38477</li>\n",
       "  <li><b>Dashboard: </b><a href='/user/chad_extra/proxy/8787/status' target='_blank'>/user/chad_extra/proxy/8787/status</a></li>\n",
       "</ul>\n",
       "</td>\n",
       "<td style=\"vertical-align: top; border: 0px solid white\">\n",
       "<h3 style=\"text-align: left;\">Cluster</h3>\n",
       "<ul style=\"text-align: left; list-style:none; margin: 0; padding: 0;\">\n",
       "  <li><b>Workers: </b>1</li>\n",
       "  <li><b>Cores: </b>2</li>\n",
       "  <li><b>Memory: </b>14.18 GB</li>\n",
       "</ul>\n",
       "</td>\n",
       "</tr>\n",
       "</table>"
      ],
      "text/plain": [
       "<Client: 'tcp://127.0.0.1:38477' processes=1 threads=2, memory=14.18 GB>"
      ]
     },
     "metadata": {},
     "output_type": "display_data"
    }
   ],
   "source": [
    "create_local_dask_cluster()"
   ]
  },
  {
   "cell_type": "markdown",
   "metadata": {},
   "source": [
    "### Load the data\n",
    "\n",
    "Connect to the datacube database and set up a processing cluster."
   ]
  },
  {
   "cell_type": "code",
   "execution_count": 3,
   "metadata": {},
   "outputs": [],
   "source": [
    "dc = datacube.Datacube(app=\"Mangrove\")"
   ]
  },
  {
   "cell_type": "markdown",
   "metadata": {},
   "source": [
    "### Analysis parameters\n",
    "\n",
    "* `product_name`: The name of the satellite product to use.\n",
    "* `time_range`: The date range to analyse (e.g. `(\"2017\", \"2020\")`).\n",
    "* `tide_range`: The minimum and maximum proportion of the tidal range to include in the analysis. For example, `tide_range = (0.25, 0.75)` will select all satellite images taken during mid-tide conditions (i.e. 25th to 75th percentile range). This allows us to remove any impact of tides on the classification of mangrove extent. Because Sentinel-2 is a sun-synchronoous sensor, the mid-tide is observed more than low and high tides, therefore it is advantageous to use the mid-tide extent as we will retain more satellite image.\n",
    "* `vector_file`: The file path and name of a shapefile containing the mangrove extent.  A default example is provided. To run this analysis for another region try clipping the [GMW layer](https://data.unep-wcmc.org/datasets/45) to the extent you're interested in.\n",
    "\n",
    "**If running the notebook for the first time**, keep the default settings below.\n",
    "This will demonstrate how the analysis works and provide meaningful results.\n",
    "The example covers the mangroves of Chwaka Bay, Zanzibar, Tanzania.\n",
    "\n",
    "**To run the analysis on a different area** upload your mangrove extent shapefile using the _Upload Files_ button from the _File Browser_ tab to the left.\n",
    "\n",
    "**To run the notebook for a different product or time**, use the [DEAfrica Explorer](https://explorer.digitalearth.africa), see what products cover your area of interest.\n",
    "\n"
   ]
  },
  {
   "cell_type": "code",
   "execution_count": 4,
   "metadata": {},
   "outputs": [],
   "source": [
    "product_name = \"s2_l2a\"\n",
    "\n",
    "time_range = (\"2017\", \"2020\")\n",
    "\n",
    "tide_range = (0.25, 0.75) # only keep mid tides\n",
    "\n",
    "vector_file = \"../Supplementary_data/Mangroves_analysis/Mombasa_GMW_2010.shp\""
   ]
  },
  {
   "cell_type": "code",
   "execution_count": 5,
   "metadata": {},
   "outputs": [],
   "source": [
    "gdf = gpd.read_file(vector_file)"
   ]
  },
  {
   "cell_type": "markdown",
   "metadata": {},
   "source": [
    "### Preview the mangrove area"
   ]
  },
  {
   "cell_type": "code",
   "execution_count": 6,
   "metadata": {},
   "outputs": [
    {
     "data": {
      "application/vnd.jupyter.widget-view+json": {
       "model_id": "9f285abb6215447b8f1f77abdc175ccb",
       "version_major": 2,
       "version_minor": 0
      },
      "text/plain": [
       "Label(value='')"
      ]
     },
     "metadata": {},
     "output_type": "display_data"
    },
    {
     "data": {
      "application/vnd.jupyter.widget-view+json": {
       "model_id": "86a0ca6ae118436bb8b40ed2a2844fab",
       "version_major": 2,
       "version_minor": 0
      },
      "text/plain": [
       "Map(center=[-4.043555555554974, 39.60433333333276], controls=(ZoomControl(options=['position', 'zoom_in_text',…"
      ]
     },
     "metadata": {},
     "output_type": "display_data"
    }
   ],
   "source": [
    "# read shapefile into a GeoDataFrame\n",
    "gdf = gpd.read_file(vector_file)\n",
    "\n",
    "map_shapefile(gdf, attribute=gdf.columns[0])"
   ]
  },
  {
   "cell_type": "markdown",
   "metadata": {},
   "source": [
    "## Load cloud-masked Sentinel-2 data\n",
    "The first step in this analysis is to load in Sentinel-2 data for the `geom` mangrove area shape and `time_range` we provided above. \n",
    "The code below uses the `load_ard` function to load in data from the Landsat 8 satellites for the area and time specified.\n",
    "For more information, see the [Using load_ard notebook](../Frequently_used_code/Using_load_ard.ipynb).\n",
    "The function will also automatically mask out clouds from the dataset, allowing us to focus on pixels that contain useful data:"
   ]
  },
  {
   "cell_type": "code",
   "execution_count": 7,
   "metadata": {},
   "outputs": [
    {
     "name": "stdout",
     "output_type": "stream",
     "text": [
      "Using pixel quality parameters for Sentinel 2\n",
      "Finding datasets\n",
      "    s2_l2a\n",
      "Applying pixel quality/cloud mask\n",
      "Returning 247 time steps as a dask array\n",
      "<xarray.Dataset>\n",
      "Dimensions:      (time: 247, x: 1379, y: 1896)\n",
      "Coordinates:\n",
      "  * y            (y) float64 -5.06e+05 -5.06e+05 ... -5.249e+05 -5.249e+05\n",
      "    spatial_ref  int32 6933\n",
      "  * x            (x) float64 3.814e+06 3.814e+06 ... 3.828e+06 3.828e+06\n",
      "  * time         (time) datetime64[ns] 2017-01-06T07:42:19 ... 2020-10-12T07:...\n",
      "Data variables:\n",
      "    red          (time, y, x) float32 dask.array<chunksize=(1, 750, 750), meta=np.ndarray>\n",
      "    nir          (time, y, x) float32 dask.array<chunksize=(1, 750, 750), meta=np.ndarray>\n",
      "Attributes:\n",
      "    crs:           EPSG:6933\n",
      "    grid_mapping:  spatial_ref\n"
     ]
    }
   ],
   "source": [
    "# Covert all of the shapes into a datacube geometry\n",
    "geom = geometry.Geometry(\n",
    "    gdf.geometry.values[0].__geo_interface__, geometry.CRS(f\"EPSG:{gdf.crs.to_epsg()}\")\n",
    ")\n",
    "\n",
    "# create a query dict for the datacube\n",
    "query = {\n",
    "    \"time\": time_range,\n",
    "    \"geopolygon\": geom,\n",
    "    \"group_by\": \"solar_day\",\n",
    "    \"resolution\": (-10, 10),\n",
    "}\n",
    "\n",
    "# load data\n",
    "ds = load_ard(\n",
    "    dc=dc,\n",
    "    products=[product_name],\n",
    "    measurements=[\"red\", \"nir\"],\n",
    "    output_crs=\"EPSG:6933\",\n",
    "    dask_chunks={\"time\": 1, \"x\": 750, \"y\": 750},\n",
    "    **query,\n",
    ")\n",
    "print(ds)"
   ]
  },
  {
   "cell_type": "markdown",
   "metadata": {},
   "source": [
    "## Model tide heights\n",
    "\n",
    "The location of the shoreline can vary greatly from low to high tide, which may impact the NDVI values of pixels where water and mangroves intermingle. In the code below, we aim to reduce the effect of tides by modelling tide height data, and keeping only the satellite images that were taken at specific tidal conditions. For example, if `tide_range = (0.00, 0.50)`, we are telling the analysis to focus only on satellite images taken when the tide between the lowest tidal conditions and the median (50th percentile) conditions.\n",
    "\n",
    "The tidal_tag function below uses the [OTPS TPXO8 tidal model](https://www.tpxo.net/global) to calculate the height of the tide at the exact moment each satellite image in our dataset was taken, and adds this as a new tide_height attribute in our dataset.\n",
    "\n",
    "> Important note: this function can only model tides correctly if the centre of your study area is located over water. If this isn't the case, you can specify a custom tide modelling location by passing a coordinate to tidepost_lat and tidepost_lon (e.g. tidepost_lat=14.283, tidepost_lon=-16.921).\n"
   ]
  },
  {
   "cell_type": "code",
   "execution_count": 8,
   "metadata": {},
   "outputs": [
    {
     "name": "stdout",
     "output_type": "stream",
     "text": [
      "Setting tide modelling location from dataset centroid: 39.60, -4.04\n",
      "<xarray.Dataset>\n",
      "Dimensions:      (time: 247, x: 1379, y: 1896)\n",
      "Coordinates:\n",
      "  * y            (y) float64 -5.06e+05 -5.06e+05 ... -5.249e+05 -5.249e+05\n",
      "    spatial_ref  int32 6933\n",
      "  * x            (x) float64 3.814e+06 3.814e+06 ... 3.828e+06 3.828e+06\n",
      "  * time         (time) datetime64[ns] 2017-01-06T07:42:19 ... 2020-10-12T07:...\n",
      "Data variables:\n",
      "    red          (time, y, x) float32 dask.array<chunksize=(1, 750, 750), meta=np.ndarray>\n",
      "    nir          (time, y, x) float32 dask.array<chunksize=(1, 750, 750), meta=np.ndarray>\n",
      "    tide_height  (time) float64 0.549 -0.866 -1.107 0.448 ... 0.216 -1.475 0.492\n",
      "Attributes:\n",
      "    crs:           EPSG:6933\n",
      "    grid_mapping:  spatial_ref\n"
     ]
    }
   ],
   "source": [
    "# Calculate tides for each timestep in the satellite dataset\n",
    "ds = tidal_tag(ds=ds, tidepost_lat=None, tidepost_lon=None)\n",
    "\n",
    "# Print the output dataset with new `tide_height` variable\n",
    "print(ds)"
   ]
  },
  {
   "cell_type": "code",
   "execution_count": 9,
   "metadata": {},
   "outputs": [
    {
     "data": {
      "image/png": "[encoded data removed]",
      "text/plain": [
       "<Figure size 432x288 with 1 Axes>"
      ]
     },
     "metadata": {
      "needs_background": "light"
     },
     "output_type": "display_data"
    }
   ],
   "source": [
    "# Calculate the min and max tide heights to include based on the % range\n",
    "min_tide, max_tide = ds.tide_height.quantile(tide_range)\n",
    "\n",
    "# Plot the resulting tide heights for each Landsat image:\n",
    "ds.tide_height.plot()\n",
    "plt.axhline(min_tide, c=\"red\", linestyle=\"--\")\n",
    "plt.axhline(max_tide, c=\"red\", linestyle=\"--\")\n",
    "plt.show()"
   ]
  },
  {
   "cell_type": "markdown",
   "metadata": {},
   "source": [
    "### Filter satellite images by tide height\n",
    "\n",
    "Here we take the dataset and only keep the images with tide heights we want to analyse (i.e. tides within the heights given by `tide_range`). This will result in a smaller number of images.\n"
   ]
  },
  {
   "cell_type": "code",
   "execution_count": 10,
   "metadata": {},
   "outputs": [
    {
     "name": "stdout",
     "output_type": "stream",
     "text": [
      "<xarray.Dataset>\n",
      "Dimensions:      (time: 124, x: 1379, y: 1896)\n",
      "Coordinates:\n",
      "  * y            (y) float64 -5.06e+05 -5.06e+05 ... -5.249e+05 -5.249e+05\n",
      "    spatial_ref  int32 6933\n",
      "  * x            (x) float64 3.814e+06 3.814e+06 ... 3.828e+06 3.828e+06\n",
      "  * time         (time) datetime64[ns] 2017-01-16T07:44:55 ... 2020-09-22T07:...\n",
      "Data variables:\n",
      "    red          (time, y, x) float32 dask.array<chunksize=(1, 750, 750), meta=np.ndarray>\n",
      "    nir          (time, y, x) float32 dask.array<chunksize=(1, 750, 750), meta=np.ndarray>\n",
      "    tide_height  (time) float64 -0.866 -1.107 -0.829 ... -0.648 -0.586 -0.361\n",
      "Attributes:\n",
      "    crs:           EPSG:6933\n",
      "    grid_mapping:  spatial_ref\n"
     ]
    }
   ],
   "source": [
    "# Keep timesteps larger than the min tide, and smaller than the max tide\n",
    "ds_filtered = ds.sel(time=(ds.tide_height > min_tide) & (ds.tide_height <= max_tide))\n",
    "print(ds_filtered)"
   ]
  },
  {
   "cell_type": "markdown",
   "metadata": {},
   "source": [
    "## Combine observations into noise-free summary images\n",
    "\n",
    "In the code below, we take the time series of images and combine them into single images for each year using the `median NDVI`. The *Normalised Difference Vegetation Index* (NDVI) shows vegetation and is used for mangrove classification within the mangrove mask.\n",
    "\n",
    "$$\n",
    "\\begin{aligned}\n",
    "\\text{NDVI} & = \\frac{(\\text{NIR} - \\text{Red})}{(\\text{NIR} + \\text{Red})} \\\\\n",
    "\\end{aligned}\n",
    "$$\n",
    "\n",
    "For more information on indices, see the [Calculating Band Indices](../Frequently_used_code/Calculating_band_indices.ipynb) notebook.\n",
    "\n",
    "\n",
    "> Note: This step can take several minutes to load if the study area is large. We recommend opening the Dask processing window to view the different computations that are being executed; to do this, see the Dask dashboard in DE Africa section of the Dask notebook."
   ]
  },
  {
   "cell_type": "code",
   "execution_count": 11,
   "metadata": {},
   "outputs": [],
   "source": [
    "#calculate NDVI\n",
    "ds_filtered = calculate_indices(ds_filtered, index='NDVI', collection = 's2')"
   ]
  },
  {
   "cell_type": "code",
   "execution_count": null,
   "metadata": {},
   "outputs": [],
   "source": [
    "# generate median annual summaries of NDVI\n",
    "ds_summaries = ds_filtered.NDVI.groupby(\"time.year\").median().compute()\n",
    "\n",
    "# Plot the output summary images\n",
    "ds_summaries.plot(col=\"year\", cmap=\"YlGn\", col_wrap=len(ds_summaries.year.values), vmin=0, vmax=1.0);"
   ]
  },
  {
   "cell_type": "markdown",
   "metadata": {},
   "source": [
    "## Mangrove classification\n",
    "### Apply a mask of the mangrove area\n",
    "\n",
    "We will use the mangrove polygon from the Global Mangrove Watch dataset to create a mask, so we can work with only the pixels in the mangrove area.  To convert the vector polygon to a raster mask, we use `xr_rasterize`. For more information on indices, see the [Rasterizing vectors & vectorizing rasters](../Frequently_used_code/Rasterize_vectorize.ipynb) notebook."
   ]
  },
  {
   "cell_type": "code",
   "execution_count": null,
   "metadata": {},
   "outputs": [],
   "source": [
    "# Convert the mangrove polygon to a raster that matches our imagery data.\n",
    "mask = xr_rasterize(gdf, ds_summaries)\n",
    "\n",
    "# Mask dataset to set pixels outside the polygon to `NaN`\n",
    "ds_summaries_masked = ds_summaries.where(mask)"
   ]
  },
  {
   "cell_type": "markdown",
   "metadata": {},
   "source": [
    "### Calculating regular and closed mangroves\n",
    "\n",
    "Using the [mangrove decision tree](#Description) above, we can classify the pixels as:\n",
    "\n",
    "* **mangroves:** pixels in the mangrove area with an `NDVI > 0.4`\n",
    "    * **regular mangroves:** mangroves with `NDVI <= 0.7`\n",
    "    * **closed mangroves:** mangroves with `NDVI > 0.7`"
   ]
  },
  {
   "cell_type": "code",
   "execution_count": null,
   "metadata": {},
   "outputs": [],
   "source": [
    "all_mangroves = xr.where(ds_summaries_masked > 0.4, 1, np.nan)\n",
    "\n",
    "regular_mangroves = all_mangroves.where(ds_summaries_masked <= 0.7)\n",
    "closed_mangroves = all_mangroves.where(ds_summaries_masked > 0.7)"
   ]
  },
  {
   "cell_type": "markdown",
   "metadata": {},
   "source": [
    "### Plot the mangrove types\n",
    "\n",
    "Again we will combine the mangrove types for easier plotting."
   ]
  },
  {
   "cell_type": "code",
   "execution_count": null,
   "metadata": {},
   "outputs": [],
   "source": [
    "mangroves = xr.concat(\n",
    "    [regular_mangroves, closed_mangroves, all_mangroves],\n",
    "    dim=pd.Index([\"regular\", \"closed\", \"total\"], name=\"mangrove_type\"),\n",
    ")\n",
    "\n",
    "regular_color = \"gold\"\n",
    "closed_color = \"green\"\n",
    "\n",
    "# Create a FacetGrid, so there is a subplot for each year\n",
    "grid = xr.plot.FacetGrid(\n",
    "    mangroves,\n",
    "    col=\"year\",\n",
    "    col_wrap=len(ds_summaries.year.values),\n",
    "    size=6,\n",
    "    aspect=mangroves.x.size / mangroves.y.size,\n",
    ")\n",
    "\n",
    "# Define the sub-plot of mangrove types with a legend on a background of grey-scale NDVI\n",
    "def plot_mangrove(data, ax, **kwargs):\n",
    "    ds_summaries.sel(year=data.year).plot.imshow(\n",
    "        ax=ax, cmap=\"Greys\", vmin=-1, vmax=1, add_colorbar=False, add_labels=False\n",
    "    )\n",
    "    data.sel(mangrove_type=\"regular\").plot.imshow(\n",
    "        ax=ax,\n",
    "        cmap=ListedColormap([regular_color]),\n",
    "        add_colorbar=False,\n",
    "        add_labels=False,\n",
    "    )\n",
    "    data.sel(mangrove_type=\"closed\").plot.imshow(\n",
    "        ax=ax, cmap=ListedColormap([closed_color]), add_colorbar=False, add_labels=False\n",
    "    )\n",
    "\n",
    "    ax.legend(\n",
    "        [Patch(facecolor=regular_color), Patch(facecolor=closed_color)],\n",
    "        [\"Regular\", \"Closed\"],\n",
    "        loc=\"lower right\",\n",
    "    )\n",
    "\n",
    "# Plot the each year sub-plot\n",
    "grid.map_dataarray(plot_mangrove, x=\"x\", y=\"y\", add_colorbar=False)\n",
    "\n",
    "# Update sub-plot titles\n",
    "for i, name in np.ndenumerate(grid.name_dicts):\n",
    "    grid.axes[i].title.set_text(str(name[\"year\"]));"
   ]
  },
  {
   "cell_type": "markdown",
   "metadata": {},
   "source": [
    "## Mangrove change\n",
    "### Plot the change of mangrove classification in area over time"
   ]
  },
  {
   "cell_type": "code",
   "execution_count": null,
   "metadata": {},
   "outputs": [],
   "source": [
    "# Convert pixel count to km^2\n",
    "m2_per_ha = 10000\n",
    "m2_per_pixel = query[\"resolution\"][1] ** 2\n",
    "mangrove_area = mangroves.sum(dim=(\"x\", \"y\")) * m2_per_pixel / m2_per_ha\n",
    "\n",
    "# Fix axis and legend text\n",
    "mangrove_area.name = r\"Area (Ha)\"\n",
    "mangrove_area = mangrove_area.rename(mangrove_type=\"Mangrove type\")\n",
    "\n",
    "# Plot the line graph\n",
    "mangrove_area.plot(\n",
    "    hue=\"Mangrove type\",\n",
    "    x=\"year\",\n",
    "    xticks=mangrove_area.year,\n",
    "    size=6,\n",
    "    linestyle=\"--\",\n",
    "    marker=\"o\",\n",
    ")\n",
    "plt.title(\"Mangrove classification over time\");"
   ]
  },
  {
   "cell_type": "markdown",
   "metadata": {},
   "source": [
    "### Monitoring change in mangroves\n",
    "\n",
    "We can calculate the growth and loss of mangroves between the first and last year in our timeseries"
   ]
  },
  {
   "cell_type": "code",
   "execution_count": null,
   "metadata": {},
   "outputs": [],
   "source": [
    "total_mangroves = (mangroves.loc[\"total\"] == 1).astype(int)\n",
    "\n",
    "# Calculate the change in mangrove extent\n",
    "old = total_mangroves.isel(year=0)\n",
    "new = total_mangroves.isel(year=-1)\n",
    "change = new - old\n",
    "\n",
    "# reclassify into growth, loss and stable\n",
    "growth = xr.where(change == 1, 1, np.nan)\n",
    "loss = xr.where(change == -1, -1, np.nan)\n",
    "stable = old.where(~change)\n",
    "stable = xr.where(stable == 1, 1, np.nan)"
   ]
  },
  {
   "cell_type": "markdown",
   "metadata": {},
   "source": [
    "#### Plot the change"
   ]
  },
  {
   "cell_type": "code",
   "execution_count": null,
   "metadata": {},
   "outputs": [],
   "source": [
    "fig, ax = plt.subplots(1, 1, figsize=(12, 12))\n",
    "\n",
    "ds_summaries.isel(year=0).plot.imshow(\n",
    "    ax=ax, cmap=\"Greys\", vmin=-1, vmax=1, add_colorbar=False, add_labels=False\n",
    ")\n",
    "stable.plot(\n",
    "    ax=ax, cmap=ListedColormap([\"palegoldenrod\"]), add_colorbar=False, add_labels=False\n",
    ")\n",
    "growth.plot.imshow(\n",
    "    ax=ax, cmap=ListedColormap([\"lime\"]), add_colorbar=False, add_labels=False\n",
    ")\n",
    "loss.plot.imshow(\n",
    "    ax=ax, cmap=ListedColormap([\"fuchsia\"]), add_colorbar=False, add_labels=False\n",
    ")\n",
    "ax.legend(\n",
    "    [\n",
    "        Patch(facecolor='lime'),\n",
    "        Patch(facecolor='fuchsia'),\n",
    "        Patch(facecolor=\"palegoldenrod\"),\n",
    "    ],\n",
    "    [\"New mangroves\", \"Loss of mangroves\", \"Stable mangroves\"],\n",
    "    loc=\"lower right\",\n",
    ");"
   ]
  },
  {
   "cell_type": "markdown",
   "metadata": {},
   "source": [
    "### Determine the net change between years"
   ]
  },
  {
   "cell_type": "code",
   "execution_count": null,
   "metadata": {},
   "outputs": [],
   "source": [
    "loss_count = loss.sum().values * m2_per_pixel / m2_per_ha\n",
    "gain_count = growth.sum().values * m2_per_pixel / m2_per_ha\n",
    "stable_count = stable.sum().values* m2_per_pixel / m2_per_ha\n",
    "\n",
    "counts = {\n",
    "          'Loss of Mangroves': int(loss_count.item(0)),\n",
    "          'New Mangroves': int(gain_count.item(0)),\n",
    "          'No Change': int(stable_count.item(0)),\n",
    "          'Delta Change': int(gain_count.item(0) + loss_count.item(0))\n",
    "          }\n",
    "\n",
    "df = pd.DataFrame(counts, index=['Area (Ha)'])\n",
    "df.plot.barh(color=['tab:red','tab:green','tab:orange','tab:blue'])\n",
    "plt.title('Change in mangrove extent between {} and {}'.format(ds_summaries.year.values[0], ds_summaries.year.values[-1]));\n"
   ]
  },
  {
   "cell_type": "markdown",
   "metadata": {},
   "source": [
    "## Drawing conclusions\n",
    "Here are some questions to think about:\n",
    "\n",
    "* What are the causes of mangrove growth and loss? \n",
    "* How does the mangrove extent in your plots above compare with the original mangrove extent in the Global Mangrove Watch 2010 dataset?"
   ]
  },
  {
   "cell_type": "markdown",
   "metadata": {},
   "source": [
    "## Additional information\n",
    "\n",
    "**License:** The code in this notebook is licensed under the [Apache License, Version 2.0](https://www.apache.org/licenses/LICENSE-2.0). \n",
    "Digital Earth Africa data is licensed under the [Creative Commons by Attribution 4.0](https://creativecommons.org/licenses/by/4.0/) license.\n",
    "\n",
    "**Contact:** If you need assistance, please post a question on the [Open Data Cube Slack channel](http://slack.opendatacube.org/) or on the [GIS Stack Exchange](https://gis.stackexchange.com/questions/ask?tags=open-data-cube) using the `open-data-cube` tag (you can view previously asked questions [here](https://gis.stackexchange.com/questions/tagged/open-data-cube)).\n",
    "If you would like to report an issue with this notebook, you can file one on [Github](https://github.com/digitalearthafrica/deafrica-sandbox-notebooks).\n",
    "\n",
    "**Last modified:** June 2020\n",
    "\n",
    "**Compatible `datacube` version:** "
   ]
  },
  {
   "cell_type": "code",
   "execution_count": null,
   "metadata": {},
   "outputs": [],
   "source": [
    "print(datacube.__version__)"
   ]
  },
  {
   "cell_type": "markdown",
   "metadata": {},
   "source": [
    "## Tags\n",
    "Browse all available tags on the DE Africa User Guide's [Tags Index]()"
   ]
  },
  {
   "cell_type": "raw",
   "metadata": {
    "raw_mimetype": "text/restructuredtext"
   },
   "source": [
    "**Tags**: :index:`Sentinel-2`, :index:`deafrica_datahandling`, :index:`deafrica_bandindices`, :index:`calculate_indices`, :index:`map_shapefile`, :index:`xr_rasterize`, :index:`NDVI`, :index:`real world`, :index:`mangroves`"
   ]
  }
 ],
 "metadata": {
  "kernelspec": {
   "display_name": "Python 3",
   "language": "python",
   "name": "python3"
  },
  "language_info": {
   "codemirror_mode": {
    "name": "ipython",
    "version": 3
   },
   "file_extension": ".py",
   "mimetype": "text/x-python",
   "name": "python",
   "nbconvert_exporter": "python",
   "pygments_lexer": "ipython3",
   "version": "3.6.9"
  }
 },
 "nbformat": 4,
 "nbformat_minor": 4
}
