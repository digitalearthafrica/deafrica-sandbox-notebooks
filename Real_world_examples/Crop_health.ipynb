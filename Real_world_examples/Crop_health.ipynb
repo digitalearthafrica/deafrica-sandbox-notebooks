{
 "cells": [
  {
   "cell_type": "markdown",
   "metadata": {},
   "source": [
    "# Measuring crop health\n",
    "\n",
    "* **Products used:** \n",
    "[s2_l2a](https://explorer.digitalearth.africa/s2_l2a)"
   ]
  },
  {
   "cell_type": "raw",
   "metadata": {
    "raw_mimetype": "text/restructuredtext"
   },
   "source": [
    "**Keywords**: :index:`data used; sentinel-2`, :index:`band index; NDVI`, :index:`interactive`, :index:`analysis; time series`, :index:`agriculture`"
   ]
  },
  {
   "cell_type": "markdown",
   "metadata": {},
   "source": [
    "## Background\n",
    "While crops are growing, fields may look visually similar.\n",
    "However, health or growth rates from these fields can be quite different, leading to variability and unpredictability in revenue.\n",
    "Identifying underperforming crops can have two benefits:\n",
    "\n",
    "* Ability to scout for disease damage.\n",
    "* Ability to investigate poor performing fields and undertake management action such as soil testing or targeted fertilising to improve yield.\n",
    "\n",
    "### Digital Earth Africa use case\n",
    "Satellite imagery can be used to measure plant health over time and identify any changes in growth patterns between otherwise similar fields.\n",
    "Sentinel-2's 20-metre resolution makes it ideal for understanding the health of large fields.\n",
    "\n",
    "The Normalised Difference Vegetation Index (NDVI) describes the difference between visible and near-infrared reflectance of vegetation cover.\n",
    "This index estimates the density of green on an area of land and can be used to track the health and growth of crops as they mature.\n",
    "Comparing the NDVI of two similar planting areas will help to identify any anomalies in growth patterns. \n",
    "\n",
    "## Description\n",
    "In this example, data from Sentinel-2 is used to assess crop growing patterns over two years.\n",
    "The worked example below takes users through the code required to:\n",
    "\n",
    "1. Create a time series data cube over croplands.\n",
    "2. Select multiple areas for comparison.\n",
    "3. Create graphs to identify crop performance trends over two years.\n",
    "4. Interpret the results.\n",
    "\n",
    "***"
   ]
  },
  {
   "cell_type": "markdown",
   "metadata": {},
   "source": [
    "## Getting started\n",
    "\n",
    "**To run this analysis**, run all the cells in the notebook, starting with the \"Load packages and apps\" cell."
   ]
  },
  {
   "cell_type": "markdown",
   "metadata": {},
   "source": [
    "### Load packages and apps\n",
    "\n",
    "This notebook works via two functions, which are referred to as apps: `load_crophealth_data` and `run_crophealth_app`.\n",
    "The apps allow the majority of the analysis code to be stored in another file, making the notebook easy to use and run.\n",
    "To view the code behind the apps, open the [crophealth.py](../Tools/deafrica_tools/app/crophealth.py) file."
   ]
  },
  {
   "cell_type": "code",
   "execution_count": 1,
   "metadata": {},
   "outputs": [
    {
     "name": "stderr",
     "output_type": "stream",
     "text": [
      "/env/lib/python3.8/site-packages/datacube/storage/masking.py:7: DeprecationWarning: datacube.storage.masking has moved to datacube.utils.masking\n",
      "  warnings.warn(\"datacube.storage.masking has moved to datacube.utils.masking\",\n"
     ]
    }
   ],
   "source": [
    "%matplotlib inline\n",
    "\n",
    "import datacube\n",
    "from deafrica_tools.app.crophealth import load_crophealth_data\n",
    "from deafrica_tools.app.crophealth import run_crophealth_app"
   ]
  },
  {
   "cell_type": "markdown",
   "metadata": {},
   "source": [
    "### Analysis parameters\n",
    "\n",
    "The following cell sets important parameters for the analysis. \n",
    "There are four parameters that control where the data will be loaded:\n",
    "\n",
    "* `lat`: The central latitude to analyse (e.g. `14.789064`).\n",
    "* `lon`: The central longitude to analyse (e.g. `-17.065202`).\n",
    "* `buffer`: The number of square degrees to load around the central latitude and longitude. For reasonable loading times, set this as `0.1` or lower.\n",
    "* `date`: The most recent date to show data for. The app will automatically load all data available for the two years prior to this date. (e.g. `'2020-08-01'` shows data from August 2018 to August 2020).\n",
    "\n",
    "These can be changed in the cell below, noting that the [DE Africa Explorer](https://explorer.digitalearth.africa/ls8_sr) can be used to check whether Sentinel-2 data is available over the selected area.\n",
    "\n",
    "#### Suggested areas\n",
    "Here are some suggestions for areas to look at. To view one of these areas, copy and paste the parameter values into the cell below, then run the notebook.\n",
    "\n",
    "**Croplands, Senegal**\n",
    "```\n",
    "lat = 14.789064\n",
    "lon = -17.065202\n",
    "buffer = 0.005\n",
    "```\n",
    "\n",
    "**Aviv Coffee Farm, Tanzania**\n",
    "```\n",
    "lat = -10.6979 \n",
    "lon = 35.2635\n",
    "buffer = 0.003\n",
    "```\n",
    "\n",
    "**Croplands, Western Kenya**\n",
    "```\n",
    "lat = -0.483689\n",
    "lon = 34.193792\n",
    "buffer = 0.005\n",
    "```"
   ]
  },
  {
   "cell_type": "code",
   "execution_count": 2,
   "metadata": {},
   "outputs": [],
   "source": [
    "# Define the area of interest for the analysis\n",
    "lat = 14.789064\n",
    "lon = -17.065202\n",
    "buffer = 0.005\n",
    "date = '2020-08-01'"
   ]
  },
  {
   "cell_type": "markdown",
   "metadata": {},
   "source": [
    "## Load the data\n",
    "The `load_crophealth_data()` command performs several key steps:\n",
    "\n",
    "* identify all available Sentinel-2 data in the case-study area over the two years prior to the set date\n",
    "* remove any bad quality pixels\n",
    "* keep images where more than half of the image contains good quality pixels\n",
    "* calculate the NDVI from the red and near infrared bands\n",
    "* return the collated data for analysis\n",
    "\n",
    "The cleaned and collated data is stored in the `dataset` object.\n",
    "As the command runs, feedback will be provided below the cell, including information on the number of cleaned images loaded from the satellite.\n",
    "\n",
    "The function takes four arguments: `lat`, `lon`, and `buffer`, `date`.\n",
    "These determine the area of interest adn date range that the function loads, and can be changed in the previous cell.\n",
    "\n",
    "**Please be patient**.\n",
    "The load is complete when the cell status goes from `[*]` to `[number]`."
   ]
  },
  {
   "cell_type": "code",
   "execution_count": 3,
   "metadata": {},
   "outputs": [
    {
     "name": "stdout",
     "output_type": "stream",
     "text": [
      "Using pixel quality parameters for Sentinel 2\n",
      "Finding datasets\n",
      "    s2_l2a\n",
      "Counting good quality pixels for each time step\n"
     ]
    },
    {
     "name": "stderr",
     "output_type": "stream",
     "text": [
      "CPLReleaseMutex: Error = 1 (Operation not permitted)\n"
     ]
    },
    {
     "name": "stdout",
     "output_type": "stream",
     "text": [
      "Filtering to 97 out of 146 time steps with at least 50.0% good quality pixels\n",
      "Applying pixel quality/cloud mask\n",
      "Loading 97 time steps\n"
     ]
    }
   ],
   "source": [
    "dataset = load_crophealth_data(lat, lon, buffer, date)"
   ]
  },
  {
   "cell_type": "markdown",
   "metadata": {},
   "source": [
    "## Run the crop health app\n",
    "The `run_crophealth_app()` command launches an interactive map.\n",
    "Drawing polygons within the red boundary (which represents the area covered by the loaded data) will result in plots of the average NDVI in that area.\n",
    "Draw polygons by clicking the &#11039; symbol in the app.\n",
    "\n",
    "The function works by taking the loaded data `dataset` as an argument, as well as the `lat`, `lon`, and `buffer` parameters used to define the spatial extent.\n",
    "\n",
    "> **Note:** data points will only appear for images where more than 50% of the pixels were classified as good quality. This may cause trend lines on the average NDVI plot to appear disconnected. Available data points will be marked with the `*` symbol."
   ]
  },
  {
   "cell_type": "code",
   "execution_count": 4,
   "metadata": {},
   "outputs": [
    {
     "data": {
      "application/vnd.jupyter.widget-view+json": {
       "model_id": "f969b22049064626ae721ba49d24e833",
       "version_major": 2,
       "version_minor": 0
      },
      "text/plain": [
       "VBox(children=(Output(layout=Layout(border='1px solid black')), HBox(children=(Map(center=[14.789064, -17.0652…"
      ]
     },
     "metadata": {},
     "output_type": "display_data"
    }
   ],
   "source": [
    "run_crophealth_app(dataset, lat, lon, buffer)"
   ]
  },
  {
   "cell_type": "markdown",
   "metadata": {},
   "source": [
    "## Drawing conclusions\n",
    "\n",
    "Here are some questions to think about:\n",
    "\n",
    "* What are some factors that might explain differences or similarities across different sections of the study area?\n",
    "* Are there any noticable patterns across the two years of data? Could these correspond to specific events such as planting or harvesting?"
   ]
  },
  {
   "cell_type": "markdown",
   "metadata": {},
   "source": [
    "---\n",
    "\n",
    "## Additional information\n",
    "\n",
    "**License:** The code in this notebook is licensed under the [Apache License, Version 2.0](https://www.apache.org/licenses/LICENSE-2.0). \n",
    "Digital Earth Africa data is licensed under the [Creative Commons by Attribution 4.0](https://creativecommons.org/licenses/by/4.0/) license.\n",
    "\n",
    "**Contact:** If you need assistance, please post a question on the [Open Data Cube Slack channel](http://slack.opendatacube.org/) or on the [GIS Stack Exchange](https://gis.stackexchange.com/questions/ask?tags=open-data-cube) using the `open-data-cube` tag (you can view previously asked questions [here](https://gis.stackexchange.com/questions/tagged/open-data-cube)).\n",
    "If you would like to report an issue with this notebook, you can file one on [Github](https://github.com/digitalearthafrica/deafrica-sandbox-notebooks).\n",
    "\n",
    "**Compatible datacube version:**"
   ]
  },
  {
   "cell_type": "code",
   "execution_count": 5,
   "metadata": {},
   "outputs": [
    {
     "name": "stdout",
     "output_type": "stream",
     "text": [
      "1.8.6\n"
     ]
    }
   ],
   "source": [
    "print(datacube.__version__)"
   ]
  },
  {
   "cell_type": "markdown",
   "metadata": {},
   "source": [
    "**Last Tested:**"
   ]
  },
  {
   "cell_type": "code",
   "execution_count": 6,
   "metadata": {
    "raw_mimetype": "text/restructuredtext"
   },
   "outputs": [
    {
     "data": {
      "text/plain": [
       "'2021-10-19'"
      ]
     },
     "execution_count": 6,
     "metadata": {},
     "output_type": "execute_result"
    }
   ],
   "source": [
    "from datetime import datetime\n",
    "datetime.today().strftime('%Y-%m-%d')"
   ]
  }
 ],
 "metadata": {
  "kernelspec": {
   "display_name": "Python 3 (ipykernel)",
   "language": "python",
   "name": "python3"
  },
  "language_info": {
   "codemirror_mode": {
    "name": "ipython",
    "version": 3
   },
   "file_extension": ".py",
   "mimetype": "text/x-python",
   "name": "python",
   "nbconvert_exporter": "python",
   "pygments_lexer": "ipython3",
   "version": "3.8.10"
  },
  "widgets": {
   "application/vnd.jupyter.widget-state+json": {
    "state": {
     "16d941442009463ab2703ad3fe775efd": {
      "model_module": "@jupyter-widgets/controls",
      "model_module_version": "1.5.0",
      "model_name": "DescriptionStyleModel",
      "state": {
       "description_width": ""
      }
     },
     "1919393d4dbd4fb89fd2f39e5b941767": {
      "model_module": "jupyter-leaflet",
      "model_module_version": "^0.14.0",
      "model_name": "LeafletZoomControlModel",
      "state": {
       "_model_module_version": "^0.14.0",
       "_view_module_version": "^0.14.0",
       "options": [
        "position",
        "zoom_in_text",
        "zoom_in_title",
        "zoom_out_text",
        "zoom_out_title"
       ]
      }
     },
     "2396633632264454bd76f4ef7a179439": {
      "model_module": "jupyter-leaflet",
      "model_module_version": "^0.14.0",
      "model_name": "LeafletTileLayerModel",
      "state": {
       "_model_module_version": "^0.14.0",
       "_view_module_version": "^0.14.0",
       "attribution": "Tiles &copy; Esri &mdash; Source: Esri, i-cubed, USDA, USGS, AEX, GeoEye, Getmapping, Aerogrid, IGN, IGP, UPR-EGP, and the GIS User Community",
       "base": true,
       "max_native_zoom": 18,
       "max_zoom": 20,
       "min_native_zoom": 0,
       "min_zoom": 1,
       "name": "Esri.WorldImagery",
       "options": [
        "attribution",
        "detect_retina",
        "max_native_zoom",
        "max_zoom",
        "min_native_zoom",
        "min_zoom",
        "no_wrap",
        "tile_size",
        "tms"
       ],
       "url": "http://server.arcgisonline.com/ArcGIS/rest/services/World_Imagery/MapServer/tile/{z}/{y}/{x}"
      }
     },
     "31708bd2328f49889a201fab48e58e5f": {
      "model_module": "@jupyter-widgets/controls",
      "model_module_version": "1.5.0",
      "model_name": "HBoxModel",
      "state": {
       "children": [
        "IPY_MODEL_6e2812ff05db43b0858c150a1f30699e",
        "IPY_MODEL_c19731b52d334c919ea132c293db3ddd"
       ],
       "layout": "IPY_MODEL_db44e25df78141699b05d05add0bd0e0"
      }
     },
     "3f21e43d74954c27827aa3fbf63fb6a3": {
      "model_module": "@jupyter-widgets/output",
      "model_module_version": "1.0.0",
      "model_name": "OutputModel",
      "state": {
       "layout": "IPY_MODEL_d21e476976d7487e87322500415d5dca",
       "outputs": [
        {
         "name": "stdout",
         "output_type": "stream",
         "text": "Plot status:\n"
        }
       ]
      }
     },
     "3f45ee5552654e8483e2fefb0ea6ac68": {
      "model_module": "@jupyter-widgets/base",
      "model_module_version": "1.2.0",
      "model_name": "LayoutModel",
      "state": {}
     },
     "3fc1ed85c4144f8a924bca8e06984d36": {
      "model_module": "@jupyter-widgets/base",
      "model_module_version": "1.2.0",
      "model_name": "LayoutModel",
      "state": {
       "width": "50%"
      }
     },
     "4144eb0cd5944bd6adeeadc009a29610": {
      "model_module": "@jupyter-widgets/controls",
      "model_module_version": "1.5.0",
      "model_name": "HTMLModel",
      "state": {
       "layout": "IPY_MODEL_3f45ee5552654e8483e2fefb0ea6ac68",
       "style": "IPY_MODEL_16d941442009463ab2703ad3fe775efd"
      }
     },
     "46bd76321fe648d487b68df93055c8f0": {
      "model_module": "@jupyter-widgets/base",
      "model_module_version": "1.2.0",
      "model_name": "LayoutModel",
      "state": {}
     },
     "4da5e9d9b2c54732bb4e894f2d5a18c2": {
      "model_module": "jupyter-leaflet",
      "model_module_version": "^0.14.0",
      "model_name": "LeafletMapStyleModel",
      "state": {
       "_model_module_version": "^0.14.0",
       "cursor": "move"
      }
     },
     "52c495bd637149c195f781500b981f53": {
      "model_module": "@jupyter-widgets/base",
      "model_module_version": "1.2.0",
      "model_name": "LayoutModel",
      "state": {
       "border": "1px solid black"
      }
     },
     "56c5a40a26974731a250a629e58b7085": {
      "model_module": "jupyter-leaflet",
      "model_module_version": "^0.14.0",
      "model_name": "LeafletMapStyleModel",
      "state": {
       "_model_module_version": "^0.14.0"
      }
     },
     "6e2812ff05db43b0858c150a1f30699e": {
      "model_module": "jupyter-leaflet",
      "model_module_version": "^0.14.0",
      "model_name": "LeafletMapModel",
      "state": {
       "_model_module_version": "^0.14.0",
       "_view_module_version": "^0.14.0",
       "bottom": 7691804,
       "center": [
        14.789064,
        -17.065202
       ],
       "controls": [
        "IPY_MODEL_1919393d4dbd4fb89fd2f39e5b941767",
        "IPY_MODEL_afbdcb0b60f24a1ab3e7dea501f40bb0",
        "IPY_MODEL_bbc256dcb7f249548fbe37886690ec41"
       ],
       "default_style": "IPY_MODEL_56c5a40a26974731a250a629e58b7085",
       "dragging_style": "IPY_MODEL_4da5e9d9b2c54732bb4e894f2d5a18c2",
       "east": -17.060029506683353,
       "fullscreen": false,
       "interpolation": "bilinear",
       "layers": [
        "IPY_MODEL_2396633632264454bd76f4ef7a179439",
        "IPY_MODEL_72d48d8a206a4f7fba934815f50420f4"
       ],
       "layout": "IPY_MODEL_e473363de7534524938854d2d085bb08",
       "left": 7593071,
       "modisdate": "yesterday",
       "north": 14.793223123227861,
       "options": [
        "bounce_at_zoom_limits",
        "box_zoom",
        "center",
        "close_popup_on_click",
        "double_click_zoom",
        "dragging",
        "fullscreen",
        "inertia",
        "inertia_deceleration",
        "inertia_max_speed",
        "interpolation",
        "keyboard",
        "keyboard_pan_offset",
        "keyboard_zoom_offset",
        "max_zoom",
        "min_zoom",
        "scroll_wheel_zoom",
        "tap",
        "tap_tolerance",
        "touch_zoom",
        "world_copy_jump",
        "zoom",
        "zoom_animation_threshold",
        "zoom_delta",
        "zoom_snap",
        "zoom_start"
       ],
       "right": 7593553,
       "south": 14.784924393570158,
       "style": "IPY_MODEL_8532d10b7f0e456ca4838485c5834e37",
       "top": 7691404,
       "west": -17.07037210464478,
       "window_url": "https://sandbox.digitalearth.africa/user/caitlinadams/lab/tree/dev/deafrica-sandbox-notebooks/Real_world_examples/Crop_health.ipynb",
       "zoom": 16
      }
     },
     "72d48d8a206a4f7fba934815f50420f4": {
      "model_module": "jupyter-leaflet",
      "model_module_version": "^0.14.0",
      "model_name": "LeafletGeoJSONModel",
      "state": {
       "_model_module": "jupyter-leaflet",
       "_model_module_version": "^0.14.0",
       "_view_count": null,
       "_view_module": "jupyter-leaflet",
       "_view_module_version": "^0.14.0",
       "base": false,
       "bottom": false,
       "data": {
        "geometry": {
         "coordinates": [
          [
           [
            -17.070202,
            14.784063999999999
           ],
           [
            -17.060202,
            14.784063999999999
           ],
           [
            -17.060202,
            14.794064
           ],
           [
            -17.070202,
            14.794064
           ],
           [
            -17.070202,
            14.784063999999999
           ]
          ]
         ],
         "type": "Polygon"
        },
        "properties": {
         "style": {
          "clickable": true,
          "color": "red",
          "fill": true,
          "fillColor": false,
          "fillOpacity": 0,
          "opacity": 0.8,
          "showArea": true,
          "stroke": true,
          "weight": 4
         }
        },
        "type": "Feature"
       },
       "name": "",
       "options": [],
       "popup": null,
       "popup_max_height": null,
       "popup_max_width": 300,
       "popup_min_width": 50
      }
     },
     "8532d10b7f0e456ca4838485c5834e37": {
      "model_module": "jupyter-leaflet",
      "model_module_version": "^0.14.0",
      "model_name": "LeafletMapStyleModel",
      "state": {
       "_model_module_version": "^0.14.0"
      }
     },
     "93c0d9e0470c41b086b7291d6ed4e264": {
      "model_module": "@jupyter-widgets/output",
      "model_module_version": "1.0.0",
      "model_name": "OutputModel",
      "state": {
       "layout": "IPY_MODEL_52c495bd637149c195f781500b981f53",
       "outputs": [
        {
         "name": "stdout",
         "output_type": "stream",
         "text": "Draw a polygon within the red box to view a plot of average NDVI over time in that area.\n"
        }
       ]
      }
     },
     "afbdcb0b60f24a1ab3e7dea501f40bb0": {
      "model_module": "jupyter-leaflet",
      "model_module_version": "^0.14.0",
      "model_name": "LeafletAttributionControlModel",
      "state": {
       "_model_module_version": "^0.14.0",
       "_view_module_version": "^0.14.0",
       "options": [
        "position",
        "prefix"
       ],
       "position": "bottomright",
       "prefix": "ipyleaflet"
      }
     },
     "bbc256dcb7f249548fbe37886690ec41": {
      "model_module": "jupyter-leaflet",
      "model_module_version": "^0.14.0",
      "model_name": "LeafletDrawControlModel",
      "state": {
       "_model_module_version": "^0.14.0",
       "_view_module_version": "^0.14.0",
       "options": [
        "position"
       ],
       "polygon": {
        "shapeOptions": {
         "fillOpacity": 0
        }
       },
       "polyline": {}
      }
     },
     "c19731b52d334c919ea132c293db3ddd": {
      "model_module": "@jupyter-widgets/output",
      "model_module_version": "1.0.0",
      "model_name": "OutputModel",
      "state": {
       "layout": "IPY_MODEL_3fc1ed85c4144f8a924bca8e06984d36",
       "outputs": [
        {
         "data": {
          "application/vnd.jupyter.widget-view+json": {
           "model_id": "4144eb0cd5944bd6adeeadc009a29610",
           "version_major": 2,
           "version_minor": 0
          },
          "text/plain": "HTML(value='')"
         },
         "metadata": {},
         "output_type": "display_data"
        }
       ]
      }
     },
     "d21e476976d7487e87322500415d5dca": {
      "model_module": "@jupyter-widgets/base",
      "model_module_version": "1.2.0",
      "model_name": "LayoutModel",
      "state": {
       "border": "1px solid black"
      }
     },
     "db44e25df78141699b05d05add0bd0e0": {
      "model_module": "@jupyter-widgets/base",
      "model_module_version": "1.2.0",
      "model_name": "LayoutModel",
      "state": {}
     },
     "e473363de7534524938854d2d085bb08": {
      "model_module": "@jupyter-widgets/base",
      "model_module_version": "1.2.0",
      "model_name": "LayoutModel",
      "state": {}
     },
     "f969b22049064626ae721ba49d24e833": {
      "model_module": "@jupyter-widgets/controls",
      "model_module_version": "1.5.0",
      "model_name": "VBoxModel",
      "state": {
       "children": [
        "IPY_MODEL_93c0d9e0470c41b086b7291d6ed4e264",
        "IPY_MODEL_31708bd2328f49889a201fab48e58e5f",
        "IPY_MODEL_3f21e43d74954c27827aa3fbf63fb6a3"
       ],
       "layout": "IPY_MODEL_46bd76321fe648d487b68df93055c8f0"
      }
     }
    },
    "version_major": 2,
    "version_minor": 0
   }
  }
 },
 "nbformat": 4,
 "nbformat_minor": 4
}
