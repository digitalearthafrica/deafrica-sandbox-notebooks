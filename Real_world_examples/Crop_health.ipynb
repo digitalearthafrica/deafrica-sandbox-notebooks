{
 "cells": [
  {
   "cell_type": "markdown",
   "metadata": {},
   "source": [
    "# Measuring crop health <img align=\"right\" src=\"../Supplementary_data/DE_Africa_Logo_Stacked_RGB_small.jpg\">\n",
    "\n",
    "* **Products used:** \n",
    "[ls8_usgs_sr_scene](https://explorer.digitalearth.africa/ls8_usgs_sr_scene)"
   ]
  },
  {
   "cell_type": "markdown",
   "metadata": {},
   "source": [
    "## Background\n",
    "While crops are growing, fields may look visually similar.\n",
    "However, health or growth rates from these fields can be quite different, leading to variability and unpredictability in revenue.\n",
    "Identifying underperforming crops can have two benefits:\n",
    "\n",
    "* Ability to scout for disease damage.\n",
    "* Ability to investigate poor performing fields and undertake management action such as soil testing or targeted fertilising to improve yield.\n",
    "\n",
    "### Digital Earth Africa use case\n",
    "Satellite imagery can be used to measure plant health over time and identify any changes in growth patterns between otherwise similar fields.\n",
    "Landsat 8's 30-metre resolution makes it ideal for understanding the health of large fields.\n",
    "\n",
    "The Normalised Difference Vegetation Index (NDVI) describes the difference between visible and near-infrared reflectance of vegetation cover.\n",
    "This index estimates the density of green on an area of land and can be used to track the health and growth of crops as they mature.\n",
    "Comparing the NDVI of two similar planting areas will help to identify any anomalies in growth patterns. \n",
    "\n",
    "## Description\n",
    "In this example, data from Landsat 8 is used to assess crop growing patterns for the last two years.\n",
    "The worked example below takes users through the code required to:\n",
    "\n",
    "1. Create a time series data cube over croplands.\n",
    "2. Select multiple areas for comparison.\n",
    "3. Create graphs to identify crop performance trends over the last two years.\n",
    "4. Interpret the results.\n",
    "\n",
    "***"
   ]
  },
  {
   "cell_type": "markdown",
   "metadata": {},
   "source": [
    "## Getting started\n",
    "\n",
    "**To run this analysis**, run all the cells in the notebook, starting with the \"Load packages and apps\" cell."
   ]
  },
  {
   "cell_type": "markdown",
   "metadata": {},
   "source": [
    "### Load packages and apps\n",
    "\n",
    "This notebook works via two functions, which are referred to as apps: `load_crophealth_data` and `run_crophealth_app`.\n",
    "The apps allow the majority of the analysis code to be stored in another file, making the notebook easy to use and run.\n",
    "To view the code behind the apps, open the [notebookapp_crophealth.py](../Scripts/notebookapp_crophealth.py) file."
   ]
  },
  {
   "cell_type": "code",
   "execution_count": 1,
   "metadata": {},
   "outputs": [],
   "source": [
    "%matplotlib inline\n",
    "\n",
    "import sys\n",
    "import datacube\n",
    "\n",
    "sys.path.append(\"../Scripts\")\n",
    "from notebookapp_crophealth import load_crophealth_data\n",
    "from notebookapp_crophealth import run_crophealth_app"
   ]
  },
  {
   "cell_type": "markdown",
   "metadata": {},
   "source": [
    "### Analysis parameters\n",
    "\n",
    "The following cell sets important parameters for the analysis. \n",
    "There are three parameters that control where the data will be loaded:\n",
    "\n",
    "* `lat`: The central latitude to analyse (e.g. `14.789064`).\n",
    "* `lon`: The central longitude to analyse (e.g. `-17.065202`).\n",
    "* `buffer`: The number of square degrees to load around the central latitude and longitude. For reasonable loading times, set this as `0.1` or lower.\n",
    "\n",
    "These can be changed in the cell below, noting that the [DE Africa Explorer](https://explorer.digitalearth.africa/ls8_usgs_sr_scene) can be used to check whether Landsat 8 data is available over the selected area.\n",
    "\n",
    "#### Suggested areas\n",
    "Here are some suggestions for areas to look at. To view one of these areas, copy and paste the parameter values into the cell below, then run the notebook.\n",
    "\n",
    "**Croplands, Senegal**\n",
    "```\n",
    "lat = 14.789064\n",
    "lon = -17.065202\n",
    "buffer = 0.005\n",
    "```\n",
    "\n",
    "**Aviv Coffee Farm, Tanzania**\n",
    "```\n",
    "lat = -10.6979 \n",
    "lon = 35.2635\n",
    "buffer = 0.003\n",
    "```\n",
    "\n",
    "**Croplands, Western Kenya**\n",
    "```\n",
    "lat = -0.483689\n",
    "lon = 34.193792\n",
    "buffer = 0.005\n",
    "```"
   ]
  },
  {
   "cell_type": "code",
   "execution_count": 2,
   "metadata": {},
   "outputs": [],
   "source": [
    "# Define the area of interest for the analysis\n",
    "lat = 14.789064\n",
    "lon = -17.065202\n",
    "buffer = 0.005"
   ]
  },
  {
   "cell_type": "markdown",
   "metadata": {},
   "source": [
    "## Load the data\n",
    "The `load_crophealth_data()` command performs several key steps:\n",
    "\n",
    "* identify all available Landsat 8 data in the case-study area over the last two years\n",
    "* remove any bad quality pixels\n",
    "* keep images where more than half of the image contains good quality pixels\n",
    "* calculate the NDVI from the red and near infrared bands\n",
    "* return the collated data for analysis\n",
    "\n",
    "The cleaned and collated data is stored in the `dataset` object.\n",
    "As the command runs, feedback will be provided below the cell, including information on the number of cleaned images loaded from the satellite.\n",
    "\n",
    "The function takes three arguments: `lat`, `lon`, and `buffer`.\n",
    "These determine the area of interest that the function loads, and can be changed in the previous cell.\n",
    "\n",
    "**Please be patient**.\n",
    "The load is complete when the cell status goes from `[*]` to `[number]`."
   ]
  },
  {
   "cell_type": "code",
   "execution_count": 3,
   "metadata": {},
   "outputs": [
    {
     "name": "stdout",
     "output_type": "stream",
     "text": [
      "Using pixel quality parameters for USGS Collection 1\n",
      "Finding datasets\n",
      "    ls8_usgs_sr_scene\n",
      "Counting good quality pixels for each time step\n",
      "Filtering to 25 out of 38 time steps with at least 50.0% good quality pixels\n",
      "Applying pixel quality/cloud mask\n",
      "Loading 25 time steps\n"
     ]
    }
   ],
   "source": [
    "dataset = load_crophealth_data(lat, lon, buffer)"
   ]
  },
  {
   "cell_type": "markdown",
   "metadata": {},
   "source": [
    "## Run the crop health app\n",
    "The `run_crophealth_app()` command launches an interactive map.\n",
    "Drawing polygons within the red boundary (which represents the area covered by the loaded data) will result in plots of the average NDVI in that area.\n",
    "Draw polygons by clicking the &#11039; symbol in the app.\n",
    "\n",
    "The function works by taking the loaded data `dataset` as an argument, as well as the `lat`, `lon`, and `buffer` parameters used to define the spatial extent.\n",
    "\n",
    "> **Note:** data points will only appear for images where more than 50% of the pixels were classified as good quality. This may cause trend lines on the average NDVI plot to appear disconnected. Available data points will be marked with the `*` symbol."
   ]
  },
  {
   "cell_type": "code",
   "execution_count": 4,
   "metadata": {},
   "outputs": [
    {
     "data": {
      "application/vnd.jupyter.widget-view+json": {
       "model_id": "22906faed5484377a9d498b3d49dfbf6",
       "version_major": 2,
       "version_minor": 0
      },
      "text/plain": [
       "VBox(children=(Output(layout=Layout(border='1px solid black')), HBox(children=(Map(basemap={'url': 'http://ser…"
      ]
     },
     "metadata": {},
     "output_type": "display_data"
    }
   ],
   "source": [
    "run_crophealth_app(dataset, lat, lon, buffer)"
   ]
  },
  {
   "cell_type": "markdown",
   "metadata": {},
   "source": [
    "## Drawing conclusions\n",
    "\n",
    "Here are some questions to think about:\n",
    "\n",
    "* What are some factors that might explain differences or similarities across different sections of the study area?\n",
    "* Are there any noticable patterns across the two years of data? Could these correspond to specific events such as planting or harvesting?"
   ]
  },
  {
   "cell_type": "markdown",
   "metadata": {},
   "source": [
    "***\n",
    "\n",
    "## Additional information\n",
    "\n",
    "**License:** The code in this notebook is licensed under the [Apache License, Version 2.0](https://www.apache.org/licenses/LICENSE-2.0). \n",
    "Digital Earth Africa data is licensed under the [Creative Commons by Attribution 4.0](https://creativecommons.org/licenses/by/4.0/) license.\n",
    "\n",
    "**Contact:** If you need assistance, please post a question on the [Open Data Cube Slack channel](http://slack.opendatacube.org/) or on the [GIS Stack Exchange](https://gis.stackexchange.com/questions/ask?tags=open-data-cube) using the `open-data-cube` tag (you can view previously asked questions [here](https://gis.stackexchange.com/questions/tagged/open-data-cube)).\n",
    "If you would like to report an issue with this notebook, you can file one on [Github](https://github.com/digitalearthafrica/deafrica-sandbox-notebooks).\n",
    "\n",
    "**Last modified:** April 2020\n",
    "\n",
    "**Compatible datacube version:** "
   ]
  },
  {
   "cell_type": "code",
   "execution_count": 5,
   "metadata": {},
   "outputs": [
    {
     "name": "stdout",
     "output_type": "stream",
     "text": [
      "1.7+262.g1cf3cea8\n"
     ]
    }
   ],
   "source": [
    "print(datacube.__version__)"
   ]
  },
  {
   "cell_type": "markdown",
   "metadata": {},
   "source": [
    "## Tags\n",
    "Browse all available tags on the DE Africa User Guide's [Tags Index]() (Placeholder as this does not exist yet)"
   ]
  },
  {
   "cell_type": "raw",
   "metadata": {
    "raw_mimetype": "text/restructuredtext"
   },
   "source": [
    "**Tags**: :index:`landsat 8`, :index:`NDVI`, :index:`real world`, :index:`agriculture`, :index:`time series`, :index:`interactive`, :index:`widgets`"
   ]
  }
 ],
 "metadata": {
  "kernelspec": {
   "display_name": "Python 3",
   "language": "python",
   "name": "python3"
  },
  "language_info": {
   "codemirror_mode": {
    "name": "ipython",
    "version": 3
   },
   "file_extension": ".py",
   "mimetype": "text/x-python",
   "name": "python",
   "nbconvert_exporter": "python",
   "pygments_lexer": "ipython3",
   "version": "3.6.9"
  },
  "widgets": {
   "application/vnd.jupyter.widget-state+json": {
    "state": {
     "0062e35f91b742c190b1cae3bbf09e97": {
      "model_module": "@jupyter-widgets/output",
      "model_module_version": "1.0.0",
      "model_name": "OutputModel",
      "state": {
       "layout": "IPY_MODEL_789761723e1d4f459ce94887f4e2e333",
       "outputs": [
        {
         "name": "stdout",
         "output_type": "stream",
         "text": "Plot status: polygon sucessfully added to plot.\n"
        }
       ]
      }
     },
     "1491afd9d37d41e98cf11260491a5d79": {
      "model_module": "jupyter-leaflet",
      "model_module_version": "^0.11.1",
      "model_name": "LeafletAttributionControlModel",
      "state": {
       "_model_module_version": "^0.11.1",
       "_view_count": null,
       "_view_module_version": "^0.11.1",
       "options": [
        "position",
        "prefix"
       ],
       "position": "bottomright",
       "prefix": "Leaflet"
      }
     },
     "17c05e4ef8d3431682655a1cb220eb82": {
      "model_module": "@jupyter-widgets/output",
      "model_module_version": "1.0.0",
      "model_name": "OutputModel",
      "state": {
       "layout": "IPY_MODEL_edbea937659f42b4a7bc5114289a894e",
       "outputs": [
        {
         "name": "stdout",
         "output_type": "stream",
         "text": "Draw a polygon within the red box to view a plot of average NDVI over time in that area.\n"
        }
       ]
      }
     },
     "17e5ecd52cfe4029983c261513526825": {
      "model_module": "jupyter-leaflet",
      "model_module_version": "^0.11.1",
      "model_name": "LeafletGeoJSONModel",
      "state": {
       "_model_module_version": "^0.11.1",
       "_view_count": null,
       "_view_module_version": "^0.11.1",
       "data": {
        "geometry": {
         "coordinates": [
          [
           [
            -17.070202,
            14.784063999999999
           ],
           [
            -17.060202,
            14.784063999999999
           ],
           [
            -17.060202,
            14.794064
           ],
           [
            -17.070202,
            14.794064
           ],
           [
            -17.070202,
            14.784063999999999
           ]
          ]
         ],
         "type": "Polygon"
        },
        "properties": {
         "style": {
          "clickable": true,
          "color": "red",
          "fill": true,
          "fillColor": false,
          "fillOpacity": 0,
          "opacity": 0.8,
          "showArea": true,
          "stroke": true,
          "weight": 4
         }
        },
        "type": "Feature"
       }
      }
     },
     "1ad77bb6992443549189c035f56ecf25": {
      "model_module": "jupyter-leaflet",
      "model_module_version": "^0.11.1",
      "model_name": "LeafletMapStyleModel",
      "state": {
       "_model_module_version": "^0.11.1",
       "_view_count": null,
       "_view_module": "@jupyter-widgets/base",
       "_view_module_version": "1.2.0",
       "_view_name": "StyleView",
       "cursor": "grab"
      }
     },
     "4808c25efb20418ca0d03eb0123c27bc": {
      "model_module": "@jupyter-widgets/controls",
      "model_module_version": "1.5.0",
      "model_name": "HBoxModel",
      "state": {
       "children": [
        "IPY_MODEL_c489a9a960ae46bea0352e16eb20f4cf",
        "IPY_MODEL_a684f3c8cf164597a3b00c0500faae01"
       ],
       "layout": "IPY_MODEL_7a5c0d18775049eba5b4967e6225dcdb"
      }
     },
     "531e32cc41df4875b7bb0622d633d6be": {
      "model_module": "@jupyter-widgets/base",
      "model_module_version": "1.2.0",
      "model_name": "LayoutModel",
      "state": {}
     },
     "669fb3229da94d159f9a683836587559": {
      "model_module": "jupyter-leaflet",
      "model_module_version": "^0.11.1",
      "model_name": "LeafletMapStyleModel",
      "state": {
       "_model_module_version": "^0.11.1",
       "_view_count": null,
       "_view_module": "@jupyter-widgets/base",
       "_view_module_version": "1.2.0",
       "_view_name": "StyleView",
       "cursor": "grab"
      }
     },
     "789761723e1d4f459ce94887f4e2e333": {
      "model_module": "@jupyter-widgets/base",
      "model_module_version": "1.2.0",
      "model_name": "LayoutModel",
      "state": {
       "border": "1px solid black"
      }
     },
     "7a5c0d18775049eba5b4967e6225dcdb": {
      "model_module": "@jupyter-widgets/base",
      "model_module_version": "1.2.0",
      "model_name": "LayoutModel",
      "state": {}
     },
     "92a94b590f9a4341b5860954b537b376": {
      "model_module": "@jupyter-widgets/controls",
      "model_module_version": "1.5.0",
      "model_name": "VBoxModel",
      "state": {
       "children": [
        "IPY_MODEL_17c05e4ef8d3431682655a1cb220eb82",
        "IPY_MODEL_4808c25efb20418ca0d03eb0123c27bc",
        "IPY_MODEL_0062e35f91b742c190b1cae3bbf09e97"
       ],
       "layout": "IPY_MODEL_531e32cc41df4875b7bb0622d633d6be"
      }
     },
     "93c6e4488e7d492cb0c5d488421364e0": {
      "model_module": "@jupyter-widgets/base",
      "model_module_version": "1.2.0",
      "model_name": "LayoutModel",
      "state": {
       "width": "50%"
      }
     },
     "9b9ef726c2d348e29068829428d87421": {
      "model_module": "jupyter-leaflet",
      "model_module_version": "^0.11.1",
      "model_name": "LeafletTileLayerModel",
      "state": {
       "_model_module_version": "^0.11.1",
       "_view_count": null,
       "_view_module_version": "^0.11.1",
       "attribution": "Tiles &copy; Esri &mdash; Source: Esri, i-cubed, USDA, USGS, AEX, GeoEye, Getmapping, Aerogrid, IGN, IGP, UPR-EGP, and the GIS User Community",
       "base": true,
       "max_native_zoom": 18,
       "max_zoom": 20,
       "min_native_zoom": 0,
       "min_zoom": 1,
       "name": "Esri.WorldImagery",
       "no_wrap": false,
       "options": [
        "attribution",
        "detect_retina",
        "max_native_zoom",
        "max_zoom",
        "min_native_zoom",
        "min_zoom",
        "no_wrap",
        "tile_size"
       ],
       "url": "http://server.arcgisonline.com/ArcGIS/rest/services/World_Imagery/MapServer/tile/{z}/{y}/{x}"
      }
     },
     "a079c8bb3a0147bc9587894a8ee0a6de": {
      "model_module": "@jupyter-widgets/base",
      "model_module_version": "1.2.0",
      "model_name": "LayoutModel",
      "state": {}
     },
     "a684f3c8cf164597a3b00c0500faae01": {
      "model_module": "@jupyter-widgets/output",
      "model_module_version": "1.0.0",
      "model_name": "OutputModel",
      "state": {
       "layout": "IPY_MODEL_93c6e4488e7d492cb0c5d488421364e0",
       "outputs": [
        {
         "data": {
          "image/png": "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\n",
          "text/plain": "<Figure size 576x432 with 1 Axes>"
         },
         "metadata": {},
         "output_type": "display_data"
        }
       ]
      }
     },
     "a9a315047f0f49beb2aa4475af1eaba1": {
      "model_module": "jupyter-leaflet",
      "model_module_version": "^0.11.1",
      "model_name": "LeafletGeoJSONModel",
      "state": {
       "_model_module_version": "^0.11.1",
       "_view_count": null,
       "_view_module_version": "^0.11.1",
       "data": {
        "geometry": {
         "coordinates": [
          [
           [
            -17.065849,
            14.789001
           ],
           [
            -17.06514,
            14.787071
           ],
           [
            -17.064239,
            14.787445
           ],
           [
            -17.064904,
            14.789291
           ],
           [
            -17.065849,
            14.789001
           ]
          ]
         ],
         "type": "Polygon"
        },
        "properties": {
         "style": {
          "clickable": true,
          "color": "#1f77b4",
          "fill": true,
          "fillColor": null,
          "fillOpacity": 0,
          "opacity": 1,
          "stroke": true,
          "weight": 4.5
         }
        },
        "type": "Feature"
       },
       "style": {
        "color": "#1f77b4",
        "fillOpacity": 0,
        "opacity": 1,
        "weight": 4.5
       }
      }
     },
     "afa842397bd14203ae12151c5725eb33": {
      "model_module": "jupyter-leaflet",
      "model_module_version": "^0.11.1",
      "model_name": "LeafletGeoJSONModel",
      "state": {
       "_model_module_version": "^0.11.1",
       "_view_count": null,
       "_view_module_version": "^0.11.1",
       "data": {
        "geometry": {
         "coordinates": [
          [
           [
            -17.064218,
            14.790432
           ],
           [
            -17.063767,
            14.789001
           ],
           [
            -17.062651,
            14.789354
           ],
           [
            -17.063016,
            14.790661
           ],
           [
            -17.064218,
            14.790432
           ]
          ]
         ],
         "type": "Polygon"
        },
        "properties": {
         "style": {
          "clickable": true,
          "color": "#ff7f0e",
          "fill": true,
          "fillColor": null,
          "fillOpacity": 0,
          "opacity": 1,
          "stroke": true,
          "weight": 4.5
         }
        },
        "type": "Feature"
       },
       "style": {
        "color": "#ff7f0e",
        "fillOpacity": 0,
        "opacity": 1,
        "weight": 4.5
       }
      }
     },
     "c489a9a960ae46bea0352e16eb20f4cf": {
      "model_module": "jupyter-leaflet",
      "model_module_version": "^0.11.1",
      "model_name": "LeafletMapModel",
      "state": {
       "_dom_classes": [],
       "_model_module_version": "^0.11.1",
       "_view_count": null,
       "_view_module_version": "^0.11.1",
       "basemap": {
        "attribution": "Tiles &copy; Esri &mdash; Source: Esri, i-cubed, USDA, USGS, AEX, GeoEye, Getmapping, Aerogrid, IGN, IGP, UPR-EGP, and the GIS User Community",
        "max_zoom": 20,
        "name": "Esri.WorldImagery",
        "url": "http://server.arcgisonline.com/ArcGIS/rest/services/World_Imagery/MapServer/tile/{z}/{y}/{x}"
       },
       "center": [
        14.789073798065768,
        -17.065200805664066
       ],
       "controls": [
        "IPY_MODEL_d84bf13e0d3a4960a9d702b53357ef18",
        "IPY_MODEL_1491afd9d37d41e98cf11260491a5d79",
        "IPY_MODEL_d64dd7e5d9324025bc056efba048e654"
       ],
       "default_style": "IPY_MODEL_1ad77bb6992443549189c035f56ecf25",
       "dragging_style": "IPY_MODEL_ec69fec101394c66a7b3b173ce32610b",
       "east": -17.060694694519047,
       "fullscreen": false,
       "interpolation": "bilinear",
       "layers": [
        "IPY_MODEL_9b9ef726c2d348e29068829428d87421",
        "IPY_MODEL_17e5ecd52cfe4029983c261513526825",
        "IPY_MODEL_a9a315047f0f49beb2aa4475af1eaba1",
        "IPY_MODEL_afa842397bd14203ae12151c5725eb33"
       ],
       "layout": "IPY_MODEL_a079c8bb3a0147bc9587894a8ee0a6de",
       "modisdate": "yesterday",
       "north": 14.793223123227861,
       "options": [
        "basemap",
        "bounce_at_zoom_limits",
        "box_zoom",
        "center",
        "close_popup_on_click",
        "double_click_zoom",
        "dragging",
        "fullscreen",
        "inertia",
        "inertia_deceleration",
        "inertia_max_speed",
        "interpolation",
        "keyboard",
        "keyboard_pan_offset",
        "keyboard_zoom_offset",
        "max_zoom",
        "min_zoom",
        "scroll_wheel_zoom",
        "tap",
        "tap_tolerance",
        "touch_zoom",
        "world_copy_jump",
        "zoom",
        "zoom_animation_threshold",
        "zoom_start"
       ],
       "south": 14.784924393570158,
       "style": "IPY_MODEL_1ad77bb6992443549189c035f56ecf25",
       "west": -17.069706916809086,
       "zoom": 16
      }
     },
     "d64dd7e5d9324025bc056efba048e654": {
      "model_module": "jupyter-leaflet",
      "model_module_version": "^0.11.1",
      "model_name": "LeafletDrawControlModel",
      "state": {
       "_model_module_version": "^0.11.1",
       "_view_count": null,
       "_view_module_version": "^0.11.1",
       "options": [
        "position"
       ],
       "polygon": {
        "shapeOptions": {
         "fillOpacity": 0
        }
       },
       "polyline": {}
      }
     },
     "d84bf13e0d3a4960a9d702b53357ef18": {
      "model_module": "jupyter-leaflet",
      "model_module_version": "^0.11.1",
      "model_name": "LeafletZoomControlModel",
      "state": {
       "_model_module_version": "^0.11.1",
       "_view_count": null,
       "_view_module_version": "^0.11.1",
       "options": [
        "position",
        "zoom_in_text",
        "zoom_in_title",
        "zoom_out_text",
        "zoom_out_title"
       ]
      }
     },
     "e3262fdd91884397b55ff5fa998eca46": {
      "model_module": "@jupyter-widgets/base",
      "model_module_version": "1.2.0",
      "model_name": "LayoutModel",
      "state": {}
     },
     "ec69fec101394c66a7b3b173ce32610b": {
      "model_module": "jupyter-leaflet",
      "model_module_version": "^0.11.1",
      "model_name": "LeafletMapStyleModel",
      "state": {
       "_model_module_version": "^0.11.1",
       "_view_count": null,
       "_view_module": "@jupyter-widgets/base",
       "_view_module_version": "1.2.0",
       "_view_name": "StyleView",
       "cursor": "move"
      }
     },
     "edbea937659f42b4a7bc5114289a894e": {
      "model_module": "@jupyter-widgets/base",
      "model_module_version": "1.2.0",
      "model_name": "LayoutModel",
      "state": {
       "border": "1px solid black"
      }
     },
     "f0f06eb83a774244abee6ad7fb532956": {
      "model_module": "@jupyter-widgets/controls",
      "model_module_version": "1.5.0",
      "model_name": "DescriptionStyleModel",
      "state": {
       "description_width": ""
      }
     },
     "fbe838819ac54a979e1814d5ab9596f7": {
      "model_module": "@jupyter-widgets/controls",
      "model_module_version": "1.5.0",
      "model_name": "HTMLModel",
      "state": {
       "layout": "IPY_MODEL_e3262fdd91884397b55ff5fa998eca46",
       "style": "IPY_MODEL_f0f06eb83a774244abee6ad7fb532956"
      }
     }
    },
    "version_major": 2,
    "version_minor": 0
   }
  }
 },
 "nbformat": 4,
 "nbformat_minor": 4
}
