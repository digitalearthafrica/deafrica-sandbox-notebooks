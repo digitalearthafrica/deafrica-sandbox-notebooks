{
 "cells": [
  {
   "cell_type": "markdown",
   "metadata": {},
   "source": [
    "# Measuring crop health\n",
    "\n",
    "* **Products used:** \n",
    "[s2_l2a](https://explorer.digitalearth.africa/s2_l2a)"
   ]
  },
  {
   "cell_type": "raw",
   "metadata": {
    "raw_mimetype": "text/restructuredtext"
   },
   "source": [
    "**Keywords**: :index:`data used; sentinel-2`, :index:`band index; NDVI`, :index:`interactive`, :index:`analysis; time series`, :index:`agriculture`"
   ]
  },
  {
   "cell_type": "markdown",
   "metadata": {},
   "source": [
    "## Background\n",
    "While crops are growing, fields may look visually similar.\n",
    "However, health or growth rates from these fields can be quite different, leading to variability and unpredictability in revenue.\n",
    "Identifying underperforming crops can have two benefits:\n",
    "\n",
    "* Ability to scout for disease damage.\n",
    "* Ability to investigate poor performing fields and undertake management action such as soil testing or targeted fertilising to improve yield.\n",
    "\n",
    "### Digital Earth Africa use case\n",
    "Satellite imagery can be used to measure plant health over time and identify any changes in growth patterns between otherwise similar fields.\n",
    "Sentinel-2's 20-metre resolution makes it ideal for understanding the health of large fields.\n",
    "\n",
    "The Normalised Difference Vegetation Index (NDVI) describes the difference between visible and near-infrared reflectance of vegetation cover.\n",
    "This index estimates the density of green on an area of land and can be used to track the health and growth of crops as they mature.\n",
    "Comparing the NDVI of two similar planting areas will help to identify any anomalies in growth patterns. \n",
    "\n",
    "## Description\n",
    "In this example, data from Sentinel-2 is used to assess crop growing patterns for the last two years.\n",
    "The worked example below takes users through the code required to:\n",
    "\n",
    "1. Create a time series data cube over croplands.\n",
    "2. Select multiple areas for comparison.\n",
    "3. Create graphs to identify crop performance trends over the last two years.\n",
    "4. Interpret the results.\n",
    "\n",
    "***"
   ]
  },
  {
   "cell_type": "markdown",
   "metadata": {},
   "source": [
    "## Getting started\n",
    "\n",
    "**To run this analysis**, run all the cells in the notebook, starting with the \"Load packages and apps\" cell."
   ]
  },
  {
   "cell_type": "markdown",
   "metadata": {},
   "source": [
    "### Load packages and apps\n",
    "\n",
    "This notebook works via two functions, which are referred to as apps: `load_crophealth_data` and `run_crophealth_app`.\n",
    "The apps allow the majority of the analysis code to be stored in another file, making the notebook easy to use and run.\n",
    "To view the code behind the apps, open the [notebookapp_crophealth.py](../Scripts/notebookapp_crophealth.py) file."
   ]
  },
  {
   "cell_type": "code",
   "execution_count": 1,
   "metadata": {},
   "outputs": [
    {
     "name": "stderr",
     "output_type": "stream",
     "text": [
      "/env/lib/python3.6/site-packages/geopandas/_compat.py:88: UserWarning: The Shapely GEOS version (3.7.2-CAPI-1.11.0 ) is incompatible with the GEOS version PyGEOS was compiled with (3.9.1-CAPI-1.14.2). Conversions between both will be slow.\n",
      "  shapely_geos_version, geos_capi_version_string\n"
     ]
    }
   ],
   "source": [
    "%matplotlib inline\n",
    "\n",
    "import sys\n",
    "import datacube\n",
    "\n",
    "sys.path.append(\"../Scripts\")\n",
    "from notebookapp_crophealth import load_crophealth_data\n",
    "from notebookapp_crophealth import run_crophealth_app"
   ]
  },
  {
   "cell_type": "markdown",
   "metadata": {},
   "source": [
    "### Analysis parameters\n",
    "\n",
    "The following cell sets important parameters for the analysis. \n",
    "There are three parameters that control where the data will be loaded:\n",
    "\n",
    "* `lat`: The central latitude to analyse (e.g. `14.789064`).\n",
    "* `lon`: The central longitude to analyse (e.g. `-17.065202`).\n",
    "* `buffer`: The number of square degrees to load around the central latitude and longitude. For reasonable loading times, set this as `0.1` or lower.\n",
    "\n",
    "These can be changed in the cell below, noting that the [DE Africa Explorer](https://explorer.digitalearth.africa/ls8_usgs_sr_scene) can be used to check whether Sentinel-2 data is available over the selected area.\n",
    "\n",
    "#### Suggested areas\n",
    "Here are some suggestions for areas to look at. To view one of these areas, copy and paste the parameter values into the cell below, then run the notebook.\n",
    "\n",
    "**Croplands, Senegal**\n",
    "```\n",
    "lat = 14.789064\n",
    "lon = -17.065202\n",
    "buffer = 0.005\n",
    "```\n",
    "\n",
    "**Aviv Coffee Farm, Tanzania**\n",
    "```\n",
    "lat = -10.6979 \n",
    "lon = 35.2635\n",
    "buffer = 0.003\n",
    "```\n",
    "\n",
    "**Croplands, Western Kenya**\n",
    "```\n",
    "lat = -0.483689\n",
    "lon = 34.193792\n",
    "buffer = 0.005\n",
    "```"
   ]
  },
  {
   "cell_type": "code",
   "execution_count": 2,
   "metadata": {},
   "outputs": [],
   "source": [
    "# Define the area of interest for the analysis\n",
    "lat = 14.789064\n",
    "lon = -17.065202\n",
    "buffer = 0.005"
   ]
  },
  {
   "cell_type": "markdown",
   "metadata": {},
   "source": [
    "## Load the data\n",
    "The `load_crophealth_data()` command performs several key steps:\n",
    "\n",
    "* identify all available Sentinel-2 data in the case-study area over the last two years\n",
    "* remove any bad quality pixels\n",
    "* keep images where more than half of the image contains good quality pixels\n",
    "* calculate the NDVI from the red and near infrared bands\n",
    "* return the collated data for analysis\n",
    "\n",
    "The cleaned and collated data is stored in the `dataset` object.\n",
    "As the command runs, feedback will be provided below the cell, including information on the number of cleaned images loaded from the satellite.\n",
    "\n",
    "The function takes three arguments: `lat`, `lon`, and `buffer`.\n",
    "These determine the area of interest that the function loads, and can be changed in the previous cell.\n",
    "\n",
    "**Please be patient**.\n",
    "The load is complete when the cell status goes from `[*]` to `[number]`."
   ]
  },
  {
   "cell_type": "code",
   "execution_count": 3,
   "metadata": {},
   "outputs": [
    {
     "name": "stdout",
     "output_type": "stream",
     "text": [
      "Using pixel quality parameters for Sentinel 2\n",
      "Finding datasets\n",
      "    s2_l2a\n",
      "Counting good quality pixels for each time step\n",
      "Filtering to 97 out of 146 time steps with at least 50.0% good quality pixels\n",
      "Applying pixel quality/cloud mask\n",
      "Loading 97 time steps\n"
     ]
    }
   ],
   "source": [
    "dataset = load_crophealth_data(lat, lon, buffer)"
   ]
  },
  {
   "cell_type": "markdown",
   "metadata": {},
   "source": [
    "## Run the crop health app\n",
    "The `run_crophealth_app()` command launches an interactive map.\n",
    "Drawing polygons within the red boundary (which represents the area covered by the loaded data) will result in plots of the average NDVI in that area.\n",
    "Draw polygons by clicking the &#11039; symbol in the app.\n",
    "\n",
    "The function works by taking the loaded data `dataset` as an argument, as well as the `lat`, `lon`, and `buffer` parameters used to define the spatial extent.\n",
    "\n",
    "> **Note:** data points will only appear for images where more than 50% of the pixels were classified as good quality. This may cause trend lines on the average NDVI plot to appear disconnected. Available data points will be marked with the `*` symbol."
   ]
  },
  {
   "cell_type": "code",
   "execution_count": 4,
   "metadata": {},
   "outputs": [
    {
     "data": {
      "application/vnd.jupyter.widget-view+json": {
       "model_id": "46b4be3093f84796902af22226b0e44c",
       "version_major": 2,
       "version_minor": 0
      },
      "text/plain": [
       "VBox(children=(Output(layout=Layout(border='1px solid black')), HBox(children=(Map(center=[14.789064, -17.0652…"
      ]
     },
     "metadata": {},
     "output_type": "display_data"
    }
   ],
   "source": [
    "run_crophealth_app(dataset, lat, lon, buffer)"
   ]
  },
  {
   "cell_type": "markdown",
   "metadata": {},
   "source": [
    "## Drawing conclusions\n",
    "\n",
    "Here are some questions to think about:\n",
    "\n",
    "* What are some factors that might explain differences or similarities across different sections of the study area?\n",
    "* Are there any noticable patterns across the two years of data? Could these correspond to specific events such as planting or harvesting?"
   ]
  },
  {
   "cell_type": "markdown",
   "metadata": {},
   "source": [
    "---\n",
    "\n",
    "## Additional information\n",
    "\n",
    "**License:** The code in this notebook is licensed under the [Apache License, Version 2.0](https://www.apache.org/licenses/LICENSE-2.0). \n",
    "Digital Earth Africa data is licensed under the [Creative Commons by Attribution 4.0](https://creativecommons.org/licenses/by/4.0/) license.\n",
    "\n",
    "**Contact:** If you need assistance, please post a question on the [Open Data Cube Slack channel](http://slack.opendatacube.org/) or on the [GIS Stack Exchange](https://gis.stackexchange.com/questions/ask?tags=open-data-cube) using the `open-data-cube` tag (you can view previously asked questions [here](https://gis.stackexchange.com/questions/tagged/open-data-cube)).\n",
    "If you would like to report an issue with this notebook, you can file one on [Github](https://github.com/digitalearthafrica/deafrica-sandbox-notebooks).\n",
    "\n",
    "**Compatible datacube version:**"
   ]
  },
  {
   "cell_type": "code",
   "execution_count": 5,
   "metadata": {},
   "outputs": [
    {
     "name": "stdout",
     "output_type": "stream",
     "text": [
      "1.8.4.dev193+g3997b90f\n"
     ]
    }
   ],
   "source": [
    "print(datacube.__version__)"
   ]
  },
  {
   "cell_type": "markdown",
   "metadata": {},
   "source": [
    "**Last Tested:**"
   ]
  },
  {
   "cell_type": "code",
   "execution_count": 6,
   "metadata": {
    "raw_mimetype": "text/restructuredtext"
   },
   "outputs": [
    {
     "data": {
      "text/plain": [
       "'2021-07-29'"
      ]
     },
     "execution_count": 6,
     "metadata": {},
     "output_type": "execute_result"
    }
   ],
   "source": [
    "from datetime import datetime\n",
    "datetime.today().strftime('%Y-%m-%d')"
   ]
  }
 ],
 "metadata": {
  "kernelspec": {
   "display_name": "Python 3",
   "language": "python",
   "name": "python3"
  },
  "language_info": {
   "codemirror_mode": {
    "name": "ipython",
    "version": 3
   },
   "file_extension": ".py",
   "mimetype": "text/x-python",
   "name": "python",
   "nbconvert_exporter": "python",
   "pygments_lexer": "ipython3",
   "version": "3.6.9"
  },
  "widgets": {
   "application/vnd.jupyter.widget-state+json": {
    "state": {
     "002e2b6bec7b456ebd04c909c90c88d0": {
      "model_module": "@jupyter-widgets/output",
      "model_module_version": "1.0.0",
      "model_name": "OutputModel",
      "state": {
       "layout": "IPY_MODEL_be9ef3a7b034466ea587862309620c9b",
       "outputs": [
        {
         "data": {
          "image/png": "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\n",
          "text/plain": "<Figure size 576x432 with 1 Axes>"
         },
         "metadata": {},
         "output_type": "display_data"
        }
       ]
      }
     },
     "07090f18372f49cf82c9fef3d0c9ebcb": {
      "model_module": "@jupyter-widgets/base",
      "model_module_version": "1.2.0",
      "model_name": "LayoutModel",
      "state": {}
     },
     "0c1de095dcc144219cc8be17340e0c5e": {
      "model_module": "jupyter-leaflet",
      "model_module_version": "^0.13.0",
      "model_name": "LeafletMapStyleModel",
      "state": {
       "_model_module_version": "^0.13.0"
      }
     },
     "0dee42f32dba483b82183311ccd81dbd": {
      "model_module": "@jupyter-widgets/controls",
      "model_module_version": "1.5.0",
      "model_name": "HTMLModel",
      "state": {
       "layout": "IPY_MODEL_07090f18372f49cf82c9fef3d0c9ebcb",
       "style": "IPY_MODEL_d26ef97012754aa5a3d5314db8f0c9d2"
      }
     },
     "1a895fafd0f44742a43996c29e125513": {
      "model_module": "@jupyter-widgets/output",
      "model_module_version": "1.0.0",
      "model_name": "OutputModel",
      "state": {
       "layout": "IPY_MODEL_ea17d4c6a74345b79f69feefe6f5b5df",
       "outputs": [
        {
         "name": "stdout",
         "output_type": "stream",
         "text": "Plot status: polygon sucessfully added to plot.\n"
        }
       ]
      }
     },
     "1be7c34bf7cf44f5a345544565a5be01": {
      "model_module": "@jupyter-widgets/output",
      "model_module_version": "1.0.0",
      "model_name": "OutputModel",
      "state": {
       "layout": "IPY_MODEL_1e5249c19e3548a0a576a3b750341043",
       "outputs": [
        {
         "name": "stdout",
         "output_type": "stream",
         "text": "Draw a polygon within the red box to view a plot of average NDVI over time in that area.\n"
        }
       ]
      }
     },
     "1e5249c19e3548a0a576a3b750341043": {
      "model_module": "@jupyter-widgets/base",
      "model_module_version": "1.2.0",
      "model_name": "LayoutModel",
      "state": {
       "border": "1px solid black"
      }
     },
     "31cc6afa803f4d9db1c96a9881d20bec": {
      "model_module": "jupyter-leaflet",
      "model_module_version": "^0.13.0",
      "model_name": "LeafletGeoJSONModel",
      "state": {
       "_model_module": "jupyter-leaflet",
       "_model_module_version": "^0.13.0",
       "_view_count": null,
       "_view_module": "jupyter-leaflet",
       "_view_module_version": "^0.13.0",
       "base": false,
       "bottom": false,
       "data": {
        "geometry": {
         "coordinates": [
          [
           [
            -17.070202,
            14.784063999999999
           ],
           [
            -17.060202,
            14.784063999999999
           ],
           [
            -17.060202,
            14.794064
           ],
           [
            -17.070202,
            14.794064
           ],
           [
            -17.070202,
            14.784063999999999
           ]
          ]
         ],
         "type": "Polygon"
        },
        "properties": {
         "style": {
          "clickable": true,
          "color": "red",
          "fill": true,
          "fillColor": false,
          "fillOpacity": 0,
          "opacity": 0.8,
          "showArea": true,
          "stroke": true,
          "weight": 4
         }
        },
        "type": "Feature"
       },
       "name": "",
       "options": [],
       "popup": null,
       "popup_max_height": null,
       "popup_max_width": 300,
       "popup_min_width": 50
      }
     },
     "496fc0d5cbef49d8aa64200e9d572e6f": {
      "model_module": "jupyter-leaflet",
      "model_module_version": "^0.13.0",
      "model_name": "LeafletGeoJSONModel",
      "state": {
       "_model_module": "jupyter-leaflet",
       "_model_module_version": "^0.13.0",
       "_view_count": null,
       "_view_module": "jupyter-leaflet",
       "_view_module_version": "^0.13.0",
       "base": false,
       "bottom": false,
       "data": {
        "geometry": {
         "coordinates": [
          [
           [
            -17.06631,
            14.790589
           ],
           [
            -17.064993,
            14.787096
           ],
           [
            -17.063692,
            14.787678
           ],
           [
            -17.064893,
            14.791572
           ],
           [
            -17.06631,
            14.790589
           ]
          ]
         ],
         "type": "Polygon"
        },
        "properties": {
         "style": {
          "clickable": true,
          "color": "#1f77b4",
          "fill": true,
          "fillColor": null,
          "fillOpacity": 0,
          "opacity": 1,
          "stroke": true,
          "weight": 4.5
         }
        },
        "type": "Feature"
       },
       "name": "",
       "options": [],
       "popup": null,
       "popup_max_height": null,
       "popup_max_width": 300,
       "popup_min_width": 50,
       "style": {
        "color": "#1f77b4",
        "fillOpacity": 0,
        "opacity": 1,
        "weight": 4.5
       }
      }
     },
     "6c47fecb73d2483da95227fcc89de8ff": {
      "model_module": "jupyter-leaflet",
      "model_module_version": "^0.13.0",
      "model_name": "LeafletDrawControlModel",
      "state": {
       "_model_module_version": "^0.13.0",
       "_view_module_version": "^0.13.0",
       "options": [
        "position"
       ],
       "polygon": {
        "shapeOptions": {
         "fillOpacity": 0
        }
       },
       "polyline": {}
      }
     },
     "6d9935a89546457a9a170c9d5d69a154": {
      "model_module": "jupyter-leaflet",
      "model_module_version": "^0.13.0",
      "model_name": "LeafletAttributionControlModel",
      "state": {
       "_model_module_version": "^0.13.0",
       "_view_module_version": "^0.13.0",
       "options": [
        "position",
        "prefix"
       ],
       "position": "bottomright",
       "prefix": "Leaflet"
      }
     },
     "719b6b5b38a74f88bfc1a5d65678a4f1": {
      "model_module": "jupyter-leaflet",
      "model_module_version": "^0.13.0",
      "model_name": "LeafletGeoJSONModel",
      "state": {
       "_model_module": "jupyter-leaflet",
       "_model_module_version": "^0.13.0",
       "_view_count": null,
       "_view_module": "jupyter-leaflet",
       "_view_module_version": "^0.13.0",
       "base": false,
       "bottom": false,
       "data": {
        "geometry": {
         "coordinates": [
          [
           [
            -17.063523,
            14.788855
           ],
           [
            -17.06334,
            14.787616
           ],
           [
            -17.062389,
            14.788075
           ],
           [
            -17.062716,
            14.789267
           ],
           [
            -17.063523,
            14.788855
           ]
          ]
         ],
         "type": "Polygon"
        },
        "properties": {
         "style": {
          "clickable": true,
          "color": "#ff7f0e",
          "fill": true,
          "fillColor": null,
          "fillOpacity": 0,
          "opacity": 1,
          "stroke": true,
          "weight": 4.5
         }
        },
        "type": "Feature"
       },
       "name": "",
       "options": [],
       "popup": null,
       "popup_max_height": null,
       "popup_max_width": 300,
       "popup_min_width": 50,
       "style": {
        "color": "#ff7f0e",
        "fillOpacity": 0,
        "opacity": 1,
        "weight": 4.5
       }
      }
     },
     "891d517685544191b1f39811bb9a4cd1": {
      "model_module": "@jupyter-widgets/base",
      "model_module_version": "1.2.0",
      "model_name": "LayoutModel",
      "state": {}
     },
     "8d2a9794085b47cfb99de5d2d0b96e3f": {
      "model_module": "@jupyter-widgets/controls",
      "model_module_version": "1.5.0",
      "model_name": "HBoxModel",
      "state": {
       "children": [
        "IPY_MODEL_cb45fe5801054243af3f9b297b50ce59",
        "IPY_MODEL_002e2b6bec7b456ebd04c909c90c88d0"
       ],
       "layout": "IPY_MODEL_891d517685544191b1f39811bb9a4cd1"
      }
     },
     "95777ddaf3914b37b8142ca541c57191": {
      "model_module": "jupyter-leaflet",
      "model_module_version": "^0.13.0",
      "model_name": "LeafletMapStyleModel",
      "state": {
       "_model_module_version": "^0.13.0",
       "cursor": "move"
      }
     },
     "9c6a15ded3604c5ea0cc4b240151a0d4": {
      "model_module": "jupyter-leaflet",
      "model_module_version": "^0.13.0",
      "model_name": "LeafletTileLayerModel",
      "state": {
       "_model_module_version": "^0.13.0",
       "_view_module_version": "^0.13.0",
       "attribution": "Tiles &copy; Esri &mdash; Source: Esri, i-cubed, USDA, USGS, AEX, GeoEye, Getmapping, Aerogrid, IGN, IGP, UPR-EGP, and the GIS User Community",
       "base": true,
       "max_native_zoom": 18,
       "max_zoom": 20,
       "min_native_zoom": 0,
       "min_zoom": 1,
       "name": "Esri.WorldImagery",
       "options": [
        "attribution",
        "detect_retina",
        "max_native_zoom",
        "max_zoom",
        "min_native_zoom",
        "min_zoom",
        "no_wrap",
        "tile_size",
        "tms"
       ],
       "url": "http://server.arcgisonline.com/ArcGIS/rest/services/World_Imagery/MapServer/tile/{z}/{y}/{x}"
      }
     },
     "acb077d27e3b4122bbedc9d7df2d38f9": {
      "model_module": "jupyter-leaflet",
      "model_module_version": "^0.13.0",
      "model_name": "LeafletZoomControlModel",
      "state": {
       "_model_module_version": "^0.13.0",
       "_view_module_version": "^0.13.0",
       "options": [
        "position",
        "zoom_in_text",
        "zoom_in_title",
        "zoom_out_text",
        "zoom_out_title"
       ]
      }
     },
     "aeb2b450b75f4099b60a2fab515a681f": {
      "model_module": "@jupyter-widgets/base",
      "model_module_version": "1.2.0",
      "model_name": "LayoutModel",
      "state": {}
     },
     "be9ef3a7b034466ea587862309620c9b": {
      "model_module": "@jupyter-widgets/base",
      "model_module_version": "1.2.0",
      "model_name": "LayoutModel",
      "state": {
       "width": "50%"
      }
     },
     "cb45fe5801054243af3f9b297b50ce59": {
      "model_module": "jupyter-leaflet",
      "model_module_version": "^0.13.0",
      "model_name": "LeafletMapModel",
      "state": {
       "_model_module_version": "^0.13.0",
       "_view_module_version": "^0.13.0",
       "center": [
        14.789073798065768,
        -17.065211534500126
       ],
       "controls": [
        "IPY_MODEL_acb077d27e3b4122bbedc9d7df2d38f9",
        "IPY_MODEL_6d9935a89546457a9a170c9d5d69a154",
        "IPY_MODEL_6c47fecb73d2483da95227fcc89de8ff"
       ],
       "default_style": "IPY_MODEL_0c1de095dcc144219cc8be17340e0c5e",
       "dragging_style": "IPY_MODEL_95777ddaf3914b37b8142ca541c57191",
       "east": -17.060265541076664,
       "fullscreen": false,
       "interpolation": "bilinear",
       "layers": [
        "IPY_MODEL_9c6a15ded3604c5ea0cc4b240151a0d4",
        "IPY_MODEL_31cc6afa803f4d9db1c96a9881d20bec",
        "IPY_MODEL_496fc0d5cbef49d8aa64200e9d572e6f",
        "IPY_MODEL_719b6b5b38a74f88bfc1a5d65678a4f1"
       ],
       "layout": "IPY_MODEL_e5d9c8b6519a495cac95eb32d77cefde",
       "modisdate": "yesterday",
       "north": 14.797372369036196,
       "options": [
        "bounce_at_zoom_limits",
        "box_zoom",
        "center",
        "close_popup_on_click",
        "double_click_zoom",
        "dragging",
        "fullscreen",
        "inertia",
        "inertia_deceleration",
        "inertia_max_speed",
        "interpolation",
        "keyboard",
        "keyboard_pan_offset",
        "keyboard_zoom_offset",
        "max_zoom",
        "min_zoom",
        "scroll_wheel_zoom",
        "tap",
        "tap_tolerance",
        "touch_zoom",
        "world_copy_jump",
        "zoom",
        "zoom_animation_threshold",
        "zoom_start"
       ],
       "south": 14.780774909761284,
       "style": "IPY_MODEL_0c1de095dcc144219cc8be17340e0c5e",
       "west": -17.070178985595707,
       "window_url": "https://sandbox.digitalearth.africa/user/caitlinadams/lab?redirects=1",
       "zoom": 15
      }
     },
     "d26ef97012754aa5a3d5314db8f0c9d2": {
      "model_module": "@jupyter-widgets/controls",
      "model_module_version": "1.5.0",
      "model_name": "DescriptionStyleModel",
      "state": {
       "description_width": ""
      }
     },
     "e5d9c8b6519a495cac95eb32d77cefde": {
      "model_module": "@jupyter-widgets/base",
      "model_module_version": "1.2.0",
      "model_name": "LayoutModel",
      "state": {}
     },
     "e73538cd0e4b4774a4d4c3980c3cf260": {
      "model_module": "@jupyter-widgets/controls",
      "model_module_version": "1.5.0",
      "model_name": "VBoxModel",
      "state": {
       "children": [
        "IPY_MODEL_1be7c34bf7cf44f5a345544565a5be01",
        "IPY_MODEL_8d2a9794085b47cfb99de5d2d0b96e3f",
        "IPY_MODEL_1a895fafd0f44742a43996c29e125513"
       ],
       "layout": "IPY_MODEL_aeb2b450b75f4099b60a2fab515a681f"
      }
     },
     "ea17d4c6a74345b79f69feefe6f5b5df": {
      "model_module": "@jupyter-widgets/base",
      "model_module_version": "1.2.0",
      "model_name": "LayoutModel",
      "state": {
       "border": "1px solid black"
      }
     },
     "fc8130d41b6c462699ec73000641d989": {
      "model_module": "jupyter-leaflet",
      "model_module_version": "^0.13.0",
      "model_name": "LeafletMapStyleModel",
      "state": {
       "_model_module_version": "^0.13.0"
      }
     }
    },
    "version_major": 2,
    "version_minor": 0
   }
  }
 },
 "nbformat": 4,
 "nbformat_minor": 4
}
