{
 "cells": [
  {
   "cell_type": "markdown",
   "metadata": {},
   "source": [
    "# Measuring crop health\n",
    "\n",
    "* **Products used:** \n",
    "[s2_l2a](https://explorer.digitalearth.africa/s2_l2a)"
   ]
  },
  {
   "cell_type": "raw",
   "metadata": {
    "raw_mimetype": "text/restructuredtext"
   },
   "source": [
    "**Keywords**: :index:`data used; sentinel-2`, :index:`band index; NDVI`, :index:`interactive`, :index:`analysis; time series`, :index:`agriculture`"
   ]
  },
  {
   "cell_type": "markdown",
   "metadata": {},
   "source": [
    "## Background\n",
    "While crops are growing, fields may look visually similar.\n",
    "However, health or growth rates from these fields can be quite different, leading to variability and unpredictability in revenue.\n",
    "Identifying underperforming crops can have two benefits:\n",
    "\n",
    "* Ability to scout for disease damage.\n",
    "* Ability to investigate poor performing fields and undertake management action such as soil testing or targeted fertilising to improve yield.\n",
    "\n",
    "### Digital Earth Africa use case\n",
    "Satellite imagery can be used to measure plant health over time and identify any changes in growth patterns between otherwise similar fields.\n",
    "Sentinel-2's 20-metre resolution makes it ideal for understanding the health of large fields.\n",
    "\n",
    "The Normalised Difference Vegetation Index (NDVI) describes the difference between visible and near-infrared reflectance of vegetation cover.\n",
    "This index estimates the density of green on an area of land and can be used to track the health and growth of crops as they mature.\n",
    "Comparing the NDVI of two similar planting areas will help to identify any anomalies in growth patterns. \n",
    "\n",
    "## Description\n",
    "In this example, data from Sentinel-2 is used to assess crop growing patterns over two years.\n",
    "The worked example below takes users through the code required to:\n",
    "\n",
    "1. Create a time series data cube over croplands.\n",
    "2. Select multiple areas for comparison.\n",
    "3. Create graphs to identify crop performance trends over two years.\n",
    "4. Interpret the results.\n",
    "\n",
    "***"
   ]
  },
  {
   "cell_type": "markdown",
   "metadata": {},
   "source": [
    "## Getting started\n",
    "\n",
    "**To run this analysis**, run all the cells in the notebook, starting with the \"Load packages and apps\" cell."
   ]
  },
  {
   "cell_type": "markdown",
   "metadata": {},
   "source": [
    "### Load packages and apps\n",
    "\n",
    "This notebook works via two functions, which are referred to as apps: `load_crophealth_data` and `run_crophealth_app`.\n",
    "The apps allow the majority of the analysis code to be stored in another file, making the notebook easy to use and run.\n",
    "To view the code behind the apps, open the [crophealth.py](../Tools/deafrica_tools/app/crophealth.py) file."
   ]
  },
  {
   "cell_type": "code",
   "execution_count": 1,
   "metadata": {},
   "outputs": [],
   "source": [
    "%matplotlib inline\n",
    "\n",
    "import datacube\n",
    "from deafrica_tools.app.crophealth import load_crophealth_data\n",
    "from deafrica_tools.app.crophealth import run_crophealth_app"
   ]
  },
  {
   "cell_type": "markdown",
   "metadata": {},
   "source": [
    "### Analysis parameters\n",
    "\n",
    "The following cell sets important parameters for the analysis. \n",
    "There are four parameters that control where the data will be loaded:\n",
    "\n",
    "* `lat`: The central latitude to analyse (e.g. `14.789064`).\n",
    "* `lon`: The central longitude to analyse (e.g. `-17.065202`).\n",
    "* `buffer`: The number of square degrees to load around the central latitude and longitude. For reasonable loading times, set this as `0.1` or lower.\n",
    "* `date`: The most recent date to show data for. The app will automatically load all data available for the two years prior to this date. (e.g. `'2020-08-01'` shows data from August 2018 to August 2020).\n",
    "\n",
    "These can be changed in the cell below, noting that the [DE Africa Explorer](https://explorer.digitalearth.africa/products/s2_l2a) can be used to check whether Sentinel-2 data is available over the selected area.\n",
    "\n",
    "#### Suggested areas\n",
    "Here are some suggestions for areas to look at. To view one of these areas, copy and paste the parameter values into the cell below, then run the notebook.\n",
    "\n",
    "**Croplands, Senegal**\n",
    "```\n",
    "lat = 14.789064\n",
    "lon = -17.065202\n",
    "buffer = 0.005\n",
    "```\n",
    "\n",
    "**Aviv Coffee Farm, Tanzania**\n",
    "```\n",
    "lat = -10.6979 \n",
    "lon = 35.2635\n",
    "buffer = 0.003\n",
    "```\n",
    "\n",
    "**Croplands, Western Kenya**\n",
    "```\n",
    "lat = -0.483689\n",
    "lon = 34.193792\n",
    "buffer = 0.005\n",
    "```"
   ]
  },
  {
   "cell_type": "code",
   "execution_count": 2,
   "metadata": {},
   "outputs": [],
   "source": [
    "# Define the area of interest for the analysis\n",
    "lat = 14.789064\n",
    "lon = -17.065202\n",
    "buffer = 0.005\n",
    "date = '2020-08-01'"
   ]
  },
  {
   "cell_type": "markdown",
   "metadata": {},
   "source": [
    "## Load the data\n",
    "The `load_crophealth_data()` command performs several key steps:\n",
    "\n",
    "* identify all available Sentinel-2 data in the case-study area over the two years prior to the set date\n",
    "* remove any bad quality pixels\n",
    "* keep images where more than half of the image contains good quality pixels\n",
    "* calculate the NDVI from the red and near infrared bands\n",
    "* return the collated data for analysis\n",
    "\n",
    "The cleaned and collated data is stored in the `dataset` object.\n",
    "As the command runs, feedback will be provided below the cell, including information on the number of cleaned images loaded from the satellite.\n",
    "\n",
    "The function takes four arguments: `lat`, `lon`, and `buffer`, `date`.\n",
    "These determine the area of interest adn date range that the function loads, and can be changed in the previous cell.\n",
    "\n",
    "**Please be patient**.\n",
    "The load is complete when the cell status goes from `[*]` to `[number]`."
   ]
  },
  {
   "cell_type": "code",
   "execution_count": 3,
   "metadata": {},
   "outputs": [
    {
     "name": "stdout",
     "output_type": "stream",
     "text": [
      "Using pixel quality parameters for Sentinel 2\n",
      "Finding datasets\n",
      "    s2_l2a\n",
      "Counting good quality pixels for each time step\n",
      "Filtering to 97 out of 146 time steps with at least 50.0% good quality pixels\n",
      "Applying pixel quality/cloud mask\n",
      "Loading 97 time steps\n"
     ]
    }
   ],
   "source": [
    "dataset = load_crophealth_data(lat, lon, buffer, date)"
   ]
  },
  {
   "cell_type": "markdown",
   "metadata": {},
   "source": [
    "## Run the crop health app\n",
    "The `run_crophealth_app()` command launches an interactive map.\n",
    "Drawing polygons within the red boundary (which represents the area covered by the loaded data) will result in plots of the average NDVI in that area.\n",
    "Draw polygons by clicking the &#11039; symbol in the app.\n",
    "\n",
    "The function works by taking the loaded data `dataset` as an argument, as well as the `lat`, `lon`, and `buffer` parameters used to define the spatial extent.\n",
    "\n",
    "> **Note:** data points will only appear for images where more than 50% of the pixels were classified as good quality. This may cause trend lines on the average NDVI plot to appear disconnected. Available data points will be marked with the `*` symbol."
   ]
  },
  {
   "cell_type": "code",
   "execution_count": 4,
   "metadata": {},
   "outputs": [
    {
     "data": {
      "application/vnd.jupyter.widget-view+json": {
       "model_id": "ea827577be624c098d96f3cc976140f2",
       "version_major": 2,
       "version_minor": 0
      },
      "text/plain": [
       "VBox(children=(Output(layout=Layout(border_bottom='1px solid black', border_left='1px solid black', border_rig…"
      ]
     },
     "metadata": {},
     "output_type": "display_data"
    }
   ],
   "source": [
    "run_crophealth_app(dataset, lat, lon, buffer)"
   ]
  },
  {
   "cell_type": "markdown",
   "metadata": {},
   "source": [
    "## Drawing conclusions\n",
    "\n",
    "Here are some questions to think about:\n",
    "\n",
    "* What are some factors that might explain differences or similarities across different sections of the study area?\n",
    "* Are there any noticable patterns across the two years of data? Could these correspond to specific events such as planting or harvesting?"
   ]
  },
  {
   "cell_type": "markdown",
   "metadata": {},
   "source": [
    "---\n",
    "\n",
    "## Additional information\n",
    "\n",
    "**License:** The code in this notebook is licensed under the [Apache License, Version 2.0](https://www.apache.org/licenses/LICENSE-2.0). \n",
    "Digital Earth Africa data is licensed under the [Creative Commons by Attribution 4.0](https://creativecommons.org/licenses/by/4.0/) license.\n",
    "\n",
    "**Contact:** If you need assistance, please post a question on the [Open Data Cube Slack channel](http://slack.opendatacube.org/) or on the [GIS Stack Exchange](https://gis.stackexchange.com/questions/ask?tags=open-data-cube) using the `open-data-cube` tag (you can view previously asked questions [here](https://gis.stackexchange.com/questions/tagged/open-data-cube)).\n",
    "If you would like to report an issue with this notebook, you can file one on [Github](https://github.com/digitalearthafrica/deafrica-sandbox-notebooks).\n",
    "\n",
    "**Compatible datacube version:**"
   ]
  },
  {
   "cell_type": "code",
   "execution_count": 5,
   "metadata": {},
   "outputs": [
    {
     "name": "stdout",
     "output_type": "stream",
     "text": [
      "1.8.15\n"
     ]
    }
   ],
   "source": [
    "print(datacube.__version__)"
   ]
  },
  {
   "cell_type": "markdown",
   "metadata": {},
   "source": [
    "**Last Tested:**"
   ]
  },
  {
   "cell_type": "code",
   "execution_count": 6,
   "metadata": {
    "raw_mimetype": "text/restructuredtext"
   },
   "outputs": [
    {
     "data": {
      "text/plain": [
       "'2023-08-14'"
      ]
     },
     "execution_count": 6,
     "metadata": {},
     "output_type": "execute_result"
    }
   ],
   "source": [
    "from datetime import datetime\n",
    "datetime.today().strftime('%Y-%m-%d')"
   ]
  }
 ],
 "metadata": {
  "kernelspec": {
   "display_name": "Python 3 (ipykernel)",
   "language": "python",
   "name": "python3"
  },
  "language_info": {
   "codemirror_mode": {
    "name": "ipython",
    "version": 3
   },
   "file_extension": ".py",
   "mimetype": "text/x-python",
   "name": "python",
   "nbconvert_exporter": "python",
   "pygments_lexer": "ipython3",
   "version": "3.10.12"
  },
  "widgets": {
   "application/vnd.jupyter.widget-state+json": {
    "state": {},
    "version_major": 2,
    "version_minor": 0
   }
  }
 },
 "nbformat": 4,
 "nbformat_minor": 4
}
