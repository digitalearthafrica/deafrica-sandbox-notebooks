{
 "cells": [
  {
   "cell_type": "markdown",
   "id": "ef9b0f4e-d47c-496f-a797-c2642108f87a",
   "metadata": {},
   "source": [
    "# Monitoring changes in forest extent\n"
   ]
  },
  {
   "cell_type": "raw",
   "id": "e4706472-855c-48ec-8d4c-9a6086a31d32",
   "metadata": {
    "raw_mimetype": "text/restructuredtext",
    "tags": []
   },
   "source": [
    "**Keywords** :index:`data used; Global Forest Change`"
   ]
  },
  {
   "cell_type": "markdown",
   "id": "4bde6c8c-325a-432f-a959-de946d76011c",
   "metadata": {},
   "source": [
    "## Background\n",
    "\n",
    "Forests worldwide are in a state of flux, with accelerating losses in some regions and gains in others [(Hansen et al., 2013)](https://doi.org/10.1126/science.1244693). The Global Forest Change 2000-2021 dataset characterizes the global forest extent and change from 2000 to 2021. \n",
    "\n",
    "For this dataset: \n",
    "- Forest loss is defined as stand-replacement disturbance, or a change from a forest to non-forest state\n",
    "- Forest gain is defined as the inverse of as the inverse of loss, or a non-forest to forest change entirely within the study period\n",
    "- Tree cover is defined as canopy closure for all vegetation taller than 5m in height.\n",
    "\n",
    "The Year of gross forest cover loss event (`lossyear`) layer shows the forest loss during the period 2000 to 2021. Forest loss is encoded as either 0 (no loss) or else a value in the range 1-20, representing loss detected primarily in the year 2001-2021, respectively.\n",
    "\n",
    "\n",
    "The Tree canopy cover for year 2000 (`treecover2000`) layer shows the tree cover in the year 2000. \n",
    "\n",
    "\n",
    "The Global forest cover gain 2000–2012 (`gain`) layer shows the  forest gain during the period 2000 to 2012. Forest gain is encoded as either 1 (gain) or 0 (no gain)."
   ]
  },
  {
   "cell_type": "markdown",
   "id": "3e122b30-e829-4742-ab20-19ca5e7c5710",
   "metadata": {},
   "source": [
    "## Description\n",
    "This notebook provide an interactive tool for selecting, loading and plotting the Global Forest Change \"`lossyear`\", \"`treecover2000`\" and \"`gain`\" layers in order to monitor forests.\n",
    "\n",
    "***"
   ]
  },
  {
   "cell_type": "markdown",
   "id": "a7e2a120-57f1-4a54-8b1c-e3c0dfb51d98",
   "metadata": {},
   "source": [
    "## Getting started"
   ]
  },
  {
   "cell_type": "markdown",
   "id": "1ea3b747-793b-41ef-982d-f1acf593b5f3",
   "metadata": {},
   "source": [
    "To run this analysis, run all the cells in the notebook, starting with the \"Load packages\" cell. "
   ]
  },
  {
   "cell_type": "markdown",
   "id": "98e7b14d-7e6f-4b89-bcd2-88d30fba2a69",
   "metadata": {},
   "source": [
    "### Load packages\n",
    "\n",
    "Import Python packages that are used for the analysis."
   ]
  },
  {
   "cell_type": "code",
   "execution_count": 1,
   "id": "6fb2e0b1-b656-4d48-a66d-7126a7969687",
   "metadata": {},
   "outputs": [],
   "source": [
    "from deafrica_tools.app import forestmonitoring"
   ]
  },
  {
   "cell_type": "markdown",
   "id": "bfda66ea-75b5-4f12-8c51-e90ac1404c64",
   "metadata": {},
   "source": [
    "## Digital Earth Africa forest monitoring app"
   ]
  },
  {
   "cell_type": "markdown",
   "id": "115597b5-181d-4665-a06d-3e1a9f08e33e",
   "metadata": {
    "tags": []
   },
   "source": [
    "Run the `forestmonitoring.forest_monitoring_app()` cell below to launch the interactive application that is used to select the area to load and plot the Global Forest Change layer.\n",
    "\n",
    "### Selecting parameters \n",
    "On the left of the map, you will see a list of basemaps you can use for plotting and a list of Global Forest Change layers you can load:\n",
    "\n",
    "| Global Forest Change layers available |   |\n",
    "| --- | --- |\n",
    "| **Year of gross forest cover loss event** | Shows forest loss during the period 2000–2021 | \n",
    "| **Global forest cover gain 2000–2012** | Shows forest gain during the period 2000-2012 |\n",
    "| **Tree canopy cover for year 2000** | Show the tree canopy cover for the year 2000 |\n",
    "| **All layers** | Show the forest loss  during the period 2000–2021, forest gain during the period 2000-2012 and the tree canopy cover for the year 2000 |\n",
    "\n",
    "Use the `Forest Cover Loss Time Range` slider to set the time range for which to load the **Year of gross forest cover loss event** layer. Tick the `Override maximum size limit` box to override the app's default 500 square kilometres area limit. This can be used to load larger areas of imagery, but should be used with caution as it can lead to memory issues or crashes.\n",
    "\n",
    "### Selecting a location to plot\n",
    "Zoom into the map to a location you wish to plot. Select the `Draw a rectangle` tool or the `Draw a polygon tool` on the left of the map, and draw a shape around the forest area you are interested in. When you are ready, press the blue `Generate plot` button on the bottom left to  plot the Global Forest Change layer selected for the area drawn on the map. \n",
    "\n",
    "> **Optional:** Upload a GeoJSON or ESRI Shapefile containing the area of interest geometry using the `Upload` button (uploaded files should be less than 5 megabytes in size).\n",
    "\n",
    ">**If running the notebook for the first time**, keep the default settings above. This will demonstrate how the analysis works and provide meaningful results."
   ]
  },
  {
   "cell_type": "code",
   "execution_count": 2,
   "id": "37388e0a-7dff-42e5-8fb5-40ab5d86991b",
   "metadata": {},
   "outputs": [
    {
     "data": {
      "application/vnd.jupyter.widget-view+json": {
       "model_id": "b65f089d02df4ec8818ea437121d2bd8",
       "version_major": 2,
       "version_minor": 0
      },
      "text/plain": [
       "forest_monitoring_app(children=(GridspecLayout(children=(HTML(value='<h3>Digital Earth Africa Forest Change</h…"
      ]
     },
     "execution_count": 2,
     "metadata": {},
     "output_type": "execute_result"
    }
   ],
   "source": [
    "forestmonitoring.forest_monitoring_app()"
   ]
  },
  {
   "cell_type": "markdown",
   "id": "844a2954-1d57-4136-8a8f-2a86423183d2",
   "metadata": {},
   "source": [
    "## Next steps"
   ]
  },
  {
   "cell_type": "markdown",
   "id": "d2383e69-d135-4c4a-b1a1-8a37a8e2bc4f",
   "metadata": {},
   "source": [
    "When you have exported your first plot, select a different area and rerun the analysis by clicking `Generate plot`."
   ]
  },
  {
   "cell_type": "markdown",
   "id": "74e172ec-e813-485d-94c5-7aab86d2a0e1",
   "metadata": {},
   "source": [
    "***\n",
    "\n",
    "## Additional information\n",
    "\n",
    "**License:** The code in this notebook is licensed under the [Apache License, Version 2.0](https://www.apache.org/licenses/LICENSE-2.0). \n",
    "Digital Earth Africa data is licensed under the [Creative Commons by Attribution 4.0](https://creativecommons.org/licenses/by/4.0/) license.\n",
    "\n",
    "**Contact:** If you need assistance, please post a question on the [Open Data Cube Slack channel](http://slack.opendatacube.org/) or on the [GIS Stack Exchange](https://gis.stackexchange.com/questions/ask?tags=open-data-cube) using the `open-data-cube` tag (you can view previously asked questions [here](https://gis.stackexchange.com/questions/tagged/open-data-cube)).\n",
    "If you would like to report an issue with this notebook, you can file one on [Github](https://github.com/digitalearthafrica/deafrica-sandbox-notebooks).\n",
    "\n",
    "**Compatible datacube version:** "
   ]
  },
  {
   "cell_type": "code",
   "execution_count": 3,
   "id": "5b34f144-a665-475f-9c39-63112f1dd7b8",
   "metadata": {},
   "outputs": [
    {
     "name": "stdout",
     "output_type": "stream",
     "text": [
      "1.8.8\n"
     ]
    }
   ],
   "source": [
    "import datacube\n",
    "print(datacube.__version__)"
   ]
  },
  {
   "cell_type": "markdown",
   "id": "ef5d8163-8e33-4127-8f71-f53cfab44792",
   "metadata": {},
   "source": [
    "**Last Tested:**"
   ]
  },
  {
   "cell_type": "code",
   "execution_count": 4,
   "id": "67fa7ab2-4350-4f42-bfd2-d67b4390793c",
   "metadata": {},
   "outputs": [
    {
     "data": {
      "text/plain": [
       "'2022-11-11'"
      ]
     },
     "execution_count": 4,
     "metadata": {},
     "output_type": "execute_result"
    }
   ],
   "source": [
    "from datetime import datetime\n",
    "\n",
    "datetime.today().strftime(\"%Y-%m-%d\")"
   ]
  }
 ],
 "metadata": {
  "kernelspec": {
   "display_name": "Python 3 (ipykernel)",
   "language": "python",
   "name": "python3"
  },
  "language_info": {
   "codemirror_mode": {
    "name": "ipython",
    "version": 3
   },
   "file_extension": ".py",
   "mimetype": "text/x-python",
   "name": "python",
   "nbconvert_exporter": "python",
   "pygments_lexer": "ipython3",
   "version": "3.10.6"
  },
  "widgets": {
   "application/vnd.jupyter.widget-state+json": {
    "state": {},
    "version_major": 2,
    "version_minor": 0
   }
  }
 },
 "nbformat": 4,
 "nbformat_minor": 5
}
