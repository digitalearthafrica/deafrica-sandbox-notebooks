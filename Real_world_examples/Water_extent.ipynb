{
 "cells": [
  {
   "cell_type": "markdown",
   "metadata": {},
   "source": [
    "# Determing Extent of Water Bodies<img align=\"right\" src=\"../Supplementary_data/DE_Africa_Logo_Stacked_RGB_small.jpg\">\n",
    "\n",
    "* **Products used:** \n",
    "[ga_ls8c_wofs_2](https://explorer.digitalearth.africa/ga_ls8c_wofs_2), \n",
    "[ls8_usgs_sr_scene](https://explorer.digitalearth.africa/ls8_usgs_sr_scene)\n",
    "\n",
    "\n"
   ]
  },
  {
   "cell_type": "markdown",
   "metadata": {},
   "source": [
    "## Background\n",
    "The United Nations have prescribed 17 \"Sustainable Development Goals\" (SDGs). This notebook attempts to monitor SDG Indicator 6.6.1 - change in the extent of water-related ecosystems. Indicator 6.6.1 has 4 sub-indicators:\n",
    ">    i. The spatial extent of water-related ecosystems <br>\n",
    ">    ii. The quantity of water contained within these ecosystems <br>\n",
    ">    iii. The quality of water within these ecosystems <br>\n",
    ">    iv. The health or state of these ecosystems <br>\n",
    "\n",
    "This notebook primarily focuses on the first sub-indicator - spatial extents.\n",
    "\n",
    "The [Water Observations from Space (WOfS)](https://www.ga.gov.au/scientific-topics/community-safety/flood/wofs/about-wofs) product shows water observed for Landsat-8 image for selected areas of Africa and it will be used to determine the spatial extent of water.\n"
   ]
  },
  {
   "cell_type": "markdown",
   "metadata": {},
   "source": [
    "## Description\n",
    "The notebook demonstrates how to:\n",
    "\n",
    "1. Load WOFL data for a given location and time period\n",
    "2. Set up a Dask cluster\n",
    "3. Generate a time series\n",
    "4. Generate the Map for Two time period\n",
    "5. Create animation for the Product\n",
    "6. Compare Two Time Periods\n",
    "\n",
    "***"
   ]
  },
  {
   "cell_type": "markdown",
   "metadata": {},
   "source": [
    "## Getting started\n",
    "To run this analysis, run all the cells in the notebook, starting with the \"Load packages\" cell. "
   ]
  },
  {
   "cell_type": "markdown",
   "metadata": {},
   "source": [
    "### Load packages\n",
    "Import Python packages that are used for the analysis."
   ]
  },
  {
   "cell_type": "code",
   "execution_count": null,
   "metadata": {},
   "outputs": [],
   "source": [
    "%matplotlib inline\n",
    "\n",
    "import datacube\n",
    "import matplotlib.pyplot as plt\n",
    "import numpy as np\n",
    "import pandas as pd\n",
    "import sys, warnings\n",
    "import xarray as xr\n",
    "from IPython.display import Image\n",
    "from matplotlib.colors import ListedColormap\n",
    "from matplotlib.patches import Patch\n",
    "\n",
    "sys.path.append('../Scripts')\n",
    "\n",
    "from deafrica_datahandling import mostcommon_crs, load_ard, wofs_fuser\n",
    "from deafrica_bandindices import calculate_indices\n",
    "from deafrica_plotting import display_map, rgb, animated_timeseries, xr_animation\n",
    "from deafrica_dask import create_local_dask_cluster\n",
    "\n"
   ]
  },
  {
   "cell_type": "markdown",
   "metadata": {},
   "source": [
    "### Connect to the datacube\n",
    "\n",
    "Activate the datacube database, which provides functionality for loading and displaying stored Earth observation data."
   ]
  },
  {
   "cell_type": "code",
   "execution_count": null,
   "metadata": {},
   "outputs": [],
   "source": [
    "dc = datacube.Datacube(app='water_extent')"
   ]
  },
  {
   "cell_type": "markdown",
   "metadata": {},
   "source": [
    "## Set up a Dask cluster\n",
    "\n",
    "Dask can be used to better manage memory use and conduct the analysis in parallel. \n",
    "For an introduction to using Dask with Digital Earth Africa, see the [Dask notebook](../Beginners_guide/06_Parallel_processing_with_dask.ipynb).\n",
    "\n",
    ">**Note**: We recommend opening the Dask processing window to view the different computations that are being executed; to do this, see the *Dask dashboard in DE Africa* section of the [Dask notebook](../Beginners_guide/06_Parallel_processing_with_dask.ipynb).\n",
    "\n",
    "To activate Dask, set up the local computing cluster using the cell below."
   ]
  },
  {
   "cell_type": "code",
   "execution_count": null,
   "metadata": {},
   "outputs": [],
   "source": [
    "create_local_dask_cluster()"
   ]
  },
  {
   "cell_type": "markdown",
   "metadata": {},
   "source": [
    "### Analysis parameters\n",
    "\n",
    "The following cell sets the parameters, which define the area of interest and the length of time to conduct the analysis over.\n",
    "\n",
    "The parameters are:\n",
    "\n",
    "* `lat`: The central latitude to analyse (e.g. 10.338).\n",
    "* `lon` : The central longitude to analyse (e.g. -1.055).\n",
    "* `lat_buffer` : The number of degrees to load around the central latitude.\n",
    "* `lon_buffer` : The number of degrees to load around the central longitude.\n",
    "\n",
    "* `Start_year and end_year`: The date range to analyse (e.g. `('2015', '2019')`).\n",
    "\n",
    "**If running the notebook for the first time**, keep the default settings below.\n",
    "This will demonstrate how the analysis works and provide meaningful results.\n",
    "The example covers part of the Lake Sulunga. Tanzania. \n"
   ]
  },
  {
   "cell_type": "code",
   "execution_count": null,
   "metadata": {},
   "outputs": [],
   "source": [
    "# Define the area of interest\n",
    "lat = -6.0873\n",
    "lon = 35.1817\n",
    "\n",
    "lat_buffer = 0.19\n",
    "lon_buffer = 0.2\n",
    "\n",
    "# Combine central lat,lon with buffer to get area of interest\n",
    "lat_range = (lat - lat_buffer, lat + lat_buffer)\n",
    "lon_range = (lon - lon_buffer, lon + lon_buffer)\n",
    "\n",
    "# Define the start year and end year\n",
    "start_year = 2013\n",
    "end_year = 2019"
   ]
  },
  {
   "cell_type": "markdown",
   "metadata": {},
   "source": [
    "## View the Area of Interest on an Interative map\n",
    "The next cell will display the selected area on an interactive map.\n",
    "The red border represents the area of interest of the study.\n",
    "Zoom in and out to get a better understanding of the area of interest.\n",
    "Clicking anywhere on the map will reveal the latitude and longitude coordinates of the clicked point."
   ]
  },
  {
   "cell_type": "code",
   "execution_count": null,
   "metadata": {},
   "outputs": [],
   "source": [
    "display_map(lon_range, lat_range)"
   ]
  },
  {
   "cell_type": "markdown",
   "metadata": {},
   "source": [
    "## Load and view Landsat data\n",
    "\n",
    "The code below will create a query dictionary for our region of interest, find the correct `crs` using the `mostcommon_crs function` for the area of interest, and then load the WOFs product with `dc.load` function.\n",
    "For more infmation loading data, see the [Using load_notebook](../Beginners_guide/03_Loading_data.ipynb)."
   ]
  },
  {
   "cell_type": "code",
   "execution_count": null,
   "metadata": {},
   "outputs": [],
   "source": [
    "#Create a query object\n",
    "query = {\n",
    "    'x': lon_range,\n",
    "    'y': lat_range,\n",
    "    'group_by': 'solar_day',\n",
    "    'resolution': (-30, 30),\n",
    "    'align': (15, 15),\n",
    "    'time': (start_year, end_year)\n",
    "}\n",
    "\n",
    "\n",
    "# find the right crs for the location\n",
    "crs = mostcommon_crs(dc=dc, product='ga_ls8c_wofs_2', query=query)\n",
    "\n",
    "# Load available data from all three Landsat satellites\n",
    "ds = dc.load(product=[\"ga_ls8c_wofs_2\"],\n",
    "             output_crs=crs,\n",
    "             dask_chunks={'time': 1, 'x': 2000, 'y': 2000},\n",
    "             fuse_func=wofs_fuser,\n",
    "             **query\n",
    "            )\n",
    "\n",
    "ds_landsat = dc.load(product=['ls8_usgs_sr_scene'],\n",
    "                     measurements=['red', 'green', 'blue'],\n",
    "                     dask_chunks={'time': 1, 'x': 2000, 'y': 200},\n",
    "                     like=ds)\n",
    "\n"
   ]
  },
  {
   "cell_type": "markdown",
   "metadata": {},
   "source": [
    "## Calculate the area per pixel\n",
    "The number of pixels can be used for the area of the waterbody if the pixel area is known. \n",
    "Run the following cell to generate the necessary constants for performing this conversion."
   ]
  },
  {
   "cell_type": "code",
   "execution_count": null,
   "metadata": {},
   "outputs": [],
   "source": [
    "pixel_length = query[\"resolution\"][1]  # in metres\n",
    "m_per_km = 1000  # conversion from metres to kilometres\n",
    "area_per_pixel = pixel_length**2 / m_per_km**2"
   ]
  },
  {
   "cell_type": "markdown",
   "metadata": {},
   "source": [
    "## Defining the threshold value\n",
    "The next cell calcualates the threshold value to prevent partial image scene, missing data and also reduce the cloud cover."
   ]
  },
  {
   "cell_type": "code",
   "execution_count": null,
   "metadata": {},
   "outputs": [],
   "source": [
    "# More than 75% of pixels need to be classified as land or water\n",
    "valid_threshold = (ds.x.size * ds.y.size) * 0.75 # Needs 75% to be water or land"
   ]
  },
  {
   "cell_type": "markdown",
   "metadata": {},
   "source": [
    "## Calculating the extent of water\n",
    "The following cell calculate the following \n",
    "1. Classify pixels as True if they are land or water\n",
    "2. Count all pixels classified as land and water in each timestep\n",
    "3. Apply the threshold value to remove unwanted scenes\n",
    "4. Calculate area of water extent"
   ]
  },
  {
   "cell_type": "code",
   "execution_count": null,
   "metadata": {},
   "outputs": [],
   "source": [
    "# Classify pixels as True if they are land or water; classifies as False otherwise\n",
    "ds_land_water = ds.water.isin([0, 128])\n",
    "\n",
    "# Count all pixels classified as land and water in each timestep\n",
    "ds_land_water_count = ds_land_water.sum(dim=['x', 'y'])\n",
    "\n",
    "# Only keep pixels if there are more land+water pixels than the valid threshold\n",
    "# Apply this to the original dataset using .where to get WOfS pixel values\n",
    "ds_valid = ds.where(ds_land_water_count > valid_threshold)\n",
    "\n",
    "# remove any timesteps that did not meet the valid condition\n",
    "ds_valid_dropna = ds_valid.dropna(dim='time', how='all')\n",
    "\n",
    "# Only show water pixels\n",
    "ds_valid_water = ds_valid_dropna.water == 128\n",
    "\n",
    "# Calculate area of water pixels\n",
    "ds_valid_water_area = ds_valid_water.sum(dim=['x', 'y']) * area_per_pixel"
   ]
  },
  {
   "cell_type": "markdown",
   "metadata": {},
   "source": [
    "## Plot Monthly Time Series from the `Start year` to `End year`"
   ]
  },
  {
   "cell_type": "code",
   "execution_count": null,
   "metadata": {},
   "outputs": [],
   "source": [
    "plt.figure(figsize=(18, 4))\n",
    "ds_valid_water_area.plot(marker='o', color='#9467bd')\n",
    "plt.title(f'Time Series Analysis of water observed area from {start_year} to {end_year}')\n",
    "plt.xlabel('Dates')\n",
    "plt.ylabel('Waterbody area (km$^2$)')\n",
    "plt.tight_layout()"
   ]
  },
  {
   "cell_type": "markdown",
   "metadata": {},
   "source": [
    "## Determine Minimum and Maximum Water Extent\n",
    "The next cell extract the Minimum and Maximum extent of water from the dataset using the `min` and `max` functions"
   ]
  },
  {
   "cell_type": "code",
   "execution_count": null,
   "metadata": {},
   "outputs": [],
   "source": [
    "min_water_area_date, max_water_area_date =  min(ds_valid_water_area), max(ds_valid_water_area)"
   ]
  },
  {
   "cell_type": "markdown",
   "metadata": {},
   "source": [
    "A new dataArray is created to store the new date from the `min_water_area_date` and `max_water_area_date` from the above function"
   ]
  },
  {
   "cell_type": "code",
   "execution_count": null,
   "metadata": {},
   "outputs": [],
   "source": [
    "time_xr = xr.DataArray([min_water_area_date.time.values, max_water_area_date.time.values], dims=[\"time\"])"
   ]
  },
  {
   "cell_type": "markdown",
   "metadata": {},
   "source": [
    "## Plotting\n",
    "Plot water classified pixel for the two dates where we have the minimum and maximum surface water extent."
   ]
  },
  {
   "cell_type": "code",
   "execution_count": null,
   "metadata": {},
   "outputs": [],
   "source": [
    "ds_valid_water.sel(time=time_xr).plot.imshow(\"x\",\"y\",col=\"time\", col_wrap=2, robust=True, figsize=(14, 6), cmap='jet_r')"
   ]
  },
  {
   "cell_type": "markdown",
   "metadata": {},
   "source": [
    "Plot the Equivalent landsat  (water classified pixel) for the two dates where we have the minimum and maximum surface water extent."
   ]
  },
  {
   "cell_type": "code",
   "execution_count": null,
   "metadata": {},
   "outputs": [],
   "source": [
    "ds_landsat_valid = ds_landsat.sel(time=time_xr)\n",
    "rgb(ds_landsat_valid, col='time') "
   ]
  },
  {
   "cell_type": "markdown",
   "metadata": {},
   "source": [
    "## Animating time series\n",
    "In the next cell, we plot the dataset we loaded above as an animation GIF, using the [`xr_animation`](../Frequently_used_code/Animated_timeseries.ipynb) function.\n",
    "The `output_path` will be saved in the directory where the script is found and you can change the names to prevent files overwrite.\n",
    "A legendbar is added below the output image , where `0 = land and 128 = water, the middle color is the clouds cover`."
   ]
  },
  {
   "cell_type": "code",
   "execution_count": null,
   "metadata": {},
   "outputs": [],
   "source": [
    "xr_animation(ds=ds_valid_dropna, \n",
    "             output_path='water_extent.gif',\n",
    "             bands ='water',\n",
    "             interval=1000, \n",
    "             width_pixels=300,\n",
    "             show_colorbar=True,\n",
    "             imshow_kwargs={'cmap': 'RdYlBu'},\n",
    "            )\n",
    "\n",
    "# Plot animated gif\n",
    "plt.close()\n",
    "Image(filename='water_extent.gif')"
   ]
  },
  {
   "cell_type": "markdown",
   "metadata": {},
   "source": [
    "## Compare Two Time Periods - a Baseline and an Analysis\n",
    "The following cells determine the maximum extent of water for two different years. \n",
    "* `baseline_year` : The baseline year for the analysis\n",
    "* `analysis_year` : The year to compare to the baseline year\n",
    "\n",
    "* The maximum water extent for the two years are determine from the datatset `ds_valid_water_area`"
   ]
  },
  {
   "cell_type": "code",
   "execution_count": null,
   "metadata": {},
   "outputs": [],
   "source": [
    "baseline_year = 2016\n",
    "analysis_year = 2019\n",
    "\n",
    "baseline_ds, analysis_ds = max(ds_valid_water_area[ds_valid_water_area['time.year'] == baseline_year]) , max(ds_valid_water_area[ds_valid_water_area['time.year'] == analysis_year])"
   ]
  },
  {
   "cell_type": "markdown",
   "metadata": {},
   "source": [
    "A new dataArray is created to store the new date from the `maximum water extent` for the two years"
   ]
  },
  {
   "cell_type": "code",
   "execution_count": null,
   "metadata": {},
   "outputs": [],
   "source": [
    "time_xr = xr.DataArray([baseline_ds.time.values, analysis_ds.time.values], dims=[\"time\"])"
   ]
  },
  {
   "cell_type": "markdown",
   "metadata": {},
   "source": [
    "## Plotting\n",
    "Plot water extent of the WOFS product for the two years."
   ]
  },
  {
   "cell_type": "code",
   "execution_count": null,
   "metadata": {},
   "outputs": [],
   "source": [
    "ds_valid_water.sel(time=time_xr).plot.imshow(\"x\",\"y\",col=\"time\", col_wrap=2, robust=True, figsize=(14, 6), cmap='jet_r')"
   ]
  },
  {
   "cell_type": "markdown",
   "metadata": {},
   "source": [
    "Plot the Equivalent landsat for the two dates"
   ]
  },
  {
   "cell_type": "code",
   "execution_count": null,
   "metadata": {},
   "outputs": [],
   "source": [
    "rgb(ds_landsat.sel(time=time_xr), col='time') "
   ]
  },
  {
   "cell_type": "markdown",
   "metadata": {},
   "source": [
    "## Calculating the change for the two periods\n",
    "The cells below calculate the amount of water gain, loss and stable for the two periods"
   ]
  },
  {
   "cell_type": "code",
   "execution_count": null,
   "metadata": {},
   "outputs": [],
   "source": [
    "# The two period Extract the two periods(Baseline and analysis) dataset from\n",
    "ds_selected = ds_valid_water.sel(time=time_xr)\n",
    "\n",
    "#The dataset array is transform to 1 and 0 using the `astype(int)` function.\n",
    "analyse_total_value = ds_selected[1].astype(int)\n",
    "change = analyse_total_value - ds_selected[0].astype(int)\n",
    "\n",
    "#The various scenarios are extracted from the `change` variable for the tw years\n",
    "#Water gain  is 1\n",
    "water_appeared = change.where(change == 1)\n",
    "\n",
    "#Permanent water = 0\n",
    "permanent_water = change.where((change == 0) & (analyse_total_value == 1))\n",
    "\n",
    "#Permanent Land = 0\n",
    "permanent_land = change.where((change == 0) & (analyse_total_value == 0))\n",
    "\n",
    "#Water loss = -1\n",
    "water_disappeared = change.where(change == -1)"
   ]
  },
  {
   "cell_type": "markdown",
   "metadata": {},
   "source": [
    "The cell below calculate the area of water extent for water_loss, water_gain, permanent water and land "
   ]
  },
  {
   "cell_type": "code",
   "execution_count": null,
   "metadata": {},
   "outputs": [],
   "source": [
    "total_area = analyse_total_value.count().values * area_per_pixel\n",
    "water_apperaed_area = water_appeared.count().values * area_per_pixel\n",
    "permanent_water_area = permanent_water.count().values * area_per_pixel\n",
    "permanent_land_area = permanent_land.count().values * area_per_pixel\n",
    "water_disappeared_area = water_disappeared.count().values * area_per_pixel"
   ]
  },
  {
   "cell_type": "markdown",
   "metadata": {},
   "source": [
    "The cell below calculate the percentage of area of water extent for water_loss, water_gain, permanent water and land "
   ]
  },
  {
   "cell_type": "code",
   "execution_count": null,
   "metadata": {},
   "outputs": [],
   "source": [
    "# Percentage Change in water extent\n",
    "percentage_water_gain = round((water_apperaed_area /  total_area) * 100 , 2)\n",
    "percentage_water_loss = round(water_disappeared_area /  total_area * 100 , 2)\n",
    "percentage_permanent_water = round(permanent_water_area /  total_area * 100 , 2)\n",
    "percentage_permanent_land = round(permanent_land_area /  total_area * 100, 2)"
   ]
  },
  {
   "cell_type": "markdown",
   "metadata": {},
   "source": [
    "## Plotting\n",
    "The water variables are plotted to visualised the result"
   ]
  },
  {
   "cell_type": "code",
   "execution_count": null,
   "metadata": {},
   "outputs": [],
   "source": [
    "water_appeared_color = 'Green'\n",
    "water_disappeared_color = 'Yellow'\n",
    "stable_color = 'Blue'\n",
    "land_color = 'Brown'\n",
    "\n",
    "ds_valid_water.sel(time=time_xr[1]).plot.imshow(cmap='jet_r', add_colorbar=False, add_labels=False, size=6)\n",
    "water_appeared.plot.imshow(cmap=ListedColormap([water_appeared_color]), add_colorbar=False, add_labels=False)\n",
    "water_disappeared.plot.imshow(cmap=ListedColormap([water_disappeared_color]), add_colorbar=False, add_labels=False)\n",
    "\n",
    "plt.legend(\n",
    "        [Patch(facecolor=stable_color), Patch(facecolor=water_disappeared_color), Patch(facecolor=water_appeared_color),   Patch(facecolor=land_color)], \n",
    "        [f'Water to Water {percentage_permanent_water}%', f'Water to No Water {percentage_water_loss}%' , f'No Water to Water: {percentage_water_gain}%',  \n",
    "         f'No Water to No water {percentage_permanent_land}%'],\n",
    "        loc = 'lower left'\n",
    "    )"
   ]
  },
  {
   "cell_type": "markdown",
   "metadata": {},
   "source": [
    "## Next steps\n",
    "\n",
    "\n",
    "Return to the \"Analysis parameters\" section, modify some values (e.g. `latitude`, `longitude`, `start_year`, `end_year`) and re-run the analysis.\n",
    "You can use the interactive map in the \"View the selected location\" section to find new central latitude and longitude values by panning and zooming, and then clicking on the area you wish to extract location values for.\n",
    "You can also use Google maps to search for a location you know, then return the latitude and longitude values by clicking the map.\n",
    "\n",
    "Change the year aslo in \"Compare Two Time Periods - a Baseline and an Analysis\" section, (e.g. `base_year`, `analyse_year`) and re-run the analysis."
   ]
  },
  {
   "cell_type": "markdown",
   "metadata": {},
   "source": [
    "***\n",
    "\n",
    "## Additional information\n",
    "\n",
    "**License:** The code in this notebook is licensed under the [Apache License, Version 2.0](https://www.apache.org/licenses/LICENSE-2.0). \n",
    "Digital Earth Africa data is licensed under the [Creative Commons by Attribution 4.0](https://creativecommons.org/licenses/by/4.0/) license.\n",
    "\n",
    "**Contact:** If you need assistance, please post a question on the [Open Data Cube Slack channel](http://slack.opendatacube.org/) or on the [GIS Stack Exchange](https://gis.stackexchange.com/questions/ask?tags=open-data-cube) using the `open-data-cube` tag (you can view previously asked questions [here](https://gis.stackexchange.com/questions/tagged/open-data-cube)).\n",
    "If you would like to report an issue with this notebook, you can file one on [Github](https://github.com/digitalearthafrica/deafrica-sandbox-notebooks).\n",
    "\n",
    "**Last modified:** July 2020\n",
    "\n",
    "**Compatible datacube version:** "
   ]
  },
  {
   "cell_type": "code",
   "execution_count": null,
   "metadata": {},
   "outputs": [],
   "source": [
    "print(datacube.__version__)"
   ]
  },
  {
   "cell_type": "markdown",
   "metadata": {},
   "source": [
    "## Tags\n",
    "Browse all available tags on the DE Africa User Guide's [Tags Index](https://) (placeholder as this does not exist yet)"
   ]
  },
  {
   "cell_type": "raw",
   "metadata": {
    "raw_mimetype": "text/restructuredtext"
   },
   "source": [
    "**Tags**:  :index:`WOfS`, :index:`deafrica_plotting`, :index:`rgb`, :index:`NDVI`, :index:`time series`, :index:`dea_datahandling`, :index:`animation`, :index:`animation`"
   ]
  }
 ],
 "metadata": {
  "kernelspec": {
   "display_name": "Python 3",
   "language": "python",
   "name": "python3"
  },
  "language_info": {
   "codemirror_mode": {
    "name": "ipython",
    "version": 3
   },
   "file_extension": ".py",
   "mimetype": "text/x-python",
   "name": "python",
   "nbconvert_exporter": "python",
   "pygments_lexer": "ipython3",
   "version": "3.6.9"
  },
  "widgets": {
   "application/vnd.jupyter.widget-state+json": {
    "state": {},
    "version_major": 2,
    "version_minor": 0
   }
  }
 },
 "nbformat": 4,
 "nbformat_minor": 4
}
