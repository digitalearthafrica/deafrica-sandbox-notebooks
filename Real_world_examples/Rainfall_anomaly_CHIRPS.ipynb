{
 "cells": [
  {
   "cell_type": "raw",
   "metadata": {
    "raw_mimetype": "text/restructuredtext"
   },
   "source": [
    "**Keywords**: :index:`datasets; CHIRPS`, :index:`climate`, :index:`rainfall`, :index:`monthly`"
   ]
  },
  {
   "cell_type": "markdown",
   "metadata": {},
   "source": [
    "## Background\n",
    "\n",
    "Rainfall anomalies are deviations of annual rainfall from long-run averages. They are useful for identifying wet and dry years which can be linked to climatically influenced patterns such as agricultural production."
   ]
  },
  {
   "cell_type": "markdown",
   "metadata": {},
   "source": [
    "## Description\n",
    "In this real world example we will calculate rainfall anomalies for a selected African country using the CHIRPS monthly rainfall dataset. The notebook outlines:\n",
    "\n",
    "1. Loading a shapefile for African countries and selecting a single country\n",
    "2. Loading and rainfall data and masking it to the selected country.\n",
    "3. Calculating annual rainfall anomalies and plotting the result.\n",
    "\n",
    "***"
   ]
  },
  {
   "cell_type": "markdown",
   "metadata": {},
   "source": [
    "## Getting started\n",
    "\n",
    "To run this analysis, run all the cells in the notebook, starting with the \"Load packages\" cell. "
   ]
  },
  {
   "cell_type": "markdown",
   "metadata": {},
   "source": [
    "### Load packages\n"
   ]
  },
  {
   "cell_type": "code",
   "execution_count": null,
   "metadata": {},
   "outputs": [],
   "source": [
    "%matplotlib inline\n",
    "\n",
    "import datacube\n",
    "import numpy as np\n",
    "import pandas as pd\n",
    "import geopandas as gpd\n",
    "import xarray as xr\n",
    "import json\n",
    "import matplotlib.pyplot as plt\n",
    "\n",
    "from datacube.utils.geometry import Geometry, CRS\n",
    "from deafrica_tools.spatial import xr_rasterize"
   ]
  },
  {
   "cell_type": "markdown",
   "metadata": {},
   "source": [
    "## Set up a Dask cluster\n",
    "\n",
    "Dask can be used to better manage memory use and conduct the analysis in parallel. \n",
    "For an introduction to using Dask with Digital Earth Africa, see the [Dask notebook](../Beginners_guide/08_Parallel_processing_with_dask.ipynb).\n",
    "\n",
    ">**Note**: We recommend opening the Dask processing window to view the different computations that are being executed; to do this, see the *Dask dashboard in DE Africa* section of the [Dask notebook](../Beginners_guide/08_parallel_processing_with_dask.ipynb).\n",
    "\n",
    "To use Dask, set up the local computing cluster using the cell below."
   ]
  },
  {
   "cell_type": "code",
   "execution_count": null,
   "metadata": {},
   "outputs": [],
   "source": [
    "create_local_dask_cluster()"
   ]
  },
  {
   "cell_type": "markdown",
   "metadata": {},
   "source": [
    "### Analysis parameters\n",
    "\n",
    "The following cell sets important parameters for the analysis:\n",
    "\n",
    "* `country`: In this analysis, we'll select an African country to mask the dataset and analysis.\n",
    "* `geopolygon`: Based on the selected country, we'll use a geopolygon to bound our data loading call.\n",
    "* `time_range`: CHIRPS monthly rainfall is available from 1981, so we'll use the entire epoch available.\n",
    "* `output_crs`: Both CHIRPS monthly rainfall and the country polygons are projected naturally in epsg:4326 in degree units. We'll load the data in epsg:6933 but we'll have to be careful to make sure crs is aligned as we proceed.\n",
    "* `resolution`: We'll use 5,000 m, which is approximately equal to the default resolution shown above.\n",
    "* `measurements`: Rainfall.\n",
    "* `dask_chunks`:  the size of the dask chunks, dask breaks data into manageable chunks that can be easily stored in memory, e.g. dict(x=1000,y=1000)\n",
    "\n",
    "**If running the notebook for the first time**, keep the default settings below.\n",
    "This will demonstrate how the analysis works and provide meaningful results.\n"
   ]
  },
  {
   "cell_type": "code",
   "execution_count": null,
   "metadata": {},
   "outputs": [],
   "source": [
    "# Select a country, for the example we will use Zimbabwe, a complete list of countries is available below.\n",
    "country = \"Zimbabwe\"\n",
    "\n",
    "# Set the range of dates for the climatology\n",
    "time_range = ('1999', '2019')\n",
    "\n",
    "# year and month for anomaly\n",
    "year = '2021'\n",
    "month = 'July'\n",
    "\n",
    "# some final specifications\n",
    "resolution = (-5000, 5000)\n",
    "measurements = ['rainfall']\n",
    "dask_chunks = dict(x=1000,y=1000)\n",
    "\n",
    "# Combine central lat,lon with buffer to get area of interest\n",
    "lat_range = (lat-buffer, lat+buffer)\n",
    "lon_range = (lon-buffer, lon+buffer)"
   ]
  },
  {
   "cell_type": "markdown",
   "metadata": {},
   "source": [
    "### Connect to the datacube\n",
    "\n",
    "Connect to the datacube so we can access DE Africa data.\n",
    "The `app` parameter is a unique name for the analysis which is based on the notebook file name."
   ]
  },
  {
   "cell_type": "code",
   "execution_count": 2,
   "metadata": {},
   "outputs": [],
   "source": [
    "dc = datacube.Datacube(app='rainfall_anomaly')"
   ]
  },
  {
   "cell_type": "markdown",
   "metadata": {},
   "source": [
    "### Load the African Countries shapefile\n",
    "\n",
    "This shapefile contains polygons for the boundaries of African countries and will allows us to calculate rainfall anomalies within a chosen country"
   ]
  },
  {
   "cell_type": "code",
   "execution_count": null,
   "metadata": {},
   "outputs": [],
   "source": [
    "african_countries = gpd.read_file('../Supplementary_data/Rainfall_anomaly_CHIRPS/african_countries.shp')\n",
    "african_countries.explore()"
   ]
  },
  {
   "cell_type": "markdown",
   "metadata": {},
   "source": [
    "### Select a country\n",
    "\n",
    "You can change the argument below to any African country, we'll use Zimbabwe for this example. A complete list of countries is printed below."
   ]
  },
  {
   "cell_type": "code",
   "execution_count": 4,
   "metadata": {},
   "outputs": [
    {
     "name": "stdout",
     "output_type": "stream",
     "text": [
      "['Algeria' 'Angola' 'Benin' 'Botswana' 'Burkina Faso' 'Burundi' 'Cameroon'\n",
      " 'Cape Verde' 'Central African Republic' 'Chad' 'Comoros'\n",
      " 'Congo-Brazzaville' 'Cote d`Ivoire' 'Democratic Republic of Congo'\n",
      " 'Djibouti' 'Egypt' 'Equatorial Guinea' 'Eritrea' 'Ethiopia' 'Gabon'\n",
      " 'Gambia' 'Ghana' 'Guinea' 'Guinea-Bissau' 'Kenya' 'Lesotho' 'Liberia'\n",
      " 'Libya' 'Madagascar' 'Malawi' 'Mali' 'Mauritania' 'Morocco' 'Mozambique'\n",
      " 'Namibia' 'Niger' 'Nigeria' 'Rwanda' 'Sao Tome and Principe' 'Senegal'\n",
      " 'Sierra Leone' 'Somalia' 'South Africa' 'Sudan' 'Swaziland' 'Tanzania'\n",
      " 'Togo' 'Tunisia' 'Uganda' 'Western Sahara' 'Zambia' 'Zimbabwe']\n"
     ]
    }
   ],
   "source": [
    "print(np.unique(african_countries.COUNTRY))"
   ]
  },
  {
   "cell_type": "code",
   "execution_count": 5,
   "metadata": {},
   "outputs": [],
   "source": [
    "country = \"Zimbabwe\""
   ]
  },
  {
   "cell_type": "markdown",
   "metadata": {},
   "source": [
    "## Setup polygon\n",
    "\n",
    "The country selected needs to be transformed into a geometry object to be used in the `dc.load()` function."
   ]
  },
  {
   "cell_type": "code",
   "execution_count": 6,
   "metadata": {},
   "outputs": [],
   "source": [
    "idx = african_countries[african_countries['COUNTRY'] == country].index[0]\n",
    "geom = Geometry(geom=african_countries.iloc[idx].geometry, crs=african_countries.crs)"
   ]
  },
  {
   "cell_type": "markdown",
   "metadata": {},
   "source": [
    "## Load rainfall data\n",
    "\n",
    "First, let's have a look at the product information for CHIRPS rainfall. "
   ]
  },
  {
   "cell_type": "code",
   "execution_count": 7,
   "metadata": {},
   "outputs": [
    {
     "data": {
      "text/html": [
       "<div>\n",
       "<style scoped>\n",
       "    .dataframe tbody tr th:only-of-type {\n",
       "        vertical-align: middle;\n",
       "    }\n",
       "\n",
       "    .dataframe tbody tr th {\n",
       "        vertical-align: top;\n",
       "    }\n",
       "\n",
       "    .dataframe thead th {\n",
       "        text-align: right;\n",
       "    }\n",
       "</style>\n",
       "<table border=\"1\" class=\"dataframe\">\n",
       "  <thead>\n",
       "    <tr style=\"text-align: right;\">\n",
       "      <th></th>\n",
       "      <th>name</th>\n",
       "      <th>description</th>\n",
       "      <th>license</th>\n",
       "      <th>default_crs</th>\n",
       "      <th>default_resolution</th>\n",
       "    </tr>\n",
       "    <tr>\n",
       "      <th>name</th>\n",
       "      <th></th>\n",
       "      <th></th>\n",
       "      <th></th>\n",
       "      <th></th>\n",
       "      <th></th>\n",
       "    </tr>\n",
       "  </thead>\n",
       "  <tbody>\n",
       "    <tr>\n",
       "      <th>rainfall_chirps_monthly</th>\n",
       "      <td>rainfall_chirps_monthly</td>\n",
       "      <td>Rainfall Estimates from Rain Gauge and Satelli...</td>\n",
       "      <td>None</td>\n",
       "      <td>EPSG:4326</td>\n",
       "      <td>(-0.05000000074505806, 0.05000000074505806)</td>\n",
       "    </tr>\n",
       "  </tbody>\n",
       "</table>\n",
       "</div>"
      ],
      "text/plain": [
       "                                            name  \\\n",
       "name                                               \n",
       "rainfall_chirps_monthly  rainfall_chirps_monthly   \n",
       "\n",
       "                                                               description  \\\n",
       "name                                                                         \n",
       "rainfall_chirps_monthly  Rainfall Estimates from Rain Gauge and Satelli...   \n",
       "\n",
       "                        license default_crs  \\\n",
       "name                                          \n",
       "rainfall_chirps_monthly    None   EPSG:4326   \n",
       "\n",
       "                                                  default_resolution  \n",
       "name                                                                  \n",
       "rainfall_chirps_monthly  (-0.05000000074505806, 0.05000000074505806)  "
      ]
     },
     "execution_count": 7,
     "metadata": {},
     "output_type": "execute_result"
    }
   ],
   "source": [
    "dc.list_products().loc[dc.list_products()['name'].str.contains('chirps')]"
   ]
  },
  {
   "cell_type": "markdown",
   "metadata": {},
   "source": [
    "### Analysis parameters\n",
    "\n",
    "* `geopolygon`: In this analysis, we'll use a geopolygon (country) to bound our data loading call.\n",
    "* `time`: CHIRPS monthly rainfall is available from 1981, so we'll use the entire epoch available.\n",
    "* `output_crs`: Both CHIRPS monthly rainfall and the country polygons are projected naturally in epsg:4326 in degree units. We'll load the data in epsg:6933 but we'll have to be careful to make sure crs is aligned as we proceed.\n",
    "* `resolution`: We'll use 5,000 m, which is approximately equal to the default resolution shown above.\n",
    "* `measurements`: Rainfall.\n",
    "\n"
   ]
  },
  {
   "cell_type": "code",
   "execution_count": 8,
   "metadata": {},
   "outputs": [
    {
     "data": {
      "text/html": [
       "<div><svg style=\"position: absolute; width: 0; height: 0; overflow: hidden\">\n",
       "<defs>\n",
       "<symbol id=\"icon-database\" viewBox=\"0 0 32 32\">\n",
       "<path d=\"M16 0c-8.837 0-16 2.239-16 5v4c0 2.761 7.163 5 16 5s16-2.239 16-5v-4c0-2.761-7.163-5-16-5z\"></path>\n",
       "<path d=\"M16 17c-8.837 0-16-2.239-16-5v6c0 2.761 7.163 5 16 5s16-2.239 16-5v-6c0 2.761-7.163 5-16 5z\"></path>\n",
       "<path d=\"M16 26c-8.837 0-16-2.239-16-5v6c0 2.761 7.163 5 16 5s16-2.239 16-5v-6c0 2.761-7.163 5-16 5z\"></path>\n",
       "</symbol>\n",
       "<symbol id=\"icon-file-text2\" viewBox=\"0 0 32 32\">\n",
       "<path d=\"M28.681 7.159c-0.694-0.947-1.662-2.053-2.724-3.116s-2.169-2.030-3.116-2.724c-1.612-1.182-2.393-1.319-2.841-1.319h-15.5c-1.378 0-2.5 1.121-2.5 2.5v27c0 1.378 1.122 2.5 2.5 2.5h23c1.378 0 2.5-1.122 2.5-2.5v-19.5c0-0.448-0.137-1.23-1.319-2.841zM24.543 5.457c0.959 0.959 1.712 1.825 2.268 2.543h-4.811v-4.811c0.718 0.556 1.584 1.309 2.543 2.268zM28 29.5c0 0.271-0.229 0.5-0.5 0.5h-23c-0.271 0-0.5-0.229-0.5-0.5v-27c0-0.271 0.229-0.5 0.5-0.5 0 0 15.499-0 15.5 0v7c0 0.552 0.448 1 1 1h7v19.5z\"></path>\n",
       "<path d=\"M23 26h-14c-0.552 0-1-0.448-1-1s0.448-1 1-1h14c0.552 0 1 0.448 1 1s-0.448 1-1 1z\"></path>\n",
       "<path d=\"M23 22h-14c-0.552 0-1-0.448-1-1s0.448-1 1-1h14c0.552 0 1 0.448 1 1s-0.448 1-1 1z\"></path>\n",
       "<path d=\"M23 18h-14c-0.552 0-1-0.448-1-1s0.448-1 1-1h14c0.552 0 1 0.448 1 1s-0.448 1-1 1z\"></path>\n",
       "</symbol>\n",
       "</defs>\n",
       "</svg>\n",
       "<style>/* CSS stylesheet for displaying xarray objects in jupyterlab.\n",
       " *\n",
       " */\n",
       "\n",
       ":root {\n",
       "  --xr-font-color0: var(--jp-content-font-color0, rgba(0, 0, 0, 1));\n",
       "  --xr-font-color2: var(--jp-content-font-color2, rgba(0, 0, 0, 0.54));\n",
       "  --xr-font-color3: var(--jp-content-font-color3, rgba(0, 0, 0, 0.38));\n",
       "  --xr-border-color: var(--jp-border-color2, #e0e0e0);\n",
       "  --xr-disabled-color: var(--jp-layout-color3, #bdbdbd);\n",
       "  --xr-background-color: var(--jp-layout-color0, white);\n",
       "  --xr-background-color-row-even: var(--jp-layout-color1, white);\n",
       "  --xr-background-color-row-odd: var(--jp-layout-color2, #eeeeee);\n",
       "}\n",
       "\n",
       "html[theme=dark],\n",
       "body.vscode-dark {\n",
       "  --xr-font-color0: rgba(255, 255, 255, 1);\n",
       "  --xr-font-color2: rgba(255, 255, 255, 0.54);\n",
       "  --xr-font-color3: rgba(255, 255, 255, 0.38);\n",
       "  --xr-border-color: #1F1F1F;\n",
       "  --xr-disabled-color: #515151;\n",
       "  --xr-background-color: #111111;\n",
       "  --xr-background-color-row-even: #111111;\n",
       "  --xr-background-color-row-odd: #313131;\n",
       "}\n",
       "\n",
       ".xr-wrap {\n",
       "  display: block;\n",
       "  min-width: 300px;\n",
       "  max-width: 700px;\n",
       "}\n",
       "\n",
       ".xr-text-repr-fallback {\n",
       "  /* fallback to plain text repr when CSS is not injected (untrusted notebook) */\n",
       "  display: none;\n",
       "}\n",
       "\n",
       ".xr-header {\n",
       "  padding-top: 6px;\n",
       "  padding-bottom: 6px;\n",
       "  margin-bottom: 4px;\n",
       "  border-bottom: solid 1px var(--xr-border-color);\n",
       "}\n",
       "\n",
       ".xr-header > div,\n",
       ".xr-header > ul {\n",
       "  display: inline;\n",
       "  margin-top: 0;\n",
       "  margin-bottom: 0;\n",
       "}\n",
       "\n",
       ".xr-obj-type,\n",
       ".xr-array-name {\n",
       "  margin-left: 2px;\n",
       "  margin-right: 10px;\n",
       "}\n",
       "\n",
       ".xr-obj-type {\n",
       "  color: var(--xr-font-color2);\n",
       "}\n",
       "\n",
       ".xr-sections {\n",
       "  padding-left: 0 !important;\n",
       "  display: grid;\n",
       "  grid-template-columns: 150px auto auto 1fr 20px 20px;\n",
       "}\n",
       "\n",
       ".xr-section-item {\n",
       "  display: contents;\n",
       "}\n",
       "\n",
       ".xr-section-item input {\n",
       "  display: none;\n",
       "}\n",
       "\n",
       ".xr-section-item input + label {\n",
       "  color: var(--xr-disabled-color);\n",
       "}\n",
       "\n",
       ".xr-section-item input:enabled + label {\n",
       "  cursor: pointer;\n",
       "  color: var(--xr-font-color2);\n",
       "}\n",
       "\n",
       ".xr-section-item input:enabled + label:hover {\n",
       "  color: var(--xr-font-color0);\n",
       "}\n",
       "\n",
       ".xr-section-summary {\n",
       "  grid-column: 1;\n",
       "  color: var(--xr-font-color2);\n",
       "  font-weight: 500;\n",
       "}\n",
       "\n",
       ".xr-section-summary > span {\n",
       "  display: inline-block;\n",
       "  padding-left: 0.5em;\n",
       "}\n",
       "\n",
       ".xr-section-summary-in:disabled + label {\n",
       "  color: var(--xr-font-color2);\n",
       "}\n",
       "\n",
       ".xr-section-summary-in + label:before {\n",
       "  display: inline-block;\n",
       "  content: '►';\n",
       "  font-size: 11px;\n",
       "  width: 15px;\n",
       "  text-align: center;\n",
       "}\n",
       "\n",
       ".xr-section-summary-in:disabled + label:before {\n",
       "  color: var(--xr-disabled-color);\n",
       "}\n",
       "\n",
       ".xr-section-summary-in:checked + label:before {\n",
       "  content: '▼';\n",
       "}\n",
       "\n",
       ".xr-section-summary-in:checked + label > span {\n",
       "  display: none;\n",
       "}\n",
       "\n",
       ".xr-section-summary,\n",
       ".xr-section-inline-details {\n",
       "  padding-top: 4px;\n",
       "  padding-bottom: 4px;\n",
       "}\n",
       "\n",
       ".xr-section-inline-details {\n",
       "  grid-column: 2 / -1;\n",
       "}\n",
       "\n",
       ".xr-section-details {\n",
       "  display: none;\n",
       "  grid-column: 1 / -1;\n",
       "  margin-bottom: 5px;\n",
       "}\n",
       "\n",
       ".xr-section-summary-in:checked ~ .xr-section-details {\n",
       "  display: contents;\n",
       "}\n",
       "\n",
       ".xr-array-wrap {\n",
       "  grid-column: 1 / -1;\n",
       "  display: grid;\n",
       "  grid-template-columns: 20px auto;\n",
       "}\n",
       "\n",
       ".xr-array-wrap > label {\n",
       "  grid-column: 1;\n",
       "  vertical-align: top;\n",
       "}\n",
       "\n",
       ".xr-preview {\n",
       "  color: var(--xr-font-color3);\n",
       "}\n",
       "\n",
       ".xr-array-preview,\n",
       ".xr-array-data {\n",
       "  padding: 0 5px !important;\n",
       "  grid-column: 2;\n",
       "}\n",
       "\n",
       ".xr-array-data,\n",
       ".xr-array-in:checked ~ .xr-array-preview {\n",
       "  display: none;\n",
       "}\n",
       "\n",
       ".xr-array-in:checked ~ .xr-array-data,\n",
       ".xr-array-preview {\n",
       "  display: inline-block;\n",
       "}\n",
       "\n",
       ".xr-dim-list {\n",
       "  display: inline-block !important;\n",
       "  list-style: none;\n",
       "  padding: 0 !important;\n",
       "  margin: 0;\n",
       "}\n",
       "\n",
       ".xr-dim-list li {\n",
       "  display: inline-block;\n",
       "  padding: 0;\n",
       "  margin: 0;\n",
       "}\n",
       "\n",
       ".xr-dim-list:before {\n",
       "  content: '(';\n",
       "}\n",
       "\n",
       ".xr-dim-list:after {\n",
       "  content: ')';\n",
       "}\n",
       "\n",
       ".xr-dim-list li:not(:last-child):after {\n",
       "  content: ',';\n",
       "  padding-right: 5px;\n",
       "}\n",
       "\n",
       ".xr-has-index {\n",
       "  font-weight: bold;\n",
       "}\n",
       "\n",
       ".xr-var-list,\n",
       ".xr-var-item {\n",
       "  display: contents;\n",
       "}\n",
       "\n",
       ".xr-var-item > div,\n",
       ".xr-var-item label,\n",
       ".xr-var-item > .xr-var-name span {\n",
       "  background-color: var(--xr-background-color-row-even);\n",
       "  margin-bottom: 0;\n",
       "}\n",
       "\n",
       ".xr-var-item > .xr-var-name:hover span {\n",
       "  padding-right: 5px;\n",
       "}\n",
       "\n",
       ".xr-var-list > li:nth-child(odd) > div,\n",
       ".xr-var-list > li:nth-child(odd) > label,\n",
       ".xr-var-list > li:nth-child(odd) > .xr-var-name span {\n",
       "  background-color: var(--xr-background-color-row-odd);\n",
       "}\n",
       "\n",
       ".xr-var-name {\n",
       "  grid-column: 1;\n",
       "}\n",
       "\n",
       ".xr-var-dims {\n",
       "  grid-column: 2;\n",
       "}\n",
       "\n",
       ".xr-var-dtype {\n",
       "  grid-column: 3;\n",
       "  text-align: right;\n",
       "  color: var(--xr-font-color2);\n",
       "}\n",
       "\n",
       ".xr-var-preview {\n",
       "  grid-column: 4;\n",
       "}\n",
       "\n",
       ".xr-var-name,\n",
       ".xr-var-dims,\n",
       ".xr-var-dtype,\n",
       ".xr-preview,\n",
       ".xr-attrs dt {\n",
       "  white-space: nowrap;\n",
       "  overflow: hidden;\n",
       "  text-overflow: ellipsis;\n",
       "  padding-right: 10px;\n",
       "}\n",
       "\n",
       ".xr-var-name:hover,\n",
       ".xr-var-dims:hover,\n",
       ".xr-var-dtype:hover,\n",
       ".xr-attrs dt:hover {\n",
       "  overflow: visible;\n",
       "  width: auto;\n",
       "  z-index: 1;\n",
       "}\n",
       "\n",
       ".xr-var-attrs,\n",
       ".xr-var-data {\n",
       "  display: none;\n",
       "  background-color: var(--xr-background-color) !important;\n",
       "  padding-bottom: 5px !important;\n",
       "}\n",
       "\n",
       ".xr-var-attrs-in:checked ~ .xr-var-attrs,\n",
       ".xr-var-data-in:checked ~ .xr-var-data {\n",
       "  display: block;\n",
       "}\n",
       "\n",
       ".xr-var-data > table {\n",
       "  float: right;\n",
       "}\n",
       "\n",
       ".xr-var-name span,\n",
       ".xr-var-data,\n",
       ".xr-attrs {\n",
       "  padding-left: 25px !important;\n",
       "}\n",
       "\n",
       ".xr-attrs,\n",
       ".xr-var-attrs,\n",
       ".xr-var-data {\n",
       "  grid-column: 1 / -1;\n",
       "}\n",
       "\n",
       "dl.xr-attrs {\n",
       "  padding: 0;\n",
       "  margin: 0;\n",
       "  display: grid;\n",
       "  grid-template-columns: 125px auto;\n",
       "}\n",
       "\n",
       ".xr-attrs dt,\n",
       ".xr-attrs dd {\n",
       "  padding: 0;\n",
       "  margin: 0;\n",
       "  float: left;\n",
       "  padding-right: 10px;\n",
       "  width: auto;\n",
       "}\n",
       "\n",
       ".xr-attrs dt {\n",
       "  font-weight: normal;\n",
       "  grid-column: 1;\n",
       "}\n",
       "\n",
       ".xr-attrs dt:hover span {\n",
       "  display: inline-block;\n",
       "  background: var(--xr-background-color);\n",
       "  padding-right: 10px;\n",
       "}\n",
       "\n",
       ".xr-attrs dd {\n",
       "  grid-column: 2;\n",
       "  white-space: pre-wrap;\n",
       "  word-break: break-all;\n",
       "}\n",
       "\n",
       ".xr-icon-database,\n",
       ".xr-icon-file-text2 {\n",
       "  display: inline-block;\n",
       "  vertical-align: middle;\n",
       "  width: 1em;\n",
       "  height: 1.5em !important;\n",
       "  stroke-width: 0;\n",
       "  stroke: currentColor;\n",
       "  fill: currentColor;\n",
       "}\n",
       "</style><pre class='xr-text-repr-fallback'>&lt;xarray.Dataset&gt;\n",
       "Dimensions:      (time: 480, y: 165, x: 151)\n",
       "Coordinates:\n",
       "  * time         (time) datetime64[ns] 1981-01-16T11:59:59.500000 ... 2020-12...\n",
       "  * y            (y) float64 -1.968e+06 -1.972e+06 ... -2.782e+06 -2.788e+06\n",
       "  * x            (x) float64 2.438e+06 2.442e+06 ... 3.182e+06 3.188e+06\n",
       "    spatial_ref  int32 6933\n",
       "Data variables:\n",
       "    rainfall     (time, y, x) float32 231.3 230.4 230.4 ... 209.4 210.9 198.6\n",
       "Attributes:\n",
       "    crs:           epsg:6933\n",
       "    grid_mapping:  spatial_ref</pre><div class='xr-wrap' hidden><div class='xr-header'><div class='xr-obj-type'>xarray.Dataset</div></div><ul class='xr-sections'><li class='xr-section-item'><input id='section-86b6ee5c-44f9-4b5f-abf2-d61b441c1f60' class='xr-section-summary-in' type='checkbox' disabled ><label for='section-86b6ee5c-44f9-4b5f-abf2-d61b441c1f60' class='xr-section-summary'  title='Expand/collapse section'>Dimensions:</label><div class='xr-section-inline-details'><ul class='xr-dim-list'><li><span class='xr-has-index'>time</span>: 480</li><li><span class='xr-has-index'>y</span>: 165</li><li><span class='xr-has-index'>x</span>: 151</li></ul></div><div class='xr-section-details'></div></li><li class='xr-section-item'><input id='section-18f94552-36be-426c-b3d8-90681614c3ba' class='xr-section-summary-in' type='checkbox'  checked><label for='section-18f94552-36be-426c-b3d8-90681614c3ba' class='xr-section-summary' >Coordinates: <span>(4)</span></label><div class='xr-section-inline-details'></div><div class='xr-section-details'><ul class='xr-var-list'><li class='xr-var-item'><div class='xr-var-name'><span class='xr-has-index'>time</span></div><div class='xr-var-dims'>(time)</div><div class='xr-var-dtype'>datetime64[ns]</div><div class='xr-var-preview xr-preview'>1981-01-16T11:59:59.500000 ... 2...</div><input id='attrs-e188d561-d795-4b18-a614-946ae4e96372' class='xr-var-attrs-in' type='checkbox' ><label for='attrs-e188d561-d795-4b18-a614-946ae4e96372' title='Show/Hide attributes'><svg class='icon xr-icon-file-text2'><use xlink:href='#icon-file-text2'></use></svg></label><input id='data-79b2d043-f84e-42b0-8823-72ad47bf7acb' class='xr-var-data-in' type='checkbox'><label for='data-79b2d043-f84e-42b0-8823-72ad47bf7acb' title='Show/Hide data repr'><svg class='icon xr-icon-database'><use xlink:href='#icon-database'></use></svg></label><div class='xr-var-attrs'><dl class='xr-attrs'><dt><span>units :</span></dt><dd>seconds since 1970-01-01 00:00:00</dd></dl></div><div class='xr-var-data'><pre>array([&#x27;1981-01-16T11:59:59.500000000&#x27;, &#x27;1981-02-14T23:59:59.500000000&#x27;,\n",
       "       &#x27;1981-03-16T11:59:59.500000000&#x27;, ..., &#x27;2020-10-16T11:59:59.500000000&#x27;,\n",
       "       &#x27;2020-11-15T23:59:59.500000000&#x27;, &#x27;2020-12-16T11:59:59.500000000&#x27;],\n",
       "      dtype=&#x27;datetime64[ns]&#x27;)</pre></div></li><li class='xr-var-item'><div class='xr-var-name'><span class='xr-has-index'>y</span></div><div class='xr-var-dims'>(y)</div><div class='xr-var-dtype'>float64</div><div class='xr-var-preview xr-preview'>-1.968e+06 ... -2.788e+06</div><input id='attrs-84b22142-6042-4fbe-9246-657e124e43a7' class='xr-var-attrs-in' type='checkbox' ><label for='attrs-84b22142-6042-4fbe-9246-657e124e43a7' title='Show/Hide attributes'><svg class='icon xr-icon-file-text2'><use xlink:href='#icon-file-text2'></use></svg></label><input id='data-630a2011-6596-47a2-b0ed-78d17731434b' class='xr-var-data-in' type='checkbox'><label for='data-630a2011-6596-47a2-b0ed-78d17731434b' title='Show/Hide data repr'><svg class='icon xr-icon-database'><use xlink:href='#icon-database'></use></svg></label><div class='xr-var-attrs'><dl class='xr-attrs'><dt><span>units :</span></dt><dd>metre</dd><dt><span>resolution :</span></dt><dd>-5000.0</dd><dt><span>crs :</span></dt><dd>epsg:6933</dd></dl></div><div class='xr-var-data'><pre>array([-1967500., -1972500., -1977500., -1982500., -1987500., -1992500.,\n",
       "       -1997500., -2002500., -2007500., -2012500., -2017500., -2022500.,\n",
       "       -2027500., -2032500., -2037500., -2042500., -2047500., -2052500.,\n",
       "       -2057500., -2062500., -2067500., -2072500., -2077500., -2082500.,\n",
       "       -2087500., -2092500., -2097500., -2102500., -2107500., -2112500.,\n",
       "       -2117500., -2122500., -2127500., -2132500., -2137500., -2142500.,\n",
       "       -2147500., -2152500., -2157500., -2162500., -2167500., -2172500.,\n",
       "       -2177500., -2182500., -2187500., -2192500., -2197500., -2202500.,\n",
       "       -2207500., -2212500., -2217500., -2222500., -2227500., -2232500.,\n",
       "       -2237500., -2242500., -2247500., -2252500., -2257500., -2262500.,\n",
       "       -2267500., -2272500., -2277500., -2282500., -2287500., -2292500.,\n",
       "       -2297500., -2302500., -2307500., -2312500., -2317500., -2322500.,\n",
       "       -2327500., -2332500., -2337500., -2342500., -2347500., -2352500.,\n",
       "       -2357500., -2362500., -2367500., -2372500., -2377500., -2382500.,\n",
       "       -2387500., -2392500., -2397500., -2402500., -2407500., -2412500.,\n",
       "       -2417500., -2422500., -2427500., -2432500., -2437500., -2442500.,\n",
       "       -2447500., -2452500., -2457500., -2462500., -2467500., -2472500.,\n",
       "       -2477500., -2482500., -2487500., -2492500., -2497500., -2502500.,\n",
       "       -2507500., -2512500., -2517500., -2522500., -2527500., -2532500.,\n",
       "       -2537500., -2542500., -2547500., -2552500., -2557500., -2562500.,\n",
       "       -2567500., -2572500., -2577500., -2582500., -2587500., -2592500.,\n",
       "       -2597500., -2602500., -2607500., -2612500., -2617500., -2622500.,\n",
       "       -2627500., -2632500., -2637500., -2642500., -2647500., -2652500.,\n",
       "       -2657500., -2662500., -2667500., -2672500., -2677500., -2682500.,\n",
       "       -2687500., -2692500., -2697500., -2702500., -2707500., -2712500.,\n",
       "       -2717500., -2722500., -2727500., -2732500., -2737500., -2742500.,\n",
       "       -2747500., -2752500., -2757500., -2762500., -2767500., -2772500.,\n",
       "       -2777500., -2782500., -2787500.])</pre></div></li><li class='xr-var-item'><div class='xr-var-name'><span class='xr-has-index'>x</span></div><div class='xr-var-dims'>(x)</div><div class='xr-var-dtype'>float64</div><div class='xr-var-preview xr-preview'>2.438e+06 2.442e+06 ... 3.188e+06</div><input id='attrs-37d45989-43e4-45c6-b719-e1f0e00ff296' class='xr-var-attrs-in' type='checkbox' ><label for='attrs-37d45989-43e4-45c6-b719-e1f0e00ff296' title='Show/Hide attributes'><svg class='icon xr-icon-file-text2'><use xlink:href='#icon-file-text2'></use></svg></label><input id='data-d90b8c60-ea53-4c5e-924c-faf829387c78' class='xr-var-data-in' type='checkbox'><label for='data-d90b8c60-ea53-4c5e-924c-faf829387c78' title='Show/Hide data repr'><svg class='icon xr-icon-database'><use xlink:href='#icon-database'></use></svg></label><div class='xr-var-attrs'><dl class='xr-attrs'><dt><span>units :</span></dt><dd>metre</dd><dt><span>resolution :</span></dt><dd>5000.0</dd><dt><span>crs :</span></dt><dd>epsg:6933</dd></dl></div><div class='xr-var-data'><pre>array([2437500., 2442500., 2447500., 2452500., 2457500., 2462500., 2467500.,\n",
       "       2472500., 2477500., 2482500., 2487500., 2492500., 2497500., 2502500.,\n",
       "       2507500., 2512500., 2517500., 2522500., 2527500., 2532500., 2537500.,\n",
       "       2542500., 2547500., 2552500., 2557500., 2562500., 2567500., 2572500.,\n",
       "       2577500., 2582500., 2587500., 2592500., 2597500., 2602500., 2607500.,\n",
       "       2612500., 2617500., 2622500., 2627500., 2632500., 2637500., 2642500.,\n",
       "       2647500., 2652500., 2657500., 2662500., 2667500., 2672500., 2677500.,\n",
       "       2682500., 2687500., 2692500., 2697500., 2702500., 2707500., 2712500.,\n",
       "       2717500., 2722500., 2727500., 2732500., 2737500., 2742500., 2747500.,\n",
       "       2752500., 2757500., 2762500., 2767500., 2772500., 2777500., 2782500.,\n",
       "       2787500., 2792500., 2797500., 2802500., 2807500., 2812500., 2817500.,\n",
       "       2822500., 2827500., 2832500., 2837500., 2842500., 2847500., 2852500.,\n",
       "       2857500., 2862500., 2867500., 2872500., 2877500., 2882500., 2887500.,\n",
       "       2892500., 2897500., 2902500., 2907500., 2912500., 2917500., 2922500.,\n",
       "       2927500., 2932500., 2937500., 2942500., 2947500., 2952500., 2957500.,\n",
       "       2962500., 2967500., 2972500., 2977500., 2982500., 2987500., 2992500.,\n",
       "       2997500., 3002500., 3007500., 3012500., 3017500., 3022500., 3027500.,\n",
       "       3032500., 3037500., 3042500., 3047500., 3052500., 3057500., 3062500.,\n",
       "       3067500., 3072500., 3077500., 3082500., 3087500., 3092500., 3097500.,\n",
       "       3102500., 3107500., 3112500., 3117500., 3122500., 3127500., 3132500.,\n",
       "       3137500., 3142500., 3147500., 3152500., 3157500., 3162500., 3167500.,\n",
       "       3172500., 3177500., 3182500., 3187500.])</pre></div></li><li class='xr-var-item'><div class='xr-var-name'><span>spatial_ref</span></div><div class='xr-var-dims'>()</div><div class='xr-var-dtype'>int32</div><div class='xr-var-preview xr-preview'>6933</div><input id='attrs-89621c3c-8804-4c7f-a089-620eded27e37' class='xr-var-attrs-in' type='checkbox' ><label for='attrs-89621c3c-8804-4c7f-a089-620eded27e37' title='Show/Hide attributes'><svg class='icon xr-icon-file-text2'><use xlink:href='#icon-file-text2'></use></svg></label><input id='data-c7ef3cb1-2eae-4fed-8616-7774e5a66944' class='xr-var-data-in' type='checkbox'><label for='data-c7ef3cb1-2eae-4fed-8616-7774e5a66944' title='Show/Hide data repr'><svg class='icon xr-icon-database'><use xlink:href='#icon-database'></use></svg></label><div class='xr-var-attrs'><dl class='xr-attrs'><dt><span>spatial_ref :</span></dt><dd>PROJCS[&quot;WGS 84 / NSIDC EASE-Grid 2.0 Global&quot;,GEOGCS[&quot;WGS 84&quot;,DATUM[&quot;WGS_1984&quot;,SPHEROID[&quot;WGS 84&quot;,6378137,298.257223563,AUTHORITY[&quot;EPSG&quot;,&quot;7030&quot;]],AUTHORITY[&quot;EPSG&quot;,&quot;6326&quot;]],PRIMEM[&quot;Greenwich&quot;,0,AUTHORITY[&quot;EPSG&quot;,&quot;8901&quot;]],UNIT[&quot;degree&quot;,0.0174532925199433,AUTHORITY[&quot;EPSG&quot;,&quot;9122&quot;]],AUTHORITY[&quot;EPSG&quot;,&quot;4326&quot;]],PROJECTION[&quot;Cylindrical_Equal_Area&quot;],PARAMETER[&quot;standard_parallel_1&quot;,30],PARAMETER[&quot;central_meridian&quot;,0],PARAMETER[&quot;false_easting&quot;,0],PARAMETER[&quot;false_northing&quot;,0],UNIT[&quot;metre&quot;,1,AUTHORITY[&quot;EPSG&quot;,&quot;9001&quot;]],AXIS[&quot;Easting&quot;,EAST],AXIS[&quot;Northing&quot;,NORTH],AUTHORITY[&quot;EPSG&quot;,&quot;6933&quot;]]</dd><dt><span>grid_mapping_name :</span></dt><dd>lambert_cylindrical_equal_area</dd></dl></div><div class='xr-var-data'><pre>array(6933, dtype=int32)</pre></div></li></ul></div></li><li class='xr-section-item'><input id='section-1ab71c24-388e-40de-a23f-0c767fe6bcae' class='xr-section-summary-in' type='checkbox'  checked><label for='section-1ab71c24-388e-40de-a23f-0c767fe6bcae' class='xr-section-summary' >Data variables: <span>(1)</span></label><div class='xr-section-inline-details'></div><div class='xr-section-details'><ul class='xr-var-list'><li class='xr-var-item'><div class='xr-var-name'><span>rainfall</span></div><div class='xr-var-dims'>(time, y, x)</div><div class='xr-var-dtype'>float32</div><div class='xr-var-preview xr-preview'>231.3 230.4 230.4 ... 210.9 198.6</div><input id='attrs-34ba42f5-d907-4b60-9986-7e42b46956d8' class='xr-var-attrs-in' type='checkbox' ><label for='attrs-34ba42f5-d907-4b60-9986-7e42b46956d8' title='Show/Hide attributes'><svg class='icon xr-icon-file-text2'><use xlink:href='#icon-file-text2'></use></svg></label><input id='data-943c5e08-16ff-4b17-99ab-486179d49fe7' class='xr-var-data-in' type='checkbox'><label for='data-943c5e08-16ff-4b17-99ab-486179d49fe7' title='Show/Hide data repr'><svg class='icon xr-icon-database'><use xlink:href='#icon-database'></use></svg></label><div class='xr-var-attrs'><dl class='xr-attrs'><dt><span>units :</span></dt><dd>mm</dd><dt><span>nodata :</span></dt><dd>-9999</dd><dt><span>crs :</span></dt><dd>epsg:6933</dd><dt><span>grid_mapping :</span></dt><dd>spatial_ref</dd></dl></div><div class='xr-var-data'><pre>array([[[231.32684  , 230.41972  , 230.398    , ..., 124.54612  ,\n",
       "         124.41528  , 106.21184  ],\n",
       "        [228.82149  , 226.47958  , 226.11246  , ..., 129.10954  ,\n",
       "         127.494415 , 105.82529  ],\n",
       "        [228.82149  , 226.47958  , 226.11246  , ..., 129.10954  ,\n",
       "         127.494415 , 105.82529  ],\n",
       "        ...,\n",
       "        [ 39.205124 ,  37.475468 ,  38.165092 , ..., 158.4755   ,\n",
       "         155.22328  , 168.3103   ],\n",
       "        [ 38.8853   ,  40.2126   ,  40.92262  , ..., 162.03954  ,\n",
       "         160.94992  , 167.5382   ],\n",
       "        [ 38.933968 ,  39.594402 ,  40.046703 , ..., 155.96484  ,\n",
       "         154.923    , 161.45511  ]],\n",
       "\n",
       "       [[209.92668  , 200.47333  , 198.62788  , ..., 255.79758  ,\n",
       "         253.85152  , 253.37419  ],\n",
       "        [206.97668  , 203.26085  , 200.37387  , ..., 263.79846  ,\n",
       "         254.6335   , 251.43399  ],\n",
       "        [206.97668  , 203.26085  , 200.37387  , ..., 263.79846  ,\n",
       "         254.6335   , 251.43399  ],\n",
       "...\n",
       "        [102.74219  , 107.03784  , 101.555084 , ...,  50.82797  ,\n",
       "          50.205723 ,  50.5783   ],\n",
       "        [103.285355 , 104.56237  , 105.58798  , ...,  53.599308 ,\n",
       "          51.936203 ,  50.67559  ],\n",
       "        [110.64354  , 109.571655 , 113.31431  , ...,  55.388573 ,\n",
       "          54.479237 ,  50.62217  ]],\n",
       "\n",
       "       [[220.5871   , 221.06439  , 238.95508  , ..., 269.6535   ,\n",
       "         275.23053  , 260.07355  ],\n",
       "        [217.85913  , 223.14821  , 236.45912  , ..., 260.86758  ,\n",
       "         263.71008  , 254.0766   ],\n",
       "        [217.85913  , 223.14821  , 236.45912  , ..., 260.86758  ,\n",
       "         263.71008  , 254.0766   ],\n",
       "        ...,\n",
       "        [119.16158  , 127.39647  , 139.95177  , ..., 219.49255  ,\n",
       "         232.73653  , 235.12735  ],\n",
       "        [119.638626 , 128.61867  , 136.8287   , ..., 213.5116   ,\n",
       "         225.5511   , 223.77255  ],\n",
       "        [133.505    , 132.54027  , 133.20319  , ..., 209.38422  ,\n",
       "         210.89915  , 198.59315  ]]], dtype=float32)</pre></div></li></ul></div></li><li class='xr-section-item'><input id='section-32410b9b-7d10-4012-ae7a-6ca4e25456e3' class='xr-section-summary-in' type='checkbox'  checked><label for='section-32410b9b-7d10-4012-ae7a-6ca4e25456e3' class='xr-section-summary' >Attributes: <span>(2)</span></label><div class='xr-section-inline-details'></div><div class='xr-section-details'><dl class='xr-attrs'><dt><span>crs :</span></dt><dd>epsg:6933</dd><dt><span>grid_mapping :</span></dt><dd>spatial_ref</dd></dl></div></li></ul></div></div>"
      ],
      "text/plain": [
       "<xarray.Dataset>\n",
       "Dimensions:      (time: 480, y: 165, x: 151)\n",
       "Coordinates:\n",
       "  * time         (time) datetime64[ns] 1981-01-16T11:59:59.500000 ... 2020-12...\n",
       "  * y            (y) float64 -1.968e+06 -1.972e+06 ... -2.782e+06 -2.788e+06\n",
       "  * x            (x) float64 2.438e+06 2.442e+06 ... 3.182e+06 3.188e+06\n",
       "    spatial_ref  int32 6933\n",
       "Data variables:\n",
       "    rainfall     (time, y, x) float32 231.3 230.4 230.4 ... 209.4 210.9 198.6\n",
       "Attributes:\n",
       "    crs:           epsg:6933\n",
       "    grid_mapping:  spatial_ref"
      ]
     },
     "execution_count": 8,
     "metadata": {},
     "output_type": "execute_result"
    }
   ],
   "source": [
    "query = {'geopolygon': geom,\n",
    "         'time': time_range,\n",
    "         'output_crs': 'epsg:6933',\n",
    "         'resolution': resolution,\n",
    "         'measurements': measurements,\n",
    "         'dask_chunks':dask_chunks\n",
    "        }\n",
    "\n",
    "ds_rf = dc.load(product='rainfall_chirps_monthly', **query)\n",
    "ds_rf"
   ]
  },
  {
   "cell_type": "markdown",
   "metadata": {},
   "source": [
    "## Make a mask for country boundary\n",
    "\n",
    "Below, the country polygon is rasterized so the rainfall dataset is masked within that raster."
   ]
  },
  {
   "cell_type": "code",
   "execution_count": 10,
   "metadata": {},
   "outputs": [
    {
     "data": {
      "text/plain": [
       "<matplotlib.collections.QuadMesh at 0x7f6fedf206a0>"
      ]
     },
     "execution_count": 10,
     "metadata": {},
     "output_type": "execute_result"
    },
    {
     "data": {
      "image/png": "[encoded data removed]",
      "text/plain": [
       "<Figure size 432x288 with 2 Axes>"
      ]
     },
     "metadata": {
      "needs_background": "light"
     },
     "output_type": "display_data"
    }
   ],
   "source": [
    "african_countries = african_countries.to_crs('epsg:6933')\n",
    "\n",
    "mask = xr_rasterize(african_countries[african_countries['COUNTRY'] == country], ds_rf)\n",
    "\n",
    "# Plot the mask\n",
    "mask.plot()"
   ]
  },
  {
   "cell_type": "markdown",
   "metadata": {},
   "source": [
    "## Total annual rainfall averaged across a country\n",
    "\n",
    "We want to capture the annual total (sum of months) and spatial mean of rainfall within the country polygon for each year from 1981 to 2020. Firstly, rainfall is summed to an annual total and the result for 1981 is plotted. \n",
    "\n",
    "In the subsequent cell, a spatial mean is calculated."
   ]
  },
  {
   "cell_type": "code",
   "execution_count": 11,
   "metadata": {},
   "outputs": [
    {
     "data": {
      "image/png": "[encoded data removed]",
      "text/plain": [
       "<Figure size 432x288 with 2 Axes>"
      ]
     },
     "metadata": {
      "needs_background": "light"
     },
     "output_type": "display_data"
    }
   ],
   "source": [
    "ds_rf = ds_rf.where(ds_rf !=-9999.) #convert missing values to NaN\n",
    "\n",
    "ds_rf_annual = ds_rf.groupby('time.year').sum('time').where(mask) # group by year and mask to country\n",
    "\n",
    "# Look at rainfall in the first year, 1981\n",
    "ds_rf_annual['rainfall'].sel(year=1981).plot(cmap='YlGnBu', label=False);"
   ]
  },
  {
   "cell_type": "code",
   "execution_count": 12,
   "metadata": {},
   "outputs": [
    {
     "data": {
      "text/html": [
       "<div>\n",
       "<style scoped>\n",
       "    .dataframe tbody tr th:only-of-type {\n",
       "        vertical-align: middle;\n",
       "    }\n",
       "\n",
       "    .dataframe tbody tr th {\n",
       "        vertical-align: top;\n",
       "    }\n",
       "\n",
       "    .dataframe thead th {\n",
       "        text-align: right;\n",
       "    }\n",
       "</style>\n",
       "<table border=\"1\" class=\"dataframe\">\n",
       "  <thead>\n",
       "    <tr style=\"text-align: right;\">\n",
       "      <th></th>\n",
       "      <th>rainfall</th>\n",
       "    </tr>\n",
       "    <tr>\n",
       "      <th>year</th>\n",
       "      <th></th>\n",
       "    </tr>\n",
       "  </thead>\n",
       "  <tbody>\n",
       "    <tr>\n",
       "      <th>1981</th>\n",
       "      <td>706.703796</td>\n",
       "    </tr>\n",
       "    <tr>\n",
       "      <th>1982</th>\n",
       "      <td>466.900269</td>\n",
       "    </tr>\n",
       "    <tr>\n",
       "      <th>1983</th>\n",
       "      <td>471.532043</td>\n",
       "    </tr>\n",
       "    <tr>\n",
       "      <th>1984</th>\n",
       "      <td>556.608459</td>\n",
       "    </tr>\n",
       "    <tr>\n",
       "      <th>1985</th>\n",
       "      <td>753.728760</td>\n",
       "    </tr>\n",
       "  </tbody>\n",
       "</table>\n",
       "</div>"
      ],
      "text/plain": [
       "        rainfall\n",
       "year            \n",
       "1981  706.703796\n",
       "1982  466.900269\n",
       "1983  471.532043\n",
       "1984  556.608459\n",
       "1985  753.728760"
      ]
     },
     "execution_count": 12,
     "metadata": {},
     "output_type": "execute_result"
    }
   ],
   "source": [
    "#find the spatial mean\n",
    "ds_rf_annual_mean = ds_rf_annual.mean(['x', 'y']).drop('spatial_ref').to_dataframe()\n",
    "ds_rf_annual_mean.head()"
   ]
  },
  {
   "cell_type": "markdown",
   "metadata": {},
   "source": [
    "## Calculate standardised rainfall anomaly for each year\n",
    "\n",
    "Here, we calculate the standardised rainfall anomaly for each year in the dataset. This is the anomaly (rainfall in a given year relative to mean rainfall over the epoch), standardised relatived to the standard deviation calculated across the epoch."
   ]
  },
  {
   "cell_type": "code",
   "execution_count": 13,
   "metadata": {},
   "outputs": [
    {
     "data": {
      "text/html": [
       "<div>\n",
       "<style scoped>\n",
       "    .dataframe tbody tr th:only-of-type {\n",
       "        vertical-align: middle;\n",
       "    }\n",
       "\n",
       "    .dataframe tbody tr th {\n",
       "        vertical-align: top;\n",
       "    }\n",
       "\n",
       "    .dataframe thead th {\n",
       "        text-align: right;\n",
       "    }\n",
       "</style>\n",
       "<table border=\"1\" class=\"dataframe\">\n",
       "  <thead>\n",
       "    <tr style=\"text-align: right;\">\n",
       "      <th></th>\n",
       "      <th>rainfall</th>\n",
       "      <th>anomaly</th>\n",
       "    </tr>\n",
       "    <tr>\n",
       "      <th>year</th>\n",
       "      <th></th>\n",
       "      <th></th>\n",
       "    </tr>\n",
       "  </thead>\n",
       "  <tbody>\n",
       "    <tr>\n",
       "      <th>1981</th>\n",
       "      <td>706.703796</td>\n",
       "      <td>0.583454</td>\n",
       "    </tr>\n",
       "    <tr>\n",
       "      <th>1982</th>\n",
       "      <td>466.900269</td>\n",
       "      <td>-1.344823</td>\n",
       "    </tr>\n",
       "    <tr>\n",
       "      <th>1983</th>\n",
       "      <td>471.532043</td>\n",
       "      <td>-1.307578</td>\n",
       "    </tr>\n",
       "    <tr>\n",
       "      <th>1984</th>\n",
       "      <td>556.608459</td>\n",
       "      <td>-0.623473</td>\n",
       "    </tr>\n",
       "    <tr>\n",
       "      <th>1985</th>\n",
       "      <td>753.728760</td>\n",
       "      <td>0.961585</td>\n",
       "    </tr>\n",
       "  </tbody>\n",
       "</table>\n",
       "</div>"
      ],
      "text/plain": [
       "        rainfall   anomaly\n",
       "year                      \n",
       "1981  706.703796  0.583454\n",
       "1982  466.900269 -1.344823\n",
       "1983  471.532043 -1.307578\n",
       "1984  556.608459 -0.623473\n",
       "1985  753.728760  0.961585"
      ]
     },
     "execution_count": 13,
     "metadata": {},
     "output_type": "execute_result"
    }
   ],
   "source": [
    "ds_rf_annual_mean[\"anomaly\"] = (ds_rf_annual_mean.rainfall - ds_rf_annual_mean.rainfall.mean())/ds_rf_annual_mean.rainfall.std()\n",
    "ds_rf_annual_mean.head()"
   ]
  },
  {
   "cell_type": "markdown",
   "metadata": {},
   "source": [
    "### Plot the result"
   ]
  },
  {
   "cell_type": "code",
   "execution_count": 14,
   "metadata": {},
   "outputs": [
    {
     "data": {
      "image/png": "[encoded data removed]",
      "text/plain": [
       "<Figure size 1224x360 with 1 Axes>"
      ]
     },
     "metadata": {
      "needs_background": "light"
     },
     "output_type": "display_data"
    }
   ],
   "source": [
    "ds_rf_annual_mean.anomaly.plot.bar(figsize=(17,5))\n",
    "plt.title('Standardised rainfall anomaly 1981-2020')\n",
    "plt.ylabel('Standardised rainfall anomaly');"
   ]
  },
  {
   "cell_type": "markdown",
   "metadata": {},
   "source": [
    "***\n",
    "\n",
    "## Additional information\n",
    "\n",
    "**License:** The code in this notebook is licensed under the [Apache License, Version 2.0](https://www.apache.org/licenses/LICENSE-2.0). \n",
    "Digital Earth Africa data is licensed under the [Creative Commons by Attribution 4.0](https://creativecommons.org/licenses/by/4.0/) license.\n",
    "\n",
    "**Contact:** If you need assistance, please post a question on the [Open Data Cube Slack channel](http://slack.opendatacube.org/) or on the [GIS Stack Exchange](https://gis.stackexchange.com/questions/ask?tags=open-data-cube) using the `open-data-cube` tag (you can view previously asked questions [here](https://gis.stackexchange.com/questions/tagged/open-data-cube)).\n",
    "If you would like to report an issue with this notebook, you can file one on [Github](https://github.com/digitalearthafrica/deafrica-sandbox-notebooks).\n",
    "\n",
    "**Compatible datacube version:** "
   ]
  },
  {
   "cell_type": "code",
   "execution_count": null,
   "metadata": {},
   "outputs": [],
   "source": [
    "print(datacube.__version__)"
   ]
  },
  {
   "cell_type": "markdown",
   "metadata": {},
   "source": [
    "**Last Tested:**"
   ]
  },
  {
   "cell_type": "code",
   "execution_count": null,
   "metadata": {},
   "outputs": [],
   "source": [
    "from datetime import datetime\n",
    "datetime.today().strftime('%Y-%m-%d')"
   ]
  }
 ],
 "metadata": {
  "kernelspec": {
   "display_name": "Python 3 (ipykernel)",
   "language": "python",
   "name": "python3"
  },
  "language_info": {
   "codemirror_mode": {
    "name": "ipython",
    "version": 3
   },
   "file_extension": ".py",
   "mimetype": "text/x-python",
   "name": "python",
   "nbconvert_exporter": "python",
   "pygments_lexer": "ipython3",
   "version": "3.8.10"
  },
  "widgets": {
   "application/vnd.jupyter.widget-state+json": {
    "state": {},
    "version_major": 2,
    "version_minor": 0
   }
  }
 },
 "nbformat": 4,
 "nbformat_minor": 4
}
