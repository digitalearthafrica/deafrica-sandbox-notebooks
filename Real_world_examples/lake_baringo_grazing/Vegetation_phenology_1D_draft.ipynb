{
 "cells": [
  {
   "cell_type": "markdown",
   "metadata": {},
   "source": [
    "# Vegetation Phenology <img align=\"right\" src=\"../Supplementary_data/DE_Africa_Logo_Stacked_RGB_small.jpg\">\n",
    "\n",
    "* **Products used:** \n",
    "[s2_l2a](https://explorer.digitalearth.africa/s2_l2a)\n"
   ]
  },
  {
   "cell_type": "markdown",
   "metadata": {},
   "source": [
    "## Background\n",
    "Phenology is the study of plant and animal life cycles in the context of the seasons.\n",
    "It can be useful in understanding the life cycle trends of crops and how the growing seasons are affected by changes in climate.\n",
    "For more information, see the [USGS page on deriving phenology from NDVI time-series](https://www.usgs.gov/land-resources/eros/phenology/science/deriving-phenological-metrics-ndvi?qt-science_center_objects=0#qt-science_center_objects)"
   ]
  },
  {
   "cell_type": "markdown",
   "metadata": {},
   "source": [
    "## Description\n",
    "\n",
    "This notebook demonstrates how to calculate vegetation phenology statistics using the DE Africa function [xr_phenology](../Scripts/deafrica_temporal_statistics.py).  To detect changes in plant life for Sentinel-2, the script uses either the **Normalized Difference Vegetation Index (NDVI)** or the **Enhanced Vegetation Index (EVI)**, which are common proxies for vegetation growth and health.\n",
    "\n",
    "The outputs of this notebook can be used to assess spatio-temporal differences in the growing seasons of agriculture fields or native vegetation.\n",
    "\n",
    "This notebook demonstrates the following steps:\n",
    "\n",
    "1. Load cloud-masked Sentinel 2 data for an area of interest.\n",
    "2. Calculate a vegetation proxy index (NDVI or EVI).\n",
    "3. Generate a zonal time series of vegetation health\n",
    "4. Complete and smooth the vegetation timeseries to remove gaps and noise.\n",
    "5. Calculate phenology statistics on a simple 1D vegetation time series\n",
    "6. Calculate per-pixel phenology statistics\n",
    "7. Optional: Calculating generic temporal statistics usng the hdstats library\n",
    "\n",
    "***"
   ]
  },
  {
   "cell_type": "markdown",
   "metadata": {},
   "source": [
    "## Getting started\n",
    "\n",
    "To run this analysis, run all the cells in the notebook, starting with the \"Load packages\" cell. "
   ]
  },
  {
   "cell_type": "markdown",
   "metadata": {},
   "source": [
    "### Load packages\n",
    "Load key Python packages and supporting functions for the analysis."
   ]
  },
  {
   "cell_type": "code",
   "execution_count": 119,
   "metadata": {},
   "outputs": [
    {
     "name": "stderr",
     "output_type": "stream",
     "text": [
      "/env/lib/python3.6/site-packages/datacube/storage/masking.py:8: DeprecationWarning: datacube.storage.masking has moved to datacube.utils.masking\n",
      "  category=DeprecationWarning)\n"
     ]
    }
   ],
   "source": [
    "%matplotlib inline\n",
    "\n",
    "import datacube\n",
    "import matplotlib.pyplot as plt\n",
    "from datacube.utils import geometry\n",
    "import numpy as np\n",
    "import pandas as pd\n",
    "import geopandas as gpd\n",
    "import sys\n",
    "import xarray as xr\n",
    "import datetime as dt\n",
    "import os\n",
    "\n",
    "sys.path.append('../../Scripts')\n",
    "from deafrica_datahandling import load_ard\n",
    "from deafrica_bandindices import calculate_indices\n",
    "from deafrica_plotting import map_shapefile, rgb\n",
    "import deafrica_temporal_statistics as ts\n",
    "from deafrica_dask import create_local_dask_cluster\n",
    "from deafrica_spatialtools import xr_rasterize\n",
    "from deafrica_classificationtools import HiddenPrints\n",
    "\n",
    "from datacube.utils.aws import configure_s3_access\n",
    "configure_s3_access(aws_unsigned=True, cloud_defaults=True)\n"
   ]
  },
  {
   "cell_type": "markdown",
   "metadata": {},
   "source": [
    "## Set up a Dask cluster\n",
    "\n",
    "Dask can be used to better manage memory use down and conduct the analysis in parallel. For an introduction to using Dask with Digital Earth Africa, see the Dask notebook."
   ]
  },
  {
   "cell_type": "code",
   "execution_count": 2,
   "metadata": {},
   "outputs": [
    {
     "data": {
      "text/html": [
       "<table style=\"border: 2px solid white;\">\n",
       "<tr>\n",
       "<td style=\"vertical-align: top; border: 0px solid white\">\n",
       "<h3 style=\"text-align: left;\">Client</h3>\n",
       "<ul style=\"text-align: left; list-style: none; margin: 0; padding: 0;\">\n",
       "  <li><b>Scheduler: </b>tcp://127.0.0.1:38399</li>\n",
       "  <li><b>Dashboard: </b><a href='/user/chad/proxy/8787/status' target='_blank'>/user/chad/proxy/8787/status</a></li>\n",
       "</ul>\n",
       "</td>\n",
       "<td style=\"vertical-align: top; border: 0px solid white\">\n",
       "<h3 style=\"text-align: left;\">Cluster</h3>\n",
       "<ul style=\"text-align: left; list-style:none; margin: 0; padding: 0;\">\n",
       "  <li><b>Workers: </b>1</li>\n",
       "  <li><b>Cores: </b>2</li>\n",
       "  <li><b>Memory: </b>15.11 GB</li>\n",
       "</ul>\n",
       "</td>\n",
       "</tr>\n",
       "</table>"
      ],
      "text/plain": [
       "<Client: 'tcp://127.0.0.1:38399' processes=1 threads=2, memory=15.11 GB>"
      ]
     },
     "metadata": {},
     "output_type": "display_data"
    }
   ],
   "source": [
    "create_local_dask_cluster(spare_mem='1Gb')"
   ]
  },
  {
   "cell_type": "markdown",
   "metadata": {},
   "source": [
    "### Analysis parameters\n",
    "\n",
    "The following cell sets important parameters for the analysis:\n",
    "\n",
    "* `veg_proxy`: Band index to use as a proxy for vegetation health e.g. `'NDVI'` or `'EVI'`\n",
    "* `lat`: The central latitude to analyse (e.g. `-10.6996`).\n",
    "* `lon`: The central longitude to analyse (e.g. `35.2708`).\n",
    "* `buffer`: The number of square degrees to load around the central latitude and longitude.\n",
    "For reasonable loading times, set this as `0.1` or lower.\n",
    "* `time_range`: The year range to analyse (e.g. `('2019-01', '2019-06')`).\n",
    "\n"
   ]
  },
  {
   "cell_type": "code",
   "execution_count": 3,
   "metadata": {},
   "outputs": [],
   "source": [
    "# Set the vegetation proxy to use\n",
    "veg_proxy = 'EVI'\n",
    "\n",
    "product = 's2_l2a'\n",
    "\n",
    "shapefile='data/Ruko_conservancy.geojson'\n",
    "\n",
    "# Set the range of dates for the analysis\n",
    "time_range = ('2017-01', '2020-12-30')\n",
    "\n",
    "min_gooddata = 0.15\n",
    "\n",
    "resolution = (-20,20)\n",
    "\n",
    "dask_chunks = {'x':750, 'y':750}\n"
   ]
  },
  {
   "cell_type": "markdown",
   "metadata": {},
   "source": [
    "### Connect to the datacube\n",
    "\n",
    "Connect to the datacube so we can access DE Africa data.\n",
    "The `app` parameter is a unique name for the analysis which is based on the notebook file name."
   ]
  },
  {
   "cell_type": "code",
   "execution_count": 4,
   "metadata": {},
   "outputs": [],
   "source": [
    "dc = datacube.Datacube(app='Vegetation_phenology')"
   ]
  },
  {
   "cell_type": "markdown",
   "metadata": {},
   "source": [
    "## View the region of interest\n",
    "The next cell will display the selected area on an web map."
   ]
  },
  {
   "cell_type": "code",
   "execution_count": 5,
   "metadata": {},
   "outputs": [],
   "source": [
    "#First open the shapefile using geopandas\n",
    "gdf = gpd.read_file(shapefile)"
   ]
  },
  {
   "cell_type": "code",
   "execution_count": 6,
   "metadata": {},
   "outputs": [
    {
     "data": {
      "application/vnd.jupyter.widget-view+json": {
       "model_id": "ccf01a7c38bd43778a36d99d2a5392da",
       "version_major": 2,
       "version_minor": 0
      },
      "text/plain": [
       "Label(value='')"
      ]
     },
     "metadata": {},
     "output_type": "display_data"
    },
    {
     "data": {
      "application/vnd.jupyter.widget-view+json": {
       "model_id": "b4e6503feb9e4e96acfb9d24648802fa",
       "version_major": 2,
       "version_minor": 0
      },
      "text/plain": [
       "Map(center=[0.648084104061088, 36.12258148195494], controls=(ZoomControl(options=['position', 'zoom_in_text', …"
      ]
     },
     "metadata": {},
     "output_type": "display_data"
    }
   ],
   "source": [
    "map_shapefile(gdf, attribute='ConsrvName')"
   ]
  },
  {
   "cell_type": "markdown",
   "metadata": {},
   "source": [
    "## Load cloud-masked Sentinel-2 data"
   ]
  },
  {
   "cell_type": "markdown",
   "metadata": {},
   "source": [
    "The first step is to load Sentinel-2 data for the specified area of interest and time range. \n",
    "The `load_ard` function is used here to load data that has been masked for cloud, shadow and quality filters, making it ready for analysis.\n",
    "\n",
    "The cell directly below will create a query object using the first geometry in the shapefile, along with the parameters we defined in the Analysis Parameters section above."
   ]
  },
  {
   "cell_type": "code",
   "execution_count": 7,
   "metadata": {},
   "outputs": [],
   "source": [
    "# Create a reusable query\n",
    "geom = geometry.Geometry(geom=gdf.iloc[0].geometry, crs=gdf.crs)\n",
    "\n",
    "query = {\n",
    "    \"geopolygon\": geom,\n",
    "    'time': time_range,\n",
    "    'measurements': ['red','blue','nir','green','swir_1','SCL'],\n",
    "    'resolution': resolution,\n",
    "    'output_crs': 'epsg:6933',\n",
    "    'group_by':'solar_day'\n",
    "}\n"
   ]
  },
  {
   "cell_type": "markdown",
   "metadata": {},
   "source": [
    "Load available data from S2:"
   ]
  },
  {
   "cell_type": "code",
   "execution_count": 8,
   "metadata": {},
   "outputs": [
    {
     "name": "stderr",
     "output_type": "stream",
     "text": [
      "../../Scripts/deafrica_datahandling.py:240: UserWarning: Setting 'min_gooddata' percentage to > 0.0 will cause dask arrays to compute when loading pixel-quality data to calculate 'good pixel' percentage. This can slow the return of your dataset.\n",
      "  warnings.warn(\"Setting 'min_gooddata' percentage to > 0.0 \"\n"
     ]
    },
    {
     "name": "stdout",
     "output_type": "stream",
     "text": [
      "Using pixel quality parameters for Sentinel 2\n",
      "Finding datasets\n",
      "    s2_l2a\n",
      "Counting good quality pixels for each time step\n",
      "Filtering to 227 out of 260 time steps with at least 15.0% good quality pixels\n",
      "Applying pixel quality/cloud mask\n",
      "Returning 227 time steps as a dask array\n",
      "<xarray.Dataset>\n",
      "Dimensions:      (time: 227, x: 607, y: 1194)\n",
      "Coordinates:\n",
      "  * time         (time) datetime64[ns] 2017-01-02T08:07:11 ... 2020-12-27T08:...\n",
      "  * y            (y) float64 9.461e+04 9.459e+04 ... 7.077e+04 7.075e+04\n",
      "  * x            (x) float64 3.479e+06 3.479e+06 ... 3.491e+06 3.491e+06\n",
      "    spatial_ref  int32 6933\n",
      "Data variables:\n",
      "    red          (time, y, x) float32 dask.array<chunksize=(1, 750, 607), meta=np.ndarray>\n",
      "    blue         (time, y, x) float32 dask.array<chunksize=(1, 750, 607), meta=np.ndarray>\n",
      "    nir          (time, y, x) float32 dask.array<chunksize=(1, 750, 607), meta=np.ndarray>\n",
      "    green        (time, y, x) float32 dask.array<chunksize=(1, 750, 607), meta=np.ndarray>\n",
      "    swir_1       (time, y, x) float32 dask.array<chunksize=(1, 750, 607), meta=np.ndarray>\n",
      "    SCL          (time, y, x) uint8 dask.array<chunksize=(1, 750, 607), meta=np.ndarray>\n",
      "Attributes:\n",
      "    crs:           epsg:6933\n",
      "    grid_mapping:  spatial_ref\n"
     ]
    }
   ],
   "source": [
    "ds = load_ard(\n",
    "    dc=dc,\n",
    "    products=['s2_l2a'],\n",
    "    dask_chunks=dask_chunks,\n",
    "    min_gooddata=min_gooddata,\n",
    "    **query,\n",
    ")\n",
    "\n",
    "print(ds)"
   ]
  },
  {
   "cell_type": "markdown",
   "metadata": {},
   "source": [
    "## Cloud Buffering\n",
    "\n",
    "The cloud masking data for Sentinel-2 is less than perfect, and missed cloud in the data greatly impacts vegetation  calculations. Below we will buffer the cloud-masking bands in an attempt to improve the masking of poor quality data."
   ]
  },
  {
   "cell_type": "code",
   "execution_count": 9,
   "metadata": {},
   "outputs": [],
   "source": [
    "import odc.algo\n",
    "\n",
    "#Extract boolean mask\n",
    "mask = odc.algo.enum_to_bool(ds.SCL, \n",
    "                             categories=['cloud shadows', 'cloud medium probability',\n",
    "                                         'cloud high probability', 'thin cirrus'])\n",
    "                             \n",
    "# Close mask to remove small holes in cloud, open mask to \n",
    "# remove narrow false positive cloud, then dilate\n",
    "mask = odc.algo.binary_closing(mask, 2)\n",
    "mask_cleaned = odc.algo.mask_cleanup(mask, r=(2, 10))\n",
    "\n",
    "# Add new mask as nodata pixels\n",
    "ds_clean = odc.algo.erase_bad(ds, mask_cleaned)\n"
   ]
  },
  {
   "cell_type": "markdown",
   "metadata": {},
   "source": [
    "## Mask the satellite data with shape"
   ]
  },
  {
   "cell_type": "code",
   "execution_count": 10,
   "metadata": {},
   "outputs": [
    {
     "name": "stdout",
     "output_type": "stream",
     "text": [
      "Rasterizing to match xarray.DataArray dimensions (1194, 607)\n"
     ]
    }
   ],
   "source": [
    "#create mask\n",
    "mask = xr_rasterize(gdf,ds)\n",
    "\n",
    "#mask data\n",
    "ds = ds.where(mask)\n",
    "\n",
    "#remove SCL since we don't need it anymore\n",
    "ds = ds.drop('SCL')\n",
    "\n",
    "#convert to float 32 to conserve memory\n",
    "ds=ds.astype(np.float32)"
   ]
  },
  {
   "cell_type": "markdown",
   "metadata": {},
   "source": [
    "## Calculate vegetation and water indices"
   ]
  },
  {
   "cell_type": "code",
   "execution_count": 11,
   "metadata": {},
   "outputs": [],
   "source": [
    "# Calculate the chosen vegetation proxy index and add it to the loaded data set\n",
    "ds = calculate_indices(ds, index=[veg_proxy, 'MNDWI'], collection='s2')\n",
    "\n",
    "#drop bands no-longer needed (save memory)\n",
    "ds = ds.drop(['red','green','nir','blue','swir_1'])"
   ]
  },
  {
   "cell_type": "markdown",
   "metadata": {},
   "source": [
    "## Prepare data for analysis\n",
    "\n",
    "Remove any NaN or infinite values, mask water, remove any outliers in the vegetation index.  We then reduce the data to a 1D timeseries by calculting the mean across the x and y dimensions.  \n",
    "\n",
    "We will also 'compute' the data on the dask cluster to speed up calculations later on. This step will take 5-10mins to run since we are now computing everything that came before."
   ]
  },
  {
   "cell_type": "code",
   "execution_count": 12,
   "metadata": {},
   "outputs": [],
   "source": [
    "# remove any infinite values\n",
    "ds = ds.where(xr.ufuncs.isfinite(ds))\n",
    "\n",
    "# mask water\n",
    "ds = ds.where(ds.MNDWI < 0)\n",
    "\n",
    "#remove outliers (if EVI greater than 1.0, set to NaN) \n",
    "ds['EVI'] = xr.where(ds['EVI']>1.0, np.nan, ds['EVI'])\n",
    "\n",
    "# create 1D line plots\n",
    "veg = ds[veg_proxy].mean(['x', 'y']).compute()"
   ]
  },
  {
   "cell_type": "markdown",
   "metadata": {},
   "source": [
    "## Smooth and interpolate time series\n",
    "\n",
    "Due to many factors (e.g. cloud obscuring the region, missed cloud cover in the SCL layer) the data will be gappy and noisy. Here, we will smooth and interpolate the data to ensure we working with a consistent time-series.\n",
    "\n",
    "To do this we take two step:\n",
    "\n",
    "1. Resample the data to fortnightly time-steps using the monthly median\n",
    "2. Calculate a rolling mean with a window of 4 steps"
   ]
  },
  {
   "cell_type": "code",
   "execution_count": 76,
   "metadata": {},
   "outputs": [],
   "source": [
    "resample_period='2W'\n",
    "window=4\n",
    "\n",
    "veg_smooth=veg.resample(time=resample_period).median().rolling(time=window, min_periods=1).mean()"
   ]
  },
  {
   "cell_type": "markdown",
   "metadata": {},
   "source": [
    "## Plot the entire time-series"
   ]
  },
  {
   "cell_type": "code",
   "execution_count": 77,
   "metadata": {},
   "outputs": [
    {
     "data": {
      "text/plain": [
       "Text(0.5, 1.0, 'EVI time-series, year start/ends marked with vertical lines')"
      ]
     },
     "execution_count": 77,
     "metadata": {},
     "output_type": "execute_result"
    },
    {
     "data": {
      "image/png": "[encoded data removed]",
      "text/plain": [
       "<Figure size 1080x360 with 1 Axes>"
      ]
     },
     "metadata": {
      "needs_background": "light"
     },
     "output_type": "display_data"
    }
   ],
   "source": [
    "veg_smooth.plot.line('b-^', figsize=(15,5))\n",
    "_max=veg_smooth.max()\n",
    "_min=veg_smooth.min()\n",
    "plt.vlines(np.datetime64('2017-01-01'), ymin=_min, ymax=_max)\n",
    "plt.vlines(np.datetime64('2018-01-01'), ymin=_min, ymax=_max)\n",
    "plt.vlines(np.datetime64('2019-01-01'), ymin=_min, ymax=_max)\n",
    "plt.vlines(np.datetime64('2020-01-01'), ymin=_min, ymax=_max)\n",
    "plt.vlines(np.datetime64('2021-01-01'), ymin=_min, ymax=_max)\n",
    "plt.title(veg_proxy+' time-series, year start/ends marked with vertical lines');"
   ]
  },
  {
   "cell_type": "markdown",
   "metadata": {},
   "source": [
    "## Compute basic phenology statistics"
   ]
  },
  {
   "cell_type": "code",
   "execution_count": 142,
   "metadata": {},
   "outputs": [],
   "source": [
    "basic_pheno_stats = ['SOS','vSOS','POS', 'vPOS','EOS', 'vEOS']\n",
    "method_sos = 'first'\n",
    "method_eos = 'last'"
   ]
  },
  {
   "cell_type": "code",
   "execution_count": 143,
   "metadata": {},
   "outputs": [
    {
     "name": "stdout",
     "output_type": "stream",
     "text": [
      "2017\n",
      "2018\n",
      "2019\n",
      "2020\n"
     ]
    }
   ],
   "source": [
    "#get list of years in ts to help\n",
    "years_int=[y[0] for y in years]\n",
    "\n",
    "#store results in dict\n",
    "pheno_results = {}\n",
    "\n",
    "#loop through years and calculate phenology\n",
    "for year in years_int[0:-1]:\n",
    "    print(year)\n",
    "    #select year\n",
    "    da = dict(years)[year]\n",
    "    #calculate stats\n",
    "    with HiddenPrints():\n",
    "        stats=ts.xr_phenology(\n",
    "                da,\n",
    "                method_sos=method_sos,\n",
    "                method_eos=method_eos,\n",
    "                stats=basic_pheno_stats,\n",
    "                complete=None,\n",
    "                smoothing=None,\n",
    "                    )\n",
    "    #add results to dict    \n",
    "    pheno_results[str(year)] = stats"
   ]
  },
  {
   "cell_type": "markdown",
   "metadata": {},
   "source": [
    "## Annotate phenology on plot"
   ]
  },
  {
   "cell_type": "code",
   "execution_count": 144,
   "metadata": {},
   "outputs": [
    {
     "data": {
      "image/png": "[encoded data removed]",
      "text/plain": [
       "<Figure size 1080x504 with 1 Axes>"
      ]
     },
     "metadata": {
      "needs_background": "light"
     },
     "output_type": "display_data"
    }
   ],
   "source": [
    "# find all the years to assist with plotting\n",
    "years=veg_smooth.groupby('time.year')\n",
    "\n",
    "fig, ax = plt.subplots()\n",
    "fig.set_size_inches(15,7)\n",
    "for year, y in zip(years, years_int[:-1]):\n",
    "    #the groupby and mean below doesn't actually do anything, expect allow\n",
    "    #the plots to be on the same x-axis. i.e. veg-data isn't modified, just time units\n",
    "    year[1].groupby('time.dayofyear').mean().plot(ax=ax, label=year[0])\n",
    "    # Use DOY results to create a datetime object\n",
    "    year = str(ds.time.dt.year.values[0]) + \" \"\n",
    "    eos_dt = pheno_results[str(y)].EOS.values\n",
    "    sos_dt = pheno_results[str(y)].SOS.values\n",
    "    pos_dt = pheno_results[str(y)].POS.values\n",
    "\n",
    "    #add start of season\n",
    "    ax.plot(sos_dt, pheno_results[str(y)].vSOS, 'or')\n",
    "    ax.annotate('SOS',\n",
    "                xy=(sos_dt, pheno_results[str(y)].vSOS.values),\n",
    "                xytext=(-15, 20),\n",
    "                textcoords='offset points',\n",
    "                arrowprops=dict(arrowstyle='-|>'))\n",
    "\n",
    "    #add end of season\n",
    "    ax.plot(eos_dt, pheno_results[str(y)].vEOS, 'or')\n",
    "    ax.annotate('EOS',\n",
    "                xy=(eos_dt, pheno_results[str(y)].vEOS.values),\n",
    "                xytext=(0, 20),\n",
    "                textcoords='offset points',\n",
    "                arrowprops=dict(arrowstyle='-|>'))\n",
    "\n",
    "    #add peak of season\n",
    "    ax.plot(pos_dt, pheno_results[str(y)].vPOS, 'or')\n",
    "    ax.annotate('POS',\n",
    "                xy=(pos_dt, pheno_results[str(y)].vPOS.values),\n",
    "                xytext=(-10, -25),\n",
    "                textcoords='offset points',\n",
    "                arrowprops=dict(arrowstyle='-|>'))\n",
    "ax.legend()\n",
    "plt.ylim(_min-0.025,_max.values+0.05)\n",
    "plt.xlabel('Day of Year')\n",
    "plt.ylabel(veg_proxy)\n",
    "plt.title('Yearly '+ veg_proxy);"
   ]
  },
  {
   "cell_type": "markdown",
   "metadata": {},
   "source": [
    "***\n",
    "\n",
    "## Additional information\n",
    "\n",
    "**License:** The code in this notebook is licensed under the [Apache License, Version 2.0](https://www.apache.org/licenses/LICENSE-2.0). \n",
    "Digital Earth Africa data is licensed under the [Creative Commons by Attribution 4.0](https://creativecommons.org/licenses/by/4.0/) license.\n",
    "\n",
    "**Contact:** If you need assistance, please post a question on the [Open Data Cube Slack channel](http://slack.opendatacube.org/) or on the [GIS Stack Exchange](https://gis.stackexchange.com/questions/ask?tags=open-data-cube) using the `open-data-cube` tag (you can view previously asked questions [here](https://gis.stackexchange.com/questions/tagged/open-data-cube)).\n",
    "If you would like to report an issue with this notebook, you can file one on [Github](https://github.com/digitalearthafrica/deafrica-sandbox-notebooks).\n",
    "\n",
    "**Compatible datacube version:** "
   ]
  },
  {
   "cell_type": "code",
   "execution_count": null,
   "metadata": {},
   "outputs": [],
   "source": [
    "print(datacube.__version__)"
   ]
  },
  {
   "cell_type": "markdown",
   "metadata": {},
   "source": [
    "**Last Tested:**"
   ]
  },
  {
   "cell_type": "code",
   "execution_count": 145,
   "metadata": {},
   "outputs": [
    {
     "data": {
      "text/plain": [
       "'2021-03-17'"
      ]
     },
     "execution_count": 145,
     "metadata": {},
     "output_type": "execute_result"
    }
   ],
   "source": [
    "from datetime import datetime\n",
    "datetime.today().strftime('%Y-%m-%d')"
   ]
  }
 ],
 "metadata": {
  "kernelspec": {
   "display_name": "Python 3",
   "language": "python",
   "name": "python3"
  },
  "language_info": {
   "codemirror_mode": {
    "name": "ipython",
    "version": 3
   },
   "file_extension": ".py",
   "mimetype": "text/x-python",
   "name": "python",
   "nbconvert_exporter": "python",
   "pygments_lexer": "ipython3",
   "version": "3.6.9"
  },
  "widgets": {
   "application/vnd.jupyter.widget-state+json": {
    "state": {
     "1d2ba241bfd2437dbdf5d4530c685d9a": {
      "model_module": "jupyter-leaflet",
      "model_module_version": "^0.11.1",
      "model_name": "LeafletAttributionControlModel",
      "state": {
       "_model_module_version": "^0.11.1",
       "_view_count": null,
       "_view_module_version": "^0.11.1",
       "options": [
        "position",
        "prefix"
       ],
       "position": "bottomright",
       "prefix": "Leaflet"
      }
     },
     "d867097fe154472198694ed8095e3b0c": {
      "model_module": "jupyter-leaflet",
      "model_module_version": "^0.11.1",
      "model_name": "LeafletZoomControlModel",
      "state": {
       "_model_module_version": "^0.11.1",
       "_view_count": null,
       "_view_module_version": "^0.11.1",
       "options": [
        "position",
        "zoom_in_text",
        "zoom_in_title",
        "zoom_out_text",
        "zoom_out_title"
       ]
      }
     }
    },
    "version_major": 2,
    "version_minor": 0
   }
  }
 },
 "nbformat": 4,
 "nbformat_minor": 4
}
