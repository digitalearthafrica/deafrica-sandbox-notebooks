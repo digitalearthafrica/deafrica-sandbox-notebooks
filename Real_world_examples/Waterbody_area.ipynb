{
 "cells": [
  {
   "cell_type": "markdown",
   "metadata": {},
   "source": [
    "# Measuring Waterbody Surace Area\n",
    "* **Products used:**\n",
    "[ga_ls8c_wofs_2](https://explorer.digitalearth.africa/ga_ls8c_wofs_2)"
   ]
  },
  {
   "cell_type": "markdown",
   "metadata": {},
   "source": [
    "### Description\n",
    "\n",
    "In this example, data from Water Observations from Space (WOfS) is used to identify waterbody area change over time. This example guides the user through the code to achieve: \n",
    "\n",
    "1. Create a time series data cube over a waterbody\n",
    "2. Identify the wet and dry surface change over time\n",
    "3. Interpret the results"
   ]
  },
  {
   "cell_type": "markdown",
   "metadata": {},
   "source": [
    "### Load packages and apps \n",
    "\n",
    "This notebook works using two functions, referred to as apps:\n",
    "` load_waterbody_data` and `run_waterbody_app`. \n",
    "These functions allow the analysis code to be stored in another file, which enables the notebook to run with ease. \n",
    "To view the code directly, open the .[Water_Surface_Area.py](../Development/Water_Surface_Area.py) file. "
   ]
  },
  {
   "cell_type": "code",
   "execution_count": 1,
   "metadata": {},
   "outputs": [
    {
     "name": "stderr",
     "output_type": "stream",
     "text": [
      "/env/lib/python3.8/site-packages/geopandas/_compat.py:106: UserWarning: The Shapely GEOS version (3.8.0-CAPI-1.13.1 ) is incompatible with the GEOS version PyGEOS was compiled with (3.9.1-CAPI-1.14.2). Conversions between both will be slow.\n",
      "  warnings.warn(\n",
      "/env/lib/python3.8/site-packages/datacube/storage/masking.py:7: DeprecationWarning: datacube.storage.masking has moved to datacube.utils.masking\n",
      "  warnings.warn(\"datacube.storage.masking has moved to datacube.utils.masking\",\n"
     ]
    }
   ],
   "source": [
    "%matplotlib inline\n",
    "\n",
    "import sys\n",
    "import datacube\n",
    "\n",
    "sys.path.append('../Development')\n",
    "from Water_Surface_Area import load_waterbody_data \n",
    "from Water_Surface_Area import run_waterbody_app"
   ]
  },
  {
   "cell_type": "code",
   "execution_count": null,
   "metadata": {},
   "outputs": [],
   "source": []
  },
  {
   "cell_type": "markdown",
   "metadata": {},
   "source": [
    "### Analysis Parameters\n",
    "\n",
    "The following cell imports parameters required for the analysis. Including four parameters that control where the data will be loaded:\n",
    "\n",
    "* `lat`: The central latitude to analyse (e.g. `11.6791`).\n",
    "* `lon`: The central longitude to analyse (e.g. `8.0063`).\n",
    "* `buffer`: The number of square degrees to load around the central latitude and longitude (e.g. `0.1`).\n",
    "* `start`: The start date of for the observation period (e.g. `2019-01-01`).\n",
    "* `end`: The ebd date of for the observation period (e.g. `2020-01-01`).\n",
    "\n",
    "#### Suggested area\n",
    "\n",
    "Here is a suggested area to look at. To view this area, simply copy and paste into the cell below, then run the notebook. \n",
    "\n",
    "**Lake**\n",
    "```\n",
    "lat = 11.6791\n",
    "lon = 8.0063\n",
    "buffer = 0.1\n",
    "start = 2019-01-01\n",
    "end = 2020-01-01\n",
    "```"
   ]
  },
  {
   "cell_type": "code",
   "execution_count": 2,
   "metadata": {},
   "outputs": [],
   "source": [
    "# Define the area of interest and the time period for analysis\n",
    "lat = 11.6791\n",
    "lon = 8.0063\n",
    "buffer = 0.1\n",
    "start = '2019-01-01'\n",
    "end = '2020-01-01'"
   ]
  },
  {
   "cell_type": "markdown",
   "metadata": {},
   "source": [
    "### Load the data\n",
    "\n",
    "The `(load_waterbody_data)` command performs several steps including:\n",
    "\n",
    "* identifies all available WOfS data in the study area within the set time period\n",
    "* identifies pixels with water prestent\n",
    "* identifies pixels without water present\n",
    "* returns the data for analysis \n",
    "\n",
    "The function takes five arguements: `lat`, `lon`, `buffer`, `start`, and `end`. These arguements determine the area which the function loads, and can be altered in the previous cell. "
   ]
  },
  {
   "cell_type": "code",
   "execution_count": 3,
   "metadata": {},
   "outputs": [],
   "source": [
    "data = load_waterbody_data(lat, lon, buffer, start, end)"
   ]
  },
  {
   "cell_type": "markdown",
   "metadata": {},
   "source": [
    "### Run the waterbody app\n",
    "\n",
    "The `run_waterbody_app()` function launches an interactive map. Drawing a polygon within the red boundary box (which illustrates the bounds of the area loaded) will result in the plots of both wet and dry change over time. \n",
    "Draw polygons by clicking the &#11039; symbol in the app.\n",
    "\n",
    "This function works by taking the loaded data `data` as an arguement, as well as `lat`, `lon`, and `buffer`parameters used to define the spatial extent. "
   ]
  },
  {
   "cell_type": "code",
   "execution_count": 4,
   "metadata": {},
   "outputs": [
    {
     "data": {
      "application/vnd.jupyter.widget-view+json": {
       "model_id": "868d9cb708db42f6a44a23275d890e2d",
       "version_major": 2,
       "version_minor": 0
      },
      "text/plain": [
       "VBox(children=(Output(layout=Layout(border='1px solid black')), HBox(children=(Map(center=[11.679099999999998,…"
      ]
     },
     "metadata": {},
     "output_type": "display_data"
    }
   ],
   "source": [
    "run_waterbody_app(data, lat, lon, buffer)"
   ]
  },
  {
   "cell_type": "code",
   "execution_count": null,
   "metadata": {},
   "outputs": [],
   "source": []
  }
 ],
 "metadata": {
  "kernelspec": {
   "display_name": "Python 3",
   "language": "python",
   "name": "python3"
  },
  "language_info": {
   "codemirror_mode": {
    "name": "ipython",
    "version": 3
   },
   "file_extension": ".py",
   "mimetype": "text/x-python",
   "name": "python",
   "nbconvert_exporter": "python",
   "pygments_lexer": "ipython3",
   "version": "3.8.10"
  }
 },
 "nbformat": 4,
 "nbformat_minor": 4
}
