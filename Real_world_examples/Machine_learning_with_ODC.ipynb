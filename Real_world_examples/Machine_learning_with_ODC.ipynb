{
 "cells": [
  {
   "cell_type": "markdown",
   "metadata": {},
   "source": [
    "# Machine learning with the Open Data Cube\n",
    "\n",
    "* **Products used:** \n",
    "[gm_s2_annual](https://explorer.digitalearth.africa/gm_s2_annual)\n",
    "* **Special requirements:** A shapefile of labelled data is required to use this notebook.\n",
    "An example dataset is provided.\n",
    "\n",
    "* **Prerequisites:** A basic understanding of supervised learning techniques is required. \n",
    "    * [Introduction to statistical learning](https://link.springer.com/book/10.1007/978-1-0716-1418-1) is a useful resource to begin with - it can be downloaded for free [here](https://hastie.su.domains/ISLR2/ISLRv2_website.pdf). \n",
    "    * The [Scikit-learn](https://scikit-learn.org/stable/supervised_learning.html) documentation provides information on the available models and their parameters.\n",
    "    * This [article](https://www.tandfonline.com/doi/full/10.1080/01431161.2018.1433343) provides a nice review of machine learning in the context of remote sensing.\n",
    "\n",
    "> **Note**: For a more detailed exploration of machine learning on the ODC, see the notebook series: **Scalable machine learning in the ODC** in the `Real_world_examples/Scalable_machine_learning/` folder."
   ]
  },
  {
   "cell_type": "raw",
   "metadata": {
    "raw_mimetype": "text/restructuredtext"
   },
   "source": [
    "**Keywords**: :index:`data used; sentinel-2 geomedian`, index:`data used; MADs`, :index:`urban`, :index:`landcover`, :index:`data methods; machine learning`, :index:`machine learning; supervised classification`"
   ]
  },
  {
   "cell_type": "markdown",
   "metadata": {},
   "source": [
    "## Description\n",
    "\n",
    "This notebook demonstrates a potential workflow using functions from the [deafrica_tools.classification](https://docs.digitalearthafrica.org/en/latest/sandbox/notebooks/Tools/gen/deafrica_tools.classification.html) script to implement a `supervised learning` landcover classifier within the [ODC (Open Data Cube)](https://www.opendatacube.org/) framework. The notebook uses a default shapefile of training data (provided for demonstration purposes only) to classify `urban areas` in Kampala, Uganda\n",
    "\n",
    "> **Note**: Users who have their own training data can directly import their own shapefile by uploading their shapefile into the Sandbox and adjusting the `path` parameter.\n",
    "\n",
    "The notebook demonstrates how to:\n",
    "\n",
    "1. Train a simple decision tree model and adjust parameters \n",
    "2. Predict urban areas using the trained model on new data\n",
    "3. Evaluate the output of the classification using quantitative metrics\n",
    "4. Plot the results and visually assess the classification\n",
    "5. Export the results as a geotiff\n",
    "\n",
    "***"
   ]
  },
  {
   "cell_type": "markdown",
   "metadata": {},
   "source": [
    "## Getting started\n",
    "\n",
    "To run this analysis, run all the cells in the notebook, starting with the \"Load packages\" cell. "
   ]
  },
  {
   "cell_type": "markdown",
   "metadata": {},
   "source": [
    "### Load packages\n",
    "Import Python packages that are used for the analysis."
   ]
  },
  {
   "cell_type": "code",
   "execution_count": 1,
   "metadata": {},
   "outputs": [],
   "source": [
    "%matplotlib inline\n",
    "\n",
    "# Force GeoPandas to use Shapely instead of PyGEOS\n",
    "# In a future release, GeoPandas will switch to using Shapely by default.\n",
    "import os\n",
    "os.environ['USE_PYGEOS'] = '0'\n",
    "\n",
    "import datacube\n",
    "import warnings\n",
    "import pydotplus\n",
    "import numpy as np\n",
    "import geopandas as gpd\n",
    "from io import StringIO\n",
    "from joblib import dump\n",
    "from pprint import pprint\n",
    "import matplotlib.pyplot as plt\n",
    "from IPython.display import Image\n",
    "from odc.io.cgroups import get_cpu_quota\n",
    "from sklearn import tree, model_selection\n",
    "from sklearn.metrics import accuracy_score\n",
    "from datacube.utils.cog import write_cog\n",
    "\n",
    "from deafrica_tools.plotting import map_shapefile, rgb\n",
    "from deafrica_tools.classification import predict_xr, collect_training_data\n",
    "from deafrica_tools.bandindices import calculate_indices\n"
   ]
  },
  {
   "cell_type": "code",
   "execution_count": 2,
   "metadata": {},
   "outputs": [],
   "source": [
    "warnings.filterwarnings('ignore')"
   ]
  },
  {
   "cell_type": "markdown",
   "metadata": {},
   "source": [
    "### Connect to the datacube\n",
    "\n",
    "Connect to the datacube so we can access DE Africa data."
   ]
  },
  {
   "cell_type": "code",
   "execution_count": 3,
   "metadata": {},
   "outputs": [],
   "source": [
    "dc = datacube.Datacube(app='Machine_learning_with_ODC')"
   ]
  },
  {
   "cell_type": "markdown",
   "metadata": {},
   "source": [
    "### Analysis parameters\n",
    "* `lat`, `long` & `buffer`: The centre location and buffer for your area of interest, this will define the box from which we extract satellite data to classify when we make the prediction.\n",
    "* `path`: The path to the input shapefile. A default shapefile is provided.\n",
    "* `field`: This is the name of column in your shapefile attribute table that contains the class labels\n",
    "* `product`: The name of the product to extract. In this example we use a Sentinel-2 geomedian composite from 2019, `'ga_s2_gm'`\n",
    "* `time`: The time range you wish to extract data for, typically the same date the labels were created.\n",
    "* `zonal_stats`: This is an option to calculate the `'mean'`, `'median'`, `'max'`, or `'min'` of the pixel values within each polygon feature, setting it to `None` will result in all pixels being extracted.\n",
    "* `resolution`: The spatial resolution, in metres, to resample the satellite data too e.g. if working with Landsat data, then this should be `(-10,10)` \n",
    "\n",
    "**If running the notebook for the first time**, keep the default settings below. This will demonstrate how the analysis works and provide meaningful results.  \n",
    "\n",
    "> If you decide to change any of the parameters below, then these changes will need to be reflected in the `Prediction` section. For the prediction section to work, it requires loading the same data as is loaded in the training data. The user needs to update the prediction section manually."
   ]
  },
  {
   "cell_type": "code",
   "execution_count": 4,
   "metadata": {},
   "outputs": [],
   "source": [
    "lat, long = 0.3109, 32.5943 # Kampala, Uganda\n",
    "buffer = 0.1\n",
    "path = '../Supplementary_data/Machine_learning_with_ODC/kampala_urban_labels.shp'\n",
    "field = 'class'\n",
    "products = 'gm_s2_annual'\n",
    "measurements =  ['blue','green','red','nir','swir_1','swir_2', 'BCMAD', 'EMAD', 'SMAD']\n",
    "time = ('2019')\n",
    "zonal_stats = None #'median' \n",
    "resolution =  (-10, 10)"
   ]
  },
  {
   "cell_type": "markdown",
   "metadata": {},
   "source": [
    "### Automatically detect the number of cpus\n"
   ]
  },
  {
   "cell_type": "code",
   "execution_count": 5,
   "metadata": {},
   "outputs": [
    {
     "name": "stdout",
     "output_type": "stream",
     "text": [
      "ncpus = 7\n"
     ]
    }
   ],
   "source": [
    "ncpus=round(get_cpu_quota())\n",
    "print('ncpus = '+str(ncpus))"
   ]
  },
  {
   "cell_type": "markdown",
   "metadata": {},
   "source": [
    "## Extract training data using a shapefile\n",
    "\n",
    "**Training data** is the most important part of any machine learning workflow. The quality of the training data has a greater impact of the classification than the algorithm used. Large and accurate training data sets are preferable: increasing the training sample size results in increased classification accuracy (Huang, Davis and Townsend 2002).  \n",
    "\n",
    "When creating training data, be sure to capture the `spectral variability` of the class, and to use imagery from the time period you want to classify (rather than relying on basemap composites). The best way to create training data is using a GIS platform. \n",
    "\n",
    "Another common problem with training data is `class imbalance`. This can occur when one of your classes is relatively rare and therefore the rare class will comprise a smaller proportion of the training set. When imbalanced data is used, it is common that the final classification will under-predict less abundant classes relative to their true proportion.\n",
    "\n",
    "> **Note**: The training data provided by default is *for demonstration purposes only* and should not be relied upon for real world analysis.  \n",
    "\n",
    "***\n",
    "\n",
    "Firstly, let's open our input data and visualise it using the function `map_shapefile`. We can also check the shapefile by plotting and inspecting it. Note: The polygons are very small so you will need to zoom in to see them."
   ]
  },
  {
   "cell_type": "code",
   "execution_count": 6,
   "metadata": {},
   "outputs": [
    {
     "data": {
      "application/vnd.jupyter.widget-view+json": {
       "model_id": "b8dcd880a139479694d825067c05d73b",
       "version_major": 2,
       "version_minor": 0
      },
      "text/plain": [
       "Label(value='')"
      ]
     },
     "metadata": {},
     "output_type": "display_data"
    },
    {
     "data": {
      "application/vnd.jupyter.widget-view+json": {
       "model_id": "ec214ea34fce4096bb6f27ce347077cc",
       "version_major": 2,
       "version_minor": 0
      },
      "text/plain": [
       "Map(center=[-0.28806458596105367, 31.347375440203393], controls=(ZoomControl(options=['position', 'zoom_in_tex…"
      ]
     },
     "metadata": {},
     "output_type": "display_data"
    }
   ],
   "source": [
    "#open shapefile and ensure its in WGS84 coordinates\n",
    "input_data = gpd.read_file(path).to_crs('epsg:4326')\n",
    "\n",
    "#check the shapfile by plotting it\n",
    "map_shapefile(input_data, attribute=field)"
   ]
  },
  {
   "cell_type": "markdown",
   "metadata": {},
   "source": [
    "## Defining feature layers\n",
    "\n",
    "To create the desired feature layers, we pass instructions to `collect_training_data` through the `feature_func` parameter.\n",
    "\n",
    "* `feature_func`: A function for generating feature layers that is applied to the data within the bounds of the input geometry. The `feature_func` must accept a `dc_query` object, and return a single `xarray.Dataset` or `xarray.DataArray` containing 2D coordinates (i.e x, y - no time dimension). e.g.\n",
    "\n",
    "          def feature_function(query):\n",
    "              dc = datacube.Datacube(app='feature_layers')\n",
    "              ds = dc.load(**query)\n",
    "              ds = ds.mean('time')\n",
    "              return ds\n",
    "\n",
    "Below, we will define a feature layer function. We will load all the layers of the annual sentinel-2 [GeoMAD](https://github.com/digitalearthafrica/deafrica-sandbox-notebooks/blob/master/Datasets/GeoMAD.ipynb), and then calculate some band indices."
   ]
  },
  {
   "cell_type": "code",
   "execution_count": 7,
   "metadata": {},
   "outputs": [],
   "source": [
    "def feature_layers(query):\n",
    "    #connect to the datacube\n",
    "    dc = datacube.Datacube(app='feature_layers')\n",
    "    \n",
    "    #load ls8 geomedian\n",
    "    ds = dc.load(product=products,\n",
    "                 **query)\n",
    "    \n",
    "    #calculate some band indices\n",
    "    ds = calculate_indices(ds,\n",
    "                           index=['NDVI', 'BUI', 'MNDWI'],\n",
    "                           drop=False,\n",
    "                           satellite_mission='s2')\n",
    "    \n",
    "    return ds"
   ]
  },
  {
   "cell_type": "markdown",
   "metadata": {},
   "source": [
    "To train our model, we need to obtain satellite data that corresponds with the labelled input data locations. \n",
    "\n",
    "The function `collect_training_data` takes our shapefile, containing class labels, and extracts traning data from the datacube over the location specified by the input geometries. The function will also pre-process our training data by stacking the arrays into a useful format and removing an `NaN` (not-a-number) values.  Before we run the training data function, we first need to set up a dictionary with the satellite query parameters:\n"
   ]
  },
  {
   "cell_type": "code",
   "execution_count": 8,
   "metadata": {},
   "outputs": [],
   "source": [
    "#generate a datacube query object\n",
    "query = {\n",
    "    'time': time,\n",
    "    'measurements': measurements,\n",
    "    'resolution': resolution,\n",
    "    'output_crs' : 'epsg:6933'\n",
    "}"
   ]
  },
  {
   "cell_type": "markdown",
   "metadata": {},
   "source": [
    "> **The following cell can take several minutes to run.** The class labels will be contained in the first column of the output array.  If you set `ncpus > 1`, then this function will be run in parallel across the specified number of processes."
   ]
  },
  {
   "cell_type": "code",
   "execution_count": 9,
   "metadata": {},
   "outputs": [
    {
     "name": "stdout",
     "output_type": "stream",
     "text": [
      "Collecting training data in parallel mode\n"
     ]
    },
    {
     "data": {
      "application/vnd.jupyter.widget-view+json": {
       "model_id": "3359ca96e91b448d90b36a9172daf325",
       "version_major": 2,
       "version_minor": 0
      },
      "text/plain": [
       "  0%|          | 0/250 [00:00<?, ?it/s]"
      ]
     },
     "metadata": {},
     "output_type": "display_data"
    },
    {
     "name": "stdout",
     "output_type": "stream",
     "text": [
      "Percentage of possible fails after run 1 = 0.0 %\n",
      "Removed 0 rows wth NaNs &/or Infs\n",
      "Output shape:  (5076, 13)\n"
     ]
    }
   ],
   "source": [
    "#Collect the training data from the datacube\n",
    "column_names, model_input = collect_training_data(\n",
    "                                    gdf=input_data,\n",
    "                                    dc_query=query,\n",
    "                                    ncpus=ncpus,\n",
    "                                    field=field,\n",
    "                                    zonal_stats=zonal_stats,\n",
    "                                    feature_func=feature_layers\n",
    "                                    )"
   ]
  },
  {
   "cell_type": "code",
   "execution_count": 10,
   "metadata": {},
   "outputs": [
    {
     "name": "stdout",
     "output_type": "stream",
     "text": [
      "['class', 'blue', 'green', 'red', 'nir', 'swir_1', 'swir_2', 'BCMAD', 'EMAD', 'SMAD', 'NDVI', 'BUI', 'MNDWI']\n",
      "\n",
      "[[   1.    972.   1151.   ...    0.01    0.16   -0.25]\n",
      " [   1.   1047.   1326.   ...    0.08    0.     -0.24]\n",
      " [   1.    818.   1036.   ...    0.23   -0.14   -0.42]\n",
      " ...\n",
      " [   0.    371.    414.   ...   -0.1    -0.16    0.45]\n",
      " [   0.    374.    424.   ...   -0.09   -0.19    0.47]\n",
      " [   0.    379.    429.   ...   -0.08   -0.22    0.47]]\n"
     ]
    }
   ],
   "source": [
    "print(column_names)\n",
    "print('')\n",
    "print(np.array_str(model_input, precision=2, suppress_small=True))"
   ]
  },
  {
   "cell_type": "markdown",
   "metadata": {},
   "source": [
    "So that we can assess the accuracy of our classification, we split our data into training and testing data. \n",
    "80% is used for training with 20% held back for testing.\n",
    "When splitting our data, we stratify the training data by the distributions of class membership.\n",
    "This sampling method leads to a similar distribution of class membership in the training data."
   ]
  },
  {
   "cell_type": "code",
   "execution_count": 11,
   "metadata": {},
   "outputs": [
    {
     "name": "stdout",
     "output_type": "stream",
     "text": [
      "Train shape: (4060, 13)\n",
      "Test shape: (1016, 13)\n"
     ]
    }
   ],
   "source": [
    "# Split into training and testing data\n",
    "model_train, model_test = model_selection.train_test_split(model_input, \n",
    "                                                           stratify=model_input[:, 0],\n",
    "                                                           train_size=0.8, \n",
    "                                                           random_state=0)\n",
    "print(\"Train shape:\", model_train.shape)\n",
    "print(\"Test shape:\", model_test.shape)"
   ]
  },
  {
   "cell_type": "markdown",
   "metadata": {},
   "source": [
    "## Model preparation"
   ]
  },
  {
   "cell_type": "markdown",
   "metadata": {},
   "source": [
    "This section automatically creates a list of varaible names and their respective indices for each of the training data variables.\n",
    "\n",
    "> **Note:** To use a custom subset of the satellite bands loaded above to train our data, you can replace `column_names[1:]` with a list of selected band names (e.g. `['red', 'green', 'blue']`)"
   ]
  },
  {
   "cell_type": "code",
   "execution_count": 12,
   "metadata": {},
   "outputs": [],
   "source": [
    "# Select the variables we want to use to train our model\n",
    "model_variables = column_names[1:]\n",
    "\n",
    "# Extract relevant indices from the processed shapefile\n",
    "model_col_indices = [column_names.index(var_name) for var_name in model_variables]"
   ]
  },
  {
   "cell_type": "markdown",
   "metadata": {},
   "source": [
    "A **decision tree model** is chosen as it is one of the simplest supervised machine learning models we can implement. \n",
    "\n",
    "Its strengths are its explainability and cheap computational cost.\n",
    "\n",
    "Parameter tuning can be conducted in the model initialisation below by adding or changing variables in the `classifier_params` below - details on how the different parameters will affect the model are [here](https://scikit-learn.org/stable/modules/tree.html#tips-on-practical-use)."
   ]
  },
  {
   "cell_type": "code",
   "execution_count": 13,
   "metadata": {},
   "outputs": [],
   "source": [
    "classifier_params = {'criterion': 'gini',\n",
    "                     'max_depth' : 10,\n",
    "                     'splitter' : 'random',\n",
    "                     'min_samples_split' : 100}\n",
    "\n",
    "model = tree.DecisionTreeClassifier(**classifier_params, random_state=1)"
   ]
  },
  {
   "cell_type": "markdown",
   "metadata": {},
   "source": [
    "## Train model"
   ]
  },
  {
   "cell_type": "markdown",
   "metadata": {},
   "source": [
    "The model is fitted / trained using the prepared training data. \n",
    "The fitting process uses the decision tree approach to create a generalised representation of reality based on the training data. \n",
    "This fitted / trained model can then be used to predict which class new data belongs to."
   ]
  },
  {
   "cell_type": "code",
   "execution_count": 14,
   "metadata": {},
   "outputs": [
    {
     "data": {
      "text/html": [
       "<style>#sk-container-id-1 {color: black;background-color: white;}#sk-container-id-1 pre{padding: 0;}#sk-container-id-1 div.sk-toggleable {background-color: white;}#sk-container-id-1 label.sk-toggleable__label {cursor: pointer;display: block;width: 100%;margin-bottom: 0;padding: 0.3em;box-sizing: border-box;text-align: center;}#sk-container-id-1 label.sk-toggleable__label-arrow:before {content: \"▸\";float: left;margin-right: 0.25em;color: #696969;}#sk-container-id-1 label.sk-toggleable__label-arrow:hover:before {color: black;}#sk-container-id-1 div.sk-estimator:hover label.sk-toggleable__label-arrow:before {color: black;}#sk-container-id-1 div.sk-toggleable__content {max-height: 0;max-width: 0;overflow: hidden;text-align: left;background-color: #f0f8ff;}#sk-container-id-1 div.sk-toggleable__content pre {margin: 0.2em;color: black;border-radius: 0.25em;background-color: #f0f8ff;}#sk-container-id-1 input.sk-toggleable__control:checked~div.sk-toggleable__content {max-height: 200px;max-width: 100%;overflow: auto;}#sk-container-id-1 input.sk-toggleable__control:checked~label.sk-toggleable__label-arrow:before {content: \"▾\";}#sk-container-id-1 div.sk-estimator input.sk-toggleable__control:checked~label.sk-toggleable__label {background-color: #d4ebff;}#sk-container-id-1 div.sk-label input.sk-toggleable__control:checked~label.sk-toggleable__label {background-color: #d4ebff;}#sk-container-id-1 input.sk-hidden--visually {border: 0;clip: rect(1px 1px 1px 1px);clip: rect(1px, 1px, 1px, 1px);height: 1px;margin: -1px;overflow: hidden;padding: 0;position: absolute;width: 1px;}#sk-container-id-1 div.sk-estimator {font-family: monospace;background-color: #f0f8ff;border: 1px dotted black;border-radius: 0.25em;box-sizing: border-box;margin-bottom: 0.5em;}#sk-container-id-1 div.sk-estimator:hover {background-color: #d4ebff;}#sk-container-id-1 div.sk-parallel-item::after {content: \"\";width: 100%;border-bottom: 1px solid gray;flex-grow: 1;}#sk-container-id-1 div.sk-label:hover label.sk-toggleable__label {background-color: #d4ebff;}#sk-container-id-1 div.sk-serial::before {content: \"\";position: absolute;border-left: 1px solid gray;box-sizing: border-box;top: 0;bottom: 0;left: 50%;z-index: 0;}#sk-container-id-1 div.sk-serial {display: flex;flex-direction: column;align-items: center;background-color: white;padding-right: 0.2em;padding-left: 0.2em;position: relative;}#sk-container-id-1 div.sk-item {position: relative;z-index: 1;}#sk-container-id-1 div.sk-parallel {display: flex;align-items: stretch;justify-content: center;background-color: white;position: relative;}#sk-container-id-1 div.sk-item::before, #sk-container-id-1 div.sk-parallel-item::before {content: \"\";position: absolute;border-left: 1px solid gray;box-sizing: border-box;top: 0;bottom: 0;left: 50%;z-index: -1;}#sk-container-id-1 div.sk-parallel-item {display: flex;flex-direction: column;z-index: 1;position: relative;background-color: white;}#sk-container-id-1 div.sk-parallel-item:first-child::after {align-self: flex-end;width: 50%;}#sk-container-id-1 div.sk-parallel-item:last-child::after {align-self: flex-start;width: 50%;}#sk-container-id-1 div.sk-parallel-item:only-child::after {width: 0;}#sk-container-id-1 div.sk-dashed-wrapped {border: 1px dashed gray;margin: 0 0.4em 0.5em 0.4em;box-sizing: border-box;padding-bottom: 0.4em;background-color: white;}#sk-container-id-1 div.sk-label label {font-family: monospace;font-weight: bold;display: inline-block;line-height: 1.2em;}#sk-container-id-1 div.sk-label-container {text-align: center;}#sk-container-id-1 div.sk-container {/* jupyter's `normalize.less` sets `[hidden] { display: none; }` but bootstrap.min.css set `[hidden] { display: none !important; }` so we also need the `!important` here to be able to override the default hidden behavior on the sphinx rendered scikit-learn.org. See: https://github.com/scikit-learn/scikit-learn/issues/21755 */display: inline-block !important;position: relative;}#sk-container-id-1 div.sk-text-repr-fallback {display: none;}</style><div id=\"sk-container-id-1\" class=\"sk-top-container\"><div class=\"sk-text-repr-fallback\"><pre>DecisionTreeClassifier(max_depth=10, min_samples_split=100, random_state=1,\n",
       "                       splitter=&#x27;random&#x27;)</pre><b>In a Jupyter environment, please rerun this cell to show the HTML representation or trust the notebook. <br />On GitHub, the HTML representation is unable to render, please try loading this page with nbviewer.org.</b></div><div class=\"sk-container\" hidden><div class=\"sk-item\"><div class=\"sk-estimator sk-toggleable\"><input class=\"sk-toggleable__control sk-hidden--visually\" id=\"sk-estimator-id-1\" type=\"checkbox\" checked><label for=\"sk-estimator-id-1\" class=\"sk-toggleable__label sk-toggleable__label-arrow\">DecisionTreeClassifier</label><div class=\"sk-toggleable__content\"><pre>DecisionTreeClassifier(max_depth=10, min_samples_split=100, random_state=1,\n",
       "                       splitter=&#x27;random&#x27;)</pre></div></div></div></div></div>"
      ],
      "text/plain": [
       "DecisionTreeClassifier(max_depth=10, min_samples_split=100, random_state=1,\n",
       "                       splitter='random')"
      ]
     },
     "execution_count": 14,
     "metadata": {},
     "output_type": "execute_result"
    }
   ],
   "source": [
    "# Train model\n",
    "model.fit(model_train[:, model_col_indices], model_train[:, 0])"
   ]
  },
  {
   "cell_type": "markdown",
   "metadata": {},
   "source": [
    "### Optionally save the model\n",
    "\n",
    "Running this cell will export the classifier as a binary`.joblib` file. This will allow for importing the model in other scripts should we wish to use the same model to classify a different region.\n",
    "\n",
    "To import a saved model, execute the following code snippet:\n",
    "\n",
    "    from joblib import load\n",
    "    ml_model = 'ml_model.joblib'\n",
    "    model = load(ml_model)"
   ]
  },
  {
   "cell_type": "code",
   "execution_count": 15,
   "metadata": {},
   "outputs": [
    {
     "data": {
      "text/plain": [
       "['ml_model.joblib']"
      ]
     },
     "execution_count": 15,
     "metadata": {},
     "output_type": "execute_result"
    }
   ],
   "source": [
    "dump(model, 'ml_model.joblib')"
   ]
  },
  {
   "cell_type": "markdown",
   "metadata": {},
   "source": [
    "---\n",
    "\n",
    "## Evaluating Classifier\n",
    "\n",
    "The following cells will help you examine the classifier and improve the results.  We can do this by:\n",
    "* Determining our overall accuracy,\n",
    "* Finding out which features (bands in the input data) are most useful for classifying, and which are not,\n",
    "* Plotting the Decision Tree to help us understand which thresholds are used to seperate the classes."
   ]
  },
  {
   "cell_type": "markdown",
   "metadata": {},
   "source": [
    "### Overall Accuracy"
   ]
  },
  {
   "cell_type": "markdown",
   "metadata": {},
   "source": [
    "We can use the 20% sample of test data we partitioned earlier to test the accuracy of the trained model on this new, \"unseen\" data.\n",
    "\n",
    "An accuracy value of 1.0 indicates that the model was able to correctly predict 100% of the classes in the test data."
   ]
  },
  {
   "cell_type": "code",
   "execution_count": 16,
   "metadata": {},
   "outputs": [
    {
     "data": {
      "text/plain": [
       "'100.0 %'"
      ]
     },
     "execution_count": 16,
     "metadata": {},
     "output_type": "execute_result"
    }
   ],
   "source": [
    "predictions = model.predict(model_test[:, model_col_indices])\n",
    "str(round(accuracy_score(predictions, model_test[:, 0]), 2) *100) + ' %'"
   ]
  },
  {
   "cell_type": "markdown",
   "metadata": {},
   "source": [
    "### Determine Feature Importance\n",
    "\n",
    "Extract classifier estimates of the relative importance of each band/variable for training the classifier. Useful for potentially selecting a subset of input bands/variables for model training/classification (i.e. optimising feature space). Results will be presented in descending order with the most important features listed first.  Importance is reported as a relative fraction between 0 and 1."
   ]
  },
  {
   "cell_type": "code",
   "execution_count": 17,
   "metadata": {},
   "outputs": [
    {
     "data": {
      "image/png": "[encoded data removed]",
      "text/plain": [
       "<Figure size 1600x500 with 1 Axes>"
      ]
     },
     "metadata": {},
     "output_type": "display_data"
    }
   ],
   "source": [
    "# This shows the feature importance of the input features for predicting the class labels provided\n",
    "order = np.argsort(model.feature_importances_)\n",
    "\n",
    "plt.figure(figsize=(16,5))\n",
    "plt.bar(x=np.array(model_variables)[order],\n",
    "        height=model.feature_importances_[order])\n",
    "plt.gca().set_ylabel('Importance', labelpad=10)\n",
    "plt.gca().set_xlabel('Variable', labelpad=10);"
   ]
  },
  {
   "cell_type": "markdown",
   "metadata": {},
   "source": [
    "### Plot the Decision Tree\n",
    "\n",
    "This decision tree representation visualises the trained model. \n",
    "Here we can see that the model decides which landcover class to assign based on the value of the important variables in the plot above.\n",
    "\n",
    "The **gini** (or **entropy**) value shown in the tree represents the decrease in node impurity.\n",
    "This can also be understood as how heterogeneous the labels are (small values indicating better results). \n",
    "This metric is used by the decision tree to determine how to split the data into smaller groups.\n",
    "\n",
    "> This step can take a long time if using `feature_stats = None`\n",
    "\n",
    "If the graph is small double-click to enlarge it. Double-click again to return to initial size."
   ]
  },
  {
   "cell_type": "code",
   "execution_count": 18,
   "metadata": {},
   "outputs": [
    {
     "data": {
      "image/png": "[encoded data removed]",
      "text/plain": [
       "<IPython.core.display.Image object>"
      ]
     },
     "execution_count": 18,
     "metadata": {},
     "output_type": "execute_result"
    }
   ],
   "source": [
    "# Prepare a dictionary of class names\n",
    "class_names = {1: 'Urban',\n",
    "               0: 'Not Urban'}\n",
    "\n",
    "# Get list of unique classes in model\n",
    "class_codes = np.unique(model_train[:, 0])\n",
    "class_names_in_model = [class_names[k] for k in class_codes]\n",
    "\n",
    "# Plot decision tree\n",
    "dot_data = StringIO()\n",
    "tree.export_graphviz(model, \n",
    "                     out_file=dot_data, \n",
    "                     feature_names=model_variables, \n",
    "                     class_names=class_names_in_model,\n",
    "                     filled=True, \n",
    "                     rounded=True,\n",
    "                     special_characters=True)\n",
    "\n",
    "graph = pydotplus.graph_from_dot_data(dot_data.getvalue())\n",
    "graph = Image(graph.create_png())\n",
    "graph"
   ]
  },
  {
   "cell_type": "markdown",
   "metadata": {},
   "source": [
    "## Prediction\n",
    "\n",
    "Now that we have a trained model, we can load new data and use the `predict_xr` function to predict landcover classes. \n",
    "\n",
    "The trained model can technically be used to classify any dataset or product with the same bands as the data originally used to train the data.\n",
    "However, it is typically highly advisable to classify data from the same product that the data was originally trained on.\n",
    "\n",
    "> If you changed any of the parameters in the `Analysis Parameters` section from their default values, then these changes will need to be reflected in the code below. For the prediction section to work, it requires loading the same data as is loaded in the training data. The user needs to update this section manually.\n"
   ]
  },
  {
   "cell_type": "code",
   "execution_count": 19,
   "metadata": {},
   "outputs": [
    {
     "name": "stdout",
     "output_type": "stream",
     "text": [
      "<xarray.Dataset>\n",
      "Dimensions:      (time: 1, y: 2552, x: 1931)\n",
      "Coordinates:\n",
      "  * time         (time) datetime64[ns] 2019-07-02T11:59:59.999999\n",
      "  * y            (y) float64 5.242e+04 5.24e+04 5.24e+04 ... 2.692e+04 2.69e+04\n",
      "  * x            (x) float64 3.135e+06 3.135e+06 ... 3.155e+06 3.155e+06\n",
      "    spatial_ref  int32 6933\n",
      "Data variables:\n",
      "    blue         (time, y, x) float64 744.0 697.0 591.0 ... 354.0 391.0 375.0\n",
      "    green        (time, y, x) float64 1.081e+03 1.076e+03 947.0 ... 642.0 621.0\n",
      "    red          (time, y, x) float64 1.626e+03 1.522e+03 ... 499.0 468.0\n",
      "    nir          (time, y, x) float64 2.465e+03 2.709e+03 ... 3.252e+03\n",
      "    swir_1       (time, y, x) float64 2.944e+03 2.962e+03 ... 2.011e+03\n",
      "    swir_2       (time, y, x) float64 2.369e+03 2.252e+03 ... 1.109e+03\n",
      "    BCMAD        (time, y, x) float32 0.05101 0.04906 ... 0.04856 0.05198\n",
      "    EMAD         (time, y, x) float32 762.0 720.6 668.8 ... 668.1 749.7 782.8\n",
      "    SMAD         (time, y, x) float32 0.00134 0.001616 ... 0.00118 0.001544\n",
      "    NDVI         (time, y, x) float64 0.2051 0.2805 0.4662 ... 0.7392 0.7484\n",
      "    BUI          (time, y, x) float64 -0.1165 -0.2359 ... -0.9923 -0.9842\n",
      "    MNDWI        (time, y, x) float64 -0.4629 -0.4671 -0.52 ... -0.5109 -0.5281\n",
      "Attributes:\n",
      "    crs:           epsg:6933\n",
      "    grid_mapping:  spatial_ref\n"
     ]
    }
   ],
   "source": [
    "# Load the data based on query around the user supplied\n",
    "# lat/long and buffer \n",
    "q = {'x': (long-buffer, long+buffer),\n",
    "     'y': (lat+buffer, lat-buffer)}\n",
    "\n",
    "query.update(q)\n",
    "\n",
    "#calculate features\n",
    "data = feature_layers(query)\n",
    "data = data.where(data!=0, np.nan)\n",
    "\n",
    "print(data)"
   ]
  },
  {
   "cell_type": "code",
   "execution_count": 20,
   "metadata": {},
   "outputs": [
    {
     "name": "stdout",
     "output_type": "stream",
     "text": [
      "predicting...\n"
     ]
    }
   ],
   "source": [
    "# Predict landcover using the trained model\n",
    "predicted = predict_xr(model, data, clean=True)"
   ]
  },
  {
   "cell_type": "markdown",
   "metadata": {},
   "source": [
    "## Plotting"
   ]
  },
  {
   "cell_type": "markdown",
   "metadata": {},
   "source": [
    "To qualitatively evaluate how well the classification performed, we can plot the classifed/predicted data next to our input satellite imagery.\n",
    "\n",
    "> **Note:** The output below is unlikely to be optimal the first time the classification is run.\n",
    "The model training process is one of experimentation and assumption checking that occurs in an iterative cycle - Use the `Evaluate Classifier` steps below to help you improve the model"
   ]
  },
  {
   "cell_type": "code",
   "execution_count": null,
   "metadata": {},
   "outputs": [],
   "source": [
    "# Set up plot\n",
    "fig, axes = plt.subplots(1, 2, figsize=(14, 7))\n",
    "\n",
    "# Plot classified image\n",
    "predicted.Predictions.plot(ax=axes[0], \n",
    "               cmap='viridis', \n",
    "               add_labels=False, \n",
    "               add_colorbar=False)\n",
    "\n",
    "# Plot true colour image\n",
    "rgb(data, ax=axes[1], percentile_stretch=(0.01, 0.99))\n",
    "\n",
    "# Remove axis on right plot\n",
    "axes[1].get_yaxis().set_visible(False)\n",
    "\n",
    "# Add plot titles\n",
    "axes[0].set_title('Classified Image (yellow = Urban)')\n",
    "axes[1].set_title('True Colour Image of Kampala, Uganda')\n",
    "plt.tight_layout();"
   ]
  },
  {
   "cell_type": "markdown",
   "metadata": {},
   "source": [
    "## Exporting classification\n",
    "We can now export the predicted landcover out to a GeoTIFF `.tif` file. \n",
    "This file can be loaded into GIS software (e.g. QGIS, ArcMap) to be inspected more closely."
   ]
  },
  {
   "cell_type": "code",
   "execution_count": 22,
   "metadata": {},
   "outputs": [
    {
     "data": {
      "text/plain": [
       "PosixPath('predicted.tif')"
      ]
     },
     "execution_count": 22,
     "metadata": {},
     "output_type": "execute_result"
    }
   ],
   "source": [
    "write_cog(predicted.Predictions,\n",
    "          fname=\"predicted.tif\",\n",
    "          overwrite=True)"
   ]
  },
  {
   "cell_type": "markdown",
   "metadata": {},
   "source": [
    "---\n",
    "\n",
    "## Additional information\n",
    "\n",
    "**License:** The code in this notebook is licensed under the [Apache License, Version 2.0](https://www.apache.org/licenses/LICENSE-2.0). \n",
    "Digital Earth Africa data is licensed under the [Creative Commons by Attribution 4.0](https://creativecommons.org/licenses/by/4.0/) license.\n",
    "\n",
    "**Contact:** If you need assistance, please post a question on the [Open Data Cube Slack channel](http://slack.opendatacube.org/) or on the [GIS Stack Exchange](https://gis.stackexchange.com/questions/ask?tags=open-data-cube) using the `open-data-cube` tag (you can view previously asked questions [here](https://gis.stackexchange.com/questions/tagged/open-data-cube)).\n",
    "If you would like to report an issue with this notebook, you can file one on [Github](https://github.com/digitalearthafrica/deafrica-sandbox-notebooks).\n",
    "\n",
    "**Compatible datacube version:**"
   ]
  },
  {
   "cell_type": "code",
   "execution_count": 23,
   "metadata": {},
   "outputs": [
    {
     "name": "stdout",
     "output_type": "stream",
     "text": [
      "1.8.12\n"
     ]
    }
   ],
   "source": [
    "print(datacube.__version__)"
   ]
  },
  {
   "cell_type": "markdown",
   "metadata": {},
   "source": [
    "**Last Tested:**"
   ]
  },
  {
   "cell_type": "code",
   "execution_count": 24,
   "metadata": {
    "raw_mimetype": "text/restructuredtext"
   },
   "outputs": [
    {
     "data": {
      "text/plain": [
       "'2023-04-16'"
      ]
     },
     "execution_count": 24,
     "metadata": {},
     "output_type": "execute_result"
    }
   ],
   "source": [
    "from datetime import datetime\n",
    "datetime.today().strftime('%Y-%m-%d')"
   ]
  }
 ],
 "metadata": {
  "kernelspec": {
   "display_name": "Python 3 (ipykernel)",
   "language": "python",
   "name": "python3"
  },
  "language_info": {
   "codemirror_mode": {
    "name": "ipython",
    "version": 3
   },
   "file_extension": ".py",
   "mimetype": "text/x-python",
   "name": "python",
   "nbconvert_exporter": "python",
   "pygments_lexer": "ipython3",
   "version": "3.10.6"
  },
  "widgets": {
   "application/vnd.jupyter.widget-state+json": {
    "state": {
     "13d7aaaaf17f4d709fa47276064024be": {
      "model_module": "@jupyter-widgets/controls",
      "model_module_version": "1.5.0",
      "model_name": "HTMLModel",
      "state": {
       "layout": "IPY_MODEL_beef24e08a82461fa0b77fa81d959315",
       "style": "IPY_MODEL_2c5bbd0b35cc4e9ba4850d22c7864907",
       "value": "100%"
      }
     },
     "24f360cb16c14b84ae1520623eb28bdd": {
      "model_module": "@jupyter-widgets/base",
      "model_module_version": "1.2.0",
      "model_name": "LayoutModel",
      "state": {}
     },
     "2c5bbd0b35cc4e9ba4850d22c7864907": {
      "model_module": "@jupyter-widgets/controls",
      "model_module_version": "1.5.0",
      "model_name": "DescriptionStyleModel",
      "state": {
       "description_width": ""
      }
     },
     "42370cdda7f14a96aea993625dfec3b2": {
      "model_module": "@jupyter-widgets/controls",
      "model_module_version": "1.5.0",
      "model_name": "ProgressStyleModel",
      "state": {
       "description_width": ""
      }
     },
     "57a42ad37e164f7c83f8ae21d42ceb75": {
      "model_module": "@jupyter-widgets/base",
      "model_module_version": "1.2.0",
      "model_name": "LayoutModel",
      "state": {}
     },
     "5a4e557d3f154f36a6db1dd680aac57d": {
      "model_module": "@jupyter-widgets/controls",
      "model_module_version": "1.5.0",
      "model_name": "FloatProgressModel",
      "state": {
       "bar_style": "success",
       "layout": "IPY_MODEL_79e8b6ccec4041c48a396c89d73137db",
       "max": 250,
       "style": "IPY_MODEL_42370cdda7f14a96aea993625dfec3b2",
       "value": 250
      }
     },
     "5dac05c628b5489b9f3074a8ba12a977": {
      "model_module": "@jupyter-widgets/base",
      "model_module_version": "1.2.0",
      "model_name": "LayoutModel",
      "state": {}
     },
     "5f76cf8ae3d347869a1505e2ac12872f": {
      "model_module": "jupyter-leaflet",
      "model_module_version": "^0.14.0",
      "model_name": "LeafletTileLayerModel",
      "state": {
       "_model_module_version": "^0.14.0",
       "_view_module_version": "^0.14.0",
       "attribution": "Tiles &copy; Esri &mdash; Source: Esri, i-cubed, USDA, USGS, AEX, GeoEye, Getmapping, Aerogrid, IGN, IGP, UPR-EGP, and the GIS User Community",
       "base": true,
       "max_native_zoom": 18,
       "max_zoom": 20,
       "min_native_zoom": 0,
       "min_zoom": 1,
       "name": "Esri.WorldImagery",
       "options": [
        "attribution",
        "detect_retina",
        "max_native_zoom",
        "max_zoom",
        "min_native_zoom",
        "min_zoom",
        "no_wrap",
        "tile_size",
        "tms"
       ],
       "url": "http://server.arcgisonline.com/ArcGIS/rest/services/World_Imagery/MapServer/tile/{z}/{y}/{x}"
      }
     },
     "6a08b790fa344f03827652cb52a9f9e8": {
      "model_module": "@jupyter-widgets/controls",
      "model_module_version": "1.5.0",
      "model_name": "HBoxModel",
      "state": {
       "children": [
        "IPY_MODEL_13d7aaaaf17f4d709fa47276064024be",
        "IPY_MODEL_5a4e557d3f154f36a6db1dd680aac57d",
        "IPY_MODEL_9465d5f0462347e5a9a8e3ea373d8718"
       ],
       "layout": "IPY_MODEL_5dac05c628b5489b9f3074a8ba12a977"
      }
     },
     "6e4121e05f454a1a937e0eb5b910bcdb": {
      "model_module": "@jupyter-widgets/controls",
      "model_module_version": "1.5.0",
      "model_name": "DescriptionStyleModel",
      "state": {
       "description_width": ""
      }
     },
     "6f4f37ac315246bc9b882d303e8a7c9e": {
      "model_module": "@jupyter-widgets/base",
      "model_module_version": "1.2.0",
      "model_name": "LayoutModel",
      "state": {
       "height": "600px",
       "width": "800px"
      }
     },
     "72408a782c4d4ff8b1e1da65d0befdc1": {
      "model_module": "jupyter-leaflet",
      "model_module_version": "^0.14.0",
      "model_name": "LeafletMapStyleModel",
      "state": {
       "_model_module_version": "^0.14.0"
      }
     },
     "772916f066114e0b85737e9f16d93895": {
      "model_module": "jupyter-leaflet",
      "model_module_version": "^0.14.0",
      "model_name": "LeafletZoomControlModel",
      "state": {
       "_model_module_version": "^0.14.0",
       "_view_module_version": "^0.14.0",
       "options": [
        "position",
        "zoom_in_text",
        "zoom_in_title",
        "zoom_out_text",
        "zoom_out_title"
       ]
      }
     },
     "79e8b6ccec4041c48a396c89d73137db": {
      "model_module": "@jupyter-widgets/base",
      "model_module_version": "1.2.0",
      "model_name": "LayoutModel",
      "state": {}
     },
     "81f1bee26cc64919b6b45a3fa646a445": {
      "model_module": "@jupyter-widgets/controls",
      "model_module_version": "1.5.0",
      "model_name": "LabelModel",
      "state": {
       "layout": "IPY_MODEL_57a42ad37e164f7c83f8ae21d42ceb75",
       "style": "IPY_MODEL_6e4121e05f454a1a937e0eb5b910bcdb"
      }
     },
     "9465d5f0462347e5a9a8e3ea373d8718": {
      "model_module": "@jupyter-widgets/controls",
      "model_module_version": "1.5.0",
      "model_name": "HTMLModel",
      "state": {
       "layout": "IPY_MODEL_24f360cb16c14b84ae1520623eb28bdd",
       "style": "IPY_MODEL_ed1edc8c862a4b11b25a74a35f432d44",
       "value": " 250/250 [01:03&lt;00:00,  2.31it/s]"
      }
     },
     "98983107b4dd433685978dbab9b12918": {
      "model_module": "@jupyter-widgets/base",
      "model_module_version": "1.2.0",
      "model_name": "LayoutModel",
      "state": {}
     },
     "b8a11ff32caf46a18d9de9c5273b425c": {
      "model_module": "jupyter-leaflet",
      "model_module_version": "^0.14.0",
      "model_name": "LeafletMapModel",
      "state": {
       "_model_module_version": "^0.14.0",
       "_view_module_version": "^0.14.0",
       "bottom": 33120,
       "center": [
        -0.28806458596105367,
        31.347375440203393
       ],
       "controls": [
        "IPY_MODEL_772916f066114e0b85737e9f16d93895",
        "IPY_MODEL_d7127953b55b4af1bd0370aa7288925c"
       ],
       "default_style": "IPY_MODEL_c6fcd0a78d6e4ec78bb5fc47ea80cf1e",
       "dragging_style": "IPY_MODEL_dfe7e82ce2c342d98e03276721be5167",
       "east": 33.54675292968751,
       "fullscreen": false,
       "interpolation": "bilinear",
       "layers": [
        "IPY_MODEL_5f76cf8ae3d347869a1505e2ac12872f",
        "IPY_MODEL_bcffdae671b74b2b9b3761030893a53d"
       ],
       "layout": "IPY_MODEL_6f4f37ac315246bc9b882d303e8a7c9e",
       "left": 38075,
       "modisdate": "yesterday",
       "north": 1.3621763466641712,
       "options": [
        "bounce_at_zoom_limits",
        "box_zoom",
        "center",
        "close_popup_on_click",
        "double_click_zoom",
        "dragging",
        "fullscreen",
        "inertia",
        "inertia_deceleration",
        "inertia_max_speed",
        "interpolation",
        "keyboard",
        "keyboard_pan_offset",
        "keyboard_zoom_offset",
        "max_zoom",
        "min_zoom",
        "scroll_wheel_zoom",
        "tap",
        "tap_tolerance",
        "touch_zoom",
        "world_copy_jump",
        "zoom",
        "zoom_animation_threshold",
        "zoom_delta",
        "zoom_snap",
        "zoom_start"
       ],
       "right": 38875,
       "south": -1.9332268264771106,
       "style": "IPY_MODEL_72408a782c4d4ff8b1e1da65d0befdc1",
       "top": 32520,
       "west": 29.152221679687504,
       "window_url": "https://sandbox.dev.digitalearth.africa/user/victoria@kartoza.com/lab/tree/dev/deafrica-sandbox-notebooks/Real_world_examples/Machine_learning_with_ODC.ipynb",
       "zoom": 8
      }
     },
     "bcffdae671b74b2b9b3761030893a53d": {
      "model_module": "jupyter-leaflet",
      "model_module_version": "^0.14.0",
      "model_name": "LeafletGeoJSONModel",
      "state": {
       "_model_module": "jupyter-leaflet",
       "_model_module_version": "^0.14.0",
       "_view_count": null,
       "_view_module": "jupyter-leaflet",
       "_view_module_version": "^0.14.0",
       "base": false,
       "bottom": false,
       "data": {
        "bbox": [
         29.737264773288835,
         -1.3139604975077517,
         32.95748610711795,
         0.7378313255856443
        ],
        "features": [
         {
          "bbox": [
           32.63139089999999,
           0.25368699971637326,
           32.6315055,
           0.25379079971624247
          ],
          "geometry": {
           "coordinates": [
            [
             [
              32.63139089999999,
              0.2537285997163164
             ],
             [
              32.6314525,
              0.25379079971624247
             ],
             [
              32.6315055,
              0.25373839971628753
             ],
             [
              32.631472099999996,
              0.25370469971633514
             ],
             [
              32.6314612,
              0.2537153997163294
             ],
             [
              32.6314331,
              0.25368699971637326
             ],
             [
              32.63139089999999,
              0.2537285997163164
             ]
            ]
           ],
           "type": "Polygon"
          },
          "id": "0",
          "properties": {
           "class": 1,
           "style": {
            "color": "black",
            "fillColor": "#440154ff",
            "weight": 0.9
           }
          },
          "type": "Feature"
         },
         {
          "bbox": [
           32.630238799999994,
           0.2581052997114239,
           32.630274899999996,
           0.25813829971140223
          ],
          "geometry": {
           "coordinates": [
            [
             [
              32.630246099999994,
              0.25813829971140223
             ],
             [
              32.63025989999999,
              0.2581338997114139
             ],
             [
              32.63025729999999,
              0.25812589971141436
             ],
             [
              32.630274899999996,
              0.25812029971141415
             ],
             [
              32.63027019999999,
              0.2581052997114239
             ],
             [
              32.630238799999994,
              0.2581152997113936
             ],
             [
              32.630246099999994,
              0.25813829971140223
             ]
            ]
           ],
           "type": "Polygon"
          },
          "id": "1",
          "properties": {
           "class": 1,
           "style": {
            "color": "black",
            "fillColor": "#440154ff",
            "weight": 0.9
           }
          },
          "type": "Feature"
         },
         {
          "bbox": [
           32.6358289,
           0.2558230997139556,
           32.6358775,
           0.2558675997139266
          ],
          "geometry": {
           "coordinates": [
            [
             [
              32.6358289,
              0.2558566997139492
             ],
             [
              32.6358682,
              0.2558675997139266
             ],
             [
              32.6358775,
              0.25583389971395215
             ],
             [
              32.6358382,
              0.2558230997139556
             ],
             [
              32.6358289,
              0.2558566997139492
             ]
            ]
           ],
           "type": "Polygon"
          },
          "id": "2",
          "properties": {
           "class": 1,
           "style": {
            "color": "black",
            "fillColor": "#440154ff",
            "weight": 0.9
           }
          },
          "type": "Feature"
         },
         {
          "bbox": [
           32.6321991,
           0.2529630997171834,
           32.6322322,
           0.2530040997171412
          ],
          "geometry": {
           "coordinates": [
            [
             [
              32.6321991,
              0.2529865997171318
             ],
             [
              32.6322186,
              0.2530040997171412
             ],
             [
              32.6322322,
              0.2529889997171648
             ],
             [
              32.63222449999999,
              0.2529821997171612
             ],
             [
              32.6322321,
              0.25297369971717887
             ],
             [
              32.63222019999999,
              0.2529630997171834
             ],
             [
              32.6321991,
              0.2529865997171318
             ]
            ]
           ],
           "type": "Polygon"
          },
          "id": "3",
          "properties": {
           "class": 1,
           "style": {
            "color": "black",
            "fillColor": "#440154ff",
            "weight": 0.9
           }
          },
          "type": "Feature"
         },
         {
          "bbox": [
           32.634354900000005,
           0.2541879997158293,
           32.6344233,
           0.2542634997157344
          ],
          "geometry": {
           "coordinates": [
            [
             [
              32.634354900000005,
              0.2542124997157663
             ],
             [
              32.6343933,
              0.2542634997157344
             ],
             [
              32.6344233,
              0.25424089971574104
             ],
             [
              32.6344059,
              0.254217799715775
             ],
             [
              32.63440839999999,
              0.25421589971579467
             ],
             [
              32.634387399999994,
              0.2541879997158293
             ],
             [
              32.634354900000005,
              0.2542124997157663
             ]
            ]
           ],
           "type": "Polygon"
          },
          "id": "4",
          "properties": {
           "class": 1,
           "style": {
            "color": "black",
            "fillColor": "#440154ff",
            "weight": 0.9
           }
          },
          "type": "Feature"
         },
         {
          "bbox": [
           32.6367672,
           0.2568859997127944,
           32.6368292,
           0.2569490997127167
          ],
          "geometry": {
           "coordinates": [
            [
             [
              32.6367779,
              0.25694629971272953
             ],
             [
              32.6367989,
              0.2569490997127167
             ],
             [
              32.636802,
              0.25692519971276184
             ],
             [
              32.63682659999999,
              0.25692839971275194
             ],
             [
              32.6368292,
              0.25690859971278335
             ],
             [
              32.6368067,
              0.25690569971277805
             ],
             [
              32.6368072,
              0.2569014997127675
             ],
             [
              32.6367967,
              0.2569001997127523
             ],
             [
              32.6367985,
              0.25688679971280765
             ],
             [
              32.6367859,
              0.2568859997127944
             ],
             [
              32.6367687,
              0.25689859971279233
             ],
             [
              32.6367672,
              0.25690979971274625
             ],
             [
              32.6367798,
              0.2569113997127519
             ],
             [
              32.6367782,
              0.2569241997127764
             ],
             [
              32.6367807,
              0.2569245997127471
             ],
             [
              32.6367779,
              0.25694629971272953
             ]
            ]
           ],
           "type": "Polygon"
          },
          "id": "5",
          "properties": {
           "class": 1,
           "style": {
            "color": "black",
            "fillColor": "#440154ff",
            "weight": 0.9
           }
          },
          "type": "Feature"
         },
         {
          "bbox": [
           32.6315236,
           0.253928499716095,
           32.63155819999999,
           0.2539547997160489
          ],
          "geometry": {
           "coordinates": [
            [
             [
              32.63153979999999,
              0.25393279971610017
             ],
             [
              32.6315236,
              0.25394249971606553
             ],
             [
              32.6315309,
              0.2539547997160489
             ],
             [
              32.6315477,
              0.25394479971609396
             ],
             [
              32.6315467,
              0.25394319971606555
             ],
             [
              32.63155819999999,
              0.25393639971609955
             ],
             [
              32.6315535,
              0.253928499716095
             ],
             [
              32.6315415,
              0.25393559971610447
             ],
             [
              32.63153979999999,
              0.25393279971610017
             ]
            ]
           ],
           "type": "Polygon"
          },
          "id": "6",
          "properties": {
           "class": 1,
           "style": {
            "color": "black",
            "fillColor": "#440154ff",
            "weight": 0.9
           }
          },
          "type": "Feature"
         },
         {
          "bbox": [
           32.635911199999995,
           0.25506949971481374,
           32.6359394,
           0.25510609971481
          ],
          "geometry": {
           "coordinates": [
            [
             [
              32.635911199999995,
              0.2551042997147843
             ],
             [
              32.6359344,
              0.25510599971477277
             ],
             [
              32.63593689999999,
              0.25510609971481
             ],
             [
              32.6359394,
              0.2550712997148449
             ],
             [
              32.6359137,
              0.25506949971481374
             ],
             [
              32.635911199999995,
              0.2551042997147843
             ]
            ]
           ],
           "type": "Polygon"
          },
          "id": "7",
          "properties": {
           "class": 1,
           "style": {
            "color": "black",
            "fillColor": "#440154ff",
            "weight": 0.9
           }
          },
          "type": "Feature"
         },
         {
          "bbox": [
           32.6319633,
           0.25548869971436816,
           32.632067899999996,
           0.25559769971423923
          ],
          "geometry": {
           "coordinates": [
            [
             [
              32.6319633,
              0.25552729971431143
             ],
             [
              32.6320204,
              0.25559769971423923
             ],
             [
              32.632067899999996,
              0.2555590997142791
             ],
             [
              32.6320109,
              0.25548869971436816
             ],
             [
              32.6319633,
              0.25552729971431143
             ]
            ]
           ],
           "type": "Polygon"
          },
          "id": "8",
          "properties": {
           "class": 1,
           "style": {
            "color": "black",
            "fillColor": "#440154ff",
            "weight": 0.9
           }
          },
          "type": "Feature"
         },
         {
          "bbox": [
           32.63418119999999,
           0.25641129971332227,
           32.6342828,
           0.25650829971319755
          ],
          "geometry": {
           "coordinates": [
            [
             [
              32.63418119999999,
              0.2564395997132917
             ],
             [
              32.6342014,
              0.2564880997132256
             ],
             [
              32.634231199999995,
              0.25647569971325596
             ],
             [
              32.6342448,
              0.25650829971319755
             ],
             [
              32.6342828,
              0.2564924997132327
             ],
             [
              32.634249,
              0.25641129971332227
             ],
             [
              32.63418119999999,
              0.2564395997132917
             ]
            ]
           ],
           "type": "Polygon"
          },
          "id": "9",
          "properties": {
           "class": 1,
           "style": {
            "color": "black",
            "fillColor": "#440154ff",
            "weight": 0.9
           }
          },
          "type": "Feature"
         },
         {
          "bbox": [
           32.63399309999999,
           0.2608724997083572,
           32.63404669999999,
           0.26093839970826604
          ],
          "geometry": {
           "coordinates": [
            [
             [
              32.63399309999999,
              0.26092789970827174
             ],
             [
              32.63402349999999,
              0.26093839970826604
             ],
             [
              32.63404669999999,
              0.26088819970831045
             ],
             [
              32.63401,
              0.2608724997083572
             ],
             [
              32.63399309999999,
              0.26092789970827174
             ]
            ]
           ],
           "type": "Polygon"
          },
          "id": "10",
          "properties": {
           "class": 1,
           "style": {
            "color": "black",
            "fillColor": "#440154ff",
            "weight": 0.9
           }
          },
          "type": "Feature"
         },
         {
          "bbox": [
           32.6323631,
           0.2528975997172624,
           32.6324695,
           0.2529859997171393
          ],
          "geometry": {
           "coordinates": [
            [
             [
              32.632390099999995,
              0.2529859997171393
             ],
             [
              32.6324053,
              0.25297269971717185
             ],
             [
              32.6324113,
              0.2529794997171588
             ],
             [
              32.6324695,
              0.2529286997172273
             ],
             [
              32.6324423,
              0.2528975997172624
             ],
             [
              32.63242929999999,
              0.252908999717228
             ],
             [
              32.632419999999996,
              0.25289829971724076
             ],
             [
              32.6323838,
              0.2529299997172189
             ],
             [
              32.63238729999999,
              0.2529339997171997
             ],
             [
              32.6323631,
              0.25295509971719576
             ],
             [
              32.632390099999995,
              0.2529859997171393
             ]
            ]
           ],
           "type": "Polygon"
          },
          "id": "11",
          "properties": {
           "class": 1,
           "style": {
            "color": "black",
            "fillColor": "#440154ff",
            "weight": 0.9
           }
          },
          "type": "Feature"
         },
         {
          "bbox": [
           32.6321511,
           0.25559859971423154,
           32.6322805,
           0.25570939971410833
          ],
          "geometry": {
           "coordinates": [
            [
             [
              32.6321511,
              0.2556307997141876
             ],
             [
              32.63225649999999,
              0.25570939971410833
             ],
             [
              32.6322805,
              0.25567719971415603
             ],
             [
              32.6321751,
              0.25559859971423154
             ],
             [
              32.6321511,
              0.2556307997141876
             ]
            ]
           ],
           "type": "Polygon"
          },
          "id": "12",
          "properties": {
           "class": 1,
           "style": {
            "color": "black",
            "fillColor": "#440154ff",
            "weight": 0.9
           }
          },
          "type": "Feature"
         },
         {
          "bbox": [
           32.6358563,
           0.25621709971352574,
           32.63588339999999,
           0.2562443997134882
          ],
          "geometry": {
           "coordinates": [
            [
             [
              32.6358563,
              0.25623619971352596
             ],
             [
              32.6358751,
              0.2562443997134882
             ],
             [
              32.63588339999999,
              0.2562252997135308
             ],
             [
              32.63586459999999,
              0.25621709971352574
             ],
             [
              32.6358563,
              0.25623619971352596
             ]
            ]
           ],
           "type": "Polygon"
          },
          "id": "13",
          "properties": {
           "class": 1,
           "style": {
            "color": "black",
            "fillColor": "#440154ff",
            "weight": 0.9
           }
          },
          "type": "Feature"
         },
         {
          "bbox": [
           32.6360296,
           0.2550721997148233,
           32.6360635,
           0.25514979971473456
          ],
          "geometry": {
           "coordinates": [
            [
             [
              32.636052299999996,
              0.25514979971473456
             ],
             [
              32.636053,
              0.25511519971477575
             ],
             [
              32.63605919999999,
              0.2551152997147948
             ],
             [
              32.63605939999999,
              0.25510319971476775
             ],
             [
              32.63606299999999,
              0.25510319971476775
             ],
             [
              32.6360635,
              0.2550731997148159
             ],
             [
              32.6360318,
              0.2550721997148233
             ],
             [
              32.6360296,
              0.2551492997147307
             ],
             [
              32.636052299999996,
              0.25514979971473456
             ]
            ]
           ],
           "type": "Polygon"
          },
          "id": "14",
          "properties": {
           "class": 1,
           "style": {
            "color": "black",
            "fillColor": "#440154ff",
            "weight": 0.9
           }
          },
          "type": "Feature"
         },
         {
          "bbox": [
           32.6332856,
           0.2524444997177331,
           32.633328,
           0.2524860997177187
          ],
          "geometry": {
           "coordinates": [
            [
             [
              32.6332856,
              0.25246749971774635
             ],
             [
              32.6333021,
              0.2524860997177187
             ],
             [
              32.633328,
              0.25246309971775904
             ],
             [
              32.63331149999999,
              0.2524444997177331
             ],
             [
              32.6332856,
              0.25246749971774635
             ]
            ]
           ],
           "type": "Polygon"
          },
          "id": "15",
          "properties": {
           "class": 1,
           "style": {
            "color": "black",
            "fillColor": "#440154ff",
            "weight": 0.9
           }
          },
          "type": "Feature"
         },
         {
          "bbox": [
           32.635199,
           0.25993479970938543,
           32.63529389999999,
           0.26001229970928197
          ],
          "geometry": {
           "coordinates": [
            [
             [
              32.635199,
              0.25996389970935124
             ],
             [
              32.63527549999999,
              0.26001229970928197
             ],
             [
              32.63529389999999,
              0.2599831997093311
             ],
             [
              32.6352174,
              0.25993479970938543
             ],
             [
              32.635199,
              0.25996389970935124
             ]
            ]
           ],
           "type": "Polygon"
          },
          "id": "16",
          "properties": {
           "class": 1,
           "style": {
            "color": "black",
            "fillColor": "#440154ff",
            "weight": 0.9
           }
          },
          "type": "Feature"
         },
         {
          "bbox": [
           32.6349292,
           0.25410689971590766,
           32.635022,
           0.2542135997157856
          ],
          "geometry": {
           "coordinates": [
            [
             [
              32.6349848,
              0.2542135997157856
             ],
             [
              32.635022,
              0.25418579971579713
             ],
             [
              32.6349642,
              0.25410689971590766
             ],
             [
              32.6349292,
              0.2541332997158858
             ],
             [
              32.6349848,
              0.2542135997157856
             ]
            ]
           ],
           "type": "Polygon"
          },
          "id": "17",
          "properties": {
           "class": 1,
           "style": {
            "color": "black",
            "fillColor": "#440154ff",
            "weight": 0.9
           }
          },
          "type": "Feature"
         },
         {
          "bbox": [
           32.6326454,
           0.2585397997109574,
           32.63270239999999,
           0.258602599710864
          ],
          "geometry": {
           "coordinates": [
            [
             [
              32.6326643,
              0.2585985997108743
             ],
             [
              32.632669,
              0.258602599710864
             ],
             [
              32.63270239999999,
              0.2585613997109012
             ],
             [
              32.6326769,
              0.2585397997109574
             ],
             [
              32.6326454,
              0.25858209971090446
             ],
             [
              32.6326643,
              0.2585985997108743
             ]
            ]
           ],
           "type": "Polygon"
          },
          "id": "18",
          "properties": {
           "class": 1,
           "style": {
            "color": "black",
            "fillColor": "#440154ff",
            "weight": 0.9
           }
          },
          "type": "Feature"
         },
         {
          "bbox": [
           32.6356983,
           0.25568329971413184,
           32.635759199999995,
           0.2557491997140777
          ],
          "geometry": {
           "coordinates": [
            [
             [
              32.6356983,
              0.2557063997140984
             ],
             [
              32.6357248,
              0.2557491997140777
             ],
             [
              32.635759199999995,
              0.2557244997140752
             ],
             [
              32.6357318,
              0.25568329971413184
             ],
             [
              32.6356983,
              0.2557063997140984
             ]
            ]
           ],
           "type": "Polygon"
          },
          "id": "19",
          "properties": {
           "class": 1,
           "style": {
            "color": "black",
            "fillColor": "#440154ff",
            "weight": 0.9
           }
          },
          "type": "Feature"
         },
         {
          "bbox": [
           32.6317328,
           0.2543227997156477,
           32.6318314,
           0.25442989971552094
          ],
          "geometry": {
           "coordinates": [
            [
             [
              32.6317328,
              0.2543730997156022
             ],
             [
              32.63178539999999,
              0.25442989971552094
             ],
             [
              32.6318314,
              0.25438729971559554
             ],
             [
              32.6317715,
              0.2543227997156477
             ],
             [
              32.631746799999995,
              0.2543456997156228
             ],
             [
              32.631754,
              0.25435349971561155
             ],
             [
              32.6317328,
              0.2543730997156022
             ]
            ]
           ],
           "type": "Polygon"
          },
          "id": "20",
          "properties": {
           "class": 1,
           "style": {
            "color": "black",
            "fillColor": "#440154ff",
            "weight": 0.9
           }
          },
          "type": "Feature"
         },
         {
          "bbox": [
           32.63250699999999,
           0.2576723997119221,
           32.632564599999995,
           0.25773589971183675
          ],
          "geometry": {
           "coordinates": [
            [
             [
              32.63254709999999,
              0.25773589971183675
             ],
             [
              32.632564599999995,
              0.25769259971189057
             ],
             [
              32.6325146,
              0.2576723997119221
             ],
             [
              32.63250699999999,
              0.2576910997119073
             ],
             [
              32.6325208,
              0.2576966997118834
             ],
             [
              32.6325109,
              0.257721299711853
             ],
             [
              32.63254709999999,
              0.25773589971183675
             ]
            ]
           ],
           "type": "Polygon"
          },
          "id": "21",
          "properties": {
           "class": 1,
           "style": {
            "color": "black",
            "fillColor": "#440154ff",
            "weight": 0.9
           }
          },
          "type": "Feature"
         },
         {
          "bbox": [
           32.6355307,
           0.254334299715647,
           32.6355913,
           0.2544337997155481
          ],
          "geometry": {
           "coordinates": [
            [
             [
              32.6355307,
              0.2544235997155423
             ],
             [
              32.6355345,
              0.2544247997155283
             ],
             [
              32.6355631,
              0.2544337997155481
             ],
             [
              32.63556899999999,
              0.2544152997155583
             ],
             [
              32.6355913,
              0.25434459971564327
             ],
             [
              32.63555889999999,
              0.254334299715647
             ],
             [
              32.6355307,
              0.2544235997155423
             ]
            ]
           ],
           "type": "Polygon"
          },
          "id": "22",
          "properties": {
           "class": 1,
           "style": {
            "color": "black",
            "fillColor": "#440154ff",
            "weight": 0.9
           }
          },
          "type": "Feature"
         },
         {
          "bbox": [
           32.63724969999999,
           0.25673439971295303,
           32.63729289999999,
           0.25683769971283876
          ],
          "geometry": {
           "coordinates": [
            [
             [
              32.63724969999999,
              0.2568330997128436
             ],
             [
              32.6372759,
              0.25683769971283876
             ],
             [
              32.6372849,
              0.2567868997128837
             ],
             [
              32.63729289999999,
              0.256740099712973
             ],
             [
              32.6372619,
              0.25673439971295303
             ],
             [
              32.6372535,
              0.2567885997128849
             ],
             [
              32.6372575,
              0.256789299712889
             ],
             [
              32.63724969999999,
              0.2568330997128436
             ]
            ]
           ],
           "type": "Polygon"
          },
          "id": "23",
          "properties": {
           "class": 1,
           "style": {
            "color": "black",
            "fillColor": "#440154ff",
            "weight": 0.9
           }
          },
          "type": "Feature"
         },
         {
          "bbox": [
           32.629443,
           0.25769159971188843,
           32.6294784,
           0.25773109971186187
          ],
          "geometry": {
           "coordinates": [
            [
             [
              32.629443,
              0.2577018997118872
             ],
             [
              32.6294642,
              0.25773109971186187
             ],
             [
              32.6294784,
              0.25772089971186224
             ],
             [
              32.62945719999999,
              0.25769159971188843
             ],
             [
              32.629443,
              0.2577018997118872
             ]
            ]
           ],
           "type": "Polygon"
          },
          "id": "24",
          "properties": {
           "class": 1,
           "style": {
            "color": "black",
            "fillColor": "#440154ff",
            "weight": 0.9
           }
          },
          "type": "Feature"
         },
         {
          "bbox": [
           32.6345461,
           0.2559592997138092,
           32.63467,
           0.25610579971368125
          ],
          "geometry": {
           "coordinates": [
            [
             [
              32.6345999,
              0.25610579971368125
             ],
             [
              32.63467,
              0.2560692997137185
             ],
             [
              32.634659199999994,
              0.2560484997137363
             ],
             [
              32.6346486,
              0.2560539997137195
             ],
             [
              32.63462059999999,
              0.2560001997137786
             ],
             [
              32.6346322,
              0.25599419971380033
             ],
             [
              32.6346183,
              0.2559672997138105
             ],
             [
              32.6345865,
              0.2559837997137957
             ],
             [
              32.634577699999994,
              0.2559667997138295
             ],
             [
              32.6345702,
              0.2559706997138151
             ],
             [
              32.6345642,
              0.2559592997138092
             ],
             [
              32.6345461,
              0.25596869971382513
             ],
             [
              32.63459749999999,
              0.2560676997137048
             ],
             [
              32.6345838,
              0.256074799713675
             ],
             [
              32.6345999,
              0.25610579971368125
             ]
            ]
           ],
           "type": "Polygon"
          },
          "id": "25",
          "properties": {
           "class": 1,
           "style": {
            "color": "black",
            "fillColor": "#440154ff",
            "weight": 0.9
           }
          },
          "type": "Feature"
         },
         {
          "bbox": [
           32.6322617,
           0.2531878997169361,
           32.632401,
           0.25332889971675093
          ],
          "geometry": {
           "coordinates": [
            [
             [
              32.6322617,
              0.25324259971688035
             ],
             [
              32.6323075,
              0.25330219971678736
             ],
             [
              32.6322982,
              0.25330939971680055
             ],
             [
              32.6323131,
              0.25332889971675093
             ],
             [
              32.6323225,
              0.25332169971678486
             ],
             [
              32.6323242,
              0.25332389971677227
             ],
             [
              32.632401,
              0.2532648997168597
             ],
             [
              32.632345099999995,
              0.253192099716931
             ],
             [
              32.6323395,
              0.2531963997169034
             ],
             [
              32.632333,
              0.2531878997169361
             ],
             [
              32.6322617,
              0.25324259971688035
             ]
            ]
           ],
           "type": "Polygon"
          },
          "id": "26",
          "properties": {
           "class": 1,
           "style": {
            "color": "black",
            "fillColor": "#440154ff",
            "weight": 0.9
           }
          },
          "type": "Feature"
         },
         {
          "bbox": [
           32.6347643,
           0.2576217997119569,
           32.63482239999999,
           0.25767279971192314
          ],
          "geometry": {
           "coordinates": [
            [
             [
              32.6347643,
              0.2576488997119254
             ],
             [
              32.6347965,
              0.25767279971192314
             ],
             [
              32.63482239999999,
              0.25763799971196827
             ],
             [
              32.6348017,
              0.25762259971197776
             ],
             [
              32.634795999999994,
              0.257630299711949
             ],
             [
              32.634784499999995,
              0.2576217997119569
             ],
             [
              32.6347643,
              0.2576488997119254
             ]
            ]
           ],
           "type": "Polygon"
          },
          "id": "27",
          "properties": {
           "class": 1,
           "style": {
            "color": "black",
            "fillColor": "#440154ff",
            "weight": 0.9
           }
          },
          "type": "Feature"
         },
         {
          "bbox": [
           32.6294747,
           0.25598999971378283,
           32.62958909999999,
           0.2561063997136562
          ],
          "geometry": {
           "coordinates": [
            [
             [
              32.62958909999999,
              0.25603089971374565
             ],
             [
              32.6295422,
              0.25598999971378283
             ],
             [
              32.6294747,
              0.25606469971371365
             ],
             [
              32.629520799999995,
              0.2561063997136562
             ],
             [
              32.62958909999999,
              0.25603089971374565
             ]
            ]
           ],
           "type": "Polygon"
          },
          "id": "28",
          "properties": {
           "class": 1,
           "style": {
            "color": "black",
            "fillColor": "#440154ff",
            "weight": 0.9
           }
          },
          "type": "Feature"
         },
         {
          "bbox": [
           32.631613826544694,
           0.2595477997098066,
           32.6317449,
           0.25966034253167725
          ],
          "geometry": {
           "coordinates": [
            [
             [
              32.63171414416851,
              0.25966034253167725
             ],
             [
              32.6317449,
              0.2595808997097573
             ],
             [
              32.631659299999995,
              0.2595477997098066
             ],
             [
              32.6316457,
              0.2595826997097944
             ],
             [
              32.6316293,
              0.25957639970980184
             ],
             [
              32.631613826544694,
              0.2596162625521716
             ],
             [
              32.631672483691894,
              0.2596293947490529
             ],
             [
              32.63171414416851,
              0.25966034253167725
             ]
            ]
           ],
           "type": "Polygon"
          },
          "id": "29",
          "properties": {
           "class": 1,
           "style": {
            "color": "black",
            "fillColor": "#440154ff",
            "weight": 0.9
           }
          },
          "type": "Feature"
         },
         {
          "bbox": [
           32.633471799999995,
           0.2561649997135958,
           32.6335331,
           0.2562331997135325
          ],
          "geometry": {
           "coordinates": [
            [
             [
              32.633471799999995,
              0.2562147997135559
             ],
             [
              32.63350749999999,
              0.2562331997135325
             ],
             [
              32.6335331,
              0.2561833997135903
             ],
             [
              32.633497399999996,
              0.2561649997135958
             ],
             [
              32.6334747,
              0.25620919971355494
             ],
             [
              32.633471799999995,
              0.2562147997135559
             ]
            ]
           ],
           "type": "Polygon"
          },
          "id": "30",
          "properties": {
           "class": 1,
           "style": {
            "color": "black",
            "fillColor": "#440154ff",
            "weight": 0.9
           }
          },
          "type": "Feature"
         },
         {
          "bbox": [
           32.6371235,
           0.25743629971220017,
           32.6371353,
           0.25746419971215784
          ],
          "geometry": {
           "coordinates": [
            [
             [
              32.6371315,
              0.25746419971215784
             ],
             [
              32.6371353,
              0.2574372997121584
             ],
             [
              32.6371264,
              0.25743629971220017
             ],
             [
              32.6371239,
              0.2574591997121642
             ],
             [
              32.6371235,
              0.2574631997121407
             ],
             [
              32.6371315,
              0.25746419971215784
             ]
            ]
           ],
           "type": "Polygon"
          },
          "id": "31",
          "properties": {
           "class": 1,
           "style": {
            "color": "black",
            "fillColor": "#440154ff",
            "weight": 0.9
           }
          },
          "type": "Feature"
         },
         {
          "bbox": [
           32.6343478,
           0.2534313997166671,
           32.634454399999996,
           0.25353779971652296
          ],
          "geometry": {
           "coordinates": [
            [
             [
              32.6344095,
              0.2535155997165673
             ],
             [
              32.634454399999996,
              0.25347999971658286
             ],
             [
              32.6344159,
              0.2534313997166671
             ],
             [
              32.634371,
              0.25346699971662423
             ],
             [
              32.6343777,
              0.2534754997165878
             ],
             [
              32.6343478,
              0.2534991997165593
             ],
             [
              32.6343785,
              0.25353779971652296
             ],
             [
              32.63440839999999,
              0.25351409971657163
             ],
             [
              32.6344095,
              0.2535155997165673
             ]
            ]
           ],
           "type": "Polygon"
          },
          "id": "32",
          "properties": {
           "class": 1,
           "style": {
            "color": "black",
            "fillColor": "#440154ff",
            "weight": 0.9
           }
          },
          "type": "Feature"
         },
         {
          "bbox": [
           32.6298175,
           0.2542792997156981,
           32.629844199999994,
           0.2543082997156805
          ],
          "geometry": {
           "coordinates": [
            [
             [
              32.6298323,
              0.2543082997156805
             ],
             [
              32.629844199999994,
              0.25428779971568993
             ],
             [
              32.6298294,
              0.2542792997156981
             ],
             [
              32.6298175,
              0.2542996997156892
             ],
             [
              32.6298323,
              0.2543082997156805
             ]
            ]
           ],
           "type": "Polygon"
          },
          "id": "33",
          "properties": {
           "class": 1,
           "style": {
            "color": "black",
            "fillColor": "#440154ff",
            "weight": 0.9
           }
          },
          "type": "Feature"
         },
         {
          "bbox": [
           32.6342938,
           0.25594929971383273,
           32.63440649999999,
           0.2560339997137225
          ],
          "geometry": {
           "coordinates": [
            [
             [
              32.6342938,
              0.25599269971377997
             ],
             [
              32.634357,
              0.2560339997137225
             ],
             [
              32.6343686,
              0.2560161997137453
             ],
             [
              32.6343918,
              0.25603139971373473
             ],
             [
              32.63440649999999,
              0.2560088997137738
             ],
             [
              32.634383,
              0.25599349971377616
             ],
             [
              32.634385,
              0.25599039971378895
             ],
             [
              32.6343221,
              0.25594929971383273
             ],
             [
              32.6342938,
              0.25599269971377997
             ]
            ]
           ],
           "type": "Polygon"
          },
          "id": "34",
          "properties": {
           "class": 1,
           "style": {
            "color": "black",
            "fillColor": "#440154ff",
            "weight": 0.9
           }
          },
          "type": "Feature"
         },
         {
          "bbox": [
           32.6320155,
           0.253234099716882,
           32.6320781,
           0.25329949971682153
          ],
          "geometry": {
           "coordinates": [
            [
             [
              32.6320155,
              0.2532767997168099
             ],
             [
              32.632043499999995,
              0.25329949971682153
             ],
             [
              32.6320781,
              0.25325669971685416
             ],
             [
              32.632050199999995,
              0.253234099716882
             ],
             [
              32.6320155,
              0.2532767997168099
             ]
            ]
           ],
           "type": "Polygon"
          },
          "id": "35",
          "properties": {
           "class": 1,
           "style": {
            "color": "black",
            "fillColor": "#440154ff",
            "weight": 0.9
           }
          },
          "type": "Feature"
         },
         {
          "bbox": [
           32.6341286,
           0.2547392997151999,
           32.634154699999996,
           0.2547759997151448
          ],
          "geometry": {
           "coordinates": [
            [
             [
              32.6341286,
              0.2547491997151681
             ],
             [
              32.6341388,
              0.25475539971515393
             ],
             [
              32.63413,
              0.25476999971516157
             ],
             [
              32.6341398,
              0.2547759997151448
             ],
             [
              32.634154699999996,
              0.2547513997151698
             ],
             [
              32.6341347,
              0.2547392997151999
             ],
             [
              32.6341286,
              0.2547491997151681
             ]
            ]
           ],
           "type": "Polygon"
          },
          "id": "36",
          "properties": {
           "class": 1,
           "style": {
            "color": "black",
            "fillColor": "#440154ff",
            "weight": 0.9
           }
          },
          "type": "Feature"
         },
         {
          "bbox": [
           32.6321475,
           0.25548549971436535,
           32.6321922,
           0.2555310997143099
          ],
          "geometry": {
           "coordinates": [
            [
             [
              32.6321475,
              0.25551299971431185
             ],
             [
              32.63216669999999,
              0.25552869971431763
             ],
             [
              32.6321697,
              0.2555310997143099
             ],
             [
              32.6321922,
              0.2555035997143531
             ],
             [
              32.63217,
              0.25548549971436535
             ],
             [
              32.6321475,
              0.25551299971431185
             ]
            ]
           ],
           "type": "Polygon"
          },
          "id": "37",
          "properties": {
           "class": 1,
           "style": {
            "color": "black",
            "fillColor": "#440154ff",
            "weight": 0.9
           }
          },
          "type": "Feature"
         },
         {
          "bbox": [
           32.6370956,
           0.25155949971875446,
           32.637225699999995,
           0.25168789971862165
          ],
          "geometry": {
           "coordinates": [
            [
             [
              32.6371919,
              0.25168789971862165
             ],
             [
              32.6372222,
              0.2516513997186371
             ],
             [
              32.6372001,
              0.2516330997186502
             ],
             [
              32.637225699999995,
              0.25160219971869946
             ],
             [
              32.6371742,
              0.25155949971875446
             ],
             [
              32.6371503,
              0.25158829971870594
             ],
             [
              32.63712759999999,
              0.25156939971874775
             ],
             [
              32.6370956,
              0.2516079997186888
             ],
             [
              32.6371919,
              0.25168789971862165
             ]
            ]
           ],
           "type": "Polygon"
          },
          "id": "38",
          "properties": {
           "class": 1,
           "style": {
            "color": "black",
            "fillColor": "#440154ff",
            "weight": 0.9
           }
          },
          "type": "Feature"
         },
         {
          "bbox": [
           32.63388919999999,
           0.2539453997160738,
           32.633934499999995,
           0.2539911997160358
          ],
          "geometry": {
           "coordinates": [
            [
             [
              32.63388919999999,
              0.25397349971606936
             ],
             [
              32.63390799999999,
              0.2539911997160358
             ],
             [
              32.633934499999995,
              0.2539630997160698
             ],
             [
              32.6339157,
              0.2539453997160738
             ],
             [
              32.63388919999999,
              0.25397349971606936
             ]
            ]
           ],
           "type": "Polygon"
          },
          "id": "39",
          "properties": {
           "class": 1,
           "style": {
            "color": "black",
            "fillColor": "#440154ff",
            "weight": 0.9
           }
          },
          "type": "Feature"
         },
         {
          "bbox": [
           32.63285559999999,
           0.25237149971784034,
           32.6328782,
           0.2523937997177983
          ],
          "geometry": {
           "coordinates": [
            [
             [
              32.63285559999999,
              0.25238379971783476
             ],
             [
              32.63286909999999,
              0.2523937997177983
             ],
             [
              32.6328782,
              0.25238149971783747
             ],
             [
              32.6328647,
              0.25237149971784034
             ],
             [
              32.63285559999999,
              0.25238379971783476
             ]
            ]
           ],
           "type": "Polygon"
          },
          "id": "40",
          "properties": {
           "class": 1,
           "style": {
            "color": "black",
            "fillColor": "#440154ff",
            "weight": 0.9
           }
          },
          "type": "Feature"
         },
         {
          "bbox": [
           32.6326326,
           0.256250099713497,
           32.632667399999995,
           0.2562888997134686
          ],
          "geometry": {
           "coordinates": [
            [
             [
              32.6326373,
              0.2562888997134686
             ],
             [
              32.632667399999995,
              0.25628489971345636
             ],
             [
              32.63266279999999,
              0.256250099713497
             ],
             [
              32.6326326,
              0.25625409971351887
             ],
             [
              32.6326373,
              0.2562888997134686
             ]
            ]
           ],
           "type": "Polygon"
          },
          "id": "41",
          "properties": {
           "class": 1,
           "style": {
            "color": "black",
            "fillColor": "#440154ff",
            "weight": 0.9
           }
          },
          "type": "Feature"
         },
         {
          "bbox": [
           32.6370353,
           0.2548252997151076,
           32.6371137,
           0.25488279971504196
          ],
          "geometry": {
           "coordinates": [
            [
             [
              32.6370353,
              0.2548603997150497
             ],
             [
              32.6370831,
              0.2548648997150401
             ],
             [
              32.63710149999999,
              0.25486669971505643
             ],
             [
              32.63710009999999,
              0.25488199971504555
             ],
             [
              32.637108899999994,
              0.25488279971504196
             ],
             [
              32.6371137,
              0.2548322997150804
             ],
             [
              32.6370386,
              0.2548252997151076
             ],
             [
              32.6370353,
              0.2548603997150497
             ]
            ]
           ],
           "type": "Polygon"
          },
          "id": "42",
          "properties": {
           "class": 1,
           "style": {
            "color": "black",
            "fillColor": "#440154ff",
            "weight": 0.9
           }
          },
          "type": "Feature"
         },
         {
          "bbox": [
           32.6311481,
           0.25333689971678514,
           32.6312027,
           0.2533947997166975
          ],
          "geometry": {
           "coordinates": [
            [
             [
              32.6311481,
              0.2533756997167007
             ],
             [
              32.631173,
              0.2533947997166975
             ],
             [
              32.6312027,
              0.2533559997167458
             ],
             [
              32.6311778,
              0.25333689971678514
             ],
             [
              32.6311481,
              0.2533756997167007
             ]
            ]
           ],
           "type": "Polygon"
          },
          "id": "43",
          "properties": {
           "class": 1,
           "style": {
            "color": "black",
            "fillColor": "#440154ff",
            "weight": 0.9
           }
          },
          "type": "Feature"
         },
         {
          "bbox": [
           32.634325,
           0.2560424997137415,
           32.63434829999999,
           0.2560657997137056
          ],
          "geometry": {
           "coordinates": [
            [
             [
              32.6343357,
              0.2560424997137415
             ],
             [
              32.634325,
              0.2560554997136997
             ],
             [
              32.634337599999995,
              0.2560657997137056
             ],
             [
              32.63434829999999,
              0.2560527997137261
             ],
             [
              32.6343357,
              0.2560424997137415
             ]
            ]
           ],
           "type": "Polygon"
          },
          "id": "44",
          "properties": {
           "class": 1,
           "style": {
            "color": "black",
            "fillColor": "#440154ff",
            "weight": 0.9
           }
          },
          "type": "Feature"
         },
         {
          "bbox": [
           32.6298223,
           0.25760219971199294,
           32.629857,
           0.2576368997119491
          ],
          "geometry": {
           "coordinates": [
            [
             [
              32.6298223,
              0.2576185997119803
             ],
             [
              32.6298391,
              0.2576368997119491
             ],
             [
              32.629857,
              0.25762049971198825
             ],
             [
              32.6298401,
              0.25760219971199294
             ],
             [
              32.6298223,
              0.2576185997119803
             ]
            ]
           ],
           "type": "Polygon"
          },
          "id": "45",
          "properties": {
           "class": 1,
           "style": {
            "color": "black",
            "fillColor": "#440154ff",
            "weight": 0.9
           }
          },
          "type": "Feature"
         },
         {
          "bbox": [
           32.6357768,
           0.2517639997185371,
           32.635934,
           0.25191899971832804
          ],
          "geometry": {
           "coordinates": [
            [
             [
              32.6357768,
              0.2518089997184682
             ],
             [
              32.635890499999995,
              0.25191899971832804
             ],
             [
              32.635934,
              0.2518739997183961
             ],
             [
              32.6358203,
              0.2517639997185371
             ],
             [
              32.6357768,
              0.2518089997184682
             ]
            ]
           ],
           "type": "Polygon"
          },
          "id": "46",
          "properties": {
           "class": 1,
           "style": {
            "color": "black",
            "fillColor": "#440154ff",
            "weight": 0.9
           }
          },
          "type": "Feature"
         },
         {
          "bbox": [
           32.6346282,
           0.2543969997155866,
           32.6346812,
           0.25445069971552126
          ],
          "geometry": {
           "coordinates": [
            [
             [
              32.6346282,
              0.25443619971551906
             ],
             [
              32.634643,
              0.25445069971552126
             ],
             [
              32.6346812,
              0.25441139971553967
             ],
             [
              32.63466639999999,
              0.2543969997155866
             ],
             [
              32.6346282,
              0.25443619971551906
             ]
            ]
           ],
           "type": "Polygon"
          },
          "id": "47",
          "properties": {
           "class": 1,
           "style": {
            "color": "black",
            "fillColor": "#440154ff",
            "weight": 0.9
           }
          },
          "type": "Feature"
         },
         {
          "bbox": [
           32.635164599999996,
           0.25828249971123524,
           32.6352827,
           0.25836109971114296
          ],
          "geometry": {
           "coordinates": [
            [
             [
              32.635164599999996,
              0.25831149971121536
             ],
             [
              32.635268999999994,
              0.25836109971114296
             ],
             [
              32.6352827,
              0.2583321997111971
             ],
             [
              32.6351783,
              0.25828249971123524
             ],
             [
              32.635164599999996,
              0.25831149971121536
             ]
            ]
           ],
           "type": "Polygon"
          },
          "id": "48",
          "properties": {
           "class": 1,
           "style": {
            "color": "black",
            "fillColor": "#440154ff",
            "weight": 0.9
           }
          },
          "type": "Feature"
         },
         {
          "bbox": [
           32.63341499999999,
           0.2561332997136094,
           32.633477199999994,
           0.25620549971353584
          ],
          "geometry": {
           "coordinates": [
            [
             [
              32.63345149999999,
              0.2561979997135744
             ],
             [
              32.633477199999994,
              0.2561497997136239
             ],
             [
              32.6334455,
              0.2561332997136094
             ],
             [
              32.63341499999999,
              0.25618999971358963
             ],
             [
              32.6334473,
              0.25620549971353584
             ],
             [
              32.63345149999999,
              0.2561979997135744
             ]
            ]
           ],
           "type": "Polygon"
          },
          "id": "49",
          "properties": {
           "class": 1,
           "style": {
            "color": "black",
            "fillColor": "#440154ff",
            "weight": 0.9
           }
          },
          "type": "Feature"
         },
         {
          "bbox": [
           32.6339856,
           0.25453869971540144,
           32.634009,
           0.2545633997154034
          ],
          "geometry": {
           "coordinates": [
            [
             [
              32.6339856,
              0.25455609971538373
             ],
             [
              32.63400059999999,
              0.2545633997154034
             ],
             [
              32.634009,
              0.2545459997154101
             ],
             [
              32.633993999999994,
              0.25453869971540144
             ],
             [
              32.6339856,
              0.25455609971538373
             ]
            ]
           ],
           "type": "Polygon"
          },
          "id": "50",
          "properties": {
           "class": 1,
           "style": {
            "color": "black",
            "fillColor": "#440154ff",
            "weight": 0.9
           }
          },
          "type": "Feature"
         },
         {
          "bbox": [
           32.6343963,
           0.25417729971581215,
           32.6344199,
           0.2541997997158167
          ],
          "geometry": {
           "coordinates": [
            [
             [
              32.6343963,
              0.25418809971580963
             ],
             [
              32.6344045,
              0.2541997997158167
             ],
             [
              32.6344199,
              0.2541890997157895
             ],
             [
              32.6344118,
              0.25417729971581215
             ],
             [
              32.6343963,
              0.25418809971580963
             ]
            ]
           ],
           "type": "Polygon"
          },
          "id": "51",
          "properties": {
           "class": 1,
           "style": {
            "color": "black",
            "fillColor": "#440154ff",
            "weight": 0.9
           }
          },
          "type": "Feature"
         },
         {
          "bbox": [
           32.6320898,
           0.2536916997163729,
           32.63219879999999,
           0.25378589971626164
          ],
          "geometry": {
           "coordinates": [
            [
             [
              32.6321934,
              0.2537295997163033
             ],
             [
              32.63219879999999,
              0.25372619971630683
             ],
             [
              32.6321702,
              0.25369299971635995
             ],
             [
              32.6321647,
              0.25369739971636435
             ],
             [
              32.6321602,
              0.2536916997163729
             ],
             [
              32.6321481,
              0.2537013997163716
             ],
             [
              32.6321434,
              0.2536953997163695
             ],
             [
              32.632125,
              0.25371009971631503
             ],
             [
              32.63212059999999,
              0.25370449971634096
             ],
             [
              32.6320898,
              0.25372899971633817
             ],
             [
              32.6321301,
              0.25378589971626164
             ],
             [
              32.63215519999999,
              0.2537621997162674
             ],
             [
              32.6321934,
              0.2537295997163033
             ]
            ]
           ],
           "type": "Polygon"
          },
          "id": "52",
          "properties": {
           "class": 1,
           "style": {
            "color": "black",
            "fillColor": "#440154ff",
            "weight": 0.9
           }
          },
          "type": "Feature"
         },
         {
          "bbox": [
           32.63345149999999,
           0.2561497997136239,
           32.6334994,
           0.25620919971355494
          ],
          "geometry": {
           "coordinates": [
            [
             [
              32.633497399999996,
              0.2561649997135958
             ],
             [
              32.6334994,
              0.2561611997136051
             ],
             [
              32.633477199999994,
              0.2561497997136239
             ],
             [
              32.63345149999999,
              0.2561979997135744
             ],
             [
              32.6334747,
              0.25620919971355494
             ],
             [
              32.633497399999996,
              0.2561649997135958
             ]
            ]
           ],
           "type": "Polygon"
          },
          "id": "53",
          "properties": {
           "class": 1,
           "style": {
            "color": "black",
            "fillColor": "#440154ff",
            "weight": 0.9
           }
          },
          "type": "Feature"
         },
         {
          "bbox": [
           32.631254299999995,
           0.2543825997155873,
           32.6312813,
           0.2544106997155452
          ],
          "geometry": {
           "coordinates": [
            [
             [
              32.631254299999995,
              0.2543926997155919
             ],
             [
              32.6312678,
              0.2544106997155452
             ],
             [
              32.6312813,
              0.25440049971557366
             ],
             [
              32.6312677,
              0.2543825997155873
             ],
             [
              32.631254299999995,
              0.2543926997155919
             ]
            ]
           ],
           "type": "Polygon"
          },
          "id": "54",
          "properties": {
           "class": 1,
           "style": {
            "color": "black",
            "fillColor": "#440154ff",
            "weight": 0.9
           }
          },
          "type": "Feature"
         },
         {
          "bbox": [
           32.630854,
           0.2536326997164285,
           32.63094980000001,
           0.25372669971631784
          ],
          "geometry": {
           "coordinates": [
            [
             [
              32.630854,
              0.25366059971639743
             ],
             [
              32.63092319999999,
              0.25372669971631784
             ],
             [
              32.63094980000001,
              0.2536988997163741
             ],
             [
              32.6308806,
              0.2536326997164285
             ],
             [
              32.630854,
              0.25366059971639743
             ]
            ]
           ],
           "type": "Polygon"
          },
          "id": "55",
          "properties": {
           "class": 1,
           "style": {
            "color": "black",
            "fillColor": "#440154ff",
            "weight": 0.9
           }
          },
          "type": "Feature"
         },
         {
          "bbox": [
           32.631183099999994,
           0.25648219971325853,
           32.63121379999999,
           0.2565128997132189
          ],
          "geometry": {
           "coordinates": [
            [
             [
              32.631183099999994,
              0.2564970997132253
             ],
             [
              32.6311988,
              0.2565128997132189
             ],
             [
              32.63121379999999,
              0.2564979997132182
             ],
             [
              32.63119799999999,
              0.25648219971325853
             ],
             [
              32.631183099999994,
              0.2564970997132253
             ]
            ]
           ],
           "type": "Polygon"
          },
          "id": "56",
          "properties": {
           "class": 1,
           "style": {
            "color": "black",
            "fillColor": "#440154ff",
            "weight": 0.9
           }
          },
          "type": "Feature"
         },
         {
          "bbox": [
           32.63320689999999,
           0.2578554997117152,
           32.6332664,
           0.2579170997116409
          ],
          "geometry": {
           "coordinates": [
            [
             [
              32.63320689999999,
              0.2578943997116801
             ],
             [
              32.63323569999999,
              0.2579170997116409
             ],
             [
              32.6332664,
              0.25787829971168036
             ],
             [
              32.633237599999994,
              0.2578554997117152
             ],
             [
              32.63320689999999,
              0.2578943997116801
             ]
            ]
           ],
           "type": "Polygon"
          },
          "id": "57",
          "properties": {
           "class": 1,
           "style": {
            "color": "black",
            "fillColor": "#440154ff",
            "weight": 0.9
           }
          },
          "type": "Feature"
         },
         {
          "bbox": [
           32.6360024,
           0.2564974997132176,
           32.6361278,
           0.25661359971309133
          ],
          "geometry": {
           "coordinates": [
            [
             [
              32.6361112,
              0.2565071997132113
             ],
             [
              32.6360129,
              0.2564974997132176
             ],
             [
              32.6360024,
              0.25660429971311727
             ],
             [
              32.6360962,
              0.25661359971309133
             ],
             [
              32.6360979,
              0.2565962997131119
             ],
             [
              32.6361189,
              0.2565983997130979
             ],
             [
              32.63612369999999,
              0.2565496997131846
             ],
             [
              32.6361278,
              0.25650879971320595
             ],
             [
              32.6361112,
              0.2565071997132113
             ]
            ]
           ],
           "type": "Polygon"
          },
          "id": "58",
          "properties": {
           "class": 1,
           "style": {
            "color": "black",
            "fillColor": "#440154ff",
            "weight": 0.9
           }
          },
          "type": "Feature"
         },
         {
          "bbox": [
           32.6323424,
           0.26022039970904876,
           32.6324567,
           0.26029109970900216
          ],
          "geometry": {
           "coordinates": [
            [
             [
              32.6323528,
              0.26029109970900216
             ],
             [
              32.6324567,
              0.2602689997090193
             ],
             [
              32.63244629999999,
              0.26022039970904876
             ],
             [
              32.6323424,
              0.2602426997090176
             ],
             [
              32.6323528,
              0.26029109970900216
             ]
            ]
           ],
           "type": "Polygon"
          },
          "id": "59",
          "properties": {
           "class": 1,
           "style": {
            "color": "black",
            "fillColor": "#440154ff",
            "weight": 0.9
           }
          },
          "type": "Feature"
         },
         {
          "bbox": [
           32.63027949999999,
           0.2549382997149595,
           32.6303243,
           0.2549833997149223
          ],
          "geometry": {
           "coordinates": [
            [
             [
              32.63027949999999,
              0.2549635997149239
             ],
             [
              32.6303035,
              0.2549833997149223
             ],
             [
              32.6303243,
              0.25495819971495864
             ],
             [
              32.6303003,
              0.2549382997149595
             ],
             [
              32.63027949999999,
              0.2549635997149239
             ]
            ]
           ],
           "type": "Polygon"
          },
          "id": "60",
          "properties": {
           "class": 1,
           "style": {
            "color": "black",
            "fillColor": "#440154ff",
            "weight": 0.9
           }
          },
          "type": "Feature"
         },
         {
          "bbox": [
           32.6308481,
           0.25477499971514067,
           32.6309362,
           0.2548542997150627
          ],
          "geometry": {
           "coordinates": [
            [
             [
              32.63088789999999,
              0.2548542997150627
             ],
             [
              32.6309362,
              0.25479779971513583
             ],
             [
              32.630909499999994,
              0.25477499971514067
             ],
             [
              32.6308877,
              0.2548003997151081
             ],
             [
              32.630871,
              0.2547901997151436
             ],
             [
              32.6308481,
              0.25482029971509035
             ],
             [
              32.63088789999999,
              0.2548542997150627
             ]
            ]
           ],
           "type": "Polygon"
          },
          "id": "61",
          "properties": {
           "class": 1,
           "style": {
            "color": "black",
            "fillColor": "#440154ff",
            "weight": 0.9
           }
          },
          "type": "Feature"
         },
         {
          "bbox": [
           32.63129,
           0.2540070997160059,
           32.6313679,
           0.25412909971585274
          ],
          "geometry": {
           "coordinates": [
            [
             [
              32.631314999999994,
              0.25401889971599506
             ],
             [
              32.6313299,
              0.25403789971595586
             ],
             [
              32.63129,
              0.25405939971596625
             ],
             [
              32.6313275,
              0.25412909971585274
             ],
             [
              32.63136509999999,
              0.25410889971588385
             ],
             [
              32.6313396,
              0.254061699715961
             ],
             [
              32.6313679,
              0.25404649971597204
             ],
             [
              32.6313558,
              0.25402389971601136
             ],
             [
              32.631347,
              0.2540286997159944
             ],
             [
              32.63133,
              0.2540070997160059
             ],
             [
              32.631314999999994,
              0.25401889971599506
             ]
            ]
           ],
           "type": "Polygon"
          },
          "id": "62",
          "properties": {
           "class": 1,
           "style": {
            "color": "black",
            "fillColor": "#440154ff",
            "weight": 0.9
           }
          },
          "type": "Feature"
         },
         {
          "bbox": [
           32.628393,
           0.2573674997122357,
           32.6284277,
           0.2574033997122239
          ],
          "geometry": {
           "coordinates": [
            [
             [
              32.6284105,
              0.2574033997122239
             ],
             [
              32.6284277,
              0.25738999971221255
             ],
             [
              32.6284103,
              0.2573674997122357
             ],
             [
              32.628393,
              0.25738089971225203
             ],
             [
              32.6284105,
              0.2574033997122239
             ]
            ]
           ],
           "type": "Polygon"
          },
          "id": "63",
          "properties": {
           "class": 1,
           "style": {
            "color": "black",
            "fillColor": "#440154ff",
            "weight": 0.9
           }
          },
          "type": "Feature"
         },
         {
          "bbox": [
           32.6348097,
           0.25894639971047445,
           32.63492519999999,
           0.25906799971035943
          ],
          "geometry": {
           "coordinates": [
            [
             [
              32.6348097,
              0.2590324997103833
             ],
             [
              32.634884199999995,
              0.25906799971035943
             ],
             [
              32.63492519999999,
              0.2589818997104599
             ],
             [
              32.6348507,
              0.25894639971047445
             ],
             [
              32.6348097,
              0.2590324997103833
             ]
            ]
           ],
           "type": "Polygon"
          },
          "id": "64",
          "properties": {
           "class": 1,
           "style": {
            "color": "black",
            "fillColor": "#440154ff",
            "weight": 0.9
           }
          },
          "type": "Feature"
         },
         {
          "bbox": [
           32.6322172,
           0.25700099971266066,
           32.6322585,
           0.25704359971261215
          ],
          "geometry": {
           "coordinates": [
            [
             [
              32.6322172,
              0.2570167997126406
             ],
             [
              32.63221789999999,
              0.2570298997126454
             ],
             [
              32.63222619999999,
              0.25704019971264574
             ],
             [
              32.63223899999999,
              0.25704359971261215
             ],
             [
              32.63225129999999,
              0.257038799712629
             ],
             [
              32.6322585,
              0.2570277997126335
             ],
             [
              32.63225769999999,
              0.25701459971264384
             ],
             [
              32.6322494,
              0.25700439971266503
             ],
             [
              32.6322367,
              0.25700099971266066
             ],
             [
              32.6322244,
              0.25700569971268433
             ],
             [
              32.6322172,
              0.2570167997126406
             ]
            ]
           ],
           "type": "Polygon"
          },
          "id": "65",
          "properties": {
           "class": 1,
           "style": {
            "color": "black",
            "fillColor": "#440154ff",
            "weight": 0.9
           }
          },
          "type": "Feature"
         },
         {
          "bbox": [
           32.6320833,
           0.25648019971322716,
           32.6321843,
           0.25668979971303924
          ],
          "geometry": {
           "coordinates": [
            [
             [
              32.6320833,
              0.2564918997132487
             ],
             [
              32.6321491,
              0.25668979971303924
             ],
             [
              32.6321843,
              0.25667809971300665
             ],
             [
              32.6321186,
              0.25648019971322716
             ],
             [
              32.6320833,
              0.2564918997132487
             ]
            ]
           ],
           "type": "Polygon"
          },
          "id": "66",
          "properties": {
           "class": 1,
           "style": {
            "color": "black",
            "fillColor": "#440154ff",
            "weight": 0.9
           }
          },
          "type": "Feature"
         },
         {
          "bbox": [
           32.63363139999999,
           0.25537399971446406,
           32.6338219,
           0.2554835997143545
          ],
          "geometry": {
           "coordinates": [
            [
             [
              32.63366010000001,
              0.2554174997144482
             ],
             [
              32.6338004,
              0.2554835997143545
             ],
             [
              32.6338219,
              0.25543789971442715
             ],
             [
              32.63378639999999,
              0.25541919971443927
             ],
             [
              32.63377969999999,
              0.25543309971442635
             ],
             [
              32.6337558,
              0.2554231997144306
             ],
             [
              32.6337563,
              0.2554216997144214
             ],
             [
              32.6336485,
              0.25537399971446406
             ],
             [
              32.63363139999999,
              0.25540959971446264
             ],
             [
              32.633657799999995,
              0.25542219971443053
             ],
             [
              32.63366010000001,
              0.2554174997144482
             ]
            ]
           ],
           "type": "Polygon"
          },
          "id": "67",
          "properties": {
           "class": 1,
           "style": {
            "color": "black",
            "fillColor": "#440154ff",
            "weight": 0.9
           }
          },
          "type": "Feature"
         },
         {
          "bbox": [
           32.637220299999996,
           0.2566951997129843,
           32.6372491,
           0.2567272997129615
          ],
          "geometry": {
           "coordinates": [
            [
             [
              32.637220299999996,
              0.2567246997129559
             ],
             [
              32.637246499999996,
              0.2567272997129615
             ],
             [
              32.6372482,
              0.2567271997129588
             ],
             [
              32.6372491,
              0.25669689971299037
             ],
             [
              32.637223,
              0.2566951997129843
             ],
             [
              32.637220299999996,
              0.2567246997129559
             ]
            ]
           ],
           "type": "Polygon"
          },
          "id": "68",
          "properties": {
           "class": 1,
           "style": {
            "color": "black",
            "fillColor": "#440154ff",
            "weight": 0.9
           }
          },
          "type": "Feature"
         },
         {
          "bbox": [
           32.63247929999999,
           0.2528697997172851,
           32.6325036,
           0.2528969997172705
          ],
          "geometry": {
           "coordinates": [
            [
             [
              32.63247929999999,
              0.25287709971726824
             ],
             [
              32.6324929,
              0.2528969997172705
             ],
             [
              32.6325036,
              0.252889699717269
             ],
             [
              32.6324901,
              0.2528697997172851
             ],
             [
              32.63247929999999,
              0.25287709971726824
             ]
            ]
           ],
           "type": "Polygon"
          },
          "id": "69",
          "properties": {
           "class": 1,
           "style": {
            "color": "black",
            "fillColor": "#440154ff",
            "weight": 0.9
           }
          },
          "type": "Feature"
         },
         {
          "bbox": [
           32.6340457,
           0.2608892997083245,
           32.6341129,
           0.26095569970822585
          ],
          "geometry": {
           "coordinates": [
            [
             [
              32.6340457,
              0.26093829970826804
             ],
             [
              32.6340871,
              0.26095569970822585
             ],
             [
              32.6340936,
              0.2609400997082525
             ],
             [
              32.634099299999995,
              0.26094249970827166
             ],
             [
              32.6341129,
              0.2609102997082968
             ],
             [
              32.634062899999996,
              0.2608892997083245
             ],
             [
              32.6340487,
              0.2609232997082585
             ],
             [
              32.634051500000005,
              0.260924499708286
             ],
             [
              32.6340457,
              0.26093829970826804
             ]
            ]
           ],
           "type": "Polygon"
          },
          "id": "70",
          "properties": {
           "class": 1,
           "style": {
            "color": "black",
            "fillColor": "#440154ff",
            "weight": 0.9
           }
          },
          "type": "Feature"
         },
         {
          "bbox": [
           32.63451849999999,
           0.25664969971304785,
           32.6345433,
           0.2566745997130198
          ],
          "geometry": {
           "coordinates": [
            [
             [
              32.6345317,
              0.2566745997130198
             ],
             [
              32.6345433,
              0.25666099971304923
             ],
             [
              32.6345301,
              0.25664969971304785
             ],
             [
              32.63451849999999,
              0.256663299713046
             ],
             [
              32.6345317,
              0.2566745997130198
             ]
            ]
           ],
           "type": "Polygon"
          },
          "id": "71",
          "properties": {
           "class": 1,
           "style": {
            "color": "black",
            "fillColor": "#440154ff",
            "weight": 0.9
           }
          },
          "type": "Feature"
         },
         {
          "bbox": [
           32.6359818,
           0.25204539971820833,
           32.6361605,
           0.2522057997180351
          ],
          "geometry": {
           "coordinates": [
            [
             [
              32.6360217,
              0.25204539971820833
             ],
             [
              32.6359818,
              0.25209569971815976
             ],
             [
              32.6361205,
              0.2522057997180351
             ],
             [
              32.6361605,
              0.2521554997180959
             ],
             [
              32.6360217,
              0.25204539971820833
             ]
            ]
           ],
           "type": "Polygon"
          },
          "id": "72",
          "properties": {
           "class": 1,
           "style": {
            "color": "black",
            "fillColor": "#440154ff",
            "weight": 0.9
           }
          },
          "type": "Feature"
         },
         {
          "bbox": [
           32.6314944,
           0.2537574997163071,
           32.6315619,
           0.25382259971621524
          ],
          "geometry": {
           "coordinates": [
            [
             [
              32.6314944,
              0.2537881997162483
             ],
             [
              32.631508499999995,
              0.2538047997162261
             ],
             [
              32.6315114,
              0.25380229971625795
             ],
             [
              32.631528599999996,
              0.25382259971621524
             ],
             [
              32.6315619,
              0.25379449971623186
             ],
             [
              32.6315307,
              0.2537574997163071
             ],
             [
              32.6314944,
              0.2537881997162483
             ]
            ]
           ],
           "type": "Polygon"
          },
          "id": "73",
          "properties": {
           "class": 1,
           "style": {
            "color": "black",
            "fillColor": "#440154ff",
            "weight": 0.9
           }
          },
          "type": "Feature"
         },
         {
          "bbox": [
           32.6341186,
           0.25447279971548964,
           32.634169,
           0.25452629971543905
          ],
          "geometry": {
           "coordinates": [
            [
             [
              32.6341186,
              0.25450909971545493
             ],
             [
              32.6341405,
              0.25452629971543905
             ],
             [
              32.6341543,
              0.25450869971546203
             ],
             [
              32.634169,
              0.2544899997154722
             ],
             [
              32.6341471,
              0.25447279971548964
             ],
             [
              32.6341186,
              0.25450909971545493
             ]
            ]
           ],
           "type": "Polygon"
          },
          "id": "74",
          "properties": {
           "class": 1,
           "style": {
            "color": "black",
            "fillColor": "#440154ff",
            "weight": 0.9
           }
          },
          "type": "Feature"
         },
         {
          "bbox": [
           32.633943,
           0.257785799711812,
           32.63401549999999,
           0.25784509971173863
          ],
          "geometry": {
           "coordinates": [
            [
             [
              32.633943,
              0.2578197997117247
             ],
             [
              32.63400059999999,
              0.25784509971173863
             ],
             [
              32.63401549999999,
              0.25781099971174465
             ],
             [
              32.6339579,
              0.257785799711812
             ],
             [
              32.633943,
              0.2578197997117247
             ]
            ]
           ],
           "type": "Polygon"
          },
          "id": "75",
          "properties": {
           "class": 1,
           "style": {
            "color": "black",
            "fillColor": "#440154ff",
            "weight": 0.9
           }
          },
          "type": "Feature"
         },
         {
          "bbox": [
           32.63528159999999,
           0.2539341997161008,
           32.6353905,
           0.25398789971602836
          ],
          "geometry": {
           "coordinates": [
            [
             [
              32.63528159999999,
              0.25397699971606164
             ],
             [
              32.635386,
              0.25398789971602836
             ],
             [
              32.635386499999996,
              0.25398349971603673
             ],
             [
              32.63539,
              0.2539497997160725
             ],
             [
              32.6353905,
              0.25394519971606755
             ],
             [
              32.6352861,
              0.2539341997161008
             ],
             [
              32.63528159999999,
              0.25397699971606164
             ]
            ]
           ],
           "type": "Polygon"
          },
          "id": "76",
          "properties": {
           "class": 1,
           "style": {
            "color": "black",
            "fillColor": "#440154ff",
            "weight": 0.9
           }
          },
          "type": "Feature"
         },
         {
          "bbox": [
           32.634222799999996,
           0.25770679971189997,
           32.6343548,
           0.25784629971169626
          ],
          "geometry": {
           "coordinates": [
            [
             [
              32.6342239,
              0.2577988997117507
             ],
             [
              32.6342688,
              0.25782829971175386
             ],
             [
              32.634277499999996,
              0.2578167997117466
             ],
             [
              32.6343183,
              0.25784629971169626
             ],
             [
              32.63434139999999,
              0.2578112997117625
             ],
             [
              32.6343399,
              0.2578071997117808
             ],
             [
              32.6343548,
              0.25778449971176404
             ],
             [
              32.6343324,
              0.25776699971181677
             ],
             [
              32.6343322,
              0.25775889971180593
             ],
             [
              32.6343324,
              0.2577562997118346
             ],
             [
              32.6343233,
              0.257746799711842
             ],
             [
              32.6343169,
              0.25774009971181333
             ],
             [
              32.6343005,
              0.257729899711854
             ],
             [
              32.6342945,
              0.2577401997118283
             ],
             [
              32.6342437,
              0.25770679971189997
             ],
             [
              32.63422309999999,
              0.25773819971182205
             ],
             [
              32.634242199999996,
              0.25775079971185233
             ],
             [
              32.634222799999996,
              0.25778029971180577
             ],
             [
              32.6342321,
              0.2577863997117676
             ],
             [
              32.6342239,
              0.2577988997117507
             ]
            ]
           ],
           "type": "Polygon"
          },
          "id": "77",
          "properties": {
           "class": 1,
           "style": {
            "color": "black",
            "fillColor": "#440154ff",
            "weight": 0.9
           }
          },
          "type": "Feature"
         },
         {
          "bbox": [
           32.636226,
           0.2513509997189634,
           32.6366063,
           0.2517808997184762
          ],
          "geometry": {
           "coordinates": [
            [
             [
              32.636226,
              0.2517201997185722
             ],
             [
              32.63629889999999,
              0.2517808997184762
             ],
             [
              32.6366063,
              0.25141169971892874
             ],
             [
              32.6365334,
              0.2513509997189634
             ],
             [
              32.636226,
              0.2517201997185722
             ]
            ]
           ],
           "type": "Polygon"
          },
          "id": "78",
          "properties": {
           "class": 1,
           "style": {
            "color": "black",
            "fillColor": "#440154ff",
            "weight": 0.9
           }
          },
          "type": "Feature"
         },
         {
          "bbox": [
           32.63373709999999,
           0.2571912997124353,
           32.633799,
           0.2572674997123869
          ],
          "geometry": {
           "coordinates": [
            [
             [
              32.6337413,
              0.2572674997123869
             ],
             [
              32.633799,
              0.25726419971237724
             ],
             [
              32.6337948,
              0.2571912997124353
             ],
             [
              32.63373709999999,
              0.25719459971246167
             ],
             [
              32.6337413,
              0.2572674997123869
             ]
            ]
           ],
           "type": "Polygon"
          },
          "id": "79",
          "properties": {
           "class": 1,
           "style": {
            "color": "black",
            "fillColor": "#440154ff",
            "weight": 0.9
           }
          },
          "type": "Feature"
         },
         {
          "bbox": [
           32.63505279999999,
           0.2590956997103371,
           32.6351239,
           0.25919619971021013
          ],
          "geometry": {
           "coordinates": [
            [
             [
              32.6350818,
              0.2591010997103149
             ],
             [
              32.635062,
              0.2590956997103371
             ],
             [
              32.63505279999999,
              0.25912939971028554
             ],
             [
              32.6350726,
              0.25913479971027753
             ],
             [
              32.6350586,
              0.25918599971023076
             ],
             [
              32.6351003,
              0.25919619971021013
             ],
             [
              32.6351239,
              0.25911169971029735
             ],
             [
              32.6350818,
              0.2591010997103149
             ]
            ]
           ],
           "type": "Polygon"
          },
          "id": "80",
          "properties": {
           "class": 1,
           "style": {
            "color": "black",
            "fillColor": "#440154ff",
            "weight": 0.9
           }
          },
          "type": "Feature"
         },
         {
          "bbox": [
           32.63453749999999,
           0.25662659971306423,
           32.63462249999999,
           0.2567109997129778
          ],
          "geometry": {
           "coordinates": [
            [
             [
              32.63453749999999,
              0.25667029971301863
             ],
             [
              32.6345852,
              0.2567109997129778
             ],
             [
              32.63462249999999,
              0.2566672997130215
             ],
             [
              32.6345748,
              0.25662659971306423
             ],
             [
              32.63453749999999,
              0.25667029971301863
             ]
            ]
           ],
           "type": "Polygon"
          },
          "id": "81",
          "properties": {
           "class": 1,
           "style": {
            "color": "black",
            "fillColor": "#440154ff",
            "weight": 0.9
           }
          },
          "type": "Feature"
         },
         {
          "bbox": [
           32.6345407,
           0.2557099997141042,
           32.6347134,
           0.25596319971382975
          ],
          "geometry": {
           "coordinates": [
            [
             [
              32.6345627,
              0.2558601997139392
             ],
             [
              32.634551200000004,
              0.25589099971392165
             ],
             [
              32.6345407,
              0.2559591997138219
             ],
             [
              32.6345476,
              0.25596319971382975
             ],
             [
              32.6346039,
              0.2559310997138774
             ],
             [
              32.634581999999995,
              0.25591219971388374
             ],
             [
              32.6346337,
              0.25585209971395856
             ],
             [
              32.6347134,
              0.2557404997140892
             ],
             [
              32.63467239999999,
              0.2557099997141042
             ],
             [
              32.6345627,
              0.2558601997139392
             ]
            ]
           ],
           "type": "Polygon"
          },
          "id": "82",
          "properties": {
           "class": 1,
           "style": {
            "color": "black",
            "fillColor": "#440154ff",
            "weight": 0.9
           }
          },
          "type": "Feature"
         },
         {
          "bbox": [
           32.6340766,
           0.2593466997100592,
           32.6342044,
           0.25945449970992557
          ],
          "geometry": {
           "coordinates": [
            [
             [
              32.63417679999999,
              0.25945449970992557
             ],
             [
              32.6342044,
              0.25941529970996274
             ],
             [
              32.63410699999999,
              0.2593466997100592
             ],
             [
              32.6340766,
              0.25938979971000153
             ],
             [
              32.63410019999999,
              0.2594063997099988
             ],
             [
              32.634102999999996,
              0.259402599709973
             ],
             [
              32.63417679999999,
              0.25945449970992557
             ]
            ]
           ],
           "type": "Polygon"
          },
          "id": "83",
          "properties": {
           "class": 1,
           "style": {
            "color": "black",
            "fillColor": "#440154ff",
            "weight": 0.9
           }
          },
          "type": "Feature"
         },
         {
          "bbox": [
           32.6341806,
           0.25826039971126813,
           32.63424659999999,
           0.2583344997111907
          ],
          "geometry": {
           "coordinates": [
            [
             [
              32.6342076,
              0.2583291997111816
             ],
             [
              32.6342365,
              0.2582900997112306
             ],
             [
              32.63424659999999,
              0.2582763997112501
             ],
             [
              32.63422490000001,
              0.25826039971126813
             ],
             [
              32.6342187,
              0.2582687997112517
             ],
             [
              32.634217199999995,
              0.25826769971126506
             ],
             [
              32.63418719999999,
              0.2583083997111925
             ],
             [
              32.6341806,
              0.25831739971119844
             ],
             [
              32.6342038,
              0.2583344997111907
             ],
             [
              32.6342076,
              0.2583291997111816
             ]
            ]
           ],
           "type": "Polygon"
          },
          "id": "84",
          "properties": {
           "class": 1,
           "style": {
            "color": "black",
            "fillColor": "#440154ff",
            "weight": 0.9
           }
          },
          "type": "Feature"
         },
         {
          "bbox": [
           32.6315853,
           0.2539028997161417,
           32.6316095,
           0.25392689971610505
          ],
          "geometry": {
           "coordinates": [
            [
             [
              32.6315991,
              0.2539028997161417
             ],
             [
              32.6315853,
              0.253914599716119
             ],
             [
              32.6315957,
              0.25392689971610505
             ],
             [
              32.6316095,
              0.253915099716132
             ],
             [
              32.6315991,
              0.2539028997161417
             ]
            ]
           ],
           "type": "Polygon"
          },
          "id": "85",
          "properties": {
           "class": 1,
           "style": {
            "color": "black",
            "fillColor": "#440154ff",
            "weight": 0.9
           }
          },
          "type": "Feature"
         },
         {
          "bbox": [
           32.636489999999995,
           0.2557861997140079,
           32.63657309999999,
           0.25584199971396954
          ],
          "geometry": {
           "coordinates": [
            [
             [
              32.636489999999995,
              0.2558165997139919
             ],
             [
              32.636562399999995,
              0.25584199971396954
             ],
             [
              32.63657309999999,
              0.2558116997139664
             ],
             [
              32.63650069999999,
              0.2557861997140079
             ],
             [
              32.636489999999995,
              0.2558165997139919
             ]
            ]
           ],
           "type": "Polygon"
          },
          "id": "86",
          "properties": {
           "class": 1,
           "style": {
            "color": "black",
            "fillColor": "#440154ff",
            "weight": 0.9
           }
          },
          "type": "Feature"
         },
         {
          "bbox": [
           32.6330605,
           0.2558086997139928,
           32.6330805,
           0.2558811997139257
          ],
          "geometry": {
           "coordinates": [
            [
             [
              32.6330629,
              0.2558544997139607
             ],
             [
              32.6330605,
              0.2558546997139435
             ],
             [
              32.6330621,
              0.2558811997139257
             ],
             [
              32.6330805,
              0.25587999971390574
             ],
             [
              32.6330788,
              0.25585349971393123
             ],
             [
              32.6330782,
              0.2558535997139613
             ],
             [
              32.633076,
              0.2558086997139928
             ],
             [
              32.633060799999996,
              0.2558093997139828
             ],
             [
              32.6330629,
              0.2558544997139607
             ]
            ]
           ],
           "type": "Polygon"
          },
          "id": "87",
          "properties": {
           "class": 1,
           "style": {
            "color": "black",
            "fillColor": "#440154ff",
            "weight": 0.9
           }
          },
          "type": "Feature"
         },
         {
          "bbox": [
           32.6300038,
           0.2572573997123813,
           32.6300459,
           0.25729479971235214
          ],
          "geometry": {
           "coordinates": [
            [
             [
              32.6300038,
              0.25726579971235874
             ],
             [
              32.630025599999996,
              0.25729479971235214
             ],
             [
              32.6300459,
              0.2572794997123389
             ],
             [
              32.6300305,
              0.25725899971236627
             ],
             [
              32.6300213,
              0.257265899712343
             ],
             [
              32.630015,
              0.2572573997123813
             ],
             [
              32.6300038,
              0.25726579971235874
             ]
            ]
           ],
           "type": "Polygon"
          },
          "id": "88",
          "properties": {
           "class": 1,
           "style": {
            "color": "black",
            "fillColor": "#440154ff",
            "weight": 0.9
           }
          },
          "type": "Feature"
         },
         {
          "bbox": [
           32.6369456,
           0.25722029971243054,
           32.6370275,
           0.2573320997122991
          ],
          "geometry": {
           "coordinates": [
            [
             [
              32.6369456,
              0.2573235997123094
             ],
             [
              32.6370028,
              0.2573320997122991
             ],
             [
              32.637006,
              0.25731029971232083
             ],
             [
              32.6370153,
              0.25731169971231144
             ],
             [
              32.6370275,
              0.2572301997123951
             ],
             [
              32.636961,
              0.25722029971243054
             ],
             [
              32.6369456,
              0.2573235997123094
             ]
            ]
           ],
           "type": "Polygon"
          },
          "id": "89",
          "properties": {
           "class": 1,
           "style": {
            "color": "black",
            "fillColor": "#440154ff",
            "weight": 0.9
           }
          },
          "type": "Feature"
         },
         {
          "bbox": [
           32.6334133,
           0.2522495997179595,
           32.63350259999999,
           0.25233789971788756
          ],
          "geometry": {
           "coordinates": [
            [
             [
              32.6334133,
              0.252282799717929
             ],
             [
              32.6334708,
              0.25233789971788756
             ],
             [
              32.63350259999999,
              0.2523046997179013
             ],
             [
              32.6334451,
              0.2522495997179595
             ],
             [
              32.6334133,
              0.252282799717929
             ]
            ]
           ],
           "type": "Polygon"
          },
          "id": "90",
          "properties": {
           "class": 1,
           "style": {
            "color": "black",
            "fillColor": "#440154ff",
            "weight": 0.9
           }
          },
          "type": "Feature"
         },
         {
          "bbox": [
           32.6371315,
           0.2574372997121584,
           32.6371509,
           0.25746719971214066
          ],
          "geometry": {
           "coordinates": [
            [
             [
              32.63714649999999,
              0.2574648997121552
             ],
             [
              32.63715049999999,
              0.2574425997121586
             ],
             [
              32.6371509,
              0.257440399712169
             ],
             [
              32.6371353,
              0.2574372997121584
             ],
             [
              32.6371315,
              0.25746419971215784
             ],
             [
              32.637146,
              0.25746719971214066
             ],
             [
              32.63714649999999,
              0.2574648997121552
             ]
            ]
           ],
           "type": "Polygon"
          },
          "id": "91",
          "properties": {
           "class": 1,
           "style": {
            "color": "black",
            "fillColor": "#440154ff",
            "weight": 0.9
           }
          },
          "type": "Feature"
         },
         {
          "bbox": [
           32.6343399,
           0.2590854997103442,
           32.6344087,
           0.25915419971026893
          ],
          "geometry": {
           "coordinates": [
            [
             [
              32.6343399,
              0.25913109971027304
             ],
             [
              32.6343856,
              0.25915419971026893
             ],
             [
              32.6344087,
              0.2591086997103138
             ],
             [
              32.634363,
              0.2590854997103442
             ],
             [
              32.6343399,
              0.25913109971027304
             ]
            ]
           ],
           "type": "Polygon"
          },
          "id": "92",
          "properties": {
           "class": 1,
           "style": {
            "color": "black",
            "fillColor": "#440154ff",
            "weight": 0.9
           }
          },
          "type": "Feature"
         },
         {
          "bbox": [
           32.6364794,
           0.2559857997138105,
           32.6365627,
           0.25604389971371605
          ],
          "geometry": {
           "coordinates": [
            [
             [
              32.6364794,
              0.25603369971374734
             ],
             [
              32.636556299999995,
              0.25604389971371605
             ],
             [
              32.6365627,
              0.25599599971378245
             ],
             [
              32.6364858,
              0.2559857997138105
             ],
             [
              32.6364794,
              0.25603369971374734
             ]
            ]
           ],
           "type": "Polygon"
          },
          "id": "93",
          "properties": {
           "class": 1,
           "style": {
            "color": "black",
            "fillColor": "#440154ff",
            "weight": 0.9
           }
          },
          "type": "Feature"
         },
         {
          "bbox": [
           32.63357679999999,
           0.25547329971435057,
           32.633623099999994,
           0.2555231997143115
          ],
          "geometry": {
           "coordinates": [
            [
             [
              32.63357679999999,
              0.25550399971434623
             ],
             [
              32.633614,
              0.2555231997143115
             ],
             [
              32.633623099999994,
              0.25550559971434056
             ],
             [
              32.6336116,
              0.2554995997143376
             ],
             [
              32.6336183,
              0.2554865997143762
             ],
             [
              32.6335927,
              0.25547329971435057
             ],
             [
              32.63357679999999,
              0.25550399971434623
             ]
            ]
           ],
           "type": "Polygon"
          },
          "id": "94",
          "properties": {
           "class": 1,
           "style": {
            "color": "black",
            "fillColor": "#440154ff",
            "weight": 0.9
           }
          },
          "type": "Feature"
         },
         {
          "bbox": [
           32.6330308,
           0.2591978997102085,
           32.6331099,
           0.2592896997100982
          ],
          "geometry": {
           "coordinates": [
            [
             [
              32.6330308,
              0.25926169971013935
             ],
             [
              32.63307300000001,
              0.2592896997100982
             ],
             [
              32.63309399999999,
              0.25925819971013553
             ],
             [
              32.6330919,
              0.2592567997101156
             ],
             [
              32.6330988,
              0.2592464997101606
             ],
             [
              32.6330973,
              0.2592455997101573
             ],
             [
              32.6331099,
              0.2592265997101699
             ],
             [
              32.633066899999996,
              0.2591978997102085
             ],
             [
              32.633041199999994,
              0.25923639971016865
             ],
             [
              32.63304569999999,
              0.2592393997101696
             ],
             [
              32.6330308,
              0.25926169971013935
             ]
            ]
           ],
           "type": "Polygon"
          },
          "id": "95",
          "properties": {
           "class": 1,
           "style": {
            "color": "black",
            "fillColor": "#440154ff",
            "weight": 0.9
           }
          },
          "type": "Feature"
         },
         {
          "bbox": [
           32.6324431,
           0.25378089971627843,
           32.632477099999996,
           0.2538135997162273
          ],
          "geometry": {
           "coordinates": [
            [
             [
              32.6324431,
              0.25379189971626237
             ],
             [
              32.632457,
              0.2538135997162273
             ],
             [
              32.632477099999996,
              0.2538020997162157
             ],
             [
              32.632466,
              0.25378089971627843
             ],
             [
              32.6324431,
              0.25379189971626237
             ]
            ]
           ],
           "type": "Polygon"
          },
          "id": "96",
          "properties": {
           "class": 1,
           "style": {
            "color": "black",
            "fillColor": "#440154ff",
            "weight": 0.9
           }
          },
          "type": "Feature"
         },
         {
          "bbox": [
           32.63595759999999,
           0.25689979971275706,
           32.6359731,
           0.25691799971273693
          ],
          "geometry": {
           "coordinates": [
            [
             [
              32.63595759999999,
              0.25691609971276097
             ],
             [
              32.635970799999996,
              0.25691799971273693
             ],
             [
              32.6359731,
              0.2569016997127655
             ],
             [
              32.6359599,
              0.25689979971275706
             ],
             [
              32.63595759999999,
              0.25691609971276097
             ]
            ]
           ],
           "type": "Polygon"
          },
          "id": "97",
          "properties": {
           "class": 1,
           "style": {
            "color": "black",
            "fillColor": "#440154ff",
            "weight": 0.9
           }
          },
          "type": "Feature"
         },
         {
          "bbox": [
           32.63513079999999,
           0.2555083997143444,
           32.6352351,
           0.2556115997142078
          ],
          "geometry": {
           "coordinates": [
            [
             [
              32.63513079999999,
              0.25556869971424023
             ],
             [
              32.63519449999999,
              0.2556115997142078
             ],
             [
              32.6352351,
              0.2555512997142921
             ],
             [
              32.63517149999999,
              0.2555083997143444
             ],
             [
              32.63513079999999,
              0.25556869971424023
             ]
            ]
           ],
           "type": "Polygon"
          },
          "id": "98",
          "properties": {
           "class": 1,
           "style": {
            "color": "black",
            "fillColor": "#440154ff",
            "weight": 0.9
           }
          },
          "type": "Feature"
         },
         {
          "bbox": [
           32.63490939999999,
           0.2552629997146155,
           32.6350588,
           0.25540849971445917
          ],
          "geometry": {
           "coordinates": [
            [
             [
              32.6349693,
              0.25540849971445917
             ],
             [
              32.6350588,
              0.2553225997145616
             ],
             [
              32.635006,
              0.2552629997146155
             ],
             [
              32.63490939999999,
              0.25535589971449263
             ],
             [
              32.6349693,
              0.25540849971445917
             ]
            ]
           ],
           "type": "Polygon"
          },
          "id": "99",
          "properties": {
           "class": 1,
           "style": {
            "color": "black",
            "fillColor": "#440154ff",
            "weight": 0.9
           }
          },
          "type": "Feature"
         },
         {
          "bbox": [
           32.6309229,
           0.258873199710561,
           32.6309511,
           0.2589014997105433
          ],
          "geometry": {
           "coordinates": [
            [
             [
              32.6309269,
              0.2589014997105433
             ],
             [
              32.6309511,
              0.2588974997105309
             ],
             [
              32.63094709999999,
              0.258873199710561
             ],
             [
              32.6309229,
              0.25887729971057377
             ],
             [
              32.6309269,
              0.2589014997105433
             ]
            ]
           ],
           "type": "Polygon"
          },
          "id": "100",
          "properties": {
           "class": 1,
           "style": {
            "color": "black",
            "fillColor": "#440154ff",
            "weight": 0.9
           }
          },
          "type": "Feature"
         },
         {
          "bbox": [
           32.63408849999999,
           0.25413429971588264,
           32.634148999999994,
           0.25419429971581015
          ],
          "geometry": {
           "coordinates": [
            [
             [
              32.63408849999999,
              0.25415889971583155
             ],
             [
              32.6341304,
              0.25419429971581015
             ],
             [
              32.6341392,
              0.2541839997158275
             ],
             [
              32.63413539999999,
              0.25418079971583885
             ],
             [
              32.634148999999994,
              0.2541646997158531
             ],
             [
              32.6341357,
              0.25415329971584877
             ],
             [
              32.6341368,
              0.25415199971584024
             ],
             [
              32.6341158,
              0.25413429971588264
             ],
             [
              32.6340985,
              0.25415479971584976
             ],
             [
              32.634094700000006,
              0.2541515997158621
             ],
             [
              32.63408849999999,
              0.25415889971583155
             ]
            ]
           ],
           "type": "Polygon"
          },
          "id": "101",
          "properties": {
           "class": 1,
           "style": {
            "color": "black",
            "fillColor": "#440154ff",
            "weight": 0.9
           }
          },
          "type": "Feature"
         },
         {
          "bbox": [
           32.636526399999994,
           0.25666249971304195,
           32.63653719999999,
           0.2566747997130098
          ],
          "geometry": {
           "coordinates": [
            [
             [
              32.6365344,
              0.2566747997130098
             ],
             [
              32.63653719999999,
              0.2566646997130309
             ],
             [
              32.6365291,
              0.25666249971304195
             ],
             [
              32.636526399999994,
              0.2566725997130273
             ],
             [
              32.6365344,
              0.2566747997130098
             ]
            ]
           ],
           "type": "Polygon"
          },
          "id": "102",
          "properties": {
           "class": 1,
           "style": {
            "color": "black",
            "fillColor": "#440154ff",
            "weight": 0.9
           }
          },
          "type": "Feature"
         },
         {
          "bbox": [
           32.628976099999996,
           0.25589719971388175,
           32.6290636,
           0.2559789997138037
          ],
          "geometry": {
           "coordinates": [
            [
             [
              32.628976099999996,
              0.255940199713843
             ],
             [
              32.6289988,
              0.2559693997138239
             ],
             [
              32.629002099999994,
              0.25596689971381786
             ],
             [
              32.6290141,
              0.2559789997138037
             ],
             [
              32.6290636,
              0.2559294997138573
             ],
             [
              32.629031299999994,
              0.25589719971388175
             ],
             [
              32.6289969,
              0.25592699971386146
             ],
             [
              32.62899529999999,
              0.25592539971385103
             ],
             [
              32.628976099999996,
              0.255940199713843
             ]
            ]
           ],
           "type": "Polygon"
          },
          "id": "103",
          "properties": {
           "class": 1,
           "style": {
            "color": "black",
            "fillColor": "#440154ff",
            "weight": 0.9
           }
          },
          "type": "Feature"
         },
         {
          "bbox": [
           32.6311418,
           0.2554188997144428,
           32.631186,
           0.2554614997143664
          ],
          "geometry": {
           "coordinates": [
            [
             [
              32.6311418,
              0.2554379997144157
             ],
             [
              32.6311671,
              0.2554614997143664
             ],
             [
              32.631186,
              0.2554428997144015
             ],
             [
              32.631162,
              0.2554188997144428
             ],
             [
              32.6311418,
              0.2554379997144157
             ]
            ]
           ],
           "type": "Polygon"
          },
          "id": "104",
          "properties": {
           "class": 1,
           "style": {
            "color": "black",
            "fillColor": "#440154ff",
            "weight": 0.9
           }
          },
          "type": "Feature"
         },
         {
          "bbox": [
           32.629874,
           0.2569333997127433,
           32.63010559999999,
           0.2571195997125088
          ],
          "geometry": {
           "coordinates": [
            [
             [
              32.629874,
              0.25700959971265996
             ],
             [
              32.6299596,
              0.2571195997125088
             ],
             [
              32.630026599999994,
              0.25706739971259945
             ],
             [
              32.6300418,
              0.2570867997125619
             ],
             [
              32.63010559999999,
              0.25703719971261624
             ],
             [
              32.630074799999996,
              0.25699759971269265
             ],
             [
              32.630041899999995,
              0.2570231997126397
             ],
             [
              32.629972,
              0.2569333997127433
             ],
             [
              32.629874,
              0.25700959971265996
             ]
            ]
           ],
           "type": "Polygon"
          },
          "id": "105",
          "properties": {
           "class": 1,
           "style": {
            "color": "black",
            "fillColor": "#440154ff",
            "weight": 0.9
           }
          },
          "type": "Feature"
         },
         {
          "bbox": [
           32.636710099999995,
           0.25649569971323444,
           32.6367858,
           0.2565525997131735
          ],
          "geometry": {
           "coordinates": [
            [
             [
              32.6367168,
              0.25649569971323444
             ],
             [
              32.636710099999995,
              0.2565427997131807
             ],
             [
              32.6367472,
              0.2565480997131524
             ],
             [
              32.63677909999999,
              0.2565525997131735
             ],
             [
              32.6367858,
              0.25650549971323094
             ],
             [
              32.6367168,
              0.25649569971323444
             ]
            ]
           ],
           "type": "Polygon"
          },
          "id": "106",
          "properties": {
           "class": 1,
           "style": {
            "color": "black",
            "fillColor": "#440154ff",
            "weight": 0.9
           }
          },
          "type": "Feature"
         },
         {
          "bbox": [
           32.6361639,
           0.2525944997175876,
           32.6365142,
           0.2529204997172175
          ],
          "geometry": {
           "coordinates": [
            [
             [
              32.63625909999999,
              0.2525944997175876
             ],
             [
              32.6361639,
              0.2527095997174527
             ],
             [
              32.636419,
              0.2529204997172175
             ],
             [
              32.6365142,
              0.2528054997173332
             ],
             [
              32.63625909999999,
              0.2525944997175876
             ]
            ]
           ],
           "type": "Polygon"
          },
          "id": "107",
          "properties": {
           "class": 1,
           "style": {
            "color": "black",
            "fillColor": "#440154ff",
            "weight": 0.9
           }
          },
          "type": "Feature"
         },
         {
          "bbox": [
           32.63319419999999,
           0.251930399718317,
           32.63326299999999,
           0.251999599718244
          ],
          "geometry": {
           "coordinates": [
            [
             [
              32.63323079999999,
              0.251930399718317
             ],
             [
              32.63319419999999,
              0.25196059971830337
             ],
             [
              32.6332264,
              0.251999599718244
             ],
             [
              32.63326299999999,
              0.2519693997182817
             ],
             [
              32.63323079999999,
              0.251930399718317
             ]
            ]
           ],
           "type": "Polygon"
          },
          "id": "108",
          "properties": {
           "class": 1,
           "style": {
            "color": "black",
            "fillColor": "#440154ff",
            "weight": 0.9
           }
          },
          "type": "Feature"
         },
         {
          "bbox": [
           32.6283287,
           0.2567951997129068,
           32.6284471,
           0.2569189997127521
          ],
          "geometry": {
           "coordinates": [
            [
             [
              32.6283287,
              0.2568598997128111
             ],
             [
              32.628381899999994,
              0.2569189997127521
             ],
             [
              32.6284277,
              0.2568776997128136
             ],
             [
              32.6284211,
              0.2568704997128041
             ],
             [
              32.6284471,
              0.2568469997128257
             ],
             [
              32.6284004,
              0.2567951997129068
             ],
             [
              32.6283287,
              0.2568598997128111
             ]
            ]
           ],
           "type": "Polygon"
          },
          "id": "109",
          "properties": {
           "class": 1,
           "style": {
            "color": "black",
            "fillColor": "#440154ff",
            "weight": 0.9
           }
          },
          "type": "Feature"
         },
         {
          "bbox": [
           32.6349929,
           0.25700909971265384,
           32.635065499999996,
           0.2570859997125473
          ],
          "geometry": {
           "coordinates": [
            [
             [
              32.6349929,
              0.2570606997125948
             ],
             [
              32.6350253,
              0.2570859997125473
             ],
             [
              32.635065499999996,
              0.25703439971263675
             ],
             [
              32.6350331,
              0.25700909971265384
             ],
             [
              32.6349929,
              0.2570606997125948
             ]
            ]
           ],
           "type": "Polygon"
          },
          "id": "110",
          "properties": {
           "class": 1,
           "style": {
            "color": "black",
            "fillColor": "#440154ff",
            "weight": 0.9
           }
          },
          "type": "Feature"
         },
         {
          "bbox": [
           32.6351021,
           0.25828429971124794,
           32.6351248,
           0.2583128997111807
          ],
          "geometry": {
           "coordinates": [
            [
             [
              32.6351021,
              0.25830859971121434
             ],
             [
              32.6351185,
              0.2583128997111807
             ],
             [
              32.6351248,
              0.2582885997112166
             ],
             [
              32.6351085,
              0.25828429971124794
             ],
             [
              32.6351021,
              0.25830859971121434
             ]
            ]
           ],
           "type": "Polygon"
          },
          "id": "111",
          "properties": {
           "class": 1,
           "style": {
            "color": "black",
            "fillColor": "#440154ff",
            "weight": 0.9
           }
          },
          "type": "Feature"
         },
         {
          "bbox": [
           32.6365825,
           0.25407699971596104,
           32.6366297,
           0.2541218997158812
          ],
          "geometry": {
           "coordinates": [
            [
             [
              32.6365955,
              0.2541218997158812
             ],
             [
              32.6366297,
              0.2541071997158911
             ],
             [
              32.63661669999999,
              0.25407699971596104
             ],
             [
              32.6365825,
              0.25409169971592277
             ],
             [
              32.6365955,
              0.2541218997158812
             ]
            ]
           ],
           "type": "Polygon"
          },
          "id": "112",
          "properties": {
           "class": 1,
           "style": {
            "color": "black",
            "fillColor": "#440154ff",
            "weight": 0.9
           }
          },
          "type": "Feature"
         },
         {
          "bbox": [
           32.6349588,
           0.2607463997084991,
           32.63497989999999,
           0.2607752997084271
          ],
          "geometry": {
           "coordinates": [
            [
             [
              32.6349588,
              0.26076979970845904
             ],
             [
              32.6349726,
              0.2607752997084271
             ],
             [
              32.63497989999999,
              0.2607505997084676
             ],
             [
              32.6349668,
              0.2607463997084991
             ],
             [
              32.6349588,
              0.26076979970845904
             ]
            ]
           ],
           "type": "Polygon"
          },
          "id": "113",
          "properties": {
           "class": 1,
           "style": {
            "color": "black",
            "fillColor": "#440154ff",
            "weight": 0.9
           }
          },
          "type": "Feature"
         },
         {
          "bbox": [
           32.63287239999999,
           0.25603029971375935,
           32.632913499999994,
           0.25612229971363326
          ],
          "geometry": {
           "coordinates": [
            [
             [
              32.63287239999999,
              0.25603229971375485
             ],
             [
              32.632877699999995,
              0.25612229971363326
             ],
             [
              32.632913499999994,
              0.25612009971364386
             ],
             [
              32.6329082,
              0.25603029971375935
             ],
             [
              32.63287239999999,
              0.25603229971375485
             ]
            ]
           ],
           "type": "Polygon"
          },
          "id": "114",
          "properties": {
           "class": 1,
           "style": {
            "color": "black",
            "fillColor": "#440154ff",
            "weight": 0.9
           }
          },
          "type": "Feature"
         },
         {
          "bbox": [
           32.6279919,
           0.2574826997121385,
           32.6280143,
           0.25750729971210856
          ],
          "geometry": {
           "coordinates": [
            [
             [
              32.6280003,
              0.25750729971210856
             ],
             [
              32.6280143,
              0.257500799712098
             ],
             [
              32.6280059,
              0.2574826997121385
             ],
             [
              32.6279919,
              0.25748919971211237
             ],
             [
              32.6280003,
              0.25750729971210856
             ]
            ]
           ],
           "type": "Polygon"
          },
          "id": "115",
          "properties": {
           "class": 1,
           "style": {
            "color": "black",
            "fillColor": "#440154ff",
            "weight": 0.9
           }
          },
          "type": "Feature"
         },
         {
          "bbox": [
           32.636121,
           0.2536751997163686,
           32.6361522,
           0.25369809971636587
          ],
          "geometry": {
           "coordinates": [
            [
             [
              32.636121,
              0.2536911997163487
             ],
             [
              32.636125099999994,
              0.25369809971636587
             ],
             [
              32.6361522,
              0.2536819997163566
             ],
             [
              32.6361481,
              0.2536751997163686
             ],
             [
              32.636121,
              0.2536911997163487
             ]
            ]
           ],
           "type": "Polygon"
          },
          "id": "116",
          "properties": {
           "class": 1,
           "style": {
            "color": "black",
            "fillColor": "#440154ff",
            "weight": 0.9
           }
          },
          "type": "Feature"
         },
         {
          "bbox": [
           32.6305146,
           0.25430629971570307,
           32.63055299999999,
           0.2543454997156353
          ],
          "geometry": {
           "coordinates": [
            [
             [
              32.6305146,
              0.25432979971563685
             ],
             [
              32.6305343,
              0.2543454997156353
             ],
             [
              32.63055299999999,
              0.2543219997156468
             ],
             [
              32.63053339999999,
              0.25430629971570307
             ],
             [
              32.6305146,
              0.25432979971563685
             ]
            ]
           ],
           "type": "Polygon"
          },
          "id": "117",
          "properties": {
           "class": 1,
           "style": {
            "color": "black",
            "fillColor": "#440154ff",
            "weight": 0.9
           }
          },
          "type": "Feature"
         },
         {
          "bbox": [
           32.631078499999994,
           0.25542619971442004,
           32.63118889999999,
           0.25554209971428016
          ],
          "geometry": {
           "coordinates": [
            [
             [
              32.631078499999994,
              0.25547789971437285
             ],
             [
              32.63114,
              0.25554209971428016
             ],
             [
              32.63118889999999,
              0.25548949971435664
             ],
             [
              32.63112739999999,
              0.25542619971442004
             ],
             [
              32.631078499999994,
              0.25547789971437285
             ]
            ]
           ],
           "type": "Polygon"
          },
          "id": "118",
          "properties": {
           "class": 1,
           "style": {
            "color": "black",
            "fillColor": "#440154ff",
            "weight": 0.9
           }
          },
          "type": "Feature"
         },
         {
          "bbox": [
           32.6328153,
           0.25746349971214183,
           32.632937299999995,
           0.2576023997119826
          ],
          "geometry": {
           "coordinates": [
            [
             [
              32.6328153,
              0.25756069971204626
             ],
             [
              32.63287319999999,
              0.2576023997119826
             ],
             [
              32.63292239999999,
              0.2575340997120451
             ],
             [
              32.63291639999999,
              0.2575297997120502
             ],
             [
              32.632937299999995,
              0.2575008997120974
             ],
             [
              32.6328853,
              0.25746349971214183
             ],
             [
              32.6328153,
              0.25756069971204626
             ]
            ]
           ],
           "type": "Polygon"
          },
          "id": "119",
          "properties": {
           "class": 1,
           "style": {
            "color": "black",
            "fillColor": "#440154ff",
            "weight": 0.9
           }
          },
          "type": "Feature"
         },
         {
          "bbox": [
           32.6367682,
           0.25716979971247383,
           32.6368102,
           0.25720019971242497
          ],
          "geometry": {
           "coordinates": [
            [
             [
              32.6367682,
              0.2571938997124695
             ],
             [
              32.6368052,
              0.25720019971242497
             ],
             [
              32.6368102,
              0.2571761997124503
             ],
             [
              32.636797699999995,
              0.2571735997124836
             ],
             [
              32.6367972,
              0.2571756997124582
             ],
             [
              32.6367726,
              0.25716979971247383
             ],
             [
              32.6367682,
              0.2571938997124695
             ]
            ]
           ],
           "type": "Polygon"
          },
          "id": "120",
          "properties": {
           "class": 1,
           "style": {
            "color": "black",
            "fillColor": "#440154ff",
            "weight": 0.9
           }
          },
          "type": "Feature"
         },
         {
          "bbox": [
           32.6313345,
           0.25502309971487946,
           32.631423999999996,
           0.25509969971477275
          ],
          "geometry": {
           "coordinates": [
            [
             [
              32.6313345,
              0.2550510997148423
             ],
             [
              32.6314111,
              0.25509969971477275
             ],
             [
              32.631423999999996,
              0.25507939971481
             ],
             [
              32.6313968,
              0.2550620997148311
             ],
             [
              32.63140159999999,
              0.2550544997148501
             ],
             [
              32.631352199999995,
              0.25502309971487946
             ],
             [
              32.6313345,
              0.2550510997148423
             ]
            ]
           ],
           "type": "Polygon"
          },
          "id": "121",
          "properties": {
           "class": 1,
           "style": {
            "color": "black",
            "fillColor": "#440154ff",
            "weight": 0.9
           }
          },
          "type": "Feature"
         },
         {
          "bbox": [
           32.6365706,
           0.25715579971247843,
           32.6365906,
           0.25717589971245874
          ],
          "geometry": {
           "coordinates": [
            [
             [
              32.6365706,
              0.25717349971249326
             ],
             [
              32.6365882,
              0.25717589971245874
             ],
             [
              32.6365906,
              0.2571581997124595
             ],
             [
              32.636573,
              0.25715579971247843
             ],
             [
              32.6365706,
              0.25717349971249326
             ]
            ]
           ],
           "type": "Polygon"
          },
          "id": "122",
          "properties": {
           "class": 1,
           "style": {
            "color": "black",
            "fillColor": "#440154ff",
            "weight": 0.9
           }
          },
          "type": "Feature"
         },
         {
          "bbox": [
           32.6360082,
           0.25855179971091513,
           32.63610099999999,
           0.258739099710739
          ],
          "geometry": {
           "coordinates": [
            [
             [
              32.6360082,
              0.25872699971072827
             ],
             [
              32.6360484,
              0.258739099710739
             ],
             [
              32.63610099999999,
              0.2585638997109089
             ],
             [
              32.6360607,
              0.25855179971091513
             ],
             [
              32.6360082,
              0.25872699971072827
             ]
            ]
           ],
           "type": "Polygon"
          },
          "id": "123",
          "properties": {
           "class": 1,
           "style": {
            "color": "black",
            "fillColor": "#440154ff",
            "weight": 0.9
           }
          },
          "type": "Feature"
         },
         {
          "bbox": [
           32.63246900000001,
           0.2522299997180094,
           32.6325329,
           0.2522925997179406
          ],
          "geometry": {
           "coordinates": [
            [
             [
              32.6325074,
              0.2522925997179406
             ],
             [
              32.6325329,
              0.2522611997179675
             ],
             [
              32.63249439999999,
              0.2522299997180094
             ],
             [
              32.63246900000001,
              0.2522613997179469
             ],
             [
              32.6325074,
              0.2522925997179406
             ]
            ]
           ],
           "type": "Polygon"
          },
          "id": "124",
          "properties": {
           "class": 1,
           "style": {
            "color": "black",
            "fillColor": "#440154ff",
            "weight": 0.9
           }
          },
          "type": "Feature"
         },
         {
          "bbox": [
           32.6310673,
           0.2567761997129163,
           32.63116419999999,
           0.2568781997128011
          ],
          "geometry": {
           "coordinates": [
            [
             [
              32.6311105,
              0.2568781997128011
             ],
             [
              32.63116419999999,
              0.2568439997128487
             ],
             [
              32.6311211,
              0.2567761997129163
             ],
             [
              32.6310673,
              0.2568103997128914
             ],
             [
              32.6311105,
              0.2568781997128011
             ]
            ]
           ],
           "type": "Polygon"
          },
          "id": "125",
          "properties": {
           "class": 1,
           "style": {
            "color": "black",
            "fillColor": "#440154ff",
            "weight": 0.9
           }
          },
          "type": "Feature"
         },
         {
          "bbox": [
           32.6321148,
           0.25546029971440426,
           32.63216549999999,
           0.25550779971433146
          ],
          "geometry": {
           "coordinates": [
            [
             [
              32.6321148,
              0.2554838997143599
             ],
             [
              32.6321403,
              0.25550779971433146
             ],
             [
              32.63216549999999,
              0.25548139971434436
             ],
             [
              32.6321432,
              0.25546029971440426
             ],
             [
              32.6321148,
              0.2554838997143599
             ]
            ]
           ],
           "type": "Polygon"
          },
          "id": "126",
          "properties": {
           "class": 1,
           "style": {
            "color": "black",
            "fillColor": "#440154ff",
            "weight": 0.9
           }
          },
          "type": "Feature"
         },
         {
          "bbox": [
           32.6276842,
           0.2578557997117139,
           32.6277238,
           0.2579046997116498
          ],
          "geometry": {
           "coordinates": [
            [
             [
              32.6276996,
              0.2579046997116498
             ],
             [
              32.6277238,
              0.25789529971166947
             ],
             [
              32.6277085,
              0.2578557997117139
             ],
             [
              32.6276842,
              0.2578651997116942
             ],
             [
              32.6276996,
              0.2579046997116498
             ]
            ]
           ],
           "type": "Polygon"
          },
          "id": "127",
          "properties": {
           "class": 1,
           "style": {
            "color": "black",
            "fillColor": "#440154ff",
            "weight": 0.9
           }
          },
          "type": "Feature"
         },
         {
          "bbox": [
           32.6353658,
           0.25859629971086506,
           32.6354077,
           0.25862959971084964
          ],
          "geometry": {
           "coordinates": [
            [
             [
              32.6353658,
              0.25861769971083326
             ],
             [
              32.6354003,
              0.25862959971084964
             ],
             [
              32.6354077,
              0.2586080997108907
             ],
             [
              32.6353732,
              0.25859629971086506
             ],
             [
              32.6353658,
              0.25861769971083326
             ]
            ]
           ],
           "type": "Polygon"
          },
          "id": "128",
          "properties": {
           "class": 1,
           "style": {
            "color": "black",
            "fillColor": "#440154ff",
            "weight": 0.9
           }
          },
          "type": "Feature"
         },
         {
          "bbox": [
           32.6332278,
           0.2564110997133319,
           32.6333601,
           0.2565656997131684
          ],
          "geometry": {
           "coordinates": [
            [
             [
              32.6332921,
              0.2564110997133319
             ],
             [
              32.6332278,
              0.2565283997132108
             ],
             [
              32.6332958,
              0.2565656997131684
             ],
             [
              32.6333601,
              0.2564482997132912
             ],
             [
              32.6332921,
              0.2564110997133319
             ]
            ]
           ],
           "type": "Polygon"
          },
          "id": "129",
          "properties": {
           "class": 1,
           "style": {
            "color": "black",
            "fillColor": "#440154ff",
            "weight": 0.9
           }
          },
          "type": "Feature"
         },
         {
          "bbox": [
           32.63350859999999,
           0.25562739971420484,
           32.6335645,
           0.2556817997141339
          ],
          "geometry": {
           "coordinates": [
            [
             [
              32.63350859999999,
              0.2556640997141717
             ],
             [
              32.633547799999995,
              0.2556817997141339
             ],
             [
              32.6335645,
              0.2556437997141748
             ],
             [
              32.6335267,
              0.25562739971420484
             ],
             [
              32.63350859999999,
              0.2556640997141717
             ]
            ]
           ],
           "type": "Polygon"
          },
          "id": "130",
          "properties": {
           "class": 1,
           "style": {
            "color": "black",
            "fillColor": "#440154ff",
            "weight": 0.9
           }
          },
          "type": "Feature"
         },
         {
          "bbox": [
           32.6335604,
           0.2556032997142368,
           32.63363609999999,
           0.25566459971414457
          ],
          "geometry": {
           "coordinates": [
            [
             [
              32.6335604,
              0.2556387997141864
             ],
             [
              32.633619100000004,
              0.25566459971414457
             ],
             [
              32.63363609999999,
              0.2556259997142101
             ],
             [
              32.6336049,
              0.25561229971422905
             ],
             [
              32.6336036,
              0.2556153997141897
             ],
             [
              32.63357599999999,
              0.2556032997142368
             ],
             [
              32.6335604,
              0.2556387997141864
             ]
            ]
           ],
           "type": "Polygon"
          },
          "id": "131",
          "properties": {
           "class": 1,
           "style": {
            "color": "black",
            "fillColor": "#440154ff",
            "weight": 0.9
           }
          },
          "type": "Feature"
         },
         {
          "bbox": [
           32.6285095,
           0.2564915997132471,
           32.628730299999994,
           0.2567482997129459
          ],
          "geometry": {
           "coordinates": [
            [
             [
              32.62854649999999,
              0.2564915997132471
             ],
             [
              32.6285095,
              0.2565212997132052
             ],
             [
              32.6285754,
              0.2566033997131203
             ],
             [
              32.62856729999999,
              0.2566098997131146
             ],
             [
              32.6286255,
              0.2566823997129987
             ],
             [
              32.62863269999999,
              0.25667689971300417
             ],
             [
              32.628685399999995,
              0.2567482997129459
             ],
             [
              32.628730299999994,
              0.25671369971297064
             ],
             [
              32.6286744,
              0.2566367997130905
             ],
             [
              32.6286677,
              0.2566423997130632
             ],
             [
              32.62859439999999,
              0.25655129971318164
             ],
             [
              32.62854649999999,
              0.2564915997132471
             ]
            ]
           ],
           "type": "Polygon"
          },
          "id": "132",
          "properties": {
           "class": 1,
           "style": {
            "color": "black",
            "fillColor": "#440154ff",
            "weight": 0.9
           }
          },
          "type": "Feature"
         },
         {
          "bbox": [
           32.6341396,
           0.254416499715549,
           32.6342126,
           0.2544897997154618
          ],
          "geometry": {
           "coordinates": [
            [
             [
              32.6341396,
              0.2544599997154964
             ],
             [
              32.6341819,
              0.2544897997154618
             ],
             [
              32.6342126,
              0.25444629971551996
             ],
             [
              32.6341702,
              0.254416499715549
             ],
             [
              32.6341396,
              0.2544599997154964
             ]
            ]
           ],
           "type": "Polygon"
          },
          "id": "133",
          "properties": {
           "class": 1,
           "style": {
            "color": "black",
            "fillColor": "#440154ff",
            "weight": 0.9
           }
          },
          "type": "Feature"
         },
         {
          "bbox": [
           32.6317641,
           0.25412669971587326,
           32.63183959999999,
           0.2542007997158138
          ],
          "geometry": {
           "coordinates": [
            [
             [
              32.6317641,
              0.25416759971581426
             ],
             [
              32.63179379999999,
              0.2542007997158138
             ],
             [
              32.63183959999999,
              0.25415989971582703
             ],
             [
              32.63180989999999,
              0.25412669971587326
             ],
             [
              32.6317641,
              0.25416759971581426
             ]
            ]
           ],
           "type": "Polygon"
          },
          "id": "134",
          "properties": {
           "class": 1,
           "style": {
            "color": "black",
            "fillColor": "#440154ff",
            "weight": 0.9
           }
          },
          "type": "Feature"
         },
         {
          "bbox": [
           32.63464359999999,
           0.2595822997097621,
           32.634664,
           0.2595946997097683
          ],
          "geometry": {
           "coordinates": [
            [
             [
              32.6346437,
              0.2595946997097683
             ],
             [
              32.634664,
              0.25959439970974346
             ],
             [
              32.63466389999999,
              0.2595822997097621
             ],
             [
              32.63464359999999,
              0.2595825997097814
             ],
             [
              32.6346437,
              0.2595946997097683
             ]
            ]
           ],
           "type": "Polygon"
          },
          "id": "135",
          "properties": {
           "class": 1,
           "style": {
            "color": "black",
            "fillColor": "#440154ff",
            "weight": 0.9
           }
          },
          "type": "Feature"
         },
         {
          "bbox": [
           32.6305545,
           0.25511189971477577,
           32.630683499999996,
           0.2552313997146398
          ],
          "geometry": {
           "coordinates": [
            [
             [
              32.6305545,
              0.25515569971472746
             ],
             [
              32.63062769999999,
              0.2552313997146398
             ],
             [
              32.630683499999996,
              0.2551765997146986
             ],
             [
              32.63066289999999,
              0.25515669971472593
             ],
             [
              32.6306542,
              0.25515569971472746
             ],
             [
              32.630627399999995,
              0.25512819971475675
             ],
             [
              32.63062039999999,
              0.2551332997147579
             ],
             [
              32.6305979,
              0.25511189971477577
             ],
             [
              32.6305545,
              0.25515569971472746
             ]
            ]
           ],
           "type": "Polygon"
          },
          "id": "136",
          "properties": {
           "class": 1,
           "style": {
            "color": "black",
            "fillColor": "#440154ff",
            "weight": 0.9
           }
          },
          "type": "Feature"
         },
         {
          "bbox": [
           32.6372069,
           0.2567682997129257,
           32.637236,
           0.2568153997128929
          ],
          "geometry": {
           "coordinates": [
            [
             [
              32.6372069,
              0.2568139997128709
             ],
             [
              32.637229,
              0.2568153997128929
             ],
             [
              32.6372327,
              0.25679839971290913
             ],
             [
              32.63723420000001,
              0.2567766997129267
             ],
             [
              32.6372355,
              0.2567761997129163
             ],
             [
              32.637236,
              0.25677019971293713
             ],
             [
              32.6372103,
              0.2567682997129257
             ],
             [
              32.6372069,
              0.2568139997128709
             ]
            ]
           ],
           "type": "Polygon"
          },
          "id": "137",
          "properties": {
           "class": 1,
           "style": {
            "color": "black",
            "fillColor": "#440154ff",
            "weight": 0.9
           }
          },
          "type": "Feature"
         },
         {
          "bbox": [
           32.63656,
           0.25605439971374383,
           32.6365937,
           0.25609019971368024
          ],
          "geometry": {
           "coordinates": [
            [
             [
              32.6365835,
              0.25609019971368024
             ],
             [
              32.6365937,
              0.2560638997137311
             ],
             [
              32.6365695,
              0.25605439971374383
             ],
             [
              32.63656,
              0.2560813997136735
             ],
             [
              32.6365835,
              0.25609019971368024
             ]
            ]
           ],
           "type": "Polygon"
          },
          "id": "138",
          "properties": {
           "class": 1,
           "style": {
            "color": "black",
            "fillColor": "#440154ff",
            "weight": 0.9
           }
          },
          "type": "Feature"
         },
         {
          "bbox": [
           32.63162359999999,
           0.25692789971274693,
           32.63167359999999,
           0.2569933997126605
          ],
          "geometry": {
           "coordinates": [
            [
             [
              32.63162359999999,
              0.2569385997127219
             ],
             [
              32.6316548,
              0.2569933997126605
             ],
             [
              32.63167359999999,
              0.25698269971268134
             ],
             [
              32.6316424,
              0.25692789971274693
             ],
             [
              32.63162359999999,
              0.2569385997127219
             ]
            ]
           ],
           "type": "Polygon"
          },
          "id": "139",
          "properties": {
           "class": 1,
           "style": {
            "color": "black",
            "fillColor": "#440154ff",
            "weight": 0.9
           }
          },
          "type": "Feature"
         },
         {
          "bbox": [
           32.6290028,
           0.255693999714125,
           32.629062499999996,
           0.25575779971406376
          ],
          "geometry": {
           "coordinates": [
            [
             [
              32.6290028,
              0.2557205997140778
             ],
             [
              32.629034499999996,
              0.25575779971406376
             ],
             [
              32.629062499999996,
              0.2557321997141052
             ],
             [
              32.6290339,
              0.255693999714125
             ],
             [
              32.6290028,
              0.2557205997140778
             ]
            ]
           ],
           "type": "Polygon"
          },
          "id": "140",
          "properties": {
           "class": 1,
           "style": {
            "color": "black",
            "fillColor": "#440154ff",
            "weight": 0.9
           }
          },
          "type": "Feature"
         },
         {
          "bbox": [
           32.6356394,
           0.25680689971286763,
           32.6357858,
           0.2569766997126941
          ],
          "geometry": {
           "coordinates": [
            [
             [
              32.635731299999996,
              0.2569766997126941
             ],
             [
              32.6357858,
              0.25684559971281673
             ],
             [
              32.635692799999994,
              0.25680689971286763
             ],
             [
              32.6356898,
              0.25681419971288216
             ],
             [
              32.63568339999999,
              0.2568222997128543
             ],
             [
              32.63565169999999,
              0.2569134997127553
             ],
             [
              32.6356472,
              0.25691989971275714
             ],
             [
              32.6356394,
              0.2569383997127325
             ],
             [
              32.635731299999996,
              0.2569766997126941
             ]
            ]
           ],
           "type": "Polygon"
          },
          "id": "141",
          "properties": {
           "class": 1,
           "style": {
            "color": "black",
            "fillColor": "#440154ff",
            "weight": 0.9
           }
          },
          "type": "Feature"
         },
         {
          "bbox": [
           32.6325552,
           0.2529526997171653,
           32.6325851,
           0.2529791997171656
          ],
          "geometry": {
           "coordinates": [
            [
             [
              32.6325552,
              0.2529678997171899
             ],
             [
              32.632563,
              0.2529791997171656
             ],
             [
              32.6325851,
              0.2529640997171763
             ],
             [
              32.63257730000001,
              0.2529526997171653
             ],
             [
              32.6325552,
              0.2529678997171899
             ]
            ]
           ],
           "type": "Polygon"
          },
          "id": "142",
          "properties": {
           "class": 1,
           "style": {
            "color": "black",
            "fillColor": "#440154ff",
            "weight": 0.9
           }
          },
          "type": "Feature"
         },
         {
          "bbox": [
           32.6325588,
           0.2573617997122419,
           32.6326172,
           0.25740779971220495
          ],
          "geometry": {
           "coordinates": [
            [
             [
              32.6325588,
              0.25738719971222385
             ],
             [
              32.6326062,
              0.25740779971220495
             ],
             [
              32.6326172,
              0.2573823997122336
             ],
             [
              32.6325698,
              0.2573617997122419
             ],
             [
              32.63256599999999,
              0.2573706997122398
             ],
             [
              32.6325588,
              0.25738719971222385
             ]
            ]
           ],
           "type": "Polygon"
          },
          "id": "143",
          "properties": {
           "class": 1,
           "style": {
            "color": "black",
            "fillColor": "#440154ff",
            "weight": 0.9
           }
          },
          "type": "Feature"
         },
         {
          "bbox": [
           32.6307702,
           0.2574386997121765,
           32.6310108,
           0.2576403997119349
          ],
          "geometry": {
           "coordinates": [
            [
             [
              32.63082140000001,
              0.2576262997119647
             ],
             [
              32.6309158,
              0.2575840997120256
             ],
             [
              32.6309411,
              0.2576403997119349
             ],
             [
              32.6310108,
              0.25760919971197643
             ],
             [
              32.6309747,
              0.2575282997120751
             ],
             [
              32.6309601,
              0.257534799712056
             ],
             [
              32.6309521,
              0.2575167997120902
             ],
             [
              32.630966599999994,
              0.25751029971208633
             ],
             [
              32.6309346,
              0.2574386997121765
             ],
             [
              32.6308916,
              0.2574576997121498
             ],
             [
              32.6308709,
              0.2574487997121835
             ],
             [
              32.63085449999999,
              0.2574566997121617
             ],
             [
              32.6308419,
              0.2574512997121765
             ],
             [
              32.6308038,
              0.25746959971214806
             ],
             [
              32.630798299999995,
              0.2574834997121322
             ],
             [
              32.63078169999999,
              0.25749059971210086
             ],
             [
              32.6307877,
              0.2575038997121055
             ],
             [
              32.6307702,
              0.25751169971209875
             ],
             [
              32.63082140000001,
              0.2576262997119647
             ]
            ]
           ],
           "type": "Polygon"
          },
          "id": "144",
          "properties": {
           "class": 1,
           "style": {
            "color": "black",
            "fillColor": "#440154ff",
            "weight": 0.9
           }
          },
          "type": "Feature"
         },
         {
          "bbox": [
           32.6354157,
           0.2566489997130509,
           32.63547189999999,
           0.25673099971295266
          ],
          "geometry": {
           "coordinates": [
            [
             [
              32.6354157,
              0.25672009971298404
             ],
             [
              32.63544709999999,
              0.25673099971295266
             ],
             [
              32.63547189999999,
              0.256659999713043
             ],
             [
              32.6354405,
              0.2566489997130509
             ],
             [
              32.6354157,
              0.25672009971298404
             ]
            ]
           ],
           "type": "Polygon"
          },
          "id": "145",
          "properties": {
           "class": 1,
           "style": {
            "color": "black",
            "fillColor": "#440154ff",
            "weight": 0.9
           }
          },
          "type": "Feature"
         },
         {
          "bbox": [
           32.6365592,
           0.2578219997117327,
           32.6365881,
           0.2578649997116858
          ],
          "geometry": {
           "coordinates": [
            [
             [
              32.6365676,
              0.2578649997116858
             ],
             [
              32.6365881,
              0.2578605997117108
             ],
             [
              32.6365798,
              0.2578219997117327
             ],
             [
              32.6365592,
              0.25782649971175853
             ],
             [
              32.6365676,
              0.2578649997116858
             ]
            ]
           ],
           "type": "Polygon"
          },
          "id": "146",
          "properties": {
           "class": 1,
           "style": {
            "color": "black",
            "fillColor": "#440154ff",
            "weight": 0.9
           }
          },
          "type": "Feature"
         },
         {
          "bbox": [
           32.63760129999999,
           0.2561261997136331,
           32.6376311,
           0.25617159971361153
          ],
          "geometry": {
           "coordinates": [
            [
             [
              32.63760129999999,
              0.25616599971359594
             ],
             [
              32.6376176,
              0.25617159971361153
             ],
             [
              32.6376311,
              0.256131799713633
             ],
             [
              32.6376147,
              0.2561261997136331
             ],
             [
              32.63760129999999,
              0.25616599971359594
             ]
            ]
           ],
           "type": "Polygon"
          },
          "id": "147",
          "properties": {
           "class": 1,
           "style": {
            "color": "black",
            "fillColor": "#440154ff",
            "weight": 0.9
           }
          },
          "type": "Feature"
         },
         {
          "bbox": [
           32.6276923,
           0.2579897997115525,
           32.6277701,
           0.25809889971144007
          ],
          "geometry": {
           "coordinates": [
            [
             [
              32.6277372,
              0.25809889971144007
             ],
             [
              32.6277701,
              0.25808309971145593
             ],
             [
              32.6277251,
              0.2579897997115525
             ],
             [
              32.6276923,
              0.2580055997115335
             ],
             [
              32.6277372,
              0.25809889971144007
             ]
            ]
           ],
           "type": "Polygon"
          },
          "id": "148",
          "properties": {
           "class": 1,
           "style": {
            "color": "black",
            "fillColor": "#440154ff",
            "weight": 0.9
           }
          },
          "type": "Feature"
         },
         {
          "bbox": [
           32.634222199999996,
           0.2538254997162002,
           32.63431679999999,
           0.253942899716096
          ],
          "geometry": {
           "coordinates": [
            [
             [
              32.634222199999996,
              0.253846899716198
             ],
             [
              32.6342764,
              0.253942899716096
             ],
             [
              32.634276099999994,
              0.2539420997160934
             ],
             [
              32.63431679999999,
              0.2539289997161182
             ],
             [
              32.634260399999995,
              0.2538254997162002
             ],
             [
              32.634222199999996,
              0.253846899716198
             ]
            ]
           ],
           "type": "Polygon"
          },
          "id": "149",
          "properties": {
           "class": 1,
           "style": {
            "color": "black",
            "fillColor": "#440154ff",
            "weight": 0.9
           }
          },
          "type": "Feature"
         },
         {
          "bbox": [
           32.64080749383968,
           0.2558927189417352,
           32.64111191268924,
           0.2561585397998426
          ],
          "geometry": {
           "coordinates": [
            [
             [
              32.64080749383968,
              0.2561576781650672
             ],
             [
              32.64111092592268,
              0.2561585397998426
             ],
             [
              32.64111191268924,
              0.2558935805767635
             ],
             [
              32.640808480567046,
              0.2558927189417352
             ],
             [
              32.64080749383968,
              0.2561576781650672
             ]
            ]
           ],
           "type": "Polygon"
          },
          "id": "150",
          "properties": {
           "class": 0,
           "style": {
            "color": "black",
            "fillColor": "#fee724ff",
            "weight": 0.9
           }
          },
          "type": "Feature"
         },
         {
          "bbox": [
           32.64051846742968,
           0.25210294477479,
           32.64076190426023,
           0.2522891051088414
          ],
          "geometry": {
           "coordinates": [
            [
             [
              32.64051846742968,
              0.2522884158312455
             ],
             [
              32.64076121355397,
              0.2522891051088414
             ],
             [
              32.64076190426023,
              0.2521036340525004
             ],
             [
              32.64051915811401,
              0.25210294477479
             ],
             [
              32.64051846742968,
              0.2522884158312455
             ]
            ]
           ],
           "type": "Polygon"
          },
          "id": "151",
          "properties": {
           "class": 0,
           "style": {
            "color": "black",
            "fillColor": "#fee724ff",
            "weight": 0.9
           }
          },
          "type": "Feature"
         },
         {
          "bbox": [
           32.633450138565316,
           0.24937570039615495,
           32.63362470452182,
           0.24952813166648807
          ],
          "geometry": {
           "coordinates": [
            [
             [
              32.633450138565316,
              0.24952763805245604
             ],
             [
              32.63362413922304,
              0.24952813166648807
             ],
             [
              32.63362470452182,
              0.24937619400991154
             ],
             [
              32.633450703851246,
              0.24937570039615495
             ],
             [
              32.633450138565316,
              0.24952763805245604
             ]
            ]
           ],
           "type": "Polygon"
          },
          "id": "152",
          "properties": {
           "class": 0,
           "style": {
            "color": "black",
            "fillColor": "#fee724ff",
            "weight": 0.9
           }
          },
          "type": "Feature"
         },
         {
          "bbox": [
           32.62920156804863,
           0.25220708770612305,
           32.62933868622378,
           0.25231600239927093
          ],
          "geometry": {
           "coordinates": [
            [
             [
              32.62920156804863,
              0.2523156147753306
             ],
             [
              32.62933828266621,
              0.25231600239927093
             ],
             [
              32.62933868622378,
              0.2522074753291258
             ],
             [
              32.62920197159899,
              0.25220708770612305
             ],
             [
              32.62920156804863,
              0.2523156147753306
             ]
            ]
           ],
           "type": "Polygon"
          },
          "id": "153",
          "properties": {
           "class": 0,
           "style": {
            "color": "black",
            "fillColor": "#fee724ff",
            "weight": 0.9
           }
          },
          "type": "Feature"
         },
         {
          "bbox": [
           32.626828350288974,
           0.261244079119022,
           32.62695250240864,
           0.2613371272243776
          ],
          "geometry": {
           "coordinates": [
            [
             [
              32.626836800149455,
              0.2613371272243776
             ],
             [
              32.62695250240864,
              0.261328272998883
             ],
             [
              32.62694405255287,
              0.261244079119022
             ],
             [
              32.626828350288974,
              0.26125293334499894
             ],
             [
              32.626836800149455,
              0.2613371272243776
             ]
            ]
           ],
           "type": "Polygon"
          },
          "id": "154",
          "properties": {
           "class": 0,
           "style": {
            "color": "black",
            "fillColor": "#fee724ff",
            "weight": 0.9
           }
          },
          "type": "Feature"
         },
         {
          "bbox": [
           32.62930724368659,
           0.2805551834867851,
           32.6295067039007,
           0.28071854054290163
          ],
          "geometry": {
           "coordinates": [
            [
             [
              32.62930724368659,
              0.28071797670778886
             ],
             [
              32.62950609855935,
              0.28071854054290163
             ],
             [
              32.6295067039007,
              0.28055574732186844
             ],
             [
              32.62930784901219,
              0.2805551834867851
             ],
             [
              32.62930724368659,
              0.28071797670778886
             ]
            ]
           ],
           "type": "Polygon"
          },
          "id": "155",
          "properties": {
           "class": 0,
           "style": {
            "color": "black",
            "fillColor": "#fee724ff",
            "weight": 0.9
           }
          },
          "type": "Feature"
         },
         {
          "bbox": [
           32.635523679742896,
           0.2799650490582524,
           32.63577289462972,
           0.2801394004715585
          ],
          "geometry": {
           "coordinates": [
            [
             [
              32.635523679742896,
              0.28013869510121403
             ],
             [
              32.63577224840184,
              0.2801394004715585
             ],
             [
              32.63577289462972,
              0.2799657544287399
             ],
             [
              32.63552432594982,
              0.2799650490582524
             ],
             [
              32.635523679742896,
              0.28013869510121403
             ]
            ]
           ],
           "type": "Polygon"
          },
          "id": "156",
          "properties": {
           "class": 0,
           "style": {
            "color": "black",
            "fillColor": "#fee724ff",
            "weight": 0.9
           }
          },
          "type": "Feature"
         },
         {
          "bbox": [
           32.63876615102937,
           0.283707684942201,
           32.63894067405227,
           0.2838492666189965
          ],
          "geometry": {
           "coordinates": [
            [
             [
              32.63876615102937,
              0.28384877265145464
             ],
             [
              32.63894014877524,
              0.2838492666189965
             ],
             [
              32.63894067405227,
              0.28370817891001443
             ],
             [
              32.63876667629443,
              0.283707684942201
             ],
             [
              32.63876615102937,
              0.28384877265145464
             ]
            ]
           ],
           "type": "Polygon"
          },
          "id": "157",
          "properties": {
           "class": 0,
           "style": {
            "color": "black",
            "fillColor": "#fee724ff",
            "weight": 0.9
           }
          },
          "type": "Feature"
         },
         {
          "bbox": [
           32.670828438323916,
           0.2781125387114647,
           32.67130409366289,
           0.27852789433664704
          ],
          "geometry": {
           "coordinates": [
            [
             [
              32.670828438323916,
              0.2785265427100776
             ],
             [
              32.67130254576483,
              0.27852789433664704
             ],
             [
              32.67130409366289,
              0.2781138903378348
             ],
             [
              32.67082998612634,
              0.2781125387114647
             ],
             [
              32.670828438323916,
              0.2785265427100776
             ]
            ]
           ],
           "type": "Polygon"
          },
          "id": "158",
          "properties": {
           "class": 0,
           "style": {
            "color": "black",
            "fillColor": "#fee724ff",
            "weight": 0.9
           }
          },
          "type": "Feature"
         },
         {
          "bbox": [
           32.69699357703413,
           0.27976048917503366,
           32.69742151592336,
           0.28009291327524616
          ],
          "geometry": {
           "coordinates": [
            [
             [
              32.69699357703413,
              0.280091692664935
             ],
             [
              32.697420273389966,
              0.28009291327524616
             ],
             [
              32.69742151592336,
              0.27976170978531134
             ],
             [
              32.696994819498656,
              0.27976048917503366
             ],
             [
              32.69699357703413,
              0.280091692664935
             ]
            ]
           ],
           "type": "Polygon"
          },
          "id": "159",
          "properties": {
           "class": 0,
           "style": {
            "color": "black",
            "fillColor": "#fee724ff",
            "weight": 0.9
           }
          },
          "type": "Feature"
         },
         {
          "bbox": [
           32.71357197549296,
           0.27115547404029233,
           32.71418971810781,
           0.2716949003432621
          ],
          "geometry": {
           "coordinates": [
            [
             [
              32.71357197549296,
              0.27161060479035987
             ],
             [
              32.714093184097344,
              0.2716949003432621
             ],
             [
              32.71418971810781,
              0.27123976958955265
             ],
             [
              32.71366850939181,
              0.27115547404029233
             ],
             [
              32.71357197549296,
              0.27161060479035987
             ]
            ]
           ],
           "type": "Polygon"
          },
          "id": "160",
          "properties": {
           "class": 0,
           "style": {
            "color": "black",
            "fillColor": "#fee724ff",
            "weight": 0.9
           }
          },
          "type": "Feature"
         },
         {
          "bbox": [
           32.69247155223716,
           0.27078464231735977,
           32.692882801173226,
           0.27107186551265067
          ],
          "geometry": {
           "coordinates": [
            [
             [
              32.692492150945405,
              0.27107186551265067
             ],
             [
              32.692882801173226,
              0.2710486217669554
             ],
             [
              32.692862202515016,
              0.27078464231735977
             ],
             [
              32.69247155223716,
              0.27080788606255474
             ],
             [
              32.692492150945405,
              0.27107186551265067
             ]
            ]
           ],
           "type": "Polygon"
          },
          "id": "161",
          "properties": {
           "class": 0,
           "style": {
            "color": "black",
            "fillColor": "#fee724ff",
            "weight": 0.9
           }
          },
          "type": "Feature"
         },
         {
          "bbox": [
           32.68989715329023,
           0.2740490113861747,
           32.69017004293867,
           0.27432110939232535
          ],
          "geometry": {
           "coordinates": [
            [
             [
              32.68989715329023,
              0.27432033240087084
             ],
             [
              32.690169026011304,
              0.27432110939232535
             ],
             [
              32.69017004293867,
              0.27404978837776545
             ],
             [
              32.68989817018161,
              0.2740490113861747
             ],
             [
              32.68989715329023,
              0.27432033240087084
             ]
            ]
           ],
           "type": "Polygon"
          },
          "id": "162",
          "properties": {
           "class": 0,
           "style": {
            "color": "black",
            "fillColor": "#fee724ff",
            "weight": 0.9
           }
          },
          "type": "Feature"
         },
         {
          "bbox": [
           32.69296406866931,
           0.26930961537487474,
           32.69319786597289,
           0.2695137718376973
          ],
          "geometry": {
           "coordinates": [
            [
             [
              32.69296406866931,
              0.26951310558301944
             ],
             [
              32.693197102975304,
              0.2695137718376973
             ],
             [
              32.69319786597289,
              0.2693102816295126
             ],
             [
              32.69296483164381,
              0.26930961537487474
             ],
             [
              32.69296406866931,
              0.26951310558301944
             ]
            ]
           ],
           "type": "Polygon"
          },
          "id": "163",
          "properties": {
           "class": 0,
           "style": {
            "color": "black",
            "fillColor": "#fee724ff",
            "weight": 0.9
           }
          },
          "type": "Feature"
         },
         {
          "bbox": [
           32.67989903178798,
           0.26935979217524314,
           32.68056920258839,
           0.2698353366971669
          ],
          "geometry": {
           "coordinates": [
            [
             [
              32.679990480543005,
              0.2698353366971669
             ],
             [
              32.68056920258839,
              0.2697247684449839
             ],
             [
              32.68047775393135,
              0.26935979217524314
             ],
             [
              32.67989903178798,
              0.2694703604242008
             ],
             [
              32.679990480543005,
              0.2698353366971669
             ]
            ]
           ],
           "type": "Polygon"
          },
          "id": "164",
          "properties": {
           "class": 0,
           "style": {
            "color": "black",
            "fillColor": "#fee724ff",
            "weight": 0.9
           }
          },
          "type": "Feature"
         },
         {
          "bbox": [
           32.65756706902406,
           0.24183816897071705,
           32.657878734978134,
           0.2421292656269519
          ],
          "geometry": {
           "coordinates": [
            [
             [
              32.65756706902406,
              0.2421104545989145
             ],
             [
              32.65785543991387,
              0.2421292656269519
             ],
             [
              32.657878734978134,
              0.24185697999824105
             ],
             [
              32.65759036405022,
              0.24183816897071705
             ],
             [
              32.65756706902406,
              0.2421104545989145
             ]
            ]
           ],
           "type": "Polygon"
          },
          "id": "165",
          "properties": {
           "class": 0,
           "style": {
            "color": "black",
            "fillColor": "#fee724ff",
            "weight": 0.9
           }
          },
          "type": "Feature"
         },
         {
          "bbox": [
           32.665835176921654,
           0.2379136453802183,
           32.666146907851825,
           0.23821567445486172
          ],
          "geometry": {
           "coordinates": [
            [
             [
              32.665835176921654,
              0.2381998750711607
             ],
             [
              32.66612655225871,
              0.23821567445486172
             ],
             [
              32.666146907851825,
              0.2379294447638702
             ],
             [
              32.66585553247432,
              0.2379136453802183
             ],
             [
              32.665835176921654,
              0.2381998750711607
             ]
            ]
           ],
           "type": "Polygon"
          },
          "id": "166",
          "properties": {
           "class": 0,
           "style": {
            "color": "black",
            "fillColor": "#fee724ff",
            "weight": 0.9
           }
          },
          "type": "Feature"
         },
         {
          "bbox": [
           32.51888428730261,
           0.32285088752496743,
           32.519371025172056,
           0.32319670448781823
          ],
          "geometry": {
           "coordinates": [
            [
             [
              32.51888428730261,
              0.32319534780068904
             ],
             [
              32.51936976285466,
              0.32319670448781823
             ],
             [
              32.519371025172056,
              0.3228522442118037
             ],
             [
              32.51888554953854,
              0.32285088752496743
             ],
             [
              32.51888428730261,
              0.32319534780068904
             ]
            ]
           ],
           "type": "Polygon"
          },
          "id": "167",
          "properties": {
           "class": 0,
           "style": {
            "color": "black",
            "fillColor": "#fee724ff",
            "weight": 0.9
           }
          },
          "type": "Feature"
         },
         {
          "bbox": [
           32.530916391384764,
           0.3218787967671034,
           32.53164916953697,
           0.32256746219670324
          ],
          "geometry": {
           "coordinates": [
            [
             [
              32.531236002821004,
              0.32256746219670324
             ],
             [
              32.53164916953697,
              0.3223567772759046
             ],
             [
              32.531329558164124,
              0.3218787967671034
             ],
             [
              32.530916391384764,
              0.32208948167892454
             ],
             [
              32.531236002821004,
              0.32256746219670324
             ]
            ]
           ],
           "type": "Polygon"
          },
          "id": "168",
          "properties": {
           "class": 0,
           "style": {
            "color": "black",
            "fillColor": "#fee724ff",
            "weight": 0.9
           }
          },
          "type": "Feature"
         },
         {
          "bbox": [
           32.75246225829908,
           0.3386437371322707,
           32.75282756343136,
           0.33896275242354307
          ],
          "geometry": {
           "coordinates": [
            [
             [
              32.75246225829908,
              0.3389617032988852
             ],
             [
              32.75282636204777,
              0.33896275242354307
             ],
             [
              32.75282756343136,
              0.33864478625719424
             ],
             [
              32.75246345962623,
              0.3386437371322707
             ],
             [
              32.75246225829908,
              0.3389617032988852
             ]
            ]
           ],
           "type": "Polygon"
          },
          "id": "169",
          "properties": {
           "class": 0,
           "style": {
            "color": "black",
            "fillColor": "#fee724ff",
            "weight": 0.9
           }
          },
          "type": "Feature"
         },
         {
          "bbox": [
           32.6980021968707,
           0.24457869926845704,
           32.69835037424947,
           0.24485190641649635
          ],
          "geometry": {
           "coordinates": [
            [
             [
              32.69803980357032,
              0.24485190641649635
             ],
             [
              32.69835037424947,
              0.24481407127017282
             ],
             [
              32.69831276758477,
              0.24457869926845704
             ],
             [
              32.6980021968707,
              0.24461653441464562
             ],
             [
              32.69803980357032,
              0.24485190641649635
             ]
            ]
           ],
           "type": "Polygon"
          },
          "id": "170",
          "properties": {
           "class": 0,
           "style": {
            "color": "black",
            "fillColor": "#fee724ff",
            "weight": 0.9
           }
          },
          "type": "Feature"
         },
         {
          "bbox": [
           32.695287582043164,
           0.24217464952561504,
           32.69572775442422,
           0.24249156655438173
          ],
          "geometry": {
           "coordinates": [
            [
             [
              32.695287582043164,
              0.24245120662441666
             ],
             [
              32.695691512949494,
              0.24249156655438173
             ],
             [
              32.69572775442422,
              0.24221500945477825
             ],
             [
              32.69532382346406,
              0.24217464952561504
             ],
             [
              32.695287582043164,
              0.24245120662441666
             ]
            ]
           ],
           "type": "Polygon"
          },
          "id": "171",
          "properties": {
           "class": 0,
           "style": {
            "color": "black",
            "fillColor": "#fee724ff",
            "weight": 0.9
           }
          },
          "type": "Feature"
         },
         {
          "bbox": [
           32.69182163400512,
           0.24605794097098652,
           32.69217813260093,
           0.24629641146800732
          ],
          "geometry": {
           "coordinates": [
            [
             [
              32.69182163400512,
              0.24629539493710892
             ],
             [
              32.69217724235068,
              0.24629641146800732
             ],
             [
              32.69217813260093,
              0.2460589575018381
             ],
             [
              32.69182252421422,
              0.24605794097098652
             ],
             [
              32.69182163400512,
              0.24629539493710892
             ]
            ]
           ],
           "type": "Polygon"
          },
          "id": "172",
          "properties": {
           "class": 0,
           "style": {
            "color": "black",
            "fillColor": "#fee724ff",
            "weight": 0.9
           }
          },
          "type": "Feature"
         },
         {
          "bbox": [
           32.70573823775001,
           0.23891927922730963,
           32.70603198455165,
           0.23915757089183057
          ],
          "geometry": {
           "coordinates": [
            [
             [
              32.70573823775001,
              0.2391567322409592
             ],
             [
              32.706031092694936,
              0.23915757089183057
             ],
             [
              32.70603198455165,
              0.2389201178787946
             ],
             [
              32.70573912957287,
              0.23891927922730963
             ],
             [
              32.70573823775001,
              0.2391567322409592
             ]
            ]
           ],
           "type": "Polygon"
          },
          "id": "173",
          "properties": {
           "class": 0,
           "style": {
            "color": "black",
            "fillColor": "#fee724ff",
            "weight": 0.9
           }
          },
          "type": "Feature"
         },
         {
          "bbox": [
           32.70904593418017,
           0.23682904034336055,
           32.709537806177615,
           0.23724884940075722
          ],
          "geometry": {
           "coordinates": [
            [
             [
              32.70923878531883,
              0.23724884940075722
             ],
             [
              32.709537806177615,
              0.23702938283434458
             ],
             [
              32.70934495504752,
              0.23682904034336055
             ],
             [
              32.70904593418017,
              0.2370485069072235
             ],
             [
              32.70923878531883,
              0.23724884940075722
             ]
            ]
           ],
           "type": "Polygon"
          },
          "id": "174",
          "properties": {
           "class": 0,
           "style": {
            "color": "black",
            "fillColor": "#fee724ff",
            "weight": 0.9
           }
          },
          "type": "Feature"
         },
         {
          "bbox": [
           32.65665291706903,
           0.22144637465070724,
           32.65686326903869,
           0.221631378755401
          ],
          "geometry": {
           "coordinates": [
            [
             [
              32.65665291706903,
              0.2216193787549229
             ],
             [
              32.656849411574036,
              0.221631378755401
             ],
             [
              32.65686326903869,
              0.22145837465053067
             ],
             [
              32.65666677451715,
              0.22144637465070724
             ],
             [
              32.65665291706903,
              0.2216193787549229
             ]
            ]
           ],
           "type": "Polygon"
          },
          "id": "175",
          "properties": {
           "class": 0,
           "style": {
            "color": "black",
            "fillColor": "#fee724ff",
            "weight": 0.9
           }
          },
          "type": "Feature"
         },
         {
          "bbox": [
           32.651248413628956,
           0.22029039048891072,
           32.65154192210453,
           0.2205159650766719
          ],
          "geometry": {
           "coordinates": [
            [
             [
              32.65127753333637,
              0.2205159650766719
             ],
             [
              32.65154192210453,
              0.22048594884621614
             ],
             [
              32.65151280242183,
              0.22029039048891072
             ],
             [
              32.651248413628956,
              0.22032040671964725
             ],
             [
              32.65127753333637,
              0.2205159650766719
             ]
            ]
           ],
           "type": "Polygon"
          },
          "id": "176",
          "properties": {
           "class": 0,
           "style": {
            "color": "black",
            "fillColor": "#fee724ff",
            "weight": 0.9
           }
          },
          "type": "Feature"
         },
         {
          "bbox": [
           32.66164171256763,
           0.21748630574909075,
           32.661848689109135,
           0.2176797697449068
          ],
          "geometry": {
           "coordinates": [
            [
             [
              32.66166464050025,
              0.2176797697449068
             ],
             [
              32.661848689109135,
              0.21766139421331301
             ],
             [
              32.66182576119197,
              0.21748630574909075
             ],
             [
              32.66164171256763,
              0.21750468128062303
             ],
             [
              32.66166464050025,
              0.2176797697449068
             ]
            ]
           ],
           "type": "Polygon"
          },
          "id": "177",
          "properties": {
           "class": 0,
           "style": {
            "color": "black",
            "fillColor": "#fee724ff",
            "weight": 0.9
           }
          },
          "type": "Feature"
         },
         {
          "bbox": [
           32.662636722068136,
           0.3036379044296584,
           32.66288808551115,
           0.3039004336190711
          ],
          "geometry": {
           "coordinates": [
            [
             [
              32.662636722068136,
              0.30386981744315006
             ],
             [
              32.662842932513215,
              0.3039004336190711
             ],
             [
              32.66288808551115,
              0.3036685206044289
             ],
             [
              32.66268187504336,
              0.3036379044296584
             ],
             [
              32.662636722068136,
              0.30386981744315006
             ]
            ]
           ],
           "type": "Polygon"
          },
          "id": "178",
          "properties": {
           "class": 0,
           "style": {
            "color": "black",
            "fillColor": "#fee724ff",
            "weight": 0.9
           }
          },
          "type": "Feature"
         },
         {
          "bbox": [
           32.6667760627951,
           0.3051610246535298,
           32.666950127342105,
           0.30531302705489705
          ],
          "geometry": {
           "coordinates": [
            [
             [
              32.6667760627951,
              0.3053125326880027
             ],
             [
              32.66694956121422,
              0.30531302705489705
             ],
             [
              32.666950127342105,
              0.3051615190206508
             ],
             [
              32.66677662891017,
              0.3051610246535298
             ],
             [
              32.6667760627951,
              0.3053125326880027
             ]
            ]
           ],
           "type": "Polygon"
          },
          "id": "179",
          "properties": {
           "class": 0,
           "style": {
            "color": "black",
            "fillColor": "#fee724ff",
            "weight": 0.9
           }
          },
          "type": "Feature"
         },
         {
          "bbox": [
           32.645879562879884,
           0.2982909057896125,
           32.64606073712404,
           0.2984491156002743
          ],
          "geometry": {
           "coordinates": [
            [
             [
              32.64590273738955,
              0.2984491156002743
             ],
             [
              32.64606073712404,
              0.29842887854049016
             ],
             [
              32.646037562624734,
              0.2982909057896125
             ],
             [
              32.645879562879884,
              0.2983111428488503
             ],
             [
              32.64590273738955,
              0.2984491156002743
             ]
            ]
           ],
           "type": "Polygon"
          },
          "id": "180",
          "properties": {
           "class": 0,
           "style": {
            "color": "black",
            "fillColor": "#fee724ff",
            "weight": 0.9
           }
          },
          "type": "Feature"
         },
         {
          "bbox": [
           32.64636222167957,
           0.2958232978623331,
           32.646520529971575,
           0.29592717557499754
          ],
          "geometry": {
           "coordinates": [
            [
             [
              32.64636222167957,
              0.29592672679192084
             ],
             [
              32.64652014452303,
              0.29592717557499754
             ],
             [
              32.646520529971575,
              0.2958237466451647
             ],
             [
              32.64636260712013,
              0.2958232978623331
             ],
             [
              32.64636222167957,
              0.29592672679192084
             ]
            ]
           ],
           "type": "Polygon"
          },
          "id": "181",
          "properties": {
           "class": 0,
           "style": {
            "color": "black",
            "fillColor": "#fee724ff",
            "weight": 0.9
           }
          },
          "type": "Feature"
         },
         {
          "bbox": [
           32.64797169998835,
           0.29692467172980924,
           32.648140271168835,
           0.2970345920009154
          ],
          "geometry": {
           "coordinates": [
            [
             [
              32.6479847147254,
              0.2970345920009154
             ],
             [
              32.648140271168835,
              0.2970180610095464
             ],
             [
              32.648127256438805,
              0.29692467172980924
             ],
             [
              32.64797169998835,
              0.29694120272049473
             ],
             [
              32.6479847147254,
              0.2970345920009154
             ]
            ]
           ],
           "type": "Polygon"
          },
          "id": "182",
          "properties": {
           "class": 0,
           "style": {
            "color": "black",
            "fillColor": "#fee724ff",
            "weight": 0.9
           }
          },
          "type": "Feature"
         },
         {
          "bbox": [
           32.62874579279374,
           0.30413584399349614,
           32.62897252855713,
           0.3043386443283371
          ],
          "geometry": {
           "coordinates": [
            [
             [
              32.62876175524599,
              0.3043386443283371
             ],
             [
              32.62897252855713,
              0.3043250869881922
             ],
             [
              32.628956566124174,
              0.30413584399349614
             ],
             [
              32.62874579279374,
              0.3041494013334098
             ],
             [
              32.62876175524599,
              0.3043386443283371
             ]
            ]
           ],
           "type": "Polygon"
          },
          "id": "183",
          "properties": {
           "class": 0,
           "style": {
            "color": "black",
            "fillColor": "#fee724ff",
            "weight": 0.9
           }
          },
          "type": "Feature"
         },
         {
          "bbox": [
           32.62158891549214,
           0.3045109364250097,
           32.62185680339697,
           0.30475910957077956
          ],
          "geometry": {
           "coordinates": [
            [
             [
              32.62165771291861,
              0.30475910957077956
             ],
             [
              32.62185680339697,
              0.3047053978812386
             ],
             [
              32.62178800598757,
              0.3045109364250097
             ],
             [
              32.62158891549214,
              0.3045646481133372
             ],
             [
              32.62165771291861,
              0.30475910957077956
             ]
            ]
           ],
           "type": "Polygon"
          },
          "id": "184",
          "properties": {
           "class": 0,
           "style": {
            "color": "black",
            "fillColor": "#fee724ff",
            "weight": 0.9
           }
          },
          "type": "Feature"
         },
         {
          "bbox": [
           32.59049112322039,
           0.32238149721827747,
           32.590831625045894,
           0.3227526462648435
          ],
          "geometry": {
           "coordinates": [
            [
             [
              32.59049112322039,
              0.32275168952675487
             ],
             [
              32.590830255536815,
              0.3227526462648435
             ],
             [
              32.590831625045894,
              0.32238245395714266
             ],
             [
              32.59049249266824,
              0.32238149721827747
             ],
             [
              32.59049112322039,
              0.32275168952675487
             ]
            ]
           ],
           "type": "Polygon"
          },
          "id": "185",
          "properties": {
           "class": 0,
           "style": {
            "color": "black",
            "fillColor": "#fee724ff",
            "weight": 0.9
           }
          },
          "type": "Feature"
         },
         {
          "bbox": [
           32.58901203224926,
           0.3238220787806249,
           32.58939628381078,
           0.3241728649970918
          ],
          "geometry": {
           "coordinates": [
            [
             [
              32.58904453950346,
              0.3241728649970918
             ],
             [
              32.58939628381078,
              0.32414594067007796
             ],
             [
              32.589363776611705,
              0.3238220787806249
             ],
             [
              32.58901203224926,
              0.3238490031065603
             ],
             [
              32.58904453950346,
              0.3241728649970918
             ]
            ]
           ],
           "type": "Polygon"
          },
          "id": "186",
          "properties": {
           "class": 0,
           "style": {
            "color": "black",
            "fillColor": "#fee724ff",
            "weight": 0.9
           }
          },
          "type": "Feature"
         },
         {
          "bbox": [
           32.59537528711506,
           0.32576406723695367,
           32.595651790944544,
           0.3260239802023176
          ],
          "geometry": {
           "coordinates": [
            [
             [
              32.59537528711506,
              0.3260232023537316
             ],
             [
              32.595650831681056,
              0.3260239802023176
             ],
             [
              32.595651790944544,
              0.3257648450849728
             ],
             [
              32.59537624634383,
              0.32576406723695367
             ],
             [
              32.59537528711506,
              0.3260232023537316
             ]
            ]
           ],
           "type": "Polygon"
          },
          "id": "187",
          "properties": {
           "class": 0,
           "style": {
            "color": "black",
            "fillColor": "#fee724ff",
            "weight": 0.9
           }
          },
          "type": "Feature"
         },
         {
          "bbox": [
           32.9042734436644,
           0.4586067777014648,
           32.905094255863304,
           0.4595085129883358
          ],
          "geometry": {
           "coordinates": [
            [
             [
              32.9043199009847,
              0.4595085129883358
             ],
             [
              32.905094255863304,
              0.45947697751148103
             ],
             [
              32.90504779887065,
              0.4586067777014648
             ],
             [
              32.9042734436644,
              0.45863831317500087
             ],
             [
              32.9043199009847,
              0.4595085129883358
             ]
            ]
           ],
           "type": "Polygon"
          },
          "id": "188",
          "properties": {
           "class": 0,
           "style": {
            "color": "black",
            "fillColor": "#fee724ff",
            "weight": 0.9
           }
          },
          "type": "Feature"
         },
         {
          "bbox": [
           32.88636576988637,
           0.4585178326520365,
           32.88760988454733,
           0.4592676140930732
          ],
          "geometry": {
           "coordinates": [
            [
             [
              32.88636576988637,
              0.4591846587109313
             ],
             [
              32.88754857624398,
              0.4592676140930732
             ],
             [
              32.88760988454733,
              0.458600788026923
             ],
             [
              32.88642707780787,
              0.4585178326520365
             ],
             [
              32.88636576988637,
              0.4591846587109313
             ]
            ]
           ],
           "type": "Polygon"
          },
          "id": "189",
          "properties": {
           "class": 0,
           "style": {
            "color": "black",
            "fillColor": "#fee724ff",
            "weight": 0.9
           }
          },
          "type": "Feature"
         },
         {
          "bbox": [
           32.904922388607424,
           0.4695916468198896,
           32.90617087060726,
           0.47071889948320783
          ],
          "geometry": {
           "coordinates": [
            [
             [
              32.905104631834675,
              0.47071889948320783
             ],
             [
              32.90617087060726,
              0.4705669073592021
             ],
             [
              32.90598862787322,
              0.4695916468198896
             ],
             [
              32.904922388607424,
              0.4697436389229635
             ],
             [
              32.905104631834675,
              0.47071889948320783
             ]
            ]
           ],
           "type": "Polygon"
          },
          "id": "190",
          "properties": {
           "class": 0,
           "style": {
            "color": "black",
            "fillColor": "#fee724ff",
            "weight": 0.9
           }
          },
          "type": "Feature"
         },
         {
          "bbox": [
           32.90690760695522,
           0.467608305324811,
           32.90787582698541,
           0.46846485149248057
          ],
          "geometry": {
           "coordinates": [
            [
             [
              32.907027856245264,
              0.46846485149248057
             ],
             [
              32.90787582698541,
              0.4683615900864947
             ],
             [
              32.90775557800053,
              0.467608305324811
             ],
             [
              32.90690760695522,
              0.4677115667198869
             ],
             [
              32.907027856245264,
              0.46846485149248057
             ]
            ]
           ],
           "type": "Polygon"
          },
          "id": "191",
          "properties": {
           "class": 0,
           "style": {
            "color": "black",
            "fillColor": "#fee724ff",
            "weight": 0.9
           }
          },
          "type": "Feature"
         },
         {
          "bbox": [
           32.884185697126796,
           0.475405154880849,
           32.885106081915595,
           0.4763072083795043
          ],
          "geometry": {
           "coordinates": [
            [
             [
              32.88433369170752,
              0.4763072083795043
             ],
             [
              32.885106081915595,
              0.476197097455382
             ],
             [
              32.88495808762502,
              0.475405154880849
             ],
             [
              32.884185697126796,
              0.47551526579305653
             ],
             [
              32.88433369170752,
              0.4763072083795043
             ]
            ]
           ],
           "type": "Polygon"
          },
          "id": "192",
          "properties": {
           "class": 0,
           "style": {
            "color": "black",
            "fillColor": "#fee724ff",
            "weight": 0.9
           }
          },
          "type": "Feature"
         },
         {
          "bbox": [
           32.868892162946025,
           0.46772973217238734,
           32.86987806790267,
           0.4685272800722966
          ],
          "geometry": {
           "coordinates": [
            [
             [
              32.868892162946025,
              0.46848861579310175
             ],
             [
              32.869837374553185,
              0.4685272800722966
             ],
             [
              32.86987806790267,
              0.46776839644735674
             ],
             [
              32.86893285594675,
              0.46772973217238734
             ],
             [
              32.868892162946025,
              0.46848861579310175
             ]
            ]
           ],
           "type": "Polygon"
          },
          "id": "193",
          "properties": {
           "class": 0,
           "style": {
            "color": "black",
            "fillColor": "#fee724ff",
            "weight": 0.9
           }
          },
          "type": "Feature"
         },
         {
          "bbox": [
           32.87637880073078,
           0.45319233503032014,
           32.87766268763323,
           0.454366142143302
          ],
          "geometry": {
           "coordinates": [
            [
             [
              32.87681151259459,
              0.454366142143302
             ],
             [
              32.87766268763323,
              0.4540312304318312
             ],
             [
              32.87722997604675,
              0.45319233503032014
             ],
             [
              32.87637880073078,
              0.4535272467035702
             ],
             [
              32.87681151259459,
              0.454366142143302
             ]
            ]
           ],
           "type": "Polygon"
          },
          "id": "194",
          "properties": {
           "class": 0,
           "style": {
            "color": "black",
            "fillColor": "#fee724ff",
            "weight": 0.9
           }
          },
          "type": "Feature"
         },
         {
          "bbox": [
           32.91934414329734,
           0.4823420237068671,
           32.92002364064082,
           0.4828508606768871
          ],
          "geometry": {
           "coordinates": [
            [
             [
              32.91934414329734,
              0.4827620465190453
             ],
             [
              32.91994182485633,
              0.4828508606768871
             ],
             [
              32.92002364064082,
              0.4824308378596419
             ],
             [
              32.919425958963096,
              0.4823420237068671
             ],
             [
              32.91934414329734,
              0.4827620465190453
             ]
            ]
           ],
           "type": "Polygon"
          },
          "id": "195",
          "properties": {
           "class": 0,
           "style": {
            "color": "black",
            "fillColor": "#fee724ff",
            "weight": 0.9
           }
          },
          "type": "Feature"
         },
         {
          "bbox": [
           32.913180293201975,
           0.4867798036308477,
           32.91377558285626,
           0.4873361889735214
          ],
          "geometry": {
           "coordinates": [
            [
             [
              32.913180293201975,
              0.48729777239583993
             ],
             [
              32.91372795540894,
              0.4873361889735214
             ],
             [
              32.91377558285626,
              0.4868182202053857
             ],
             [
              32.91322792051196,
              0.4867798036308477
             ],
             [
              32.913180293201975,
              0.48729777239583993
             ]
            ]
           ],
           "type": "Polygon"
          },
          "id": "196",
          "properties": {
           "class": 0,
           "style": {
            "color": "black",
            "fillColor": "#fee724ff",
            "weight": 0.9
           }
          },
          "type": "Feature"
         },
         {
          "bbox": [
           32.955333819607716,
           0.45529104749106136,
           32.95748610711795,
           0.45709179531399535
          ],
          "geometry": {
           "coordinates": [
            [
             [
              32.955333819607716,
              0.45679508667425195
             ],
             [
              32.95716697731599,
              0.45709179531399535
             ],
             [
              32.95748610711795,
              0.4555877560710193
             ],
             [
              32.9556529481124,
              0.45529104749106136
             ],
             [
              32.955333819607716,
              0.45679508667425195
             ]
            ]
           ],
           "type": "Polygon"
          },
          "id": "197",
          "properties": {
           "class": 0,
           "style": {
            "color": "black",
            "fillColor": "#fee724ff",
            "weight": 0.9
           }
          },
          "type": "Feature"
         },
         {
          "bbox": [
           32.86599798492531,
           0.7244515342892092,
           32.867771848100155,
           0.7258913142795065
          ],
          "geometry": {
           "coordinates": [
            [
             [
              32.86599798492531,
              0.7258861415829054
             ],
             [
              32.867766349711964,
              0.7258913142795065
             ],
             [
              32.867771848100155,
              0.7244567069850032
             ],
             [
              32.86600348207776,
              0.7244515342892092
             ],
             [
              32.86599798492531,
              0.7258861415829054
             ]
            ]
           ],
           "type": "Polygon"
          },
          "id": "198",
          "properties": {
           "class": 0,
           "style": {
            "color": "black",
            "fillColor": "#fee724ff",
            "weight": 0.9
           }
          },
          "type": "Feature"
         },
         {
          "bbox": [
           32.93807099191904,
           0.7289585449043665,
           32.93863598106966,
           0.729391304426643
          ],
          "geometry": {
           "coordinates": [
            [
             [
              32.93815397661686,
              0.729391304426643
             ],
             [
              32.93863598106966,
              0.7293025528727891
             ],
             [
              32.93855299644899,
              0.7289585449043665
             ],
             [
              32.93807099191904,
              0.7290472964511017
             ],
             [
              32.93815397661686,
              0.729391304426643
             ]
            ]
           ],
           "type": "Polygon"
          },
          "id": "199",
          "properties": {
           "class": 0,
           "style": {
            "color": "black",
            "fillColor": "#fee724ff",
            "weight": 0.9
           }
          },
          "type": "Feature"
         },
         {
          "bbox": [
           32.94544467801811,
           0.7374274935679587,
           32.9458986614999,
           0.7378313255856443
          ],
          "geometry": {
           "coordinates": [
            [
             [
              32.945472215918485,
              0.7378313255856443
             ],
             [
              32.9458986614999,
              0.7378077523653903
             ],
             [
              32.94587112367826,
              0.7374274935679587
             ],
             [
              32.94544467801811,
              0.7374510667864935
             ],
             [
              32.945472215918485,
              0.7378313255856443
             ]
            ]
           ],
           "type": "Polygon"
          },
          "id": "200",
          "properties": {
           "class": 0,
           "style": {
            "color": "black",
            "fillColor": "#fee724ff",
            "weight": 0.9
           }
          },
          "type": "Feature"
         },
         {
          "bbox": [
           32.92197140934517,
           0.7352162229237178,
           32.922436313074996,
           0.7355647358773161
          ],
          "geometry": {
           "coordinates": [
            [
             [
              32.92197140934517,
              0.7355633703412511
             ],
             [
              32.92243497334232,
              0.7355647358773161
             ],
             [
              32.922436313074996,
              0.7352175884595628
             ],
             [
              32.92197274899947,
              0.7352162229237178
             ],
             [
              32.92197140934517,
              0.7355633703412511
             ]
            ]
           ],
           "type": "Polygon"
          },
          "id": "201",
          "properties": {
           "class": 0,
           "style": {
            "color": "black",
            "fillColor": "#fee724ff",
            "weight": 0.9
           }
          },
          "type": "Feature"
         },
         {
          "bbox": [
           32.88494885990189,
           0.7081468803797306,
           32.88546240594627,
           0.7085508101523371
          ],
          "geometry": {
           "coordinates": [
            [
             [
              32.88502273825796,
              0.7085508101523371
             ],
             [
              32.88546240594627,
              0.7084753268040418
             ],
             [
              32.885388527657845,
              0.7081468803797306
             ],
             [
              32.88494885990189,
              0.7082223637225494
             ],
             [
              32.88502273825796,
              0.7085508101523371
             ]
            ]
           ],
           "type": "Polygon"
          },
          "id": "202",
          "properties": {
           "class": 0,
           "style": {
            "color": "black",
            "fillColor": "#fee724ff",
            "weight": 0.9
           }
          },
          "type": "Feature"
         },
         {
          "bbox": [
           32.88290701199309,
           0.7158636010542591,
           32.883372135702395,
           0.7162699596857187
          ],
          "geometry": {
           "coordinates": [
            [
             [
              32.88290701199309,
              0.7162686009014188
             ],
             [
              32.88337058037327,
              0.7162699596857187
             ],
             [
              32.883372135702395,
              0.7158649598389534
             ],
             [
              32.88290856723071,
              0.7158636010542591
             ],
             [
              32.88290701199309,
              0.7162686009014188
             ]
            ]
           ],
           "type": "Polygon"
          },
          "id": "203",
          "properties": {
           "class": 0,
           "style": {
            "color": "black",
            "fillColor": "#fee724ff",
            "weight": 0.9
           }
          },
          "type": "Feature"
         },
         {
          "bbox": [
           32.905810059808424,
           0.7121425862712891,
           32.90632543848903,
           0.7125172938297284
          ],
          "geometry": {
           "coordinates": [
            [
             [
              32.90583524036536,
              0.7125172938297284
             ],
             [
              32.90632543848903,
              0.7124901900408889
             ],
             [
              32.90630025801471,
              0.7121425862712891
             ],
             [
              32.905810059808424,
              0.7121696900584088
             ],
             [
              32.90583524036536,
              0.7125172938297284
             ]
            ]
           ],
           "type": "Polygon"
          },
          "id": "204",
          "properties": {
           "class": 0,
           "style": {
            "color": "black",
            "fillColor": "#fee724ff",
            "weight": 0.9
           }
          },
          "type": "Feature"
         },
         {
          "bbox": [
           32.77641821056092,
           0.7033648676195895,
           32.7774720792034,
           0.7041447899845558
          ],
          "geometry": {
           "coordinates": [
            [
             [
              32.77641821056092,
              0.7041417511156858
             ],
             [
              32.77746913575764,
              0.7041447899845558
             ],
             [
              32.7774720792034,
              0.7033679064886094
             ],
             [
              32.77642115360893,
              0.7033648676195895
             ],
             [
              32.77641821056092,
              0.7041417511156858
             ]
            ]
           ],
           "type": "Polygon"
          },
          "id": "205",
          "properties": {
           "class": 0,
           "style": {
            "color": "black",
            "fillColor": "#fee724ff",
            "weight": 0.9
           }
          },
          "type": "Feature"
         },
         {
          "bbox": [
           32.783805752123115,
           0.6951935842291396,
           32.78461710549199,
           0.6959728030709054
          ],
          "geometry": {
           "coordinates": [
            [
             [
              32.783805752123115,
              0.6959704633080532
             ],
             [
              32.784614159330474,
              0.6959728030709054
             ],
             [
              32.78461710549199,
              0.6951959239918578
             ],
             [
              32.783808697978735,
              0.6951935842291396
             ],
             [
              32.783805752123115,
              0.6959704633080532
             ]
            ]
           ],
           "type": "Polygon"
          },
          "id": "206",
          "properties": {
           "class": 0,
           "style": {
            "color": "black",
            "fillColor": "#fee724ff",
            "weight": 0.9
           }
          },
          "type": "Feature"
         },
         {
          "bbox": [
           30.02845163211246,
           0.31323117334530115,
           30.029504664273713,
           0.3140098305546168
          ],
          "geometry": {
           "coordinates": [
            [
             [
              30.02845163211246,
              0.314007865950155
             ],
             [
              30.029502760454008,
              0.3140098305546168
             ],
             [
              30.029504664273713,
              0.31323313794962104
             ],
             [
              30.02845353553421,
              0.31323117334530115
             ],
             [
              30.02845163211246,
              0.314007865950155
             ]
            ]
           ],
           "type": "Polygon"
          },
          "id": "207",
          "properties": {
           "class": 0,
           "style": {
            "color": "black",
            "fillColor": "#fee724ff",
            "weight": 0.9
           }
          },
          "type": "Feature"
         },
         {
          "bbox": [
           30.041855479421294,
           0.3185532927414657,
           30.042837791572133,
           0.3194702958942287
          ],
          "geometry": {
           "coordinates": [
            [
             [
              30.042102940276724,
              0.3194702958942287
             ],
             [
              30.042837791572133,
              0.3192792797828102
             ],
             [
              30.04259033095361,
              0.3185532927414657
             ],
             [
              30.041855479421294,
              0.318744308839623
             ],
             [
              30.042102940276724,
              0.3194702958942287
             ]
            ]
           ],
           "type": "Polygon"
          },
          "id": "208",
          "properties": {
           "class": 0,
           "style": {
            "color": "black",
            "fillColor": "#fee724ff",
            "weight": 0.9
           }
          },
          "type": "Feature"
         },
         {
          "bbox": [
           30.105936700181967,
           0.20526814343045877,
           30.106226844212262,
           0.2055635114944796
          ],
          "geometry": {
           "coordinates": [
            [
             [
              30.105936700181967,
              0.20556296234301114
             ],
             [
              30.106226110448333,
              0.2055635114944796
             ],
             [
              30.106226844212262,
              0.2052686925820415
             ],
             [
              30.105937433904305,
              0.20526814343045877
             ],
             [
              30.105936700181967,
              0.20556296234301114
             ]
            ]
           ],
           "type": "Polygon"
          },
          "id": "209",
          "properties": {
           "class": 0,
           "style": {
            "color": "black",
            "fillColor": "#fee724ff",
            "weight": 0.9
           }
          },
          "type": "Feature"
         },
         {
          "bbox": [
           30.10141645427309,
           0.20060621770777382,
           30.101750281001888,
           0.20090048720231563
          ],
          "geometry": {
           "coordinates": [
            [
             [
              30.10143829563609,
              0.20090048720231563
             ],
             [
              30.101750281001888,
              0.20088162356757636
             ],
             [
              30.101728439680514,
              0.20060621770777382
             ],
             [
              30.10141645427309,
              0.20062508134181695
             ],
             [
              30.10143829563609,
              0.20090048720231563
             ]
            ]
           ],
           "type": "Polygon"
          },
          "id": "210",
          "properties": {
           "class": 0,
           "style": {
            "color": "black",
            "fillColor": "#fee724ff",
            "weight": 0.9
           }
          },
          "type": "Feature"
         },
         {
          "bbox": [
           30.095900838568337,
           0.1949270985652127,
           30.096101865628018,
           0.19510262576885617
          ],
          "geometry": {
           "coordinates": [
            [
             [
              30.095900838568337,
              0.19508879764844894
             ],
             [
              30.096086028609108,
              0.19510262576885617
             ],
             [
              30.096101865628018,
              0.19494092668494314
             ],
             [
              30.095916675572703,
              0.1949270985652127
             ],
             [
              30.095900838568337,
              0.19508879764844894
             ]
            ]
           ],
           "type": "Polygon"
          },
          "id": "211",
          "properties": {
           "class": 0,
           "style": {
            "color": "black",
            "fillColor": "#fee724ff",
            "weight": 0.9
           }
          },
          "type": "Feature"
         },
         {
          "bbox": [
           30.088293812779984,
           0.19388839096899613,
           30.088510274696777,
           0.19403705044945938
          ],
          "geometry": {
           "coordinates": [
            [
             [
              30.088293812779984,
              0.1940366418391266
             ],
             [
              30.08850990699649,
              0.19403705044945938
             ],
             [
              30.088510274696777,
              0.19388879957917204
             ],
             [
              30.08829418046467,
              0.19388839096899613
             ],
             [
              30.088293812779984,
              0.1940366418391266
             ]
            ]
           ],
           "type": "Polygon"
          },
          "id": "212",
          "properties": {
           "class": 0,
           "style": {
            "color": "black",
            "fillColor": "#fee724ff",
            "weight": 0.9
           }
          },
          "type": "Feature"
         },
         {
          "bbox": [
           30.08650464468868,
           0.1910146533611273,
           30.086717185349567,
           0.1911895960776383
          ],
          "geometry": {
           "coordinates": [
            [
             [
              30.086541238873345,
              0.1911895960776383
             ],
             [
              30.086717185349567,
              0.1911544937084261
             ],
             [
              30.08668059117625,
              0.1910146533611273
             ],
             [
              30.08650464468868,
              0.191049755729397
             ],
             [
              30.086541238873345,
              0.1911895960776383
             ]
            ]
           ],
           "type": "Polygon"
          },
          "id": "213",
          "properties": {
           "class": 0,
           "style": {
            "color": "black",
            "fillColor": "#fee724ff",
            "weight": 0.9
           }
          },
          "type": "Feature"
         },
         {
          "bbox": [
           30.059898118426343,
           0.17919843558441834,
           30.060068240367592,
           0.179333527286887
          ],
          "geometry": {
           "coordinates": [
            [
             [
              30.059898118426343,
              0.17933320803131098
             ],
             [
              30.06006790796059,
              0.179333527286887
             ],
             [
              30.060068240367592,
              0.17919875483983883
             ],
             [
              30.059898450822185,
              0.17919843558441834
             ],
             [
              30.059898118426343,
              0.17933320803131098
             ]
            ]
           ],
           "type": "Polygon"
          },
          "id": "214",
          "properties": {
           "class": 0,
           "style": {
            "color": "black",
            "fillColor": "#fee724ff",
            "weight": 0.9
           }
          },
          "type": "Feature"
         },
         {
          "bbox": [
           30.064278549549634,
           0.17417964730049526,
           30.0645414845102,
           0.17439577646052745
          ],
          "geometry": {
           "coordinates": [
            [
             [
              30.064278549549634,
              0.1743952826351671
             ],
             [
              30.064540952187546,
              0.17439577646052745
             ],
             [
              30.0645414845102,
              0.17418014112546312
             ],
             [
              30.064279081844646,
              0.17417964730049526
             ],
             [
              30.064278549549634,
              0.1743952826351671
             ]
            ]
           ],
           "type": "Polygon"
          },
          "id": "215",
          "properties": {
           "class": 0,
           "style": {
            "color": "black",
            "fillColor": "#fee724ff",
            "weight": 0.9
           }
          },
          "type": "Feature"
         },
         {
          "bbox": [
           30.097984033843904,
           0.12380022771579337,
           30.09832426295587,
           0.12422860221049517
          ],
          "geometry": {
           "coordinates": [
            [
             [
              30.097984033843904,
              0.12422795970120264
             ],
             [
              30.09832319994853,
              0.12422860221049517
             ],
             [
              30.09832426295587,
              0.12380087022506844
             ],
             [
              30.09798509678059,
              0.12380022771579337
             ],
             [
              30.097984033843904,
              0.12422795970120264
             ]
            ]
           ],
           "type": "Polygon"
          },
          "id": "216",
          "properties": {
           "class": 0,
           "style": {
            "color": "black",
            "fillColor": "#fee724ff",
            "weight": 0.9
           }
          },
          "type": "Feature"
         },
         {
          "bbox": [
           30.110772637581665,
           0.12494464528272238,
           30.111645467289645,
           0.12553560163322025
          ],
          "geometry": {
           "coordinates": [
            [
             [
              30.110869148800614,
              0.12553560163322025
             ],
             [
              30.111645467289645,
              0.1254138885698604
             ],
             [
              30.111548956242434,
              0.12494464528272238
             ],
             [
              30.110772637581665,
              0.1250663583452611
             ],
             [
              30.110869148800614,
              0.12553560163322025
             ]
            ]
           ],
           "type": "Polygon"
          },
          "id": "217",
          "properties": {
           "class": 0,
           "style": {
            "color": "black",
            "fillColor": "#fee724ff",
            "weight": 0.9
           }
          },
          "type": "Feature"
         },
         {
          "bbox": [
           30.083753469043685,
           0.12716337605243758,
           30.0844623657193,
           0.12768896204855698
          ],
          "geometry": {
           "coordinates": [
            [
             [
              30.08388115470974,
              0.12768896204855698
             ],
             [
              30.0844623657193,
              0.1275379229175798
             ],
             [
              30.084334680149958,
              0.12716337605243758
             ],
             [
              30.083753469043685,
              0.12731441518127762
             ],
             [
              30.08388115470974,
              0.12768896204855698
             ]
            ]
           ],
           "type": "Polygon"
          },
          "id": "218",
          "properties": {
           "class": 0,
           "style": {
            "color": "black",
            "fillColor": "#fee724ff",
            "weight": 0.9
           }
          },
          "type": "Feature"
         },
         {
          "bbox": [
           30.009181690236556,
           -0.12739337637475195,
           30.010731569351222,
           -0.1260158693028437
          ],
          "geometry": {
           "coordinates": [
            [
             [
              30.009322616055293,
              -0.1260158693028437
             ],
             [
              30.010731569351222,
              -0.12613620547471996
             ],
             [
              30.010590644387797,
              -0.12739337637475195
             ],
             [
              30.009181690236556,
              -0.12727304019703972
             ],
             [
              30.009322616055293,
              -0.1260158693028437
             ]
            ]
           ],
           "type": "Polygon"
          },
          "id": "219",
          "properties": {
           "class": 0,
           "style": {
            "color": "black",
            "fillColor": "#fee724ff",
            "weight": 0.9
           }
          },
          "type": "Feature"
         },
         {
          "bbox": [
           29.954907014677627,
           -0.11245584892062346,
           29.956806321633863,
           -0.11148644740623408
          ],
          "geometry": {
           "coordinates": [
            [
             [
              29.954907014677627,
              -0.1114899398842238
             ],
             [
              29.95680398723384,
              -0.11148644740623408
             ],
             [
              29.956806321633863,
              -0.11245235644248526
             ],
             [
              29.954909348184295,
              -0.11245584892062346
             ],
             [
              29.954907014677627,
              -0.1114899398842238
             ]
            ]
           ],
           "type": "Polygon"
          },
          "id": "220",
          "properties": {
           "class": 0,
           "style": {
            "color": "black",
            "fillColor": "#fee724ff",
            "weight": 0.9
           }
          },
          "type": "Feature"
         },
         {
          "bbox": [
           29.91872357003898,
           -0.10893053165988519,
           29.92120208363492,
           -0.10727815182015943
          ],
          "geometry": {
           "coordinates": [
            [
             [
              29.919012356708414,
              -0.10727815182015943
             ],
             [
              29.92120208363492,
              -0.10765626975522538
             ],
             [
              29.920913298272698,
              -0.10893053165988519
             ],
             [
              29.91872357003898,
              -0.1085524137095016
             ],
             [
              29.919012356708414,
              -0.10727815182015943
             ]
            ]
           ],
           "type": "Polygon"
          },
          "id": "221",
          "properties": {
           "class": 0,
           "style": {
            "color": "black",
            "fillColor": "#fee724ff",
            "weight": 0.9
           }
          },
          "type": "Feature"
         },
         {
          "bbox": [
           29.885001338168554,
           -0.16516940107505393,
           29.886743233142184,
           -0.16362214346940746
          ],
          "geometry": {
           "coordinates": [
            [
             [
              29.885001338168554,
              -0.16377642332110487
             ],
             [
              29.886562549520416,
              -0.16362214346940746
             ],
             [
              29.886743233142184,
              -0.1650151212132768
             ],
             [
              29.88518202074354,
              -0.16516940107505393
             ],
             [
              29.885001338168554,
              -0.16377642332110487
             ]
            ]
           ],
           "type": "Polygon"
          },
          "id": "222",
          "properties": {
           "class": 0,
           "style": {
            "color": "black",
            "fillColor": "#fee724ff",
            "weight": 0.9
           }
          },
          "type": "Feature"
         },
         {
          "bbox": [
           30.035805342626293,
           -0.16101481266850837,
           30.03754732527855,
           -0.15976970302824936
          ],
          "geometry": {
           "coordinates": [
            [
             [
              30.035805342626293,
              -0.15977295660454016
             ],
             [
              30.037544274946267,
              -0.15976970302824936
             ],
             [
              30.03754732527855,
              -0.16101155909190132
             ],
             [
              30.03580839190561,
              -0.16101481266850837
             ],
             [
              30.035805342626293,
              -0.15977295660454016
             ]
            ]
           ],
           "type": "Polygon"
          },
          "id": "223",
          "properties": {
           "class": 0,
           "style": {
            "color": "black",
            "fillColor": "#fee724ff",
            "weight": 0.9
           }
          },
          "type": "Feature"
         },
         {
          "bbox": [
           29.994230394110634,
           -0.1605376923189615,
           29.995808553277428,
           -0.15916019853296764
          ],
          "geometry": {
           "coordinates": [
            [
             [
              29.99438545472375,
              -0.15916019853296764
             ],
             [
              29.995808553277428,
              -0.1592955425735589
             ],
             [
              29.995653493515963,
              -0.1605376923189615
             ],
             [
              29.994230394110634,
              -0.1604023482702792
             ],
             [
              29.99438545472375,
              -0.15916019853296764
             ]
            ]
           ],
           "type": "Polygon"
          },
          "id": "224",
          "properties": {
           "class": 0,
           "style": {
            "color": "black",
            "fillColor": "#fee724ff",
            "weight": 0.9
           }
          },
          "type": "Feature"
         },
         {
          "bbox": [
           29.737264773288835,
           -1.086593955822263,
           29.738691368497687,
           -1.0852119988726796
          ],
          "geometry": {
           "coordinates": [
            [
             [
              29.737264773288835,
              -1.0852145023172874
             ],
             [
              29.73868817886989,
              -1.0852119988726796
             ],
             [
              29.738691368497687,
              -1.0865914523762736
             ],
             [
              29.737267961958537,
              -1.086593955822263
             ],
             [
              29.737264773288835,
              -1.0852145023172874
             ]
            ]
           ],
           "type": "Polygon"
          },
          "id": "225",
          "properties": {
           "class": 0,
           "style": {
            "color": "black",
            "fillColor": "#fee724ff",
            "weight": 0.9
           }
          },
          "type": "Feature"
         },
         {
          "bbox": [
           29.758592474569475,
           -1.0770732020512466,
           29.760810815917385,
           -1.0749298816170303
          ],
          "geometry": {
           "coordinates": [
            [
             [
              29.758592474569475,
              -1.075106851585538
             ],
             [
              29.760580758267533,
              -1.0749298816170303
             ],
             [
              29.760810815917385,
              -1.0768962319717568
             ],
             [
              29.75882253033143,
              -1.0770732020512466
             ],
             [
              29.758592474569475,
              -1.075106851585538
             ]
            ]
           ],
           "type": "Polygon"
          },
          "id": "226",
          "properties": {
           "class": 0,
           "style": {
            "color": "black",
            "fillColor": "#fee724ff",
            "weight": 0.9
           }
          },
          "type": "Feature"
         },
         {
          "bbox": [
           29.78426348199939,
           -1.108649173327384,
           29.78455606392904,
           -1.1083477920109042
          ],
          "geometry": {
           "coordinates": [
            [
             [
              29.78426348199939,
              -1.108348310382939
             ],
             [
              29.784555361517874,
              -1.1083477920109042
             ],
             [
              29.78455606392904,
              -1.1086486549554222
             ],
             [
              29.784264184367622,
              -1.108649173327384
             ],
             [
              29.78426348199939,
              -1.108348310382939
             ]
            ]
           ],
           "type": "Polygon"
          },
          "id": "227",
          "properties": {
           "class": 0,
           "style": {
            "color": "black",
            "fillColor": "#fee724ff",
            "weight": 0.9
           }
          },
          "type": "Feature"
         },
         {
          "bbox": [
           29.793002318073203,
           -1.1124060128281852,
           29.793215135776517,
           -1.1121742022515029
          ],
          "geometry": {
           "coordinates": [
            [
             [
              29.793002318073203,
              -1.1121745799348397
             ],
             [
              29.79321459448144,
              -1.1121742022515029
             ],
             [
              29.793215135776517,
              -1.1124056351450604
             ],
             [
              29.793002859344387,
              -1.1124060128281852
             ],
             [
              29.793002318073203,
              -1.1121745799348397
             ]
            ]
           ],
           "type": "Polygon"
          },
          "id": "228",
          "properties": {
           "class": 0,
           "style": {
            "color": "black",
            "fillColor": "#fee724ff",
            "weight": 0.9
           }
          },
          "type": "Feature"
         },
         {
          "bbox": [
           29.782133058392482,
           -1.1162898508663748,
           29.782397223227306,
           -1.1160819382169107
          ],
          "geometry": {
           "coordinates": [
            [
             [
              29.78215875938065,
              -1.1160819382169107
             ],
             [
              29.782397223227306,
              -1.1161075066868318
             ],
             [
              29.782371522259982,
              -1.1162898508663748
             ],
             [
              29.782133058392482,
              -1.1162642823942757
             ],
             [
              29.78215875938065,
              -1.1160819382169107
             ]
            ]
           ],
           "type": "Polygon"
          },
          "id": "229",
          "properties": {
           "class": 0,
           "style": {
            "color": "black",
            "fillColor": "#fee724ff",
            "weight": 0.9
           }
          },
          "type": "Feature"
         },
         {
          "bbox": [
           29.829347940840584,
           -1.1242688906572276,
           29.8295498995033,
           -1.1241062057577555
          ],
          "geometry": {
           "coordinates": [
            [
             [
              29.82938079935305,
              -1.1241062057577555
             ],
             [
              29.8295498995033,
              -1.124138662697508
             ],
             [
              29.829517041001143,
              -1.1242688906572276
             ],
             [
              29.829347940840584,
              -1.1242364337155555
             ],
             [
              29.82938079935305,
              -1.1241062057577555
             ]
            ]
           ],
           "type": "Polygon"
          },
          "id": "230",
          "properties": {
           "class": 0,
           "style": {
            "color": "black",
            "fillColor": "#fee724ff",
            "weight": 0.9
           }
          },
          "type": "Feature"
         },
         {
          "bbox": [
           29.82811732296798,
           -1.1286259574092956,
           29.828389387891676,
           -1.1283886663713714
          ],
          "geometry": {
           "coordinates": [
            [
             [
              29.82811732296798,
              -1.1284334970411936
             ],
             [
              29.828337987486236,
              -1.1283886663713714
             ],
             [
              29.828389387891676,
              -1.128581126736462
             ],
             [
              29.82816872335381,
              -1.1286259574092956
             ],
             [
              29.82811732296798,
              -1.1284334970411936
             ]
            ]
           ],
           "type": "Polygon"
          },
          "id": "231",
          "properties": {
           "class": 0,
           "style": {
            "color": "black",
            "fillColor": "#fee724ff",
            "weight": 0.9
           }
          },
          "type": "Feature"
         },
         {
          "bbox": [
           29.87268404746747,
           -1.1379469324147984,
           29.872871346089585,
           -1.1377182439562115
          ],
          "geometry": {
           "coordinates": [
            [
             [
              29.87268404746747,
              -1.137729075607212
             ],
             [
              29.872852983624306,
              -1.1377182439562115
             ],
             [
              29.872871346089585,
              -1.1379361007628486
             ],
             [
              29.872702409914915,
              -1.1379469324147984
             ],
             [
              29.87268404746747,
              -1.137729075607212
             ]
            ]
           ],
           "type": "Polygon"
          },
          "id": "232",
          "properties": {
           "class": 0,
           "style": {
            "color": "black",
            "fillColor": "#fee724ff",
            "weight": 0.9
           }
          },
          "type": "Feature"
         },
         {
          "bbox": [
           29.876179974279836,
           -1.1368516443724292,
           29.876401026326697,
           -1.1366679335220946
          ],
          "geometry": {
           "coordinates": [
            [
             [
              29.876179974279836,
              -1.1367007421565622
             ],
             [
              29.876366049308878,
              -1.1366679335220946
             ],
             [
              29.876401026326697,
              -1.136818835735541
             ],
             [
              29.876214951284563,
              -1.1368516443724292
             ],
             [
              29.876179974279836,
              -1.1367007421565622
             ]
            ]
           ],
           "type": "Polygon"
          },
          "id": "233",
          "properties": {
           "class": 0,
           "style": {
            "color": "black",
            "fillColor": "#fee724ff",
            "weight": 0.9
           }
          },
          "type": "Feature"
         },
         {
          "bbox": [
           29.862357845982523,
           -1.1374811216162415,
           29.862494020840636,
           -1.137347571582744
          ],
          "geometry": {
           "coordinates": [
            [
             [
              29.862357845982523,
              -1.13734781679528
             ],
             [
              29.862493704544384,
              -1.137347571582744
             ],
             [
              29.862494020840636,
              -1.137480876404249
             ],
             [
              29.86235816226997,
              -1.1374811216162415
             ],
             [
              29.862357845982523,
              -1.13734781679528
             ]
            ]
           ],
           "type": "Polygon"
          },
          "id": "234",
          "properties": {
           "class": 0,
           "style": {
            "color": "black",
            "fillColor": "#fee724ff",
            "weight": 0.9
           }
          },
          "type": "Feature"
         },
         {
          "bbox": [
           29.867544384194794,
           -1.140410238538368,
           29.867816277615564,
           -1.1401760427874001
          ],
          "geometry": {
           "coordinates": [
            [
             [
              29.867544384194794,
              -1.1402563570367061
             ],
             [
              29.86772760353048,
              -1.1401760427874001
             ],
             [
              29.867816277615564,
              -1.1403299242846427
             ],
             [
              29.86763305826965,
              -1.140410238538368
             ],
             [
              29.867544384194794,
              -1.1402563570367061
             ]
            ]
           ],
           "type": "Polygon"
          },
          "id": "235",
          "properties": {
           "class": 0,
           "style": {
            "color": "black",
            "fillColor": "#fee724ff",
            "weight": 0.9
           }
          },
          "type": "Feature"
         },
         {
          "bbox": [
           29.85683605861499,
           -1.1425563526390596,
           29.85703513489848,
           -1.142364107544678
          ],
          "geometry": {
           "coordinates": [
            [
             [
              29.856850456775774,
              -1.142364107544678
             ],
             [
              29.85703513489848,
              -1.1423752780973049
             ],
             [
              29.857020736753842,
              -1.1425563526390596
             ],
             [
              29.85683605861499,
              -1.1425451820858936
             ],
             [
              29.856850456775774,
              -1.142364107544678
             ]
            ]
           ],
           "type": "Polygon"
          },
          "id": "236",
          "properties": {
           "class": 0,
           "style": {
            "color": "black",
            "fillColor": "#fee724ff",
            "weight": 0.9
           }
          },
          "type": "Feature"
         },
         {
          "bbox": [
           29.95810003305388,
           -1.2238844859914964,
           29.958343176672013,
           -1.2237211854184156
          ],
          "geometry": {
           "coordinates": [
            [
             [
              29.95810003305388,
              -1.2237216321666482
             ],
             [
              29.95834278262578,
              -1.2237211854184156
             ],
             [
              29.958343176672013,
              -1.2238840392428063
             ],
             [
              29.958100427080858,
              -1.2238844859914964
             ],
             [
              29.95810003305388,
              -1.2237216321666482
             ]
            ]
           ],
           "type": "Polygon"
          },
          "id": "237",
          "properties": {
           "class": 0,
           "style": {
            "color": "black",
            "fillColor": "#fee724ff",
            "weight": 0.9
           }
          },
          "type": "Feature"
         },
         {
          "bbox": [
           29.96122265013603,
           -1.2256701371800904,
           29.961521931681215,
           -1.22545787706236
          ],
          "geometry": {
           "coordinates": [
            [
             [
              29.96122265013603,
              -1.2254584272549394
             ],
             [
              29.96152141909224,
              -1.22545787706236
             ],
             [
              29.961521931681215,
              -1.225669586987075
             ],
             [
              29.961223162694083,
              -1.2256701371800904
             ],
             [
              29.96122265013603,
              -1.2254584272549394
             ]
            ]
           ],
           "type": "Polygon"
          },
          "id": "238",
          "properties": {
           "class": 0,
           "style": {
            "color": "black",
            "fillColor": "#fee724ff",
            "weight": 0.9
           }
          },
          "type": "Feature"
         },
         {
          "bbox": [
           29.952065197047403,
           -1.2302143391348845,
           29.952327053396466,
           -1.230034719539084
          ],
          "geometry": {
           "coordinates": [
            [
             [
              29.952065197047403,
              -1.230035200066869
             ],
             [
              29.952326620470156,
              -1.230034719539084
             ],
             [
              29.952327053396466,
              -1.23021385860625
             ],
             [
              29.952065629950855,
              -1.2302143391348845
             ],
             [
              29.952065197047403,
              -1.230035200066869
             ]
            ]
           ],
           "type": "Polygon"
          },
          "id": "239",
          "properties": {
           "class": 0,
           "style": {
            "color": "black",
            "fillColor": "#fee724ff",
            "weight": 0.9
           }
          },
          "type": "Feature"
         },
         {
          "bbox": [
           29.94833281824494,
           -1.231198323173876,
           29.948576119257613,
           -1.2309698821558794
          ],
          "geometry": {
           "coordinates": [
            [
             [
              29.94833281824494,
              -1.2309703280236257
             ],
             [
              29.948575568677626,
              -1.2309698821558794
             ],
             [
              29.948576119257613,
              -1.231197877306494
             ],
             [
              29.94833336879793,
              -1.231198323173876
             ],
             [
              29.94833281824494,
              -1.2309703280236257
             ]
            ]
           ],
           "type": "Polygon"
          },
          "id": "240",
          "properties": {
           "class": 0,
           "style": {
            "color": "black",
            "fillColor": "#fee724ff",
            "weight": 0.9
           }
          },
          "type": "Feature"
         },
         {
          "bbox": [
           29.88132564985677,
           -1.237434498776621,
           29.881954763440586,
           -1.2368932150318666
          ],
          "geometry": {
           "coordinates": [
            [
             [
              29.881448347906918,
              -1.2368932150318666
             ],
             [
              29.881954763440586,
              -1.2370026551532216
             ],
             [
              29.88183206549058,
              -1.237434498776621
             ],
             [
              29.88132564985677,
              -1.2373250586380462
             ],
             [
              29.881448347906918,
              -1.2368932150318666
             ]
            ]
           ],
           "type": "Polygon"
          },
          "id": "241",
          "properties": {
           "class": 0,
           "style": {
            "color": "black",
            "fillColor": "#fee724ff",
            "weight": 0.9
           }
          },
          "type": "Feature"
         },
         {
          "bbox": [
           29.89422674136752,
           -1.2340440456041257,
           29.894323182458496,
           -1.2339599366504437
          ],
          "geometry": {
           "coordinates": [
            [
             [
              29.89422674136752,
              -1.2339601114832481
             ],
             [
              29.89432298198977,
              -1.2339599366504437
             ],
             [
              29.894323182458496,
              -1.2340438707713086
             ],
             [
              29.894226941832304,
              -1.2340440456041257
             ],
             [
              29.89422674136752,
              -1.2339601114832481
             ]
            ]
           ],
           "type": "Polygon"
          },
          "id": "242",
          "properties": {
           "class": 0,
           "style": {
            "color": "black",
            "fillColor": "#fee724ff",
            "weight": 0.9
           }
          },
          "type": "Feature"
         },
         {
          "bbox": [
           29.892455211253438,
           -1.2332076905466507,
           29.892601948632407,
           -1.233109956729048
          ],
          "geometry": {
           "coordinates": [
            [
             [
              29.89247633273099,
              -1.233109956729048
             ],
             [
              29.892601948632407,
              -1.2331395899243607
             ],
             [
              29.89258082715876,
              -1.2332076905466507
             ],
             [
              29.892455211253438,
              -1.2331780573511184
             ],
             [
              29.89247633273099,
              -1.233109956729048
             ]
            ]
           ],
           "type": "Polygon"
          },
          "id": "243",
          "properties": {
           "class": 0,
           "style": {
            "color": "black",
            "fillColor": "#fee724ff",
            "weight": 0.9
           }
          },
          "type": "Feature"
         },
         {
          "bbox": [
           29.845489944814748,
           -1.3139604975077517,
           29.846160399260825,
           -1.3134590118189882
          ],
          "geometry": {
           "coordinates": [
            [
             [
              29.845489944814748,
              -1.3134602155371007
             ],
             [
              29.8461592160868,
              -1.3134590118189882
             ],
             [
              29.846160399260825,
              -1.313959293788981
             ],
             [
              29.845491127825383,
              -1.3139604975077517
             ],
             [
              29.845489944814748,
              -1.3134602155371007
             ]
            ]
           ],
           "type": "Polygon"
          },
          "id": "244",
          "properties": {
           "class": 0,
           "style": {
            "color": "black",
            "fillColor": "#fee724ff",
            "weight": 0.9
           }
          },
          "type": "Feature"
         },
         {
          "bbox": [
           32.04136851005641,
           -0.07203298486451214,
           32.04208658233777,
           -0.07152958027907322
          ],
          "geometry": {
           "coordinates": [
            [
             [
              32.04136851005641,
              -0.07157369651223489
             ],
             [
              32.04204741481211,
              -0.07152958027907322
             ],
             [
              32.04208658233777,
              -0.07198886863089007
             ],
             [
              32.0414076774309,
              -0.07203298486451214
             ],
             [
              32.04136851005641,
              -0.07157369651223489
             ]
            ]
           ],
           "type": "Polygon"
          },
          "id": "245",
          "properties": {
           "class": 0,
           "style": {
            "color": "black",
            "fillColor": "#fee724ff",
            "weight": 0.9
           }
          },
          "type": "Feature"
         },
         {
          "bbox": [
           32.03594049815536,
           -0.07743424509117734,
           32.0366584281482,
           -0.0768748978218675
          ],
          "geometry": {
           "coordinates": [
            [
             [
              32.03594049815536,
              -0.07696783748506694
             ],
             [
              32.03656773115381,
              -0.0768748978218675
             ],
             [
              32.0366584281482,
              -0.07734130542683307
             ],
             [
              32.036031195011226,
              -0.07743424509117734
             ],
             [
              32.03594049815536,
              -0.07696783748506694
             ]
            ]
           ],
           "type": "Polygon"
          },
          "id": "246",
          "properties": {
           "class": 0,
           "style": {
            "color": "black",
            "fillColor": "#fee724ff",
            "weight": 0.9
           }
          },
          "type": "Feature"
         },
         {
          "bbox": [
           32.03265209443331,
           -0.07979489645989174,
           32.03332210543476,
           -0.07924421761966581
          ],
          "geometry": {
           "coordinates": [
            [
             [
              32.03265209443331,
              -0.07935361268710092
             ],
             [
              32.033208176602884,
              -0.07924421761966581
             ],
             [
              32.03332210543476,
              -0.07968550139107042
             ],
             [
              32.03276602315171,
              -0.07979489645989174
             ],
             [
              32.03265209443331,
              -0.07935361268710092
             ]
            ]
           ],
           "type": "Polygon"
          },
          "id": "247",
          "properties": {
           "class": 0,
           "style": {
            "color": "black",
            "fillColor": "#fee724ff",
            "weight": 0.9
           }
          },
          "type": "Feature"
         },
         {
          "bbox": [
           32.0483353183033,
           -0.050069840215308414,
           32.04925944614945,
           -0.049420152574564016
          ],
          "geometry": {
           "coordinates": [
            [
             [
              32.048423016391105,
              -0.049420152574564016
             ],
             [
              32.04925944614945,
              -0.04952222590992606
             ],
             [
              32.0491717482806,
              -0.050069840215308414
             ],
             [
              32.0483353183033,
              -0.04996776687964036
             ],
             [
              32.048423016391105,
              -0.049420152574564016
             ]
            ]
           ],
           "type": "Polygon"
          },
          "id": "248",
          "properties": {
           "class": 0,
           "style": {
            "color": "black",
            "fillColor": "#fee724ff",
            "weight": 0.9
           }
          },
          "type": "Feature"
         },
         {
          "bbox": [
           32.04718233059088,
           -0.07632119359405522,
           32.04745816308817,
           -0.07613363648172222
          ],
          "geometry": {
           "coordinates": [
            [
             [
              32.04718233059088,
              -0.07613435696985815
             ],
             [
              32.04745752111383,
              -0.07613363648172222
             ],
             [
              32.04745816308817,
              -0.0763204731067047
             ],
             [
              32.047182972540135,
              -0.07632119359405522
             ],
             [
              32.04718233059088,
              -0.07613435696985815
             ]
            ]
           ],
           "type": "Polygon"
          },
          "id": "249",
          "properties": {
           "class": 0,
           "style": {
            "color": "black",
            "fillColor": "#fee724ff",
            "weight": 0.9
           }
          },
          "type": "Feature"
         }
        ],
        "type": "FeatureCollection"
       },
       "name": "",
       "options": [],
       "popup": null,
       "popup_max_height": null,
       "popup_max_width": 300,
       "popup_min_width": 50,
       "style": {
        "fillOpacity": 0.8
       }
      }
     },
     "beef24e08a82461fa0b77fa81d959315": {
      "model_module": "@jupyter-widgets/base",
      "model_module_version": "1.2.0",
      "model_name": "LayoutModel",
      "state": {}
     },
     "c427dda1d47643cebdf55869fc4b5be0": {
      "model_module": "@jupyter-widgets/output",
      "model_module_version": "1.0.0",
      "model_name": "OutputModel",
      "state": {
       "layout": "IPY_MODEL_98983107b4dd433685978dbab9b12918"
      }
     },
     "c6fcd0a78d6e4ec78bb5fc47ea80cf1e": {
      "model_module": "jupyter-leaflet",
      "model_module_version": "^0.14.0",
      "model_name": "LeafletMapStyleModel",
      "state": {
       "_model_module_version": "^0.14.0"
      }
     },
     "d7127953b55b4af1bd0370aa7288925c": {
      "model_module": "jupyter-leaflet",
      "model_module_version": "^0.14.0",
      "model_name": "LeafletAttributionControlModel",
      "state": {
       "_model_module_version": "^0.14.0",
       "_view_module_version": "^0.14.0",
       "options": [
        "position",
        "prefix"
       ],
       "position": "bottomright",
       "prefix": "ipyleaflet"
      }
     },
     "dfe7e82ce2c342d98e03276721be5167": {
      "model_module": "jupyter-leaflet",
      "model_module_version": "^0.14.0",
      "model_name": "LeafletMapStyleModel",
      "state": {
       "_model_module_version": "^0.14.0",
       "cursor": "move"
      }
     },
     "ed1edc8c862a4b11b25a74a35f432d44": {
      "model_module": "@jupyter-widgets/controls",
      "model_module_version": "1.5.0",
      "model_name": "DescriptionStyleModel",
      "state": {
       "description_width": ""
      }
     }
    },
    "version_major": 2,
    "version_minor": 0
   }
  }
 },
 "nbformat": 4,
 "nbformat_minor": 4
}
