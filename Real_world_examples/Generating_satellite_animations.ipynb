{
 "cells": [
  {
   "cell_type": "markdown",
   "metadata": {},
   "source": [
    "# Exporting satellite imagery animations\n",
    "\n",
    "\n",
    "* **Products used:** \n",
    "[ls5_sr](https://explorer.digitalearth.africa/products/ls5_sr),\n",
    "[ls7_sr](https://explorer.digitalearth.africa/products/ls7_sr),\n",
    "[ls8_sr](https://explorer.digitalearth.africa/products/ls8_sr),\n",
    "[ls9_sr](https://explorer.digitalearth.africa/products/ls9_sr),\n",
    "[s2_l2a](https://explorer.digitalearth.africa/products/s2_l2a)"
   ]
  },
  {
   "cell_type": "raw",
   "metadata": {
    "raw_mimetype": "text/restructuredtext"
   },
   "source": [
    "**Keywords**: :index:`data used; landsat 5`, :index:`data used; landsat 7`, :index:`data used; landsat 8`, :index:`data used; landsat 9`, :index:`data used; sentinel 2`, :index:`animation`,"
   ]
  },
  {
   "cell_type": "markdown",
   "metadata": {},
   "source": [
    "## Background\n",
    "Most of the case studies in this repository focus on quantitatively analysing satellite data to obtain insights into Africa's changing environment. \n",
    "However, satellite imagery can also be used as a powerful tool for visualisation, particularly within dynamic environments that have changed significantly over the past ~30 years.\n",
    "\n",
    "Animations produced from satellite images can help explain dynamic physical processes, highlight change over time, or provide valuable context to better understand the impacts of recent environmental events such as flooding or fire. \n",
    "Satellite animations can also be processed to create images of the landscape based on invisible wavelengths of light (e.g. false colour images), allowing us to obtain richer insights into features and processes that would otherwise be invisible to the human eye.\n",
    "\n",
    "### Digital Earth Africa use case\n",
    "\n",
    "**Digital Earth Africa** provides over three decades of satellite imagery across the entire continent of Africa. Satellite data from the [NASA/USGS Landsat program](https://www.usgs.gov/land-resources/nli/landsat) allow us to produce fortnightly images of Africa's diverse natural and artificial landscapes at any time since 1986. More recently, the [Copernicus Sentinel-2 mission](https://sentinel.esa.int/web/sentinel/missions/sentinel-2) has provided even higher resolution imagery as frequently as every 5 days since 2015. \n",
    "\n",
    "\n",
    "\n"
   ]
  },
  {
   "cell_type": "markdown",
   "metadata": {},
   "source": [
    "## Description\n",
    "This notebook provides an interactive tool for selecting, loading, processing and exporting satellite imagery as high quality animated MP4 and GIF files. \n",
    "This can be used in combination with the interactive [Digital Earth Africa Maps](https://maps.digitalearth.africa/) platform to identify an image of interest, then download it using this notebook for use in other applications.\n",
    "\n",
    "***"
   ]
  },
  {
   "cell_type": "markdown",
   "metadata": {},
   "source": [
    "## Getting started\n",
    "\n",
    "To run this analysis, run all the cells in the notebook, starting with the \"Load packages\" cell. "
   ]
  },
  {
   "cell_type": "markdown",
   "metadata": {},
   "source": [
    "### Load packages\n",
    "Import Python packages used for the analysis."
   ]
  },
  {
   "cell_type": "code",
   "execution_count": 1,
   "metadata": {},
   "outputs": [],
   "source": [
    "from deafrica_tools.app import animations"
   ]
  },
  {
   "cell_type": "markdown",
   "metadata": {},
   "source": [
    "## Digital Earth Africa satellite imagery animation app\n",
    "\n",
    "Run the `animations.animation_app()` cell below to launch the interactive application that is used to select the area to load and export satellite imagery animations.\n",
    "\n",
    "### Selecting parameters \n",
    "\n",
    "On the left of the map, you will see a date selector, and a list of satellite imagery you can load:\n",
    " \n",
    "|                    |                                                                                                                          | \n",
    "|--------------------|--------------------------------------------------------------------------------------------------------------------------|\n",
    "| **\"Landsat\"**        | Data from the Landsat 5, 7, 8 and 9 satellites                                                                              |\n",
    "| **\"Sentinel-2\"**     | Data from the Sentinel-2A and 2B satellites                                                                              |\n",
    "\n",
    "Satellite imagery can be viewed and exported in two colour styles:\n",
    "\n",
    "|                    |                                                                                                                          | \n",
    "|--------------------|--------------------------------------------------------------------------------------------------------------------------|\n",
    "| **\"True colour\"**    | Creates a true colour image using the red, green and blue satellite bands                                                |\n",
    "| **\"False colour\"**   | Creates a false colour image using short-wave infrared, infrared and green satellite bands.                              |\n",
    "\n",
    "You can also modify the brightness and contrast of the output image by dragging the `Colour percentile stretch` slider, and select the output image format from `.MP4` (smaller file sizes, higher quality, fast processing speeds) to `.GIF` (larger file sizes, lower quality, slower processing).\n",
    "\n",
    "Tick the `Apply rolling median` box to produce a smooth animation that reduces the influence of cloud and noise. The larger the rolling median window, the smoother the output (at the expense of potentially removing short-lived events from the animation).\n",
    "\n",
    "\n",
    "### Selecting a location to export\n",
    "Zoom into the map to a location you wish to animate.\n",
    "Select the `Draw a rectangle` tool on the left of the map, and draw a shape around the area you are interested in. \n",
    "When you are ready, press the green `Generate animation` button on the bottom left to start the animation generation. \n",
    "\n",
    "> To keep load times reasonable, the app is restricted to image exports **smaller than 50000 hectares** in size. This limit can be overuled in the `Advanced` settings.\n",
    "\n",
    "### Advanced settings\n",
    "\n",
    "The animation tool supports several advanced features. \n",
    "To access these, click on the `Advanced` tab in the menu to the left of the map to expand it:\n",
    "* `Frame interval`: The frame rate used to animate the satellite data. \n",
    "Values are in milliseconds - larger values will produce a longer, slower animation.\n",
    "* `Resolution`: The spatial resolution to load data (in metres). By default, the tool will automatically set the best possible resolution depending on the satellites selected (i.e. 30 m for Landsat, 10 m for Sentinel-2). \n",
    "Increasing this (e.g. to `100`) can be useful for loading large spatial extents.\n",
    "* `Width of output animation`: The width of the animation MP4 or GIF file in pixels. This can be used to produce a HD video, but won't increase the resolution of the input satellite imagery (setting a high value will produce a larger animation, but may introduce unwanted pixelation).\n",
    "* `Apply temporal resampling`: Whether to combine multiple satellite images into time period median composite images. Available options are `None`, `monthly`, `quarterly` and `annually`.\n",
    "* `Mask out cloudy pixels`: Whether to mask out cloudy pixels with `nodata` to remove them from the animation. This is best used in combination with a rolling median or temporal resampling, as otherwise it will introduce large areas of black `nodata` pixels in the animation.\n",
    "* `Add DE Africa Coastlines overlay`: Whether to add annual shoreline vectors from the Digital Earth Africa Coastlines product as an overlay on top of the animation.\n",
    "* `Apply power transformation`: Raises imagery by a power to reduce bright features and enhance dark features. \n",
    "This can add extra definition over areas with extremely bright features like snow, beaches or salt pans.\n",
    "* `Apply unsharp masking` Whether to apply unsharp masking to increase the sharpness of the output image. \n",
    "If activated, you can specify both the radius (in pixels) and the amount/strength of the sharpening.\n",
    "* `Override maximum size limit`: Whether to override the app's default 500 square km area limit.\n",
    "This can be used to load larger areas of satellite imagery, but should be used with caution as it can lead to memory issues or crashes.\n",
    "\n",
    "> **If running the notebook for the first time**, keep the default settings above. This will demonstrate how the analysis works and provide meaningful results.\n",
    "\n",
    "### Downloading exported animation\n",
    "\n",
    "The animation will be completed when `Finished exporting animation` appears, and a preview of your animation is shown below the map.\n",
    "\n",
    "The animation file (MP4 or GIF) will be saved to the same location you are running this notebook from (e.g. typically `Real_world_examples`). \n",
    "In JupyterLab, use the file browser to locate the image file with a name in the following format: \n",
    "\n",
    "`landsat_bitillifoundihaut-mbomou_2019-07-06_2022-07-06_truecolour_30m.mp4`\n",
    "\n",
    "If you are using the **DE Africa Analysis Sandbox**, you can download the animation to your PC by right clicking on the image file and selecting `Download`."
   ]
  },
  {
   "cell_type": "code",
   "execution_count": 2,
   "metadata": {},
   "outputs": [
    {
     "data": {
      "application/vnd.jupyter.widget-view+json": {
       "model_id": "978904640c6f46249778aa9438047773",
       "version_major": 2,
       "version_minor": 0
      },
      "text/plain": [
       "animation_app(children=(GridspecLayout(children=(HTML(value='<h3>Digital Earth Africa satellite imagery animat…"
      ]
     },
     "execution_count": 2,
     "metadata": {},
     "output_type": "execute_result"
    }
   ],
   "source": [
    "animations.animation_app()"
   ]
  },
  {
   "cell_type": "markdown",
   "metadata": {
    "jp-MarkdownHeadingCollapsed": true,
    "tags": []
   },
   "source": [
    "## Next steps\n",
    "When you have exported your first animation, modify some parameters and rerun the analysis by clicking `Generate animation`. \n",
    "For example, you could try:\n",
    "\n",
    "* Applying a rolling median to produce a smooth animation that highlights long-term change over time.\n",
    "* Generate an animation for new dates using the date selectors. \n",
    "* Changing the satellite data to `\"Sentinel-2\"` to export a Sentinel-2 animation instead of Landsat.\n",
    "* Selecting the `\"False colour\"` style to export a false colour view of the landscape that highlights growing vegetation and water.\n",
    "* Specify a custom resolution in the `Advanced` tab, e.g. `100`.\n",
    "* Experiment with different colour percentile stretches and the `Advanced` tab unsharp masking and power transformation functionality to alter the appearance of the resulting image.\n"
   ]
  },
  {
   "cell_type": "markdown",
   "metadata": {},
   "source": [
    "---\n",
    "\n",
    "## Additional information\n",
    "\n",
    "**License:** The code in this notebook is licensed under the [Apache License, Version 2.0](https://www.apache.org/licenses/LICENSE-2.0). \n",
    "Digital Earth Africa data is licensed under the [Creative Commons by Attribution 4.0](https://creativecommons.org/licenses/by/4.0/) license.\n",
    "\n",
    "**Contact:** If you need assistance, please post a question on the [Open Data Cube Slack channel](http://slack.opendatacube.org/) or on the [GIS Stack Exchange](https://gis.stackexchange.com/questions/ask?tags=open-data-cube) using the `open-data-cube` tag (you can view previously asked questions [here](https://gis.stackexchange.com/questions/tagged/open-data-cube)).\n",
    "If you would like to report an issue with this notebook, you can file one on [Github](https://github.com/digitalearthafrica/deafrica-sandbox-notebooks).\n",
    "\n",
    "**Compatible datacube version:**"
   ]
  },
  {
   "cell_type": "code",
   "execution_count": 3,
   "metadata": {},
   "outputs": [
    {
     "name": "stdout",
     "output_type": "stream",
     "text": [
      "1.8.15\n"
     ]
    }
   ],
   "source": [
    "import datacube\n",
    "print(datacube.__version__)"
   ]
  },
  {
   "cell_type": "markdown",
   "metadata": {},
   "source": [
    "**Last Tested:**"
   ]
  },
  {
   "cell_type": "code",
   "execution_count": 4,
   "metadata": {},
   "outputs": [
    {
     "data": {
      "text/plain": [
       "'2023-08-14'"
      ]
     },
     "execution_count": 4,
     "metadata": {},
     "output_type": "execute_result"
    }
   ],
   "source": [
    "from datetime import datetime\n",
    "datetime.today().strftime('%Y-%m-%d')"
   ]
  }
 ],
 "metadata": {
  "kernelspec": {
   "display_name": "Python 3 (ipykernel)",
   "language": "python",
   "name": "python3"
  },
  "language_info": {
   "codemirror_mode": {
    "name": "ipython",
    "version": 3
   },
   "file_extension": ".py",
   "mimetype": "text/x-python",
   "name": "python",
   "nbconvert_exporter": "python",
   "pygments_lexer": "ipython3",
   "version": "3.10.12"
  },
  "widgets": {
   "application/vnd.jupyter.widget-state+json": {
    "state": {
     "027c44c9d38b413baffe5045952d7831": {
      "model_module": "@jupyter-widgets/base",
      "model_module_version": "1.2.0",
      "model_name": "LayoutModel",
      "state": {
       "width": "95%"
      }
     },
     "036e12a271bb463fac05852469a2858b": {
      "model_module": "@jupyter-widgets/controls",
      "model_module_version": "1.5.0",
      "model_name": "SliderStyleModel",
      "state": {
       "description_width": ""
      }
     },
     "039e6be77d3d47bf9469983b1cd938f0": {
      "model_module": "@jupyter-widgets/base",
      "model_module_version": "1.2.0",
      "model_name": "LayoutModel",
      "state": {
       "width": "85%"
      }
     },
     "04386f98cf824838ade2b4feb3058ed8": {
      "model_module": "@jupyter-widgets/controls",
      "model_module_version": "1.5.0",
      "model_name": "FloatSliderModel",
      "state": {
       "layout": "IPY_MODEL_eb5f88cf4fef4053bd3cdf71a8044194",
       "max": 1,
       "min": 0.01,
       "step": 0.01,
       "style": "IPY_MODEL_957d4c13e9274778adbebe01c22d9318",
       "value": 1
      }
     },
     "08a07ecd55bd4a348de6c10445e3b938": {
      "model_module": "@jupyter-widgets/controls",
      "model_module_version": "1.5.0",
      "model_name": "DescriptionStyleModel",
      "state": {
       "description_width": ""
      }
     },
     "0ac6d582135c4889934d472e907bba2d": {
      "model_module": "@jupyter-widgets/controls",
      "model_module_version": "1.5.0",
      "model_name": "DescriptionStyleModel",
      "state": {
       "description_width": ""
      }
     },
     "0c16f29949e044029e0042f94e19cfed": {
      "model_module": "jupyter-leaflet",
      "model_module_version": "^0.14.0",
      "model_name": "LeafletTileLayerModel",
      "state": {
       "_model_module_version": "^0.14.0",
       "_view_module_version": "^0.14.0",
       "max_native_zoom": 18,
       "max_zoom": 19,
       "min_native_zoom": 0,
       "min_zoom": 1,
       "name": "OpenStreetMap.Mapnik",
       "options": [
        "attribution",
        "detect_retina",
        "max_native_zoom",
        "max_zoom",
        "min_native_zoom",
        "min_zoom",
        "no_wrap",
        "tile_size",
        "tms"
       ]
      }
     },
     "0f23113f70384852a5ff06a833e66841": {
      "model_module": "@jupyter-widgets/controls",
      "model_module_version": "1.5.0",
      "model_name": "HTMLModel",
      "state": {
       "layout": "IPY_MODEL_ba9580215c024c5d82e3afa4cfb4d5e5",
       "style": "IPY_MODEL_506ff682b6e14bd6865bf500cb305ee6",
       "value": "</br>Apply power transformation to darken bright features:"
      }
     },
     "132b9b274b4c4ab98a60ba87892b3b78": {
      "model_module": "@jupyter-widgets/base",
      "model_module_version": "1.2.0",
      "model_name": "LayoutModel",
      "state": {}
     },
     "148ab6aae9e5483290141f564b558945": {
      "model_module": "@jupyter-widgets/controls",
      "model_module_version": "1.5.0",
      "model_name": "DropdownModel",
      "state": {
       "_options_labels": [
        "True colour",
        "False colour"
       ],
       "index": 0,
       "layout": "IPY_MODEL_29e783b32db54b6b8c66545dfa0395cf",
       "style": "IPY_MODEL_a5ac0d8527c64a2993fcbaca73096ffe"
      }
     },
     "19c0ea05849e4b9d918eb013a0c7c0ba": {
      "model_module": "@jupyter-widgets/controls",
      "model_module_version": "1.5.0",
      "model_name": "GridBoxModel",
      "state": {
       "children": [
        "IPY_MODEL_4d3f2437303d4893b94a6455f8f6bda0",
        "IPY_MODEL_e34cadd44a7f4273b943ea6520db8969",
        "IPY_MODEL_5fc01cb1675545608388a7e66200b0b1",
        "IPY_MODEL_952a0548070e41a8973a1c0428b61d5f",
        "IPY_MODEL_27e07bc694bb44cbab95f053c8feb096",
        "IPY_MODEL_9dcec75f8c2742d4a68a5441ff5abcfb",
        "IPY_MODEL_a2a0edb6694d4403aa3606d63d449285"
       ],
       "layout": "IPY_MODEL_e98da4b341894b00b5b4678acac0820f"
      }
     },
     "1bfe28914ca44d5f94a69c500066b86b": {
      "model_module": "@jupyter-widgets/base",
      "model_module_version": "1.2.0",
      "model_name": "LayoutModel",
      "state": {
       "grid_area": "widget002",
       "height": "100%",
       "margin": "0px 10px 10px 0px",
       "padding": "5px 5px 5px 5px",
       "width": "100%"
      }
     },
     "1c023e702dcc4da18a2b50add070c0d3": {
      "model_module": "@jupyter-widgets/base",
      "model_module_version": "1.2.0",
      "model_name": "LayoutModel",
      "state": {}
     },
     "1e47e373df2f4556988cf498c8097572": {
      "model_module": "@jupyter-widgets/base",
      "model_module_version": "1.2.0",
      "model_name": "LayoutModel",
      "state": {
       "grid_area": "widget005",
       "height": "100%",
       "margin": "0px 10px 10px 0px",
       "padding": "5px 5px 5px 5px",
       "width": "100%"
      }
     },
     "1e649abc004e4268adbe4faef9567d67": {
      "model_module": "@jupyter-widgets/controls",
      "model_module_version": "1.5.0",
      "model_name": "DescriptionStyleModel",
      "state": {
       "description_width": ""
      }
     },
     "1f79cf94688848f99d01c6cd8df2553c": {
      "model_module": "@jupyter-widgets/controls",
      "model_module_version": "1.5.0",
      "model_name": "HTMLModel",
      "state": {
       "layout": "IPY_MODEL_75153d06c79d4f769e20ca3bdbc174fa",
       "style": "IPY_MODEL_f25cebfda3374c6c88aa2fbedd3fde9d",
       "value": "</br>Apply temporal resampling:"
      }
     },
     "21a10c521a3d42bfb66ef59f15810354": {
      "model_module": "@jupyter-widgets/controls",
      "model_module_version": "1.5.0",
      "model_name": "HTMLModel",
      "state": {
       "layout": "IPY_MODEL_39e717be6be14bbd88c84361f7aff391",
       "style": "IPY_MODEL_322531ff63f1446e952ff0e88af7817d",
       "value": "</br>Apply unsharp masking to sharpen imagery:"
      }
     },
     "220fd98065b14ae288b16fcb13ded6f6": {
      "model_module": "@jupyter-widgets/controls",
      "model_module_version": "1.5.0",
      "model_name": "HTMLModel",
      "state": {
       "layout": "IPY_MODEL_3e6cd7245e2e4996bbdc46ed031bb044",
       "style": "IPY_MODEL_96ad5549d9c0460ab52e1a07d2699373",
       "value": "<b>Satellite imagery:</b>"
      }
     },
     "23d10111422c447c8f131077330c63c1": {
      "model_module": "@jupyter-widgets/controls",
      "model_module_version": "1.5.0",
      "model_name": "DescriptionStyleModel",
      "state": {
       "description_width": ""
      }
     },
     "267af779ded34d5ca2d37b8436f154cd": {
      "model_module": "@jupyter-widgets/base",
      "model_module_version": "1.2.0",
      "model_name": "LayoutModel",
      "state": {
       "width": "85%"
      }
     },
     "27a36a34e2d8495ea04368afa1297e29": {
      "model_module": "jupyter-leaflet",
      "model_module_version": "^0.14.0",
      "model_name": "LeafletTileLayerModel",
      "state": {
       "_model_module_version": "^0.14.0",
       "_view_module_version": "^0.14.0",
       "attribution": "Tiles &copy; Esri &mdash; Source: Esri, i-cubed, USDA, USGS, AEX, GeoEye, Getmapping, Aerogrid, IGN, IGP, UPR-EGP, and the GIS User Community",
       "max_native_zoom": 18,
       "max_zoom": 20,
       "min_native_zoom": 0,
       "min_zoom": 1,
       "name": "Esri.WorldImagery",
       "options": [
        "attribution",
        "detect_retina",
        "max_native_zoom",
        "max_zoom",
        "min_native_zoom",
        "min_zoom",
        "no_wrap",
        "tile_size",
        "tms"
       ],
       "url": "http://server.arcgisonline.com/ArcGIS/rest/services/World_Imagery/MapServer/tile/{z}/{y}/{x}"
      }
     },
     "27b303bf3e40446fb4bd2426e223f56a": {
      "model_module": "@jupyter-widgets/base",
      "model_module_version": "1.2.0",
      "model_name": "LayoutModel",
      "state": {
       "width": "85%"
      }
     },
     "27e07bc694bb44cbab95f053c8feb096": {
      "model_module": "jupyter-leaflet",
      "model_module_version": "^0.14.0",
      "model_name": "LeafletMapModel",
      "state": {
       "_model_module_version": "^0.14.0",
       "_view_module_version": "^0.14.0",
       "bottom": 1015971,
       "center": [
        5.65,
        26.17
       ],
       "controls": [
        "IPY_MODEL_7e0cc4774990413bab1501f419a599ce",
        "IPY_MODEL_b9201efda15e429a9ef39b9517d09df2",
        "IPY_MODEL_bd6d657a2db3483f8375db6fc3bc27a6"
       ],
       "default_style": "IPY_MODEL_d91ddd78f83e48dcadfa87862ea34316",
       "dragging_style": "IPY_MODEL_31b9610f75e6478f935188832a48dd92",
       "east": 26.238269805908203,
       "fullscreen": false,
       "interpolation": "bilinear",
       "layers": [
        "IPY_MODEL_fab35692989a42368be83f0e010bbadd",
        "IPY_MODEL_df0ba954d52a43f69798d67fa64a1e18"
       ],
       "layout": "IPY_MODEL_1e47e373df2f4556988cf498c8097572",
       "left": 1200630,
       "modisdate": "yesterday",
       "north": 5.711817688629665,
       "options": [
        "bounce_at_zoom_limits",
        "box_zoom",
        "center",
        "close_popup_on_click",
        "double_click_zoom",
        "dragging",
        "fullscreen",
        "inertia",
        "inertia_deceleration",
        "inertia_max_speed",
        "interpolation",
        "keyboard",
        "keyboard_pan_offset",
        "keyboard_zoom_offset",
        "max_zoom",
        "min_zoom",
        "scroll_wheel_zoom",
        "tap",
        "tap_tolerance",
        "touch_zoom",
        "world_copy_jump",
        "zoom",
        "zoom_animation_threshold",
        "zoom_delta",
        "zoom_snap",
        "zoom_start"
       ],
       "right": 1201425,
       "scroll_wheel_zoom": true,
       "south": 5.588138654473703,
       "style": "IPY_MODEL_4bfdc9ab51594231b72c391bf587cd8b",
       "top": 1015247,
       "west": 26.101799011230472,
       "window_url": "https://sandbox.digitalearth.africa/user/victoria@kartoza.com/lab/tree/dev/deafrica-sandbox-notebooks/Real_world_examples/Generating_satellite_animations.ipynb",
       "zoom": 13
      }
     },
     "2823483cd11b4a7d9fc99b6fde442060": {
      "model_module": "@jupyter-widgets/controls",
      "model_module_version": "1.5.0",
      "model_name": "IntTextModel",
      "state": {
       "layout": "IPY_MODEL_a270e67f768e449292541e5e883f4320",
       "step": 50,
       "style": "IPY_MODEL_1e649abc004e4268adbe4faef9567d67",
       "value": 900
      }
     },
     "29e783b32db54b6b8c66545dfa0395cf": {
      "model_module": "@jupyter-widgets/base",
      "model_module_version": "1.2.0",
      "model_name": "LayoutModel",
      "state": {
       "width": "85%"
      }
     },
     "2c6e5a902d1e471cb7b1b673f18a85c8": {
      "model_module": "@jupyter-widgets/controls",
      "model_module_version": "1.5.0",
      "model_name": "HTMLModel",
      "state": {
       "layout": "IPY_MODEL_dab23648bab14f39a767f16c40c5890f",
       "style": "IPY_MODEL_de8dacda29e34756b958f703ca1cc6a9",
       "value": "<b>Style:</b>"
      }
     },
     "2e8a3a234fad44c5ac6b53b6029172de": {
      "model_module": "@jupyter-widgets/base",
      "model_module_version": "1.2.0",
      "model_name": "LayoutModel",
      "state": {}
     },
     "2fbadc31468e4e98b942d7b57502099c": {
      "model_module": "@jupyter-widgets/controls",
      "model_module_version": "1.5.0",
      "model_name": "CheckboxModel",
      "state": {
       "description": "Enable",
       "disabled": false,
       "indent": false,
       "layout": "IPY_MODEL_f1a50c3e4a764094a061fec743eeaa53",
       "style": "IPY_MODEL_94cb965f8156470fad60ccc2a1ce174b",
       "value": false
      }
     },
     "2ffcbf624a49408995f51c9d418e9f6e": {
      "model_module": "@jupyter-widgets/controls",
      "model_module_version": "1.5.0",
      "model_name": "DropdownModel",
      "state": {
       "_options_labels": [
        "Landsat",
        "Sentinel-2"
       ],
       "index": 0,
       "layout": "IPY_MODEL_78d5a071f3174ab19a9153445a87727c",
       "style": "IPY_MODEL_a2f050f9e57b4747a3f2bc2648b53abb"
      }
     },
     "31b55f67ec284afa9e57c1d878289e12": {
      "model_module": "@jupyter-widgets/base",
      "model_module_version": "1.2.0",
      "model_name": "LayoutModel",
      "state": {}
     },
     "31b9610f75e6478f935188832a48dd92": {
      "model_module": "jupyter-leaflet",
      "model_module_version": "^0.14.0",
      "model_name": "LeafletMapStyleModel",
      "state": {
       "_model_module_version": "^0.14.0",
       "cursor": "move"
      }
     },
     "322531ff63f1446e952ff0e88af7817d": {
      "model_module": "@jupyter-widgets/controls",
      "model_module_version": "1.5.0",
      "model_name": "DescriptionStyleModel",
      "state": {
       "description_width": ""
      }
     },
     "3372c7dd59984b5cbeb2e84ed8d68778": {
      "model_module": "@jupyter-widgets/controls",
      "model_module_version": "1.5.0",
      "model_name": "IntSliderModel",
      "state": {
       "layout": "IPY_MODEL_27b303bf3e40446fb4bd2426e223f56a",
       "style": "IPY_MODEL_036e12a271bb463fac05852469a2858b",
       "value": 20
      }
     },
     "34ba845ea3a64b31941dba9bfa3fbb1b": {
      "model_module": "@jupyter-widgets/base",
      "model_module_version": "1.2.0",
      "model_name": "LayoutModel",
      "state": {
       "width": "95%"
      }
     },
     "3597d46544e049329fabe20c4a58c339": {
      "model_module": "@jupyter-widgets/controls",
      "model_module_version": "1.5.0",
      "model_name": "FloatTextModel",
      "state": {
       "layout": "IPY_MODEL_f34fee7984f84dabac32893fff33aabc",
       "step": null,
       "style": "IPY_MODEL_0ac6d582135c4889934d472e907bba2d",
       "value": 30
      }
     },
     "3823a6940a9745c6a6645e7bf67ea0a3": {
      "model_module": "@jupyter-widgets/controls",
      "model_module_version": "1.5.0",
      "model_name": "DescriptionStyleModel",
      "state": {
       "description_width": ""
      }
     },
     "38f900ee86ad4305ab22fa2d21ef1932": {
      "model_module": "@jupyter-widgets/controls",
      "model_module_version": "1.5.0",
      "model_name": "DescriptionStyleModel",
      "state": {
       "description_width": ""
      }
     },
     "3934915397294177a571dddcb3f778dd": {
      "model_module": "@jupyter-widgets/base",
      "model_module_version": "1.2.0",
      "model_name": "LayoutModel",
      "state": {}
     },
     "39e717be6be14bbd88c84361f7aff391": {
      "model_module": "@jupyter-widgets/base",
      "model_module_version": "1.2.0",
      "model_name": "LayoutModel",
      "state": {}
     },
     "3a5014191bc44fb79f8d6f1f39d45dae": {
      "model_module": "@jupyter-widgets/controls",
      "model_module_version": "1.5.0",
      "model_name": "DescriptionStyleModel",
      "state": {
       "description_width": ""
      }
     },
     "3a9652e887cc4496b72f046a7634649b": {
      "model_module": "@jupyter-widgets/base",
      "model_module_version": "1.2.0",
      "model_name": "LayoutModel",
      "state": {
       "display": "none",
       "margin": "0px",
       "padding": "0px",
       "width": "95%"
      }
     },
     "3b846e88d45c48f4b1485d016a767141": {
      "model_module": "@jupyter-widgets/base",
      "model_module_version": "1.2.0",
      "model_name": "LayoutModel",
      "state": {}
     },
     "3d22deea5bc94c8b95bf8ccc4d09fe69": {
      "model_module": "@jupyter-widgets/base",
      "model_module_version": "1.2.0",
      "model_name": "LayoutModel",
      "state": {}
     },
     "3e6cd7245e2e4996bbdc46ed031bb044": {
      "model_module": "@jupyter-widgets/base",
      "model_module_version": "1.2.0",
      "model_name": "LayoutModel",
      "state": {}
     },
     "3e6ece98d7904cffa8f6acf0a6dec69f": {
      "model_module": "@jupyter-widgets/base",
      "model_module_version": "1.2.0",
      "model_name": "LayoutModel",
      "state": {
       "grid_area": "widget007",
       "height": "100%",
       "margin": "0px 10px 10px 0px",
       "padding": "5px 5px 5px 5px",
       "width": "100%"
      }
     },
     "468d2ac836034bf59aacd520bb857741": {
      "model_module": "@jupyter-widgets/base",
      "model_module_version": "1.2.0",
      "model_name": "LayoutModel",
      "state": {}
     },
     "47a86a5bb22745c4a25e696e8a0e2dde": {
      "model_module": "@jupyter-widgets/controls",
      "model_module_version": "1.5.0",
      "model_name": "FloatTextModel",
      "state": {
       "description": "Radius",
       "layout": "IPY_MODEL_3a9652e887cc4496b72f046a7634649b",
       "step": 1,
       "style": "IPY_MODEL_6876752894cb4c709f3d44787d5d1ad4",
       "value": 20
      }
     },
     "49402af9ded04492a1db25fb2fb80a87": {
      "model_module": "@jupyter-widgets/controls",
      "model_module_version": "1.5.0",
      "model_name": "DropdownModel",
      "state": {
       "_options_labels": [
        "ESRI World Imagery",
        "Open Street Map"
       ],
       "index": 0,
       "layout": "IPY_MODEL_267af779ded34d5ca2d37b8436f154cd",
       "style": "IPY_MODEL_da0831d3db344cf0aefd6d7fca9dcc9a"
      }
     },
     "4bfdc9ab51594231b72c391bf587cd8b": {
      "model_module": "jupyter-leaflet",
      "model_module_version": "^0.14.0",
      "model_name": "LeafletMapStyleModel",
      "state": {
       "_model_module_version": "^0.14.0"
      }
     },
     "4d3f2437303d4893b94a6455f8f6bda0": {
      "model_module": "@jupyter-widgets/controls",
      "model_module_version": "1.5.0",
      "model_name": "HTMLModel",
      "state": {
       "layout": "IPY_MODEL_f988ab0f54664c6193fb8f89a5582df2",
       "style": "IPY_MODEL_8b08c6adbfd846299bf6d04afba944cb",
       "value": "<h3>Digital Earth Africa satellite imagery animations</h3><p>Select the desired satellite data, imagery date range and image style, then zoom in and draw a rectangle to select an area export as a satellite imagery time-series animation.</p>"
      }
     },
     "4d437d3e08924fdcaff1324e2bbbc060": {
      "model_module": "@jupyter-widgets/base",
      "model_module_version": "1.2.0",
      "model_name": "LayoutModel",
      "state": {
       "display": "none",
       "margin": "0px",
       "padding": "0px",
       "width": "85%"
      }
     },
     "4f355d3ea6b14c60bc42b607bed3c84c": {
      "model_module": "@jupyter-widgets/controls",
      "model_module_version": "1.5.0",
      "model_name": "HTMLModel",
      "state": {
       "layout": "IPY_MODEL_3b846e88d45c48f4b1485d016a767141",
       "style": "IPY_MODEL_9cc0bd0f37be42dc9eed6e29de283625",
       "value": "<b>Colour percentile stretch:</b>"
      }
     },
     "506ff682b6e14bd6865bf500cb305ee6": {
      "model_module": "@jupyter-widgets/controls",
      "model_module_version": "1.5.0",
      "model_name": "DescriptionStyleModel",
      "state": {
       "description_width": ""
      }
     },
     "5081f62d456e4fcebe359d02d8540e8d": {
      "model_module": "@jupyter-widgets/controls",
      "model_module_version": "1.5.0",
      "model_name": "DescriptionStyleModel",
      "state": {
       "description_width": ""
      }
     },
     "52d7eb0fd8ff4849a673532c52d3b997": {
      "model_module": "@jupyter-widgets/base",
      "model_module_version": "1.2.0",
      "model_name": "LayoutModel",
      "state": {}
     },
     "594341d2c7ad447d9cb1cfa1a34f2488": {
      "model_module": "@jupyter-widgets/controls",
      "model_module_version": "1.5.0",
      "model_name": "DescriptionStyleModel",
      "state": {
       "description_width": ""
      }
     },
     "5b032ae0631e478488a994b8eb01b29b": {
      "model_module": "@jupyter-widgets/base",
      "model_module_version": "1.2.0",
      "model_name": "LayoutModel",
      "state": {
       "width": "85%"
      }
     },
     "5bf5791bda034e02a6f6cc1c9b88b058": {
      "model_module": "@jupyter-widgets/controls",
      "model_module_version": "1.5.0",
      "model_name": "HTMLModel",
      "state": {
       "layout": "IPY_MODEL_468d2ac836034bf59aacd520bb857741",
       "style": "IPY_MODEL_f9d4fa87453a47c29ff8eb56af7a83a5",
       "value": "</br>Width of output animation in pixels:"
      }
     },
     "5ee4f4123bf94778a7bddba1d036a4ea": {
      "model_module": "@jupyter-widgets/controls",
      "model_module_version": "1.5.0",
      "model_name": "HTMLModel",
      "state": {
       "layout": "IPY_MODEL_d41ca190874f4f84bed1a761018f6efd",
       "style": "IPY_MODEL_6170fb3ffbdc4e91bd6cc1e70fa8b183",
       "value": "Frame interval (milliseconds):"
      }
     },
     "5fc01cb1675545608388a7e66200b0b1": {
      "model_module": "@jupyter-widgets/controls",
      "model_module_version": "1.5.0",
      "model_name": "VBoxModel",
      "state": {
       "children": [
        "IPY_MODEL_220fd98065b14ae288b16fcb13ded6f6",
        "IPY_MODEL_2ffcbf624a49408995f51c9d418e9f6e",
        "IPY_MODEL_a678656a8ba84007b3dbdd7021b1aa93",
        "IPY_MODEL_bbb30bdadf3e408398dc87483cb338c8",
        "IPY_MODEL_b8dc3e28824941bbaa2739d3d4ad227f",
        "IPY_MODEL_bd16c9b4f5c2447dbdf8756aff8e4025",
        "IPY_MODEL_2c6e5a902d1e471cb7b1b673f18a85c8",
        "IPY_MODEL_148ab6aae9e5483290141f564b558945",
        "IPY_MODEL_4f355d3ea6b14c60bc42b607bed3c84c",
        "IPY_MODEL_eee19eb059cf427094ac91b97fabb592",
        "IPY_MODEL_744cea04f17f4306a934c752a18192d7",
        "IPY_MODEL_3372c7dd59984b5cbeb2e84ed8d68778",
        "IPY_MODEL_cc9df394cd6b498fb6c7cee6aa44bc6c",
        "IPY_MODEL_863c4c38f9904f6eb6c6caef9f91f53a",
        "IPY_MODEL_7a6206b34e5d4685990c35f6d91544de",
        "IPY_MODEL_b1d5163aef8444b4a88ed0fdc60d547b",
        "IPY_MODEL_a8a93ad5f98742319743da832473be81",
        "IPY_MODEL_a92abca1be6742bea59f1268ae6a5184"
       ],
       "layout": "IPY_MODEL_72f784059be94bfca9a857d314889ddc"
      }
     },
     "6170fb3ffbdc4e91bd6cc1e70fa8b183": {
      "model_module": "@jupyter-widgets/controls",
      "model_module_version": "1.5.0",
      "model_name": "DescriptionStyleModel",
      "state": {
       "description_width": ""
      }
     },
     "658baab1eeea433cab2802d28ad40ab4": {
      "model_module": "@jupyter-widgets/base",
      "model_module_version": "1.2.0",
      "model_name": "LayoutModel",
      "state": {}
     },
     "67effa78337645e0b0bde1e346825bd9": {
      "model_module": "@jupyter-widgets/base",
      "model_module_version": "1.2.0",
      "model_name": "LayoutModel",
      "state": {
       "width": "85%"
      }
     },
     "6876752894cb4c709f3d44787d5d1ad4": {
      "model_module": "@jupyter-widgets/controls",
      "model_module_version": "1.5.0",
      "model_name": "DescriptionStyleModel",
      "state": {
       "description_width": ""
      }
     },
     "690932dcd45d4ef392c18be5cb29711c": {
      "model_module": "@jupyter-widgets/base",
      "model_module_version": "1.2.0",
      "model_name": "LayoutModel",
      "state": {}
     },
     "6a1bd81db31243538d5315227c87d10f": {
      "model_module": "@jupyter-widgets/controls",
      "model_module_version": "1.5.0",
      "model_name": "DescriptionStyleModel",
      "state": {
       "description_width": ""
      }
     },
     "6c9ac67dccac46e4966ba506db503d7b": {
      "model_module": "@jupyter-widgets/controls",
      "model_module_version": "1.5.0",
      "model_name": "DescriptionStyleModel",
      "state": {
       "description_width": ""
      }
     },
     "71ab0605551b468eaf2cdd802c23558d": {
      "model_module": "@jupyter-widgets/controls",
      "model_module_version": "1.5.0",
      "model_name": "DropdownModel",
      "state": {
       "_options_labels": [
        "None",
        "Monthly",
        "Quarterly",
        "Yearly"
       ],
       "index": 0,
       "layout": "IPY_MODEL_027c44c9d38b413baffe5045952d7831",
       "style": "IPY_MODEL_38f900ee86ad4305ab22fa2d21ef1932"
      }
     },
     "71d69d55bd5b431fa15edafff282d7e9": {
      "model_module": "@jupyter-widgets/base",
      "model_module_version": "1.2.0",
      "model_name": "LayoutModel",
      "state": {
       "display": "none",
       "margin": "0px",
       "padding": "0px",
       "width": "95%"
      }
     },
     "72f784059be94bfca9a857d314889ddc": {
      "model_module": "@jupyter-widgets/base",
      "model_module_version": "1.2.0",
      "model_name": "LayoutModel",
      "state": {
       "grid_area": "widget003",
       "height": "100%",
       "margin": "0px 10px 10px 0px",
       "padding": "5px 5px 5px 5px",
       "width": "100%"
      }
     },
     "744cea04f17f4306a934c752a18192d7": {
      "model_module": "@jupyter-widgets/controls",
      "model_module_version": "1.5.0",
      "model_name": "HTMLModel",
      "state": {
       "layout": "IPY_MODEL_cb32fae31cc3453a887f0300cd178138",
       "style": "IPY_MODEL_bbb53a1a28444ca2afe10223005966c7",
       "value": "<b>Maximum cloud cover (%):</b>"
      }
     },
     "75153d06c79d4f769e20ca3bdbc174fa": {
      "model_module": "@jupyter-widgets/base",
      "model_module_version": "1.2.0",
      "model_name": "LayoutModel",
      "state": {}
     },
     "78d5a071f3174ab19a9153445a87727c": {
      "model_module": "@jupyter-widgets/base",
      "model_module_version": "1.2.0",
      "model_name": "LayoutModel",
      "state": {
       "width": "85%"
      }
     },
     "7a6206b34e5d4685990c35f6d91544de": {
      "model_module": "@jupyter-widgets/controls",
      "model_module_version": "1.5.0",
      "model_name": "HTMLModel",
      "state": {
       "layout": "IPY_MODEL_690932dcd45d4ef392c18be5cb29711c",
       "style": "IPY_MODEL_ca9b1f9e4a99424d9237ff9acd085245",
       "value": "</br><b>Output file format:</b>"
      }
     },
     "7bbcced0bfde4393bf5c86a3b1ec4085": {
      "model_module": "@jupyter-widgets/controls",
      "model_module_version": "1.5.0",
      "model_name": "ButtonStyleModel",
      "state": {}
     },
     "7e0cc4774990413bab1501f419a599ce": {
      "model_module": "jupyter-leaflet",
      "model_module_version": "^0.14.0",
      "model_name": "LeafletZoomControlModel",
      "state": {
       "_model_module_version": "^0.14.0",
       "_view_module_version": "^0.14.0",
       "options": [
        "position",
        "zoom_in_text",
        "zoom_in_title",
        "zoom_out_text",
        "zoom_out_title"
       ]
      }
     },
     "860da41a213c47b099e3f9733b4da73d": {
      "model_module": "@jupyter-widgets/base",
      "model_module_version": "1.2.0",
      "model_name": "LayoutModel",
      "state": {}
     },
     "863c4c38f9904f6eb6c6caef9f91f53a": {
      "model_module": "@jupyter-widgets/controls",
      "model_module_version": "1.5.0",
      "model_name": "IntTextModel",
      "state": {
       "description": "</br>Rolling window (timesteps)",
       "layout": "IPY_MODEL_4d437d3e08924fdcaff1324e2bbbc060",
       "step": 1,
       "style": "IPY_MODEL_d905beedab9d4da2b7d72ececa62c5a0",
       "value": 20
      }
     },
     "89958d68574e44eabf44bdd0d67006f0": {
      "model_module": "@jupyter-widgets/controls",
      "model_module_version": "1.5.0",
      "model_name": "HTMLModel",
      "state": {
       "layout": "IPY_MODEL_658baab1eeea433cab2802d28ad40ab4",
       "style": "IPY_MODEL_5081f62d456e4fcebe359d02d8540e8d",
       "value": "</br>"
      }
     },
     "8b08c6adbfd846299bf6d04afba944cb": {
      "model_module": "@jupyter-widgets/controls",
      "model_module_version": "1.5.0",
      "model_name": "DescriptionStyleModel",
      "state": {
       "description_width": ""
      }
     },
     "94cb965f8156470fad60ccc2a1ce174b": {
      "model_module": "@jupyter-widgets/controls",
      "model_module_version": "1.5.0",
      "model_name": "DescriptionStyleModel",
      "state": {
       "description_width": ""
      }
     },
     "952a0548070e41a8973a1c0428b61d5f": {
      "model_module": "@jupyter-widgets/controls",
      "model_module_version": "1.5.0",
      "model_name": "ButtonModel",
      "state": {
       "button_style": "info",
       "description": "Generate animation",
       "layout": "IPY_MODEL_b5b79b8e37cc472f89e8c9a253eaba07",
       "style": "IPY_MODEL_7bbcced0bfde4393bf5c86a3b1ec4085"
      }
     },
     "957d4c13e9274778adbebe01c22d9318": {
      "model_module": "@jupyter-widgets/controls",
      "model_module_version": "1.5.0",
      "model_name": "SliderStyleModel",
      "state": {
       "description_width": ""
      }
     },
     "96ad5549d9c0460ab52e1a07d2699373": {
      "model_module": "@jupyter-widgets/controls",
      "model_module_version": "1.5.0",
      "model_name": "DescriptionStyleModel",
      "state": {
       "description_width": ""
      }
     },
     "9a25cd83ae1140e9bb8f35ada1830968": {
      "model_module": "@jupyter-widgets/controls",
      "model_module_version": "1.5.0",
      "model_name": "DescriptionStyleModel",
      "state": {
       "description_width": ""
      }
     },
     "9ac480363928429dbe94b905b38f3189": {
      "model_module": "@jupyter-widgets/controls",
      "model_module_version": "1.5.0",
      "model_name": "SliderStyleModel",
      "state": {
       "description_width": ""
      }
     },
     "9b5128a9f67441e2866755d1ec0441ca": {
      "model_module": "@jupyter-widgets/controls",
      "model_module_version": "1.5.0",
      "model_name": "DescriptionStyleModel",
      "state": {
       "description_width": ""
      }
     },
     "9cc0bd0f37be42dc9eed6e29de283625": {
      "model_module": "@jupyter-widgets/controls",
      "model_module_version": "1.5.0",
      "model_name": "DescriptionStyleModel",
      "state": {
       "description_width": ""
      }
     },
     "9dcec75f8c2742d4a68a5441ff5abcfb": {
      "model_module": "@jupyter-widgets/output",
      "model_module_version": "1.0.0",
      "model_name": "OutputModel",
      "state": {
       "layout": "IPY_MODEL_d911fca2863148f3948ea35c155f2a9d"
      }
     },
     "a0d49375f41a4ab0b3ff767f9f1e4d65": {
      "model_module": "@jupyter-widgets/controls",
      "model_module_version": "1.5.0",
      "model_name": "VBoxModel",
      "state": {
       "children": [
        "IPY_MODEL_5ee4f4123bf94778a7bddba1d036a4ea",
        "IPY_MODEL_c06f0e2ece2b4dd684518fbb73d8fac1",
        "IPY_MODEL_d02b865685cb4957b5d307cf4e0ba677",
        "IPY_MODEL_3597d46544e049329fabe20c4a58c339",
        "IPY_MODEL_5bf5791bda034e02a6f6cc1c9b88b058",
        "IPY_MODEL_2823483cd11b4a7d9fc99b6fde442060",
        "IPY_MODEL_1f79cf94688848f99d01c6cd8df2553c",
        "IPY_MODEL_71ab0605551b468eaf2cdd802c23558d",
        "IPY_MODEL_89958d68574e44eabf44bdd0d67006f0",
        "IPY_MODEL_bd787ccd26924b32a819d0a42eb31845",
        "IPY_MODEL_0f23113f70384852a5ff06a833e66841",
        "IPY_MODEL_04386f98cf824838ade2b4feb3058ed8",
        "IPY_MODEL_21a10c521a3d42bfb66ef59f15810354",
        "IPY_MODEL_2fbadc31468e4e98b942d7b57502099c",
        "IPY_MODEL_47a86a5bb22745c4a25e696e8a0e2dde",
        "IPY_MODEL_c20e584277724eb784bf5bb193402c28",
        "IPY_MODEL_e2d952b810904012a74ff2d1846a9ae7",
        "IPY_MODEL_cda2b979ee9f49de82ec014d611e58c5"
       ],
       "layout": "IPY_MODEL_b20703143a5c4ac8884b0f4b547c2ba0"
      }
     },
     "a270e67f768e449292541e5e883f4320": {
      "model_module": "@jupyter-widgets/base",
      "model_module_version": "1.2.0",
      "model_name": "LayoutModel",
      "state": {
       "width": "95%"
      }
     },
     "a2a0edb6694d4403aa3606d63d449285": {
      "model_module": "@jupyter-widgets/output",
      "model_module_version": "1.0.0",
      "model_name": "OutputModel",
      "state": {
       "layout": "IPY_MODEL_3e6ece98d7904cffa8f6acf0a6dec69f"
      }
     },
     "a2f050f9e57b4747a3f2bc2648b53abb": {
      "model_module": "@jupyter-widgets/controls",
      "model_module_version": "1.5.0",
      "model_name": "DescriptionStyleModel",
      "state": {
       "description_width": ""
      }
     },
     "a5ac0d8527c64a2993fcbaca73096ffe": {
      "model_module": "@jupyter-widgets/controls",
      "model_module_version": "1.5.0",
      "model_name": "DescriptionStyleModel",
      "state": {
       "description_width": ""
      }
     },
     "a678656a8ba84007b3dbdd7021b1aa93": {
      "model_module": "@jupyter-widgets/controls",
      "model_module_version": "1.5.0",
      "model_name": "HTMLModel",
      "state": {
       "layout": "IPY_MODEL_3d22deea5bc94c8b95bf8ccc4d09fe69",
       "style": "IPY_MODEL_9a25cd83ae1140e9bb8f35ada1830968",
       "value": "<b>Start date:</b>"
      }
     },
     "a8a93ad5f98742319743da832473be81": {
      "model_module": "@jupyter-widgets/controls",
      "model_module_version": "1.5.0",
      "model_name": "HTMLModel",
      "state": {
       "layout": "IPY_MODEL_1c023e702dcc4da18a2b50add070c0d3",
       "style": "IPY_MODEL_6c9ac67dccac46e4966ba506db503d7b",
       "value": "</br>"
      }
     },
     "a92abca1be6742bea59f1268ae6a5184": {
      "model_module": "@jupyter-widgets/controls",
      "model_module_version": "1.5.0",
      "model_name": "AccordionModel",
      "state": {
       "_titles": {
        "0": "Advanced"
       },
       "children": [
        "IPY_MODEL_a0d49375f41a4ab0b3ff767f9f1e4d65"
       ],
       "layout": "IPY_MODEL_3934915397294177a571dddcb3f778dd",
       "selected_index": null
      }
     },
     "aea6109fe9494f54851b60ac5f73b254": {
      "model_module": "@jupyter-widgets/base",
      "model_module_version": "1.2.0",
      "model_name": "LayoutModel",
      "state": {}
     },
     "b1d5163aef8444b4a88ed0fdc60d547b": {
      "model_module": "@jupyter-widgets/controls",
      "model_module_version": "1.5.0",
      "model_name": "DropdownModel",
      "state": {
       "_options_labels": [
        "MP4",
        "GIF"
       ],
       "index": 0,
       "layout": "IPY_MODEL_c4b660c429694816b307fe5d93ccb7f2",
       "style": "IPY_MODEL_d44ea6507ef9412e81ec0d0a2b32a01e"
      }
     },
     "b20703143a5c4ac8884b0f4b547c2ba0": {
      "model_module": "@jupyter-widgets/base",
      "model_module_version": "1.2.0",
      "model_name": "LayoutModel",
      "state": {}
     },
     "b5b79b8e37cc472f89e8c9a253eaba07": {
      "model_module": "@jupyter-widgets/base",
      "model_module_version": "1.2.0",
      "model_name": "LayoutModel",
      "state": {
       "grid_area": "widget004",
       "height": "auto",
       "width": "auto"
      }
     },
     "b8dc3e28824941bbaa2739d3d4ad227f": {
      "model_module": "@jupyter-widgets/controls",
      "model_module_version": "1.5.0",
      "model_name": "HTMLModel",
      "state": {
       "layout": "IPY_MODEL_e59bd77e178f4403954b1846b692ac72",
       "style": "IPY_MODEL_3823a6940a9745c6a6645e7bf67ea0a3",
       "value": "<b>End date:</b>"
      }
     },
     "b9201efda15e429a9ef39b9517d09df2": {
      "model_module": "jupyter-leaflet",
      "model_module_version": "^0.14.0",
      "model_name": "LeafletAttributionControlModel",
      "state": {
       "_model_module_version": "^0.14.0",
       "_view_module_version": "^0.14.0",
       "options": [
        "position",
        "prefix"
       ],
       "position": "bottomright",
       "prefix": "ipyleaflet"
      }
     },
     "b920405561f84603a0b2a1cecbdb9dec": {
      "model_module": "@jupyter-widgets/controls",
      "model_module_version": "1.5.0",
      "model_name": "HTMLModel",
      "state": {
       "layout": "IPY_MODEL_31b55f67ec284afa9e57c1d878289e12",
       "style": "IPY_MODEL_bfc52f6d78aa4f01acf3bef6dba99ca4",
       "value": "</br><b>Map overlay:</b>"
      }
     },
     "b9f8fc0d7e3a408daa4f106233d69a6e": {
      "model_module": "@jupyter-widgets/base",
      "model_module_version": "1.2.0",
      "model_name": "LayoutModel",
      "state": {}
     },
     "ba9580215c024c5d82e3afa4cfb4d5e5": {
      "model_module": "@jupyter-widgets/base",
      "model_module_version": "1.2.0",
      "model_name": "LayoutModel",
      "state": {}
     },
     "bbb30bdadf3e408398dc87483cb338c8": {
      "model_module": "@jupyter-widgets/controls",
      "model_module_version": "1.5.0",
      "model_name": "DatePickerModel",
      "state": {
       "disabled": false,
       "layout": "IPY_MODEL_039e6be77d3d47bf9469983b1cd938f0",
       "style": "IPY_MODEL_d47e5088ae1547a09d086c7df3b5ea35",
       "value": {
        "date": 6,
        "month": 6,
        "year": 2019
       }
      }
     },
     "bbb53a1a28444ca2afe10223005966c7": {
      "model_module": "@jupyter-widgets/controls",
      "model_module_version": "1.5.0",
      "model_name": "DescriptionStyleModel",
      "state": {
       "description_width": ""
      }
     },
     "bd16c9b4f5c2447dbdf8756aff8e4025": {
      "model_module": "@jupyter-widgets/controls",
      "model_module_version": "1.5.0",
      "model_name": "DatePickerModel",
      "state": {
       "disabled": false,
       "layout": "IPY_MODEL_67effa78337645e0b0bde1e346825bd9",
       "style": "IPY_MODEL_d1dfd39f8a7b4918972f6e0663827156",
       "value": {
        "date": 6,
        "month": 6,
        "year": 2022
       }
      }
     },
     "bd6d657a2db3483f8375db6fc3bc27a6": {
      "model_module": "jupyter-leaflet",
      "model_module_version": "^0.14.0",
      "model_name": "LeafletDrawControlModel",
      "state": {
       "_model_module_version": "^0.14.0",
       "_view_module_version": "^0.14.0",
       "options": [
        "position"
       ],
       "polygon": {},
       "polyline": {},
       "rectangle": {
        "shapeOptions": {
         "color": "#FFFFFF",
         "fillColor": "#336699",
         "fillOpacity": 0.4,
         "opacity": 0.8
        }
       }
      }
     },
     "bd787ccd26924b32a819d0a42eb31845": {
      "model_module": "@jupyter-widgets/controls",
      "model_module_version": "1.5.0",
      "model_name": "CheckboxModel",
      "state": {
       "description": "Mask out cloudy <br> pixels",
       "disabled": false,
       "indent": false,
       "layout": "IPY_MODEL_caf7fd7d12554007b67d1750ccd45159",
       "style": "IPY_MODEL_9b5128a9f67441e2866755d1ec0441ca",
       "value": false
      }
     },
     "bfc52f6d78aa4f01acf3bef6dba99ca4": {
      "model_module": "@jupyter-widgets/controls",
      "model_module_version": "1.5.0",
      "model_name": "DescriptionStyleModel",
      "state": {
       "description_width": ""
      }
     },
     "c06f0e2ece2b4dd684518fbb73d8fac1": {
      "model_module": "@jupyter-widgets/controls",
      "model_module_version": "1.5.0",
      "model_name": "IntTextModel",
      "state": {
       "layout": "IPY_MODEL_de61aed6dafc4b988f3305708f184caa",
       "step": 50,
       "style": "IPY_MODEL_23d10111422c447c8f131077330c63c1",
       "value": 100
      }
     },
     "c20e584277724eb784bf5bb193402c28": {
      "model_module": "@jupyter-widgets/controls",
      "model_module_version": "1.5.0",
      "model_name": "FloatTextModel",
      "state": {
       "description": "Amount",
       "layout": "IPY_MODEL_71d69d55bd5b431fa15edafff282d7e9",
       "step": 0.1,
       "style": "IPY_MODEL_594341d2c7ad447d9cb1cfa1a34f2488",
       "value": 0.3
      }
     },
     "c4aaaab2e334448fbccd405f0a689c39": {
      "model_module": "@jupyter-widgets/base",
      "model_module_version": "1.2.0",
      "model_name": "LayoutModel",
      "state": {
       "height": "4em",
       "width": "90%"
      }
     },
     "c4b660c429694816b307fe5d93ccb7f2": {
      "model_module": "@jupyter-widgets/base",
      "model_module_version": "1.2.0",
      "model_name": "LayoutModel",
      "state": {
       "width": "85%"
      }
     },
     "ca9b1f9e4a99424d9237ff9acd085245": {
      "model_module": "@jupyter-widgets/controls",
      "model_module_version": "1.5.0",
      "model_name": "DescriptionStyleModel",
      "state": {
       "description_width": ""
      }
     },
     "caf7fd7d12554007b67d1750ccd45159": {
      "model_module": "@jupyter-widgets/base",
      "model_module_version": "1.2.0",
      "model_name": "LayoutModel",
      "state": {
       "height": "auto",
       "width": "95%"
      }
     },
     "cb32fae31cc3453a887f0300cd178138": {
      "model_module": "@jupyter-widgets/base",
      "model_module_version": "1.2.0",
      "model_name": "LayoutModel",
      "state": {}
     },
     "cc9df394cd6b498fb6c7cee6aa44bc6c": {
      "model_module": "@jupyter-widgets/controls",
      "model_module_version": "1.5.0",
      "model_name": "CheckboxModel",
      "state": {
       "description": "Apply rolling median<br>to produce smooth, <br> cloud-free animations",
       "disabled": false,
       "indent": false,
       "layout": "IPY_MODEL_c4aaaab2e334448fbccd405f0a689c39",
       "style": "IPY_MODEL_6a1bd81db31243538d5315227c87d10f",
       "value": false
      }
     },
     "cd4ab36f357f4058aeec82a26a798487": {
      "model_module": "@jupyter-widgets/base",
      "model_module_version": "1.2.0",
      "model_name": "LayoutModel",
      "state": {}
     },
     "cda2b979ee9f49de82ec014d611e58c5": {
      "model_module": "@jupyter-widgets/controls",
      "model_module_version": "1.5.0",
      "model_name": "CheckboxModel",
      "state": {
       "description": "Enable",
       "disabled": false,
       "indent": false,
       "layout": "IPY_MODEL_34ba845ea3a64b31941dba9bfa3fbb1b",
       "style": "IPY_MODEL_fdab9d82a78949faafa96b423afb23fa",
       "value": false
      }
     },
     "d02b865685cb4957b5d307cf4e0ba677": {
      "model_module": "@jupyter-widgets/controls",
      "model_module_version": "1.5.0",
      "model_name": "HTMLModel",
      "state": {
       "layout": "IPY_MODEL_52d7eb0fd8ff4849a673532c52d3b997",
       "style": "IPY_MODEL_3a5014191bc44fb79f8d6f1f39d45dae",
       "value": "</br>Resolution (metres):"
      }
     },
     "d1dfd39f8a7b4918972f6e0663827156": {
      "model_module": "@jupyter-widgets/controls",
      "model_module_version": "1.5.0",
      "model_name": "DescriptionStyleModel",
      "state": {
       "description_width": ""
      }
     },
     "d41ca190874f4f84bed1a761018f6efd": {
      "model_module": "@jupyter-widgets/base",
      "model_module_version": "1.2.0",
      "model_name": "LayoutModel",
      "state": {}
     },
     "d44ea6507ef9412e81ec0d0a2b32a01e": {
      "model_module": "@jupyter-widgets/controls",
      "model_module_version": "1.5.0",
      "model_name": "DescriptionStyleModel",
      "state": {
       "description_width": ""
      }
     },
     "d47e5088ae1547a09d086c7df3b5ea35": {
      "model_module": "@jupyter-widgets/controls",
      "model_module_version": "1.5.0",
      "model_name": "DescriptionStyleModel",
      "state": {
       "description_width": ""
      }
     },
     "d905beedab9d4da2b7d72ececa62c5a0": {
      "model_module": "@jupyter-widgets/controls",
      "model_module_version": "1.5.0",
      "model_name": "DescriptionStyleModel",
      "state": {
       "description_width": ""
      }
     },
     "d911fca2863148f3948ea35c155f2a9d": {
      "model_module": "@jupyter-widgets/base",
      "model_module_version": "1.2.0",
      "model_name": "LayoutModel",
      "state": {
       "grid_area": "widget006",
       "height": "100%",
       "margin": "0px 10px 10px 0px",
       "padding": "5px 5px 5px 5px",
       "width": "100%"
      }
     },
     "d91ddd78f83e48dcadfa87862ea34316": {
      "model_module": "jupyter-leaflet",
      "model_module_version": "^0.14.0",
      "model_name": "LeafletMapStyleModel",
      "state": {
       "_model_module_version": "^0.14.0"
      }
     },
     "da0831d3db344cf0aefd6d7fca9dcc9a": {
      "model_module": "@jupyter-widgets/controls",
      "model_module_version": "1.5.0",
      "model_name": "DescriptionStyleModel",
      "state": {
       "description_width": ""
      }
     },
     "dab23648bab14f39a767f16c40c5890f": {
      "model_module": "@jupyter-widgets/base",
      "model_module_version": "1.2.0",
      "model_name": "LayoutModel",
      "state": {}
     },
     "de61aed6dafc4b988f3305708f184caa": {
      "model_module": "@jupyter-widgets/base",
      "model_module_version": "1.2.0",
      "model_name": "LayoutModel",
      "state": {
       "width": "95%"
      }
     },
     "de8dacda29e34756b958f703ca1cc6a9": {
      "model_module": "@jupyter-widgets/controls",
      "model_module_version": "1.5.0",
      "model_name": "DescriptionStyleModel",
      "state": {
       "description_width": ""
      }
     },
     "df0ba954d52a43f69798d67fa64a1e18": {
      "model_module": "jupyter-leaflet",
      "model_module_version": "^0.14.0",
      "model_name": "LeafletLayerGroupModel",
      "state": {
       "_model_module": "jupyter-leaflet",
       "_model_module_version": "^0.14.0",
       "_view_count": null,
       "_view_module": "jupyter-leaflet",
       "_view_module_version": "^0.14.0",
       "base": false,
       "bottom": false,
       "layers": [
        "IPY_MODEL_27a36a34e2d8495ea04368afa1297e29"
       ],
       "name": "Map Overlays",
       "options": [],
       "popup": null,
       "popup_max_height": null,
       "popup_max_width": 300,
       "popup_min_width": 50
      }
     },
     "e2d952b810904012a74ff2d1846a9ae7": {
      "model_module": "@jupyter-widgets/controls",
      "model_module_version": "1.5.0",
      "model_name": "HTMLModel",
      "state": {
       "layout": "IPY_MODEL_b9f8fc0d7e3a408daa4f106233d69a6e",
       "style": "IPY_MODEL_08a07ecd55bd4a348de6c10445e3b938",
       "value": "</br>Override maximum size limit: (use with caution; may cause memory issues/crashes)"
      }
     },
     "e34cadd44a7f4273b943ea6520db8969": {
      "model_module": "@jupyter-widgets/controls",
      "model_module_version": "1.5.0",
      "model_name": "VBoxModel",
      "state": {
       "children": [
        "IPY_MODEL_b920405561f84603a0b2a1cecbdb9dec",
        "IPY_MODEL_49402af9ded04492a1db25fb2fb80a87"
       ],
       "layout": "IPY_MODEL_1bfe28914ca44d5f94a69c500066b86b"
      }
     },
     "e59bd77e178f4403954b1846b692ac72": {
      "model_module": "@jupyter-widgets/base",
      "model_module_version": "1.2.0",
      "model_name": "LayoutModel",
      "state": {}
     },
     "e8ab20b8e70247e49bdd259b13f97e5f": {
      "model_module": "@jupyter-widgets/controls",
      "model_module_version": "1.5.0",
      "model_name": "HBoxModel",
      "state": {
       "children": [
        "IPY_MODEL_19c0ea05849e4b9d918eb013a0c7c0ba"
       ],
       "layout": "IPY_MODEL_cd4ab36f357f4058aeec82a26a798487"
      }
     },
     "e98da4b341894b00b5b4678acac0820f": {
      "model_module": "@jupyter-widgets/base",
      "model_module_version": "1.2.0",
      "model_name": "LayoutModel",
      "state": {
       "grid_template_areas": "\"widget001 widget001 widget001 widget001 widget001 widget001 widget001 widget001 widget002 widget002\"\n\"widget003 widget003 widget005 widget005 widget005 widget005 widget005 widget005 widget005 widget005\"\n\"widget003 widget003 widget005 widget005 widget005 widget005 widget005 widget005 widget005 widget005\"\n\"widget003 widget003 widget005 widget005 widget005 widget005 widget005 widget005 widget005 widget005\"\n\"widget003 widget003 widget005 widget005 widget005 widget005 widget005 widget005 widget005 widget005\"\n\"widget003 widget003 widget005 widget005 widget005 widget005 widget005 widget005 widget005 widget005\"\n\"widget004 widget004 widget005 widget005 widget005 widget005 widget005 widget005 widget005 widget005\"\n\"widget006 widget006 widget006 widget006 widget007 widget007 widget007 widget007 widget007 widget007\"\n\"widget006 widget006 widget006 widget006 widget007 widget007 widget007 widget007 widget007 widget007\"\n\"widget006 widget006 widget006 widget006 widget007 widget007 widget007 widget007 widget007 widget007\"\n\"widget006 widget006 widget006 widget006 widget007 widget007 widget007 widget007 widget007 widget007\"\n\"widget006 widget006 widget006 widget006 widget007 widget007 widget007 widget007 widget007 widget007\"",
       "grid_template_columns": "repeat(10, 1fr)",
       "grid_template_rows": "repeat(12, 1fr)",
       "height": "1500px",
       "width": "auto"
      }
     },
     "eb5f88cf4fef4053bd3cdf71a8044194": {
      "model_module": "@jupyter-widgets/base",
      "model_module_version": "1.2.0",
      "model_name": "LayoutModel",
      "state": {
       "width": "95%"
      }
     },
     "eee19eb059cf427094ac91b97fabb592": {
      "model_module": "@jupyter-widgets/controls",
      "model_module_version": "1.5.0",
      "model_name": "FloatRangeSliderModel",
      "state": {
       "_model_name": "FloatRangeSliderModel",
       "_view_name": "FloatRangeSliderView",
       "layout": "IPY_MODEL_5b032ae0631e478488a994b8eb01b29b",
       "max": 1,
       "step": 0.001,
       "style": "IPY_MODEL_9ac480363928429dbe94b905b38f3189",
       "value": [
        0.01,
        0.99
       ]
      }
     },
     "f1a50c3e4a764094a061fec743eeaa53": {
      "model_module": "@jupyter-widgets/base",
      "model_module_version": "1.2.0",
      "model_name": "LayoutModel",
      "state": {
       "width": "95%"
      }
     },
     "f25cebfda3374c6c88aa2fbedd3fde9d": {
      "model_module": "@jupyter-widgets/controls",
      "model_module_version": "1.5.0",
      "model_name": "DescriptionStyleModel",
      "state": {
       "description_width": ""
      }
     },
     "f34fee7984f84dabac32893fff33aabc": {
      "model_module": "@jupyter-widgets/base",
      "model_module_version": "1.2.0",
      "model_name": "LayoutModel",
      "state": {
       "margin": "0px",
       "padding": "0px",
       "width": "95%"
      }
     },
     "f988ab0f54664c6193fb8f89a5582df2": {
      "model_module": "@jupyter-widgets/base",
      "model_module_version": "1.2.0",
      "model_name": "LayoutModel",
      "state": {
       "grid_area": "widget001",
       "height": "100%",
       "margin": "0px 10px 10px 0px",
       "padding": "5px 5px 5px 5px",
       "width": "100%"
      }
     },
     "f9d4fa87453a47c29ff8eb56af7a83a5": {
      "model_module": "@jupyter-widgets/controls",
      "model_module_version": "1.5.0",
      "model_name": "DescriptionStyleModel",
      "state": {
       "description_width": ""
      }
     },
     "fab35692989a42368be83f0e010bbadd": {
      "model_module": "jupyter-leaflet",
      "model_module_version": "^0.14.0",
      "model_name": "LeafletTileLayerModel",
      "state": {
       "_model_module_version": "^0.14.0",
       "_view_module_version": "^0.14.0",
       "base": true,
       "max_native_zoom": 18,
       "max_zoom": 19,
       "min_native_zoom": 0,
       "min_zoom": 1,
       "name": "Open Street Map",
       "options": [
        "attribution",
        "detect_retina",
        "max_native_zoom",
        "max_zoom",
        "min_native_zoom",
        "min_zoom",
        "no_wrap",
        "tile_size",
        "tms"
       ]
      }
     },
     "fdab9d82a78949faafa96b423afb23fa": {
      "model_module": "@jupyter-widgets/controls",
      "model_module_version": "1.5.0",
      "model_name": "DescriptionStyleModel",
      "state": {
       "description_width": ""
      }
     }
    },
    "version_major": 2,
    "version_minor": 0
   }
  }
 },
 "nbformat": 4,
 "nbformat_minor": 4
}
