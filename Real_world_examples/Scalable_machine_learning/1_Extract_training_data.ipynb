{
 "cells": [
  {
   "cell_type": "markdown",
   "metadata": {},
   "source": [
    "# Extracting training data from the ODC\n",
    "\n",
    "* **Products used:** \n",
    "[gm_s2_annual](https://explorer.digitalearth.africa/gm_s2_annual)\n"
   ]
  },
  {
   "cell_type": "raw",
   "metadata": {
    "raw_mimetype": "text/restructuredtext"
   },
   "source": [
    "**Keywords** :index:`data used; sentinel-2 geomedian`, index:`data used; MADs`, :index:`data methods; machine learning`"
   ]
  },
  {
   "cell_type": "markdown",
   "metadata": {},
   "source": [
    "## Background\n",
    "\n",
    "**Training data** is the most important part of any supervised machine learning workflow. The quality of the training data has a greater impact on the classification than the algorithm used. Large and accurate training data sets are preferable: increasing the training sample size results in increased classification accuracy ([Maxell et al 2018](https://www.tandfonline.com/doi/full/10.1080/01431161.2018.1433343)).  A review of training data methods in the context of Earth Observation is available [here](https://www.mdpi.com/2072-4292/12/6/1034) \n",
    "\n",
    "When creating training labels, be sure to capture the **spectral variability** of the class, and to use imagery from the time period you want to classify (rather than relying on basemap composites). Another common problem with training data is **class imbalance**. This can occur when one of your classes is relatively rare and therefore the rare class will comprise a smaller proportion of the training set. When imbalanced data is used, it is common that the final classification will under-predict less abundant classes relative to their true proportion.\n",
    "\n",
    "There are many platforms to use for gathering training labels, the best one to use depends on your application. GIS platforms are great for collection training data as they are highly flexible and mature platforms; [Geo-Wiki](https://www.geo-wiki.org/) and [Collect Earth Online](https://collect.earth/home) are two open-source websites that may also be useful depending on the reference data strategy employed. Alternatively, there are many pre-existing training datasets on the web that may be useful, e.g. [Radiant Earth](https://www.radiant.earth/) manages a growing number of reference datasets for use by anyone.\n"
   ]
  },
  {
   "cell_type": "markdown",
   "metadata": {},
   "source": [
    "## Description\n",
    "This notebook will extract training data (feature layers) from the `open-data-cube` using geometries within a geojson. The default example will use the crop/non-crop labels within the `'data/crop_training_egypt.geojson'` file. \n",
    "\n",
    "To do this, we rely on a custom `deafrica-sandbox-notebooks` function called `collect_training_data`, contained within the [deafrica_tools.classification](../../Tools/deafrica_tools/classification.py) script.  The principal goal of this notebook is to familarise users with this function so they can extract the appropriate data for their use-case. The default example also highlights extracting a set of useful feature layers for generating a cropland mask for Egypt.\n",
    "\n",
    "\n",
    "1. Preview the polygons in our training data by plotting them on a basemap\n",
    "2. Define a feature layer function to pass to `collect_training_data`\n",
    "3. Extract training data from the datacube using `collect_training_data`\n",
    "4. Export the training data to disk for use in subsequent scripts\n",
    "\n",
    "\n",
    "***"
   ]
  },
  {
   "cell_type": "markdown",
   "metadata": {},
   "source": [
    "## Getting started\n",
    "\n",
    "To run this analysis, run all the cells in the notebook, starting with the \"Load packages\" cell. "
   ]
  },
  {
   "cell_type": "markdown",
   "metadata": {},
   "source": [
    "### Load packages\n"
   ]
  },
  {
   "cell_type": "code",
   "execution_count": 1,
   "metadata": {},
   "outputs": [],
   "source": [
    "%matplotlib inline\n",
    "\n",
    "import os\n",
    "import datacube\n",
    "import numpy as np\n",
    "import xarray as xr\n",
    "import subprocess as sp\n",
    "import geopandas as gpd\n",
    "from odc.io.cgroups import get_cpu_quota\n",
    "from datacube.utils.geometry import assign_crs\n",
    "\n",
    "from deafrica_tools.plotting import map_shapefile\n",
    "from deafrica_tools.bandindices import calculate_indices\n",
    "from deafrica_tools.classification import collect_training_data\n",
    "\n",
    "import warnings\n",
    "warnings.filterwarnings(\"ignore\")"
   ]
  },
  {
   "cell_type": "markdown",
   "metadata": {},
   "source": [
    "## Analysis parameters\n",
    "\n",
    "* `path`: The path to the input vector file from which we will extract training data. A default geojson is provided.\n",
    "* `field`: This is the name of column in your shapefile attribute table that contains the class labels. **The class labels must be integers**\n"
   ]
  },
  {
   "cell_type": "code",
   "execution_count": 2,
   "metadata": {},
   "outputs": [],
   "source": [
    "path = 'data/crop_training_egypt.geojson' \n",
    "field = 'class'"
   ]
  },
  {
   "cell_type": "markdown",
   "metadata": {},
   "source": [
    "### Find the number of CPUs"
   ]
  },
  {
   "cell_type": "code",
   "execution_count": 3,
   "metadata": {},
   "outputs": [
    {
     "name": "stdout",
     "output_type": "stream",
     "text": [
      "ncpus = 15\n"
     ]
    }
   ],
   "source": [
    "ncpus=round(get_cpu_quota())\n",
    "print('ncpus = '+str(ncpus))"
   ]
  },
  {
   "cell_type": "markdown",
   "metadata": {},
   "source": [
    "## Preview input data\n",
    "\n",
    "We can load and preview our input data shapefile using `geopandas`. The shapefile should contain a column with class labels (e.g. 'class'). These labels will be used to train our model. \n",
    "\n",
    "> Remember, the class labels **must** be represented by `integers`.\n"
   ]
  },
  {
   "cell_type": "code",
   "execution_count": 4,
   "metadata": {},
   "outputs": [
    {
     "data": {
      "text/html": [
       "<div>\n",
       "<style scoped>\n",
       "    .dataframe tbody tr th:only-of-type {\n",
       "        vertical-align: middle;\n",
       "    }\n",
       "\n",
       "    .dataframe tbody tr th {\n",
       "        vertical-align: top;\n",
       "    }\n",
       "\n",
       "    .dataframe thead th {\n",
       "        text-align: right;\n",
       "    }\n",
       "</style>\n",
       "<table border=\"1\" class=\"dataframe\">\n",
       "  <thead>\n",
       "    <tr style=\"text-align: right;\">\n",
       "      <th></th>\n",
       "      <th>class</th>\n",
       "      <th>geometry</th>\n",
       "    </tr>\n",
       "  </thead>\n",
       "  <tbody>\n",
       "    <tr>\n",
       "      <th>0</th>\n",
       "      <td>0</td>\n",
       "      <td>POLYGON ((26.19189 22.06193, 26.19230 22.06193...</td>\n",
       "    </tr>\n",
       "    <tr>\n",
       "      <th>1</th>\n",
       "      <td>0</td>\n",
       "      <td>POLYGON ((32.24947 22.07338, 32.24989 22.07338...</td>\n",
       "    </tr>\n",
       "    <tr>\n",
       "      <th>2</th>\n",
       "      <td>0</td>\n",
       "      <td>POLYGON ((32.62301 22.15862, 32.62342 22.15862...</td>\n",
       "    </tr>\n",
       "    <tr>\n",
       "      <th>3</th>\n",
       "      <td>0</td>\n",
       "      <td>POLYGON ((28.35345 22.29337, 28.35386 22.29337...</td>\n",
       "    </tr>\n",
       "    <tr>\n",
       "      <th>4</th>\n",
       "      <td>0</td>\n",
       "      <td>POLYGON ((27.72311 22.83994, 27.72352 22.83994...</td>\n",
       "    </tr>\n",
       "  </tbody>\n",
       "</table>\n",
       "</div>"
      ],
      "text/plain": [
       "   class                                           geometry\n",
       "0      0  POLYGON ((26.19189 22.06193, 26.19230 22.06193...\n",
       "1      0  POLYGON ((32.24947 22.07338, 32.24989 22.07338...\n",
       "2      0  POLYGON ((32.62301 22.15862, 32.62342 22.15862...\n",
       "3      0  POLYGON ((28.35345 22.29337, 28.35386 22.29337...\n",
       "4      0  POLYGON ((27.72311 22.83994, 27.72352 22.83994..."
      ]
     },
     "execution_count": 4,
     "metadata": {},
     "output_type": "execute_result"
    }
   ],
   "source": [
    "# Load input data shapefile\n",
    "input_data = gpd.read_file(path)\n",
    "\n",
    "# Plot first five rows\n",
    "input_data.head()"
   ]
  },
  {
   "cell_type": "code",
   "execution_count": 5,
   "metadata": {},
   "outputs": [
    {
     "data": {
      "application/vnd.jupyter.widget-view+json": {
       "model_id": "2c2a2e0d46e24825982f48f9b04d643a",
       "version_major": 2,
       "version_minor": 0
      },
      "text/plain": [
       "Label(value='')"
      ]
     },
     "metadata": {},
     "output_type": "display_data"
    },
    {
     "data": {
      "application/vnd.jupyter.widget-view+json": {
       "model_id": "f4e0fdf7938443d983cae59ebd289ffd",
       "version_major": 2,
       "version_minor": 0
      },
      "text/plain": [
       "Map(center=[26.769110088616873, 29.937057490950004], controls=(ZoomControl(options=['position', 'zoom_in_text'…"
      ]
     },
     "metadata": {},
     "output_type": "display_data"
    }
   ],
   "source": [
    "# Plot training data in an interactive map\n",
    "map_shapefile(input_data, attribute=field)"
   ]
  },
  {
   "cell_type": "markdown",
   "metadata": {},
   "source": [
    "## Extracting training data\n",
    "\n",
    "The function `collect_training_data` takes our geojson containing class labels and extracts training data (features) from the datacube over the locations specified by the input geometries. The function will also pre-process our training data by stacking the arrays into a useful format and removing any `NaN` or `inf` values.\n",
    "\n",
    "The below variables can be set within the `collect_training_data` function:\n",
    "\n",
    "* `zonal_stats`: An optional string giving the names of zonal statistics to calculate across each polygon (if the geometries in the vector file are polygons and not points). Default is None (all pixel values are returned). Supported values are 'mean', 'median', 'max', and 'min'. \n",
    "\n",
    "In addition to the `zonal_stats` parameter, we also need to set up a datacube query dictionary for the Open Data Cube query such as `measurements` (the bands to load from the satellite), the `resolution` (the cell size), and the `output_crs` (the output projection). These options will be added to a `query` dictionary that will be passed into `collect_training_data` using the parameter `collect_training_data(dc_query=query, ...)`.  The query dictionary will be the only argument in the **feature layer function** which we will define and describe in a moment.\n",
    "\n",
    "> Note: `collect_training_data` also has a number of additional parameters for handling ODC I/O read failures, where polygons that return an excessive number of null values can be resubmitted to the multiprocessing queue.  Check out the [docs](https://github.com/digitalearthafrica/deafrica-sandbox-notebooks/blob/83116e80ebb4f8744e3de74e7a713aadd0a7577a/Tools/deafrica_tools/classification.py#L565) to learn more."
   ]
  },
  {
   "cell_type": "code",
   "execution_count": 6,
   "metadata": {},
   "outputs": [],
   "source": [
    "#set up our inputs to collect_training_data\n",
    "zonal_stats = 'mean'\n",
    "\n",
    "# Set up the inputs for the ODC query\n",
    "time = ('2019')\n",
    "measurements =  ['blue','green','red','nir','swir_1','swir_2','red_edge_1',\n",
    "                 'red_edge_2', 'red_edge_3', 'BCMAD', 'EMAD', 'SMAD']\n",
    "resolution = (-20,20)\n",
    "output_crs='epsg:6933'"
   ]
  },
  {
   "cell_type": "markdown",
   "metadata": {},
   "source": [
    "Generate a datacube query object from the parameters above:"
   ]
  },
  {
   "cell_type": "code",
   "execution_count": 7,
   "metadata": {},
   "outputs": [],
   "source": [
    "query = {\n",
    "    'time': time,\n",
    "    'measurements': measurements,\n",
    "    'resolution': resolution,\n",
    "    'output_crs': output_crs\n",
    "}"
   ]
  },
  {
   "cell_type": "markdown",
   "metadata": {},
   "source": [
    "## Defining feature layers\n",
    "\n",
    "To create the desired feature layers, we pass instructions to `collect_training_data` through the `feature_func` parameter.\n",
    "\n",
    "* `feature_func`: A function for generating feature layers that is applied to the data within the bounds of the input geometry. The `feature_func` must accept a `dc_query` dictionary, and return a single `xarray.Dataset` or `xarray.DataArray` containing 2D coordinates (i.e x, y - no time dimension). e.g.\n",
    "\n",
    "          def feature_function(query):\n",
    "              dc = datacube.Datacube(app='feature_layers')\n",
    "              ds = dc.load(**query)\n",
    "              ds = ds.mean('time')\n",
    "              return ds\n",
    "\n",
    "Below, we will define a more complicated feature layer function than the brief example shown above. We will calculate some band indices on the Sentinel-2 [geoMAD](../../Datasets/GeoMAD.ipynb) and append a slope dataset.\n",
    "\n"
   ]
  },
  {
   "cell_type": "code",
   "execution_count": 8,
   "metadata": {},
   "outputs": [],
   "source": [
    "from datacube.testutils.io import rio_slurp_xarray\n",
    "\n",
    "def feature_layers(query):\n",
    "    #connect to the datacube\n",
    "    dc = datacube.Datacube(app='feature_layers')\n",
    "    \n",
    "    #load s2 annual geomedian\n",
    "    ds = dc.load(product='gm_s2_annual',\n",
    "                 **query)\n",
    "    \n",
    "    #calculate some band indices\n",
    "    da = calculate_indices(ds,\n",
    "                           index=['NDVI', 'LAI', 'MNDWI'],\n",
    "                           drop=False,\n",
    "                           satellite_mission='s2')\n",
    "    \n",
    "    #add slope dataset\n",
    "    url_slope = \"https://deafrica-input-datasets.s3.af-south-1.amazonaws.com/srtm_dem/srtm_africa_slope.tif\"\n",
    "    slope = rio_slurp_xarray(url_slope, gbox=ds.geobox)\n",
    "    slope = slope.to_dataset(name='slope')\n",
    "    \n",
    "    #merge results into single dataset \n",
    "    result = xr.merge([da, slope],compat='override')\n",
    "\n",
    "    return result.squeeze()"
   ]
  },
  {
   "cell_type": "markdown",
   "metadata": {},
   "source": [
    "Now let's run the `collect_training_data` function.\n",
    "\n",
    "> **Note**: With supervised classification, its common to have many, many labelled geometries in the training data. `collect_training_data` can parallelize across the geometries in order to speed up the extracting of training data. Setting `ncpus>1` will automatically trigger the parallelization. However, its best to set `ncpus=1` to begin with to assist with debugging before triggering the parallelization.  You can also limit the number of polygons to run when checking code. For example, passing in `gdf=input_data[0:5]` will only run the code over the first 5 polygons."
   ]
  },
  {
   "cell_type": "code",
   "execution_count": 9,
   "metadata": {},
   "outputs": [
    {
     "name": "stdout",
     "output_type": "stream",
     "text": [
      "Taking zonal statistic: mean\n",
      "Collecting training data in parallel mode\n"
     ]
    },
    {
     "data": {
      "application/vnd.jupyter.widget-view+json": {
       "model_id": "87e85eb4d77c405c82b0fbc849267b2f",
       "version_major": 2,
       "version_minor": 0
      },
      "text/plain": [
       "  0%|          | 0/156 [00:00<?, ?it/s]"
      ]
     },
     "metadata": {},
     "output_type": "display_data"
    },
    {
     "name": "stdout",
     "output_type": "stream",
     "text": [
      "Percentage of possible fails after run 1 = 0.0 %\n",
      "Removed 0 rows wth NaNs &/or Infs\n",
      "Output shape:  (156, 17)\n"
     ]
    }
   ],
   "source": [
    "column_names, model_input = collect_training_data(\n",
    "                                    gdf=input_data,\n",
    "                                    dc_query=query,\n",
    "                                    ncpus=ncpus,\n",
    "                                    field=field,\n",
    "                                    zonal_stats=zonal_stats,\n",
    "                                    feature_func=feature_layers\n",
    "                                    )"
   ]
  },
  {
   "cell_type": "markdown",
   "metadata": {},
   "source": [
    "The function returns a list (`column_names`) contains a list of the names of the feature layers we've computed:"
   ]
  },
  {
   "cell_type": "code",
   "execution_count": 10,
   "metadata": {},
   "outputs": [
    {
     "name": "stdout",
     "output_type": "stream",
     "text": [
      "['class', 'blue', 'green', 'red', 'nir', 'swir_1', 'swir_2', 'red_edge_1', 'red_edge_2', 'red_edge_3', 'BCMAD', 'EMAD', 'SMAD', 'NDVI', 'LAI', 'MNDWI', 'slope']\n"
     ]
    }
   ],
   "source": [
    "print(column_names)"
   ]
  },
  {
   "cell_type": "markdown",
   "metadata": {},
   "source": [
    "The second object returned by the function is a numpy.array (`model_input`) and contains the data from our labelled geometries. The first item in the array is the class integer (e.g. in the default example 1. 'crop', or 0. 'noncrop'), the second set of items are the values for each feature layer we computed:"
   ]
  },
  {
   "cell_type": "code",
   "execution_count": 11,
   "metadata": {},
   "outputs": [
    {
     "name": "stdout",
     "output_type": "stream",
     "text": [
      "[[   0.   1816.   2663.   ...    0.09   -0.36   13.36]\n",
      " [   0.   1274.25 2244.   ...    0.1    -0.47    8.8 ]\n",
      " [   0.    921.   1304.5  ...    0.06   -0.45   21.76]\n",
      " ...\n",
      " [   1.    494.5   791.25 ...    1.52   -0.4     2.94]\n",
      " [   1.    535.25  862.75 ...    1.76   -0.42    0.94]\n",
      " [   1.    582.75  900.25 ...    1.58   -0.41    3.48]]\n"
     ]
    }
   ],
   "source": [
    "print(np.array_str(model_input, precision=2, suppress_small=True))"
   ]
  },
  {
   "cell_type": "markdown",
   "metadata": {},
   "source": [
    "## Export training data\n",
    "\n",
    "Once we've collected all the training data we require, we can write the data to disk. This will allow us to import the data in the next step(s) of the workflow.\n"
   ]
  },
  {
   "cell_type": "code",
   "execution_count": 12,
   "metadata": {},
   "outputs": [],
   "source": [
    "#set the name and location of the output file\n",
    "output_file = \"results/test_training_data.txt\""
   ]
  },
  {
   "cell_type": "code",
   "execution_count": 13,
   "metadata": {},
   "outputs": [],
   "source": [
    "#grab all columns\n",
    "model_col_indices = [column_names.index(var_name) for var_name in column_names]\n",
    "#Export files to disk\n",
    "np.savetxt(output_file, model_input[:, model_col_indices], header=\" \".join(column_names), fmt=\"%4f\")"
   ]
  },
  {
   "cell_type": "markdown",
   "metadata": {},
   "source": [
    "## Recommended next steps\n",
    "\n",
    "To continue working through the notebooks in this `Scalable Machine Learning on the ODC` workflow, go to the next notebook `2_Inspect_training_data.ipynb`.\n",
    "\n",
    "1. **Extracting_training_data (this notebook)**\n",
    "2. [Inspect_training_data](2_Inspect_training_data.ipynb)\n",
    "3. [Evaluate_optimize_fit_classifier](3_Evaluate_optimize_fit_classifier.ipynb)\n",
    "4. [Classify_satellite_data](4_Classify_satellite_data.ipynb)\n",
    "5. [Object-based_filtering](5_Object-based_filtering.ipynb)\n"
   ]
  },
  {
   "cell_type": "markdown",
   "metadata": {},
   "source": [
    "***\n",
    "\n",
    "## Additional information\n",
    "\n",
    "**License:** The code in this notebook is licensed under the [Apache License, Version 2.0](https://www.apache.org/licenses/LICENSE-2.0). \n",
    "Digital Earth Africa data is licensed under the [Creative Commons by Attribution 4.0](https://creativecommons.org/licenses/by/4.0/) license.\n",
    "\n",
    "**Contact:** If you need assistance, please post a question on the [Open Data Cube Slack channel](http://slack.opendatacube.org/) or on the [GIS Stack Exchange](https://gis.stackexchange.com/questions/ask?tags=open-data-cube) using the `open-data-cube` tag (you can view previously asked questions [here](https://gis.stackexchange.com/questions/tagged/open-data-cube)).\n",
    "If you would like to report an issue with this notebook, you can file one on [Github](https://github.com/digitalearthafrica/deafrica-sandbox-notebooks).\n",
    "\n",
    "**Compatible datacube version:** "
   ]
  },
  {
   "cell_type": "code",
   "execution_count": 14,
   "metadata": {},
   "outputs": [
    {
     "name": "stdout",
     "output_type": "stream",
     "text": [
      "1.8.6\n"
     ]
    }
   ],
   "source": [
    "print(datacube.__version__)"
   ]
  },
  {
   "cell_type": "markdown",
   "metadata": {},
   "source": [
    "**Last Tested:**"
   ]
  },
  {
   "cell_type": "code",
   "execution_count": 15,
   "metadata": {},
   "outputs": [
    {
     "data": {
      "text/plain": [
       "'2022-07-07'"
      ]
     },
     "execution_count": 15,
     "metadata": {},
     "output_type": "execute_result"
    }
   ],
   "source": [
    "from datetime import datetime\n",
    "datetime.today().strftime('%Y-%m-%d')"
   ]
  }
 ],
 "metadata": {
  "kernelspec": {
   "display_name": "Python 3 (ipykernel)",
   "language": "python",
   "name": "python3"
  },
  "language_info": {
   "codemirror_mode": {
    "name": "ipython",
    "version": 3
   },
   "file_extension": ".py",
   "mimetype": "text/x-python",
   "name": "python",
   "nbconvert_exporter": "python",
   "pygments_lexer": "ipython3",
   "version": "3.8.10"
  },
  "widgets": {
   "application/vnd.jupyter.widget-state+json": {
    "state": {
     "129162b6dea341be92c32a87662ea4a2": {
      "model_module": "@jupyter-widgets/output",
      "model_module_version": "1.0.0",
      "model_name": "OutputModel",
      "state": {
       "layout": "IPY_MODEL_c29b0377bf7746c8ac6523f0f966ef04"
      }
     },
     "15c4a6e5ad464ff7809eee428cf55d94": {
      "model_module": "@jupyter-widgets/base",
      "model_module_version": "1.2.0",
      "model_name": "LayoutModel",
      "state": {}
     },
     "2c2a2e0d46e24825982f48f9b04d643a": {
      "model_module": "@jupyter-widgets/controls",
      "model_module_version": "1.5.0",
      "model_name": "LabelModel",
      "state": {
       "layout": "IPY_MODEL_d3450ecd82864696828427498a0aab7e",
       "style": "IPY_MODEL_b109d1ce50354f2c8857a5fc78022b79"
      }
     },
     "5b3b3249443f464687c64f1e30121d3d": {
      "model_module": "@jupyter-widgets/base",
      "model_module_version": "1.2.0",
      "model_name": "LayoutModel",
      "state": {}
     },
     "6122e2247d0e4d66abef361ab46468fc": {
      "model_module": "@jupyter-widgets/controls",
      "model_module_version": "1.5.0",
      "model_name": "DescriptionStyleModel",
      "state": {
       "description_width": ""
      }
     },
     "78f073e8b8fd46e3a233f9baba9e239e": {
      "model_module": "@jupyter-widgets/controls",
      "model_module_version": "1.5.0",
      "model_name": "DescriptionStyleModel",
      "state": {
       "description_width": ""
      }
     },
     "7df2f10f713b40b594f9c4855dd2c668": {
      "model_module": "jupyter-leaflet",
      "model_module_version": "^0.14.0",
      "model_name": "LeafletAttributionControlModel",
      "state": {
       "_model_module_version": "^0.14.0",
       "_view_module_version": "^0.14.0",
       "options": [
        "position",
        "prefix"
       ],
       "position": "bottomright",
       "prefix": "ipyleaflet"
      }
     },
     "87c7adc9de5742889be9d42797f9d3a6": {
      "model_module": "jupyter-leaflet",
      "model_module_version": "^0.14.0",
      "model_name": "LeafletMapStyleModel",
      "state": {
       "_model_module_version": "^0.14.0"
      }
     },
     "87e85eb4d77c405c82b0fbc849267b2f": {
      "model_module": "@jupyter-widgets/controls",
      "model_module_version": "1.5.0",
      "model_name": "HBoxModel",
      "state": {
       "children": [
        "IPY_MODEL_d2acecd401f34f09a678227865c30e29",
        "IPY_MODEL_88d00e6f107445f68b08b6a0670b0bcb",
        "IPY_MODEL_8979d510a9204e34be0f4aa7d5c7ab1a"
       ],
       "layout": "IPY_MODEL_d20db4c663de43d485b1fbf76c9b962a"
      }
     },
     "88d00e6f107445f68b08b6a0670b0bcb": {
      "model_module": "@jupyter-widgets/controls",
      "model_module_version": "1.5.0",
      "model_name": "FloatProgressModel",
      "state": {
       "bar_style": "success",
       "layout": "IPY_MODEL_5b3b3249443f464687c64f1e30121d3d",
       "max": 156,
       "style": "IPY_MODEL_bd84a2f4e00d4664a5c7c1ff2b1f0fd3",
       "value": 156
      }
     },
     "8979d510a9204e34be0f4aa7d5c7ab1a": {
      "model_module": "@jupyter-widgets/controls",
      "model_module_version": "1.5.0",
      "model_name": "HTMLModel",
      "state": {
       "layout": "IPY_MODEL_15c4a6e5ad464ff7809eee428cf55d94",
       "style": "IPY_MODEL_6122e2247d0e4d66abef361ab46468fc",
       "value": " 156/156 [00:15&lt;00:00, 16.19it/s]"
      }
     },
     "94f2d46b0bb247f28de6f61efc8648d1": {
      "model_module": "@jupyter-widgets/base",
      "model_module_version": "1.2.0",
      "model_name": "LayoutModel",
      "state": {}
     },
     "afd387175cbf41c692994bcbf76dda67": {
      "model_module": "jupyter-leaflet",
      "model_module_version": "^0.14.0",
      "model_name": "LeafletMapStyleModel",
      "state": {
       "_model_module_version": "^0.14.0"
      }
     },
     "b109d1ce50354f2c8857a5fc78022b79": {
      "model_module": "@jupyter-widgets/controls",
      "model_module_version": "1.5.0",
      "model_name": "DescriptionStyleModel",
      "state": {
       "description_width": ""
      }
     },
     "bd84a2f4e00d4664a5c7c1ff2b1f0fd3": {
      "model_module": "@jupyter-widgets/controls",
      "model_module_version": "1.5.0",
      "model_name": "ProgressStyleModel",
      "state": {
       "description_width": ""
      }
     },
     "bda9a12aafeb463187c4801983f49c50": {
      "model_module": "jupyter-leaflet",
      "model_module_version": "^0.14.0",
      "model_name": "LeafletTileLayerModel",
      "state": {
       "_model_module_version": "^0.14.0",
       "_view_module_version": "^0.14.0",
       "attribution": "Tiles &copy; Esri &mdash; Source: Esri, i-cubed, USDA, USGS, AEX, GeoEye, Getmapping, Aerogrid, IGN, IGP, UPR-EGP, and the GIS User Community",
       "base": true,
       "max_native_zoom": 18,
       "max_zoom": 20,
       "min_native_zoom": 0,
       "min_zoom": 1,
       "name": "Esri.WorldImagery",
       "options": [
        "attribution",
        "detect_retina",
        "max_native_zoom",
        "max_zoom",
        "min_native_zoom",
        "min_zoom",
        "no_wrap",
        "tile_size",
        "tms"
       ],
       "url": "http://server.arcgisonline.com/ArcGIS/rest/services/World_Imagery/MapServer/tile/{z}/{y}/{x}"
      }
     },
     "be005f8d578b419b95d83dfbaba5f6e1": {
      "model_module": "jupyter-leaflet",
      "model_module_version": "^0.14.0",
      "model_name": "LeafletZoomControlModel",
      "state": {
       "_model_module_version": "^0.14.0",
       "_view_module_version": "^0.14.0",
       "options": [
        "position",
        "zoom_in_text",
        "zoom_in_title",
        "zoom_out_text",
        "zoom_out_title"
       ]
      }
     },
     "c29b0377bf7746c8ac6523f0f966ef04": {
      "model_module": "@jupyter-widgets/base",
      "model_module_version": "1.2.0",
      "model_name": "LayoutModel",
      "state": {}
     },
     "d20db4c663de43d485b1fbf76c9b962a": {
      "model_module": "@jupyter-widgets/base",
      "model_module_version": "1.2.0",
      "model_name": "LayoutModel",
      "state": {}
     },
     "d2acecd401f34f09a678227865c30e29": {
      "model_module": "@jupyter-widgets/controls",
      "model_module_version": "1.5.0",
      "model_name": "HTMLModel",
      "state": {
       "layout": "IPY_MODEL_94f2d46b0bb247f28de6f61efc8648d1",
       "style": "IPY_MODEL_78f073e8b8fd46e3a233f9baba9e239e",
       "value": "100%"
      }
     },
     "d3450ecd82864696828427498a0aab7e": {
      "model_module": "@jupyter-widgets/base",
      "model_module_version": "1.2.0",
      "model_name": "LayoutModel",
      "state": {}
     },
     "d8fd276f71d44dc388c3ce456a2d3c19": {
      "model_module": "jupyter-leaflet",
      "model_module_version": "^0.14.0",
      "model_name": "LeafletMapStyleModel",
      "state": {
       "_model_module_version": "^0.14.0",
       "cursor": "move"
      }
     },
     "e6903068e6fa4974aa3e465176250af3": {
      "model_module": "jupyter-leaflet",
      "model_module_version": "^0.14.0",
      "model_name": "LeafletGeoJSONModel",
      "state": {
       "_model_module": "jupyter-leaflet",
       "_model_module_version": "^0.14.0",
       "_view_count": null,
       "_view_module": "jupyter-leaflet",
       "_view_module_version": "^0.14.0",
       "base": false,
       "bottom": false,
       "data": {
        "bbox": [
         25.0726534309271,
         22.061927408246593,
         34.80146155097291,
         31.476292768987154
        ],
        "features": [
         {
          "bbox": [
           26.191885608505604,
           22.061927408246593,
           26.192300175218055,
           22.062265087284384
          ],
          "geometry": {
           "coordinates": [
            [
             [
              26.191885608505604,
              22.061927408246593
             ],
             [
              26.192300175218055,
              22.061927408246593
             ],
             [
              26.192300175218055,
              22.062265087284384
             ],
             [
              26.191885608505604,
              22.062265087284384
             ],
             [
              26.191885608505604,
              22.061927408246593
             ]
            ]
           ],
           "type": "Polygon"
          },
          "id": "0",
          "properties": {
           "class": 0,
           "style": {
            "color": "black",
            "fillColor": "#440154ff",
            "weight": 0.9
           }
          },
          "type": "Feature"
         },
         {
          "bbox": [
           32.249472277584275,
           22.073381545426383,
           32.249886844296725,
           22.073719251202565
          ],
          "geometry": {
           "coordinates": [
            [
             [
              32.249472277584275,
              22.073381545426383
             ],
             [
              32.249886844296725,
              22.073381545426383
             ],
             [
              32.249886844296725,
              22.073719251202565
             ],
             [
              32.249472277584275,
              22.073719251202565
             ],
             [
              32.249472277584275,
              22.073381545426383
             ]
            ]
           ],
           "type": "Polygon"
          },
          "id": "1",
          "properties": {
           "class": 0,
           "style": {
            "color": "black",
            "fillColor": "#440154ff",
            "weight": 0.9
           }
          },
          "type": "Feature"
         },
         {
          "bbox": [
           32.62300743378223,
           22.158622022671167,
           32.62342200049467,
           22.158959927984117
          ],
          "geometry": {
           "coordinates": [
            [
             [
              32.62300743378223,
              22.158622022671167
             ],
             [
              32.62342200049467,
              22.158622022671167
             ],
             [
              32.62342200049467,
              22.158959927984117
             ],
             [
              32.62300743378223,
              22.158959927984117
             ],
             [
              32.62300743378223,
              22.158622022671167
             ]
            ]
           ],
           "type": "Polygon"
          },
          "id": "2",
          "properties": {
           "class": 0,
           "style": {
            "color": "black",
            "fillColor": "#440154ff",
            "weight": 0.9
           }
          },
          "type": "Feature"
         },
         {
          "bbox": [
           28.353445666798493,
           22.293374602863725,
           28.35386023351094,
           22.29371282560681
          ],
          "geometry": {
           "coordinates": [
            [
             [
              28.353445666798493,
              22.293374602863725
             ],
             [
              28.35386023351094,
              22.293374602863725
             ],
             [
              28.35386023351094,
              22.29371282560681
             ],
             [
              28.353445666798493,
              22.29371282560681
             ],
             [
              28.353445666798493,
              22.293374602863725
             ]
            ]
           ],
           "type": "Polygon"
          },
          "id": "3",
          "properties": {
           "class": 0,
           "style": {
            "color": "black",
            "fillColor": "#440154ff",
            "weight": 0.9
           }
          },
          "type": "Feature"
         },
         {
          "bbox": [
           27.723105090714412,
           22.839940205364893,
           27.723519657426863,
           22.840279740858747
          ],
          "geometry": {
           "coordinates": [
            [
             [
              27.723105090714412,
              22.839940205364893
             ],
             [
              27.723519657426863,
              22.839940205364893
             ],
             [
              27.723519657426863,
              22.840279740858747
             ],
             [
              27.723105090714412,
              22.840279740858747
             ],
             [
              27.723105090714412,
              22.839940205364893
             ]
            ]
           ],
           "type": "Polygon"
          },
          "id": "4",
          "properties": {
           "class": 0,
           "style": {
            "color": "black",
            "fillColor": "#440154ff",
            "weight": 0.9
           }
          },
          "type": "Feature"
         },
         {
          "bbox": [
           34.092428820296504,
           22.95885564008924,
           34.09284338700895,
           22.9591954666057
          ],
          "geometry": {
           "coordinates": [
            [
             [
              34.092428820296504,
              22.95885564008924
             ],
             [
              34.09284338700895,
              22.95885564008924
             ],
             [
              34.09284338700895,
              22.9591954666057
             ],
             [
              34.092428820296504,
              22.9591954666057
             ],
             [
              34.092428820296504,
              22.95885564008924
             ]
            ]
           ],
           "type": "Polygon"
          },
          "id": "5",
          "properties": {
           "class": 0,
           "style": {
            "color": "black",
            "fillColor": "#440154ff",
            "weight": 0.9
           }
          },
          "type": "Feature"
         },
         {
          "bbox": [
           26.15755333311986,
           23.006898209967098,
           26.15796789983231,
           23.00723815461112
          ],
          "geometry": {
           "coordinates": [
            [
             [
              26.15755333311986,
              23.006898209967098
             ],
             [
              26.15796789983231,
              23.006898209967098
             ],
             [
              26.15796789983231,
              23.00723815461112
             ],
             [
              26.15755333311986,
              23.00723815461112
             ],
             [
              26.15755333311986,
              23.006898209967098
             ]
            ]
           ],
           "type": "Polygon"
          },
          "id": "6",
          "properties": {
           "class": 0,
           "style": {
            "color": "black",
            "fillColor": "#440154ff",
            "weight": 0.9
           }
          },
          "type": "Feature"
         },
         {
          "bbox": [
           29.953329699778944,
           23.05871443588594,
           29.953744266491395,
           23.059054508293592
          ],
          "geometry": {
           "coordinates": [
            [
             [
              29.953329699778944,
              23.05871443588594
             ],
             [
              29.953744266491395,
              23.05871443588594
             ],
             [
              29.953744266491395,
              23.059054508293592
             ],
             [
              29.953329699778944,
              23.059054508293592
             ],
             [
              29.953329699778944,
              23.05871443588594
             ]
            ]
           ],
           "type": "Polygon"
          },
          "id": "7",
          "properties": {
           "class": 0,
           "style": {
            "color": "black",
            "fillColor": "#440154ff",
            "weight": 0.9
           }
          },
          "type": "Feature"
         },
         {
          "bbox": [
           26.83733238575956,
           23.22287777086224,
           26.837746952472006,
           23.22321825050458
          ],
          "geometry": {
           "coordinates": [
            [
             [
              26.83733238575956,
              23.22287777086224
             ],
             [
              26.837746952472006,
              23.22287777086224
             ],
             [
              26.837746952472006,
              23.22321825050458
             ],
             [
              26.83733238575956,
              23.22321825050458
             ],
             [
              26.83733238575956,
              23.22287777086224
             ]
            ]
           ],
           "type": "Polygon"
          },
          "id": "8",
          "properties": {
           "class": 0,
           "style": {
            "color": "black",
            "fillColor": "#440154ff",
            "weight": 0.9
           }
          },
          "type": "Feature"
         },
         {
          "bbox": [
           33.827383654317806,
           23.25820968159679,
           33.82779822103026,
           23.258550249375492
          ],
          "geometry": {
           "coordinates": [
            [
             [
              33.827383654317806,
              23.25820968159679
             ],
             [
              33.82779822103026,
              23.25820968159679
             ],
             [
              33.82779822103026,
              23.258550249375492
             ],
             [
              33.827383654317806,
              23.258550249375492
             ],
             [
              33.827383654317806,
              23.25820968159679
             ]
            ]
           ],
           "type": "Polygon"
          },
          "id": "9",
          "properties": {
           "class": 0,
           "style": {
            "color": "black",
            "fillColor": "#440154ff",
            "weight": 0.9
           }
          },
          "type": "Feature"
         },
         {
          "bbox": [
           27.4237276493498,
           23.327584382412137,
           27.424142216062247,
           23.327925123753925
          ],
          "geometry": {
           "coordinates": [
            [
             [
              27.4237276493498,
              23.327584382412137
             ],
             [
              27.424142216062247,
              23.327584382412137
             ],
             [
              27.424142216062247,
              23.327925123753925
             ],
             [
              27.4237276493498,
              23.327925123753925
             ],
             [
              27.4237276493498,
              23.327584382412137
             ]
            ]
           ],
           "type": "Polygon"
          },
          "id": "10",
          "properties": {
           "class": 0,
           "style": {
            "color": "black",
            "fillColor": "#440154ff",
            "weight": 0.9
           }
          },
          "type": "Feature"
         },
         {
          "bbox": [
           29.199392932305674,
           23.437248581026008,
           29.199807499018124,
           23.43758959809934
          ],
          "geometry": {
           "coordinates": [
            [
             [
              29.199392932305674,
              23.437248581026008
             ],
             [
              29.199807499018124,
              23.437248581026008
             ],
             [
              29.199807499018124,
              23.43758959809934
             ],
             [
              29.199392932305674,
              23.43758959809934
             ],
             [
              29.199392932305674,
              23.437248581026008
             ]
            ]
           ],
           "type": "Polygon"
          },
          "id": "11",
          "properties": {
           "class": 0,
           "style": {
            "color": "black",
            "fillColor": "#440154ff",
            "weight": 0.9
           }
          },
          "type": "Feature"
         },
         {
          "bbox": [
           29.27629722917004,
           23.509048261681826,
           29.276711795882488,
           23.509389460195557
          ],
          "geometry": {
           "coordinates": [
            [
             [
              29.27629722917004,
              23.509048261681826
             ],
             [
              29.276711795882488,
              23.509048261681826
             ],
             [
              29.276711795882488,
              23.509389460195557
             ],
             [
              29.27629722917004,
              23.509389460195557
             ],
             [
              29.27629722917004,
              23.509048261681826
             ]
            ]
           ],
           "type": "Polygon"
          },
          "id": "12",
          "properties": {
           "class": 0,
           "style": {
            "color": "black",
            "fillColor": "#440154ff",
            "weight": 0.9
           }
          },
          "type": "Feature"
         },
         {
          "bbox": [
           31.171438830468674,
           23.580808823749003,
           31.171853397181117,
           23.581150204327923
          ],
          "geometry": {
           "coordinates": [
            [
             [
              31.171438830468674,
              23.580808823749003
             ],
             [
              31.171853397181117,
              23.580808823749003
             ],
             [
              31.171853397181117,
              23.581150204327923
             ],
             [
              31.171438830468674,
              23.581150204327923
             ],
             [
              31.171438830468674,
              23.580808823749003
             ]
            ]
           ],
           "type": "Polygon"
          },
          "id": "13",
          "properties": {
           "class": 0,
           "style": {
            "color": "black",
            "fillColor": "#440154ff",
            "weight": 0.9
           }
          },
          "type": "Feature"
         },
         {
          "bbox": [
           34.80104698426046,
           23.970396713678415,
           34.80146155097291,
           23.970739095391533
          ],
          "geometry": {
           "coordinates": [
            [
             [
              34.80104698426046,
              23.970396713678415
             ],
             [
              34.80146155097291,
              23.970396713678415
             ],
             [
              34.80146155097291,
              23.970739095391533
             ],
             [
              34.80104698426046,
              23.970739095391533
             ],
             [
              34.80104698426046,
              23.970396713678415
             ]
            ]
           ],
           "type": "Polygon"
          },
          "id": "14",
          "properties": {
           "class": 0,
           "style": {
            "color": "black",
            "fillColor": "#440154ff",
            "weight": 0.9
           }
          },
          "type": "Feature"
         },
         {
          "bbox": [
           29.62785972912114,
           24.199828964471724,
           29.628274295833585,
           24.200171945880516
          ],
          "geometry": {
           "coordinates": [
            [
             [
              29.62785972912114,
              24.199828964471724
             ],
             [
              29.628274295833585,
              24.199828964471724
             ],
             [
              29.628274295833585,
              24.200171945880516
             ],
             [
              29.62785972912114,
              24.200171945880516
             ],
             [
              29.62785972912114,
              24.199828964471724
             ]
            ]
           ],
           "type": "Polygon"
          },
          "id": "15",
          "properties": {
           "class": 0,
           "style": {
            "color": "black",
            "fillColor": "#440154ff",
            "weight": 0.9
           }
          },
          "type": "Feature"
         },
         {
          "bbox": [
           31.900656359664158,
           24.251175407820323,
           31.901070926376608,
           24.251518524474772
          ],
          "geometry": {
           "coordinates": [
            [
             [
              31.900656359664158,
              24.251175407820323
             ],
             [
              31.901070926376608,
              24.251175407820323
             ],
             [
              31.901070926376608,
              24.251518524474772
             ],
             [
              31.900656359664158,
              24.251518524474772
             ],
             [
              31.900656359664158,
              24.251175407820323
             ]
            ]
           ],
           "type": "Polygon"
          },
          "id": "16",
          "properties": {
           "class": 0,
           "style": {
            "color": "black",
            "fillColor": "#440154ff",
            "weight": 0.9
           }
          },
          "type": "Feature"
         },
         {
          "bbox": [
           32.25633873266152,
           24.28998457347539,
           32.25675329937397,
           24.290327792604657
          ],
          "geometry": {
           "coordinates": [
            [
             [
              32.25633873266152,
              24.28998457347539
             ],
             [
              32.25675329937397,
              24.28998457347539
             ],
             [
              32.25675329937397,
              24.290327792604657
             ],
             [
              32.25633873266152,
              24.290327792604657
             ],
             [
              32.25633873266152,
              24.28998457347539
             ]
            ]
           ],
           "type": "Polygon"
          },
          "id": "17",
          "properties": {
           "class": 0,
           "style": {
            "color": "black",
            "fillColor": "#440154ff",
            "weight": 0.9
           }
          },
          "type": "Feature"
         },
         {
          "bbox": [
           30.422995227057314,
           24.582547534266904,
           30.423409793769764,
           24.582891532920584
          ],
          "geometry": {
           "coordinates": [
            [
             [
              30.422995227057314,
              24.582547534266904
             ],
             [
              30.423409793769764,
              24.582547534266904
             ],
             [
              30.423409793769764,
              24.582891532920584
             ],
             [
              30.422995227057314,
              24.582891532920584
             ],
             [
              30.422995227057314,
              24.582547534266904
             ]
            ]
           ],
           "type": "Polygon"
          },
          "id": "18",
          "properties": {
           "class": 0,
           "style": {
            "color": "black",
            "fillColor": "#440154ff",
            "weight": 0.9
           }
          },
          "type": "Feature"
         },
         {
          "bbox": [
           26.4184786260522,
           24.627496854342457,
           26.41889319276465,
           24.6278409738652
          ],
          "geometry": {
           "coordinates": [
            [
             [
              26.4184786260522,
              24.627496854342457
             ],
             [
              26.41889319276465,
              24.627496854342457
             ],
             [
              26.41889319276465,
              24.6278409738652
             ],
             [
              26.4184786260522,
              24.6278409738652
             ],
             [
              26.4184786260522,
              24.627496854342457
             ]
            ]
           ],
           "type": "Polygon"
          },
          "id": "19",
          "properties": {
           "class": 0,
           "style": {
            "color": "black",
            "fillColor": "#440154ff",
            "weight": 0.9
           }
          },
          "type": "Feature"
         },
         {
          "bbox": [
           29.87642540291458,
           24.784692073260466,
           29.876839969627028,
           24.78503661780633
          ],
          "geometry": {
           "coordinates": [
            [
             [
              29.87642540291458,
              24.784692073260466
             ],
             [
              29.876839969627028,
              24.784692073260466
             ],
             [
              29.876839969627028,
              24.78503661780633
             ],
             [
              29.87642540291458,
              24.78503661780633
             ],
             [
              29.87642540291458,
              24.784692073260466
             ]
            ]
           ],
           "type": "Polygon"
          },
          "id": "20",
          "properties": {
           "class": 0,
           "style": {
            "color": "black",
            "fillColor": "#440154ff",
            "weight": 0.9
           }
          },
          "type": "Feature"
         },
         {
          "bbox": [
           26.64644493461419,
           24.799652688177066,
           26.646859501326638,
           24.79999727336218
          ],
          "geometry": {
           "coordinates": [
            [
             [
              26.64644493461419,
              24.799652688177066
             ],
             [
              26.646859501326638,
              24.799652688177066
             ],
             [
              26.646859501326638,
              24.79999727336218
             ],
             [
              26.64644493461419,
              24.79999727336218
             ],
             [
              26.64644493461419,
              24.799652688177066
             ]
            ]
           ],
           "type": "Polygon"
          },
          "id": "21",
          "properties": {
           "class": 0,
           "style": {
            "color": "black",
            "fillColor": "#440154ff",
            "weight": 0.9
           }
          },
          "type": "Feature"
         },
         {
          "bbox": [
           25.444815296109645,
           24.89685265745718,
           25.445229862822092,
           24.897197507479746
          ],
          "geometry": {
           "coordinates": [
            [
             [
              25.444815296109645,
              24.89685265745718
             ],
             [
              25.445229862822092,
              24.89685265745718
             ],
             [
              25.445229862822092,
              24.897197507479746
             ],
             [
              25.444815296109645,
              24.897197507479746
             ],
             [
              25.444815296109645,
              24.89685265745718
             ]
            ]
           ],
           "type": "Polygon"
          },
          "id": "22",
          "properties": {
           "class": 0,
           "style": {
            "color": "black",
            "fillColor": "#440154ff",
            "weight": 0.9
           }
          },
          "type": "Feature"
         },
         {
          "bbox": [
           31.962454455358653,
           24.908063121765537,
           31.962869022071104,
           24.908408002422416
          ],
          "geometry": {
           "coordinates": [
            [
             [
              31.962454455358653,
              24.908063121765537
             ],
             [
              31.962869022071104,
              24.908063121765537
             ],
             [
              31.962869022071104,
              24.908408002422416
             ],
             [
              31.962454455358653,
              24.908408002422416
             ],
             [
              31.962454455358653,
              24.908063121765537
             ]
            ]
           ],
           "type": "Polygon"
          },
          "id": "23",
          "properties": {
           "class": 0,
           "style": {
            "color": "black",
            "fillColor": "#440154ff",
            "weight": 0.9
           }
          },
          "type": "Feature"
         },
         {
          "bbox": [
           32.40740074435912,
           25.04499751215066,
           32.407815311071566,
           25.04534276850056
          ],
          "geometry": {
           "coordinates": [
            [
             [
              32.40740074435912,
              25.04499751215066
             ],
             [
              32.407815311071566,
              25.04499751215066
             ],
             [
              32.407815311071566,
              25.04534276850056
             ],
             [
              32.40740074435912,
              25.04534276850056
             ],
             [
              32.40740074435912,
              25.04499751215066
             ]
            ]
           ],
           "type": "Polygon"
          },
          "id": "24",
          "properties": {
           "class": 0,
           "style": {
            "color": "black",
            "fillColor": "#440154ff",
            "weight": 0.9
           }
          },
          "type": "Feature"
         },
         {
          "bbox": [
           27.782156604378045,
           25.051218177790485,
           27.78257117109049,
           25.05156345127332
          ],
          "geometry": {
           "coordinates": [
            [
             [
              27.782156604378045,
              25.051218177790485
             ],
             [
              27.78257117109049,
              25.051218177790485
             ],
             [
              27.78257117109049,
              25.05156345127332
             ],
             [
              27.782156604378045,
              25.05156345127332
             ],
             [
              27.782156604378045,
              25.051218177790485
             ]
            ]
           ],
           "type": "Polygon"
          },
          "id": "25",
          "properties": {
           "class": 0,
           "style": {
            "color": "black",
            "fillColor": "#440154ff",
            "weight": 0.9
           }
          },
          "type": "Feature"
         },
         {
          "bbox": [
           25.35692467112194,
           25.231479936220595,
           25.357339237834385,
           25.231825708677754
          ],
          "geometry": {
           "coordinates": [
            [
             [
              25.35692467112194,
              25.231479936220595
             ],
             [
              25.357339237834385,
              25.231479936220595
             ],
             [
              25.357339237834385,
              25.231825708677754
             ],
             [
              25.35692467112194,
              25.231825708677754
             ],
             [
              25.35692467112194,
              25.231479936220595
             ]
            ]
           ],
           "type": "Polygon"
          },
          "id": "26",
          "properties": {
           "class": 0,
           "style": {
            "color": "black",
            "fillColor": "#440154ff",
            "weight": 0.9
           }
          },
          "type": "Feature"
         },
         {
          "bbox": [
           31.120627062897753,
           25.549082833323528,
           31.1210416296102,
           25.549429496745763
          ],
          "geometry": {
           "coordinates": [
            [
             [
              31.120627062897753,
              25.549082833323528
             ],
             [
              31.1210416296102,
              25.549082833323528
             ],
             [
              31.1210416296102,
              25.549429496745763
             ],
             [
              31.120627062897753,
              25.549429496745763
             ],
             [
              31.120627062897753,
              25.549082833323528
             ]
            ]
           ],
           "type": "Polygon"
          },
          "id": "27",
          "properties": {
           "class": 0,
           "style": {
            "color": "black",
            "fillColor": "#440154ff",
            "weight": 0.9
           }
          },
          "type": "Feature"
         },
         {
          "bbox": [
           32.45409263888394,
           25.764474865996295,
           32.45450720559639,
           25.76482214231251
          ],
          "geometry": {
           "coordinates": [
            [
             [
              32.45409263888394,
              25.764474865996295
             ],
             [
              32.45450720559639,
              25.764474865996295
             ],
             [
              32.45450720559639,
              25.76482214231251
             ],
             [
              32.45409263888394,
              25.76482214231251
             ],
             [
              32.45409263888394,
              25.764474865996295
             ]
            ]
           ],
           "type": "Polygon"
          },
          "id": "28",
          "properties": {
           "class": 0,
           "style": {
            "color": "black",
            "fillColor": "#440154ff",
            "weight": 0.9
           }
          },
          "type": "Feature"
         },
         {
          "bbox": [
           31.555960314790198,
           25.789207617436727,
           31.55637488150265,
           25.789554964580546
          ],
          "geometry": {
           "coordinates": [
            [
             [
              31.555960314790198,
              25.789207617436727
             ],
             [
              31.55637488150265,
              25.789207617436727
             ],
             [
              31.55637488150265,
              25.789554964580546
             ],
             [
              31.555960314790198,
              25.789554964580546
             ],
             [
              31.555960314790198,
              25.789207617436727
             ]
            ]
           ],
           "type": "Polygon"
          },
          "id": "29",
          "properties": {
           "class": 0,
           "style": {
            "color": "black",
            "fillColor": "#440154ff",
            "weight": 0.9
           }
          },
          "type": "Feature"
         },
         {
          "bbox": [
           27.2081209599267,
           26.254451143962378,
           27.20853552663915,
           26.254799840896172
          ],
          "geometry": {
           "coordinates": [
            [
             [
              27.2081209599267,
              26.254451143962378
             ],
             [
              27.20853552663915,
              26.254451143962378
             ],
             [
              27.20853552663915,
              26.254799840896172
             ],
             [
              27.2081209599267,
              26.254799840896172
             ],
             [
              27.2081209599267,
              26.254451143962378
             ]
            ]
           ],
           "type": "Polygon"
          },
          "id": "30",
          "properties": {
           "class": 0,
           "style": {
            "color": "black",
            "fillColor": "#440154ff",
            "weight": 0.9
           }
          },
          "type": "Feature"
         },
         {
          "bbox": [
           26.796133655296497,
           26.356630286416923,
           26.796548222008944,
           26.356979284273255
          ],
          "geometry": {
           "coordinates": [
            [
             [
              26.796133655296497,
              26.356630286416923
             ],
             [
              26.796548222008944,
              26.356630286416923
             ],
             [
              26.796548222008944,
              26.356979284273255
             ],
             [
              26.796133655296497,
              26.356979284273255
             ],
             [
              26.796133655296497,
              26.356630286416923
             ]
            ]
           ],
           "type": "Polygon"
          },
          "id": "31",
          "properties": {
           "class": 0,
           "style": {
            "color": "black",
            "fillColor": "#440154ff",
            "weight": 0.9
           }
          },
          "type": "Feature"
         },
         {
          "bbox": [
           31.712515490549645,
           26.441505737191093,
           31.712930057262092,
           26.441854986245144
          ],
          "geometry": {
           "coordinates": [
            [
             [
              31.712515490549645,
              26.441505737191093
             ],
             [
              31.712930057262092,
              26.441505737191093
             ],
             [
              31.712930057262092,
              26.441854986245144
             ],
             [
              31.712515490549645,
              26.441854986245144
             ],
             [
              31.712515490549645,
              26.441505737191093
             ]
            ]
           ],
           "type": "Polygon"
          },
          "id": "32",
          "properties": {
           "class": 1,
           "style": {
            "color": "black",
            "fillColor": "#fee724ff",
            "weight": 0.9
           }
          },
          "type": "Feature"
         },
         {
          "bbox": [
           26.388266223712733,
           26.505428565444102,
           26.38868079042518,
           26.505778004426897
          ],
          "geometry": {
           "coordinates": [
            [
             [
              26.388266223712733,
              26.505428565444102
             ],
             [
              26.38868079042518,
              26.505428565444102
             ],
             [
              26.38868079042518,
              26.505778004426897
             ],
             [
              26.388266223712733,
              26.505778004426897
             ],
             [
              26.388266223712733,
              26.505428565444102
             ]
            ]
           ],
           "type": "Polygon"
          },
          "id": "33",
          "properties": {
           "class": 0,
           "style": {
            "color": "black",
            "fillColor": "#440154ff",
            "weight": 0.9
           }
          },
          "type": "Feature"
         },
         {
          "bbox": [
           28.802511828845326,
           26.808575554653228,
           28.802926395557776,
           26.80892590308872
          ],
          "geometry": {
           "coordinates": [
            [
             [
              28.802511828845326,
              26.808575554653228
             ],
             [
              28.802926395557776,
              26.808575554653228
             ],
             [
              28.802926395557776,
              26.80892590308872
             ],
             [
              28.802511828845326,
              26.80892590308872
             ],
             [
              28.802511828845326,
              26.808575554653228
             ]
            ]
           ],
           "type": "Polygon"
          },
          "id": "34",
          "properties": {
           "class": 0,
           "style": {
            "color": "black",
            "fillColor": "#440154ff",
            "weight": 0.9
           }
          },
          "type": "Feature"
         },
         {
          "bbox": [
           30.269186633328747,
           26.825733827073588,
           30.26960120004119,
           26.826084227418157
          ],
          "geometry": {
           "coordinates": [
            [
             [
              30.269186633328747,
              26.825733827073588
             ],
             [
              30.26960120004119,
              26.825733827073588
             ],
             [
              30.26960120004119,
              26.826084227418157
             ],
             [
              30.269186633328747,
              26.826084227418157
             ],
             [
              30.269186633328747,
              26.825733827073588
             ]
            ]
           ],
           "type": "Polygon"
          },
          "id": "35",
          "properties": {
           "class": 0,
           "style": {
            "color": "black",
            "fillColor": "#440154ff",
            "weight": 0.9
           }
          },
          "type": "Feature"
         },
         {
          "bbox": [
           32.907278673977146,
           26.831861151921817,
           32.90769324068959,
           26.832211570814746
          ],
          "geometry": {
           "coordinates": [
            [
             [
              32.907278673977146,
              26.831861151921817
             ],
             [
              32.90769324068959,
              26.831861151921817
             ],
             [
              32.90769324068959,
              26.832211570814746
             ],
             [
              32.907278673977146,
              26.832211570814746
             ],
             [
              32.907278673977146,
              26.831861151921817
             ]
            ]
           ],
           "type": "Polygon"
          },
          "id": "36",
          "properties": {
           "class": 0,
           "style": {
            "color": "black",
            "fillColor": "#440154ff",
            "weight": 0.9
           }
          },
          "type": "Feature"
         },
         {
          "bbox": [
           29.603140490843245,
           26.83676277316214,
           29.603555057555695,
           26.83711320689732
          ],
          "geometry": {
           "coordinates": [
            [
             [
              29.603140490843245,
              26.83676277316214
             ],
             [
              29.603555057555695,
              26.83676277316214
             ],
             [
              29.603555057555695,
              26.83711320689732
             ],
             [
              29.603140490843245,
              26.83711320689732
             ],
             [
              29.603140490843245,
              26.83676277316214
             ]
            ]
           ],
           "type": "Polygon"
          },
          "id": "37",
          "properties": {
           "class": 0,
           "style": {
            "color": "black",
            "fillColor": "#440154ff",
            "weight": 0.9
           }
          },
          "type": "Feature"
         },
         {
          "bbox": [
           29.72124351817051,
           26.961682360504184,
           29.721658084882954,
           26.96203317378702
          ],
          "geometry": {
           "coordinates": [
            [
             [
              29.72124351817051,
              26.961682360504184
             ],
             [
              29.721658084882954,
              26.961682360504184
             ],
             [
              29.721658084882954,
              26.96203317378702
             ],
             [
              29.72124351817051,
              26.96203317378702
             ],
             [
              29.72124351817051,
              26.961682360504184
             ]
            ]
           ],
           "type": "Polygon"
          },
          "id": "38",
          "properties": {
           "class": 0,
           "style": {
            "color": "black",
            "fillColor": "#440154ff",
            "weight": 0.9
           }
          },
          "type": "Feature"
         },
         {
          "bbox": [
           29.18977989519773,
           27.135359484732078,
           29.19019446191018,
           27.135710829837844
          ],
          "geometry": {
           "coordinates": [
            [
             [
              29.18977989519773,
              27.135359484732078
             ],
             [
              29.19019446191018,
              27.135359484732078
             ],
             [
              29.19019446191018,
              27.135710829837844
             ],
             [
              29.18977989519773,
              27.135710829837844
             ],
             [
              29.18977989519773,
              27.135359484732078
             ]
            ]
           ],
           "type": "Polygon"
          },
          "id": "39",
          "properties": {
           "class": 0,
           "style": {
            "color": "black",
            "fillColor": "#440154ff",
            "weight": 0.9
           }
          },
          "type": "Feature"
         },
         {
          "bbox": [
           29.743216174417523,
           27.21843349118364,
           29.743630741129973,
           27.21878509238175
          ],
          "geometry": {
           "coordinates": [
            [
             [
              29.743216174417523,
              27.21843349118364
             ],
             [
              29.743630741129973,
              27.21843349118364
             ],
             [
              29.743630741129973,
              27.21878509238175
             ],
             [
              29.743216174417523,
              27.21878509238175
             ],
             [
              29.743216174417523,
              27.21843349118364
             ]
            ]
           ],
           "type": "Polygon"
          },
          "id": "40",
          "properties": {
           "class": 0,
           "style": {
            "color": "black",
            "fillColor": "#440154ff",
            "weight": 0.9
           }
          },
          "type": "Feature"
         },
         {
          "bbox": [
           29.83385338143621,
           27.968150208997812,
           29.834267948148653,
           27.968504172021845
          ],
          "geometry": {
           "coordinates": [
            [
             [
              29.83385338143621,
              27.968150208997812
             ],
             [
              29.834267948148653,
              27.968150208997812
             ],
             [
              29.834267948148653,
              27.968504172021845
             ],
             [
              29.83385338143621,
              27.968504172021845
             ],
             [
              29.83385338143621,
              27.968150208997812
             ]
            ]
           ],
           "type": "Polygon"
          },
          "id": "41",
          "properties": {
           "class": 0,
           "style": {
            "color": "black",
            "fillColor": "#440154ff",
            "weight": 0.9
           }
          },
          "type": "Feature"
         },
         {
          "bbox": [
           26.564047473688237,
           29.018169735669563,
           26.564462040400684,
           29.018527163828658
          ],
          "geometry": {
           "coordinates": [
            [
             [
              26.564047473688237,
              29.018169735669563
             ],
             [
              26.564462040400684,
              29.018169735669563
             ],
             [
              26.564462040400684,
              29.018527163828658
             ],
             [
              26.564047473688237,
              29.018527163828658
             ],
             [
              26.564047473688237,
              29.018169735669563
             ]
            ]
           ],
           "type": "Polygon"
          },
          "id": "42",
          "properties": {
           "class": 0,
           "style": {
            "color": "black",
            "fillColor": "#440154ff",
            "weight": 0.9
           }
          },
          "type": "Feature"
         },
         {
          "bbox": [
           29.912130969315886,
           29.216126588505755,
           29.912545536028336,
           29.21648469105614
          ],
          "geometry": {
           "coordinates": [
            [
             [
              29.912130969315886,
              29.216126588505755
             ],
             [
              29.912545536028336,
              29.216126588505755
             ],
             [
              29.912545536028336,
              29.21648469105614
             ],
             [
              29.912130969315886,
              29.21648469105614
             ],
             [
              29.912130969315886,
              29.216126588505755
             ]
            ]
           ],
           "type": "Polygon"
          },
          "id": "43",
          "properties": {
           "class": 0,
           "style": {
            "color": "black",
            "fillColor": "#440154ff",
            "weight": 0.9
           }
          },
          "type": "Feature"
         },
         {
          "bbox": [
           25.0726534309271,
           30.41829858132784,
           25.07306799763955,
           30.41866092825717
          ],
          "geometry": {
           "coordinates": [
            [
             [
              25.0726534309271,
              30.41829858132784
             ],
             [
              25.07306799763955,
              30.41829858132784
             ],
             [
              25.07306799763955,
              30.41866092825717
             ],
             [
              25.0726534309271,
              30.41866092825717
             ],
             [
              25.0726534309271,
              30.41829858132784
             ]
            ]
           ],
           "type": "Polygon"
          },
          "id": "44",
          "properties": {
           "class": 0,
           "style": {
            "color": "black",
            "fillColor": "#440154ff",
            "weight": 0.9
           }
          },
          "type": "Feature"
         },
         {
          "bbox": [
           30.79378380122438,
           30.70210533747577,
           30.79419836793683,
           30.702468724610046
          ],
          "geometry": {
           "coordinates": [
            [
             [
              30.79378380122438,
              30.70210533747577
             ],
             [
              30.79419836793683,
              30.70210533747577
             ],
             [
              30.79419836793683,
              30.702468724610046
             ],
             [
              30.79378380122438,
              30.702468724610046
             ],
             [
              30.79378380122438,
              30.70210533747577
             ]
            ]
           ],
           "type": "Polygon"
          },
          "id": "45",
          "properties": {
           "class": 1,
           "style": {
            "color": "black",
            "fillColor": "#fee724ff",
            "weight": 0.9
           }
          },
          "type": "Feature"
         },
         {
          "bbox": [
           30.046713488828416,
           30.764667287154072,
           30.047128055540867,
           30.765030905596255
          ],
          "geometry": {
           "coordinates": [
            [
             [
              30.046713488828416,
              30.764667287154072
             ],
             [
              30.047128055540867,
              30.764667287154072
             ],
             [
              30.047128055540867,
              30.765030905596255
             ],
             [
              30.046713488828416,
              30.765030905596255
             ],
             [
              30.046713488828416,
              30.764667287154072
             ]
            ]
           ],
           "type": "Polygon"
          },
          "id": "46",
          "properties": {
           "class": 1,
           "style": {
            "color": "black",
            "fillColor": "#fee724ff",
            "weight": 0.9
           }
          },
          "type": "Feature"
         },
         {
          "bbox": [
           32.356588976643785,
           26.121360503099073,
           32.35700354335623,
           26.121708810501225
          ],
          "geometry": {
           "coordinates": [
            [
             [
              32.356588976643785,
              26.121360503099073
             ],
             [
              32.35700354335623,
              26.121360503099073
             ],
             [
              32.35700354335623,
              26.121708810501225
             ],
             [
              32.356588976643785,
              26.121708810501225
             ],
             [
              32.356588976643785,
              26.121360503099073
             ]
            ]
           ],
           "type": "Polygon"
          },
          "id": "47",
          "properties": {
           "class": 1,
           "style": {
            "color": "black",
            "fillColor": "#fee724ff",
            "weight": 0.9
           }
          },
          "type": "Feature"
         },
         {
          "bbox": [
           30.69765342664377,
           31.14623610633785,
           30.698067993356222,
           31.146601151399864
          ],
          "geometry": {
           "coordinates": [
            [
             [
              30.69765342664377,
              31.14623610633785
             ],
             [
              30.698067993356222,
              31.14623610633785
             ],
             [
              30.698067993356222,
              31.146601151399864
             ],
             [
              30.69765342664377,
              31.146601151399864
             ],
             [
              30.69765342664377,
              31.14623610633785
             ]
            ]
           ],
           "type": "Polygon"
          },
          "id": "48",
          "properties": {
           "class": 1,
           "style": {
            "color": "black",
            "fillColor": "#fee724ff",
            "weight": 0.9
           }
          },
          "type": "Feature"
         },
         {
          "bbox": [
           30.51637901664378,
           30.822471422309004,
           30.516793583356222,
           30.822835255116292
          ],
          "geometry": {
           "coordinates": [
            [
             [
              30.51637901664378,
              30.822471422309004
             ],
             [
              30.516793583356222,
              30.822471422309004
             ],
             [
              30.516793583356222,
              30.822835255116292
             ],
             [
              30.51637901664378,
              30.822835255116292
             ],
             [
              30.51637901664378,
              30.822471422309004
             ]
            ]
           ],
           "type": "Polygon"
          },
          "id": "49",
          "properties": {
           "class": 1,
           "style": {
            "color": "black",
            "fillColor": "#fee724ff",
            "weight": 0.9
           }
          },
          "type": "Feature"
         },
         {
          "bbox": [
           30.719626086643775,
           30.7068284063718,
           30.720040653356218,
           30.70719181094311
          ],
          "geometry": {
           "coordinates": [
            [
             [
              30.719626086643775,
              30.7068284063718
             ],
             [
              30.720040653356218,
              30.7068284063718
             ],
             [
              30.720040653356218,
              30.70719181094311
             ],
             [
              30.719626086643775,
              30.70719181094311
             ],
             [
              30.719626086643775,
              30.7068284063718
             ]
            ]
           ],
           "type": "Polygon"
          },
          "id": "50",
          "properties": {
           "class": 1,
           "style": {
            "color": "black",
            "fillColor": "#fee724ff",
            "weight": 0.9
           }
          },
          "type": "Feature"
         },
         {
          "bbox": [
           31.56282676664378,
           31.40211054041666,
           31.563241333356228,
           31.402476557571145
          ],
          "geometry": {
           "coordinates": [
            [
             [
              31.56282676664378,
              31.40211054041666
             ],
             [
              31.563241333356228,
              31.40211054041666
             ],
             [
              31.563241333356228,
              31.402476557571145
             ],
             [
              31.56282676664378,
              31.402476557571145
             ],
             [
              31.56282676664378,
              31.40211054041666
             ]
            ]
           ],
           "type": "Polygon"
          },
          "id": "51",
          "properties": {
           "class": 1,
           "style": {
            "color": "black",
            "fillColor": "#fee724ff",
            "weight": 0.9
           }
          },
          "type": "Feature"
         },
         {
          "bbox": [
           31.560080186643773,
           30.975660736822082,
           31.560494753356224,
           30.976025140750565
          ],
          "geometry": {
           "coordinates": [
            [
             [
              31.560080186643773,
              30.975660736822082
             ],
             [
              31.560494753356224,
              30.975660736822082
             ],
             [
              31.560494753356224,
              30.976025140750565
             ],
             [
              31.560080186643773,
              30.976025140750565
             ],
             [
              31.560080186643773,
              30.975660736822082
             ]
            ]
           ],
           "type": "Polygon"
          },
          "id": "52",
          "properties": {
           "class": 1,
           "style": {
            "color": "black",
            "fillColor": "#fee724ff",
            "weight": 0.9
           }
          },
          "type": "Feature"
         },
         {
          "bbox": [
           31.04646934664377,
           30.267782287816022,
           31.046883913356222,
           30.268144089085258
          ],
          "geometry": {
           "coordinates": [
            [
             [
              31.04646934664377,
              30.267782287816022
             ],
             [
              31.046883913356222,
              30.267782287816022
             ],
             [
              31.046883913356222,
              30.268144089085258
             ],
             [
              31.04646934664377,
              30.268144089085258
             ],
             [
              31.04646934664377,
              30.267782287816022
             ]
            ]
           ],
           "type": "Polygon"
          },
          "id": "53",
          "properties": {
           "class": 1,
           "style": {
            "color": "black",
            "fillColor": "#fee724ff",
            "weight": 0.9
           }
          },
          "type": "Feature"
         },
         {
          "bbox": [
           31.704275746643777,
           30.45381979038362,
           31.704690313356227,
           30.45418226669181
          ],
          "geometry": {
           "coordinates": [
            [
             [
              31.704275746643777,
              30.45381979038362
             ],
             [
              31.704690313356227,
              30.45381979038362
             ],
             [
              31.704690313356227,
              30.45418226669181
             ],
             [
              31.704275746643777,
              30.45418226669181
             ],
             [
              31.704275746643777,
              30.45381979038362
             ]
            ]
           ],
           "type": "Polygon"
          },
          "id": "54",
          "properties": {
           "class": 1,
           "style": {
            "color": "black",
            "fillColor": "#fee724ff",
            "weight": 0.9
           }
          },
          "type": "Feature"
         },
         {
          "bbox": [
           31.32112754664378,
           27.01185616388599,
           31.32154211335623,
           27.0122071303128
          ],
          "geometry": {
           "coordinates": [
            [
             [
              31.32112754664378,
              27.01185616388599
             ],
             [
              31.32154211335623,
              27.01185616388599
             ],
             [
              31.32154211335623,
              27.0122071303128
             ],
             [
              31.32112754664378,
              27.0122071303128
             ],
             [
              31.32112754664378,
              27.01185616388599
             ]
            ]
           ],
           "type": "Polygon"
          },
          "id": "55",
          "properties": {
           "class": 1,
           "style": {
            "color": "black",
            "fillColor": "#fee724ff",
            "weight": 0.9
           }
          },
          "type": "Feature"
         },
         {
          "bbox": [
           31.413138046643773,
           27.052223702148247,
           31.413552613356217,
           27.052574792079337
          ],
          "geometry": {
           "coordinates": [
            [
             [
              31.413138046643773,
              27.052223702148247
             ],
             [
              31.413552613356217,
              27.052223702148247
             ],
             [
              31.413552613356217,
              27.052574792079337
             ],
             [
              31.413138046643773,
              27.052574792079337
             ],
             [
              31.413138046643773,
              27.052223702148247
             ]
            ]
           ],
           "type": "Polygon"
          },
          "id": "56",
          "properties": {
           "class": 1,
           "style": {
            "color": "black",
            "fillColor": "#fee724ff",
            "weight": 0.9
           }
          },
          "type": "Feature"
         },
         {
          "bbox": [
           32.793295516643774,
           25.98194579561072,
           32.793710083356224,
           25.982293697902403
          ],
          "geometry": {
           "coordinates": [
            [
             [
              32.793295516643774,
              25.98194579561072
             ],
             [
              32.793710083356224,
              25.98194579561072
             ],
             [
              32.793710083356224,
              25.982293697902403
             ],
             [
              32.793295516643774,
              25.982293697902403
             ],
             [
              32.793295516643774,
              25.98194579561072
             ]
            ]
           ],
           "type": "Polygon"
          },
          "id": "57",
          "properties": {
           "class": 1,
           "style": {
            "color": "black",
            "fillColor": "#fee724ff",
            "weight": 0.9
           }
          },
          "type": "Feature"
         },
         {
          "bbox": [
           30.438101426643776,
           30.780006471059153,
           30.438515993356223,
           30.780370146325545
          ],
          "geometry": {
           "coordinates": [
            [
             [
              30.438101426643776,
              30.780006471059153
             ],
             [
              30.438515993356223,
              30.780006471059153
             ],
             [
              30.438515993356223,
              30.780370146325545
             ],
             [
              30.438101426643776,
              30.780370146325545
             ],
             [
              30.438101426643776,
              30.780006471059153
             ]
            ]
           ],
           "type": "Polygon"
          },
          "id": "58",
          "properties": {
           "class": 1,
           "style": {
            "color": "black",
            "fillColor": "#fee724ff",
            "weight": 0.9
           }
          },
          "type": "Feature"
         },
         {
          "bbox": [
           30.650961536643774,
           29.242492031544824,
           30.651376103356224,
           29.242850224430438
          ],
          "geometry": {
           "coordinates": [
            [
             [
              30.650961536643774,
              29.242492031544824
             ],
             [
              30.651376103356224,
              29.242492031544824
             ],
             [
              30.651376103356224,
              29.242850224430438
             ],
             [
              30.650961536643774,
              29.242850224430438
             ],
             [
              30.650961536643774,
              29.242492031544824
             ]
            ]
           ],
           "type": "Polygon"
          },
          "id": "59",
          "properties": {
           "class": 1,
           "style": {
            "color": "black",
            "fillColor": "#fee724ff",
            "weight": 0.9
           }
          },
          "type": "Feature"
         },
         {
          "bbox": [
           30.484793326643775,
           30.495244844815414,
           30.485207893356225,
           30.495607472299014
          ],
          "geometry": {
           "coordinates": [
            [
             [
              30.484793326643775,
              30.495244844815414
             ],
             [
              30.485207893356225,
              30.495244844815414
             ],
             [
              30.485207893356225,
              30.495607472299014
             ],
             [
              30.484793326643775,
              30.495607472299014
             ],
             [
              30.484793326643775,
              30.495244844815414
             ]
            ]
           ],
           "type": "Polygon"
          },
          "id": "60",
          "properties": {
           "class": 1,
           "style": {
            "color": "black",
            "fillColor": "#fee724ff",
            "weight": 0.9
           }
          },
          "type": "Feature"
         },
         {
          "bbox": [
           31.126120226643774,
           30.444348737638727,
           31.126534793356218,
           30.44471117942786
          ],
          "geometry": {
           "coordinates": [
            [
             [
              31.126120226643774,
              30.444348737638727
             ],
             [
              31.126534793356218,
              30.444348737638727
             ],
             [
              31.126534793356218,
              30.44471117942786
             ],
             [
              31.126120226643774,
              30.44471117942786
             ],
             [
              31.126120226643774,
              30.444348737638727
             ]
            ]
           ],
           "type": "Polygon"
          },
          "id": "61",
          "properties": {
           "class": 1,
           "style": {
            "color": "black",
            "fillColor": "#fee724ff",
            "weight": 0.9
           }
          },
          "type": "Feature"
         },
         {
          "bbox": [
           30.464193956643772,
           30.659587273460456,
           30.46460852335622,
           30.65995050380951
          ],
          "geometry": {
           "coordinates": [
            [
             [
              30.464193956643772,
              30.659587273460456
             ],
             [
              30.46460852335622,
              30.659587273460456
             ],
             [
              30.46460852335622,
              30.65995050380951
             ],
             [
              30.464193956643772,
              30.65995050380951
             ],
             [
              30.464193956643772,
              30.659587273460456
             ]
            ]
           ],
           "type": "Polygon"
          },
          "id": "62",
          "properties": {
           "class": 1,
           "style": {
            "color": "black",
            "fillColor": "#fee724ff",
            "weight": 0.9
           }
          },
          "type": "Feature"
         },
         {
          "bbox": [
           30.926993026643775,
           29.058991994571016,
           30.927407593356225,
           29.05934956124509
          ],
          "geometry": {
           "coordinates": [
            [
             [
              30.926993026643775,
              29.058991994571016
             ],
             [
              30.927407593356225,
              29.058991994571016
             ],
             [
              30.927407593356225,
              29.05934956124509
             ],
             [
              30.926993026643775,
              29.05934956124509
             ],
             [
              30.926993026643775,
              29.058991994571016
             ]
            ]
           ],
           "type": "Polygon"
          },
          "id": "63",
          "properties": {
           "class": 1,
           "style": {
            "color": "black",
            "fillColor": "#fee724ff",
            "weight": 0.9
           }
          },
          "type": "Feature"
         },
         {
          "bbox": [
           31.091787946643773,
           31.18736360865427,
           31.092202513356217,
           31.187728809123467
          ],
          "geometry": {
           "coordinates": [
            [
             [
              31.091787946643773,
              31.18736360865427
             ],
             [
              31.092202513356217,
              31.18736360865427
             ],
             [
              31.092202513356217,
              31.187728809123467
             ],
             [
              31.091787946643773,
              31.187728809123467
             ],
             [
              31.091787946643773,
              31.18736360865427
             ]
            ]
           ],
           "type": "Polygon"
          },
          "id": "64",
          "properties": {
           "class": 1,
           "style": {
            "color": "black",
            "fillColor": "#fee724ff",
            "weight": 0.9
           }
          },
          "type": "Feature"
         },
         {
          "bbox": [
           30.95033897664377,
           29.04458597902199,
           30.950753543356218,
           29.044943496781723
          ],
          "geometry": {
           "coordinates": [
            [
             [
              30.95033897664377,
              29.04458597902199
             ],
             [
              30.950753543356218,
              29.04458597902199
             ],
             [
              30.950753543356218,
              29.044943496781723
             ],
             [
              30.95033897664377,
              29.044943496781723
             ],
             [
              30.95033897664377,
              29.04458597902199
             ]
            ]
           ],
           "type": "Polygon"
          },
          "id": "65",
          "properties": {
           "class": 1,
           "style": {
            "color": "black",
            "fillColor": "#fee724ff",
            "weight": 0.9
           }
          },
          "type": "Feature"
         },
         {
          "bbox": [
           32.94985069664377,
           25.933790755213206,
           32.950265263356215,
           25.934138518270203
          ],
          "geometry": {
           "coordinates": [
            [
             [
              32.94985069664377,
              25.933790755213206
             ],
             [
              32.950265263356215,
              25.933790755213206
             ],
             [
              32.950265263356215,
              25.934138518270203
             ],
             [
              32.94985069664377,
              25.934138518270203
             ],
             [
              32.94985069664377,
              25.933790755213206
             ]
            ]
           ],
           "type": "Polygon"
          },
          "id": "66",
          "properties": {
           "class": 1,
           "style": {
            "color": "black",
            "fillColor": "#fee724ff",
            "weight": 0.9
           }
          },
          "type": "Feature"
         },
         {
          "bbox": [
           32.526877066643785,
           30.15622765863792,
           32.52729163335623,
           30.156589058159927
          ],
          "geometry": {
           "coordinates": [
            [
             [
              32.526877066643785,
              30.15622765863792
             ],
             [
              32.52729163335623,
              30.15622765863792
             ],
             [
              32.52729163335623,
              30.156589058159927
             ],
             [
              32.526877066643785,
              30.156589058159927
             ],
             [
              32.526877066643785,
              30.15622765863792
             ]
            ]
           ],
           "type": "Polygon"
          },
          "id": "67",
          "properties": {
           "class": 1,
           "style": {
            "color": "black",
            "fillColor": "#fee724ff",
            "weight": 0.9
           }
          },
          "type": "Feature"
         },
         {
          "bbox": [
           32.043478626643775,
           26.131224278714456,
           32.04389319335622,
           26.13157261489211
          ],
          "geometry": {
           "coordinates": [
            [
             [
              32.043478626643775,
              26.131224278714456
             ],
             [
              32.04389319335622,
              26.131224278714456
             ],
             [
              32.04389319335622,
              26.13157261489211
             ],
             [
              32.043478626643775,
              26.13157261489211
             ],
             [
              32.043478626643775,
              26.131224278714456
             ]
            ]
           ],
           "type": "Polygon"
          },
          "id": "68",
          "properties": {
           "class": 1,
           "style": {
            "color": "black",
            "fillColor": "#fee724ff",
            "weight": 0.9
           }
          },
          "type": "Feature"
         },
         {
          "bbox": [
           30.995657576643776,
           30.475126301535695,
           30.99607214335622,
           30.475488855559828
          ],
          "geometry": {
           "coordinates": [
            [
             [
              30.995657576643776,
              30.475126301535695
             ],
             [
              30.99607214335622,
              30.475126301535695
             ],
             [
              30.99607214335622,
              30.475488855559828
             ],
             [
              30.995657576643776,
              30.475488855559828
             ],
             [
              30.995657576643776,
              30.475126301535695
             ]
            ]
           ],
           "type": "Polygon"
          },
          "id": "69",
          "properties": {
           "class": 1,
           "style": {
            "color": "black",
            "fillColor": "#fee724ff",
            "weight": 0.9
           }
          },
          "type": "Feature"
         },
         {
          "bbox": [
           29.928610456643778,
           31.040397735514603,
           29.92902502335622,
           31.040762382120562
          ],
          "geometry": {
           "coordinates": [
            [
             [
              29.928610456643778,
              31.040397735514603
             ],
             [
              29.92902502335622,
              31.040397735514603
             ],
             [
              29.92902502335622,
              31.040762382120562
             ],
             [
              29.928610456643778,
              31.040762382120562
             ],
             [
              29.928610456643778,
              31.040397735514603
             ]
            ]
           ],
           "type": "Polygon"
          },
          "id": "70",
          "properties": {
           "class": 1,
           "style": {
            "color": "black",
            "fillColor": "#fee724ff",
            "weight": 0.9
           }
          },
          "type": "Feature"
         },
         {
          "bbox": [
           31.477682726643774,
           30.66549368258336,
           31.478097293356218,
           30.665856934692208
          ],
          "geometry": {
           "coordinates": [
            [
             [
              31.477682726643774,
              30.66549368258336
             ],
             [
              31.478097293356218,
              30.66549368258336
             ],
             [
              31.478097293356218,
              30.665856934692208
             ],
             [
              31.477682726643774,
              30.665856934692208
             ],
             [
              31.477682726643774,
              30.66549368258336
             ]
            ]
           ],
           "type": "Polygon"
          },
          "id": "71",
          "properties": {
           "class": 1,
           "style": {
            "color": "black",
            "fillColor": "#fee724ff",
            "weight": 0.9
           }
          },
          "type": "Feature"
         },
         {
          "bbox": [
           32.58730186664378,
           26.190389442274565,
           32.58771643335622,
           26.190737951369627
          ],
          "geometry": {
           "coordinates": [
            [
             [
              32.58730186664378,
              26.190389442274565
             ],
             [
              32.58771643335622,
              26.190389442274565
             ],
             [
              32.58771643335622,
              26.190737951369627
             ],
             [
              32.58730186664378,
              26.190737951369627
             ],
             [
              32.58730186664378,
              26.190389442274565
             ]
            ]
           ],
           "type": "Polygon"
          },
          "id": "72",
          "properties": {
           "class": 1,
           "style": {
            "color": "black",
            "fillColor": "#fee724ff",
            "weight": 0.9
           }
          },
          "type": "Feature"
         },
         {
          "bbox": [
           30.185415876643773,
           30.67612430299814,
           30.185830443356217,
           30.67648759428756
          ],
          "geometry": {
           "coordinates": [
            [
             [
              30.185415876643773,
              30.67612430299814
             ],
             [
              30.185830443356217,
              30.67612430299814
             ],
             [
              30.185830443356217,
              30.67648759428756
             ],
             [
              30.185415876643773,
              30.67648759428756
             ],
             [
              30.185415876643773,
              30.67612430299814
             ]
            ]
           ],
           "type": "Polygon"
          },
          "id": "73",
          "properties": {
           "class": 1,
           "style": {
            "color": "black",
            "fillColor": "#fee724ff",
            "weight": 0.9
           }
          },
          "type": "Feature"
         },
         {
          "bbox": [
           31.92674888664378,
           30.99096617817755,
           31.92716345335623,
           30.991330639409824
          ],
          "geometry": {
           "coordinates": [
            [
             [
              31.92674888664378,
              30.99096617817755
             ],
             [
              31.92716345335623,
              30.99096617817755
             ],
             [
              31.92716345335623,
              30.991330639409824
             ],
             [
              31.92674888664378,
              30.991330639409824
             ],
             [
              31.92674888664378,
              30.99096617817755
             ]
            ]
           ],
           "type": "Polygon"
          },
          "id": "74",
          "properties": {
           "class": 1,
           "style": {
            "color": "black",
            "fillColor": "#fee724ff",
            "weight": 0.9
           }
          },
          "type": "Feature"
         },
         {
          "bbox": [
           30.807516706643774,
           30.43724484057571,
           30.807931273356218,
           30.43760725648414
          ],
          "geometry": {
           "coordinates": [
            [
             [
              30.807516706643774,
              30.43724484057571
             ],
             [
              30.807931273356218,
              30.43724484057571
             ],
             [
              30.807931273356218,
              30.43760725648414
             ],
             [
              30.807516706643774,
              30.43760725648414
             ],
             [
              30.807516706643774,
              30.43724484057571
             ]
            ]
           ],
           "type": "Polygon"
          },
          "id": "75",
          "properties": {
           "class": 1,
           "style": {
            "color": "black",
            "fillColor": "#fee724ff",
            "weight": 0.9
           }
          },
          "type": "Feature"
         },
         {
          "bbox": [
           31.877310416643773,
           30.939153235057862,
           31.877724983356217,
           30.939517502479514
          ],
          "geometry": {
           "coordinates": [
            [
             [
              31.877310416643773,
              30.939153235057862
             ],
             [
              31.877724983356217,
              30.939153235057862
             ],
             [
              31.877724983356217,
              30.939517502479514
             ],
             [
              31.877310416643773,
              30.939517502479514
             ],
             [
              31.877310416643773,
              30.939153235057862
             ]
            ]
           ],
           "type": "Polygon"
          },
          "id": "76",
          "properties": {
           "class": 1,
           "style": {
            "color": "black",
            "fillColor": "#fee724ff",
            "weight": 0.9
           }
          },
          "type": "Feature"
         },
         {
          "bbox": [
           32.570822376643775,
           25.370534006236767,
           32.57123694335622,
           25.370880166915907
          ],
          "geometry": {
           "coordinates": [
            [
             [
              32.570822376643775,
              25.370534006236767
             ],
             [
              32.57123694335622,
              25.370534006236767
             ],
             [
              32.57123694335622,
              25.370880166915907
             ],
             [
              32.570822376643775,
              25.370880166915907
             ],
             [
              32.570822376643775,
              25.370534006236767
             ]
            ]
           ],
           "type": "Polygon"
          },
          "id": "77",
          "properties": {
           "class": 1,
           "style": {
            "color": "black",
            "fillColor": "#fee724ff",
            "weight": 0.9
           }
          },
          "type": "Feature"
         },
         {
          "bbox": [
           31.944601676643778,
           30.51062679671524,
           31.94501624335623,
           30.510989480413702
          ],
          "geometry": {
           "coordinates": [
            [
             [
              31.944601676643778,
              30.51062679671524
             ],
             [
              31.94501624335623,
              30.51062679671524
             ],
             [
              31.94501624335623,
              30.510989480413702
             ],
             [
              31.944601676643778,
              30.510989480413702
             ],
             [
              31.944601676643778,
              30.51062679671524
             ]
            ]
           ],
           "type": "Polygon"
          },
          "id": "78",
          "properties": {
           "class": 1,
           "style": {
            "color": "black",
            "fillColor": "#fee724ff",
            "weight": 0.9
           }
          },
          "type": "Feature"
         },
         {
          "bbox": [
           30.391409536643774,
           30.631231505634695,
           30.391824103356225,
           30.631594631608316
          ],
          "geometry": {
           "coordinates": [
            [
             [
              30.391409536643774,
              30.631231505634695
             ],
             [
              30.391824103356225,
              30.631231505634695
             ],
             [
              30.391824103356225,
              30.631594631608316
             ],
             [
              30.391409536643774,
              30.631594631608316
             ],
             [
              30.391409536643774,
              30.631231505634695
             ]
            ]
           ],
           "type": "Polygon"
          },
          "id": "79",
          "properties": {
           "class": 1,
           "style": {
            "color": "black",
            "fillColor": "#fee724ff",
            "weight": 0.9
           }
          },
          "type": "Feature"
         },
         {
          "bbox": [
           31.75646080664378,
           31.113321248393603,
           31.756875373356223,
           31.113686169312178
          ],
          "geometry": {
           "coordinates": [
            [
             [
              31.75646080664378,
              31.113321248393603
             ],
             [
              31.756875373356223,
              31.113321248393603
             ],
             [
              31.756875373356223,
              31.113686169312178
             ],
             [
              31.75646080664378,
              31.113686169312178
             ],
             [
              31.75646080664378,
              31.113321248393603
             ]
            ]
           ],
           "type": "Polygon"
          },
          "id": "80",
          "properties": {
           "class": 1,
           "style": {
            "color": "black",
            "fillColor": "#fee724ff",
            "weight": 0.9
           }
          },
          "type": "Feature"
         },
         {
          "bbox": [
           31.229117056643776,
           31.320024696982475,
           31.229531623356227,
           31.320390400924758
          ],
          "geometry": {
           "coordinates": [
            [
             [
              31.229117056643776,
              31.320024696982475
             ],
             [
              31.229531623356227,
              31.320024696982475
             ],
             [
              31.229531623356227,
              31.320390400924758
             ],
             [
              31.229117056643776,
              31.320390400924758
             ],
             [
              31.229117056643776,
              31.320024696982475
             ]
            ]
           ],
           "type": "Polygon"
          },
          "id": "81",
          "properties": {
           "class": 1,
           "style": {
            "color": "black",
            "fillColor": "#fee724ff",
            "weight": 0.9
           }
          },
          "type": "Feature"
         },
         {
          "bbox": [
           30.88442100664378,
           27.312427841061194,
           30.884835573356224,
           27.312779733355026
          ],
          "geometry": {
           "coordinates": [
            [
             [
              30.88442100664378,
              27.312427841061194
             ],
             [
              30.884835573356224,
              27.312427841061194
             ],
             [
              30.884835573356224,
              27.312779733355026
             ],
             [
              30.88442100664378,
              27.312779733355026
             ],
             [
              30.88442100664378,
              27.312427841061194
             ]
            ]
           ],
           "type": "Polygon"
          },
          "id": "82",
          "properties": {
           "class": 1,
           "style": {
            "color": "black",
            "fillColor": "#fee724ff",
            "weight": 0.9
           }
          },
          "type": "Feature"
         },
         {
          "bbox": [
           30.796530386643774,
           31.01333124628115,
           30.796944953356224,
           31.01369579132784
          ],
          "geometry": {
           "coordinates": [
            [
             [
              30.796530386643774,
              31.01333124628115
             ],
             [
              30.796944953356224,
              31.01333124628115
             ],
             [
              30.796944953356224,
              31.01369579132784
             ],
             [
              30.796530386643774,
              31.01369579132784
             ],
             [
              30.796530386643774,
              31.01333124628115
             ]
            ]
           ],
           "type": "Polygon"
          },
          "id": "83",
          "properties": {
           "class": 1,
           "style": {
            "color": "black",
            "fillColor": "#fee724ff",
            "weight": 0.9
           }
          },
          "type": "Feature"
         },
         {
          "bbox": [
           30.807516706643774,
           30.703286122909148,
           30.807931273356218,
           30.703649514402375
          ],
          "geometry": {
           "coordinates": [
            [
             [
              30.807516706643774,
              30.703286122909148
             ],
             [
              30.807931273356218,
              30.703286122909148
             ],
             [
              30.807931273356218,
              30.703649514402375
             ],
             [
              30.807516706643774,
              30.703649514402375
             ],
             [
              30.807516706643774,
              30.703286122909148
             ]
            ]
           ],
           "type": "Polygon"
          },
          "id": "84",
          "properties": {
           "class": 1,
           "style": {
            "color": "black",
            "fillColor": "#fee724ff",
            "weight": 0.9
           }
          },
          "type": "Feature"
         },
         {
          "bbox": [
           31.112387316643776,
           31.47592646907328,
           31.112801883356227,
           31.476292768987154
          ],
          "geometry": {
           "coordinates": [
            [
             [
              31.112387316643776,
              31.47592646907328
             ],
             [
              31.112801883356227,
              31.47592646907328
             ],
             [
              31.112801883356227,
              31.476292768987154
             ],
             [
              31.112387316643776,
              31.476292768987154
             ],
             [
              31.112387316643776,
              31.47592646907328
             ]
            ]
           ],
           "type": "Polygon"
          },
          "id": "85",
          "properties": {
           "class": 1,
           "style": {
            "color": "black",
            "fillColor": "#fee724ff",
            "weight": 0.9
           }
          },
          "type": "Feature"
         },
         {
          "bbox": [
           32.28929771664377,
           25.98688365846355,
           32.289712283356224,
           25.987231575052597
          ],
          "geometry": {
           "coordinates": [
            [
             [
              32.28929771664377,
              25.98688365846355
             ],
             [
              32.289712283356224,
              25.98688365846355
             ],
             [
              32.289712283356224,
              25.987231575052597
             ],
             [
              32.28929771664377,
              25.987231575052597
             ],
             [
              32.28929771664377,
              25.98688365846355
             ]
            ]
           ],
           "type": "Polygon"
          },
          "id": "86",
          "properties": {
           "class": 1,
           "style": {
            "color": "black",
            "fillColor": "#fee724ff",
            "weight": 0.9
           }
          },
          "type": "Feature"
         },
         {
          "bbox": [
           33.12151207664377,
           24.415094520851994,
           33.12192664335622,
           24.415438071813167
          ],
          "geometry": {
           "coordinates": [
            [
             [
              33.12151207664377,
              24.415094520851994
             ],
             [
              33.12192664335622,
              24.415094520851994
             ],
             [
              33.12192664335622,
              24.415438071813167
             ],
             [
              33.12151207664377,
              24.415438071813167
             ],
             [
              33.12151207664377,
              24.415094520851994
             ]
            ]
           ],
           "type": "Polygon"
          },
          "id": "87",
          "properties": {
           "class": 1,
           "style": {
            "color": "black",
            "fillColor": "#fee724ff",
            "weight": 0.9
           }
          },
          "type": "Feature"
         },
         {
          "bbox": [
           31.003897326643774,
           31.05333986121561,
           31.00431189335622,
           31.05370455643201
          ],
          "geometry": {
           "coordinates": [
            [
             [
              31.003897326643774,
              31.05333986121561
             ],
             [
              31.00431189335622,
              31.05333986121561
             ],
             [
              31.00431189335622,
              31.05370455643201
             ],
             [
              31.003897326643774,
              31.05370455643201
             ],
             [
              31.003897326643774,
              31.05333986121561
             ]
            ]
           ],
           "type": "Polygon"
          },
          "id": "88",
          "properties": {
           "class": 1,
           "style": {
            "color": "black",
            "fillColor": "#fee724ff",
            "weight": 0.9
           }
          },
          "type": "Feature"
         },
         {
          "bbox": [
           30.705893176643777,
           31.347003665595395,
           30.706307743356227,
           31.347369472338272
          ],
          "geometry": {
           "coordinates": [
            [
             [
              30.705893176643777,
              31.347003665595395
             ],
             [
              30.706307743356227,
              31.347003665595395
             ],
             [
              30.706307743356227,
              31.347369472338272
             ],
             [
              30.705893176643777,
              31.347369472338272
             ],
             [
              30.705893176643777,
              31.347003665595395
             ]
            ]
           ],
           "type": "Polygon"
          },
          "id": "89",
          "properties": {
           "class": 1,
           "style": {
            "color": "black",
            "fillColor": "#fee724ff",
            "weight": 0.9
           }
          },
          "type": "Feature"
         },
         {
          "bbox": [
           30.910513536643773,
           31.148586731902192,
           30.910928103356223,
           31.148951785837802
          ],
          "geometry": {
           "coordinates": [
            [
             [
              30.910513536643773,
              31.148586731902192
             ],
             [
              30.910928103356223,
              31.148586731902192
             ],
             [
              30.910928103356223,
              31.148951785837802
             ],
             [
              30.910513536643773,
              31.148951785837802
             ],
             [
              30.910513536643773,
              31.148586731902192
             ]
            ]
           ],
           "type": "Polygon"
          },
          "id": "90",
          "properties": {
           "class": 1,
           "style": {
            "color": "black",
            "fillColor": "#fee724ff",
            "weight": 0.9
           }
          },
          "type": "Feature"
         },
         {
          "bbox": [
           30.39415611664377,
           30.53073798994267,
           30.39457068335622,
           30.531100747205258
          ],
          "geometry": {
           "coordinates": [
            [
             [
              30.39415611664377,
              30.53073798994267
             ],
             [
              30.39457068335622,
              30.53073798994267
             ],
             [
              30.39457068335622,
              30.531100747205258
             ],
             [
              30.39415611664377,
              30.531100747205258
             ],
             [
              30.39415611664377,
              30.53073798994267
             ]
            ]
           ],
           "type": "Polygon"
          },
          "id": "91",
          "properties": {
           "class": 1,
           "style": {
            "color": "black",
            "fillColor": "#fee724ff",
            "weight": 0.9
           }
          },
          "type": "Feature"
         },
         {
          "bbox": [
           31.241476676643767,
           31.28130224061614,
           31.241891243356218,
           31.281667797253263
          ],
          "geometry": {
           "coordinates": [
            [
             [
              31.241476676643767,
              31.28130224061614
             ],
             [
              31.241891243356218,
              31.28130224061614
             ],
             [
              31.241891243356218,
              31.281667797253263
             ],
             [
              31.241476676643767,
              31.281667797253263
             ],
             [
              31.241476676643767,
              31.28130224061614
             ]
            ]
           ],
           "type": "Polygon"
          },
          "id": "92",
          "properties": {
           "class": 1,
           "style": {
            "color": "black",
            "fillColor": "#fee724ff",
            "weight": 0.9
           }
          },
          "type": "Feature"
         },
         {
          "bbox": [
           31.491415636643787,
           30.388687688879816,
           31.49183020335623,
           30.389049928134426
          ],
          "geometry": {
           "coordinates": [
            [
             [
              31.491415636643787,
              30.388687688879816
             ],
             [
              31.49183020335623,
              30.388687688879816
             ],
             [
              31.49183020335623,
              30.389049928134426
             ],
             [
              31.491415636643787,
              30.389049928134426
             ],
             [
              31.491415636643787,
              30.388687688879816
             ]
            ]
           ],
           "type": "Polygon"
          },
          "id": "93",
          "properties": {
           "class": 1,
           "style": {
            "color": "black",
            "fillColor": "#fee724ff",
            "weight": 0.9
           }
          },
          "type": "Feature"
         },
         {
          "bbox": [
           31.444723746643774,
           30.578042033301934,
           31.445138313356225,
           30.578404963890694
          ],
          "geometry": {
           "coordinates": [
            [
             [
              31.444723746643774,
              30.578042033301934
             ],
             [
              31.445138313356225,
              30.578042033301934
             ],
             [
              31.445138313356225,
              30.578404963890694
             ],
             [
              31.444723746643774,
              30.578404963890694
             ],
             [
              31.444723746643774,
              30.578042033301934
             ]
            ]
           ],
           "type": "Polygon"
          },
          "id": "94",
          "properties": {
           "class": 1,
           "style": {
            "color": "black",
            "fillColor": "#fee724ff",
            "weight": 0.9
           }
          },
          "type": "Feature"
         },
         {
          "bbox": [
           31.020376816643775,
           29.105797635004873,
           31.020791383356222,
           29.10615536085164
          ],
          "geometry": {
           "coordinates": [
            [
             [
              31.020376816643775,
              29.105797635004873
             ],
             [
              31.020791383356222,
              29.105797635004873
             ],
             [
              31.020791383356222,
              29.10615536085164
             ],
             [
              31.020376816643775,
              29.10615536085164
             ],
             [
              31.020376816643775,
              29.105797635004873
             ]
            ]
           ],
           "type": "Polygon"
          },
          "id": "95",
          "properties": {
           "class": 1,
           "style": {
            "color": "black",
            "fillColor": "#fee724ff",
            "weight": 0.9
           }
          },
          "type": "Feature"
         },
         {
          "bbox": [
           30.20052208664377,
           30.837801383838666,
           30.20093665335622,
           30.838165273601344
          ],
          "geometry": {
           "coordinates": [
            [
             [
              30.20052208664377,
              30.837801383838666
             ],
             [
              30.20093665335622,
              30.837801383838666
             ],
             [
              30.20093665335622,
              30.838165273601344
             ],
             [
              30.20052208664377,
              30.838165273601344
             ],
             [
              30.20052208664377,
              30.837801383838666
             ]
            ]
           ],
           "type": "Polygon"
          },
          "id": "96",
          "properties": {
           "class": 1,
           "style": {
            "color": "black",
            "fillColor": "#fee724ff",
            "weight": 0.9
           }
          },
          "type": "Feature"
         },
         {
          "bbox": [
           29.060690536643776,
           30.76112712601642,
           29.06110510335622,
           30.761490731350264
          ],
          "geometry": {
           "coordinates": [
            [
             [
              29.060690536643776,
              30.76112712601642
             ],
             [
              29.06110510335622,
              30.76112712601642
             ],
             [
              29.06110510335622,
              30.761490731350264
             ],
             [
              29.060690536643776,
              30.761490731350264
             ],
             [
              29.060690536643776,
              30.76112712601642
             ]
            ]
           ],
           "type": "Polygon"
          },
          "id": "97",
          "properties": {
           "class": 1,
           "style": {
            "color": "black",
            "fillColor": "#fee724ff",
            "weight": 0.9
           }
          },
          "type": "Feature"
         },
         {
          "bbox": [
           31.549093856643776,
           31.043927578888816,
           31.549508423356226,
           31.044292238749687
          ],
          "geometry": {
           "coordinates": [
            [
             [
              31.549093856643776,
              31.043927578888816
             ],
             [
              31.549508423356226,
              31.043927578888816
             ],
             [
              31.549508423356226,
              31.044292238749687
             ],
             [
              31.549093856643776,
              31.044292238749687
             ],
             [
              31.549093856643776,
              31.043927578888816
             ]
            ]
           ],
           "type": "Polygon"
          },
          "id": "98",
          "properties": {
           "class": 1,
           "style": {
            "color": "black",
            "fillColor": "#fee724ff",
            "weight": 0.9
           }
          },
          "type": "Feature"
         },
         {
          "bbox": [
           31.444723746643774,
           31.081571118156376,
           31.445138313356225,
           31.081935919518674
          ],
          "geometry": {
           "coordinates": [
            [
             [
              31.444723746643774,
              31.081571118156376
             ],
             [
              31.445138313356225,
              31.081571118156376
             ],
             [
              31.445138313356225,
              31.081935919518674
             ],
             [
              31.444723746643774,
              31.081935919518674
             ],
             [
              31.444723746643774,
              31.081571118156376
             ]
            ]
           ],
           "type": "Polygon"
          },
          "id": "99",
          "properties": {
           "class": 1,
           "style": {
            "color": "black",
            "fillColor": "#fee724ff",
            "weight": 0.9
           }
          },
          "type": "Feature"
         },
         {
          "bbox": [
           31.647970816643777,
           31.23434459971793,
           31.648385383356228,
           31.234709978105574
          ],
          "geometry": {
           "coordinates": [
            [
             [
              31.647970816643777,
              31.23434459971793
             ],
             [
              31.648385383356228,
              31.23434459971793
             ],
             [
              31.648385383356228,
              31.234709978105574
             ],
             [
              31.647970816643777,
              31.234709978105574
             ],
             [
              31.647970816643777,
              31.23434459971793
             ]
            ]
           ],
           "type": "Polygon"
          },
          "id": "100",
          "properties": {
           "class": 1,
           "style": {
            "color": "black",
            "fillColor": "#fee724ff",
            "weight": 0.9
           }
          },
          "type": "Feature"
         },
         {
          "bbox": [
           31.208517686643773,
           29.228111716181548,
           31.208932253356217,
           29.22846985978122
          ],
          "geometry": {
           "coordinates": [
            [
             [
              31.208517686643773,
              29.228111716181548
             ],
             [
              31.208932253356217,
              29.228111716181548
             ],
             [
              31.208932253356217,
              29.22846985978122
             ],
             [
              31.208517686643773,
              29.22846985978122
             ],
             [
              31.208517686643773,
              29.228111716181548
             ]
            ]
           ],
           "type": "Polygon"
          },
          "id": "101",
          "properties": {
           "class": 1,
           "style": {
            "color": "black",
            "fillColor": "#fee724ff",
            "weight": 0.9
           }
          },
          "type": "Feature"
         },
         {
          "bbox": [
           30.569937366643778,
           30.8165746332545,
           30.57035193335623,
           30.81693844416515
          ],
          "geometry": {
           "coordinates": [
            [
             [
              30.569937366643778,
              30.8165746332545
             ],
             [
              30.57035193335623,
              30.8165746332545
             ],
             [
              30.57035193335623,
              30.81693844416515
             ],
             [
              30.569937366643778,
              30.81693844416515
             ],
             [
              30.569937366643778,
              30.8165746332545
             ]
            ]
           ],
           "type": "Polygon"
          },
          "id": "102",
          "properties": {
           "class": 1,
           "style": {
            "color": "black",
            "fillColor": "#fee724ff",
            "weight": 0.9
           }
          },
          "type": "Feature"
         },
         {
          "bbox": [
           29.178793566643776,
           30.77528697980095,
           29.17920813335622,
           30.775650637579265
          ],
          "geometry": {
           "coordinates": [
            [
             [
              29.178793566643776,
              30.77528697980095
             ],
             [
              29.17920813335622,
              30.77528697980095
             ],
             [
              29.17920813335622,
              30.775650637579265
             ],
             [
              29.178793566643776,
              30.775650637579265
             ],
             [
              29.178793566643776,
              30.77528697980095
             ]
            ]
           ],
           "type": "Polygon"
          },
          "id": "103",
          "properties": {
           "class": 1,
           "style": {
            "color": "black",
            "fillColor": "#fee724ff",
            "weight": 0.9
           }
          },
          "type": "Feature"
         },
         {
          "bbox": [
           30.330984726643774,
           30.188282891047507,
           30.33139929335622,
           30.18864440577993
          ],
          "geometry": {
           "coordinates": [
            [
             [
              30.330984726643774,
              30.188282891047507
             ],
             [
              30.33139929335622,
              30.188282891047507
             ],
             [
              30.33139929335622,
              30.18864440577993
             ],
             [
              30.330984726643774,
              30.18864440577993
             ],
             [
              30.330984726643774,
              30.188282891047507
             ]
            ]
           ],
           "type": "Polygon"
          },
          "id": "104",
          "properties": {
           "class": 1,
           "style": {
            "color": "black",
            "fillColor": "#fee724ff",
            "weight": 0.9
           }
          },
          "type": "Feature"
         },
         {
          "bbox": [
           30.314505236643775,
           30.600503372090017,
           30.31491980335622,
           30.60086638512385
          ],
          "geometry": {
           "coordinates": [
            [
             [
              30.314505236643775,
              30.600503372090017
             ],
             [
              30.31491980335622,
              30.600503372090017
             ],
             [
              30.31491980335622,
              30.60086638512385
             ],
             [
              30.314505236643775,
              30.60086638512385
             ],
             [
              30.314505236643775,
              30.600503372090017
             ]
            ]
           ],
           "type": "Polygon"
          },
          "id": "105",
          "properties": {
           "class": 1,
           "style": {
            "color": "black",
            "fillColor": "#fee724ff",
            "weight": 0.9
           }
          },
          "type": "Feature"
         },
         {
          "bbox": [
           31.058828966643777,
           30.98272508360369,
           31.059243533356227,
           30.98308951397571
          ],
          "geometry": {
           "coordinates": [
            [
             [
              31.058828966643777,
              30.98272508360369
             ],
             [
              31.059243533356227,
              30.98272508360369
             ],
             [
              31.059243533356227,
              30.98308951397571
             ],
             [
              31.058828966643777,
              30.98308951397571
             ],
             [
              31.058828966643777,
              30.98272508360369
             ]
            ]
           ],
           "type": "Polygon"
          },
          "id": "106",
          "properties": {
           "class": 1,
           "style": {
            "color": "black",
            "fillColor": "#fee724ff",
            "weight": 0.9
           }
          },
          "type": "Feature"
         },
         {
          "bbox": [
           31.16319908664378,
           30.63595804694309,
           31.16361365335623,
           30.636321190304407
          ],
          "geometry": {
           "coordinates": [
            [
             [
              31.16319908664378,
              30.63595804694309
             ],
             [
              31.16361365335623,
              30.63595804694309
             ],
             [
              31.16361365335623,
              30.636321190304407
             ],
             [
              31.16319908664378,
              30.636321190304407
             ],
             [
              31.16319908664378,
              30.63595804694309
             ]
            ]
           ],
           "type": "Polygon"
          },
          "id": "107",
          "properties": {
           "class": 1,
           "style": {
            "color": "black",
            "fillColor": "#fee724ff",
            "weight": 0.9
           }
          },
          "type": "Feature"
         },
         {
          "bbox": [
           31.05196251664378,
           30.960352835449186,
           31.05237708335623,
           30.960717182108713
          ],
          "geometry": {
           "coordinates": [
            [
             [
              31.05196251664378,
              30.960352835449186
             ],
             [
              31.05237708335623,
              30.960352835449186
             ],
             [
              31.05237708335623,
              30.960717182108713
             ],
             [
              31.05196251664378,
              30.960717182108713
             ],
             [
              31.05196251664378,
              30.960352835449186
             ]
            ]
           ],
           "type": "Polygon"
          },
          "id": "108",
          "properties": {
           "class": 1,
           "style": {
            "color": "black",
            "fillColor": "#fee724ff",
            "weight": 0.9
           }
          },
          "type": "Feature"
         },
         {
          "bbox": [
           29.663565296643778,
           30.79298385701079,
           29.663979863356225,
           30.79334758038635
          ],
          "geometry": {
           "coordinates": [
            [
             [
              29.663565296643778,
              30.79298385701079
             ],
             [
              29.663979863356225,
              30.79298385701079
             ],
             [
              29.663979863356225,
              30.79334758038635
             ],
             [
              29.663565296643778,
              30.79334758038635
             ],
             [
              29.663565296643778,
              30.79298385701079
             ]
            ]
           ],
           "type": "Polygon"
          },
          "id": "109",
          "properties": {
           "class": 1,
           "style": {
            "color": "black",
            "fillColor": "#fee724ff",
            "weight": 0.9
           }
          },
          "type": "Feature"
         },
         {
          "bbox": [
           31.119253776643774,
           30.65368050433499,
           31.119668343356224,
           30.65404371292936
          ],
          "geometry": {
           "coordinates": [
            [
             [
              31.119253776643774,
              30.65368050433499
             ],
             [
              31.119668343356224,
              30.65368050433499
             ],
             [
              31.119668343356224,
              30.65404371292936
             ],
             [
              31.119253776643774,
              30.65404371292936
             ],
             [
              31.119253776643774,
              30.65368050433499
             ]
            ]
           ],
           "type": "Polygon"
          },
          "id": "110",
          "properties": {
           "class": 1,
           "style": {
            "color": "black",
            "fillColor": "#fee724ff",
            "weight": 0.9
           }
          },
          "type": "Feature"
         },
         {
          "bbox": [
           31.792166366643773,
           26.57545698305491,
           31.792580933356223,
           26.575806630841786
          ],
          "geometry": {
           "coordinates": [
            [
             [
              31.792166366643773,
              26.57545698305491
             ],
             [
              31.792580933356223,
              26.57545698305491
             ],
             [
              31.792580933356223,
              26.575806630841786
             ],
             [
              31.792166366643773,
              26.575806630841786
             ],
             [
              31.792166366643773,
              26.57545698305491
             ]
            ]
           ],
           "type": "Polygon"
          },
          "id": "111",
          "properties": {
           "class": 1,
           "style": {
            "color": "black",
            "fillColor": "#fee724ff",
            "weight": 0.9
           }
          },
          "type": "Feature"
         },
         {
          "bbox": [
           31.087668076643777,
           27.333169118855505,
           31.088082643356227,
           27.333521075576
          ],
          "geometry": {
           "coordinates": [
            [
             [
              31.087668076643777,
              27.333169118855505
             ],
             [
              31.088082643356227,
              27.333169118855505
             ],
             [
              31.088082643356227,
              27.333521075576
             ],
             [
              31.087668076643777,
              27.333521075576
             ],
             [
              31.087668076643777,
              27.333169118855505
             ]
            ]
           ],
           "type": "Polygon"
          },
          "id": "112",
          "properties": {
           "class": 1,
           "style": {
            "color": "black",
            "fillColor": "#fee724ff",
            "weight": 0.9
           }
          },
          "type": "Feature"
         },
         {
          "bbox": [
           30.984671256643775,
           31.162689255279624,
           30.985085823356226,
           31.163054362474156
          ],
          "geometry": {
           "coordinates": [
            [
             [
              30.984671256643775,
              31.162689255279624
             ],
             [
              30.985085823356226,
              31.162689255279624
             ],
             [
              30.985085823356226,
              31.163054362474156
             ],
             [
              30.984671256643775,
              31.163054362474156
             ],
             [
              30.984671256643775,
              31.162689255279624
             ]
            ]
           ],
           "type": "Polygon"
          },
          "id": "113",
          "properties": {
           "class": 1,
           "style": {
            "color": "black",
            "fillColor": "#fee724ff",
            "weight": 0.9
           }
          },
          "type": "Feature"
         },
         {
          "bbox": [
           32.17531456664378,
           25.983180273824082,
           32.17572913335623,
           25.983528179689795
          ],
          "geometry": {
           "coordinates": [
            [
             [
              32.17531456664378,
              25.983180273824082
             ],
             [
              32.17572913335623,
              25.983180273824082
             ],
             [
              32.17572913335623,
              25.983528179689795
             ],
             [
              32.17531456664378,
              25.983528179689795
             ],
             [
              32.17531456664378,
              25.983180273824082
             ]
            ]
           ],
           "type": "Polygon"
          },
          "id": "114",
          "properties": {
           "class": 1,
           "style": {
            "color": "black",
            "fillColor": "#fee724ff",
            "weight": 0.9
           }
          },
          "type": "Feature"
         },
         {
          "bbox": [
           30.852835316643777,
           31.276607529533774,
           30.853249883356227,
           31.276973068331053
          ],
          "geometry": {
           "coordinates": [
            [
             [
              30.852835316643777,
              31.276607529533774
             ],
             [
              30.853249883356227,
              31.276607529533774
             ],
             [
              30.853249883356227,
              31.276973068331053
             ],
             [
              30.852835316643777,
              31.276973068331053
             ],
             [
              30.852835316643777,
              31.276607529533774
             ]
            ]
           ],
           "type": "Polygon"
          },
          "id": "115",
          "properties": {
           "class": 1,
           "style": {
            "color": "black",
            "fillColor": "#fee724ff",
            "weight": 0.9
           }
          },
          "type": "Feature"
         },
         {
          "bbox": [
           31.012137076643775,
           28.98453928074436,
           31.012551643356225,
           28.98489659500773
          ],
          "geometry": {
           "coordinates": [
            [
             [
              31.012137076643775,
              28.98453928074436
             ],
             [
              31.012551643356225,
              28.98453928074436
             ],
             [
              31.012551643356225,
              28.98489659500773
             ],
             [
              31.012137076643775,
              28.98489659500773
             ],
             [
              31.012137076643775,
              28.98453928074436
             ]
            ]
           ],
           "type": "Polygon"
          },
          "id": "116",
          "properties": {
           "class": 1,
           "style": {
            "color": "black",
            "fillColor": "#fee724ff",
            "weight": 0.9
           }
          },
          "type": "Feature"
         },
         {
          "bbox": [
           30.797903676643774,
           31.112145510608386,
           30.798318243356217,
           31.112510427096268
          ],
          "geometry": {
           "coordinates": [
            [
             [
              30.797903676643774,
              31.112145510608386
             ],
             [
              30.798318243356217,
              31.112145510608386
             ],
             [
              30.798318243356217,
              31.112510427096268
             ],
             [
              30.797903676643774,
              31.112510427096268
             ],
             [
              30.797903676643774,
              31.112145510608386
             ]
            ]
           ],
           "type": "Polygon"
          },
          "id": "117",
          "properties": {
           "class": 1,
           "style": {
            "color": "black",
            "fillColor": "#fee724ff",
            "weight": 0.9
           }
          },
          "type": "Feature"
         },
         {
          "bbox": [
           31.359579696643774,
           26.931077597037937,
           31.359994263356224,
           26.93142831710377
          ],
          "geometry": {
           "coordinates": [
            [
             [
              31.359579696643774,
              26.931077597037937
             ],
             [
              31.359994263356224,
              26.931077597037937
             ],
             [
              31.359994263356224,
              26.93142831710377
             ],
             [
              31.359579696643774,
              26.93142831710377
             ],
             [
              31.359579696643774,
              26.931077597037937
             ]
            ]
           ],
           "type": "Polygon"
          },
          "id": "118",
          "properties": {
           "class": 1,
           "style": {
            "color": "black",
            "fillColor": "#fee724ff",
            "weight": 0.9
           }
          },
          "type": "Feature"
         },
         {
          "bbox": [
           31.531241076643774,
           30.6749431751747,
           31.531655643356217,
           30.67530646210987
          ],
          "geometry": {
           "coordinates": [
            [
             [
              31.531241076643774,
              30.6749431751747
             ],
             [
              31.531655643356217,
              30.6749431751747
             ],
             [
              31.531655643356217,
              30.67530646210987
             ],
             [
              31.531241076643774,
              30.67530646210987
             ],
             [
              31.531241076643774,
              30.6749431751747
             ]
            ]
           ],
           "type": "Polygon"
          },
          "id": "119",
          "properties": {
           "class": 1,
           "style": {
            "color": "black",
            "fillColor": "#fee724ff",
            "weight": 0.9
           }
          },
          "type": "Feature"
         },
         {
          "bbox": [
           30.774557726643774,
           27.53184417860125,
           30.774972293356225,
           27.532196755978376
          ],
          "geometry": {
           "coordinates": [
            [
             [
              30.774557726643774,
              27.53184417860125
             ],
             [
              30.774972293356225,
              27.53184417860125
             ],
             [
              30.774972293356225,
              27.532196755978376
             ],
             [
              30.774557726643774,
              27.532196755978376
             ],
             [
              30.774557726643774,
              27.53184417860125
             ]
            ]
           ],
           "type": "Polygon"
          },
          "id": "120",
          "properties": {
           "class": 1,
           "style": {
            "color": "black",
            "fillColor": "#fee724ff",
            "weight": 0.9
           }
          },
          "type": "Feature"
         },
         {
          "bbox": [
           30.31175865664377,
           30.30217253567786,
           30.312173223356215,
           30.302534461255483
          ],
          "geometry": {
           "coordinates": [
            [
             [
              30.31175865664377,
              30.30217253567786
             ],
             [
              30.312173223356215,
              30.30217253567786
             ],
             [
              30.312173223356215,
              30.302534461255483
             ],
             [
              30.31175865664377,
              30.302534461255483
             ],
             [
              30.31175865664377,
              30.30217253567786
             ]
            ]
           ],
           "type": "Polygon"
          },
          "id": "121",
          "properties": {
           "class": 1,
           "style": {
            "color": "black",
            "fillColor": "#fee724ff",
            "weight": 0.9
           }
          },
          "type": "Feature"
         },
         {
          "bbox": [
           30.847342146643776,
           27.707062612311343,
           30.84775671335622,
           27.707415742401444
          ],
          "geometry": {
           "coordinates": [
            [
             [
              30.847342146643776,
              27.707062612311343
             ],
             [
              30.84775671335622,
              27.707062612311343
             ],
             [
              30.84775671335622,
              27.707415742401444
             ],
             [
              30.847342146643776,
              27.707415742401444
             ],
             [
              30.847342146643776,
              27.707062612311343
             ]
            ]
           ],
           "type": "Polygon"
          },
          "id": "122",
          "properties": {
           "class": 1,
           "style": {
            "color": "black",
            "fillColor": "#fee724ff",
            "weight": 0.9
           }
          },
          "type": "Feature"
         },
         {
          "bbox": [
           30.630362166643767,
           30.67848649864474,
           30.630776733356218,
           30.6788497986432
          ],
          "geometry": {
           "coordinates": [
            [
             [
              30.630362166643767,
              30.67848649864474
             ],
             [
              30.630776733356218,
              30.67848649864474
             ],
             [
              30.630776733356218,
              30.6788497986432
             ],
             [
              30.630362166643767,
              30.6788497986432
             ],
             [
              30.630362166643767,
              30.67848649864474
             ]
            ]
           ],
           "type": "Polygon"
          },
          "id": "123",
          "properties": {
           "class": 1,
           "style": {
            "color": "black",
            "fillColor": "#fee724ff",
            "weight": 0.9
           }
          },
          "type": "Feature"
         },
         {
          "bbox": [
           30.34746421664378,
           30.29861549210995,
           30.34787878335623,
           30.298977404820146
          ],
          "geometry": {
           "coordinates": [
            [
             [
              30.34746421664378,
              30.29861549210995
             ],
             [
              30.34787878335623,
              30.29861549210995
             ],
             [
              30.34787878335623,
              30.298977404820146
             ],
             [
              30.34746421664378,
              30.298977404820146
             ],
             [
              30.34746421664378,
              30.29861549210995
             ]
            ]
           ],
           "type": "Polygon"
          },
          "id": "124",
          "properties": {
           "class": 1,
           "style": {
            "color": "black",
            "fillColor": "#fee724ff",
            "weight": 0.9
           }
          },
          "type": "Feature"
         },
         {
          "bbox": [
           31.33898033664378,
           30.417114317210533,
           31.33939490335623,
           30.417476659830417
          ],
          "geometry": {
           "coordinates": [
            [
             [
              31.33898033664378,
              30.417114317210533
             ],
             [
              31.33939490335623,
              30.417114317210533
             ],
             [
              31.33939490335623,
              30.417476659830417
             ],
             [
              31.33898033664378,
              30.417476659830417
             ],
             [
              31.33898033664378,
              30.417114317210533
             ]
            ]
           ],
           "type": "Polygon"
          },
          "id": "125",
          "properties": {
           "class": 1,
           "style": {
            "color": "black",
            "fillColor": "#fee724ff",
            "weight": 0.9
           }
          },
          "type": "Feature"
         },
         {
          "bbox": [
           30.219748156643774,
           30.975660736822082,
           30.220162723356218,
           30.976025140750565
          ],
          "geometry": {
           "coordinates": [
            [
             [
              30.219748156643774,
              30.975660736822082
             ],
             [
              30.220162723356218,
              30.975660736822082
             ],
             [
              30.220162723356218,
              30.976025140750565
             ],
             [
              30.219748156643774,
              30.976025140750565
             ],
             [
              30.219748156643774,
              30.975660736822082
             ]
            ]
           ],
           "type": "Polygon"
          },
          "id": "126",
          "properties": {
           "class": 1,
           "style": {
            "color": "black",
            "fillColor": "#fee724ff",
            "weight": 0.9
           }
          },
          "type": "Feature"
         },
         {
          "bbox": [
           31.013510366643775,
           30.952109110856505,
           31.013924933356225,
           30.952473426693373
          ],
          "geometry": {
           "coordinates": [
            [
             [
              31.013510366643775,
              30.952109110856505
             ],
             [
              31.013924933356225,
              30.952109110856505
             ],
             [
              31.013924933356225,
              30.952473426693373
             ],
             [
              31.013510366643775,
              30.952473426693373
             ],
             [
              31.013510366643775,
              30.952109110856505
             ]
            ]
           ],
           "type": "Polygon"
          },
          "id": "127",
          "properties": {
           "class": 1,
           "style": {
            "color": "black",
            "fillColor": "#fee724ff",
            "weight": 0.9
           }
          },
          "type": "Feature"
         },
         {
          "bbox": [
           31.71663536664377,
           26.372626084325177,
           31.717049933356222,
           26.37297512943686
          ],
          "geometry": {
           "coordinates": [
            [
             [
              31.71663536664377,
              26.372626084325177
             ],
             [
              31.717049933356222,
              26.372626084325177
             ],
             [
              31.717049933356222,
              26.37297512943686
             ],
             [
              31.71663536664377,
              26.37297512943686
             ],
             [
              31.71663536664377,
              26.372626084325177
             ]
            ]
           ],
           "type": "Polygon"
          },
          "id": "128",
          "properties": {
           "class": 1,
           "style": {
            "color": "black",
            "fillColor": "#fee724ff",
            "weight": 0.9
           }
          },
          "type": "Feature"
         },
         {
          "bbox": [
           30.060446396643776,
           30.961530453247708,
           30.06086096335622,
           30.961894804311303
          ],
          "geometry": {
           "coordinates": [
            [
             [
              30.060446396643776,
              30.961530453247708
             ],
             [
              30.06086096335622,
              30.961530453247708
             ],
             [
              30.06086096335622,
              30.961894804311303
             ],
             [
              30.060446396643776,
              30.961894804311303
             ],
             [
              30.060446396643776,
              30.961530453247708
             ]
            ]
           ],
           "type": "Polygon"
          },
          "id": "129",
          "properties": {
           "class": 1,
           "style": {
            "color": "black",
            "fillColor": "#fee724ff",
            "weight": 0.9
           }
          },
          "type": "Feature"
         },
         {
          "bbox": [
           31.223623886643775,
           30.235752955591426,
           31.22403845335622,
           30.236114641280118
          ],
          "geometry": {
           "coordinates": [
            [
             [
              31.223623886643775,
              30.235752955591426
             ],
             [
              31.22403845335622,
              30.235752955591426
             ],
             [
              31.22403845335622,
              30.236114641280118
             ],
             [
              31.223623886643775,
              30.236114641280118
             ],
             [
              31.223623886643775,
              30.235752955591426
             ]
            ]
           ],
           "type": "Polygon"
          },
          "id": "130",
          "properties": {
           "class": 1,
           "style": {
            "color": "black",
            "fillColor": "#fee724ff",
            "weight": 0.9
           }
          },
          "type": "Feature"
         },
         {
          "bbox": [
           30.190909046643775,
           30.53783506695703,
           30.191323613356225,
           30.5381978501976
          ],
          "geometry": {
           "coordinates": [
            [
             [
              30.190909046643775,
              30.53783506695703
             ],
             [
              30.191323613356225,
              30.53783506695703
             ],
             [
              30.191323613356225,
              30.5381978501976
             ],
             [
              30.190909046643775,
              30.5381978501976
             ],
             [
              30.190909046643775,
              30.53783506695703
             ]
            ]
           ],
           "type": "Polygon"
          },
          "id": "131",
          "properties": {
           "class": 1,
           "style": {
            "color": "black",
            "fillColor": "#fee724ff",
            "weight": 0.9
           }
          },
          "type": "Feature"
         },
         {
          "bbox": [
           30.563070906643773,
           30.518908381577138,
           30.563485473356224,
           30.51927109555954
          ],
          "geometry": {
           "coordinates": [
            [
             [
              30.563070906643773,
              30.518908381577138
             ],
             [
              30.563485473356224,
              30.518908381577138
             ],
             [
              30.563485473356224,
              30.51927109555954
             ],
             [
              30.563070906643773,
              30.51927109555954
             ],
             [
              30.563070906643773,
              30.518908381577138
             ]
            ]
           ],
           "type": "Polygon"
          },
          "id": "132",
          "properties": {
           "class": 1,
           "style": {
            "color": "black",
            "fillColor": "#fee724ff",
            "weight": 0.9
           }
          },
          "type": "Feature"
         },
         {
          "bbox": [
           30.054953236643776,
           30.966240784440792,
           30.05536780335622,
           30.966605153122735
          ],
          "geometry": {
           "coordinates": [
            [
             [
              30.054953236643776,
              30.966240784440792
             ],
             [
              30.05536780335622,
              30.966240784440792
             ],
             [
              30.05536780335622,
              30.966605153122735
             ],
             [
              30.054953236643776,
              30.966605153122735
             ],
             [
              30.054953236643776,
              30.966240784440792
             ]
            ]
           ],
           "type": "Polygon"
          },
          "id": "133",
          "properties": {
           "class": 1,
           "style": {
            "color": "black",
            "fillColor": "#fee724ff",
            "weight": 0.9
           }
          },
          "type": "Feature"
         },
         {
          "bbox": [
           31.417257926643778,
           30.3685471654432,
           31.41767249335623,
           30.36890933155222
          ],
          "geometry": {
           "coordinates": [
            [
             [
              31.417257926643778,
              30.3685471654432
             ],
             [
              31.41767249335623,
              30.3685471654432
             ],
             [
              31.41767249335623,
              30.36890933155222
             ],
             [
              31.417257926643778,
              30.36890933155222
             ],
             [
              31.417257926643778,
              30.3685471654432
             ]
            ]
           ],
           "type": "Polygon"
          },
          "id": "134",
          "properties": {
           "class": 1,
           "style": {
            "color": "black",
            "fillColor": "#fee724ff",
            "weight": 0.9
           }
          },
          "type": "Feature"
         },
         {
          "bbox": [
           30.241720816643777,
           30.196591806104514,
           30.242135383356228,
           30.196953350730645
          ],
          "geometry": {
           "coordinates": [
            [
             [
              30.241720816643777,
              30.196591806104514
             ],
             [
              30.242135383356228,
              30.196591806104514
             ],
             [
              30.242135383356228,
              30.196953350730645
             ],
             [
              30.241720816643777,
              30.196953350730645
             ],
             [
              30.241720816643777,
              30.196591806104514
             ]
            ]
           ],
           "type": "Polygon"
          },
          "id": "135",
          "properties": {
           "class": 1,
           "style": {
            "color": "black",
            "fillColor": "#fee724ff",
            "weight": 0.9
           }
          },
          "type": "Feature"
         },
         {
          "bbox": [
           31.91988243664377,
           26.267998138478436,
           31.920297003356218,
           26.268346875215567
          ],
          "geometry": {
           "coordinates": [
            [
             [
              31.91988243664377,
              26.267998138478436
             ],
             [
              31.920297003356218,
              26.267998138478436
             ],
             [
              31.920297003356218,
              26.268346875215567
             ],
             [
              31.91988243664377,
              26.268346875215567
             ],
             [
              31.91988243664377,
              26.267998138478436
             ]
            ]
           ],
           "type": "Polygon"
          },
          "id": "136",
          "properties": {
           "class": 1,
           "style": {
            "color": "black",
            "fillColor": "#fee724ff",
            "weight": 0.9
           }
          },
          "type": "Feature"
         },
         {
          "bbox": [
           31.253836286643775,
           30.222700969108185,
           31.254250853356226,
           30.22306260775124
          ],
          "geometry": {
           "coordinates": [
            [
             [
              31.253836286643775,
              30.222700969108185
             ],
             [
              31.254250853356226,
              30.222700969108185
             ],
             [
              31.254250853356226,
              30.22306260775124
             ],
             [
              31.253836286643775,
              30.22306260775124
             ],
             [
              31.253836286643775,
              30.222700969108185
             ]
            ]
           ],
           "type": "Polygon"
          },
          "id": "137",
          "properties": {
           "class": 1,
           "style": {
            "color": "black",
            "fillColor": "#fee724ff",
            "weight": 0.9
           }
          },
          "type": "Feature"
         },
         {
          "bbox": [
           30.572683946643775,
           31.130955625159537,
           30.573098513356225,
           31.13132061256337
          ],
          "geometry": {
           "coordinates": [
            [
             [
              30.572683946643775,
              31.130955625159537
             ],
             [
              30.573098513356225,
              31.130955625159537
             ],
             [
              30.573098513356225,
              31.13132061256337
             ],
             [
              30.572683946643775,
              31.13132061256337
             ],
             [
              30.572683946643775,
              31.130955625159537
             ]
            ]
           ],
           "type": "Polygon"
          },
          "id": "138",
          "properties": {
           "class": 1,
           "style": {
            "color": "black",
            "fillColor": "#fee724ff",
            "weight": 0.9
           }
          },
          "type": "Feature"
         },
         {
          "bbox": [
           30.54659141664377,
           30.626504734324662,
           30.54700598335622,
           30.626867842913878
          ],
          "geometry": {
           "coordinates": [
            [
             [
              30.54659141664377,
              30.626504734324662
             ],
             [
              30.54700598335622,
              30.626504734324662
             ],
             [
              30.54700598335622,
              30.626867842913878
             ],
             [
              30.54659141664377,
              30.626867842913878
             ],
             [
              30.54659141664377,
              30.626504734324662
             ]
            ]
           ],
           "type": "Polygon"
          },
          "id": "139",
          "properties": {
           "class": 1,
           "style": {
            "color": "black",
            "fillColor": "#fee724ff",
            "weight": 0.9
           }
          },
          "type": "Feature"
         },
         {
          "bbox": [
           31.82375206664377,
           31.010977280693023,
           31.82416663335622,
           31.011341816913646
          ],
          "geometry": {
           "coordinates": [
            [
             [
              31.82375206664377,
              31.010977280693023
             ],
             [
              31.82416663335622,
              31.010977280693023
             ],
             [
              31.82416663335622,
              31.011341816913646
             ],
             [
              31.82375206664377,
              31.011341816913646
             ],
             [
              31.82375206664377,
              31.010977280693023
             ]
            ]
           ],
           "type": "Polygon"
          },
          "id": "140",
          "properties": {
           "class": 1,
           "style": {
            "color": "black",
            "fillColor": "#fee724ff",
            "weight": 0.9
           }
          },
          "type": "Feature"
         },
         {
          "bbox": [
           30.20876182664378,
           30.764667289463922,
           30.209176393356223,
           30.765030907906127
          ],
          "geometry": {
           "coordinates": [
            [
             [
              30.20876182664378,
              30.764667289463922
             ],
             [
              30.209176393356223,
              30.764667289463922
             ],
             [
              30.209176393356223,
              30.765030907906127
             ],
             [
              30.20876182664378,
              30.765030907906127
             ],
             [
              30.20876182664378,
              30.764667289463922
             ]
            ]
           ],
           "type": "Polygon"
          },
          "id": "141",
          "properties": {
           "class": 1,
           "style": {
            "color": "black",
            "fillColor": "#fee724ff",
            "weight": 0.9
           }
          },
          "type": "Feature"
         },
         {
          "bbox": [
           30.758078236643772,
           27.475812606425293,
           30.75849280335622,
           27.476165008112183
          ],
          "geometry": {
           "coordinates": [
            [
             [
              30.758078236643772,
              27.475812606425293
             ],
             [
              30.75849280335622,
              27.475812606425293
             ],
             [
              30.75849280335622,
              27.476165008112183
             ],
             [
              30.758078236643772,
              27.476165008112183
             ],
             [
              30.758078236643772,
              27.475812606425293
             ]
            ]
           ],
           "type": "Polygon"
          },
          "id": "142",
          "properties": {
           "class": 1,
           "style": {
            "color": "black",
            "fillColor": "#fee724ff",
            "weight": 0.9
           }
          },
          "type": "Feature"
         },
         {
          "bbox": [
           32.05583824664377,
           30.841338717266122,
           32.056252813356224,
           30.841702620177283
          ],
          "geometry": {
           "coordinates": [
            [
             [
              32.05583824664377,
              30.841338717266122
             ],
             [
              32.056252813356224,
              30.841338717266122
             ],
             [
              32.056252813356224,
              30.841702620177283
             ],
             [
              32.05583824664377,
              30.841702620177283
             ],
             [
              32.05583824664377,
              30.841338717266122
             ]
            ]
           ],
           "type": "Polygon"
          },
          "id": "143",
          "properties": {
           "class": 1,
           "style": {
            "color": "black",
            "fillColor": "#fee724ff",
            "weight": 0.9
           }
          },
          "type": "Feature"
         },
         {
          "bbox": [
           30.972311636643774,
           27.34902748420826,
           30.972726203356224,
           27.349379490235
          ],
          "geometry": {
           "coordinates": [
            [
             [
              30.972311636643774,
              27.34902748420826
             ],
             [
              30.972726203356224,
              27.34902748420826
             ],
             [
              30.972726203356224,
              27.349379490235
             ],
             [
              30.972311636643774,
              27.349379490235
             ],
             [
              30.972311636643774,
              27.34902748420826
             ]
            ]
           ],
           "type": "Polygon"
          },
          "id": "144",
          "properties": {
           "class": 1,
           "style": {
            "color": "black",
            "fillColor": "#fee724ff",
            "weight": 0.9
           }
          },
          "type": "Feature"
         },
         {
          "bbox": [
           30.880301136643787,
           29.510552888981533,
           30.88071570335623,
           29.510912007230104
          ],
          "geometry": {
           "coordinates": [
            [
             [
              30.880301136643787,
              29.510552888981533
             ],
             [
              30.88071570335623,
              29.510552888981533
             ],
             [
              30.88071570335623,
              29.510912007230104
             ],
             [
              30.880301136643787,
              29.510912007230104
             ],
             [
              30.880301136643787,
              29.510552888981533
             ]
            ]
           ],
           "type": "Polygon"
          },
          "id": "145",
          "properties": {
           "class": 1,
           "style": {
            "color": "black",
            "fillColor": "#fee724ff",
            "weight": 0.9
           }
          },
          "type": "Feature"
         },
         {
          "bbox": [
           32.59004844664378,
           26.121360503099073,
           32.59046301335623,
           26.121708810501225
          ],
          "geometry": {
           "coordinates": [
            [
             [
              32.59004844664378,
              26.121360503099073
             ],
             [
              32.59046301335623,
              26.121360503099073
             ],
             [
              32.59046301335623,
              26.121708810501225
             ],
             [
              32.59004844664378,
              26.121708810501225
             ],
             [
              32.59004844664378,
              26.121360503099073
             ]
            ]
           ],
           "type": "Polygon"
          },
          "id": "146",
          "properties": {
           "class": 1,
           "style": {
            "color": "black",
            "fillColor": "#fee724ff",
            "weight": 0.9
           }
          },
          "type": "Feature"
         },
         {
          "bbox": [
           30.325491566643773,
           30.214394264066925,
           30.325906133356217,
           30.214755872784785
          ],
          "geometry": {
           "coordinates": [
            [
             [
              30.325491566643773,
              30.214394264066925
             ],
             [
              30.325906133356217,
              30.214394264066925
             ],
             [
              30.325906133356217,
              30.214755872784785
             ],
             [
              30.325491566643773,
              30.214755872784785
             ],
             [
              30.325491566643773,
              30.214394264066925
             ]
            ]
           ],
           "type": "Polygon"
          },
          "id": "147",
          "properties": {
           "class": 1,
           "style": {
            "color": "black",
            "fillColor": "#fee724ff",
            "weight": 0.9
           }
          },
          "type": "Feature"
         },
         {
          "bbox": [
           30.30077232664377,
           30.979192980213334,
           30.30118689335622,
           30.979557397362672
          ],
          "geometry": {
           "coordinates": [
            [
             [
              30.30077232664377,
              30.979192980213334
             ],
             [
              30.30118689335622,
              30.979192980213334
             ],
             [
              30.30118689335622,
              30.979557397362672
             ],
             [
              30.30077232664377,
              30.979557397362672
             ],
             [
              30.30077232664377,
              30.979192980213334
             ]
            ]
           ],
           "type": "Polygon"
          },
          "id": "148",
          "properties": {
           "class": 1,
           "style": {
            "color": "black",
            "fillColor": "#fee724ff",
            "weight": 0.9
           }
          },
          "type": "Feature"
         },
         {
          "bbox": [
           30.763571396643773,
           30.728079377128243,
           30.76398596335622,
           30.728442860206943
          ],
          "geometry": {
           "coordinates": [
            [
             [
              30.763571396643773,
              30.728079377128243
             ],
             [
              30.76398596335622,
              30.728079377128243
             ],
             [
              30.76398596335622,
              30.728442860206943
             ],
             [
              30.763571396643773,
              30.728442860206943
             ],
             [
              30.763571396643773,
              30.728079377128243
             ]
            ]
           ],
           "type": "Polygon"
          },
          "id": "149",
          "properties": {
           "class": 1,
           "style": {
            "color": "black",
            "fillColor": "#fee724ff",
            "weight": 0.9
           }
          },
          "type": "Feature"
         },
         {
          "bbox": [
           30.678427356643773,
           31.34934929112438,
           30.678841923356224,
           31.3497151068116
          ],
          "geometry": {
           "coordinates": [
            [
             [
              30.678427356643773,
              31.34934929112438
             ],
             [
              30.678841923356224,
              31.34934929112438
             ],
             [
              30.678841923356224,
              31.3497151068116
             ],
             [
              30.678427356643773,
              31.3497151068116
             ],
             [
              30.678427356643773,
              31.34934929112438
             ]
            ]
           ],
           "type": "Polygon"
          },
          "id": "150",
          "properties": {
           "class": 1,
           "style": {
            "color": "black",
            "fillColor": "#fee724ff",
            "weight": 0.9
           }
          },
          "type": "Feature"
         },
         {
          "bbox": [
           30.78142418664378,
           31.17678966864214,
           30.78183875335623,
           31.177154829125303
          ],
          "geometry": {
           "coordinates": [
            [
             [
              30.78142418664378,
              31.17678966864214
             ],
             [
              30.78183875335623,
              31.17678966864214
             ],
             [
              30.78183875335623,
              31.177154829125303
             ],
             [
              30.78142418664378,
              31.177154829125303
             ],
             [
              30.78142418664378,
              31.17678966864214
             ]
            ]
           ],
           "type": "Polygon"
          },
          "id": "151",
          "properties": {
           "class": 1,
           "style": {
            "color": "black",
            "fillColor": "#fee724ff",
            "weight": 0.9
           }
          },
          "type": "Feature"
         },
         {
          "bbox": [
           30.28154625664378,
           30.48577781209922,
           30.28196082335623,
           30.486140405006278
          ],
          "geometry": {
           "coordinates": [
            [
             [
              30.28154625664378,
              30.48577781209922
             ],
             [
              30.28196082335623,
              30.48577781209922
             ],
             [
              30.28196082335623,
              30.486140405006278
             ],
             [
              30.28154625664378,
              30.486140405006278
             ],
             [
              30.28154625664378,
              30.48577781209922
             ]
            ]
           ],
           "type": "Polygon"
          },
          "id": "152",
          "properties": {
           "class": 1,
           "style": {
            "color": "black",
            "fillColor": "#fee724ff",
            "weight": 0.9
           }
          },
          "type": "Feature"
         },
         {
          "bbox": [
           30.87480796664378,
           30.88495512612844,
           30.87522253335623,
           30.885319191356835
          ],
          "geometry": {
           "coordinates": [
            [
             [
              30.87480796664378,
              30.88495512612844
             ],
             [
              30.87522253335623,
              30.88495512612844
             ],
             [
              30.87522253335623,
              30.885319191356835
             ],
             [
              30.87480796664378,
              30.885319191356835
             ],
             [
              30.87480796664378,
              30.88495512612844
             ]
            ]
           ],
           "type": "Polygon"
          },
          "id": "153",
          "properties": {
           "class": 1,
           "style": {
            "color": "black",
            "fillColor": "#fee724ff",
            "weight": 0.9
           }
          },
          "type": "Feature"
         },
         {
          "bbox": [
           31.47081627664377,
           30.968595860036718,
           31.47123084335622,
           30.968960237529057
          ],
          "geometry": {
           "coordinates": [
            [
             [
              31.47081627664377,
              30.968595860036718
             ],
             [
              31.47123084335622,
              30.968595860036718
             ],
             [
              31.47123084335622,
              30.968960237529057
             ],
             [
              31.47081627664377,
              30.968960237529057
             ],
             [
              31.47081627664377,
              30.968595860036718
             ]
            ]
           ],
           "type": "Polygon"
          },
          "id": "154",
          "properties": {
           "class": 1,
           "style": {
            "color": "black",
            "fillColor": "#fee724ff",
            "weight": 0.9
           }
          },
          "type": "Feature"
         },
         {
          "bbox": [
           30.348837516643783,
           30.97448328902479,
           30.349252083356234,
           30.974847688546706
          ],
          "geometry": {
           "coordinates": [
            [
             [
              30.348837516643783,
              30.97448328902479
             ],
             [
              30.349252083356234,
              30.97448328902479
             ],
             [
              30.349252083356234,
              30.974847688546706
             ],
             [
              30.348837516643783,
              30.974847688546706
             ],
             [
              30.348837516643783,
              30.97448328902479
             ]
            ]
           ],
           "type": "Polygon"
          },
          "id": "155",
          "properties": {
           "class": 1,
           "style": {
            "color": "black",
            "fillColor": "#fee724ff",
            "weight": 0.9
           }
          },
          "type": "Feature"
         }
        ],
        "type": "FeatureCollection"
       },
       "name": "",
       "options": [],
       "popup": null,
       "popup_max_height": null,
       "popup_max_width": 300,
       "popup_min_width": 50,
       "style": {
        "fillOpacity": 0.8
       }
      }
     },
     "f095159829e64c2d802fb0ac486427d9": {
      "model_module": "@jupyter-widgets/base",
      "model_module_version": "1.2.0",
      "model_name": "LayoutModel",
      "state": {
       "height": "600px",
       "width": "800px"
      }
     },
     "f4e0fdf7938443d983cae59ebd289ffd": {
      "model_module": "jupyter-leaflet",
      "model_module_version": "^0.14.0",
      "model_name": "LeafletMapModel",
      "state": {
       "_model_module_version": "^0.14.0",
       "_view_module_version": "^0.14.0",
       "bottom": 7227,
       "center": [
        26.769110088616873,
        29.937057490950004
       ],
       "controls": [
        "IPY_MODEL_be005f8d578b419b95d83dfbaba5f6e1",
        "IPY_MODEL_7df2f10f713b40b594f9c4855dd2c668"
       ],
       "default_style": "IPY_MODEL_87c7adc9de5742889be9d42797f9d3a6",
       "dragging_style": "IPY_MODEL_d8fd276f71d44dc388c3ce456a2d3c19",
       "east": 38.71582031250001,
       "fullscreen": false,
       "interpolation": "bilinear",
       "layers": [
        "IPY_MODEL_bda9a12aafeb463187c4801983f49c50",
        "IPY_MODEL_e6903068e6fa4974aa3e465176250af3"
       ],
       "layout": "IPY_MODEL_f095159829e64c2d802fb0ac486427d9",
       "left": 9154,
       "modisdate": "yesterday",
       "north": 32.491230287947594,
       "options": [
        "bounce_at_zoom_limits",
        "box_zoom",
        "center",
        "close_popup_on_click",
        "double_click_zoom",
        "dragging",
        "fullscreen",
        "inertia",
        "inertia_deceleration",
        "inertia_max_speed",
        "interpolation",
        "keyboard",
        "keyboard_pan_offset",
        "keyboard_zoom_offset",
        "max_zoom",
        "min_zoom",
        "scroll_wheel_zoom",
        "tap",
        "tap_tolerance",
        "touch_zoom",
        "world_copy_jump",
        "zoom",
        "zoom_animation_threshold",
        "zoom_delta",
        "zoom_snap",
        "zoom_start"
       ],
       "right": 9954,
       "south": 20.73556590521864,
       "style": "IPY_MODEL_afd387175cbf41c692994bcbf76dda67",
       "top": 6627,
       "west": 21.1376953125,
       "window_url": "https://sandbox.digitalearth.africa/user/victoria@kartoza.com/lab/tree/dev/deafrica-sandbox-notebooks/Real_world_examples/Scalable_machine_learning/1_Extract_training_data.ipynb",
       "zoom": 6
      }
     }
    },
    "version_major": 2,
    "version_minor": 0
   }
  }
 },
 "nbformat": 4,
 "nbformat_minor": 4
}
