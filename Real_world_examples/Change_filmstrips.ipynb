{
 "cells": [
  {
   "cell_type": "markdown",
   "metadata": {},
   "source": [
    "# Monitoring change through time using satellite imagery filmstrip plots\n",
    "\n",
    "* **Products used:** \n",
    "[ls8_sr](https://explorer.digitalearth.africa/ls8_sr),\n",
    "[ls7_sr](https://explorer.digitalearth.africa/ls7_sr),\n",
    "[ls5_sr](https://explorer.digitalearth.africa/ls5_sr)"
   ]
  },
  {
   "cell_type": "raw",
   "metadata": {
    "raw_mimetype": "text/restructuredtext"
   },
   "source": [
    "**Keywords:** :index:`data used; landsat 5`, :index:`data used; landsat 7`, :index:`data used; landsat 8`, :index:`visualisation; filmstrip`, :index:`analysis; change monitoring`, :index:`interactive`"
   ]
  },
  {
   "cell_type": "markdown",
   "metadata": {},
   "source": [
    "## Background\n",
    "\n",
    "Understanding how natural and human landscapes have changed through time can provide vital information about the health of local ecosystems and development of the built environment. \n",
    "For example, data on changes in the distribution of vegetation in the landscape can be used to monitor the impact of deforestation, or track the recovery of forests after habitat restoration or extreme natural events (e.g. bushfires). \n",
    "Tracking changes within urban areas can be used to monitor the growth of infrastructure such as ports and transport networks, while data on coastal changes can be vital for predicting and managing the impacts of coastal erosion or the loss of coastal wetlands (e.g. mangroves).\n",
    "\n",
    "Although these examples of change can be tracked using direct on-the-ground monitoring (e.g. vegetation surveys), it can be extremely challenging and expensive to obtain a comprehensive understanding of these processes at a broader landscape scale. \n",
    "For many applications, it can also be extremely useful to obtain a record of the history of a location undergoing change. \n",
    "This typically requires historical monitoring data which is unlikely to be available for all but the most intensively monitored locations.\n",
    "\n",
    "### Digital Earth Africa use case\n",
    "\n",
    "More than 30 years of satellite imagery from the [NASA/USGS Landsat program](https://www.usgs.gov/land-resources/nli/landsat) is freely available for Africa, making this a powerful resource for monitoring natural and human-driven change across the African continent.\n",
    "Because these satellites image every location over Africa regularly (approximately once every 16 days), they provide an unparalleled archive of how many of Africa's landscapes have changed through time.\n",
    "\n",
    "Analysing change from individual satellite images can be made difficult by the presence of clouds, cloud shadow, sunglint over water, and dynamic processes like changing tides along the coastline. \n",
    "By combining individual noisy images into cleaner, cloud-free \"summary\" images that cover a longer time period (e.g. one or multiple years), we can obtain a clear, consistent view of the African environment that can be compared to reveal changes in the landscape over time.\n"
   ]
  },
  {
   "cell_type": "markdown",
   "metadata": {},
   "source": [
    "## Description\n",
    "In this example, Digital Earth Africa Landsat data is extracted for a given time range and location, and combined using the geometric median (\"geomedian\") statistic to reveal the median or 'typical' appearance of the landscape for a series of time periods (for more information about geomedians, see the [Geomedian composites notebook](../Frequently_used_code/Generating_geomedian_composites.ipynb)).\n",
    "\n",
    "For coastal applications, the analysis can be customised to select only satellite images obtained during a specific tidal range (e.g. low, average or high tide).\n",
    "\n",
    "The results for each time period are combined into a 'filmstrip' plot which visualises how the landscape has changed in appearance across time, with a 'change heatmap' panel highlighting potential areas of greatest change:\n",
    "\n",
    "![Example of filmstrip plot](../Supplementary_data/Change_filmstrips/filmstrip_example.png)\n",
    "\n",
    "***"
   ]
  },
  {
   "cell_type": "markdown",
   "metadata": {},
   "source": [
    "## Getting started\n",
    "\n",
    "To run this analysis, run all the cells in the notebook, starting with the \"Load packages\" cell. "
   ]
  },
  {
   "cell_type": "markdown",
   "metadata": {},
   "source": [
    "### Load packages\n",
    "Import Python packages used for the analysis."
   ]
  },
  {
   "cell_type": "code",
   "execution_count": 1,
   "metadata": {},
   "outputs": [],
   "source": [
    "%matplotlib inline\n",
    "\n",
    "import datacube\n",
    "from datacube.utils.cog import write_cog\n",
    "from deafrica_tools.app.changefilmstrips import run_filmstrip_app"
   ]
  },
  {
   "cell_type": "markdown",
   "metadata": {},
   "source": [
    "### Analysis parameters\n",
    "\n",
    "The following cell sets important required parameters for the analysis:\n",
    "\n",
    "* `output_name`: A name that will be used to name the output filmstrip plot file\n",
    "* `time_range`: The date range to analyse (e.g. `time_range = ('1984-01-01', '2019-12-31)`)\n",
    "* `time_step`: This parameter allows us to choose the length of the time periods we want to compare (e.g. `time_step = {'years': 5}` will generate one filmstrip plot for every five years of data in the dataset; `time_step = {'months': 18}` will generate one plot for each 18 month period etc.\n",
    "Time periods are counted from the first value given in `time_range`.\n",
    "\n",
    "Optional parameters:\n",
    "\n",
    "* `tide_range`: This parameter allows you to generate filmstrip plots based on specific ocean tide conditions.\n",
    "This can be valuable for analysing change consistently along the coast. \n",
    "For example, `tide_range = (0.0, 0.2)` will select only satellite images acquired at the lowest 20% of tides; `tide_range = (0.8, 1.0)` will select images from the highest 20% of tides. \n",
    "The default is `tide_range = (0.0, 1.0)` which will select all images regardless of tide.\n",
    "* `resolution`: The spatial resolution to load data. \n",
    "The default is `resolution = (-30, 30)`, which will load data at 30 m pixel resolution. \n",
    "Increasing this (e.g. to `resolution = (-100, 100)`) can be useful for loading large spatial extents.\n",
    "* `max_cloud`: This parameter allows you to exclude satellite images with excessive cloud. \n",
    "The default is `0.5`, which will keep all images with less than 50% cloud.\n",
    "* `ls7_slc_off`: Whether to include data from after the Landsat 7 SLC failure (i.e. SLC-off). \n",
    "Defaults to `False`, which removes all Landsat 7 observations after May 31 2003.\n",
    "Setting this to `True` will result in extra data, but can also introduce horizontal striping in the output filmstrip plots.\n",
    "* `size_limit`: An optional integer (in square kilometres) specifying the size limit for the data query. Queries larger than this size will receive a warning that he data query is too large (and may therefore result in memory errors).\n",
    "\n",
    "\n",
    "**If running the notebook for the first time**, keep the default settings below. This will demonstrate how the analysis works and provide meaningful results. \n"
   ]
  },
  {
   "cell_type": "code",
   "execution_count": 2,
   "metadata": {},
   "outputs": [],
   "source": [
    "# Required parameters\n",
    "output_name = 'example'\n",
    "time_range = ('2013', '2021')\n",
    "time_step = {'years': 3}\n",
    "\n",
    "# Optional parameters\n",
    "tide_range = (0.0, 1.0)\n",
    "resolution = (-30, 30)\n",
    "max_cloud = 0.5\n",
    "ls7_slc_off = False\n",
    "size_limit = 100"
   ]
  },
  {
   "cell_type": "markdown",
   "metadata": {},
   "source": [
    "## Select location and generate filmstrips\n",
    "Run the following cell to start the analysis. \n",
    "This will plot an interactive map that is used to select the area to load satellite data for.\n",
    "\n",
    "Select the `Draw a rectangle` or `Draw a polygon` tool on the left of the map, and draw a shape around the area you are interested in.\n",
    "\n",
    "If running this notebook for the first time, **draw a rectangle around West African Cement Company plant** to see an example of change driven by urban development.\n",
    "You should draw a rectangle similar to the image shown below:\n",
    "\n",
    "![Area of interest](../Supplementary_data/Change_filmstrips/rectangle_draw.png)\n",
    "\n",
    "If running this notebook for a new area, zoom and pan around the map until you find an area of interest, then draw a rectangle or polygon as described above.\n",
    "You will need to check the availability of Landsat data in your chosen area using the [Digital Earth Africa Explorer](https://explorer.digitalearth.africa/products/ls8_sr).\n",
    "\n",
    "When you are ready, press the green `done` button on the top right of the map. \n",
    "This will start loading the data, and then generate a filmstrips plot.\n",
    "\n",
    "> Depending on the size of the area you select, this step can take **several minutes to complete**.\n",
    "To keep load times reasonable, select an area **smaller than 10,000 hectares** in size.\n",
    "When using the rectangle drawing tool, the area in hectares will be displayed to help guide you.\n",
    "The 10,000 hectare limit can be overuled by supplying the `size_limit` parameter in the `Analysis Parameters` section above.\n",
    "\n",
    "\n",
    "> Once the analysis reaches the `Generating geomedian composites` step, you can check the status of the data load by clicking the **Dashboard** link under **Client** below.\n"
   ]
  },
  {
   "cell_type": "code",
   "execution_count": null,
   "metadata": {},
   "outputs": [
    {
     "data": {
      "application/vnd.jupyter.widget-view+json": {
       "model_id": "fa4961680a7742cd9c4c889f8992be55",
       "version_major": 2,
       "version_minor": 0
      },
      "text/plain": [
       "Map(center=[6.587292, 1.532833], controls=(ZoomControl(options=['position', 'zoom_in_text', 'zoom_in_title', '…"
      ]
     },
     "metadata": {},
     "output_type": "display_data"
    },
    {
     "name": "stdout",
     "output_type": "stream",
     "text": [
      "Starting analysis...\n"
     ]
    },
    {
     "data": {
      "text/html": [
       "<div>\n",
       "    <div style=\"width: 24px; height: 24px; background-color: #e1e1e1; border: 3px solid #9D9D9D; border-radius: 5px; position: absolute;\"> </div>\n",
       "    <div style=\"margin-left: 48px;\">\n",
       "        <h3 style=\"margin-bottom: 0px;\">Client</h3>\n",
       "        <p style=\"color: #9D9D9D; margin-bottom: 0px;\">Client-25b4490a-e975-11ed-8174-12e87cd9cb03</p>\n",
       "        <table style=\"width: 100%; text-align: left;\">\n",
       "\n",
       "        <tr>\n",
       "        \n",
       "            <td style=\"text-align: left;\"><strong>Connection method:</strong> Cluster object</td>\n",
       "            <td style=\"text-align: left;\"><strong>Cluster type:</strong> distributed.LocalCluster</td>\n",
       "        \n",
       "        </tr>\n",
       "\n",
       "        \n",
       "            <tr>\n",
       "                <td style=\"text-align: left;\">\n",
       "                    <strong>Dashboard: </strong> <a href=\"/user/victoria@kartoza.com/proxy/8787/status\" target=\"_blank\">/user/victoria@kartoza.com/proxy/8787/status</a>\n",
       "                </td>\n",
       "                <td style=\"text-align: left;\"></td>\n",
       "            </tr>\n",
       "        \n",
       "\n",
       "        </table>\n",
       "\n",
       "        \n",
       "            <button style=\"margin-bottom: 12px;\" data-commandlinker-command=\"dask:populate-and-launch-layout\" data-commandlinker-args='{\"url\": \"/user/victoria@kartoza.com/proxy/8787/status\" }'>\n",
       "                Launch dashboard in JupyterLab\n",
       "            </button>\n",
       "        \n",
       "\n",
       "        \n",
       "            <details>\n",
       "            <summary style=\"margin-bottom: 20px;\"><h3 style=\"display: inline;\">Cluster Info</h3></summary>\n",
       "            <div class=\"jp-RenderedHTMLCommon jp-RenderedHTML jp-mod-trusted jp-OutputArea-output\">\n",
       "    <div style=\"width: 24px; height: 24px; background-color: #e1e1e1; border: 3px solid #9D9D9D; border-radius: 5px; position: absolute;\">\n",
       "    </div>\n",
       "    <div style=\"margin-left: 48px;\">\n",
       "        <h3 style=\"margin-bottom: 0px; margin-top: 0px;\">LocalCluster</h3>\n",
       "        <p style=\"color: #9D9D9D; margin-bottom: 0px;\">d6c01f2d</p>\n",
       "        <table style=\"width: 100%; text-align: left;\">\n",
       "            <tr>\n",
       "                <td style=\"text-align: left;\">\n",
       "                    <strong>Dashboard:</strong> <a href=\"/user/victoria@kartoza.com/proxy/8787/status\" target=\"_blank\">/user/victoria@kartoza.com/proxy/8787/status</a>\n",
       "                </td>\n",
       "                <td style=\"text-align: left;\">\n",
       "                    <strong>Workers:</strong> 1\n",
       "                </td>\n",
       "            </tr>\n",
       "            <tr>\n",
       "                <td style=\"text-align: left;\">\n",
       "                    <strong>Total threads:</strong> 7\n",
       "                </td>\n",
       "                <td style=\"text-align: left;\">\n",
       "                    <strong>Total memory:</strong> 59.21 GiB\n",
       "                </td>\n",
       "            </tr>\n",
       "            \n",
       "            <tr>\n",
       "    <td style=\"text-align: left;\"><strong>Status:</strong> running</td>\n",
       "    <td style=\"text-align: left;\"><strong>Using processes:</strong> True</td>\n",
       "</tr>\n",
       "\n",
       "            \n",
       "        </table>\n",
       "\n",
       "        <details>\n",
       "            <summary style=\"margin-bottom: 20px;\">\n",
       "                <h3 style=\"display: inline;\">Scheduler Info</h3>\n",
       "            </summary>\n",
       "\n",
       "            <div style=\"\">\n",
       "    <div>\n",
       "        <div style=\"width: 24px; height: 24px; background-color: #FFF7E5; border: 3px solid #FF6132; border-radius: 5px; position: absolute;\"> </div>\n",
       "        <div style=\"margin-left: 48px;\">\n",
       "            <h3 style=\"margin-bottom: 0px;\">Scheduler</h3>\n",
       "            <p style=\"color: #9D9D9D; margin-bottom: 0px;\">Scheduler-0c90505c-e7ef-4f0f-8b2b-83bb9b07b10b</p>\n",
       "            <table style=\"width: 100%; text-align: left;\">\n",
       "                <tr>\n",
       "                    <td style=\"text-align: left;\">\n",
       "                        <strong>Comm:</strong> tcp://127.0.0.1:33107\n",
       "                    </td>\n",
       "                    <td style=\"text-align: left;\">\n",
       "                        <strong>Workers:</strong> 1\n",
       "                    </td>\n",
       "                </tr>\n",
       "                <tr>\n",
       "                    <td style=\"text-align: left;\">\n",
       "                        <strong>Dashboard:</strong> <a href=\"/user/victoria@kartoza.com/proxy/8787/status\" target=\"_blank\">/user/victoria@kartoza.com/proxy/8787/status</a>\n",
       "                    </td>\n",
       "                    <td style=\"text-align: left;\">\n",
       "                        <strong>Total threads:</strong> 7\n",
       "                    </td>\n",
       "                </tr>\n",
       "                <tr>\n",
       "                    <td style=\"text-align: left;\">\n",
       "                        <strong>Started:</strong> Just now\n",
       "                    </td>\n",
       "                    <td style=\"text-align: left;\">\n",
       "                        <strong>Total memory:</strong> 59.21 GiB\n",
       "                    </td>\n",
       "                </tr>\n",
       "            </table>\n",
       "        </div>\n",
       "    </div>\n",
       "\n",
       "    <details style=\"margin-left: 48px;\">\n",
       "        <summary style=\"margin-bottom: 20px;\">\n",
       "            <h3 style=\"display: inline;\">Workers</h3>\n",
       "        </summary>\n",
       "\n",
       "        \n",
       "        <div style=\"margin-bottom: 20px;\">\n",
       "            <div style=\"width: 24px; height: 24px; background-color: #DBF5FF; border: 3px solid #4CC9FF; border-radius: 5px; position: absolute;\"> </div>\n",
       "            <div style=\"margin-left: 48px;\">\n",
       "            <details>\n",
       "                <summary>\n",
       "                    <h4 style=\"margin-bottom: 0px; display: inline;\">Worker: 0</h4>\n",
       "                </summary>\n",
       "                <table style=\"width: 100%; text-align: left;\">\n",
       "                    <tr>\n",
       "                        <td style=\"text-align: left;\">\n",
       "                            <strong>Comm: </strong> tcp://127.0.0.1:40203\n",
       "                        </td>\n",
       "                        <td style=\"text-align: left;\">\n",
       "                            <strong>Total threads: </strong> 7\n",
       "                        </td>\n",
       "                    </tr>\n",
       "                    <tr>\n",
       "                        <td style=\"text-align: left;\">\n",
       "                            <strong>Dashboard: </strong> <a href=\"/user/victoria@kartoza.com/proxy/36423/status\" target=\"_blank\">/user/victoria@kartoza.com/proxy/36423/status</a>\n",
       "                        </td>\n",
       "                        <td style=\"text-align: left;\">\n",
       "                            <strong>Memory: </strong> 59.21 GiB\n",
       "                        </td>\n",
       "                    </tr>\n",
       "                    <tr>\n",
       "                        <td style=\"text-align: left;\">\n",
       "                            <strong>Nanny: </strong> tcp://127.0.0.1:36257\n",
       "                        </td>\n",
       "                        <td style=\"text-align: left;\"></td>\n",
       "                    </tr>\n",
       "                    <tr>\n",
       "                        <td colspan=\"2\" style=\"text-align: left;\">\n",
       "                            <strong>Local directory: </strong> /tmp/dask-worker-space/worker-qzc_ohcu\n",
       "                        </td>\n",
       "                    </tr>\n",
       "\n",
       "                    \n",
       "\n",
       "                    \n",
       "\n",
       "                </table>\n",
       "            </details>\n",
       "            </div>\n",
       "        </div>\n",
       "        \n",
       "\n",
       "    </details>\n",
       "</div>\n",
       "\n",
       "        </details>\n",
       "    </div>\n",
       "</div>\n",
       "            </details>\n",
       "        \n",
       "\n",
       "    </div>\n",
       "</div>"
      ],
      "text/plain": [
       "<Client: 'tcp://127.0.0.1:33107' processes=1 threads=7, memory=59.21 GiB>"
      ]
     },
     "metadata": {},
     "output_type": "display_data"
    },
    {
     "name": "stdout",
     "output_type": "stream",
     "text": [
      "Using pixel quality parameters for USGS Collection 2\n",
      "Finding datasets\n",
      "    ls5_sr\n",
      "    ls7_sr\n",
      "    Ignoring SLC-off observations for ls7\n",
      "    ls8_sr\n",
      "Counting good quality pixels for each time step\n",
      "Filtering to 110 out of 312 time steps with at least 50.0% good quality pixels\n",
      "Applying pixel quality/cloud mask\n",
      "Re-scaling Landsat C2 data\n",
      "Returning 110 time steps as a dask array\n",
      "\n",
      "Generating geomedian composites and plotting filmstrips... (click the Dashboard link above for status)\n"
     ]
    }
   ],
   "source": [
    "output_data = run_filmstrip_app(output_name,\n",
    "                                time_range,\n",
    "                                time_step,\n",
    "                                tide_range,\n",
    "                                resolution,\n",
    "                                max_cloud,\n",
    "                                ls7_slc_off)"
   ]
  },
  {
   "cell_type": "markdown",
   "metadata": {},
   "source": [
    "## Using filmstrip plots to identify change\n",
    "\n",
    "The filmstrip plot above contains several colour imagery panels that summarise the median or 'typical' appearance of the landscape for the time periods defined using `time_range` and `time_step`. \n",
    "If you ran the analysis over the West African Cemement Company plant, inspect each of the imagery plots. \n",
    "You should be able to see the expansion of the plant over time.\n",
    "\n",
    "### Change heatmap\n",
    "\n",
    "To make it easier to identify areas that have changed between each filmstrip panel, the final panel provides a \"change heatmap\".\n",
    "This highlights pixels whose values vary greatly between the panels in the filmstrip plot. \n",
    "Bright colours indicate pixels that have changed; dark colours indicate pixels that have remained relatively similar across time.\n",
    "\n",
    "Compare the \"change heatmap\" panel against the colour imagery panels. \n",
    "You should be able to see the expansion clearly in bright pixels and the central plant buildings in the darkest pixels.\n",
    "\n",
    "> **Technical info:** The \"change heatmap\" is calculated by first taking a log transform of the imagery data to emphasize dark pixels, then calculating standard deviation across all of the filmstrip panels to reveal pixels that changed over time."
   ]
  },
  {
   "cell_type": "markdown",
   "metadata": {},
   "source": [
    "## Downloading filmstrip plot\n",
    "The high resolution version of the filmstrip plot generated above will be saved to the same location you are running this notebook from (e.g. typically `Real_world_examples`). \n",
    "In JupyterLab, use the file browser to locate the image file with a name in the following format: \n",
    "\n",
    "`filmstrip_{output_name}_{date_string}_{time_step}.png`\n",
    "\n",
    "You can download the image to your PC by right clicking on the image file and selecting `Download`."
   ]
  },
  {
   "cell_type": "markdown",
   "metadata": {},
   "source": [
    "## Export GeoTIFF data\n",
    "It can be useful to export each of the filmstrip panels generated above as GeoTIFF raster files so that they can be loaded into a Geographic Information System (GIS) software for further analysis.\n",
    "Because the filmstrip panels were generated using the \"geomedian\" statistic that preserves relationships between spectral bands, the resulting data can be validly analysed in the same way as we would analyse an individual satellite image.\n",
    "\n",
    "To export the GeoTIFFs, run the following cell then right click on the files in the JupyterLab file browser and select `Download`."
   ]
  },
  {
   "cell_type": "code",
   "execution_count": 4,
   "metadata": {},
   "outputs": [
    {
     "name": "stdout",
     "output_type": "stream",
     "text": [
      "Exporting 2013-01-01 data\n",
      "Exporting 2016-01-01 data\n",
      "Exporting 2019-01-01 data\n"
     ]
    }
   ],
   "source": [
    "for i, ds in output_data.groupby('timestep'):\n",
    "    print(f'Exporting {i} data')\n",
    "    write_cog(ds.to_array(), \n",
    "              fname=f'geotiff_{output_name}_{i}.tif',\n",
    "              overwrite=True)"
   ]
  },
  {
   "cell_type": "markdown",
   "metadata": {},
   "source": [
    "## Next steps\n",
    "When you are done, return to the [Analysis parameters](#Analysis-parameters) section, modify some values and rerun the analysis. \n",
    "For example, you could try:\n",
    "\n",
    "* Modify `time_range` to look at a specific time period of interest.\n",
    "* Setting a shorter `time_step` (e.g. `time_step = {'years': 5}`) for a more detailed look at how the landscape has changed over shorter time periods.\n",
    "* Move to a different area of interest.\n"
   ]
  },
  {
   "cell_type": "markdown",
   "metadata": {},
   "source": [
    "***\n",
    "\n",
    "## Additional information\n",
    "\n",
    "**License:** The code in this notebook is licensed under the [Apache License, Version 2.0](https://www.apache.org/licenses/LICENSE-2.0). \n",
    "Digital Earth Africa data is licensed under the [Creative Commons by Attribution 4.0](https://creativecommons.org/licenses/by/4.0/) license.\n",
    "\n",
    "**Contact:** If you need assistance, please post a question on the [Open Data Cube Slack channel](http://slack.opendatacube.org/) or on the [GIS Stack Exchange](https://gis.stackexchange.com/questions/ask?tags=open-data-cube) using the `open-data-cube` tag (you can view previously asked questions [here](https://gis.stackexchange.com/questions/tagged/open-data-cube)).\n",
    "If you would like to report an issue with this notebook, you can file one on [Github](https://github.com/digitalearthafrica/deafrica-sandbox-notebooks).\n",
    "\n",
    "**Compatible datacube version:**"
   ]
  },
  {
   "cell_type": "code",
   "execution_count": 5,
   "metadata": {},
   "outputs": [
    {
     "name": "stdout",
     "output_type": "stream",
     "text": [
      "1.8.12\n"
     ]
    }
   ],
   "source": [
    "print(datacube.__version__)"
   ]
  },
  {
   "cell_type": "markdown",
   "metadata": {},
   "source": [
    "**Last Tested:**"
   ]
  },
  {
   "cell_type": "code",
   "execution_count": 6,
   "metadata": {
    "raw_mimetype": "text/restructuredtext"
   },
   "outputs": [
    {
     "data": {
      "text/plain": [
       "'2023-05-03'"
      ]
     },
     "execution_count": 6,
     "metadata": {},
     "output_type": "execute_result"
    }
   ],
   "source": [
    "from datetime import datetime\n",
    "datetime.today().strftime('%Y-%m-%d')"
   ]
  }
 ],
 "metadata": {
  "kernelspec": {
   "display_name": "Python 3 (ipykernel)",
   "language": "python",
   "name": "python3"
  },
  "language_info": {
   "codemirror_mode": {
    "name": "ipython",
    "version": 3
   },
   "file_extension": ".py",
   "mimetype": "text/x-python",
   "name": "python",
   "nbconvert_exporter": "python",
   "pygments_lexer": "ipython3",
   "version": "3.10.6"
  },
  "widgets": {
   "application/vnd.jupyter.widget-state+json": {
    "state": {},
    "version_major": 2,
    "version_minor": 0
   }
  }
 },
 "nbformat": 4,
 "nbformat_minor": 4
}
