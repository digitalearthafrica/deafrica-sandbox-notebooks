{
 "cells": [
  {
   "cell_type": "markdown",
   "metadata": {},
   "source": [
    "# Combining satellite data with tidal modelling using OTPS <img align=\"right\" src=\"../Supplementary_data/DE_Africa_Logo_Stacked_RGB_small.jpg\">\n",
    "\n",
    "* **Products used:** \n",
    "[ls5_usgs_sr_scene](https://explorer.digitalearth.africa/ls5_usgs_sr_scene),\n",
    "[ls7_usgs_sr_scene](https://explorer.digitalearth.africa/ls7_usgs_sr_scene), \n",
    "[ls8_usgs_sr_scene](https://explorer.digitalearth.africa/ls8_usgs_sr_scene)"
   ]
  },
  {
   "cell_type": "markdown",
   "metadata": {},
   "source": [
    "## Background\n",
    "\n",
    "Ocean tides are the periodic rise and fall of the ocean caused by the gravitational pull of the moon and sun and the earth's rotation. \n",
    "Tides in coastal areas can greatly influence how these environments appear in satellite imagery as water levels vary by up to 12 metres.\n",
    "To be able to study environmental processes along Africa's coastline, it is vital to obtain data on tidal conditions at the exact moment each satellite image was acquired.\n",
    "\n",
    "## Description\n",
    "This notebooks demonstrates how to tidally tag remotely sensed imagery using functions from the [deafrica_coastaltools script](../Scripts/deafrica_coastaltools.py) so that images can be extracted or analysed by tidal stage (e.g. low, high, ebb, flow). \n",
    "These functions use the [OTPS TPXO8 tidal model](http://volkov.oce.orst.edu/tides/global.html) to calculate the height (relative to mean sea level) and stage of the tide at the exact moment each satellite image was acquired. \n",
    "\n",
    "The notebook demonstrates how to:\n",
    "\n",
    "1. Load an example time series of satellite data\n",
    "2. Use the `tidal_tag` function from `deafrica_coastaltools` to model tide heights for each satellite observation\n",
    "3. Use tide height data to produce median composites of the coast at low and high tide\n",
    "4. Swap a dataset's dimensions to compute a rolling median along the `tide_height` dimension\n",
    "5. Compute ebb or flow tide phase data to determine whether water levels were rising or falling in each satellite observation\n",
    "6. Use the `tidal_stats` function to evaluate any biases in the tidal conditions observed by a satellite\n",
    "\n",
    "***"
   ]
  },
  {
   "cell_type": "markdown",
   "metadata": {},
   "source": [
    "## Getting started\n",
    "To run this analysis, run all the cells in the notebook, starting with the \"Load packages\" cell. "
   ]
  },
  {
   "cell_type": "markdown",
   "metadata": {},
   "source": [
    "### Load packages\n"
   ]
  },
  {
   "cell_type": "code",
   "execution_count": 1,
   "metadata": {},
   "outputs": [
    {
     "name": "stderr",
     "output_type": "stream",
     "text": [
      "/env/lib/python3.6/site-packages/datacube/storage/masking.py:4: DeprecationWarning: datacube.storage.masking has moved to datacube.utils.masking\n",
      "  category=DeprecationWarning)\n"
     ]
    }
   ],
   "source": [
    "%matplotlib inline\n",
    "\n",
    "import sys\n",
    "import datacube\n",
    "import xarray as xr\n",
    "import matplotlib.pyplot as plt\n",
    "\n",
    "sys.path.append('../Scripts')\n",
    "from deafrica_plotting import rgb\n",
    "from deafrica_plotting import display_map\n",
    "from deafrica_datahandling import load_ard, mostcommon_crs\n",
    "from deafrica_coastaltools import tidal_tag\n",
    "from deafrica_coastaltools import tidal_stats\n"
   ]
  },
  {
   "cell_type": "markdown",
   "metadata": {},
   "source": [
    "### Connect to the datacube\n"
   ]
  },
  {
   "cell_type": "code",
   "execution_count": 2,
   "metadata": {},
   "outputs": [],
   "source": [
    "dc = datacube.Datacube(app='Tidal_modelling')\n"
   ]
  },
  {
   "cell_type": "markdown",
   "metadata": {},
   "source": [
    "### Set up data query\n",
    "\n",
    "First we set up a query to define the area, time period and other parameters required for loading data.\n",
    "In this example, we will load 30 years of Landsat 5, 7 and 8 data for the Geba River Estuary in southern Guinea-Bissau.\n",
    "We load the `'red', 'green', 'blue'` bands so that we can plot the data as true colour imagery.\n",
    "\n",
    "> **Note**: The `dask_chunks` parameter allows us to [use Dask to lazily load data rather than load data directly into memory](https://examples.dask.org/xarray.html), which can take a long time and large amounts of memory.\n",
    "Lazy loading can be a very useful approach for when you need to load large amounts of data without crashing your analysis.\n",
    "In coastal applications, it allows us to load (using either `.compute()` or by plotting our data) only a small subset of observations from our entire time series (e.g. only low or high tide observations) without having to load the entire dataset into memory first, which can greatly decrease processing times."
   ]
  },
  {
   "cell_type": "code",
   "execution_count": 3,
   "metadata": {},
   "outputs": [],
   "source": [
    "lat, lon = 11.689, -15.674\n",
    "buffer = 0.15\n",
    "\n",
    "# Create a reusable query\n",
    "query = {\n",
    "    'x': (lon-buffer, lon+buffer),\n",
    "    'y': (lat+buffer, lat-buffer),\n",
    "    'time': ('1988-01-01', '2018-12-31'),\n",
    "    'measurements': ['red', 'green', 'blue'],\n",
    "    'resolution': (-30, 30), \n",
    "    'dask_chunks': {}\n",
    "}"
   ]
  },
  {
   "cell_type": "markdown",
   "metadata": {},
   "source": [
    "We can preview the area that we will load data for:"
   ]
  },
  {
   "cell_type": "code",
   "execution_count": 4,
   "metadata": {},
   "outputs": [
    {
     "data": {
      "text/html": [
       "<div style=\"width:100%;\"><div style=\"position:relative;width:100%;height:0;padding-bottom:60%;\"><iframe src=\"data:text/html;charset=utf-8;base64,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\" style=\"position:absolute;width:100%;height:100%;left:0;top:0;border:none !important;\" allowfullscreen webkitallowfullscreen mozallowfullscreen></iframe></div></div>"
      ],
      "text/plain": [
       "<folium.folium.Map at 0x7f72e7786940>"
      ]
     },
     "execution_count": 4,
     "metadata": {},
     "output_type": "execute_result"
    }
   ],
   "source": [
    "display_map(x=query['x'], y=query['y'])\n"
   ]
  },
  {
   "cell_type": "markdown",
   "metadata": {},
   "source": [
    "## Load satellite time-series\n",
    "\n",
    "To obtain some satellite data to analyse, we use the `load_ard` import a time series of Landsat 5, 7 and 8 observations as an `xarray.Dataset`.\n",
    "The input data does not need to be from Landsat: any remotely-sensed imagery with timestamps and spatial coordinates provide enough data to run the tidal model. "
   ]
  },
  {
   "cell_type": "code",
   "execution_count": 5,
   "metadata": {},
   "outputs": [
    {
     "name": "stdout",
     "output_type": "stream",
     "text": [
      "Using pixel quality parameters for USGS Collection 1\n",
      "Finding datasets\n",
      "    ls5_usgs_sr_scene\n",
      "    ls7_usgs_sr_scene\n",
      "    Ignoring SLC-off observations for ls7\n",
      "    ls8_usgs_sr_scene\n",
      "Applying pixel quality/cloud mask\n",
      "Returning 210 time steps as a dask array\n",
      "<xarray.Dataset>\n",
      "Dimensions:      (time: 210, x: 1093, y: 1109)\n",
      "Coordinates:\n",
      "  * y            (y) float64 1.309e+06 1.309e+06 ... 1.276e+06 1.276e+06\n",
      "    spatial_ref  int32 0\n",
      "  * x            (x) float64 4.102e+05 4.102e+05 ... 4.429e+05 4.429e+05\n",
      "  * time         (time) datetime64[ns] 1988-07-17T10:52:47.658038 ... 2018-12-27T11:21:57.806437\n",
      "Data variables:\n",
      "    red          (time, y, x) float32 dask.array<chunksize=(1, 1109, 1093), meta=np.ndarray>\n",
      "    green        (time, y, x) float32 dask.array<chunksize=(1, 1109, 1093), meta=np.ndarray>\n",
      "    blue         (time, y, x) float32 dask.array<chunksize=(1, 1109, 1093), meta=np.ndarray>\n",
      "Attributes:\n",
      "    crs:           epsg:32628\n",
      "    grid_mapping:  spatial_ref\n"
     ]
    }
   ],
   "source": [
    "# Identify the most common projection system in the input query\n",
    "output_crs = mostcommon_crs(dc=dc, product='ls8_usgs_sr_scene', query=query)\n",
    "\n",
    "# Load available data from all three Landsat satellites\n",
    "ds = load_ard(dc=dc, \n",
    "              products=['ls5_usgs_sr_scene', 'ls7_usgs_sr_scene', 'ls8_usgs_sr_scene'],\n",
    "              output_crs=output_crs,\n",
    "              align=(15, 15),\n",
    "              ls7_slc_off=False,\n",
    "              group_by='solar_day',\n",
    "              **query)\n",
    "\n",
    "# Print output data\n",
    "print(ds)\n"
   ]
  },
  {
   "cell_type": "markdown",
   "metadata": {},
   "source": [
    "## Model tide heights for each observation\n",
    "\n",
    "We use the `tidal_tag` function from `deafrica_coastaltools` to associate each satellite observation in our timeseries with a tide height relative to mean sea level.\n",
    "This function uses the time and date of acquisition and the geographic location of each satellite observation as inputs to the OSU Tidal Prediction Software (OTPS) tidal model.\n",
    "From [Sagar et al. 2015](https://www.sciencedirect.com/science/article/pii/S0034425717301591):\n",
    "\n",
    "> **Note**: The **OTPS TPX08** tidal model consists of a multi-resolution bathymetric grid solution, with a 1/6° solution in the global open ocean, and a 1/30° local resolution solution to improve modelling in complex shallow water environments. The OTPS model is based on a system of linear partial differential equations, called Laplace's tidal equations, parametrised with nine harmonic tidal constituents. The model is fitted to track-averaged TOPEX/Poseidon altimeter data collected from 1992 to 2016 and Jason-1 (Poseidon 2) altimeter data from 2002 to 2013, enabling estimation of the tidal height and harmonic constituents at discrete temporal epochs and spatial locations."
   ]
  },
  {
   "cell_type": "code",
   "execution_count": 6,
   "metadata": {},
   "outputs": [
    {
     "name": "stdout",
     "output_type": "stream",
     "text": [
      "Setting tide modelling location from dataset centroid: -15.67, 11.69\n",
      "<xarray.Dataset>\n",
      "Dimensions:      (time: 210, x: 1093, y: 1109)\n",
      "Coordinates:\n",
      "  * y            (y) float64 1.309e+06 1.309e+06 ... 1.276e+06 1.276e+06\n",
      "    spatial_ref  int32 0\n",
      "  * x            (x) float64 4.102e+05 4.102e+05 ... 4.429e+05 4.429e+05\n",
      "  * time         (time) datetime64[ns] 1988-07-17T10:52:47.658038 ... 2018-12-27T11:21:57.806437\n",
      "Data variables:\n",
      "    red          (time, y, x) float32 dask.array<chunksize=(1, 1109, 1093), meta=np.ndarray>\n",
      "    green        (time, y, x) float32 dask.array<chunksize=(1, 1109, 1093), meta=np.ndarray>\n",
      "    blue         (time, y, x) float32 dask.array<chunksize=(1, 1109, 1093), meta=np.ndarray>\n",
      "    tide_height  (time) float64 -0.194 0.168 0.334 0.805 ... 0.535 -0.217 -0.821\n",
      "Attributes:\n",
      "    crs:           epsg:32628\n",
      "    grid_mapping:  spatial_ref\n"
     ]
    }
   ],
   "source": [
    "# Model tide heights\n",
    "ds_tidal = tidal_tag(ds)\n",
    "\n",
    "# Print output data\n",
    "print(ds_tidal)\n"
   ]
  },
  {
   "cell_type": "markdown",
   "metadata": {},
   "source": [
    "The function will automatically select a tide modelling location based on the dataset centroid.\n",
    "It will then output modelled tide heights as a new `tide_height` variable in the `xarray.Dataset` (the variable should appear under `Data variables` above).\n",
    "\n",
    "We can easily plot this new variable to inspect the range of tide heights observed by the satellites in our timeseries.\n",
    "In this example, our observed tide heights range from approximately -1.0 to 1.0 m relative to Mean Sea Level:"
   ]
  },
  {
   "cell_type": "code",
   "execution_count": 7,
   "metadata": {},
   "outputs": [
    {
     "data": {
      "text/plain": [
       "[<matplotlib.lines.Line2D at 0x7f72e71a9b38>]"
      ]
     },
     "execution_count": 7,
     "metadata": {},
     "output_type": "execute_result"
    },
    {
     "data": {
      "image/png": "[encoded data removed]",
      "text/plain": [
       "<Figure size 432x288 with 1 Axes>"
      ]
     },
     "metadata": {
      "needs_background": "light"
     },
     "output_type": "display_data"
    }
   ],
   "source": [
    "ds_tidal.tide_height.plot(linewidth=0.5)\n"
   ]
  },
  {
   "cell_type": "markdown",
   "metadata": {},
   "source": [
    "### Example tide height analysis\n",
    "To demonstrate how tidally tagged images can be used to produce composites of high and low tide \n",
    "imagery, we can compute the lowest 5% and highest 5% percent of tide heights, and use these to filter our observations. \n",
    "We can then combine and plot these filtered observations to visualise what the landscape looks like at low and high tide:\n",
    "\n",
    "> **Note**: An alternative approach to combining observations into a composite can be achieved using a geomedian, which ensures band relationships are kept consistent. \n",
    "More information is provided in the [Generating geomedian composites notebook](Generating_geomedian_composites.ipynb)."
   ]
  },
  {
   "cell_type": "code",
   "execution_count": null,
   "metadata": {},
   "outputs": [],
   "source": [
    "# Calculate the lowest and highest 5% of tides\n",
    "lowest_5, highest_5 = ds_tidal.tide_height.quantile([0.05, 0.95]).values\n",
    "\n",
    "# Filter our data to low and high tide observations\n",
    "filtered_low = ds_tidal.where(ds_tidal.tide_height <= lowest_5, drop=True)\n",
    "filtered_high = ds_tidal.where(ds_tidal.tide_height >= highest_5, drop=True)\n",
    "\n",
    "# Take the simple median of each set of low and high tide observations to \n",
    "# produce a composite (alternatively, observations could be combined \n",
    "# using a geomedian to keep band relationships consistent)\n",
    "median_low = filtered_low.median(dim='time', keep_attrs=True)\n",
    "median_high = filtered_high.median(dim='time', keep_attrs=True)\n",
    "\n",
    "# Combine low and high tide medians into a single dataset and give \n",
    "# each layer a meaningful name\n",
    "ds_highlow = xr.concat([median_low, median_high], dim='tide_height')\n",
    "ds_highlow['tide_height'] = ['Low tide', 'High tide']\n",
    "\n",
    "# Plot low and high tide medians side-by-side\n",
    "rgb(ds_highlow, col='tide_height')\n"
   ]
  },
  {
   "cell_type": "markdown",
   "metadata": {},
   "source": [
    "### Swapping dimensions\n",
    "\n",
    "The `tidal_tag` function allows you to use tide heights as the primary dimension in the dataset, rather than time.\n",
    "Setting `swap_dims=True` will swap the `time` dimension in the original `xarray.Dataset` to the new `tide_height` variable."
   ]
  },
  {
   "cell_type": "code",
   "execution_count": null,
   "metadata": {},
   "outputs": [],
   "source": [
    "# Model tide heights\n",
    "ds_tidal = tidal_tag(ds, swap_dims=True)\n",
    "\n",
    "# Print output data\n",
    "print(ds_tidal)\n"
   ]
  },
  {
   "cell_type": "markdown",
   "metadata": {},
   "source": [
    "The dataset now contains three dimensions: `tide_height`, `x` and `y`.<br/>\n",
    "This can make it easier to analyse the data with respect to tide, e.g. computing a rolling median by tide height (e.g. along the `tide_height` dimension):"
   ]
  },
  {
   "cell_type": "code",
   "execution_count": null,
   "metadata": {},
   "outputs": [],
   "source": [
    "# First we need to update the chunks used by Dask to allow us to do a \n",
    "# rolling median without having to load all our data into memory first\n",
    "ds_rechunked = ds_tidal.chunk(chunks={'tide_height': 15})\n",
    "\n",
    "# Compute a rolling median that will go through every satellite \n",
    "# observation, and take the median of that timestep and its 15 neighbours\n",
    "ds_rolling = ds_rechunked.rolling(tide_height=15, \n",
    "                                  center=True, \n",
    "                                  min_periods=1).median()\n",
    "\n",
    "# Plot the lowest, 200th and highest tide rolling median image\n",
    "rgb(ds_rolling, index_dim='tide_height', index=[0, 200, -1])\n"
   ]
  },
  {
   "cell_type": "markdown",
   "metadata": {},
   "source": [
    "## Modelling ebb and flow tidal phases\n",
    "\n",
    "The `tidal_tag` function also allows us to determine whether each satellite observation was taken while the tide was rising/incoming (flow tide) or falling/outgoing (ebb tide) by setting `ebb_flow=True`.\n",
    "This is achieved by comparing tide heights 15 minutes before the before and after the observed satellite observation.\n",
    "\n",
    "Ebb and flow data can provide valuable contextual information for interpreting satellite imagery, particularly in tidal flat or mangrove forest environments where water may remain in the landscape for considerable time after the tidal peak."
   ]
  },
  {
   "cell_type": "code",
   "execution_count": null,
   "metadata": {},
   "outputs": [],
   "source": [
    "# Model tide heights\n",
    "ds_tidal = tidal_tag(ds, ebb_flow=True)\n",
    "\n",
    "# Print output data\n",
    "print(ds_tidal)\n"
   ]
  },
  {
   "cell_type": "markdown",
   "metadata": {},
   "source": [
    "We now have data giving us the both the tide height and tidal phase ('ebb' or 'flow') for every satellite image:"
   ]
  },
  {
   "cell_type": "code",
   "execution_count": null,
   "metadata": {},
   "outputs": [],
   "source": [
    "ds_tidal[['time', 'tide_height', 'ebb_flow']].to_dataframe()\n"
   ]
  },
  {
   "cell_type": "markdown",
   "metadata": {},
   "source": [
    "We could for example use this data to filter our observations to keep ebbing phase observations only:"
   ]
  },
  {
   "cell_type": "code",
   "execution_count": null,
   "metadata": {},
   "outputs": [],
   "source": [
    "ds_tidal.where(ds_tidal.ebb_flow == 'Ebb', drop=True)\n"
   ]
  },
  {
   "cell_type": "markdown",
   "metadata": {},
   "source": [
    "## Evaluating observed vs. all modelled tide heights\n",
    "\n",
    "The complex behaviour of tides mean that a sun synchronous sensor like Landsat [does not observe the full range of the tidal cycle at all locations](https://www.sciencedirect.com/science/article/pii/S0272771418308783#sec3).\n",
    "Biases in the proportion of the tidal range observed by satellites can prevent us from obtaining data on areas of the coastline exposed or inundated at the extremes of the\n",
    "tidal range. \n",
    "This can risk gaining misleading insights into the true extent of the area of the coastline affected by tides, and make it difficult to compare high or low tide images fairly in different locations.\n",
    "\n",
    "The `tidal_stats` function can assist in evaluating how the range of tides observed by satellites compare to the full tidal range.\n",
    "It works by using the OTPS tidal model to model tide heights at a regular interval (every two hours by default) across the entire time period covered by the input satelliter timeseries dataset.\n",
    "This is then compared against the tide heights in observed by the satellite and used to calculate a range of statistics and a plot that summarises potential biases in the data.\n",
    "\n",
    "> **Note**: For a more detailed discussion of the issue of tidal bias in sun-synchronous satellite observations of the coastline, refer to the ['Limitations and future work' section in Bishop-Taylor et al. 2018](https://www.sciencedirect.com/science/article/pii/S0272771418308783#sec3).\n"
   ]
  },
  {
   "cell_type": "code",
   "execution_count": null,
   "metadata": {},
   "outputs": [],
   "source": [
    "out_stats = tidal_stats(ds)\n"
   ]
  },
  {
   "cell_type": "markdown",
   "metadata": {},
   "source": [
    "The function also outputs a `pandas.Series` object containing a set of statistics that compare the observed vs. full modelled tidal ranges.\n",
    "These statistics include: \n",
    "\n",
    "* **tidepost_lat:** latitude used for modelling tide heights\n",
    "* **tidepost_lon:** longitude used for modelling tide heights\n",
    "* **observed_min_m:** minimum tide height observed by the satellite (in metre units)\n",
    "* **all_min_m:** minimum tide height from full modelled tidal range (in metre units)\n",
    "* **observed_max_m:** maximum tide height observed by the satellite (in metre units)\n",
    "* **all_max_m:** maximum tide height from full modelled tidal range (in metre units)\n",
    "* **observed_range_m:** tidal range observed by the satellite (in metre units)\n",
    "* **all_range_m:** full modelled tidal range (in metre units)\n",
    "* **spread_m:** proportion of the full modelled tidal range observed by the satellite (see Bishop-Taylor et al. 2018)\n",
    "* **low_tide_offset:** proportion of the lowest tides never observed by the satellite (see Bishop-Taylor et al. 2018)\n",
    "* **high_tide_offset:** proportion of the highest tides never observed by the satellite (see Bishop-Taylor et al. 2018)\n",
    "* **observed_slope:** slope of any relationship between observed tide heights and time\n",
    "* **all_slope:** slope of any relationship between all modelled tide heights and time\n",
    "* **observed_pval:** significance/p-value of any relationship between observed tide heights and time\n",
    "* **all_pval:** significance/p-value of any relationship between all modelled tide heights and time"
   ]
  },
  {
   "cell_type": "code",
   "execution_count": null,
   "metadata": {},
   "outputs": [],
   "source": [
    "print(out_stats)\n"
   ]
  },
  {
   "cell_type": "markdown",
   "metadata": {},
   "source": [
    "***\n",
    "\n",
    "## Additional information\n",
    "\n",
    "**License:** The code in this notebook is licensed under the [Apache License, Version 2.0](https://www.apache.org/licenses/LICENSE-2.0). \n",
    "Digital Earth Africa data is licensed under the [Creative Commons by Attribution 4.0](https://creativecommons.org/licenses/by/4.0/) license.\n",
    "\n",
    "**Contact:** If you need assistance, please post a question on the [Open Data Cube Slack channel](http://slack.opendatacube.org/) or on the [GIS Stack Exchange](https://gis.stackexchange.com/questions/ask?tags=open-data-cube) using the `open-data-cube` tag (you can view previously asked questions [here](https://gis.stackexchange.com/questions/tagged/open-data-cube)).\n",
    "If you would like to report an issue with this notebook, you can file one on [Github](https://github.com/digitalearthafrica/deafrica-sandbox-notebooks).\n",
    "\n",
    "**Last modified:** May 2020\n",
    "\n",
    "**Compatible datacube version:** "
   ]
  },
  {
   "cell_type": "code",
   "execution_count": null,
   "metadata": {},
   "outputs": [],
   "source": [
    "print(datacube.__version__)"
   ]
  },
  {
   "cell_type": "markdown",
   "metadata": {},
   "source": [
    "## Tags\n",
    "Browse all available tags on the DE Africa User Guide's [Tags Index](https://) (placeholder as this does not exist yet)"
   ]
  },
  {
   "cell_type": "raw",
   "metadata": {
    "raw_mimetype": "text/restructuredtext"
   },
   "source": [
    "**Tags**: :index:`sandbox compatible`, :index:`NCI compatible`, :index:`landsat 5`, :index:`landsat 7`, :index:`landsat 8`, :index:`deafrica_coastaltools`, :index:`deafrica_datahandling`, :index:`deafrica_plotting`, :index:`display_map`, :index:`load_ard`, :index:`rgb`, :index:`tidal_tag`, :index:`tidal_stats`, :index:`tide modelling`, :index:`intertidal`, :index:`Dask`, :index:`rolling window`"
   ]
  }
 ],
 "metadata": {
  "kernelspec": {
   "display_name": "Python 3",
   "language": "python",
   "name": "python3"
  },
  "language_info": {
   "codemirror_mode": {
    "name": "ipython",
    "version": 3
   },
   "file_extension": ".py",
   "mimetype": "text/x-python",
   "name": "python",
   "nbconvert_exporter": "python",
   "pygments_lexer": "ipython3",
   "version": "3.6.9"
  },
  "widgets": {
   "application/vnd.jupyter.widget-state+json": {
    "state": {
     "2c8a81120af748b7845db6560cc2a692": {
      "model_module": "jupyter-leaflet",
      "model_module_version": "^0.11.1",
      "model_name": "LeafletZoomControlModel",
      "state": {
       "_model_module_version": "^0.11.1",
       "_view_count": null,
       "_view_module_version": "^0.11.1",
       "options": [
        "position",
        "zoom_in_text",
        "zoom_in_title",
        "zoom_out_text",
        "zoom_out_title"
       ]
      }
     },
     "83c10628e5ea411da762bb1ab4c41f29": {
      "model_module": "jupyter-leaflet",
      "model_module_version": "^0.11.1",
      "model_name": "LeafletAttributionControlModel",
      "state": {
       "_model_module_version": "^0.11.1",
       "_view_count": null,
       "_view_module_version": "^0.11.1",
       "options": [
        "position",
        "prefix"
       ],
       "position": "bottomright",
       "prefix": "Leaflet"
      }
     }
    },
    "version_major": 2,
    "version_minor": 0
   }
  }
 },
 "nbformat": 4,
 "nbformat_minor": 4
}
