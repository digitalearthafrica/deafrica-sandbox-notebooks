{
 "cells": [
  {
   "cell_type": "markdown",
   "metadata": {},
   "source": [
    "# Using `load_ard` to load and cloud mask multiple satellite sensors <img align=\"right\" src=\"../Supplementary_data/DE_Africa_Logo_Stacked_RGB_small.jpg\">\n",
    "\n",
    "* **Products Used:**\n",
    "[ls8_usgs_sr_scene](https://explorer.digitalearth.africa/ls8_usgs_sr_scene),\n",
    "[ls7_usgs_sr_scene](https://explorer.digitalearth.africa/ls7_usgs_sr_scene),\n",
    "[ls5_usgs_sr_scene](https://explorer.digitalearth.africa/ls5_usgs_sr_scene),\n",
    "[s2_l2a](https://explorer.digitalearth.africa/s2a_l2a)"
   ]
  },
  {
   "cell_type": "markdown",
   "metadata": {},
   "source": [
    "### Description\n",
    "This notebook demonstrates how to use the `load_ard` function to import a time series of cloud-free observations over Africa from multiple Landsat satellites (i.e. Landsat 5, 7 and 8) and Sentinel-2 satellites (i.e. Sentinel-2A and Sentinel-2B).\n",
    "The function automatically applies cloud masking to the input data and returns all available data from multiple sensors as a single combined `xarray.Dataset`.\n",
    "\n",
    "Optionally, the function can be used to return only observations that contain a minimum proportion of good quality non-cloudy or shadowed pixels.\n",
    "This can be used to extract visually appealing time series of observations that are not affected by cloud.\n",
    "\n",
    "The `load_ard` function currently supports the following products: \n",
    "\n",
    "* USGS Collection 1: `ls8_usgs_sr_scene`, `ls7_usgs_sr_scene`, `ls5_usgs_sr_scene`\n",
    "* USGS Collection 2: `usgs_ls8c_level2_2` (provisional, can only load on admin Sandbox)\n",
    "* Sentinel 2: `s2_l2a`\n",
    "\n",
    "\n",
    "This notebook demonstrates how to use `load_ard` to\n",
    "1. Load and combine Landsat 5, 7 and 8 data into a single `xarray.Dataset`\n",
    "2. Optionally apply a cloud mask to the resulting data\n",
    "3. Filter resulting data to keep only cloud-free observations\n",
    "4. Filter data before loading using a custom function\n",
    "5. Load Sentinel-2 data\n",
    "6. Lazily load data using Dask"
   ]
  },
  {
   "cell_type": "markdown",
   "metadata": {},
   "source": [
    "## Getting started\n",
    "To run this analysis, run all the cells in the notebook, starting with the \"Load packages\" cell. "
   ]
  },
  {
   "cell_type": "markdown",
   "metadata": {},
   "source": [
    "### Load packages\n"
   ]
  },
  {
   "cell_type": "code",
   "execution_count": 1,
   "metadata": {},
   "outputs": [],
   "source": [
    "%matplotlib inline\n",
    "\n",
    "import datacube\n",
    "import matplotlib.pyplot as plt\n",
    "import datacube.utils.rio\n",
    "import sys\n",
    "\n",
    "sys.path.append('../Scripts')\n",
    "from deafrica_datahandling import load_ard\n",
    "from deafrica_plotting import rgb\n",
    "\n",
    "#This will speed up loading data\n",
    "datacube.utils.rio.set_default_rio_config(aws='auto', cloud_defaults=True)\n"
   ]
  },
  {
   "cell_type": "markdown",
   "metadata": {},
   "source": [
    "### Connect to the datacube\n"
   ]
  },
  {
   "cell_type": "code",
   "execution_count": 2,
   "metadata": {},
   "outputs": [],
   "source": [
    "# Connect to datacube \n",
    "dc = datacube.Datacube(app='Using_load_ard')"
   ]
  },
  {
   "cell_type": "markdown",
   "metadata": {},
   "source": [
    "## Loading multiple Landsat sensors\n",
    "The `load_ard` function can be used to load a single, combined timeseries of cloud-masked data from multiple Landsat satellites. \n",
    "At its simplest, you can use the function similarly to `dc.load` by passing a set of spatiotemporal query parameters (e.g. `x`, `y`, `time`, `measurements`, `output_crs`, `resolution`, `group_by` etc) directly into the function ([see the dc.load documentation for all possible options](https://datacube-core.readthedocs.io/en/latest/dev/api/generate/datacube.Datacube.load.html)). \n",
    "The key difference from `dc.load` is that the function also requires an existing `Datacube` object, which is passed using the `dc` parameter. \n",
    "This gives us the flexibilty to load data from development or experimental datacubes.\n",
    "\n",
    "In the examples below, we load three bands of data (`red`, `green`, `blue`) from the three USGS Collection 1 products (Landsat 5, 7 and 8) by specifying:\n",
    "\n",
    "`products=['ls5_usgs_sr_scene', 'ls7_usgs_sr_scene', 'ls8_usgs_sr_scene']`\n",
    "\n",
    "The function always outputs the number of observations for each product, and the total number loaded.\n",
    "\n",
    "### Explicit syntax\n",
    "The following example demonstrates how key parameters can be passed directly to `load_ard`."
   ]
  },
  {
   "cell_type": "code",
   "execution_count": 3,
   "metadata": {},
   "outputs": [
    {
     "name": "stdout",
     "output_type": "stream",
     "text": [
      "Using pixel quality parameters for USGS Collection 1\n",
      "Finding datasets\n",
      "    ls5_usgs_sr_scenels7_usgs_sr_scenels8_usgs_sr_scene\n"
     ]
    },
    {
     "ename": "ValueError",
     "evalue": "No products match search terms: {'time': Range(begin=datetime.datetime(2018, 6, 1, 0, 0, tzinfo=<UTC>), end=datetime.datetime(2018, 8, 31, 23, 59, 59, 999999, tzinfo=tzutc())), 'lat': Range(begin=13.675, end=13.8), 'lon': Range(begin=-16.6, end=-16.45), 'product': 'ls5_usgs_sr_scenels7_usgs_sr_scenels8_usgs_sr_scene'}",
     "output_type": "error",
     "traceback": [
      "\u001b[0;31m---------------------------------------------------------------------------\u001b[0m",
      "\u001b[0;31mValueError\u001b[0m                                Traceback (most recent call last)",
      "\u001b[0;32m<ipython-input-3-518d09eb3cd9>\u001b[0m in \u001b[0;36m<module>\u001b[0;34m\u001b[0m\n\u001b[1;32m      9\u001b[0m               \u001b[0moutput_crs\u001b[0m\u001b[0;34m=\u001b[0m\u001b[0;34m'epsg:6933'\u001b[0m\u001b[0;34m,\u001b[0m\u001b[0;34m\u001b[0m\u001b[0;34m\u001b[0m\u001b[0m\n\u001b[1;32m     10\u001b[0m               \u001b[0mresolution\u001b[0m\u001b[0;34m=\u001b[0m\u001b[0;34m(\u001b[0m\u001b[0;34m-\u001b[0m\u001b[0;36m30\u001b[0m\u001b[0;34m,\u001b[0m \u001b[0;36m30\u001b[0m\u001b[0;34m)\u001b[0m\u001b[0;34m,\u001b[0m\u001b[0;34m\u001b[0m\u001b[0;34m\u001b[0m\u001b[0m\n\u001b[0;32m---> 11\u001b[0;31m               group_by='solar_day')\n\u001b[0m\u001b[1;32m     12\u001b[0m \u001b[0;34m\u001b[0m\u001b[0m\n\u001b[1;32m     13\u001b[0m \u001b[0mds\u001b[0m\u001b[0;34m\u001b[0m\u001b[0;34m\u001b[0m\u001b[0m\n",
      "\u001b[0;32m~/git/deafrica-sandbox-notebooks/Scripts/deafrica_datahandling.py\u001b[0m in \u001b[0;36mload_ard\u001b[0;34m(dc, products, min_gooddata, pq_categories_s2, pq_categories_ls, mask_pixel_quality, ls7_slc_off, predicate, dtype, scaling, **kwargs)\u001b[0m\n\u001b[1;32m    316\u001b[0m         \u001b[0;31m# Obtain list of datasets for product\u001b[0m\u001b[0;34m\u001b[0m\u001b[0;34m\u001b[0m\u001b[0;34m\u001b[0m\u001b[0m\n\u001b[1;32m    317\u001b[0m         \u001b[0mprint\u001b[0m\u001b[0;34m(\u001b[0m\u001b[0;34mf'    {product}'\u001b[0m\u001b[0;34m)\u001b[0m\u001b[0;34m\u001b[0m\u001b[0;34m\u001b[0m\u001b[0m\n\u001b[0;32m--> 318\u001b[0;31m         \u001b[0mdatasets\u001b[0m \u001b[0;34m=\u001b[0m \u001b[0mdc\u001b[0m\u001b[0;34m.\u001b[0m\u001b[0mfind_datasets\u001b[0m\u001b[0;34m(\u001b[0m\u001b[0mproduct\u001b[0m\u001b[0;34m=\u001b[0m\u001b[0mproduct\u001b[0m\u001b[0;34m,\u001b[0m \u001b[0;34m**\u001b[0m\u001b[0mquery\u001b[0m\u001b[0;34m)\u001b[0m\u001b[0;34m\u001b[0m\u001b[0;34m\u001b[0m\u001b[0m\n\u001b[0m\u001b[1;32m    319\u001b[0m \u001b[0;34m\u001b[0m\u001b[0m\n\u001b[1;32m    320\u001b[0m         \u001b[0;31m# Remove Landsat 7 SLC-off observations if ls7_slc_off=False\u001b[0m\u001b[0;34m\u001b[0m\u001b[0;34m\u001b[0m\u001b[0;34m\u001b[0m\u001b[0m\n",
      "\u001b[0;32m/env/lib/python3.6/site-packages/datacube/api/core.py\u001b[0m in \u001b[0;36mfind_datasets\u001b[0;34m(self, **search_terms)\u001b[0m\n\u001b[1;32m    329\u001b[0m         \u001b[0;34m.\u001b[0m\u001b[0;34m.\u001b[0m \u001b[0mseealso\u001b[0m\u001b[0;34m:\u001b[0m\u001b[0;34m:\u001b[0m \u001b[0;34m:\u001b[0m\u001b[0mmeth\u001b[0m\u001b[0;34m:\u001b[0m\u001b[0;31m`\u001b[0m\u001b[0mgroup_datasets\u001b[0m\u001b[0;31m`\u001b[0m \u001b[0;34m:\u001b[0m\u001b[0mmeth\u001b[0m\u001b[0;34m:\u001b[0m\u001b[0;31m`\u001b[0m\u001b[0mload_data\u001b[0m\u001b[0;31m`\u001b[0m \u001b[0;34m:\u001b[0m\u001b[0mmeth\u001b[0m\u001b[0;34m:\u001b[0m\u001b[0;31m`\u001b[0m\u001b[0mfind_datasets_lazy\u001b[0m\u001b[0;31m`\u001b[0m\u001b[0;34m\u001b[0m\u001b[0;34m\u001b[0m\u001b[0m\n\u001b[1;32m    330\u001b[0m         \"\"\"\n\u001b[0;32m--> 331\u001b[0;31m         \u001b[0;32mreturn\u001b[0m \u001b[0mlist\u001b[0m\u001b[0;34m(\u001b[0m\u001b[0mself\u001b[0m\u001b[0;34m.\u001b[0m\u001b[0mfind_datasets_lazy\u001b[0m\u001b[0;34m(\u001b[0m\u001b[0;34m**\u001b[0m\u001b[0msearch_terms\u001b[0m\u001b[0;34m)\u001b[0m\u001b[0;34m)\u001b[0m\u001b[0;34m\u001b[0m\u001b[0;34m\u001b[0m\u001b[0m\n\u001b[0m\u001b[1;32m    332\u001b[0m \u001b[0;34m\u001b[0m\u001b[0m\n\u001b[1;32m    333\u001b[0m     \u001b[0;32mdef\u001b[0m \u001b[0mfind_datasets_lazy\u001b[0m\u001b[0;34m(\u001b[0m\u001b[0mself\u001b[0m\u001b[0;34m,\u001b[0m \u001b[0mlimit\u001b[0m\u001b[0;34m=\u001b[0m\u001b[0;32mNone\u001b[0m\u001b[0;34m,\u001b[0m \u001b[0mensure_location\u001b[0m\u001b[0;34m=\u001b[0m\u001b[0;32mFalse\u001b[0m\u001b[0;34m,\u001b[0m \u001b[0;34m**\u001b[0m\u001b[0mkwargs\u001b[0m\u001b[0;34m)\u001b[0m\u001b[0;34m:\u001b[0m\u001b[0;34m\u001b[0m\u001b[0;34m\u001b[0m\u001b[0m\n",
      "\u001b[0;32m/env/lib/python3.6/site-packages/datacube/api/core.py\u001b[0m in \u001b[0;36mselect_datasets_inside_polygon\u001b[0;34m(datasets, polygon)\u001b[0m\n\u001b[1;32m    681\u001b[0m     \u001b[0;32massert\u001b[0m \u001b[0mpolygon\u001b[0m \u001b[0;32mis\u001b[0m \u001b[0;32mnot\u001b[0m \u001b[0;32mNone\u001b[0m\u001b[0;34m\u001b[0m\u001b[0;34m\u001b[0m\u001b[0m\n\u001b[1;32m    682\u001b[0m     \u001b[0mquery_crs\u001b[0m \u001b[0;34m=\u001b[0m \u001b[0mpolygon\u001b[0m\u001b[0;34m.\u001b[0m\u001b[0mcrs\u001b[0m\u001b[0;34m\u001b[0m\u001b[0;34m\u001b[0m\u001b[0m\n\u001b[0;32m--> 683\u001b[0;31m     \u001b[0;32mfor\u001b[0m \u001b[0mdataset\u001b[0m \u001b[0;32min\u001b[0m \u001b[0mdatasets\u001b[0m\u001b[0;34m:\u001b[0m\u001b[0;34m\u001b[0m\u001b[0;34m\u001b[0m\u001b[0m\n\u001b[0m\u001b[1;32m    684\u001b[0m         \u001b[0;32mif\u001b[0m \u001b[0mintersects\u001b[0m\u001b[0;34m(\u001b[0m\u001b[0mpolygon\u001b[0m\u001b[0;34m,\u001b[0m \u001b[0mdataset\u001b[0m\u001b[0;34m.\u001b[0m\u001b[0mextent\u001b[0m\u001b[0;34m.\u001b[0m\u001b[0mto_crs\u001b[0m\u001b[0;34m(\u001b[0m\u001b[0mquery_crs\u001b[0m\u001b[0;34m)\u001b[0m\u001b[0;34m)\u001b[0m\u001b[0;34m:\u001b[0m\u001b[0;34m\u001b[0m\u001b[0;34m\u001b[0m\u001b[0m\n\u001b[1;32m    685\u001b[0m             \u001b[0;32myield\u001b[0m \u001b[0mdataset\u001b[0m\u001b[0;34m\u001b[0m\u001b[0;34m\u001b[0m\u001b[0m\n",
      "\u001b[0;32m/env/lib/python3.6/site-packages/datacube/index/_datasets.py\u001b[0m in \u001b[0;36msearch\u001b[0;34m(self, limit, **query)\u001b[0m\n\u001b[1;32m    503\u001b[0m         for product, datasets in self._do_search_by_product(query,\n\u001b[1;32m    504\u001b[0m                                                             \u001b[0msource_filter\u001b[0m\u001b[0;34m=\u001b[0m\u001b[0msource_filter\u001b[0m\u001b[0;34m,\u001b[0m\u001b[0;34m\u001b[0m\u001b[0;34m\u001b[0m\u001b[0m\n\u001b[0;32m--> 505\u001b[0;31m                                                             limit=limit):\n\u001b[0m\u001b[1;32m    506\u001b[0m             \u001b[0;32myield\u001b[0m \u001b[0;32mfrom\u001b[0m \u001b[0mself\u001b[0m\u001b[0;34m.\u001b[0m\u001b[0m_make_many\u001b[0m\u001b[0;34m(\u001b[0m\u001b[0mdatasets\u001b[0m\u001b[0;34m,\u001b[0m \u001b[0mproduct\u001b[0m\u001b[0;34m)\u001b[0m\u001b[0;34m\u001b[0m\u001b[0;34m\u001b[0m\u001b[0m\n\u001b[1;32m    507\u001b[0m \u001b[0;34m\u001b[0m\u001b[0m\n",
      "\u001b[0;32m/env/lib/python3.6/site-packages/datacube/index/_datasets.py\u001b[0m in \u001b[0;36m_do_search_by_product\u001b[0;34m(self, query, return_fields, select_field_names, with_source_ids, source_filter, limit)\u001b[0m\n\u001b[1;32m    626\u001b[0m         \u001b[0mproduct_queries\u001b[0m \u001b[0;34m=\u001b[0m \u001b[0mlist\u001b[0m\u001b[0;34m(\u001b[0m\u001b[0mself\u001b[0m\u001b[0;34m.\u001b[0m\u001b[0m_get_product_queries\u001b[0m\u001b[0;34m(\u001b[0m\u001b[0mquery\u001b[0m\u001b[0;34m)\u001b[0m\u001b[0;34m)\u001b[0m\u001b[0;34m\u001b[0m\u001b[0;34m\u001b[0m\u001b[0m\n\u001b[1;32m    627\u001b[0m         \u001b[0;32mif\u001b[0m \u001b[0;32mnot\u001b[0m \u001b[0mproduct_queries\u001b[0m\u001b[0;34m:\u001b[0m\u001b[0;34m\u001b[0m\u001b[0;34m\u001b[0m\u001b[0m\n\u001b[0;32m--> 628\u001b[0;31m             \u001b[0;32mraise\u001b[0m \u001b[0mValueError\u001b[0m\u001b[0;34m(\u001b[0m\u001b[0;34m'No products match search terms: %r'\u001b[0m \u001b[0;34m%\u001b[0m \u001b[0mquery\u001b[0m\u001b[0;34m)\u001b[0m\u001b[0;34m\u001b[0m\u001b[0;34m\u001b[0m\u001b[0m\n\u001b[0m\u001b[1;32m    629\u001b[0m \u001b[0;34m\u001b[0m\u001b[0m\n\u001b[1;32m    630\u001b[0m         \u001b[0;32mfor\u001b[0m \u001b[0mq\u001b[0m\u001b[0;34m,\u001b[0m \u001b[0mproduct\u001b[0m \u001b[0;32min\u001b[0m \u001b[0mproduct_queries\u001b[0m\u001b[0;34m:\u001b[0m\u001b[0;34m\u001b[0m\u001b[0;34m\u001b[0m\u001b[0m\n",
      "\u001b[0;31mValueError\u001b[0m: No products match search terms: {'time': Range(begin=datetime.datetime(2018, 6, 1, 0, 0, tzinfo=<UTC>), end=datetime.datetime(2018, 8, 31, 23, 59, 59, 999999, tzinfo=tzutc())), 'lat': Range(begin=13.675, end=13.8), 'lon': Range(begin=-16.6, end=-16.45), 'product': 'ls5_usgs_sr_scenels7_usgs_sr_scenels8_usgs_sr_scene'}"
     ]
    }
   ],
   "source": [
    "ds = load_ard(dc=dc,\n",
    "              products=['ls5_usgs_sr_scene',\n",
    "                        'ls7_usgs_sr_scene',\n",
    "                        'ls8_usgs_sr_scene'],\n",
    "              x=(-16.45, -16.6),\n",
    "              y=(13.675, 13.8),\n",
    "              time=('2018-06', '2018-08'),\n",
    "              measurements = ['red','green','blue'],\n",
    "              output_crs='epsg:6933',\n",
    "              resolution=(-30, 30),\n",
    "              group_by='solar_day')\n",
    "\n",
    "ds"
   ]
  },
  {
   "cell_type": "markdown",
   "metadata": {},
   "source": [
    "### Query syntax\n",
    "The following example demonstrates how key parameters can be stored in a `query` dictionary, to be passed as a single parameter to `load_ard`.\n",
    "The `query` can then be reused in other `load_ard` calls."
   ]
  },
  {
   "cell_type": "code",
   "execution_count": null,
   "metadata": {},
   "outputs": [],
   "source": [
    "# Create a reusable query\n",
    "query = {\n",
    "    'x': (-16.45, -16.6),\n",
    "    'y': (13.675, 13.8),\n",
    "    'time': ('2018-06', '2018-08'),\n",
    "    'measurements': ['red', 'green', 'blue'],\n",
    "    'group_by': 'solar_day',\n",
    "    'output_crs' : 'epsg:6933',\n",
    "}"
   ]
  },
  {
   "cell_type": "code",
   "execution_count": null,
   "metadata": {},
   "outputs": [],
   "source": [
    "# Load available data from all three Landsat satellites\n",
    "ds = load_ard(dc=dc, \n",
    "              products=['ls5_usgs_sr_scene', \n",
    "                        'ls7_usgs_sr_scene', \n",
    "                        'ls8_usgs_sr_scene'], \n",
    "              resolution=(-30, 30),\n",
    "              **query)\n",
    "\n",
    "# Print output data\n",
    "print(ds)\n"
   ]
  },
  {
   "cell_type": "markdown",
   "metadata": {},
   "source": [
    "### Working with cloud masking\n",
    "By plotting a time slice from the data we loaded above, you can see an area of white pixels where clouds have been masked out and set to `NaN`:"
   ]
  },
  {
   "cell_type": "code",
   "execution_count": null,
   "metadata": {},
   "outputs": [],
   "source": [
    "# Plot single observation\n",
    "rgb(ds, index=9)\n"
   ]
  },
  {
   "cell_type": "markdown",
   "metadata": {},
   "source": [
    "By default, `load_ard` applies a pixel quality mask to loaded data using the sensor's pixel quality band. For USGS Collection 1, this masks out clouds, cloud shadow and nodata by default using the following mask parameters that are applied to the `pixel_qa` band:\n",
    "\n",
    "```\n",
    "{'cloud': 'no_cloud', \n",
    " 'cloud_shadow': 'no_cloud_shadow', \n",
    " 'nodata': False}\n",
    "```\n",
    "\n",
    "For USGS Collection 2 *(currently not publicly available)*, the following mask parameters are applied to the `quality_l2_aerosol` band: \n",
    "\n",
    "```\n",
    "{'cloud_shadow': 'not_cloud_shadow', \n",
    "'cloud_or_cirrus': 'not_cloud_or_cirrus', \n",
    "'nodata': False}\n",
    "```\n",
    "\n",
    "For Sentinel 2, the following mask parameters are applied to the [scl](https://earth.esa.int/web/sentinel/technical-guides/sentinel-2-msi/level-2a/algorithm) band: \n",
    "\n",
    "```\n",
    "['vegetation','snow or ice','water', 'bare soils', 'dark area pixels', 'unclassified']\n",
    "```\n",
    "\n",
    "> **Note:** These masking parameters can be customised using the `pq_categories_ls` parameter for USGS data, and the `pq_categories_s2` parameter for Sentinel 2 data\n",
    "\n",
    "We can de-activate pixel masking completely by setting `mask_pixel_quality=False`:\n",
    "\n",
    "\n"
   ]
  },
  {
   "cell_type": "code",
   "execution_count": null,
   "metadata": {},
   "outputs": [],
   "source": [
    "# Load available data with cloud masking deactivated\n",
    "ds = load_ard(dc=dc, \n",
    "              products=['ls5_usgs_sr_scene', \n",
    "                        'ls7_usgs_sr_scene', \n",
    "                        'ls8_usgs_sr_scene'], \n",
    "              mask_pixel_quality=False, \n",
    "              resolution=(-30, 30),\n",
    "              **query)\n",
    "\n",
    "# Plot single observation\n",
    "rgb(ds, index=9)\n"
   ]
  },
  {
   "cell_type": "markdown",
   "metadata": {},
   "source": [
    "### Filtering to non-cloudy observations\n",
    "In addition to masking out cloud, `load_ard` allows you to discard any satellite observation that contains less than a minimum proportion of good quality (e.g. non-cloudy) pixels.\n",
    "This can be used to obtain a time series of only clear, cloud-free observations.\n",
    "\n",
    "To discard all observations with less than `X`% good quality pixels, use the `min_gooddata` parameter. \n",
    "For example, `min_gooddata=0.99` will return only observations where less than 1% of pixels contain cloud, cloud shadow or other invalid data, resulting in a smaller number of clear, cloud free images being returned by the function:"
   ]
  },
  {
   "cell_type": "code",
   "execution_count": null,
   "metadata": {},
   "outputs": [],
   "source": [
    "# Load available data filtered to 99% clear observations\n",
    "ds = load_ard(dc=dc, \n",
    "              products=['ls5_usgs_sr_scene', \n",
    "                        'ls7_usgs_sr_scene', \n",
    "                        'ls8_usgs_sr_scene'], \n",
    "              min_gooddata=0.99, \n",
    "              resolution=(-30, 30),\n",
    "              **query)\n",
    "\n",
    "# Plot single observation\n",
    "rgb(ds, index=0)\n"
   ]
  },
  {
   "cell_type": "markdown",
   "metadata": {},
   "source": [
    "## Filtering data before load using a custom function\n",
    "The `load_ard` function has a powerful predicate parameter that allows you to filter out satellite observations before they are actually loaded using a custom function. Some examples of where this may be useful include:\n",
    "\n",
    "* Filtering to return data from a specific season (e.g. summer, winter)\n",
    "* Filtering to return data acquired on a particular day of the year\n",
    "* Filtering to return data based on an external dataset (e.g. data acquired during specific climatic conditions such as drought or flood)\n",
    "\n",
    "A predicate function should take a `datacube.model.Dataset` object as an input (e.g. as returned from `dc.find_datasets(product='ls8_usgs_sr_scene', **query)[0]`, and return either `True` or `False`. For example, a predicate function could be used to return True for only datasets acquired in April:\n",
    "\n",
    "`dataset.time.begin.month == 4`\n",
    "\n",
    "### Filter to a single month\n",
    "In the example below, we create a simple predicate function that will filter our data to return only satellite data acquired in April:"
   ]
  },
  {
   "cell_type": "code",
   "execution_count": null,
   "metadata": {},
   "outputs": [],
   "source": [
    "def filter_april(dataset):\n",
    "    return dataset.time.begin.month == 4\n",
    "\n",
    "# Load data that passes the `filter_april` function\n",
    "ds = load_ard(dc=dc, \n",
    "             products=['ls5_usgs_sr_scene', \n",
    "                       'ls7_usgs_sr_scene', \n",
    "                       'ls8_usgs_sr_scene'], \n",
    "              x=(-16.45, -16.6),\n",
    "              y=(13.675, 13.8),\n",
    "              time=('2016', '2018'),\n",
    "              measurements = ['red', 'green', 'blue'],\n",
    "              output_crs='epsg:6933',\n",
    "              predicate=filter_april,\n",
    "              resolution=(-30, 30),\n",
    "              group_by='solar_day')\n",
    "\n",
    "# Print output data\n",
    "print(ds)"
   ]
  },
  {
   "cell_type": "markdown",
   "metadata": {},
   "source": [
    "We can print the time steps returned by load_ard to verify that they now include only April observations (e.g. 2018-04-...):"
   ]
  },
  {
   "cell_type": "code",
   "execution_count": null,
   "metadata": {},
   "outputs": [],
   "source": [
    "ds.time.values"
   ]
  },
  {
   "cell_type": "markdown",
   "metadata": {},
   "source": [
    "### Filter to a single season\n",
    "An example of a predicate function that will return data from a season of interest would look as follows: \n",
    "\n",
    "        def seasonal_filter(dataset, season=[12,1,2]):    \n",
    "                #return true if month is in defined season \n",
    "                return dataset.time.begin.month in season\n",
    "\n",
    "After applying this predicate function, running the following command demonstrates that our dataset only contains months during the Dec, Jan, Feb period\n",
    "        \n",
    "        ds.time.dt.season :\n",
    "        \n",
    "        <xarray.DataArray 'season' (time: 37)>\n",
    "        array(['DJF', 'DJF', 'DJF', 'DJF', 'DJF', 'DJF', 'DJF', 'DJF', 'DJF',\n",
    "               'DJF', 'DJF', 'DJF', 'DJF', 'DJF', 'DJF', 'DJF', 'DJF', 'DJF',\n",
    "               'DJF', 'DJF', 'DJF', 'DJF', 'DJF', 'DJF', 'DJF', 'DJF', 'DJF',\n",
    "               'DJF', 'DJF', 'DJF', 'DJF', 'DJF', 'DJF', 'DJF', 'DJF', 'DJF',\n",
    "               'DJF'], dtype='<U3')\n",
    "        Coordinates:\n",
    "          * time     (time) datetime64[ns] 2016-01-05T10:27:44.213284 ... 2017-12-26T10:23:43.129624"
   ]
  },
  {
   "cell_type": "markdown",
   "metadata": {},
   "source": [
    "## Loading Sentinel-2 data\n",
    "Data from the Sentinel-2A and Sentinel-2B satellites can also be loaded using `load_ard`. To do this, we need to specify the Sentinel-2 product (`['s2a_l2a']` - both sensors S2a and S2b are covered by this product name) in place of the Landsat products above."
   ]
  },
  {
   "cell_type": "code",
   "execution_count": null,
   "metadata": {},
   "outputs": [],
   "source": [
    "# Load available data from S2\n",
    "\n",
    "s2 = load_ard(dc=dc,\n",
    "              products=['s2_l2a'], \n",
    "              resolution=(-20, 20),\n",
    "              **query)\n",
    "\n",
    "# # Print output data\n",
    "print(s2)"
   ]
  },
  {
   "cell_type": "markdown",
   "metadata": {},
   "source": [
    "Cloudy pixels are masked out by default from the resulting observations similarly to Landsat:"
   ]
  },
  {
   "cell_type": "code",
   "execution_count": null,
   "metadata": {},
   "outputs": [],
   "source": [
    "# Plot single observation\n",
    "rgb(s2, index=[1,2,4,5])"
   ]
  },
  {
   "cell_type": "markdown",
   "metadata": {},
   "source": [
    "## Lazy loading with Dask\n",
    "Rather than load data directly - which can take a long time and large amounts of memory - all datacube data can be lazy loaded using Dask. This can be a very useful approach for when you need to load large amounts of data without crashing your analysis, or if you want to subsequently scale your analysis by distributing tasks in parallel across multiple workers.\n",
    "\n",
    "The load_ard function can be easily adapted to lazily load data rather than loading it into memory by providing a dask_chunks parameter using either the explicit or query syntax. The minimum required to lazily load data is `dask_chunks={}`, but chunking can also be performed spatially (e.g. `dask_chunks={'x': 3000, 'y': 3000}`) or by time (e.g. `dask_chunks={'time': 1}`) depending on the analysis being conducted.\n",
    "See the [Dask documentation](https://docs.dask.org/en/latest/array-chunks.html) for more information about setting chunk sizes.\n",
    "\n",
    "To learn more about lazy-loading with Dask, see the [Dask notebook](../Beginners_guide/08_Parallel_processing_with_dask.ipynb)."
   ]
  },
  {
   "cell_type": "code",
   "execution_count": null,
   "metadata": {},
   "outputs": [],
   "source": [
    "# Load available data from both S2 datasets\n",
    "s2 = load_ard(dc=dc,\n",
    "              products=['s2_l2a'], \n",
    "              resolution=(-10, 10),\n",
    "              dask_chunks={'time':1,'x':500,'y':500},\n",
    "              **query)\n",
    "\n",
    "# Print output data\n",
    "print(s2)"
   ]
  },
  {
   "cell_type": "markdown",
   "metadata": {},
   "source": [
    "***\n",
    "\n",
    "## Additional information\n",
    "\n",
    "**License:** The code in this notebook is licensed under the [Apache License, Version 2.0](https://www.apache.org/licenses/LICENSE-2.0). \n",
    "Digital Earth Africa data is licensed under the [Creative Commons by Attribution 4.0](https://creativecommons.org/licenses/by/4.0/) license.\n",
    "\n",
    "**Contact:** If you need assistance, please post a question on the [Open Data Cube Slack channel](http://slack.opendatacube.org/) or on the [GIS Stack Exchange](https://gis.stackexchange.com/questions/ask?tags=open-data-cube) using the `open-data-cube` tag (you can view previously asked questions [here](https://gis.stackexchange.com/questions/tagged/open-data-cube)).\n",
    "If you would like to report an issue with this notebook, you can file one on [Github](https://github.com/digitalearthafrica/deafrica-sandbox-notebooks).\n",
    "\n",
    "**Last modified:** August 2020\n",
    "\n",
    "**Compatible datacube version:** "
   ]
  },
  {
   "cell_type": "code",
   "execution_count": null,
   "metadata": {},
   "outputs": [],
   "source": [
    "print(datacube.__version__)"
   ]
  },
  {
   "cell_type": "markdown",
   "metadata": {},
   "source": [
    "## Tags\n",
    "Browse all available tags on the DE Africa User Guide's [Tags Index](https://) (placeholder as this does not exist yet)"
   ]
  },
  {
   "cell_type": "raw",
   "metadata": {
    "raw_mimetype": "text/restructuredtext"
   },
   "source": [
    "**Tags**: :index:`load_ard`, :index:`time series analysis`, :index:`landsat 5`, :index:`landsat 7`, :index:`landsat 8`, :index:`sentinel 2`, :index:`cloud masking`, :index:`cloud filtering`, :index:`pixel quality`, :index:`dask`"
   ]
  }
 ],
 "metadata": {
  "kernelspec": {
   "display_name": "Python 3",
   "language": "python",
   "name": "python3"
  },
  "language_info": {
   "codemirror_mode": {
    "name": "ipython",
    "version": 3
   },
   "file_extension": ".py",
   "mimetype": "text/x-python",
   "name": "python",
   "nbconvert_exporter": "python",
   "pygments_lexer": "ipython3",
   "version": "3.6.9"
  }
 },
 "nbformat": 4,
 "nbformat_minor": 4
}
