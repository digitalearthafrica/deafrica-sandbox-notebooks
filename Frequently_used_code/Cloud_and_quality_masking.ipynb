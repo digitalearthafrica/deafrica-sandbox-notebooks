{
 "cells": [
  {
   "cell_type": "markdown",
   "metadata": {},
   "source": [
    "# Cloud and Quality Masking\n",
    "\n",
    "* **Products used:** \n",
    "[ls8_sr](https://explorer.digitalearth.africa/ls8_sr) \n"
   ]
  },
  {
   "cell_type": "raw",
   "metadata": {
    "raw_mimetype": "text/restructuredtext"
   },
   "source": [
    "**Keywords** :index:`data methods; dilate`, :index:`data methods; masking`, :index:`cloud masking`, :index:`data methods; buffering`"
   ]
  },
  {
   "cell_type": "markdown",
   "metadata": {},
   "source": [
    "## Background\n",
    "In the past, remote sensing researchers would reject partly cloud-affected scenes in favour of cloud-free scenes. \n",
    "However, multi-temporal analysis techniques increasingly make use of every quality assured pixel within a time series of observations. \n",
    "The capacity to automatically exclude low quality pixels (e.g. clouds, shadows or other invalid data) is essential for enabling these new remote sensing methods.\n",
    "\n",
    "Analysis-ready satellite data from Digital Earth Africa includes pixel quality information that can be used to easily \"mask\" data (i.e. keep only certain pixels in an image) to obtain a time series containing only clear or cloud-free pixels.\n",
    "\n",
    "## Description\n",
    "In this notebook, we show how to mask Digital Earth Africa satellite data using boolean masks. The notebook demonstrates how to:\n",
    "\n",
    "1. Load in a time series of satellite data including the `pixel_qa` pixel quality band\n",
    "2. Inspect the band's `flags_definition` attributes\n",
    "3. Create a mask where pixels are cloudy, have cloud-shadow, or no-data\n",
    "4. Apply binary morphological operators on the cloudy pixels to improve the mask\n",
    "5. Apply the masks to the staellite data so we retain only the good quality observations, and plot the results\n",
    "6. Use `load_ard` to mask poor quality pixels, while taking advantage of the morphological operators parameter\n",
    "\n",
    "Digital Earth Africa provides wrapper functions that will automatically provide cloud-masked satellite data, more information can be found in the [Using_load_ard](./Using_load_ard.ipynb) notebook.\n",
    "\n",
    "***"
   ]
  },
  {
   "cell_type": "markdown",
   "metadata": {},
   "source": [
    "## Getting started\n",
    "First we import relevant packages and connect to the datacube. \n",
    "Then we define our example area of interest and load in a time series of satellite data."
   ]
  },
  {
   "cell_type": "code",
   "execution_count": null,
   "metadata": {},
   "outputs": [],
   "source": [
    "# !/env/bin/python3 -m pip install --upgrade pip\n",
    "# !pip install pystac==1.0.0rc2 --upgrade\n",
    "# !pip install odc-algo --extra-index-url=\"https://packages.dea.ga.gov.au\" --upgrade"
   ]
  },
  {
   "cell_type": "code",
   "execution_count": null,
   "metadata": {},
   "outputs": [],
   "source": [
    "!pip uninstall deafrica-tools -y\n",
    "!pip install ../Tools/"
   ]
  },
  {
   "cell_type": "code",
   "execution_count": 1,
   "metadata": {},
   "outputs": [
    {
     "name": "stderr",
     "output_type": "stream",
     "text": [
      "/env/lib/python3.6/site-packages/datacube/storage/masking.py:8: DeprecationWarning: datacube.storage.masking has moved to datacube.utils.masking\n",
      "  category=DeprecationWarning)\n",
      "/env/lib/python3.6/site-packages/geopandas/_compat.py:88: UserWarning: The Shapely GEOS version (3.7.2-CAPI-1.11.0 ) is incompatible with the GEOS version PyGEOS was compiled with (3.9.1-CAPI-1.14.2). Conversions between both will be slow.\n",
      "  shapely_geos_version, geos_capi_version_string\n"
     ]
    }
   ],
   "source": [
    "%matplotlib inline\n",
    "\n",
    "import xarray\n",
    "import numpy\n",
    "import datacube\n",
    "import scipy.ndimage\n",
    "from pprint import pprint\n",
    "from odc.algo import mask_cleanup\n",
    "\n",
    "from datacube.utils import masking\n",
    "from datacube.storage.masking import mask_invalid_data\n",
    "from odc.algo import keep_good_only, erase_bad\n",
    "\n",
    "from deafrica_tools.plotting import rgb\n",
    "from deafrica_tools.datahandling import mostcommon_crs, load_ard"
   ]
  },
  {
   "cell_type": "markdown",
   "metadata": {},
   "source": [
    "### Connect to the datacube"
   ]
  },
  {
   "cell_type": "code",
   "execution_count": 2,
   "metadata": {},
   "outputs": [],
   "source": [
    "dc = datacube.Datacube(app=\"Masking_data\")"
   ]
  },
  {
   "cell_type": "markdown",
   "metadata": {},
   "source": [
    "## Create a query and load satellite data"
   ]
  },
  {
   "cell_type": "markdown",
   "metadata": {},
   "source": [
    "To demonstrate how to mask satellite data, we will load Landsat 8 surface reflectance RGB data along with a pixel quality classification band called `pixel_quality`."
   ]
  },
  {
   "cell_type": "code",
   "execution_count": 3,
   "metadata": {},
   "outputs": [
    {
     "name": "stderr",
     "output_type": "stream",
     "text": [
      "/env/lib/python3.6/site-packages/deafrica_tools/datahandling.py:735: UserWarning: Multiple UTM zones ['epsg:32629', 'epsg:32630'] were returned for this query. Defaulting to the most common zone: epsg:32629\n",
      "  UserWarning,\n"
     ]
    }
   ],
   "source": [
    "# Region of interest\n",
    "lat, lon = 35.7718, -5.8096\n",
    "buffer = 0.03\n",
    "\n",
    "# Create a reusable query\n",
    "query = {\n",
    "    'x': (lon-buffer, lon+buffer),\n",
    "    'y': (lat+buffer, lat-buffer),\n",
    "    'time': ('2016-08', '2016-10-04'),\n",
    "}\n",
    "\n",
    "# Identify the most common projection system in the input query\n",
    "output_crs = mostcommon_crs(dc=dc, product='ls8_sr', query=query)\n",
    "\n",
    "# # Load data from the Landsat-8\n",
    "# data = dc.load(product=\"ls8_sr\",\n",
    "#                measurements=[\"blue\", \"green\", \"red\", \"pixel_quality\"],\n",
    "#                output_crs=output_crs,\n",
    "#                resolution=(-30, 30),\n",
    "#                align=(15, 15),\n",
    "#                **query)\n",
    "# print(data)"
   ]
  },
  {
   "cell_type": "code",
   "execution_count": 5,
   "metadata": {},
   "outputs": [
    {
     "ename": "ValueError",
     "evalue": "'cirrus' categories for the pixel quality mask are not supported by load_ard",
     "output_type": "error",
     "traceback": [
      "\u001b[0;31m---------------------------------------------------------------------------\u001b[0m",
      "\u001b[0;31mValueError\u001b[0m                                Traceback (most recent call last)",
      "\u001b[0;32m<ipython-input-5-89e310e07b51>\u001b[0m in \u001b[0;36m<module>\u001b[0;34m\u001b[0m\n\u001b[1;32m      6\u001b[0m                \u001b[0mresolution\u001b[0m\u001b[0;34m=\u001b[0m\u001b[0;34m(\u001b[0m\u001b[0;34m-\u001b[0m\u001b[0;36m30\u001b[0m\u001b[0;34m,\u001b[0m \u001b[0;36m30\u001b[0m\u001b[0;34m)\u001b[0m\u001b[0;34m,\u001b[0m\u001b[0;34m\u001b[0m\u001b[0;34m\u001b[0m\u001b[0m\n\u001b[1;32m      7\u001b[0m                \u001b[0malign\u001b[0m\u001b[0;34m=\u001b[0m\u001b[0;34m(\u001b[0m\u001b[0;36m15\u001b[0m\u001b[0;34m,\u001b[0m \u001b[0;36m15\u001b[0m\u001b[0;34m)\u001b[0m\u001b[0;34m,\u001b[0m\u001b[0;34m\u001b[0m\u001b[0;34m\u001b[0m\u001b[0m\n\u001b[0;32m----> 8\u001b[0;31m                **query)\n\u001b[0m\u001b[1;32m      9\u001b[0m \u001b[0;34m\u001b[0m\u001b[0m\n\u001b[1;32m     10\u001b[0m \u001b[0mrgb\u001b[0m\u001b[0;34m(\u001b[0m\u001b[0mdata\u001b[0m\u001b[0;34m,\u001b[0m \u001b[0mcol\u001b[0m\u001b[0;34m=\u001b[0m\u001b[0;34m\"time\"\u001b[0m\u001b[0;34m,\u001b[0m \u001b[0mcol_wrap\u001b[0m\u001b[0;34m=\u001b[0m\u001b[0;36m8\u001b[0m\u001b[0;34m)\u001b[0m\u001b[0;34m\u001b[0m\u001b[0;34m\u001b[0m\u001b[0m\n",
      "\u001b[0;32m/env/lib/python3.6/site-packages/deafrica_tools/datahandling.py\u001b[0m in \u001b[0;36mload_ard\u001b[0;34m(dc, products, min_gooddata, pq_categories_s2, pq_categories_s1, pq_categories_ls, mask_filters, mask_pixel_quality, ls7_slc_off, predicate, dtype, verbose, collection_category, **kwargs)\u001b[0m\n\u001b[1;32m    318\u001b[0m     \u001b[0;32mif\u001b[0m \u001b[0;34m(\u001b[0m\u001b[0mproduct_type\u001b[0m \u001b[0;34m==\u001b[0m \u001b[0;34m\"ls\"\u001b[0m\u001b[0;34m)\u001b[0m \u001b[0;34m&\u001b[0m \u001b[0;34m(\u001b[0m\u001b[0mpq_categories_ls\u001b[0m \u001b[0;32mis\u001b[0m \u001b[0;32mnot\u001b[0m \u001b[0;32mNone\u001b[0m\u001b[0;34m)\u001b[0m\u001b[0;34m:\u001b[0m\u001b[0;34m\u001b[0m\u001b[0;34m\u001b[0m\u001b[0m\n\u001b[1;32m    319\u001b[0m         \u001b[0;32mif\u001b[0m \u001b[0many\u001b[0m\u001b[0;34m(\u001b[0m\u001b[0mk\u001b[0m \u001b[0;32min\u001b[0m \u001b[0mpq_categories_ls\u001b[0m \u001b[0;32mfor\u001b[0m \u001b[0mk\u001b[0m \u001b[0;32min\u001b[0m \u001b[0;34m(\u001b[0m\u001b[0;34m\"cirrus\"\u001b[0m\u001b[0;34m,\u001b[0m \u001b[0;34m\"cirrus_confidence\"\u001b[0m\u001b[0;34m)\u001b[0m\u001b[0;34m)\u001b[0m\u001b[0;34m:\u001b[0m\u001b[0;34m\u001b[0m\u001b[0;34m\u001b[0m\u001b[0m\n\u001b[0;32m--> 320\u001b[0;31m             raise ValueError(\"'cirrus' categories for the pixel quality mask\"\n\u001b[0m\u001b[1;32m    321\u001b[0m                              \" are not supported by load_ard\")\n\u001b[1;32m    322\u001b[0m \u001b[0;34m\u001b[0m\u001b[0m\n",
      "\u001b[0;31mValueError\u001b[0m: 'cirrus' categories for the pixel quality mask are not supported by load_ard"
     ]
    }
   ],
   "source": [
    "# # Load data from the Landsat-8\n",
    "data = load_ard(dc=dc,\n",
    "               products=[\"ls8_sr\"],\n",
    "               measurements=[\"blue\", \"green\", \"red\"],\n",
    "               output_crs=output_crs,\n",
    "               resolution=(-30, 30),\n",
    "               align=(15, 15),\n",
    "               **query)\n",
    "\n",
    "rgb(data, col=\"time\", col_wrap=8)"
   ]
  },
  {
   "cell_type": "code",
   "execution_count": null,
   "metadata": {},
   "outputs": [],
   "source": []
  },
  {
   "cell_type": "code",
   "execution_count": null,
   "metadata": {},
   "outputs": [],
   "source": []
  },
  {
   "cell_type": "code",
   "execution_count": null,
   "metadata": {},
   "outputs": [],
   "source": []
  },
  {
   "cell_type": "markdown",
   "metadata": {},
   "source": [
    "The absence of satellite observation is indicated by a \"nodata\" value for the band, which is listed under the **Attributes** category of the returned `xarray.DataArray`."
   ]
  },
  {
   "cell_type": "code",
   "execution_count": null,
   "metadata": {},
   "outputs": [],
   "source": [
    "print(data.red.attrs)"
   ]
  },
  {
   "cell_type": "markdown",
   "metadata": {},
   "source": [
    "We see that the `nodata` attribute reports the value `0`.\n",
    "\n",
    "We can find the classification scheme of the `pixel_qa` band in its flags definition."
   ]
  },
  {
   "cell_type": "code",
   "execution_count": null,
   "metadata": {},
   "outputs": [],
   "source": [
    "flags_def = data.pixel_quality.attrs[\"flags_definition\"]\n",
    "pprint(flags_def)"
   ]
  },
  {
   "cell_type": "markdown",
   "metadata": {},
   "source": [
    "We see that `pixel_quality` also reports the `nodata` pixels, and along with the `cloud` and `cloud_shadow` pixels, it also picks up `snow` and `water` pixels."
   ]
  },
  {
   "cell_type": "markdown",
   "metadata": {},
   "source": [
    "## Creating a cloud and pixel quality mask\n",
    "\n",
    "We create a mask by specifying conditions that our pixels must satisfy.\n",
    "But we will only need the labels (not the values) to create a mask."
   ]
  },
  {
   "cell_type": "code",
   "execution_count": null,
   "metadata": {},
   "outputs": [],
   "source": [
    "quality_flags = dict(\n",
    "                cloud=\"high_confidence\", # True where there is cloud\n",
    "                cirrus=\"high_confidence\",# True where there is cirrus cloud\n",
    "                cloud_shadow=\"high_confidence\",# True where there is cloud shadow\n",
    "                nodata=True \n",
    ")\n",
    "\n",
    "# set cloud_mask: True=cloud, False=non-cloud\n",
    "mask, _= masking.create_mask_value(flags_def, **quality_flags)\n",
    "data['cloud_mask'] = (data['pixel_quality'] & mask) != 0"
   ]
  },
  {
   "cell_type": "markdown",
   "metadata": {},
   "source": [
    "Below, we'll plot the mask along with the true colour satellite images.\n",
    "\n",
    "Does the cloud mask exactly match the clouds you see in the RGB plots? Landsat's pixel quality algorithm has known limitations that result in bright objects, such as beaches and cities, mistakenly being classified as clouds."
   ]
  },
  {
   "cell_type": "code",
   "execution_count": null,
   "metadata": {},
   "outputs": [],
   "source": [
    "# Plot the data\n",
    "rgb(data, col=\"time\", col_wrap=8)"
   ]
  },
  {
   "cell_type": "code",
   "execution_count": null,
   "metadata": {},
   "outputs": [],
   "source": [
    "#plot the locations where there are clouds and cloud shadows\n",
    "data['cloud_mask'].plot(col=\"time\", col_wrap=8);"
   ]
  },
  {
   "cell_type": "markdown",
   "metadata": {},
   "source": [
    "## Cloud mask morphological operators\n",
    "\n",
    "We can improve on the false positives detected by Landsat's pixel quality mask by applying binary moprhological image processing techniques (e.g. [binary_closing](https://docs.scipy.org/doc/scipy-0.15.1/reference/generated/scipy.ndimage.morphology.binary_closing.html#scipy.ndimage.morphology.binary_closing), [binary_erosion](https://docs.scipy.org/doc/scipy-0.15.1/reference/generated/scipy.ndimage.morphology.binary_erosion.html#scipy.ndimage.morphology.binary_erosion) etc.). The Open-Data-Cube library [odc-algo](https://github.com/opendatacube/odc-tools/tree/develop/libs/algo) has a function, `odc.algo.mask_cleanup` that can perform a few of these operations.  Below, we will try to imporve the cloud mask by apply a number of the filters.\n",
    "\n",
    "Feel free to experiment with the values in `filters`\n"
   ]
  },
  {
   "cell_type": "code",
   "execution_count": null,
   "metadata": {},
   "outputs": [],
   "source": [
    "# set the filters to apply. The integers refer to the number of pixels\n",
    "filters = [('erosion', 5),(\"closing\", 2),(\"opening\", 2),(\"dilation\", 1)]"
   ]
  },
  {
   "cell_type": "code",
   "execution_count": null,
   "metadata": {},
   "outputs": [],
   "source": [
    "# Use the mask_cleanup function to apply the filters\n",
    "data['cloud_mask_filtered'] = mask_cleanup(data['cloud_mask'], mask_filters=filters)"
   ]
  },
  {
   "cell_type": "code",
   "execution_count": null,
   "metadata": {},
   "outputs": [],
   "source": [
    "#plot the results\n",
    "data['cloud_mask_filtered'].plot(col=\"time\", col_wrap=8);"
   ]
  },
  {
   "cell_type": "markdown",
   "metadata": {},
   "source": [
    "### Applying the cloud-mask\n",
    "\n",
    "We can now get the clear images we want by erasing the cloud and non-data pixels from the data"
   ]
  },
  {
   "cell_type": "code",
   "execution_count": null,
   "metadata": {},
   "outputs": [],
   "source": [
    "# erase pixels with cloud\n",
    "clear = erase_bad(data.drop_vars(['cloud_mask_filtered', 'cloud_mask']),\n",
    "                                      data['cloud_mask'])\n",
    "\n",
    "#erase pixels with the cloud_filtering\n",
    "clear_filtered = erase_bad(data.drop_vars(['cloud_mask_filtered', 'cloud_mask']),\n",
    "                                      data['cloud_mask_filtered'])\n"
   ]
  },
  {
   "cell_type": "markdown",
   "metadata": {},
   "source": [
    "### Plot the results of our 'clear' masking "
   ]
  },
  {
   "cell_type": "code",
   "execution_count": null,
   "metadata": {},
   "outputs": [],
   "source": [
    "rgb(clear, col=\"time\", col_wrap=8)"
   ]
  },
  {
   "cell_type": "markdown",
   "metadata": {},
   "source": [
    "### Plot the results of our 'clear_filtered' masking \n",
    "\n",
    "As you can see, the morphological filtering operations have minimised the impact of the false-postives in the cloud mask over the cities and along the coast"
   ]
  },
  {
   "cell_type": "code",
   "execution_count": null,
   "metadata": {},
   "outputs": [],
   "source": [
    "rgb(clear_filtered, col=\"time\", col_wrap=8)"
   ]
  },
  {
   "cell_type": "markdown",
   "metadata": {},
   "source": [
    "## Morphological filtering with `load_ard`"
   ]
  },
  {
   "cell_type": "code",
   "execution_count": null,
   "metadata": {},
   "outputs": [],
   "source": []
  },
  {
   "cell_type": "markdown",
   "metadata": {},
   "source": [
    "---\n",
    "\n",
    "## Additional information\n",
    "\n",
    "**License:** The code in this notebook is licensed under the [Apache License, Version 2.0](https://www.apache.org/licenses/LICENSE-2.0). \n",
    "Digital Earth Africa data is licensed under the [Creative Commons by Attribution 4.0](https://creativecommons.org/licenses/by/4.0/) license.\n",
    "\n",
    "**Contact:** If you need assistance, please post a question on the [Open Data Cube Slack channel](http://slack.opendatacube.org/) or on the [GIS Stack Exchange](https://gis.stackexchange.com/questions/ask?tags=open-data-cube) using the `open-data-cube` tag (you can view previously asked questions [here](https://gis.stackexchange.com/questions/tagged/open-data-cube)).\n",
    "If you would like to report an issue with this notebook, you can file one on [Github](https://github.com/digitalearthafrica/deafrica-sandbox-notebooks).\n",
    "\n",
    "**Compatible datacube version:** "
   ]
  },
  {
   "cell_type": "code",
   "execution_count": null,
   "metadata": {},
   "outputs": [],
   "source": [
    "print(datacube.__version__)"
   ]
  },
  {
   "cell_type": "markdown",
   "metadata": {},
   "source": [
    "**Last Tested:**"
   ]
  },
  {
   "cell_type": "code",
   "execution_count": null,
   "metadata": {},
   "outputs": [],
   "source": [
    "from datetime import datetime\n",
    "datetime.today().strftime('%Y-%m-%d')"
   ]
  }
 ],
 "metadata": {
  "kernelspec": {
   "display_name": "Python 3",
   "language": "python",
   "name": "python3"
  },
  "language_info": {
   "codemirror_mode": {
    "name": "ipython",
    "version": 3
   },
   "file_extension": ".py",
   "mimetype": "text/x-python",
   "name": "python",
   "nbconvert_exporter": "python",
   "pygments_lexer": "ipython3",
   "version": "3.6.9"
  },
  "widgets": {
   "application/vnd.jupyter.widget-state+json": {
    "state": {},
    "version_major": 2,
    "version_minor": 0
   }
  }
 },
 "nbformat": 4,
 "nbformat_minor": 4
}
