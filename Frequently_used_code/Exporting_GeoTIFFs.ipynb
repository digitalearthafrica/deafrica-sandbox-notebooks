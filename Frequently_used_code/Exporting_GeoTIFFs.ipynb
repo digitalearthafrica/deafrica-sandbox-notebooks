{
 "cells": [
  {
   "cell_type": "markdown",
   "metadata": {},
   "source": [
    "# Exporting data to GeoTIFF files <img align=\"right\" src=\"../Supplementary_data/DE_Africa_Logo_Stacked_RGB_small.jpg\">\n",
    "\n",
    "* **Products used:** \n",
    "[ ls8_usgs_sr_scene](https://explorer.digitalearth.africa/ls8_usgs_sr_scene)"
   ]
  },
  {
   "cell_type": "markdown",
   "metadata": {},
   "source": [
    "## Background\n",
    "\n",
    "At the end of an analysis it can be useful to export data to a GeoTIFF file (e.g. `outputname.tif`), either to save results or to allow for exploring results in a GIS software platform (e.g. ArcGIS or QGIS)."
   ]
  },
  {
   "cell_type": "markdown",
   "metadata": {},
   "source": [
    "## Description\n",
    "\n",
    "This notebook shows a number of ways to export a GeoTIFF file:\n",
    "\n",
    "1. Exporting a single-band, single time-slice GeoTIFF from an xarray object loaded through a `dc.load` query\n",
    "2. Exporting a multi-band, single time-slice GeoTIFF from an xarray object loaded through a `dc.load` query\n",
    "3. Exporting multiple GeoTIFFs, one for each time-slice of an xarray object loaded through a `dc.load` query\n",
    "4. Exporting a single-band GeoTIFF when handling a simple array and/or an xarray that doesn't contain `transform`, `crs` or `affine` metadata\n",
    "\n",
    "***"
   ]
  },
  {
   "cell_type": "markdown",
   "metadata": {},
   "source": [
    "## Getting started\n",
    "To run this analysis, run all the cells in the notebook, starting with the \"Load packages\" cell. "
   ]
  },
  {
   "cell_type": "markdown",
   "metadata": {},
   "source": [
    "### Load packages\n"
   ]
  },
  {
   "cell_type": "code",
   "execution_count": 1,
   "metadata": {},
   "outputs": [
    {
     "name": "stderr",
     "output_type": "stream",
     "text": [
      "/env/lib/python3.6/site-packages/datacube/storage/masking.py:4: DeprecationWarning: datacube.storage.masking has moved to datacube.utils.masking\n",
      "  category=DeprecationWarning)\n"
     ]
    }
   ],
   "source": [
    "%matplotlib inline\n",
    "\n",
    "import datacube\n",
    "from datacube.utils.cog import write_cog\n",
    "import numpy as np\n",
    "import xarray as xr\n",
    "import sys\n",
    "\n",
    "sys.path.append('../Scripts')\n",
    "from deafrica_datahandling import load_ard, mostcommon_crs, array_to_geotiff\n",
    "from deafrica_plotting import rgb\n"
   ]
  },
  {
   "cell_type": "markdown",
   "metadata": {},
   "source": [
    "### Connect to the datacube"
   ]
  },
  {
   "cell_type": "code",
   "execution_count": 2,
   "metadata": {},
   "outputs": [],
   "source": [
    "dc = datacube.Datacube(app='Exporting_GeoTIFFs')\n"
   ]
  },
  {
   "cell_type": "markdown",
   "metadata": {},
   "source": [
    "## Load Landsat 8 data from the datacube\n",
    "\n",
    "Here we are loading in a timeseries of `Landsat 8` satellite images through the datacube API.\n",
    "This will provide us with some data to work with."
   ]
  },
  {
   "cell_type": "code",
   "execution_count": 3,
   "metadata": {},
   "outputs": [
    {
     "name": "stdout",
     "output_type": "stream",
     "text": [
      "Using pixel quality parameters for USGS Collection 1\n",
      "Finding datasets\n",
      "    ls8_usgs_sr_scene\n",
      "Counting good quality pixels for each time step\n",
      "Filtering to 4 out of 72 time steps with at least 99.0% good quality pixels\n",
      "Applying pixel quality/cloud mask\n",
      "Loading 4 time steps\n",
      "<xarray.Dataset>\n",
      "Dimensions:      (time: 4, x: 726, y: 743)\n",
      "Coordinates:\n",
      "  * time         (time) datetime64[ns] 2016-06-19T11:27:11.943752 ... 2017-04-19T11:26:52.881313\n",
      "    spatial_ref  int32 32628\n",
      "  * x            (x) float64 3.227e+05 3.228e+05 ... 3.445e+05 3.445e+05\n",
      "  * y            (y) float64 1.553e+06 1.553e+06 ... 1.531e+06 1.531e+06\n",
      "Data variables:\n",
      "    red          (time, y, x) float32 740.0 740.0 645.0 ... 1176.0 1046.0 914.0\n",
      "    green        (time, y, x) float32 734.0 740.0 641.0 ... 970.0 875.0 787.0\n",
      "    blue         (time, y, x) float32 451.0 465.0 318.0 ... 655.0 578.0 505.0\n",
      "Attributes:\n",
      "    crs:           epsg:32628\n",
      "    grid_mapping:  spatial_ref\n"
     ]
    }
   ],
   "source": [
    "lat, lon = 13.94, -16.54\n",
    "buffer = 0.1\n",
    "\n",
    "# Create a reusable query\n",
    "query = {\n",
    "    'x': (lon-buffer, lon+buffer),\n",
    "    'y': (lat+buffer, lat-buffer),\n",
    "    'time': ('2016-06', '2017-06'),\n",
    "    'resolution': (-30, 30),\n",
    "    'measurements': ['red', 'green', 'blue']\n",
    "}\n",
    "\n",
    "# Identify the most common projection system in the input query\n",
    "output_crs = mostcommon_crs(dc=dc, product='ls8_usgs_sr_scene', query=query)\n",
    "\n",
    "# Load available data from Landsat 8 and filter to retain only times\n",
    "# with at least 99% good data\n",
    "ds = load_ard(dc=dc, \n",
    "              products=['ls8_usgs_sr_scene'],\n",
    "              min_gooddata=0.99, \n",
    "              output_crs=output_crs,\n",
    "              align=(15, 15),\n",
    "              **query)\n",
    "\n",
    "# Print output data\n",
    "print(ds)\n"
   ]
  },
  {
   "cell_type": "markdown",
   "metadata": {},
   "source": [
    "### Plot an rgb image to confirm we have data\n",
    "\n",
    "The white regions are cloud cover."
   ]
  },
  {
   "cell_type": "code",
   "execution_count": null,
   "metadata": {},
   "outputs": [],
   "source": [
    "rgb(ds, index=1)\n"
   ]
  },
  {
   "cell_type": "markdown",
   "metadata": {},
   "source": [
    "### Export a single-band, single time-slice GeoTIFF\n",
    "\n",
    "This method uses the `datacube.utils.cog` function `write_cog` to export a simple single-band, single time-slice GeoTIFF. \n",
    "\n",
    "> **Note:** A few important caveats should be noted when using this function. \n",
    "First, it requires an `xarray.DataArray`; supplying an `xarray.Dataset` will return an error. \n",
    "Second, this function generates a temporary in-memory tiff file without compression. \n",
    "This means the function will use about 1.5 to 2 times the memory required using `write_geotiff`, and should be used on relatively small study areas only."
   ]
  },
  {
   "cell_type": "code",
   "execution_count": null,
   "metadata": {},
   "outputs": [],
   "source": [
    "# Select a single time-slice and a single band from the dataset.\n",
    "# N.B. The [['nbart_red']] keeps the array as a `xarray.Dataset`\n",
    "# The .to_array() method converts it to a `xarray.DataArray` \n",
    "singleBandtiff = ds[['red']].isel(time=1).to_array()\n",
    "\n",
    "# Write GeoTIFF to a location\n",
    "write_cog(singleBandtiff, fname=\"red_band.tif\", overwrite=True)\n"
   ]
  },
  {
   "cell_type": "markdown",
   "metadata": {},
   "source": [
    "### Export a multi-band, single time-slice GeoTIFF\n",
    "\n",
    "Here we select a single time and export all the bands in the dataset using the `datacube.utils.cog.write_cog` function."
   ]
  },
  {
   "cell_type": "code",
   "execution_count": null,
   "metadata": {},
   "outputs": [],
   "source": [
    "# Select a single time-slice\n",
    "rgb_tiff = ds.isel(time=1).to_array()\n",
    "\n",
    "# Write multi-band GeoTIFF to a location\n",
    "write_cog(rgb_tiff, fname='rgb.tif', overwrite=True)\n"
   ]
  },
  {
   "cell_type": "markdown",
   "metadata": {},
   "source": [
    "### Export multiple GeoTIFF, one for each time-slice of an xarray\n",
    "\n",
    "If we want to export all of the time steps in a dataset as a GeoTIFF, we can wrap our `write_cog` function in a for-loop."
   ]
  },
  {
   "cell_type": "code",
   "execution_count": null,
   "metadata": {},
   "outputs": [],
   "source": [
    "for i in range(len(ds.time)):\n",
    "\n",
    "    # We will use the date of the satellite image to name the GeoTIFF\n",
    "    date = str(ds.isel(time=i).time.data)[:-19]\n",
    "    print(f'Writing {date}')\n",
    "    \n",
    "    # Convert current time step into a `xarray.DataArray`\n",
    "    singleTimestamp = ds.isel(time=i).to_array()\n",
    "\n",
    "    # Write GeoTIFF  \n",
    "    write_cog(singleTimestamp, fname=f'{date}.tif', overwrite=True)\n"
   ]
  },
  {
   "cell_type": "markdown",
   "metadata": {},
   "source": [
    "### Exporting simple arrays without geospatial metadata\n",
    "\n",
    "Often in a workflow we create a `numpy` array that doesn't have the metadata required to work with functions like `datacube.helpers.write_geotiff`. \n",
    "In these instances, we can use the function `dea_datahandling.array_to_geotiff` to export numpy arrays that don't have metadata attached. \n",
    "This can also act as an alternative approach to using `datacube.utils.cog.write_cog`, which uses more memory than `write_cog`.\n",
    "\n",
    "First we will perform some trivial analysis that will require shifting our datacube-acquired `xarray` object into a numpy array, then we will export our `numpy` array as a GeoTIFF.\n",
    "This approach will work on any `numpy` array as long as we know the projection and the coordinates (which we can get from the original `xarray.Dataset`)."
   ]
  },
  {
   "cell_type": "code",
   "execution_count": null,
   "metadata": {},
   "outputs": [],
   "source": [
    "# Convert one of the xarray.DataArrays inside the xarray.Dataset into a numpy array\n",
    "arr = ds.red.isel(time=1).values\n",
    "\n",
    "# Perform some trivial analysis\n",
    "simple_array = np.where(arr >= 1, np.nan, 5)"
   ]
  },
  {
   "cell_type": "markdown",
   "metadata": {},
   "source": [
    "#### Export a single band GeoTIFF\n",
    "\n",
    "We will use the function `dea_datahandling.array_to_geotiff` to export our simple array:"
   ]
  },
  {
   "cell_type": "code",
   "execution_count": null,
   "metadata": {},
   "outputs": [],
   "source": [
    "# First grab the spatial information from our datacube xarray object\n",
    "transform = ds.geobox.transform.to_gdal()\n",
    "projection = ds.geobox.crs.wkt\n",
    "\n",
    "# Export the array\n",
    "array_to_geotiff('simple_array.tif',\n",
    "                      simple_array,\n",
    "                      geo_transform=transform,\n",
    "                      projection=projection,\n",
    "                      nodata_val=np.nan)\n"
   ]
  },
  {
   "cell_type": "markdown",
   "metadata": {},
   "source": [
    "---\n",
    "\n",
    "## Additional information\n",
    "\n",
    "**License:** The code in this notebook is licensed under the [Apache License, Version 2.0](https://www.apache.org/licenses/LICENSE-2.0). \n",
    "Digital Earth Africa data is licensed under the [Creative Commons by Attribution 4.0](https://creativecommons.org/licenses/by/4.0/) license.\n",
    "\n",
    "**Contact:** If you need assistance, please post a question on the [Open Data Cube Slack channel](http://slack.opendatacube.org/) or on the [GIS Stack Exchange](https://gis.stackexchange.com/questions/ask?tags=open-data-cube) using the `open-data-cube` tag (you can view previously asked questions [here](https://gis.stackexchange.com/questions/tagged/open-data-cube)).\n",
    "If you would like to report an issue with this notebook, you can file one on [Github](https://github.com/digitalearthafrica/deafrica-sandbox-notebooks).\n",
    "\n",
    "**Last modified:** June 2020\n",
    "\n",
    "**Compatible datacube version:** "
   ]
  },
  {
   "cell_type": "code",
   "execution_count": null,
   "metadata": {},
   "outputs": [],
   "source": [
    "print(datacube.__version__)"
   ]
  },
  {
   "cell_type": "markdown",
   "metadata": {},
   "source": [
    "## Tags\n",
    "Browse all available tags on the DE Africa User Guide's [Tags Index]()"
   ]
  },
  {
   "cell_type": "raw",
   "metadata": {
    "raw_mimetype": "text/restructuredtext"
   },
   "source": [
    "**Tags**: :index:`GeoTIFF`, :index:`dc.load`, :index:`landsat 8`, :index:`array_to_geotiff`, :index:`datacube.helpers.write_geotiff`, :index:`exporting data`     "
   ]
  }
 ],
 "metadata": {
  "kernelspec": {
   "display_name": "Python 3",
   "language": "python",
   "name": "python3"
  },
  "language_info": {
   "codemirror_mode": {
    "name": "ipython",
    "version": 3
   },
   "file_extension": ".py",
   "mimetype": "text/x-python",
   "name": "python",
   "nbconvert_exporter": "python",
   "pygments_lexer": "ipython3",
   "version": "3.6.9"
  },
  "widgets": {
   "application/vnd.jupyter.widget-state+json": {
    "state": {},
    "version_major": 2,
    "version_minor": 0
   }
  }
 },
 "nbformat": 4,
 "nbformat_minor": 4
}
