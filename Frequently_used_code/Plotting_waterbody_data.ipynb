{
 "cells": [
  {
   "cell_type": "markdown",
   "id": "7a6e87ac-1264-4071-94ae-6359203d38c5",
   "metadata": {},
   "source": [
    "# Plotting Waterbody Data\n",
    "\n",
    "In this notebook, we will look at the wet percentage data for a given waterbody. Plotting a waterbody's historical observed wet percentage data gives us better insight into the presence of seasonal patterns, trends or anomalies. \n",
    "\n",
    "This is done through using past observations, grouping them by months into percentiles and plotting the most recent observations. Percentiles are a statistical measure used to understand the distribution of data points (observations) within a dataset."
   ]
  },
  {
   "cell_type": "markdown",
   "id": "d926cb1e-359b-4715-abc1-c54e0d1ec2aa",
   "metadata": {},
   "source": [
    "## Getting started\n",
    "\n",
    "To run this analysis, run all the cells in the notebook, starting with the “Load packages” cell."
   ]
  },
  {
   "cell_type": "markdown",
   "id": "249098ec-e513-4e9b-a411-01f117ff6fb4",
   "metadata": {},
   "source": [
    "### Load packages\n",
    "Import Python packages that are used for the analysis."
   ]
  },
  {
   "cell_type": "code",
   "execution_count": null,
   "id": "06142646-f261-4369-9ce1-53f793092bea",
   "metadata": {},
   "outputs": [],
   "source": [
    "import matplotlib.pyplot as plt\n",
    "\n",
    "from deafrica_tools.plotting import display_map\n",
    "from deafrica_tools.waterbodies import (\n",
    "    get_geohashes,\n",
    "    get_waterbodies,\n",
    "    get_waterbody,\n",
    "    get_time_series,\n",
    ")\n",
    "\n",
    "import pandas as pd"
   ]
  },
  {
   "cell_type": "markdown",
   "id": "5648fcce-3fc5-447a-9026-bdd3b6c4bf41",
   "metadata": {},
   "source": [
    "### Analysis parameters\n",
    "\n",
    "This section defines the analysis parameters, including:\n",
    "\n",
    "* `lat`, `lon`, `buffer`: center lat/lon and analysis window size for the area of interest (in degrees)"
   ]
  },
  {
   "cell_type": "code",
   "execution_count": null,
   "id": "33978502-ccc2-4f2e-8bc8-9f7238d57bee",
   "metadata": {},
   "outputs": [],
   "source": [
    "# set the central latitude and longitude30.64559°S, 25.64346°E\n",
    "lat = -30.64559\n",
    "lon = 25.64346\n",
    "# set the buffer to load around the central coordinates\n",
    "buffer = 0.1\n",
    "# compute the bounding box coordinates\n",
    "xlim = (lon-buffer, lon+buffer)\n",
    "ylim =  (lat+buffer, lat-buffer)\n",
    "# create a bounding box from study area coordinates\n",
    "bbox = (xlim[0], ylim[1], xlim[1], ylim[0])\n",
    "# select all water bodies located within the bounding box\n",
    "polygons = get_waterbodies(bbox, crs=\"EPSG:4326\")"
   ]
  },
  {
   "cell_type": "markdown",
   "id": "77fe6c83-2521-415f-b8c1-53b9add160c3",
   "metadata": {},
   "source": [
    "### Displaying the polygons\n",
    "We can plot and explore the water bodies within the bounding box. By hovering over the waterbody you want to select, this will show a pop-up box containing the unique identifier (UID), called a geohash, which we will need for analysis. "
   ]
  },
  {
   "cell_type": "code",
   "execution_count": null,
   "id": "2832005b-5c80-46c7-9f66-c4f73364f9b9",
   "metadata": {},
   "outputs": [],
   "source": [
    "# explore the waterbody polygons located within the bounding box\n",
    "polygons.explore()"
   ]
  },
  {
   "cell_type": "markdown",
   "id": "15edeec7-106c-4e56-9fc8-ac927707aeab",
   "metadata": {},
   "source": [
    "### List waterbody polygons in an area\n",
    "Alternatively, can return a list of waterbody polygons inside a bounding box of coordinates and select the UID we will use for analysis."
   ]
  },
  {
   "cell_type": "code",
   "execution_count": null,
   "id": "3d8e70e6-8b35-48e1-9c1e-98db21189025",
   "metadata": {},
   "outputs": [],
   "source": [
    "# return GeoDataFrame with selected waterbodies\n",
    "polygons"
   ]
  },
  {
   "cell_type": "markdown",
   "id": "6e7ef7fa-a462-4d65-a1cc-05c8f7594250",
   "metadata": {
    "tags": []
   },
   "source": [
    "### Selecting a waterbody by Geohash\n",
    "After defining a waterbody's geohash, we use the `get_waterbody()` function to retrieve the waterbody data."
   ]
  },
  {
   "cell_type": "code",
   "execution_count": null,
   "id": "2a037bac-3af5-48d2-bbc0-ba267e23ae91",
   "metadata": {},
   "outputs": [],
   "source": [
    "# select waterbody by geohash\n",
    "selected_waterbody_geohash = 'kwdbbds0cj'\n",
    "selected_waterbody = get_waterbody(selected_waterbody_geohash)"
   ]
  },
  {
   "cell_type": "markdown",
   "id": "92182dea-1f12-4550-9b3b-0be77d59aeb1",
   "metadata": {},
   "source": [
    "### Get timeseries of selected waterbody\n",
    "We then use the `get_time_series()` function to extract the timeseries data for the waterbody, and then select the percentage wet ('pc_wet') attribute from the timeseries. "
   ]
  },
  {
   "cell_type": "code",
   "execution_count": null,
   "id": "8b2b76dd-fc0d-404d-bc93-90019cba9fe6",
   "metadata": {},
   "outputs": [],
   "source": [
    "# get timeseries of selected waterbody\n",
    "selected_waterbody_timeseries = get_time_series(waterbody=selected_waterbody.iloc[0])\n",
    "# select wet percentage from timeseries csv\n",
    "wet_percentage_timeseries = selected_waterbody_timeseries[\"pc_wet\"]"
   ]
  },
  {
   "cell_type": "markdown",
   "id": "83bf3752-85a8-449c-9669-81c2fee50766",
   "metadata": {},
   "source": [
    "### Plotting a waterbody's percentage wet timeseries data\n",
    "This plotting function provides three different plotting options. Each one of these options, raw, median and rolling median, represents a different way of processing a waterbody's timeseries data before visualisation. As each data processing option is different, this affects how trends, patterns and anomalies are visualised and interpreted.\n",
    "\n",
    "* **Raw values ('raw_values')**\n",
    "This option uses raw time series data without applying any aggregation or smoothing. \n",
    "\n",
    "* **Median ('median')**\n",
    "This option resamples the timeseries data and calculates the median value for each month.\n",
    "\n",
    "* **Rolling Median ('rolling_median')**\n",
    "This option uses a rolling median over a specified window (4 months), calculates the mean of these values and smooths the data by reducing large fluctuations in the data. "
   ]
  },
  {
   "cell_type": "code",
   "execution_count": null,
   "id": "1d302969-cfbf-4ac9-b16d-da299645c36c",
   "metadata": {},
   "outputs": [],
   "source": [
    "def plot_timeseries(timeseries, option='median'):\n",
    "    # select wet percentage from timeseries csv\n",
    "    wet_percentage_timeseries = selected_waterbody_timeseries[\"pc_wet\"]\n",
    "    \n",
    "    if option == 'raw_values':\n",
    "        # converts Series to dataFrame using .to_frame\n",
    "        prepared_timeseries = wet_percentage_timeseries\n",
    "    \n",
    "    elif option == 'rolling_median': \n",
    "        # calc. 4-month rolling av. of monthly median \"pc_wet\" values\n",
    "        window = 4\n",
    "        # rolling mean can be calculated with a min. of 1 valid observation within the windom \n",
    "        prepared_timeseries = wet_percentage_timeseries.resample('M').median().rolling(window=window, min_periods=1).mean()\n",
    "        \n",
    "    elif option == 'median':\n",
    "        # resample the \"pc_wet\" data to monthly averages using median values\n",
    "        prepared_timeseries = wet_percentage_timeseries.resample('M').median()\n",
    "        \n",
    "    else:\n",
    "        raise ValueError(\"Invalid option. Select either 'raw_values', 'median', or 'rolling_median'.\")\n",
    "    # converts Series to dataFrame using .to_frame\n",
    "    timeseries_df = prepared_timeseries.to_frame(name='pc_wet') \n",
    "    \n",
    "    # takes the year/month from the indexed date column into two new columns\n",
    "    timeseries_df['year'] = timeseries_df.index.year\n",
    "    timeseries_df['month'] = timeseries_df.index.month\n",
    "    \n",
    "    # groups row of the dataframe by 'month'\n",
    "    group_by_month = timeseries_df.groupby('month')\n",
    "    # selects 'pc_wet' column from groups created, quantiles calc\n",
    "    percentiles = group_by_month['pc_wet'].quantile([0,0.2,0.4,0.6,0.8,1]).unstack()\n",
    "    new_columns = [f'{int(quantile * 100)}th percentile' for quantile in percentiles.columns]\n",
    "    # assigns the new list of column names created to percentiles DataFrame\n",
    "    percentiles.columns = new_columns\n",
    "    percentiles['month'] = percentiles.index\n",
    "    \n",
    "    # define colors\n",
    "    colors = ['#7fc97f','#beaed4', '#fdc086', '#ffff99', '#386cb0', '#f0027f']\n",
    "    month_names = ['Jan', 'Feb', 'Mar', 'Apr', 'May', 'Jun', 'Jul', 'Aug', 'Sep', 'Oct', 'Nov', 'Dec']\n",
    "    legend_rename = {'0th percentile': 'Minimum', '100th percentile': 'Maximum'}\n",
    "\n",
    "    plt.figure(figsize=(10, 6))\n",
    "    percentile_columns = [col for col in percentiles.columns if 'percentile' in col]\n",
    "\n",
    "    for i, percentile in enumerate(percentile_columns):\n",
    "        plt.plot(percentiles.index, percentiles[ percentile], label=percentile, color=colors[i], linewidth=2)\n",
    "        if i > 0:\n",
    "            plt.fill_between(percentiles.index, percentiles[percentile_columns[i-1]], percentiles[percentile], color=colors[i], alpha=0.5)\n",
    "    \n",
    "    # extract median monthly 'pc_wet' values for most recent year in the dataset\n",
    "    last_year = timeseries_df.index.year.max()\n",
    "    last_year_data = timeseries_df[timeseries_df.index.year == last_year]['pc_wet'].resample('M').median()\n",
    "    # overlays latest year's monthly data on percentile plot\n",
    "    plt.plot(last_year_data.index.month, last_year_data, label=f'{last_year} Data', color='black', linewidth=2)\n",
    "    \n",
    "    plt.xlabel('Month')\n",
    "    plt.ylabel('% Wet')\n",
    "    plt.title('Monthly Waterbody Wet Percentage Percentiles')\n",
    "    handles, labels = plt.gca().get_legend_handles_labels()\n",
    "    new_labels = [legend_rename.get(label, label) for label in labels]\n",
    "    plt.legend(handles, new_labels)\n",
    "    plt.xticks(range(1, 13), month_names)\n",
    "    plt.show()"
   ]
  },
  {
   "cell_type": "markdown",
   "id": "cc32bad4-6a71-4e7a-8742-914109906c53",
   "metadata": {},
   "source": [
    "#### Plotting raw values \n",
    "Plotting the `raw_values` from a waterbody's timeseries allows us to observe recordings as they were recorded. Resulting in greater fluctuations in our data which can limit the identification of trends or patterns due to noise. "
   ]
  },
  {
   "cell_type": "code",
   "execution_count": null,
   "id": "eed7cb88-7050-48f8-b435-9b014bdef801",
   "metadata": {
    "tags": []
   },
   "outputs": [],
   "source": [
    "timeseries_raw = plot_timeseries(selected_waterbody_timeseries, 'raw_values')\n",
    "timeseries_raw"
   ]
  },
  {
   "cell_type": "markdown",
   "id": "d26f41ea-6669-4a90-ac10-960226b3ca63",
   "metadata": {},
   "source": [
    "#### Plotting median values \n",
    "\n",
    "Plotting the `median` values on a monthly basis from a waterbody's timeseries allows us to observe a monthly central trend. Resulting in a simplified dataset, allowing for better identification of any present trends or patterns."
   ]
  },
  {
   "cell_type": "code",
   "execution_count": null,
   "id": "41113187-b39c-4a6a-95ce-a4e5180622dc",
   "metadata": {},
   "outputs": [],
   "source": [
    "timeseries_median = plot_timeseries(selected_waterbody_timeseries, 'median')\n",
    "timeseries_median"
   ]
  },
  {
   "cell_type": "markdown",
   "id": "4990c235-ff9a-4b48-90f1-b71b4dfcc518",
   "metadata": {},
   "source": [
    "#### Plotting rolling-median values\n",
    "Plotting the `rolling_median` for a waterbody's timeseries allows us to observe the central tendency of the data while smoothing out short-term fluctuations of our data. Resulting in the reduction of noise and clearer identification of underlaying trends and patterns."
   ]
  },
  {
   "cell_type": "code",
   "execution_count": null,
   "id": "6717767a-a00d-4afd-b0e5-1c21a6416c66",
   "metadata": {},
   "outputs": [],
   "source": [
    "timeseries_rolling_median = plot_timeseries(selected_waterbody_timeseries, 'rolling_median')\n",
    "timeseries_rolling_median"
   ]
  }
 ],
 "metadata": {
  "kernelspec": {
   "display_name": "Python 3 (ipykernel)",
   "language": "python",
   "name": "python3"
  },
  "language_info": {
   "codemirror_mode": {
    "name": "ipython",
    "version": 3
   },
   "file_extension": ".py",
   "mimetype": "text/x-python",
   "name": "python",
   "nbconvert_exporter": "python",
   "pygments_lexer": "ipython3",
   "version": "3.10.12"
  }
 },
 "nbformat": 4,
 "nbformat_minor": 5
}
