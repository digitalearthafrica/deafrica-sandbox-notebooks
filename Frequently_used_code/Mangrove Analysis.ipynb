{
 "cells": [
  {
   "cell_type": "markdown",
   "metadata": {},
   "source": [
    "# Mangrove Analysis  \n",
    "\n",
    "## Global Mangrove Watch Data\n",
    "[Global Mangrove Watch (GMW)](https://www.globalmangrovewatch.org/) is an initiative to track global mangrove extents. It uses combined ALOS PALSAR and Landsat (optical) data to form a baseline shapefile for the year 2010. More detailed information on the initiative can be found [here](http://data.unep-wcmc.org/datasets/45). To summarize, GMW shapefiles provide a general location of all mangroves in the world.\n",
    "\n",
    "The shapefile used by this notebook is a country specific extraction from the global shapefile provided by GMW. The purpose of this notebook is to use the extracted shapefile as a baseline for classifying mangroves through NDVI thresholding. We then analyze how the mangroves change over time in our area of interest."
   ]
  },
  {
   "cell_type": "markdown",
   "metadata": {},
   "source": [
    "---\n",
    "## Analysis Process\n",
    "The process begins with retrieving data for a specific area in a time series. This dataset is then compressed into a mean composite for each year. From the mean composite, we then calculate the NDVI values of each pixel in each year. The dataset is then masked, and the NDVI threshold is applied for mangrove classification. The following image shows the decision tree for the classification.\n",
    "\n",
    "![mangrove_decision_tree.png](mangrove_decision_tree.png)\n",
    "\n",
    "\n",
    "After classification, we can perform a variety of analyses on the data. We can estimate the change in mangrove areas by counting all the classified pixels for each year and plotting the trend line of the count. We can also visualize the mangrove areas by plotting each classified pixel a certain color. "
   ]
  },
  {
   "cell_type": "markdown",
   "metadata": {},
   "source": [
    "## Define Options Here\n",
    "Areas and times of interest are included as examples."
   ]
  },
  {
   "cell_type": "code",
   "execution_count": 1,
   "metadata": {},
   "outputs": [],
   "source": [
    "PLATFORM = 'LANDSAT_7'\n",
    "PRODUCT = 'ls7_ledaps_kenya'\n",
    "\n",
    "# Mombasa, Kenya\n",
    "LATITUDE = (-4.1, -3.9) \n",
    "LONGITUDE = (39.5, 39.7) \n",
    "YEARS = (2010, 2016)\n",
    "\n",
    "SHAPEFILE = 'mangroves/kenya/kenya_man.shp'\n",
    "\n",
    "NDVI_THRESHOLD = 0.4"
   ]
  },
  {
   "cell_type": "markdown",
   "metadata": {},
   "source": [
    "## Imports"
   ]
  },
  {
   "cell_type": "code",
   "execution_count": 2,
   "metadata": {},
   "outputs": [],
   "source": [
    "# Suppresses warnings that occur during building of features\n",
    "import warnings\n",
    "warnings.filterwarnings('ignore')"
   ]
  },
  {
   "cell_type": "code",
   "execution_count": 3,
   "metadata": {},
   "outputs": [],
   "source": [
    "%matplotlib inline\n",
    "\n",
    "from sys import path\n",
    "path.append(\"../\")\n",
    "\n",
    "import datacube\n",
    "import fiona\n",
    "import functools as ft\n",
    "import matplotlib.pyplot as plt\n",
    "import numpy as np\n",
    "import pandas as pd\n",
    "import rasterio\n",
    "import rasterio.mask\n",
    "import seaborn as sns\n",
    "import xarray as xr\n",
    "\n",
    "from matplotlib.ticker import MaxNLocator\n",
    "from shapely.geometry import shape\n",
    "\n",
    "from odc.ui import with_ui_cbk\n",
    "from odc.algo import to_f32, from_float, xr_geomedian\n",
    "# from utils.data_cube_utilities.dc_mosaic import create_mean_mosaic\n",
    "# from utils.data_cube_utilities.dc_mosaic import ls8_unpack_qa\n",
    "# from utils.data_cube_utilities.dc_mosaic import ls7_unpack_qa\n",
    "# from utils.data_cube_utilities.dc_mosaic import ls5_unpack_qa\n",
    "# from utils.data_cube_utilities.dc_rgb import rgb\n",
    "import sys\n",
    "sys.path.append('../Scripts')\n",
    "\n",
    "import warnings\n",
    "warnings.filterwarnings(\"ignore\")\n",
    "\n",
    "from deafrica_datahandling import load_ard, mostcommon_crs\n",
    "from deafrica_plotting import display_map, rgb\n",
    "from deafrica_bandindices import calculate_indices\n",
    "from deafrica_dask import create_local_dask_cluster"
   ]
  },
  {
   "cell_type": "markdown",
   "metadata": {},
   "source": [
    "## Load the Data\n",
    "This method loads the data from the Open Datacube using the defined options above."
   ]
  },
  {
   "cell_type": "code",
   "execution_count": 4,
   "metadata": {},
   "outputs": [],
   "source": [
    "# def load_dc_data(platform, product, latitude, longitude, years):\n",
    "#     \"\"\"Loads the dataset from Datacube\"\"\"\n",
    "#     dc = datacube.Datacube()\n",
    "\n",
    "#     params = dict(platform = platform,\n",
    "#                   product   = product,\n",
    "#                   latitude = latitude,\n",
    "#                   longitude = longitude,\n",
    "#                   time = ('{}-01-01'.format(years[0]), '{}-12-31'.format(years[1])), \n",
    "#                   measurements = ['red', 'green', 'nir', 'swir2', 'pixel_qa'])  \n",
    "\n",
    "#     dataset = dc.load(**params)\n",
    "\n",
    "#     return dataset"
   ]
  },
  {
   "cell_type": "markdown",
   "metadata": {},
   "source": [
    "## Mean Mosaic\n",
    "This object will create the mean temporal composite for each year in the dataset."
   ]
  },
  {
   "cell_type": "code",
   "execution_count": 5,
   "metadata": {},
   "outputs": [],
   "source": [
    "class TemporalCompositor:\n",
    "    \"\"\"A TemporalCompositor object for creating mean composites over a temporal dimension.\n",
    "    \n",
    "    Attributes:\n",
    "        dataset (xarray.Dataset): The dataset used in the compositing.\n",
    "    \"\"\"\n",
    "    __slots__ = ('dataset', 'platform')\n",
    "    \n",
    "    def __init__(self, dataset, platform):\n",
    "        \"\"\"Initialize object and set the dataset.\n",
    "        \n",
    "        Args:\n",
    "            dataset (xarray.Dataset): The dataset used in the compositing.\n",
    "        \"\"\"\n",
    "        self.dataset = dataset\n",
    "        self.platform = platform\n",
    "        \n",
    "    def clean_mask(self, func):\n",
    "        \"\"\"A function to create a clean mask for compositing.\n",
    "        \n",
    "        Args:\n",
    "            func (function): The function used for unpacking pixel_qa.\n",
    "        \n",
    "        Returns:\n",
    "            The clean mask.\n",
    "        \"\"\"\n",
    "        water_mask = func(self.dataset.pixel_qa, cover_type = \"water\")\n",
    "        clear_mask = func(self.dataset.pixel_qa, cover_type = \"clear\")\n",
    "        clean_mask = np.logical_or(water_mask, clear_mask)\n",
    "        return clean_mask\n",
    "\n",
    "    def create_temporal_composites(self):\n",
    "        \"\"\"A function to create the mean temporal composites.\n",
    "        \n",
    "        Args:\n",
    "            platform (string): The platform of the dataset (LANDSAT_8/7/5).\n",
    "        \n",
    "        Returns:\n",
    "            The mean temporal composites.\n",
    "        \"\"\"\n",
    "#         if(self.platform == 'LANDSAT_8'):\n",
    "        clean = self.clean_mask(ls8_unpack_qa)\n",
    "#         elif(self.platform == 'LANDSAT_7'):\n",
    "#             clean = self.clean_mask(ls7_unpack_qa)\n",
    "#         elif(self.platform == 'LANDSAT_5'):\n",
    "#             clean = self.clean_mask(ls5_unpack_qa)\n",
    "#         else:\n",
    "#             raise ValueError('Missing an appropriate PLATFORM value.')\n",
    "        \n",
    "        composites = self.dataset.groupby(\"time.year\").apply(lambda ds: ds.where(clean).mean(dim='time'))\n",
    "        return composites.drop('pixel_qa')"
   ]
  },
  {
   "cell_type": "markdown",
   "metadata": {},
   "source": [
    "## Create Mask\n",
    "The following method loads a shapefile and extracts a mask from it. This mask will form the baseline of our classification using an NDVI threshold."
   ]
  },
  {
   "cell_type": "code",
   "execution_count": 6,
   "metadata": {},
   "outputs": [],
   "source": [
    "def extract_shapefile_mask(dataset: xr.Dataset, shapefile):\n",
    "    \"\"\"Extracts a mask from a shapefile using dataset latitude and longitude extents.\n",
    "    \n",
    "    Args:\n",
    "        dataset (xarray.Dataset): The dataset with the latitude and longitude extents.\n",
    "        shapefile (string): The shapefile to be used for extraction.\n",
    "        \n",
    "    Returns:\n",
    "        A mask array.\n",
    "    \"\"\"\n",
    "    with fiona.open(shapefile, 'r') as source:\n",
    "        collection = list(source)\n",
    "        geometries = []\n",
    "        for feature in collection:\n",
    "            geometries.append(shape(feature['geometry']))\n",
    "        geobox = dataset.geobox\n",
    "        mask = rasterio.features.geometry_mask(\n",
    "            geometries,\n",
    "            out_shape=geobox.shape,\n",
    "            transform=geobox.affine,\n",
    "            all_touched=True,\n",
    "            invert=True)\n",
    "    return mask"
   ]
  },
  {
   "cell_type": "markdown",
   "metadata": {},
   "source": [
    "## Features\n",
    "The following methods will be the features we build for our classification.\n",
    "\n",
    "\n",
    "### NDVI\n",
    "\n",
    "NDVI is used for mangrove classification within the mangrove mask.\n",
    "\n",
    "\n",
    "$$ NDVI = \\frac{NIR - Red}{NIR + Red} $$\n",
    "\n"
   ]
  },
  {
   "cell_type": "code",
   "execution_count": 7,
   "metadata": {},
   "outputs": [],
   "source": [
    "def ndvi(dataset: xr.Dataset) -> xr.DataArray:\n",
    "    \"\"\"Creates the NDVI for a given dataset.\"\"\"\n",
    "    return (dataset.nir - dataset.red)/(dataset.nir + dataset.red).rename(\"ndvi\")"
   ]
  },
  {
   "cell_type": "markdown",
   "metadata": {},
   "source": [
    "### NDWI\n",
    "\n",
    "NDWI is used for creating a better greyscale image when displaying the results.\n",
    "\n",
    "\n",
    "$$ NDWI = \\frac{Green - NIR}{Green + NIR} $$"
   ]
  },
  {
   "cell_type": "code",
   "execution_count": 8,
   "metadata": {},
   "outputs": [],
   "source": [
    "def ndwi(dataset: xr.Dataset) -> xr.DataArray:\n",
    "    \"\"\"Creates the NDWI for a given dataset.\"\"\"\n",
    "    return (dataset.green - dataset.nir)/(dataset.green + dataset.nir)"
   ]
  },
  {
   "cell_type": "markdown",
   "metadata": {},
   "source": [
    "## Classification\n",
    "The MangroveClassifier object is used for building features and classifying mangroves based on a given threshold."
   ]
  },
  {
   "cell_type": "code",
   "execution_count": 9,
   "metadata": {},
   "outputs": [],
   "source": [
    "class MangroveClassifier:\n",
    "    \"\"\"An object for classifying mangroves.\n",
    "    \n",
    "    Attributes:\n",
    "        features (xarray.Dataset): Contains the built features for the given dataset.\n",
    "    \"\"\"\n",
    "    __slots__ = ('features')\n",
    "    \n",
    "    def __init__(self, dataset, platform):\n",
    "        self.features = self.build_features(dataset, platform)\n",
    "    \n",
    "    def build_features(self, dataset, platform):\n",
    "        \"\"\"Builds the features for the composites.\n",
    "\n",
    "        Args:\n",
    "            dataset (xarray.Dataset): The full dataset to perform the operation over.\n",
    "\n",
    "        Returns:\n",
    "            The input dataset with features added.\n",
    "        \"\"\"\n",
    "        # The list of functions for the features to build.\n",
    "        functions = (ndvi, ndwi)\n",
    "        \n",
    "        compositor = TemporalCompositor(dataset, platform)\n",
    "        features = compositor.create_temporal_composites()\n",
    "        \n",
    "        for func in functions:\n",
    "            features[func.__name__] = func(features)\n",
    "            \n",
    "        return features\n",
    "    \n",
    "    def classify_mangrove(self, threshold=0.4, name='is_mangrove') -> xr.DataArray:\n",
    "        if self.features is None:\n",
    "            raise ValueError('Features are missing.')\n",
    "        \n",
    "        constraints = {\n",
    "            lambda x: x.ndvi > threshold,\n",
    "            lambda x: x.ndvi < 1.0\n",
    "        }\n",
    "\n",
    "        classifications = ft.reduce(np.logical_and, map(lambda constraint: constraint(self.features),  constraints))\n",
    "\n",
    "        return classifications.to_dataset(name)\n"
   ]
  },
  {
   "cell_type": "markdown",
   "metadata": {},
   "source": [
    "## Get Mangrove Pixel Counts\n",
    "This method calculates the count of each mangrove classification for each year in a given dataset. This provides information on the area of the mangroves for each year."
   ]
  },
  {
   "cell_type": "code",
   "execution_count": 10,
   "metadata": {},
   "outputs": [],
   "source": [
    "def get_classification_count(dataset, name, mask=None):\n",
    "    \"\"\"Gets the count of a classification for each year in a dataset.\n",
    "    \n",
    "    Args:\n",
    "        dataset (xarray.Dataset): The dataset to count over.\n",
    "        name (string): The name of the classification in the dataset to count.\n",
    "        mask (np.array): A mask can be supplied to change the area counted over.\n",
    "    \n",
    "    Returns:\n",
    "        A list of counts for each year.\n",
    "    \"\"\"\n",
    "    counts = []\n",
    "    \n",
    "#     if mask is None:\n",
    "#         for year in dataset.time.values:\n",
    "#             counts.append(dataset.sel(year=year)[name].values.sum())\n",
    "#     else:\n",
    "#         for year in dataset.time.values:\n",
    "#             counts.append(dataset.sel(year=year)[name].values[mask].sum())\n",
    "            \n",
    "    if mask is None:\n",
    "        for year in dataset.time.values:\n",
    "            counts.append(dataset.sel(time=year)[name].values[mask].sum())\n",
    "    else:\n",
    "        for year in range(0, len(mangroves.time.values)):\n",
    "            counts.append(dataset.isel(time=year)[name].values.sum())\n",
    "        \n",
    "    return counts"
   ]
  },
  {
   "cell_type": "markdown",
   "metadata": {},
   "source": [
    "---\n",
    "# Results\n",
    "The following section holds the results of running the code above.\n",
    "\n",
    "## Loading the Data"
   ]
  },
  {
   "cell_type": "code",
   "execution_count": 11,
   "metadata": {},
   "outputs": [
    {
     "data": {
      "text/html": [
       "<table style=\"border: 2px solid white;\">\n",
       "<tr>\n",
       "<td style=\"vertical-align: top; border: 0px solid white\">\n",
       "<h3 style=\"text-align: left;\">Client</h3>\n",
       "<ul style=\"text-align: left; list-style: none; margin: 0; padding: 0;\">\n",
       "  <li><b>Scheduler: </b>tcp://127.0.0.1:40483</li>\n",
       "  <li><b>Dashboard: </b><a href='/user/nanaboamah/proxy/8787/status' target='_blank'>/user/nanaboamah/proxy/8787/status</a>\n",
       "</ul>\n",
       "</td>\n",
       "<td style=\"vertical-align: top; border: 0px solid white\">\n",
       "<h3 style=\"text-align: left;\">Cluster</h3>\n",
       "<ul style=\"text-align: left; list-style:none; margin: 0; padding: 0;\">\n",
       "  <li><b>Workers: </b>1</li>\n",
       "  <li><b>Cores: </b>2</li>\n",
       "  <li><b>Memory: </b>14.18 GB</li>\n",
       "</ul>\n",
       "</td>\n",
       "</tr>\n",
       "</table>"
      ],
      "text/plain": [
       "<Client: 'tcp://127.0.0.1:40483' processes=1 threads=2, memory=14.18 GB>"
      ]
     },
     "metadata": {},
     "output_type": "display_data"
    }
   ],
   "source": [
    "# dataset = load_dc_data(PLATFORM, PRODUCT, LATITUDE, LONGITUDE, YEARS)\n",
    "dc = datacube.Datacube(app='Mangrove')\n",
    "\n",
    "create_local_dask_cluster()"
   ]
  },
  {
   "cell_type": "code",
   "execution_count": 12,
   "metadata": {},
   "outputs": [],
   "source": [
    "lat = -6.1367\n",
    "lon = 39.1751\n",
    "\n",
    "# lat = -4.1\n",
    "# lon = 39.5\n",
    "\n",
    "buffer = 0.1\n",
    "\n",
    "query = {\n",
    "    'x': (lon-buffer, lon+buffer),\n",
    "    'y': (lat+buffer, lat-buffer),\n",
    "    'group_by': 'solar_day',\n",
    "    'resolution': (-30, 30),\n",
    "    'align': (15, 15),\n",
    "}\n",
    "\n",
    "output_crs = mostcommon_crs(dc=dc, product='ls8_usgs_sr_scene', query=query)"
   ]
  },
  {
   "cell_type": "code",
   "execution_count": 13,
   "metadata": {},
   "outputs": [
    {
     "data": {
      "text/html": [
       "<div style=\"width:100%;\"><div style=\"position:relative;width:100%;height:0;padding-bottom:60%;\"><iframe src=\"data:text/html;charset=utf-8;base64,PCFET0NUWVBFIGh0bWw+CjxoZWFkPiAgICAKICAgIDxtZXRhIGh0dHAtZXF1aXY9ImNvbnRlbnQtdHlwZSIgY29udGVudD0idGV4dC9odG1sOyBjaGFyc2V0PVVURi04IiAvPgogICAgCiAgICAgICAgPHNjcmlwdD4KICAgICAgICAgICAgTF9OT19UT1VDSCA9IGZhbHNlOwogICAgICAgICAgICBMX0RJU0FCTEVfM0QgPSBmYWxzZTsKICAgICAgICA8L3NjcmlwdD4KICAgIAogICAgPHNjcmlwdCBzcmM9Imh0dHBzOi8vY2RuLmpzZGVsaXZyLm5ldC9ucG0vbGVhZmxldEAxLjUuMS9kaXN0L2xlYWZsZXQuanMiPjwvc2NyaXB0PgogICAgPHNjcmlwdCBzcmM9Imh0dHBzOi8vY29kZS5qcXVlcnkuY29tL2pxdWVyeS0xLjEyLjQubWluLmpzIj48L3NjcmlwdD4KICAgIDxzY3JpcHQgc3JjPSJodHRwczovL21heGNkbi5ib290c3RyYXBjZG4uY29tL2Jvb3RzdHJhcC8zLjIuMC9qcy9ib290c3RyYXAubWluLmpzIj48L3NjcmlwdD4KICAgIDxzY3JpcHQgc3JjPSJodHRwczovL2NkbmpzLmNsb3VkZmxhcmUuY29tL2FqYXgvbGlicy9MZWFmbGV0LmF3ZXNvbWUtbWFya2Vycy8yLjAuMi9sZWFmbGV0LmF3ZXNvbWUtbWFya2Vycy5qcyI+PC9zY3JpcHQ+CiAgICA8bGluayByZWw9InN0eWxlc2hlZXQiIGhyZWY9Imh0dHBzOi8vY2RuLmpzZGVsaXZyLm5ldC9ucG0vbGVhZmxldEAxLjUuMS9kaXN0L2xlYWZsZXQuY3NzIi8+CiAgICA8bGluayByZWw9InN0eWxlc2hlZXQiIGhyZWY9Imh0dHBzOi8vbWF4Y2RuLmJvb3RzdHJhcGNkbi5jb20vYm9vdHN0cmFwLzMuMi4wL2Nzcy9ib290c3RyYXAubWluLmNzcyIvPgogICAgPGxpbmsgcmVsPSJzdHlsZXNoZWV0IiBocmVmPSJodHRwczovL21heGNkbi5ib290c3RyYXBjZG4uY29tL2Jvb3RzdHJhcC8zLjIuMC9jc3MvYm9vdHN0cmFwLXRoZW1lLm1pbi5jc3MiLz4KICAgIDxsaW5rIHJlbD0ic3R5bGVzaGVldCIgaHJlZj0iaHR0cHM6Ly9tYXhjZG4uYm9vdHN0cmFwY2RuLmNvbS9mb250LWF3ZXNvbWUvNC42LjMvY3NzL2ZvbnQtYXdlc29tZS5taW4uY3NzIi8+CiAgICA8bGluayByZWw9InN0eWxlc2hlZXQiIGhyZWY9Imh0dHBzOi8vY2RuanMuY2xvdWRmbGFyZS5jb20vYWpheC9saWJzL0xlYWZsZXQuYXdlc29tZS1tYXJrZXJzLzIuMC4yL2xlYWZsZXQuYXdlc29tZS1tYXJrZXJzLmNzcyIvPgogICAgPGxpbmsgcmVsPSJzdHlsZXNoZWV0IiBocmVmPSJodHRwczovL3Jhd2Nkbi5naXRoYWNrLmNvbS9weXRob24tdmlzdWFsaXphdGlvbi9mb2xpdW0vbWFzdGVyL2ZvbGl1bS90ZW1wbGF0ZXMvbGVhZmxldC5hd2Vzb21lLnJvdGF0ZS5jc3MiLz4KICAgIDxzdHlsZT5odG1sLCBib2R5IHt3aWR0aDogMTAwJTtoZWlnaHQ6IDEwMCU7bWFyZ2luOiAwO3BhZGRpbmc6IDA7fTwvc3R5bGU+CiAgICA8c3R5bGU+I21hcCB7cG9zaXRpb246YWJzb2x1dGU7dG9wOjA7Ym90dG9tOjA7cmlnaHQ6MDtsZWZ0OjA7fTwvc3R5bGU+CiAgICAKICAgICAgICAgICAgPG1ldGEgbmFtZT0idmlld3BvcnQiIGNvbnRlbnQ9IndpZHRoPWRldmljZS13aWR0aCwKICAgICAgICAgICAgICAgIGluaXRpYWwtc2NhbGU9MS4wLCBtYXhpbXVtLXNjYWxlPTEuMCwgdXNlci1zY2FsYWJsZT1ubyIgLz4KICAgICAgICAgICAgPHN0eWxlPgogICAgICAgICAgICAgICAgI21hcF81MmE3NWQ1MTI4NTc0Y2Y4YTQ3ODIzYmQ1ZDE4N2M4MSB7CiAgICAgICAgICAgICAgICAgICAgcG9zaXRpb246IHJlbGF0aXZlOwogICAgICAgICAgICAgICAgICAgIHdpZHRoOiAxMDAuMCU7CiAgICAgICAgICAgICAgICAgICAgaGVpZ2h0OiAxMDAuMCU7CiAgICAgICAgICAgICAgICAgICAgbGVmdDogMC4wJTsKICAgICAgICAgICAgICAgICAgICB0b3A6IDAuMCU7CiAgICAgICAgICAgICAgICB9CiAgICAgICAgICAgIDwvc3R5bGU+CiAgICAgICAgCjwvaGVhZD4KPGJvZHk+ICAgIAogICAgCiAgICAgICAgICAgIDxkaXYgY2xhc3M9ImZvbGl1bS1tYXAiIGlkPSJtYXBfNTJhNzVkNTEyODU3NGNmOGE0NzgyM2JkNWQxODdjODEiID48L2Rpdj4KICAgICAgICAKPC9ib2R5Pgo8c2NyaXB0PiAgICAKICAgIAogICAgICAgICAgICB2YXIgbWFwXzUyYTc1ZDUxMjg1NzRjZjhhNDc4MjNiZDVkMTg3YzgxID0gTC5tYXAoCiAgICAgICAgICAgICAgICAibWFwXzUyYTc1ZDUxMjg1NzRjZjhhNDc4MjNiZDVkMTg3YzgxIiwKICAgICAgICAgICAgICAgIHsKICAgICAgICAgICAgICAgICAgICBjZW50ZXI6IFstNi4xMzY3LCAzOS4xNzUxXSwKICAgICAgICAgICAgICAgICAgICBjcnM6IEwuQ1JTLkVQU0czODU3LAogICAgICAgICAgICAgICAgICAgIHpvb206IDEyLAogICAgICAgICAgICAgICAgICAgIHpvb21Db250cm9sOiB0cnVlLAogICAgICAgICAgICAgICAgICAgIHByZWZlckNhbnZhczogZmFsc2UsCiAgICAgICAgICAgICAgICB9CiAgICAgICAgICAgICk7CgogICAgICAgICAgICAKCiAgICAgICAgCiAgICAKICAgICAgICAgICAgdmFyIHRpbGVfbGF5ZXJfYmZhODY2YzRlYTQ3NDg4Mjg2NzI5YjRlYzgxNDk0YTAgPSBMLnRpbGVMYXllcigKICAgICAgICAgICAgICAgICJodHRwOi8vbXQxLmdvb2dsZS5jb20vdnQvbHlycz15XHUwMDI2ej17en1cdTAwMjZ4PXt4fVx1MDAyNnk9e3l9IiwKICAgICAgICAgICAgICAgIHsiYXR0cmlidXRpb24iOiAiR29vZ2xlIiwgImRldGVjdFJldGluYSI6IGZhbHNlLCAibWF4TmF0aXZlWm9vbSI6IDE4LCAibWF4Wm9vbSI6IDE4LCAibWluWm9vbSI6IDAsICJub1dyYXAiOiBmYWxzZSwgIm9wYWNpdHkiOiAxLCAic3ViZG9tYWlucyI6ICJhYmMiLCAidG1zIjogZmFsc2V9CiAgICAgICAgICAgICkuYWRkVG8obWFwXzUyYTc1ZDUxMjg1NzRjZjhhNDc4MjNiZDVkMTg3YzgxKTsKICAgICAgICAKICAgIAogICAgICAgICAgICB2YXIgcG9seV9saW5lX2RkYTgxNzhhOGRkYzQ1NGE5Yzg1NDMwYjk4ODAwMzIyID0gTC5wb2x5bGluZSgKICAgICAgICAgICAgICAgIFtbLTYuMDM2NzAwMDAwMDAwMDAxLCAzOS4wNzUxXSwgWy02LjAzNjcwMDAwMDAwMDAwMSwgMzkuMjc1MV0sIFstNi4yMzY3LCAzOS4yNzUxXSwgWy02LjIzNjcsIDM5LjA3NTFdLCBbLTYuMDM2NzAwMDAwMDAwMDAxLCAzOS4wNzUxXV0sCiAgICAgICAgICAgICAgICB7ImJ1YmJsaW5nTW91c2VFdmVudHMiOiB0cnVlLCAiY29sb3IiOiAicmVkIiwgImRhc2hBcnJheSI6IG51bGwsICJkYXNoT2Zmc2V0IjogbnVsbCwgImZpbGwiOiBmYWxzZSwgImZpbGxDb2xvciI6ICJyZWQiLCAiZmlsbE9wYWNpdHkiOiAwLjIsICJmaWxsUnVsZSI6ICJldmVub2RkIiwgImxpbmVDYXAiOiAicm91bmQiLCAibGluZUpvaW4iOiAicm91bmQiLCAibm9DbGlwIjogZmFsc2UsICJvcGFjaXR5IjogMC44LCAic21vb3RoRmFjdG9yIjogMS4wLCAic3Ryb2tlIjogdHJ1ZSwgIndlaWdodCI6IDN9CiAgICAgICAgICAgICkuYWRkVG8obWFwXzUyYTc1ZDUxMjg1NzRjZjhhNDc4MjNiZDVkMTg3YzgxKTsKICAgICAgICAKICAgIAogICAgICAgICAgICAgICAgdmFyIGxhdF9sbmdfcG9wdXBfZGIwZjNjYzEwZDA5NGUyNWJiYjUxMWFmNzUzY2UxOGUgPSBMLnBvcHVwKCk7CiAgICAgICAgICAgICAgICBmdW5jdGlvbiBsYXRMbmdQb3AoZSkgewogICAgICAgICAgICAgICAgICAgIGxhdF9sbmdfcG9wdXBfZGIwZjNjYzEwZDA5NGUyNWJiYjUxMWFmNzUzY2UxOGUKICAgICAgICAgICAgICAgICAgICAgICAgLnNldExhdExuZyhlLmxhdGxuZykKICAgICAgICAgICAgICAgICAgICAgICAgLnNldENvbnRlbnQoIkxhdGl0dWRlOiAiICsgZS5sYXRsbmcubGF0LnRvRml4ZWQoNCkgKwogICAgICAgICAgICAgICAgICAgICAgICAgICAgICAgICAgICAiPGJyPkxvbmdpdHVkZTogIiArIGUubGF0bG5nLmxuZy50b0ZpeGVkKDQpKQogICAgICAgICAgICAgICAgICAgICAgICAub3Blbk9uKG1hcF81MmE3NWQ1MTI4NTc0Y2Y4YTQ3ODIzYmQ1ZDE4N2M4MSk7CiAgICAgICAgICAgICAgICAgICAgfQogICAgICAgICAgICAgICAgbWFwXzUyYTc1ZDUxMjg1NzRjZjhhNDc4MjNiZDVkMTg3YzgxLm9uKCdjbGljaycsIGxhdExuZ1BvcCk7CiAgICAgICAgICAgIAo8L3NjcmlwdD4=\" style=\"position:absolute;width:100%;height:100%;left:0;top:0;border:none !important;\" allowfullscreen webkitallowfullscreen mozallowfullscreen></iframe></div></div>"
      ],
      "text/plain": [
       "<folium.folium.Map at 0x7f8f9d1acba8>"
      ]
     },
     "execution_count": 13,
     "metadata": {},
     "output_type": "execute_result"
    }
   ],
   "source": [
    "display_map(query['x'], query['y'], zoom_bias = 1)"
   ]
  },
  {
   "cell_type": "code",
   "execution_count": 14,
   "metadata": {},
   "outputs": [],
   "source": [
    "def cal_loaddataset(time_ds):\n",
    "    query['time'] = time_ds\n",
    "    ds_dataset = load_ard(dc=dc, \n",
    "                  products=['ls8_usgs_sr_scene'],\n",
    "                  output_crs=output_crs,\n",
    "                  dask_chunks={'time': 1, 'x': 500, 'y': 500},\n",
    "                  **query)\n",
    "    \n",
    "    sr_max_value = 10000                 # maximum value for SR in the loaded product\n",
    "    scale, offset = (1/sr_max_value, 0)  # differs per product, aim for 0-1 values in float32\n",
    "    \n",
    "    #scale the values using the f_32 util function\n",
    "    ds_scaled = to_f32(ds_dataset, scale=scale, offset=offset)\n",
    "\n",
    "    #generate a geomedian\n",
    "    ds_geomedian = xr_geomedian(ds_scaled, \n",
    "                         num_threads=1,  # disable internal threading, dask will run several concurrently\n",
    "                         eps=1e-7,  \n",
    "                         nocheck=True)   # disable checks inside library that use too much ram\n",
    "    #convert SR scaling values back to original values\n",
    "    ds_geomedian = from_float(ds_geomedian, \n",
    "                           dtype='float32', \n",
    "                           nodata=np.nan, \n",
    "                           scale=1/scale, \n",
    "                           offset=-offset/scale)\n",
    "   \n",
    "    ds_geomedian = ds_geomedian.compute()\n",
    "    \n",
    "    ds_geomedian = calculate_indices(ds_geomedian, index=['NDVI', 'NDWI'], collection = 'c1')\n",
    "    \n",
    "    return ds_geomedian"
   ]
  },
  {
   "cell_type": "code",
   "execution_count": 22,
   "metadata": {},
   "outputs": [
    {
     "name": "stdout",
     "output_type": "stream",
     "text": [
      "Using pixel quality parameters for USGS Collection 1\n",
      "Finding datasets\n",
      "    ls8_usgs_sr_scene\n",
      "Applying pixel quality/cloud mask\n",
      "Returning 34 time steps as a dask array\n",
      "Using pixel quality parameters for USGS Collection 1\n",
      "Finding datasets\n",
      "    ls8_usgs_sr_scene\n",
      "Applying pixel quality/cloud mask\n",
      "Returning 56 time steps as a dask array\n",
      "Using pixel quality parameters for USGS Collection 1\n",
      "Finding datasets\n",
      "    ls8_usgs_sr_scene\n",
      "Applying pixel quality/cloud mask\n",
      "Returning 75 time steps as a dask array\n",
      "Using pixel quality parameters for USGS Collection 1\n",
      "Finding datasets\n",
      "    ls8_usgs_sr_scene\n",
      "Applying pixel quality/cloud mask\n",
      "Returning 97 time steps as a dask array\n",
      "Using pixel quality parameters for USGS Collection 1\n",
      "Finding datasets\n",
      "    ls8_usgs_sr_scene\n",
      "Applying pixel quality/cloud mask\n",
      "Returning 118 time steps as a dask array\n"
     ]
    },
    {
     "data": {
      "text/plain": [
       "[[2014,\n",
       "  <xarray.Dataset>\n",
       "  Dimensions:          (x: 738, y: 738)\n",
       "  Coordinates:\n",
       "    * y                (y) float64 -6.673e+05 -6.673e+05 ... -6.893e+05 -6.894e+05\n",
       "    * x                (x) float64 5.083e+05 5.084e+05 ... 5.304e+05 5.304e+05\n",
       "  Data variables:\n",
       "      coastal_aerosol  (y, x) float32 306.51157 312.2435 ... 307.1799 275.37558\n",
       "      blue             (y, x) float32 323.69574 329.48843 ... 357.96222 323.07907\n",
       "      green            (y, x) float32 229.51431 234.16537 ... 651.1642 605.70154\n",
       "      red              (y, x) float32 138.85501 142.09013 ... 548.5788 526.42084\n",
       "      nir              (y, x) float32 130.68994 133.62903 ... 3052.7034 3002.8909\n",
       "      swir1            (y, x) float32 156.93689 158.17944 ... 2177.7476 2148.9897\n",
       "      swir2            (y, x) float32 131.10507 132.49673 ... 1121.7101 1084.8104\n",
       "      sr_aerosol       (y, x) float32 129.90002 128.81085 ... 160.52171 161.18225\n",
       "      radsat_qa        (y, x) float32 0.0 0.0 0.0 0.0 0.0 ... 0.0 0.0 0.0 0.0 0.0\n",
       "      NDVI             (y, x) float32 -0.030292029 -0.030687395 ... 0.70168644\n",
       "      NDWI             (y, x) float32 0.27435645 0.27334931 ... -0.6643004],\n",
       " [2015,\n",
       "  <xarray.Dataset>\n",
       "  Dimensions:          (x: 738, y: 738)\n",
       "  Coordinates:\n",
       "    * y                (y) float64 -6.673e+05 -6.673e+05 ... -6.893e+05 -6.894e+05\n",
       "    * x                (x) float64 5.083e+05 5.084e+05 ... 5.304e+05 5.304e+05\n",
       "  Data variables:\n",
       "      coastal_aerosol  (y, x) float32 298.85092 302.52585 ... 339.6238 317.24637\n",
       "      blue             (y, x) float32 317.12402 318.36252 ... 399.36948 373.1231\n",
       "      green            (y, x) float32 221.99275 222.44868 ... 708.0139 675.5758\n",
       "      red              (y, x) float32 129.06886 128.97945 ... 621.6857 590.71423\n",
       "      nir              (y, x) float32 122.226906 121.21339 ... 3093.7546 3040.992\n",
       "      swir1            (y, x) float32 154.20499 152.46002 ... 2333.1726 2289.0886\n",
       "      swir2            (y, x) float32 129.99725 128.46574 ... 1238.9569 1201.9808\n",
       "      sr_aerosol       (y, x) float32 142.16957 140.7163 ... 165.70471 165.62415\n",
       "      radsat_qa        (y, x) float32 0.0 0.0 0.0 0.0 0.0 ... 0.0 0.0 0.0 0.0 0.0\n",
       "      NDVI             (y, x) float32 -0.027226727 -0.03104032 ... 0.67469054\n",
       "      NDWI             (y, x) float32 0.28983194 0.29457808 ... -0.63645184],\n",
       " [2016,\n",
       "  <xarray.Dataset>\n",
       "  Dimensions:          (x: 738, y: 738)\n",
       "  Coordinates:\n",
       "    * y                (y) float64 -6.673e+05 -6.673e+05 ... -6.893e+05 -6.894e+05\n",
       "    * x                (x) float64 5.083e+05 5.084e+05 ... 5.304e+05 5.304e+05\n",
       "  Data variables:\n",
       "      coastal_aerosol  (y, x) float32 308.5507 310.59125 ... 325.5425 297.75903\n",
       "      blue             (y, x) float32 320.90488 321.7419 ... 380.0021 351.03986\n",
       "      green            (y, x) float32 220.02226 220.4499 ... 686.4689 654.3085\n",
       "      red              (y, x) float32 128.62537 128.32378 ... 588.47186 553.7068\n",
       "      nir              (y, x) float32 121.6105 120.52291 ... 3121.2444 3101.281\n",
       "      swir1            (y, x) float32 150.51227 148.89162 ... 2314.7964 2219.4197\n",
       "      swir2            (y, x) float32 126.631256 125.4293 ... 1224.2655 1146.9814\n",
       "      sr_aerosol       (y, x) float32 131.10448 130.07344 ... 165.94514 163.35857\n",
       "      radsat_qa        (y, x) float32 0.0 0.0 0.0 0.0 0.0 ... 0.0 0.0 0.0 0.0 0.0\n",
       "      NDVI             (y, x) float32 -0.028033033 -0.031348094 ... 0.697013\n",
       "      NDWI             (y, x) float32 0.28806302 0.29306442 ... -0.6515548],\n",
       " [2017,\n",
       "  <xarray.Dataset>\n",
       "  Dimensions:          (x: 738, y: 738)\n",
       "  Coordinates:\n",
       "    * y                (y) float64 -6.673e+05 -6.673e+05 ... -6.893e+05 -6.894e+05\n",
       "    * x                (x) float64 5.083e+05 5.084e+05 ... 5.304e+05 5.304e+05\n",
       "  Data variables:\n",
       "      coastal_aerosol  (y, x) float32 308.8089 310.75845 ... 308.34683 285.26334\n",
       "      blue             (y, x) float32 319.79706 320.8778 ... 363.62466 339.04956\n",
       "      green            (y, x) float32 219.73279 220.65771 ... 679.6131 650.89496\n",
       "      red              (y, x) float32 130.24606 130.13393 ... 563.1155 532.604\n",
       "      nir              (y, x) float32 124.84501 124.245224 ... 3233.2512 3203.3826\n",
       "      swir1            (y, x) float32 155.07767 153.77966 ... 2253.4844 2174.5115\n",
       "      swir2            (y, x) float32 130.00467 129.16623 ... 1164.9109 1101.7056\n",
       "      sr_aerosol       (y, x) float32 132.18233 131.43462 ... 165.87651 163.77354\n",
       "      radsat_qa        (y, x) float32 0.0 0.0 0.0 0.0 0.0 ... 0.0 0.0 0.0 0.0 0.0\n",
       "      NDVI             (y, x) float32 -0.02117305 -0.023149328 ... 0.7148791\n",
       "      NDWI             (y, x) float32 0.27537403 0.27953514 ... -0.662248],\n",
       " [2018,\n",
       "  <xarray.Dataset>\n",
       "  Dimensions:          (x: 738, y: 738)\n",
       "  Coordinates:\n",
       "    * y                (y) float64 -6.673e+05 -6.673e+05 ... -6.893e+05 -6.894e+05\n",
       "    * x                (x) float64 5.083e+05 5.084e+05 ... 5.304e+05 5.304e+05\n",
       "  Data variables:\n",
       "      coastal_aerosol  (y, x) float32 305.62686 306.8801 ... 283.2447 273.07077\n",
       "      blue             (y, x) float32 318.15726 319.10413 ... 336.6766 324.66467\n",
       "      green            (y, x) float32 218.54898 219.78647 ... 655.7299 638.96454\n",
       "      red              (y, x) float32 128.02191 128.47447 ... 523.86145 506.70264\n",
       "      nir              (y, x) float32 123.741615 123.88638 ... 3252.0354 3217.9448\n",
       "      swir1            (y, x) float32 155.19937 154.3897 ... 2150.0127 2101.4133\n",
       "      swir2            (y, x) float32 130.48897 129.56056 ... 1087.0913 1053.2853\n",
       "      sr_aerosol       (y, x) float32 129.37395 128.94478 ... 158.10516 163.95769\n",
       "      radsat_qa        (y, x) float32 0.0 0.0 0.0 0.0 0.0 ... 0.0 0.0 0.0 0.0 0.0\n",
       "      NDVI             (y, x) float32 -0.017001243 -0.018180657 ... 0.7279191\n",
       "      NDWI             (y, x) float32 0.27697918 0.2790447 ... -0.66866505]]"
      ]
     },
     "execution_count": 22,
     "metadata": {},
     "output_type": "execute_result"
    }
   ],
   "source": [
    "\n",
    "images_years = [2014, 2015, 2016, 2017, 2018]\n",
    "datacollection = []\n",
    "for images_year in images_years:\n",
    "    datacollection.append([images_year, cal_loaddataset(images_year)])\n",
    "\n",
    "datacollection\n",
    "# sr_max_value = 10000                 # maximum value for SR in the loaded product\n",
    "# scale, offset = (1/sr_max_value, 0)  # differs per product, aim for 0-1 values in float32"
   ]
  },
  {
   "cell_type": "code",
   "execution_count": 21,
   "metadata": {},
   "outputs": [
    {
     "data": {
      "text/plain": [
       "[<xarray.Dataset>\n",
       " Dimensions:          (x: 738, y: 738)\n",
       " Coordinates:\n",
       "   * y                (y) float64 -6.673e+05 -6.673e+05 ... -6.893e+05 -6.894e+05\n",
       "   * x                (x) float64 5.083e+05 5.084e+05 ... 5.304e+05 5.304e+05\n",
       " Data variables:\n",
       "     coastal_aerosol  (y, x) float32 306.51157 312.2435 ... 307.1799 275.37558\n",
       "     blue             (y, x) float32 323.69574 329.48843 ... 357.96222 323.07907\n",
       "     green            (y, x) float32 229.51431 234.16537 ... 651.1642 605.70154\n",
       "     red              (y, x) float32 138.85501 142.09013 ... 548.5788 526.42084\n",
       "     nir              (y, x) float32 130.68994 133.62903 ... 3052.7034 3002.8909\n",
       "     swir1            (y, x) float32 156.93689 158.17944 ... 2177.7476 2148.9897\n",
       "     swir2            (y, x) float32 131.10507 132.49673 ... 1121.7101 1084.8104\n",
       "     sr_aerosol       (y, x) float32 129.90002 128.81085 ... 160.52171 161.18225\n",
       "     radsat_qa        (y, x) float32 0.0 0.0 0.0 0.0 0.0 ... 0.0 0.0 0.0 0.0 0.0\n",
       "     NDVI             (y, x) float32 -0.030292029 -0.030687395 ... 0.70168644\n",
       "     NDWI             (y, x) float32 0.27435645 0.27334931 ... -0.6643004,\n",
       " <xarray.Dataset>\n",
       " Dimensions:          (x: 738, y: 738)\n",
       " Coordinates:\n",
       "   * y                (y) float64 -6.673e+05 -6.673e+05 ... -6.893e+05 -6.894e+05\n",
       "   * x                (x) float64 5.083e+05 5.084e+05 ... 5.304e+05 5.304e+05\n",
       " Data variables:\n",
       "     coastal_aerosol  (y, x) float32 298.85092 302.52585 ... 339.6238 317.24637\n",
       "     blue             (y, x) float32 317.12402 318.36252 ... 399.36948 373.1231\n",
       "     green            (y, x) float32 221.99275 222.44868 ... 708.0139 675.5758\n",
       "     red              (y, x) float32 129.06886 128.97945 ... 621.6857 590.71423\n",
       "     nir              (y, x) float32 122.226906 121.21339 ... 3093.7546 3040.992\n",
       "     swir1            (y, x) float32 154.20499 152.46002 ... 2333.1726 2289.0886\n",
       "     swir2            (y, x) float32 129.99725 128.46574 ... 1238.9569 1201.9808\n",
       "     sr_aerosol       (y, x) float32 142.16957 140.7163 ... 165.70471 165.62415\n",
       "     radsat_qa        (y, x) float32 0.0 0.0 0.0 0.0 0.0 ... 0.0 0.0 0.0 0.0 0.0\n",
       "     NDVI             (y, x) float32 -0.027226727 -0.03104032 ... 0.67469054\n",
       "     NDWI             (y, x) float32 0.28983194 0.29457808 ... -0.63645184,\n",
       " <xarray.Dataset>\n",
       " Dimensions:          (x: 738, y: 738)\n",
       " Coordinates:\n",
       "   * y                (y) float64 -6.673e+05 -6.673e+05 ... -6.893e+05 -6.894e+05\n",
       "   * x                (x) float64 5.083e+05 5.084e+05 ... 5.304e+05 5.304e+05\n",
       " Data variables:\n",
       "     coastal_aerosol  (y, x) float32 308.5507 310.59125 ... 325.5425 297.75903\n",
       "     blue             (y, x) float32 320.90488 321.7419 ... 380.0021 351.03986\n",
       "     green            (y, x) float32 220.02226 220.4499 ... 686.4689 654.3085\n",
       "     red              (y, x) float32 128.62537 128.32378 ... 588.47186 553.7068\n",
       "     nir              (y, x) float32 121.6105 120.52291 ... 3121.2444 3101.281\n",
       "     swir1            (y, x) float32 150.51227 148.89162 ... 2314.7964 2219.4197\n",
       "     swir2            (y, x) float32 126.631256 125.4293 ... 1224.2655 1146.9814\n",
       "     sr_aerosol       (y, x) float32 131.10448 130.07344 ... 165.94514 163.35857\n",
       "     radsat_qa        (y, x) float32 0.0 0.0 0.0 0.0 0.0 ... 0.0 0.0 0.0 0.0 0.0\n",
       "     NDVI             (y, x) float32 -0.028033033 -0.031348094 ... 0.697013\n",
       "     NDWI             (y, x) float32 0.28806302 0.29306442 ... -0.6515548,\n",
       " <xarray.Dataset>\n",
       " Dimensions:          (x: 738, y: 738)\n",
       " Coordinates:\n",
       "   * y                (y) float64 -6.673e+05 -6.673e+05 ... -6.893e+05 -6.894e+05\n",
       "   * x                (x) float64 5.083e+05 5.084e+05 ... 5.304e+05 5.304e+05\n",
       " Data variables:\n",
       "     coastal_aerosol  (y, x) float32 308.8089 310.75845 ... 308.34683 285.26334\n",
       "     blue             (y, x) float32 319.79706 320.8778 ... 363.62466 339.04956\n",
       "     green            (y, x) float32 219.73279 220.65771 ... 679.6131 650.89496\n",
       "     red              (y, x) float32 130.24606 130.13393 ... 563.1155 532.604\n",
       "     nir              (y, x) float32 124.84501 124.245224 ... 3233.2512 3203.3826\n",
       "     swir1            (y, x) float32 155.07767 153.77966 ... 2253.4844 2174.5115\n",
       "     swir2            (y, x) float32 130.00467 129.16623 ... 1164.9109 1101.7056\n",
       "     sr_aerosol       (y, x) float32 132.18233 131.43462 ... 165.87651 163.77354\n",
       "     radsat_qa        (y, x) float32 0.0 0.0 0.0 0.0 0.0 ... 0.0 0.0 0.0 0.0 0.0\n",
       "     NDVI             (y, x) float32 -0.02117305 -0.023149328 ... 0.7148791\n",
       "     NDWI             (y, x) float32 0.27537403 0.27953514 ... -0.662248,\n",
       " <xarray.Dataset>\n",
       " Dimensions:          (x: 738, y: 738)\n",
       " Coordinates:\n",
       "   * y                (y) float64 -6.673e+05 -6.673e+05 ... -6.893e+05 -6.894e+05\n",
       "   * x                (x) float64 5.083e+05 5.084e+05 ... 5.304e+05 5.304e+05\n",
       " Data variables:\n",
       "     coastal_aerosol  (y, x) float32 305.62686 306.8801 ... 283.2447 273.07077\n",
       "     blue             (y, x) float32 318.15726 319.10413 ... 336.6766 324.66467\n",
       "     green            (y, x) float32 218.54898 219.78647 ... 655.7299 638.96454\n",
       "     red              (y, x) float32 128.02191 128.47447 ... 523.86145 506.70264\n",
       "     nir              (y, x) float32 123.741615 123.88638 ... 3252.0354 3217.9448\n",
       "     swir1            (y, x) float32 155.19937 154.3897 ... 2150.0127 2101.4133\n",
       "     swir2            (y, x) float32 130.48897 129.56056 ... 1087.0913 1053.2853\n",
       "     sr_aerosol       (y, x) float32 129.37395 128.94478 ... 158.10516 163.95769\n",
       "     radsat_qa        (y, x) float32 0.0 0.0 0.0 0.0 0.0 ... 0.0 0.0 0.0 0.0 0.0\n",
       "     NDVI             (y, x) float32 -0.017001243 -0.018180657 ... 0.7279191\n",
       "     NDWI             (y, x) float32 0.27697918 0.2790447 ... -0.66866505]"
      ]
     },
     "execution_count": 21,
     "metadata": {},
     "output_type": "execute_result"
    }
   ],
   "source": [
    "#datacollection\n",
    "# def generate_geomedian(ds_dataset):\n",
    "    \n",
    "#     #scale the values using the f_32 util function\n",
    "#     ds_scaled = to_f32(ds_dataset, scale=scale, offset=offset)\n",
    "\n",
    "#     #generate a geomedian\n",
    "#     ds_geomedian = xr_geomedian(ds_scaled, \n",
    "#                          num_threads=1,  # disable internal threading, dask will run several concurrently\n",
    "#                          eps=1e-7,  \n",
    "#                          nocheck=True)   # disable checks inside library that use too much ram\n",
    "#     #convert SR scaling values back to original values\n",
    "#     ds_geomedian = from_float(ds_geomedian, \n",
    "#                            dtype='float32', \n",
    "#                            nodata=np.nan, \n",
    "#                            scale=1/scale, \n",
    "#                            offset=-offset/scale)\n",
    "   \n",
    "#     ds_geomedian = ds_geomedian.compute()\n",
    "\n",
    "#     return ds_geomedian"
   ]
  },
  {
   "cell_type": "code",
   "execution_count": 17,
   "metadata": {},
   "outputs": [],
   "source": [
    "# ds_geomedian = generate_geomedian(ds)\n",
    "\n",
    "\n",
    "\n"
   ]
  },
  {
   "cell_type": "code",
   "execution_count": 18,
   "metadata": {},
   "outputs": [],
   "source": [
    "# rgb(ds_geomedian)"
   ]
  },
  {
   "cell_type": "code",
   "execution_count": 19,
   "metadata": {},
   "outputs": [],
   "source": [
    "# ds_geomedian = calculate_indices(ds_geomedian, index=['NDVI', 'NDWI'], collection = 'c1')\n",
    "# ds_geomedian"
   ]
  },
  {
   "cell_type": "markdown",
   "metadata": {},
   "source": [
    "## Mask and Classify"
   ]
  },
  {
   "cell_type": "code",
   "execution_count": 20,
   "metadata": {},
   "outputs": [
    {
     "ename": "NameError",
     "evalue": "name 'dataset' is not defined",
     "output_type": "error",
     "traceback": [
      "\u001b[0;31m---------------------------------------------------------------------------\u001b[0m",
      "\u001b[0;31mNameError\u001b[0m                                 Traceback (most recent call last)",
      "\u001b[0;32m<ipython-input-20-992801f84fd7>\u001b[0m in \u001b[0;36m<module>\u001b[0;34m\u001b[0m\n\u001b[0;32m----> 1\u001b[0;31m \u001b[0mmask\u001b[0m \u001b[0;34m=\u001b[0m \u001b[0mextract_shapefile_mask\u001b[0m\u001b[0;34m(\u001b[0m\u001b[0mdataset\u001b[0m\u001b[0;34m,\u001b[0m \u001b[0mSHAPEFILE\u001b[0m\u001b[0;34m)\u001b[0m\u001b[0;34m\u001b[0m\u001b[0;34m\u001b[0m\u001b[0m\n\u001b[0m",
      "\u001b[0;31mNameError\u001b[0m: name 'dataset' is not defined"
     ]
    }
   ],
   "source": [
    "mask = extract_shapefile_mask(dataset, SHAPEFILE)"
   ]
  },
  {
   "cell_type": "code",
   "execution_count": null,
   "metadata": {},
   "outputs": [],
   "source": [
    "#classifier = MangroveClassifier(ds, 'ls8_usgs_sr_scene')\n",
    "#mangroves = ds.classify_mangrove(threshold=NDVI_THRESHOLD)\n",
    "#closed_mangroves = classifier.classify_mangrove(threshold=0.7, name='is_closed_mangrove')\n",
    "\n",
    "mangroves = ds_geomedian.where(ds_geomedian.NDVI > 0.4)\n",
    "mangroves.count(dim=['x','y']).NDVI.values.sum()\n",
    "#closed_mangroves = mangroves.where(mangroves.NDVI < 0.7)"
   ]
  },
  {
   "cell_type": "code",
   "execution_count": null,
   "metadata": {},
   "outputs": [],
   "source": [
    "closed_mangroves = mangroves.where(mangroves.NDVI < 0.7)\n",
    "closed_mangroves.count(dim=['x','y']).NDVI.values.sum()"
   ]
  },
  {
   "cell_type": "markdown",
   "metadata": {},
   "source": [
    "## Change in Mangroves\n",
    "The following plot shows the change in pixel counts that correspond to a mangrove classification by means of the NDVI threshold."
   ]
  },
  {
   "cell_type": "code",
   "execution_count": null,
   "metadata": {},
   "outputs": [],
   "source": [
    "mangroves.NDVI.plot(cmap='RdYlGn')"
   ]
  },
  {
   "cell_type": "code",
   "execution_count": null,
   "metadata": {},
   "outputs": [],
   "source": [
    "closed_mangroves.NDVI.plot(cmap='RdYlGn')"
   ]
  },
  {
   "cell_type": "code",
   "execution_count": null,
   "metadata": {},
   "outputs": [],
   "source": [
    "\n",
    "print(mangroves.count(dim=['x','y']).NDVI.values.sum())\n",
    "\n",
    "# all_counts = get_classification_count(mangroves, name='is_mangrove', mask=None)\n",
    "# closed_counts = get_classification_count(closed_mangroves, name='is_closed_mangrove', mask=None)\n",
    "\n",
    "# dates = pd.DatetimeIndex(mangroves.time.values)\n",
    "# keys = list(dates.year)\n",
    "\n",
    "\n",
    "# all_counts_dict = dict(zip(keys, all_counts))\n",
    "# closed_counts_dict = dict(zip(keys, closed_counts))\n",
    "\n",
    "# df = pd.DataFrame(all_counts_dict, index=['All Mangrove Count']).append(pd.DataFrame(closed_counts_dict,\n",
    "#                                                                         index=['Closed Mangrove Count']))\n",
    "# df"
   ]
  },
  {
   "cell_type": "code",
   "execution_count": null,
   "metadata": {},
   "outputs": [],
   "source": [
    "sns.set_style(\"whitegrid\")\n",
    "\n",
    "year_range=list(range(YEARS[0], YEARS[1]+1))    \n",
    "\n",
    "fig, ax = plt.subplots(figsize=(7, 7))\n",
    "ax.plot(year_range, all_counts, label='All mangroves (annual mean NDVI > {})'.format(NDVI_THRESHOLD))\n",
    "ax.plot(year_range, closed_counts, label='Closed mangroves (annual mean NDVI > 0.7)')\n",
    "\n",
    "ax.xaxis.set_major_locator(MaxNLocator(integer=True))\n",
    "\n",
    "plt.title('Change in mangrove area over time')\n",
    "plt.xlabel('Year')\n",
    "plt.ylabel('Count')\n",
    "\n",
    "plt.legend()\n",
    "\n",
    "plt.show()"
   ]
  },
  {
   "cell_type": "markdown",
   "metadata": {},
   "source": [
    "## Mangroves Mapped\n",
    "### All Mangroves for Chosen Year\n",
    "The following image shows all the detected mangroves for the chosen year. Default selection is the last year in the selected range of years (YEARS[-1])."
   ]
  },
  {
   "cell_type": "code",
   "execution_count": null,
   "metadata": {},
   "outputs": [],
   "source": [
    "# Select the year to map here (ex: YEAR = 2013).\n",
    "YEAR = YEARS[-1]\n",
    "\n",
    "_all = mangroves.sel(year=YEAR).astype(int).where(mask).is_mangrove\n",
    "\n",
    "print('All mangroves for the year {}.'.format(YEAR))\n",
    "rgb(classifier.features.sel(year=YEAR).where(classifier.features.sel(year=YEAR).ndwi < 0),\n",
    "    bands=['nir', 'nir', 'nir'],\n",
    "    paint_on_mask=[(_all == 1, (0,255,0)),])"
   ]
  },
  {
   "cell_type": "markdown",
   "metadata": {},
   "source": [
    "### Closed Mangroves for Chosen Year\n",
    "The following image is the same as the first, but highlights closed mangroves (with NDVI > 0.7).\n",
    "\n",
    "* Green - Closed Mangroves\n",
    "* Tan - Other Mangroves"
   ]
  },
  {
   "cell_type": "code",
   "execution_count": null,
   "metadata": {},
   "outputs": [],
   "source": [
    "_closed = closed_mangroves.sel(year=YEAR).astype(int).where(mask).is_closed_mangrove\n",
    "\n",
    "print('Closed mangroves for the year {}.'.format(YEAR))\n",
    "\n",
    "rgb(classifier.features.sel(year=YEAR).where(classifier.features.sel(year=YEAR).ndwi < 0),\n",
    "    bands=['nir', 'nir', 'nir'],\n",
    "    paint_on_mask=[(_all == 1, (248, 196, 113)),\n",
    "                   (_closed == 1, (0,128,0)),])"
   ]
  },
  {
   "cell_type": "markdown",
   "metadata": {},
   "source": [
    "### Change in Mangroves\n",
    "The following image shows the change in mangroves between two selected years. Default selection is the oldest year and the year chosen above (YEARS[0], YEAR).\n",
    "\n",
    "* Green - New Mangroves\n",
    "* White - No Change\n",
    "* Red - Loss of Mangroves"
   ]
  },
  {
   "cell_type": "code",
   "execution_count": null,
   "metadata": {},
   "outputs": [],
   "source": [
    "# Select the year range here (ex: TIME = (2010, 2016)).\n",
    "TIME = (YEARS[0], YEAR)\n",
    "\n",
    "old = mangroves.sel(year=TIME[0] ).astype(int)\n",
    "new = mangroves.sel(year=TIME[-1]).astype(int)\n",
    "change = (new - old).rename(dict(is_mangrove = \"mangrove_change\"))\n",
    "\n",
    "filtered_change = change.where(mask).mangrove_change\n",
    "\n",
    "rgb(classifier.features.sel(year=TIME[-1]).where(classifier.features.sel(year=TIME[-1]).ndwi < 0),\n",
    "    bands=['nir', 'nir', 'nir'],\n",
    "    paint_on_mask=[(filtered_change == -1, (255,0,0)),\n",
    "                   (filtered_change == 1 , (0,128,0)),\n",
    "                   (filtered_change == 0, (255, 255, 255))])"
   ]
  },
  {
   "cell_type": "markdown",
   "metadata": {},
   "source": [
    "#### Pixel Counts"
   ]
  },
  {
   "cell_type": "code",
   "execution_count": null,
   "metadata": {},
   "outputs": [],
   "source": [
    "loss_count = mangroves.sel(year=TIME[0])['is_mangrove'].where(filtered_change == -1).sum()\n",
    "gain_count = mangroves.sel(year=TIME[-1])['is_mangrove'].where(filtered_change == 1).sum()\n",
    "stable_count = mangroves.sel(year=TIME[-1])['is_mangrove'].where(filtered_change == 0).sum()\n",
    "\n",
    "counts = {\n",
    "          'Loss of Mangroves': int(loss_count.item(0)),\n",
    "          'New Mangroves': int(gain_count.item(0)),\n",
    "          'No Change': int(stable_count.item(0)),\n",
    "          'Delta Change': int(gain_count.item(0) - loss_count.item(0))\n",
    "          }\n",
    "\n",
    "df = pd.DataFrame(counts, index=['Pixel Count'])\n",
    "print('Pixel Counts of Mangrove Changes Between the Years {} and {}:'.format(TIME[0], TIME[1]))\n",
    "df"
   ]
  },
  {
   "cell_type": "code",
   "execution_count": null,
   "metadata": {},
   "outputs": [],
   "source": [
    "df.plot.barh(color=['tab:red','tab:green','tab:orange','tab:blue'])"
   ]
  }
 ],
 "metadata": {
  "kernelspec": {
   "display_name": "Python 3",
   "language": "python",
   "name": "python3"
  },
  "language_info": {
   "codemirror_mode": {
    "name": "ipython",
    "version": 3
   },
   "file_extension": ".py",
   "mimetype": "text/x-python",
   "name": "python",
   "nbconvert_exporter": "python",
   "pygments_lexer": "ipython3",
   "version": "3.6.9"
  }
 },
 "nbformat": 4,
 "nbformat_minor": 4
}
