{
 "cells": [
  {
   "cell_type": "markdown",
   "metadata": {},
   "source": [
    "# Rasterizing vectors & vectorizing rasters <img align=\"right\" src=\"../Supplementary_data/DE_Africa_Logo_Stacked_RGB_small.jpg\">\n",
    "\n",
    "* **Products used:** \n",
    "[ga_ls8c_wofs_2_annual_summary](https://explorer.digitalearth.africa/ga_ls8c_wofs_2_annual_summary)"
   ]
  },
  {
   "cell_type": "markdown",
   "metadata": {},
   "source": [
    "## Background\n",
    "\n",
    "Many remote sensing and/or geospatial workflows require converting between vector data (e.g. shapefiles) and raster data (e.g. pixel-based data like that in an `xarray.DataArray`).\n",
    "For example, we may need to use a shapefile as a mask to limit the analysis extent of a raster, or have raster data that we want to convert into vector data to allow for easy geometry operations."
   ]
  },
  {
   "cell_type": "markdown",
   "metadata": {},
   "source": [
    "## Description\n",
    "This notebook demonstrates the use of the DE Africa function `xr_rasterize` and `xr_vectorize` in [Scripts/deafrica_spatialtools.py](../Scripts/deafrica_spatialtools.py).  \n",
    "\n",
    "The first section loads in [Water Observations from Space (WOfS)](https://maps.digitalearth.africa/#share=s-jENTWtaN98vMumZGcwM2iZXzFBo) data from Digital Earth Africa, and vectorises the pixel-based `xarray.DataArray` object into a vector-based `geopandas.GeoDataFrame` object containing persistent water-bodies as polygons. \n",
    "We then export the `GeoDataframe` as a shapefile.  \n",
    "\n",
    "The second section rasterises the vector data we created in the first section back into an `xarray.DataArray`, and exports the results as a GeoTIFF."
   ]
  },
  {
   "cell_type": "markdown",
   "metadata": {},
   "source": [
    "## Getting started\n",
    "To run this analysis, run all the cells in the notebook, starting with the \"Load packages\" cell. "
   ]
  },
  {
   "cell_type": "markdown",
   "metadata": {},
   "source": [
    "### Load packages\n"
   ]
  },
  {
   "cell_type": "code",
   "execution_count": 1,
   "metadata": {},
   "outputs": [],
   "source": [
    "%matplotlib inline\n",
    "\n",
    "import sys\n",
    "import datacube\n",
    "\n",
    "sys.path.append('../Scripts')\n",
    "from deafrica_datahandling import mostcommon_crs\n",
    "from deafrica_spatialtools import xr_vectorize, xr_rasterize"
   ]
  },
  {
   "cell_type": "markdown",
   "metadata": {},
   "source": [
    "### Connect to the datacube"
   ]
  },
  {
   "cell_type": "code",
   "execution_count": 2,
   "metadata": {},
   "outputs": [],
   "source": [
    "dc = datacube.Datacube(app='Rasterize_vectorize')"
   ]
  },
  {
   "cell_type": "markdown",
   "metadata": {},
   "source": [
    "## Load WOfS data from the datacube\n",
    "\n",
    "We will load in an annual summary from the Water Observations from Space (WOfS) product to provide us with some data to work with."
   ]
  },
  {
   "cell_type": "code",
   "execution_count": 3,
   "metadata": {},
   "outputs": [
    {
     "name": "stdout",
     "output_type": "stream",
     "text": [
      "<xarray.Dataset>\n",
      "Dimensions:      (time: 1, x: 1447, y: 1478)\n",
      "Coordinates:\n",
      "  * time         (time) datetime64[ns] 2017-07-02T11:59:59.999500\n",
      "  * y            (y) float64 1.515e+06 1.515e+06 1.515e+06 ... 1.47e+06 1.47e+06\n",
      "  * x            (x) float64 4.328e+05 4.329e+05 ... 4.762e+05 4.762e+05\n",
      "Data variables:\n",
      "    count_wet    (time, y, x) int16 0 0 0 0 0 0 0 0 0 0 ... 0 0 0 0 0 0 0 0 0 0\n",
      "    count_clear  (time, y, x) int16 11 11 11 11 11 12 12 ... 11 11 11 11 11 11\n",
      "    frequency    (time, y, x) float32 0.0 0.0 0.0 0.0 0.0 ... 0.0 0.0 0.0 0.0\n",
      "Attributes:\n",
      "    crs:      epsg:32628\n"
     ]
    }
   ],
   "source": [
    "#enter a location\n",
    "lat, lon = 13.50, -15.42\n",
    "buffer = 0.2\n",
    "\n",
    "# Create a reusable query\n",
    "query = {\n",
    "    'x': (lon-buffer, lon+buffer),\n",
    "    'y': (lat+buffer, lat-buffer),\n",
    "    'time': ('2017')\n",
    "}\n",
    "# Identify the most common projection system in the input query\n",
    "output_crs = mostcommon_crs(dc=dc, product='ls8_usgs_sr_scene', query=query)\n",
    "\n",
    "# Load WoFS through the datacube\n",
    "ds = dc.load(product='ga_ls8c_wofs_2_annual_summary', \n",
    "             output_crs=output_crs,\n",
    "             align=(15, 15),\n",
    "             resolution=(-30, 30),\n",
    "             **query)\n",
    "\n",
    "print(ds)\n"
   ]
  },
  {
   "cell_type": "markdown",
   "metadata": {},
   "source": [
    "### Plot the WOfS summary\n",
    "\n",
    "Let's plot the WOfS data to get an idea of the objects we will be transforming. \n",
    "In the code below, we first select the pixels where the satellite has observed water at least 25% of the year, this is so we can isolate the more persistent water bodies and reduce some of the noise before we vectorize the raster."
   ]
  },
  {
   "cell_type": "code",
   "execution_count": 4,
   "metadata": {},
   "outputs": [
    {
     "data": {
      "text/plain": [
       "<matplotlib.collections.QuadMesh at 0x7fc0e8a324e0>"
      ]
     },
     "execution_count": 4,
     "metadata": {},
     "output_type": "execute_result"
    },
    {
     "data": {
      "image/png": "[encoded data removed]",
      "text/plain": [
       "<Figure size 540x360 with 2 Axes>"
      ]
     },
     "metadata": {
      "needs_background": "light"
     },
     "output_type": "display_data"
    }
   ],
   "source": [
    "# Select pixels that are classified as water > 25 % of the year\n",
    "water_bodies = ds.frequency > 0.25\n",
    "\n",
    "# Plot the data\n",
    "water_bodies.plot(size=5)"
   ]
  },
  {
   "cell_type": "markdown",
   "metadata": {},
   "source": [
    "## Vectorizing an `xarray.DataArray`\n",
    "\n",
    "To convert our `xarray.DataArray` object into a vector based `geopandas geodataframe`, we can use the DE Africa function `xr_vectorize` in the script [Scripts/deafrica_spatialtools.py](../Scripts/deafrica_spatialtools.py). This tool is based on the [rasterio.features.shape](https://rasterio.readthedocs.io/en/stable/api/rasterio.features.html) function, and can accept any of the arguments in `rasterio.features.shape` using the same syntax.\n",
    "\n",
    "In the cell below, we use the argument `mask=water_bodies.values==1` to indicate we only want to convert the values in the xarray object that are equal to 1.\n",
    "\n",
    "\n",
    "> Note: Both `xr_rasterize` and `xr_vectorize` will attempt to automatically obtain the `crs` and `transform` from the input data, but if the data does not contain this information, you will need to manually provide this.  In the cell below, we will get the `crs` and `transform` from the original dataset."
   ]
  },
  {
   "cell_type": "code",
   "execution_count": 5,
   "metadata": {},
   "outputs": [
    {
     "name": "stdout",
     "output_type": "stream",
     "text": [
      "   attribute                                           geometry\n",
      "0        1.0  POLYGON ((465945.000 1514655.000, 465945.000 1...\n",
      "1        1.0  POLYGON ((466035.000 1514655.000, 466035.000 1...\n",
      "2        1.0  POLYGON ((466245.000 1514655.000, 466245.000 1...\n",
      "3        1.0  POLYGON ((467205.000 1514655.000, 467205.000 1...\n",
      "4        1.0  POLYGON ((466155.000 1514625.000, 466155.000 1...\n"
     ]
    }
   ],
   "source": [
    "gdf = xr_vectorize(water_bodies,\n",
    "                   crs=ds.crs,\n",
    "                   transform=ds.geobox.transform,\n",
    "                   mask=water_bodies.values==1)\n",
    "\n",
    "print(gdf.head())\n"
   ]
  },
  {
   "cell_type": "markdown",
   "metadata": {},
   "source": [
    "### Plot our vectorised raster "
   ]
  },
  {
   "cell_type": "code",
   "execution_count": 6,
   "metadata": {},
   "outputs": [
    {
     "data": {
      "text/plain": [
       "<matplotlib.axes._subplots.AxesSubplot at 0x7fc08b2c8208>"
      ]
     },
     "execution_count": 6,
     "metadata": {},
     "output_type": "execute_result"
    },
    {
     "data": {
      "image/png": "[encoded data removed]",
      "text/plain": [
       "<Figure size 432x432 with 1 Axes>"
      ]
     },
     "metadata": {
      "needs_background": "light"
     },
     "output_type": "display_data"
    }
   ],
   "source": [
    "gdf.plot(figsize=(6, 6))"
   ]
  },
  {
   "cell_type": "markdown",
   "metadata": {},
   "source": [
    "### Export as shapefile\n",
    "\n",
    "Our function also allows us to very easily export the `GeoDataFrame` as a `shapefile` for use in other applications using the `export_shp` parameter."
   ]
  },
  {
   "cell_type": "code",
   "execution_count": 7,
   "metadata": {},
   "outputs": [],
   "source": [
    "gdf = xr_vectorize(da=water_bodies,\n",
    "                   crs=ds.crs,\n",
    "                   transform=ds.geobox.transform,\n",
    "                   mask=water_bodies.values == 1.,\n",
    "                   export_shp='test.shp')"
   ]
  },
  {
   "cell_type": "markdown",
   "metadata": {},
   "source": [
    "## Rasterizing a shapefile\n",
    "\n",
    "Using the `xr_rasterize` function in [Scripts/deafrica_spatialtools.py](../Scripts/deafrica_spatialtools.py) (based on the rasterio function: [rasterio.features.rasterize](https://rasterio.readthedocs.io/en/stable/api/rasterio.features.html), and can accept any of the arguments in `rasterio.features.rasterize` using the same syntax) we can turn the `geopandas.GeoDataFrame` back into a `xarray.DataArray`. \n",
    "\n",
    "As we already have the `GeoDataFrame` loaded we don't need to read in the shapefile, but if we wanted to read in a shapefile first we can use [gpd.read_file()](http://geopandas.org/reference/geopandas.read_file.html).   \n",
    "\n",
    "This function uses an `xarray.dataArray` object as a **template** for converting the `geodataframe` into a raster object (the template provides the `size`, `crs`, `dimensions`, `transform`, and `attributes` of the output array)."
   ]
  },
  {
   "cell_type": "code",
   "execution_count": 8,
   "metadata": {},
   "outputs": [
    {
     "name": "stdout",
     "output_type": "stream",
     "text": [
      "Rasterizing to match xarray.DataArray dimensions (1478, 1447) and projection system/CRS (e.g. epsg:32628)\n",
      "<xarray.DataArray (y: 1478, x: 1447)>\n",
      "array([[0, 0, 0, ..., 0, 0, 0],\n",
      "       [0, 0, 0, ..., 0, 0, 0],\n",
      "       [0, 0, 0, ..., 0, 0, 0],\n",
      "       ...,\n",
      "       [0, 0, 0, ..., 0, 0, 0],\n",
      "       [0, 0, 0, ..., 0, 0, 0],\n",
      "       [0, 0, 0, ..., 0, 0, 0]], dtype=uint8)\n",
      "Coordinates:\n",
      "  * y        (y) float64 1.515e+06 1.515e+06 1.515e+06 ... 1.47e+06 1.47e+06\n",
      "  * x        (x) float64 4.328e+05 4.329e+05 4.329e+05 ... 4.762e+05 4.762e+05\n",
      "Attributes:\n",
      "    crs:      epsg:32628\n"
     ]
    }
   ],
   "source": [
    "water_bodies_again = xr_rasterize(gdf=gdf,\n",
    "                                  da=water_bodies,\n",
    "                                  transform=ds.geobox.transform,\n",
    "                                  crs=ds.crs)\n",
    "\n",
    "print(water_bodies_again)\n"
   ]
  },
  {
   "cell_type": "markdown",
   "metadata": {},
   "source": [
    "### Export as GeoTIFF\n",
    "\n",
    "`xr_rasterize` also allows for exporting the results as a GeoTIFF using the parameter `export_tiff`.  To do this, a `named` array is required. If one is not provided, the functon wil provide a default one."
   ]
  },
  {
   "cell_type": "code",
   "execution_count": 9,
   "metadata": {},
   "outputs": [
    {
     "name": "stdout",
     "output_type": "stream",
     "text": [
      "Rasterizing to match xarray.DataArray dimensions (1478, 1447) and projection system/CRS (e.g. epsg:32628)\n",
      "Exporting GeoTIFF with default array name: 'data'\n"
     ]
    }
   ],
   "source": [
    "water_bodies_again = xr_rasterize(gdf=gdf,\n",
    "                                  da=water_bodies,\n",
    "                                  transform=ds.geobox.transform,\n",
    "                                  crs=ds.crs,\n",
    "                                  export_tiff='test.tif')"
   ]
  },
  {
   "cell_type": "markdown",
   "metadata": {},
   "source": [
    "---\n",
    "\n",
    "## Additional information\n",
    "\n",
    "**License:** The code in this notebook is licensed under the [Apache License, Version 2.0](https://www.apache.org/licenses/LICENSE-2.0). \n",
    "Digital Earth Africa data is licensed under the [Creative Commons by Attribution 4.0](https://creativecommons.org/licenses/by/4.0/) license.\n",
    "\n",
    "**Contact:** If you need assistance, please post a question on the [Open Data Cube Slack channel](http://slack.opendatacube.org/) or on the [GIS Stack Exchange](https://gis.stackexchange.com/questions/ask?tags=open-data-cube) using the `open-data-cube` tag (you can view previously asked questions [here](https://gis.stackexchange.com/questions/tagged/open-data-cube)).\n",
    "If you would like to report an issue with this notebook, you can file one on [Github](https://github.com/digitalearthafrica/deafrica-sandbox-notebooks).\n",
    "\n",
    "**Last modified:** January 2019\n",
    "\n",
    "**Compatible datacube version:** "
   ]
  },
  {
   "cell_type": "code",
   "execution_count": 10,
   "metadata": {},
   "outputs": [
    {
     "name": "stdout",
     "output_type": "stream",
     "text": [
      "1.7+130.g81bed714.dirty\n"
     ]
    }
   ],
   "source": [
    "print(datacube.__version__)"
   ]
  },
  {
   "cell_type": "markdown",
   "metadata": {},
   "source": [
    "## Tags\n",
    "Browse all available tags on the DEA User Guide's [Tags Index](https://docs.dea.ga.gov.au/genindex.html)"
   ]
  },
  {
   "cell_type": "raw",
   "metadata": {
    "raw_mimetype": "text/restructuredtext"
   },
   "source": [
    "**Tags**::index:`WOfS`, :index:`rasterize`, :index:`rasterio.features.shapes`, :index:`rasterio.features.rasterize`, :index:`write_geotiff`, :index:`GeoPandas`, :index:`vectorize`, :index:`GeoTIFF`, :index:`shapefile`, :index:`xr_rasterize`, :index:`xr_vectorize`"
   ]
  }
 ],
 "metadata": {
  "kernelspec": {
   "display_name": "Python 3",
   "language": "python",
   "name": "python3"
  },
  "language_info": {
   "codemirror_mode": {
    "name": "ipython",
    "version": 3
   },
   "file_extension": ".py",
   "mimetype": "text/x-python",
   "name": "python",
   "nbconvert_exporter": "python",
   "pygments_lexer": "ipython3",
   "version": "3.6.8"
  },
  "widgets": {
   "application/vnd.jupyter.widget-state+json": {
    "state": {},
    "version_major": 2,
    "version_minor": 0
   }
  }
 },
 "nbformat": 4,
 "nbformat_minor": 4
}
