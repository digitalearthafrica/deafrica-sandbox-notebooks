{
 "cells": [
  {
   "cell_type": "markdown",
   "metadata": {},
   "source": [
    "# Reprojecting datacube and raster data <img align=\"right\" src=\"../Supplementary_data/DE_Africa_Logo_Stacked_RGB_small.jpg\">\n",
    "\n",
    "* **Products used:** \n",
    "[ga_ls8c_gm_2_annual](https://explorer.digitalearth.africa/ga_ls8c_gm_2_annual)\n",
    "* **Special requirements:** This notebook loads data from an external raster file (`madagascar_CHPclim_02.tif`) from the `Supplementary_data` folder of this repository"
   ]
  },
  {
   "cell_type": "markdown",
   "metadata": {},
   "source": [
    "## Background\n",
    "It is often valuable to combine data from the datacube with other external raster datasets. \n",
    "For example, we may want to use a rainfall raster to focus our analysis on satellite data to mask areas of higher or lower precipitation. \n",
    "However, it can be challenging to combine datasets if they have different extents, resolutions (e.g. 30 m vs. 250 m), or coordinate reference systems (e.g. WGS 84 vs. Africa Albers Equal Area Conic).\n",
    "To be able to combine these datasets, we need to be able to *reproject* them into identical spatial grids prior to analysis.\n",
    "\n",
    "Datacube stores information about the location, resolution and coordinate reference system of a rectangular grid of data using an object called a `GeoBox`.\n",
    "This [GeoBox object](https://datacube-core.readthedocs.io/en/latest/dev/api/generate/datacube.utils.geometry.GeoBox.html) is added to all data loaded from the datacube, and all rasters loaded with `xr.open_rasterio` (provided that `import datacube` is run *before* the raster is loaded).\n",
    "Datacube functions can use this object to provide a template that can be used to reproject raster and datacube data - either applying this reprojection directly when new data is being loaded, or to reproject existing data that has already been loaded into memory.\n",
    "This makes it straightforward to reproject one dataset into the exact spatial grid of another dataset for further analysis."
   ]
  },
  {
   "cell_type": "markdown",
   "metadata": {},
   "source": [
    "## Description\n",
    "This notebook demonstrates how to perform three key reprojection workflows when working with datacube data and external rasters:\n",
    "\n",
    "1. Loading and reprojecting datacube data to match a raster file using `dc.load`\n",
    "2. Reprojecting existing datacube data to match a raster using `xr_reproject`\n",
    "3. Loading and reprojecting a raster to match datacube data using `rio_slurp_xarray`\n",
    "\n",
    "***"
   ]
  },
  {
   "cell_type": "markdown",
   "metadata": {},
   "source": [
    "## Getting started\n",
    "\n",
    "To run this analysis, run all the cells in the notebook, starting with the \"Load packages\" cell. "
   ]
  },
  {
   "cell_type": "markdown",
   "metadata": {},
   "source": [
    "### Load packages\n",
    "Import Python packages that are used for the analysis."
   ]
  },
  {
   "cell_type": "code",
   "execution_count": 1,
   "metadata": {},
   "outputs": [],
   "source": [
    "import sys\n",
    "import datacube\n",
    "import xarray as xr\n",
    "import matplotlib.pyplot as plt\n",
    "from odc.algo import xr_reproject\n",
    "from datacube.testutils.io import rio_slurp_xarray\n",
    "from datacube.utils.masking import mask_invalid_data\n",
    "\n",
    "sys.path.append(\"../Scripts\")\n",
    "from deafrica_plotting import rgb"
   ]
  },
  {
   "cell_type": "markdown",
   "metadata": {},
   "source": [
    "### Connect to the datacube\n",
    "\n",
    "Connect to the datacube so we can access DE Africa data.\n",
    "The `app` parameter is a unique name for the analysis which is based on the notebook file name."
   ]
  },
  {
   "cell_type": "code",
   "execution_count": 2,
   "metadata": {},
   "outputs": [],
   "source": [
    "dc = datacube.Datacube(app=\"Reprojecting_data\")"
   ]
  },
  {
   "cell_type": "markdown",
   "metadata": {},
   "source": [
    "## Loading and reprojecting datacube data to match a raster\n",
    "\n",
    "### Load a raster file\n",
    "\n",
    "First we load a GeoTIFF raster from file using `xr.open_rasterio`. \n",
    "The example below loads a long-term mean rainfall data for the month of February as according to [Climate Hazards Group InfraRed Precipitation with Station](https://www.chc.ucsb.edu/data/chirps) (CHIRPS) for a section of Madagascar. It has a spatial resolution of ~0.05 decimal degrees (approximately equal to 5 km pixels at the equator) in the WGS 84 (`EPSG:4326`) coordinate reference system."
   ]
  },
  {
   "cell_type": "code",
   "execution_count": 3,
   "metadata": {},
   "outputs": [],
   "source": [
    "# Path to raster file\n",
    "raster_path = \"../Supplementary_data/Reprojecting_data/madagascar_CHPclim_02.tif\"\n",
    "\n",
    "# Load raster, and remove redundant \"band\" dimension\n",
    "raster = xr.open_rasterio(raster_path).squeeze(\"band\", drop=True)"
   ]
  },
  {
   "cell_type": "markdown",
   "metadata": {},
   "source": [
    "If we plot our loaded raster, we can see there are areas with higher rainfall, and areas with lower rainfall."
   ]
  },
  {
   "cell_type": "code",
   "execution_count": 4,
   "metadata": {},
   "outputs": [
    {
     "data": {
      "text/plain": [
       "<matplotlib.collections.QuadMesh at 0x7f2eb27ef5c0>"
      ]
     },
     "execution_count": 4,
     "metadata": {},
     "output_type": "execute_result"
    },
    {
     "data": {
      "image/png": "[encoded data removed]",
      "text/plain": [
       "<Figure size 648x432 with 2 Axes>"
      ]
     },
     "metadata": {
      "needs_background": "light"
     },
     "output_type": "display_data"
    }
   ],
   "source": [
    "raster.plot(size=6)"
   ]
  },
  {
   "cell_type": "markdown",
   "metadata": {},
   "source": [
    "### GeoBox objects\n",
    "Now we have loaded our raster dataset, we can inspect its `GeoBox` object that we will use to allow us to reproject data.\n",
    "The `GeoBox` can be accessed using the `.geobox` method.\n",
    "It includes a set of information that together completely define the spatial grid of our data:\n",
    "* The width (e.g. `20`) and height (e.g. `20`) of our data in pixels\n",
    "* An `Affine` object which defines the spatial resolution (e.g. `-0.05000000074505806` and `0.05000000074505806`) and spatial position (e.g. `46.00000336766243` and `-18.00000160932541`) of our data\n",
    "* The coordinate reference system of our data (e.g. `+init=epsg:4326`)\n"
   ]
  },
  {
   "cell_type": "code",
   "execution_count": 5,
   "metadata": {},
   "outputs": [
    {
     "name": "stderr",
     "output_type": "stream",
     "text": [
      "/env/lib/python3.6/site-packages/pyproj/crs/crs.py:280: FutureWarning: '+init=<authority>:<code>' syntax is deprecated. '<authority>:<code>' is the preferred initialization method. When making the change, be mindful of axis order changes: https://pyproj4.github.io/pyproj/stable/gotchas.html#axis-order-changes-in-proj-6\n",
      "  projstring = _prepare_from_string(projparams)\n"
     ]
    },
    {
     "data": {
      "text/plain": [
       "GeoBox(20, 20, Affine(0.05000000074505806, 0.0, 46.00000336766243,\n",
       "       0.0, -0.05000000074505806, -18.00000160932541), +init=epsg:4326)"
      ]
     },
     "execution_count": 5,
     "metadata": {},
     "output_type": "execute_result"
    }
   ],
   "source": [
    "raster.geobox"
   ]
  },
  {
   "cell_type": "markdown",
   "metadata": {},
   "source": [
    "The `GeoBox` also has a number of useful methods that can be used to view information about the spatial grid of our data.\n",
    "For example, we can inspect the spatial resolution of our data:"
   ]
  },
  {
   "cell_type": "code",
   "execution_count": 6,
   "metadata": {},
   "outputs": [
    {
     "data": {
      "text/plain": [
       "(-0.05000000074505806, 0.05000000074505806)"
      ]
     },
     "execution_count": 6,
     "metadata": {},
     "output_type": "execute_result"
    }
   ],
   "source": [
    "raster.geobox.resolution"
   ]
  },
  {
   "cell_type": "markdown",
   "metadata": {},
   "source": [
    "Or obtain information about the data's spatial extent:"
   ]
  },
  {
   "cell_type": "code",
   "execution_count": 7,
   "metadata": {},
   "outputs": [
    {
     "data": {
      "text/plain": [
       "BoundingBox(left=46.00000336766243, bottom=-19.00000162422657, right=47.00000338256359, top=-18.00000160932541)"
      ]
     },
     "execution_count": 7,
     "metadata": {},
     "output_type": "execute_result"
    }
   ],
   "source": [
    "raster.geobox.extent.boundingbox"
   ]
  },
  {
   "cell_type": "markdown",
   "metadata": {},
   "source": [
    "> **Note:** For more information about `GeoBox` objects and a complete list of their methods, refer to the [datacube documentation](https://datacube-core.readthedocs.io/en/latest/dev/api/generate/datacube.utils.geometry.GeoBox.html#)."
   ]
  },
  {
   "cell_type": "markdown",
   "metadata": {},
   "source": [
    "### Load and reproject datacube data\n",
    "We can now use datacube to load and reproject satellite data to exactly match the coordinate reference system and resolution of our raster data.\n",
    "By specifying `like=raster.geobox`, we can load datacube data that will be reprojected to match the spatial grid of our raster."
   ]
  },
  {
   "cell_type": "code",
   "execution_count": 8,
   "metadata": {},
   "outputs": [],
   "source": [
    "# Load and reproject data from datacube\n",
    "ds = dc.load(product=\"ga_ls8c_gm_2_annual\",\n",
    "             measurements=[\"red\", \"green\", \"blue\"],\n",
    "             time=(\"2018\"),\n",
    "             like=raster.geobox,\n",
    "             resampling=\"nearest\",\n",
    "             group_by=\"solar_day\")"
   ]
  },
  {
   "cell_type": "markdown",
   "metadata": {},
   "source": [
    "When we plot the result, it should appear similarly pixelated to the raster we loaded above, which has a lower resolution."
   ]
  },
  {
   "cell_type": "code",
   "execution_count": 9,
   "metadata": {},
   "outputs": [
    {
     "data": {
      "image/png": "[encoded data removed]",
      "text/plain": [
       "<Figure size 1800x432 with 4 Axes>"
      ]
     },
     "metadata": {
      "needs_background": "light"
     },
     "output_type": "display_data"
    }
   ],
   "source": [
    "rgb(ds, col='time')"
   ]
  },
  {
   "cell_type": "markdown",
   "metadata": {},
   "source": [
    "We can also directly compare the geobox of the two datasets to verify they share the same spatial grid:"
   ]
  },
  {
   "cell_type": "code",
   "execution_count": 10,
   "metadata": {},
   "outputs": [
    {
     "data": {
      "text/plain": [
       "True"
      ]
     },
     "execution_count": 10,
     "metadata": {},
     "output_type": "execute_result"
    }
   ],
   "source": [
    "ds.geobox == raster.geobox"
   ]
  },
  {
   "cell_type": "markdown",
   "metadata": {},
   "source": [
    "Now that our two datasets share the same spatial grid, we can use our raster as a mask.\n",
    "For example, we can mask out all satellite pixels except those with higher rainfall (e.g. more than 350 mm/month of rain):"
   ]
  },
  {
   "cell_type": "code",
   "execution_count": 11,
   "metadata": {},
   "outputs": [],
   "source": [
    "# Rename raster dimensions to match datacube conventions for data\n",
    "# with geographic coordinates\n",
    "if raster.geobox.crs.geographic:\n",
    "    raster = raster.rename({\"x\": \"longitude\", \"y\": \"latitude\"})\n",
    "\n",
    "# Identify high rainfall areas\n",
    "high_rainfall = raster > 350\n",
    "\n",
    "# Apply mask to set lower-rainfall areas to `NaN`\n",
    "ds_masked = ds.where(high_rainfall)"
   ]
  },
  {
   "cell_type": "code",
   "execution_count": 12,
   "metadata": {},
   "outputs": [
    {
     "data": {
      "image/png": "[encoded data removed]",
      "text/plain": [
       "<Figure size 432x432 with 1 Axes>"
      ]
     },
     "metadata": {
      "needs_background": "light"
     },
     "output_type": "display_data"
    }
   ],
   "source": [
    "# Plot the masked data\n",
    "rgb(ds_masked)"
   ]
  },
  {
   "cell_type": "markdown",
   "metadata": {},
   "source": [
    "## Reprojecting existing datacube data to match a raster\n",
    "The example above demonstrated how to load *new* satellite data from the datacube to match the spatial grid of a raster. \n",
    "However, sometimes we may have already loaded satellite data with a coordinate reference system and resolution that is different from our raster. \n",
    "In this case, we need to reproject this existing dataset to match our raster.\n",
    "\n",
    "For example, we may have loaded the 2018 Landsat 8 geomedian data from the datacube with 30 m pixels in the `EPSG:6933` coordinate reference system. Note that in this example we manually specify the `x`, `y`, `resolution` and `output_crs` parameters, rather than taking them directly from our raster using `like=raster.geobox` in the previous example."
   ]
  },
  {
   "cell_type": "code",
   "execution_count": null,
   "metadata": {},
   "outputs": [],
   "source": [
    "# Load data from datacube\n",
    "ds = dc.load(product=\"ga_ls8c_gm_2_annual\",\n",
    "             measurements=[\"red\", \"green\", \"blue\"],\n",
    "             time=(\"2018\"),\n",
    "             x=(46.00, 47.00),\n",
    "             y=(-19, -18),\n",
    "             resolution=(-30, 30),\n",
    "             output_crs=\"EPSG:6933\",\n",
    "             group_by=\"solar_day\")\n",
    "\n",
    "# Load raster, and remove redundant \"band\" dimension\n",
    "raster = xr.open_rasterio(raster_path).squeeze(\"band\", drop=True)"
   ]
  },
  {
   "cell_type": "markdown",
   "metadata": {},
   "source": [
    "If we plot our satellite data, we can see that it is much higher resolution than our pixelated DEM raster:"
   ]
  },
  {
   "cell_type": "code",
   "execution_count": null,
   "metadata": {},
   "outputs": [],
   "source": [
    "rgb(ds)"
   ]
  },
  {
   "cell_type": "markdown",
   "metadata": {},
   "source": [
    "### Reproject datacube data\n",
    "We can now use the `xr_reproject` function to reproject our existing high resolution satellite dataset. \n",
    "We specify `geobox=raster.geobox` to request that the data gets reprojected to match the spatial grid of our low resolution raster. \n",
    "\n",
    "To control how the data is reprojected, we can specify a custom `resampling` method that will control how our high resolution pixels will be transformed into lower resolution pixels.\n",
    "In this case, we specify `\"average\"`, which will set the value of each larger pixel to the average of all smaller pixels that fall within its pixel boundary.\n",
    "\n",
    "> **Note:** Refer to the [rasterio documentation](https://rasterio.readthedocs.io/en/latest/api/rasterio.enums.html#rasterio.enums.Resampling) for a full list of available resampling methods."
   ]
  },
  {
   "cell_type": "code",
   "execution_count": null,
   "metadata": {},
   "outputs": [],
   "source": [
    "# Temporary workaround for bug in `xr_reproject`\n",
    "if raster.geobox.crs.geographic:\n",
    "    ds = ds.rename({\"x\": \"longitude\", \"y\": \"latitude\"})\n",
    "\n",
    "# Reproject data\n",
    "ds_reprojected = xr_reproject(src=ds, \n",
    "                              geobox=raster.geobox, \n",
    "                              resampling=\"average\")\n",
    "\n",
    "#Set nodata to `NaN`\n",
    "ds_reprojected = mask_invalid_data(ds_reprojected)"
   ]
  },
  {
   "cell_type": "markdown",
   "metadata": {},
   "source": [
    "Now if we plot our reprojected dataset, we can see that our satellite imagery now has a similar resolution to our low resolution raster (e.g. with a pixelated appearance). \n",
    "Note however, that this result will appear smoother than the previous example due to the `\"average\"` resampling method used here (compared to `\"nearest\"`)."
   ]
  },
  {
   "cell_type": "code",
   "execution_count": null,
   "metadata": {},
   "outputs": [],
   "source": [
    "rgb(ds_reprojected)"
   ]
  },
  {
   "cell_type": "markdown",
   "metadata": {},
   "source": [
    "Once again, we can also verify that the two datasets have identical spatial grids:"
   ]
  },
  {
   "cell_type": "code",
   "execution_count": null,
   "metadata": {},
   "outputs": [],
   "source": [
    "ds_reprojected.geobox == raster.geobox"
   ]
  },
  {
   "cell_type": "markdown",
   "metadata": {},
   "source": [
    "## Loading and reprojecting a raster to match datacube data\n",
    "\n",
    "Rather than reprojecting satellite data to match the resolution and projection system of our raster, we may instead wish to reproject our raster to match the spatial grid of our satellite data.\n",
    "This can be particularly useful when we have a lower resolution raster file (e.g. like the ~250 m resolution DEM we are using in this example), but we don't want to lose the better spatial resolution of our satellite data. \n",
    "\n",
    "### Load datacube data\n",
    "As in the previous example, we can load in satellite data from the datacube at 30 m spatial resolution and Australian Albers (`EPSG:3577`) coordinate reference system:"
   ]
  },
  {
   "cell_type": "code",
   "execution_count": null,
   "metadata": {},
   "outputs": [],
   "source": [
    "# Load data from datacube\n",
    "ds = dc.load(product=\"ga_ls8c_gm_2_annual\",\n",
    "             measurements=[\"red\", \"green\", \"blue\"],\n",
    "             time=(\"2018\"),\n",
    "             x=(46.00, 47.00),\n",
    "             y=(-19, -18),\n",
    "             resolution=(-30, 30),\n",
    "             output_crs=\"EPSG:6933\",\n",
    "             group_by=\"solar_day\")\n",
    "\n",
    "# Plot 30 m resolution satellite data\n",
    "rgb(ds)"
   ]
  },
  {
   "cell_type": "markdown",
   "metadata": {},
   "source": [
    "### Load and reproject raster data\n",
    "We can now use the `rio_slurp_xarray` function to load and reproject our raster file to match our higher resolution satellite dataset.\n",
    "We specify `gbox=ds.geobox` to request that our raster gets reprojected to match the spatial grid of `ds`.\n",
    "As in the previous `xr_reproject` example, we can also specify a custom `resampling` method which will be used during the reprojection.\n",
    "In this case, we specify `'bilinear'`, which will produce a smooth output without obvious pixel boundaries.\n",
    "\n",
    "> **Note:** Refer to the [rasterio documentation](https://rasterio.readthedocs.io/en/latest/api/rasterio.enums.html#rasterio.enums.Resampling) for a full list of available resampling methods."
   ]
  },
  {
   "cell_type": "code",
   "execution_count": null,
   "metadata": {},
   "outputs": [],
   "source": [
    "# Load raster and reproject to match satellite dataset\n",
    "raster_reprojected = rio_slurp_xarray(fname=raster_path,\n",
    "                                      gbox=ds.geobox,\n",
    "                                      resampling=\"bilinear\")\n",
    "\n",
    "# Set nodata to `NaN`\n",
    "raster_reprojected = mask_invalid_data(raster_reprojected)"
   ]
  },
  {
   "cell_type": "markdown",
   "metadata": {},
   "source": [
    "If we plot our resampled raster data, it should now appear less pixelated than the original ~250 m resolution raster."
   ]
  },
  {
   "cell_type": "code",
   "execution_count": null,
   "metadata": {},
   "outputs": [],
   "source": [
    "raster_reprojected.plot(size=6)"
   ]
  },
  {
   "cell_type": "markdown",
   "metadata": {},
   "source": [
    "The resampled raster should also match the spatial grid of our higher resolution satellite data:"
   ]
  },
  {
   "cell_type": "code",
   "execution_count": null,
   "metadata": {},
   "outputs": [],
   "source": [
    "raster_reprojected.geobox == ds.geobox"
   ]
  },
  {
   "cell_type": "markdown",
   "metadata": {},
   "source": [
    "Now both of our datasets share the same spatial grid, we can use our resampled raster to mask our higher resolution satellite dataset as we did in the first section (e.g. mask out all areas with less than 350 mm of rainfall in February). \n",
    "Compared to the first example, this masked satellite dataset should appear much higher resolution, with far less obvious pixelation:"
   ]
  },
  {
   "cell_type": "code",
   "execution_count": null,
   "metadata": {},
   "outputs": [],
   "source": [
    "# Identify high rainfall areas\n",
    "high_rainfall = raster_reprojected > 350\n",
    "\n",
    "# Apply mask to set high rainfall areas to `NaN`\n",
    "ds_masked = ds.where(high_rainfall)\n",
    "\n",
    "# Plot the masked data\n",
    "rgb(ds_masked)"
   ]
  },
  {
   "cell_type": "markdown",
   "metadata": {},
   "source": [
    "***\n",
    "\n",
    "## Additional information\n",
    "\n",
    "**License:** The code in this notebook is licensed under the [Apache License, Version 2.0](https://www.apache.org/licenses/LICENSE-2.0). \n",
    "Digital Earth Africa data is licensed under the [Creative Commons by Attribution 4.0](https://creativecommons.org/licenses/by/4.0/) license.\n",
    "\n",
    "**Contact:** If you need assistance, please post a question on the [Open Data Cube Slack channel](http://slack.opendatacube.org/) or on the [GIS Stack Exchange](https://gis.stackexchange.com/questions/ask?tags=open-data-cube) using the `open-data-cube` tag (you can view previously asked questions [here](https://gis.stackexchange.com/questions/tagged/open-data-cube)).\n",
    "If you would like to report an issue with this notebook, you can file one on [Github](https://github.com/digitalearthafrica/deafrica-sandbox-notebooks).\n",
    "\n",
    "**Last modified:** October 2020\n",
    "\n",
    "**Compatible datacube version:** "
   ]
  },
  {
   "cell_type": "code",
   "execution_count": null,
   "metadata": {},
   "outputs": [],
   "source": [
    "print(datacube.__version__)"
   ]
  },
  {
   "cell_type": "markdown",
   "metadata": {},
   "source": [
    "## Tags\n",
    "Browse all available tags on the DEA User Guide's [Tags Index](https://docs.dea.ga.gov.au/genindex.html)"
   ]
  },
  {
   "cell_type": "raw",
   "metadata": {
    "raw_mimetype": "text/restructuredtext"
   },
   "source": [
    "**Tags**: :index:`NCI compatible`, :index:`sandbox compatible`, :index:`landsat 8`, :index:`dea_plotting`, :index:`rgb`, :index:`reprojecting data`, :index:`resampling data`, :index:`xr_reproject`, :index:`rio_slurp_xarray`, :index:`GeoTIFF`, :index:`GeoBox`, :index:`xarray.open_rasterio`, :index:`digital elevation model`"
   ]
  }
 ],
 "metadata": {
  "kernelspec": {
   "display_name": "Python 3",
   "language": "python",
   "name": "python3"
  },
  "language_info": {
   "codemirror_mode": {
    "name": "ipython",
    "version": 3
   },
   "file_extension": ".py",
   "mimetype": "text/x-python",
   "name": "python",
   "nbconvert_exporter": "python",
   "pygments_lexer": "ipython3",
   "version": "3.6.9"
  },
  "widgets": {
   "application/vnd.jupyter.widget-state+json": {
    "state": {},
    "version_major": 2,
    "version_minor": 0
   }
  }
 },
 "nbformat": 4,
 "nbformat_minor": 4
}
