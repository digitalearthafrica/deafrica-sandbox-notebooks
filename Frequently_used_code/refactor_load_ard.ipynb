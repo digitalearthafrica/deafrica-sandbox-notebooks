{
 "cells": [
  {
   "cell_type": "markdown",
   "metadata": {},
   "source": [
    "# Loading data from Digital Earth Africa <img align=\"right\" src=\"../Supplementary_data/DE_Africa_Logo_Stacked_RGB_small.jpg\">\n"
   ]
  },
  {
   "cell_type": "code",
   "execution_count": null,
   "metadata": {},
   "outputs": [],
   "source": [
    "# pip install dist/deafrica_tools-0.1.0.tar.gz"
   ]
  },
  {
   "cell_type": "code",
   "execution_count": null,
   "metadata": {},
   "outputs": [],
   "source": [
    "import datacube\n",
    "from odc.ui import with_ui_cbk\n",
    "import datacube\n",
    "import matplotlib.pyplot as plt\n",
    "import datacube.utils.rio\n",
    "from datacube.utils import masking\n",
    "import odc.algo\n",
    "\n",
    "from deafrica_tools.plotting import rgb\n",
    "from deafrica_tools.datahandling import load_ard\n",
    "from deafrica_tools.dask import create_local_dask_cluster\n",
    "\n",
    "#This will speed up loading data\n",
    "datacube.utils.rio.set_default_rio_config(aws='auto', cloud_defaults=True)\n",
    "\n",
    "%load_ext autoreload\n",
    "%autoreload 2"
   ]
  },
  {
   "cell_type": "code",
   "execution_count": null,
   "metadata": {},
   "outputs": [],
   "source": [
    "create_local_dask_cluster()"
   ]
  },
  {
   "cell_type": "markdown",
   "metadata": {},
   "source": [
    "### Connect to the datacube\n",
    "We then need to connect to the datacube database.\n",
    "We will then be able to use the `dc` datacube object to load data.\n",
    "The `app` parameter is a unique name used to identify the notebook that does not have any effect on the analysis."
   ]
  },
  {
   "cell_type": "code",
   "execution_count": null,
   "metadata": {},
   "outputs": [],
   "source": [
    "dc = datacube.Datacube(app=\"03_Loading_data\")"
   ]
  },
  {
   "cell_type": "markdown",
   "metadata": {},
   "source": [
    "## query"
   ]
  },
  {
   "cell_type": "code",
   "execution_count": null,
   "metadata": {},
   "outputs": [],
   "source": [
    "lat, lon = 33.4291, -7.6058\n",
    "buffer = 0.1\n",
    "measurements=['red','green','blue', 'swir_1', 'surface_temperature', 'atmospheric_transmittance']\n",
    "\n",
    "# Create a reusable query\n",
    "query = {\n",
    "    'x': (lon-buffer, lon+buffer),\n",
    "    'y': (lat+buffer, lat-buffer),\n",
    "    'time': ('1984','2013'),\n",
    "    'resolution': (-30, 30),\n",
    "    'dask_chunks':{},\n",
    "    'output_crs':'epsg:6933',\n",
    "}"
   ]
  },
  {
   "cell_type": "markdown",
   "metadata": {},
   "source": [
    "## load_ard"
   ]
  },
  {
   "cell_type": "code",
   "execution_count": null,
   "metadata": {},
   "outputs": [],
   "source": [
    "ld = load_ard(dc=dc,\n",
    "         products=['ls5_c2l2','ls7_c2l2','ls8_c2l2'],\n",
    "         measurements=measurements,\n",
    "         min_gooddata=0.1,\n",
    "         verbose=True,\n",
    "         **query)\n",
    "\n",
    "print(ld)"
   ]
  },
  {
   "cell_type": "code",
   "execution_count": null,
   "metadata": {},
   "outputs": [],
   "source": [
    "ld.compute()"
   ]
  },
  {
   "cell_type": "code",
   "execution_count": null,
   "metadata": {},
   "outputs": [],
   "source": [
    "rgb(ld, index=[1,3,5,10,-1])"
   ]
  },
  {
   "cell_type": "code",
   "execution_count": null,
   "metadata": {},
   "outputs": [],
   "source": [
    "ld.swir_1.plot(col='time', col_wrap=5)"
   ]
  },
  {
   "cell_type": "markdown",
   "metadata": {},
   "source": [
    "## dc.load"
   ]
  },
  {
   "cell_type": "code",
   "execution_count": null,
   "metadata": {},
   "outputs": [],
   "source": [
    "ds = dc.load(product='ls8_c2l2',\n",
    "#              measurements=measurements,\n",
    "             **query\n",
    "            ).compute()\n",
    "\n",
    "# ds = dc.load(product='ls7_c2l2',\n",
    "#              measurements=measurements,\n",
    "#              **query\n",
    "#             )\n",
    "\n",
    "# ds = dc.load(product='ls5_c2l2',\n",
    "# #              measurements=measurements,\n",
    "#              **query\n",
    "#             )\n"
   ]
  },
  {
   "cell_type": "code",
   "execution_count": null,
   "metadata": {},
   "outputs": [],
   "source": [
    "# for band in ds.data_vars:\n",
    "#     fig,ax=plt.subplots(1,1, figsize=(5,5))\n",
    "#     ds[band].isel(time=2).plot()\n",
    "#     ax.set_title(band)"
   ]
  },
  {
   "cell_type": "code",
   "execution_count": null,
   "metadata": {},
   "outputs": [],
   "source": [
    "# ds.QA_PIXEL.flags_definition"
   ]
  },
  {
   "cell_type": "code",
   "execution_count": null,
   "metadata": {},
   "outputs": [],
   "source": [
    "import pprint\n",
    "pprint.pprint(ds.QA_PIXEL.flags_definition)"
   ]
  },
  {
   "cell_type": "code",
   "execution_count": null,
   "metadata": {},
   "outputs": [],
   "source": [
    "quality_flags_prod = {\n",
    "                \"clear\": True,\n",
    "                \"cloud_shadow\": \"not_high_confidence\",\n",
    "                \"nodata\": False,\n",
    "            }\n",
    "\n",
    "# \"cirrus\":\"not_high_confidence\"\n",
    "pq_mask = masking.make_mask(ds['QA_PIXEL'], **quality_flags_prod)\n"
   ]
  },
  {
   "cell_type": "code",
   "execution_count": null,
   "metadata": {},
   "outputs": [],
   "source": [
    "ds_masked = odc.algo.keep_good_only(ds, where=pq_mask)#.compute()\n",
    "ds_masked = odc.algo.to_float(ds_masked, dtype='float32').compute()"
   ]
  },
  {
   "cell_type": "code",
   "execution_count": null,
   "metadata": {},
   "outputs": [],
   "source": [
    "st = ds_masked['ST_B6'] * 0.00341802 + 149.0 - 273.15"
   ]
  },
  {
   "cell_type": "code",
   "execution_count": null,
   "metadata": {},
   "outputs": [],
   "source": [
    "for i in range(len(ds.time)):\n",
    "    fig,ax=plt.subplots(1,4, figsize=(15,5), sharey=True)\n",
    "    pq_mask.isel(time=i).plot(ax=ax[1], add_colorbar=False)\n",
    "    rgb(ds, index=i, ax=ax[0])\n",
    "    rgb(ds_masked, index=i, ax=ax[2])\n",
    "    st.isel(time=i).plot(ax=ax[3])   \n",
    "       "
   ]
  },
  {
   "cell_type": "code",
   "execution_count": null,
   "metadata": {},
   "outputs": [],
   "source": []
  }
 ],
 "metadata": {
  "kernelspec": {
   "display_name": "Python 3",
   "language": "python",
   "name": "python3"
  },
  "language_info": {
   "codemirror_mode": {
    "name": "ipython",
    "version": 3
   },
   "file_extension": ".py",
   "mimetype": "text/x-python",
   "name": "python",
   "nbconvert_exporter": "python",
   "pygments_lexer": "ipython3",
   "version": "3.6.9"
  },
  "widgets": {
   "application/vnd.jupyter.widget-state+json": {
    "state": {},
    "version_major": 2,
    "version_minor": 0
   }
  }
 },
 "nbformat": 4,
 "nbformat_minor": 4
}
