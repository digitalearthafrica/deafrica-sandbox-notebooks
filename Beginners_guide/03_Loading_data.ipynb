{
 "cells": [
  {
   "cell_type": "markdown",
   "metadata": {},
   "source": [
    "# Loading data from Digital Earth Africa\n",
    "\n",
    "* **Products used:** \n",
    "[gm_s2_annual](https://explorer.digitalearth.africa/gm_s2_annual), \n",
    "[ga_ls8c_wofs_2_annual_summary](https://explorer.digitalearth.africa/ga_ls8c_wofs_2_annual_summary)\n",
    "\n",
    "* **Prerequisites:** Users of this notebook should have a basic understanding of:\n",
    "    * How to run a [Jupyter notebook](01_Jupyter_notebooks.ipynb)\n",
    "    * Inspecting available [DE Africa products and measurements](02_Products_and_measurements.ipynb)"
   ]
  },
  {
   "cell_type": "raw",
   "metadata": {
    "raw_mimetype": "text/restructuredtext"
   },
   "source": [
    "**Keywords** :index:`beginner's guide; loading data`, :index:`loading data; beginner's guide`, :index:`data used; landsat 8 geomedian`, :index:`data used; WOfS`, :index:`data methods; resampling` :index:`data methods; reprojecting`, :index:`data attributes; coordinate reference system`"
   ]
  },
  {
   "cell_type": "markdown",
   "metadata": {},
   "source": [
    "## Background\n",
    "Loading data from the [Digital Earth Africa (DE Africa)](https://www.digitalearthafrica.org/) instance of the [Open Data Cube](https://www.opendatacube.org/) requires the construction of a data query that specifies the what, where, and when of the data request.\n",
    "Each query returns a [multi-dimensional xarray object](http://xarray.pydata.org/en/stable/) containing the contents of your query.\n",
    "It is essential to understand the `xarray` data structures as they are fundamental to the structure of data loaded from the datacube.\n",
    "Manipulations, transformations and visualisation of `xarray` objects provide datacube users with the ability to explore and analyse DE Africa datasets, as well as pose and answer scientific questions."
   ]
  },
  {
   "cell_type": "markdown",
   "metadata": {},
   "source": [
    "## Description\n",
    "This notebook will introduce how to load data from the Digital Earth Africa datacube through the construction of a query and use of the `dc.load()` function.\n",
    "Topics covered include:\n",
    "\n",
    "* Loading data using `dc.load()`\n",
    "* Interpreting the resulting `xarray.Dataset` object\n",
    "    * Inspecting an individual `xarray.DataArray`\n",
    "* Customising parameters passed to the `dc.load()` function\n",
    "    * Loading specific measurements\n",
    "    * Loading data for coordinates in a custom coordinate reference system (CRS)\n",
    "    * Projecting data to a new CRS and spatial resolution \n",
    "    * Specifying a specific spatial resampling method\n",
    "* Loading data using a reusable dictionary query\n",
    "* Loading matching data from multiple products using `like`\n",
    "* Adding a progress bar to the data load\n",
    "\n",
    "***"
   ]
  },
  {
   "cell_type": "markdown",
   "metadata": {},
   "source": [
    "## Getting started\n",
    "To run this introduction to loading data from DE Africa, run all the cells in the notebook starting with the \"Load packages\" cell. For help with running notebook cells, refer back to the [Jupyter Notebooks notebook](01_Jupyter_notebooks.ipynb)."
   ]
  },
  {
   "cell_type": "markdown",
   "metadata": {},
   "source": [
    "### Load packages\n",
    "First we need to load the `datacube` package.\n",
    "This will allow us to query the datacube database and load some data. \n",
    "The `with_ui_cbk` function from `odc.ui` will allow us to show a progress bar when loading large amounts of data."
   ]
  },
  {
   "cell_type": "code",
   "execution_count": 1,
   "metadata": {},
   "outputs": [],
   "source": [
    "import datacube\n",
    "from odc.ui import with_ui_cbk"
   ]
  },
  {
   "cell_type": "markdown",
   "metadata": {},
   "source": [
    "### Connect to the datacube\n",
    "We then need to connect to the datacube database.\n",
    "We will then be able to use the `dc` datacube object to load data.\n",
    "The `app` parameter is a unique name used to identify the notebook that does not have any effect on the analysis."
   ]
  },
  {
   "cell_type": "code",
   "execution_count": 2,
   "metadata": {},
   "outputs": [],
   "source": [
    "dc = datacube.Datacube(app=\"03_Loading_data\")"
   ]
  },
  {
   "cell_type": "markdown",
   "metadata": {},
   "source": [
    "## Loading data using `dc.load()`\n",
    "\n",
    "Loading data from the datacube uses the [dc.load()](https://datacube-core.readthedocs.io/en/latest/dev/api/generate/datacube.Datacube.load.html) function.\n",
    "\n",
    "The function requires the following minimum arguments:\n",
    "\n",
    "* `product`: A specific product to load (to revise DE Africa products, see the [Products and measurements](02_Products_and_measurements.ipynb) notebook).\n",
    "* `x`: Defines the spatial region in the *x* dimension. By default, the *x* and *y* arguments accept queries in a geographical co-ordinate system WGS84, identified by the EPSG code *4326*.\n",
    "* `y`: Defines the spatial region in the *y* dimension. The dimensions ``longitude``/``latitude`` and ``x``/``y`` can be used interchangeably.\n",
    "* `time`: Defines the temporal extent. The time dimension can be specified using a tuple of datetime objects or strings in the \"YYYY\", \"YYYY-MM\" or \"YYYY-MM-DD\" format. \n",
    "\n",
    "An optional arguement which provides ease of use and ease of identification of the measurements to load is:\n",
    "\n",
    "* `measurements:` This argument is used to provide a list of measurement names to load, as listed in `dc.list_measurements()`. \n",
    "For satellite datasets, measurements contain data for each individual satellite band (e.g. near infrared). \n",
    "If not provided, all measurements for the product will be returned, and they will have the default names from the satellite data.\n",
    "\n",
    "Let's run a query to load 2018 data from the [Sentinel 2 annual geomedian product](https://explorer.digitalearth.africa/gm_s2_annual) for part of Nxai Pan National park in Botswana. \n",
    "For this example, we can use the following parameters:\n",
    "\n",
    "* `product`: `gm_s2_annual`\n",
    "* `x`: `(24.60, 24.80)`\n",
    "* `y`: `(-20.05, -20.25)`\n",
    "* `time`: `(\"2018-01-01\", \"2018-12-31\")`\n",
    "* `measurements`: `['blue', 'green', 'red', 'nir', 'swir_1', 'swir_2', 'emad', 'bcmad', 'smad', 'red_edge_1']`\n",
    "\n",
    "Run the following cell to load all datasets from the `gm_s2_annual` product that match this spatial and temporal extent:"
   ]
  },
  {
   "cell_type": "code",
   "execution_count": 9,
   "metadata": {},
   "outputs": [
    {
     "name": "stdout",
     "output_type": "stream",
     "text": [
      "<xarray.Dataset>\n",
      "Dimensions:      (time: 1, x: 966, y: 1201)\n",
      "Coordinates:\n",
      "  * time         (time) datetime64[ns] 2018-07-02T11:59:59.999999\n",
      "  * y            (y) float64 -2.507e+06 -2.507e+06 ... -2.519e+06 -2.519e+06\n",
      "  * x            (x) float64 2.378e+06 2.378e+06 ... 2.388e+06 2.388e+06\n",
      "    spatial_ref  int32 6933\n",
      "Data variables:\n",
      "    blue         (time, y, x) uint16 789 814 827 825 820 ... 765 707 650 647\n",
      "    green        (time, y, x) uint16 1137 1162 1174 1177 ... 1294 1245 1207 1215\n",
      "    red          (time, y, x) uint16 1419 1453 1479 1494 ... 1151 1063 993 1006\n",
      "    nir          (time, y, x) uint16 2607 2631 2644 2677 ... 1840 1761 1693 1636\n",
      "    swir_1       (time, y, x) uint16 3350 3362 3392 3387 ... 750 657 544 403\n",
      "    swir_2       (time, y, x) uint16 2442 2453 2482 2467 ... 509 442 375 303\n",
      "    emad         (time, y, x) float32 784.9416 801.7974 ... 1629.1587 1695.0238\n",
      "    bcmad        (time, y, x) float32 0.051603153 0.05198982 ... 0.22878283\n",
      "    smad         (time, y, x) float32 0.0019149384 0.0018363661 ... 0.040466286\n",
      "    red_edge_1   (time, y, x) uint16 1824 1835 1867 1877 ... 1805 1782 1722 1679\n",
      "Attributes:\n",
      "    crs:           EPSG:6933\n",
      "    grid_mapping:  spatial_ref\n"
     ]
    }
   ],
   "source": [
    "ds = dc.load(product=\"gm_s2_annual\",\n",
    "             x=(24.65, 24.75),\n",
    "             y=(-20.05, -20.15),\n",
    "             time=(\"2018-01-01\", \"2018-12-31\"),\n",
    "             measurements=['blue', 'green', 'red', 'nir', 'swir_1', 'swir_2', 'emad', 'bcmad', 'smad', 'red_edge_1'])\n",
    "\n",
    "print(ds)"
   ]
  },
  {
   "cell_type": "markdown",
   "metadata": {},
   "source": [
    "### Interpreting the resulting `xarray.Dataset`\n",
    "The variable `ds` has returned an `xarray.Dataset` containing all data that matched the spatial and temporal query parameters inputted into `dc.load`.\n",
    "\n",
    "*Dimensions* \n",
    "\n",
    "* Identifies the number of timesteps returned in the search (`time: 1`) as well as the number of pixels in the `x` and `y` directions of the data query.\n",
    "\n",
    "*Coordinates* \n",
    "\n",
    "* `time` identifies the date attributed to each returned timestep.\n",
    "* `x` and `y` are the coordinates for each pixel within the spatial bounds of your query.\n",
    "\n",
    "*Data variables*\n",
    "\n",
    "* These are the measurements available for the nominated product. \n",
    "For every date (`time`) returned by the query, the measured value at each pixel (`y`, `x`) is returned as an array for each measurement.\n",
    "Each data variable is itself an `xarray.DataArray` object ([see below](#Inspecting-an-individual-xarray.DataArray)). \n",
    "\n",
    "*Attributes*\n",
    "\n",
    "* `crs` identifies the coordinate reference system (CRS) of the loaded data. "
   ]
  },
  {
   "cell_type": "markdown",
   "metadata": {},
   "source": [
    "### Inspecting an individual `xarray.DataArray`\n",
    "The `xarray.Dataset` we loaded above is itself a collection of individual `xarray.DataArray` objects that hold the actual data for each data variable/measurement. \n",
    "For example, all measurements listed under _Data variables_ above (e.g. `blue`, `green`, `red`, `nir`, `swir_1`, `swir_2`) are `xarray.DataArray` objects.\n",
    "\n",
    "We can inspect the data in these `xarray.DataArray` objects using either of the following syntaxes:\n",
    "```\n",
    "ds[\"measurement_name\"]\n",
    "```\n",
    "or:\n",
    "```\n",
    "ds.measurement_name\n",
    "```\n",
    "\n",
    "Being able to access data from individual data variables/measurements allows us to manipulate and analyse data from individual satellite bands or specific layers in a dataset. \n",
    "For example, we can access data from the near infra-red satellite band (i.e. `nir`):"
   ]
  },
  {
   "cell_type": "code",
   "execution_count": 10,
   "metadata": {},
   "outputs": [
    {
     "name": "stdout",
     "output_type": "stream",
     "text": [
      "<xarray.DataArray 'nir' (time: 1, y: 1201, x: 966)>\n",
      "array([[[2607, 2631, 2644, ..., 2293, 2256, 2268],\n",
      "        [2646, 2655, 2681, ..., 2263, 2251, 2273],\n",
      "        [2688, 2672, 2693, ..., 2225, 2233, 2265],\n",
      "        ...,\n",
      "        [2721, 2733, 2755, ..., 3054, 2691, 2148],\n",
      "        [2704, 2728, 2745, ..., 2357, 1948, 1755],\n",
      "        [2708, 2741, 2734, ..., 1761, 1693, 1636]]], dtype=uint16)\n",
      "Coordinates:\n",
      "  * time         (time) datetime64[ns] 2018-07-02T11:59:59.999999\n",
      "  * y            (y) float64 -2.507e+06 -2.507e+06 ... -2.519e+06 -2.519e+06\n",
      "  * x            (x) float64 2.378e+06 2.378e+06 ... 2.388e+06 2.388e+06\n",
      "    spatial_ref  int32 6933\n",
      "Attributes:\n",
      "    units:         1\n",
      "    nodata:        0\n",
      "    crs:           EPSG:6933\n",
      "    grid_mapping:  spatial_ref\n"
     ]
    }
   ],
   "source": [
    "print(ds.nir)"
   ]
  },
  {
   "cell_type": "markdown",
   "metadata": {},
   "source": [
    "Note that the object header informs us that it is an `xarray.DataArray` containing data for the `nir` satellite band. \n",
    "\n",
    "Like an `xarray.Dataset`, the array also includes information about the data's **dimensions** (i.e. `(time: 1, y: 801, x: 644)`), **coordinates** and **attributes**.\n",
    "This particular data variable/measurement contains some additional information that is specific to the `nir` band, including details of array's nodata value (i.e. `nodata: -999`).\n",
    "\n",
    "> **Note**: For a more in-depth introduction to `xarray` data structures, refer to the [official xarray documentation](http://xarray.pydata.org/en/stable/data-structures.html)"
   ]
  },
  {
   "cell_type": "markdown",
   "metadata": {},
   "source": [
    "## Customising the `dc.load()` function\n",
    "\n",
    "The `dc.load()` function can be tailored to refine a query.\n",
    "\n",
    "Customisation options include:\n",
    "\n",
    "* `measurements:` This argument is used to provide a list of measurement names to load, as listed in `dc.list_measurements()`. \n",
    "For satellite datasets, measurements contain data for each individual satellite band (e.g. near infrared). \n",
    "If not provided, all measurements for the product will be returned.\n",
    "* `crs:` The coordinate reference system (CRS) of the query's `x` and `y` coordinates is assumed to be `WGS84`/`EPSG:4326` unless the `crs` field is supplied, even if the stored data is in another projection or the `output_crs` is specified. \n",
    "The `crs` parameter is required if your query's coordinates are in any other CRS.\n",
    "* `group_by:` Satellite datasets based around scenes can have multiple observations per day with slightly different time stamps as the satellite collects data along its path.\n",
    "These observations can be combined by reducing the `time` dimension to the day level using `group_by=solar_day`.\n",
    "* `output_crs` and `resolution`: To reproject or change the resolution the data, supply the `output_crs` and `resolution` fields.    \n",
    "* `resampling`: This argument allows you to specify a custom spatial resampling method to use when data is reprojected into a different CRS. \n",
    "\n",
    "Example syntax on the use of these options follows in the cells below.\n",
    "\n",
    "> For help or more customisation options, run `help(dc.load)` in an empty cell or visit the function's [documentation page](https://datacube-core.readthedocs.io/en/latest/dev/api/generate/datacube.Datacube.load.html)\n"
   ]
  },
  {
   "cell_type": "markdown",
   "metadata": {},
   "source": [
    "### Specifying measurements\n",
    "By default, `dc.load()` will load *all* measurements in a product.\n",
    "\n",
    "To load data from the `red`, `green` and `blue` satellite bands only, we can add `measurements=[\"red\", \"green\", \"blue\"]` to our query:"
   ]
  },
  {
   "cell_type": "code",
   "execution_count": 11,
   "metadata": {},
   "outputs": [
    {
     "name": "stdout",
     "output_type": "stream",
     "text": [
      "<xarray.Dataset>\n",
      "Dimensions:      (time: 1, x: 1930, y: 2400)\n",
      "Coordinates:\n",
      "  * time         (time) datetime64[ns] 2018-07-02T11:59:59.999999\n",
      "  * y            (y) float64 -2.507e+06 -2.507e+06 ... -2.531e+06 -2.531e+06\n",
      "  * x            (x) float64 2.374e+06 2.374e+06 ... 2.393e+06 2.393e+06\n",
      "    spatial_ref  int32 6933\n",
      "Data variables:\n",
      "    red          (time, y, x) uint16 1306 1272 1320 1299 ... 1385 1394 1363 1365\n",
      "    green        (time, y, x) uint16 989 996 1037 1010 ... 1102 1108 1086 1095\n",
      "    blue         (time, y, x) uint16 695 700 746 709 752 ... 784 785 791 766 771\n",
      "Attributes:\n",
      "    crs:           EPSG:6933\n",
      "    grid_mapping:  spatial_ref\n"
     ]
    }
   ],
   "source": [
    "# Note the optional inclusion of the measurements list\n",
    "ds_rgb = dc.load(product=\"gm_s2_annual\",\n",
    "                 measurements=[\"red\", \"green\", \"blue\"],\n",
    "                 x=(24.60, 24.80),\n",
    "                 y=(-20.05, -20.25),\n",
    "                 time=(\"2018-01-01\", \"2018-12-31\"))\n",
    "\n",
    "print(ds_rgb)"
   ]
  },
  {
   "cell_type": "markdown",
   "metadata": {},
   "source": [
    "Note that the *Data variables* component of the `xarray.Dataset` now includes only the measurements specified in the query (i.e. the `red`, `green` and `blue` satellite bands)."
   ]
  },
  {
   "cell_type": "markdown",
   "metadata": {},
   "source": [
    "### Loading data for coordinates in any CRS\n",
    "By default, `dc.load()` assumes that your query `x` and `y` coordinates are provided in degrees in the `WGS84/EPSG:4326` CRS.\n",
    "If your coordinates are in a different coordinate system, you need to specify this using the `crs` parameter.\n",
    "\n",
    "In the example below, we load data for a set of `x` and `y` coordinates defined in Africa Albers Equal Area Conic (`EPSG:6933`), and ensure that the `dc.load()` function accounts for this by including `crs=\"EPSG:6933\"`:\n"
   ]
  },
  {
   "cell_type": "code",
   "execution_count": 12,
   "metadata": {},
   "outputs": [
    {
     "name": "stdout",
     "output_type": "stream",
     "text": [
      "<xarray.Dataset>\n",
      "Dimensions:      (time: 1, x: 1930, y: 2401)\n",
      "Coordinates:\n",
      "  * time         (time) datetime64[ns] 2018-07-02T11:59:59.999999\n",
      "  * y            (y) float64 -2.507e+06 -2.507e+06 ... -2.531e+06 -2.531e+06\n",
      "  * x            (x) float64 2.374e+06 2.374e+06 ... 2.393e+06 2.393e+06\n",
      "    spatial_ref  int32 6933\n",
      "Data variables:\n",
      "    B02          (time, y, x) uint16 723 667 670 683 672 ... 775 784 785 791 766\n",
      "    B03          (time, y, x) uint16 1016 961 976 982 ... 1108 1102 1108 1086\n",
      "    B04          (time, y, x) uint16 1338 1258 1254 1269 ... 1392 1385 1394 1363\n",
      "    B05          (time, y, x) uint16 1638 1625 1592 1587 ... 1755 1756 1743 1735\n",
      "    B06          (time, y, x) uint16 1929 1923 1931 1931 ... 2213 2213 2185 2181\n",
      "    B07          (time, y, x) uint16 2098 2092 2103 2105 ... 2440 2440 2405 2399\n",
      "    B08          (time, y, x) uint16 2265 2234 2296 2312 ... 2593 2598 2555 2509\n",
      "    B8A          (time, y, x) uint16 2381 2371 2380 2383 ... 2727 2729 2686 2679\n",
      "    B11          (time, y, x) uint16 3139 3107 3034 3026 ... 3361 3368 3345 3327\n",
      "    B12          (time, y, x) uint16 2298 2255 2172 2161 ... 2458 2465 2429 2410\n",
      "    SMAD         (time, y, x) float32 0.0010175476 0.0011295706 ... 0.0034346702\n",
      "    EMAD         (time, y, x) float32 654.07025 681.0021 ... 855.66223 845.2411\n",
      "    BCMAD        (time, y, x) float32 0.048780013 0.051538024 ... 0.050524205\n",
      "    COUNT        (time, y, x) uint16 55 55 55 55 55 55 55 ... 55 54 54 54 54 54\n",
      "Attributes:\n",
      "    crs:           EPSG:6933\n",
      "    grid_mapping:  spatial_ref\n"
     ]
    }
   ],
   "source": [
    "# Note the new `x` and `y` coordinates and `crs` parameter\n",
    "ds_custom_crs = dc.load(product=\"gm_s2_annual\",\n",
    "                        time=(\"2018-01-01\", \"2018-12-31\"),\n",
    "                        x=(2373555, 2392845),\n",
    "                        y=(-2507265, -2531265),\n",
    "                        crs=\"EPSG:6933\")\n",
    "\n",
    "print(ds_custom_crs)"
   ]
  },
  {
   "cell_type": "markdown",
   "metadata": {},
   "source": [
    "### CRS reprojection\n",
    "Certain applications may require that you output your data into a specific CRS.\n",
    "You can reproject your output data by specifying the new `output_crs` and identifying the `resolution` required.\n",
    "\n",
    "In this example, we will reproject our data to a new CRS (UTM Zone 34S, `EPSG:32734`) and resolution (250 x 250 m). Note that for most CRSs, the first resolution value is negative (e.g. `(-250, 250)`):"
   ]
  },
  {
   "cell_type": "code",
   "execution_count": 13,
   "metadata": {},
   "outputs": [
    {
     "name": "stdout",
     "output_type": "stream",
     "text": [
      "<xarray.Dataset>\n",
      "Dimensions:      (time: 1, x: 87, y: 91)\n",
      "Coordinates:\n",
      "  * time         (time) datetime64[ns] 2018-07-02T11:59:59.999999\n",
      "  * y            (y) float64 7.779e+06 7.779e+06 ... 7.757e+06 7.756e+06\n",
      "  * x            (x) float64 8.761e+05 8.764e+05 ... 8.974e+05 8.976e+05\n",
      "    spatial_ref  int32 32734\n",
      "Data variables:\n",
      "    B02          (time, y, x) uint16 683 715 778 817 704 ... 792 747 706 704 744\n",
      "    B03          (time, y, x) uint16 940 997 1077 1117 ... 1046 1009 1006 1042\n",
      "    B04          (time, y, x) uint16 1189 1277 1373 1419 ... 1307 1251 1258 1284\n",
      "    B05          (time, y, x) uint16 1494 1604 1705 1744 ... 1664 1609 1618 1638\n",
      "    B06          (time, y, x) uint16 1818 1950 2033 2061 ... 2084 2026 2047 2069\n",
      "    B07          (time, y, x) uint16 1984 2128 2214 2239 ... 2293 2216 2248 2270\n",
      "    B08          (time, y, x) uint16 2118 2284 2397 2424 ... 2423 2329 2373 2391\n",
      "    B8A          (time, y, x) uint16 2224 2391 2503 2527 ... 2565 2453 2503 2520\n",
      "    B11          (time, y, x) uint16 3198 3269 3321 3373 ... 3277 3069 3122 3181\n",
      "    B12          (time, y, x) uint16 2389 2407 2484 2533 ... 2375 2144 2199 2282\n",
      "    SMAD         (time, y, x) float32 0.001580844 0.0019580494 ... 0.0035506606\n",
      "    EMAD         (time, y, x) float32 780.13763 794.2613 ... 777.54236 815.39026\n",
      "    BCMAD        (time, y, x) float32 0.06215836 0.05727405 ... 0.055522468\n",
      "    COUNT        (time, y, x) uint16 55 56 56 54 55 54 54 ... 54 55 55 54 53 53\n",
      "Attributes:\n",
      "    crs:           EPSG:32734\n",
      "    grid_mapping:  spatial_ref\n"
     ]
    }
   ],
   "source": [
    "ds_reprojected = dc.load(product=\"gm_s2_annual\",\n",
    "                         x=(24.60, 24.80),\n",
    "                         y=(-20.05, -20.25),\n",
    "                         time=(\"2018-01-01\", \"2018-12-31\"),\n",
    "                         output_crs=\"EPSG:32734\",\n",
    "                         resolution=(-250, 250))\n",
    "\n",
    "print(ds_reprojected)"
   ]
  },
  {
   "cell_type": "markdown",
   "metadata": {},
   "source": [
    "Note that the `crs` attribute in the *Attributes* section has changed to `EPSG:32734`. \n",
    "Due to the larger 250 m resolution, there are also now less pixels on the `x` and `y` dimensions (e.g. `x: 87, y: 91` compared to `x: 1930, y: 2100` in earlier examples).\n"
   ]
  },
  {
   "cell_type": "markdown",
   "metadata": {},
   "source": [
    "### Spatial resampling methods\n",
    "When a product is re-projected to a different CRS and/or resolution, the new pixel grid may differ from the original input pixels by size, number and alignment.\n",
    "It is therefore necessary to apply a spatial \"resampling\" rule that allocates input pixel values into the new pixel grid.\n",
    "\n",
    "By default, `dc.load()` resamples pixel values using \"nearest neighbour\" resampling, which allocates each new pixel with the value of the closest input pixel.\n",
    "Depending on the type of data and the analysis being run, this may not be the most appropriate choice (e.g. for continuous data).\n",
    "\n",
    "The `resampling` parameter in `dc.load()` allows you to choose a custom resampling method from the following options: \n",
    "\n",
    "```\n",
    "\"nearest\", \"cubic\", \"bilinear\", \"cubic_spline\", \"lanczos\", \n",
    "\"average\", \"mode\", \"gauss\", \"max\", \"min\", \"med\", \"q1\", \"q3\"\n",
    "```\n",
    "\n",
    "For example, we can request that all loaded data is resampled using \"average\" resampling:"
   ]
  },
  {
   "cell_type": "code",
   "execution_count": 14,
   "metadata": {},
   "outputs": [
    {
     "name": "stdout",
     "output_type": "stream",
     "text": [
      "<xarray.Dataset>\n",
      "Dimensions:      (time: 1, x: 78, y: 96)\n",
      "Coordinates:\n",
      "  * time         (time) datetime64[ns] 2018-07-02T11:59:59.999999\n",
      "  * y            (y) float64 -2.507e+06 -2.508e+06 ... -2.531e+06 -2.531e+06\n",
      "  * x            (x) float64 2.374e+06 2.374e+06 ... 2.393e+06 2.393e+06\n",
      "    spatial_ref  int32 6933\n",
      "Data variables:\n",
      "    B02          (time, y, x) uint16 795 827 656 701 808 ... 753 768 765 750 717\n",
      "    B03          (time, y, x) uint16 1086 1083 917 989 ... 1075 1067 1058 1025\n",
      "    B04          (time, y, x) uint16 1390 1406 1172 1271 ... 1335 1328 1310 1270\n",
      "    B05          (time, y, x) uint16 1713 1655 1494 1613 ... 1695 1687 1673 1634\n",
      "    B06          (time, y, x) uint16 2032 1862 1898 2049 ... 2122 2109 2112 2060\n",
      "    B07          (time, y, x) uint16 2211 2019 2087 2255 ... 2336 2319 2319 2254\n",
      "    B08          (time, y, x) uint16 2380 2186 2230 2418 ... 2477 2452 2445 2368\n",
      "    B8A          (time, y, x) uint16 2495 2290 2335 2526 ... 2613 2587 2576 2497\n",
      "    B11          (time, y, x) uint16 3547 3632 3145 3249 ... 3381 3283 3209 3092\n",
      "    B12          (time, y, x) uint16 2752 2959 2254 2301 ... 2487 2367 2288 2184\n",
      "    SMAD         (time, y, x) float32 0.00149201 0.0008583701 ... 0.0036637548\n",
      "    EMAD         (time, y, x) float32 811.61804 630.3324 ... 836.624 757.6122\n",
      "    BCMAD        (time, y, x) float32 0.053786166 0.043214098 ... 0.05321813\n",
      "    COUNT        (time, y, x) uint16 54 55 55 54 53 53 52 ... 55 53 53 55 53 54\n",
      "Attributes:\n",
      "    crs:           EPSG:6933\n",
      "    grid_mapping:  spatial_ref\n"
     ]
    }
   ],
   "source": [
    "# Note the additional `resampling` parameter\n",
    "ds_averageresampling = dc.load(product=\"gm_s2_annual\",\n",
    "                                x=(24.60, 24.80),\n",
    "                                y=(-20.05, -20.25),\n",
    "                                time=(\"2018-01-01\", \"2018-12-31\"),\n",
    "                                resolution=(-250, 250),\n",
    "                                resampling=\"average\")\n",
    "\n",
    "print(ds_averageresampling)\n"
   ]
  },
  {
   "cell_type": "markdown",
   "metadata": {},
   "source": [
    "You can also provide a Python dictionary to request a different sampling method for different measurements. \n",
    "This can be particularly useful when some measurements contain contain categorical data which require resampling methods such as \"nearest\" or \"mode\" that do not modify the input pixel values.\n",
    "\n",
    "In the example below, we specify `resampling={\"red\": \"nearest\", \"*\": \"average\"}`, which will use \"nearest\" neighbour resampling for the `red` satellite band only. `\"*\": \"average\"` will apply \"average\" resampling for all other satellite bands:\n"
   ]
  },
  {
   "cell_type": "code",
   "execution_count": 15,
   "metadata": {},
   "outputs": [
    {
     "name": "stdout",
     "output_type": "stream",
     "text": [
      "<xarray.Dataset>\n",
      "Dimensions:      (time: 1, x: 78, y: 96)\n",
      "Coordinates:\n",
      "  * time         (time) datetime64[ns] 2018-07-02T11:59:59.999999\n",
      "  * y            (y) float64 -2.507e+06 -2.508e+06 ... -2.531e+06 -2.531e+06\n",
      "  * x            (x) float64 2.374e+06 2.374e+06 ... 2.393e+06 2.393e+06\n",
      "    spatial_ref  int32 6933\n",
      "Data variables:\n",
      "    B02          (time, y, x) uint16 795 827 656 701 808 ... 753 768 765 750 717\n",
      "    B03          (time, y, x) uint16 1086 1083 917 989 ... 1075 1067 1058 1025\n",
      "    B04          (time, y, x) uint16 1390 1406 1172 1271 ... 1335 1328 1310 1270\n",
      "    B05          (time, y, x) uint16 1713 1655 1494 1613 ... 1695 1687 1673 1634\n",
      "    B06          (time, y, x) uint16 2032 1862 1898 2049 ... 2122 2109 2112 2060\n",
      "    B07          (time, y, x) uint16 2211 2019 2087 2255 ... 2336 2319 2319 2254\n",
      "    B08          (time, y, x) uint16 2380 2186 2230 2418 ... 2477 2452 2445 2368\n",
      "    B8A          (time, y, x) uint16 2495 2290 2335 2526 ... 2613 2587 2576 2497\n",
      "    B11          (time, y, x) uint16 3547 3632 3145 3249 ... 3381 3283 3209 3092\n",
      "    B12          (time, y, x) uint16 2752 2959 2254 2301 ... 2487 2367 2288 2184\n",
      "    SMAD         (time, y, x) float32 0.00149201 0.0008583701 ... 0.0036637548\n",
      "    EMAD         (time, y, x) float32 811.61804 630.3324 ... 836.624 757.6122\n",
      "    BCMAD        (time, y, x) float32 0.053786166 0.043214098 ... 0.05321813\n",
      "    COUNT        (time, y, x) uint16 54 55 55 54 53 53 52 ... 55 53 53 55 53 54\n",
      "Attributes:\n",
      "    crs:           EPSG:6933\n",
      "    grid_mapping:  spatial_ref\n"
     ]
    }
   ],
   "source": [
    "ds_customresampling = dc.load(product=\"gm_s2_annual\",\n",
    "                                    x=(24.60, 24.80),\n",
    "                                    y=(-20.05, -20.25),\n",
    "                                    time=(\"2018-01-01\", \"2018-12-31\"),\n",
    "                                    resolution=(-250, 250),\n",
    "                                    resampling={\"red\": \"nearest\", \"*\": \"average\"})\n",
    "\n",
    "print(ds_customresampling)"
   ]
  },
  {
   "cell_type": "markdown",
   "metadata": {},
   "source": [
    "> **Note**: For more information about spatial resampling methods, see the [following guide](https://rasterio.readthedocs.io/en/stable/topics/resampling.html)"
   ]
  },
  {
   "cell_type": "markdown",
   "metadata": {},
   "source": [
    "## Loading data using the query dictionary syntax\n",
    "It is often useful to re-use a set of query parameters to load data from multiple products.\n",
    "To achieve this, we can load data using the \"query dictionary\" syntax.\n",
    "This involves placing the query parameters we used to load data above inside a Python dictionary object which we can re-use for multiple data loads:"
   ]
  },
  {
   "cell_type": "code",
   "execution_count": 16,
   "metadata": {},
   "outputs": [],
   "source": [
    "query = {\"x\": (24.60, 24.80),\n",
    "         \"y\": (-20.05, -20.25),\n",
    "         \"time\": (\"2018-01-01\", \"2018-12-31\")}\n"
   ]
  },
  {
   "cell_type": "markdown",
   "metadata": {},
   "source": [
    "We can then use this query dictionary object as an input to `dc.load()`. \n",
    "\n",
    "> The `**` syntax below is Python's \"keyword argument unpacking\" operator.\n",
    "This operator takes the named query parameters listed in the dictionary we created (e.g. `\"x\": (153.3, 153.4)`), and \"unpacks\" them into the `dc.load()` function as new arguments. \n",
    "For more information about unpacking operators, refer to the [Python documentation](https://docs.python.org/3/tutorial/controlflow.html#unpacking-argument-lists)"
   ]
  },
  {
   "cell_type": "code",
   "execution_count": 17,
   "metadata": {},
   "outputs": [
    {
     "name": "stdout",
     "output_type": "stream",
     "text": [
      "<xarray.Dataset>\n",
      "Dimensions:      (time: 1, x: 1930, y: 2400)\n",
      "Coordinates:\n",
      "  * time         (time) datetime64[ns] 2018-07-02T11:59:59.999999\n",
      "  * y            (y) float64 -2.507e+06 -2.507e+06 ... -2.531e+06 -2.531e+06\n",
      "  * x            (x) float64 2.374e+06 2.374e+06 ... 2.393e+06 2.393e+06\n",
      "    spatial_ref  int32 6933\n",
      "Data variables:\n",
      "    B02          (time, y, x) uint16 695 700 746 709 752 ... 784 785 791 766 771\n",
      "    B03          (time, y, x) uint16 989 996 1037 1010 ... 1102 1108 1086 1095\n",
      "    B04          (time, y, x) uint16 1306 1272 1320 1299 ... 1385 1394 1363 1365\n",
      "    B05          (time, y, x) uint16 1637 1589 1587 1624 ... 1756 1743 1735 1718\n",
      "    B06          (time, y, x) uint16 1934 1924 1926 1963 ... 2213 2185 2181 2161\n",
      "    B07          (time, y, x) uint16 2103 2095 2100 2137 ... 2440 2405 2399 2374\n",
      "    B08          (time, y, x) uint16 2287 2307 2343 2329 ... 2598 2555 2509 2525\n",
      "    B8A          (time, y, x) uint16 2383 2372 2375 2427 ... 2729 2686 2679 2648\n",
      "    B11          (time, y, x) uint16 3118 3034 3038 3118 ... 3368 3345 3327 3253\n",
      "    B12          (time, y, x) uint16 2266 2180 2183 2234 ... 2465 2429 2410 2343\n",
      "    SMAD         (time, y, x) float32 0.0010538406 0.0011981947 ... 0.0035903174\n",
      "    EMAD         (time, y, x) float32 696.90063 698.405 ... 845.2411 803.09674\n",
      "    BCMAD        (time, y, x) float32 0.05079412 0.052382853 ... 0.052441977\n",
      "    COUNT        (time, y, x) uint16 55 55 55 55 55 55 55 ... 54 54 54 54 54 54\n",
      "Attributes:\n",
      "    crs:           EPSG:6933\n",
      "    grid_mapping:  spatial_ref\n"
     ]
    }
   ],
   "source": [
    "ds = dc.load(product=\"gm_s2_annual\",\n",
    "             **query)\n",
    "\n",
    "print(ds)"
   ]
  },
  {
   "cell_type": "markdown",
   "metadata": {},
   "source": [
    "Query dictionaries can contain any set of parameters that would usually be provided to `dc.load()`:"
   ]
  },
  {
   "cell_type": "code",
   "execution_count": 21,
   "metadata": {},
   "outputs": [
    {
     "name": "stdout",
     "output_type": "stream",
     "text": [
      "<xarray.Dataset>\n",
      "Dimensions:      (time: 1, x: 87, y: 91)\n",
      "Coordinates:\n",
      "  * time         (time) datetime64[ns] 2018-07-02T11:59:59.999999\n",
      "  * y            (y) float64 7.779e+06 7.779e+06 ... 7.757e+06 7.756e+06\n",
      "  * x            (x) float64 8.761e+05 8.764e+05 ... 8.974e+05 8.976e+05\n",
      "    spatial_ref  int32 32734\n",
      "Data variables:\n",
      "    B02          (time, y, x) uint16 683 715 778 817 704 ... 792 747 706 704 744\n",
      "    B03          (time, y, x) uint16 940 997 1077 1117 ... 1046 1009 1006 1042\n",
      "    B04          (time, y, x) uint16 1189 1277 1373 1419 ... 1307 1251 1258 1284\n",
      "    B05          (time, y, x) uint16 1494 1604 1705 1744 ... 1664 1609 1618 1638\n",
      "    B06          (time, y, x) uint16 1818 1950 2033 2061 ... 2084 2026 2047 2069\n",
      "    B07          (time, y, x) uint16 1984 2128 2214 2239 ... 2293 2216 2248 2270\n",
      "    B08          (time, y, x) uint16 2118 2284 2397 2424 ... 2423 2329 2373 2391\n",
      "    B8A          (time, y, x) uint16 2224 2391 2503 2527 ... 2565 2453 2503 2520\n",
      "    B11          (time, y, x) uint16 3198 3269 3321 3373 ... 3277 3069 3122 3181\n",
      "    B12          (time, y, x) uint16 2389 2407 2484 2533 ... 2375 2144 2199 2282\n",
      "    SMAD         (time, y, x) float32 0.001580844 0.0019580494 ... 0.0035506606\n",
      "    EMAD         (time, y, x) float32 780.13763 794.2613 ... 777.54236 815.39026\n",
      "    BCMAD        (time, y, x) float32 0.06215836 0.05727405 ... 0.055522468\n",
      "    COUNT        (time, y, x) uint16 55 56 56 54 55 54 54 ... 54 55 55 54 53 53\n",
      "Attributes:\n",
      "    crs:           EPSG:32734\n",
      "    grid_mapping:  spatial_ref\n"
     ]
    }
   ],
   "source": [
    "query = {\"x\": (24.60, 24.80),\n",
    "         \"y\": (-20.05, -20.25),\n",
    "         \"time\": (\"2018-01-01\", \"2018-12-31\"),\n",
    "         \"output_crs\": \"EPSG:32734\",\n",
    "         \"resolution\": (-250, 250)}\n",
    "\n",
    "ds_s2 = dc.load(product=\"gm_s2_annual\",\n",
    "                 **query)\n",
    "\n",
    "print(ds_s2)\n"
   ]
  },
  {
   "cell_type": "markdown",
   "metadata": {},
   "source": [
    "Now we have a reusable query, we can easily use it to load data from a different product.\n",
    "For example, we can load Water Observations from Space (WOfS) Annual Summary data for the same extent, time, output CRS and resolution that we just loaded Landsat 8 Geomedian data for:"
   ]
  },
  {
   "cell_type": "code",
   "execution_count": 22,
   "metadata": {},
   "outputs": [
    {
     "name": "stdout",
     "output_type": "stream",
     "text": [
      "<xarray.Dataset>\n",
      "Dimensions:      (time: 1, x: 87, y: 91)\n",
      "Coordinates:\n",
      "  * time         (time) datetime64[ns] 2018-07-02T11:59:59.999500\n",
      "  * y            (y) float64 7.779e+06 7.779e+06 ... 7.757e+06 7.756e+06\n",
      "  * x            (x) float64 8.761e+05 8.764e+05 ... 8.974e+05 8.976e+05\n",
      "    spatial_ref  int32 32734\n",
      "Data variables:\n",
      "    count_wet    (time, y, x) int16 0 0 0 0 0 0 0 0 0 0 ... 0 0 0 0 0 0 0 0 0 0\n",
      "    count_clear  (time, y, x) int16 35 36 36 36 36 36 36 ... 16 17 15 15 15 16\n",
      "    frequency    (time, y, x) float32 0.0 0.0 0.0 0.0 0.0 ... 0.0 0.0 0.0 0.0\n",
      "Attributes:\n",
      "    crs:           EPSG:32734\n",
      "    grid_mapping:  spatial_ref\n"
     ]
    }
   ],
   "source": [
    "ds_wofs = dc.load(product=\"ga_ls8c_wofs_2_annual_summary\",\n",
    "                 **query)\n",
    "\n",
    "print(ds_wofs)"
   ]
  },
  {
   "cell_type": "markdown",
   "metadata": {},
   "source": [
    "## Other helpful tricks\n",
    "### Loading data \"like\" another dataset\n",
    "Another option for loading matching data from multiple products is to use `dc.load()`'s `like` parameter.\n",
    "This will copy the spatial and temporal extent and the CRS/resolution from an existing dataset, and use these parameters to load a new data from a new product.\n",
    "\n",
    "In the example below, we load another WOfS dataset that exactly matches the `ds_s2` dataset we loaded earlier:\n"
   ]
  },
  {
   "cell_type": "code",
   "execution_count": 23,
   "metadata": {},
   "outputs": [
    {
     "name": "stdout",
     "output_type": "stream",
     "text": [
      "<xarray.Dataset>\n",
      "Dimensions:      (time: 1, x: 87, y: 91)\n",
      "Coordinates:\n",
      "  * time         (time) datetime64[ns] 2018-07-02T11:59:59.999500\n",
      "  * y            (y) float64 7.779e+06 7.779e+06 ... 7.757e+06 7.756e+06\n",
      "  * x            (x) float64 8.761e+05 8.764e+05 ... 8.974e+05 8.976e+05\n",
      "    spatial_ref  int32 32734\n",
      "Data variables:\n",
      "    count_wet    (time, y, x) int16 0 0 0 0 0 0 0 0 0 0 ... 0 0 0 0 0 0 0 0 0 0\n",
      "    count_clear  (time, y, x) int16 35 36 36 36 36 36 36 ... 16 17 15 15 15 16\n",
      "    frequency    (time, y, x) float32 0.0 0.0 0.0 0.0 0.0 ... 0.0 0.0 0.0 0.0\n",
      "Attributes:\n",
      "    crs:           PROJCS[\"WGS 84 / UTM zone 34S\",GEOGCS[\"WGS 84\",DATUM[\"WGS_...\n",
      "    grid_mapping:  spatial_ref\n"
     ]
    }
   ],
   "source": [
    "ds_wofs = dc.load(product=\"ga_ls8c_wofs_2_annual_summary\",\n",
    "                 like=ds_s2)\n",
    "\n",
    "print(ds_wofs)"
   ]
  },
  {
   "cell_type": "markdown",
   "metadata": {},
   "source": [
    "### Adding a progress bar\n",
    "When loading large amounts of data, it can be useful to view the progress of the data load. \n",
    "The `progress_cbk` parameter in `dc.load()` allows us to add a progress bar which will indicate how the load is progressing. In this example, we will load 5 years of data (2013, 2014, 2015, 2016 and 2017) from the `ga_ls8c_wofs_2_annual_summary` product with a progress bar:"
   ]
  },
  {
   "cell_type": "code",
   "execution_count": 24,
   "metadata": {},
   "outputs": [
    {
     "data": {
      "application/vnd.jupyter.widget-view+json": {
       "model_id": "08650fdc39b342aab008fb92c4e46a7a",
       "version_major": 2,
       "version_minor": 0
      },
      "text/plain": [
       "VBox(children=(HBox(children=(Label(value=''), Label(value='')), layout=Layout(justify_content='space-between'…"
      ]
     },
     "metadata": {},
     "output_type": "display_data"
    },
    {
     "name": "stdout",
     "output_type": "stream",
     "text": [
      "<xarray.Dataset>\n",
      "Dimensions:      (time: 4, x: 644, y: 801)\n",
      "Coordinates:\n",
      "  * time         (time) datetime64[ns] 2013-07-02T11:59:59.999500 ... 2016-07...\n",
      "  * y            (y) float64 -2.507e+06 -2.507e+06 ... -2.531e+06 -2.531e+06\n",
      "  * x            (x) float64 2.374e+06 2.374e+06 ... 2.393e+06 2.393e+06\n",
      "    spatial_ref  int32 6933\n",
      "Data variables:\n",
      "    count_wet    (time, y, x) int16 0 0 0 0 0 0 0 0 0 0 ... 0 0 0 0 0 0 0 0 0 0\n",
      "    count_clear  (time, y, x) int16 22 22 22 22 22 22 22 ... 18 18 18 18 18 17\n",
      "    frequency    (time, y, x) float32 0.0 0.0 0.0 0.0 0.0 ... 0.0 0.0 0.0 0.0\n",
      "Attributes:\n",
      "    crs:           EPSG:6933\n",
      "    grid_mapping:  spatial_ref\n"
     ]
    }
   ],
   "source": [
    "query = {\"x\": (24.60, 24.80),\n",
    "         \"y\": (-20.05, -20.25),\n",
    "         \"time\": (\"2013\", \"2016\")}\n",
    "\n",
    "ds_progress = dc.load(product=\"ga_ls8c_wofs_2_annual_summary\",\n",
    "                      progress_cbk=with_ui_cbk(),\n",
    "                      **query)\n",
    "\n",
    "print(ds_progress)"
   ]
  },
  {
   "cell_type": "markdown",
   "metadata": {},
   "source": [
    "## Recommended next steps\n",
    "\n",
    "For more advanced information about working with Jupyter Notebooks or JupyterLab, you can explore [JupyterLab documentation page](https://jupyterlab.readthedocs.io/en/stable/user/notebook.html).\n",
    "\n",
    "To continue working through the notebooks in this beginner's guide, the following notebooks are designed to be worked through in the following order:\n",
    "\n",
    "1. [Jupyter Notebooks](01_Jupyter_notebooks.ipynb)\n",
    "2. [Products and Measurements](02_Products_and_measurements.ipynb)\n",
    "3. **Loading data (this notebook)**\n",
    "4. [Plotting](04_Plotting.ipynb)\n",
    "5. [Performing a basic analysis](05_Basic_analysis.ipynb)\n",
    "6. [Introduction to numpy](06_Intro_to_numpy.ipynb)\n",
    "7. [Introduction to xarray](07_Intro_to_xarray.ipynb)\n",
    "8. [Parallel processing with Dask](08_Parallel_processing_with_dask.ipynb)\n",
    "\n",
    "Once you have you have completed the above six tutorials, join advanced users in exploring:\n",
    "\n",
    "* The \"Datasets\" directory in the repository, where you can explore DE Africa products in depth.\n",
    "* The \"Frequently used code\" directory, which contains a recipe book of common techniques and methods for analysing DE Africa data.\n",
    "* The \"Real-world examples\" directory, which provides more complex workflows and analysis case studies."
   ]
  },
  {
   "cell_type": "markdown",
   "metadata": {},
   "source": [
    "***\n",
    "\n",
    "## Additional information\n",
    "\n",
    "**License:** The code in this notebook is licensed under the [Apache License, Version 2.0](https://www.apache.org/licenses/LICENSE-2.0). \n",
    "Digital Earth Africa data is licensed under the [Creative Commons by Attribution 4.0](https://creativecommons.org/licenses/by/4.0/) license.\n",
    "\n",
    "**Contact:** If you need assistance, please post a question on the [Open Data Cube Slack channel](http://slack.opendatacube.org/) or on the [GIS Stack Exchange](https://gis.stackexchange.com/questions/ask?tags=open-data-cube) using the `open-data-cube` tag (you can view previously asked questions [here](https://gis.stackexchange.com/questions/tagged/open-data-cube)).\n",
    "If you would like to report an issue with this notebook, you can file one on [Github](https://github.com/digitalearthafrica/deafrica-sandbox-notebooks).\n",
    "\n",
    "**Compatible datacube version:** "
   ]
  },
  {
   "cell_type": "code",
   "execution_count": null,
   "metadata": {},
   "outputs": [],
   "source": [
    "print(datacube.__version__)"
   ]
  },
  {
   "cell_type": "markdown",
   "metadata": {},
   "source": [
    "**Last Tested:**"
   ]
  },
  {
   "cell_type": "code",
   "execution_count": null,
   "metadata": {},
   "outputs": [],
   "source": [
    "from datetime import datetime\n",
    "datetime.today().strftime('%Y-%m-%d')"
   ]
  }
 ],
 "metadata": {
  "kernelspec": {
   "display_name": "Python 3",
   "language": "python",
   "name": "python3"
  },
  "language_info": {
   "codemirror_mode": {
    "name": "ipython",
    "version": 3
   },
   "file_extension": ".py",
   "mimetype": "text/x-python",
   "name": "python",
   "nbconvert_exporter": "python",
   "pygments_lexer": "ipython3",
   "version": "3.6.9"
  },
  "widgets": {
   "application/vnd.jupyter.widget-state+json": {
    "state": {},
    "version_major": 2,
    "version_minor": 0
   }
  }
 },
 "nbformat": 4,
 "nbformat_minor": 4
}
