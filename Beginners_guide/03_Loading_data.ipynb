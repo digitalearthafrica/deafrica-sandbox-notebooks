{
 "cells": [
  {
   "cell_type": "markdown",
   "metadata": {},
   "source": [
    "# Loading data from Digital Earth Africa <img align=\"right\" src=\"../Supplementary_data/DE_Africa_Logo_Stacked_RGB_small.jpg\">\n",
    "\n",
    "* **Products used:** \n",
    "[ga_ls8c_gm_2_annual](https://explorer.digitalearth.africa/ga_ls8c_gm_2_annual), \n",
    "[ga_ls8c_wofs_2_annual_summary](https://explorer.digitalearth.africa/ga_ls8c_wofs_2_annual_summary)\n",
    "\n",
    "* **Prerequisites:** Users of this notebook should have a basic understanding of:\n",
    "    * How to run a [Jupyter notebook](01_Jupyter_notebooks.ipynb)\n",
    "    * Inspecting available [DE Africa products and measurements](02_Products_and_measurements.ipynb)"
   ]
  },
  {
   "cell_type": "markdown",
   "metadata": {},
   "source": [
    "## Background\n",
    "Loading data from the [Digital Earth Africa (DE Africa)](https://www.digitalearthafrica.org/) instance of the [Open Data Cube](https://www.opendatacube.org/) requires the construction of a data query that specifies the what, where, and when of the data request.\n",
    "Each query returns a [multi-dimensional xarray object](http://xarray.pydata.org/en/stable/) containing the contents of your query.\n",
    "It is essential to understand the `xarray` data structures as they are fundamental to the structure of data loaded from the datacube.\n",
    "Manipulations, transformations and visualisation of `xarray` objects provide datacube users with the ability to explore and analyse DEA datasets, as well as pose and answer scientific questions."
   ]
  },
  {
   "cell_type": "markdown",
   "metadata": {},
   "source": [
    "## Description\n",
    "This notebook will introduce how to load data from the Digital Earth Africa datacube through the construction of a query and use of the `dc.load()` function.\n",
    "Topics covered include:\n",
    "\n",
    "* Loading data using `dc.load()`\n",
    "* Interpreting the resulting `xarray.Dataset` object\n",
    "    * Inspecting an individual `xarray.DataArray`\n",
    "* Customising parameters passed to the `dc.load()` function\n",
    "    * Loading specific measurements\n",
    "    * Loading data for coordinates in a custom coordinate reference system (CRS)\n",
    "    * Projecting data to a new CRS and spatial resolution \n",
    "    * Specifying a specific spatial resampling method\n",
    "* Loading data using a reusable dictionary query\n",
    "* Loading matching data from multiple products using `like`\n",
    "* Adding a progress bar to the data load\n",
    "\n",
    "***"
   ]
  },
  {
   "cell_type": "markdown",
   "metadata": {},
   "source": [
    "## Getting started\n",
    "To run this introduction to loading data from DE Africa, run all the cells in the notebook starting with the \"Load packages\" cell. For help with running notebook cells, refer back to the [Jupyter Notebooks notebook](01_Jupyter_notebooks.ipynb)."
   ]
  },
  {
   "cell_type": "markdown",
   "metadata": {},
   "source": [
    "### Load packages\n",
    "First we need to load the `datacube` package.\n",
    "This will allow us to query the datacube database and load some data. \n",
    "The `with_ui_cbk` function from `odc.ui` will allow us to show a progress bar when loading large amounts of data."
   ]
  },
  {
   "cell_type": "code",
   "execution_count": 1,
   "metadata": {},
   "outputs": [],
   "source": [
    "import datacube\n",
    "from odc.ui import with_ui_cbk"
   ]
  },
  {
   "cell_type": "markdown",
   "metadata": {},
   "source": [
    "### Connect to the datacube\n",
    "We then need to connect to the datacube database.\n",
    "We will then be able to use the `dc` datacube object to load data.\n",
    "The `app` parameter is a unique name used to identify the notebook that does not have any effect on the analysis."
   ]
  },
  {
   "cell_type": "code",
   "execution_count": 2,
   "metadata": {},
   "outputs": [],
   "source": [
    "dc = datacube.Datacube(app=\"03_Loading_data\")"
   ]
  },
  {
   "cell_type": "markdown",
   "metadata": {},
   "source": [
    "## Loading data using `dc.load()`\n",
    "\n",
    "Loading data from the datacube uses the [dc.load()](https://datacube-core.readthedocs.io/en/latest/dev/api/generate/datacube.Datacube.load.html) function.\n",
    "\n",
    "The function requires the following minimum arguments:\n",
    "\n",
    "* `product`: A specific product to load (to revise DE Africa products, see the [Products and measurements](02_Products_and_measurements.ipynb) notebook).\n",
    "* `x`: Defines the spatial region in the *x* dimension. By default, the *x* and *y* arguments accept queries in a geographical co-ordinate system WGS84, identified by the EPSG code *4326*.\n",
    "* `y`: Defines the spatial region in the *y* dimension. The dimensions ``longitude``/``latitude`` and ``x``/``y`` can be used interchangeably.\n",
    "* `time`: Defines the temporal extent. The time dimension can be specified using a tuple of datetime objects or strings in the \"YYYY\", \"YYYY-MM\" or \"YYYY-MM-DD\" format. \n",
    "\n",
    "Let's run a query to load 2018 data from the [Landsat 8 annual geomedian product](https://explorer.digitalearth.africa/ga_ls8c_gm_2_annual)) for part of Nxai Pan National park in Botswana. \n",
    "For this example, we can use the following parameters:\n",
    "\n",
    "* `product`: `ga_ls8c_gm_2_annual`\n",
    "* `x`: `(24.60, 24.80)`\n",
    "* `y`: `(-20.05, -20.25)`\n",
    "* `time`: `(\"2018-01-01\", \"2018-12-31\")`\n",
    "\n",
    "Run the following cell to load all datasets from the `ga_ls8c_gm_2_annual` product that match this spatial and temporal extent:"
   ]
  },
  {
   "cell_type": "code",
   "execution_count": 3,
   "metadata": {},
   "outputs": [
    {
     "name": "stdout",
     "output_type": "stream",
     "text": [
      "<xarray.Dataset>\n",
      "Dimensions:  (time: 1, x: 644, y: 801)\n",
      "Coordinates:\n",
      "  * time     (time) datetime64[ns] 2018-07-02T11:59:59.999500\n",
      "  * y        (y) float64 -2.507e+06 -2.507e+06 ... -2.531e+06 -2.531e+06\n",
      "  * x        (x) float64 2.374e+06 2.374e+06 2.374e+06 ... 2.393e+06 2.393e+06\n",
      "Data variables:\n",
      "    red      (time, y, x) uint16 11808 11667 11901 11246 ... 11944 11948 11830\n",
      "    green    (time, y, x) uint16 10801 10747 11000 10543 ... 11075 11068 10990\n",
      "    blue     (time, y, x) uint16 9639 9581 9765 9467 ... 9892 9916 9926 9869\n",
      "    nir      (time, y, x) uint16 15688 15618 15904 15293 ... 16541 16543 16316\n",
      "    swir_1   (time, y, x) uint16 17885 17613 17969 16992 ... 18147 18170 17955\n",
      "    swir_2   (time, y, x) uint16 14762 14453 14678 13979 ... 14850 14875 14693\n",
      "Attributes:\n",
      "    crs:      EPSG:6933\n"
     ]
    }
   ],
   "source": [
    "ds = dc.load(product=\"ga_ls8c_gm_2_annual\",\n",
    "             x=(24.60, 24.80),\n",
    "             y=(-20.05, -20.25),\n",
    "             time=(\"2018-01-01\", \"2018-12-31\"))\n",
    "\n",
    "print(ds)"
   ]
  },
  {
   "cell_type": "markdown",
   "metadata": {},
   "source": [
    "### Interpreting the resulting `xarray.Dataset`\n",
    "The variable `ds` has returned an `xarray.Dataset` containing all data that matched the spatial and temporal query parameters inputted into `dc.load`.\n",
    "\n",
    "*Dimensions* \n",
    "\n",
    "* Identifies the number of timesteps returned in the search (`time: 1`) as well as the number of pixels in the `x` and `y` directions of the data query.\n",
    "\n",
    "*Coordinates* \n",
    "\n",
    "* `time` identifies the date attributed to each returned timestep.\n",
    "* `x` and `y` are the coordinates for each pixel within the spatial bounds of your query.\n",
    "\n",
    "*Data variables*\n",
    "\n",
    "* These are the measurements available for the nominated product. \n",
    "For every date (`time`) returned by the query, the measured value at each pixel (`y`, `x`) is returned as an array for each measurement.\n",
    "Each data variable is itself an `xarray.DataArray` object ([see below](#Inspecting-an-individual-xarray.DataArray)). \n",
    "\n",
    "*Attributes*\n",
    "\n",
    "* `crs` identifies the coordinate reference system (CRS) of the loaded data. "
   ]
  },
  {
   "cell_type": "markdown",
   "metadata": {},
   "source": [
    "### Inspecting an individual `xarray.DataArray`\n",
    "The `xarray.Dataset` we loaded above is itself a collection of individual `xarray.DataArray` objects that hold the actual data for each data variable/measurement. \n",
    "For example, all measurements listed under _Data variables_ above (e.g. `blue`, `green`, `red`, `nir`, `swir1`, `swir2`) are `xarray.DataArray` objects.\n",
    "\n",
    "We can inspect the data in these `xarray.DataArray` objects using either of the following syntaxes:\n",
    "```\n",
    "ds[\"measurement_name\"]\n",
    "```\n",
    "or:\n",
    "```\n",
    "ds.measurement_name\n",
    "```\n",
    "\n",
    "Being able to access data from individual data variables/measurements allows us to manipulate and analyse data from individual satellite bands or specific layers in a dataset. \n",
    "For example, we can access data from the near infra-red satellite band (i.e. `nir`):"
   ]
  },
  {
   "cell_type": "code",
   "execution_count": 4,
   "metadata": {},
   "outputs": [
    {
     "name": "stdout",
     "output_type": "stream",
     "text": [
      "<xarray.DataArray 'nir' (time: 1, y: 801, x: 644)>\n",
      "array([[[15688, 15618, ..., 15901, 15985],\n",
      "        [16288, 16464, ..., 16092, 16084],\n",
      "        ...,\n",
      "        [17577, 17600, ..., 16491, 16312],\n",
      "        [17659, 17691, ..., 16543, 16316]]], dtype=uint16)\n",
      "Coordinates:\n",
      "  * time     (time) datetime64[ns] 2018-07-02T11:59:59.999500\n",
      "  * y        (y) float64 -2.507e+06 -2.507e+06 ... -2.531e+06 -2.531e+06\n",
      "  * x        (x) float64 2.374e+06 2.374e+06 2.374e+06 ... 2.393e+06 2.393e+06\n",
      "Attributes:\n",
      "    units:    1\n",
      "    nodata:   0\n",
      "    crs:      EPSG:6933\n"
     ]
    }
   ],
   "source": [
    "print(ds.nir)"
   ]
  },
  {
   "cell_type": "markdown",
   "metadata": {},
   "source": [
    "Note that the object header informs us that it is an `xarray.DataArray` containing data for the `nir` satellite band. \n",
    "\n",
    "Like an `xarray.Dataset`, the array also includes information about the data's **dimensions** (i.e. `(time: 1, y: 801, x: 644)`), **coordinates** and **attributes**.\n",
    "This particular data variable/measurement contains some additional information that is specific to the `nir` band, including details of array's nodata value (i.e. `nodata: -999`).\n",
    "\n",
    "> **Note**: For a more in-depth introduction to `xarray` data structures, refer to the [official xarray documentation](http://xarray.pydata.org/en/stable/data-structures.html)"
   ]
  },
  {
   "cell_type": "markdown",
   "metadata": {},
   "source": [
    "## Customising the `dc.load()` function\n",
    "\n",
    "The `dc.load()` function can be tailored to refine a query.\n",
    "\n",
    "Customisation options include:\n",
    "\n",
    "* `measurements:` This argument is used to provide a list of measurement names to load, as listed in `dc.list_measurements()`. \n",
    "For satellite datasets, measurements contain data for each individual satellite band (e.g. near infrared). \n",
    "If not provided, all measurements for the product will be returned.\n",
    "* `crs:` The coordinate reference system (CRS) of the query's `x` and `y` coordinates is assumed to be `WGS84`/`EPSG:4326` unless the `crs` field is supplied, even if the stored data is in another projection or the `output_crs` is specified. \n",
    "The `crs` parameter is required if your query's coordinates are in any other CRS.\n",
    "* `group_by:` Satellite datasets based around scenes can have multiple observations per day with slightly different time stamps as the satellite collects data along its path.\n",
    "These observations can be combined by reducing the `time` dimension to the day level using `group_by=solar_day`.\n",
    "* `output_crs` and `resolution`: To reproject or change the resolution the data, supply the `output_crs` and `resolution` fields.    \n",
    "* `resampling`: This argument allows you to specify a custom spatial resampling method to use when data is reprojected into a different CRS. \n",
    "\n",
    "Example syntax on the use of these options follows in the cells below.\n",
    "\n",
    "> For help or more customisation options, run `help(dc.load)` in an empty cell or visit the function's [documentation page](https://datacube-core.readthedocs.io/en/latest/dev/api/generate/datacube.Datacube.load.html)\n"
   ]
  },
  {
   "cell_type": "markdown",
   "metadata": {},
   "source": [
    "### Specifying measurements\n",
    "By default, `dc.load()` will load *all* measurements in a product.\n",
    "\n",
    "To load data from the `red`, `green` and `blue` satellite bands only, we can add `measurements=[\"red\", \"green\", \"blue\"]` to our query:"
   ]
  },
  {
   "cell_type": "code",
   "execution_count": 5,
   "metadata": {},
   "outputs": [
    {
     "name": "stdout",
     "output_type": "stream",
     "text": [
      "<xarray.Dataset>\n",
      "Dimensions:  (time: 1, x: 644, y: 801)\n",
      "Coordinates:\n",
      "  * time     (time) datetime64[ns] 2018-07-02T11:59:59.999500\n",
      "  * y        (y) float64 -2.507e+06 -2.507e+06 ... -2.531e+06 -2.531e+06\n",
      "  * x        (x) float64 2.374e+06 2.374e+06 2.374e+06 ... 2.393e+06 2.393e+06\n",
      "Data variables:\n",
      "    red      (time, y, x) uint16 11808 11667 11901 11246 ... 11944 11948 11830\n",
      "    green    (time, y, x) uint16 10801 10747 11000 10543 ... 11075 11068 10990\n",
      "    blue     (time, y, x) uint16 9639 9581 9765 9467 ... 9892 9916 9926 9869\n",
      "Attributes:\n",
      "    crs:      EPSG:6933\n"
     ]
    }
   ],
   "source": [
    "# Note the optional inclusion of the measurements list\n",
    "ds_rgb = dc.load(product=\"ga_ls8c_gm_2_annual\",\n",
    "                 measurements=[\"red\", \"green\", \"blue\"],\n",
    "                 x=(24.60, 24.80),\n",
    "                 y=(-20.05, -20.25),\n",
    "                 time=(\"2018-01-01\", \"2018-12-31\"))\n",
    "\n",
    "print(ds_rgb)"
   ]
  },
  {
   "cell_type": "markdown",
   "metadata": {},
   "source": [
    "Note that the *Data variables* component of the `xarray.Dataset` now includes only the measurements specified in the query (i.e. the `red`, `green` and `blue` satellite bands)."
   ]
  },
  {
   "cell_type": "markdown",
   "metadata": {},
   "source": [
    "### Loading data for coordinates in any CRS\n",
    "By default, `dc.load()` assumes that your query `x` and `y` coordinates are provided in degrees in the `WGS84/EPSG:4326` CRS.\n",
    "If your coordinates are in a different coordinate system, you need to specify this using the `crs` parameter.\n",
    "\n",
    "In the example below, we load data for a set of `x` and `y` coordinates defined in Africa Albers Equal Area Conic (`EPSG:102022`), and ensure that the `dc.load()` function accounts for this by including `crs=\"EPSG:102022\"`:\n"
   ]
  },
  {
   "cell_type": "code",
   "execution_count": 6,
   "metadata": {},
   "outputs": [
    {
     "name": "stdout",
     "output_type": "stream",
     "text": [
      "<xarray.Dataset>\n",
      "Dimensions:  (time: 1, x: 699, y: 637)\n",
      "Coordinates:\n",
      "  * time     (time) datetime64[ns] 2018-07-02T11:59:59.999500\n",
      "  * y        (y) float64 -2.508e+06 -2.508e+06 ... -2.527e+06 -2.527e+06\n",
      "  * x        (x) float64 2.38e+06 2.38e+06 2.38e+06 ... 2.401e+06 2.401e+06\n",
      "Data variables:\n",
      "    red      (time, y, x) uint16 12229 12156 12054 12021 ... 11815 11769 11769\n",
      "    green    (time, y, x) uint16 11289 11224 11163 11176 ... 11097 11059 11127\n",
      "    blue     (time, y, x) uint16 9933 9885 9821 9812 ... 10195 10094 10072 10108\n",
      "    nir      (time, y, x) uint16 16417 16355 16326 16428 ... 16749 16791 16851\n",
      "    swir_1   (time, y, x) uint16 18488 18296 18099 18082 ... 18835 18840 18841\n",
      "    swir_2   (time, y, x) uint16 15244 15003 14822 14860 ... 15649 15670 15724\n",
      "Attributes:\n",
      "    crs:      EPSG:6933\n"
     ]
    }
   ],
   "source": [
    "# Note the new `x` and `y` coordinates and `crs` parameter\n",
    "ds_custom_crs = dc.load(product=\"ga_ls8c_gm_2_annual\",\n",
    "                        time=(\"2018-01-01\", \"2018-12-31\"),\n",
    "                        x=(-34340, -12047),\n",
    "                        y=(-2345844, -2363768),\n",
    "                        crs=\"EPSG:102022\")\n",
    "\n",
    "print(ds_custom_crs)"
   ]
  },
  {
   "cell_type": "markdown",
   "metadata": {},
   "source": [
    "### CRS reprojection\n",
    "Certain applications may require that you output your data into a specific CRS.\n",
    "You can reproject your output data by specifying the new `output_crs` and identifying the `resolution` required.\n",
    "\n",
    "In this example, we will reproject our data to a new CRS (UTM Zone 34S, `EPSG:32734`) and resolution (250 x 250 m). Note that for most CRSs, the first resolution value is negative (e.g. `(-250, 250)`):"
   ]
  },
  {
   "cell_type": "code",
   "execution_count": 7,
   "metadata": {},
   "outputs": [
    {
     "name": "stdout",
     "output_type": "stream",
     "text": [
      "<xarray.Dataset>\n",
      "Dimensions:  (time: 1, x: 87, y: 91)\n",
      "Coordinates:\n",
      "  * time     (time) datetime64[ns] 2018-07-02T11:59:59.999500\n",
      "  * y        (y) float64 7.779e+06 7.779e+06 7.778e+06 ... 7.757e+06 7.756e+06\n",
      "  * x        (x) float64 8.761e+05 8.764e+05 8.766e+05 ... 8.974e+05 8.976e+05\n",
      "Data variables:\n",
      "    red      (time, y, x) uint16 11483 11602 11831 11700 ... 11712 11785 11996\n",
      "    green    (time, y, x) uint16 10618 10696 10935 10774 ... 10888 10949 11106\n",
      "    blue     (time, y, x) uint16 9640 9667 9811 9771 ... 9757 9757 9808 9937\n",
      "    nir      (time, y, x) uint16 15073 15243 15741 15275 ... 16055 16108 16468\n",
      "    swir_1   (time, y, x) uint16 18086 18195 18438 18609 ... 17652 17711 18211\n",
      "    swir_2   (time, y, x) uint16 15051 15104 15439 15649 ... 14384 14437 14869\n",
      "Attributes:\n",
      "    crs:      EPSG:32734\n"
     ]
    }
   ],
   "source": [
    "ds_reprojected = dc.load(product=\"ga_ls8c_gm_2_annual\",\n",
    "                         x=(24.60, 24.80),\n",
    "                         y=(-20.05, -20.25),\n",
    "                         time=(\"2018-01-01\", \"2018-12-31\"),\n",
    "                         output_crs=\"EPSG:32734\",\n",
    "                         resolution=(-250, 250))\n",
    "\n",
    "print(ds_reprojected)"
   ]
  },
  {
   "cell_type": "markdown",
   "metadata": {},
   "source": [
    "Note that the `crs` attribute in the *Attributes* section has changed to `EPSG:32734`. \n",
    "Due to the larger 250 m resolution, there are also now less pixels on the `x` and `y` dimensions (e.g. `x: 86, y: 91` compared to `x: 644, y: 801` in earlier examples).\n"
   ]
  },
  {
   "cell_type": "markdown",
   "metadata": {},
   "source": [
    "### Spatial resampling methods\n",
    "When a product is re-projected to a different CRS and/or resolution, the new pixel grid may differ from the original input pixels by size, number and alignment.\n",
    "It is therefore necessary to apply a spatial \"resampling\" rule that allocates input pixel values into the new pixel grid.\n",
    "\n",
    "By default, `dc.load()` resamples pixel values using \"nearest neighbour\" resampling, which allocates each new pixel with the value of the closest input pixel.\n",
    "Depending on the type of data and the analysis being run, this may not be the most appropriate choice (e.g. for continuous data).\n",
    "\n",
    "The `resampling` parameter in `dc.load()` allows you to choose a custom resampling method from the following options: \n",
    "\n",
    "```\n",
    "\"nearest\", \"cubic\", \"bilinear\", \"cubic_spline\", \"lanczos\", \n",
    "\"average\", \"mode\", \"gauss\", \"max\", \"min\", \"med\", \"q1\", \"q3\"\n",
    "```\n",
    "\n",
    "For example, we can request that all loaded data is resampled using \"average\" resampling:"
   ]
  },
  {
   "cell_type": "code",
   "execution_count": 8,
   "metadata": {},
   "outputs": [
    {
     "name": "stdout",
     "output_type": "stream",
     "text": [
      "<xarray.Dataset>\n",
      "Dimensions:  (time: 1, x: 78, y: 96)\n",
      "Coordinates:\n",
      "  * time     (time) datetime64[ns] 2018-07-02T11:59:59.999500\n",
      "  * y        (y) float64 -2.507e+06 -2.508e+06 ... -2.531e+06 -2.531e+06\n",
      "  * x        (x) float64 2.374e+06 2.374e+06 2.374e+06 ... 2.393e+06 2.393e+06\n",
      "Data variables:\n",
      "    red      (time, y, x) uint16 11854 11775 11553 11703 ... 11807 11749 11731\n",
      "    green    (time, y, x) uint16 10940 10864 10653 10746 ... 10949 10900 10894\n",
      "    blue     (time, y, x) uint16 9879 9849 9602 9609 ... 9932 9868 9779 9761\n",
      "    nir      (time, y, x) uint16 15717 15571 15513 15754 ... 16123 16044 16069\n",
      "    swir_1   (time, y, x) uint16 18827 18816 18131 18113 ... 18146 17788 17675\n",
      "    swir_2   (time, y, x) uint16 15890 15906 14902 14743 ... 14905 14462 14346\n",
      "Attributes:\n",
      "    crs:      EPSG:6933\n"
     ]
    }
   ],
   "source": [
    "# Note the additional `resampling` parameter\n",
    "ds_averageresampling = dc.load(product=\"ga_ls8c_gm_2_annual\",\n",
    "                                x=(24.60, 24.80),\n",
    "                                y=(-20.05, -20.25),\n",
    "                                time=(\"2018-01-01\", \"2018-12-31\"),\n",
    "                                resolution=(-250, 250),\n",
    "                                resampling=\"average\")\n",
    "\n",
    "print(ds_averageresampling)\n"
   ]
  },
  {
   "cell_type": "markdown",
   "metadata": {},
   "source": [
    "You can also provide a Python dictionary to request a different sampling method for different measurements. \n",
    "This can be particularly useful when some measurements contain contain categorical data which require resampling methods such as \"nearest\" or \"mode\" that do not modify the input pixel values.\n",
    "\n",
    "In the example below, we specify `resampling={\"red\": \"nearest\", \"*\": \"average\"}`, which will use \"nearest\" neighbour resampling for the `red` satellite band only. `\"*\": \"average\"` will apply \"average\" resampling for all other satellite bands:\n"
   ]
  },
  {
   "cell_type": "code",
   "execution_count": 9,
   "metadata": {},
   "outputs": [
    {
     "name": "stdout",
     "output_type": "stream",
     "text": [
      "<xarray.Dataset>\n",
      "Dimensions:  (time: 1, x: 78, y: 96)\n",
      "Coordinates:\n",
      "  * time     (time) datetime64[ns] 2018-07-02T11:59:59.999500\n",
      "  * y        (y) float64 -2.507e+06 -2.508e+06 ... -2.531e+06 -2.531e+06\n",
      "  * x        (x) float64 2.374e+06 2.374e+06 2.374e+06 ... 2.393e+06 2.393e+06\n",
      "Data variables:\n",
      "    red      (time, y, x) uint16 11831 12056 11700 11468 ... 11867 11726 11738\n",
      "    green    (time, y, x) uint16 10940 10864 10653 10746 ... 10949 10900 10894\n",
      "    blue     (time, y, x) uint16 9879 9849 9602 9609 ... 9932 9868 9779 9761\n",
      "    nir      (time, y, x) uint16 15717 15571 15513 15754 ... 16123 16044 16069\n",
      "    swir_1   (time, y, x) uint16 18827 18816 18131 18113 ... 18146 17788 17675\n",
      "    swir_2   (time, y, x) uint16 15890 15906 14902 14743 ... 14905 14462 14346\n",
      "Attributes:\n",
      "    crs:      EPSG:6933\n"
     ]
    }
   ],
   "source": [
    "ds_customresampling = dc.load(product=\"ga_ls8c_gm_2_annual\",\n",
    "                                    x=(24.60, 24.80),\n",
    "                                    y=(-20.05, -20.25),\n",
    "                                    time=(\"2018-01-01\", \"2018-12-31\"),\n",
    "                                    resolution=(-250, 250),\n",
    "                                    resampling={\"red\": \"nearest\", \"*\": \"average\"})\n",
    "\n",
    "print(ds_customresampling)"
   ]
  },
  {
   "cell_type": "markdown",
   "metadata": {},
   "source": [
    "> **Note**: For more information about spatial resampling methods, see the [following guide](https://rasterio.readthedocs.io/en/stable/topics/resampling.html)"
   ]
  },
  {
   "cell_type": "markdown",
   "metadata": {},
   "source": [
    "## Loading data using the query dictionary syntax\n",
    "It is often useful to re-use a set of query parameters to load data from multiple products.\n",
    "To achieve this, we can load data using the \"query dictionary\" syntax.\n",
    "This involves placing the query parameters we used to load data above inside a Python dictionary object which we can re-use for multiple data loads:"
   ]
  },
  {
   "cell_type": "code",
   "execution_count": 10,
   "metadata": {},
   "outputs": [],
   "source": [
    "query = {\"x\": (24.60, 24.80),\n",
    "         \"y\": (-20.05, -20.25),\n",
    "         \"time\": (\"2018-01-01\", \"2018-12-31\")}\n"
   ]
  },
  {
   "cell_type": "markdown",
   "metadata": {},
   "source": [
    "We can then use this query dictionary object as an input to `dc.load()`. \n",
    "\n",
    "> The `**` syntax below is Python's \"keyword argument unpacking\" operator.\n",
    "This operator takes the named query parameters listed in the dictionary we created (e.g. `\"x\": (153.3, 153.4)`), and \"unpacks\" them into the `dc.load()` function as new arguments. \n",
    "For more information about unpacking operators, refer to the [Python documentation](https://docs.python.org/3/tutorial/controlflow.html#unpacking-argument-lists)"
   ]
  },
  {
   "cell_type": "code",
   "execution_count": 11,
   "metadata": {},
   "outputs": [
    {
     "name": "stdout",
     "output_type": "stream",
     "text": [
      "<xarray.Dataset>\n",
      "Dimensions:  (time: 1, x: 644, y: 801)\n",
      "Coordinates:\n",
      "  * time     (time) datetime64[ns] 2018-07-02T11:59:59.999500\n",
      "  * y        (y) float64 -2.507e+06 -2.507e+06 ... -2.531e+06 -2.531e+06\n",
      "  * x        (x) float64 2.374e+06 2.374e+06 2.374e+06 ... 2.393e+06 2.393e+06\n",
      "Data variables:\n",
      "    red      (time, y, x) uint16 11808 11667 11901 11246 ... 11944 11948 11830\n",
      "    green    (time, y, x) uint16 10801 10747 11000 10543 ... 11075 11068 10990\n",
      "    blue     (time, y, x) uint16 9639 9581 9765 9467 ... 9892 9916 9926 9869\n",
      "    nir      (time, y, x) uint16 15688 15618 15904 15293 ... 16541 16543 16316\n",
      "    swir_1   (time, y, x) uint16 17885 17613 17969 16992 ... 18147 18170 17955\n",
      "    swir_2   (time, y, x) uint16 14762 14453 14678 13979 ... 14850 14875 14693\n",
      "Attributes:\n",
      "    crs:      EPSG:6933\n"
     ]
    }
   ],
   "source": [
    "ds = dc.load(product=\"ga_ls8c_gm_2_annual\",\n",
    "             **query)\n",
    "\n",
    "print(ds)"
   ]
  },
  {
   "cell_type": "markdown",
   "metadata": {},
   "source": [
    "Query dictionaries can contain any set of parameters that would usually be provided to `dc.load()`:"
   ]
  },
  {
   "cell_type": "code",
   "execution_count": 12,
   "metadata": {},
   "outputs": [
    {
     "name": "stdout",
     "output_type": "stream",
     "text": [
      "<xarray.Dataset>\n",
      "Dimensions:  (time: 1, x: 87, y: 91)\n",
      "Coordinates:\n",
      "  * time     (time) datetime64[ns] 2018-07-02T11:59:59.999500\n",
      "  * y        (y) float64 7.779e+06 7.779e+06 7.778e+06 ... 7.757e+06 7.756e+06\n",
      "  * x        (x) float64 8.761e+05 8.764e+05 8.766e+05 ... 8.974e+05 8.976e+05\n",
      "Data variables:\n",
      "    red      (time, y, x) uint16 11483 11602 11831 11700 ... 11712 11785 11996\n",
      "    green    (time, y, x) uint16 10618 10696 10935 10774 ... 10888 10949 11106\n",
      "    blue     (time, y, x) uint16 9640 9667 9811 9771 ... 9757 9757 9808 9937\n",
      "    nir      (time, y, x) uint16 15073 15243 15741 15275 ... 16055 16108 16468\n",
      "    swir_1   (time, y, x) uint16 18086 18195 18438 18609 ... 17652 17711 18211\n",
      "    swir_2   (time, y, x) uint16 15051 15104 15439 15649 ... 14384 14437 14869\n",
      "Attributes:\n",
      "    crs:      EPSG:32734\n"
     ]
    }
   ],
   "source": [
    "query = {\"x\": (24.60, 24.80),\n",
    "         \"y\": (-20.05, -20.25),\n",
    "         \"time\": (\"2018-01-01\", \"2018-12-31\"),\n",
    "         \"output_crs\": \"EPSG:32734\",\n",
    "         \"resolution\": (-250, 250)}\n",
    "\n",
    "ds_ls8 = dc.load(product=\"ga_ls8c_gm_2_annual\",\n",
    "                 **query)\n",
    "\n",
    "print(ds_ls8)\n"
   ]
  },
  {
   "cell_type": "markdown",
   "metadata": {},
   "source": [
    "Now we have a reusable query, we can easily use it to load data from a different product.\n",
    "For example, we can load Water Observations from Space Annual Summary data for the same extent, time, output CRS and resolution that we just loaded Landsat 8 Geomedian data for:"
   ]
  },
  {
   "cell_type": "code",
   "execution_count": 13,
   "metadata": {},
   "outputs": [
    {
     "name": "stdout",
     "output_type": "stream",
     "text": [
      "<xarray.Dataset>\n",
      "Dimensions:      (time: 1, x: 87, y: 91)\n",
      "Coordinates:\n",
      "  * time         (time) datetime64[ns] 2018-07-02T11:59:59.999500\n",
      "  * y            (y) float64 7.779e+06 7.779e+06 ... 7.757e+06 7.756e+06\n",
      "  * x            (x) float64 8.761e+05 8.764e+05 ... 8.974e+05 8.976e+05\n",
      "Data variables:\n",
      "    count_wet    (time, y, x) int16 0 0 0 0 0 0 0 0 0 0 ... 0 0 0 0 0 0 0 0 0 0\n",
      "    count_clear  (time, y, x) int16 35 36 36 36 36 36 36 ... 16 17 15 15 15 16\n",
      "    frequency    (time, y, x) float32 0.0 0.0 0.0 0.0 0.0 ... 0.0 0.0 0.0 0.0\n",
      "Attributes:\n",
      "    crs:      EPSG:32734\n"
     ]
    }
   ],
   "source": [
    "ds_wofs = dc.load(product=\"ga_ls8c_wofs_2_annual_summary\",\n",
    "                 **query)\n",
    "\n",
    "print(ds_wofs)"
   ]
  },
  {
   "cell_type": "markdown",
   "metadata": {},
   "source": [
    "## Other helpful tricks\n",
    "### Loading data \"like\" another dataset\n",
    "Another option for loading matching data from multiple products is to use `dc.load()`'s `like` parameter.\n",
    "This will copy the spatial and temporal extent and the CRS/resolution from an existing dataset, and use these parameters to load a new data from a new product.\n",
    "\n",
    "In the example below, we load another WOfS dataset that exactly matches the `ds_ls8` dataset we loaded earlier:\n"
   ]
  },
  {
   "cell_type": "code",
   "execution_count": 14,
   "metadata": {},
   "outputs": [
    {
     "name": "stdout",
     "output_type": "stream",
     "text": [
      "<xarray.Dataset>\n",
      "Dimensions:      (time: 1, x: 87, y: 91)\n",
      "Coordinates:\n",
      "  * time         (time) datetime64[ns] 2018-07-02T11:59:59.999500\n",
      "  * y            (y) float64 7.779e+06 7.779e+06 ... 7.757e+06 7.756e+06\n",
      "  * x            (x) float64 8.761e+05 8.764e+05 ... 8.974e+05 8.976e+05\n",
      "Data variables:\n",
      "    count_wet    (time, y, x) int16 0 0 0 0 0 0 0 0 0 0 ... 0 0 0 0 0 0 0 0 0 0\n",
      "    count_clear  (time, y, x) int16 35 36 36 36 36 36 36 ... 16 17 15 15 15 16\n",
      "    frequency    (time, y, x) float32 0.0 0.0 0.0 0.0 0.0 ... 0.0 0.0 0.0 0.0\n",
      "Attributes:\n",
      "    crs:      EPSG:32734\n"
     ]
    }
   ],
   "source": [
    "ds_wofs = dc.load(product=\"ga_ls8c_wofs_2_annual_summary\",\n",
    "                 like=ds_ls8)\n",
    "\n",
    "print(ds_wofs)"
   ]
  },
  {
   "cell_type": "markdown",
   "metadata": {},
   "source": [
    "### Adding a progress bar\n",
    "When loading large amounts of data, it can be useful to view the progress of the data load. \n",
    "The `progress_cbk` parameter in `dc.load()` allows us to add a progress bar which will indicate how the load is progressing. In this example, we will load 5 years of data (2013, 2014, 2015, 2016 and 2017) from the `ga_ls8c_wofs_2_annual_summary` product with a progress bar:"
   ]
  },
  {
   "cell_type": "code",
   "execution_count": 15,
   "metadata": {},
   "outputs": [
    {
     "data": {
      "application/vnd.jupyter.widget-view+json": {
       "model_id": "cc872ca023f3407ca6657989ae19693f",
       "version_major": 2,
       "version_minor": 0
      },
      "text/plain": [
       "VBox(children=(HBox(children=(Label(value=''), Label(value='')), layout=Layout(justify_content='space-between'…"
      ]
     },
     "metadata": {},
     "output_type": "display_data"
    },
    {
     "name": "stdout",
     "output_type": "stream",
     "text": [
      "<xarray.Dataset>\n",
      "Dimensions:      (time: 5, x: 644, y: 801)\n",
      "Coordinates:\n",
      "  * time         (time) datetime64[ns] 2013-07-02T11:59:59.999500 ... 2017-07-02T11:59:59.999500\n",
      "  * y            (y) float64 -2.507e+06 -2.507e+06 ... -2.531e+06 -2.531e+06\n",
      "  * x            (x) float64 2.374e+06 2.374e+06 ... 2.393e+06 2.393e+06\n",
      "Data variables:\n",
      "    count_wet    (time, y, x) int16 0 0 0 0 0 0 0 0 0 0 ... 0 0 0 0 0 0 0 0 0 0\n",
      "    count_clear  (time, y, x) int16 22 22 22 22 22 22 22 ... 17 18 18 18 18 18\n",
      "    frequency    (time, y, x) float32 0.0 0.0 0.0 0.0 0.0 ... 0.0 0.0 0.0 0.0\n",
      "Attributes:\n",
      "    crs:      EPSG:6933\n"
     ]
    }
   ],
   "source": [
    "query = {\"x\": (24.60, 24.80),\n",
    "         \"y\": (-20.05, -20.25),\n",
    "         \"time\": (\"2013\", \"2017\")}\n",
    "\n",
    "ds_progress = dc.load(product=\"ga_ls8c_wofs_2_annual_summary\",\n",
    "                      progress_cbk=with_ui_cbk(),\n",
    "                      **query)\n",
    "\n",
    "print(ds_progress)"
   ]
  },
  {
   "cell_type": "markdown",
   "metadata": {},
   "source": [
    "## Recommended next steps\n",
    "\n",
    "For more advanced information about working with Jupyter Notebooks or JupyterLab, you can explore [JupyterLab documentation page](https://jupyterlab.readthedocs.io/en/stable/user/notebook.html).\n",
    "\n",
    "To continue working through the notebooks in this beginner's guide, the following notebooks are designed to be worked through in the following order:\n",
    "\n",
    "1. [Jupyter Notebooks](01_Jupyter_notebooks.ipynb)\n",
    "2. [Products and Measurements](02_Products_and_measurements.ipynb)\n",
    "3. **Loading data (this notebook)**\n",
    "4. [Plotting](04_Plotting.ipynb)\n",
    "5. [Performing a basic analysis](05_Basic_analysis.ipynb)\n",
    "6. [Parallel processing with Dask](06_Parallel_processing_with_dask.ipynb)\n",
    "\n",
    "Once you have you have completed the above six tutorials, join advanced users in exploring:\n",
    "\n",
    "* The \"Datasets\" directory in the repository, where you can explore DE Africa products in depth.\n",
    "* The \"Frequently used code\" directory, which contains a recipe book of common techniques and methods for analysing DE Africa data.\n",
    "* The \"Real-world examples\" directory, which provides more complex workflows and analysis case studies."
   ]
  },
  {
   "cell_type": "markdown",
   "metadata": {},
   "source": [
    "***\n",
    "## Additional information\n",
    "\n",
    "**License:** The code in this notebook is licensed under the [Apache License, Version 2.0](https://www.apache.org/licenses/LICENSE-2.0). \n",
    "\n",
    "**Contact:** If you need assistance, please post a question on the [Open Data Cube Slack channel](http://slack.opendatacube.org/) or on the [GIS Stack Exchange](https://gis.stackexchange.com/questions/ask?tags=open-data-cube) using the `open-data-cube` tag (you can view previously asked questions [here](https://gis.stackexchange.com/questions/tagged/open-data-cube)).\n",
    "If you would like to report an issue with this notebook, you can file one on [Github](https://github.com/GeoscienceAustralia/dea-notebooks).\n",
    "\n",
    "**Last modified:** May 2020\n",
    "\n",
    "**Compatible datacube version:** "
   ]
  },
  {
   "cell_type": "code",
   "execution_count": null,
   "metadata": {},
   "outputs": [],
   "source": [
    "print(datacube.__version__)"
   ]
  },
  {
   "cell_type": "markdown",
   "metadata": {},
   "source": [
    "## Tags\n",
    "Browse all available tags on the DE Africa User Guide's [Tags Index](https://) (placeholder as this does not exist yet)"
   ]
  },
  {
   "cell_type": "raw",
   "metadata": {},
   "source": [
    "**Tags**:  :index:`dc.load`, :index:`xarray.Dataset`, :index:`xarray.DataArray`, :index:`landsat 7`, :index:`landsat 8`, :index:`annual geomedian`, :index:`crs`, :index:`reprojecting data`, :index:`resampling data`, :index:`beginner`"
   ]
  }
 ],
 "metadata": {
  "kernelspec": {
   "display_name": "Python 3",
   "language": "python",
   "name": "python3"
  },
  "language_info": {
   "codemirror_mode": {
    "name": "ipython",
    "version": 3
   },
   "file_extension": ".py",
   "mimetype": "text/x-python",
   "name": "python",
   "nbconvert_exporter": "python",
   "pygments_lexer": "ipython3",
   "version": "3.6.9"
  },
  "widgets": {
   "application/vnd.jupyter.widget-state+json": {
    "state": {},
    "version_major": 2,
    "version_minor": 0
   }
  }
 },
 "nbformat": 4,
 "nbformat_minor": 4
}
