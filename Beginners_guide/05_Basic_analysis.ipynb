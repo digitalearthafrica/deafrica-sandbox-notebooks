{
 "cells": [
  {
   "cell_type": "markdown",
   "metadata": {},
   "source": [
    "# Performing a basic analysis\n",
    "\n",
    "* **Products used:** \n",
    "[ ls8_sr](https://explorer.digitalearth.africa/ls8_sr)\n",
    "* **Prerequisites**:  Users of this notebook should have a basic understanding of:\n",
    "    * How to run a [Jupyter notebook](01_Jupyter_notebooks.ipynb)\n",
    "    * Inspecting available [DE Africa products and measurements](02_Products_and_measurements.ipynb)\n",
    "    * How to [load data from DE Africa](03_Loading_data.ipynb)\n",
    "    * How to [plot loaded data](04_Plotting.ipynb)"
   ]
  },
  {
   "cell_type": "raw",
   "metadata": {
    "raw_mimetype": "text/restructuredtext"
   },
   "source": [
    "**Keywords**: :index:`beginner's guide; analysis`, :index:`analysis; beginner's guide`, :index:`data used; landsat 8`, :index:`band index; NDVI`, :index:`data methods; exporting`"
   ]
  },
  {
   "cell_type": "markdown",
   "metadata": {},
   "source": [
    "## Background\n",
    "To understand the world around us, it's important to combine the key steps of loading, visualising, analysing, and interpreting satellite data.\n",
    "To perform an analysis, we begin with a question and use these steps to reach an answer."
   ]
  },
  {
   "cell_type": "markdown",
   "metadata": {},
   "source": [
    "## Description\n",
    "This notebook demonstrates how to conduct a basic analysis with DE Africa data and the Open Data Cube.\n",
    "It will combine many of the steps that have been covered in the other beginner's notebooks.\n",
    "\n",
    "In this notebook, the analysis question is _\"How is the health of vegetation changing over time in a given area?\"_\n",
    "\n",
    "This could be related to a number of broader questions: \n",
    "\n",
    "* What is the effect of a new land use practice on a field of crops?\n",
    "* How has a patch of forest changed after a fire? \n",
    "* How does proximity to water affect vegetation throughout the year?\n",
    "\n",
    "For this notebook, the analysis question will be kept simple, without much real-world context. \n",
    "For more examples of notebooks that demonstrate how to use DE Africa to answer specific analysis questions, see the notebooks in the \"Real world examples\" folder. \n",
    "\n",
    "Topics covered in this notebook include:\n",
    "\n",
    "1. Choosing a study area.\n",
    "2. Loading data for the study area.\n",
    "3. Plotting the chosen data and exploring how it changes with time.\n",
    "4. Calculating a measure of vegetation health from the loaded data.\n",
    "5. Exporting the data for further analysis.\n",
    "\n",
    "***"
   ]
  },
  {
   "cell_type": "markdown",
   "metadata": {},
   "source": [
    "## Getting started\n",
    "To run this introduction to plotting data loaded from the datacube, run all the cells in the notebook starting with the \"Load packages\" cell. For help with running notebook cells, refer back to the [Jupyter Notebooks notebook](01_Jupyter_notebooks.ipynb). "
   ]
  },
  {
   "cell_type": "markdown",
   "metadata": {},
   "source": [
    "### Load packages\n",
    "The cell below imports Python packages that are used for the analysis.\n",
    "The first command is `%matplotlib inline`, which ensures figures plot correctly in the Jupyter notebook.\n",
    "The following commands import various functionality: \n",
    "\n",
    "* `deafrica_tools` contains helpful support functions, including those in the `deafrica_plotting` module which we are using in this notebook. \n",
    "* `datacube` provides the ability to query and load data.\n",
    "* `matplotlib` provides the ability to format and manipulate plots."
   ]
  },
  {
   "cell_type": "code",
   "execution_count": 13,
   "metadata": {},
   "outputs": [],
   "source": [
    "%matplotlib inline\n",
    "\n",
    "import datacube\n",
    "import matplotlib.pyplot as plt\n",
    "from datacube.utils.cog import write_cog\n",
    "\n",
    "from deafrica_tools.plotting import display_map, rgb"
   ]
  },
  {
   "cell_type": "markdown",
   "metadata": {},
   "source": [
    "### Connect to the datacube\n",
    "The next step is to connect to the datacube database.\n",
    "The resulting `dc` datacube object can then be used to load data.\n",
    "The `app` parameter is a unique name used to identify the notebook that does not have any effect on the analysis."
   ]
  },
  {
   "cell_type": "code",
   "execution_count": 14,
   "metadata": {},
   "outputs": [],
   "source": [
    "dc = datacube.Datacube(app=\"05_Basic_analysis\")"
   ]
  },
  {
   "cell_type": "markdown",
   "metadata": {},
   "source": [
    "## Step 1: Choose a study area"
   ]
  },
  {
   "cell_type": "markdown",
   "metadata": {},
   "source": [
    "When working with the Open Data Cube, it's important to load only as much data as needed.\n",
    "This helps keep an analysis running quickly and avoids the notebook crashing due to insufficient memory.\n",
    "\n",
    "One way to set the study area is to set a central latitude and longitude coordinate pair, `(central_lat, central_lon)`, then specify how many degrees to include either side of the central latitude and longitude, known as the `buffer`.\n",
    "Together, these parameters specify a square study area, as shown below:\n",
    "\n",
    "<img src=\"../Supplementary_data/05_Basic_analysis/latlong_buffer.png\" width=\"250\" height=\"250\">"
   ]
  },
  {
   "cell_type": "markdown",
   "metadata": {},
   "source": [
    "### Location\n",
    "Below, we have set the study area covering some mangroves in Senegal.\n",
    "To load a different area, you can provide your own `central_lat` and `central_lon` values.\n",
    "One way to source these is to Google a location, or click directly on the map in [Google Maps](https://www.google.com/maps/place/21%C2%B007'25.4%22N+11%C2%B023'51.1%22W/@21.0925851,-11.555448,82035m/data=!3m1!1e3!4m14!1m7!3m6!1s0x10a06c0a948cf5d5:0x108270c99e90f0b3!2sAfrica!3b1!8m2!3d-8.783195!4d34.508523!3m5!1s0x0:0x0!7e2!8m2!3d21.1237127!4d-11.3975263).\n",
    "Other options are:\n",
    "\n",
    "* **Mount Kenya, Kenya**\n",
    "```\n",
    "central_lat = -0.243\n",
    "central_lon = 37.459\n",
    "```\n",
    "\n",
    "\n",
    "* **Bobiri Forest Reserve, Ghana**\n",
    "```\n",
    "central_lat = 6.688\n",
    "central_lon = -1.303\n",
    "```\n",
    "\n",
    "> **Note**: If you change the study area latitude and longitude, you'll need to re-run all of the cells after to apply that change to the whole analysis."
   ]
  },
  {
   "cell_type": "markdown",
   "metadata": {},
   "source": [
    "### Buffer\n",
    "Feel free to experiment with the `buffer` value to load different sized areas.\n",
    "We recommend that you keep the `buffer` relatively small, no higher than `buffer=0.1` degrees.\n",
    "This will help keep the loading times reasonable and prevent the notebook from crashing.\n",
    "\n",
    "> **Extension**: Can you modify the code to use a different `buffer` value for latitude and longitude? \n",
    "\n",
    "> *Hint*: You may want two variables, `buffer_lat` and `buffer_lon` that you can set independently. You'll then need to update the definitions of `study_area_lat` and `study_area_lon` with their corresponding buffer value."
   ]
  },
  {
   "cell_type": "code",
   "execution_count": 15,
   "metadata": {},
   "outputs": [],
   "source": [
    "# Set the central latitude and longitude\n",
    "central_lat = 13.974\n",
    "central_lon = -16.575\n",
    "\n",
    "# Set the buffer to load around the central coordinates\n",
    "buffer = 0.075\n",
    "\n",
    "# Compute the bounding box for the study area\n",
    "study_area_lat = (central_lat - buffer, central_lat + buffer)\n",
    "study_area_lon = (central_lon - buffer, central_lon + buffer)"
   ]
  },
  {
   "cell_type": "markdown",
   "metadata": {},
   "source": [
    "After choosing the study area, it can be useful to visualise it on an interactive map.\n",
    "This provides a sense of scale.\n",
    "> **Note**: The interactive map also returns latitude and longitude values when clicked.\n",
    "You can use this to generate new latitude and longitude values to try without leaving the notebook."
   ]
  },
  {
   "cell_type": "code",
   "execution_count": 16,
   "metadata": {},
   "outputs": [
    {
     "data": {
      "text/html": [
       "<div style=\"width:100%;\"><div style=\"position:relative;width:100%;height:0;padding-bottom:60%;\"><iframe src=\"data:text/html;charset=utf-8;base64,PCFET0NUWVBFIGh0bWw+CjxoZWFkPiAgICAKICAgIDxtZXRhIGh0dHAtZXF1aXY9ImNvbnRlbnQtdHlwZSIgY29udGVudD0idGV4dC9odG1sOyBjaGFyc2V0PVVURi04IiAvPgogICAgCiAgICAgICAgPHNjcmlwdD4KICAgICAgICAgICAgTF9OT19UT1VDSCA9IGZhbHNlOwogICAgICAgICAgICBMX0RJU0FCTEVfM0QgPSBmYWxzZTsKICAgICAgICA8L3NjcmlwdD4KICAgIAogICAgPHN0eWxlPmh0bWwsIGJvZHkge3dpZHRoOiAxMDAlO2hlaWdodDogMTAwJTttYXJnaW46IDA7cGFkZGluZzogMDt9PC9zdHlsZT4KICAgIDxzdHlsZT4jbWFwIHtwb3NpdGlvbjphYnNvbHV0ZTt0b3A6MDtib3R0b206MDtyaWdodDowO2xlZnQ6MDt9PC9zdHlsZT4KICAgIDxzY3JpcHQgc3JjPSJodHRwczovL2Nkbi5qc2RlbGl2ci5uZXQvbnBtL2xlYWZsZXRAMS42LjAvZGlzdC9sZWFmbGV0LmpzIj48L3NjcmlwdD4KICAgIDxzY3JpcHQgc3JjPSJodHRwczovL2NvZGUuanF1ZXJ5LmNvbS9qcXVlcnktMS4xMi40Lm1pbi5qcyI+PC9zY3JpcHQ+CiAgICA8c2NyaXB0IHNyYz0iaHR0cHM6Ly9tYXhjZG4uYm9vdHN0cmFwY2RuLmNvbS9ib290c3RyYXAvMy4yLjAvanMvYm9vdHN0cmFwLm1pbi5qcyI+PC9zY3JpcHQ+CiAgICA8c2NyaXB0IHNyYz0iaHR0cHM6Ly9jZG5qcy5jbG91ZGZsYXJlLmNvbS9hamF4L2xpYnMvTGVhZmxldC5hd2Vzb21lLW1hcmtlcnMvMi4wLjIvbGVhZmxldC5hd2Vzb21lLW1hcmtlcnMuanMiPjwvc2NyaXB0PgogICAgPGxpbmsgcmVsPSJzdHlsZXNoZWV0IiBocmVmPSJodHRwczovL2Nkbi5qc2RlbGl2ci5uZXQvbnBtL2xlYWZsZXRAMS42LjAvZGlzdC9sZWFmbGV0LmNzcyIvPgogICAgPGxpbmsgcmVsPSJzdHlsZXNoZWV0IiBocmVmPSJodHRwczovL21heGNkbi5ib290c3RyYXBjZG4uY29tL2Jvb3RzdHJhcC8zLjIuMC9jc3MvYm9vdHN0cmFwLm1pbi5jc3MiLz4KICAgIDxsaW5rIHJlbD0ic3R5bGVzaGVldCIgaHJlZj0iaHR0cHM6Ly9tYXhjZG4uYm9vdHN0cmFwY2RuLmNvbS9ib290c3RyYXAvMy4yLjAvY3NzL2Jvb3RzdHJhcC10aGVtZS5taW4uY3NzIi8+CiAgICA8bGluayByZWw9InN0eWxlc2hlZXQiIGhyZWY9Imh0dHBzOi8vbWF4Y2RuLmJvb3RzdHJhcGNkbi5jb20vZm9udC1hd2Vzb21lLzQuNi4zL2Nzcy9mb250LWF3ZXNvbWUubWluLmNzcyIvPgogICAgPGxpbmsgcmVsPSJzdHlsZXNoZWV0IiBocmVmPSJodHRwczovL2NkbmpzLmNsb3VkZmxhcmUuY29tL2FqYXgvbGlicy9MZWFmbGV0LmF3ZXNvbWUtbWFya2Vycy8yLjAuMi9sZWFmbGV0LmF3ZXNvbWUtbWFya2Vycy5jc3MiLz4KICAgIDxsaW5rIHJlbD0ic3R5bGVzaGVldCIgaHJlZj0iaHR0cHM6Ly9jZG4uanNkZWxpdnIubmV0L2doL3B5dGhvbi12aXN1YWxpemF0aW9uL2ZvbGl1bS9mb2xpdW0vdGVtcGxhdGVzL2xlYWZsZXQuYXdlc29tZS5yb3RhdGUubWluLmNzcyIvPgogICAgCiAgICAgICAgICAgIDxtZXRhIG5hbWU9InZpZXdwb3J0IiBjb250ZW50PSJ3aWR0aD1kZXZpY2Utd2lkdGgsCiAgICAgICAgICAgICAgICBpbml0aWFsLXNjYWxlPTEuMCwgbWF4aW11bS1zY2FsZT0xLjAsIHVzZXItc2NhbGFibGU9bm8iIC8+CiAgICAgICAgICAgIDxzdHlsZT4KICAgICAgICAgICAgICAgICNtYXBfYjU4NDIzZjE0ZmRhNDY1M2FmYWYyOGI3NDM5ZjEzMGMgewogICAgICAgICAgICAgICAgICAgIHBvc2l0aW9uOiByZWxhdGl2ZTsKICAgICAgICAgICAgICAgICAgICB3aWR0aDogMTAwLjAlOwogICAgICAgICAgICAgICAgICAgIGhlaWdodDogMTAwLjAlOwogICAgICAgICAgICAgICAgICAgIGxlZnQ6IDAuMCU7CiAgICAgICAgICAgICAgICAgICAgdG9wOiAwLjAlOwogICAgICAgICAgICAgICAgfQogICAgICAgICAgICA8L3N0eWxlPgogICAgICAgIAo8L2hlYWQ+Cjxib2R5PiAgICAKICAgIAogICAgICAgICAgICA8ZGl2IGNsYXNzPSJmb2xpdW0tbWFwIiBpZD0ibWFwX2I1ODQyM2YxNGZkYTQ2NTNhZmFmMjhiNzQzOWYxMzBjIiA+PC9kaXY+CiAgICAgICAgCjwvYm9keT4KPHNjcmlwdD4gICAgCiAgICAKICAgICAgICAgICAgdmFyIG1hcF9iNTg0MjNmMTRmZGE0NjUzYWZhZjI4Yjc0MzlmMTMwYyA9IEwubWFwKAogICAgICAgICAgICAgICAgIm1hcF9iNTg0MjNmMTRmZGE0NjUzYWZhZjI4Yjc0MzlmMTMwYyIsCiAgICAgICAgICAgICAgICB7CiAgICAgICAgICAgICAgICAgICAgY2VudGVyOiBbMTMuOTc0LCAtMTYuNTc1XSwKICAgICAgICAgICAgICAgICAgICBjcnM6IEwuQ1JTLkVQU0czODU3LAogICAgICAgICAgICAgICAgICAgIHpvb206IDEyLAogICAgICAgICAgICAgICAgICAgIHpvb21Db250cm9sOiB0cnVlLAogICAgICAgICAgICAgICAgICAgIHByZWZlckNhbnZhczogZmFsc2UsCiAgICAgICAgICAgICAgICB9CiAgICAgICAgICAgICk7CgogICAgICAgICAgICAKCiAgICAgICAgCiAgICAKICAgICAgICAgICAgdmFyIHRpbGVfbGF5ZXJfYTJiZDJmYjE3MDIyNDhkNWE2ODlhNzMxYjA3MGU5MTAgPSBMLnRpbGVMYXllcigKICAgICAgICAgICAgICAgICJodHRwOi8vbXQxLmdvb2dsZS5jb20vdnQvbHlycz15XHUwMDI2ej17en1cdTAwMjZ4PXt4fVx1MDAyNnk9e3l9IiwKICAgICAgICAgICAgICAgIHsiYXR0cmlidXRpb24iOiAiR29vZ2xlIiwgImRldGVjdFJldGluYSI6IGZhbHNlLCAibWF4TmF0aXZlWm9vbSI6IDE4LCAibWF4Wm9vbSI6IDE4LCAibWluWm9vbSI6IDAsICJub1dyYXAiOiBmYWxzZSwgIm9wYWNpdHkiOiAxLCAic3ViZG9tYWlucyI6ICJhYmMiLCAidG1zIjogZmFsc2V9CiAgICAgICAgICAgICkuYWRkVG8obWFwX2I1ODQyM2YxNGZkYTQ2NTNhZmFmMjhiNzQzOWYxMzBjKTsKICAgICAgICAKICAgIAogICAgICAgICAgICB2YXIgcG9seV9saW5lX2IxZGYxNTcxNDUyNTRkNDlhOGQwNGRlYzlhZTk5NTQ1ID0gTC5wb2x5bGluZSgKICAgICAgICAgICAgICAgIFtbMTMuODk5MDAwMDAwMDAwMDAxLCAtMTYuNjVdLCBbMTMuODk5MDAwMDAwMDAwMDAxLCAtMTYuNV0sIFsxNC4wNDksIC0xNi41XSwgWzE0LjA0OSwgLTE2LjY1XSwgWzEzLjg5OTAwMDAwMDAwMDAwMSwgLTE2LjY1XV0sCiAgICAgICAgICAgICAgICB7ImJ1YmJsaW5nTW91c2VFdmVudHMiOiB0cnVlLCAiY29sb3IiOiAicmVkIiwgImRhc2hBcnJheSI6IG51bGwsICJkYXNoT2Zmc2V0IjogbnVsbCwgImZpbGwiOiBmYWxzZSwgImZpbGxDb2xvciI6ICJyZWQiLCAiZmlsbE9wYWNpdHkiOiAwLjIsICJmaWxsUnVsZSI6ICJldmVub2RkIiwgImxpbmVDYXAiOiAicm91bmQiLCAibGluZUpvaW4iOiAicm91bmQiLCAibm9DbGlwIjogZmFsc2UsICJvcGFjaXR5IjogMC44LCAic21vb3RoRmFjdG9yIjogMS4wLCAic3Ryb2tlIjogdHJ1ZSwgIndlaWdodCI6IDN9CiAgICAgICAgICAgICkuYWRkVG8obWFwX2I1ODQyM2YxNGZkYTQ2NTNhZmFmMjhiNzQzOWYxMzBjKTsKICAgICAgICAKICAgIAogICAgICAgICAgICAgICAgdmFyIGxhdF9sbmdfcG9wdXBfNjBkNjM1MGMyNDBlNGRiNTk5Yzc0NzJjNjNjNzBjYTcgPSBMLnBvcHVwKCk7CiAgICAgICAgICAgICAgICBmdW5jdGlvbiBsYXRMbmdQb3AoZSkgewogICAgICAgICAgICAgICAgICAgIGxhdF9sbmdfcG9wdXBfNjBkNjM1MGMyNDBlNGRiNTk5Yzc0NzJjNjNjNzBjYTcKICAgICAgICAgICAgICAgICAgICAgICAgLnNldExhdExuZyhlLmxhdGxuZykKICAgICAgICAgICAgICAgICAgICAgICAgLnNldENvbnRlbnQoIkxhdGl0dWRlOiAiICsgZS5sYXRsbmcubGF0LnRvRml4ZWQoNCkgKwogICAgICAgICAgICAgICAgICAgICAgICAgICAgICAgICAgICAiPGJyPkxvbmdpdHVkZTogIiArIGUubGF0bG5nLmxuZy50b0ZpeGVkKDQpKQogICAgICAgICAgICAgICAgICAgICAgICAub3Blbk9uKG1hcF9iNTg0MjNmMTRmZGE0NjUzYWZhZjI4Yjc0MzlmMTMwYyk7CiAgICAgICAgICAgICAgICAgICAgfQogICAgICAgICAgICAgICAgbWFwX2I1ODQyM2YxNGZkYTQ2NTNhZmFmMjhiNzQzOWYxMzBjLm9uKCdjbGljaycsIGxhdExuZ1BvcCk7CiAgICAgICAgICAgIAo8L3NjcmlwdD4=\" style=\"position:absolute;width:100%;height:100%;left:0;top:0;border:none !important;\" allowfullscreen webkitallowfullscreen mozallowfullscreen></iframe></div></div>"
      ],
      "text/plain": [
       "<folium.folium.Map at 0x7f8c68ee3f28>"
      ]
     },
     "execution_count": 16,
     "metadata": {},
     "output_type": "execute_result"
    }
   ],
   "source": [
    "display_map(x=study_area_lon, y=study_area_lat)"
   ]
  },
  {
   "cell_type": "markdown",
   "metadata": {},
   "source": [
    "## Step 2: Loading data\n",
    "\n",
    "When asking analysis questions about vegetation, it's useful to work with optical imagery, such as Sentinel-2 or Landsat.\n",
    "The Landsat satellites (5, 7, and 8) have 30 metre resolution and, in some places over Africa, go back decades.  In this analysis we will load data using the [Landsat 8](https://explorer.digitalearth.africa/ls8_usgs_sr_scene) archive.\n",
    "\n",
    "The code below sets up the required information to load the data."
   ]
  },
  {
   "cell_type": "code",
   "execution_count": 17,
   "metadata": {},
   "outputs": [],
   "source": [
    "# Set the data source - s2a corresponds to Sentinel-2A\n",
    "set_product = \"ls8_sr\"\n",
    "\n",
    "# Set the date range to load data over\n",
    "set_time = (\"2016-01-01\", \"2016-06-01\")\n",
    "\n",
    "# Set the measurements/bands to load\n",
    "# For this analysis, we'll load the red, green, blue and near-infrared bands\n",
    "set_measurements = [\n",
    "    \"red\",\n",
    "    \"blue\",\n",
    "    \"green\",\n",
    "    \"nir\"\n",
    "]\n",
    "\n",
    "# Set the coordinate reference system and output resolution\n",
    "set_crs = 'EPSG:6933'\n",
    "\n",
    "set_resolution = (-30, 30)"
   ]
  },
  {
   "cell_type": "markdown",
   "metadata": {},
   "source": [
    "After setting all of the necessary parameters, the `dc.load()` command is used to load the data:"
   ]
  },
  {
   "cell_type": "code",
   "execution_count": 18,
   "metadata": {},
   "outputs": [],
   "source": [
    "dataset = dc.load(\n",
    "    product=set_product,\n",
    "    x=study_area_lon,\n",
    "    y=study_area_lat,\n",
    "    time=set_time,\n",
    "    measurements=set_measurements,\n",
    "    output_crs=set_crs,\n",
    "    resolution=set_resolution\n",
    ")"
   ]
  },
  {
   "cell_type": "markdown",
   "metadata": {},
   "source": [
    "Following the load step, printing the `dataset` object will give you insight into all of the data that was loaded.\n",
    "Do this by running the next cell.\n",
    "\n",
    "There's a lot of information to unpack, which is represented by the following aspects of the data:\n",
    "- `Dimensions`: the names of data dimensions, frequently `time`, `x` and `y`, and number of entries in each\n",
    "- `Coordinates`: the coordinate values for each point in the data cube\n",
    "- `Data variables`: the observations loaded, frequently different spectral bands from a satellite\n",
    "- `Attributes`: any useful information for the data, such as the `crs` (coordinate reference system)"
   ]
  },
  {
   "cell_type": "code",
   "execution_count": 19,
   "metadata": {},
   "outputs": [
    {
     "name": "stdout",
     "output_type": "stream",
     "text": [
      "<xarray.Dataset>\n",
      "Dimensions:      (time: 9, x: 483, y: 621)\n",
      "Coordinates:\n",
      "  * time         (time) datetime64[ns] 2016-01-11T11:27:32.609017 ... 2016-05...\n",
      "  * y            (y) float64 1.775e+06 1.775e+06 ... 1.756e+06 1.756e+06\n",
      "  * x            (x) float64 -1.606e+06 -1.606e+06 ... -1.592e+06 -1.592e+06\n",
      "    spatial_ref  int32 6933\n",
      "Data variables:\n",
      "    red          (time, y, x) uint16 12324 12210 12052 11673 ... 8503 8499 8469\n",
      "    blue         (time, y, x) uint16 9710 9600 9543 9450 ... 8205 8198 8218 8180\n",
      "    green        (time, y, x) uint16 10956 10762 10654 10450 ... 8833 8857 8818\n",
      "    nir          (time, y, x) uint16 18074 17333 17205 17153 ... 8403 8430 8422\n",
      "Attributes:\n",
      "    crs:           EPSG:6933\n",
      "    grid_mapping:  spatial_ref\n"
     ]
    }
   ],
   "source": [
    "print(dataset)"
   ]
  },
  {
   "cell_type": "markdown",
   "metadata": {},
   "source": [
    "## Step 3: Plotting data\n",
    "\n",
    "After loading the data, it is useful to view it to understand the resolution, which observations are impacted by cloud cover, and whether there are any obvious differences between time steps.\n",
    "\n",
    "We use the `rgb()` function to plot the data loaded in the previous step.\n",
    "The `rgb()` function maps three data variables/measurements from the loaded dataset to the red, green and blue channels that are used to make a three-colour image.\n",
    "There are several parameters you can experiment with:\n",
    "\n",
    "* `time_step=n`\\\n",
    "This sets the time step you want to view. \n",
    "`n` can be any number from `0` to one fewer than the number of time steps you loaded. \n",
    "The number of time steps loaded is given in the print-out of the data, under the `Dimensions` heading. \n",
    "As an example, if under `Dimensions:` you see `time: 6`, then there are 6 time steps, and `time_step` can be any number between `0` and `5`.\n",
    "\n",
    "* `bands=[red_channel, green_channel, blue_channel]`\\\n",
    "This sets the measurements that you want to use to make the image.\n",
    "Any measurements can be mapped to the three channels, and different combinations highlight different features.\n",
    "Two common combinations are\n",
    "    * true colour: \n",
    "    `bands = [\"red\", \"green\", \"blue\"]`\n",
    "    * false colour: `bands = [\"nir\", \"red\", \"green\"]`\n",
    "    \n",
    "For more detail about customising plots, see the [Introduction to plotting](04_Plotting.ipynb) notebook.\n",
    "\n",
    "> **Extension**: If `time_step` is set to an array of values, e.g. `time_step=[time_1, time_2]`, it will plot all provided time steps.\n",
    "See if you can modify the code to plot the first and last images.\n",
    "If you do, what changes do you notice?\n",
    "\n",
    "> *Hint*: To get the last image, you can use a time step value of `-1`"
   ]
  },
  {
   "cell_type": "code",
   "execution_count": 20,
   "metadata": {},
   "outputs": [],
   "source": [
    "# Set the time step to view\n",
    "time_step = 0"
   ]
  },
  {
   "cell_type": "code",
   "execution_count": null,
   "metadata": {},
   "outputs": [],
   "source": [
    "# Set the band combination to plot\n",
    "bands = [\"red\", \"green\", \"blue\"]\n",
    "\n",
    "# Generate the image by running the rgb function\n",
    "rgb(dataset, bands=bands, index=time_step, size=10)\n",
    "\n",
    "# Format the time stamp for use as the plot title\n",
    "time_string = str(dataset.time.isel(time=time_step).values).split('.')[0]  \n",
    "\n",
    "# Set the title and axis labels\n",
    "ax = plt.gca()\n",
    "ax.set_title(f\"Timestep {time_string}\", fontweight='bold', fontsize=16)\n",
    "ax.set_xlabel('Easting (m)', fontweight='bold')\n",
    "ax.set_ylabel('Northing (m)', fontweight='bold')\n",
    "\n",
    "# Display the plot\n",
    "plt.show()"
   ]
  },
  {
   "cell_type": "markdown",
   "metadata": {},
   "source": [
    "## Step 4: Calculate vegetation health\n",
    "\n",
    "While it's possible to identify vegetation in the RGB image, it can be helpful to have a quantitative index to describe the health of vegetation directly. \n",
    "\n",
    "In this case, the [Normalised Difference Vegetation Index](https://en.wikipedia.org/wiki/Normalized_difference_vegetation_index) (NDVI) can help identify areas of healthy vegetation.\n",
    "For remote sensing data such as satellite imagery, it is defined as\n",
    "\n",
    "$$\n",
    "\\begin{aligned}\n",
    "\\text{NDVI} & = \\frac{(\\text{NIR} - \\text{Red})}{(\\text{NIR} + \\text{Red})}, \\\\\n",
    "\\end{aligned}\n",
    "$$\n",
    "\n",
    "where $\\text{NIR}$ is the near-infrared band of the data, and $\\text{Red}$ is the red band.\n",
    "NDVI can take on values from -1 to 1; high values indicate healthy vegetation and negative values indicate non-vegetation (such as water). \n",
    "\n",
    "The following code calculates the top and bottom of the fraction separately, then computes the NDVI value directly from these components.\n",
    "The calculated NDVI values are stored as their own data array."
   ]
  },
  {
   "cell_type": "code",
   "execution_count": null,
   "metadata": {},
   "outputs": [],
   "source": [
    "# Calculate the components that make up the NDVI calculation\n",
    "band_diff = dataset.nir - dataset.red\n",
    "band_sum = dataset.nir + dataset.red\n",
    "\n",
    "# Calculate NDVI and store it as a measurement in the original dataset\n",
    "ndvi = band_diff / band_sum"
   ]
  },
  {
   "cell_type": "markdown",
   "metadata": {},
   "source": [
    "After calculating the NDVI values, it is possible to plot them by adding the `.plot()` method to `ndvi` (the variable that the values are stored in).\n",
    "The code below will plot a single image, based on the time selected with the `ndvi_time_step` variable.\n",
    "Try changing this value to plot the NDVI map at different time steps.\n",
    "Do you notice any differences?\n",
    "\n",
    "> **Extension 1**: Sometimes, it is valuable to change the colour scale to something that helps with intuitively understanding the image.\n",
    "For example, the \"viridis\" colour map shows high values in greens/yellows (mapping to vegetation), and low values in blue (mapping to water).\n",
    "Try modifying the `.plot(cmap=\"RdYlGn\")` command below to use `cmap=\"viridis\"` instead.\n",
    "\n",
    "> **Extension 2**: Below, a single time step is selected using the `.isel()` method.\n",
    "It is possible to plot all time steps by removing the `.isel()` method, and modifying the `.plot()` method to be `.plot(col=time, col_wrap=3)`.\n",
    "Plotting all of the time steps at once may make it easier to notice differences in vegetation over time."
   ]
  },
  {
   "cell_type": "code",
   "execution_count": null,
   "metadata": {},
   "outputs": [],
   "source": [
    "# Set the NDVI time step to view\n",
    "ndvi_time_step = 0\n",
    "\n",
    "# This is the simple way to plot\n",
    "# Note that high values are likely to be vegetation.\n",
    "plt.figure(figsize=(10, 10))\n",
    "ndvi.isel(time=ndvi_time_step).plot(cmap=\"RdYlGn\", vmin=0)\n",
    "plt.show()"
   ]
  },
  {
   "cell_type": "markdown",
   "metadata": {},
   "source": [
    "## Step 5: Exporting data\n",
    "\n",
    "Sometimes, you will want to analyse satellite imagery in a GIS program, such as QGIS.\n",
    "The `write_cog()` command from the Open Data Cube library allows loaded data to be exported to GeoTIFF, a commonly used file format for geospatial data.\n",
    "> **Note**: the saved file will appear in the same directory as this notebook, and it can be downloaded from here for later use."
   ]
  },
  {
   "cell_type": "code",
   "execution_count": null,
   "metadata": {},
   "outputs": [],
   "source": [
    "# You can change this, if you like.\n",
    "filename = \"example.tif\"\n",
    "\n",
    "write_cog(geo_im=dataset.isel(time=time_step).to_array(), fname=filename)"
   ]
  },
  {
   "cell_type": "markdown",
   "metadata": {},
   "source": [
    "## Recommended next steps\n",
    "\n",
    "### For this notebook\n",
    "Many of the variables used in this analysis are configurable.\n",
    "We recommend returning to the beginning of the notebook and re-running the analysis with a different location, dates, measurements, and so on.\n",
    "This will help give you more understanding for running your own analysis.\n",
    "If you didn't try the extension activities the first time, try and work on these when you run through the notebook again.\n",
    "\n",
    "### For other notebooks\n",
    "This is the fifth notebook in the beginner's guide; if anything was unclear, we recommend revising the relevant notebook:\n",
    "\n",
    "1. [Jupyter Notebooks](01_Jupyter_notebooks.ipynb)\n",
    "2. [Products and Measurements](02_Products_and_measurements.ipynb)\n",
    "3. [Loading data](03_Loading_data.ipynb)\n",
    "4. [Plotting](04_Plotting.ipynb)\n",
    "5. **Performing a basic analysis (this notebook)**\n",
    "6. [Introduction to numpy](06_Intro_to_numpy.ipynb)\n",
    "7. [Introduction to xarray](07_Intro_to_xarray.ipynb)\n",
    "8. [Parallel processing with Dask](08_Parallel_processing_with_dask.ipynb)\n",
    "\n",
    "Once you have completed the above tutorials, join advanced users in exploring:\n",
    "\n",
    "* The \"Datasets\" directory in the repository, where you can explore DE Africa products in depth.\n",
    "* The \"Frequently used code\" directory, which contains a recipe book of common techniques and methods for analysing DE Africa data.\n",
    "* The \"Real-world examples\" directory, which provides more complex workflows and analysis case studies."
   ]
  },
  {
   "cell_type": "markdown",
   "metadata": {},
   "source": [
    "***\n",
    "\n",
    "## Additional information\n",
    "\n",
    "**License:** The code in this notebook is licensed under the [Apache License, Version 2.0](https://www.apache.org/licenses/LICENSE-2.0). \n",
    "Digital Earth Africa data is licensed under the [Creative Commons by Attribution 4.0](https://creativecommons.org/licenses/by/4.0/) license.\n",
    "\n",
    "**Contact:** If you need assistance, please post a question on the [Open Data Cube Slack channel](http://slack.opendatacube.org/) or on the [GIS Stack Exchange](https://gis.stackexchange.com/questions/ask?tags=open-data-cube) using the `open-data-cube` tag (you can view previously asked questions [here](https://gis.stackexchange.com/questions/tagged/open-data-cube)).\n",
    "If you would like to report an issue with this notebook, you can file one on [Github](https://github.com/digitalearthafrica/deafrica-sandbox-notebooks).\n",
    "\n",
    "**Compatible datacube version:** "
   ]
  },
  {
   "cell_type": "code",
   "execution_count": null,
   "metadata": {},
   "outputs": [],
   "source": [
    "print(datacube.__version__)"
   ]
  },
  {
   "cell_type": "markdown",
   "metadata": {},
   "source": [
    "**Last Tested:** "
   ]
  },
  {
   "cell_type": "code",
   "execution_count": null,
   "metadata": {},
   "outputs": [],
   "source": [
    "from datetime import date\n",
    "print(date.today())"
   ]
  }
 ],
 "metadata": {
  "kernelspec": {
   "display_name": "Python 3",
   "language": "python",
   "name": "python3"
  },
  "language_info": {
   "codemirror_mode": {
    "name": "ipython",
    "version": 3
   },
   "file_extension": ".py",
   "mimetype": "text/x-python",
   "name": "python",
   "nbconvert_exporter": "python",
   "pygments_lexer": "ipython3",
   "version": "3.6.9"
  },
  "widgets": {
   "application/vnd.jupyter.widget-state+json": {
    "state": {},
    "version_major": 2,
    "version_minor": 0
   }
  }
 },
 "nbformat": 4,
 "nbformat_minor": 4
}
